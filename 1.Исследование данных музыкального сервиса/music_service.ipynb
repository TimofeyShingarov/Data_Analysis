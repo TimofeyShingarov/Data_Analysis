{
 "cells": [
  {
   "cell_type": "markdown",
   "metadata": {
    "id": "E0vqbgi9ay0H"
   },
   "source": [
    "# Яндекс.Музыка"
   ]
  },
  {
   "cell_type": "markdown",
   "metadata": {
    "id": "VUC88oWjTJw2"
   },
   "source": [
    "Сравнение Москвы и Петербурга окружено мифами. Например:\n",
    " * Москва — мегаполис, подчинённый жёсткому ритму рабочей недели;\n",
    " * Петербург — культурная столица, со своими вкусами.\n",
    "\n",
    "На данных Яндекс.Музыки вы сравните поведение пользователей двух столиц.\n",
    "\n",
    "**Цель исследования** — проверьте три гипотезы:\n",
    "1. Активность пользователей зависит от дня недели. Причём в Москве и Петербурге это проявляется по-разному.\n",
    "2. В понедельник утром в Москве преобладают одни жанры, а в Петербурге — другие. Так же и вечером пятницы преобладают разные жанры — в зависимости от города. \n",
    "3. Москва и Петербург предпочитают разные жанры музыки. В Москве чаще слушают поп-музыку, в Петербурге — русский рэп.\n",
    "\n",
    "**Ход исследования**\n",
    "\n",
    "Данные о поведении пользователей вы получите из файла `yandex_music_project.csv`. О качестве данных ничего не известно. Поэтому перед проверкой гипотез понадобится обзор данных. \n",
    "\n",
    "Вы проверите данные на ошибки и оцените их влияние на исследование. Затем, на этапе предобработки вы поищете возможность исправить самые критичные ошибки данных.\n",
    " \n",
    "Таким образом, исследование пройдёт в три этапа:\n",
    " 1. Обзор данных.\n",
    " 2. Предобработка данных.\n",
    " 3. Проверка гипотез.\n",
    "\n"
   ]
  },
  {
   "cell_type": "markdown",
   "metadata": {
    "id": "Ml1hmfXC_Zcs"
   },
   "source": [
    "## Обзор данных\n",
    "\n",
    "Составим первое представление о данных Яндекс.Музыки.\n",
    "\n",
    "\n"
   ]
  },
  {
   "cell_type": "code",
   "execution_count": 1,
   "metadata": {
    "id": "AXN7PHPN_Zcs"
   },
   "outputs": [],
   "source": [
    "# импорт библиотеки pandas\n",
    "import pandas as pd"
   ]
  },
  {
   "cell_type": "code",
   "execution_count": 4,
   "metadata": {
    "id": "fFVu7vqh_Zct"
   },
   "outputs": [],
   "source": [
    "# чтение файла с данными и сохранение в df\n",
    "df = pd.read_csv('D:/Project/1/yandex_music_project.csv')"
   ]
  },
  {
   "cell_type": "code",
   "execution_count": 5,
   "metadata": {
    "id": "oWTVX3gW_Zct"
   },
   "outputs": [
    {
     "data": {
      "text/html": [
       "<div>\n",
       "<style scoped>\n",
       "    .dataframe tbody tr th:only-of-type {\n",
       "        vertical-align: middle;\n",
       "    }\n",
       "\n",
       "    .dataframe tbody tr th {\n",
       "        vertical-align: top;\n",
       "    }\n",
       "\n",
       "    .dataframe thead th {\n",
       "        text-align: right;\n",
       "    }\n",
       "</style>\n",
       "<table border=\"1\" class=\"dataframe\">\n",
       "  <thead>\n",
       "    <tr style=\"text-align: right;\">\n",
       "      <th></th>\n",
       "      <th>userID</th>\n",
       "      <th>Track</th>\n",
       "      <th>artist</th>\n",
       "      <th>genre</th>\n",
       "      <th>City</th>\n",
       "      <th>time</th>\n",
       "      <th>Day</th>\n",
       "    </tr>\n",
       "  </thead>\n",
       "  <tbody>\n",
       "    <tr>\n",
       "      <th>0</th>\n",
       "      <td>FFB692EC</td>\n",
       "      <td>Kamigata To Boots</td>\n",
       "      <td>The Mass Missile</td>\n",
       "      <td>rock</td>\n",
       "      <td>Saint-Petersburg</td>\n",
       "      <td>20:28:33</td>\n",
       "      <td>Wednesday</td>\n",
       "    </tr>\n",
       "    <tr>\n",
       "      <th>1</th>\n",
       "      <td>55204538</td>\n",
       "      <td>Delayed Because of Accident</td>\n",
       "      <td>Andreas Rönnberg</td>\n",
       "      <td>rock</td>\n",
       "      <td>Moscow</td>\n",
       "      <td>14:07:09</td>\n",
       "      <td>Friday</td>\n",
       "    </tr>\n",
       "    <tr>\n",
       "      <th>2</th>\n",
       "      <td>20EC38</td>\n",
       "      <td>Funiculì funiculà</td>\n",
       "      <td>Mario Lanza</td>\n",
       "      <td>pop</td>\n",
       "      <td>Saint-Petersburg</td>\n",
       "      <td>20:58:07</td>\n",
       "      <td>Wednesday</td>\n",
       "    </tr>\n",
       "    <tr>\n",
       "      <th>3</th>\n",
       "      <td>A3DD03C9</td>\n",
       "      <td>Dragons in the Sunset</td>\n",
       "      <td>Fire + Ice</td>\n",
       "      <td>folk</td>\n",
       "      <td>Saint-Petersburg</td>\n",
       "      <td>08:37:09</td>\n",
       "      <td>Monday</td>\n",
       "    </tr>\n",
       "    <tr>\n",
       "      <th>4</th>\n",
       "      <td>E2DC1FAE</td>\n",
       "      <td>Soul People</td>\n",
       "      <td>Space Echo</td>\n",
       "      <td>dance</td>\n",
       "      <td>Moscow</td>\n",
       "      <td>08:34:34</td>\n",
       "      <td>Monday</td>\n",
       "    </tr>\n",
       "    <tr>\n",
       "      <th>5</th>\n",
       "      <td>842029A1</td>\n",
       "      <td>Преданная</td>\n",
       "      <td>IMPERVTOR</td>\n",
       "      <td>rusrap</td>\n",
       "      <td>Saint-Petersburg</td>\n",
       "      <td>13:09:41</td>\n",
       "      <td>Friday</td>\n",
       "    </tr>\n",
       "    <tr>\n",
       "      <th>6</th>\n",
       "      <td>4CB90AA5</td>\n",
       "      <td>True</td>\n",
       "      <td>Roman Messer</td>\n",
       "      <td>dance</td>\n",
       "      <td>Moscow</td>\n",
       "      <td>13:00:07</td>\n",
       "      <td>Wednesday</td>\n",
       "    </tr>\n",
       "    <tr>\n",
       "      <th>7</th>\n",
       "      <td>F03E1C1F</td>\n",
       "      <td>Feeling This Way</td>\n",
       "      <td>Polina Griffith</td>\n",
       "      <td>dance</td>\n",
       "      <td>Moscow</td>\n",
       "      <td>20:47:49</td>\n",
       "      <td>Wednesday</td>\n",
       "    </tr>\n",
       "    <tr>\n",
       "      <th>8</th>\n",
       "      <td>8FA1D3BE</td>\n",
       "      <td>И вновь продолжается бой</td>\n",
       "      <td>NaN</td>\n",
       "      <td>ruspop</td>\n",
       "      <td>Moscow</td>\n",
       "      <td>09:17:40</td>\n",
       "      <td>Friday</td>\n",
       "    </tr>\n",
       "    <tr>\n",
       "      <th>9</th>\n",
       "      <td>E772D5C0</td>\n",
       "      <td>Pessimist</td>\n",
       "      <td>NaN</td>\n",
       "      <td>dance</td>\n",
       "      <td>Saint-Petersburg</td>\n",
       "      <td>21:20:49</td>\n",
       "      <td>Wednesday</td>\n",
       "    </tr>\n",
       "  </tbody>\n",
       "</table>\n",
       "</div>"
      ],
      "text/plain": [
       "     userID                        Track            artist   genre  \\\n",
       "0  FFB692EC            Kamigata To Boots  The Mass Missile    rock   \n",
       "1  55204538  Delayed Because of Accident  Andreas Rönnberg    rock   \n",
       "2    20EC38            Funiculì funiculà       Mario Lanza     pop   \n",
       "3  A3DD03C9        Dragons in the Sunset        Fire + Ice    folk   \n",
       "4  E2DC1FAE                  Soul People        Space Echo   dance   \n",
       "5  842029A1                    Преданная         IMPERVTOR  rusrap   \n",
       "6  4CB90AA5                         True      Roman Messer   dance   \n",
       "7  F03E1C1F             Feeling This Way   Polina Griffith   dance   \n",
       "8  8FA1D3BE     И вновь продолжается бой               NaN  ruspop   \n",
       "9  E772D5C0                    Pessimist               NaN   dance   \n",
       "\n",
       "             City        time        Day  \n",
       "0  Saint-Petersburg  20:28:33  Wednesday  \n",
       "1            Moscow  14:07:09     Friday  \n",
       "2  Saint-Petersburg  20:58:07  Wednesday  \n",
       "3  Saint-Petersburg  08:37:09     Monday  \n",
       "4            Moscow  08:34:34     Monday  \n",
       "5  Saint-Petersburg  13:09:41     Friday  \n",
       "6            Moscow  13:00:07  Wednesday  \n",
       "7            Moscow  20:47:49  Wednesday  \n",
       "8            Moscow  09:17:40     Friday  \n",
       "9  Saint-Petersburg  21:20:49  Wednesday  "
      ]
     },
     "execution_count": 5,
     "metadata": {},
     "output_type": "execute_result"
    }
   ],
   "source": [
    "# получение первых 10 строк таблицы df\n",
    "df.head(10)"
   ]
  },
  {
   "cell_type": "code",
   "execution_count": 4,
   "metadata": {
    "id": "DSf2kIb-_Zct"
   },
   "outputs": [
    {
     "name": "stdout",
     "output_type": "stream",
     "text": [
      "<class 'pandas.core.frame.DataFrame'>\n",
      "RangeIndex: 65079 entries, 0 to 65078\n",
      "Data columns (total 7 columns):\n",
      "  userID    65079 non-null object\n",
      "Track       63848 non-null object\n",
      "artist      57876 non-null object\n",
      "genre       63881 non-null object\n",
      "  City      65079 non-null object\n",
      "time        65079 non-null object\n",
      "Day         65079 non-null object\n",
      "dtypes: object(7)\n",
      "memory usage: 3.5+ MB\n"
     ]
    }
   ],
   "source": [
    "# получение общей информации о данных в таблице df\n",
    "df.info()"
   ]
  },
  {
   "cell_type": "markdown",
   "metadata": {
    "id": "TaQ2Iwbr_Zct"
   },
   "source": [
    "Итак, в таблице семь столбцов. Тип данных во всех столбцах — `object`.\n",
    "\n",
    "Согласно документации к данным:\n",
    "* `userID` — идентификатор пользователя;\n",
    "* `Track` — название трека;  \n",
    "* `artist` — имя исполнителя;\n",
    "* `genre` — название жанра;\n",
    "* `City` — город пользователя;\n",
    "* `time` — время начала прослушивания;\n",
    "* `Day` — день недели.\n",
    "\n",
    "В названиях колонок видны три нарушения стиля:\n",
    "1. Строчные буквы сочетаются с прописными.\n",
    "2. Встречаются пробелы.\n",
    "3. В написании названия колонки отсутствует \"змеиный регистр\".\n",
    "\n",
    "\n",
    "\n",
    "Количество значений в столбцах различается. Значит, в данных есть пропущенные значения.\n"
   ]
  },
  {
   "cell_type": "markdown",
   "metadata": {
    "id": "MCB6-dXG_Zct"
   },
   "source": [
    "**Выводы**\n",
    "\n",
    "В каждой строке таблицы — данные о прослушанном треке. Часть колонок описывает саму композицию: название, исполнителя и жанр. Остальные данные рассказывают о пользователе: из какого он города, когда он слушал музыку. \n",
    "\n",
    "Предварительно можно утверждать, что, данных достаточно для проверки гипотез. Но встречаются пропуски в данных, а в названиях колонок — расхождения с хорошим стилем.\n",
    "\n",
    "Чтобы двигаться дальше, нужно устранить проблемы в данных."
   ]
  },
  {
   "cell_type": "markdown",
   "metadata": {
    "id": "SjYF6Ub9_Zct"
   },
   "source": [
    "## Предобработка данных\n",
    "Исправим стиль в заголовках столбцов, исключите пропуски. Затем проверим данные на дубликаты."
   ]
  },
  {
   "cell_type": "markdown",
   "metadata": {
    "id": "dIaKXr29_Zct"
   },
   "source": [
    "### Стиль заголовков\n",
    "Выведем на экран названия столбцов:"
   ]
  },
  {
   "cell_type": "code",
   "execution_count": 5,
   "metadata": {
    "id": "oKOTdF_Q_Zct"
   },
   "outputs": [
    {
     "data": {
      "text/plain": [
       "Index(['  userID', 'Track', 'artist', 'genre', '  City  ', 'time', 'Day'], dtype='object')"
      ]
     },
     "execution_count": 5,
     "metadata": {},
     "output_type": "execute_result"
    }
   ],
   "source": [
    "# перечень названий столбцов таблицы df\n",
    "df.columns"
   ]
  },
  {
   "cell_type": "markdown",
   "metadata": {
    "id": "zj5534cv_Zct"
   },
   "source": [
    "Приведем названия в соответствие с хорошим стилем:\n",
    "* несколько слов в названии запишем в «змеином_регистре»,\n",
    "* все символы сделаем строчными,\n",
    "* устраним пробелы.\n",
    "\n",
    "Для этого переименуем колонки так:\n",
    "* `'  userID'` → `'user_id'`;\n",
    "* `'Track'` → `'track'`;\n",
    "* `'  City  '` → `'city'`;\n",
    "* `'Day'` → `'day'`."
   ]
  },
  {
   "cell_type": "code",
   "execution_count": 6,
   "metadata": {
    "id": "ISlFqs5y_Zct"
   },
   "outputs": [],
   "source": [
    "# переименование столбцов\n",
    "df = df.rename(columns={'  userID':'user_id', 'Track':'track', '  City  ':'city', 'Day':'day'})"
   ]
  },
  {
   "cell_type": "markdown",
   "metadata": {
    "id": "1dqbh00J_Zct"
   },
   "source": [
    "Проверим результат. Для этого ещё раз выведите на экран названия столбцов:"
   ]
  },
  {
   "cell_type": "code",
   "execution_count": 7,
   "metadata": {
    "id": "d4NOAmTW_Zct"
   },
   "outputs": [
    {
     "data": {
      "text/plain": [
       "Index(['user_id', 'track', 'artist', 'genre', 'city', 'time', 'day'], dtype='object')"
      ]
     },
     "execution_count": 7,
     "metadata": {},
     "output_type": "execute_result"
    }
   ],
   "source": [
    "# проверка результатов - перечень названий столбцов\n",
    "df.columns"
   ]
  },
  {
   "cell_type": "markdown",
   "metadata": {
    "id": "5ISfbcfY_Zct"
   },
   "source": [
    "### Пропуски значений\n",
    "Сначала посчитаем, сколько в таблице пропущенных значений. Для этого достаточно двух методов `pandas`:"
   ]
  },
  {
   "cell_type": "code",
   "execution_count": 8,
   "metadata": {
    "id": "RskX29qr_Zct"
   },
   "outputs": [
    {
     "data": {
      "text/plain": [
       "user_id       0\n",
       "track      1231\n",
       "artist     7203\n",
       "genre      1198\n",
       "city          0\n",
       "time          0\n",
       "day           0\n",
       "dtype: int64"
      ]
     },
     "execution_count": 8,
     "metadata": {},
     "output_type": "execute_result"
    }
   ],
   "source": [
    "# подсчёт пропусков\n",
    "df.isna().sum()"
   ]
  },
  {
   "cell_type": "markdown",
   "metadata": {
    "id": "fSv2laPA_Zct"
   },
   "source": [
    "Заменим пропущенные значения в столбцах `track`, `artist` и `genre` на строку `'unknown'`. Для этого создадим список `columns_to_replace`, переберем его элементы циклом `for` и для каждого столбца выполним замену пропущенных значений:"
   ]
  },
  {
   "cell_type": "code",
   "execution_count": 9,
   "metadata": {
    "id": "KplB5qWs_Zct"
   },
   "outputs": [],
   "source": [
    "# перебор названий столбцов в цикле и замена пропущенных значений на 'unknown'\n",
    "columns_to_replace = ['track', 'artist', 'genre']\n",
    "for index in columns_to_replace:\n",
    "    df[index]=df[index].fillna('unknown')    "
   ]
  },
  {
   "cell_type": "markdown",
   "metadata": {
    "id": "Ilsm-MZo_Zct"
   },
   "source": [
    "Убедимся, что в таблице не осталось пропусков. Для этого ещё раз посчитаем пропущенные значения."
   ]
  },
  {
   "cell_type": "code",
   "execution_count": 10,
   "metadata": {
    "id": "Tq4nYRX4_Zct"
   },
   "outputs": [
    {
     "data": {
      "text/plain": [
       "user_id    0\n",
       "track      0\n",
       "artist     0\n",
       "genre      0\n",
       "city       0\n",
       "time       0\n",
       "day        0\n",
       "dtype: int64"
      ]
     },
     "execution_count": 10,
     "metadata": {},
     "output_type": "execute_result"
    }
   ],
   "source": [
    "# подсчёт пропусков\n",
    "df.isna().sum()"
   ]
  },
  {
   "cell_type": "markdown",
   "metadata": {
    "id": "BWKRtBJ3_Zct"
   },
   "source": [
    "### Дубликаты\n",
    "Посчитаем явные дубликаты в таблице одной командой:"
   ]
  },
  {
   "cell_type": "code",
   "execution_count": 11,
   "metadata": {
    "id": "36eES_S0_Zct"
   },
   "outputs": [
    {
     "data": {
      "text/plain": [
       "3826"
      ]
     },
     "execution_count": 11,
     "metadata": {},
     "output_type": "execute_result"
    }
   ],
   "source": [
    "# подсчёт явных дубликатов\n",
    "df.duplicated().sum()"
   ]
  },
  {
   "cell_type": "markdown",
   "metadata": {
    "id": "Ot25h6XR_Zct"
   },
   "source": [
    "Вызовите специальный метод `pandas`, чтобы удалить явные дубликаты:"
   ]
  },
  {
   "cell_type": "code",
   "execution_count": 12,
   "metadata": {
    "id": "exFHq6tt_Zct"
   },
   "outputs": [],
   "source": [
    "# удаление явных дубликатов (с удалением старых индексов и формированием новых\n",
    "df = df.drop_duplicates().reset_index()"
   ]
  },
  {
   "cell_type": "markdown",
   "metadata": {
    "id": "Im2YwBEG_Zct"
   },
   "source": [
    "Ещё раз посчитаем явные дубликаты в таблице — убедимся, что полностью от них избавились:"
   ]
  },
  {
   "cell_type": "code",
   "execution_count": 13,
   "metadata": {
    "id": "-8PuNWQ0_Zct"
   },
   "outputs": [
    {
     "data": {
      "text/plain": [
       "0"
      ]
     },
     "execution_count": 13,
     "metadata": {},
     "output_type": "execute_result"
    }
   ],
   "source": [
    "# проверка на отсутствие дубликатов\n",
    "df.duplicated().sum()"
   ]
  },
  {
   "cell_type": "markdown",
   "metadata": {
    "id": "QlFBsxAr_Zct"
   },
   "source": [
    "Теперь избавимся от неявных дубликатов в колонке `genre`. Например, название одного и того же жанра может быть записано немного по-разному. Такие ошибки тоже повлияют на результат исследования."
   ]
  },
  {
   "cell_type": "markdown",
   "metadata": {
    "id": "eSjWwsOh_Zct"
   },
   "source": [
    "Выведем на экран список уникальных названий жанров, отсортированный в алфавитном порядке. Для этого:\n",
    "* извлечем нужный столбец датафрейма, \n",
    "* применим к нему метод сортировки,\n",
    "* для отсортированного столбца вызовем метод, который вернёт уникальные значения из столбца."
   ]
  },
  {
   "cell_type": "code",
   "execution_count": 14,
   "metadata": {
    "id": "JIUcqzZN_Zct"
   },
   "outputs": [
    {
     "data": {
      "text/plain": [
       "array(['acid', 'acoustic', 'action', 'adult', 'africa', 'afrikaans',\n",
       "       'alternative', 'alternativepunk', 'ambient', 'americana',\n",
       "       'animated', 'anime', 'arabesk', 'arabic', 'arena',\n",
       "       'argentinetango', 'art', 'audiobook', 'author', 'avantgarde',\n",
       "       'axé', 'baile', 'balkan', 'beats', 'bigroom', 'black', 'bluegrass',\n",
       "       'blues', 'bollywood', 'bossa', 'brazilian', 'breakbeat', 'breaks',\n",
       "       'broadway', 'cantautori', 'cantopop', 'canzone', 'caribbean',\n",
       "       'caucasian', 'celtic', 'chamber', 'chanson', 'children', 'chill',\n",
       "       'chinese', 'choral', 'christian', 'christmas', 'classical',\n",
       "       'classicmetal', 'club', 'colombian', 'comedy', 'conjazz',\n",
       "       'contemporary', 'country', 'cuban', 'dance', 'dancehall',\n",
       "       'dancepop', 'dark', 'death', 'deep', 'deutschrock', 'deutschspr',\n",
       "       'dirty', 'disco', 'dnb', 'documentary', 'downbeat', 'downtempo',\n",
       "       'drum', 'dub', 'dubstep', 'eastern', 'easy', 'electronic',\n",
       "       'electropop', 'emo', 'entehno', 'epicmetal', 'estrada', 'ethnic',\n",
       "       'eurofolk', 'european', 'experimental', 'extrememetal', 'fado',\n",
       "       'fairytail', 'film', 'fitness', 'flamenco', 'folk', 'folklore',\n",
       "       'folkmetal', 'folkrock', 'folktronica', 'forró', 'frankreich',\n",
       "       'französisch', 'french', 'funk', 'future', 'gangsta', 'garage',\n",
       "       'german', 'ghazal', 'gitarre', 'glitch', 'gospel', 'gothic',\n",
       "       'grime', 'grunge', 'gypsy', 'handsup', \"hard'n'heavy\", 'hardcore',\n",
       "       'hardstyle', 'hardtechno', 'hip', 'hip-hop', 'hiphop',\n",
       "       'historisch', 'holiday', 'hop', 'horror', 'house', 'hymn', 'idm',\n",
       "       'independent', 'indian', 'indie', 'indipop', 'industrial',\n",
       "       'inspirational', 'instrumental', 'international', 'irish', 'jam',\n",
       "       'japanese', 'jazz', 'jewish', 'jpop', 'jungle', 'k-pop',\n",
       "       'karadeniz', 'karaoke', 'kayokyoku', 'korean', 'laiko', 'latin',\n",
       "       'latino', 'leftfield', 'local', 'lounge', 'loungeelectronic',\n",
       "       'lovers', 'malaysian', 'mandopop', 'marschmusik', 'meditative',\n",
       "       'mediterranean', 'melodic', 'metal', 'metalcore', 'mexican',\n",
       "       'middle', 'minimal', 'miscellaneous', 'modern', 'mood', 'mpb',\n",
       "       'muslim', 'native', 'neoklassik', 'neue', 'new', 'newage',\n",
       "       'newwave', 'nu', 'nujazz', 'numetal', 'oceania', 'old', 'opera',\n",
       "       'orchestral', 'other', 'piano', 'podcasts', 'pop', 'popdance',\n",
       "       'popelectronic', 'popeurodance', 'poprussian', 'post',\n",
       "       'posthardcore', 'postrock', 'power', 'progmetal', 'progressive',\n",
       "       'psychedelic', 'punjabi', 'punk', 'quebecois', 'ragga', 'ram',\n",
       "       'rancheras', 'rap', 'rave', 'reggae', 'reggaeton', 'regional',\n",
       "       'relax', 'religious', 'retro', 'rhythm', 'rnb', 'rnr', 'rock',\n",
       "       'rockabilly', 'rockalternative', 'rockindie', 'rockother',\n",
       "       'romance', 'roots', 'ruspop', 'rusrap', 'rusrock', 'russian',\n",
       "       'salsa', 'samba', 'scenic', 'schlager', 'self', 'sertanejo',\n",
       "       'shanson', 'shoegazing', 'showtunes', 'singer', 'ska', 'skarock',\n",
       "       'slow', 'smooth', 'soft', 'soul', 'soulful', 'sound', 'soundtrack',\n",
       "       'southern', 'specialty', 'speech', 'spiritual', 'sport',\n",
       "       'stonerrock', 'surf', 'swing', 'synthpop', 'synthrock',\n",
       "       'sängerportrait', 'tango', 'tanzorchester', 'taraftar', 'tatar',\n",
       "       'tech', 'techno', 'teen', 'thrash', 'top', 'traditional',\n",
       "       'tradjazz', 'trance', 'tribal', 'trip', 'triphop', 'tropical',\n",
       "       'türk', 'türkçe', 'ukrrock', 'unknown', 'urban', 'uzbek',\n",
       "       'variété', 'vi', 'videogame', 'vocal', 'western', 'world',\n",
       "       'worldbeat', 'ïîï', 'электроника'], dtype=object)"
      ]
     },
     "execution_count": 14,
     "metadata": {},
     "output_type": "execute_result"
    }
   ],
   "source": [
    "# Просмотр уникальных названий жанров\n",
    "df['genre'].sort_values().unique()"
   ]
  },
  {
   "cell_type": "markdown",
   "metadata": {
    "id": "qej-Qmuo_Zct"
   },
   "source": [
    "Просмотрим список и найдем неявные дубликаты названия `hiphop`. Это могут быть названия с ошибками или альтернативные названия того же жанра.\n",
    "\n",
    "Мы увидим следующие неявные дубликаты:\n",
    "* *hip*,\n",
    "* *hop*,\n",
    "* *hip-hop*.\n",
    "\n",
    "Чтобы очистить от них таблицу, напишем функцию `replace_wrong_genres()` с двумя параметрами: \n",
    "* `wrong_genres` — список дубликатов,\n",
    "* `correct_genre` — строка с правильным значением.\n",
    "\n",
    "Функция должна исправить колонку `genre` в таблице `df`: заменить каждое значение из списка `wrong_genres` на значение из `correct_genre`."
   ]
  },
  {
   "cell_type": "code",
   "execution_count": 15,
   "metadata": {
    "id": "ErNDkmns_Zct"
   },
   "outputs": [],
   "source": [
    "# Функция для замены неявных дубликатов\n",
    "def replace_wrong_values(wrong_values, correct_value): \n",
    "    for wrong_value in wrong_values: \n",
    "        df['genre'] = df['genre'].replace(wrong_value, correct_value)"
   ]
  },
  {
   "cell_type": "markdown",
   "metadata": {
    "id": "aDoBJxbA_Zct"
   },
   "source": [
    "Вызовем `replace_wrong_genres()` и передадим ей такие аргументы, чтобы она устранила неявные дубликаты: вместо `hip`, `hop` и `hip-hop` в таблице должно быть значение `hiphop`:"
   ]
  },
  {
   "cell_type": "code",
   "execution_count": 16,
   "metadata": {
    "id": "YN5i2hpmSo09"
   },
   "outputs": [],
   "source": [
    "# Устранение неявных дубликатов\n",
    "wrong_values_list = ['hip', 'hop', 'hip-hop']\n",
    "replace_wrong_values(wrong_values_list,'hiphop')"
   ]
  },
  {
   "cell_type": "markdown",
   "metadata": {
    "id": "zQKF16_RG15m"
   },
   "source": [
    "Проверим, что заменили неправильные названия:\n",
    "\n",
    "*   hip\n",
    "*   hop\n",
    "*   hip-hop\n",
    "\n",
    "Выведем отсортированный список уникальных значений столбца `genre`:"
   ]
  },
  {
   "cell_type": "code",
   "execution_count": 17,
   "metadata": {
    "id": "wvixALnFG15m"
   },
   "outputs": [
    {
     "data": {
      "text/plain": [
       "array(['acid', 'acoustic', 'action', 'adult', 'africa', 'afrikaans',\n",
       "       'alternative', 'alternativepunk', 'ambient', 'americana',\n",
       "       'animated', 'anime', 'arabesk', 'arabic', 'arena',\n",
       "       'argentinetango', 'art', 'audiobook', 'author', 'avantgarde',\n",
       "       'axé', 'baile', 'balkan', 'beats', 'bigroom', 'black', 'bluegrass',\n",
       "       'blues', 'bollywood', 'bossa', 'brazilian', 'breakbeat', 'breaks',\n",
       "       'broadway', 'cantautori', 'cantopop', 'canzone', 'caribbean',\n",
       "       'caucasian', 'celtic', 'chamber', 'chanson', 'children', 'chill',\n",
       "       'chinese', 'choral', 'christian', 'christmas', 'classical',\n",
       "       'classicmetal', 'club', 'colombian', 'comedy', 'conjazz',\n",
       "       'contemporary', 'country', 'cuban', 'dance', 'dancehall',\n",
       "       'dancepop', 'dark', 'death', 'deep', 'deutschrock', 'deutschspr',\n",
       "       'dirty', 'disco', 'dnb', 'documentary', 'downbeat', 'downtempo',\n",
       "       'drum', 'dub', 'dubstep', 'eastern', 'easy', 'electronic',\n",
       "       'electropop', 'emo', 'entehno', 'epicmetal', 'estrada', 'ethnic',\n",
       "       'eurofolk', 'european', 'experimental', 'extrememetal', 'fado',\n",
       "       'fairytail', 'film', 'fitness', 'flamenco', 'folk', 'folklore',\n",
       "       'folkmetal', 'folkrock', 'folktronica', 'forró', 'frankreich',\n",
       "       'französisch', 'french', 'funk', 'future', 'gangsta', 'garage',\n",
       "       'german', 'ghazal', 'gitarre', 'glitch', 'gospel', 'gothic',\n",
       "       'grime', 'grunge', 'gypsy', 'handsup', \"hard'n'heavy\", 'hardcore',\n",
       "       'hardstyle', 'hardtechno', 'hiphop', 'historisch', 'holiday',\n",
       "       'horror', 'house', 'hymn', 'idm', 'independent', 'indian', 'indie',\n",
       "       'indipop', 'industrial', 'inspirational', 'instrumental',\n",
       "       'international', 'irish', 'jam', 'japanese', 'jazz', 'jewish',\n",
       "       'jpop', 'jungle', 'k-pop', 'karadeniz', 'karaoke', 'kayokyoku',\n",
       "       'korean', 'laiko', 'latin', 'latino', 'leftfield', 'local',\n",
       "       'lounge', 'loungeelectronic', 'lovers', 'malaysian', 'mandopop',\n",
       "       'marschmusik', 'meditative', 'mediterranean', 'melodic', 'metal',\n",
       "       'metalcore', 'mexican', 'middle', 'minimal', 'miscellaneous',\n",
       "       'modern', 'mood', 'mpb', 'muslim', 'native', 'neoklassik', 'neue',\n",
       "       'new', 'newage', 'newwave', 'nu', 'nujazz', 'numetal', 'oceania',\n",
       "       'old', 'opera', 'orchestral', 'other', 'piano', 'podcasts', 'pop',\n",
       "       'popdance', 'popelectronic', 'popeurodance', 'poprussian', 'post',\n",
       "       'posthardcore', 'postrock', 'power', 'progmetal', 'progressive',\n",
       "       'psychedelic', 'punjabi', 'punk', 'quebecois', 'ragga', 'ram',\n",
       "       'rancheras', 'rap', 'rave', 'reggae', 'reggaeton', 'regional',\n",
       "       'relax', 'religious', 'retro', 'rhythm', 'rnb', 'rnr', 'rock',\n",
       "       'rockabilly', 'rockalternative', 'rockindie', 'rockother',\n",
       "       'romance', 'roots', 'ruspop', 'rusrap', 'rusrock', 'russian',\n",
       "       'salsa', 'samba', 'scenic', 'schlager', 'self', 'sertanejo',\n",
       "       'shanson', 'shoegazing', 'showtunes', 'singer', 'ska', 'skarock',\n",
       "       'slow', 'smooth', 'soft', 'soul', 'soulful', 'sound', 'soundtrack',\n",
       "       'southern', 'specialty', 'speech', 'spiritual', 'sport',\n",
       "       'stonerrock', 'surf', 'swing', 'synthpop', 'synthrock',\n",
       "       'sängerportrait', 'tango', 'tanzorchester', 'taraftar', 'tatar',\n",
       "       'tech', 'techno', 'teen', 'thrash', 'top', 'traditional',\n",
       "       'tradjazz', 'trance', 'tribal', 'trip', 'triphop', 'tropical',\n",
       "       'türk', 'türkçe', 'ukrrock', 'unknown', 'urban', 'uzbek',\n",
       "       'variété', 'vi', 'videogame', 'vocal', 'western', 'world',\n",
       "       'worldbeat', 'ïîï', 'электроника'], dtype=object)"
      ]
     },
     "execution_count": 17,
     "metadata": {},
     "output_type": "execute_result"
    }
   ],
   "source": [
    "# Проверка на неявные дубликаты\n",
    "df['genre'].sort_values().unique()"
   ]
  },
  {
   "cell_type": "markdown",
   "metadata": {
    "id": "jz6a9-7HQUDd"
   },
   "source": [
    "**Выводы**\n",
    "\n",
    "Предобработка обнаружила три проблемы в данных:\n",
    "\n",
    "- нарушения в стиле заголовков,\n",
    "- пропущенные значения,\n",
    "- дубликаты — явные и неявные.\n",
    "\n",
    "Мы исправили заголовки, чтобы упростить работу с таблицей. Без дубликатов исследование станет более точным.\n",
    "\n",
    "Пропущенные значения мы заменили на `'unknown'`. Ещё предстоит увидеть, не повредят ли исследованию пропуски в колонке `genre`.\n",
    "\n",
    "Теперь можно перейти к проверке гипотез. "
   ]
  },
  {
   "cell_type": "markdown",
   "metadata": {
    "id": "WttZHXH0SqKk"
   },
   "source": [
    "## Проверка гипотез"
   ]
  },
  {
   "cell_type": "markdown",
   "metadata": {
    "id": "Im936VVi_Zcu"
   },
   "source": [
    "### Сравнение поведения пользователей двух столиц"
   ]
  },
  {
   "cell_type": "markdown",
   "metadata": {
    "id": "nwt_MuaL_Zcu"
   },
   "source": [
    "Первая гипотеза утверждает, что пользователи по-разному слушают музыку в Москве и Санкт-Петербурге. Проверим это предположение по данным о трёх днях недели — понедельнике, среде и пятнице. Для этого:\n",
    "\n",
    "* Разделим пользователей Москвы и Санкт-Петербурга\n",
    "* Сравним, сколько треков послушала каждая группа пользователей в понедельник, среду и пятницу.\n"
   ]
  },
  {
   "cell_type": "markdown",
   "metadata": {
    "id": "8Dw_YMmT_Zcu"
   },
   "source": [
    "Для тренировки сначала выполним каждый из расчётов по отдельности. \n",
    "\n",
    "Оценим активность пользователей в каждом городе. Сгруппируем данные по городу и посчитаем прослушивания в каждой группе.\n",
    "\n"
   ]
  },
  {
   "cell_type": "code",
   "execution_count": 18,
   "metadata": {
    "id": "0_Qs96oh_Zcu"
   },
   "outputs": [
    {
     "data": {
      "text/plain": [
       "city\n",
       "Moscow              42741\n",
       "Saint-Petersburg    18512\n",
       "Name: track, dtype: int64"
      ]
     },
     "execution_count": 18,
     "metadata": {},
     "output_type": "execute_result"
    }
   ],
   "source": [
    "# Подсчёт прослушиваний в каждом городе\n",
    "df.groupby('city')['track'].count()"
   ]
  },
  {
   "cell_type": "markdown",
   "metadata": {
    "id": "dzli3w8o_Zcu"
   },
   "source": [
    "В Москве прослушиваний больше, чем в Петербурге. Из этого не следует, что московские пользователи чаще слушают музыку. Просто самих пользователей в Москве больше.\n",
    "\n",
    "Теперь сгруппируем данные по дню недели и подсчитаем прослушивания в понедельник, среду и пятницу. Учтем, что в данных есть информация только о прослушиваниях только за эти дни.\n"
   ]
  },
  {
   "cell_type": "code",
   "execution_count": 19,
   "metadata": {
    "id": "uZMKjiJz_Zcu"
   },
   "outputs": [
    {
     "data": {
      "text/plain": [
       "day\n",
       "Friday       21840\n",
       "Monday       21354\n",
       "Wednesday    18059\n",
       "Name: track, dtype: int64"
      ]
     },
     "execution_count": 19,
     "metadata": {},
     "output_type": "execute_result"
    }
   ],
   "source": [
    "# Подсчёт прослушиваний в каждый из трёх дней\n",
    "df.groupby('day')['track'].count()"
   ]
  },
  {
   "cell_type": "markdown",
   "metadata": {
    "id": "cC2tNrlL_Zcu"
   },
   "source": [
    "В среднем пользователи из двух городов менее активны по средам. Но картина может измениться, если рассмотреть каждый город в отдельности."
   ]
  },
  {
   "cell_type": "markdown",
   "metadata": {
    "id": "POzs8bGa_Zcu"
   },
   "source": [
    "Мы видели, как работает группировка по городу и по дням недели. Теперь напишем функцию, которая объединит два эти расчёта.\n",
    "\n",
    "Создадим функцию `number_tracks()`, которая посчитает прослушивания для заданного дня и города. Ей понадобятся два параметра:\n",
    "* день недели,\n",
    "* название города.\n",
    "\n",
    "В функции сохраним в переменную строки исходной таблицы, у которых значение:\n",
    "  * в колонке `day` равно параметру `day`,\n",
    "  * в колонке `city` равно параметру `city`.\n",
    "\n",
    "Для этого применим последовательную фильтрацию с логической индексацией.\n",
    "\n",
    "Затем посчитаем значения в столбце `user_id` получившейся таблицы. Результат сохраним в новую переменную. Вернем эту переменную из функции."
   ]
  },
  {
   "cell_type": "code",
   "execution_count": 20,
   "metadata": {
    "id": "Nz3GdQB1_Zcu"
   },
   "outputs": [],
   "source": [
    "# <создание функции number_tracks()>\n",
    "# Объявляется функция с двумя параметрами: day, city.\n",
    "# В переменной track_list сохраняются те строки таблицы df, для которых \n",
    "# значение в столбце 'day' равно параметру day и одновременно значение\n",
    "# в столбце 'city' равно параметру city.\n",
    "def number_tracks(day, city):\n",
    "    track_list = df[(df['day'] == day)&(df['city'] == city)]\n",
    "\n",
    "\n",
    "# В переменной track_list_count сохраняется число значений столбца 'user_id',\n",
    "# рассчитанное методом count() для таблицы track_list.\n",
    "# Функция возвращает число - значение track_list_count.\n",
    "# Функция для подсчёта прослушиваний для конкретного города и дня.\n",
    "# С помощью последовательной фильтрации с логической индексацией она \n",
    "# сначала получит из исходной таблицы строки с нужным днём,\n",
    "# затем из результата отфильтрует строки с нужным городом,\n",
    "# методом count() посчитает количество значений в колонке user_id. \n",
    "# Это количество функция вернёт в качестве результата\n",
    "    track_list_count = track_list['user_id'].count()\n",
    "    return track_list_count\n",
    "\n"
   ]
  },
  {
   "cell_type": "markdown",
   "metadata": {
    "id": "ytf7xFrFJQ2r"
   },
   "source": [
    "Вызовем `number_tracks()` шесть раз, меняя значение параметров — так, чтобы получить данные для каждого города в каждый из трёх дней."
   ]
  },
  {
   "cell_type": "code",
   "execution_count": 21,
   "metadata": {
    "id": "rJcRATNQ_Zcu"
   },
   "outputs": [
    {
     "data": {
      "text/plain": [
       "15740"
      ]
     },
     "execution_count": 21,
     "metadata": {},
     "output_type": "execute_result"
    }
   ],
   "source": [
    "# количество прослушиваний в Москве по понедельникам\n",
    "number_tracks('Monday', 'Moscow')"
   ]
  },
  {
   "cell_type": "code",
   "execution_count": 22,
   "metadata": {
    "id": "hq_ncZ5T_Zcu"
   },
   "outputs": [
    {
     "data": {
      "text/plain": [
       "5614"
      ]
     },
     "execution_count": 22,
     "metadata": {},
     "output_type": "execute_result"
    }
   ],
   "source": [
    "# количество прослушиваний в Санкт-Петербурге по понедельникам\n",
    "number_tracks('Monday', 'Saint-Petersburg')"
   ]
  },
  {
   "cell_type": "code",
   "execution_count": 23,
   "metadata": {
    "id": "_NTy2VPU_Zcu"
   },
   "outputs": [
    {
     "data": {
      "text/plain": [
       "11056"
      ]
     },
     "execution_count": 23,
     "metadata": {},
     "output_type": "execute_result"
    }
   ],
   "source": [
    "# количество прослушиваний в Москве по средам\n",
    "number_tracks('Wednesday', 'Moscow')"
   ]
  },
  {
   "cell_type": "code",
   "execution_count": 24,
   "metadata": {
    "id": "j2y3TAwo_Zcu"
   },
   "outputs": [
    {
     "data": {
      "text/plain": [
       "7003"
      ]
     },
     "execution_count": 24,
     "metadata": {},
     "output_type": "execute_result"
    }
   ],
   "source": [
    "# количество прослушиваний в Санкт-Петербурге по средам\n",
    "number_tracks('Wednesday', 'Saint-Petersburg')"
   ]
  },
  {
   "cell_type": "code",
   "execution_count": 25,
   "metadata": {
    "id": "vYDw5u_K_Zcu"
   },
   "outputs": [
    {
     "data": {
      "text/plain": [
       "15945"
      ]
     },
     "execution_count": 25,
     "metadata": {},
     "output_type": "execute_result"
    }
   ],
   "source": [
    "# количество прослушиваний в Москве по пятницам\n",
    "number_tracks('Friday', 'Moscow')"
   ]
  },
  {
   "cell_type": "code",
   "execution_count": 26,
   "metadata": {
    "id": "8_yzFtW3_Zcu"
   },
   "outputs": [
    {
     "data": {
      "text/plain": [
       "5895"
      ]
     },
     "execution_count": 26,
     "metadata": {},
     "output_type": "execute_result"
    }
   ],
   "source": [
    "# количество прослушиваний в Санкт-Петербурге по пятницам\n",
    "number_tracks('Friday', 'Saint-Petersburg')"
   ]
  },
  {
   "cell_type": "markdown",
   "metadata": {
    "id": "7QXffbO-_Zcu"
   },
   "source": [
    "Создадим c помощью конструктора `pd.DataFrame` таблицу, где\n",
    "* названия колонок — `['city', 'monday', 'wednesday', 'friday']`;\n",
    "* данные — результаты, которые вы получили с помощью `number_tracks`."
   ]
  },
  {
   "cell_type": "code",
   "execution_count": 27,
   "metadata": {
    "id": "APAcLpOr_Zcu"
   },
   "outputs": [
    {
     "data": {
      "text/html": [
       "<div>\n",
       "<style scoped>\n",
       "    .dataframe tbody tr th:only-of-type {\n",
       "        vertical-align: middle;\n",
       "    }\n",
       "\n",
       "    .dataframe tbody tr th {\n",
       "        vertical-align: top;\n",
       "    }\n",
       "\n",
       "    .dataframe thead th {\n",
       "        text-align: right;\n",
       "    }\n",
       "</style>\n",
       "<table border=\"1\" class=\"dataframe\">\n",
       "  <thead>\n",
       "    <tr style=\"text-align: right;\">\n",
       "      <th></th>\n",
       "      <th>city</th>\n",
       "      <th>monday</th>\n",
       "      <th>wednesday</th>\n",
       "      <th>friday</th>\n",
       "    </tr>\n",
       "  </thead>\n",
       "  <tbody>\n",
       "    <tr>\n",
       "      <td>0</td>\n",
       "      <td>Moscow</td>\n",
       "      <td>15740</td>\n",
       "      <td>11056</td>\n",
       "      <td>15945</td>\n",
       "    </tr>\n",
       "    <tr>\n",
       "      <td>1</td>\n",
       "      <td>Saint-Petersburg</td>\n",
       "      <td>5614</td>\n",
       "      <td>7003</td>\n",
       "      <td>5895</td>\n",
       "    </tr>\n",
       "  </tbody>\n",
       "</table>\n",
       "</div>"
      ],
      "text/plain": [
       "               city  monday  wednesday  friday\n",
       "0            Moscow   15740      11056   15945\n",
       "1  Saint-Petersburg    5614       7003    5895"
      ]
     },
     "metadata": {},
     "output_type": "display_data"
    }
   ],
   "source": [
    "# Таблица с результатами\n",
    "data = [['Moscow', 15740, 11056, 15945], ['Saint-Petersburg', 5614, 7003, 5895]]\n",
    "columns = ['city', 'monday', 'wednesday', 'friday']\n",
    "result_map = pd.DataFrame(data=data, columns=columns)\n",
    "display(result_map)"
   ]
  },
  {
   "cell_type": "markdown",
   "metadata": {
    "id": "-EgPIHYu_Zcu"
   },
   "source": [
    "**Выводы**\n",
    "\n",
    "Данные показывают разницу поведения пользователей:\n",
    "\n",
    "- В Москве пик прослушиваний приходится на понедельник и пятницу, а в среду заметен спад.\n",
    "- В Петербурге, наоборот, больше слушают музыку по средам. Активность в понедельник и пятницу здесь почти в равной мере уступает среде.\n",
    "\n",
    "Значит, данные говорят в пользу первой гипотезы."
   ]
  },
  {
   "cell_type": "markdown",
   "metadata": {
    "id": "atZAxtq4_Zcu"
   },
   "source": [
    "### Музыка в начале и в конце недели"
   ]
  },
  {
   "cell_type": "markdown",
   "metadata": {
    "id": "eXrQqXFH_Zcu"
   },
   "source": [
    "Согласно второй гипотезе, утром в понедельник в Москве преобладают одни жанры, а в Петербурге — другие. Так же и вечером пятницы преобладают разные жанры — в зависимости от города."
   ]
  },
  {
   "cell_type": "markdown",
   "metadata": {
    "id": "S8UcW6Hw_Zcu"
   },
   "source": [
    "Сохраним таблицы с данными в две переменные:\n",
    "* по Москве — в `moscow_general`;\n",
    "* по Санкт-Петербургу — в `spb_general`."
   ]
  },
  {
   "cell_type": "code",
   "execution_count": 28,
   "metadata": {
    "id": "qeaFfM_P_Zcu"
   },
   "outputs": [],
   "source": [
    "# получение таблицы moscow_general из тех строк таблицы df, \n",
    "# для которых значение в столбце 'city' равно 'Moscow'\n",
    "moscow_general = df[df['city'] == 'Moscow']"
   ]
  },
  {
   "cell_type": "code",
   "execution_count": 29,
   "metadata": {
    "id": "ORaVRKto_Zcu"
   },
   "outputs": [],
   "source": [
    "# получение таблицы spb_general из тех строк таблицы df,\n",
    "# для которых значение в столбце 'city' равно 'Saint-Petersburg'\n",
    "spb_general = df[df['city'] == 'Saint-Petersburg']"
   ]
  },
  {
   "cell_type": "markdown",
   "metadata": {
    "id": "MEJV-CX2_Zcu"
   },
   "source": [
    "Создадим функцию `genre_weekday()` с четырьмя параметрами:\n",
    "* таблица (датафрейм) с данными,\n",
    "* день недели,\n",
    "* начальная временная метка в формате 'hh:mm', \n",
    "* последняя временная метка в формате 'hh:mm'.\n",
    "\n",
    "Функция должна вернуть информацию о топ-10 жанров тех треков, которые прослушивали в указанный день, в промежутке между двумя отметками времени."
   ]
  },
  {
   "cell_type": "code",
   "execution_count": 30,
   "metadata": {
    "id": "laJT9BYl_Zcu"
   },
   "outputs": [],
   "source": [
    "# Объявление функции genre_weekday() с параметрами table, day, time1, time2,\n",
    "# которая возвращает информацию о самых популярных жанрах в указанный день в\n",
    "# заданное время:\n",
    "# 1) в переменную genre_df сохраняются те строки переданного датафрейма table, для\n",
    "#    которых одновременно:\n",
    "#    - значение в столбце day равно значению аргумента day\n",
    "#    - значение в столбце time больше значения аргумента time1\n",
    "#    - значение в столбце time меньше значения аргумента time2\n",
    "#    Используем последовательную фильтрацию с помощью логической индексации.\n",
    "def genre_weekday(table, day, time1, time2):\n",
    "    genre_df = table.loc[(table.day==day) & (table.time>time1) & (table.time<time2)]\n",
    "# 2) сгруппировать датафрейм genre_df по столбцу genre, взять один из его\n",
    "#    столбцов и посчитать методом count() количество записей для каждого из\n",
    "#    присутствующих жанров, получившийся Series записать в переменную\n",
    "#    genre_df_count\n",
    "    genre_df_count = genre_df.groupby('genre')['track'].count()\n",
    "# 3) отсортировать genre_df_count по убыванию встречаемости и сохранить\n",
    "#    в переменную genre_df_sorted\n",
    "    genre_df_sorted = genre_df_count.sort_values(ascending=False)\n",
    "# 4) вернуть Series из 10 первых значений genre_df_sorted, это будут топ-10\n",
    "#    популярных жанров (в указанный день, в заданное время)\n",
    "    return genre_df_sorted.head(10)"
   ]
  },
  {
   "cell_type": "markdown",
   "metadata": {
    "id": "la2s2_PF_Zcu"
   },
   "source": [
    "Cравним результаты функции `genre_weekday()` для Москвы и Санкт-Петербурга в понедельник утром (с 7:00 до 11:00) и в пятницу вечером (с 17:00 до 23:00):"
   ]
  },
  {
   "cell_type": "code",
   "execution_count": 31,
   "metadata": {
    "id": "yz7itPUQ_Zcu"
   },
   "outputs": [
    {
     "data": {
      "text/plain": [
       "genre\n",
       "pop            781\n",
       "dance          549\n",
       "electronic     480\n",
       "rock           474\n",
       "hiphop         286\n",
       "ruspop         186\n",
       "world          181\n",
       "rusrap         175\n",
       "alternative    164\n",
       "unknown        161\n",
       "Name: track, dtype: int64"
      ]
     },
     "execution_count": 31,
     "metadata": {},
     "output_type": "execute_result"
    }
   ],
   "source": [
    "# вызов функции для утра понедельника в Москве (вместо df — таблица moscow_general)\n",
    "# объекты, хранящие время, являются строками и сравниваются как строки\n",
    "genre_weekday(moscow_general,'Monday', '07:00', '11:00') "
   ]
  },
  {
   "cell_type": "code",
   "execution_count": 32,
   "metadata": {
    "id": "kwUcHPdy_Zcu"
   },
   "outputs": [
    {
     "data": {
      "text/plain": [
       "genre\n",
       "pop            218\n",
       "dance          182\n",
       "rock           162\n",
       "electronic     147\n",
       "hiphop          80\n",
       "ruspop          64\n",
       "alternative     58\n",
       "rusrap          55\n",
       "jazz            44\n",
       "classical       40\n",
       "Name: track, dtype: int64"
      ]
     },
     "execution_count": 32,
     "metadata": {},
     "output_type": "execute_result"
    }
   ],
   "source": [
    "# вызов функции для утра понедельника в Петербурге (вместо df — таблица spb_general)\n",
    "genre_weekday(spb_general, 'Monday', '07:00', '11:00')"
   ]
  },
  {
   "cell_type": "code",
   "execution_count": 33,
   "metadata": {
    "id": "EzXVRE1o_Zcu"
   },
   "outputs": [
    {
     "data": {
      "text/plain": [
       "genre\n",
       "pop            713\n",
       "rock           517\n",
       "dance          495\n",
       "electronic     482\n",
       "hiphop         273\n",
       "world          208\n",
       "ruspop         170\n",
       "alternative    163\n",
       "classical      163\n",
       "rusrap         142\n",
       "Name: track, dtype: int64"
      ]
     },
     "execution_count": 33,
     "metadata": {},
     "output_type": "execute_result"
    }
   ],
   "source": [
    "# вызов функции для вечера пятницы в Москве\n",
    "genre_weekday(moscow_general,'Friday', '17:00', '23:00')"
   ]
  },
  {
   "cell_type": "code",
   "execution_count": 34,
   "metadata": {
    "id": "JZaEKu5v_Zcu"
   },
   "outputs": [
    {
     "data": {
      "text/plain": [
       "genre\n",
       "pop            256\n",
       "rock           216\n",
       "electronic     216\n",
       "dance          210\n",
       "hiphop          97\n",
       "alternative     63\n",
       "jazz            61\n",
       "classical       60\n",
       "rusrap          59\n",
       "world           54\n",
       "Name: track, dtype: int64"
      ]
     },
     "execution_count": 34,
     "metadata": {},
     "output_type": "execute_result"
    }
   ],
   "source": [
    "# вызов функции для вечера пятницы в Петербурге\n",
    "genre_weekday(spb_general, 'Friday', '17:00', '23:00')"
   ]
  },
  {
   "cell_type": "markdown",
   "metadata": {
    "id": "wrCe4MNX_Zcu"
   },
   "source": [
    "**Выводы**\n",
    "\n",
    "Если сравнить топ-10 жанров в понедельник утром, можно сделать такие выводы:\n",
    "\n",
    "1. В Москве и Петербурге слушают похожую музыку. Единственное отличие — в московский рейтинг вошёл жанр “world”, а в петербургский — джаз и классика.\n",
    "\n",
    "2. В Москве пропущенных значений оказалось так много, что значение `'unknown'` заняло десятое место среди самых популярных жанров. Значит, пропущенные значения занимают существенную долю в данных и угрожают достоверности исследования.\n",
    "\n",
    "Вечер пятницы не меняет эту картину. Некоторые жанры поднимаются немного выше, другие спускаются, но в целом топ-10 остаётся тем же самым.\n",
    "\n",
    "Таким образом, вторая гипотеза подтвердилась лишь частично:\n",
    "* Пользователи слушают похожую музыку в начале недели и в конце.\n",
    "* Разница между Москвой и Петербургом не слишком выражена. В Москве чаще слушают русскую популярную музыку, в Петербурге — джаз.\n",
    "\n",
    "Однако пропуски в данных ставят под сомнение этот результат. В Москве их так много, что рейтинг топ-10 мог бы выглядеть иначе, если бы не утерянные  данные о жанрах."
   ]
  },
  {
   "cell_type": "markdown",
   "metadata": {
    "id": "JolODAqr_Zcu"
   },
   "source": [
    "### Жанровые предпочтения в Москве и Петербурге\n",
    "\n",
    "Гипотеза: Петербург — столица рэпа, музыку этого жанра там слушают чаще, чем в Москве.  А Москва — город контрастов, в котором, тем не менее, преобладает поп-музыка."
   ]
  },
  {
   "cell_type": "markdown",
   "metadata": {
    "id": "DlegSvaT_Zcu"
   },
   "source": [
    "Сгруппируем таблицу `moscow_general` по жанру и посчитаем прослушивания треков каждого жанра методом `count()`. Затем отсортируем результат в порядке убывания и сохраним его в таблице `moscow_genres`."
   ]
  },
  {
   "cell_type": "code",
   "execution_count": 35,
   "metadata": {
    "id": "r19lIPke_Zcu"
   },
   "outputs": [],
   "source": [
    "# одной строкой: группировка таблицы moscow_general по столбцу 'genre', \n",
    "# подсчёт числа значений 'genre' в этой группировке методом count(), \n",
    "# сортировка получившегося Series в порядке убывания и сохранение в moscow_genres\n",
    "moscow_genres = moscow_general.groupby('genre')['genre'].count().sort_values(ascending=False)"
   ]
  },
  {
   "cell_type": "markdown",
   "metadata": {
    "id": "6kMuomxTiIr8"
   },
   "source": [
    "Выведем на экран первые десять строк `moscow_genres`:"
   ]
  },
  {
   "cell_type": "code",
   "execution_count": 36,
   "metadata": {
    "id": "WhCSooF8_Zcv"
   },
   "outputs": [
    {
     "data": {
      "text/plain": [
       "genre\n",
       "pop            5892\n",
       "dance          4435\n",
       "rock           3965\n",
       "electronic     3786\n",
       "hiphop         2096\n",
       "classical      1616\n",
       "world          1432\n",
       "alternative    1379\n",
       "ruspop         1372\n",
       "rusrap         1161\n",
       "Name: genre, dtype: int64"
      ]
     },
     "execution_count": 36,
     "metadata": {},
     "output_type": "execute_result"
    }
   ],
   "source": [
    "# просмотр первых 10 строк moscow_genres\n",
    "moscow_genres.head(10)"
   ]
  },
  {
   "cell_type": "markdown",
   "metadata": {
    "id": "cnPG2vnN_Zcv"
   },
   "source": [
    "Теперь повторим то же и для Петербурга.\n",
    "\n",
    "Сгруппируем таблицу `spb_general` по жанру. Посчитаем прослушивания треков каждого жанра. Результат отсортируем в порядке убывания и сохраните в таблице `spb_genres`:\n"
   ]
  },
  {
   "cell_type": "code",
   "execution_count": 37,
   "metadata": {
    "id": "gluLIpE7_Zcv"
   },
   "outputs": [],
   "source": [
    "# одной строкой: группировка таблицы spb_general по столбцу 'genre', \n",
    "# подсчёт числа значений 'genre' в этой группировке методом count(), \n",
    "# сортировка получившегося Series в порядке убывания и сохранение в spb_genres\n",
    "spb_genres = spb_general.groupby('genre')['genre'].count().sort_values(ascending=False)"
   ]
  },
  {
   "cell_type": "markdown",
   "metadata": {
    "id": "5Doha_ODgyQ8"
   },
   "source": [
    "Выведите на экран первые десять строк `spb_genres`:"
   ]
  },
  {
   "cell_type": "code",
   "execution_count": 38,
   "metadata": {
    "id": "uaGJHjVU_Zcv"
   },
   "outputs": [
    {
     "data": {
      "text/plain": [
       "genre\n",
       "pop            2431\n",
       "dance          1932\n",
       "rock           1879\n",
       "electronic     1736\n",
       "hiphop          960\n",
       "alternative     649\n",
       "classical       646\n",
       "rusrap          564\n",
       "ruspop          538\n",
       "world           515\n",
       "Name: genre, dtype: int64"
      ]
     },
     "execution_count": 38,
     "metadata": {},
     "output_type": "execute_result"
    }
   ],
   "source": [
    "# просмотр первых 10 строк spb_genres\n",
    "spb_genres.head(10)"
   ]
  },
  {
   "cell_type": "markdown",
   "metadata": {
    "id": "RY51YJYu_Zcv"
   },
   "source": [
    "**Выводы**"
   ]
  },
  {
   "cell_type": "markdown",
   "metadata": {
    "id": "nVhnJEm__Zcv"
   },
   "source": [
    "Гипотеза частично подтвердилась:\n",
    "* Поп-музыка — самый популярный жанр в Москве, как и предполагала гипотеза. Более того, в топ-10 жанров встречается близкий жанр — русская популярная музыка.\n",
    "* Вопреки ожиданиям, рэп одинаково популярен в Москве и Петербурге. \n"
   ]
  },
  {
   "cell_type": "markdown",
   "metadata": {
    "id": "ykKQ0N65_Zcv"
   },
   "source": [
    "## Итоги исследования"
   ]
  },
  {
   "cell_type": "markdown",
   "metadata": {
    "id": "tjUwbHb3_Zcv"
   },
   "source": [
    "Мы проверили три гипотезы и установили:\n",
    "\n",
    "1. День недели по-разному влияет на активность пользователей в Москве и Петербурге. \n",
    "\n",
    "Первая гипотеза полностью подтвердилась.\n",
    "\n",
    "2. Музыкальные предпочтения не сильно меняются в течение недели — будь то Москва или Петербург. Небольшие различия заметны в начале недели, по понедельникам:\n",
    "* в Москве слушают музыку жанра “world”,\n",
    "* в Петербурге — джаз и классику.\n",
    "\n",
    "Таким образом, вторая гипотеза подтвердилась лишь отчасти. Этот результат мог оказаться иным, если бы не пропуски в данных.\n",
    "\n",
    "3. Во вкусах пользователей Москвы и Петербурга больше общего чем различий. Вопреки ожиданиям, предпочтения жанров в Петербурге напоминают московские.\n",
    "\n",
    "Третья гипотеза не подтвердилась. Если различия в предпочтениях и существуют, на основной массе пользователей они незаметны.\n",
    "\n"
   ]
  }
 ],
 "metadata": {
  "ExecuteTimeLog": [
   {
    "duration": 332,
    "start_time": "2022-01-24T19:21:53.497Z"
   },
   {
    "duration": 308,
    "start_time": "2022-01-24T19:24:40.112Z"
   },
   {
    "duration": 753,
    "start_time": "2022-01-24T19:24:51.396Z"
   },
   {
    "duration": 202,
    "start_time": "2022-01-24T19:24:52.153Z"
   },
   {
    "duration": 3,
    "start_time": "2022-01-24T19:25:24.763Z"
   },
   {
    "duration": 709,
    "start_time": "2022-01-24T19:25:24.770Z"
   },
   {
    "duration": 260,
    "start_time": "2022-01-24T19:25:25.482Z"
   },
   {
    "duration": 545,
    "start_time": "2022-01-24T19:25:25.746Z"
   },
   {
    "duration": 303,
    "start_time": "2022-01-24T19:25:26.294Z"
   },
   {
    "duration": 209,
    "start_time": "2022-01-24T19:25:26.599Z"
   },
   {
    "duration": 542,
    "start_time": "2022-01-24T19:25:26.814Z"
   },
   {
    "duration": 515,
    "start_time": "2022-01-24T19:25:27.360Z"
   },
   {
    "duration": 201,
    "start_time": "2022-01-24T19:25:27.879Z"
   },
   {
    "duration": 235,
    "start_time": "2022-01-24T19:25:28.082Z"
   },
   {
    "duration": 741,
    "start_time": "2022-01-24T19:25:28.320Z"
   },
   {
    "duration": 1013,
    "start_time": "2022-01-24T19:25:29.063Z"
   },
   {
    "duration": 685,
    "start_time": "2022-01-24T19:25:30.079Z"
   },
   {
    "duration": 87,
    "start_time": "2022-01-24T19:25:30.767Z"
   },
   {
    "duration": 395,
    "start_time": "2022-01-24T19:25:30.857Z"
   },
   {
    "duration": 439,
    "start_time": "2022-01-24T19:25:31.254Z"
   },
   {
    "duration": 510,
    "start_time": "2022-01-24T19:25:31.696Z"
   },
   {
    "duration": 181,
    "start_time": "2022-01-24T19:25:32.208Z"
   },
   {
    "duration": 235,
    "start_time": "2022-01-24T19:25:32.393Z"
   },
   {
    "duration": 281,
    "start_time": "2022-01-24T19:25:32.632Z"
   },
   {
    "duration": 344,
    "start_time": "2022-01-24T19:25:32.916Z"
   },
   {
    "duration": 118,
    "start_time": "2022-01-24T19:25:33.263Z"
   },
   {
    "duration": 125,
    "start_time": "2022-01-24T19:25:33.384Z"
   },
   {
    "duration": 92,
    "start_time": "2022-01-24T19:25:33.513Z"
   },
   {
    "duration": 343,
    "start_time": "2022-01-24T19:25:33.608Z"
   },
   {
    "duration": 772,
    "start_time": "2022-01-24T19:25:33.954Z"
   },
   {
    "duration": 392,
    "start_time": "2022-01-24T19:25:34.729Z"
   },
   {
    "duration": 241,
    "start_time": "2022-01-24T19:25:35.124Z"
   },
   {
    "duration": 241,
    "start_time": "2022-01-24T19:25:35.368Z"
   },
   {
    "duration": 388,
    "start_time": "2022-01-24T19:25:35.612Z"
   },
   {
    "duration": 450,
    "start_time": "2022-01-24T19:25:36.002Z"
   },
   {
    "duration": 347,
    "start_time": "2022-01-24T19:25:36.457Z"
   },
   {
    "duration": 285,
    "start_time": "2022-01-24T19:25:36.806Z"
   },
   {
    "duration": 208,
    "start_time": "2022-01-24T19:25:37.094Z"
   },
   {
    "duration": 265,
    "start_time": "2022-01-24T19:25:37.305Z"
   },
   {
    "duration": 291,
    "start_time": "2022-01-24T19:25:37.572Z"
   },
   {
    "duration": 220,
    "start_time": "2022-01-24T19:25:37.865Z"
   },
   {
    "duration": 238,
    "start_time": "2022-01-24T19:25:38.088Z"
   },
   {
    "duration": 4,
    "start_time": "2022-01-24T19:25:48.523Z"
   },
   {
    "duration": 719,
    "start_time": "2022-01-24T19:25:48.530Z"
   },
   {
    "duration": 375,
    "start_time": "2022-01-24T19:25:49.253Z"
   },
   {
    "duration": 255,
    "start_time": "2022-01-24T19:25:49.631Z"
   },
   {
    "duration": 283,
    "start_time": "2022-01-24T19:25:49.890Z"
   },
   {
    "duration": 302,
    "start_time": "2022-01-24T19:25:50.177Z"
   },
   {
    "duration": 589,
    "start_time": "2022-01-24T19:25:50.483Z"
   },
   {
    "duration": 271,
    "start_time": "2022-01-24T19:25:51.075Z"
   },
   {
    "duration": 451,
    "start_time": "2022-01-24T19:25:51.348Z"
   },
   {
    "duration": 756,
    "start_time": "2022-01-24T19:25:51.801Z"
   },
   {
    "duration": 717,
    "start_time": "2022-01-24T19:25:52.559Z"
   },
   {
    "duration": 784,
    "start_time": "2022-01-24T19:25:53.278Z"
   },
   {
    "duration": 733,
    "start_time": "2022-01-24T19:25:54.065Z"
   },
   {
    "duration": 727,
    "start_time": "2022-01-24T19:25:54.800Z"
   },
   {
    "duration": 594,
    "start_time": "2022-01-24T19:25:55.529Z"
   },
   {
    "duration": 727,
    "start_time": "2022-01-24T19:25:56.125Z"
   },
   {
    "duration": 1156,
    "start_time": "2022-01-24T19:25:56.854Z"
   },
   {
    "duration": 728,
    "start_time": "2022-01-24T19:25:58.012Z"
   },
   {
    "duration": 270,
    "start_time": "2022-01-24T19:25:58.749Z"
   },
   {
    "duration": 593,
    "start_time": "2022-01-24T19:25:59.022Z"
   },
   {
    "duration": 812,
    "start_time": "2022-01-24T19:25:59.618Z"
   },
   {
    "duration": 272,
    "start_time": "2022-01-24T19:26:00.433Z"
   },
   {
    "duration": 246,
    "start_time": "2022-01-24T19:26:00.708Z"
   },
   {
    "duration": 593,
    "start_time": "2022-01-24T19:26:00.957Z"
   },
   {
    "duration": 774,
    "start_time": "2022-01-24T19:26:01.553Z"
   },
   {
    "duration": 590,
    "start_time": "2022-01-24T19:26:02.331Z"
   },
   {
    "duration": 973,
    "start_time": "2022-01-24T19:26:02.925Z"
   },
   {
    "duration": 484,
    "start_time": "2022-01-24T19:26:03.900Z"
   },
   {
    "duration": 434,
    "start_time": "2022-01-24T19:26:04.387Z"
   },
   {
    "duration": 633,
    "start_time": "2022-01-24T19:26:04.824Z"
   },
   {
    "duration": 562,
    "start_time": "2022-01-24T19:26:05.460Z"
   },
   {
    "duration": 432,
    "start_time": "2022-01-24T19:26:06.026Z"
   },
   {
    "duration": 922,
    "start_time": "2022-01-24T19:26:06.460Z"
   },
   {
    "duration": 267,
    "start_time": "2022-01-24T19:26:07.385Z"
   },
   {
    "duration": 343,
    "start_time": "2022-01-24T19:26:07.655Z"
   },
   {
    "duration": 169,
    "start_time": "2022-01-24T19:26:08.001Z"
   },
   {
    "duration": 60,
    "start_time": "2022-01-24T19:26:08.173Z"
   },
   {
    "duration": 343,
    "start_time": "2022-01-24T19:26:08.236Z"
   },
   {
    "duration": 30,
    "start_time": "2022-01-24T19:33:38.910Z"
   },
   {
    "duration": 34,
    "start_time": "2022-01-24T19:33:58.509Z"
   },
   {
    "duration": 33,
    "start_time": "2022-01-24T19:34:51.380Z"
   },
   {
    "duration": 17,
    "start_time": "2022-01-24T19:35:46.379Z"
   },
   {
    "duration": 308,
    "start_time": "2022-01-24T19:46:47.163Z"
   },
   {
    "duration": 245,
    "start_time": "2022-01-24T19:47:04.436Z"
   },
   {
    "duration": 807,
    "start_time": "2022-01-24T19:47:28.423Z"
   },
   {
    "duration": 204,
    "start_time": "2022-01-24T19:47:29.234Z"
   },
   {
    "duration": 217,
    "start_time": "2022-01-24T19:47:29.445Z"
   },
   {
    "duration": 286,
    "start_time": "2022-01-24T19:47:29.665Z"
   },
   {
    "duration": 5,
    "start_time": "2022-01-24T19:47:39.287Z"
   },
   {
    "duration": 716,
    "start_time": "2022-01-24T19:47:39.295Z"
   },
   {
    "duration": 30,
    "start_time": "2022-01-24T19:47:40.015Z"
   },
   {
    "duration": 354,
    "start_time": "2022-01-24T19:47:40.049Z"
   },
   {
    "duration": 735,
    "start_time": "2022-01-24T19:47:40.406Z"
   },
   {
    "duration": 4,
    "start_time": "2022-01-24T19:48:03.165Z"
   },
   {
    "duration": 940,
    "start_time": "2022-01-24T19:48:03.173Z"
   },
   {
    "duration": 685,
    "start_time": "2022-01-24T19:48:04.116Z"
   },
   {
    "duration": 882,
    "start_time": "2022-01-24T19:48:04.803Z"
   },
   {
    "duration": 904,
    "start_time": "2022-01-24T19:48:05.687Z"
   },
   {
    "duration": 4,
    "start_time": "2022-01-24T19:50:40.804Z"
   },
   {
    "duration": 969,
    "start_time": "2022-01-24T19:50:40.811Z"
   },
   {
    "duration": 581,
    "start_time": "2022-01-24T19:50:41.784Z"
   },
   {
    "duration": 902,
    "start_time": "2022-01-24T19:50:42.368Z"
   },
   {
    "duration": 941,
    "start_time": "2022-01-24T19:50:43.273Z"
   },
   {
    "duration": 5,
    "start_time": "2022-01-24T19:52:07.339Z"
   },
   {
    "duration": 364,
    "start_time": "2022-01-24T19:52:07.348Z"
   },
   {
    "duration": 17,
    "start_time": "2022-01-24T19:52:07.718Z"
   },
   {
    "duration": 168,
    "start_time": "2022-01-24T19:52:07.738Z"
   },
   {
    "duration": 122,
    "start_time": "2022-01-24T19:52:07.909Z"
   },
   {
    "duration": 8,
    "start_time": "2022-01-24T19:55:48.646Z"
   },
   {
    "duration": 8,
    "start_time": "2022-01-24T19:56:28.996Z"
   },
   {
    "duration": 4,
    "start_time": "2022-01-24T19:57:26.175Z"
   },
   {
    "duration": 631,
    "start_time": "2022-01-24T19:57:26.182Z"
   },
   {
    "duration": 115,
    "start_time": "2022-01-24T19:57:26.816Z"
   },
   {
    "duration": 754,
    "start_time": "2022-01-24T19:57:26.934Z"
   },
   {
    "duration": 237,
    "start_time": "2022-01-24T19:57:27.691Z"
   },
   {
    "duration": 374,
    "start_time": "2022-01-24T19:57:27.931Z"
   },
   {
    "duration": 586,
    "start_time": "2022-01-24T19:57:28.308Z"
   },
   {
    "duration": 3,
    "start_time": "2022-01-24T19:57:47.152Z"
   },
   {
    "duration": 495,
    "start_time": "2022-01-24T19:57:47.159Z"
   },
   {
    "duration": 295,
    "start_time": "2022-01-24T19:57:47.657Z"
   },
   {
    "duration": 635,
    "start_time": "2022-01-24T19:57:47.956Z"
   },
   {
    "duration": 354,
    "start_time": "2022-01-24T19:57:48.595Z"
   },
   {
    "duration": 366,
    "start_time": "2022-01-24T19:57:48.952Z"
   },
   {
    "duration": 404,
    "start_time": "2022-01-24T19:57:49.321Z"
   },
   {
    "duration": 39,
    "start_time": "2022-01-24T19:59:54.217Z"
   },
   {
    "duration": 254,
    "start_time": "2022-01-24T20:11:32.546Z"
   },
   {
    "duration": 5,
    "start_time": "2022-01-24T20:13:15.937Z"
   },
   {
    "duration": 1771,
    "start_time": "2022-01-24T20:13:41.376Z"
   },
   {
    "duration": 261,
    "start_time": "2022-01-24T20:14:20.345Z"
   },
   {
    "duration": 6,
    "start_time": "2022-01-24T20:14:59.216Z"
   },
   {
    "duration": 5,
    "start_time": "2022-01-24T20:15:09.415Z"
   },
   {
    "duration": 33,
    "start_time": "2022-01-24T20:15:34.871Z"
   },
   {
    "duration": 33,
    "start_time": "2022-01-24T20:20:14.780Z"
   },
   {
    "duration": 63,
    "start_time": "2022-01-24T20:21:07.717Z"
   },
   {
    "duration": 54,
    "start_time": "2022-01-24T20:27:07.201Z"
   },
   {
    "duration": 31,
    "start_time": "2022-01-24T20:27:17.288Z"
   },
   {
    "duration": 3,
    "start_time": "2022-01-24T20:27:22.612Z"
   },
   {
    "duration": 319,
    "start_time": "2022-01-24T20:27:22.623Z"
   },
   {
    "duration": 16,
    "start_time": "2022-01-24T20:27:22.944Z"
   },
   {
    "duration": 174,
    "start_time": "2022-01-24T20:27:22.963Z"
   },
   {
    "duration": 138,
    "start_time": "2022-01-24T20:27:23.140Z"
   },
   {
    "duration": 141,
    "start_time": "2022-01-24T20:27:23.281Z"
   },
   {
    "duration": 47,
    "start_time": "2022-01-24T20:27:23.425Z"
   },
   {
    "duration": 112,
    "start_time": "2022-01-24T20:27:23.475Z"
   },
   {
    "duration": 225,
    "start_time": "2022-01-24T20:27:23.589Z"
   },
   {
    "duration": 124,
    "start_time": "2022-01-24T20:27:23.817Z"
   },
   {
    "duration": 93,
    "start_time": "2022-01-24T20:30:44.694Z"
   },
   {
    "duration": 121,
    "start_time": "2022-01-24T20:30:59.806Z"
   },
   {
    "duration": 33,
    "start_time": "2022-01-24T20:31:05.189Z"
   },
   {
    "duration": 4,
    "start_time": "2022-01-24T20:31:45.070Z"
   },
   {
    "duration": 598,
    "start_time": "2022-01-24T20:31:45.077Z"
   },
   {
    "duration": 23,
    "start_time": "2022-01-24T20:31:45.678Z"
   },
   {
    "duration": 156,
    "start_time": "2022-01-24T20:31:45.705Z"
   },
   {
    "duration": 300,
    "start_time": "2022-01-24T20:31:45.864Z"
   },
   {
    "duration": 481,
    "start_time": "2022-01-24T20:31:46.166Z"
   },
   {
    "duration": 276,
    "start_time": "2022-01-24T20:31:46.650Z"
   },
   {
    "duration": 311,
    "start_time": "2022-01-24T20:31:46.928Z"
   },
   {
    "duration": 399,
    "start_time": "2022-01-24T20:31:47.243Z"
   },
   {
    "duration": 403,
    "start_time": "2022-01-24T20:31:47.645Z"
   },
   {
    "duration": 715,
    "start_time": "2022-01-24T20:31:48.050Z"
   },
   {
    "duration": 328,
    "start_time": "2022-01-24T20:31:48.767Z"
   },
   {
    "duration": 303,
    "start_time": "2022-01-24T20:31:49.098Z"
   },
   {
    "duration": 264,
    "start_time": "2022-01-24T20:31:49.403Z"
   },
   {
    "duration": 260,
    "start_time": "2022-01-24T20:31:49.669Z"
   },
   {
    "duration": 257,
    "start_time": "2022-01-24T20:31:49.932Z"
   },
   {
    "duration": 348,
    "start_time": "2022-01-24T20:31:50.191Z"
   },
   {
    "duration": 171,
    "start_time": "2022-01-24T20:31:50.541Z"
   },
   {
    "duration": 476,
    "start_time": "2022-01-24T20:31:50.714Z"
   },
   {
    "duration": 333,
    "start_time": "2022-01-24T20:31:51.193Z"
   },
   {
    "duration": 1068,
    "start_time": "2022-01-24T20:31:51.528Z"
   },
   {
    "duration": 304,
    "start_time": "2022-01-24T20:31:52.599Z"
   },
   {
    "duration": 787,
    "start_time": "2022-01-24T20:31:52.906Z"
   },
   {
    "duration": 328,
    "start_time": "2022-01-24T20:31:53.696Z"
   },
   {
    "duration": 442,
    "start_time": "2022-01-24T20:31:54.028Z"
   },
   {
    "duration": 512,
    "start_time": "2022-01-24T20:31:54.474Z"
   },
   {
    "duration": 743,
    "start_time": "2022-01-24T20:31:54.995Z"
   },
   {
    "duration": 471,
    "start_time": "2022-01-24T20:31:55.742Z"
   },
   {
    "duration": 427,
    "start_time": "2022-01-24T20:31:56.215Z"
   },
   {
    "duration": 586,
    "start_time": "2022-01-24T20:31:56.644Z"
   },
   {
    "duration": 667,
    "start_time": "2022-01-24T20:31:57.232Z"
   },
   {
    "duration": 555,
    "start_time": "2022-01-24T20:31:57.901Z"
   },
   {
    "duration": 556,
    "start_time": "2022-01-24T20:31:58.458Z"
   },
   {
    "duration": 853,
    "start_time": "2022-01-24T20:31:59.017Z"
   },
   {
    "duration": 629,
    "start_time": "2022-01-24T20:31:59.873Z"
   },
   {
    "duration": 1464,
    "start_time": "2022-01-24T20:32:00.504Z"
   },
   {
    "duration": 499,
    "start_time": "2022-01-24T20:32:01.971Z"
   },
   {
    "duration": 305,
    "start_time": "2022-01-24T20:32:02.473Z"
   },
   {
    "duration": 124,
    "start_time": "2022-01-24T20:33:33.924Z"
   },
   {
    "duration": 103,
    "start_time": "2022-01-24T20:33:40.388Z"
   },
   {
    "duration": 3,
    "start_time": "2022-01-24T20:33:49.679Z"
   },
   {
    "duration": 672,
    "start_time": "2022-01-24T20:33:49.685Z"
   },
   {
    "duration": 95,
    "start_time": "2022-01-24T20:33:50.360Z"
   },
   {
    "duration": 495,
    "start_time": "2022-01-24T20:33:50.458Z"
   },
   {
    "duration": 680,
    "start_time": "2022-01-24T20:33:50.956Z"
   },
   {
    "duration": 893,
    "start_time": "2022-01-24T20:33:51.638Z"
   },
   {
    "duration": 875,
    "start_time": "2022-01-24T20:33:52.535Z"
   },
   {
    "duration": 670,
    "start_time": "2022-01-24T20:33:53.413Z"
   },
   {
    "duration": 1256,
    "start_time": "2022-01-24T20:33:54.085Z"
   },
   {
    "duration": 845,
    "start_time": "2022-01-24T20:33:55.344Z"
   },
   {
    "duration": 1069,
    "start_time": "2022-01-24T20:33:56.191Z"
   },
   {
    "duration": 605,
    "start_time": "2022-01-24T20:33:57.264Z"
   },
   {
    "duration": 4,
    "start_time": "2022-01-24T20:34:08.934Z"
   },
   {
    "duration": 855,
    "start_time": "2022-01-24T20:34:08.944Z"
   },
   {
    "duration": 135,
    "start_time": "2022-01-24T20:34:09.802Z"
   },
   {
    "duration": 245,
    "start_time": "2022-01-24T20:34:09.939Z"
   },
   {
    "duration": 511,
    "start_time": "2022-01-24T20:34:10.188Z"
   },
   {
    "duration": 454,
    "start_time": "2022-01-24T20:34:10.702Z"
   },
   {
    "duration": 744,
    "start_time": "2022-01-24T20:34:11.159Z"
   },
   {
    "duration": 501,
    "start_time": "2022-01-24T20:34:11.905Z"
   },
   {
    "duration": 540,
    "start_time": "2022-01-24T20:34:12.410Z"
   },
   {
    "duration": 496,
    "start_time": "2022-01-24T20:34:12.953Z"
   },
   {
    "duration": 739,
    "start_time": "2022-01-24T20:34:13.451Z"
   },
   {
    "duration": 552,
    "start_time": "2022-01-24T20:34:14.192Z"
   },
   {
    "duration": 665,
    "start_time": "2022-01-24T20:34:14.747Z"
   },
   {
    "duration": 397,
    "start_time": "2022-01-24T20:36:35.026Z"
   },
   {
    "duration": 79,
    "start_time": "2022-01-24T20:36:57.011Z"
   },
   {
    "duration": 10,
    "start_time": "2022-01-24T20:37:11.882Z"
   },
   {
    "duration": 4,
    "start_time": "2022-01-24T20:43:00.738Z"
   },
   {
    "duration": 207,
    "start_time": "2022-01-24T20:43:00.745Z"
   },
   {
    "duration": 16,
    "start_time": "2022-01-24T20:43:00.955Z"
   },
   {
    "duration": 59,
    "start_time": "2022-01-24T20:43:00.973Z"
   },
   {
    "duration": 4,
    "start_time": "2022-01-24T20:43:01.035Z"
   },
   {
    "duration": 31,
    "start_time": "2022-01-24T20:43:01.042Z"
   },
   {
    "duration": 5,
    "start_time": "2022-01-24T20:43:01.077Z"
   },
   {
    "duration": 64,
    "start_time": "2022-01-24T20:43:01.084Z"
   },
   {
    "duration": 39,
    "start_time": "2022-01-24T20:43:01.151Z"
   },
   {
    "duration": 31,
    "start_time": "2022-01-24T20:43:01.192Z"
   },
   {
    "duration": 82,
    "start_time": "2022-01-24T20:43:01.234Z"
   },
   {
    "duration": 114,
    "start_time": "2022-01-24T20:43:01.333Z"
   },
   {
    "duration": 3,
    "start_time": "2022-01-24T20:43:17.896Z"
   },
   {
    "duration": 207,
    "start_time": "2022-01-24T20:43:17.903Z"
   },
   {
    "duration": 21,
    "start_time": "2022-01-24T20:43:18.113Z"
   },
   {
    "duration": 34,
    "start_time": "2022-01-24T20:43:18.137Z"
   },
   {
    "duration": 6,
    "start_time": "2022-01-24T20:43:18.174Z"
   },
   {
    "duration": 51,
    "start_time": "2022-01-24T20:43:18.182Z"
   },
   {
    "duration": 7,
    "start_time": "2022-01-24T20:43:18.236Z"
   },
   {
    "duration": 36,
    "start_time": "2022-01-24T20:43:18.245Z"
   },
   {
    "duration": 58,
    "start_time": "2022-01-24T20:43:18.286Z"
   },
   {
    "duration": 33,
    "start_time": "2022-01-24T20:43:18.347Z"
   },
   {
    "duration": 112,
    "start_time": "2022-01-24T20:43:18.383Z"
   },
   {
    "duration": 118,
    "start_time": "2022-01-24T20:43:18.498Z"
   },
   {
    "duration": 91,
    "start_time": "2022-01-24T20:43:18.619Z"
   },
   {
    "duration": 4,
    "start_time": "2022-01-24T20:43:33.808Z"
   },
   {
    "duration": 197,
    "start_time": "2022-01-24T20:43:33.814Z"
   },
   {
    "duration": 33,
    "start_time": "2022-01-24T20:43:34.014Z"
   },
   {
    "duration": 37,
    "start_time": "2022-01-24T20:43:34.050Z"
   },
   {
    "duration": 7,
    "start_time": "2022-01-24T20:43:34.090Z"
   },
   {
    "duration": 45,
    "start_time": "2022-01-24T20:43:34.099Z"
   },
   {
    "duration": 6,
    "start_time": "2022-01-24T20:43:34.148Z"
   },
   {
    "duration": 34,
    "start_time": "2022-01-24T20:43:34.157Z"
   },
   {
    "duration": 47,
    "start_time": "2022-01-24T20:43:34.193Z"
   },
   {
    "duration": 47,
    "start_time": "2022-01-24T20:43:34.244Z"
   },
   {
    "duration": 115,
    "start_time": "2022-01-24T20:43:34.294Z"
   },
   {
    "duration": 100,
    "start_time": "2022-01-24T20:43:34.412Z"
   },
   {
    "duration": 131,
    "start_time": "2022-01-24T20:43:34.515Z"
   },
   {
    "duration": 17,
    "start_time": "2022-01-24T20:43:34.649Z"
   },
   {
    "duration": 80,
    "start_time": "2022-01-24T20:43:34.669Z"
   },
   {
    "duration": 931,
    "start_time": "2022-01-24T20:43:33.822Z"
   },
   {
    "duration": 924,
    "start_time": "2022-01-24T20:43:33.831Z"
   },
   {
    "duration": 921,
    "start_time": "2022-01-24T20:43:33.836Z"
   },
   {
    "duration": 915,
    "start_time": "2022-01-24T20:43:33.844Z"
   },
   {
    "duration": 913,
    "start_time": "2022-01-24T20:43:33.849Z"
   },
   {
    "duration": 907,
    "start_time": "2022-01-24T20:43:33.857Z"
   },
   {
    "duration": 904,
    "start_time": "2022-01-24T20:43:33.862Z"
   },
   {
    "duration": 889,
    "start_time": "2022-01-24T20:43:33.879Z"
   },
   {
    "duration": 874,
    "start_time": "2022-01-24T20:43:33.896Z"
   },
   {
    "duration": 871,
    "start_time": "2022-01-24T20:43:33.902Z"
   },
   {
    "duration": 866,
    "start_time": "2022-01-24T20:43:33.909Z"
   },
   {
    "duration": 863,
    "start_time": "2022-01-24T20:43:33.915Z"
   },
   {
    "duration": 859,
    "start_time": "2022-01-24T20:43:33.920Z"
   },
   {
    "duration": 853,
    "start_time": "2022-01-24T20:43:33.928Z"
   },
   {
    "duration": 849,
    "start_time": "2022-01-24T20:43:33.934Z"
   },
   {
    "duration": 841,
    "start_time": "2022-01-24T20:43:33.943Z"
   },
   {
    "duration": 838,
    "start_time": "2022-01-24T20:43:33.947Z"
   },
   {
    "duration": 833,
    "start_time": "2022-01-24T20:43:33.954Z"
   },
   {
    "duration": 827,
    "start_time": "2022-01-24T20:43:33.961Z"
   },
   {
    "duration": 823,
    "start_time": "2022-01-24T20:43:33.967Z"
   },
   {
    "duration": 815,
    "start_time": "2022-01-24T20:43:33.976Z"
   },
   {
    "duration": 811,
    "start_time": "2022-01-24T20:43:33.981Z"
   },
   {
    "duration": 806,
    "start_time": "2022-01-24T20:43:33.987Z"
   },
   {
    "duration": 4,
    "start_time": "2022-01-24T20:44:06.352Z"
   },
   {
    "duration": 218,
    "start_time": "2022-01-24T20:44:06.359Z"
   },
   {
    "duration": 15,
    "start_time": "2022-01-24T20:44:06.580Z"
   },
   {
    "duration": 57,
    "start_time": "2022-01-24T20:44:06.598Z"
   },
   {
    "duration": 5,
    "start_time": "2022-01-24T20:44:06.658Z"
   },
   {
    "duration": 24,
    "start_time": "2022-01-24T20:44:06.666Z"
   },
   {
    "duration": 37,
    "start_time": "2022-01-24T20:44:06.695Z"
   },
   {
    "duration": 35,
    "start_time": "2022-01-24T20:44:06.737Z"
   },
   {
    "duration": 23,
    "start_time": "2022-01-24T20:44:06.775Z"
   },
   {
    "duration": 32,
    "start_time": "2022-01-24T20:44:06.832Z"
   },
   {
    "duration": 106,
    "start_time": "2022-01-24T20:44:06.866Z"
   },
   {
    "duration": 119,
    "start_time": "2022-01-24T20:44:06.975Z"
   },
   {
    "duration": 140,
    "start_time": "2022-01-24T20:44:07.097Z"
   },
   {
    "duration": 16,
    "start_time": "2022-01-24T20:44:07.240Z"
   },
   {
    "duration": 96,
    "start_time": "2022-01-24T20:44:07.259Z"
   },
   {
    "duration": 944,
    "start_time": "2022-01-24T20:44:06.415Z"
   },
   {
    "duration": 940,
    "start_time": "2022-01-24T20:44:06.421Z"
   },
   {
    "duration": 937,
    "start_time": "2022-01-24T20:44:06.426Z"
   },
   {
    "duration": 934,
    "start_time": "2022-01-24T20:44:06.431Z"
   },
   {
    "duration": 917,
    "start_time": "2022-01-24T20:44:06.450Z"
   },
   {
    "duration": 910,
    "start_time": "2022-01-24T20:44:06.459Z"
   },
   {
    "duration": 907,
    "start_time": "2022-01-24T20:44:06.464Z"
   },
   {
    "duration": 899,
    "start_time": "2022-01-24T20:44:06.474Z"
   },
   {
    "duration": 895,
    "start_time": "2022-01-24T20:44:06.480Z"
   },
   {
    "duration": 880,
    "start_time": "2022-01-24T20:44:06.497Z"
   },
   {
    "duration": 877,
    "start_time": "2022-01-24T20:44:06.503Z"
   },
   {
    "duration": 871,
    "start_time": "2022-01-24T20:44:06.511Z"
   },
   {
    "duration": 867,
    "start_time": "2022-01-24T20:44:06.517Z"
   },
   {
    "duration": 861,
    "start_time": "2022-01-24T20:44:06.525Z"
   },
   {
    "duration": 858,
    "start_time": "2022-01-24T20:44:06.531Z"
   },
   {
    "duration": 850,
    "start_time": "2022-01-24T20:44:06.540Z"
   },
   {
    "duration": 848,
    "start_time": "2022-01-24T20:44:06.545Z"
   },
   {
    "duration": 844,
    "start_time": "2022-01-24T20:44:06.551Z"
   },
   {
    "duration": 837,
    "start_time": "2022-01-24T20:44:06.559Z"
   },
   {
    "duration": 833,
    "start_time": "2022-01-24T20:44:06.565Z"
   },
   {
    "duration": 858,
    "start_time": "2022-01-24T20:44:06.574Z"
   },
   {
    "duration": 856,
    "start_time": "2022-01-24T20:44:06.579Z"
   },
   {
    "duration": 852,
    "start_time": "2022-01-24T20:44:06.585Z"
   },
   {
    "duration": 4,
    "start_time": "2022-01-24T20:44:43.455Z"
   },
   {
    "duration": 204,
    "start_time": "2022-01-24T20:44:43.463Z"
   },
   {
    "duration": 16,
    "start_time": "2022-01-24T20:44:43.670Z"
   },
   {
    "duration": 57,
    "start_time": "2022-01-24T20:44:43.689Z"
   },
   {
    "duration": 5,
    "start_time": "2022-01-24T20:44:43.749Z"
   },
   {
    "duration": 25,
    "start_time": "2022-01-24T20:44:43.757Z"
   },
   {
    "duration": 6,
    "start_time": "2022-01-24T20:44:43.784Z"
   },
   {
    "duration": 67,
    "start_time": "2022-01-24T20:44:43.792Z"
   },
   {
    "duration": 29,
    "start_time": "2022-01-24T20:44:43.863Z"
   },
   {
    "duration": 65,
    "start_time": "2022-01-24T20:44:43.896Z"
   },
   {
    "duration": 103,
    "start_time": "2022-01-24T20:44:43.963Z"
   },
   {
    "duration": 98,
    "start_time": "2022-01-24T20:44:44.068Z"
   },
   {
    "duration": 82,
    "start_time": "2022-01-24T20:44:44.168Z"
   },
   {
    "duration": 9,
    "start_time": "2022-01-24T20:44:44.253Z"
   },
   {
    "duration": 78,
    "start_time": "2022-01-24T20:44:44.265Z"
   },
   {
    "duration": 948,
    "start_time": "2022-01-24T20:44:43.399Z"
   },
   {
    "duration": 942,
    "start_time": "2022-01-24T20:44:43.407Z"
   },
   {
    "duration": 938,
    "start_time": "2022-01-24T20:44:43.413Z"
   },
   {
    "duration": 934,
    "start_time": "2022-01-24T20:44:43.418Z"
   },
   {
    "duration": 928,
    "start_time": "2022-01-24T20:44:43.426Z"
   },
   {
    "duration": 924,
    "start_time": "2022-01-24T20:44:43.431Z"
   },
   {
    "duration": 917,
    "start_time": "2022-01-24T20:44:43.440Z"
   },
   {
    "duration": 914,
    "start_time": "2022-01-24T20:44:43.445Z"
   },
   {
    "duration": 897,
    "start_time": "2022-01-24T20:44:43.463Z"
   },
   {
    "duration": 894,
    "start_time": "2022-01-24T20:44:43.468Z"
   },
   {
    "duration": 886,
    "start_time": "2022-01-24T20:44:43.478Z"
   },
   {
    "duration": 872,
    "start_time": "2022-01-24T20:44:43.494Z"
   },
   {
    "duration": 869,
    "start_time": "2022-01-24T20:44:43.499Z"
   },
   {
    "duration": 862,
    "start_time": "2022-01-24T20:44:43.508Z"
   },
   {
    "duration": 859,
    "start_time": "2022-01-24T20:44:43.513Z"
   },
   {
    "duration": 855,
    "start_time": "2022-01-24T20:44:43.519Z"
   },
   {
    "duration": 847,
    "start_time": "2022-01-24T20:44:43.528Z"
   },
   {
    "duration": 835,
    "start_time": "2022-01-24T20:44:43.542Z"
   },
   {
    "duration": 831,
    "start_time": "2022-01-24T20:44:43.547Z"
   },
   {
    "duration": 827,
    "start_time": "2022-01-24T20:44:43.552Z"
   },
   {
    "duration": 819,
    "start_time": "2022-01-24T20:44:43.562Z"
   },
   {
    "duration": 816,
    "start_time": "2022-01-24T20:44:43.567Z"
   },
   {
    "duration": 808,
    "start_time": "2022-01-24T20:44:43.576Z"
   },
   {
    "duration": 4,
    "start_time": "2022-01-24T20:50:04.579Z"
   },
   {
    "duration": 216,
    "start_time": "2022-01-24T20:50:04.586Z"
   },
   {
    "duration": 29,
    "start_time": "2022-01-24T20:50:04.805Z"
   },
   {
    "duration": 35,
    "start_time": "2022-01-24T20:50:04.837Z"
   },
   {
    "duration": 5,
    "start_time": "2022-01-24T20:50:04.874Z"
   },
   {
    "duration": 23,
    "start_time": "2022-01-24T20:50:04.882Z"
   },
   {
    "duration": 5,
    "start_time": "2022-01-24T20:50:04.934Z"
   },
   {
    "duration": 36,
    "start_time": "2022-01-24T20:50:04.942Z"
   },
   {
    "duration": 30,
    "start_time": "2022-01-24T20:50:04.981Z"
   },
   {
    "duration": 49,
    "start_time": "2022-01-24T20:50:05.014Z"
   },
   {
    "duration": 110,
    "start_time": "2022-01-24T20:50:05.066Z"
   },
   {
    "duration": 99,
    "start_time": "2022-01-24T20:50:05.179Z"
   },
   {
    "duration": 89,
    "start_time": "2022-01-24T20:50:05.281Z"
   },
   {
    "duration": 12,
    "start_time": "2022-01-24T20:50:05.373Z"
   },
   {
    "duration": 86,
    "start_time": "2022-01-24T20:50:05.388Z"
   },
   {
    "duration": 954,
    "start_time": "2022-01-24T20:50:04.524Z"
   },
   {
    "duration": 949,
    "start_time": "2022-01-24T20:50:04.531Z"
   },
   {
    "duration": 942,
    "start_time": "2022-01-24T20:50:04.540Z"
   },
   {
    "duration": 938,
    "start_time": "2022-01-24T20:50:04.546Z"
   },
   {
    "duration": 930,
    "start_time": "2022-01-24T20:50:04.555Z"
   },
   {
    "duration": 926,
    "start_time": "2022-01-24T20:50:04.561Z"
   },
   {
    "duration": 919,
    "start_time": "2022-01-24T20:50:04.570Z"
   },
   {
    "duration": 915,
    "start_time": "2022-01-24T20:50:04.575Z"
   },
   {
    "duration": 910,
    "start_time": "2022-01-24T20:50:04.582Z"
   },
   {
    "duration": 886,
    "start_time": "2022-01-24T20:50:04.607Z"
   },
   {
    "duration": 882,
    "start_time": "2022-01-24T20:50:04.613Z"
   },
   {
    "duration": 875,
    "start_time": "2022-01-24T20:50:04.622Z"
   },
   {
    "duration": 871,
    "start_time": "2022-01-24T20:50:04.627Z"
   },
   {
    "duration": 867,
    "start_time": "2022-01-24T20:50:04.633Z"
   },
   {
    "duration": 860,
    "start_time": "2022-01-24T20:50:04.641Z"
   },
   {
    "duration": 856,
    "start_time": "2022-01-24T20:50:04.647Z"
   },
   {
    "duration": 850,
    "start_time": "2022-01-24T20:50:04.655Z"
   },
   {
    "duration": 845,
    "start_time": "2022-01-24T20:50:04.661Z"
   },
   {
    "duration": 842,
    "start_time": "2022-01-24T20:50:04.666Z"
   },
   {
    "duration": 833,
    "start_time": "2022-01-24T20:50:04.676Z"
   },
   {
    "duration": 830,
    "start_time": "2022-01-24T20:50:04.681Z"
   },
   {
    "duration": 818,
    "start_time": "2022-01-24T20:50:04.695Z"
   },
   {
    "duration": 811,
    "start_time": "2022-01-24T20:50:04.703Z"
   },
   {
    "duration": 4,
    "start_time": "2022-01-24T20:57:14.413Z"
   },
   {
    "duration": 198,
    "start_time": "2022-01-24T20:57:14.420Z"
   },
   {
    "duration": 21,
    "start_time": "2022-01-24T20:57:14.621Z"
   },
   {
    "duration": 35,
    "start_time": "2022-01-24T20:57:14.646Z"
   },
   {
    "duration": 7,
    "start_time": "2022-01-24T20:57:14.684Z"
   },
   {
    "duration": 51,
    "start_time": "2022-01-24T20:57:14.693Z"
   },
   {
    "duration": 5,
    "start_time": "2022-01-24T20:57:14.748Z"
   },
   {
    "duration": 31,
    "start_time": "2022-01-24T20:57:14.756Z"
   },
   {
    "duration": 52,
    "start_time": "2022-01-24T20:57:14.790Z"
   },
   {
    "duration": 31,
    "start_time": "2022-01-24T20:57:14.844Z"
   },
   {
    "duration": 109,
    "start_time": "2022-01-24T20:57:14.877Z"
   },
   {
    "duration": 101,
    "start_time": "2022-01-24T20:57:14.988Z"
   },
   {
    "duration": 89,
    "start_time": "2022-01-24T20:57:15.091Z"
   },
   {
    "duration": 9,
    "start_time": "2022-01-24T20:57:15.182Z"
   },
   {
    "duration": 4,
    "start_time": "2022-01-24T20:57:15.193Z"
   },
   {
    "duration": 4,
    "start_time": "2022-01-24T20:57:44.197Z"
   },
   {
    "duration": 202,
    "start_time": "2022-01-24T20:57:44.204Z"
   },
   {
    "duration": 25,
    "start_time": "2022-01-24T20:57:44.409Z"
   },
   {
    "duration": 35,
    "start_time": "2022-01-24T20:57:44.438Z"
   },
   {
    "duration": 7,
    "start_time": "2022-01-24T20:57:44.476Z"
   },
   {
    "duration": 53,
    "start_time": "2022-01-24T20:57:44.486Z"
   },
   {
    "duration": 6,
    "start_time": "2022-01-24T20:57:44.544Z"
   },
   {
    "duration": 46,
    "start_time": "2022-01-24T20:57:44.553Z"
   },
   {
    "duration": 56,
    "start_time": "2022-01-24T20:57:44.602Z"
   },
   {
    "duration": 43,
    "start_time": "2022-01-24T20:57:44.661Z"
   },
   {
    "duration": 112,
    "start_time": "2022-01-24T20:57:44.706Z"
   },
   {
    "duration": 118,
    "start_time": "2022-01-24T20:57:44.820Z"
   },
   {
    "duration": 93,
    "start_time": "2022-01-24T20:57:44.940Z"
   },
   {
    "duration": 10,
    "start_time": "2022-01-24T20:57:45.036Z"
   },
   {
    "duration": 3,
    "start_time": "2022-01-24T20:57:45.049Z"
   },
   {
    "duration": 6,
    "start_time": "2022-01-24T20:57:45.055Z"
   },
   {
    "duration": 4,
    "start_time": "2022-01-24T20:59:15.721Z"
   },
   {
    "duration": 4,
    "start_time": "2022-01-24T21:04:43.760Z"
   },
   {
    "duration": 306,
    "start_time": "2022-01-24T21:04:43.768Z"
   },
   {
    "duration": 23,
    "start_time": "2022-01-24T21:04:44.077Z"
   },
   {
    "duration": 54,
    "start_time": "2022-01-24T21:04:44.104Z"
   },
   {
    "duration": 6,
    "start_time": "2022-01-24T21:04:44.161Z"
   },
   {
    "duration": 20,
    "start_time": "2022-01-24T21:04:44.170Z"
   },
   {
    "duration": 36,
    "start_time": "2022-01-24T21:04:44.196Z"
   },
   {
    "duration": 34,
    "start_time": "2022-01-24T21:04:44.235Z"
   },
   {
    "duration": 30,
    "start_time": "2022-01-24T21:04:44.273Z"
   },
   {
    "duration": 71,
    "start_time": "2022-01-24T21:04:44.305Z"
   },
   {
    "duration": 112,
    "start_time": "2022-01-24T21:04:44.379Z"
   },
   {
    "duration": 111,
    "start_time": "2022-01-24T21:04:44.494Z"
   },
   {
    "duration": 89,
    "start_time": "2022-01-24T21:04:44.607Z"
   },
   {
    "duration": 10,
    "start_time": "2022-01-24T21:04:44.699Z"
   },
   {
    "duration": 25,
    "start_time": "2022-01-24T21:04:44.712Z"
   },
   {
    "duration": 279,
    "start_time": "2022-01-24T21:04:44.739Z"
   },
   {
    "duration": 939,
    "start_time": "2022-01-24T21:04:44.084Z"
   },
   {
    "duration": 933,
    "start_time": "2022-01-24T21:04:44.091Z"
   },
   {
    "duration": 926,
    "start_time": "2022-01-24T21:04:44.100Z"
   },
   {
    "duration": 922,
    "start_time": "2022-01-24T21:04:44.107Z"
   },
   {
    "duration": 916,
    "start_time": "2022-01-24T21:04:44.115Z"
   },
   {
    "duration": 913,
    "start_time": "2022-01-24T21:04:44.121Z"
   },
   {
    "duration": 907,
    "start_time": "2022-01-24T21:04:44.129Z"
   },
   {
    "duration": 903,
    "start_time": "2022-01-24T21:04:44.135Z"
   },
   {
    "duration": 900,
    "start_time": "2022-01-24T21:04:44.141Z"
   },
   {
    "duration": 893,
    "start_time": "2022-01-24T21:04:44.150Z"
   },
   {
    "duration": 889,
    "start_time": "2022-01-24T21:04:44.156Z"
   },
   {
    "duration": 883,
    "start_time": "2022-01-24T21:04:44.164Z"
   },
   {
    "duration": 879,
    "start_time": "2022-01-24T21:04:44.171Z"
   },
   {
    "duration": 872,
    "start_time": "2022-01-24T21:04:44.180Z"
   },
   {
    "duration": 863,
    "start_time": "2022-01-24T21:04:44.191Z"
   },
   {
    "duration": 857,
    "start_time": "2022-01-24T21:04:44.200Z"
   },
   {
    "duration": 854,
    "start_time": "2022-01-24T21:04:44.205Z"
   },
   {
    "duration": 846,
    "start_time": "2022-01-24T21:04:44.215Z"
   },
   {
    "duration": 845,
    "start_time": "2022-01-24T21:04:44.219Z"
   },
   {
    "duration": 837,
    "start_time": "2022-01-24T21:04:44.229Z"
   },
   {
    "duration": 835,
    "start_time": "2022-01-24T21:04:44.233Z"
   },
   {
    "duration": 819,
    "start_time": "2022-01-24T21:04:44.251Z"
   },
   {
    "duration": 6,
    "start_time": "2022-01-24T21:06:02.311Z"
   },
   {
    "duration": 243,
    "start_time": "2022-01-24T21:06:02.320Z"
   },
   {
    "duration": 17,
    "start_time": "2022-01-24T21:06:02.566Z"
   },
   {
    "duration": 54,
    "start_time": "2022-01-24T21:06:02.586Z"
   },
   {
    "duration": 137,
    "start_time": "2022-01-24T21:06:02.642Z"
   },
   {
    "duration": 22,
    "start_time": "2022-01-24T21:06:02.782Z"
   },
   {
    "duration": 5,
    "start_time": "2022-01-24T21:06:02.808Z"
   },
   {
    "duration": 34,
    "start_time": "2022-01-24T21:06:02.817Z"
   },
   {
    "duration": 44,
    "start_time": "2022-01-24T21:06:02.854Z"
   },
   {
    "duration": 34,
    "start_time": "2022-01-24T21:06:02.901Z"
   },
   {
    "duration": 146,
    "start_time": "2022-01-24T21:06:02.937Z"
   },
   {
    "duration": 114,
    "start_time": "2022-01-24T21:06:03.086Z"
   },
   {
    "duration": 95,
    "start_time": "2022-01-24T21:06:03.203Z"
   },
   {
    "duration": 12,
    "start_time": "2022-01-24T21:06:03.300Z"
   },
   {
    "duration": 10,
    "start_time": "2022-01-24T21:06:03.334Z"
   },
   {
    "duration": 275,
    "start_time": "2022-01-24T21:06:03.347Z"
   },
   {
    "duration": 923,
    "start_time": "2022-01-24T21:06:02.703Z"
   },
   {
    "duration": 910,
    "start_time": "2022-01-24T21:06:02.718Z"
   },
   {
    "duration": 906,
    "start_time": "2022-01-24T21:06:02.723Z"
   },
   {
    "duration": 899,
    "start_time": "2022-01-24T21:06:02.732Z"
   },
   {
    "duration": 896,
    "start_time": "2022-01-24T21:06:02.737Z"
   },
   {
    "duration": 890,
    "start_time": "2022-01-24T21:06:02.746Z"
   },
   {
    "duration": 886,
    "start_time": "2022-01-24T21:06:02.752Z"
   },
   {
    "duration": 879,
    "start_time": "2022-01-24T21:06:02.761Z"
   },
   {
    "duration": 875,
    "start_time": "2022-01-24T21:06:02.767Z"
   },
   {
    "duration": 872,
    "start_time": "2022-01-24T21:06:02.772Z"
   },
   {
    "duration": 865,
    "start_time": "2022-01-24T21:06:02.782Z"
   },
   {
    "duration": 863,
    "start_time": "2022-01-24T21:06:02.786Z"
   },
   {
    "duration": 854,
    "start_time": "2022-01-24T21:06:02.797Z"
   },
   {
    "duration": 851,
    "start_time": "2022-01-24T21:06:02.802Z"
   },
   {
    "duration": 846,
    "start_time": "2022-01-24T21:06:02.810Z"
   },
   {
    "duration": 842,
    "start_time": "2022-01-24T21:06:02.816Z"
   },
   {
    "duration": 839,
    "start_time": "2022-01-24T21:06:02.821Z"
   },
   {
    "duration": 832,
    "start_time": "2022-01-24T21:06:02.830Z"
   },
   {
    "duration": 817,
    "start_time": "2022-01-24T21:06:02.846Z"
   },
   {
    "duration": 813,
    "start_time": "2022-01-24T21:06:02.851Z"
   },
   {
    "duration": 808,
    "start_time": "2022-01-24T21:06:02.857Z"
   },
   {
    "duration": 801,
    "start_time": "2022-01-24T21:06:02.865Z"
   },
   {
    "duration": 4,
    "start_time": "2022-01-24T21:06:39.430Z"
   },
   {
    "duration": 312,
    "start_time": "2022-01-24T21:06:39.439Z"
   },
   {
    "duration": 17,
    "start_time": "2022-01-24T21:06:39.754Z"
   },
   {
    "duration": 59,
    "start_time": "2022-01-24T21:06:39.775Z"
   },
   {
    "duration": 7,
    "start_time": "2022-01-24T21:06:39.838Z"
   },
   {
    "duration": 21,
    "start_time": "2022-01-24T21:06:39.847Z"
   },
   {
    "duration": 6,
    "start_time": "2022-01-24T21:06:39.872Z"
   },
   {
    "duration": 83,
    "start_time": "2022-01-24T21:06:39.881Z"
   },
   {
    "duration": 33,
    "start_time": "2022-01-24T21:06:39.969Z"
   },
   {
    "duration": 74,
    "start_time": "2022-01-24T21:06:40.006Z"
   },
   {
    "duration": 138,
    "start_time": "2022-01-24T21:06:40.083Z"
   },
   {
    "duration": 114,
    "start_time": "2022-01-24T21:06:40.223Z"
   },
   {
    "duration": 98,
    "start_time": "2022-01-24T21:06:40.340Z"
   },
   {
    "duration": 10,
    "start_time": "2022-01-24T21:06:40.441Z"
   },
   {
    "duration": 4,
    "start_time": "2022-01-24T21:06:40.454Z"
   },
   {
    "duration": 265,
    "start_time": "2022-01-24T21:06:40.461Z"
   },
   {
    "duration": 935,
    "start_time": "2022-01-24T21:06:39.796Z"
   },
   {
    "duration": 931,
    "start_time": "2022-01-24T21:06:39.802Z"
   },
   {
    "duration": 924,
    "start_time": "2022-01-24T21:06:39.811Z"
   },
   {
    "duration": 921,
    "start_time": "2022-01-24T21:06:39.816Z"
   },
   {
    "duration": 917,
    "start_time": "2022-01-24T21:06:39.822Z"
   },
   {
    "duration": 912,
    "start_time": "2022-01-24T21:06:39.830Z"
   },
   {
    "duration": 909,
    "start_time": "2022-01-24T21:06:39.835Z"
   },
   {
    "duration": 902,
    "start_time": "2022-01-24T21:06:39.844Z"
   },
   {
    "duration": 898,
    "start_time": "2022-01-24T21:06:39.850Z"
   },
   {
    "duration": 895,
    "start_time": "2022-01-24T21:06:39.855Z"
   },
   {
    "duration": 887,
    "start_time": "2022-01-24T21:06:39.865Z"
   },
   {
    "duration": 884,
    "start_time": "2022-01-24T21:06:39.870Z"
   },
   {
    "duration": 877,
    "start_time": "2022-01-24T21:06:39.879Z"
   },
   {
    "duration": 873,
    "start_time": "2022-01-24T21:06:39.885Z"
   },
   {
    "duration": 866,
    "start_time": "2022-01-24T21:06:39.894Z"
   },
   {
    "duration": 862,
    "start_time": "2022-01-24T21:06:39.900Z"
   },
   {
    "duration": 859,
    "start_time": "2022-01-24T21:06:39.905Z"
   },
   {
    "duration": 852,
    "start_time": "2022-01-24T21:06:39.914Z"
   },
   {
    "duration": 849,
    "start_time": "2022-01-24T21:06:39.919Z"
   },
   {
    "duration": 838,
    "start_time": "2022-01-24T21:06:39.932Z"
   },
   {
    "duration": 835,
    "start_time": "2022-01-24T21:06:39.937Z"
   },
   {
    "duration": 828,
    "start_time": "2022-01-24T21:06:39.946Z"
   },
   {
    "duration": 10,
    "start_time": "2022-01-24T21:06:59.227Z"
   },
   {
    "duration": 4,
    "start_time": "2022-01-24T21:11:15.939Z"
   },
   {
    "duration": 220,
    "start_time": "2022-01-24T21:11:15.948Z"
   },
   {
    "duration": 16,
    "start_time": "2022-01-24T21:11:16.171Z"
   },
   {
    "duration": 59,
    "start_time": "2022-01-24T21:11:16.190Z"
   },
   {
    "duration": 10,
    "start_time": "2022-01-24T21:11:16.252Z"
   },
   {
    "duration": 19,
    "start_time": "2022-01-24T21:11:16.265Z"
   },
   {
    "duration": 7,
    "start_time": "2022-01-24T21:11:16.286Z"
   },
   {
    "duration": 65,
    "start_time": "2022-01-24T21:11:16.296Z"
   },
   {
    "duration": 36,
    "start_time": "2022-01-24T21:11:16.367Z"
   },
   {
    "duration": 73,
    "start_time": "2022-01-24T21:11:16.408Z"
   },
   {
    "duration": 143,
    "start_time": "2022-01-24T21:11:16.484Z"
   },
   {
    "duration": 151,
    "start_time": "2022-01-24T21:11:16.634Z"
   },
   {
    "duration": 138,
    "start_time": "2022-01-24T21:11:16.788Z"
   },
   {
    "duration": 14,
    "start_time": "2022-01-24T21:11:16.934Z"
   },
   {
    "duration": 5,
    "start_time": "2022-01-24T21:11:16.951Z"
   },
   {
    "duration": 239,
    "start_time": "2022-01-24T21:11:16.958Z"
   },
   {
    "duration": 938,
    "start_time": "2022-01-24T21:11:16.262Z"
   },
   {
    "duration": 933,
    "start_time": "2022-01-24T21:11:16.268Z"
   },
   {
    "duration": 925,
    "start_time": "2022-01-24T21:11:16.277Z"
   },
   {
    "duration": 920,
    "start_time": "2022-01-24T21:11:16.284Z"
   },
   {
    "duration": 912,
    "start_time": "2022-01-24T21:11:16.293Z"
   },
   {
    "duration": 908,
    "start_time": "2022-01-24T21:11:16.299Z"
   },
   {
    "duration": 901,
    "start_time": "2022-01-24T21:11:16.307Z"
   },
   {
    "duration": 896,
    "start_time": "2022-01-24T21:11:16.313Z"
   },
   {
    "duration": 892,
    "start_time": "2022-01-24T21:11:16.319Z"
   },
   {
    "duration": 883,
    "start_time": "2022-01-24T21:11:16.329Z"
   },
   {
    "duration": 879,
    "start_time": "2022-01-24T21:11:16.335Z"
   },
   {
    "duration": 871,
    "start_time": "2022-01-24T21:11:16.344Z"
   },
   {
    "duration": 868,
    "start_time": "2022-01-24T21:11:16.349Z"
   },
   {
    "duration": 860,
    "start_time": "2022-01-24T21:11:16.358Z"
   },
   {
    "duration": 855,
    "start_time": "2022-01-24T21:11:16.364Z"
   },
   {
    "duration": 851,
    "start_time": "2022-01-24T21:11:16.370Z"
   },
   {
    "duration": 843,
    "start_time": "2022-01-24T21:11:16.379Z"
   },
   {
    "duration": 839,
    "start_time": "2022-01-24T21:11:16.384Z"
   },
   {
    "duration": 830,
    "start_time": "2022-01-24T21:11:16.394Z"
   },
   {
    "duration": 827,
    "start_time": "2022-01-24T21:11:16.399Z"
   },
   {
    "duration": 819,
    "start_time": "2022-01-24T21:11:16.408Z"
   },
   {
    "duration": 815,
    "start_time": "2022-01-24T21:11:16.414Z"
   },
   {
    "duration": 4,
    "start_time": "2022-01-24T21:11:56.011Z"
   },
   {
    "duration": 325,
    "start_time": "2022-01-24T21:11:56.022Z"
   },
   {
    "duration": 25,
    "start_time": "2022-01-24T21:11:56.351Z"
   },
   {
    "duration": 54,
    "start_time": "2022-01-24T21:11:56.380Z"
   },
   {
    "duration": 5,
    "start_time": "2022-01-24T21:11:56.437Z"
   },
   {
    "duration": 21,
    "start_time": "2022-01-24T21:11:56.445Z"
   },
   {
    "duration": 6,
    "start_time": "2022-01-24T21:11:56.469Z"
   },
   {
    "duration": 85,
    "start_time": "2022-01-24T21:11:56.478Z"
   },
   {
    "duration": 32,
    "start_time": "2022-01-24T21:11:56.566Z"
   },
   {
    "duration": 65,
    "start_time": "2022-01-24T21:11:56.603Z"
   },
   {
    "duration": 140,
    "start_time": "2022-01-24T21:11:56.672Z"
   },
   {
    "duration": 156,
    "start_time": "2022-01-24T21:11:56.815Z"
   },
   {
    "duration": 129,
    "start_time": "2022-01-24T21:11:56.974Z"
   },
   {
    "duration": 13,
    "start_time": "2022-01-24T21:11:57.106Z"
   },
   {
    "duration": 5,
    "start_time": "2022-01-24T21:11:57.133Z"
   },
   {
    "duration": 246,
    "start_time": "2022-01-24T21:11:57.141Z"
   },
   {
    "duration": 933,
    "start_time": "2022-01-24T21:11:56.458Z"
   },
   {
    "duration": 930,
    "start_time": "2022-01-24T21:11:56.463Z"
   },
   {
    "duration": 925,
    "start_time": "2022-01-24T21:11:56.470Z"
   },
   {
    "duration": 919,
    "start_time": "2022-01-24T21:11:56.478Z"
   },
   {
    "duration": 914,
    "start_time": "2022-01-24T21:11:56.485Z"
   },
   {
    "duration": 908,
    "start_time": "2022-01-24T21:11:56.493Z"
   },
   {
    "duration": 903,
    "start_time": "2022-01-24T21:11:56.499Z"
   },
   {
    "duration": 895,
    "start_time": "2022-01-24T21:11:56.509Z"
   },
   {
    "duration": 891,
    "start_time": "2022-01-24T21:11:56.515Z"
   },
   {
    "duration": 884,
    "start_time": "2022-01-24T21:11:56.524Z"
   },
   {
    "duration": 881,
    "start_time": "2022-01-24T21:11:56.529Z"
   },
   {
    "duration": 877,
    "start_time": "2022-01-24T21:11:56.535Z"
   },
   {
    "duration": 871,
    "start_time": "2022-01-24T21:11:56.543Z"
   },
   {
    "duration": 866,
    "start_time": "2022-01-24T21:11:56.549Z"
   },
   {
    "duration": 861,
    "start_time": "2022-01-24T21:11:56.558Z"
   },
   {
    "duration": 857,
    "start_time": "2022-01-24T21:11:56.563Z"
   },
   {
    "duration": 852,
    "start_time": "2022-01-24T21:11:56.569Z"
   },
   {
    "duration": 845,
    "start_time": "2022-01-24T21:11:56.578Z"
   },
   {
    "duration": 839,
    "start_time": "2022-01-24T21:11:56.585Z"
   },
   {
    "duration": 833,
    "start_time": "2022-01-24T21:11:56.593Z"
   },
   {
    "duration": 829,
    "start_time": "2022-01-24T21:11:56.598Z"
   },
   {
    "duration": 825,
    "start_time": "2022-01-24T21:11:56.607Z"
   },
   {
    "duration": 3,
    "start_time": "2022-01-24T21:13:33.490Z"
   },
   {
    "duration": 201,
    "start_time": "2022-01-24T21:13:33.501Z"
   },
   {
    "duration": 44,
    "start_time": "2022-01-24T21:13:33.704Z"
   },
   {
    "duration": 54,
    "start_time": "2022-01-24T21:13:33.752Z"
   },
   {
    "duration": 27,
    "start_time": "2022-01-24T21:13:33.810Z"
   },
   {
    "duration": 19,
    "start_time": "2022-01-24T21:13:33.839Z"
   },
   {
    "duration": 7,
    "start_time": "2022-01-24T21:13:33.861Z"
   },
   {
    "duration": 75,
    "start_time": "2022-01-24T21:13:33.871Z"
   },
   {
    "duration": 23,
    "start_time": "2022-01-24T21:13:33.949Z"
   },
   {
    "duration": 36,
    "start_time": "2022-01-24T21:13:33.976Z"
   },
   {
    "duration": 83,
    "start_time": "2022-01-24T21:13:34.034Z"
   },
   {
    "duration": 100,
    "start_time": "2022-01-24T21:13:34.132Z"
   },
   {
    "duration": 80,
    "start_time": "2022-01-24T21:13:34.235Z"
   },
   {
    "duration": 26,
    "start_time": "2022-01-24T21:13:34.317Z"
   },
   {
    "duration": 5,
    "start_time": "2022-01-24T21:13:34.346Z"
   },
   {
    "duration": 256,
    "start_time": "2022-01-24T21:13:34.354Z"
   },
   {
    "duration": 930,
    "start_time": "2022-01-24T21:13:33.683Z"
   },
   {
    "duration": 920,
    "start_time": "2022-01-24T21:13:33.694Z"
   },
   {
    "duration": 915,
    "start_time": "2022-01-24T21:13:33.701Z"
   },
   {
    "duration": 907,
    "start_time": "2022-01-24T21:13:33.710Z"
   },
   {
    "duration": 903,
    "start_time": "2022-01-24T21:13:33.716Z"
   },
   {
    "duration": 894,
    "start_time": "2022-01-24T21:13:33.726Z"
   },
   {
    "duration": 890,
    "start_time": "2022-01-24T21:13:33.732Z"
   },
   {
    "duration": 881,
    "start_time": "2022-01-24T21:13:33.743Z"
   },
   {
    "duration": 877,
    "start_time": "2022-01-24T21:13:33.748Z"
   },
   {
    "duration": 868,
    "start_time": "2022-01-24T21:13:33.759Z"
   },
   {
    "duration": 865,
    "start_time": "2022-01-24T21:13:33.764Z"
   },
   {
    "duration": 855,
    "start_time": "2022-01-24T21:13:33.775Z"
   },
   {
    "duration": 851,
    "start_time": "2022-01-24T21:13:33.781Z"
   },
   {
    "duration": 843,
    "start_time": "2022-01-24T21:13:33.791Z"
   },
   {
    "duration": 838,
    "start_time": "2022-01-24T21:13:33.797Z"
   },
   {
    "duration": 828,
    "start_time": "2022-01-24T21:13:33.808Z"
   },
   {
    "duration": 825,
    "start_time": "2022-01-24T21:13:33.813Z"
   },
   {
    "duration": 820,
    "start_time": "2022-01-24T21:13:33.819Z"
   },
   {
    "duration": 813,
    "start_time": "2022-01-24T21:13:33.828Z"
   },
   {
    "duration": 808,
    "start_time": "2022-01-24T21:13:33.834Z"
   },
   {
    "duration": 800,
    "start_time": "2022-01-24T21:13:33.844Z"
   },
   {
    "duration": 797,
    "start_time": "2022-01-24T21:13:33.849Z"
   },
   {
    "duration": 3,
    "start_time": "2022-01-24T21:14:01.106Z"
   },
   {
    "duration": 259,
    "start_time": "2022-01-24T21:14:01.113Z"
   },
   {
    "duration": 16,
    "start_time": "2022-01-24T21:14:01.375Z"
   },
   {
    "duration": 72,
    "start_time": "2022-01-24T21:14:01.395Z"
   },
   {
    "duration": 9,
    "start_time": "2022-01-24T21:14:01.471Z"
   },
   {
    "duration": 20,
    "start_time": "2022-01-24T21:14:01.483Z"
   },
   {
    "duration": 5,
    "start_time": "2022-01-24T21:14:01.506Z"
   },
   {
    "duration": 34,
    "start_time": "2022-01-24T21:14:01.533Z"
   },
   {
    "duration": 23,
    "start_time": "2022-01-24T21:14:01.572Z"
   },
   {
    "duration": 58,
    "start_time": "2022-01-24T21:14:01.599Z"
   },
   {
    "duration": 109,
    "start_time": "2022-01-24T21:14:01.660Z"
   },
   {
    "duration": 110,
    "start_time": "2022-01-24T21:14:01.772Z"
   },
   {
    "duration": 103,
    "start_time": "2022-01-24T21:14:01.885Z"
   },
   {
    "duration": 11,
    "start_time": "2022-01-24T21:14:01.990Z"
   },
   {
    "duration": 29,
    "start_time": "2022-01-24T21:14:02.003Z"
   },
   {
    "duration": 260,
    "start_time": "2022-01-24T21:14:02.035Z"
   },
   {
    "duration": 938,
    "start_time": "2022-01-24T21:14:01.361Z"
   },
   {
    "duration": 931,
    "start_time": "2022-01-24T21:14:01.369Z"
   },
   {
    "duration": 924,
    "start_time": "2022-01-24T21:14:01.378Z"
   },
   {
    "duration": 920,
    "start_time": "2022-01-24T21:14:01.385Z"
   },
   {
    "duration": 914,
    "start_time": "2022-01-24T21:14:01.393Z"
   },
   {
    "duration": 910,
    "start_time": "2022-01-24T21:14:01.399Z"
   },
   {
    "duration": 903,
    "start_time": "2022-01-24T21:14:01.408Z"
   },
   {
    "duration": 898,
    "start_time": "2022-01-24T21:14:01.414Z"
   },
   {
    "duration": 891,
    "start_time": "2022-01-24T21:14:01.423Z"
   },
   {
    "duration": 888,
    "start_time": "2022-01-24T21:14:01.428Z"
   },
   {
    "duration": 883,
    "start_time": "2022-01-24T21:14:01.434Z"
   },
   {
    "duration": 877,
    "start_time": "2022-01-24T21:14:01.443Z"
   },
   {
    "duration": 874,
    "start_time": "2022-01-24T21:14:01.449Z"
   },
   {
    "duration": 868,
    "start_time": "2022-01-24T21:14:01.457Z"
   },
   {
    "duration": 863,
    "start_time": "2022-01-24T21:14:01.463Z"
   },
   {
    "duration": 859,
    "start_time": "2022-01-24T21:14:01.469Z"
   },
   {
    "duration": 850,
    "start_time": "2022-01-24T21:14:01.479Z"
   },
   {
    "duration": 846,
    "start_time": "2022-01-24T21:14:01.485Z"
   },
   {
    "duration": 839,
    "start_time": "2022-01-24T21:14:01.493Z"
   },
   {
    "duration": 835,
    "start_time": "2022-01-24T21:14:01.499Z"
   },
   {
    "duration": 826,
    "start_time": "2022-01-24T21:14:01.509Z"
   },
   {
    "duration": 821,
    "start_time": "2022-01-24T21:14:01.515Z"
   },
   {
    "duration": 3,
    "start_time": "2022-01-24T21:16:27.593Z"
   },
   {
    "duration": 199,
    "start_time": "2022-01-24T21:16:27.600Z"
   },
   {
    "duration": 39,
    "start_time": "2022-01-24T21:16:27.802Z"
   },
   {
    "duration": 33,
    "start_time": "2022-01-24T21:16:27.844Z"
   },
   {
    "duration": 6,
    "start_time": "2022-01-24T21:16:27.880Z"
   },
   {
    "duration": 50,
    "start_time": "2022-01-24T21:16:27.889Z"
   },
   {
    "duration": 5,
    "start_time": "2022-01-24T21:16:27.941Z"
   },
   {
    "duration": 35,
    "start_time": "2022-01-24T21:16:27.948Z"
   },
   {
    "duration": 45,
    "start_time": "2022-01-24T21:16:27.987Z"
   },
   {
    "duration": 42,
    "start_time": "2022-01-24T21:16:28.037Z"
   },
   {
    "duration": 101,
    "start_time": "2022-01-24T21:16:28.081Z"
   },
   {
    "duration": 105,
    "start_time": "2022-01-24T21:16:28.184Z"
   },
   {
    "duration": 88,
    "start_time": "2022-01-24T21:16:28.292Z"
   },
   {
    "duration": 9,
    "start_time": "2022-01-24T21:16:28.383Z"
   },
   {
    "duration": 5,
    "start_time": "2022-01-24T21:16:28.394Z"
   },
   {
    "duration": 255,
    "start_time": "2022-01-24T21:16:28.402Z"
   },
   {
    "duration": 926,
    "start_time": "2022-01-24T21:16:27.734Z"
   },
   {
    "duration": 919,
    "start_time": "2022-01-24T21:16:27.743Z"
   },
   {
    "duration": 914,
    "start_time": "2022-01-24T21:16:27.749Z"
   },
   {
    "duration": 906,
    "start_time": "2022-01-24T21:16:27.759Z"
   },
   {
    "duration": 902,
    "start_time": "2022-01-24T21:16:27.764Z"
   },
   {
    "duration": 893,
    "start_time": "2022-01-24T21:16:27.774Z"
   },
   {
    "duration": 887,
    "start_time": "2022-01-24T21:16:27.781Z"
   },
   {
    "duration": 879,
    "start_time": "2022-01-24T21:16:27.791Z"
   },
   {
    "duration": 872,
    "start_time": "2022-01-24T21:16:27.799Z"
   },
   {
    "duration": 866,
    "start_time": "2022-01-24T21:16:27.807Z"
   },
   {
    "duration": 861,
    "start_time": "2022-01-24T21:16:27.813Z"
   },
   {
    "duration": 853,
    "start_time": "2022-01-24T21:16:27.823Z"
   },
   {
    "duration": 848,
    "start_time": "2022-01-24T21:16:27.829Z"
   },
   {
    "duration": 835,
    "start_time": "2022-01-24T21:16:27.843Z"
   },
   {
    "duration": 829,
    "start_time": "2022-01-24T21:16:27.851Z"
   },
   {
    "duration": 822,
    "start_time": "2022-01-24T21:16:27.859Z"
   },
   {
    "duration": 815,
    "start_time": "2022-01-24T21:16:27.867Z"
   },
   {
    "duration": 807,
    "start_time": "2022-01-24T21:16:27.877Z"
   },
   {
    "duration": 801,
    "start_time": "2022-01-24T21:16:27.884Z"
   },
   {
    "duration": 793,
    "start_time": "2022-01-24T21:16:27.894Z"
   },
   {
    "duration": 788,
    "start_time": "2022-01-24T21:16:27.900Z"
   },
   {
    "duration": 780,
    "start_time": "2022-01-24T21:16:27.909Z"
   },
   {
    "duration": 691,
    "start_time": "2022-01-25T16:07:03.229Z"
   },
   {
    "duration": 159,
    "start_time": "2022-01-25T16:07:03.923Z"
   },
   {
    "duration": 25,
    "start_time": "2022-01-25T16:07:04.084Z"
   },
   {
    "duration": 28,
    "start_time": "2022-01-25T16:07:04.112Z"
   },
   {
    "duration": 7,
    "start_time": "2022-01-25T16:07:04.142Z"
   },
   {
    "duration": 23,
    "start_time": "2022-01-25T16:07:04.152Z"
   },
   {
    "duration": 30,
    "start_time": "2022-01-25T16:07:04.178Z"
   },
   {
    "duration": 28,
    "start_time": "2022-01-25T16:07:04.212Z"
   },
   {
    "duration": 29,
    "start_time": "2022-01-25T16:07:04.242Z"
   },
   {
    "duration": 47,
    "start_time": "2022-01-25T16:07:04.273Z"
   },
   {
    "duration": 86,
    "start_time": "2022-01-25T16:07:04.322Z"
   },
   {
    "duration": 78,
    "start_time": "2022-01-25T16:07:04.410Z"
   },
   {
    "duration": 74,
    "start_time": "2022-01-25T16:07:04.491Z"
   },
   {
    "duration": 8,
    "start_time": "2022-01-25T16:07:04.567Z"
   },
   {
    "duration": 5,
    "start_time": "2022-01-25T16:07:04.577Z"
   },
   {
    "duration": 325,
    "start_time": "2022-01-25T16:07:04.584Z"
   },
   {
    "duration": 3,
    "start_time": "2022-01-25T16:12:40.676Z"
   },
   {
    "duration": 169,
    "start_time": "2022-01-25T16:12:40.681Z"
   },
   {
    "duration": 12,
    "start_time": "2022-01-25T16:12:40.852Z"
   },
   {
    "duration": 41,
    "start_time": "2022-01-25T16:12:40.866Z"
   },
   {
    "duration": 5,
    "start_time": "2022-01-25T16:12:40.909Z"
   },
   {
    "duration": 20,
    "start_time": "2022-01-25T16:12:40.916Z"
   },
   {
    "duration": 4,
    "start_time": "2022-01-25T16:12:40.938Z"
   },
   {
    "duration": 28,
    "start_time": "2022-01-25T16:12:40.944Z"
   },
   {
    "duration": 45,
    "start_time": "2022-01-25T16:12:40.974Z"
   },
   {
    "duration": 24,
    "start_time": "2022-01-25T16:12:41.021Z"
   },
   {
    "duration": 75,
    "start_time": "2022-01-25T16:12:41.047Z"
   },
   {
    "duration": 69,
    "start_time": "2022-01-25T16:12:41.124Z"
   },
   {
    "duration": 67,
    "start_time": "2022-01-25T16:12:41.196Z"
   },
   {
    "duration": 8,
    "start_time": "2022-01-25T16:12:41.265Z"
   },
   {
    "duration": 9,
    "start_time": "2022-01-25T16:12:41.275Z"
   },
   {
    "duration": 27,
    "start_time": "2022-01-25T16:12:41.286Z"
   },
   {
    "duration": 3,
    "start_time": "2022-01-25T16:13:04.642Z"
   },
   {
    "duration": 168,
    "start_time": "2022-01-25T16:13:04.648Z"
   },
   {
    "duration": 11,
    "start_time": "2022-01-25T16:13:04.819Z"
   },
   {
    "duration": 28,
    "start_time": "2022-01-25T16:13:04.832Z"
   },
   {
    "duration": 6,
    "start_time": "2022-01-25T16:13:04.862Z"
   },
   {
    "duration": 43,
    "start_time": "2022-01-25T16:13:04.870Z"
   },
   {
    "duration": 11,
    "start_time": "2022-01-25T16:13:04.917Z"
   },
   {
    "duration": 29,
    "start_time": "2022-01-25T16:13:04.931Z"
   },
   {
    "duration": 21,
    "start_time": "2022-01-25T16:13:04.962Z"
   },
   {
    "duration": 27,
    "start_time": "2022-01-25T16:13:05.007Z"
   },
   {
    "duration": 79,
    "start_time": "2022-01-25T16:13:05.036Z"
   },
   {
    "duration": 69,
    "start_time": "2022-01-25T16:13:05.117Z"
   },
   {
    "duration": 71,
    "start_time": "2022-01-25T16:13:05.188Z"
   },
   {
    "duration": 8,
    "start_time": "2022-01-25T16:13:05.260Z"
   },
   {
    "duration": 3,
    "start_time": "2022-01-25T16:13:05.270Z"
   },
   {
    "duration": 34,
    "start_time": "2022-01-25T16:13:05.275Z"
   },
   {
    "duration": 9,
    "start_time": "2022-01-25T16:13:05.311Z"
   },
   {
    "duration": 6,
    "start_time": "2022-01-25T16:13:05.322Z"
   },
   {
    "duration": 9,
    "start_time": "2022-01-25T16:13:05.331Z"
   },
   {
    "duration": 8,
    "start_time": "2022-01-25T16:13:05.342Z"
   },
   {
    "duration": 15,
    "start_time": "2022-01-25T16:13:05.352Z"
   },
   {
    "duration": 9,
    "start_time": "2022-01-25T16:13:05.369Z"
   },
   {
    "duration": 15,
    "start_time": "2022-01-25T16:13:05.380Z"
   },
   {
    "duration": 13,
    "start_time": "2022-01-25T16:13:05.396Z"
   },
   {
    "duration": 13,
    "start_time": "2022-01-25T16:13:05.410Z"
   },
   {
    "duration": 14,
    "start_time": "2022-01-25T16:13:05.425Z"
   },
   {
    "duration": 69,
    "start_time": "2022-01-25T16:13:05.441Z"
   },
   {
    "duration": 12,
    "start_time": "2022-01-25T16:13:05.512Z"
   },
   {
    "duration": 10,
    "start_time": "2022-01-25T16:13:05.526Z"
   },
   {
    "duration": 10,
    "start_time": "2022-01-25T16:13:05.538Z"
   },
   {
    "duration": 12,
    "start_time": "2022-01-25T16:13:05.550Z"
   },
   {
    "duration": 10,
    "start_time": "2022-01-25T16:13:05.564Z"
   },
   {
    "duration": 25,
    "start_time": "2022-01-25T16:13:05.576Z"
   },
   {
    "duration": 8,
    "start_time": "2022-01-25T16:13:05.603Z"
   },
   {
    "duration": 11,
    "start_time": "2022-01-25T16:13:05.613Z"
   },
   {
    "duration": 8,
    "start_time": "2022-01-25T16:13:05.626Z"
   },
   {
    "duration": 7,
    "start_time": "2022-01-25T16:13:05.636Z"
   },
   {
    "duration": 8,
    "start_time": "2022-01-25T16:13:05.645Z"
   },
   {
    "duration": 8,
    "start_time": "2022-01-25T16:14:26.028Z"
   },
   {
    "duration": 37,
    "start_time": "2022-01-25T16:18:14.632Z"
   },
   {
    "duration": 271,
    "start_time": "2022-01-25T16:20:30.804Z"
   },
   {
    "duration": 36,
    "start_time": "2022-01-25T16:22:53.627Z"
   },
   {
    "duration": 131,
    "start_time": "2022-01-25T17:23:55.944Z"
   },
   {
    "duration": 3,
    "start_time": "2022-01-25T17:25:38.999Z"
   },
   {
    "duration": 4,
    "start_time": "2022-01-25T17:25:49.463Z"
   },
   {
    "duration": 4,
    "start_time": "2022-01-25T17:27:58.133Z"
   },
   {
    "duration": 4,
    "start_time": "2022-01-25T17:28:02.173Z"
   },
   {
    "duration": 274,
    "start_time": "2022-01-25T17:29:52.044Z"
   },
   {
    "duration": 11,
    "start_time": "2022-01-25T17:30:03.548Z"
   },
   {
    "duration": 4,
    "start_time": "2022-01-25T17:31:44.763Z"
   },
   {
    "duration": 5,
    "start_time": "2022-01-25T17:32:45.356Z"
   },
   {
    "duration": 4,
    "start_time": "2022-01-25T17:34:19.664Z"
   },
   {
    "duration": 268,
    "start_time": "2022-01-25T17:35:45.433Z"
   },
   {
    "duration": 6376,
    "start_time": "2022-01-25T17:35:57.360Z"
   },
   {
    "duration": 6559,
    "start_time": "2022-01-25T17:36:37.697Z"
   },
   {
    "duration": 364,
    "start_time": "2022-01-25T17:37:10.425Z"
   },
   {
    "duration": 240,
    "start_time": "2022-01-25T17:37:26.223Z"
   },
   {
    "duration": 8060,
    "start_time": "2022-01-25T17:38:00.495Z"
   },
   {
    "duration": 6139,
    "start_time": "2022-01-25T17:38:23.215Z"
   },
   {
    "duration": 3,
    "start_time": "2022-01-25T17:39:42.894Z"
   },
   {
    "duration": 507,
    "start_time": "2022-01-25T17:39:48.294Z"
   },
   {
    "duration": 4,
    "start_time": "2022-01-25T17:40:14.596Z"
   },
   {
    "duration": 18,
    "start_time": "2022-01-25T17:40:19.550Z"
   },
   {
    "duration": 19,
    "start_time": "2022-01-25T17:40:57.493Z"
   },
   {
    "duration": 17,
    "start_time": "2022-01-25T17:41:02.181Z"
   },
   {
    "duration": 4,
    "start_time": "2022-01-25T17:43:11.131Z"
   },
   {
    "duration": 177,
    "start_time": "2022-01-25T17:43:11.137Z"
   },
   {
    "duration": 12,
    "start_time": "2022-01-25T17:43:11.316Z"
   },
   {
    "duration": 47,
    "start_time": "2022-01-25T17:43:11.330Z"
   },
   {
    "duration": 7,
    "start_time": "2022-01-25T17:43:11.379Z"
   },
   {
    "duration": 17,
    "start_time": "2022-01-25T17:43:11.408Z"
   },
   {
    "duration": 5,
    "start_time": "2022-01-25T17:43:11.429Z"
   },
   {
    "duration": 31,
    "start_time": "2022-01-25T17:43:11.436Z"
   },
   {
    "duration": 45,
    "start_time": "2022-01-25T17:43:11.469Z"
   },
   {
    "duration": 25,
    "start_time": "2022-01-25T17:43:11.516Z"
   },
   {
    "duration": 77,
    "start_time": "2022-01-25T17:43:11.543Z"
   },
   {
    "duration": 68,
    "start_time": "2022-01-25T17:43:11.622Z"
   },
   {
    "duration": 69,
    "start_time": "2022-01-25T17:43:11.692Z"
   },
   {
    "duration": 7,
    "start_time": "2022-01-25T17:43:11.763Z"
   },
   {
    "duration": 7,
    "start_time": "2022-01-25T17:43:11.772Z"
   },
   {
    "duration": 28,
    "start_time": "2022-01-25T17:43:11.781Z"
   },
   {
    "duration": 7,
    "start_time": "2022-01-25T17:43:11.811Z"
   },
   {
    "duration": 43,
    "start_time": "2022-01-25T17:43:11.820Z"
   },
   {
    "duration": 84,
    "start_time": "2022-01-25T17:43:11.867Z"
   },
   {
    "duration": 6,
    "start_time": "2022-01-25T17:43:11.954Z"
   },
   {
    "duration": 29,
    "start_time": "2022-01-25T17:43:11.963Z"
   },
   {
    "duration": 26,
    "start_time": "2022-01-25T17:43:11.995Z"
   },
   {
    "duration": 17,
    "start_time": "2022-01-25T17:43:12.023Z"
   },
   {
    "duration": 18,
    "start_time": "2022-01-25T17:43:12.042Z"
   },
   {
    "duration": 56,
    "start_time": "2022-01-25T17:43:12.062Z"
   },
   {
    "duration": 24,
    "start_time": "2022-01-25T17:43:12.121Z"
   },
   {
    "duration": 12,
    "start_time": "2022-01-25T17:43:12.147Z"
   },
   {
    "duration": 21,
    "start_time": "2022-01-25T17:43:12.161Z"
   },
   {
    "duration": 20,
    "start_time": "2022-01-25T17:43:12.184Z"
   },
   {
    "duration": 17,
    "start_time": "2022-01-25T17:43:12.206Z"
   },
   {
    "duration": 26,
    "start_time": "2022-01-25T17:43:12.225Z"
   },
   {
    "duration": 10,
    "start_time": "2022-01-25T17:43:12.253Z"
   },
   {
    "duration": 25,
    "start_time": "2022-01-25T17:43:12.265Z"
   },
   {
    "duration": 19,
    "start_time": "2022-01-25T17:43:12.292Z"
   },
   {
    "duration": 11,
    "start_time": "2022-01-25T17:43:12.313Z"
   },
   {
    "duration": 15,
    "start_time": "2022-01-25T17:43:12.326Z"
   },
   {
    "duration": 10,
    "start_time": "2022-01-25T17:43:12.343Z"
   },
   {
    "duration": 4,
    "start_time": "2022-01-25T17:43:12.355Z"
   },
   {
    "duration": 82,
    "start_time": "2022-01-25T17:45:06.090Z"
   },
   {
    "duration": 74,
    "start_time": "2022-01-25T17:45:32.721Z"
   },
   {
    "duration": 77,
    "start_time": "2022-01-25T17:49:56.319Z"
   },
   {
    "duration": 75,
    "start_time": "2022-01-25T17:50:10.583Z"
   },
   {
    "duration": 75,
    "start_time": "2022-01-25T17:50:23.464Z"
   },
   {
    "duration": 91,
    "start_time": "2022-01-25T17:50:53.598Z"
   },
   {
    "duration": 6,
    "start_time": "2022-01-25T17:52:08.774Z"
   },
   {
    "duration": 3,
    "start_time": "2022-01-25T17:52:16.014Z"
   },
   {
    "duration": 165,
    "start_time": "2022-01-25T17:52:16.020Z"
   },
   {
    "duration": 29,
    "start_time": "2022-01-25T17:52:16.188Z"
   },
   {
    "duration": 50,
    "start_time": "2022-01-25T17:52:16.220Z"
   },
   {
    "duration": 15,
    "start_time": "2022-01-25T17:52:16.274Z"
   },
   {
    "duration": 27,
    "start_time": "2022-01-25T17:52:16.290Z"
   },
   {
    "duration": 12,
    "start_time": "2022-01-25T17:52:16.321Z"
   },
   {
    "duration": 48,
    "start_time": "2022-01-25T17:52:16.336Z"
   },
   {
    "duration": 34,
    "start_time": "2022-01-25T17:52:16.407Z"
   },
   {
    "duration": 49,
    "start_time": "2022-01-25T17:52:16.444Z"
   },
   {
    "duration": 101,
    "start_time": "2022-01-25T17:52:16.508Z"
   },
   {
    "duration": 117,
    "start_time": "2022-01-25T17:52:16.611Z"
   },
   {
    "duration": 93,
    "start_time": "2022-01-25T17:52:16.730Z"
   },
   {
    "duration": 10,
    "start_time": "2022-01-25T17:52:16.826Z"
   },
   {
    "duration": 12,
    "start_time": "2022-01-25T17:52:16.838Z"
   },
   {
    "duration": 18,
    "start_time": "2022-01-25T17:52:16.853Z"
   },
   {
    "duration": 27,
    "start_time": "2022-01-25T17:52:16.873Z"
   },
   {
    "duration": 67,
    "start_time": "2022-01-25T17:52:16.906Z"
   },
   {
    "duration": 41,
    "start_time": "2022-01-25T17:52:16.978Z"
   },
   {
    "duration": 4,
    "start_time": "2022-01-25T17:52:17.021Z"
   },
   {
    "duration": 77,
    "start_time": "2022-01-25T17:52:17.026Z"
   },
   {
    "duration": 38,
    "start_time": "2022-01-25T17:52:17.105Z"
   },
   {
    "duration": 35,
    "start_time": "2022-01-25T17:52:17.146Z"
   },
   {
    "duration": 54,
    "start_time": "2022-01-25T17:52:17.183Z"
   },
   {
    "duration": 53,
    "start_time": "2022-01-25T17:52:17.239Z"
   },
   {
    "duration": 39,
    "start_time": "2022-01-25T17:52:17.294Z"
   },
   {
    "duration": 10,
    "start_time": "2022-01-25T17:52:17.336Z"
   },
   {
    "duration": 28,
    "start_time": "2022-01-25T17:52:17.349Z"
   },
   {
    "duration": 14,
    "start_time": "2022-01-25T17:52:17.379Z"
   },
   {
    "duration": 11,
    "start_time": "2022-01-25T17:52:17.395Z"
   },
   {
    "duration": 31,
    "start_time": "2022-01-25T17:52:17.408Z"
   },
   {
    "duration": 15,
    "start_time": "2022-01-25T17:52:17.441Z"
   },
   {
    "duration": 33,
    "start_time": "2022-01-25T17:52:17.458Z"
   },
   {
    "duration": 21,
    "start_time": "2022-01-25T17:52:17.493Z"
   },
   {
    "duration": 24,
    "start_time": "2022-01-25T17:52:17.517Z"
   },
   {
    "duration": 9,
    "start_time": "2022-01-25T17:52:17.544Z"
   },
   {
    "duration": 17,
    "start_time": "2022-01-25T17:52:17.555Z"
   },
   {
    "duration": 18,
    "start_time": "2022-01-25T17:52:17.575Z"
   },
   {
    "duration": 5,
    "start_time": "2022-01-25T17:52:33.577Z"
   },
   {
    "duration": 8,
    "start_time": "2022-01-25T17:52:41.677Z"
   },
   {
    "duration": 4,
    "start_time": "2022-01-25T17:53:03.393Z"
   },
   {
    "duration": 3,
    "start_time": "2022-01-25T17:53:18.452Z"
   },
   {
    "duration": 245,
    "start_time": "2022-01-25T17:53:18.458Z"
   },
   {
    "duration": 15,
    "start_time": "2022-01-25T17:53:18.708Z"
   },
   {
    "duration": 56,
    "start_time": "2022-01-25T17:53:18.726Z"
   },
   {
    "duration": 22,
    "start_time": "2022-01-25T17:53:18.785Z"
   },
   {
    "duration": 14,
    "start_time": "2022-01-25T17:53:18.810Z"
   },
   {
    "duration": 6,
    "start_time": "2022-01-25T17:53:18.829Z"
   },
   {
    "duration": 48,
    "start_time": "2022-01-25T17:53:18.838Z"
   },
   {
    "duration": 30,
    "start_time": "2022-01-25T17:53:18.888Z"
   },
   {
    "duration": 37,
    "start_time": "2022-01-25T17:53:18.920Z"
   },
   {
    "duration": 74,
    "start_time": "2022-01-25T17:53:18.960Z"
   },
   {
    "duration": 80,
    "start_time": "2022-01-25T17:53:19.036Z"
   },
   {
    "duration": 64,
    "start_time": "2022-01-25T17:53:19.118Z"
   },
   {
    "duration": 25,
    "start_time": "2022-01-25T17:53:19.184Z"
   },
   {
    "duration": 4,
    "start_time": "2022-01-25T17:53:19.212Z"
   },
   {
    "duration": 23,
    "start_time": "2022-01-25T17:53:19.218Z"
   },
   {
    "duration": 21,
    "start_time": "2022-01-25T17:53:19.243Z"
   },
   {
    "duration": 75,
    "start_time": "2022-01-25T17:53:19.267Z"
   },
   {
    "duration": 51,
    "start_time": "2022-01-25T17:53:19.347Z"
   },
   {
    "duration": 6,
    "start_time": "2022-01-25T17:53:19.408Z"
   },
   {
    "duration": 31,
    "start_time": "2022-01-25T17:53:19.416Z"
   },
   {
    "duration": 19,
    "start_time": "2022-01-25T17:53:19.449Z"
   },
   {
    "duration": 45,
    "start_time": "2022-01-25T17:53:19.471Z"
   },
   {
    "duration": 18,
    "start_time": "2022-01-25T17:53:19.520Z"
   },
   {
    "duration": 29,
    "start_time": "2022-01-25T17:53:19.541Z"
   },
   {
    "duration": 43,
    "start_time": "2022-01-25T17:53:19.572Z"
   },
   {
    "duration": 5,
    "start_time": "2022-01-25T17:53:19.617Z"
   },
   {
    "duration": 6,
    "start_time": "2022-01-25T17:53:19.624Z"
   },
   {
    "duration": 9,
    "start_time": "2022-01-25T17:53:19.632Z"
   },
   {
    "duration": 13,
    "start_time": "2022-01-25T17:53:19.644Z"
   },
   {
    "duration": 14,
    "start_time": "2022-01-25T17:53:19.660Z"
   },
   {
    "duration": 8,
    "start_time": "2022-01-25T17:53:19.677Z"
   },
   {
    "duration": 19,
    "start_time": "2022-01-25T17:53:19.688Z"
   },
   {
    "duration": 10,
    "start_time": "2022-01-25T17:53:19.709Z"
   },
   {
    "duration": 10,
    "start_time": "2022-01-25T17:53:19.721Z"
   },
   {
    "duration": 17,
    "start_time": "2022-01-25T17:53:19.734Z"
   },
   {
    "duration": 19,
    "start_time": "2022-01-25T17:53:19.753Z"
   },
   {
    "duration": 13,
    "start_time": "2022-01-25T17:53:19.775Z"
   },
   {
    "duration": 277,
    "start_time": "2022-01-25T17:55:35.909Z"
   },
   {
    "duration": 280,
    "start_time": "2022-01-25T17:55:53.428Z"
   },
   {
    "duration": 231,
    "start_time": "2022-01-25T17:56:09.331Z"
   },
   {
    "duration": 13,
    "start_time": "2022-01-25T17:56:26.164Z"
   },
   {
    "duration": 12,
    "start_time": "2022-01-25T17:56:52.170Z"
   },
   {
    "duration": 3,
    "start_time": "2022-01-25T17:56:59.901Z"
   },
   {
    "duration": 216,
    "start_time": "2022-01-25T17:56:59.906Z"
   },
   {
    "duration": 13,
    "start_time": "2022-01-25T17:57:00.124Z"
   },
   {
    "duration": 34,
    "start_time": "2022-01-25T17:57:00.139Z"
   },
   {
    "duration": 21,
    "start_time": "2022-01-25T17:57:00.175Z"
   },
   {
    "duration": 32,
    "start_time": "2022-01-25T17:57:00.198Z"
   },
   {
    "duration": 7,
    "start_time": "2022-01-25T17:57:00.233Z"
   },
   {
    "duration": 35,
    "start_time": "2022-01-25T17:57:00.242Z"
   },
   {
    "duration": 32,
    "start_time": "2022-01-25T17:57:00.279Z"
   },
   {
    "duration": 61,
    "start_time": "2022-01-25T17:57:00.313Z"
   },
   {
    "duration": 81,
    "start_time": "2022-01-25T17:57:00.377Z"
   },
   {
    "duration": 77,
    "start_time": "2022-01-25T17:57:00.460Z"
   },
   {
    "duration": 69,
    "start_time": "2022-01-25T17:57:00.539Z"
   },
   {
    "duration": 8,
    "start_time": "2022-01-25T17:57:00.610Z"
   },
   {
    "duration": 30,
    "start_time": "2022-01-25T17:57:00.619Z"
   },
   {
    "duration": 29,
    "start_time": "2022-01-25T17:57:00.651Z"
   },
   {
    "duration": 22,
    "start_time": "2022-01-25T17:57:00.682Z"
   },
   {
    "duration": 49,
    "start_time": "2022-01-25T17:57:00.706Z"
   },
   {
    "duration": 60,
    "start_time": "2022-01-25T17:57:00.758Z"
   },
   {
    "duration": 5,
    "start_time": "2022-01-25T17:57:00.821Z"
   },
   {
    "duration": 68,
    "start_time": "2022-01-25T17:57:00.828Z"
   },
   {
    "duration": 30,
    "start_time": "2022-01-25T17:57:00.899Z"
   },
   {
    "duration": 26,
    "start_time": "2022-01-25T17:57:00.932Z"
   },
   {
    "duration": 39,
    "start_time": "2022-01-25T17:57:00.961Z"
   },
   {
    "duration": 29,
    "start_time": "2022-01-25T17:57:01.002Z"
   },
   {
    "duration": 26,
    "start_time": "2022-01-25T17:57:01.033Z"
   },
   {
    "duration": 24,
    "start_time": "2022-01-25T17:57:01.061Z"
   },
   {
    "duration": 40,
    "start_time": "2022-01-25T17:57:01.087Z"
   },
   {
    "duration": 18,
    "start_time": "2022-01-25T17:57:01.129Z"
   },
   {
    "duration": 16,
    "start_time": "2022-01-25T17:57:01.149Z"
   },
   {
    "duration": 31,
    "start_time": "2022-01-25T17:57:01.167Z"
   },
   {
    "duration": 17,
    "start_time": "2022-01-25T17:57:01.201Z"
   },
   {
    "duration": 23,
    "start_time": "2022-01-25T17:57:01.220Z"
   },
   {
    "duration": 15,
    "start_time": "2022-01-25T17:57:01.245Z"
   },
   {
    "duration": 30,
    "start_time": "2022-01-25T17:57:01.263Z"
   },
   {
    "duration": 18,
    "start_time": "2022-01-25T17:57:01.296Z"
   },
   {
    "duration": 33,
    "start_time": "2022-01-25T17:57:01.316Z"
   },
   {
    "duration": 42,
    "start_time": "2022-01-25T17:57:01.351Z"
   },
   {
    "duration": 38,
    "start_time": "2022-01-25T17:57:21.007Z"
   },
   {
    "duration": 37,
    "start_time": "2022-01-25T17:57:22.775Z"
   },
   {
    "duration": 6,
    "start_time": "2022-01-25T18:05:31.772Z"
   },
   {
    "duration": 5,
    "start_time": "2022-01-25T18:05:43.955Z"
   },
   {
    "duration": 4,
    "start_time": "2022-01-25T18:14:53.709Z"
   },
   {
    "duration": 6,
    "start_time": "2022-01-25T18:15:39.038Z"
   },
   {
    "duration": 6,
    "start_time": "2022-01-25T18:15:41.538Z"
   },
   {
    "duration": 12,
    "start_time": "2022-01-25T18:16:41.353Z"
   },
   {
    "duration": 6,
    "start_time": "2022-01-25T18:17:26.931Z"
   },
   {
    "duration": 4,
    "start_time": "2022-01-25T18:28:28.475Z"
   },
   {
    "duration": 5,
    "start_time": "2022-01-25T18:30:35.713Z"
   },
   {
    "duration": 5,
    "start_time": "2022-01-25T18:31:02.017Z"
   },
   {
    "duration": 3,
    "start_time": "2022-01-25T18:31:05.489Z"
   },
   {
    "duration": 184,
    "start_time": "2022-01-25T18:31:05.494Z"
   },
   {
    "duration": 12,
    "start_time": "2022-01-25T18:31:05.681Z"
   },
   {
    "duration": 44,
    "start_time": "2022-01-25T18:31:05.695Z"
   },
   {
    "duration": 9,
    "start_time": "2022-01-25T18:31:05.741Z"
   },
   {
    "duration": 23,
    "start_time": "2022-01-25T18:31:05.752Z"
   },
   {
    "duration": 4,
    "start_time": "2022-01-25T18:31:05.778Z"
   },
   {
    "duration": 48,
    "start_time": "2022-01-25T18:31:05.784Z"
   },
   {
    "duration": 20,
    "start_time": "2022-01-25T18:31:05.834Z"
   },
   {
    "duration": 49,
    "start_time": "2022-01-25T18:31:05.856Z"
   },
   {
    "duration": 74,
    "start_time": "2022-01-25T18:31:05.907Z"
   },
   {
    "duration": 79,
    "start_time": "2022-01-25T18:31:05.984Z"
   },
   {
    "duration": 63,
    "start_time": "2022-01-25T18:31:06.065Z"
   },
   {
    "duration": 8,
    "start_time": "2022-01-25T18:31:06.130Z"
   },
   {
    "duration": 9,
    "start_time": "2022-01-25T18:31:06.140Z"
   },
   {
    "duration": 11,
    "start_time": "2022-01-25T18:31:06.151Z"
   },
   {
    "duration": 12,
    "start_time": "2022-01-25T18:31:06.163Z"
   },
   {
    "duration": 57,
    "start_time": "2022-01-25T18:31:06.177Z"
   },
   {
    "duration": 34,
    "start_time": "2022-01-25T18:31:06.238Z"
   },
   {
    "duration": 3,
    "start_time": "2022-01-25T18:31:06.275Z"
   },
   {
    "duration": 48,
    "start_time": "2022-01-25T18:31:06.280Z"
   },
   {
    "duration": 22,
    "start_time": "2022-01-25T18:31:06.330Z"
   },
   {
    "duration": 22,
    "start_time": "2022-01-25T18:31:06.354Z"
   },
   {
    "duration": 36,
    "start_time": "2022-01-25T18:31:06.378Z"
   },
   {
    "duration": 24,
    "start_time": "2022-01-25T18:31:06.416Z"
   },
   {
    "duration": 21,
    "start_time": "2022-01-25T18:31:06.442Z"
   },
   {
    "duration": 6,
    "start_time": "2022-01-25T18:31:06.465Z"
   },
   {
    "duration": 25,
    "start_time": "2022-01-25T18:31:06.473Z"
   },
   {
    "duration": 11,
    "start_time": "2022-01-25T18:31:06.508Z"
   },
   {
    "duration": 4,
    "start_time": "2022-01-25T18:31:06.521Z"
   },
   {
    "duration": 10,
    "start_time": "2022-01-25T18:31:06.527Z"
   },
   {
    "duration": 7,
    "start_time": "2022-01-25T18:31:06.539Z"
   },
   {
    "duration": 7,
    "start_time": "2022-01-25T18:31:06.548Z"
   },
   {
    "duration": 12,
    "start_time": "2022-01-25T18:31:06.557Z"
   },
   {
    "duration": 9,
    "start_time": "2022-01-25T18:31:06.571Z"
   },
   {
    "duration": 9,
    "start_time": "2022-01-25T18:31:06.582Z"
   },
   {
    "duration": 14,
    "start_time": "2022-01-25T18:31:06.593Z"
   },
   {
    "duration": 9,
    "start_time": "2022-01-25T18:31:06.609Z"
   },
   {
    "duration": 6,
    "start_time": "2022-01-25T18:32:01.832Z"
   },
   {
    "duration": 3,
    "start_time": "2022-01-25T18:32:04.738Z"
   },
   {
    "duration": 201,
    "start_time": "2022-01-25T18:32:04.744Z"
   },
   {
    "duration": 13,
    "start_time": "2022-01-25T18:32:04.948Z"
   },
   {
    "duration": 30,
    "start_time": "2022-01-25T18:32:04.963Z"
   },
   {
    "duration": 15,
    "start_time": "2022-01-25T18:32:04.995Z"
   },
   {
    "duration": 23,
    "start_time": "2022-01-25T18:32:05.012Z"
   },
   {
    "duration": 5,
    "start_time": "2022-01-25T18:32:05.039Z"
   },
   {
    "duration": 30,
    "start_time": "2022-01-25T18:32:05.046Z"
   },
   {
    "duration": 53,
    "start_time": "2022-01-25T18:32:05.078Z"
   },
   {
    "duration": 36,
    "start_time": "2022-01-25T18:32:05.133Z"
   },
   {
    "duration": 98,
    "start_time": "2022-01-25T18:32:05.171Z"
   },
   {
    "duration": 86,
    "start_time": "2022-01-25T18:32:05.271Z"
   },
   {
    "duration": 74,
    "start_time": "2022-01-25T18:32:05.359Z"
   },
   {
    "duration": 8,
    "start_time": "2022-01-25T18:32:05.435Z"
   },
   {
    "duration": 21,
    "start_time": "2022-01-25T18:32:05.444Z"
   },
   {
    "duration": 34,
    "start_time": "2022-01-25T18:32:05.467Z"
   },
   {
    "duration": 26,
    "start_time": "2022-01-25T18:32:05.503Z"
   },
   {
    "duration": 50,
    "start_time": "2022-01-25T18:32:05.531Z"
   },
   {
    "duration": 34,
    "start_time": "2022-01-25T18:32:05.584Z"
   },
   {
    "duration": 3,
    "start_time": "2022-01-25T18:32:05.620Z"
   },
   {
    "duration": 29,
    "start_time": "2022-01-25T18:32:05.625Z"
   },
   {
    "duration": 36,
    "start_time": "2022-01-25T18:32:05.656Z"
   },
   {
    "duration": 16,
    "start_time": "2022-01-25T18:32:05.694Z"
   },
   {
    "duration": 22,
    "start_time": "2022-01-25T18:32:05.712Z"
   },
   {
    "duration": 20,
    "start_time": "2022-01-25T18:32:05.736Z"
   },
   {
    "duration": 17,
    "start_time": "2022-01-25T18:32:05.759Z"
   },
   {
    "duration": 5,
    "start_time": "2022-01-25T18:32:05.806Z"
   },
   {
    "duration": 31,
    "start_time": "2022-01-25T18:32:05.813Z"
   },
   {
    "duration": 24,
    "start_time": "2022-01-25T18:32:05.846Z"
   },
   {
    "duration": 13,
    "start_time": "2022-01-25T18:32:05.872Z"
   },
   {
    "duration": 26,
    "start_time": "2022-01-25T18:32:05.887Z"
   },
   {
    "duration": 9,
    "start_time": "2022-01-25T18:32:05.916Z"
   },
   {
    "duration": 8,
    "start_time": "2022-01-25T18:32:05.928Z"
   },
   {
    "duration": 8,
    "start_time": "2022-01-25T18:32:05.939Z"
   },
   {
    "duration": 11,
    "start_time": "2022-01-25T18:32:05.949Z"
   },
   {
    "duration": 9,
    "start_time": "2022-01-25T18:32:05.962Z"
   },
   {
    "duration": 14,
    "start_time": "2022-01-25T18:32:05.973Z"
   },
   {
    "duration": 8,
    "start_time": "2022-01-25T18:32:05.989Z"
   },
   {
    "duration": 5,
    "start_time": "2022-01-25T18:33:05.068Z"
   },
   {
    "duration": 4,
    "start_time": "2022-01-25T18:36:37.669Z"
   },
   {
    "duration": 4,
    "start_time": "2022-01-25T18:37:19.951Z"
   },
   {
    "duration": 201,
    "start_time": "2022-01-25T18:37:19.957Z"
   },
   {
    "duration": 12,
    "start_time": "2022-01-25T18:37:20.161Z"
   },
   {
    "duration": 37,
    "start_time": "2022-01-25T18:37:20.176Z"
   },
   {
    "duration": 6,
    "start_time": "2022-01-25T18:37:20.216Z"
   },
   {
    "duration": 31,
    "start_time": "2022-01-25T18:37:20.224Z"
   },
   {
    "duration": 4,
    "start_time": "2022-01-25T18:37:20.258Z"
   },
   {
    "duration": 43,
    "start_time": "2022-01-25T18:37:20.265Z"
   },
   {
    "duration": 27,
    "start_time": "2022-01-25T18:37:20.311Z"
   },
   {
    "duration": 32,
    "start_time": "2022-01-25T18:37:20.340Z"
   },
   {
    "duration": 78,
    "start_time": "2022-01-25T18:37:20.375Z"
   },
   {
    "duration": 84,
    "start_time": "2022-01-25T18:37:20.454Z"
   },
   {
    "duration": 67,
    "start_time": "2022-01-25T18:37:20.540Z"
   },
   {
    "duration": 8,
    "start_time": "2022-01-25T18:37:20.609Z"
   },
   {
    "duration": 8,
    "start_time": "2022-01-25T18:37:20.619Z"
   },
   {
    "duration": 14,
    "start_time": "2022-01-25T18:37:20.629Z"
   },
   {
    "duration": 13,
    "start_time": "2022-01-25T18:37:20.645Z"
   },
   {
    "duration": 62,
    "start_time": "2022-01-25T18:37:20.660Z"
   },
   {
    "duration": 37,
    "start_time": "2022-01-25T18:37:20.725Z"
   },
   {
    "duration": 4,
    "start_time": "2022-01-25T18:37:20.765Z"
   },
   {
    "duration": 41,
    "start_time": "2022-01-25T18:37:20.772Z"
   },
   {
    "duration": 15,
    "start_time": "2022-01-25T18:37:20.815Z"
   },
   {
    "duration": 39,
    "start_time": "2022-01-25T18:37:20.832Z"
   },
   {
    "duration": 36,
    "start_time": "2022-01-25T18:37:20.873Z"
   },
   {
    "duration": 34,
    "start_time": "2022-01-25T18:37:20.911Z"
   },
   {
    "duration": 48,
    "start_time": "2022-01-25T18:37:20.948Z"
   },
   {
    "duration": 5,
    "start_time": "2022-01-25T18:37:20.999Z"
   },
   {
    "duration": 23,
    "start_time": "2022-01-25T18:37:21.007Z"
   },
   {
    "duration": 16,
    "start_time": "2022-01-25T18:37:21.033Z"
   },
   {
    "duration": 6,
    "start_time": "2022-01-25T18:37:21.052Z"
   },
   {
    "duration": 262,
    "start_time": "2022-01-25T18:37:21.060Z"
   },
   {
    "duration": 2265,
    "start_time": "2022-01-25T18:37:19.060Z"
   },
   {
    "duration": 2254,
    "start_time": "2022-01-25T18:37:19.073Z"
   },
   {
    "duration": 2241,
    "start_time": "2022-01-25T18:37:19.087Z"
   },
   {
    "duration": 2234,
    "start_time": "2022-01-25T18:37:19.095Z"
   },
   {
    "duration": 2223,
    "start_time": "2022-01-25T18:37:19.108Z"
   },
   {
    "duration": 2212,
    "start_time": "2022-01-25T18:37:19.121Z"
   },
   {
    "duration": 2208,
    "start_time": "2022-01-25T18:37:19.126Z"
   },
   {
    "duration": 872,
    "start_time": "2022-01-25T18:37:59.045Z"
   },
   {
    "duration": 497,
    "start_time": "2022-01-25T18:40:28.452Z"
   },
   {
    "duration": 243,
    "start_time": "2022-01-25T18:40:37.915Z"
   },
   {
    "duration": 6,
    "start_time": "2022-01-25T18:46:41.534Z"
   },
   {
    "duration": 10,
    "start_time": "2022-01-25T18:47:26.286Z"
   },
   {
    "duration": 4,
    "start_time": "2022-01-25T18:49:39.133Z"
   },
   {
    "duration": 592,
    "start_time": "2022-01-25T18:49:51.160Z"
   },
   {
    "duration": 5,
    "start_time": "2022-01-25T18:50:48.163Z"
   },
   {
    "duration": 815,
    "start_time": "2022-01-25T18:50:54.381Z"
   },
   {
    "duration": 4,
    "start_time": "2022-01-25T18:51:50.891Z"
   },
   {
    "duration": 537,
    "start_time": "2022-01-25T18:51:53.443Z"
   },
   {
    "duration": 6,
    "start_time": "2022-01-25T18:52:21.059Z"
   },
   {
    "duration": 755,
    "start_time": "2022-01-25T18:52:23.107Z"
   },
   {
    "duration": 5,
    "start_time": "2022-01-25T18:52:37.491Z"
   },
   {
    "duration": 48,
    "start_time": "2022-01-25T18:52:39.995Z"
   },
   {
    "duration": 7,
    "start_time": "2022-01-25T18:52:51.915Z"
   },
   {
    "duration": 35,
    "start_time": "2022-01-25T18:52:54.570Z"
   },
   {
    "duration": 22,
    "start_time": "2022-01-25T18:54:03.474Z"
   },
   {
    "duration": 13,
    "start_time": "2022-01-25T18:54:11.481Z"
   },
   {
    "duration": 13,
    "start_time": "2022-01-25T18:54:14.730Z"
   },
   {
    "duration": 36,
    "start_time": "2022-01-25T18:54:52.865Z"
   },
   {
    "duration": 22,
    "start_time": "2022-01-25T18:55:22.985Z"
   },
   {
    "duration": 8,
    "start_time": "2022-01-25T18:58:49.916Z"
   },
   {
    "duration": 9,
    "start_time": "2022-01-25T18:58:57.694Z"
   },
   {
    "duration": 3,
    "start_time": "2022-01-25T19:00:50.765Z"
   },
   {
    "duration": 10,
    "start_time": "2022-01-25T19:01:25.989Z"
   },
   {
    "duration": 11,
    "start_time": "2022-01-25T19:01:29.013Z"
   },
   {
    "duration": 7,
    "start_time": "2022-01-25T19:01:33.973Z"
   },
   {
    "duration": 4,
    "start_time": "2022-01-25T19:01:39.615Z"
   },
   {
    "duration": 194,
    "start_time": "2022-01-25T19:01:39.622Z"
   },
   {
    "duration": 14,
    "start_time": "2022-01-25T19:01:39.819Z"
   },
   {
    "duration": 34,
    "start_time": "2022-01-25T19:01:39.835Z"
   },
   {
    "duration": 7,
    "start_time": "2022-01-25T19:01:39.871Z"
   },
   {
    "duration": 40,
    "start_time": "2022-01-25T19:01:39.880Z"
   },
   {
    "duration": 6,
    "start_time": "2022-01-25T19:01:39.923Z"
   },
   {
    "duration": 29,
    "start_time": "2022-01-25T19:01:39.932Z"
   },
   {
    "duration": 43,
    "start_time": "2022-01-25T19:01:39.964Z"
   },
   {
    "duration": 27,
    "start_time": "2022-01-25T19:01:40.010Z"
   },
   {
    "duration": 83,
    "start_time": "2022-01-25T19:01:40.040Z"
   },
   {
    "duration": 66,
    "start_time": "2022-01-25T19:01:40.124Z"
   },
   {
    "duration": 70,
    "start_time": "2022-01-25T19:01:40.192Z"
   },
   {
    "duration": 8,
    "start_time": "2022-01-25T19:01:40.264Z"
   },
   {
    "duration": 23,
    "start_time": "2022-01-25T19:01:40.273Z"
   },
   {
    "duration": 51,
    "start_time": "2022-01-25T19:01:40.299Z"
   },
   {
    "duration": 14,
    "start_time": "2022-01-25T19:01:40.352Z"
   },
   {
    "duration": 50,
    "start_time": "2022-01-25T19:01:40.367Z"
   },
   {
    "duration": 47,
    "start_time": "2022-01-25T19:01:40.422Z"
   },
   {
    "duration": 3,
    "start_time": "2022-01-25T19:01:40.472Z"
   },
   {
    "duration": 52,
    "start_time": "2022-01-25T19:01:40.477Z"
   },
   {
    "duration": 22,
    "start_time": "2022-01-25T19:01:40.531Z"
   },
   {
    "duration": 32,
    "start_time": "2022-01-25T19:01:40.556Z"
   },
   {
    "duration": 38,
    "start_time": "2022-01-25T19:01:40.590Z"
   },
   {
    "duration": 32,
    "start_time": "2022-01-25T19:01:40.631Z"
   },
   {
    "duration": 14,
    "start_time": "2022-01-25T19:01:40.665Z"
   },
   {
    "duration": 10,
    "start_time": "2022-01-25T19:01:40.681Z"
   },
   {
    "duration": 32,
    "start_time": "2022-01-25T19:01:40.693Z"
   },
   {
    "duration": 16,
    "start_time": "2022-01-25T19:01:40.728Z"
   },
   {
    "duration": 7,
    "start_time": "2022-01-25T19:01:40.746Z"
   },
   {
    "duration": 53,
    "start_time": "2022-01-25T19:01:40.755Z"
   },
   {
    "duration": 28,
    "start_time": "2022-01-25T19:01:40.811Z"
   },
   {
    "duration": 38,
    "start_time": "2022-01-25T19:01:40.841Z"
   },
   {
    "duration": 51,
    "start_time": "2022-01-25T19:01:40.881Z"
   },
   {
    "duration": 3,
    "start_time": "2022-01-25T19:01:40.934Z"
   },
   {
    "duration": 9,
    "start_time": "2022-01-25T19:01:40.939Z"
   },
   {
    "duration": 6,
    "start_time": "2022-01-25T19:01:40.950Z"
   },
   {
    "duration": 6,
    "start_time": "2022-01-25T19:01:40.958Z"
   },
   {
    "duration": 14,
    "start_time": "2022-01-25T19:03:05.372Z"
   },
   {
    "duration": 27,
    "start_time": "2022-01-25T19:04:00.099Z"
   },
   {
    "duration": 79,
    "start_time": "2022-01-25T19:05:06.291Z"
   },
   {
    "duration": 44,
    "start_time": "2022-01-25T19:05:10.698Z"
   },
   {
    "duration": 92,
    "start_time": "2022-01-25T19:06:54.322Z"
   },
   {
    "duration": 77,
    "start_time": "2022-01-25T19:06:58.041Z"
   },
   {
    "duration": 44,
    "start_time": "2022-01-25T19:07:06.954Z"
   },
   {
    "duration": 91,
    "start_time": "2022-01-25T19:07:49.809Z"
   },
   {
    "duration": 13,
    "start_time": "2022-01-25T19:07:59.656Z"
   },
   {
    "duration": 7,
    "start_time": "2022-01-25T19:10:01.791Z"
   },
   {
    "duration": 47,
    "start_time": "2022-01-25T19:10:15.120Z"
   },
   {
    "duration": 3,
    "start_time": "2022-01-25T19:10:26.106Z"
   },
   {
    "duration": 167,
    "start_time": "2022-01-25T19:10:26.113Z"
   },
   {
    "duration": 33,
    "start_time": "2022-01-25T19:10:26.283Z"
   },
   {
    "duration": 30,
    "start_time": "2022-01-25T19:10:26.319Z"
   },
   {
    "duration": 4,
    "start_time": "2022-01-25T19:10:26.353Z"
   },
   {
    "duration": 47,
    "start_time": "2022-01-25T19:10:26.360Z"
   },
   {
    "duration": 5,
    "start_time": "2022-01-25T19:10:26.409Z"
   },
   {
    "duration": 28,
    "start_time": "2022-01-25T19:10:26.416Z"
   },
   {
    "duration": 19,
    "start_time": "2022-01-25T19:10:26.449Z"
   },
   {
    "duration": 55,
    "start_time": "2022-01-25T19:10:26.471Z"
   },
   {
    "duration": 63,
    "start_time": "2022-01-25T19:10:26.528Z"
   },
   {
    "duration": 70,
    "start_time": "2022-01-25T19:10:26.608Z"
   },
   {
    "duration": 77,
    "start_time": "2022-01-25T19:10:26.681Z"
   },
   {
    "duration": 63,
    "start_time": "2022-01-25T19:10:26.760Z"
   },
   {
    "duration": 3,
    "start_time": "2022-01-25T19:10:26.826Z"
   },
   {
    "duration": 27,
    "start_time": "2022-01-25T19:10:26.831Z"
   },
   {
    "duration": 58,
    "start_time": "2022-01-25T19:10:26.860Z"
   },
   {
    "duration": 13,
    "start_time": "2022-01-25T19:10:26.920Z"
   },
   {
    "duration": 14,
    "start_time": "2022-01-25T19:10:26.935Z"
   },
   {
    "duration": 5,
    "start_time": "2022-01-25T19:10:26.951Z"
   },
   {
    "duration": 50,
    "start_time": "2022-01-25T19:10:26.958Z"
   },
   {
    "duration": 16,
    "start_time": "2022-01-25T19:10:27.011Z"
   },
   {
    "duration": 22,
    "start_time": "2022-01-25T19:10:27.029Z"
   },
   {
    "duration": 16,
    "start_time": "2022-01-25T19:10:27.055Z"
   },
   {
    "duration": 45,
    "start_time": "2022-01-25T19:10:27.073Z"
   },
   {
    "duration": 23,
    "start_time": "2022-01-25T19:10:27.121Z"
   },
   {
    "duration": 13,
    "start_time": "2022-01-25T19:10:27.146Z"
   },
   {
    "duration": 46,
    "start_time": "2022-01-25T19:10:27.162Z"
   },
   {
    "duration": 16,
    "start_time": "2022-01-25T19:10:27.211Z"
   },
   {
    "duration": 15,
    "start_time": "2022-01-25T19:10:27.229Z"
   },
   {
    "duration": 46,
    "start_time": "2022-01-25T19:10:27.246Z"
   },
   {
    "duration": 24,
    "start_time": "2022-01-25T19:10:27.294Z"
   },
   {
    "duration": 33,
    "start_time": "2022-01-25T19:10:27.320Z"
   },
   {
    "duration": 23,
    "start_time": "2022-01-25T19:10:27.355Z"
   },
   {
    "duration": 2,
    "start_time": "2022-01-25T19:10:27.380Z"
   },
   {
    "duration": 10,
    "start_time": "2022-01-25T19:10:27.408Z"
   },
   {
    "duration": 10,
    "start_time": "2022-01-25T19:10:27.420Z"
   },
   {
    "duration": 6,
    "start_time": "2022-01-25T19:10:27.432Z"
   },
   {
    "duration": 18,
    "start_time": "2022-01-25T19:12:08.565Z"
   },
   {
    "duration": 5,
    "start_time": "2022-01-25T19:16:14.018Z"
   },
   {
    "duration": 4,
    "start_time": "2022-01-25T19:16:27.517Z"
   },
   {
    "duration": 228,
    "start_time": "2022-01-25T19:16:27.523Z"
   },
   {
    "duration": 13,
    "start_time": "2022-01-25T19:16:27.753Z"
   },
   {
    "duration": 40,
    "start_time": "2022-01-25T19:16:27.769Z"
   },
   {
    "duration": 5,
    "start_time": "2022-01-25T19:16:27.812Z"
   },
   {
    "duration": 16,
    "start_time": "2022-01-25T19:16:27.819Z"
   },
   {
    "duration": 4,
    "start_time": "2022-01-25T19:16:27.838Z"
   },
   {
    "duration": 30,
    "start_time": "2022-01-25T19:16:27.844Z"
   },
   {
    "duration": 22,
    "start_time": "2022-01-25T19:16:27.906Z"
   },
   {
    "duration": 27,
    "start_time": "2022-01-25T19:16:27.930Z"
   },
   {
    "duration": 91,
    "start_time": "2022-01-25T19:16:27.960Z"
   },
   {
    "duration": 74,
    "start_time": "2022-01-25T19:16:28.053Z"
   },
   {
    "duration": 59,
    "start_time": "2022-01-25T19:16:28.129Z"
   },
   {
    "duration": 52,
    "start_time": "2022-01-25T19:16:28.189Z"
   },
   {
    "duration": 3,
    "start_time": "2022-01-25T19:16:28.243Z"
   },
   {
    "duration": 18,
    "start_time": "2022-01-25T19:16:28.247Z"
   },
   {
    "duration": 60,
    "start_time": "2022-01-25T19:16:28.267Z"
   },
   {
    "duration": 15,
    "start_time": "2022-01-25T19:16:28.329Z"
   },
   {
    "duration": 15,
    "start_time": "2022-01-25T19:16:28.348Z"
   },
   {
    "duration": 5,
    "start_time": "2022-01-25T19:16:28.366Z"
   },
   {
    "duration": 50,
    "start_time": "2022-01-25T19:16:28.373Z"
   },
   {
    "duration": 16,
    "start_time": "2022-01-25T19:16:28.425Z"
   },
   {
    "duration": 17,
    "start_time": "2022-01-25T19:16:28.444Z"
   },
   {
    "duration": 15,
    "start_time": "2022-01-25T19:16:28.463Z"
   },
   {
    "duration": 20,
    "start_time": "2022-01-25T19:16:28.508Z"
   },
   {
    "duration": 17,
    "start_time": "2022-01-25T19:16:28.530Z"
   },
   {
    "duration": 11,
    "start_time": "2022-01-25T19:16:28.549Z"
   },
   {
    "duration": 54,
    "start_time": "2022-01-25T19:16:28.562Z"
   },
   {
    "duration": 16,
    "start_time": "2022-01-25T19:16:28.617Z"
   },
   {
    "duration": 13,
    "start_time": "2022-01-25T19:16:28.635Z"
   },
   {
    "duration": 40,
    "start_time": "2022-01-25T19:16:28.651Z"
   },
   {
    "duration": 17,
    "start_time": "2022-01-25T19:16:28.693Z"
   },
   {
    "duration": 23,
    "start_time": "2022-01-25T19:16:28.712Z"
   },
   {
    "duration": 14,
    "start_time": "2022-01-25T19:16:28.737Z"
   },
   {
    "duration": 2,
    "start_time": "2022-01-25T19:16:28.753Z"
   },
   {
    "duration": 8,
    "start_time": "2022-01-25T19:16:28.757Z"
   },
   {
    "duration": 8,
    "start_time": "2022-01-25T19:16:28.767Z"
   },
   {
    "duration": 19,
    "start_time": "2022-01-25T19:16:28.777Z"
   },
   {
    "duration": 231,
    "start_time": "2022-01-25T19:19:34.947Z"
   },
   {
    "duration": 250,
    "start_time": "2022-01-25T19:21:13.847Z"
   },
   {
    "duration": 305,
    "start_time": "2022-01-25T19:21:49.823Z"
   },
   {
    "duration": 39,
    "start_time": "2022-01-25T19:22:32.231Z"
   },
   {
    "duration": 9,
    "start_time": "2022-01-25T19:22:50.543Z"
   },
   {
    "duration": 10,
    "start_time": "2022-01-25T19:23:35.206Z"
   },
   {
    "duration": 6,
    "start_time": "2022-01-25T19:23:39.046Z"
   },
   {
    "duration": 335,
    "start_time": "2022-01-25T19:24:47.824Z"
   },
   {
    "duration": 7,
    "start_time": "2022-01-25T19:24:59.004Z"
   },
   {
    "duration": 6,
    "start_time": "2022-01-25T19:25:01.445Z"
   },
   {
    "duration": 726,
    "start_time": "2022-02-02T19:10:01.801Z"
   },
   {
    "duration": 184,
    "start_time": "2022-02-02T19:10:02.529Z"
   },
   {
    "duration": 25,
    "start_time": "2022-02-02T19:10:02.716Z"
   },
   {
    "duration": 62,
    "start_time": "2022-02-02T19:10:02.743Z"
   },
   {
    "duration": 5,
    "start_time": "2022-02-02T19:10:02.808Z"
   },
   {
    "duration": 28,
    "start_time": "2022-02-02T19:10:02.816Z"
   },
   {
    "duration": 21,
    "start_time": "2022-02-02T19:10:02.847Z"
   },
   {
    "duration": 40,
    "start_time": "2022-02-02T19:10:02.872Z"
   },
   {
    "duration": 21,
    "start_time": "2022-02-02T19:10:02.916Z"
   },
   {
    "duration": 47,
    "start_time": "2022-02-02T19:10:02.939Z"
   },
   {
    "duration": 96,
    "start_time": "2022-02-02T19:10:02.988Z"
   },
   {
    "duration": 111,
    "start_time": "2022-02-02T19:10:03.086Z"
   },
   {
    "duration": 88,
    "start_time": "2022-02-02T19:10:03.200Z"
   },
   {
    "duration": 54,
    "start_time": "2022-02-02T19:10:03.291Z"
   },
   {
    "duration": 13,
    "start_time": "2022-02-02T19:10:03.347Z"
   },
   {
    "duration": 27,
    "start_time": "2022-02-02T19:10:03.363Z"
   },
   {
    "duration": 76,
    "start_time": "2022-02-02T19:10:03.392Z"
   },
   {
    "duration": 15,
    "start_time": "2022-02-02T19:10:03.471Z"
   },
   {
    "duration": 14,
    "start_time": "2022-02-02T19:10:03.488Z"
   },
   {
    "duration": 4,
    "start_time": "2022-02-02T19:10:03.504Z"
   },
   {
    "duration": 49,
    "start_time": "2022-02-02T19:10:03.510Z"
   },
   {
    "duration": 25,
    "start_time": "2022-02-02T19:10:03.561Z"
   },
   {
    "duration": 17,
    "start_time": "2022-02-02T19:10:03.590Z"
   },
   {
    "duration": 16,
    "start_time": "2022-02-02T19:10:03.610Z"
   },
   {
    "duration": 57,
    "start_time": "2022-02-02T19:10:03.628Z"
   },
   {
    "duration": 17,
    "start_time": "2022-02-02T19:10:03.687Z"
   },
   {
    "duration": 11,
    "start_time": "2022-02-02T19:10:03.706Z"
   },
   {
    "duration": 48,
    "start_time": "2022-02-02T19:10:03.720Z"
   },
   {
    "duration": 13,
    "start_time": "2022-02-02T19:10:03.771Z"
   },
   {
    "duration": 5,
    "start_time": "2022-02-02T19:10:03.786Z"
   },
   {
    "duration": 27,
    "start_time": "2022-02-02T19:10:03.794Z"
   },
   {
    "duration": 49,
    "start_time": "2022-02-02T19:10:03.823Z"
   },
   {
    "duration": 23,
    "start_time": "2022-02-02T19:10:03.875Z"
   },
   {
    "duration": 16,
    "start_time": "2022-02-02T19:10:03.901Z"
   },
   {
    "duration": 10,
    "start_time": "2022-02-02T19:10:03.919Z"
   },
   {
    "duration": 38,
    "start_time": "2022-02-02T19:10:03.931Z"
   },
   {
    "duration": 11,
    "start_time": "2022-02-02T19:10:03.971Z"
   },
   {
    "duration": 5,
    "start_time": "2022-02-02T19:10:03.985Z"
   },
   {
    "duration": 604,
    "start_time": "2022-02-04T10:26:10.268Z"
   },
   {
    "duration": 144,
    "start_time": "2022-02-04T10:26:10.874Z"
   },
   {
    "duration": 18,
    "start_time": "2022-02-04T10:26:11.020Z"
   },
   {
    "duration": 28,
    "start_time": "2022-02-04T10:26:11.040Z"
   },
   {
    "duration": 4,
    "start_time": "2022-02-04T10:26:11.070Z"
   },
   {
    "duration": 46,
    "start_time": "2022-02-04T10:26:11.076Z"
   },
   {
    "duration": 5,
    "start_time": "2022-02-04T10:26:11.124Z"
   },
   {
    "duration": 26,
    "start_time": "2022-02-04T10:26:11.131Z"
   },
   {
    "duration": 18,
    "start_time": "2022-02-04T10:26:11.159Z"
   },
   {
    "duration": 50,
    "start_time": "2022-02-04T10:26:11.179Z"
   },
   {
    "duration": 70,
    "start_time": "2022-02-04T10:26:11.232Z"
   },
   {
    "duration": 87,
    "start_time": "2022-02-04T10:26:11.303Z"
   },
   {
    "duration": 68,
    "start_time": "2022-02-04T10:26:11.393Z"
   },
   {
    "duration": 43,
    "start_time": "2022-02-04T10:26:11.463Z"
   },
   {
    "duration": 4,
    "start_time": "2022-02-04T10:26:11.518Z"
   },
   {
    "duration": 14,
    "start_time": "2022-02-04T10:26:11.523Z"
   },
   {
    "duration": 45,
    "start_time": "2022-02-04T10:26:11.538Z"
   },
   {
    "duration": 11,
    "start_time": "2022-02-04T10:26:11.585Z"
   },
   {
    "duration": 11,
    "start_time": "2022-02-04T10:26:11.619Z"
   },
   {
    "duration": 3,
    "start_time": "2022-02-04T10:26:11.632Z"
   },
   {
    "duration": 24,
    "start_time": "2022-02-04T10:26:11.637Z"
   },
   {
    "duration": 15,
    "start_time": "2022-02-04T10:26:11.663Z"
   },
   {
    "duration": 38,
    "start_time": "2022-02-04T10:26:11.682Z"
   },
   {
    "duration": 15,
    "start_time": "2022-02-04T10:26:11.722Z"
   },
   {
    "duration": 16,
    "start_time": "2022-02-04T10:26:11.739Z"
   },
   {
    "duration": 14,
    "start_time": "2022-02-04T10:26:11.757Z"
   },
   {
    "duration": 8,
    "start_time": "2022-02-04T10:26:11.773Z"
   },
   {
    "duration": 40,
    "start_time": "2022-02-04T10:26:11.783Z"
   },
   {
    "duration": 9,
    "start_time": "2022-02-04T10:26:11.825Z"
   },
   {
    "duration": 6,
    "start_time": "2022-02-04T10:26:11.835Z"
   },
   {
    "duration": 28,
    "start_time": "2022-02-04T10:26:11.842Z"
   },
   {
    "duration": 11,
    "start_time": "2022-02-04T10:26:11.872Z"
   },
   {
    "duration": 38,
    "start_time": "2022-02-04T10:26:11.885Z"
   },
   {
    "duration": 12,
    "start_time": "2022-02-04T10:26:11.925Z"
   },
   {
    "duration": 11,
    "start_time": "2022-02-04T10:26:11.938Z"
   },
   {
    "duration": 7,
    "start_time": "2022-02-04T10:26:11.951Z"
   },
   {
    "duration": 10,
    "start_time": "2022-02-04T10:26:11.960Z"
   },
   {
    "duration": 8,
    "start_time": "2022-02-04T10:26:11.972Z"
   }
  ],
  "colab": {
   "collapsed_sections": [
    "E0vqbgi9ay0H",
    "VUC88oWjTJw2"
   ],
   "name": "yandex_music_project_2021.2.ipynb",
   "provenance": []
  },
  "kernelspec": {
   "display_name": "Python 3 (ipykernel)",
   "language": "python",
   "name": "python3"
  },
  "language_info": {
   "codemirror_mode": {
    "name": "ipython",
    "version": 3
   },
   "file_extension": ".py",
   "mimetype": "text/x-python",
   "name": "python",
   "nbconvert_exporter": "python",
   "pygments_lexer": "ipython3",
   "version": "3.9.7"
  },
  "toc": {
   "base_numbering": 1,
   "nav_menu": {},
   "number_sections": true,
   "sideBar": true,
   "skip_h1_title": true,
   "title_cell": "Table of Contents",
   "title_sidebar": "Contents",
   "toc_cell": false,
   "toc_position": {},
   "toc_section_display": true,
   "toc_window_display": false
  }
 },
 "nbformat": 4,
 "nbformat_minor": 1
}
