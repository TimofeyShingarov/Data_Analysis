{
 "cells": [
  {
   "cell_type": "markdown",
   "metadata": {},
   "source": [
    "## Содержание"
   ]
  },
  {
   "cell_type": "markdown",
   "metadata": {},
   "source": [
    "### Введение. Определение перспективного тарифа для телеком-компании\n",
    "#### Описание тарифов\n",
    "#### Примечание"
   ]
  },
  {
   "cell_type": "markdown",
   "metadata": {},
   "source": [
    "### Изучение данных из файлов"
   ]
  },
  {
   "cell_type": "markdown",
   "metadata": {},
   "source": [
    "### Предобработка и подготовка данных"
   ]
  },
  {
   "cell_type": "markdown",
   "metadata": {},
   "source": [
    "### Анализ данных\n",
    "#### Построение гистраграммы"
   ]
  },
  {
   "cell_type": "markdown",
   "metadata": {},
   "source": [
    "### Проверка гипотез"
   ]
  },
  {
   "cell_type": "markdown",
   "metadata": {},
   "source": [
    "### Вывод"
   ]
  },
  {
   "cell_type": "markdown",
   "metadata": {},
   "source": [
    "# Определение перспективного тарифа для телеком-компании"
   ]
  },
  {
   "cell_type": "markdown",
   "metadata": {},
   "source": [
    "Клиентам предлагают два тарифных плана: «Смарт» и «Ультра». Чтобы скорректировать рекламный бюджет, коммерческий департамент хочет понять, какой тариф приносит больше денег.\n",
    "Вам предстоит сделать предварительный анализ тарифов на небольшой выборке клиентов. В вашем распоряжении данные 500 пользователей «Мегалайна»: кто они, откуда, каким тарифом пользуются, сколько звонков и сообщений каждый отправил за 2018 год. Нужно проанализировать поведение клиентов и сделать вывод — какой тариф лучше."
   ]
  },
  {
   "cell_type": "markdown",
   "metadata": {},
   "source": [
    "## Описание тарифов\n",
    "Тариф «Смарт»\n",
    "\n",
    "    Ежемесячная плата: 550 рублей\n",
    "    Включено 500 минут разговора, 50 сообщений и 15 Гб интернет-трафика\n",
    "    Стоимость услуг сверх тарифного пакета:\n",
    "        минута разговора: 3 рубля\n",
    "        сообщение: 3 рубля\n",
    "        1 Гб интернет-трафика: 200 рублей\n",
    "\n",
    "Тариф «Ультра»\n",
    "\n",
    "    Ежемесячная плата: 1950 рублей\n",
    "    Включено 3000 минут разговора, 1000 сообщений и 30 Гб интернет-трафика\n",
    "    Стоимость услуг сверх тарифного пакета:\n",
    "        минута разговора: 1 рубль\n",
    "        сообщение: 1 рубль\n",
    "        1 Гб интернет-трафика: 150 рублей"
   ]
  },
  {
   "cell_type": "markdown",
   "metadata": {},
   "source": [
    "## Примечание:\n",
    "«Мегалайн» всегда округляет секунды до минут, а мегабайты — до гигабайт. Каждый звонок округляется отдельно: даже если он длился всего 1 секунду, будет засчитан как 1 минута.\n",
    "Для веб-трафика отдельные сессии не считаются. Вместо этого общая сумма за месяц округляется в бо́льшую сторону. Если абонент использует 1025 мегабайт в этом месяце, с него возьмут плату за 2 гигабайта."
   ]
  },
  {
   "cell_type": "markdown",
   "metadata": {},
   "source": [
    "# Изучение данных из файлов"
   ]
  },
  {
   "cell_type": "markdown",
   "metadata": {},
   "source": [
    "В нашем проекте будем пользоваться библиотекой Pandas, Matplotlib для гистаграмм, Numpy для математических функций, методами из пакета scipy.stats."
   ]
  },
  {
   "cell_type": "code",
   "execution_count": 1,
   "metadata": {},
   "outputs": [],
   "source": [
    "# Подключаем библиотеки\n",
    "import pandas as pd\n",
    "import matplotlib.pyplot as plt\n",
    "import numpy as np\n",
    "from scipy import stats as st\n",
    "pd.set_option('display.float_format', '{:,.2f}'.format)"
   ]
  },
  {
   "cell_type": "code",
   "execution_count": 2,
   "metadata": {},
   "outputs": [],
   "source": [
    "# Сохраняем датасеты в переменные \n",
    "df_calls = pd.read_csv('D:/Project/4/calls.csv', sep = ',')\n",
    "df_internet = pd.read_csv('D:/Project/4/internet.csv', sep = ',')\n",
    "df_messages = pd.read_csv('D:/Project/4/messages.csv', sep = ',')\n",
    "df_tariffs = pd.read_csv('D:/Project/4/tariffs.csv', sep = ',')\n",
    "df_users = pd.read_csv('D:/Project/4/users.csv', sep = ',')"
   ]
  },
  {
   "cell_type": "markdown",
   "metadata": {},
   "source": [
    "##### Изучим общую информацию в данных файла `calls`:"
   ]
  },
  {
   "cell_type": "code",
   "execution_count": 3,
   "metadata": {},
   "outputs": [
    {
     "name": "stdout",
     "output_type": "stream",
     "text": [
      "<class 'pandas.core.frame.DataFrame'>\n",
      "RangeIndex: 202607 entries, 0 to 202606\n",
      "Data columns (total 4 columns):\n",
      " #   Column     Non-Null Count   Dtype  \n",
      "---  ------     --------------   -----  \n",
      " 0   id         202607 non-null  object \n",
      " 1   call_date  202607 non-null  object \n",
      " 2   duration   202607 non-null  float64\n",
      " 3   user_id    202607 non-null  int64  \n",
      "dtypes: float64(1), int64(1), object(2)\n",
      "memory usage: 6.2+ MB\n"
     ]
    }
   ],
   "source": [
    "df_calls.info()"
   ]
  },
  {
   "cell_type": "markdown",
   "metadata": {},
   "source": [
    "Файл `calls` (\"Информация о звонках\") содержит 4 колонки. Тип файлов \"вещественные числа\", \"целые числа\", \"строка\". Всего 202607 строк, пропущенных значений нет. Изучим первые 10 строк:"
   ]
  },
  {
   "cell_type": "code",
   "execution_count": 4,
   "metadata": {
    "scrolled": true
   },
   "outputs": [
    {
     "data": {
      "text/html": [
       "<div>\n",
       "<style scoped>\n",
       "    .dataframe tbody tr th:only-of-type {\n",
       "        vertical-align: middle;\n",
       "    }\n",
       "\n",
       "    .dataframe tbody tr th {\n",
       "        vertical-align: top;\n",
       "    }\n",
       "\n",
       "    .dataframe thead th {\n",
       "        text-align: right;\n",
       "    }\n",
       "</style>\n",
       "<table border=\"1\" class=\"dataframe\">\n",
       "  <thead>\n",
       "    <tr style=\"text-align: right;\">\n",
       "      <th></th>\n",
       "      <th>id</th>\n",
       "      <th>call_date</th>\n",
       "      <th>duration</th>\n",
       "      <th>user_id</th>\n",
       "    </tr>\n",
       "  </thead>\n",
       "  <tbody>\n",
       "    <tr>\n",
       "      <th>0</th>\n",
       "      <td>1000_0</td>\n",
       "      <td>2018-07-25</td>\n",
       "      <td>0.00</td>\n",
       "      <td>1000</td>\n",
       "    </tr>\n",
       "    <tr>\n",
       "      <th>1</th>\n",
       "      <td>1000_1</td>\n",
       "      <td>2018-08-17</td>\n",
       "      <td>0.00</td>\n",
       "      <td>1000</td>\n",
       "    </tr>\n",
       "    <tr>\n",
       "      <th>2</th>\n",
       "      <td>1000_2</td>\n",
       "      <td>2018-06-11</td>\n",
       "      <td>2.85</td>\n",
       "      <td>1000</td>\n",
       "    </tr>\n",
       "    <tr>\n",
       "      <th>3</th>\n",
       "      <td>1000_3</td>\n",
       "      <td>2018-09-21</td>\n",
       "      <td>13.80</td>\n",
       "      <td>1000</td>\n",
       "    </tr>\n",
       "    <tr>\n",
       "      <th>4</th>\n",
       "      <td>1000_4</td>\n",
       "      <td>2018-12-15</td>\n",
       "      <td>5.18</td>\n",
       "      <td>1000</td>\n",
       "    </tr>\n",
       "    <tr>\n",
       "      <th>5</th>\n",
       "      <td>1000_5</td>\n",
       "      <td>2018-11-02</td>\n",
       "      <td>0.00</td>\n",
       "      <td>1000</td>\n",
       "    </tr>\n",
       "    <tr>\n",
       "      <th>6</th>\n",
       "      <td>1000_6</td>\n",
       "      <td>2018-10-18</td>\n",
       "      <td>0.00</td>\n",
       "      <td>1000</td>\n",
       "    </tr>\n",
       "    <tr>\n",
       "      <th>7</th>\n",
       "      <td>1000_7</td>\n",
       "      <td>2018-08-22</td>\n",
       "      <td>18.31</td>\n",
       "      <td>1000</td>\n",
       "    </tr>\n",
       "    <tr>\n",
       "      <th>8</th>\n",
       "      <td>1000_8</td>\n",
       "      <td>2018-09-15</td>\n",
       "      <td>18.44</td>\n",
       "      <td>1000</td>\n",
       "    </tr>\n",
       "    <tr>\n",
       "      <th>9</th>\n",
       "      <td>1000_9</td>\n",
       "      <td>2018-08-15</td>\n",
       "      <td>0.00</td>\n",
       "      <td>1000</td>\n",
       "    </tr>\n",
       "  </tbody>\n",
       "</table>\n",
       "</div>"
      ],
      "text/plain": [
       "       id   call_date  duration  user_id\n",
       "0  1000_0  2018-07-25      0.00     1000\n",
       "1  1000_1  2018-08-17      0.00     1000\n",
       "2  1000_2  2018-06-11      2.85     1000\n",
       "3  1000_3  2018-09-21     13.80     1000\n",
       "4  1000_4  2018-12-15      5.18     1000\n",
       "5  1000_5  2018-11-02      0.00     1000\n",
       "6  1000_6  2018-10-18      0.00     1000\n",
       "7  1000_7  2018-08-22     18.31     1000\n",
       "8  1000_8  2018-09-15     18.44     1000\n",
       "9  1000_9  2018-08-15      0.00     1000"
      ]
     },
     "execution_count": 4,
     "metadata": {},
     "output_type": "execute_result"
    }
   ],
   "source": [
    "df_calls.head(10)"
   ]
  },
  {
   "cell_type": "markdown",
   "metadata": {},
   "source": [
    "Согласно документации к данным, колонки имеют значение:"
   ]
  },
  {
   "cell_type": "markdown",
   "metadata": {},
   "source": [
    "- `id` — уникальный номер звонка\n",
    "- `call_date` — дата звонка\n",
    "- `duration` — длительность звонка в минутах\n",
    "- `user_id` — идентификатор пользователя, сделавшего звонок"
   ]
  },
  {
   "cell_type": "markdown",
   "metadata": {},
   "source": [
    "#####  Изучим общую информацию в данных файла `internet`:"
   ]
  },
  {
   "cell_type": "code",
   "execution_count": 5,
   "metadata": {
    "scrolled": true
   },
   "outputs": [
    {
     "name": "stdout",
     "output_type": "stream",
     "text": [
      "<class 'pandas.core.frame.DataFrame'>\n",
      "RangeIndex: 149396 entries, 0 to 149395\n",
      "Data columns (total 5 columns):\n",
      " #   Column        Non-Null Count   Dtype  \n",
      "---  ------        --------------   -----  \n",
      " 0   Unnamed: 0    149396 non-null  int64  \n",
      " 1   id            149396 non-null  object \n",
      " 2   mb_used       149396 non-null  float64\n",
      " 3   session_date  149396 non-null  object \n",
      " 4   user_id       149396 non-null  int64  \n",
      "dtypes: float64(1), int64(2), object(2)\n",
      "memory usage: 5.7+ MB\n"
     ]
    }
   ],
   "source": [
    "df_internet.info()"
   ]
  },
  {
   "cell_type": "markdown",
   "metadata": {},
   "source": [
    "Файл `internet` (\"Информация об интернет-сессиях\") содержит 5 колонок. Тип файлов \"вещественные числа\", \"целые числа\", \"строка\". Всего 149396 строк, пропущенных значений нет. Изучим первые 10 строк:"
   ]
  },
  {
   "cell_type": "code",
   "execution_count": 6,
   "metadata": {},
   "outputs": [
    {
     "data": {
      "text/html": [
       "<div>\n",
       "<style scoped>\n",
       "    .dataframe tbody tr th:only-of-type {\n",
       "        vertical-align: middle;\n",
       "    }\n",
       "\n",
       "    .dataframe tbody tr th {\n",
       "        vertical-align: top;\n",
       "    }\n",
       "\n",
       "    .dataframe thead th {\n",
       "        text-align: right;\n",
       "    }\n",
       "</style>\n",
       "<table border=\"1\" class=\"dataframe\">\n",
       "  <thead>\n",
       "    <tr style=\"text-align: right;\">\n",
       "      <th></th>\n",
       "      <th>Unnamed: 0</th>\n",
       "      <th>id</th>\n",
       "      <th>mb_used</th>\n",
       "      <th>session_date</th>\n",
       "      <th>user_id</th>\n",
       "    </tr>\n",
       "  </thead>\n",
       "  <tbody>\n",
       "    <tr>\n",
       "      <th>0</th>\n",
       "      <td>0</td>\n",
       "      <td>1000_0</td>\n",
       "      <td>112.95</td>\n",
       "      <td>2018-11-25</td>\n",
       "      <td>1000</td>\n",
       "    </tr>\n",
       "    <tr>\n",
       "      <th>1</th>\n",
       "      <td>1</td>\n",
       "      <td>1000_1</td>\n",
       "      <td>1,052.81</td>\n",
       "      <td>2018-09-07</td>\n",
       "      <td>1000</td>\n",
       "    </tr>\n",
       "    <tr>\n",
       "      <th>2</th>\n",
       "      <td>2</td>\n",
       "      <td>1000_2</td>\n",
       "      <td>1,197.26</td>\n",
       "      <td>2018-06-25</td>\n",
       "      <td>1000</td>\n",
       "    </tr>\n",
       "    <tr>\n",
       "      <th>3</th>\n",
       "      <td>3</td>\n",
       "      <td>1000_3</td>\n",
       "      <td>550.27</td>\n",
       "      <td>2018-08-22</td>\n",
       "      <td>1000</td>\n",
       "    </tr>\n",
       "    <tr>\n",
       "      <th>4</th>\n",
       "      <td>4</td>\n",
       "      <td>1000_4</td>\n",
       "      <td>302.56</td>\n",
       "      <td>2018-09-24</td>\n",
       "      <td>1000</td>\n",
       "    </tr>\n",
       "    <tr>\n",
       "      <th>5</th>\n",
       "      <td>5</td>\n",
       "      <td>1000_5</td>\n",
       "      <td>399.97</td>\n",
       "      <td>2018-10-02</td>\n",
       "      <td>1000</td>\n",
       "    </tr>\n",
       "    <tr>\n",
       "      <th>6</th>\n",
       "      <td>6</td>\n",
       "      <td>1000_6</td>\n",
       "      <td>540.08</td>\n",
       "      <td>2018-09-07</td>\n",
       "      <td>1000</td>\n",
       "    </tr>\n",
       "    <tr>\n",
       "      <th>7</th>\n",
       "      <td>7</td>\n",
       "      <td>1000_7</td>\n",
       "      <td>415.70</td>\n",
       "      <td>2018-07-11</td>\n",
       "      <td>1000</td>\n",
       "    </tr>\n",
       "    <tr>\n",
       "      <th>8</th>\n",
       "      <td>8</td>\n",
       "      <td>1000_8</td>\n",
       "      <td>505.40</td>\n",
       "      <td>2018-10-08</td>\n",
       "      <td>1000</td>\n",
       "    </tr>\n",
       "    <tr>\n",
       "      <th>9</th>\n",
       "      <td>9</td>\n",
       "      <td>1000_9</td>\n",
       "      <td>345.54</td>\n",
       "      <td>2018-09-03</td>\n",
       "      <td>1000</td>\n",
       "    </tr>\n",
       "  </tbody>\n",
       "</table>\n",
       "</div>"
      ],
      "text/plain": [
       "   Unnamed: 0      id  mb_used session_date  user_id\n",
       "0           0  1000_0   112.95   2018-11-25     1000\n",
       "1           1  1000_1 1,052.81   2018-09-07     1000\n",
       "2           2  1000_2 1,197.26   2018-06-25     1000\n",
       "3           3  1000_3   550.27   2018-08-22     1000\n",
       "4           4  1000_4   302.56   2018-09-24     1000\n",
       "5           5  1000_5   399.97   2018-10-02     1000\n",
       "6           6  1000_6   540.08   2018-09-07     1000\n",
       "7           7  1000_7   415.70   2018-07-11     1000\n",
       "8           8  1000_8   505.40   2018-10-08     1000\n",
       "9           9  1000_9   345.54   2018-09-03     1000"
      ]
     },
     "execution_count": 6,
     "metadata": {},
     "output_type": "execute_result"
    }
   ],
   "source": [
    "df_internet.head(10)"
   ]
  },
  {
   "cell_type": "markdown",
   "metadata": {},
   "source": [
    "Согласно документации к данным, колонки имеют значение:"
   ]
  },
  {
   "cell_type": "markdown",
   "metadata": {},
   "source": [
    "- `id` — уникальный номер сессии\n",
    "- `mb_used` — объём потраченного за сессию интернет-трафика (в мегабайтах)\n",
    "- `session_date` — дата интернет-сессии\n",
    "- `user_id` — идентификатор пользователя"
   ]
  },
  {
   "cell_type": "markdown",
   "metadata": {},
   "source": [
    "#####  Изучим общую информацию в данных файла `messages`:"
   ]
  },
  {
   "cell_type": "code",
   "execution_count": 7,
   "metadata": {
    "scrolled": true
   },
   "outputs": [
    {
     "name": "stdout",
     "output_type": "stream",
     "text": [
      "<class 'pandas.core.frame.DataFrame'>\n",
      "RangeIndex: 123036 entries, 0 to 123035\n",
      "Data columns (total 3 columns):\n",
      " #   Column        Non-Null Count   Dtype \n",
      "---  ------        --------------   ----- \n",
      " 0   id            123036 non-null  object\n",
      " 1   message_date  123036 non-null  object\n",
      " 2   user_id       123036 non-null  int64 \n",
      "dtypes: int64(1), object(2)\n",
      "memory usage: 2.8+ MB\n"
     ]
    }
   ],
   "source": [
    "df_messages.info()"
   ]
  },
  {
   "cell_type": "markdown",
   "metadata": {},
   "source": [
    "Файл `messages` (\"Информация о сообщениях\") содержит 3 колонки. Тип файлов \"целые числа\", \"строка\". Всего 123036 строк, пропущенных значений нет. Изучим первые 10 строк:\n"
   ]
  },
  {
   "cell_type": "code",
   "execution_count": 8,
   "metadata": {},
   "outputs": [
    {
     "data": {
      "text/html": [
       "<div>\n",
       "<style scoped>\n",
       "    .dataframe tbody tr th:only-of-type {\n",
       "        vertical-align: middle;\n",
       "    }\n",
       "\n",
       "    .dataframe tbody tr th {\n",
       "        vertical-align: top;\n",
       "    }\n",
       "\n",
       "    .dataframe thead th {\n",
       "        text-align: right;\n",
       "    }\n",
       "</style>\n",
       "<table border=\"1\" class=\"dataframe\">\n",
       "  <thead>\n",
       "    <tr style=\"text-align: right;\">\n",
       "      <th></th>\n",
       "      <th>id</th>\n",
       "      <th>message_date</th>\n",
       "      <th>user_id</th>\n",
       "    </tr>\n",
       "  </thead>\n",
       "  <tbody>\n",
       "    <tr>\n",
       "      <th>0</th>\n",
       "      <td>1000_0</td>\n",
       "      <td>2018-06-27</td>\n",
       "      <td>1000</td>\n",
       "    </tr>\n",
       "    <tr>\n",
       "      <th>1</th>\n",
       "      <td>1000_1</td>\n",
       "      <td>2018-10-08</td>\n",
       "      <td>1000</td>\n",
       "    </tr>\n",
       "    <tr>\n",
       "      <th>2</th>\n",
       "      <td>1000_2</td>\n",
       "      <td>2018-08-04</td>\n",
       "      <td>1000</td>\n",
       "    </tr>\n",
       "    <tr>\n",
       "      <th>3</th>\n",
       "      <td>1000_3</td>\n",
       "      <td>2018-06-16</td>\n",
       "      <td>1000</td>\n",
       "    </tr>\n",
       "    <tr>\n",
       "      <th>4</th>\n",
       "      <td>1000_4</td>\n",
       "      <td>2018-12-05</td>\n",
       "      <td>1000</td>\n",
       "    </tr>\n",
       "    <tr>\n",
       "      <th>5</th>\n",
       "      <td>1000_5</td>\n",
       "      <td>2018-06-20</td>\n",
       "      <td>1000</td>\n",
       "    </tr>\n",
       "    <tr>\n",
       "      <th>6</th>\n",
       "      <td>1000_6</td>\n",
       "      <td>2018-11-19</td>\n",
       "      <td>1000</td>\n",
       "    </tr>\n",
       "    <tr>\n",
       "      <th>7</th>\n",
       "      <td>1000_7</td>\n",
       "      <td>2018-10-29</td>\n",
       "      <td>1000</td>\n",
       "    </tr>\n",
       "    <tr>\n",
       "      <th>8</th>\n",
       "      <td>1000_8</td>\n",
       "      <td>2018-06-25</td>\n",
       "      <td>1000</td>\n",
       "    </tr>\n",
       "    <tr>\n",
       "      <th>9</th>\n",
       "      <td>1000_9</td>\n",
       "      <td>2018-12-18</td>\n",
       "      <td>1000</td>\n",
       "    </tr>\n",
       "  </tbody>\n",
       "</table>\n",
       "</div>"
      ],
      "text/plain": [
       "       id message_date  user_id\n",
       "0  1000_0   2018-06-27     1000\n",
       "1  1000_1   2018-10-08     1000\n",
       "2  1000_2   2018-08-04     1000\n",
       "3  1000_3   2018-06-16     1000\n",
       "4  1000_4   2018-12-05     1000\n",
       "5  1000_5   2018-06-20     1000\n",
       "6  1000_6   2018-11-19     1000\n",
       "7  1000_7   2018-10-29     1000\n",
       "8  1000_8   2018-06-25     1000\n",
       "9  1000_9   2018-12-18     1000"
      ]
     },
     "execution_count": 8,
     "metadata": {},
     "output_type": "execute_result"
    }
   ],
   "source": [
    "df_messages.head(10)"
   ]
  },
  {
   "cell_type": "markdown",
   "metadata": {},
   "source": [
    "Согласно документации к данным, колонки имеют значение:"
   ]
  },
  {
   "cell_type": "markdown",
   "metadata": {},
   "source": [
    "- `id` — уникальный номер сообщения\n",
    "- `message_date` — дата сообщения\n",
    "- `user_id` — идентификатор пользователя, отправившего сообщение"
   ]
  },
  {
   "cell_type": "markdown",
   "metadata": {},
   "source": [
    "##### Изучим общую информацию в данных файла `tariffs`:"
   ]
  },
  {
   "cell_type": "code",
   "execution_count": 9,
   "metadata": {},
   "outputs": [
    {
     "name": "stdout",
     "output_type": "stream",
     "text": [
      "<class 'pandas.core.frame.DataFrame'>\n",
      "RangeIndex: 2 entries, 0 to 1\n",
      "Data columns (total 8 columns):\n",
      " #   Column                 Non-Null Count  Dtype \n",
      "---  ------                 --------------  ----- \n",
      " 0   messages_included      2 non-null      int64 \n",
      " 1   mb_per_month_included  2 non-null      int64 \n",
      " 2   minutes_included       2 non-null      int64 \n",
      " 3   rub_monthly_fee        2 non-null      int64 \n",
      " 4   rub_per_gb             2 non-null      int64 \n",
      " 5   rub_per_message        2 non-null      int64 \n",
      " 6   rub_per_minute         2 non-null      int64 \n",
      " 7   tariff_name            2 non-null      object\n",
      "dtypes: int64(7), object(1)\n",
      "memory usage: 256.0+ bytes\n"
     ]
    }
   ],
   "source": [
    "df_tariffs.info()"
   ]
  },
  {
   "cell_type": "markdown",
   "metadata": {},
   "source": [
    "Файл `tariffs` (\"Информация о тарифах\") содержит 8 колонок. Тип файлов \"целые числа\", \"строка\". Всего 2 строки, пропущенных значений нет. Изучим строки:\n"
   ]
  },
  {
   "cell_type": "code",
   "execution_count": 10,
   "metadata": {
    "scrolled": true
   },
   "outputs": [
    {
     "data": {
      "text/html": [
       "<div>\n",
       "<style scoped>\n",
       "    .dataframe tbody tr th:only-of-type {\n",
       "        vertical-align: middle;\n",
       "    }\n",
       "\n",
       "    .dataframe tbody tr th {\n",
       "        vertical-align: top;\n",
       "    }\n",
       "\n",
       "    .dataframe thead th {\n",
       "        text-align: right;\n",
       "    }\n",
       "</style>\n",
       "<table border=\"1\" class=\"dataframe\">\n",
       "  <thead>\n",
       "    <tr style=\"text-align: right;\">\n",
       "      <th></th>\n",
       "      <th>messages_included</th>\n",
       "      <th>mb_per_month_included</th>\n",
       "      <th>minutes_included</th>\n",
       "      <th>rub_monthly_fee</th>\n",
       "      <th>rub_per_gb</th>\n",
       "      <th>rub_per_message</th>\n",
       "      <th>rub_per_minute</th>\n",
       "      <th>tariff_name</th>\n",
       "    </tr>\n",
       "  </thead>\n",
       "  <tbody>\n",
       "    <tr>\n",
       "      <th>0</th>\n",
       "      <td>50</td>\n",
       "      <td>15360</td>\n",
       "      <td>500</td>\n",
       "      <td>550</td>\n",
       "      <td>200</td>\n",
       "      <td>3</td>\n",
       "      <td>3</td>\n",
       "      <td>smart</td>\n",
       "    </tr>\n",
       "    <tr>\n",
       "      <th>1</th>\n",
       "      <td>1000</td>\n",
       "      <td>30720</td>\n",
       "      <td>3000</td>\n",
       "      <td>1950</td>\n",
       "      <td>150</td>\n",
       "      <td>1</td>\n",
       "      <td>1</td>\n",
       "      <td>ultra</td>\n",
       "    </tr>\n",
       "  </tbody>\n",
       "</table>\n",
       "</div>"
      ],
      "text/plain": [
       "   messages_included  mb_per_month_included  minutes_included  \\\n",
       "0                 50                  15360               500   \n",
       "1               1000                  30720              3000   \n",
       "\n",
       "   rub_monthly_fee  rub_per_gb  rub_per_message  rub_per_minute tariff_name  \n",
       "0              550         200                3               3       smart  \n",
       "1             1950         150                1               1       ultra  "
      ]
     },
     "execution_count": 10,
     "metadata": {},
     "output_type": "execute_result"
    }
   ],
   "source": [
    "df_tariffs.head()"
   ]
  },
  {
   "cell_type": "markdown",
   "metadata": {},
   "source": [
    "Согласно документации к данным, колонки имеют значение:"
   ]
  },
  {
   "cell_type": "markdown",
   "metadata": {},
   "source": [
    "- `tariff_name` — название тарифа\n",
    "- `rub_monthly_fee` — ежемесячная абонентская плата в рублях\n",
    "- `minutes_included` — количество минут разговора в месяц, включённых в абонентскую плату\n",
    "- `messages_included` — количество сообщений в месяц, включённых в абонентскую плату\n",
    "- `mb_per_month_included` — объём интернет-трафика, включённого в абонентскую плату (в мегабайтах)\n",
    "- `rub_per_minute` — стоимость минуты разговора сверх тарифного пакета (например, если в тарифе 100 минут разговора в месяц, то со 101 минуты будет взиматься плата)\n",
    "- `rub_per_message` — стоимость отправки сообщения сверх тарифного пакета\n",
    "- `rub_per_gb` — стоимость дополнительного гигабайта интернет-трафика сверх тарифного пакета (1 гигабайт = 1024 мегабайта)"
   ]
  },
  {
   "cell_type": "markdown",
   "metadata": {},
   "source": [
    "##### Изучим общую информацию в данных файла `users`:"
   ]
  },
  {
   "cell_type": "code",
   "execution_count": 11,
   "metadata": {},
   "outputs": [
    {
     "name": "stdout",
     "output_type": "stream",
     "text": [
      "<class 'pandas.core.frame.DataFrame'>\n",
      "RangeIndex: 500 entries, 0 to 499\n",
      "Data columns (total 8 columns):\n",
      " #   Column      Non-Null Count  Dtype \n",
      "---  ------      --------------  ----- \n",
      " 0   user_id     500 non-null    int64 \n",
      " 1   age         500 non-null    int64 \n",
      " 2   churn_date  38 non-null     object\n",
      " 3   city        500 non-null    object\n",
      " 4   first_name  500 non-null    object\n",
      " 5   last_name   500 non-null    object\n",
      " 6   reg_date    500 non-null    object\n",
      " 7   tariff      500 non-null    object\n",
      "dtypes: int64(2), object(6)\n",
      "memory usage: 31.4+ KB\n"
     ]
    }
   ],
   "source": [
    "df_users.info()"
   ]
  },
  {
   "cell_type": "markdown",
   "metadata": {},
   "source": [
    "Файл `users` (\"Информация о пользователях\") содержит 8 колонок. Тип файлов \"целые числа\", \"строка\". Всего 500 строк, имеются пропущенные значения. Изучим первые 10 строк:"
   ]
  },
  {
   "cell_type": "code",
   "execution_count": 12,
   "metadata": {},
   "outputs": [
    {
     "data": {
      "text/html": [
       "<div>\n",
       "<style scoped>\n",
       "    .dataframe tbody tr th:only-of-type {\n",
       "        vertical-align: middle;\n",
       "    }\n",
       "\n",
       "    .dataframe tbody tr th {\n",
       "        vertical-align: top;\n",
       "    }\n",
       "\n",
       "    .dataframe thead th {\n",
       "        text-align: right;\n",
       "    }\n",
       "</style>\n",
       "<table border=\"1\" class=\"dataframe\">\n",
       "  <thead>\n",
       "    <tr style=\"text-align: right;\">\n",
       "      <th></th>\n",
       "      <th>user_id</th>\n",
       "      <th>age</th>\n",
       "      <th>churn_date</th>\n",
       "      <th>city</th>\n",
       "      <th>first_name</th>\n",
       "      <th>last_name</th>\n",
       "      <th>reg_date</th>\n",
       "      <th>tariff</th>\n",
       "    </tr>\n",
       "  </thead>\n",
       "  <tbody>\n",
       "    <tr>\n",
       "      <th>0</th>\n",
       "      <td>1000</td>\n",
       "      <td>52</td>\n",
       "      <td>NaN</td>\n",
       "      <td>Краснодар</td>\n",
       "      <td>Рафаил</td>\n",
       "      <td>Верещагин</td>\n",
       "      <td>2018-05-25</td>\n",
       "      <td>ultra</td>\n",
       "    </tr>\n",
       "    <tr>\n",
       "      <th>1</th>\n",
       "      <td>1001</td>\n",
       "      <td>41</td>\n",
       "      <td>NaN</td>\n",
       "      <td>Москва</td>\n",
       "      <td>Иван</td>\n",
       "      <td>Ежов</td>\n",
       "      <td>2018-11-01</td>\n",
       "      <td>smart</td>\n",
       "    </tr>\n",
       "    <tr>\n",
       "      <th>2</th>\n",
       "      <td>1002</td>\n",
       "      <td>59</td>\n",
       "      <td>NaN</td>\n",
       "      <td>Стерлитамак</td>\n",
       "      <td>Евгений</td>\n",
       "      <td>Абрамович</td>\n",
       "      <td>2018-06-17</td>\n",
       "      <td>smart</td>\n",
       "    </tr>\n",
       "    <tr>\n",
       "      <th>3</th>\n",
       "      <td>1003</td>\n",
       "      <td>23</td>\n",
       "      <td>NaN</td>\n",
       "      <td>Москва</td>\n",
       "      <td>Белла</td>\n",
       "      <td>Белякова</td>\n",
       "      <td>2018-08-17</td>\n",
       "      <td>ultra</td>\n",
       "    </tr>\n",
       "    <tr>\n",
       "      <th>4</th>\n",
       "      <td>1004</td>\n",
       "      <td>68</td>\n",
       "      <td>NaN</td>\n",
       "      <td>Новокузнецк</td>\n",
       "      <td>Татьяна</td>\n",
       "      <td>Авдеенко</td>\n",
       "      <td>2018-05-14</td>\n",
       "      <td>ultra</td>\n",
       "    </tr>\n",
       "    <tr>\n",
       "      <th>5</th>\n",
       "      <td>1005</td>\n",
       "      <td>67</td>\n",
       "      <td>NaN</td>\n",
       "      <td>Набережные Челны</td>\n",
       "      <td>Афанасий</td>\n",
       "      <td>Горлов</td>\n",
       "      <td>2018-01-25</td>\n",
       "      <td>smart</td>\n",
       "    </tr>\n",
       "    <tr>\n",
       "      <th>6</th>\n",
       "      <td>1006</td>\n",
       "      <td>21</td>\n",
       "      <td>NaN</td>\n",
       "      <td>Ульяновск</td>\n",
       "      <td>Леонид</td>\n",
       "      <td>Ермолаев</td>\n",
       "      <td>2018-02-26</td>\n",
       "      <td>smart</td>\n",
       "    </tr>\n",
       "    <tr>\n",
       "      <th>7</th>\n",
       "      <td>1007</td>\n",
       "      <td>65</td>\n",
       "      <td>NaN</td>\n",
       "      <td>Москва</td>\n",
       "      <td>Юна</td>\n",
       "      <td>Березина</td>\n",
       "      <td>2018-04-19</td>\n",
       "      <td>smart</td>\n",
       "    </tr>\n",
       "    <tr>\n",
       "      <th>8</th>\n",
       "      <td>1008</td>\n",
       "      <td>63</td>\n",
       "      <td>NaN</td>\n",
       "      <td>Челябинск</td>\n",
       "      <td>Рустэм</td>\n",
       "      <td>Пономарёв</td>\n",
       "      <td>2018-12-19</td>\n",
       "      <td>smart</td>\n",
       "    </tr>\n",
       "    <tr>\n",
       "      <th>9</th>\n",
       "      <td>1009</td>\n",
       "      <td>24</td>\n",
       "      <td>NaN</td>\n",
       "      <td>Пермь</td>\n",
       "      <td>Василиса</td>\n",
       "      <td>Блинова</td>\n",
       "      <td>2018-03-22</td>\n",
       "      <td>smart</td>\n",
       "    </tr>\n",
       "  </tbody>\n",
       "</table>\n",
       "</div>"
      ],
      "text/plain": [
       "   user_id  age churn_date              city first_name  last_name  \\\n",
       "0     1000   52        NaN         Краснодар     Рафаил  Верещагин   \n",
       "1     1001   41        NaN            Москва       Иван       Ежов   \n",
       "2     1002   59        NaN       Стерлитамак    Евгений  Абрамович   \n",
       "3     1003   23        NaN            Москва      Белла   Белякова   \n",
       "4     1004   68        NaN       Новокузнецк    Татьяна   Авдеенко   \n",
       "5     1005   67        NaN  Набережные Челны   Афанасий     Горлов   \n",
       "6     1006   21        NaN         Ульяновск     Леонид   Ермолаев   \n",
       "7     1007   65        NaN            Москва        Юна   Березина   \n",
       "8     1008   63        NaN         Челябинск     Рустэм  Пономарёв   \n",
       "9     1009   24        NaN             Пермь   Василиса    Блинова   \n",
       "\n",
       "     reg_date tariff  \n",
       "0  2018-05-25  ultra  \n",
       "1  2018-11-01  smart  \n",
       "2  2018-06-17  smart  \n",
       "3  2018-08-17  ultra  \n",
       "4  2018-05-14  ultra  \n",
       "5  2018-01-25  smart  \n",
       "6  2018-02-26  smart  \n",
       "7  2018-04-19  smart  \n",
       "8  2018-12-19  smart  \n",
       "9  2018-03-22  smart  "
      ]
     },
     "execution_count": 12,
     "metadata": {},
     "output_type": "execute_result"
    }
   ],
   "source": [
    "df_users.head(10)"
   ]
  },
  {
   "cell_type": "markdown",
   "metadata": {},
   "source": [
    "Согласно документации к данным, колонки имеют значение:"
   ]
  },
  {
   "cell_type": "markdown",
   "metadata": {},
   "source": [
    "- `user_id` — уникальный идентификатор пользователя\n",
    "- `first_name` — имя пользователя\n",
    "- `last_name` — фамилия пользователя\n",
    "- `age` — возраст пользователя (годы)\n",
    "- `reg_date` — дата подключения тарифа (день, месяц, год)\n",
    "- `churn_date` — дата прекращения пользования тарифом (если значение пропущено, то тариф ещё действовал на момент выгрузки данных)\n",
    "- `city` — город проживания пользователя\n",
    "- `tarif` — название тарифного плана"
   ]
  },
  {
   "cell_type": "markdown",
   "metadata": {},
   "source": [
    "### Выводы:\n",
    "- в файле `calls` в столбце `duration` время обозначено в минутах и секундах. Согласно условию, компания всегда округляет секунды в минуты, причем в большую сторону. Необходимо сделать предобработку данных. Кроме того, в столбец `call_date` необходимо обработать методом `datetime`, чтобы Pandas не принял их за строки или числа. Также проверим столбец `id` на дубликаты;\n",
    "- в файле `internet` в столбец `Unnamed: 0` явно лишний, т.к. дублирует индексацию. Удалим его. Согласно условию, компания всегда округляет мегабайты в гигабайты, причем в большую сторону. Необходимо сделать предобработку данных. Кроме того, столбец `session_date` необходимо обработать методом `datetime`, чтобы Pandas не принял их за строки или числа. Также проверим столбец `id` на дубликаты;\n",
    "- в файле `messages` столбец `message_date` необходимо обработать методом `datetime`, чтобы Pandas не принял их за строки или числа. Также проверим столбец `id` на дубликаты;\n",
    "- в файле `tariffs` на первый взгляд данные представлены в надлежащем виде;\n",
    "- в файле `users` в столбце `churn_date` видим пропущенные значения, однако, согласно документации, если значение пропущено, значит, тариф действовал на момент выгрузки. Следовательно, заполнять пропущенные значения не нужно. Столбцы `churn_date` и `reg_date` необходимо обработать методом `datetime`"
   ]
  },
  {
   "cell_type": "markdown",
   "metadata": {},
   "source": [
    "# Предобработка и подготовка данных"
   ]
  },
  {
   "cell_type": "markdown",
   "metadata": {},
   "source": [
    "### `calls` (\"Информация о звонках\")"
   ]
  },
  {
   "cell_type": "code",
   "execution_count": 13,
   "metadata": {},
   "outputs": [],
   "source": [
    "# Переведем секунды в минуты в столбце `duration` в большую сторону и меняем тип на целочисленный\n",
    "df_calls['duration'] = np.ceil(df_calls['duration']).astype('int')"
   ]
  },
  {
   "cell_type": "code",
   "execution_count": 14,
   "metadata": {},
   "outputs": [],
   "source": [
    "# Обработаем столбец `call_date`:\n",
    "df_calls['call_date'] = pd.to_datetime(df_calls['call_date'], format='%Y-%m-%d')"
   ]
  },
  {
   "cell_type": "code",
   "execution_count": 15,
   "metadata": {},
   "outputs": [
    {
     "data": {
      "text/plain": [
       "0"
      ]
     },
     "execution_count": 15,
     "metadata": {},
     "output_type": "execute_result"
    }
   ],
   "source": [
    "# Проверим столбец `id` на дубликаты\n",
    "df_calls['id'].duplicated().sum()"
   ]
  },
  {
   "cell_type": "code",
   "execution_count": 16,
   "metadata": {},
   "outputs": [
    {
     "data": {
      "text/html": [
       "<div>\n",
       "<style scoped>\n",
       "    .dataframe tbody tr th:only-of-type {\n",
       "        vertical-align: middle;\n",
       "    }\n",
       "\n",
       "    .dataframe tbody tr th {\n",
       "        vertical-align: top;\n",
       "    }\n",
       "\n",
       "    .dataframe thead th {\n",
       "        text-align: right;\n",
       "    }\n",
       "</style>\n",
       "<table border=\"1\" class=\"dataframe\">\n",
       "  <thead>\n",
       "    <tr style=\"text-align: right;\">\n",
       "      <th></th>\n",
       "      <th>id</th>\n",
       "      <th>call_date</th>\n",
       "      <th>duration</th>\n",
       "      <th>user_id</th>\n",
       "    </tr>\n",
       "  </thead>\n",
       "  <tbody>\n",
       "    <tr>\n",
       "      <th>0</th>\n",
       "      <td>1000_0</td>\n",
       "      <td>2018-07-25</td>\n",
       "      <td>0</td>\n",
       "      <td>1000</td>\n",
       "    </tr>\n",
       "    <tr>\n",
       "      <th>1</th>\n",
       "      <td>1000_1</td>\n",
       "      <td>2018-08-17</td>\n",
       "      <td>0</td>\n",
       "      <td>1000</td>\n",
       "    </tr>\n",
       "    <tr>\n",
       "      <th>2</th>\n",
       "      <td>1000_2</td>\n",
       "      <td>2018-06-11</td>\n",
       "      <td>3</td>\n",
       "      <td>1000</td>\n",
       "    </tr>\n",
       "    <tr>\n",
       "      <th>3</th>\n",
       "      <td>1000_3</td>\n",
       "      <td>2018-09-21</td>\n",
       "      <td>14</td>\n",
       "      <td>1000</td>\n",
       "    </tr>\n",
       "    <tr>\n",
       "      <th>4</th>\n",
       "      <td>1000_4</td>\n",
       "      <td>2018-12-15</td>\n",
       "      <td>6</td>\n",
       "      <td>1000</td>\n",
       "    </tr>\n",
       "    <tr>\n",
       "      <th>5</th>\n",
       "      <td>1000_5</td>\n",
       "      <td>2018-11-02</td>\n",
       "      <td>0</td>\n",
       "      <td>1000</td>\n",
       "    </tr>\n",
       "    <tr>\n",
       "      <th>6</th>\n",
       "      <td>1000_6</td>\n",
       "      <td>2018-10-18</td>\n",
       "      <td>0</td>\n",
       "      <td>1000</td>\n",
       "    </tr>\n",
       "    <tr>\n",
       "      <th>7</th>\n",
       "      <td>1000_7</td>\n",
       "      <td>2018-08-22</td>\n",
       "      <td>19</td>\n",
       "      <td>1000</td>\n",
       "    </tr>\n",
       "    <tr>\n",
       "      <th>8</th>\n",
       "      <td>1000_8</td>\n",
       "      <td>2018-09-15</td>\n",
       "      <td>19</td>\n",
       "      <td>1000</td>\n",
       "    </tr>\n",
       "    <tr>\n",
       "      <th>9</th>\n",
       "      <td>1000_9</td>\n",
       "      <td>2018-08-15</td>\n",
       "      <td>0</td>\n",
       "      <td>1000</td>\n",
       "    </tr>\n",
       "  </tbody>\n",
       "</table>\n",
       "</div>"
      ],
      "text/plain": [
       "       id  call_date  duration  user_id\n",
       "0  1000_0 2018-07-25         0     1000\n",
       "1  1000_1 2018-08-17         0     1000\n",
       "2  1000_2 2018-06-11         3     1000\n",
       "3  1000_3 2018-09-21        14     1000\n",
       "4  1000_4 2018-12-15         6     1000\n",
       "5  1000_5 2018-11-02         0     1000\n",
       "6  1000_6 2018-10-18         0     1000\n",
       "7  1000_7 2018-08-22        19     1000\n",
       "8  1000_8 2018-09-15        19     1000\n",
       "9  1000_9 2018-08-15         0     1000"
      ]
     },
     "execution_count": 16,
     "metadata": {},
     "output_type": "execute_result"
    }
   ],
   "source": [
    "# Проверим файл после предобработки\n",
    "df_calls.head(10)"
   ]
  },
  {
   "cell_type": "code",
   "execution_count": 17,
   "metadata": {},
   "outputs": [
    {
     "name": "stdout",
     "output_type": "stream",
     "text": [
      "<class 'pandas.core.frame.DataFrame'>\n",
      "RangeIndex: 202607 entries, 0 to 202606\n",
      "Data columns (total 4 columns):\n",
      " #   Column     Non-Null Count   Dtype         \n",
      "---  ------     --------------   -----         \n",
      " 0   id         202607 non-null  object        \n",
      " 1   call_date  202607 non-null  datetime64[ns]\n",
      " 2   duration   202607 non-null  int32         \n",
      " 3   user_id    202607 non-null  int64         \n",
      "dtypes: datetime64[ns](1), int32(1), int64(1), object(1)\n",
      "memory usage: 5.4+ MB\n"
     ]
    }
   ],
   "source": [
    "df_calls.info()"
   ]
  },
  {
   "cell_type": "markdown",
   "metadata": {},
   "source": [
    "Обработка файла `calls` произведена успешно"
   ]
  },
  {
   "cell_type": "markdown",
   "metadata": {},
   "source": [
    "### `internet` (\"Информация об интернет-сессиях\")"
   ]
  },
  {
   "cell_type": "code",
   "execution_count": 18,
   "metadata": {},
   "outputs": [],
   "source": [
    "# меняем тип на целочисленный\n",
    "#df_internet['mb_used'] = np.ceil(df_internet['mb_used']).astype('int')"
   ]
  },
  {
   "cell_type": "code",
   "execution_count": 19,
   "metadata": {},
   "outputs": [],
   "source": [
    "# Обработаем столбец `session_date`:\n",
    "df_internet['session_date'] = pd.to_datetime(df_internet['session_date'], format='%Y-%m-%d')"
   ]
  },
  {
   "cell_type": "code",
   "execution_count": 20,
   "metadata": {},
   "outputs": [
    {
     "data": {
      "text/plain": [
       "0"
      ]
     },
     "execution_count": 20,
     "metadata": {},
     "output_type": "execute_result"
    }
   ],
   "source": [
    "# Проверим столбец `id` на дубликаты\n",
    "df_internet['id'].duplicated().sum()"
   ]
  },
  {
   "cell_type": "code",
   "execution_count": 21,
   "metadata": {},
   "outputs": [],
   "source": [
    "# Удалим столбец `Unnamed: 0` методом `drop`\n",
    "df_internet = df_internet.drop('Unnamed: 0', axis=1)"
   ]
  },
  {
   "cell_type": "code",
   "execution_count": 22,
   "metadata": {},
   "outputs": [
    {
     "data": {
      "text/html": [
       "<div>\n",
       "<style scoped>\n",
       "    .dataframe tbody tr th:only-of-type {\n",
       "        vertical-align: middle;\n",
       "    }\n",
       "\n",
       "    .dataframe tbody tr th {\n",
       "        vertical-align: top;\n",
       "    }\n",
       "\n",
       "    .dataframe thead th {\n",
       "        text-align: right;\n",
       "    }\n",
       "</style>\n",
       "<table border=\"1\" class=\"dataframe\">\n",
       "  <thead>\n",
       "    <tr style=\"text-align: right;\">\n",
       "      <th></th>\n",
       "      <th>id</th>\n",
       "      <th>mb_used</th>\n",
       "      <th>session_date</th>\n",
       "      <th>user_id</th>\n",
       "    </tr>\n",
       "  </thead>\n",
       "  <tbody>\n",
       "    <tr>\n",
       "      <th>0</th>\n",
       "      <td>1000_0</td>\n",
       "      <td>112.95</td>\n",
       "      <td>2018-11-25</td>\n",
       "      <td>1000</td>\n",
       "    </tr>\n",
       "    <tr>\n",
       "      <th>1</th>\n",
       "      <td>1000_1</td>\n",
       "      <td>1,052.81</td>\n",
       "      <td>2018-09-07</td>\n",
       "      <td>1000</td>\n",
       "    </tr>\n",
       "    <tr>\n",
       "      <th>2</th>\n",
       "      <td>1000_2</td>\n",
       "      <td>1,197.26</td>\n",
       "      <td>2018-06-25</td>\n",
       "      <td>1000</td>\n",
       "    </tr>\n",
       "    <tr>\n",
       "      <th>3</th>\n",
       "      <td>1000_3</td>\n",
       "      <td>550.27</td>\n",
       "      <td>2018-08-22</td>\n",
       "      <td>1000</td>\n",
       "    </tr>\n",
       "    <tr>\n",
       "      <th>4</th>\n",
       "      <td>1000_4</td>\n",
       "      <td>302.56</td>\n",
       "      <td>2018-09-24</td>\n",
       "      <td>1000</td>\n",
       "    </tr>\n",
       "    <tr>\n",
       "      <th>5</th>\n",
       "      <td>1000_5</td>\n",
       "      <td>399.97</td>\n",
       "      <td>2018-10-02</td>\n",
       "      <td>1000</td>\n",
       "    </tr>\n",
       "    <tr>\n",
       "      <th>6</th>\n",
       "      <td>1000_6</td>\n",
       "      <td>540.08</td>\n",
       "      <td>2018-09-07</td>\n",
       "      <td>1000</td>\n",
       "    </tr>\n",
       "    <tr>\n",
       "      <th>7</th>\n",
       "      <td>1000_7</td>\n",
       "      <td>415.70</td>\n",
       "      <td>2018-07-11</td>\n",
       "      <td>1000</td>\n",
       "    </tr>\n",
       "    <tr>\n",
       "      <th>8</th>\n",
       "      <td>1000_8</td>\n",
       "      <td>505.40</td>\n",
       "      <td>2018-10-08</td>\n",
       "      <td>1000</td>\n",
       "    </tr>\n",
       "    <tr>\n",
       "      <th>9</th>\n",
       "      <td>1000_9</td>\n",
       "      <td>345.54</td>\n",
       "      <td>2018-09-03</td>\n",
       "      <td>1000</td>\n",
       "    </tr>\n",
       "  </tbody>\n",
       "</table>\n",
       "</div>"
      ],
      "text/plain": [
       "       id  mb_used session_date  user_id\n",
       "0  1000_0   112.95   2018-11-25     1000\n",
       "1  1000_1 1,052.81   2018-09-07     1000\n",
       "2  1000_2 1,197.26   2018-06-25     1000\n",
       "3  1000_3   550.27   2018-08-22     1000\n",
       "4  1000_4   302.56   2018-09-24     1000\n",
       "5  1000_5   399.97   2018-10-02     1000\n",
       "6  1000_6   540.08   2018-09-07     1000\n",
       "7  1000_7   415.70   2018-07-11     1000\n",
       "8  1000_8   505.40   2018-10-08     1000\n",
       "9  1000_9   345.54   2018-09-03     1000"
      ]
     },
     "execution_count": 22,
     "metadata": {},
     "output_type": "execute_result"
    }
   ],
   "source": [
    "# Проверим файл после предобработки\n",
    "df_internet.head(10)"
   ]
  },
  {
   "cell_type": "code",
   "execution_count": 23,
   "metadata": {},
   "outputs": [
    {
     "name": "stdout",
     "output_type": "stream",
     "text": [
      "<class 'pandas.core.frame.DataFrame'>\n",
      "RangeIndex: 149396 entries, 0 to 149395\n",
      "Data columns (total 4 columns):\n",
      " #   Column        Non-Null Count   Dtype         \n",
      "---  ------        --------------   -----         \n",
      " 0   id            149396 non-null  object        \n",
      " 1   mb_used       149396 non-null  float64       \n",
      " 2   session_date  149396 non-null  datetime64[ns]\n",
      " 3   user_id       149396 non-null  int64         \n",
      "dtypes: datetime64[ns](1), float64(1), int64(1), object(1)\n",
      "memory usage: 4.6+ MB\n"
     ]
    }
   ],
   "source": [
    "df_internet.info()"
   ]
  },
  {
   "cell_type": "markdown",
   "metadata": {},
   "source": [
    "Обработка файла `internet` произведена успешно"
   ]
  },
  {
   "cell_type": "markdown",
   "metadata": {},
   "source": [
    "### `messages` (\"Информация о сообщениях\")"
   ]
  },
  {
   "cell_type": "code",
   "execution_count": 24,
   "metadata": {},
   "outputs": [],
   "source": [
    "# Обработаем столбец `message_date`:\n",
    "df_messages['message_date'] = pd.to_datetime(df_messages['message_date'], format='%Y-%m-%d')"
   ]
  },
  {
   "cell_type": "code",
   "execution_count": 25,
   "metadata": {},
   "outputs": [
    {
     "data": {
      "text/plain": [
       "0"
      ]
     },
     "execution_count": 25,
     "metadata": {},
     "output_type": "execute_result"
    }
   ],
   "source": [
    "# Проверим столбец `id` на дубликаты\n",
    "df_messages['id'].duplicated().sum()"
   ]
  },
  {
   "cell_type": "code",
   "execution_count": 26,
   "metadata": {},
   "outputs": [
    {
     "data": {
      "text/html": [
       "<div>\n",
       "<style scoped>\n",
       "    .dataframe tbody tr th:only-of-type {\n",
       "        vertical-align: middle;\n",
       "    }\n",
       "\n",
       "    .dataframe tbody tr th {\n",
       "        vertical-align: top;\n",
       "    }\n",
       "\n",
       "    .dataframe thead th {\n",
       "        text-align: right;\n",
       "    }\n",
       "</style>\n",
       "<table border=\"1\" class=\"dataframe\">\n",
       "  <thead>\n",
       "    <tr style=\"text-align: right;\">\n",
       "      <th></th>\n",
       "      <th>id</th>\n",
       "      <th>message_date</th>\n",
       "      <th>user_id</th>\n",
       "    </tr>\n",
       "  </thead>\n",
       "  <tbody>\n",
       "    <tr>\n",
       "      <th>0</th>\n",
       "      <td>1000_0</td>\n",
       "      <td>2018-06-27</td>\n",
       "      <td>1000</td>\n",
       "    </tr>\n",
       "    <tr>\n",
       "      <th>1</th>\n",
       "      <td>1000_1</td>\n",
       "      <td>2018-10-08</td>\n",
       "      <td>1000</td>\n",
       "    </tr>\n",
       "    <tr>\n",
       "      <th>2</th>\n",
       "      <td>1000_2</td>\n",
       "      <td>2018-08-04</td>\n",
       "      <td>1000</td>\n",
       "    </tr>\n",
       "    <tr>\n",
       "      <th>3</th>\n",
       "      <td>1000_3</td>\n",
       "      <td>2018-06-16</td>\n",
       "      <td>1000</td>\n",
       "    </tr>\n",
       "    <tr>\n",
       "      <th>4</th>\n",
       "      <td>1000_4</td>\n",
       "      <td>2018-12-05</td>\n",
       "      <td>1000</td>\n",
       "    </tr>\n",
       "    <tr>\n",
       "      <th>5</th>\n",
       "      <td>1000_5</td>\n",
       "      <td>2018-06-20</td>\n",
       "      <td>1000</td>\n",
       "    </tr>\n",
       "    <tr>\n",
       "      <th>6</th>\n",
       "      <td>1000_6</td>\n",
       "      <td>2018-11-19</td>\n",
       "      <td>1000</td>\n",
       "    </tr>\n",
       "    <tr>\n",
       "      <th>7</th>\n",
       "      <td>1000_7</td>\n",
       "      <td>2018-10-29</td>\n",
       "      <td>1000</td>\n",
       "    </tr>\n",
       "    <tr>\n",
       "      <th>8</th>\n",
       "      <td>1000_8</td>\n",
       "      <td>2018-06-25</td>\n",
       "      <td>1000</td>\n",
       "    </tr>\n",
       "    <tr>\n",
       "      <th>9</th>\n",
       "      <td>1000_9</td>\n",
       "      <td>2018-12-18</td>\n",
       "      <td>1000</td>\n",
       "    </tr>\n",
       "  </tbody>\n",
       "</table>\n",
       "</div>"
      ],
      "text/plain": [
       "       id message_date  user_id\n",
       "0  1000_0   2018-06-27     1000\n",
       "1  1000_1   2018-10-08     1000\n",
       "2  1000_2   2018-08-04     1000\n",
       "3  1000_3   2018-06-16     1000\n",
       "4  1000_4   2018-12-05     1000\n",
       "5  1000_5   2018-06-20     1000\n",
       "6  1000_6   2018-11-19     1000\n",
       "7  1000_7   2018-10-29     1000\n",
       "8  1000_8   2018-06-25     1000\n",
       "9  1000_9   2018-12-18     1000"
      ]
     },
     "execution_count": 26,
     "metadata": {},
     "output_type": "execute_result"
    }
   ],
   "source": [
    "# Проверим файл после предобработки\n",
    "df_messages.head(10)"
   ]
  },
  {
   "cell_type": "code",
   "execution_count": 27,
   "metadata": {},
   "outputs": [
    {
     "name": "stdout",
     "output_type": "stream",
     "text": [
      "<class 'pandas.core.frame.DataFrame'>\n",
      "RangeIndex: 123036 entries, 0 to 123035\n",
      "Data columns (total 3 columns):\n",
      " #   Column        Non-Null Count   Dtype         \n",
      "---  ------        --------------   -----         \n",
      " 0   id            123036 non-null  object        \n",
      " 1   message_date  123036 non-null  datetime64[ns]\n",
      " 2   user_id       123036 non-null  int64         \n",
      "dtypes: datetime64[ns](1), int64(1), object(1)\n",
      "memory usage: 2.8+ MB\n"
     ]
    }
   ],
   "source": [
    "df_messages.info()"
   ]
  },
  {
   "cell_type": "markdown",
   "metadata": {},
   "source": [
    "Обработка файла `messages` произведена успешно\n"
   ]
  },
  {
   "cell_type": "markdown",
   "metadata": {},
   "source": [
    "### `tariffs` (\"Информация о тарифах\")"
   ]
  },
  {
   "cell_type": "code",
   "execution_count": 28,
   "metadata": {},
   "outputs": [
    {
     "data": {
      "text/html": [
       "<div>\n",
       "<style scoped>\n",
       "    .dataframe tbody tr th:only-of-type {\n",
       "        vertical-align: middle;\n",
       "    }\n",
       "\n",
       "    .dataframe tbody tr th {\n",
       "        vertical-align: top;\n",
       "    }\n",
       "\n",
       "    .dataframe thead th {\n",
       "        text-align: right;\n",
       "    }\n",
       "</style>\n",
       "<table border=\"1\" class=\"dataframe\">\n",
       "  <thead>\n",
       "    <tr style=\"text-align: right;\">\n",
       "      <th></th>\n",
       "      <th>messages_included</th>\n",
       "      <th>mb_per_month_included</th>\n",
       "      <th>minutes_included</th>\n",
       "      <th>rub_monthly_fee</th>\n",
       "      <th>rub_per_gb</th>\n",
       "      <th>rub_per_message</th>\n",
       "      <th>rub_per_minute</th>\n",
       "      <th>tariff_name</th>\n",
       "    </tr>\n",
       "  </thead>\n",
       "  <tbody>\n",
       "    <tr>\n",
       "      <th>0</th>\n",
       "      <td>50</td>\n",
       "      <td>15360</td>\n",
       "      <td>500</td>\n",
       "      <td>550</td>\n",
       "      <td>200</td>\n",
       "      <td>3</td>\n",
       "      <td>3</td>\n",
       "      <td>smart</td>\n",
       "    </tr>\n",
       "    <tr>\n",
       "      <th>1</th>\n",
       "      <td>1000</td>\n",
       "      <td>30720</td>\n",
       "      <td>3000</td>\n",
       "      <td>1950</td>\n",
       "      <td>150</td>\n",
       "      <td>1</td>\n",
       "      <td>1</td>\n",
       "      <td>ultra</td>\n",
       "    </tr>\n",
       "  </tbody>\n",
       "</table>\n",
       "</div>"
      ],
      "text/plain": [
       "   messages_included  mb_per_month_included  minutes_included  \\\n",
       "0                 50                  15360               500   \n",
       "1               1000                  30720              3000   \n",
       "\n",
       "   rub_monthly_fee  rub_per_gb  rub_per_message  rub_per_minute tariff_name  \n",
       "0              550         200                3               3       smart  \n",
       "1             1950         150                1               1       ultra  "
      ]
     },
     "execution_count": 28,
     "metadata": {},
     "output_type": "execute_result"
    }
   ],
   "source": [
    "# Еще раз посмотрим на файл\n",
    "df_tariffs.head()"
   ]
  },
  {
   "cell_type": "code",
   "execution_count": 29,
   "metadata": {
    "scrolled": false
   },
   "outputs": [
    {
     "name": "stdout",
     "output_type": "stream",
     "text": [
      "<class 'pandas.core.frame.DataFrame'>\n",
      "RangeIndex: 2 entries, 0 to 1\n",
      "Data columns (total 8 columns):\n",
      " #   Column                 Non-Null Count  Dtype \n",
      "---  ------                 --------------  ----- \n",
      " 0   messages_included      2 non-null      int64 \n",
      " 1   mb_per_month_included  2 non-null      int64 \n",
      " 2   minutes_included       2 non-null      int64 \n",
      " 3   rub_monthly_fee        2 non-null      int64 \n",
      " 4   rub_per_gb             2 non-null      int64 \n",
      " 5   rub_per_message        2 non-null      int64 \n",
      " 6   rub_per_minute         2 non-null      int64 \n",
      " 7   tariff_name            2 non-null      object\n",
      "dtypes: int64(7), object(1)\n",
      "memory usage: 256.0+ bytes\n"
     ]
    }
   ],
   "source": [
    "df_tariffs.info()"
   ]
  },
  {
   "cell_type": "markdown",
   "metadata": {},
   "source": [
    "Файл `tariffs` в обработке не нуждается "
   ]
  },
  {
   "cell_type": "markdown",
   "metadata": {},
   "source": [
    "### `users` (\"Информация о пользователях\")"
   ]
  },
  {
   "cell_type": "code",
   "execution_count": 30,
   "metadata": {},
   "outputs": [],
   "source": [
    "# Обработаем столбец `churn_date`:\n",
    "df_users['churn_date'] = pd.to_datetime(df_users['churn_date'], format='%Y-%m-%d')"
   ]
  },
  {
   "cell_type": "code",
   "execution_count": 31,
   "metadata": {},
   "outputs": [],
   "source": [
    "# Обработаем столбец `reg_date`:\n",
    "df_users['reg_date'] = pd.to_datetime(df_users['reg_date'], format='%Y-%m-%d')"
   ]
  },
  {
   "cell_type": "code",
   "execution_count": 32,
   "metadata": {},
   "outputs": [
    {
     "data": {
      "text/html": [
       "<div>\n",
       "<style scoped>\n",
       "    .dataframe tbody tr th:only-of-type {\n",
       "        vertical-align: middle;\n",
       "    }\n",
       "\n",
       "    .dataframe tbody tr th {\n",
       "        vertical-align: top;\n",
       "    }\n",
       "\n",
       "    .dataframe thead th {\n",
       "        text-align: right;\n",
       "    }\n",
       "</style>\n",
       "<table border=\"1\" class=\"dataframe\">\n",
       "  <thead>\n",
       "    <tr style=\"text-align: right;\">\n",
       "      <th></th>\n",
       "      <th>user_id</th>\n",
       "      <th>age</th>\n",
       "      <th>churn_date</th>\n",
       "      <th>city</th>\n",
       "      <th>first_name</th>\n",
       "      <th>last_name</th>\n",
       "      <th>reg_date</th>\n",
       "      <th>tariff</th>\n",
       "    </tr>\n",
       "  </thead>\n",
       "  <tbody>\n",
       "    <tr>\n",
       "      <th>0</th>\n",
       "      <td>1000</td>\n",
       "      <td>52</td>\n",
       "      <td>NaT</td>\n",
       "      <td>Краснодар</td>\n",
       "      <td>Рафаил</td>\n",
       "      <td>Верещагин</td>\n",
       "      <td>2018-05-25</td>\n",
       "      <td>ultra</td>\n",
       "    </tr>\n",
       "    <tr>\n",
       "      <th>1</th>\n",
       "      <td>1001</td>\n",
       "      <td>41</td>\n",
       "      <td>NaT</td>\n",
       "      <td>Москва</td>\n",
       "      <td>Иван</td>\n",
       "      <td>Ежов</td>\n",
       "      <td>2018-11-01</td>\n",
       "      <td>smart</td>\n",
       "    </tr>\n",
       "    <tr>\n",
       "      <th>2</th>\n",
       "      <td>1002</td>\n",
       "      <td>59</td>\n",
       "      <td>NaT</td>\n",
       "      <td>Стерлитамак</td>\n",
       "      <td>Евгений</td>\n",
       "      <td>Абрамович</td>\n",
       "      <td>2018-06-17</td>\n",
       "      <td>smart</td>\n",
       "    </tr>\n",
       "    <tr>\n",
       "      <th>3</th>\n",
       "      <td>1003</td>\n",
       "      <td>23</td>\n",
       "      <td>NaT</td>\n",
       "      <td>Москва</td>\n",
       "      <td>Белла</td>\n",
       "      <td>Белякова</td>\n",
       "      <td>2018-08-17</td>\n",
       "      <td>ultra</td>\n",
       "    </tr>\n",
       "    <tr>\n",
       "      <th>4</th>\n",
       "      <td>1004</td>\n",
       "      <td>68</td>\n",
       "      <td>NaT</td>\n",
       "      <td>Новокузнецк</td>\n",
       "      <td>Татьяна</td>\n",
       "      <td>Авдеенко</td>\n",
       "      <td>2018-05-14</td>\n",
       "      <td>ultra</td>\n",
       "    </tr>\n",
       "    <tr>\n",
       "      <th>5</th>\n",
       "      <td>1005</td>\n",
       "      <td>67</td>\n",
       "      <td>NaT</td>\n",
       "      <td>Набережные Челны</td>\n",
       "      <td>Афанасий</td>\n",
       "      <td>Горлов</td>\n",
       "      <td>2018-01-25</td>\n",
       "      <td>smart</td>\n",
       "    </tr>\n",
       "    <tr>\n",
       "      <th>6</th>\n",
       "      <td>1006</td>\n",
       "      <td>21</td>\n",
       "      <td>NaT</td>\n",
       "      <td>Ульяновск</td>\n",
       "      <td>Леонид</td>\n",
       "      <td>Ермолаев</td>\n",
       "      <td>2018-02-26</td>\n",
       "      <td>smart</td>\n",
       "    </tr>\n",
       "    <tr>\n",
       "      <th>7</th>\n",
       "      <td>1007</td>\n",
       "      <td>65</td>\n",
       "      <td>NaT</td>\n",
       "      <td>Москва</td>\n",
       "      <td>Юна</td>\n",
       "      <td>Березина</td>\n",
       "      <td>2018-04-19</td>\n",
       "      <td>smart</td>\n",
       "    </tr>\n",
       "    <tr>\n",
       "      <th>8</th>\n",
       "      <td>1008</td>\n",
       "      <td>63</td>\n",
       "      <td>NaT</td>\n",
       "      <td>Челябинск</td>\n",
       "      <td>Рустэм</td>\n",
       "      <td>Пономарёв</td>\n",
       "      <td>2018-12-19</td>\n",
       "      <td>smart</td>\n",
       "    </tr>\n",
       "    <tr>\n",
       "      <th>9</th>\n",
       "      <td>1009</td>\n",
       "      <td>24</td>\n",
       "      <td>NaT</td>\n",
       "      <td>Пермь</td>\n",
       "      <td>Василиса</td>\n",
       "      <td>Блинова</td>\n",
       "      <td>2018-03-22</td>\n",
       "      <td>smart</td>\n",
       "    </tr>\n",
       "  </tbody>\n",
       "</table>\n",
       "</div>"
      ],
      "text/plain": [
       "   user_id  age churn_date              city first_name  last_name   reg_date  \\\n",
       "0     1000   52        NaT         Краснодар     Рафаил  Верещагин 2018-05-25   \n",
       "1     1001   41        NaT            Москва       Иван       Ежов 2018-11-01   \n",
       "2     1002   59        NaT       Стерлитамак    Евгений  Абрамович 2018-06-17   \n",
       "3     1003   23        NaT            Москва      Белла   Белякова 2018-08-17   \n",
       "4     1004   68        NaT       Новокузнецк    Татьяна   Авдеенко 2018-05-14   \n",
       "5     1005   67        NaT  Набережные Челны   Афанасий     Горлов 2018-01-25   \n",
       "6     1006   21        NaT         Ульяновск     Леонид   Ермолаев 2018-02-26   \n",
       "7     1007   65        NaT            Москва        Юна   Березина 2018-04-19   \n",
       "8     1008   63        NaT         Челябинск     Рустэм  Пономарёв 2018-12-19   \n",
       "9     1009   24        NaT             Пермь   Василиса    Блинова 2018-03-22   \n",
       "\n",
       "  tariff  \n",
       "0  ultra  \n",
       "1  smart  \n",
       "2  smart  \n",
       "3  ultra  \n",
       "4  ultra  \n",
       "5  smart  \n",
       "6  smart  \n",
       "7  smart  \n",
       "8  smart  \n",
       "9  smart  "
      ]
     },
     "execution_count": 32,
     "metadata": {},
     "output_type": "execute_result"
    }
   ],
   "source": [
    "df_users.head(10)"
   ]
  },
  {
   "cell_type": "code",
   "execution_count": 33,
   "metadata": {},
   "outputs": [
    {
     "name": "stdout",
     "output_type": "stream",
     "text": [
      "<class 'pandas.core.frame.DataFrame'>\n",
      "RangeIndex: 500 entries, 0 to 499\n",
      "Data columns (total 8 columns):\n",
      " #   Column      Non-Null Count  Dtype         \n",
      "---  ------      --------------  -----         \n",
      " 0   user_id     500 non-null    int64         \n",
      " 1   age         500 non-null    int64         \n",
      " 2   churn_date  38 non-null     datetime64[ns]\n",
      " 3   city        500 non-null    object        \n",
      " 4   first_name  500 non-null    object        \n",
      " 5   last_name   500 non-null    object        \n",
      " 6   reg_date    500 non-null    datetime64[ns]\n",
      " 7   tariff      500 non-null    object        \n",
      "dtypes: datetime64[ns](2), int64(2), object(4)\n",
      "memory usage: 31.4+ KB\n"
     ]
    }
   ],
   "source": [
    "df_users.info()"
   ]
  },
  {
   "cell_type": "code",
   "execution_count": 34,
   "metadata": {},
   "outputs": [
    {
     "data": {
      "text/plain": [
       "2018-12-03    2\n",
       "2018-10-03    2\n",
       "2018-10-14    2\n",
       "2018-12-09    2\n",
       "2018-12-21    2\n",
       "2018-12-30    1\n",
       "2018-10-28    1\n",
       "2018-11-26    1\n",
       "2018-11-27    1\n",
       "2018-11-16    1\n",
       "2018-10-27    1\n",
       "2018-10-05    1\n",
       "2018-09-27    1\n",
       "2018-11-13    1\n",
       "2018-12-25    1\n",
       "2018-12-14    1\n",
       "2018-12-24    1\n",
       "2018-09-26    1\n",
       "2018-11-22    1\n",
       "2018-08-17    1\n",
       "2018-10-04    1\n",
       "2018-09-02    1\n",
       "2018-12-18    1\n",
       "2018-11-30    1\n",
       "2018-12-20    1\n",
       "2018-12-16    1\n",
       "2018-11-07    1\n",
       "2018-12-23    1\n",
       "2018-08-31    1\n",
       "2018-12-26    1\n",
       "2018-12-11    1\n",
       "2018-11-21    1\n",
       "2018-10-25    1\n",
       "Name: churn_date, dtype: int64"
      ]
     },
     "execution_count": 34,
     "metadata": {},
     "output_type": "execute_result"
    }
   ],
   "source": [
    "# Посмотрим уникальные значения столбца \"Дата прекращения пользования тарифом\"\n",
    "df_users['churn_date'].value_counts()"
   ]
  },
  {
   "cell_type": "markdown",
   "metadata": {},
   "source": [
    "Обработка файла `users` произведена успешно, типы данных преобразованы, пропущенные значения в замене и удалении не нуждаются. Сведения о тарифах предоставлены по состоянию на 2018 год"
   ]
  },
  {
   "cell_type": "markdown",
   "metadata": {},
   "source": [
    "#### Посчитаем для каждого пользователя:\n",
    "\n",
    "- количество сделанных звонков и израсходованных минут разговора по месяцам;\n",
    "- количество отправленных сообщений по месяцам;\n",
    "- объем израсходованного интернет-трафика по месяцам;\n",
    "- помесячную выручку с каждого пользователя (вычтите бесплатный лимит из суммарного количества звонков, сообщений и интернет-трафика; остаток умножьте на значение из тарифного плана; прибавьте абонентскую плату, соответствующую тарифному плану)."
   ]
  },
  {
   "cell_type": "markdown",
   "metadata": {},
   "source": [
    "Количество сделанных звонков и израсходованных минут разговора по месяцам:"
   ]
  },
  {
   "cell_type": "code",
   "execution_count": 35,
   "metadata": {},
   "outputs": [],
   "source": [
    "# Необходимо в файле `df_calls` создать дополнительный столбец 'month' и найти номер месяца методом `dt.month()`\n",
    "df_calls['month'] = df_calls['call_date'].dt.month"
   ]
  },
  {
   "cell_type": "code",
   "execution_count": 36,
   "metadata": {},
   "outputs": [
    {
     "data": {
      "text/html": [
       "<div>\n",
       "<style scoped>\n",
       "    .dataframe tbody tr th:only-of-type {\n",
       "        vertical-align: middle;\n",
       "    }\n",
       "\n",
       "    .dataframe tbody tr th {\n",
       "        vertical-align: top;\n",
       "    }\n",
       "\n",
       "    .dataframe thead th {\n",
       "        text-align: right;\n",
       "    }\n",
       "</style>\n",
       "<table border=\"1\" class=\"dataframe\">\n",
       "  <thead>\n",
       "    <tr style=\"text-align: right;\">\n",
       "      <th></th>\n",
       "      <th>id</th>\n",
       "      <th>call_date</th>\n",
       "      <th>duration</th>\n",
       "      <th>user_id</th>\n",
       "      <th>month</th>\n",
       "    </tr>\n",
       "  </thead>\n",
       "  <tbody>\n",
       "    <tr>\n",
       "      <th>0</th>\n",
       "      <td>1000_0</td>\n",
       "      <td>2018-07-25</td>\n",
       "      <td>0</td>\n",
       "      <td>1000</td>\n",
       "      <td>7</td>\n",
       "    </tr>\n",
       "    <tr>\n",
       "      <th>1</th>\n",
       "      <td>1000_1</td>\n",
       "      <td>2018-08-17</td>\n",
       "      <td>0</td>\n",
       "      <td>1000</td>\n",
       "      <td>8</td>\n",
       "    </tr>\n",
       "    <tr>\n",
       "      <th>2</th>\n",
       "      <td>1000_2</td>\n",
       "      <td>2018-06-11</td>\n",
       "      <td>3</td>\n",
       "      <td>1000</td>\n",
       "      <td>6</td>\n",
       "    </tr>\n",
       "    <tr>\n",
       "      <th>3</th>\n",
       "      <td>1000_3</td>\n",
       "      <td>2018-09-21</td>\n",
       "      <td>14</td>\n",
       "      <td>1000</td>\n",
       "      <td>9</td>\n",
       "    </tr>\n",
       "    <tr>\n",
       "      <th>4</th>\n",
       "      <td>1000_4</td>\n",
       "      <td>2018-12-15</td>\n",
       "      <td>6</td>\n",
       "      <td>1000</td>\n",
       "      <td>12</td>\n",
       "    </tr>\n",
       "  </tbody>\n",
       "</table>\n",
       "</div>"
      ],
      "text/plain": [
       "       id  call_date  duration  user_id  month\n",
       "0  1000_0 2018-07-25         0     1000      7\n",
       "1  1000_1 2018-08-17         0     1000      8\n",
       "2  1000_2 2018-06-11         3     1000      6\n",
       "3  1000_3 2018-09-21        14     1000      9\n",
       "4  1000_4 2018-12-15         6     1000     12"
      ]
     },
     "execution_count": 36,
     "metadata": {},
     "output_type": "execute_result"
    }
   ],
   "source": [
    "df_calls.head()"
   ]
  },
  {
   "cell_type": "markdown",
   "metadata": {},
   "source": [
    "Количество отправленных сообщений по месяцам:"
   ]
  },
  {
   "cell_type": "code",
   "execution_count": 37,
   "metadata": {},
   "outputs": [],
   "source": [
    "# Необходимо в файле `df_messages` создать дополнительный столбец 'month' и найти номер месяца методом `dt.month()`\n",
    "df_messages['month'] = df_messages['message_date'].dt.month"
   ]
  },
  {
   "cell_type": "code",
   "execution_count": 38,
   "metadata": {},
   "outputs": [
    {
     "data": {
      "text/html": [
       "<div>\n",
       "<style scoped>\n",
       "    .dataframe tbody tr th:only-of-type {\n",
       "        vertical-align: middle;\n",
       "    }\n",
       "\n",
       "    .dataframe tbody tr th {\n",
       "        vertical-align: top;\n",
       "    }\n",
       "\n",
       "    .dataframe thead th {\n",
       "        text-align: right;\n",
       "    }\n",
       "</style>\n",
       "<table border=\"1\" class=\"dataframe\">\n",
       "  <thead>\n",
       "    <tr style=\"text-align: right;\">\n",
       "      <th></th>\n",
       "      <th>id</th>\n",
       "      <th>message_date</th>\n",
       "      <th>user_id</th>\n",
       "      <th>month</th>\n",
       "    </tr>\n",
       "  </thead>\n",
       "  <tbody>\n",
       "    <tr>\n",
       "      <th>0</th>\n",
       "      <td>1000_0</td>\n",
       "      <td>2018-06-27</td>\n",
       "      <td>1000</td>\n",
       "      <td>6</td>\n",
       "    </tr>\n",
       "    <tr>\n",
       "      <th>1</th>\n",
       "      <td>1000_1</td>\n",
       "      <td>2018-10-08</td>\n",
       "      <td>1000</td>\n",
       "      <td>10</td>\n",
       "    </tr>\n",
       "    <tr>\n",
       "      <th>2</th>\n",
       "      <td>1000_2</td>\n",
       "      <td>2018-08-04</td>\n",
       "      <td>1000</td>\n",
       "      <td>8</td>\n",
       "    </tr>\n",
       "    <tr>\n",
       "      <th>3</th>\n",
       "      <td>1000_3</td>\n",
       "      <td>2018-06-16</td>\n",
       "      <td>1000</td>\n",
       "      <td>6</td>\n",
       "    </tr>\n",
       "    <tr>\n",
       "      <th>4</th>\n",
       "      <td>1000_4</td>\n",
       "      <td>2018-12-05</td>\n",
       "      <td>1000</td>\n",
       "      <td>12</td>\n",
       "    </tr>\n",
       "  </tbody>\n",
       "</table>\n",
       "</div>"
      ],
      "text/plain": [
       "       id message_date  user_id  month\n",
       "0  1000_0   2018-06-27     1000      6\n",
       "1  1000_1   2018-10-08     1000     10\n",
       "2  1000_2   2018-08-04     1000      8\n",
       "3  1000_3   2018-06-16     1000      6\n",
       "4  1000_4   2018-12-05     1000     12"
      ]
     },
     "execution_count": 38,
     "metadata": {},
     "output_type": "execute_result"
    }
   ],
   "source": [
    "df_messages.head()"
   ]
  },
  {
   "cell_type": "markdown",
   "metadata": {},
   "source": [
    "Объем израсходованного интернет-трафика по месяцам:"
   ]
  },
  {
   "cell_type": "code",
   "execution_count": 39,
   "metadata": {},
   "outputs": [],
   "source": [
    "# Необходимо в файле `df_internet` создать дополнительный столбец 'month' и найти номер месяца методом `dt.month()`\n",
    "df_internet['month'] = df_internet['session_date'].dt.month"
   ]
  },
  {
   "cell_type": "code",
   "execution_count": 40,
   "metadata": {},
   "outputs": [
    {
     "data": {
      "text/html": [
       "<div>\n",
       "<style scoped>\n",
       "    .dataframe tbody tr th:only-of-type {\n",
       "        vertical-align: middle;\n",
       "    }\n",
       "\n",
       "    .dataframe tbody tr th {\n",
       "        vertical-align: top;\n",
       "    }\n",
       "\n",
       "    .dataframe thead th {\n",
       "        text-align: right;\n",
       "    }\n",
       "</style>\n",
       "<table border=\"1\" class=\"dataframe\">\n",
       "  <thead>\n",
       "    <tr style=\"text-align: right;\">\n",
       "      <th></th>\n",
       "      <th>id</th>\n",
       "      <th>mb_used</th>\n",
       "      <th>session_date</th>\n",
       "      <th>user_id</th>\n",
       "      <th>month</th>\n",
       "    </tr>\n",
       "  </thead>\n",
       "  <tbody>\n",
       "    <tr>\n",
       "      <th>0</th>\n",
       "      <td>1000_0</td>\n",
       "      <td>112.95</td>\n",
       "      <td>2018-11-25</td>\n",
       "      <td>1000</td>\n",
       "      <td>11</td>\n",
       "    </tr>\n",
       "    <tr>\n",
       "      <th>1</th>\n",
       "      <td>1000_1</td>\n",
       "      <td>1,052.81</td>\n",
       "      <td>2018-09-07</td>\n",
       "      <td>1000</td>\n",
       "      <td>9</td>\n",
       "    </tr>\n",
       "    <tr>\n",
       "      <th>2</th>\n",
       "      <td>1000_2</td>\n",
       "      <td>1,197.26</td>\n",
       "      <td>2018-06-25</td>\n",
       "      <td>1000</td>\n",
       "      <td>6</td>\n",
       "    </tr>\n",
       "    <tr>\n",
       "      <th>3</th>\n",
       "      <td>1000_3</td>\n",
       "      <td>550.27</td>\n",
       "      <td>2018-08-22</td>\n",
       "      <td>1000</td>\n",
       "      <td>8</td>\n",
       "    </tr>\n",
       "    <tr>\n",
       "      <th>4</th>\n",
       "      <td>1000_4</td>\n",
       "      <td>302.56</td>\n",
       "      <td>2018-09-24</td>\n",
       "      <td>1000</td>\n",
       "      <td>9</td>\n",
       "    </tr>\n",
       "  </tbody>\n",
       "</table>\n",
       "</div>"
      ],
      "text/plain": [
       "       id  mb_used session_date  user_id  month\n",
       "0  1000_0   112.95   2018-11-25     1000     11\n",
       "1  1000_1 1,052.81   2018-09-07     1000      9\n",
       "2  1000_2 1,197.26   2018-06-25     1000      6\n",
       "3  1000_3   550.27   2018-08-22     1000      8\n",
       "4  1000_4   302.56   2018-09-24     1000      9"
      ]
     },
     "execution_count": 40,
     "metadata": {},
     "output_type": "execute_result"
    }
   ],
   "source": [
    "df_internet.head()"
   ]
  },
  {
   "cell_type": "markdown",
   "metadata": {},
   "source": [
    "Согласно задания, необходимо посчитать какое количество конкретный пользователь сделал звонков и израсходовал минут. Воспользуемся методом группировки `groupby`, а  методом `agg` укажем, какие функции необходимо применить к столбцу 'duration' (длительность звонка) - `count` (количество) и `sum` (сумма)"
   ]
  },
  {
   "cell_type": "code",
   "execution_count": 41,
   "metadata": {},
   "outputs": [],
   "source": [
    "# reset_index применяем для того, чтобы user_id стал колонкой\n",
    "df_groupby_calls = df_calls.groupby(['user_id', 'month'])['duration'].agg(['count', 'sum']).reset_index()"
   ]
  },
  {
   "cell_type": "code",
   "execution_count": 42,
   "metadata": {},
   "outputs": [],
   "source": [
    "# осуществим замену имен колонок для удобства\n",
    "df_groupby_calls.columns = ['user_id', 'month', 'total_calls', 'time_calls']"
   ]
  },
  {
   "cell_type": "code",
   "execution_count": 43,
   "metadata": {},
   "outputs": [
    {
     "data": {
      "text/html": [
       "<div>\n",
       "<style scoped>\n",
       "    .dataframe tbody tr th:only-of-type {\n",
       "        vertical-align: middle;\n",
       "    }\n",
       "\n",
       "    .dataframe tbody tr th {\n",
       "        vertical-align: top;\n",
       "    }\n",
       "\n",
       "    .dataframe thead th {\n",
       "        text-align: right;\n",
       "    }\n",
       "</style>\n",
       "<table border=\"1\" class=\"dataframe\">\n",
       "  <thead>\n",
       "    <tr style=\"text-align: right;\">\n",
       "      <th></th>\n",
       "      <th>user_id</th>\n",
       "      <th>month</th>\n",
       "      <th>total_calls</th>\n",
       "      <th>time_calls</th>\n",
       "    </tr>\n",
       "  </thead>\n",
       "  <tbody>\n",
       "    <tr>\n",
       "      <th>0</th>\n",
       "      <td>1000</td>\n",
       "      <td>5</td>\n",
       "      <td>22</td>\n",
       "      <td>159</td>\n",
       "    </tr>\n",
       "    <tr>\n",
       "      <th>1</th>\n",
       "      <td>1000</td>\n",
       "      <td>6</td>\n",
       "      <td>43</td>\n",
       "      <td>172</td>\n",
       "    </tr>\n",
       "    <tr>\n",
       "      <th>2</th>\n",
       "      <td>1000</td>\n",
       "      <td>7</td>\n",
       "      <td>47</td>\n",
       "      <td>340</td>\n",
       "    </tr>\n",
       "    <tr>\n",
       "      <th>3</th>\n",
       "      <td>1000</td>\n",
       "      <td>8</td>\n",
       "      <td>52</td>\n",
       "      <td>408</td>\n",
       "    </tr>\n",
       "    <tr>\n",
       "      <th>4</th>\n",
       "      <td>1000</td>\n",
       "      <td>9</td>\n",
       "      <td>58</td>\n",
       "      <td>466</td>\n",
       "    </tr>\n",
       "    <tr>\n",
       "      <th>...</th>\n",
       "      <td>...</td>\n",
       "      <td>...</td>\n",
       "      <td>...</td>\n",
       "      <td>...</td>\n",
       "    </tr>\n",
       "    <tr>\n",
       "      <th>3169</th>\n",
       "      <td>1498</td>\n",
       "      <td>10</td>\n",
       "      <td>41</td>\n",
       "      <td>247</td>\n",
       "    </tr>\n",
       "    <tr>\n",
       "      <th>3170</th>\n",
       "      <td>1499</td>\n",
       "      <td>9</td>\n",
       "      <td>9</td>\n",
       "      <td>70</td>\n",
       "    </tr>\n",
       "    <tr>\n",
       "      <th>3171</th>\n",
       "      <td>1499</td>\n",
       "      <td>10</td>\n",
       "      <td>68</td>\n",
       "      <td>449</td>\n",
       "    </tr>\n",
       "    <tr>\n",
       "      <th>3172</th>\n",
       "      <td>1499</td>\n",
       "      <td>11</td>\n",
       "      <td>74</td>\n",
       "      <td>612</td>\n",
       "    </tr>\n",
       "    <tr>\n",
       "      <th>3173</th>\n",
       "      <td>1499</td>\n",
       "      <td>12</td>\n",
       "      <td>69</td>\n",
       "      <td>492</td>\n",
       "    </tr>\n",
       "  </tbody>\n",
       "</table>\n",
       "<p>3174 rows × 4 columns</p>\n",
       "</div>"
      ],
      "text/plain": [
       "      user_id  month  total_calls  time_calls\n",
       "0        1000      5           22         159\n",
       "1        1000      6           43         172\n",
       "2        1000      7           47         340\n",
       "3        1000      8           52         408\n",
       "4        1000      9           58         466\n",
       "...       ...    ...          ...         ...\n",
       "3169     1498     10           41         247\n",
       "3170     1499      9            9          70\n",
       "3171     1499     10           68         449\n",
       "3172     1499     11           74         612\n",
       "3173     1499     12           69         492\n",
       "\n",
       "[3174 rows x 4 columns]"
      ]
     },
     "execution_count": 43,
     "metadata": {},
     "output_type": "execute_result"
    }
   ],
   "source": [
    "df_groupby_calls"
   ]
  },
  {
   "cell_type": "markdown",
   "metadata": {},
   "source": [
    "Осуществим группировку отправленных сообщений:"
   ]
  },
  {
   "cell_type": "code",
   "execution_count": 44,
   "metadata": {},
   "outputs": [],
   "source": [
    "# Сгруппируем по уникальному номеру сообщения\n",
    "df_groupby_messages = df_messages.groupby(['user_id', 'month'])['id'].agg('count').reset_index()"
   ]
  },
  {
   "cell_type": "code",
   "execution_count": 45,
   "metadata": {},
   "outputs": [],
   "source": [
    "df_groupby_messages.columns = ['user_id', 'month', 'total_message']"
   ]
  },
  {
   "cell_type": "code",
   "execution_count": 46,
   "metadata": {
    "scrolled": false
   },
   "outputs": [
    {
     "data": {
      "text/html": [
       "<div>\n",
       "<style scoped>\n",
       "    .dataframe tbody tr th:only-of-type {\n",
       "        vertical-align: middle;\n",
       "    }\n",
       "\n",
       "    .dataframe tbody tr th {\n",
       "        vertical-align: top;\n",
       "    }\n",
       "\n",
       "    .dataframe thead th {\n",
       "        text-align: right;\n",
       "    }\n",
       "</style>\n",
       "<table border=\"1\" class=\"dataframe\">\n",
       "  <thead>\n",
       "    <tr style=\"text-align: right;\">\n",
       "      <th></th>\n",
       "      <th>user_id</th>\n",
       "      <th>month</th>\n",
       "      <th>total_message</th>\n",
       "    </tr>\n",
       "  </thead>\n",
       "  <tbody>\n",
       "    <tr>\n",
       "      <th>0</th>\n",
       "      <td>1000</td>\n",
       "      <td>5</td>\n",
       "      <td>22</td>\n",
       "    </tr>\n",
       "    <tr>\n",
       "      <th>1</th>\n",
       "      <td>1000</td>\n",
       "      <td>6</td>\n",
       "      <td>60</td>\n",
       "    </tr>\n",
       "    <tr>\n",
       "      <th>2</th>\n",
       "      <td>1000</td>\n",
       "      <td>7</td>\n",
       "      <td>75</td>\n",
       "    </tr>\n",
       "    <tr>\n",
       "      <th>3</th>\n",
       "      <td>1000</td>\n",
       "      <td>8</td>\n",
       "      <td>81</td>\n",
       "    </tr>\n",
       "    <tr>\n",
       "      <th>4</th>\n",
       "      <td>1000</td>\n",
       "      <td>9</td>\n",
       "      <td>57</td>\n",
       "    </tr>\n",
       "    <tr>\n",
       "      <th>...</th>\n",
       "      <td>...</td>\n",
       "      <td>...</td>\n",
       "      <td>...</td>\n",
       "    </tr>\n",
       "    <tr>\n",
       "      <th>2712</th>\n",
       "      <td>1498</td>\n",
       "      <td>10</td>\n",
       "      <td>42</td>\n",
       "    </tr>\n",
       "    <tr>\n",
       "      <th>2713</th>\n",
       "      <td>1499</td>\n",
       "      <td>9</td>\n",
       "      <td>11</td>\n",
       "    </tr>\n",
       "    <tr>\n",
       "      <th>2714</th>\n",
       "      <td>1499</td>\n",
       "      <td>10</td>\n",
       "      <td>48</td>\n",
       "    </tr>\n",
       "    <tr>\n",
       "      <th>2715</th>\n",
       "      <td>1499</td>\n",
       "      <td>11</td>\n",
       "      <td>59</td>\n",
       "    </tr>\n",
       "    <tr>\n",
       "      <th>2716</th>\n",
       "      <td>1499</td>\n",
       "      <td>12</td>\n",
       "      <td>66</td>\n",
       "    </tr>\n",
       "  </tbody>\n",
       "</table>\n",
       "<p>2717 rows × 3 columns</p>\n",
       "</div>"
      ],
      "text/plain": [
       "      user_id  month  total_message\n",
       "0        1000      5             22\n",
       "1        1000      6             60\n",
       "2        1000      7             75\n",
       "3        1000      8             81\n",
       "4        1000      9             57\n",
       "...       ...    ...            ...\n",
       "2712     1498     10             42\n",
       "2713     1499      9             11\n",
       "2714     1499     10             48\n",
       "2715     1499     11             59\n",
       "2716     1499     12             66\n",
       "\n",
       "[2717 rows x 3 columns]"
      ]
     },
     "execution_count": 46,
     "metadata": {},
     "output_type": "execute_result"
    }
   ],
   "source": [
    "df_groupby_messages"
   ]
  },
  {
   "cell_type": "markdown",
   "metadata": {},
   "source": [
    "Осуществим группировку объема израсходованного интернет-трафика по месяцам:"
   ]
  },
  {
   "cell_type": "code",
   "execution_count": 47,
   "metadata": {},
   "outputs": [],
   "source": [
    "# Сгруппируем по уникальному объёму потраченного за сессию интернет-трафика\n",
    "df_groupby_internet = df_internet.groupby(['user_id', 'month'])['mb_used'].agg('sum').reset_index()"
   ]
  },
  {
   "cell_type": "code",
   "execution_count": 48,
   "metadata": {},
   "outputs": [],
   "source": [
    "# осуществим замену имен колонок для удобства\n",
    "df_groupby_internet.columns = ['user_id', 'month', 'total_traffic']"
   ]
  },
  {
   "cell_type": "code",
   "execution_count": 49,
   "metadata": {
    "scrolled": false
   },
   "outputs": [
    {
     "data": {
      "text/html": [
       "<div>\n",
       "<style scoped>\n",
       "    .dataframe tbody tr th:only-of-type {\n",
       "        vertical-align: middle;\n",
       "    }\n",
       "\n",
       "    .dataframe tbody tr th {\n",
       "        vertical-align: top;\n",
       "    }\n",
       "\n",
       "    .dataframe thead th {\n",
       "        text-align: right;\n",
       "    }\n",
       "</style>\n",
       "<table border=\"1\" class=\"dataframe\">\n",
       "  <thead>\n",
       "    <tr style=\"text-align: right;\">\n",
       "      <th></th>\n",
       "      <th>user_id</th>\n",
       "      <th>month</th>\n",
       "      <th>total_traffic</th>\n",
       "    </tr>\n",
       "  </thead>\n",
       "  <tbody>\n",
       "    <tr>\n",
       "      <th>0</th>\n",
       "      <td>1000</td>\n",
       "      <td>5</td>\n",
       "      <td>2,253.49</td>\n",
       "    </tr>\n",
       "    <tr>\n",
       "      <th>1</th>\n",
       "      <td>1000</td>\n",
       "      <td>6</td>\n",
       "      <td>23,233.77</td>\n",
       "    </tr>\n",
       "    <tr>\n",
       "      <th>2</th>\n",
       "      <td>1000</td>\n",
       "      <td>7</td>\n",
       "      <td>14,003.64</td>\n",
       "    </tr>\n",
       "    <tr>\n",
       "      <th>3</th>\n",
       "      <td>1000</td>\n",
       "      <td>8</td>\n",
       "      <td>14,055.93</td>\n",
       "    </tr>\n",
       "    <tr>\n",
       "      <th>4</th>\n",
       "      <td>1000</td>\n",
       "      <td>9</td>\n",
       "      <td>14,568.91</td>\n",
       "    </tr>\n",
       "    <tr>\n",
       "      <th>...</th>\n",
       "      <td>...</td>\n",
       "      <td>...</td>\n",
       "      <td>...</td>\n",
       "    </tr>\n",
       "    <tr>\n",
       "      <th>3198</th>\n",
       "      <td>1498</td>\n",
       "      <td>10</td>\n",
       "      <td>20,579.36</td>\n",
       "    </tr>\n",
       "    <tr>\n",
       "      <th>3199</th>\n",
       "      <td>1499</td>\n",
       "      <td>9</td>\n",
       "      <td>1,845.75</td>\n",
       "    </tr>\n",
       "    <tr>\n",
       "      <th>3200</th>\n",
       "      <td>1499</td>\n",
       "      <td>10</td>\n",
       "      <td>17,788.51</td>\n",
       "    </tr>\n",
       "    <tr>\n",
       "      <th>3201</th>\n",
       "      <td>1499</td>\n",
       "      <td>11</td>\n",
       "      <td>17,963.31</td>\n",
       "    </tr>\n",
       "    <tr>\n",
       "      <th>3202</th>\n",
       "      <td>1499</td>\n",
       "      <td>12</td>\n",
       "      <td>13,055.58</td>\n",
       "    </tr>\n",
       "  </tbody>\n",
       "</table>\n",
       "<p>3203 rows × 3 columns</p>\n",
       "</div>"
      ],
      "text/plain": [
       "      user_id  month  total_traffic\n",
       "0        1000      5       2,253.49\n",
       "1        1000      6      23,233.77\n",
       "2        1000      7      14,003.64\n",
       "3        1000      8      14,055.93\n",
       "4        1000      9      14,568.91\n",
       "...       ...    ...            ...\n",
       "3198     1498     10      20,579.36\n",
       "3199     1499      9       1,845.75\n",
       "3200     1499     10      17,788.51\n",
       "3201     1499     11      17,963.31\n",
       "3202     1499     12      13,055.58\n",
       "\n",
       "[3203 rows x 3 columns]"
      ]
     },
     "execution_count": 49,
     "metadata": {},
     "output_type": "execute_result"
    }
   ],
   "source": [
    "df_groupby_internet"
   ]
  },
  {
   "cell_type": "markdown",
   "metadata": {},
   "source": [
    "Соединим таблицы с общей таблицей \"Информация о пользователях\""
   ]
  },
  {
   "cell_type": "code",
   "execution_count": 50,
   "metadata": {},
   "outputs": [],
   "source": [
    "df_groupby = df_groupby_calls.merge(df_groupby_messages, on=['user_id', 'month'], how='outer'\n",
    "                                   ).merge(df_groupby_internet, on=['user_id', 'month'], how='outer'\n",
    "                                          ).merge(df_users, on=['user_id'], how='outer')"
   ]
  },
  {
   "cell_type": "code",
   "execution_count": 51,
   "metadata": {
    "scrolled": false
   },
   "outputs": [
    {
     "data": {
      "text/html": [
       "<div>\n",
       "<style scoped>\n",
       "    .dataframe tbody tr th:only-of-type {\n",
       "        vertical-align: middle;\n",
       "    }\n",
       "\n",
       "    .dataframe tbody tr th {\n",
       "        vertical-align: top;\n",
       "    }\n",
       "\n",
       "    .dataframe thead th {\n",
       "        text-align: right;\n",
       "    }\n",
       "</style>\n",
       "<table border=\"1\" class=\"dataframe\">\n",
       "  <thead>\n",
       "    <tr style=\"text-align: right;\">\n",
       "      <th></th>\n",
       "      <th>user_id</th>\n",
       "      <th>month</th>\n",
       "      <th>total_calls</th>\n",
       "      <th>time_calls</th>\n",
       "      <th>total_message</th>\n",
       "      <th>total_traffic</th>\n",
       "      <th>age</th>\n",
       "      <th>churn_date</th>\n",
       "      <th>city</th>\n",
       "      <th>first_name</th>\n",
       "      <th>last_name</th>\n",
       "      <th>reg_date</th>\n",
       "      <th>tariff</th>\n",
       "    </tr>\n",
       "  </thead>\n",
       "  <tbody>\n",
       "    <tr>\n",
       "      <th>0</th>\n",
       "      <td>1000</td>\n",
       "      <td>5.00</td>\n",
       "      <td>22.00</td>\n",
       "      <td>159.00</td>\n",
       "      <td>22.00</td>\n",
       "      <td>2,253.49</td>\n",
       "      <td>52</td>\n",
       "      <td>NaT</td>\n",
       "      <td>Краснодар</td>\n",
       "      <td>Рафаил</td>\n",
       "      <td>Верещагин</td>\n",
       "      <td>2018-05-25</td>\n",
       "      <td>ultra</td>\n",
       "    </tr>\n",
       "    <tr>\n",
       "      <th>1</th>\n",
       "      <td>1000</td>\n",
       "      <td>6.00</td>\n",
       "      <td>43.00</td>\n",
       "      <td>172.00</td>\n",
       "      <td>60.00</td>\n",
       "      <td>23,233.77</td>\n",
       "      <td>52</td>\n",
       "      <td>NaT</td>\n",
       "      <td>Краснодар</td>\n",
       "      <td>Рафаил</td>\n",
       "      <td>Верещагин</td>\n",
       "      <td>2018-05-25</td>\n",
       "      <td>ultra</td>\n",
       "    </tr>\n",
       "    <tr>\n",
       "      <th>2</th>\n",
       "      <td>1000</td>\n",
       "      <td>7.00</td>\n",
       "      <td>47.00</td>\n",
       "      <td>340.00</td>\n",
       "      <td>75.00</td>\n",
       "      <td>14,003.64</td>\n",
       "      <td>52</td>\n",
       "      <td>NaT</td>\n",
       "      <td>Краснодар</td>\n",
       "      <td>Рафаил</td>\n",
       "      <td>Верещагин</td>\n",
       "      <td>2018-05-25</td>\n",
       "      <td>ultra</td>\n",
       "    </tr>\n",
       "    <tr>\n",
       "      <th>3</th>\n",
       "      <td>1000</td>\n",
       "      <td>8.00</td>\n",
       "      <td>52.00</td>\n",
       "      <td>408.00</td>\n",
       "      <td>81.00</td>\n",
       "      <td>14,055.93</td>\n",
       "      <td>52</td>\n",
       "      <td>NaT</td>\n",
       "      <td>Краснодар</td>\n",
       "      <td>Рафаил</td>\n",
       "      <td>Верещагин</td>\n",
       "      <td>2018-05-25</td>\n",
       "      <td>ultra</td>\n",
       "    </tr>\n",
       "    <tr>\n",
       "      <th>4</th>\n",
       "      <td>1000</td>\n",
       "      <td>9.00</td>\n",
       "      <td>58.00</td>\n",
       "      <td>466.00</td>\n",
       "      <td>57.00</td>\n",
       "      <td>14,568.91</td>\n",
       "      <td>52</td>\n",
       "      <td>NaT</td>\n",
       "      <td>Краснодар</td>\n",
       "      <td>Рафаил</td>\n",
       "      <td>Верещагин</td>\n",
       "      <td>2018-05-25</td>\n",
       "      <td>ultra</td>\n",
       "    </tr>\n",
       "    <tr>\n",
       "      <th>...</th>\n",
       "      <td>...</td>\n",
       "      <td>...</td>\n",
       "      <td>...</td>\n",
       "      <td>...</td>\n",
       "      <td>...</td>\n",
       "      <td>...</td>\n",
       "      <td>...</td>\n",
       "      <td>...</td>\n",
       "      <td>...</td>\n",
       "      <td>...</td>\n",
       "      <td>...</td>\n",
       "      <td>...</td>\n",
       "      <td>...</td>\n",
       "    </tr>\n",
       "    <tr>\n",
       "      <th>3211</th>\n",
       "      <td>1489</td>\n",
       "      <td>10.00</td>\n",
       "      <td>NaN</td>\n",
       "      <td>NaN</td>\n",
       "      <td>21.00</td>\n",
       "      <td>19,559.44</td>\n",
       "      <td>35</td>\n",
       "      <td>NaT</td>\n",
       "      <td>Санкт-Петербург</td>\n",
       "      <td>Павел</td>\n",
       "      <td>Гончаров</td>\n",
       "      <td>2018-08-15</td>\n",
       "      <td>smart</td>\n",
       "    </tr>\n",
       "    <tr>\n",
       "      <th>3212</th>\n",
       "      <td>1489</td>\n",
       "      <td>11.00</td>\n",
       "      <td>NaN</td>\n",
       "      <td>NaN</td>\n",
       "      <td>20.00</td>\n",
       "      <td>17,491.56</td>\n",
       "      <td>35</td>\n",
       "      <td>NaT</td>\n",
       "      <td>Санкт-Петербург</td>\n",
       "      <td>Павел</td>\n",
       "      <td>Гончаров</td>\n",
       "      <td>2018-08-15</td>\n",
       "      <td>smart</td>\n",
       "    </tr>\n",
       "    <tr>\n",
       "      <th>3213</th>\n",
       "      <td>1489</td>\n",
       "      <td>12.00</td>\n",
       "      <td>NaN</td>\n",
       "      <td>NaN</td>\n",
       "      <td>35.00</td>\n",
       "      <td>17,322.51</td>\n",
       "      <td>35</td>\n",
       "      <td>NaT</td>\n",
       "      <td>Санкт-Петербург</td>\n",
       "      <td>Павел</td>\n",
       "      <td>Гончаров</td>\n",
       "      <td>2018-08-15</td>\n",
       "      <td>smart</td>\n",
       "    </tr>\n",
       "    <tr>\n",
       "      <th>3214</th>\n",
       "      <td>1128</td>\n",
       "      <td>NaN</td>\n",
       "      <td>NaN</td>\n",
       "      <td>NaN</td>\n",
       "      <td>NaN</td>\n",
       "      <td>NaN</td>\n",
       "      <td>51</td>\n",
       "      <td>2018-12-23</td>\n",
       "      <td>Волжский</td>\n",
       "      <td>Ксения</td>\n",
       "      <td>Агаева</td>\n",
       "      <td>2018-12-15</td>\n",
       "      <td>ultra</td>\n",
       "    </tr>\n",
       "    <tr>\n",
       "      <th>3215</th>\n",
       "      <td>1371</td>\n",
       "      <td>NaN</td>\n",
       "      <td>NaN</td>\n",
       "      <td>NaN</td>\n",
       "      <td>NaN</td>\n",
       "      <td>NaN</td>\n",
       "      <td>50</td>\n",
       "      <td>2018-12-30</td>\n",
       "      <td>Омск</td>\n",
       "      <td>Ириней</td>\n",
       "      <td>Трофимов</td>\n",
       "      <td>2018-12-25</td>\n",
       "      <td>smart</td>\n",
       "    </tr>\n",
       "  </tbody>\n",
       "</table>\n",
       "<p>3216 rows × 13 columns</p>\n",
       "</div>"
      ],
      "text/plain": [
       "      user_id  month  total_calls  time_calls  total_message  total_traffic  \\\n",
       "0        1000   5.00        22.00      159.00          22.00       2,253.49   \n",
       "1        1000   6.00        43.00      172.00          60.00      23,233.77   \n",
       "2        1000   7.00        47.00      340.00          75.00      14,003.64   \n",
       "3        1000   8.00        52.00      408.00          81.00      14,055.93   \n",
       "4        1000   9.00        58.00      466.00          57.00      14,568.91   \n",
       "...       ...    ...          ...         ...            ...            ...   \n",
       "3211     1489  10.00          NaN         NaN          21.00      19,559.44   \n",
       "3212     1489  11.00          NaN         NaN          20.00      17,491.56   \n",
       "3213     1489  12.00          NaN         NaN          35.00      17,322.51   \n",
       "3214     1128    NaN          NaN         NaN            NaN            NaN   \n",
       "3215     1371    NaN          NaN         NaN            NaN            NaN   \n",
       "\n",
       "      age churn_date             city first_name  last_name   reg_date tariff  \n",
       "0      52        NaT        Краснодар     Рафаил  Верещагин 2018-05-25  ultra  \n",
       "1      52        NaT        Краснодар     Рафаил  Верещагин 2018-05-25  ultra  \n",
       "2      52        NaT        Краснодар     Рафаил  Верещагин 2018-05-25  ultra  \n",
       "3      52        NaT        Краснодар     Рафаил  Верещагин 2018-05-25  ultra  \n",
       "4      52        NaT        Краснодар     Рафаил  Верещагин 2018-05-25  ultra  \n",
       "...   ...        ...              ...        ...        ...        ...    ...  \n",
       "3211   35        NaT  Санкт-Петербург      Павел   Гончаров 2018-08-15  smart  \n",
       "3212   35        NaT  Санкт-Петербург      Павел   Гончаров 2018-08-15  smart  \n",
       "3213   35        NaT  Санкт-Петербург      Павел   Гончаров 2018-08-15  smart  \n",
       "3214   51 2018-12-23         Волжский     Ксения     Агаева 2018-12-15  ultra  \n",
       "3215   50 2018-12-30             Омск     Ириней   Трофимов 2018-12-25  smart  \n",
       "\n",
       "[3216 rows x 13 columns]"
      ]
     },
     "execution_count": 51,
     "metadata": {},
     "output_type": "execute_result"
    }
   ],
   "source": [
    "df_groupby"
   ]
  },
  {
   "cell_type": "markdown",
   "metadata": {},
   "source": [
    "Получили таблицу. Проверим ее на пропущенные значения:"
   ]
  },
  {
   "cell_type": "code",
   "execution_count": 52,
   "metadata": {
    "scrolled": true
   },
   "outputs": [
    {
     "data": {
      "text/plain": [
       "user_id             0\n",
       "month               2\n",
       "total_calls        42\n",
       "time_calls         42\n",
       "total_message     499\n",
       "total_traffic      13\n",
       "age                 0\n",
       "churn_date       3027\n",
       "city                0\n",
       "first_name          0\n",
       "last_name           0\n",
       "reg_date            0\n",
       "tariff              0\n",
       "dtype: int64"
      ]
     },
     "execution_count": 52,
     "metadata": {},
     "output_type": "execute_result"
    }
   ],
   "source": [
    "df_groupby.isna().sum()"
   ]
  },
  {
   "cell_type": "markdown",
   "metadata": {},
   "source": [
    "Видим, что есть пропущенные значения, но это вполне объяснимо: кто-то только звонит и не пользуется сообщениями и интернетом. А кто-то, наоборот, пользуется только интернетом и не пользуется звонками. Бросается в глаза пропущенные значения в графе месяц. Внимательно рассмотрим эти строки:"
   ]
  },
  {
   "cell_type": "code",
   "execution_count": 53,
   "metadata": {},
   "outputs": [
    {
     "data": {
      "text/html": [
       "<div>\n",
       "<style scoped>\n",
       "    .dataframe tbody tr th:only-of-type {\n",
       "        vertical-align: middle;\n",
       "    }\n",
       "\n",
       "    .dataframe tbody tr th {\n",
       "        vertical-align: top;\n",
       "    }\n",
       "\n",
       "    .dataframe thead th {\n",
       "        text-align: right;\n",
       "    }\n",
       "</style>\n",
       "<table border=\"1\" class=\"dataframe\">\n",
       "  <thead>\n",
       "    <tr style=\"text-align: right;\">\n",
       "      <th></th>\n",
       "      <th>user_id</th>\n",
       "      <th>month</th>\n",
       "      <th>total_calls</th>\n",
       "      <th>time_calls</th>\n",
       "      <th>total_message</th>\n",
       "      <th>total_traffic</th>\n",
       "      <th>age</th>\n",
       "      <th>churn_date</th>\n",
       "      <th>city</th>\n",
       "      <th>first_name</th>\n",
       "      <th>last_name</th>\n",
       "      <th>reg_date</th>\n",
       "      <th>tariff</th>\n",
       "    </tr>\n",
       "  </thead>\n",
       "  <tbody>\n",
       "    <tr>\n",
       "      <th>3214</th>\n",
       "      <td>1128</td>\n",
       "      <td>NaN</td>\n",
       "      <td>NaN</td>\n",
       "      <td>NaN</td>\n",
       "      <td>NaN</td>\n",
       "      <td>NaN</td>\n",
       "      <td>51</td>\n",
       "      <td>2018-12-23</td>\n",
       "      <td>Волжский</td>\n",
       "      <td>Ксения</td>\n",
       "      <td>Агаева</td>\n",
       "      <td>2018-12-15</td>\n",
       "      <td>ultra</td>\n",
       "    </tr>\n",
       "    <tr>\n",
       "      <th>3215</th>\n",
       "      <td>1371</td>\n",
       "      <td>NaN</td>\n",
       "      <td>NaN</td>\n",
       "      <td>NaN</td>\n",
       "      <td>NaN</td>\n",
       "      <td>NaN</td>\n",
       "      <td>50</td>\n",
       "      <td>2018-12-30</td>\n",
       "      <td>Омск</td>\n",
       "      <td>Ириней</td>\n",
       "      <td>Трофимов</td>\n",
       "      <td>2018-12-25</td>\n",
       "      <td>smart</td>\n",
       "    </tr>\n",
       "  </tbody>\n",
       "</table>\n",
       "</div>"
      ],
      "text/plain": [
       "      user_id  month  total_calls  time_calls  total_message  total_traffic  \\\n",
       "3214     1128    NaN          NaN         NaN            NaN            NaN   \n",
       "3215     1371    NaN          NaN         NaN            NaN            NaN   \n",
       "\n",
       "      age churn_date      city first_name last_name   reg_date tariff  \n",
       "3214   51 2018-12-23  Волжский     Ксения    Агаева 2018-12-15  ultra  \n",
       "3215   50 2018-12-30      Омск     Ириней  Трофимов 2018-12-25  smart  "
      ]
     },
     "execution_count": 53,
     "metadata": {},
     "output_type": "execute_result"
    }
   ],
   "source": [
    "df_groupby.iloc[3214:3216]"
   ]
  },
  {
   "cell_type": "markdown",
   "metadata": {},
   "source": [
    "Видим, что Ксения и Ириней зарегистрировались в конце декабря, ничем не пользовались и в течение недели прекратили пользоваться тарифом. В нашей работе мы можем удалить эти строки"
   ]
  },
  {
   "cell_type": "code",
   "execution_count": 54,
   "metadata": {},
   "outputs": [],
   "source": [
    "df_groupby = df_groupby.drop(labels=[3214, 3215], axis=0)"
   ]
  },
  {
   "cell_type": "markdown",
   "metadata": {},
   "source": [
    "Теперь заполним пропущенные значения 0 (за исключением столбца \"Дата прекращения пользования тарифом\", т.к. если значение пропущено, то значит, тарифом еще пользуются"
   ]
  },
  {
   "cell_type": "code",
   "execution_count": 55,
   "metadata": {},
   "outputs": [],
   "source": [
    "df_groupby['total_calls'] = df_groupby['total_calls'].fillna(0)"
   ]
  },
  {
   "cell_type": "code",
   "execution_count": 56,
   "metadata": {},
   "outputs": [],
   "source": [
    "df_groupby['time_calls'] = df_groupby['time_calls'].fillna(0)"
   ]
  },
  {
   "cell_type": "code",
   "execution_count": 57,
   "metadata": {},
   "outputs": [],
   "source": [
    "df_groupby['total_message'] = df_groupby['total_message'].fillna(0)"
   ]
  },
  {
   "cell_type": "code",
   "execution_count": 58,
   "metadata": {},
   "outputs": [],
   "source": [
    "df_groupby['total_traffic'] = df_groupby['total_traffic'].fillna(0)"
   ]
  },
  {
   "cell_type": "code",
   "execution_count": 59,
   "metadata": {},
   "outputs": [
    {
     "data": {
      "text/plain": [
       "user_id             0\n",
       "month               0\n",
       "total_calls         0\n",
       "time_calls          0\n",
       "total_message       0\n",
       "total_traffic       0\n",
       "age                 0\n",
       "churn_date       3027\n",
       "city                0\n",
       "first_name          0\n",
       "last_name           0\n",
       "reg_date            0\n",
       "tariff              0\n",
       "dtype: int64"
      ]
     },
     "execution_count": 59,
     "metadata": {},
     "output_type": "execute_result"
    }
   ],
   "source": [
    "df_groupby.isna().sum()"
   ]
  },
  {
   "cell_type": "code",
   "execution_count": 60,
   "metadata": {
    "scrolled": false
   },
   "outputs": [
    {
     "data": {
      "text/html": [
       "<div>\n",
       "<style scoped>\n",
       "    .dataframe tbody tr th:only-of-type {\n",
       "        vertical-align: middle;\n",
       "    }\n",
       "\n",
       "    .dataframe tbody tr th {\n",
       "        vertical-align: top;\n",
       "    }\n",
       "\n",
       "    .dataframe thead th {\n",
       "        text-align: right;\n",
       "    }\n",
       "</style>\n",
       "<table border=\"1\" class=\"dataframe\">\n",
       "  <thead>\n",
       "    <tr style=\"text-align: right;\">\n",
       "      <th></th>\n",
       "      <th>user_id</th>\n",
       "      <th>month</th>\n",
       "      <th>total_calls</th>\n",
       "      <th>time_calls</th>\n",
       "      <th>total_message</th>\n",
       "      <th>total_traffic</th>\n",
       "      <th>age</th>\n",
       "      <th>churn_date</th>\n",
       "      <th>city</th>\n",
       "      <th>first_name</th>\n",
       "      <th>last_name</th>\n",
       "      <th>reg_date</th>\n",
       "      <th>tariff</th>\n",
       "    </tr>\n",
       "  </thead>\n",
       "  <tbody>\n",
       "    <tr>\n",
       "      <th>0</th>\n",
       "      <td>1000</td>\n",
       "      <td>5.00</td>\n",
       "      <td>22.00</td>\n",
       "      <td>159.00</td>\n",
       "      <td>22.00</td>\n",
       "      <td>2,253.49</td>\n",
       "      <td>52</td>\n",
       "      <td>NaT</td>\n",
       "      <td>Краснодар</td>\n",
       "      <td>Рафаил</td>\n",
       "      <td>Верещагин</td>\n",
       "      <td>2018-05-25</td>\n",
       "      <td>ultra</td>\n",
       "    </tr>\n",
       "    <tr>\n",
       "      <th>1</th>\n",
       "      <td>1000</td>\n",
       "      <td>6.00</td>\n",
       "      <td>43.00</td>\n",
       "      <td>172.00</td>\n",
       "      <td>60.00</td>\n",
       "      <td>23,233.77</td>\n",
       "      <td>52</td>\n",
       "      <td>NaT</td>\n",
       "      <td>Краснодар</td>\n",
       "      <td>Рафаил</td>\n",
       "      <td>Верещагин</td>\n",
       "      <td>2018-05-25</td>\n",
       "      <td>ultra</td>\n",
       "    </tr>\n",
       "    <tr>\n",
       "      <th>2</th>\n",
       "      <td>1000</td>\n",
       "      <td>7.00</td>\n",
       "      <td>47.00</td>\n",
       "      <td>340.00</td>\n",
       "      <td>75.00</td>\n",
       "      <td>14,003.64</td>\n",
       "      <td>52</td>\n",
       "      <td>NaT</td>\n",
       "      <td>Краснодар</td>\n",
       "      <td>Рафаил</td>\n",
       "      <td>Верещагин</td>\n",
       "      <td>2018-05-25</td>\n",
       "      <td>ultra</td>\n",
       "    </tr>\n",
       "    <tr>\n",
       "      <th>3</th>\n",
       "      <td>1000</td>\n",
       "      <td>8.00</td>\n",
       "      <td>52.00</td>\n",
       "      <td>408.00</td>\n",
       "      <td>81.00</td>\n",
       "      <td>14,055.93</td>\n",
       "      <td>52</td>\n",
       "      <td>NaT</td>\n",
       "      <td>Краснодар</td>\n",
       "      <td>Рафаил</td>\n",
       "      <td>Верещагин</td>\n",
       "      <td>2018-05-25</td>\n",
       "      <td>ultra</td>\n",
       "    </tr>\n",
       "    <tr>\n",
       "      <th>4</th>\n",
       "      <td>1000</td>\n",
       "      <td>9.00</td>\n",
       "      <td>58.00</td>\n",
       "      <td>466.00</td>\n",
       "      <td>57.00</td>\n",
       "      <td>14,568.91</td>\n",
       "      <td>52</td>\n",
       "      <td>NaT</td>\n",
       "      <td>Краснодар</td>\n",
       "      <td>Рафаил</td>\n",
       "      <td>Верещагин</td>\n",
       "      <td>2018-05-25</td>\n",
       "      <td>ultra</td>\n",
       "    </tr>\n",
       "    <tr>\n",
       "      <th>...</th>\n",
       "      <td>...</td>\n",
       "      <td>...</td>\n",
       "      <td>...</td>\n",
       "      <td>...</td>\n",
       "      <td>...</td>\n",
       "      <td>...</td>\n",
       "      <td>...</td>\n",
       "      <td>...</td>\n",
       "      <td>...</td>\n",
       "      <td>...</td>\n",
       "      <td>...</td>\n",
       "      <td>...</td>\n",
       "      <td>...</td>\n",
       "    </tr>\n",
       "    <tr>\n",
       "      <th>3209</th>\n",
       "      <td>1489</td>\n",
       "      <td>8.00</td>\n",
       "      <td>0.00</td>\n",
       "      <td>0.00</td>\n",
       "      <td>17.00</td>\n",
       "      <td>11,050.56</td>\n",
       "      <td>35</td>\n",
       "      <td>NaT</td>\n",
       "      <td>Санкт-Петербург</td>\n",
       "      <td>Павел</td>\n",
       "      <td>Гончаров</td>\n",
       "      <td>2018-08-15</td>\n",
       "      <td>smart</td>\n",
       "    </tr>\n",
       "    <tr>\n",
       "      <th>3210</th>\n",
       "      <td>1489</td>\n",
       "      <td>9.00</td>\n",
       "      <td>0.00</td>\n",
       "      <td>0.00</td>\n",
       "      <td>32.00</td>\n",
       "      <td>17,206.30</td>\n",
       "      <td>35</td>\n",
       "      <td>NaT</td>\n",
       "      <td>Санкт-Петербург</td>\n",
       "      <td>Павел</td>\n",
       "      <td>Гончаров</td>\n",
       "      <td>2018-08-15</td>\n",
       "      <td>smart</td>\n",
       "    </tr>\n",
       "    <tr>\n",
       "      <th>3211</th>\n",
       "      <td>1489</td>\n",
       "      <td>10.00</td>\n",
       "      <td>0.00</td>\n",
       "      <td>0.00</td>\n",
       "      <td>21.00</td>\n",
       "      <td>19,559.44</td>\n",
       "      <td>35</td>\n",
       "      <td>NaT</td>\n",
       "      <td>Санкт-Петербург</td>\n",
       "      <td>Павел</td>\n",
       "      <td>Гончаров</td>\n",
       "      <td>2018-08-15</td>\n",
       "      <td>smart</td>\n",
       "    </tr>\n",
       "    <tr>\n",
       "      <th>3212</th>\n",
       "      <td>1489</td>\n",
       "      <td>11.00</td>\n",
       "      <td>0.00</td>\n",
       "      <td>0.00</td>\n",
       "      <td>20.00</td>\n",
       "      <td>17,491.56</td>\n",
       "      <td>35</td>\n",
       "      <td>NaT</td>\n",
       "      <td>Санкт-Петербург</td>\n",
       "      <td>Павел</td>\n",
       "      <td>Гончаров</td>\n",
       "      <td>2018-08-15</td>\n",
       "      <td>smart</td>\n",
       "    </tr>\n",
       "    <tr>\n",
       "      <th>3213</th>\n",
       "      <td>1489</td>\n",
       "      <td>12.00</td>\n",
       "      <td>0.00</td>\n",
       "      <td>0.00</td>\n",
       "      <td>35.00</td>\n",
       "      <td>17,322.51</td>\n",
       "      <td>35</td>\n",
       "      <td>NaT</td>\n",
       "      <td>Санкт-Петербург</td>\n",
       "      <td>Павел</td>\n",
       "      <td>Гончаров</td>\n",
       "      <td>2018-08-15</td>\n",
       "      <td>smart</td>\n",
       "    </tr>\n",
       "  </tbody>\n",
       "</table>\n",
       "<p>3214 rows × 13 columns</p>\n",
       "</div>"
      ],
      "text/plain": [
       "      user_id  month  total_calls  time_calls  total_message  total_traffic  \\\n",
       "0        1000   5.00        22.00      159.00          22.00       2,253.49   \n",
       "1        1000   6.00        43.00      172.00          60.00      23,233.77   \n",
       "2        1000   7.00        47.00      340.00          75.00      14,003.64   \n",
       "3        1000   8.00        52.00      408.00          81.00      14,055.93   \n",
       "4        1000   9.00        58.00      466.00          57.00      14,568.91   \n",
       "...       ...    ...          ...         ...            ...            ...   \n",
       "3209     1489   8.00         0.00        0.00          17.00      11,050.56   \n",
       "3210     1489   9.00         0.00        0.00          32.00      17,206.30   \n",
       "3211     1489  10.00         0.00        0.00          21.00      19,559.44   \n",
       "3212     1489  11.00         0.00        0.00          20.00      17,491.56   \n",
       "3213     1489  12.00         0.00        0.00          35.00      17,322.51   \n",
       "\n",
       "      age churn_date             city first_name  last_name   reg_date tariff  \n",
       "0      52        NaT        Краснодар     Рафаил  Верещагин 2018-05-25  ultra  \n",
       "1      52        NaT        Краснодар     Рафаил  Верещагин 2018-05-25  ultra  \n",
       "2      52        NaT        Краснодар     Рафаил  Верещагин 2018-05-25  ultra  \n",
       "3      52        NaT        Краснодар     Рафаил  Верещагин 2018-05-25  ultra  \n",
       "4      52        NaT        Краснодар     Рафаил  Верещагин 2018-05-25  ultra  \n",
       "...   ...        ...              ...        ...        ...        ...    ...  \n",
       "3209   35        NaT  Санкт-Петербург      Павел   Гончаров 2018-08-15  smart  \n",
       "3210   35        NaT  Санкт-Петербург      Павел   Гончаров 2018-08-15  smart  \n",
       "3211   35        NaT  Санкт-Петербург      Павел   Гончаров 2018-08-15  smart  \n",
       "3212   35        NaT  Санкт-Петербург      Павел   Гончаров 2018-08-15  smart  \n",
       "3213   35        NaT  Санкт-Петербург      Павел   Гончаров 2018-08-15  smart  \n",
       "\n",
       "[3214 rows x 13 columns]"
      ]
     },
     "execution_count": 60,
     "metadata": {},
     "output_type": "execute_result"
    }
   ],
   "source": [
    "df_groupby"
   ]
  },
  {
   "cell_type": "markdown",
   "metadata": {},
   "source": [
    "Поменяем тип данных в столбцах на целочисленный:"
   ]
  },
  {
   "cell_type": "code",
   "execution_count": 61,
   "metadata": {},
   "outputs": [],
   "source": [
    "import warnings\n",
    "warnings.filterwarnings(\"ignore\") \n",
    "# Как и ранее, для замены типа данных воспользуемся методом `astype()`\n",
    "df_groupby = df_groupby.astype({'month': np.int, 'total_calls': np.int, 'time_calls': np.int, \n",
    "                               'total_message': np.int, 'total_traffic': np.int})"
   ]
  },
  {
   "cell_type": "code",
   "execution_count": 62,
   "metadata": {},
   "outputs": [
    {
     "data": {
      "text/html": [
       "<div>\n",
       "<style scoped>\n",
       "    .dataframe tbody tr th:only-of-type {\n",
       "        vertical-align: middle;\n",
       "    }\n",
       "\n",
       "    .dataframe tbody tr th {\n",
       "        vertical-align: top;\n",
       "    }\n",
       "\n",
       "    .dataframe thead th {\n",
       "        text-align: right;\n",
       "    }\n",
       "</style>\n",
       "<table border=\"1\" class=\"dataframe\">\n",
       "  <thead>\n",
       "    <tr style=\"text-align: right;\">\n",
       "      <th></th>\n",
       "      <th>user_id</th>\n",
       "      <th>month</th>\n",
       "      <th>total_calls</th>\n",
       "      <th>time_calls</th>\n",
       "      <th>total_message</th>\n",
       "      <th>total_traffic</th>\n",
       "      <th>age</th>\n",
       "      <th>churn_date</th>\n",
       "      <th>city</th>\n",
       "      <th>first_name</th>\n",
       "      <th>last_name</th>\n",
       "      <th>reg_date</th>\n",
       "      <th>tariff</th>\n",
       "    </tr>\n",
       "  </thead>\n",
       "  <tbody>\n",
       "    <tr>\n",
       "      <th>0</th>\n",
       "      <td>1000</td>\n",
       "      <td>5</td>\n",
       "      <td>22</td>\n",
       "      <td>159</td>\n",
       "      <td>22</td>\n",
       "      <td>2253</td>\n",
       "      <td>52</td>\n",
       "      <td>NaT</td>\n",
       "      <td>Краснодар</td>\n",
       "      <td>Рафаил</td>\n",
       "      <td>Верещагин</td>\n",
       "      <td>2018-05-25</td>\n",
       "      <td>ultra</td>\n",
       "    </tr>\n",
       "    <tr>\n",
       "      <th>1</th>\n",
       "      <td>1000</td>\n",
       "      <td>6</td>\n",
       "      <td>43</td>\n",
       "      <td>172</td>\n",
       "      <td>60</td>\n",
       "      <td>23233</td>\n",
       "      <td>52</td>\n",
       "      <td>NaT</td>\n",
       "      <td>Краснодар</td>\n",
       "      <td>Рафаил</td>\n",
       "      <td>Верещагин</td>\n",
       "      <td>2018-05-25</td>\n",
       "      <td>ultra</td>\n",
       "    </tr>\n",
       "    <tr>\n",
       "      <th>2</th>\n",
       "      <td>1000</td>\n",
       "      <td>7</td>\n",
       "      <td>47</td>\n",
       "      <td>340</td>\n",
       "      <td>75</td>\n",
       "      <td>14003</td>\n",
       "      <td>52</td>\n",
       "      <td>NaT</td>\n",
       "      <td>Краснодар</td>\n",
       "      <td>Рафаил</td>\n",
       "      <td>Верещагин</td>\n",
       "      <td>2018-05-25</td>\n",
       "      <td>ultra</td>\n",
       "    </tr>\n",
       "    <tr>\n",
       "      <th>3</th>\n",
       "      <td>1000</td>\n",
       "      <td>8</td>\n",
       "      <td>52</td>\n",
       "      <td>408</td>\n",
       "      <td>81</td>\n",
       "      <td>14055</td>\n",
       "      <td>52</td>\n",
       "      <td>NaT</td>\n",
       "      <td>Краснодар</td>\n",
       "      <td>Рафаил</td>\n",
       "      <td>Верещагин</td>\n",
       "      <td>2018-05-25</td>\n",
       "      <td>ultra</td>\n",
       "    </tr>\n",
       "    <tr>\n",
       "      <th>4</th>\n",
       "      <td>1000</td>\n",
       "      <td>9</td>\n",
       "      <td>58</td>\n",
       "      <td>466</td>\n",
       "      <td>57</td>\n",
       "      <td>14568</td>\n",
       "      <td>52</td>\n",
       "      <td>NaT</td>\n",
       "      <td>Краснодар</td>\n",
       "      <td>Рафаил</td>\n",
       "      <td>Верещагин</td>\n",
       "      <td>2018-05-25</td>\n",
       "      <td>ultra</td>\n",
       "    </tr>\n",
       "    <tr>\n",
       "      <th>...</th>\n",
       "      <td>...</td>\n",
       "      <td>...</td>\n",
       "      <td>...</td>\n",
       "      <td>...</td>\n",
       "      <td>...</td>\n",
       "      <td>...</td>\n",
       "      <td>...</td>\n",
       "      <td>...</td>\n",
       "      <td>...</td>\n",
       "      <td>...</td>\n",
       "      <td>...</td>\n",
       "      <td>...</td>\n",
       "      <td>...</td>\n",
       "    </tr>\n",
       "    <tr>\n",
       "      <th>3209</th>\n",
       "      <td>1489</td>\n",
       "      <td>8</td>\n",
       "      <td>0</td>\n",
       "      <td>0</td>\n",
       "      <td>17</td>\n",
       "      <td>11050</td>\n",
       "      <td>35</td>\n",
       "      <td>NaT</td>\n",
       "      <td>Санкт-Петербург</td>\n",
       "      <td>Павел</td>\n",
       "      <td>Гончаров</td>\n",
       "      <td>2018-08-15</td>\n",
       "      <td>smart</td>\n",
       "    </tr>\n",
       "    <tr>\n",
       "      <th>3210</th>\n",
       "      <td>1489</td>\n",
       "      <td>9</td>\n",
       "      <td>0</td>\n",
       "      <td>0</td>\n",
       "      <td>32</td>\n",
       "      <td>17206</td>\n",
       "      <td>35</td>\n",
       "      <td>NaT</td>\n",
       "      <td>Санкт-Петербург</td>\n",
       "      <td>Павел</td>\n",
       "      <td>Гончаров</td>\n",
       "      <td>2018-08-15</td>\n",
       "      <td>smart</td>\n",
       "    </tr>\n",
       "    <tr>\n",
       "      <th>3211</th>\n",
       "      <td>1489</td>\n",
       "      <td>10</td>\n",
       "      <td>0</td>\n",
       "      <td>0</td>\n",
       "      <td>21</td>\n",
       "      <td>19559</td>\n",
       "      <td>35</td>\n",
       "      <td>NaT</td>\n",
       "      <td>Санкт-Петербург</td>\n",
       "      <td>Павел</td>\n",
       "      <td>Гончаров</td>\n",
       "      <td>2018-08-15</td>\n",
       "      <td>smart</td>\n",
       "    </tr>\n",
       "    <tr>\n",
       "      <th>3212</th>\n",
       "      <td>1489</td>\n",
       "      <td>11</td>\n",
       "      <td>0</td>\n",
       "      <td>0</td>\n",
       "      <td>20</td>\n",
       "      <td>17491</td>\n",
       "      <td>35</td>\n",
       "      <td>NaT</td>\n",
       "      <td>Санкт-Петербург</td>\n",
       "      <td>Павел</td>\n",
       "      <td>Гончаров</td>\n",
       "      <td>2018-08-15</td>\n",
       "      <td>smart</td>\n",
       "    </tr>\n",
       "    <tr>\n",
       "      <th>3213</th>\n",
       "      <td>1489</td>\n",
       "      <td>12</td>\n",
       "      <td>0</td>\n",
       "      <td>0</td>\n",
       "      <td>35</td>\n",
       "      <td>17322</td>\n",
       "      <td>35</td>\n",
       "      <td>NaT</td>\n",
       "      <td>Санкт-Петербург</td>\n",
       "      <td>Павел</td>\n",
       "      <td>Гончаров</td>\n",
       "      <td>2018-08-15</td>\n",
       "      <td>smart</td>\n",
       "    </tr>\n",
       "  </tbody>\n",
       "</table>\n",
       "<p>3214 rows × 13 columns</p>\n",
       "</div>"
      ],
      "text/plain": [
       "      user_id  month  total_calls  time_calls  total_message  total_traffic  \\\n",
       "0        1000      5           22         159             22           2253   \n",
       "1        1000      6           43         172             60          23233   \n",
       "2        1000      7           47         340             75          14003   \n",
       "3        1000      8           52         408             81          14055   \n",
       "4        1000      9           58         466             57          14568   \n",
       "...       ...    ...          ...         ...            ...            ...   \n",
       "3209     1489      8            0           0             17          11050   \n",
       "3210     1489      9            0           0             32          17206   \n",
       "3211     1489     10            0           0             21          19559   \n",
       "3212     1489     11            0           0             20          17491   \n",
       "3213     1489     12            0           0             35          17322   \n",
       "\n",
       "      age churn_date             city first_name  last_name   reg_date tariff  \n",
       "0      52        NaT        Краснодар     Рафаил  Верещагин 2018-05-25  ultra  \n",
       "1      52        NaT        Краснодар     Рафаил  Верещагин 2018-05-25  ultra  \n",
       "2      52        NaT        Краснодар     Рафаил  Верещагин 2018-05-25  ultra  \n",
       "3      52        NaT        Краснодар     Рафаил  Верещагин 2018-05-25  ultra  \n",
       "4      52        NaT        Краснодар     Рафаил  Верещагин 2018-05-25  ultra  \n",
       "...   ...        ...              ...        ...        ...        ...    ...  \n",
       "3209   35        NaT  Санкт-Петербург      Павел   Гончаров 2018-08-15  smart  \n",
       "3210   35        NaT  Санкт-Петербург      Павел   Гончаров 2018-08-15  smart  \n",
       "3211   35        NaT  Санкт-Петербург      Павел   Гончаров 2018-08-15  smart  \n",
       "3212   35        NaT  Санкт-Петербург      Павел   Гончаров 2018-08-15  smart  \n",
       "3213   35        NaT  Санкт-Петербург      Павел   Гончаров 2018-08-15  smart  \n",
       "\n",
       "[3214 rows x 13 columns]"
      ]
     },
     "execution_count": 62,
     "metadata": {},
     "output_type": "execute_result"
    }
   ],
   "source": [
    "df_groupby"
   ]
  },
  {
   "cell_type": "markdown",
   "metadata": {},
   "source": [
    "Вспомним цифры тарифа, рассчитаем выручку с каждого абонента за месяц и добавим столбец в нашу таблицу"
   ]
  },
  {
   "cell_type": "code",
   "execution_count": 63,
   "metadata": {
    "scrolled": false
   },
   "outputs": [
    {
     "data": {
      "text/html": [
       "<div>\n",
       "<style scoped>\n",
       "    .dataframe tbody tr th:only-of-type {\n",
       "        vertical-align: middle;\n",
       "    }\n",
       "\n",
       "    .dataframe tbody tr th {\n",
       "        vertical-align: top;\n",
       "    }\n",
       "\n",
       "    .dataframe thead th {\n",
       "        text-align: right;\n",
       "    }\n",
       "</style>\n",
       "<table border=\"1\" class=\"dataframe\">\n",
       "  <thead>\n",
       "    <tr style=\"text-align: right;\">\n",
       "      <th></th>\n",
       "      <th>messages_included</th>\n",
       "      <th>mb_per_month_included</th>\n",
       "      <th>minutes_included</th>\n",
       "      <th>rub_monthly_fee</th>\n",
       "      <th>rub_per_gb</th>\n",
       "      <th>rub_per_message</th>\n",
       "      <th>rub_per_minute</th>\n",
       "      <th>tariff_name</th>\n",
       "    </tr>\n",
       "  </thead>\n",
       "  <tbody>\n",
       "    <tr>\n",
       "      <th>0</th>\n",
       "      <td>50</td>\n",
       "      <td>15360</td>\n",
       "      <td>500</td>\n",
       "      <td>550</td>\n",
       "      <td>200</td>\n",
       "      <td>3</td>\n",
       "      <td>3</td>\n",
       "      <td>smart</td>\n",
       "    </tr>\n",
       "    <tr>\n",
       "      <th>1</th>\n",
       "      <td>1000</td>\n",
       "      <td>30720</td>\n",
       "      <td>3000</td>\n",
       "      <td>1950</td>\n",
       "      <td>150</td>\n",
       "      <td>1</td>\n",
       "      <td>1</td>\n",
       "      <td>ultra</td>\n",
       "    </tr>\n",
       "  </tbody>\n",
       "</table>\n",
       "</div>"
      ],
      "text/plain": [
       "   messages_included  mb_per_month_included  minutes_included  \\\n",
       "0                 50                  15360               500   \n",
       "1               1000                  30720              3000   \n",
       "\n",
       "   rub_monthly_fee  rub_per_gb  rub_per_message  rub_per_minute tariff_name  \n",
       "0              550         200                3               3       smart  \n",
       "1             1950         150                1               1       ultra  "
      ]
     },
     "execution_count": 63,
     "metadata": {},
     "output_type": "execute_result"
    }
   ],
   "source": [
    "df_tariffs"
   ]
  },
  {
   "cell_type": "code",
   "execution_count": 64,
   "metadata": {},
   "outputs": [],
   "source": [
    "# Напишем функцию, в которой количество использованных минут/сообщений/мегабайт с тарифом сравним с тарифом\n",
    "# (с помощью индексации по координатам). Если использованных минут/сообщений/мегабайт получилось больше, то \n",
    "# умножаем на сумму сверх лимита. Если меньше, то приравниваем 0. В конце тарифа считаем доход: \n",
    "# свехлимитные звонки/сообщения/мегабайт (в рублях) складываем с абонентской платой.\n",
    "# Слеудет обратить внимание, что интернет переводим в гигабайты, округляем до целого числа и умножаем на стоимость 1 Гб\n",
    "def profit(row):\n",
    "    if row['tariff'] == 'smart':\n",
    "        \n",
    "        if row['time_calls'] > df_tariffs.loc[0, 'minutes_included']:\n",
    "            calls = (row['time_calls'] - df_tariffs.loc[0, 'minutes_included'])*df_tariffs.loc[0, 'rub_per_minute']\n",
    "        else:\n",
    "            calls = 0\n",
    "        if row['total_message'] > df_tariffs.loc[0, 'messages_included']:\n",
    "            messages = (row['total_message'] - df_tariffs.loc[0, 'messages_included'])*df_tariffs.loc[0, 'rub_per_message']\n",
    "        else:\n",
    "            messages = 0              \n",
    "        if row['total_traffic'] > df_tariffs.loc[1, 'mb_per_month_included']:\n",
    "            internet = np.ceil((row['total_traffic'] - df_tariffs.loc[0, 'mb_per_month_included'])/1024)*(df_tariffs.loc[0, 'rub_per_gb'])\n",
    "            \n",
    "        else:\n",
    "            internet = 0\n",
    "        \n",
    "        income = calls + messages + internet + df_tariffs.loc[0, 'rub_monthly_fee']\n",
    "    \n",
    "    if row['tariff'] == 'ultra':\n",
    "        if row['time_calls'] > df_tariffs.loc[1, 'minutes_included']:\n",
    "            calls = (row['time_calls'] - df_tariffs.loc[1, 'minutes_included'])*df_tariffs.loc[1, 'rub_per_minute']\n",
    "        else:\n",
    "            calls = 0\n",
    "              \n",
    "        if row['total_message'] > df_tariffs.loc[1, 'messages_included']:\n",
    "            messages = (row['total_message'] - df_tariffs.loc[1, 'messages_included'])*df_tariffs.loc[1, 'rub_per_message']\n",
    "        else:\n",
    "            messages = 0\n",
    "       \n",
    "        if row['total_traffic'] > df_tariffs.loc[1, 'mb_per_month_included']:\n",
    "            internet = np.ceil((row['total_traffic'] - df_tariffs.loc[1, 'mb_per_month_included'])/1024)*(df_tariffs.loc[1, 'rub_per_gb'])\n",
    "        else:\n",
    "            internet = 0\n",
    "        income = calls + messages + internet + df_tariffs.loc[1, 'rub_monthly_fee']\n",
    "    return income "
   ]
  },
  {
   "cell_type": "code",
   "execution_count": 65,
   "metadata": {},
   "outputs": [],
   "source": [
    "# Добавляем столбец в нашу исходную таблицу и к нему применяем метод `apply()`\n",
    "df_groupby['income'] = df_groupby.apply(profit, axis=1)"
   ]
  },
  {
   "cell_type": "code",
   "execution_count": 66,
   "metadata": {},
   "outputs": [
    {
     "data": {
      "text/html": [
       "<div>\n",
       "<style scoped>\n",
       "    .dataframe tbody tr th:only-of-type {\n",
       "        vertical-align: middle;\n",
       "    }\n",
       "\n",
       "    .dataframe tbody tr th {\n",
       "        vertical-align: top;\n",
       "    }\n",
       "\n",
       "    .dataframe thead th {\n",
       "        text-align: right;\n",
       "    }\n",
       "</style>\n",
       "<table border=\"1\" class=\"dataframe\">\n",
       "  <thead>\n",
       "    <tr style=\"text-align: right;\">\n",
       "      <th></th>\n",
       "      <th>user_id</th>\n",
       "      <th>month</th>\n",
       "      <th>total_calls</th>\n",
       "      <th>time_calls</th>\n",
       "      <th>total_message</th>\n",
       "      <th>total_traffic</th>\n",
       "      <th>age</th>\n",
       "      <th>churn_date</th>\n",
       "      <th>city</th>\n",
       "      <th>first_name</th>\n",
       "      <th>last_name</th>\n",
       "      <th>reg_date</th>\n",
       "      <th>tariff</th>\n",
       "      <th>income</th>\n",
       "    </tr>\n",
       "  </thead>\n",
       "  <tbody>\n",
       "    <tr>\n",
       "      <th>0</th>\n",
       "      <td>1000</td>\n",
       "      <td>5</td>\n",
       "      <td>22</td>\n",
       "      <td>159</td>\n",
       "      <td>22</td>\n",
       "      <td>2253</td>\n",
       "      <td>52</td>\n",
       "      <td>NaT</td>\n",
       "      <td>Краснодар</td>\n",
       "      <td>Рафаил</td>\n",
       "      <td>Верещагин</td>\n",
       "      <td>2018-05-25</td>\n",
       "      <td>ultra</td>\n",
       "      <td>1,950.00</td>\n",
       "    </tr>\n",
       "    <tr>\n",
       "      <th>1</th>\n",
       "      <td>1000</td>\n",
       "      <td>6</td>\n",
       "      <td>43</td>\n",
       "      <td>172</td>\n",
       "      <td>60</td>\n",
       "      <td>23233</td>\n",
       "      <td>52</td>\n",
       "      <td>NaT</td>\n",
       "      <td>Краснодар</td>\n",
       "      <td>Рафаил</td>\n",
       "      <td>Верещагин</td>\n",
       "      <td>2018-05-25</td>\n",
       "      <td>ultra</td>\n",
       "      <td>1,950.00</td>\n",
       "    </tr>\n",
       "    <tr>\n",
       "      <th>2</th>\n",
       "      <td>1000</td>\n",
       "      <td>7</td>\n",
       "      <td>47</td>\n",
       "      <td>340</td>\n",
       "      <td>75</td>\n",
       "      <td>14003</td>\n",
       "      <td>52</td>\n",
       "      <td>NaT</td>\n",
       "      <td>Краснодар</td>\n",
       "      <td>Рафаил</td>\n",
       "      <td>Верещагин</td>\n",
       "      <td>2018-05-25</td>\n",
       "      <td>ultra</td>\n",
       "      <td>1,950.00</td>\n",
       "    </tr>\n",
       "    <tr>\n",
       "      <th>3</th>\n",
       "      <td>1000</td>\n",
       "      <td>8</td>\n",
       "      <td>52</td>\n",
       "      <td>408</td>\n",
       "      <td>81</td>\n",
       "      <td>14055</td>\n",
       "      <td>52</td>\n",
       "      <td>NaT</td>\n",
       "      <td>Краснодар</td>\n",
       "      <td>Рафаил</td>\n",
       "      <td>Верещагин</td>\n",
       "      <td>2018-05-25</td>\n",
       "      <td>ultra</td>\n",
       "      <td>1,950.00</td>\n",
       "    </tr>\n",
       "    <tr>\n",
       "      <th>4</th>\n",
       "      <td>1000</td>\n",
       "      <td>9</td>\n",
       "      <td>58</td>\n",
       "      <td>466</td>\n",
       "      <td>57</td>\n",
       "      <td>14568</td>\n",
       "      <td>52</td>\n",
       "      <td>NaT</td>\n",
       "      <td>Краснодар</td>\n",
       "      <td>Рафаил</td>\n",
       "      <td>Верещагин</td>\n",
       "      <td>2018-05-25</td>\n",
       "      <td>ultra</td>\n",
       "      <td>1,950.00</td>\n",
       "    </tr>\n",
       "    <tr>\n",
       "      <th>...</th>\n",
       "      <td>...</td>\n",
       "      <td>...</td>\n",
       "      <td>...</td>\n",
       "      <td>...</td>\n",
       "      <td>...</td>\n",
       "      <td>...</td>\n",
       "      <td>...</td>\n",
       "      <td>...</td>\n",
       "      <td>...</td>\n",
       "      <td>...</td>\n",
       "      <td>...</td>\n",
       "      <td>...</td>\n",
       "      <td>...</td>\n",
       "      <td>...</td>\n",
       "    </tr>\n",
       "    <tr>\n",
       "      <th>3209</th>\n",
       "      <td>1489</td>\n",
       "      <td>8</td>\n",
       "      <td>0</td>\n",
       "      <td>0</td>\n",
       "      <td>17</td>\n",
       "      <td>11050</td>\n",
       "      <td>35</td>\n",
       "      <td>NaT</td>\n",
       "      <td>Санкт-Петербург</td>\n",
       "      <td>Павел</td>\n",
       "      <td>Гончаров</td>\n",
       "      <td>2018-08-15</td>\n",
       "      <td>smart</td>\n",
       "      <td>550.00</td>\n",
       "    </tr>\n",
       "    <tr>\n",
       "      <th>3210</th>\n",
       "      <td>1489</td>\n",
       "      <td>9</td>\n",
       "      <td>0</td>\n",
       "      <td>0</td>\n",
       "      <td>32</td>\n",
       "      <td>17206</td>\n",
       "      <td>35</td>\n",
       "      <td>NaT</td>\n",
       "      <td>Санкт-Петербург</td>\n",
       "      <td>Павел</td>\n",
       "      <td>Гончаров</td>\n",
       "      <td>2018-08-15</td>\n",
       "      <td>smart</td>\n",
       "      <td>550.00</td>\n",
       "    </tr>\n",
       "    <tr>\n",
       "      <th>3211</th>\n",
       "      <td>1489</td>\n",
       "      <td>10</td>\n",
       "      <td>0</td>\n",
       "      <td>0</td>\n",
       "      <td>21</td>\n",
       "      <td>19559</td>\n",
       "      <td>35</td>\n",
       "      <td>NaT</td>\n",
       "      <td>Санкт-Петербург</td>\n",
       "      <td>Павел</td>\n",
       "      <td>Гончаров</td>\n",
       "      <td>2018-08-15</td>\n",
       "      <td>smart</td>\n",
       "      <td>550.00</td>\n",
       "    </tr>\n",
       "    <tr>\n",
       "      <th>3212</th>\n",
       "      <td>1489</td>\n",
       "      <td>11</td>\n",
       "      <td>0</td>\n",
       "      <td>0</td>\n",
       "      <td>20</td>\n",
       "      <td>17491</td>\n",
       "      <td>35</td>\n",
       "      <td>NaT</td>\n",
       "      <td>Санкт-Петербург</td>\n",
       "      <td>Павел</td>\n",
       "      <td>Гончаров</td>\n",
       "      <td>2018-08-15</td>\n",
       "      <td>smart</td>\n",
       "      <td>550.00</td>\n",
       "    </tr>\n",
       "    <tr>\n",
       "      <th>3213</th>\n",
       "      <td>1489</td>\n",
       "      <td>12</td>\n",
       "      <td>0</td>\n",
       "      <td>0</td>\n",
       "      <td>35</td>\n",
       "      <td>17322</td>\n",
       "      <td>35</td>\n",
       "      <td>NaT</td>\n",
       "      <td>Санкт-Петербург</td>\n",
       "      <td>Павел</td>\n",
       "      <td>Гончаров</td>\n",
       "      <td>2018-08-15</td>\n",
       "      <td>smart</td>\n",
       "      <td>550.00</td>\n",
       "    </tr>\n",
       "  </tbody>\n",
       "</table>\n",
       "<p>3214 rows × 14 columns</p>\n",
       "</div>"
      ],
      "text/plain": [
       "      user_id  month  total_calls  time_calls  total_message  total_traffic  \\\n",
       "0        1000      5           22         159             22           2253   \n",
       "1        1000      6           43         172             60          23233   \n",
       "2        1000      7           47         340             75          14003   \n",
       "3        1000      8           52         408             81          14055   \n",
       "4        1000      9           58         466             57          14568   \n",
       "...       ...    ...          ...         ...            ...            ...   \n",
       "3209     1489      8            0           0             17          11050   \n",
       "3210     1489      9            0           0             32          17206   \n",
       "3211     1489     10            0           0             21          19559   \n",
       "3212     1489     11            0           0             20          17491   \n",
       "3213     1489     12            0           0             35          17322   \n",
       "\n",
       "      age churn_date             city first_name  last_name   reg_date tariff  \\\n",
       "0      52        NaT        Краснодар     Рафаил  Верещагин 2018-05-25  ultra   \n",
       "1      52        NaT        Краснодар     Рафаил  Верещагин 2018-05-25  ultra   \n",
       "2      52        NaT        Краснодар     Рафаил  Верещагин 2018-05-25  ultra   \n",
       "3      52        NaT        Краснодар     Рафаил  Верещагин 2018-05-25  ultra   \n",
       "4      52        NaT        Краснодар     Рафаил  Верещагин 2018-05-25  ultra   \n",
       "...   ...        ...              ...        ...        ...        ...    ...   \n",
       "3209   35        NaT  Санкт-Петербург      Павел   Гончаров 2018-08-15  smart   \n",
       "3210   35        NaT  Санкт-Петербург      Павел   Гончаров 2018-08-15  smart   \n",
       "3211   35        NaT  Санкт-Петербург      Павел   Гончаров 2018-08-15  smart   \n",
       "3212   35        NaT  Санкт-Петербург      Павел   Гончаров 2018-08-15  smart   \n",
       "3213   35        NaT  Санкт-Петербург      Павел   Гончаров 2018-08-15  smart   \n",
       "\n",
       "       income  \n",
       "0    1,950.00  \n",
       "1    1,950.00  \n",
       "2    1,950.00  \n",
       "3    1,950.00  \n",
       "4    1,950.00  \n",
       "...       ...  \n",
       "3209   550.00  \n",
       "3210   550.00  \n",
       "3211   550.00  \n",
       "3212   550.00  \n",
       "3213   550.00  \n",
       "\n",
       "[3214 rows x 14 columns]"
      ]
     },
     "execution_count": 66,
     "metadata": {},
     "output_type": "execute_result"
    }
   ],
   "source": [
    "df_groupby"
   ]
  },
  {
   "cell_type": "markdown",
   "metadata": {},
   "source": [
    "# Анализ данных"
   ]
  },
  {
   "cell_type": "markdown",
   "metadata": {},
   "source": [
    "Сделаем срез данных по людям, которые пользуются тарифом \"Смарт\""
   ]
  },
  {
   "cell_type": "code",
   "execution_count": 67,
   "metadata": {},
   "outputs": [],
   "source": [
    "people_smart = df_groupby.query('tariff == \"smart\"')\n"
   ]
  },
  {
   "cell_type": "code",
   "execution_count": 68,
   "metadata": {
    "scrolled": true
   },
   "outputs": [
    {
     "data": {
      "text/html": [
       "<div>\n",
       "<style scoped>\n",
       "    .dataframe tbody tr th:only-of-type {\n",
       "        vertical-align: middle;\n",
       "    }\n",
       "\n",
       "    .dataframe tbody tr th {\n",
       "        vertical-align: top;\n",
       "    }\n",
       "\n",
       "    .dataframe thead th {\n",
       "        text-align: right;\n",
       "    }\n",
       "</style>\n",
       "<table border=\"1\" class=\"dataframe\">\n",
       "  <thead>\n",
       "    <tr style=\"text-align: right;\">\n",
       "      <th></th>\n",
       "      <th>user_id</th>\n",
       "      <th>month</th>\n",
       "      <th>total_calls</th>\n",
       "      <th>time_calls</th>\n",
       "      <th>total_message</th>\n",
       "      <th>total_traffic</th>\n",
       "      <th>age</th>\n",
       "      <th>churn_date</th>\n",
       "      <th>city</th>\n",
       "      <th>first_name</th>\n",
       "      <th>last_name</th>\n",
       "      <th>reg_date</th>\n",
       "      <th>tariff</th>\n",
       "      <th>income</th>\n",
       "    </tr>\n",
       "  </thead>\n",
       "  <tbody>\n",
       "    <tr>\n",
       "      <th>8</th>\n",
       "      <td>1001</td>\n",
       "      <td>11</td>\n",
       "      <td>59</td>\n",
       "      <td>430</td>\n",
       "      <td>0</td>\n",
       "      <td>18429</td>\n",
       "      <td>41</td>\n",
       "      <td>NaT</td>\n",
       "      <td>Москва</td>\n",
       "      <td>Иван</td>\n",
       "      <td>Ежов</td>\n",
       "      <td>2018-11-01</td>\n",
       "      <td>smart</td>\n",
       "      <td>550.00</td>\n",
       "    </tr>\n",
       "    <tr>\n",
       "      <th>9</th>\n",
       "      <td>1001</td>\n",
       "      <td>12</td>\n",
       "      <td>63</td>\n",
       "      <td>414</td>\n",
       "      <td>0</td>\n",
       "      <td>14036</td>\n",
       "      <td>41</td>\n",
       "      <td>NaT</td>\n",
       "      <td>Москва</td>\n",
       "      <td>Иван</td>\n",
       "      <td>Ежов</td>\n",
       "      <td>2018-11-01</td>\n",
       "      <td>smart</td>\n",
       "      <td>550.00</td>\n",
       "    </tr>\n",
       "    <tr>\n",
       "      <th>10</th>\n",
       "      <td>1002</td>\n",
       "      <td>6</td>\n",
       "      <td>15</td>\n",
       "      <td>117</td>\n",
       "      <td>4</td>\n",
       "      <td>10856</td>\n",
       "      <td>59</td>\n",
       "      <td>NaT</td>\n",
       "      <td>Стерлитамак</td>\n",
       "      <td>Евгений</td>\n",
       "      <td>Абрамович</td>\n",
       "      <td>2018-06-17</td>\n",
       "      <td>smart</td>\n",
       "      <td>550.00</td>\n",
       "    </tr>\n",
       "    <tr>\n",
       "      <th>11</th>\n",
       "      <td>1002</td>\n",
       "      <td>7</td>\n",
       "      <td>26</td>\n",
       "      <td>214</td>\n",
       "      <td>11</td>\n",
       "      <td>17580</td>\n",
       "      <td>59</td>\n",
       "      <td>NaT</td>\n",
       "      <td>Стерлитамак</td>\n",
       "      <td>Евгений</td>\n",
       "      <td>Абрамович</td>\n",
       "      <td>2018-06-17</td>\n",
       "      <td>smart</td>\n",
       "      <td>550.00</td>\n",
       "    </tr>\n",
       "    <tr>\n",
       "      <th>12</th>\n",
       "      <td>1002</td>\n",
       "      <td>8</td>\n",
       "      <td>42</td>\n",
       "      <td>289</td>\n",
       "      <td>13</td>\n",
       "      <td>20319</td>\n",
       "      <td>59</td>\n",
       "      <td>NaT</td>\n",
       "      <td>Стерлитамак</td>\n",
       "      <td>Евгений</td>\n",
       "      <td>Абрамович</td>\n",
       "      <td>2018-06-17</td>\n",
       "      <td>smart</td>\n",
       "      <td>550.00</td>\n",
       "    </tr>\n",
       "    <tr>\n",
       "      <th>...</th>\n",
       "      <td>...</td>\n",
       "      <td>...</td>\n",
       "      <td>...</td>\n",
       "      <td>...</td>\n",
       "      <td>...</td>\n",
       "      <td>...</td>\n",
       "      <td>...</td>\n",
       "      <td>...</td>\n",
       "      <td>...</td>\n",
       "      <td>...</td>\n",
       "      <td>...</td>\n",
       "      <td>...</td>\n",
       "      <td>...</td>\n",
       "      <td>...</td>\n",
       "    </tr>\n",
       "    <tr>\n",
       "      <th>3209</th>\n",
       "      <td>1489</td>\n",
       "      <td>8</td>\n",
       "      <td>0</td>\n",
       "      <td>0</td>\n",
       "      <td>17</td>\n",
       "      <td>11050</td>\n",
       "      <td>35</td>\n",
       "      <td>NaT</td>\n",
       "      <td>Санкт-Петербург</td>\n",
       "      <td>Павел</td>\n",
       "      <td>Гончаров</td>\n",
       "      <td>2018-08-15</td>\n",
       "      <td>smart</td>\n",
       "      <td>550.00</td>\n",
       "    </tr>\n",
       "    <tr>\n",
       "      <th>3210</th>\n",
       "      <td>1489</td>\n",
       "      <td>9</td>\n",
       "      <td>0</td>\n",
       "      <td>0</td>\n",
       "      <td>32</td>\n",
       "      <td>17206</td>\n",
       "      <td>35</td>\n",
       "      <td>NaT</td>\n",
       "      <td>Санкт-Петербург</td>\n",
       "      <td>Павел</td>\n",
       "      <td>Гончаров</td>\n",
       "      <td>2018-08-15</td>\n",
       "      <td>smart</td>\n",
       "      <td>550.00</td>\n",
       "    </tr>\n",
       "    <tr>\n",
       "      <th>3211</th>\n",
       "      <td>1489</td>\n",
       "      <td>10</td>\n",
       "      <td>0</td>\n",
       "      <td>0</td>\n",
       "      <td>21</td>\n",
       "      <td>19559</td>\n",
       "      <td>35</td>\n",
       "      <td>NaT</td>\n",
       "      <td>Санкт-Петербург</td>\n",
       "      <td>Павел</td>\n",
       "      <td>Гончаров</td>\n",
       "      <td>2018-08-15</td>\n",
       "      <td>smart</td>\n",
       "      <td>550.00</td>\n",
       "    </tr>\n",
       "    <tr>\n",
       "      <th>3212</th>\n",
       "      <td>1489</td>\n",
       "      <td>11</td>\n",
       "      <td>0</td>\n",
       "      <td>0</td>\n",
       "      <td>20</td>\n",
       "      <td>17491</td>\n",
       "      <td>35</td>\n",
       "      <td>NaT</td>\n",
       "      <td>Санкт-Петербург</td>\n",
       "      <td>Павел</td>\n",
       "      <td>Гончаров</td>\n",
       "      <td>2018-08-15</td>\n",
       "      <td>smart</td>\n",
       "      <td>550.00</td>\n",
       "    </tr>\n",
       "    <tr>\n",
       "      <th>3213</th>\n",
       "      <td>1489</td>\n",
       "      <td>12</td>\n",
       "      <td>0</td>\n",
       "      <td>0</td>\n",
       "      <td>35</td>\n",
       "      <td>17322</td>\n",
       "      <td>35</td>\n",
       "      <td>NaT</td>\n",
       "      <td>Санкт-Петербург</td>\n",
       "      <td>Павел</td>\n",
       "      <td>Гончаров</td>\n",
       "      <td>2018-08-15</td>\n",
       "      <td>smart</td>\n",
       "      <td>550.00</td>\n",
       "    </tr>\n",
       "  </tbody>\n",
       "</table>\n",
       "<p>2229 rows × 14 columns</p>\n",
       "</div>"
      ],
      "text/plain": [
       "      user_id  month  total_calls  time_calls  total_message  total_traffic  \\\n",
       "8        1001     11           59         430              0          18429   \n",
       "9        1001     12           63         414              0          14036   \n",
       "10       1002      6           15         117              4          10856   \n",
       "11       1002      7           26         214             11          17580   \n",
       "12       1002      8           42         289             13          20319   \n",
       "...       ...    ...          ...         ...            ...            ...   \n",
       "3209     1489      8            0           0             17          11050   \n",
       "3210     1489      9            0           0             32          17206   \n",
       "3211     1489     10            0           0             21          19559   \n",
       "3212     1489     11            0           0             20          17491   \n",
       "3213     1489     12            0           0             35          17322   \n",
       "\n",
       "      age churn_date             city first_name  last_name   reg_date tariff  \\\n",
       "8      41        NaT           Москва       Иван       Ежов 2018-11-01  smart   \n",
       "9      41        NaT           Москва       Иван       Ежов 2018-11-01  smart   \n",
       "10     59        NaT      Стерлитамак    Евгений  Абрамович 2018-06-17  smart   \n",
       "11     59        NaT      Стерлитамак    Евгений  Абрамович 2018-06-17  smart   \n",
       "12     59        NaT      Стерлитамак    Евгений  Абрамович 2018-06-17  smart   \n",
       "...   ...        ...              ...        ...        ...        ...    ...   \n",
       "3209   35        NaT  Санкт-Петербург      Павел   Гончаров 2018-08-15  smart   \n",
       "3210   35        NaT  Санкт-Петербург      Павел   Гончаров 2018-08-15  smart   \n",
       "3211   35        NaT  Санкт-Петербург      Павел   Гончаров 2018-08-15  smart   \n",
       "3212   35        NaT  Санкт-Петербург      Павел   Гончаров 2018-08-15  smart   \n",
       "3213   35        NaT  Санкт-Петербург      Павел   Гончаров 2018-08-15  smart   \n",
       "\n",
       "      income  \n",
       "8     550.00  \n",
       "9     550.00  \n",
       "10    550.00  \n",
       "11    550.00  \n",
       "12    550.00  \n",
       "...      ...  \n",
       "3209  550.00  \n",
       "3210  550.00  \n",
       "3211  550.00  \n",
       "3212  550.00  \n",
       "3213  550.00  \n",
       "\n",
       "[2229 rows x 14 columns]"
      ]
     },
     "execution_count": 68,
     "metadata": {},
     "output_type": "execute_result"
    }
   ],
   "source": [
    "people_smart"
   ]
  },
  {
   "cell_type": "markdown",
   "metadata": {},
   "source": [
    "Проверим, сколько уникальных пользователей пользуется тарифом:"
   ]
  },
  {
   "cell_type": "code",
   "execution_count": 69,
   "metadata": {
    "scrolled": true
   },
   "outputs": [
    {
     "data": {
      "text/plain": [
       "1204    12\n",
       "1373    12\n",
       "1238    12\n",
       "1227    12\n",
       "1176    12\n",
       "        ..\n",
       "1190     1\n",
       "1398     1\n",
       "1170     1\n",
       "1141     1\n",
       "1236     1\n",
       "Name: user_id, Length: 350, dtype: int64"
      ]
     },
     "execution_count": 69,
     "metadata": {},
     "output_type": "execute_result"
    }
   ],
   "source": [
    "people_smart['user_id'].value_counts()"
   ]
  },
  {
   "cell_type": "markdown",
   "metadata": {},
   "source": [
    "Видим, что из 498 пользователей больше половины - 350 - пользуются тарифом \"Смарт\"."
   ]
  },
  {
   "cell_type": "markdown",
   "metadata": {},
   "source": [
    "Сгруппируем данные и посчитаем, сколько людей в каждом месяце пользовались тарифом \"Смарт\""
   ]
  },
  {
   "cell_type": "code",
   "execution_count": 70,
   "metadata": {},
   "outputs": [],
   "source": [
    "people_smart_total = people_smart.groupby(['month', 'tariff',])['user_id'].count().reset_index()"
   ]
  },
  {
   "cell_type": "code",
   "execution_count": 71,
   "metadata": {
    "scrolled": false
   },
   "outputs": [
    {
     "data": {
      "text/html": [
       "<div>\n",
       "<style scoped>\n",
       "    .dataframe tbody tr th:only-of-type {\n",
       "        vertical-align: middle;\n",
       "    }\n",
       "\n",
       "    .dataframe tbody tr th {\n",
       "        vertical-align: top;\n",
       "    }\n",
       "\n",
       "    .dataframe thead th {\n",
       "        text-align: right;\n",
       "    }\n",
       "</style>\n",
       "<table border=\"1\" class=\"dataframe\">\n",
       "  <thead>\n",
       "    <tr style=\"text-align: right;\">\n",
       "      <th></th>\n",
       "      <th>month</th>\n",
       "      <th>tariff</th>\n",
       "      <th>user_id</th>\n",
       "    </tr>\n",
       "  </thead>\n",
       "  <tbody>\n",
       "    <tr>\n",
       "      <th>0</th>\n",
       "      <td>1</td>\n",
       "      <td>smart</td>\n",
       "      <td>34</td>\n",
       "    </tr>\n",
       "    <tr>\n",
       "      <th>1</th>\n",
       "      <td>2</td>\n",
       "      <td>smart</td>\n",
       "      <td>58</td>\n",
       "    </tr>\n",
       "    <tr>\n",
       "      <th>2</th>\n",
       "      <td>3</td>\n",
       "      <td>smart</td>\n",
       "      <td>77</td>\n",
       "    </tr>\n",
       "    <tr>\n",
       "      <th>3</th>\n",
       "      <td>4</td>\n",
       "      <td>smart</td>\n",
       "      <td>112</td>\n",
       "    </tr>\n",
       "    <tr>\n",
       "      <th>4</th>\n",
       "      <td>5</td>\n",
       "      <td>smart</td>\n",
       "      <td>141</td>\n",
       "    </tr>\n",
       "    <tr>\n",
       "      <th>5</th>\n",
       "      <td>6</td>\n",
       "      <td>smart</td>\n",
       "      <td>164</td>\n",
       "    </tr>\n",
       "    <tr>\n",
       "      <th>6</th>\n",
       "      <td>7</td>\n",
       "      <td>smart</td>\n",
       "      <td>201</td>\n",
       "    </tr>\n",
       "    <tr>\n",
       "      <th>7</th>\n",
       "      <td>8</td>\n",
       "      <td>smart</td>\n",
       "      <td>235</td>\n",
       "    </tr>\n",
       "    <tr>\n",
       "      <th>8</th>\n",
       "      <td>9</td>\n",
       "      <td>smart</td>\n",
       "      <td>260</td>\n",
       "    </tr>\n",
       "    <tr>\n",
       "      <th>9</th>\n",
       "      <td>10</td>\n",
       "      <td>smart</td>\n",
       "      <td>294</td>\n",
       "    </tr>\n",
       "    <tr>\n",
       "      <th>10</th>\n",
       "      <td>11</td>\n",
       "      <td>smart</td>\n",
       "      <td>316</td>\n",
       "    </tr>\n",
       "    <tr>\n",
       "      <th>11</th>\n",
       "      <td>12</td>\n",
       "      <td>smart</td>\n",
       "      <td>337</td>\n",
       "    </tr>\n",
       "  </tbody>\n",
       "</table>\n",
       "</div>"
      ],
      "text/plain": [
       "    month tariff  user_id\n",
       "0       1  smart       34\n",
       "1       2  smart       58\n",
       "2       3  smart       77\n",
       "3       4  smart      112\n",
       "4       5  smart      141\n",
       "5       6  smart      164\n",
       "6       7  smart      201\n",
       "7       8  smart      235\n",
       "8       9  smart      260\n",
       "9      10  smart      294\n",
       "10     11  smart      316\n",
       "11     12  smart      337"
      ]
     },
     "execution_count": 71,
     "metadata": {},
     "output_type": "execute_result"
    }
   ],
   "source": [
    "people_smart_total"
   ]
  },
  {
   "cell_type": "markdown",
   "metadata": {},
   "source": [
    "Видим, что с каждым месяцем количество пользователей тарифом только возрастало"
   ]
  },
  {
   "cell_type": "markdown",
   "metadata": {},
   "source": [
    "Составим таблицу, в которой посчитаем сумму данных на тарифе:"
   ]
  },
  {
   "cell_type": "code",
   "execution_count": 72,
   "metadata": {},
   "outputs": [],
   "source": [
    "# Воспользуемся методом `pivot_table()`\n",
    "df_smart_sum = people_smart.pivot_table(index=['tariff', 'month'], \n",
    "                            values = ['total_calls', 'time_calls', 'total_message', 'total_traffic', 'income'],\n",
    "                           aggfunc='sum')"
   ]
  },
  {
   "cell_type": "code",
   "execution_count": 73,
   "metadata": {},
   "outputs": [],
   "source": [
    "df_smart_sum.reset_index(inplace=True)"
   ]
  },
  {
   "cell_type": "code",
   "execution_count": 74,
   "metadata": {
    "scrolled": true
   },
   "outputs": [
    {
     "data": {
      "text/html": [
       "<div>\n",
       "<style scoped>\n",
       "    .dataframe tbody tr th:only-of-type {\n",
       "        vertical-align: middle;\n",
       "    }\n",
       "\n",
       "    .dataframe tbody tr th {\n",
       "        vertical-align: top;\n",
       "    }\n",
       "\n",
       "    .dataframe thead th {\n",
       "        text-align: right;\n",
       "    }\n",
       "</style>\n",
       "<table border=\"1\" class=\"dataframe\">\n",
       "  <thead>\n",
       "    <tr style=\"text-align: right;\">\n",
       "      <th></th>\n",
       "      <th>tariff</th>\n",
       "      <th>month</th>\n",
       "      <th>income</th>\n",
       "      <th>time_calls</th>\n",
       "      <th>total_calls</th>\n",
       "      <th>total_message</th>\n",
       "      <th>total_traffic</th>\n",
       "    </tr>\n",
       "  </thead>\n",
       "  <tbody>\n",
       "    <tr>\n",
       "      <th>0</th>\n",
       "      <td>smart</td>\n",
       "      <td>1</td>\n",
       "      <td>18,925.00</td>\n",
       "      <td>6931</td>\n",
       "      <td>941</td>\n",
       "      <td>620</td>\n",
       "      <td>289448</td>\n",
       "    </tr>\n",
       "    <tr>\n",
       "      <th>1</th>\n",
       "      <td>smart</td>\n",
       "      <td>2</td>\n",
       "      <td>34,801.00</td>\n",
       "      <td>17324</td>\n",
       "      <td>2331</td>\n",
       "      <td>1397</td>\n",
       "      <td>672598</td>\n",
       "    </tr>\n",
       "    <tr>\n",
       "      <th>2</th>\n",
       "      <td>smart</td>\n",
       "      <td>3</td>\n",
       "      <td>51,476.00</td>\n",
       "      <td>30034</td>\n",
       "      <td>4183</td>\n",
       "      <td>2453</td>\n",
       "      <td>1162983</td>\n",
       "    </tr>\n",
       "    <tr>\n",
       "      <th>3</th>\n",
       "      <td>smart</td>\n",
       "      <td>4</td>\n",
       "      <td>71,866.00</td>\n",
       "      <td>41119</td>\n",
       "      <td>5747</td>\n",
       "      <td>3443</td>\n",
       "      <td>1507706</td>\n",
       "    </tr>\n",
       "    <tr>\n",
       "      <th>4</th>\n",
       "      <td>smart</td>\n",
       "      <td>5</td>\n",
       "      <td>91,449.00</td>\n",
       "      <td>54618</td>\n",
       "      <td>7789</td>\n",
       "      <td>4762</td>\n",
       "      <td>2228459</td>\n",
       "    </tr>\n",
       "    <tr>\n",
       "      <th>5</th>\n",
       "      <td>smart</td>\n",
       "      <td>6</td>\n",
       "      <td>111,259.00</td>\n",
       "      <td>64885</td>\n",
       "      <td>9110</td>\n",
       "      <td>5478</td>\n",
       "      <td>2590241</td>\n",
       "    </tr>\n",
       "    <tr>\n",
       "      <th>6</th>\n",
       "      <td>smart</td>\n",
       "      <td>7</td>\n",
       "      <td>134,814.00</td>\n",
       "      <td>82079</td>\n",
       "      <td>11402</td>\n",
       "      <td>6784</td>\n",
       "      <td>3164269</td>\n",
       "    </tr>\n",
       "    <tr>\n",
       "      <th>7</th>\n",
       "      <td>smart</td>\n",
       "      <td>8</td>\n",
       "      <td>171,940.00</td>\n",
       "      <td>99045</td>\n",
       "      <td>13860</td>\n",
       "      <td>7905</td>\n",
       "      <td>3903401</td>\n",
       "    </tr>\n",
       "    <tr>\n",
       "      <th>8</th>\n",
       "      <td>smart</td>\n",
       "      <td>9</td>\n",
       "      <td>184,186.00</td>\n",
       "      <td>111439</td>\n",
       "      <td>15482</td>\n",
       "      <td>8746</td>\n",
       "      <td>4238808</td>\n",
       "    </tr>\n",
       "    <tr>\n",
       "      <th>9</th>\n",
       "      <td>smart</td>\n",
       "      <td>10</td>\n",
       "      <td>212,667.00</td>\n",
       "      <td>125284</td>\n",
       "      <td>17629</td>\n",
       "      <td>9927</td>\n",
       "      <td>4926438</td>\n",
       "    </tr>\n",
       "    <tr>\n",
       "      <th>10</th>\n",
       "      <td>smart</td>\n",
       "      <td>11</td>\n",
       "      <td>228,803.00</td>\n",
       "      <td>137544</td>\n",
       "      <td>19435</td>\n",
       "      <td>10768</td>\n",
       "      <td>5338881</td>\n",
       "    </tr>\n",
       "    <tr>\n",
       "      <th>11</th>\n",
       "      <td>smart</td>\n",
       "      <td>12</td>\n",
       "      <td>296,565.00</td>\n",
       "      <td>161275</td>\n",
       "      <td>22406</td>\n",
       "      <td>12130</td>\n",
       "      <td>6104135</td>\n",
       "    </tr>\n",
       "  </tbody>\n",
       "</table>\n",
       "</div>"
      ],
      "text/plain": [
       "   tariff  month     income  time_calls  total_calls  total_message  \\\n",
       "0   smart      1  18,925.00        6931          941            620   \n",
       "1   smart      2  34,801.00       17324         2331           1397   \n",
       "2   smart      3  51,476.00       30034         4183           2453   \n",
       "3   smart      4  71,866.00       41119         5747           3443   \n",
       "4   smart      5  91,449.00       54618         7789           4762   \n",
       "5   smart      6 111,259.00       64885         9110           5478   \n",
       "6   smart      7 134,814.00       82079        11402           6784   \n",
       "7   smart      8 171,940.00       99045        13860           7905   \n",
       "8   smart      9 184,186.00      111439        15482           8746   \n",
       "9   smart     10 212,667.00      125284        17629           9927   \n",
       "10  smart     11 228,803.00      137544        19435          10768   \n",
       "11  smart     12 296,565.00      161275        22406          12130   \n",
       "\n",
       "    total_traffic  \n",
       "0          289448  \n",
       "1          672598  \n",
       "2         1162983  \n",
       "3         1507706  \n",
       "4         2228459  \n",
       "5         2590241  \n",
       "6         3164269  \n",
       "7         3903401  \n",
       "8         4238808  \n",
       "9         4926438  \n",
       "10        5338881  \n",
       "11        6104135  "
      ]
     },
     "execution_count": 74,
     "metadata": {},
     "output_type": "execute_result"
    }
   ],
   "source": [
    "df_smart_sum"
   ]
  },
  {
   "cell_type": "markdown",
   "metadata": {},
   "source": [
    "Подсчитаем, сколько в сумме за год принес тариф \"Смарт\":"
   ]
  },
  {
   "cell_type": "code",
   "execution_count": 75,
   "metadata": {},
   "outputs": [
    {
     "data": {
      "text/plain": [
       "1608751.0"
      ]
     },
     "execution_count": 75,
     "metadata": {},
     "output_type": "execute_result"
    }
   ],
   "source": [
    "df_smart_sum['income'].sum()"
   ]
  },
  {
   "cell_type": "markdown",
   "metadata": {},
   "source": [
    "Теперь составим таблицу, в которой посчитаем среднее на тарифе:"
   ]
  },
  {
   "cell_type": "code",
   "execution_count": 76,
   "metadata": {},
   "outputs": [],
   "source": [
    "df_smart_mean = people_smart.pivot_table(index=['tariff', 'month'], \n",
    "                            values = ['total_calls', 'time_calls', 'total_message', 'total_traffic', 'income'],\n",
    "                           aggfunc='mean')"
   ]
  },
  {
   "cell_type": "code",
   "execution_count": 77,
   "metadata": {},
   "outputs": [],
   "source": [
    "df_smart_mean.reset_index(inplace=True)"
   ]
  },
  {
   "cell_type": "code",
   "execution_count": 78,
   "metadata": {},
   "outputs": [
    {
     "data": {
      "text/html": [
       "<div>\n",
       "<style scoped>\n",
       "    .dataframe tbody tr th:only-of-type {\n",
       "        vertical-align: middle;\n",
       "    }\n",
       "\n",
       "    .dataframe tbody tr th {\n",
       "        vertical-align: top;\n",
       "    }\n",
       "\n",
       "    .dataframe thead th {\n",
       "        text-align: right;\n",
       "    }\n",
       "</style>\n",
       "<table border=\"1\" class=\"dataframe\">\n",
       "  <thead>\n",
       "    <tr style=\"text-align: right;\">\n",
       "      <th></th>\n",
       "      <th>tariff</th>\n",
       "      <th>month</th>\n",
       "      <th>income</th>\n",
       "      <th>time_calls</th>\n",
       "      <th>total_calls</th>\n",
       "      <th>total_message</th>\n",
       "      <th>total_traffic</th>\n",
       "    </tr>\n",
       "  </thead>\n",
       "  <tbody>\n",
       "    <tr>\n",
       "      <th>0</th>\n",
       "      <td>smart</td>\n",
       "      <td>1</td>\n",
       "      <td>556.62</td>\n",
       "      <td>203.85</td>\n",
       "      <td>27.68</td>\n",
       "      <td>18.24</td>\n",
       "      <td>8,513.18</td>\n",
       "    </tr>\n",
       "    <tr>\n",
       "      <th>1</th>\n",
       "      <td>smart</td>\n",
       "      <td>2</td>\n",
       "      <td>600.02</td>\n",
       "      <td>298.69</td>\n",
       "      <td>40.19</td>\n",
       "      <td>24.09</td>\n",
       "      <td>11,596.52</td>\n",
       "    </tr>\n",
       "    <tr>\n",
       "      <th>2</th>\n",
       "      <td>smart</td>\n",
       "      <td>3</td>\n",
       "      <td>668.52</td>\n",
       "      <td>390.05</td>\n",
       "      <td>54.32</td>\n",
       "      <td>31.86</td>\n",
       "      <td>15,103.68</td>\n",
       "    </tr>\n",
       "    <tr>\n",
       "      <th>3</th>\n",
       "      <td>smart</td>\n",
       "      <td>4</td>\n",
       "      <td>641.66</td>\n",
       "      <td>367.13</td>\n",
       "      <td>51.31</td>\n",
       "      <td>30.74</td>\n",
       "      <td>13,461.66</td>\n",
       "    </tr>\n",
       "    <tr>\n",
       "      <th>4</th>\n",
       "      <td>smart</td>\n",
       "      <td>5</td>\n",
       "      <td>648.57</td>\n",
       "      <td>387.36</td>\n",
       "      <td>55.24</td>\n",
       "      <td>33.77</td>\n",
       "      <td>15,804.67</td>\n",
       "    </tr>\n",
       "    <tr>\n",
       "      <th>5</th>\n",
       "      <td>smart</td>\n",
       "      <td>6</td>\n",
       "      <td>678.41</td>\n",
       "      <td>395.64</td>\n",
       "      <td>55.55</td>\n",
       "      <td>33.40</td>\n",
       "      <td>15,794.15</td>\n",
       "    </tr>\n",
       "    <tr>\n",
       "      <th>6</th>\n",
       "      <td>smart</td>\n",
       "      <td>7</td>\n",
       "      <td>670.72</td>\n",
       "      <td>408.35</td>\n",
       "      <td>56.73</td>\n",
       "      <td>33.75</td>\n",
       "      <td>15,742.63</td>\n",
       "    </tr>\n",
       "    <tr>\n",
       "      <th>7</th>\n",
       "      <td>smart</td>\n",
       "      <td>8</td>\n",
       "      <td>731.66</td>\n",
       "      <td>421.47</td>\n",
       "      <td>58.98</td>\n",
       "      <td>33.64</td>\n",
       "      <td>16,610.22</td>\n",
       "    </tr>\n",
       "    <tr>\n",
       "      <th>8</th>\n",
       "      <td>smart</td>\n",
       "      <td>9</td>\n",
       "      <td>708.41</td>\n",
       "      <td>428.61</td>\n",
       "      <td>59.55</td>\n",
       "      <td>33.64</td>\n",
       "      <td>16,303.11</td>\n",
       "    </tr>\n",
       "    <tr>\n",
       "      <th>9</th>\n",
       "      <td>smart</td>\n",
       "      <td>10</td>\n",
       "      <td>723.36</td>\n",
       "      <td>426.14</td>\n",
       "      <td>59.96</td>\n",
       "      <td>33.77</td>\n",
       "      <td>16,756.59</td>\n",
       "    </tr>\n",
       "    <tr>\n",
       "      <th>10</th>\n",
       "      <td>smart</td>\n",
       "      <td>11</td>\n",
       "      <td>724.06</td>\n",
       "      <td>435.27</td>\n",
       "      <td>61.50</td>\n",
       "      <td>34.08</td>\n",
       "      <td>16,895.19</td>\n",
       "    </tr>\n",
       "    <tr>\n",
       "      <th>11</th>\n",
       "      <td>smart</td>\n",
       "      <td>12</td>\n",
       "      <td>880.01</td>\n",
       "      <td>478.56</td>\n",
       "      <td>66.49</td>\n",
       "      <td>35.99</td>\n",
       "      <td>18,113.16</td>\n",
       "    </tr>\n",
       "  </tbody>\n",
       "</table>\n",
       "</div>"
      ],
      "text/plain": [
       "   tariff  month  income  time_calls  total_calls  total_message  \\\n",
       "0   smart      1  556.62      203.85        27.68          18.24   \n",
       "1   smart      2  600.02      298.69        40.19          24.09   \n",
       "2   smart      3  668.52      390.05        54.32          31.86   \n",
       "3   smart      4  641.66      367.13        51.31          30.74   \n",
       "4   smart      5  648.57      387.36        55.24          33.77   \n",
       "5   smart      6  678.41      395.64        55.55          33.40   \n",
       "6   smart      7  670.72      408.35        56.73          33.75   \n",
       "7   smart      8  731.66      421.47        58.98          33.64   \n",
       "8   smart      9  708.41      428.61        59.55          33.64   \n",
       "9   smart     10  723.36      426.14        59.96          33.77   \n",
       "10  smart     11  724.06      435.27        61.50          34.08   \n",
       "11  smart     12  880.01      478.56        66.49          35.99   \n",
       "\n",
       "    total_traffic  \n",
       "0        8,513.18  \n",
       "1       11,596.52  \n",
       "2       15,103.68  \n",
       "3       13,461.66  \n",
       "4       15,804.67  \n",
       "5       15,794.15  \n",
       "6       15,742.63  \n",
       "7       16,610.22  \n",
       "8       16,303.11  \n",
       "9       16,756.59  \n",
       "10      16,895.19  \n",
       "11      18,113.16  "
      ]
     },
     "execution_count": 78,
     "metadata": {},
     "output_type": "execute_result"
    }
   ],
   "source": [
    "df_smart_mean"
   ]
  },
  {
   "cell_type": "markdown",
   "metadata": {},
   "source": [
    "Видим, что к концу года среднее увеличилось почти в 2 раза. Это связано с тем, что сначала пользователей было 34, а на конец года их стало 337."
   ]
  },
  {
   "cell_type": "markdown",
   "metadata": {},
   "source": [
    "Сделаем срез данных по людям, которые пользуются тарифом \"Ультра\""
   ]
  },
  {
   "cell_type": "code",
   "execution_count": 79,
   "metadata": {},
   "outputs": [],
   "source": [
    "people_ultra = df_groupby.query('tariff == \"ultra\"')"
   ]
  },
  {
   "cell_type": "code",
   "execution_count": 80,
   "metadata": {},
   "outputs": [
    {
     "data": {
      "text/html": [
       "<div>\n",
       "<style scoped>\n",
       "    .dataframe tbody tr th:only-of-type {\n",
       "        vertical-align: middle;\n",
       "    }\n",
       "\n",
       "    .dataframe tbody tr th {\n",
       "        vertical-align: top;\n",
       "    }\n",
       "\n",
       "    .dataframe thead th {\n",
       "        text-align: right;\n",
       "    }\n",
       "</style>\n",
       "<table border=\"1\" class=\"dataframe\">\n",
       "  <thead>\n",
       "    <tr style=\"text-align: right;\">\n",
       "      <th></th>\n",
       "      <th>user_id</th>\n",
       "      <th>month</th>\n",
       "      <th>total_calls</th>\n",
       "      <th>time_calls</th>\n",
       "      <th>total_message</th>\n",
       "      <th>total_traffic</th>\n",
       "      <th>age</th>\n",
       "      <th>churn_date</th>\n",
       "      <th>city</th>\n",
       "      <th>first_name</th>\n",
       "      <th>last_name</th>\n",
       "      <th>reg_date</th>\n",
       "      <th>tariff</th>\n",
       "      <th>income</th>\n",
       "    </tr>\n",
       "  </thead>\n",
       "  <tbody>\n",
       "    <tr>\n",
       "      <th>0</th>\n",
       "      <td>1000</td>\n",
       "      <td>5</td>\n",
       "      <td>22</td>\n",
       "      <td>159</td>\n",
       "      <td>22</td>\n",
       "      <td>2253</td>\n",
       "      <td>52</td>\n",
       "      <td>NaT</td>\n",
       "      <td>Краснодар</td>\n",
       "      <td>Рафаил</td>\n",
       "      <td>Верещагин</td>\n",
       "      <td>2018-05-25</td>\n",
       "      <td>ultra</td>\n",
       "      <td>1,950.00</td>\n",
       "    </tr>\n",
       "    <tr>\n",
       "      <th>1</th>\n",
       "      <td>1000</td>\n",
       "      <td>6</td>\n",
       "      <td>43</td>\n",
       "      <td>172</td>\n",
       "      <td>60</td>\n",
       "      <td>23233</td>\n",
       "      <td>52</td>\n",
       "      <td>NaT</td>\n",
       "      <td>Краснодар</td>\n",
       "      <td>Рафаил</td>\n",
       "      <td>Верещагин</td>\n",
       "      <td>2018-05-25</td>\n",
       "      <td>ultra</td>\n",
       "      <td>1,950.00</td>\n",
       "    </tr>\n",
       "    <tr>\n",
       "      <th>2</th>\n",
       "      <td>1000</td>\n",
       "      <td>7</td>\n",
       "      <td>47</td>\n",
       "      <td>340</td>\n",
       "      <td>75</td>\n",
       "      <td>14003</td>\n",
       "      <td>52</td>\n",
       "      <td>NaT</td>\n",
       "      <td>Краснодар</td>\n",
       "      <td>Рафаил</td>\n",
       "      <td>Верещагин</td>\n",
       "      <td>2018-05-25</td>\n",
       "      <td>ultra</td>\n",
       "      <td>1,950.00</td>\n",
       "    </tr>\n",
       "    <tr>\n",
       "      <th>3</th>\n",
       "      <td>1000</td>\n",
       "      <td>8</td>\n",
       "      <td>52</td>\n",
       "      <td>408</td>\n",
       "      <td>81</td>\n",
       "      <td>14055</td>\n",
       "      <td>52</td>\n",
       "      <td>NaT</td>\n",
       "      <td>Краснодар</td>\n",
       "      <td>Рафаил</td>\n",
       "      <td>Верещагин</td>\n",
       "      <td>2018-05-25</td>\n",
       "      <td>ultra</td>\n",
       "      <td>1,950.00</td>\n",
       "    </tr>\n",
       "    <tr>\n",
       "      <th>4</th>\n",
       "      <td>1000</td>\n",
       "      <td>9</td>\n",
       "      <td>58</td>\n",
       "      <td>466</td>\n",
       "      <td>57</td>\n",
       "      <td>14568</td>\n",
       "      <td>52</td>\n",
       "      <td>NaT</td>\n",
       "      <td>Краснодар</td>\n",
       "      <td>Рафаил</td>\n",
       "      <td>Верещагин</td>\n",
       "      <td>2018-05-25</td>\n",
       "      <td>ultra</td>\n",
       "      <td>1,950.00</td>\n",
       "    </tr>\n",
       "    <tr>\n",
       "      <th>...</th>\n",
       "      <td>...</td>\n",
       "      <td>...</td>\n",
       "      <td>...</td>\n",
       "      <td>...</td>\n",
       "      <td>...</td>\n",
       "      <td>...</td>\n",
       "      <td>...</td>\n",
       "      <td>...</td>\n",
       "      <td>...</td>\n",
       "      <td>...</td>\n",
       "      <td>...</td>\n",
       "      <td>...</td>\n",
       "      <td>...</td>\n",
       "      <td>...</td>\n",
       "    </tr>\n",
       "    <tr>\n",
       "      <th>3204</th>\n",
       "      <td>1473</td>\n",
       "      <td>8</td>\n",
       "      <td>0</td>\n",
       "      <td>0</td>\n",
       "      <td>17</td>\n",
       "      <td>12905</td>\n",
       "      <td>18</td>\n",
       "      <td>NaT</td>\n",
       "      <td>Красноярск</td>\n",
       "      <td>Николай</td>\n",
       "      <td>Лебедев</td>\n",
       "      <td>2018-08-05</td>\n",
       "      <td>ultra</td>\n",
       "      <td>1,950.00</td>\n",
       "    </tr>\n",
       "    <tr>\n",
       "      <th>3205</th>\n",
       "      <td>1473</td>\n",
       "      <td>9</td>\n",
       "      <td>0</td>\n",
       "      <td>0</td>\n",
       "      <td>19</td>\n",
       "      <td>17289</td>\n",
       "      <td>18</td>\n",
       "      <td>NaT</td>\n",
       "      <td>Красноярск</td>\n",
       "      <td>Николай</td>\n",
       "      <td>Лебедев</td>\n",
       "      <td>2018-08-05</td>\n",
       "      <td>ultra</td>\n",
       "      <td>1,950.00</td>\n",
       "    </tr>\n",
       "    <tr>\n",
       "      <th>3206</th>\n",
       "      <td>1473</td>\n",
       "      <td>10</td>\n",
       "      <td>0</td>\n",
       "      <td>0</td>\n",
       "      <td>20</td>\n",
       "      <td>13688</td>\n",
       "      <td>18</td>\n",
       "      <td>NaT</td>\n",
       "      <td>Красноярск</td>\n",
       "      <td>Николай</td>\n",
       "      <td>Лебедев</td>\n",
       "      <td>2018-08-05</td>\n",
       "      <td>ultra</td>\n",
       "      <td>1,950.00</td>\n",
       "    </tr>\n",
       "    <tr>\n",
       "      <th>3207</th>\n",
       "      <td>1473</td>\n",
       "      <td>11</td>\n",
       "      <td>0</td>\n",
       "      <td>0</td>\n",
       "      <td>14</td>\n",
       "      <td>21673</td>\n",
       "      <td>18</td>\n",
       "      <td>NaT</td>\n",
       "      <td>Красноярск</td>\n",
       "      <td>Николай</td>\n",
       "      <td>Лебедев</td>\n",
       "      <td>2018-08-05</td>\n",
       "      <td>ultra</td>\n",
       "      <td>1,950.00</td>\n",
       "    </tr>\n",
       "    <tr>\n",
       "      <th>3208</th>\n",
       "      <td>1473</td>\n",
       "      <td>12</td>\n",
       "      <td>0</td>\n",
       "      <td>0</td>\n",
       "      <td>20</td>\n",
       "      <td>18418</td>\n",
       "      <td>18</td>\n",
       "      <td>NaT</td>\n",
       "      <td>Красноярск</td>\n",
       "      <td>Николай</td>\n",
       "      <td>Лебедев</td>\n",
       "      <td>2018-08-05</td>\n",
       "      <td>ultra</td>\n",
       "      <td>1,950.00</td>\n",
       "    </tr>\n",
       "  </tbody>\n",
       "</table>\n",
       "<p>985 rows × 14 columns</p>\n",
       "</div>"
      ],
      "text/plain": [
       "      user_id  month  total_calls  time_calls  total_message  total_traffic  \\\n",
       "0        1000      5           22         159             22           2253   \n",
       "1        1000      6           43         172             60          23233   \n",
       "2        1000      7           47         340             75          14003   \n",
       "3        1000      8           52         408             81          14055   \n",
       "4        1000      9           58         466             57          14568   \n",
       "...       ...    ...          ...         ...            ...            ...   \n",
       "3204     1473      8            0           0             17          12905   \n",
       "3205     1473      9            0           0             19          17289   \n",
       "3206     1473     10            0           0             20          13688   \n",
       "3207     1473     11            0           0             14          21673   \n",
       "3208     1473     12            0           0             20          18418   \n",
       "\n",
       "      age churn_date        city first_name  last_name   reg_date tariff  \\\n",
       "0      52        NaT   Краснодар     Рафаил  Верещагин 2018-05-25  ultra   \n",
       "1      52        NaT   Краснодар     Рафаил  Верещагин 2018-05-25  ultra   \n",
       "2      52        NaT   Краснодар     Рафаил  Верещагин 2018-05-25  ultra   \n",
       "3      52        NaT   Краснодар     Рафаил  Верещагин 2018-05-25  ultra   \n",
       "4      52        NaT   Краснодар     Рафаил  Верещагин 2018-05-25  ultra   \n",
       "...   ...        ...         ...        ...        ...        ...    ...   \n",
       "3204   18        NaT  Красноярск    Николай    Лебедев 2018-08-05  ultra   \n",
       "3205   18        NaT  Красноярск    Николай    Лебедев 2018-08-05  ultra   \n",
       "3206   18        NaT  Красноярск    Николай    Лебедев 2018-08-05  ultra   \n",
       "3207   18        NaT  Красноярск    Николай    Лебедев 2018-08-05  ultra   \n",
       "3208   18        NaT  Красноярск    Николай    Лебедев 2018-08-05  ultra   \n",
       "\n",
       "       income  \n",
       "0    1,950.00  \n",
       "1    1,950.00  \n",
       "2    1,950.00  \n",
       "3    1,950.00  \n",
       "4    1,950.00  \n",
       "...       ...  \n",
       "3204 1,950.00  \n",
       "3205 1,950.00  \n",
       "3206 1,950.00  \n",
       "3207 1,950.00  \n",
       "3208 1,950.00  \n",
       "\n",
       "[985 rows x 14 columns]"
      ]
     },
     "execution_count": 80,
     "metadata": {},
     "output_type": "execute_result"
    }
   ],
   "source": [
    "people_ultra"
   ]
  },
  {
   "cell_type": "markdown",
   "metadata": {},
   "source": [
    "Проверим, сколько уникальных пользователей пользуется тарифом:"
   ]
  },
  {
   "cell_type": "code",
   "execution_count": 81,
   "metadata": {
    "scrolled": true
   },
   "outputs": [
    {
     "data": {
      "text/plain": [
       "1120    12\n",
       "1168    12\n",
       "1453    12\n",
       "1385    12\n",
       "1126    12\n",
       "        ..\n",
       "1485     1\n",
       "1397     1\n",
       "1336     1\n",
       "1349     1\n",
       "1192     1\n",
       "Name: user_id, Length: 148, dtype: int64"
      ]
     },
     "execution_count": 81,
     "metadata": {},
     "output_type": "execute_result"
    }
   ],
   "source": [
    "people_ultra['user_id'].value_counts()"
   ]
  },
  {
   "cell_type": "markdown",
   "metadata": {},
   "source": [
    "Тарифом \"Ультра\" пользуются гораздо меньше людей - всего 148"
   ]
  },
  {
   "cell_type": "markdown",
   "metadata": {},
   "source": [
    "Сгруппируем данные и посчитаем, сколько людей в каждом месяце пользовались тарифом \"Ультра\":"
   ]
  },
  {
   "cell_type": "code",
   "execution_count": 82,
   "metadata": {},
   "outputs": [],
   "source": [
    "people_ultra_total = people_ultra.groupby(['month', 'tariff',])['user_id'].count().reset_index()"
   ]
  },
  {
   "cell_type": "code",
   "execution_count": 83,
   "metadata": {},
   "outputs": [
    {
     "data": {
      "text/html": [
       "<div>\n",
       "<style scoped>\n",
       "    .dataframe tbody tr th:only-of-type {\n",
       "        vertical-align: middle;\n",
       "    }\n",
       "\n",
       "    .dataframe tbody tr th {\n",
       "        vertical-align: top;\n",
       "    }\n",
       "\n",
       "    .dataframe thead th {\n",
       "        text-align: right;\n",
       "    }\n",
       "</style>\n",
       "<table border=\"1\" class=\"dataframe\">\n",
       "  <thead>\n",
       "    <tr style=\"text-align: right;\">\n",
       "      <th></th>\n",
       "      <th>month</th>\n",
       "      <th>tariff</th>\n",
       "      <th>user_id</th>\n",
       "    </tr>\n",
       "  </thead>\n",
       "  <tbody>\n",
       "    <tr>\n",
       "      <th>0</th>\n",
       "      <td>1</td>\n",
       "      <td>ultra</td>\n",
       "      <td>9</td>\n",
       "    </tr>\n",
       "    <tr>\n",
       "      <th>1</th>\n",
       "      <td>2</td>\n",
       "      <td>ultra</td>\n",
       "      <td>24</td>\n",
       "    </tr>\n",
       "    <tr>\n",
       "      <th>2</th>\n",
       "      <td>3</td>\n",
       "      <td>ultra</td>\n",
       "      <td>37</td>\n",
       "    </tr>\n",
       "    <tr>\n",
       "      <th>3</th>\n",
       "      <td>4</td>\n",
       "      <td>ultra</td>\n",
       "      <td>55</td>\n",
       "    </tr>\n",
       "    <tr>\n",
       "      <th>4</th>\n",
       "      <td>5</td>\n",
       "      <td>ultra</td>\n",
       "      <td>67</td>\n",
       "    </tr>\n",
       "    <tr>\n",
       "      <th>5</th>\n",
       "      <td>6</td>\n",
       "      <td>ultra</td>\n",
       "      <td>84</td>\n",
       "    </tr>\n",
       "    <tr>\n",
       "      <th>6</th>\n",
       "      <td>7</td>\n",
       "      <td>ultra</td>\n",
       "      <td>91</td>\n",
       "    </tr>\n",
       "    <tr>\n",
       "      <th>7</th>\n",
       "      <td>8</td>\n",
       "      <td>ultra</td>\n",
       "      <td>107</td>\n",
       "    </tr>\n",
       "    <tr>\n",
       "      <th>8</th>\n",
       "      <td>9</td>\n",
       "      <td>ultra</td>\n",
       "      <td>115</td>\n",
       "    </tr>\n",
       "    <tr>\n",
       "      <th>9</th>\n",
       "      <td>10</td>\n",
       "      <td>ultra</td>\n",
       "      <td>123</td>\n",
       "    </tr>\n",
       "    <tr>\n",
       "      <th>10</th>\n",
       "      <td>11</td>\n",
       "      <td>ultra</td>\n",
       "      <td>134</td>\n",
       "    </tr>\n",
       "    <tr>\n",
       "      <th>11</th>\n",
       "      <td>12</td>\n",
       "      <td>ultra</td>\n",
       "      <td>139</td>\n",
       "    </tr>\n",
       "  </tbody>\n",
       "</table>\n",
       "</div>"
      ],
      "text/plain": [
       "    month tariff  user_id\n",
       "0       1  ultra        9\n",
       "1       2  ultra       24\n",
       "2       3  ultra       37\n",
       "3       4  ultra       55\n",
       "4       5  ultra       67\n",
       "5       6  ultra       84\n",
       "6       7  ultra       91\n",
       "7       8  ultra      107\n",
       "8       9  ultra      115\n",
       "9      10  ultra      123\n",
       "10     11  ultra      134\n",
       "11     12  ultra      139"
      ]
     },
     "execution_count": 83,
     "metadata": {},
     "output_type": "execute_result"
    }
   ],
   "source": [
    "people_ultra_total"
   ]
  },
  {
   "cell_type": "markdown",
   "metadata": {},
   "source": [
    "К концу года пользователей увеличилось в 15 раз!"
   ]
  },
  {
   "cell_type": "markdown",
   "metadata": {},
   "source": [
    "Составим таблицу, в которой посчитаем сумму данных на тарифе:"
   ]
  },
  {
   "cell_type": "code",
   "execution_count": 84,
   "metadata": {},
   "outputs": [],
   "source": [
    "# Воспользуемся методом `pivot_table()`\n",
    "df_ultra_sum = people_ultra.pivot_table(index=['tariff', 'month'], \n",
    "                            values = ['total_calls', 'time_calls', 'total_message', 'total_traffic', 'income'],\n",
    "                           aggfunc='sum')"
   ]
  },
  {
   "cell_type": "code",
   "execution_count": 85,
   "metadata": {},
   "outputs": [],
   "source": [
    "df_ultra_sum.reset_index(inplace=True)"
   ]
  },
  {
   "cell_type": "code",
   "execution_count": 86,
   "metadata": {
    "scrolled": false
   },
   "outputs": [
    {
     "data": {
      "text/html": [
       "<div>\n",
       "<style scoped>\n",
       "    .dataframe tbody tr th:only-of-type {\n",
       "        vertical-align: middle;\n",
       "    }\n",
       "\n",
       "    .dataframe tbody tr th {\n",
       "        vertical-align: top;\n",
       "    }\n",
       "\n",
       "    .dataframe thead th {\n",
       "        text-align: right;\n",
       "    }\n",
       "</style>\n",
       "<table border=\"1\" class=\"dataframe\">\n",
       "  <thead>\n",
       "    <tr style=\"text-align: right;\">\n",
       "      <th></th>\n",
       "      <th>tariff</th>\n",
       "      <th>month</th>\n",
       "      <th>income</th>\n",
       "      <th>time_calls</th>\n",
       "      <th>total_calls</th>\n",
       "      <th>total_message</th>\n",
       "      <th>total_traffic</th>\n",
       "    </tr>\n",
       "  </thead>\n",
       "  <tbody>\n",
       "    <tr>\n",
       "      <th>0</th>\n",
       "      <td>ultra</td>\n",
       "      <td>1</td>\n",
       "      <td>17,550.00</td>\n",
       "      <td>3853</td>\n",
       "      <td>535</td>\n",
       "      <td>304</td>\n",
       "      <td>118263</td>\n",
       "    </tr>\n",
       "    <tr>\n",
       "      <th>1</th>\n",
       "      <td>ultra</td>\n",
       "      <td>2</td>\n",
       "      <td>47,400.00</td>\n",
       "      <td>7131</td>\n",
       "      <td>997</td>\n",
       "      <td>527</td>\n",
       "      <td>282611</td>\n",
       "    </tr>\n",
       "    <tr>\n",
       "      <th>2</th>\n",
       "      <td>ultra</td>\n",
       "      <td>3</td>\n",
       "      <td>74,550.00</td>\n",
       "      <td>18117</td>\n",
       "      <td>2504</td>\n",
       "      <td>1195</td>\n",
       "      <td>648798</td>\n",
       "    </tr>\n",
       "    <tr>\n",
       "      <th>3</th>\n",
       "      <td>ultra</td>\n",
       "      <td>4</td>\n",
       "      <td>110,100.00</td>\n",
       "      <td>25191</td>\n",
       "      <td>3525</td>\n",
       "      <td>1736</td>\n",
       "      <td>925520</td>\n",
       "    </tr>\n",
       "    <tr>\n",
       "      <th>4</th>\n",
       "      <td>ultra</td>\n",
       "      <td>5</td>\n",
       "      <td>138,000.00</td>\n",
       "      <td>34192</td>\n",
       "      <td>4858</td>\n",
       "      <td>2536</td>\n",
       "      <td>1297302</td>\n",
       "    </tr>\n",
       "    <tr>\n",
       "      <th>5</th>\n",
       "      <td>ultra</td>\n",
       "      <td>6</td>\n",
       "      <td>171,300.00</td>\n",
       "      <td>40295</td>\n",
       "      <td>5606</td>\n",
       "      <td>3505</td>\n",
       "      <td>1589652</td>\n",
       "    </tr>\n",
       "    <tr>\n",
       "      <th>6</th>\n",
       "      <td>ultra</td>\n",
       "      <td>7</td>\n",
       "      <td>192,750.00</td>\n",
       "      <td>49667</td>\n",
       "      <td>6896</td>\n",
       "      <td>4536</td>\n",
       "      <td>1865060</td>\n",
       "    </tr>\n",
       "    <tr>\n",
       "      <th>7</th>\n",
       "      <td>ultra</td>\n",
       "      <td>8</td>\n",
       "      <td>222,900.00</td>\n",
       "      <td>54653</td>\n",
       "      <td>7628</td>\n",
       "      <td>5183</td>\n",
       "      <td>2094588</td>\n",
       "    </tr>\n",
       "    <tr>\n",
       "      <th>8</th>\n",
       "      <td>ultra</td>\n",
       "      <td>9</td>\n",
       "      <td>232,800.00</td>\n",
       "      <td>62036</td>\n",
       "      <td>8579</td>\n",
       "      <td>6013</td>\n",
       "      <td>2208436</td>\n",
       "    </tr>\n",
       "    <tr>\n",
       "      <th>9</th>\n",
       "      <td>ultra</td>\n",
       "      <td>10</td>\n",
       "      <td>254,100.00</td>\n",
       "      <td>68644</td>\n",
       "      <td>9517</td>\n",
       "      <td>7187</td>\n",
       "      <td>2465519</td>\n",
       "    </tr>\n",
       "    <tr>\n",
       "      <th>10</th>\n",
       "      <td>ultra</td>\n",
       "      <td>11</td>\n",
       "      <td>280,350.00</td>\n",
       "      <td>72545</td>\n",
       "      <td>10066</td>\n",
       "      <td>7476</td>\n",
       "      <td>2651367</td>\n",
       "    </tr>\n",
       "    <tr>\n",
       "      <th>11</th>\n",
       "      <td>ultra</td>\n",
       "      <td>12</td>\n",
       "      <td>297,300.00</td>\n",
       "      <td>82400</td>\n",
       "      <td>11581</td>\n",
       "      <td>8425</td>\n",
       "      <td>3029186</td>\n",
       "    </tr>\n",
       "  </tbody>\n",
       "</table>\n",
       "</div>"
      ],
      "text/plain": [
       "   tariff  month     income  time_calls  total_calls  total_message  \\\n",
       "0   ultra      1  17,550.00        3853          535            304   \n",
       "1   ultra      2  47,400.00        7131          997            527   \n",
       "2   ultra      3  74,550.00       18117         2504           1195   \n",
       "3   ultra      4 110,100.00       25191         3525           1736   \n",
       "4   ultra      5 138,000.00       34192         4858           2536   \n",
       "5   ultra      6 171,300.00       40295         5606           3505   \n",
       "6   ultra      7 192,750.00       49667         6896           4536   \n",
       "7   ultra      8 222,900.00       54653         7628           5183   \n",
       "8   ultra      9 232,800.00       62036         8579           6013   \n",
       "9   ultra     10 254,100.00       68644         9517           7187   \n",
       "10  ultra     11 280,350.00       72545        10066           7476   \n",
       "11  ultra     12 297,300.00       82400        11581           8425   \n",
       "\n",
       "    total_traffic  \n",
       "0          118263  \n",
       "1          282611  \n",
       "2          648798  \n",
       "3          925520  \n",
       "4         1297302  \n",
       "5         1589652  \n",
       "6         1865060  \n",
       "7         2094588  \n",
       "8         2208436  \n",
       "9         2465519  \n",
       "10        2651367  \n",
       "11        3029186  "
      ]
     },
     "execution_count": 86,
     "metadata": {},
     "output_type": "execute_result"
    }
   ],
   "source": [
    "df_ultra_sum"
   ]
  },
  {
   "cell_type": "markdown",
   "metadata": {},
   "source": [
    "Посчитаем, сколько в сумме за год принес тариф \"Ультра\":"
   ]
  },
  {
   "cell_type": "code",
   "execution_count": 87,
   "metadata": {},
   "outputs": [
    {
     "data": {
      "text/plain": [
       "2039100.0"
      ]
     },
     "execution_count": 87,
     "metadata": {},
     "output_type": "execute_result"
    }
   ],
   "source": [
    "df_ultra_sum['income'].sum()"
   ]
  },
  {
   "cell_type": "markdown",
   "metadata": {},
   "source": [
    "Cоставим таблицу, в которой посчитаем среднее на тарифе:\n"
   ]
  },
  {
   "cell_type": "code",
   "execution_count": 88,
   "metadata": {},
   "outputs": [],
   "source": [
    "df_ultra_mean = people_ultra.pivot_table(index=['tariff', 'month'], \n",
    "                            values = ['total_calls', 'time_calls', 'total_message', 'total_traffic', 'income'],\n",
    "                           aggfunc='mean')"
   ]
  },
  {
   "cell_type": "code",
   "execution_count": 89,
   "metadata": {},
   "outputs": [],
   "source": [
    "df_ultra_mean.reset_index(inplace=True)"
   ]
  },
  {
   "cell_type": "code",
   "execution_count": 90,
   "metadata": {},
   "outputs": [
    {
     "data": {
      "text/html": [
       "<div>\n",
       "<style scoped>\n",
       "    .dataframe tbody tr th:only-of-type {\n",
       "        vertical-align: middle;\n",
       "    }\n",
       "\n",
       "    .dataframe tbody tr th {\n",
       "        vertical-align: top;\n",
       "    }\n",
       "\n",
       "    .dataframe thead th {\n",
       "        text-align: right;\n",
       "    }\n",
       "</style>\n",
       "<table border=\"1\" class=\"dataframe\">\n",
       "  <thead>\n",
       "    <tr style=\"text-align: right;\">\n",
       "      <th></th>\n",
       "      <th>tariff</th>\n",
       "      <th>month</th>\n",
       "      <th>income</th>\n",
       "      <th>time_calls</th>\n",
       "      <th>total_calls</th>\n",
       "      <th>total_message</th>\n",
       "      <th>total_traffic</th>\n",
       "    </tr>\n",
       "  </thead>\n",
       "  <tbody>\n",
       "    <tr>\n",
       "      <th>0</th>\n",
       "      <td>ultra</td>\n",
       "      <td>1</td>\n",
       "      <td>1,950.00</td>\n",
       "      <td>428.11</td>\n",
       "      <td>59.44</td>\n",
       "      <td>33.78</td>\n",
       "      <td>13,140.33</td>\n",
       "    </tr>\n",
       "    <tr>\n",
       "      <th>1</th>\n",
       "      <td>ultra</td>\n",
       "      <td>2</td>\n",
       "      <td>1,975.00</td>\n",
       "      <td>297.12</td>\n",
       "      <td>41.54</td>\n",
       "      <td>21.96</td>\n",
       "      <td>11,775.46</td>\n",
       "    </tr>\n",
       "    <tr>\n",
       "      <th>2</th>\n",
       "      <td>ultra</td>\n",
       "      <td>3</td>\n",
       "      <td>2,014.86</td>\n",
       "      <td>489.65</td>\n",
       "      <td>67.68</td>\n",
       "      <td>32.30</td>\n",
       "      <td>17,535.08</td>\n",
       "    </tr>\n",
       "    <tr>\n",
       "      <th>3</th>\n",
       "      <td>ultra</td>\n",
       "      <td>4</td>\n",
       "      <td>2,001.82</td>\n",
       "      <td>458.02</td>\n",
       "      <td>64.09</td>\n",
       "      <td>31.56</td>\n",
       "      <td>16,827.64</td>\n",
       "    </tr>\n",
       "    <tr>\n",
       "      <th>4</th>\n",
       "      <td>ultra</td>\n",
       "      <td>5</td>\n",
       "      <td>2,059.70</td>\n",
       "      <td>510.33</td>\n",
       "      <td>72.51</td>\n",
       "      <td>37.85</td>\n",
       "      <td>19,362.72</td>\n",
       "    </tr>\n",
       "    <tr>\n",
       "      <th>5</th>\n",
       "      <td>ultra</td>\n",
       "      <td>6</td>\n",
       "      <td>2,039.29</td>\n",
       "      <td>479.70</td>\n",
       "      <td>66.74</td>\n",
       "      <td>41.73</td>\n",
       "      <td>18,924.43</td>\n",
       "    </tr>\n",
       "    <tr>\n",
       "      <th>6</th>\n",
       "      <td>ultra</td>\n",
       "      <td>7</td>\n",
       "      <td>2,118.13</td>\n",
       "      <td>545.79</td>\n",
       "      <td>75.78</td>\n",
       "      <td>49.85</td>\n",
       "      <td>20,495.16</td>\n",
       "    </tr>\n",
       "    <tr>\n",
       "      <th>7</th>\n",
       "      <td>ultra</td>\n",
       "      <td>8</td>\n",
       "      <td>2,083.18</td>\n",
       "      <td>510.78</td>\n",
       "      <td>71.29</td>\n",
       "      <td>48.44</td>\n",
       "      <td>19,575.59</td>\n",
       "    </tr>\n",
       "    <tr>\n",
       "      <th>8</th>\n",
       "      <td>ultra</td>\n",
       "      <td>9</td>\n",
       "      <td>2,024.35</td>\n",
       "      <td>539.44</td>\n",
       "      <td>74.60</td>\n",
       "      <td>52.29</td>\n",
       "      <td>19,203.79</td>\n",
       "    </tr>\n",
       "    <tr>\n",
       "      <th>9</th>\n",
       "      <td>ultra</td>\n",
       "      <td>10</td>\n",
       "      <td>2,065.85</td>\n",
       "      <td>558.08</td>\n",
       "      <td>77.37</td>\n",
       "      <td>58.43</td>\n",
       "      <td>20,044.87</td>\n",
       "    </tr>\n",
       "    <tr>\n",
       "      <th>10</th>\n",
       "      <td>ultra</td>\n",
       "      <td>11</td>\n",
       "      <td>2,092.16</td>\n",
       "      <td>541.38</td>\n",
       "      <td>75.12</td>\n",
       "      <td>55.79</td>\n",
       "      <td>19,786.32</td>\n",
       "    </tr>\n",
       "    <tr>\n",
       "      <th>11</th>\n",
       "      <td>ultra</td>\n",
       "      <td>12</td>\n",
       "      <td>2,138.85</td>\n",
       "      <td>592.81</td>\n",
       "      <td>83.32</td>\n",
       "      <td>60.61</td>\n",
       "      <td>21,792.71</td>\n",
       "    </tr>\n",
       "  </tbody>\n",
       "</table>\n",
       "</div>"
      ],
      "text/plain": [
       "   tariff  month   income  time_calls  total_calls  total_message  \\\n",
       "0   ultra      1 1,950.00      428.11        59.44          33.78   \n",
       "1   ultra      2 1,975.00      297.12        41.54          21.96   \n",
       "2   ultra      3 2,014.86      489.65        67.68          32.30   \n",
       "3   ultra      4 2,001.82      458.02        64.09          31.56   \n",
       "4   ultra      5 2,059.70      510.33        72.51          37.85   \n",
       "5   ultra      6 2,039.29      479.70        66.74          41.73   \n",
       "6   ultra      7 2,118.13      545.79        75.78          49.85   \n",
       "7   ultra      8 2,083.18      510.78        71.29          48.44   \n",
       "8   ultra      9 2,024.35      539.44        74.60          52.29   \n",
       "9   ultra     10 2,065.85      558.08        77.37          58.43   \n",
       "10  ultra     11 2,092.16      541.38        75.12          55.79   \n",
       "11  ultra     12 2,138.85      592.81        83.32          60.61   \n",
       "\n",
       "    total_traffic  \n",
       "0       13,140.33  \n",
       "1       11,775.46  \n",
       "2       17,535.08  \n",
       "3       16,827.64  \n",
       "4       19,362.72  \n",
       "5       18,924.43  \n",
       "6       20,495.16  \n",
       "7       19,575.59  \n",
       "8       19,203.79  \n",
       "9       20,044.87  \n",
       "10      19,786.32  \n",
       "11      21,792.71  "
      ]
     },
     "execution_count": 90,
     "metadata": {},
     "output_type": "execute_result"
    }
   ],
   "source": [
    "df_ultra_mean"
   ]
  },
  {
   "cell_type": "markdown",
   "metadata": {},
   "source": [
    "Несмотря на увеличение пользователей в 15 раз, средний доход на данном тарифе увеличился только в 2 раза. На \"Смарт\" он увеличился в 3 раза"
   ]
  },
  {
   "cell_type": "markdown",
   "metadata": {},
   "source": [
    "Подсчитаем стандартное отклонение на тарифах:"
   ]
  },
  {
   "cell_type": "code",
   "execution_count": 91,
   "metadata": {},
   "outputs": [
    {
     "data": {
      "text/plain": [
       "user_id                              146.12\n",
       "month                                  2.92\n",
       "total_calls                           25.94\n",
       "time_calls                           190.31\n",
       "total_message                         28.23\n",
       "total_traffic                      5,870.48\n",
       "age                                   16.35\n",
       "churn_date       35 days 06:24:07.798487951\n",
       "reg_date         90 days 10:40:06.512592945\n",
       "income                               444.57\n",
       "dtype: object"
      ]
     },
     "execution_count": 91,
     "metadata": {},
     "output_type": "execute_result"
    }
   ],
   "source": [
    "people_smart.std()"
   ]
  },
  {
   "cell_type": "code",
   "execution_count": 92,
   "metadata": {},
   "outputs": [
    {
     "data": {
      "text/plain": [
       "user_id                              140.69\n",
       "month                                  2.87\n",
       "total_calls                           43.92\n",
       "time_calls                           317.61\n",
       "total_message                         47.80\n",
       "total_traffic                     10,087.17\n",
       "age                                   17.11\n",
       "churn_date       41 days 19:16:31.961555634\n",
       "reg_date         83 days 01:05:09.236735203\n",
       "income                               376.19\n",
       "dtype: object"
      ]
     },
     "execution_count": 92,
     "metadata": {},
     "output_type": "execute_result"
    }
   ],
   "source": [
    "people_ultra.std()"
   ]
  },
  {
   "cell_type": "markdown",
   "metadata": {},
   "source": [
    "Посмотрим средние значения:\n"
   ]
  },
  {
   "cell_type": "code",
   "execution_count": 93,
   "metadata": {},
   "outputs": [
    {
     "data": {
      "text/html": [
       "<div>\n",
       "<style scoped>\n",
       "    .dataframe tbody tr th:only-of-type {\n",
       "        vertical-align: middle;\n",
       "    }\n",
       "\n",
       "    .dataframe tbody tr th {\n",
       "        vertical-align: top;\n",
       "    }\n",
       "\n",
       "    .dataframe thead th {\n",
       "        text-align: right;\n",
       "    }\n",
       "</style>\n",
       "<table border=\"1\" class=\"dataframe\">\n",
       "  <thead>\n",
       "    <tr style=\"text-align: right;\">\n",
       "      <th></th>\n",
       "      <th>user_id</th>\n",
       "      <th>month</th>\n",
       "      <th>total_calls</th>\n",
       "      <th>time_calls</th>\n",
       "      <th>total_message</th>\n",
       "      <th>total_traffic</th>\n",
       "      <th>age</th>\n",
       "      <th>income</th>\n",
       "    </tr>\n",
       "  </thead>\n",
       "  <tbody>\n",
       "    <tr>\n",
       "      <th>count</th>\n",
       "      <td>2,229.00</td>\n",
       "      <td>2,229.00</td>\n",
       "      <td>2,229.00</td>\n",
       "      <td>2,229.00</td>\n",
       "      <td>2,229.00</td>\n",
       "      <td>2,229.00</td>\n",
       "      <td>2,229.00</td>\n",
       "      <td>2,229.00</td>\n",
       "    </tr>\n",
       "    <tr>\n",
       "      <th>mean</th>\n",
       "      <td>1,246.51</td>\n",
       "      <td>8.35</td>\n",
       "      <td>58.46</td>\n",
       "      <td>417.93</td>\n",
       "      <td>33.38</td>\n",
       "      <td>16,207.88</td>\n",
       "      <td>46.56</td>\n",
       "      <td>721.74</td>\n",
       "    </tr>\n",
       "    <tr>\n",
       "      <th>std</th>\n",
       "      <td>146.12</td>\n",
       "      <td>2.92</td>\n",
       "      <td>25.94</td>\n",
       "      <td>190.31</td>\n",
       "      <td>28.23</td>\n",
       "      <td>5,870.48</td>\n",
       "      <td>16.35</td>\n",
       "      <td>444.57</td>\n",
       "    </tr>\n",
       "    <tr>\n",
       "      <th>min</th>\n",
       "      <td>1,001.00</td>\n",
       "      <td>1.00</td>\n",
       "      <td>0.00</td>\n",
       "      <td>0.00</td>\n",
       "      <td>0.00</td>\n",
       "      <td>0.00</td>\n",
       "      <td>18.00</td>\n",
       "      <td>550.00</td>\n",
       "    </tr>\n",
       "    <tr>\n",
       "      <th>25%</th>\n",
       "      <td>1,121.00</td>\n",
       "      <td>6.00</td>\n",
       "      <td>40.00</td>\n",
       "      <td>282.00</td>\n",
       "      <td>10.00</td>\n",
       "      <td>12,643.00</td>\n",
       "      <td>32.00</td>\n",
       "      <td>550.00</td>\n",
       "    </tr>\n",
       "    <tr>\n",
       "      <th>50%</th>\n",
       "      <td>1,239.00</td>\n",
       "      <td>9.00</td>\n",
       "      <td>60.00</td>\n",
       "      <td>422.00</td>\n",
       "      <td>28.00</td>\n",
       "      <td>16,506.00</td>\n",
       "      <td>47.00</td>\n",
       "      <td>550.00</td>\n",
       "    </tr>\n",
       "    <tr>\n",
       "      <th>75%</th>\n",
       "      <td>1,376.00</td>\n",
       "      <td>11.00</td>\n",
       "      <td>76.00</td>\n",
       "      <td>545.00</td>\n",
       "      <td>51.00</td>\n",
       "      <td>20,042.00</td>\n",
       "      <td>62.00</td>\n",
       "      <td>721.00</td>\n",
       "    </tr>\n",
       "    <tr>\n",
       "      <th>max</th>\n",
       "      <td>1,499.00</td>\n",
       "      <td>12.00</td>\n",
       "      <td>198.00</td>\n",
       "      <td>1,435.00</td>\n",
       "      <td>143.00</td>\n",
       "      <td>38,552.00</td>\n",
       "      <td>75.00</td>\n",
       "      <td>6,770.00</td>\n",
       "    </tr>\n",
       "  </tbody>\n",
       "</table>\n",
       "</div>"
      ],
      "text/plain": [
       "       user_id    month  total_calls  time_calls  total_message  \\\n",
       "count 2,229.00 2,229.00     2,229.00    2,229.00       2,229.00   \n",
       "mean  1,246.51     8.35        58.46      417.93          33.38   \n",
       "std     146.12     2.92        25.94      190.31          28.23   \n",
       "min   1,001.00     1.00         0.00        0.00           0.00   \n",
       "25%   1,121.00     6.00        40.00      282.00          10.00   \n",
       "50%   1,239.00     9.00        60.00      422.00          28.00   \n",
       "75%   1,376.00    11.00        76.00      545.00          51.00   \n",
       "max   1,499.00    12.00       198.00    1,435.00         143.00   \n",
       "\n",
       "       total_traffic      age   income  \n",
       "count       2,229.00 2,229.00 2,229.00  \n",
       "mean       16,207.88    46.56   721.74  \n",
       "std         5,870.48    16.35   444.57  \n",
       "min             0.00    18.00   550.00  \n",
       "25%        12,643.00    32.00   550.00  \n",
       "50%        16,506.00    47.00   550.00  \n",
       "75%        20,042.00    62.00   721.00  \n",
       "max        38,552.00    75.00 6,770.00  "
      ]
     },
     "execution_count": 93,
     "metadata": {},
     "output_type": "execute_result"
    }
   ],
   "source": [
    "people_smart.describe()"
   ]
  },
  {
   "cell_type": "code",
   "execution_count": 94,
   "metadata": {},
   "outputs": [
    {
     "data": {
      "text/html": [
       "<div>\n",
       "<style scoped>\n",
       "    .dataframe tbody tr th:only-of-type {\n",
       "        vertical-align: middle;\n",
       "    }\n",
       "\n",
       "    .dataframe tbody tr th {\n",
       "        vertical-align: top;\n",
       "    }\n",
       "\n",
       "    .dataframe thead th {\n",
       "        text-align: right;\n",
       "    }\n",
       "</style>\n",
       "<table border=\"1\" class=\"dataframe\">\n",
       "  <thead>\n",
       "    <tr style=\"text-align: right;\">\n",
       "      <th></th>\n",
       "      <th>user_id</th>\n",
       "      <th>month</th>\n",
       "      <th>total_calls</th>\n",
       "      <th>time_calls</th>\n",
       "      <th>total_message</th>\n",
       "      <th>total_traffic</th>\n",
       "      <th>age</th>\n",
       "      <th>income</th>\n",
       "    </tr>\n",
       "  </thead>\n",
       "  <tbody>\n",
       "    <tr>\n",
       "      <th>count</th>\n",
       "      <td>985.00</td>\n",
       "      <td>985.00</td>\n",
       "      <td>985.00</td>\n",
       "      <td>985.00</td>\n",
       "      <td>985.00</td>\n",
       "      <td>985.00</td>\n",
       "      <td>985.00</td>\n",
       "      <td>985.00</td>\n",
       "    </tr>\n",
       "    <tr>\n",
       "      <th>mean</th>\n",
       "      <td>1,263.09</td>\n",
       "      <td>8.25</td>\n",
       "      <td>73.39</td>\n",
       "      <td>526.62</td>\n",
       "      <td>49.36</td>\n",
       "      <td>19,468.33</td>\n",
       "      <td>46.83</td>\n",
       "      <td>2,070.15</td>\n",
       "    </tr>\n",
       "    <tr>\n",
       "      <th>std</th>\n",
       "      <td>140.69</td>\n",
       "      <td>2.87</td>\n",
       "      <td>43.92</td>\n",
       "      <td>317.61</td>\n",
       "      <td>47.80</td>\n",
       "      <td>10,087.17</td>\n",
       "      <td>17.11</td>\n",
       "      <td>376.19</td>\n",
       "    </tr>\n",
       "    <tr>\n",
       "      <th>min</th>\n",
       "      <td>1,000.00</td>\n",
       "      <td>1.00</td>\n",
       "      <td>0.00</td>\n",
       "      <td>0.00</td>\n",
       "      <td>0.00</td>\n",
       "      <td>0.00</td>\n",
       "      <td>18.00</td>\n",
       "      <td>1,950.00</td>\n",
       "    </tr>\n",
       "    <tr>\n",
       "      <th>25%</th>\n",
       "      <td>1,143.00</td>\n",
       "      <td>6.00</td>\n",
       "      <td>41.00</td>\n",
       "      <td>284.00</td>\n",
       "      <td>6.00</td>\n",
       "      <td>11,770.00</td>\n",
       "      <td>30.00</td>\n",
       "      <td>1,950.00</td>\n",
       "    </tr>\n",
       "    <tr>\n",
       "      <th>50%</th>\n",
       "      <td>1,277.00</td>\n",
       "      <td>9.00</td>\n",
       "      <td>74.00</td>\n",
       "      <td>518.00</td>\n",
       "      <td>38.00</td>\n",
       "      <td>19,308.00</td>\n",
       "      <td>45.00</td>\n",
       "      <td>1,950.00</td>\n",
       "    </tr>\n",
       "    <tr>\n",
       "      <th>75%</th>\n",
       "      <td>1,381.00</td>\n",
       "      <td>11.00</td>\n",
       "      <td>104.00</td>\n",
       "      <td>752.00</td>\n",
       "      <td>79.00</td>\n",
       "      <td>26,837.00</td>\n",
       "      <td>63.00</td>\n",
       "      <td>1,950.00</td>\n",
       "    </tr>\n",
       "    <tr>\n",
       "      <th>max</th>\n",
       "      <td>1,495.00</td>\n",
       "      <td>12.00</td>\n",
       "      <td>244.00</td>\n",
       "      <td>1,673.00</td>\n",
       "      <td>224.00</td>\n",
       "      <td>49,745.00</td>\n",
       "      <td>75.00</td>\n",
       "      <td>4,800.00</td>\n",
       "    </tr>\n",
       "  </tbody>\n",
       "</table>\n",
       "</div>"
      ],
      "text/plain": [
       "       user_id  month  total_calls  time_calls  total_message  total_traffic  \\\n",
       "count   985.00 985.00       985.00      985.00         985.00         985.00   \n",
       "mean  1,263.09   8.25        73.39      526.62          49.36      19,468.33   \n",
       "std     140.69   2.87        43.92      317.61          47.80      10,087.17   \n",
       "min   1,000.00   1.00         0.00        0.00           0.00           0.00   \n",
       "25%   1,143.00   6.00        41.00      284.00           6.00      11,770.00   \n",
       "50%   1,277.00   9.00        74.00      518.00          38.00      19,308.00   \n",
       "75%   1,381.00  11.00       104.00      752.00          79.00      26,837.00   \n",
       "max   1,495.00  12.00       244.00    1,673.00         224.00      49,745.00   \n",
       "\n",
       "         age   income  \n",
       "count 985.00   985.00  \n",
       "mean   46.83 2,070.15  \n",
       "std    17.11   376.19  \n",
       "min    18.00 1,950.00  \n",
       "25%    30.00 1,950.00  \n",
       "50%    45.00 1,950.00  \n",
       "75%    63.00 1,950.00  \n",
       "max    75.00 4,800.00  "
      ]
     },
     "execution_count": 94,
     "metadata": {},
     "output_type": "execute_result"
    }
   ],
   "source": [
    "people_ultra.describe()"
   ]
  },
  {
   "cell_type": "markdown",
   "metadata": {},
   "source": [
    "Рассчитаем дисперсию:"
   ]
  },
  {
   "cell_type": "code",
   "execution_count": 95,
   "metadata": {},
   "outputs": [
    {
     "data": {
      "text/plain": [
       "user_id             21,350.91\n",
       "month                    8.53\n",
       "total_calls            672.88\n",
       "time_calls          36,219.32\n",
       "total_message          796.81\n",
       "total_traffic   34,462,539.43\n",
       "age                    267.43\n",
       "income             197,639.26\n",
       "dtype: float64"
      ]
     },
     "execution_count": 95,
     "metadata": {},
     "output_type": "execute_result"
    }
   ],
   "source": [
    "people_smart.var()"
   ]
  },
  {
   "cell_type": "code",
   "execution_count": 96,
   "metadata": {},
   "outputs": [
    {
     "data": {
      "text/plain": [
       "user_id              19,795.06\n",
       "month                     8.25\n",
       "total_calls           1,928.69\n",
       "time_calls          100,873.63\n",
       "total_message         2,285.27\n",
       "total_traffic   101,751,093.97\n",
       "age                     292.68\n",
       "income              141,516.75\n",
       "dtype: float64"
      ]
     },
     "execution_count": 96,
     "metadata": {},
     "output_type": "execute_result"
    }
   ],
   "source": [
    "people_ultra.var()"
   ]
  },
  {
   "cell_type": "markdown",
   "metadata": {},
   "source": [
    "#### Построим гистраграммы:"
   ]
  },
  {
   "cell_type": "markdown",
   "metadata": {},
   "source": [
    "Построим гистраграмму количества пользователей двух тарифов:"
   ]
  },
  {
   "cell_type": "code",
   "execution_count": 97,
   "metadata": {},
   "outputs": [
    {
     "data": {
      "image/png": "[encoded data removed]",
      "text/plain": [
       "<Figure size 864x720 with 1 Axes>"
      ]
     },
     "metadata": {
      "needs_background": "light"
     },
     "output_type": "display_data"
    }
   ],
   "source": [
    "for index in ['user_id']:\n",
    "    plt.figure(figsize=(12, 10))\n",
    "    plt.bar(people_smart_total['month'], people_smart_total[index], label='smart', color='y', alpha=0.7)\n",
    "    plt.bar(people_ultra_total['month']+0.25, people_ultra_total[index], label='ultra', color='b', alpha=0.5)\n",
    " \n",
    "    plt.xlabel('Месяцы')\n",
    "    plt.ylabel('Пользователи (чел)')\n",
    "    plt.grid()\n",
    "    plt.title(f'Количество всех пользователей за год для 2 тарифов')\n",
    "    plt.legend()\n",
    "    plt.show()"
   ]
  },
  {
   "cell_type": "markdown",
   "metadata": {},
   "source": [
    "Видим, что распределение скошено влево (левосторонняя). Это связано с тем, что число пользователей росло ежемесячно, особенно на тарифе \"Смарт\" и к концу года превышало пользователей тарифа \"Ультра\" более, чем в 2 раза"
   ]
  },
  {
   "cell_type": "markdown",
   "metadata": {},
   "source": [
    "Посмотрим гистограмму среднего: звонков, сообщений, трафика, дохода:"
   ]
  },
  {
   "cell_type": "code",
   "execution_count": 98,
   "metadata": {},
   "outputs": [
    {
     "data": {
      "image/png": "[encoded data removed]",
      "text/plain": [
       "<Figure size 864x360 with 1 Axes>"
      ]
     },
     "metadata": {
      "needs_background": "light"
     },
     "output_type": "display_data"
    }
   ],
   "source": [
    "for index in ['time_calls']:\n",
    "    plt.figure(figsize=(12, 5))\n",
    "    plt.bar(df_smart_mean['month'], df_smart_mean[index], label='smart', color='y', alpha=0.7)\n",
    "    plt.bar(df_ultra_mean['month']+0.25, df_ultra_mean[index], label='ultra', color='b', alpha=0.5)\n",
    " \n",
    "    plt.xlabel('Месяц')\n",
    "    plt.ylabel('Время звонков (мин)')\n",
    "    plt.grid()\n",
    "    plt.title(f'Звонки пользователей')\n",
    "    plt.legend()\n",
    "    plt.show()"
   ]
  },
  {
   "cell_type": "code",
   "execution_count": 99,
   "metadata": {},
   "outputs": [
    {
     "data": {
      "image/png": "[encoded data removed]",
      "text/plain": [
       "<Figure size 864x360 with 1 Axes>"
      ]
     },
     "metadata": {
      "needs_background": "light"
     },
     "output_type": "display_data"
    }
   ],
   "source": [
    "for index in ['total_message']:\n",
    "    plt.figure(figsize=(12, 5))\n",
    "    plt.bar(df_smart_mean['month'], df_smart_mean[index], label='smart', color='y', alpha=0.7)\n",
    "    plt.bar(df_ultra_mean['month']+0.25, df_ultra_mean[index], label='ultra', color='b', alpha=0.5)\n",
    " \n",
    "    plt.xlabel('Месяц')\n",
    "    plt.ylabel('Общее количество сообщений')\n",
    "    plt.grid()\n",
    "    plt.title(f'Сообщения пользователей')\n",
    "    plt.legend()\n",
    "    plt.show()"
   ]
  },
  {
   "cell_type": "code",
   "execution_count": 100,
   "metadata": {},
   "outputs": [
    {
     "data": {
      "image/png": "[encoded data removed]",
      "text/plain": [
       "<Figure size 864x360 with 1 Axes>"
      ]
     },
     "metadata": {
      "needs_background": "light"
     },
     "output_type": "display_data"
    }
   ],
   "source": [
    "for index in ['total_traffic']:\n",
    "    plt.figure(figsize=(12, 5))\n",
    "    plt.bar(df_smart_mean['month'], df_smart_mean[index], label='smart', color='y', alpha=0.7)\n",
    "    plt.bar(df_ultra_mean['month']+0.25, df_ultra_mean[index], label='ultra', color='b', alpha=0.5)\n",
    " \n",
    "    plt.xlabel('Месяц')\n",
    "    plt.ylabel('Общий трафик (Мб)')\n",
    "    plt.grid()\n",
    "    plt.title(f'Интернет-трафик пользователей')\n",
    "    plt.legend()\n",
    "    plt.show()"
   ]
  },
  {
   "cell_type": "code",
   "execution_count": 101,
   "metadata": {},
   "outputs": [
    {
     "data": {
      "image/png": "[encoded data removed]",
      "text/plain": [
       "<Figure size 864x360 with 1 Axes>"
      ]
     },
     "metadata": {
      "needs_background": "light"
     },
     "output_type": "display_data"
    }
   ],
   "source": [
    "for index in ['income']:\n",
    "    plt.figure(figsize=(12, 5))\n",
    "    plt.bar(df_smart_mean['month'], df_smart_mean[index], label='smart', color='y', alpha=0.7)\n",
    "    plt.bar(df_ultra_mean['month']+0.25, df_ultra_mean[index], label='ultra', color='b', alpha=0.5)\n",
    " \n",
    "    plt.xlabel('Месяц')\n",
    "    plt.ylabel('Доход(руб)')\n",
    "    plt.grid()\n",
    "    plt.title(f'Доход')\n",
    "    plt.legend()\n",
    "    plt.show()"
   ]
  },
  {
   "cell_type": "code",
   "execution_count": 102,
   "metadata": {},
   "outputs": [
    {
     "data": {
      "image/png": "[encoded data removed]",
      "text/plain": [
       "<Figure size 864x360 with 1 Axes>"
      ]
     },
     "metadata": {
      "needs_background": "light"
     },
     "output_type": "display_data"
    }
   ],
   "source": [
    "plt.figure(figsize=(12, 5))\n",
    "plt.bar(df_smart_mean['month'], df_smart_mean['income'], label='smart', color='y', alpha=0.7)\n",
    "plt.bar(df_ultra_mean['month']+0.25, df_ultra_mean['income'], label='ultra', color='b', alpha=0.5)\n",
    " \n",
    "plt.xlabel('Месяц')\n",
    "plt.ylabel('Доход(руб)')\n",
    "plt.grid()\n",
    "plt.title(f'Количество всех пользователей за год для 2 тарифов')\n",
    "plt.legend()\n",
    "plt.show()"
   ]
  },
  {
   "cell_type": "markdown",
   "metadata": {},
   "source": [
    "Cравним два тарифа:"
   ]
  },
  {
   "cell_type": "code",
   "execution_count": 103,
   "metadata": {},
   "outputs": [
    {
     "data": {
      "image/png": "[encoded data removed]",
      "text/plain": [
       "<Figure size 432x288 with 1 Axes>"
      ]
     },
     "metadata": {
      "needs_background": "light"
     },
     "output_type": "display_data"
    }
   ],
   "source": [
    "plt.hist(people_smart['time_calls'], bins=50, label='Тариф \"Смарт\"', alpha=0.7)\n",
    "plt.hist(people_ultra['time_calls'], bins=50, label='Тариф \"Ультра\"', alpha=0.3)\n",
    "plt.legend()\n",
    "plt.xlabel('Количество минут')\n",
    "plt.ylabel('Количество абонентов')\n",
    "plt.show()"
   ]
  },
  {
   "cell_type": "markdown",
   "metadata": {},
   "source": [
    "Видим, что количество абонентов больше на тарифе \"Смарт\", но время на разговор тратят больше абоненты \"Ультра\""
   ]
  },
  {
   "cell_type": "code",
   "execution_count": 104,
   "metadata": {},
   "outputs": [
    {
     "data": {
      "image/png": "[encoded data removed]",
      "text/plain": [
       "<Figure size 432x288 with 1 Axes>"
      ]
     },
     "metadata": {
      "needs_background": "light"
     },
     "output_type": "display_data"
    }
   ],
   "source": [
    "plt.hist(people_smart['total_message'], bins=50, label='Тариф \"Смарт\"', alpha=0.7)\n",
    "plt.hist(people_ultra['total_message'], bins=50, label='Тариф \"Ультра\"', alpha=0.3)\n",
    "plt.legend()\n",
    "plt.xlabel('Количество сообщений')\n",
    "plt.ylabel('Количество абонентов')\n",
    "plt.show()"
   ]
  },
  {
   "cell_type": "markdown",
   "metadata": {},
   "source": [
    "Видим, что есть абоненты на обоих тарифах, кто не пользуется сообщениями. Но чаще сообщения отправляют на тарифе \"Смарт\""
   ]
  },
  {
   "cell_type": "code",
   "execution_count": 105,
   "metadata": {},
   "outputs": [
    {
     "data": {
      "image/png": "[encoded data removed]",
      "text/plain": [
       "<Figure size 432x288 with 1 Axes>"
      ]
     },
     "metadata": {
      "needs_background": "light"
     },
     "output_type": "display_data"
    }
   ],
   "source": [
    "plt.hist(people_smart['total_traffic'], bins=50, label='Тариф \"Смарт\"', alpha=0.7)\n",
    "plt.hist(people_ultra['total_traffic'], bins=50, label='Тариф \"Ультра\"', alpha=0.3)\n",
    "plt.legend()\n",
    "plt.xlabel('Общее количество мегабайт')\n",
    "plt.ylabel('Количество абонентов')\n",
    "plt.show()"
   ]
  },
  {
   "cell_type": "markdown",
   "metadata": {},
   "source": [
    "Данные равномерно распределены, интернет-трафика абоненты тратят примерно одинаково"
   ]
  },
  {
   "cell_type": "code",
   "execution_count": 106,
   "metadata": {},
   "outputs": [
    {
     "data": {
      "image/png": "[encoded data removed]",
      "text/plain": [
       "<Figure size 432x288 with 1 Axes>"
      ]
     },
     "metadata": {
      "needs_background": "light"
     },
     "output_type": "display_data"
    }
   ],
   "source": [
    "plt.hist(people_smart['income'], bins=50, label='Тариф \"Смарт\"', alpha=0.7)\n",
    "plt.hist(people_ultra['income'], bins=50, label='Тариф \"Ультра\"', alpha=0.3)\n",
    "plt.legend()\n",
    "plt.xlabel('Общее количество мегабайт')\n",
    "plt.ylabel('Дохов(руб)')\n",
    "plt.show()"
   ]
  },
  {
   "cell_type": "markdown",
   "metadata": {},
   "source": [
    "Абоненты тарифа \"Ультра\" платят в основном абонентскую плату, в то время как абоненты тарифа \"Смарт\" покупают допольнительные пакеты, что приносит допольнительный доход"
   ]
  },
  {
   "cell_type": "markdown",
   "metadata": {},
   "source": [
    "# Проверка гипотез"
   ]
  },
  {
   "cell_type": "markdown",
   "metadata": {},
   "source": [
    "##### Проверим гипотезу 1: \n",
    "- средняя выручка пользователей тарифов «Ультра» и «Смарт» различаются"
   ]
  },
  {
   "cell_type": "markdown",
   "metadata": {},
   "source": [
    "Итак, сформулируем нулевую гипотезу Hо: \"средняя выручка пользователей тарифов «Ультра» не равна выручке пользователей тарифов «Смарт»\". \n",
    "Соответственно, альтернативная гипотеза Н1 звучит так: \"средняя выручка пользователей тарифа «Смарт»  \n",
    "равна средней выручке пользователей тарифа «Ультра»\". Такая гипотеза называется двусторонней, т.к. возможно отклонение и в \n",
    "большую, и в меньшую стороны. Для проверки двусторонней гипотезы воспользуемся методом `scipy.stats.ttest_ind()`"
   ]
  },
  {
   "cell_type": "code",
   "execution_count": 107,
   "metadata": {},
   "outputs": [
    {
     "data": {
      "text/plain": [
       "'p-значение:'"
      ]
     },
     "metadata": {},
     "output_type": "display_data"
    },
    {
     "data": {
      "text/plain": [
       "0.3371886907089695"
      ]
     },
     "metadata": {},
     "output_type": "display_data"
    },
    {
     "data": {
      "text/plain": [
       "'Не получилось отвергнуть нулевую гипотезу'"
      ]
     },
     "metadata": {},
     "output_type": "display_data"
    }
   ],
   "source": [
    "alpha = .05\n",
    "results = st.ttest_ind(df_smart_sum['income'], df_ultra_sum['income'])\n",
    "\n",
    "display('p-значение:', results.pvalue)\n",
    "\n",
    "if results.pvalue < alpha:\n",
    "    display('Отвергаем нулевую гипотезу')\n",
    "else:\n",
    "    display('Не получилось отвергнуть нулевую гипотезу')"
   ]
  },
  {
   "cell_type": "markdown",
   "metadata": {},
   "source": [
    "Полученное значение p-value говорит о том, что вероятность получить такое или большее различие случайно почти 3%. \n",
    "Следовательно, можно сделать вывод, что мы можем принять нулевую гипотезу"
   ]
  },
  {
   "cell_type": "markdown",
   "metadata": {},
   "source": [
    "##### Проверим гипотезу 2: \n",
    "- отличается ли средняя выручка пользователей из Москвы от выручки пользователей из других регионов."
   ]
  },
  {
   "cell_type": "code",
   "execution_count": 108,
   "metadata": {},
   "outputs": [],
   "source": [
    "df_moscow = df_groupby.query('city == \"Москва\"')['income']\n",
    "df_other = df_groupby.query('city != \"Москва\"')['income']"
   ]
  },
  {
   "cell_type": "markdown",
   "metadata": {},
   "source": [
    "Cформулируем нулевую гипотезу Hо: \"средняя выручка пользователей из Москвы отличается от выручки пользователей из других регионов\". Соответственно, альтернативная гипотеза Н1 звучит так: \"средняя выручка пользователей из Москвы не отличается от выручки пользователей из других регионов\". "
   ]
  },
  {
   "cell_type": "code",
   "execution_count": 109,
   "metadata": {},
   "outputs": [
    {
     "data": {
      "text/plain": [
       "'p-значение:'"
      ]
     },
     "metadata": {},
     "output_type": "display_data"
    },
    {
     "data": {
      "text/plain": [
       "0.017573366608432523"
      ]
     },
     "metadata": {},
     "output_type": "display_data"
    },
    {
     "data": {
      "text/plain": [
       "'Отвергаем нулевую гипотезу'"
      ]
     },
     "metadata": {},
     "output_type": "display_data"
    }
   ],
   "source": [
    "alpha = .05\n",
    "results = st.ttest_ind(df_moscow, df_other)\n",
    "\n",
    "display('p-значение:', results.pvalue)\n",
    "\n",
    "if results.pvalue < alpha:\n",
    "    display('Отвергаем нулевую гипотезу')\n",
    "else:\n",
    "    display('Не получилось отвергнуть нулевую гипотезу')"
   ]
  },
  {
   "cell_type": "markdown",
   "metadata": {},
   "source": [
    "Можно сделать вывод, что мы можем принять альтернативную гипотезу\n"
   ]
  },
  {
   "cell_type": "markdown",
   "metadata": {},
   "source": [
    "Мы не использовали дополнительный параметр `equal_var = False`, потому что у нас достаточно большие и одинаковые по размеру данные, к тому же в обеих измерена одна и та же переменная — нет оснований полагать, что разброс будет сильно отличаться."
   ]
  },
  {
   "cell_type": "markdown",
   "metadata": {},
   "source": [
    "# Вывод"
   ]
  },
  {
   "cell_type": "markdown",
   "metadata": {},
   "source": [
    "* Судя по нашему исследованию, можно утверждать, что наиболее выгодный тариф в финансовом плане для сотового оператора - это тариф \"Ультра\": он за год принес оператору доход примерно 1,9 млн рублей (\"Смарт\" принес доход примерно 1,5 млн рублей).\n",
    "* Но в то же время, следует отметить, что наиболее массовым тарифом является \"Смарт\" (к концу года пользователей \"Смарта\" превышало пользователей \"Ультра\" примерно в 2 раза). Следовательно, в дальнейшем, на длинной дистанции, с увеличением количества пользователей может увеличится и доход сотового оператора.\n",
    "\n",
    "Рекомендовал бы сотовому оператору продвигать тариф \"Смарт\", так как увеличивается количество абонентов и в дальнейшем это приведет к увеличению прибыли"
   ]
  },
  {
   "cell_type": "code",
   "execution_count": null,
   "metadata": {},
   "outputs": [],
   "source": []
  }
 ],
 "metadata": {
  "ExecuteTimeLog": [
   {
    "duration": 992,
    "start_time": "2022-03-09T19:27:35.057Z"
   },
   {
    "duration": 434,
    "start_time": "2022-03-09T19:36:16.355Z"
   },
   {
    "duration": 3,
    "start_time": "2022-03-09T19:36:29.826Z"
   },
   {
    "duration": 357,
    "start_time": "2022-03-09T19:36:31.251Z"
   },
   {
    "duration": 19,
    "start_time": "2022-03-09T19:37:19.297Z"
   },
   {
    "duration": 369,
    "start_time": "2022-03-09T19:40:42.919Z"
   },
   {
    "duration": 282,
    "start_time": "2022-03-09T19:44:15.365Z"
   },
   {
    "duration": 9,
    "start_time": "2022-03-09T19:44:22.853Z"
   },
   {
    "duration": 351,
    "start_time": "2022-03-09T19:44:48.093Z"
   },
   {
    "duration": 7,
    "start_time": "2022-03-09T19:44:51.221Z"
   },
   {
    "duration": 365,
    "start_time": "2022-03-09T19:45:00.485Z"
   },
   {
    "duration": 7,
    "start_time": "2022-03-09T19:45:02.621Z"
   },
   {
    "duration": 376,
    "start_time": "2022-03-09T19:45:14.901Z"
   },
   {
    "duration": 8,
    "start_time": "2022-03-09T19:45:17.772Z"
   },
   {
    "duration": 25,
    "start_time": "2022-03-09T19:48:35.667Z"
   },
   {
    "duration": 13,
    "start_time": "2022-03-09T19:49:17.922Z"
   },
   {
    "duration": 28,
    "start_time": "2022-03-09T19:49:41.553Z"
   },
   {
    "duration": 15,
    "start_time": "2022-03-09T19:56:45.501Z"
   },
   {
    "duration": 9,
    "start_time": "2022-03-09T20:02:17.569Z"
   },
   {
    "duration": 24,
    "start_time": "2022-03-09T20:10:55.907Z"
   },
   {
    "duration": 13,
    "start_time": "2022-03-09T20:12:22.643Z"
   },
   {
    "duration": 8,
    "start_time": "2022-03-09T20:17:34.070Z"
   },
   {
    "duration": 6,
    "start_time": "2022-03-09T20:21:06.612Z"
   },
   {
    "duration": 7,
    "start_time": "2022-03-09T20:23:13.019Z"
   },
   {
    "duration": 6,
    "start_time": "2022-03-09T20:32:49.330Z"
   },
   {
    "duration": 9,
    "start_time": "2022-03-09T20:35:45.201Z"
   },
   {
    "duration": 313,
    "start_time": "2022-03-09T21:08:40.282Z"
   },
   {
    "duration": 20,
    "start_time": "2022-03-09T21:10:30.058Z"
   },
   {
    "duration": 6,
    "start_time": "2022-03-09T21:10:36.153Z"
   },
   {
    "duration": 1181,
    "start_time": "2022-03-09T21:11:05.945Z"
   },
   {
    "duration": 7,
    "start_time": "2022-03-09T21:11:18.025Z"
   },
   {
    "duration": 1200,
    "start_time": "2022-03-09T21:11:21.081Z"
   },
   {
    "duration": 6,
    "start_time": "2022-03-09T21:16:13.829Z"
   },
   {
    "duration": 1199,
    "start_time": "2022-03-09T21:17:03.924Z"
   },
   {
    "duration": 305,
    "start_time": "2022-03-09T21:19:32.660Z"
   },
   {
    "duration": 3,
    "start_time": "2022-03-09T21:21:55.546Z"
   },
   {
    "duration": 5,
    "start_time": "2022-03-09T21:22:01.865Z"
   },
   {
    "duration": 6,
    "start_time": "2022-03-09T21:23:57.087Z"
   },
   {
    "duration": 5,
    "start_time": "2022-03-09T21:23:58.768Z"
   },
   {
    "duration": 938,
    "start_time": "2022-03-09T21:24:43.036Z"
   },
   {
    "duration": 371,
    "start_time": "2022-03-09T21:24:43.975Z"
   },
   {
    "duration": 19,
    "start_time": "2022-03-09T21:24:44.348Z"
   },
   {
    "duration": 10,
    "start_time": "2022-03-09T21:24:44.368Z"
   },
   {
    "duration": 16,
    "start_time": "2022-03-09T21:24:44.379Z"
   },
   {
    "duration": 8,
    "start_time": "2022-03-09T21:24:44.396Z"
   },
   {
    "duration": 17,
    "start_time": "2022-03-09T21:24:44.406Z"
   },
   {
    "duration": 7,
    "start_time": "2022-03-09T21:24:44.425Z"
   },
   {
    "duration": 6,
    "start_time": "2022-03-09T21:24:44.434Z"
   },
   {
    "duration": 8,
    "start_time": "2022-03-09T21:24:44.442Z"
   },
   {
    "duration": 6,
    "start_time": "2022-03-09T21:24:44.452Z"
   },
   {
    "duration": 10,
    "start_time": "2022-03-09T21:24:44.459Z"
   },
   {
    "duration": 5,
    "start_time": "2022-03-09T21:24:57.179Z"
   },
   {
    "duration": 5,
    "start_time": "2022-03-09T21:25:00.282Z"
   },
   {
    "duration": 28,
    "start_time": "2022-03-09T21:38:50.034Z"
   },
   {
    "duration": 68,
    "start_time": "2022-03-09T21:42:10.392Z"
   },
   {
    "duration": 17,
    "start_time": "2022-03-09T21:43:28.679Z"
   },
   {
    "duration": 7,
    "start_time": "2022-03-09T21:43:40.392Z"
   },
   {
    "duration": 13,
    "start_time": "2022-03-09T21:44:03.286Z"
   },
   {
    "duration": 369,
    "start_time": "2022-03-09T21:52:24.769Z"
   },
   {
    "duration": 102,
    "start_time": "2022-03-09T21:56:23.167Z"
   },
   {
    "duration": 89,
    "start_time": "2022-03-09T21:56:49.561Z"
   },
   {
    "duration": 298,
    "start_time": "2022-03-09T21:57:05.374Z"
   },
   {
    "duration": 532,
    "start_time": "2022-03-09T21:57:30.869Z"
   },
   {
    "duration": 299,
    "start_time": "2022-03-09T21:57:48.142Z"
   },
   {
    "duration": 1006,
    "start_time": "2022-03-09T21:58:06.842Z"
   },
   {
    "duration": 366,
    "start_time": "2022-03-09T21:58:07.850Z"
   },
   {
    "duration": 18,
    "start_time": "2022-03-09T21:58:08.218Z"
   },
   {
    "duration": 10,
    "start_time": "2022-03-09T21:58:08.238Z"
   },
   {
    "duration": 16,
    "start_time": "2022-03-09T21:58:08.249Z"
   },
   {
    "duration": 7,
    "start_time": "2022-03-09T21:58:08.266Z"
   },
   {
    "duration": 13,
    "start_time": "2022-03-09T21:58:08.275Z"
   },
   {
    "duration": 20,
    "start_time": "2022-03-09T21:58:08.290Z"
   },
   {
    "duration": 9,
    "start_time": "2022-03-09T21:58:08.311Z"
   },
   {
    "duration": 11,
    "start_time": "2022-03-09T21:58:08.321Z"
   },
   {
    "duration": 7,
    "start_time": "2022-03-09T21:58:08.334Z"
   },
   {
    "duration": 10,
    "start_time": "2022-03-09T21:58:08.342Z"
   },
   {
    "duration": 6,
    "start_time": "2022-03-09T21:58:08.353Z"
   },
   {
    "duration": 45,
    "start_time": "2022-03-09T21:58:08.360Z"
   },
   {
    "duration": 54,
    "start_time": "2022-03-09T21:58:08.406Z"
   },
   {
    "duration": 8,
    "start_time": "2022-03-09T21:58:08.462Z"
   },
   {
    "duration": 38,
    "start_time": "2022-03-09T21:58:08.472Z"
   },
   {
    "duration": 361,
    "start_time": "2022-03-09T21:58:08.512Z"
   },
   {
    "duration": 302,
    "start_time": "2022-03-09T21:59:27.046Z"
   },
   {
    "duration": 107,
    "start_time": "2022-03-09T22:01:16.317Z"
   },
   {
    "duration": 310,
    "start_time": "2022-03-09T22:01:20.140Z"
   },
   {
    "duration": 299,
    "start_time": "2022-03-09T22:01:34.948Z"
   },
   {
    "duration": 1019,
    "start_time": "2022-03-09T22:01:50.847Z"
   },
   {
    "duration": 387,
    "start_time": "2022-03-09T22:01:51.868Z"
   },
   {
    "duration": 19,
    "start_time": "2022-03-09T22:01:52.257Z"
   },
   {
    "duration": 11,
    "start_time": "2022-03-09T22:01:52.278Z"
   },
   {
    "duration": 15,
    "start_time": "2022-03-09T22:01:52.290Z"
   },
   {
    "duration": 8,
    "start_time": "2022-03-09T22:01:52.306Z"
   },
   {
    "duration": 15,
    "start_time": "2022-03-09T22:01:52.315Z"
   },
   {
    "duration": 6,
    "start_time": "2022-03-09T22:01:52.332Z"
   },
   {
    "duration": 6,
    "start_time": "2022-03-09T22:01:52.340Z"
   },
   {
    "duration": 9,
    "start_time": "2022-03-09T22:01:52.347Z"
   },
   {
    "duration": 7,
    "start_time": "2022-03-09T22:01:52.358Z"
   },
   {
    "duration": 40,
    "start_time": "2022-03-09T22:01:52.366Z"
   },
   {
    "duration": 5,
    "start_time": "2022-03-09T22:01:52.407Z"
   },
   {
    "duration": 29,
    "start_time": "2022-03-09T22:01:52.413Z"
   },
   {
    "duration": 64,
    "start_time": "2022-03-09T22:01:52.444Z"
   },
   {
    "duration": 9,
    "start_time": "2022-03-09T22:01:52.509Z"
   },
   {
    "duration": 18,
    "start_time": "2022-03-09T22:01:52.519Z"
   },
   {
    "duration": 375,
    "start_time": "2022-03-09T22:01:52.539Z"
   },
   {
    "duration": 6,
    "start_time": "2022-03-09T22:06:10.009Z"
   },
   {
    "duration": 309,
    "start_time": "2022-03-09T22:07:54.326Z"
   },
   {
    "duration": 295,
    "start_time": "2022-03-09T22:08:10.911Z"
   },
   {
    "duration": 288,
    "start_time": "2022-03-09T22:10:22.453Z"
   },
   {
    "duration": 348,
    "start_time": "2022-03-09T22:11:19.236Z"
   },
   {
    "duration": 938,
    "start_time": "2022-03-09T22:11:52.132Z"
   },
   {
    "duration": 368,
    "start_time": "2022-03-09T22:11:53.071Z"
   },
   {
    "duration": 18,
    "start_time": "2022-03-09T22:11:53.441Z"
   },
   {
    "duration": 10,
    "start_time": "2022-03-09T22:11:53.460Z"
   },
   {
    "duration": 14,
    "start_time": "2022-03-09T22:11:53.471Z"
   },
   {
    "duration": 6,
    "start_time": "2022-03-09T22:11:53.487Z"
   },
   {
    "duration": 15,
    "start_time": "2022-03-09T22:11:53.494Z"
   },
   {
    "duration": 6,
    "start_time": "2022-03-09T22:11:53.511Z"
   },
   {
    "duration": 5,
    "start_time": "2022-03-09T22:11:53.518Z"
   },
   {
    "duration": 7,
    "start_time": "2022-03-09T22:11:53.525Z"
   },
   {
    "duration": 7,
    "start_time": "2022-03-09T22:11:53.533Z"
   },
   {
    "duration": 11,
    "start_time": "2022-03-09T22:11:53.542Z"
   },
   {
    "duration": 5,
    "start_time": "2022-03-09T22:11:53.554Z"
   },
   {
    "duration": 46,
    "start_time": "2022-03-09T22:11:53.561Z"
   },
   {
    "duration": 53,
    "start_time": "2022-03-09T22:11:53.609Z"
   },
   {
    "duration": 8,
    "start_time": "2022-03-09T22:11:53.664Z"
   },
   {
    "duration": 34,
    "start_time": "2022-03-09T22:11:53.673Z"
   },
   {
    "duration": 7,
    "start_time": "2022-03-09T22:12:03.214Z"
   },
   {
    "duration": 353,
    "start_time": "2022-03-09T22:12:06.054Z"
   },
   {
    "duration": 288,
    "start_time": "2022-03-09T22:13:17.934Z"
   },
   {
    "duration": 290,
    "start_time": "2022-03-09T22:13:32.478Z"
   },
   {
    "duration": 947,
    "start_time": "2022-03-09T22:14:35.536Z"
   },
   {
    "duration": 382,
    "start_time": "2022-03-09T22:14:36.484Z"
   },
   {
    "duration": 18,
    "start_time": "2022-03-09T22:14:36.868Z"
   },
   {
    "duration": 9,
    "start_time": "2022-03-09T22:14:36.888Z"
   },
   {
    "duration": 19,
    "start_time": "2022-03-09T22:14:36.899Z"
   },
   {
    "duration": 7,
    "start_time": "2022-03-09T22:14:36.919Z"
   },
   {
    "duration": 14,
    "start_time": "2022-03-09T22:14:36.927Z"
   },
   {
    "duration": 6,
    "start_time": "2022-03-09T22:14:36.943Z"
   },
   {
    "duration": 6,
    "start_time": "2022-03-09T22:14:36.950Z"
   },
   {
    "duration": 9,
    "start_time": "2022-03-09T22:14:36.958Z"
   },
   {
    "duration": 8,
    "start_time": "2022-03-09T22:14:36.968Z"
   },
   {
    "duration": 33,
    "start_time": "2022-03-09T22:14:36.977Z"
   },
   {
    "duration": 7,
    "start_time": "2022-03-09T22:14:37.011Z"
   },
   {
    "duration": 33,
    "start_time": "2022-03-09T22:14:37.019Z"
   },
   {
    "duration": 55,
    "start_time": "2022-03-09T22:14:37.053Z"
   },
   {
    "duration": 12,
    "start_time": "2022-03-09T22:14:37.109Z"
   },
   {
    "duration": 19,
    "start_time": "2022-03-09T22:14:37.122Z"
   },
   {
    "duration": 4,
    "start_time": "2022-03-09T22:14:44.161Z"
   },
   {
    "duration": 12,
    "start_time": "2022-03-09T22:14:53.802Z"
   },
   {
    "duration": 369,
    "start_time": "2022-03-09T22:16:15.888Z"
   },
   {
    "duration": 1013,
    "start_time": "2022-03-09T22:17:03.866Z"
   },
   {
    "duration": 450,
    "start_time": "2022-03-09T22:17:04.881Z"
   },
   {
    "duration": 19,
    "start_time": "2022-03-09T22:17:05.332Z"
   },
   {
    "duration": 10,
    "start_time": "2022-03-09T22:17:05.353Z"
   },
   {
    "duration": 16,
    "start_time": "2022-03-09T22:17:05.364Z"
   },
   {
    "duration": 7,
    "start_time": "2022-03-09T22:17:05.382Z"
   },
   {
    "duration": 13,
    "start_time": "2022-03-09T22:17:05.390Z"
   },
   {
    "duration": 6,
    "start_time": "2022-03-09T22:17:05.405Z"
   },
   {
    "duration": 6,
    "start_time": "2022-03-09T22:17:05.413Z"
   },
   {
    "duration": 8,
    "start_time": "2022-03-09T22:17:05.421Z"
   },
   {
    "duration": 6,
    "start_time": "2022-03-09T22:17:05.431Z"
   },
   {
    "duration": 13,
    "start_time": "2022-03-09T22:17:05.438Z"
   },
   {
    "duration": 6,
    "start_time": "2022-03-09T22:17:05.453Z"
   },
   {
    "duration": 51,
    "start_time": "2022-03-09T22:17:05.461Z"
   },
   {
    "duration": 58,
    "start_time": "2022-03-09T22:17:05.514Z"
   },
   {
    "duration": 11,
    "start_time": "2022-03-09T22:17:05.573Z"
   },
   {
    "duration": 27,
    "start_time": "2022-03-09T22:17:05.585Z"
   },
   {
    "duration": 4,
    "start_time": "2022-03-09T22:17:16.500Z"
   },
   {
    "duration": 19,
    "start_time": "2022-03-09T22:17:17.196Z"
   },
   {
    "duration": 18,
    "start_time": "2022-03-09T22:17:43.980Z"
   },
   {
    "duration": 12,
    "start_time": "2022-03-09T22:17:46.684Z"
   },
   {
    "duration": 363,
    "start_time": "2022-03-09T22:18:15.510Z"
   },
   {
    "duration": 301,
    "start_time": "2022-03-09T22:18:23.571Z"
   },
   {
    "duration": 968,
    "start_time": "2022-03-09T22:19:15.704Z"
   },
   {
    "duration": 371,
    "start_time": "2022-03-09T22:19:16.673Z"
   },
   {
    "duration": 19,
    "start_time": "2022-03-09T22:19:17.046Z"
   },
   {
    "duration": 9,
    "start_time": "2022-03-09T22:19:17.067Z"
   },
   {
    "duration": 18,
    "start_time": "2022-03-09T22:19:17.078Z"
   },
   {
    "duration": 7,
    "start_time": "2022-03-09T22:19:17.098Z"
   },
   {
    "duration": 14,
    "start_time": "2022-03-09T22:19:17.107Z"
   },
   {
    "duration": 8,
    "start_time": "2022-03-09T22:19:17.123Z"
   },
   {
    "duration": 7,
    "start_time": "2022-03-09T22:19:17.132Z"
   },
   {
    "duration": 8,
    "start_time": "2022-03-09T22:19:17.140Z"
   },
   {
    "duration": 6,
    "start_time": "2022-03-09T22:19:17.150Z"
   },
   {
    "duration": 11,
    "start_time": "2022-03-09T22:19:17.157Z"
   },
   {
    "duration": 8,
    "start_time": "2022-03-09T22:19:17.169Z"
   },
   {
    "duration": 44,
    "start_time": "2022-03-09T22:19:17.178Z"
   },
   {
    "duration": 56,
    "start_time": "2022-03-09T22:19:17.224Z"
   },
   {
    "duration": 15,
    "start_time": "2022-03-09T22:19:17.281Z"
   },
   {
    "duration": 23,
    "start_time": "2022-03-09T22:19:17.297Z"
   },
   {
    "duration": 3,
    "start_time": "2022-03-09T22:19:17.322Z"
   },
   {
    "duration": 19,
    "start_time": "2022-03-09T22:19:17.327Z"
   },
   {
    "duration": 19,
    "start_time": "2022-03-09T22:19:17.347Z"
   },
   {
    "duration": 16,
    "start_time": "2022-03-09T22:19:17.367Z"
   },
   {
    "duration": 389,
    "start_time": "2022-03-09T22:19:17.384Z"
   },
   {
    "duration": -160,
    "start_time": "2022-03-09T22:19:17.935Z"
   },
   {
    "duration": 1401,
    "start_time": "2022-03-10T19:24:27.379Z"
   },
   {
    "duration": 500,
    "start_time": "2022-03-10T19:24:28.783Z"
   },
   {
    "duration": 27,
    "start_time": "2022-03-10T19:24:29.286Z"
   },
   {
    "duration": 16,
    "start_time": "2022-03-10T19:24:29.316Z"
   },
   {
    "duration": 45,
    "start_time": "2022-03-10T19:24:29.334Z"
   },
   {
    "duration": 12,
    "start_time": "2022-03-10T19:24:29.382Z"
   },
   {
    "duration": 24,
    "start_time": "2022-03-10T19:24:29.396Z"
   },
   {
    "duration": 13,
    "start_time": "2022-03-10T19:24:29.423Z"
   },
   {
    "duration": 42,
    "start_time": "2022-03-10T19:24:29.439Z"
   },
   {
    "duration": 28,
    "start_time": "2022-03-10T19:24:29.484Z"
   },
   {
    "duration": 13,
    "start_time": "2022-03-10T19:24:29.515Z"
   },
   {
    "duration": 47,
    "start_time": "2022-03-10T19:24:29.531Z"
   },
   {
    "duration": 8,
    "start_time": "2022-03-10T19:24:29.581Z"
   },
   {
    "duration": 43,
    "start_time": "2022-03-10T19:24:29.592Z"
   },
   {
    "duration": 110,
    "start_time": "2022-03-10T19:24:29.637Z"
   },
   {
    "duration": 25,
    "start_time": "2022-03-10T19:24:29.750Z"
   },
   {
    "duration": 26,
    "start_time": "2022-03-10T19:24:29.778Z"
   },
   {
    "duration": 6,
    "start_time": "2022-03-10T19:24:29.806Z"
   },
   {
    "duration": 59,
    "start_time": "2022-03-10T19:24:29.814Z"
   },
   {
    "duration": 28,
    "start_time": "2022-03-10T19:24:29.876Z"
   },
   {
    "duration": 19,
    "start_time": "2022-03-10T19:24:29.906Z"
   },
   {
    "duration": 16,
    "start_time": "2022-03-10T19:24:29.927Z"
   },
   {
    "duration": 35,
    "start_time": "2022-03-10T19:24:29.977Z"
   },
   {
    "duration": 24,
    "start_time": "2022-03-10T19:45:29.343Z"
   },
   {
    "duration": 44,
    "start_time": "2022-03-10T19:45:30.207Z"
   },
   {
    "duration": 11,
    "start_time": "2022-03-10T19:46:29.430Z"
   },
   {
    "duration": 15,
    "start_time": "2022-03-10T19:46:34.454Z"
   },
   {
    "duration": 11,
    "start_time": "2022-03-10T19:54:11.128Z"
   },
   {
    "duration": 528,
    "start_time": "2022-03-10T19:55:01.624Z"
   },
   {
    "duration": 9,
    "start_time": "2022-03-10T19:56:27.502Z"
   },
   {
    "duration": 6745,
    "start_time": "2022-03-10T20:02:21.894Z"
   },
   {
    "duration": 8933,
    "start_time": "2022-03-10T20:03:07.507Z"
   },
   {
    "duration": 6,
    "start_time": "2022-03-10T20:03:32.732Z"
   },
   {
    "duration": 6,
    "start_time": "2022-03-10T20:04:02.651Z"
   },
   {
    "duration": 25,
    "start_time": "2022-03-10T20:05:13.554Z"
   },
   {
    "duration": 14,
    "start_time": "2022-03-10T20:05:27.138Z"
   },
   {
    "duration": 10,
    "start_time": "2022-03-10T20:06:11.433Z"
   },
   {
    "duration": 7,
    "start_time": "2022-03-10T20:06:34.610Z"
   },
   {
    "duration": 10,
    "start_time": "2022-03-10T20:06:52.914Z"
   },
   {
    "duration": 8,
    "start_time": "2022-03-10T20:07:04.913Z"
   },
   {
    "duration": 12,
    "start_time": "2022-03-10T20:07:12.041Z"
   },
   {
    "duration": 273,
    "start_time": "2022-03-10T20:52:34.136Z"
   },
   {
    "duration": 17,
    "start_time": "2022-03-10T20:52:43.617Z"
   },
   {
    "duration": 7138,
    "start_time": "2022-03-10T21:01:10.770Z"
   },
   {
    "duration": 302,
    "start_time": "2022-03-10T21:01:35.665Z"
   },
   {
    "duration": 39,
    "start_time": "2022-03-10T21:02:02.473Z"
   },
   {
    "duration": 27,
    "start_time": "2022-03-10T21:03:47.976Z"
   },
   {
    "duration": 20,
    "start_time": "2022-03-10T21:06:35.806Z"
   },
   {
    "duration": 17,
    "start_time": "2022-03-10T21:06:39.654Z"
   },
   {
    "duration": 7127,
    "start_time": "2022-03-10T21:07:51.692Z"
   },
   {
    "duration": 25,
    "start_time": "2022-03-10T21:08:16.061Z"
   },
   {
    "duration": 20,
    "start_time": "2022-03-10T21:08:21.772Z"
   },
   {
    "duration": 13,
    "start_time": "2022-03-10T21:08:58.324Z"
   },
   {
    "duration": 17,
    "start_time": "2022-03-10T21:09:04.925Z"
   },
   {
    "duration": 18,
    "start_time": "2022-03-10T21:09:13.829Z"
   },
   {
    "duration": 702,
    "start_time": "2022-03-10T21:20:26.906Z"
   },
   {
    "duration": 293,
    "start_time": "2022-03-10T21:20:41.762Z"
   },
   {
    "duration": 580,
    "start_time": "2022-03-10T21:21:01.586Z"
   },
   {
    "duration": 288,
    "start_time": "2022-03-10T21:21:15.738Z"
   },
   {
    "duration": 401,
    "start_time": "2022-03-10T21:21:44.019Z"
   },
   {
    "duration": 282,
    "start_time": "2022-03-10T21:40:26.837Z"
   },
   {
    "duration": 289,
    "start_time": "2022-03-10T21:40:52.038Z"
   },
   {
    "duration": 1425,
    "start_time": "2022-03-10T21:41:15.669Z"
   },
   {
    "duration": 672,
    "start_time": "2022-03-10T21:41:17.096Z"
   },
   {
    "duration": 49,
    "start_time": "2022-03-10T21:41:17.772Z"
   },
   {
    "duration": 25,
    "start_time": "2022-03-10T21:41:17.825Z"
   },
   {
    "duration": 39,
    "start_time": "2022-03-10T21:41:17.874Z"
   },
   {
    "duration": 18,
    "start_time": "2022-03-10T21:41:17.916Z"
   },
   {
    "duration": 57,
    "start_time": "2022-03-10T21:41:17.938Z"
   },
   {
    "duration": 11,
    "start_time": "2022-03-10T21:41:17.999Z"
   },
   {
    "duration": 10,
    "start_time": "2022-03-10T21:41:18.012Z"
   },
   {
    "duration": 19,
    "start_time": "2022-03-10T21:41:18.025Z"
   },
   {
    "duration": 10,
    "start_time": "2022-03-10T21:41:18.074Z"
   },
   {
    "duration": 30,
    "start_time": "2022-03-10T21:41:18.087Z"
   },
   {
    "duration": 19,
    "start_time": "2022-03-10T21:41:18.121Z"
   },
   {
    "duration": 66,
    "start_time": "2022-03-10T21:41:18.143Z"
   },
   {
    "duration": 112,
    "start_time": "2022-03-10T21:41:18.211Z"
   },
   {
    "duration": 14,
    "start_time": "2022-03-10T21:41:18.326Z"
   },
   {
    "duration": 47,
    "start_time": "2022-03-10T21:41:18.342Z"
   },
   {
    "duration": 6,
    "start_time": "2022-03-10T21:41:18.391Z"
   },
   {
    "duration": 30,
    "start_time": "2022-03-10T21:41:18.399Z"
   },
   {
    "duration": 60,
    "start_time": "2022-03-10T21:41:18.432Z"
   },
   {
    "duration": 24,
    "start_time": "2022-03-10T21:41:18.494Z"
   },
   {
    "duration": 13,
    "start_time": "2022-03-10T21:41:18.520Z"
   },
   {
    "duration": 42,
    "start_time": "2022-03-10T21:41:18.539Z"
   },
   {
    "duration": 25,
    "start_time": "2022-03-10T21:41:18.584Z"
   },
   {
    "duration": 64,
    "start_time": "2022-03-10T21:41:18.612Z"
   },
   {
    "duration": 11,
    "start_time": "2022-03-10T21:41:18.678Z"
   },
   {
    "duration": 17,
    "start_time": "2022-03-10T21:41:18.692Z"
   },
   {
    "duration": 12,
    "start_time": "2022-03-10T21:41:18.712Z"
   },
   {
    "duration": 52,
    "start_time": "2022-03-10T21:41:18.727Z"
   },
   {
    "duration": 10,
    "start_time": "2022-03-10T21:41:18.782Z"
   },
   {
    "duration": 8,
    "start_time": "2022-03-10T21:41:18.796Z"
   },
   {
    "duration": 39,
    "start_time": "2022-03-10T21:41:18.806Z"
   },
   {
    "duration": 9,
    "start_time": "2022-03-10T21:41:18.874Z"
   },
   {
    "duration": 12,
    "start_time": "2022-03-10T21:41:18.886Z"
   },
   {
    "duration": 34,
    "start_time": "2022-03-10T21:41:18.900Z"
   },
   {
    "duration": 38,
    "start_time": "2022-03-10T21:41:18.937Z"
   },
   {
    "duration": 26,
    "start_time": "2022-03-10T21:41:18.977Z"
   },
   {
    "duration": 11,
    "start_time": "2022-03-10T21:41:19.006Z"
   },
   {
    "duration": 54,
    "start_time": "2022-03-10T21:41:19.020Z"
   },
   {
    "duration": 12,
    "start_time": "2022-03-10T21:41:19.076Z"
   },
   {
    "duration": 407,
    "start_time": "2022-03-10T21:41:19.091Z"
   },
   {
    "duration": 34,
    "start_time": "2022-03-10T21:41:55.103Z"
   },
   {
    "duration": 15,
    "start_time": "2022-03-10T21:42:02.235Z"
   },
   {
    "duration": 559,
    "start_time": "2022-03-10T21:46:59.644Z"
   },
   {
    "duration": 18,
    "start_time": "2022-03-10T21:47:06.267Z"
   },
   {
    "duration": 20,
    "start_time": "2022-03-10T21:47:45.995Z"
   },
   {
    "duration": 21,
    "start_time": "2022-03-10T21:47:46.997Z"
   },
   {
    "duration": 272,
    "start_time": "2022-03-10T21:51:12.274Z"
   },
   {
    "duration": 4,
    "start_time": "2022-03-10T21:51:31.241Z"
   },
   {
    "duration": 14,
    "start_time": "2022-03-10T21:51:38.393Z"
   },
   {
    "duration": 4,
    "start_time": "2022-03-10T21:53:55.240Z"
   },
   {
    "duration": 14,
    "start_time": "2022-03-10T21:53:55.968Z"
   },
   {
    "duration": 1081,
    "start_time": "2022-03-11T17:49:10.445Z"
   },
   {
    "duration": 412,
    "start_time": "2022-03-11T17:49:11.528Z"
   },
   {
    "duration": 20,
    "start_time": "2022-03-11T17:49:11.943Z"
   },
   {
    "duration": 12,
    "start_time": "2022-03-11T17:49:11.965Z"
   },
   {
    "duration": 17,
    "start_time": "2022-03-11T17:49:11.979Z"
   },
   {
    "duration": 8,
    "start_time": "2022-03-11T17:49:11.998Z"
   },
   {
    "duration": 38,
    "start_time": "2022-03-11T17:49:12.008Z"
   },
   {
    "duration": 8,
    "start_time": "2022-03-11T17:49:12.048Z"
   },
   {
    "duration": 8,
    "start_time": "2022-03-11T17:49:12.058Z"
   },
   {
    "duration": 11,
    "start_time": "2022-03-11T17:49:12.068Z"
   },
   {
    "duration": 10,
    "start_time": "2022-03-11T17:49:12.081Z"
   },
   {
    "duration": 14,
    "start_time": "2022-03-11T17:49:12.093Z"
   },
   {
    "duration": 30,
    "start_time": "2022-03-11T17:49:12.109Z"
   },
   {
    "duration": 32,
    "start_time": "2022-03-11T17:49:12.141Z"
   },
   {
    "duration": 87,
    "start_time": "2022-03-11T17:49:12.175Z"
   },
   {
    "duration": 10,
    "start_time": "2022-03-11T17:49:12.264Z"
   },
   {
    "duration": 22,
    "start_time": "2022-03-11T17:49:12.276Z"
   },
   {
    "duration": 4,
    "start_time": "2022-03-11T17:49:12.300Z"
   },
   {
    "duration": 47,
    "start_time": "2022-03-11T17:49:12.306Z"
   },
   {
    "duration": 23,
    "start_time": "2022-03-11T17:49:12.355Z"
   },
   {
    "duration": 17,
    "start_time": "2022-03-11T17:49:12.380Z"
   },
   {
    "duration": 8,
    "start_time": "2022-03-11T17:49:12.399Z"
   },
   {
    "duration": 32,
    "start_time": "2022-03-11T17:49:12.411Z"
   },
   {
    "duration": 17,
    "start_time": "2022-03-11T17:49:12.445Z"
   },
   {
    "duration": 36,
    "start_time": "2022-03-11T17:49:12.464Z"
   },
   {
    "duration": 10,
    "start_time": "2022-03-11T17:49:12.501Z"
   },
   {
    "duration": 35,
    "start_time": "2022-03-11T17:49:12.513Z"
   },
   {
    "duration": 8,
    "start_time": "2022-03-11T17:49:12.550Z"
   },
   {
    "duration": 6,
    "start_time": "2022-03-11T17:49:12.560Z"
   },
   {
    "duration": 7,
    "start_time": "2022-03-11T17:49:12.567Z"
   },
   {
    "duration": 8,
    "start_time": "2022-03-11T17:49:12.576Z"
   },
   {
    "duration": 15,
    "start_time": "2022-03-11T17:49:12.585Z"
   },
   {
    "duration": 35,
    "start_time": "2022-03-11T17:49:12.602Z"
   },
   {
    "duration": 7,
    "start_time": "2022-03-11T17:49:12.639Z"
   },
   {
    "duration": 26,
    "start_time": "2022-03-11T17:49:12.648Z"
   },
   {
    "duration": 9,
    "start_time": "2022-03-11T17:49:12.676Z"
   },
   {
    "duration": 19,
    "start_time": "2022-03-11T17:49:12.686Z"
   },
   {
    "duration": 33,
    "start_time": "2022-03-11T17:49:12.706Z"
   },
   {
    "duration": 25,
    "start_time": "2022-03-11T17:49:12.741Z"
   },
   {
    "duration": 9,
    "start_time": "2022-03-11T17:49:12.767Z"
   },
   {
    "duration": 28,
    "start_time": "2022-03-11T17:49:12.778Z"
   },
   {
    "duration": 2,
    "start_time": "2022-03-11T17:49:12.808Z"
   },
   {
    "duration": 32,
    "start_time": "2022-03-11T17:49:12.812Z"
   },
   {
    "duration": 15,
    "start_time": "2022-03-11T17:49:12.846Z"
   },
   {
    "duration": 2,
    "start_time": "2022-03-11T17:49:12.863Z"
   },
   {
    "duration": 11,
    "start_time": "2022-03-11T17:49:12.867Z"
   },
   {
    "duration": 4,
    "start_time": "2022-03-11T17:49:12.880Z"
   },
   {
    "duration": 277,
    "start_time": "2022-03-11T17:49:18.560Z"
   },
   {
    "duration": 169,
    "start_time": "2022-03-11T17:49:40.401Z"
   },
   {
    "duration": 483,
    "start_time": "2022-03-11T17:50:59.623Z"
   },
   {
    "duration": 515,
    "start_time": "2022-03-11T17:52:05.742Z"
   },
   {
    "duration": 9,
    "start_time": "2022-03-11T17:52:51.271Z"
   },
   {
    "duration": 13,
    "start_time": "2022-03-11T17:52:57.413Z"
   },
   {
    "duration": 3,
    "start_time": "2022-03-11T17:57:00.935Z"
   },
   {
    "duration": 458,
    "start_time": "2022-03-11T17:57:00.940Z"
   },
   {
    "duration": 21,
    "start_time": "2022-03-11T17:57:01.400Z"
   },
   {
    "duration": 14,
    "start_time": "2022-03-11T17:57:01.423Z"
   },
   {
    "duration": 41,
    "start_time": "2022-03-11T17:57:01.439Z"
   },
   {
    "duration": 13,
    "start_time": "2022-03-11T17:57:01.482Z"
   },
   {
    "duration": 21,
    "start_time": "2022-03-11T17:57:01.498Z"
   },
   {
    "duration": 22,
    "start_time": "2022-03-11T17:57:01.522Z"
   },
   {
    "duration": 15,
    "start_time": "2022-03-11T17:57:01.546Z"
   },
   {
    "duration": 20,
    "start_time": "2022-03-11T17:57:01.563Z"
   },
   {
    "duration": 19,
    "start_time": "2022-03-11T17:57:01.585Z"
   },
   {
    "duration": 14,
    "start_time": "2022-03-11T17:57:01.606Z"
   },
   {
    "duration": 15,
    "start_time": "2022-03-11T17:57:01.622Z"
   },
   {
    "duration": 35,
    "start_time": "2022-03-11T17:57:01.639Z"
   },
   {
    "duration": 82,
    "start_time": "2022-03-11T17:57:01.676Z"
   },
   {
    "duration": 18,
    "start_time": "2022-03-11T17:57:01.759Z"
   },
   {
    "duration": 22,
    "start_time": "2022-03-11T17:57:01.779Z"
   },
   {
    "duration": 6,
    "start_time": "2022-03-11T17:57:01.803Z"
   },
   {
    "duration": 42,
    "start_time": "2022-03-11T17:57:01.812Z"
   },
   {
    "duration": 26,
    "start_time": "2022-03-11T17:57:01.857Z"
   },
   {
    "duration": 31,
    "start_time": "2022-03-11T17:57:01.885Z"
   },
   {
    "duration": 9,
    "start_time": "2022-03-11T17:57:01.918Z"
   },
   {
    "duration": 21,
    "start_time": "2022-03-11T17:57:01.929Z"
   },
   {
    "duration": 25,
    "start_time": "2022-03-11T17:57:01.952Z"
   },
   {
    "duration": 35,
    "start_time": "2022-03-11T17:57:01.979Z"
   },
   {
    "duration": 27,
    "start_time": "2022-03-11T17:57:02.016Z"
   },
   {
    "duration": 13,
    "start_time": "2022-03-11T17:57:02.045Z"
   },
   {
    "duration": 14,
    "start_time": "2022-03-11T17:57:02.060Z"
   },
   {
    "duration": 8,
    "start_time": "2022-03-11T17:57:02.076Z"
   },
   {
    "duration": 15,
    "start_time": "2022-03-11T17:57:02.086Z"
   },
   {
    "duration": 9,
    "start_time": "2022-03-11T17:57:02.103Z"
   },
   {
    "duration": 35,
    "start_time": "2022-03-11T17:57:02.114Z"
   },
   {
    "duration": 22,
    "start_time": "2022-03-11T17:57:02.150Z"
   },
   {
    "duration": 12,
    "start_time": "2022-03-11T17:57:02.174Z"
   },
   {
    "duration": 44,
    "start_time": "2022-03-11T17:57:02.187Z"
   },
   {
    "duration": 9,
    "start_time": "2022-03-11T17:57:02.233Z"
   },
   {
    "duration": 24,
    "start_time": "2022-03-11T17:57:02.244Z"
   },
   {
    "duration": 8,
    "start_time": "2022-03-11T17:57:02.270Z"
   },
   {
    "duration": 38,
    "start_time": "2022-03-11T17:57:02.280Z"
   },
   {
    "duration": 9,
    "start_time": "2022-03-11T17:57:02.320Z"
   },
   {
    "duration": 29,
    "start_time": "2022-03-11T17:57:02.331Z"
   },
   {
    "duration": 3,
    "start_time": "2022-03-11T17:57:02.362Z"
   },
   {
    "duration": 18,
    "start_time": "2022-03-11T17:57:02.367Z"
   },
   {
    "duration": 48,
    "start_time": "2022-03-11T17:57:02.387Z"
   },
   {
    "duration": 11,
    "start_time": "2022-03-11T17:57:02.437Z"
   },
   {
    "duration": 35,
    "start_time": "2022-03-11T17:57:02.450Z"
   },
   {
    "duration": 11,
    "start_time": "2022-03-11T17:57:02.487Z"
   },
   {
    "duration": 14,
    "start_time": "2022-03-11T17:57:02.500Z"
   },
   {
    "duration": 209,
    "start_time": "2022-03-11T17:57:28.755Z"
   },
   {
    "duration": 173,
    "start_time": "2022-03-11T17:58:19.186Z"
   },
   {
    "duration": 183,
    "start_time": "2022-03-11T17:58:59.442Z"
   },
   {
    "duration": 1065,
    "start_time": "2022-03-11T17:59:17.263Z"
   },
   {
    "duration": 378,
    "start_time": "2022-03-11T17:59:18.330Z"
   },
   {
    "duration": 21,
    "start_time": "2022-03-11T17:59:18.710Z"
   },
   {
    "duration": 11,
    "start_time": "2022-03-11T17:59:18.733Z"
   },
   {
    "duration": 22,
    "start_time": "2022-03-11T17:59:18.746Z"
   },
   {
    "duration": 9,
    "start_time": "2022-03-11T17:59:18.770Z"
   },
   {
    "duration": 31,
    "start_time": "2022-03-11T17:59:18.780Z"
   },
   {
    "duration": 8,
    "start_time": "2022-03-11T17:59:18.814Z"
   },
   {
    "duration": 11,
    "start_time": "2022-03-11T17:59:18.824Z"
   },
   {
    "duration": 14,
    "start_time": "2022-03-11T17:59:18.838Z"
   },
   {
    "duration": 9,
    "start_time": "2022-03-11T17:59:18.854Z"
   },
   {
    "duration": 18,
    "start_time": "2022-03-11T17:59:18.864Z"
   },
   {
    "duration": 18,
    "start_time": "2022-03-11T17:59:18.883Z"
   },
   {
    "duration": 36,
    "start_time": "2022-03-11T17:59:18.903Z"
   },
   {
    "duration": 76,
    "start_time": "2022-03-11T17:59:18.941Z"
   },
   {
    "duration": 17,
    "start_time": "2022-03-11T17:59:19.019Z"
   },
   {
    "duration": 28,
    "start_time": "2022-03-11T17:59:19.038Z"
   },
   {
    "duration": 4,
    "start_time": "2022-03-11T17:59:19.068Z"
   },
   {
    "duration": 32,
    "start_time": "2022-03-11T17:59:19.073Z"
   },
   {
    "duration": 21,
    "start_time": "2022-03-11T17:59:19.107Z"
   },
   {
    "duration": 44,
    "start_time": "2022-03-11T17:59:19.130Z"
   },
   {
    "duration": 8,
    "start_time": "2022-03-11T17:59:19.176Z"
   },
   {
    "duration": 17,
    "start_time": "2022-03-11T17:59:19.187Z"
   },
   {
    "duration": 16,
    "start_time": "2022-03-11T17:59:19.206Z"
   },
   {
    "duration": 33,
    "start_time": "2022-03-11T17:59:19.224Z"
   },
   {
    "duration": 14,
    "start_time": "2022-03-11T17:59:19.258Z"
   },
   {
    "duration": 34,
    "start_time": "2022-03-11T17:59:19.273Z"
   },
   {
    "duration": 13,
    "start_time": "2022-03-11T17:59:19.308Z"
   },
   {
    "duration": 8,
    "start_time": "2022-03-11T17:59:19.323Z"
   },
   {
    "duration": 10,
    "start_time": "2022-03-11T17:59:19.332Z"
   },
   {
    "duration": 11,
    "start_time": "2022-03-11T17:59:19.343Z"
   },
   {
    "duration": 28,
    "start_time": "2022-03-11T17:59:19.355Z"
   },
   {
    "duration": 11,
    "start_time": "2022-03-11T17:59:19.385Z"
   },
   {
    "duration": 9,
    "start_time": "2022-03-11T17:59:19.398Z"
   },
   {
    "duration": 34,
    "start_time": "2022-03-11T17:59:19.409Z"
   },
   {
    "duration": 8,
    "start_time": "2022-03-11T17:59:19.445Z"
   },
   {
    "duration": 21,
    "start_time": "2022-03-11T17:59:19.455Z"
   },
   {
    "duration": 9,
    "start_time": "2022-03-11T17:59:19.477Z"
   },
   {
    "duration": 19,
    "start_time": "2022-03-11T17:59:19.487Z"
   },
   {
    "duration": 30,
    "start_time": "2022-03-11T17:59:19.508Z"
   },
   {
    "duration": 26,
    "start_time": "2022-03-11T17:59:19.539Z"
   },
   {
    "duration": 2,
    "start_time": "2022-03-11T17:59:19.567Z"
   },
   {
    "duration": 12,
    "start_time": "2022-03-11T17:59:19.571Z"
   },
   {
    "duration": 21,
    "start_time": "2022-03-11T17:59:19.585Z"
   },
   {
    "duration": 2,
    "start_time": "2022-03-11T17:59:19.608Z"
   },
   {
    "duration": 28,
    "start_time": "2022-03-11T17:59:19.612Z"
   },
   {
    "duration": 6,
    "start_time": "2022-03-11T17:59:19.642Z"
   },
   {
    "duration": 5,
    "start_time": "2022-03-11T17:59:19.649Z"
   },
   {
    "duration": 258,
    "start_time": "2022-03-11T17:59:19.655Z"
   },
   {
    "duration": 10,
    "start_time": "2022-03-11T18:01:57.854Z"
   },
   {
    "duration": 9,
    "start_time": "2022-03-11T18:02:02.598Z"
   },
   {
    "duration": 14,
    "start_time": "2022-03-11T18:02:39.118Z"
   },
   {
    "duration": 11,
    "start_time": "2022-03-11T18:02:39.719Z"
   },
   {
    "duration": 11,
    "start_time": "2022-03-11T18:02:55.191Z"
   },
   {
    "duration": 9,
    "start_time": "2022-03-11T18:02:55.934Z"
   },
   {
    "duration": 19,
    "start_time": "2022-03-11T18:10:04.395Z"
   },
   {
    "duration": 9,
    "start_time": "2022-03-11T18:12:51.249Z"
   },
   {
    "duration": 61,
    "start_time": "2022-03-11T18:13:21.679Z"
   },
   {
    "duration": 172,
    "start_time": "2022-03-11T18:13:33.928Z"
   },
   {
    "duration": 169,
    "start_time": "2022-03-11T18:14:04.575Z"
   },
   {
    "duration": 175,
    "start_time": "2022-03-11T18:14:37.119Z"
   },
   {
    "duration": 3,
    "start_time": "2022-03-11T18:21:44.803Z"
   },
   {
    "duration": 54,
    "start_time": "2022-03-11T18:21:45.738Z"
   },
   {
    "duration": 187,
    "start_time": "2022-03-11T18:21:49.684Z"
   },
   {
    "duration": 181,
    "start_time": "2022-03-11T18:22:06.651Z"
   },
   {
    "duration": 11,
    "start_time": "2022-03-11T18:22:15.803Z"
   },
   {
    "duration": 175,
    "start_time": "2022-03-11T18:27:10.736Z"
   },
   {
    "duration": 13,
    "start_time": "2022-03-11T18:28:50.959Z"
   },
   {
    "duration": 4,
    "start_time": "2022-03-11T18:29:11.926Z"
   },
   {
    "duration": 11,
    "start_time": "2022-03-11T18:29:13.263Z"
   },
   {
    "duration": 7,
    "start_time": "2022-03-11T18:35:24.179Z"
   },
   {
    "duration": 11,
    "start_time": "2022-03-11T18:35:28.899Z"
   },
   {
    "duration": 10,
    "start_time": "2022-03-11T18:36:10.386Z"
   },
   {
    "duration": 11,
    "start_time": "2022-03-11T18:36:11.187Z"
   },
   {
    "duration": 187,
    "start_time": "2022-03-11T19:28:21.855Z"
   },
   {
    "duration": 22,
    "start_time": "2022-03-11T19:28:33.750Z"
   },
   {
    "duration": 23,
    "start_time": "2022-03-11T19:29:02.870Z"
   },
   {
    "duration": 9,
    "start_time": "2022-03-11T19:29:03.798Z"
   },
   {
    "duration": 22,
    "start_time": "2022-03-11T19:29:23.230Z"
   },
   {
    "duration": 9,
    "start_time": "2022-03-11T19:29:24.654Z"
   },
   {
    "duration": 23,
    "start_time": "2022-03-11T19:29:38.133Z"
   },
   {
    "duration": 9,
    "start_time": "2022-03-11T19:29:39.854Z"
   },
   {
    "duration": 15,
    "start_time": "2022-03-11T19:29:55.287Z"
   },
   {
    "duration": 8,
    "start_time": "2022-03-11T19:29:55.998Z"
   },
   {
    "duration": 18,
    "start_time": "2022-03-11T19:30:11.078Z"
   },
   {
    "duration": 8,
    "start_time": "2022-03-11T19:30:13.070Z"
   },
   {
    "duration": 1099,
    "start_time": "2022-03-11T19:37:54.431Z"
   },
   {
    "duration": 361,
    "start_time": "2022-03-11T19:37:55.533Z"
   },
   {
    "duration": 22,
    "start_time": "2022-03-11T19:37:55.897Z"
   },
   {
    "duration": 11,
    "start_time": "2022-03-11T19:37:55.921Z"
   },
   {
    "duration": 16,
    "start_time": "2022-03-11T19:37:55.934Z"
   },
   {
    "duration": 9,
    "start_time": "2022-03-11T19:37:55.952Z"
   },
   {
    "duration": 15,
    "start_time": "2022-03-11T19:37:55.962Z"
   },
   {
    "duration": 7,
    "start_time": "2022-03-11T19:37:55.979Z"
   },
   {
    "duration": 8,
    "start_time": "2022-03-11T19:37:55.988Z"
   },
   {
    "duration": 11,
    "start_time": "2022-03-11T19:37:55.997Z"
   },
   {
    "duration": 32,
    "start_time": "2022-03-11T19:37:56.009Z"
   },
   {
    "duration": 11,
    "start_time": "2022-03-11T19:37:56.043Z"
   },
   {
    "duration": 10,
    "start_time": "2022-03-11T19:37:56.056Z"
   },
   {
    "duration": 32,
    "start_time": "2022-03-11T19:37:56.068Z"
   },
   {
    "duration": 94,
    "start_time": "2022-03-11T19:37:56.102Z"
   },
   {
    "duration": 10,
    "start_time": "2022-03-11T19:37:56.198Z"
   },
   {
    "duration": 35,
    "start_time": "2022-03-11T19:37:56.209Z"
   },
   {
    "duration": 6,
    "start_time": "2022-03-11T19:38:01.250Z"
   },
   {
    "duration": 5,
    "start_time": "2022-03-11T19:38:34.858Z"
   },
   {
    "duration": 21,
    "start_time": "2022-03-11T19:38:36.946Z"
   },
   {
    "duration": 22,
    "start_time": "2022-03-11T19:38:37.603Z"
   },
   {
    "duration": 15,
    "start_time": "2022-03-11T19:38:39.610Z"
   },
   {
    "duration": 9,
    "start_time": "2022-03-11T19:38:41.106Z"
   },
   {
    "duration": 3,
    "start_time": "2022-03-11T19:39:59.847Z"
   },
   {
    "duration": 436,
    "start_time": "2022-03-11T19:39:59.852Z"
   },
   {
    "duration": 21,
    "start_time": "2022-03-11T19:40:00.290Z"
   },
   {
    "duration": 17,
    "start_time": "2022-03-11T19:40:00.313Z"
   },
   {
    "duration": 21,
    "start_time": "2022-03-11T19:40:00.332Z"
   },
   {
    "duration": 9,
    "start_time": "2022-03-11T19:40:00.355Z"
   },
   {
    "duration": 25,
    "start_time": "2022-03-11T19:40:00.367Z"
   },
   {
    "duration": 24,
    "start_time": "2022-03-11T19:40:00.394Z"
   },
   {
    "duration": 11,
    "start_time": "2022-03-11T19:40:00.419Z"
   },
   {
    "duration": 13,
    "start_time": "2022-03-11T19:40:00.431Z"
   },
   {
    "duration": 18,
    "start_time": "2022-03-11T19:40:00.445Z"
   },
   {
    "duration": 14,
    "start_time": "2022-03-11T19:40:00.465Z"
   },
   {
    "duration": 21,
    "start_time": "2022-03-11T19:40:00.481Z"
   },
   {
    "duration": 44,
    "start_time": "2022-03-11T19:40:00.504Z"
   },
   {
    "duration": 75,
    "start_time": "2022-03-11T19:40:00.550Z"
   },
   {
    "duration": 13,
    "start_time": "2022-03-11T19:40:00.627Z"
   },
   {
    "duration": 25,
    "start_time": "2022-03-11T19:40:00.642Z"
   },
   {
    "duration": 4,
    "start_time": "2022-03-11T19:40:00.669Z"
   },
   {
    "duration": 7,
    "start_time": "2022-03-11T19:40:00.676Z"
   },
   {
    "duration": 25,
    "start_time": "2022-03-11T19:40:00.685Z"
   },
   {
    "duration": 47,
    "start_time": "2022-03-11T19:40:00.711Z"
   },
   {
    "duration": 18,
    "start_time": "2022-03-11T19:40:00.760Z"
   },
   {
    "duration": 12,
    "start_time": "2022-03-11T19:40:00.779Z"
   },
   {
    "duration": 15,
    "start_time": "2022-03-11T19:40:00.792Z"
   },
   {
    "duration": 39,
    "start_time": "2022-03-11T19:40:00.809Z"
   },
   {
    "duration": 38,
    "start_time": "2022-03-11T19:40:00.850Z"
   },
   {
    "duration": 13,
    "start_time": "2022-03-11T19:40:00.890Z"
   },
   {
    "duration": 30,
    "start_time": "2022-03-11T19:40:00.905Z"
   },
   {
    "duration": 18,
    "start_time": "2022-03-11T19:40:00.937Z"
   },
   {
    "duration": 25,
    "start_time": "2022-03-11T19:40:00.956Z"
   },
   {
    "duration": 19,
    "start_time": "2022-03-11T19:40:00.983Z"
   },
   {
    "duration": 29,
    "start_time": "2022-03-11T19:40:01.004Z"
   },
   {
    "duration": 31,
    "start_time": "2022-03-11T19:40:01.035Z"
   },
   {
    "duration": 18,
    "start_time": "2022-03-11T19:40:01.068Z"
   },
   {
    "duration": 9,
    "start_time": "2022-03-11T19:40:01.088Z"
   },
   {
    "duration": 35,
    "start_time": "2022-03-11T19:40:01.099Z"
   },
   {
    "duration": 13,
    "start_time": "2022-03-11T19:40:01.136Z"
   },
   {
    "duration": 37,
    "start_time": "2022-03-11T19:40:01.151Z"
   },
   {
    "duration": 8,
    "start_time": "2022-03-11T19:40:01.190Z"
   },
   {
    "duration": 38,
    "start_time": "2022-03-11T19:40:01.200Z"
   },
   {
    "duration": 8,
    "start_time": "2022-03-11T19:40:01.240Z"
   },
   {
    "duration": 31,
    "start_time": "2022-03-11T19:40:01.250Z"
   },
   {
    "duration": 3,
    "start_time": "2022-03-11T19:40:01.283Z"
   },
   {
    "duration": 44,
    "start_time": "2022-03-11T19:40:01.288Z"
   },
   {
    "duration": 30,
    "start_time": "2022-03-11T19:40:01.334Z"
   },
   {
    "duration": 3,
    "start_time": "2022-03-11T19:40:01.366Z"
   },
   {
    "duration": 17,
    "start_time": "2022-03-11T19:40:01.371Z"
   },
   {
    "duration": 30,
    "start_time": "2022-03-11T19:40:01.390Z"
   },
   {
    "duration": 3,
    "start_time": "2022-03-11T19:40:01.422Z"
   },
   {
    "duration": 27,
    "start_time": "2022-03-11T19:40:01.427Z"
   },
   {
    "duration": 16,
    "start_time": "2022-03-11T19:40:01.456Z"
   },
   {
    "duration": 12,
    "start_time": "2022-03-11T19:40:01.474Z"
   },
   {
    "duration": 809,
    "start_time": "2022-03-11T19:42:30.040Z"
   },
   {
    "duration": 1031,
    "start_time": "2022-03-11T19:42:58.191Z"
   },
   {
    "duration": 372,
    "start_time": "2022-03-11T19:42:59.224Z"
   },
   {
    "duration": 20,
    "start_time": "2022-03-11T19:42:59.598Z"
   },
   {
    "duration": 12,
    "start_time": "2022-03-11T19:42:59.620Z"
   },
   {
    "duration": 31,
    "start_time": "2022-03-11T19:42:59.633Z"
   },
   {
    "duration": 9,
    "start_time": "2022-03-11T19:42:59.666Z"
   },
   {
    "duration": 17,
    "start_time": "2022-03-11T19:42:59.677Z"
   },
   {
    "duration": 6,
    "start_time": "2022-03-11T19:42:59.697Z"
   },
   {
    "duration": 7,
    "start_time": "2022-03-11T19:42:59.705Z"
   },
   {
    "duration": 26,
    "start_time": "2022-03-11T19:42:59.714Z"
   },
   {
    "duration": 11,
    "start_time": "2022-03-11T19:42:59.743Z"
   },
   {
    "duration": 18,
    "start_time": "2022-03-11T19:42:59.756Z"
   },
   {
    "duration": 7,
    "start_time": "2022-03-11T19:42:59.776Z"
   },
   {
    "duration": 58,
    "start_time": "2022-03-11T19:42:59.785Z"
   },
   {
    "duration": 94,
    "start_time": "2022-03-11T19:42:59.845Z"
   },
   {
    "duration": 9,
    "start_time": "2022-03-11T19:42:59.941Z"
   },
   {
    "duration": 23,
    "start_time": "2022-03-11T19:42:59.952Z"
   },
   {
    "duration": 5,
    "start_time": "2022-03-11T19:42:59.977Z"
   },
   {
    "duration": 9,
    "start_time": "2022-03-11T19:42:59.984Z"
   },
   {
    "duration": 28,
    "start_time": "2022-03-11T19:43:02.129Z"
   },
   {
    "duration": 24,
    "start_time": "2022-03-11T19:43:03.674Z"
   },
   {
    "duration": 15,
    "start_time": "2022-03-11T19:43:04.937Z"
   },
   {
    "duration": 9,
    "start_time": "2022-03-11T19:43:06.194Z"
   },
   {
    "duration": 3,
    "start_time": "2022-03-11T19:43:08.906Z"
   },
   {
    "duration": 12,
    "start_time": "2022-03-11T19:43:10.249Z"
   },
   {
    "duration": 3,
    "start_time": "2022-03-11T19:43:56.036Z"
   },
   {
    "duration": 418,
    "start_time": "2022-03-11T19:43:56.042Z"
   },
   {
    "duration": 20,
    "start_time": "2022-03-11T19:43:56.462Z"
   },
   {
    "duration": 8,
    "start_time": "2022-03-11T19:43:56.484Z"
   },
   {
    "duration": 22,
    "start_time": "2022-03-11T19:43:56.494Z"
   },
   {
    "duration": 8,
    "start_time": "2022-03-11T19:43:56.518Z"
   },
   {
    "duration": 21,
    "start_time": "2022-03-11T19:43:56.529Z"
   },
   {
    "duration": 7,
    "start_time": "2022-03-11T19:43:56.553Z"
   },
   {
    "duration": 10,
    "start_time": "2022-03-11T19:43:56.562Z"
   },
   {
    "duration": 11,
    "start_time": "2022-03-11T19:43:56.573Z"
   },
   {
    "duration": 8,
    "start_time": "2022-03-11T19:43:56.586Z"
   },
   {
    "duration": 19,
    "start_time": "2022-03-11T19:43:56.595Z"
   },
   {
    "duration": 26,
    "start_time": "2022-03-11T19:43:56.616Z"
   },
   {
    "duration": 35,
    "start_time": "2022-03-11T19:43:56.644Z"
   },
   {
    "duration": 93,
    "start_time": "2022-03-11T19:43:56.681Z"
   },
   {
    "duration": 10,
    "start_time": "2022-03-11T19:43:56.776Z"
   },
   {
    "duration": 22,
    "start_time": "2022-03-11T19:43:56.788Z"
   },
   {
    "duration": 3,
    "start_time": "2022-03-11T19:43:56.812Z"
   },
   {
    "duration": 4,
    "start_time": "2022-03-11T19:43:56.840Z"
   },
   {
    "duration": 22,
    "start_time": "2022-03-11T19:43:56.847Z"
   },
   {
    "duration": 24,
    "start_time": "2022-03-11T19:43:56.870Z"
   },
   {
    "duration": 15,
    "start_time": "2022-03-11T19:43:56.896Z"
   },
   {
    "duration": 10,
    "start_time": "2022-03-11T19:43:56.937Z"
   },
   {
    "duration": 13,
    "start_time": "2022-03-11T19:43:56.950Z"
   },
   {
    "duration": 25,
    "start_time": "2022-03-11T19:43:56.965Z"
   },
   {
    "duration": 22,
    "start_time": "2022-03-11T19:43:56.992Z"
   },
   {
    "duration": 51,
    "start_time": "2022-03-11T19:43:57.016Z"
   },
   {
    "duration": 12,
    "start_time": "2022-03-11T19:43:57.069Z"
   },
   {
    "duration": 28,
    "start_time": "2022-03-11T19:43:57.083Z"
   },
   {
    "duration": 9,
    "start_time": "2022-03-11T19:43:57.113Z"
   },
   {
    "duration": 15,
    "start_time": "2022-03-11T19:43:57.124Z"
   },
   {
    "duration": 7,
    "start_time": "2022-03-11T19:43:57.141Z"
   },
   {
    "duration": 8,
    "start_time": "2022-03-11T19:43:57.149Z"
   },
   {
    "duration": 16,
    "start_time": "2022-03-11T19:43:57.158Z"
   },
   {
    "duration": 8,
    "start_time": "2022-03-11T19:43:57.176Z"
   },
   {
    "duration": 8,
    "start_time": "2022-03-11T19:43:57.186Z"
   },
   {
    "duration": 56,
    "start_time": "2022-03-11T19:43:57.196Z"
   },
   {
    "duration": 10,
    "start_time": "2022-03-11T19:43:57.254Z"
   },
   {
    "duration": 20,
    "start_time": "2022-03-11T19:43:57.266Z"
   },
   {
    "duration": 10,
    "start_time": "2022-03-11T19:43:57.288Z"
   },
   {
    "duration": 43,
    "start_time": "2022-03-11T19:43:57.299Z"
   },
   {
    "duration": 10,
    "start_time": "2022-03-11T19:43:57.344Z"
   },
   {
    "duration": 33,
    "start_time": "2022-03-11T19:43:57.356Z"
   },
   {
    "duration": 3,
    "start_time": "2022-03-11T19:43:57.391Z"
   },
   {
    "duration": 12,
    "start_time": "2022-03-11T19:43:57.396Z"
   },
   {
    "duration": 49,
    "start_time": "2022-03-11T19:43:57.410Z"
   },
   {
    "duration": 3,
    "start_time": "2022-03-11T19:43:57.461Z"
   },
   {
    "duration": 15,
    "start_time": "2022-03-11T19:43:57.466Z"
   },
   {
    "duration": 21,
    "start_time": "2022-03-11T19:43:57.483Z"
   },
   {
    "duration": 3,
    "start_time": "2022-03-11T19:43:57.506Z"
   },
   {
    "duration": 33,
    "start_time": "2022-03-11T19:43:57.512Z"
   },
   {
    "duration": 15,
    "start_time": "2022-03-11T19:43:57.547Z"
   },
   {
    "duration": 11,
    "start_time": "2022-03-11T19:43:57.563Z"
   },
   {
    "duration": 16,
    "start_time": "2022-03-11T19:48:57.709Z"
   },
   {
    "duration": 18,
    "start_time": "2022-03-11T19:48:58.910Z"
   },
   {
    "duration": 16,
    "start_time": "2022-03-11T19:56:38.290Z"
   },
   {
    "duration": 7,
    "start_time": "2022-03-11T19:56:44.973Z"
   },
   {
    "duration": 5,
    "start_time": "2022-03-11T19:58:18.114Z"
   },
   {
    "duration": 6,
    "start_time": "2022-03-11T19:58:26.177Z"
   },
   {
    "duration": 8,
    "start_time": "2022-03-11T20:06:01.542Z"
   },
   {
    "duration": 1101,
    "start_time": "2022-03-11T20:20:14.045Z"
   },
   {
    "duration": 373,
    "start_time": "2022-03-11T20:20:15.149Z"
   },
   {
    "duration": 22,
    "start_time": "2022-03-11T20:20:15.525Z"
   },
   {
    "duration": 12,
    "start_time": "2022-03-11T20:20:15.550Z"
   },
   {
    "duration": 17,
    "start_time": "2022-03-11T20:20:15.564Z"
   },
   {
    "duration": 8,
    "start_time": "2022-03-11T20:20:15.582Z"
   },
   {
    "duration": 16,
    "start_time": "2022-03-11T20:20:15.592Z"
   },
   {
    "duration": 7,
    "start_time": "2022-03-11T20:20:15.639Z"
   },
   {
    "duration": 8,
    "start_time": "2022-03-11T20:20:15.648Z"
   },
   {
    "duration": 12,
    "start_time": "2022-03-11T20:20:15.658Z"
   },
   {
    "duration": 10,
    "start_time": "2022-03-11T20:20:15.671Z"
   },
   {
    "duration": 13,
    "start_time": "2022-03-11T20:20:15.682Z"
   },
   {
    "duration": 7,
    "start_time": "2022-03-11T20:20:15.697Z"
   },
   {
    "duration": 57,
    "start_time": "2022-03-11T20:20:15.706Z"
   },
   {
    "duration": 84,
    "start_time": "2022-03-11T20:20:15.765Z"
   },
   {
    "duration": 9,
    "start_time": "2022-03-11T20:20:15.851Z"
   },
   {
    "duration": 21,
    "start_time": "2022-03-11T20:20:15.862Z"
   },
   {
    "duration": 5,
    "start_time": "2022-03-11T20:20:15.885Z"
   },
   {
    "duration": 13,
    "start_time": "2022-03-11T20:20:15.892Z"
   },
   {
    "duration": 42,
    "start_time": "2022-03-11T20:20:15.907Z"
   },
   {
    "duration": 23,
    "start_time": "2022-03-11T20:20:15.951Z"
   },
   {
    "duration": 23,
    "start_time": "2022-03-11T20:20:15.975Z"
   },
   {
    "duration": 8,
    "start_time": "2022-03-11T20:20:16.001Z"
   },
   {
    "duration": 7,
    "start_time": "2022-03-11T20:20:16.011Z"
   },
   {
    "duration": 32,
    "start_time": "2022-03-11T20:20:16.020Z"
   },
   {
    "duration": 18,
    "start_time": "2022-03-11T20:20:16.053Z"
   },
   {
    "duration": 35,
    "start_time": "2022-03-11T20:20:16.073Z"
   },
   {
    "duration": 9,
    "start_time": "2022-03-11T20:20:16.109Z"
   },
   {
    "duration": 25,
    "start_time": "2022-03-11T20:20:16.120Z"
   },
   {
    "duration": 10,
    "start_time": "2022-03-11T20:20:16.147Z"
   },
   {
    "duration": 9,
    "start_time": "2022-03-11T20:20:16.159Z"
   },
   {
    "duration": 4,
    "start_time": "2022-03-11T20:22:24.126Z"
   },
   {
    "duration": 4389,
    "start_time": "2022-03-11T20:22:24.951Z"
   },
   {
    "duration": 890,
    "start_time": "2022-03-11T20:22:28.452Z"
   },
   {
    "duration": 172,
    "start_time": "2022-03-11T20:22:51.007Z"
   },
   {
    "duration": 182,
    "start_time": "2022-03-11T20:23:17.104Z"
   },
   {
    "duration": 1067,
    "start_time": "2022-03-11T20:23:30.246Z"
   },
   {
    "duration": 377,
    "start_time": "2022-03-11T20:23:31.315Z"
   },
   {
    "duration": 22,
    "start_time": "2022-03-11T20:23:31.694Z"
   },
   {
    "duration": 11,
    "start_time": "2022-03-11T20:23:31.718Z"
   },
   {
    "duration": 20,
    "start_time": "2022-03-11T20:23:31.730Z"
   },
   {
    "duration": 8,
    "start_time": "2022-03-11T20:23:31.752Z"
   },
   {
    "duration": 21,
    "start_time": "2022-03-11T20:23:31.762Z"
   },
   {
    "duration": 10,
    "start_time": "2022-03-11T20:23:31.785Z"
   },
   {
    "duration": 11,
    "start_time": "2022-03-11T20:23:31.797Z"
   },
   {
    "duration": 11,
    "start_time": "2022-03-11T20:23:31.809Z"
   },
   {
    "duration": 18,
    "start_time": "2022-03-11T20:23:31.821Z"
   },
   {
    "duration": 15,
    "start_time": "2022-03-11T20:23:31.840Z"
   },
   {
    "duration": 8,
    "start_time": "2022-03-11T20:23:31.856Z"
   },
   {
    "duration": 36,
    "start_time": "2022-03-11T20:23:31.866Z"
   },
   {
    "duration": 89,
    "start_time": "2022-03-11T20:23:31.904Z"
   },
   {
    "duration": 15,
    "start_time": "2022-03-11T20:23:31.995Z"
   },
   {
    "duration": 30,
    "start_time": "2022-03-11T20:23:32.012Z"
   },
   {
    "duration": 5,
    "start_time": "2022-03-11T20:23:32.044Z"
   },
   {
    "duration": 10,
    "start_time": "2022-03-11T20:23:32.050Z"
   },
   {
    "duration": 27,
    "start_time": "2022-03-11T20:23:32.062Z"
   },
   {
    "duration": 22,
    "start_time": "2022-03-11T20:23:32.090Z"
   },
   {
    "duration": 32,
    "start_time": "2022-03-11T20:23:32.114Z"
   },
   {
    "duration": 8,
    "start_time": "2022-03-11T20:23:32.149Z"
   },
   {
    "duration": 8,
    "start_time": "2022-03-11T20:23:32.159Z"
   },
   {
    "duration": 16,
    "start_time": "2022-03-11T20:23:32.168Z"
   },
   {
    "duration": 23,
    "start_time": "2022-03-11T20:23:32.185Z"
   },
   {
    "duration": 43,
    "start_time": "2022-03-11T20:23:32.210Z"
   },
   {
    "duration": 27,
    "start_time": "2022-03-11T20:23:32.254Z"
   },
   {
    "duration": 19,
    "start_time": "2022-03-11T20:23:32.283Z"
   },
   {
    "duration": 19,
    "start_time": "2022-03-11T20:23:32.304Z"
   },
   {
    "duration": 6,
    "start_time": "2022-03-11T20:23:35.032Z"
   },
   {
    "duration": 4,
    "start_time": "2022-03-11T20:23:37.912Z"
   },
   {
    "duration": 241,
    "start_time": "2022-03-11T20:23:40.345Z"
   },
   {
    "duration": 182,
    "start_time": "2022-03-11T20:24:25.633Z"
   },
   {
    "duration": 4,
    "start_time": "2022-03-11T20:24:50.808Z"
   },
   {
    "duration": 4,
    "start_time": "2022-03-11T20:24:52.731Z"
   },
   {
    "duration": 8,
    "start_time": "2022-03-11T20:25:04.016Z"
   },
   {
    "duration": 3,
    "start_time": "2022-03-11T20:27:16.502Z"
   },
   {
    "duration": 410,
    "start_time": "2022-03-11T20:27:16.507Z"
   },
   {
    "duration": 20,
    "start_time": "2022-03-11T20:27:16.919Z"
   },
   {
    "duration": 8,
    "start_time": "2022-03-11T20:27:16.941Z"
   },
   {
    "duration": 18,
    "start_time": "2022-03-11T20:27:16.950Z"
   },
   {
    "duration": 9,
    "start_time": "2022-03-11T20:27:16.970Z"
   },
   {
    "duration": 18,
    "start_time": "2022-03-11T20:27:16.981Z"
   },
   {
    "duration": 10,
    "start_time": "2022-03-11T20:27:17.001Z"
   },
   {
    "duration": 27,
    "start_time": "2022-03-11T20:27:17.012Z"
   },
   {
    "duration": 14,
    "start_time": "2022-03-11T20:27:17.040Z"
   },
   {
    "duration": 7,
    "start_time": "2022-03-11T20:27:17.056Z"
   },
   {
    "duration": 11,
    "start_time": "2022-03-11T20:27:17.065Z"
   },
   {
    "duration": 8,
    "start_time": "2022-03-11T20:27:17.078Z"
   },
   {
    "duration": 29,
    "start_time": "2022-03-11T20:27:17.088Z"
   },
   {
    "duration": 85,
    "start_time": "2022-03-11T20:27:17.139Z"
   },
   {
    "duration": 19,
    "start_time": "2022-03-11T20:27:17.225Z"
   },
   {
    "duration": 22,
    "start_time": "2022-03-11T20:27:17.246Z"
   },
   {
    "duration": 4,
    "start_time": "2022-03-11T20:27:17.269Z"
   },
   {
    "duration": 6,
    "start_time": "2022-03-11T20:27:17.277Z"
   },
   {
    "duration": 21,
    "start_time": "2022-03-11T20:27:17.286Z"
   },
   {
    "duration": 49,
    "start_time": "2022-03-11T20:27:17.308Z"
   },
   {
    "duration": 14,
    "start_time": "2022-03-11T20:27:17.359Z"
   },
   {
    "duration": 9,
    "start_time": "2022-03-11T20:27:17.375Z"
   },
   {
    "duration": 4,
    "start_time": "2022-03-11T20:27:17.386Z"
   },
   {
    "duration": 13,
    "start_time": "2022-03-11T20:27:17.392Z"
   },
   {
    "duration": 47,
    "start_time": "2022-03-11T20:27:17.407Z"
   },
   {
    "duration": 36,
    "start_time": "2022-03-11T20:27:17.455Z"
   },
   {
    "duration": 12,
    "start_time": "2022-03-11T20:27:17.492Z"
   },
   {
    "duration": 13,
    "start_time": "2022-03-11T20:27:17.505Z"
   },
   {
    "duration": 8,
    "start_time": "2022-03-11T20:27:17.539Z"
   },
   {
    "duration": 6,
    "start_time": "2022-03-11T20:27:17.549Z"
   },
   {
    "duration": 5,
    "start_time": "2022-03-11T20:27:17.557Z"
   },
   {
    "duration": 6,
    "start_time": "2022-03-11T20:27:17.564Z"
   },
   {
    "duration": 5,
    "start_time": "2022-03-11T20:27:17.572Z"
   },
   {
    "duration": 12,
    "start_time": "2022-03-11T20:27:17.579Z"
   },
   {
    "duration": 10,
    "start_time": "2022-03-11T20:27:17.593Z"
   },
   {
    "duration": 34,
    "start_time": "2022-03-11T20:27:17.604Z"
   },
   {
    "duration": 15,
    "start_time": "2022-03-11T20:27:17.640Z"
   },
   {
    "duration": 8,
    "start_time": "2022-03-11T20:27:17.657Z"
   },
   {
    "duration": 9,
    "start_time": "2022-03-11T20:27:17.667Z"
   },
   {
    "duration": 25,
    "start_time": "2022-03-11T20:27:17.677Z"
   },
   {
    "duration": 9,
    "start_time": "2022-03-11T20:27:17.704Z"
   },
   {
    "duration": 38,
    "start_time": "2022-03-11T20:27:17.714Z"
   },
   {
    "duration": 9,
    "start_time": "2022-03-11T20:27:17.753Z"
   },
   {
    "duration": 21,
    "start_time": "2022-03-11T20:27:17.763Z"
   },
   {
    "duration": 9,
    "start_time": "2022-03-11T20:27:17.785Z"
   },
   {
    "duration": 54,
    "start_time": "2022-03-11T20:27:17.795Z"
   },
   {
    "duration": 3,
    "start_time": "2022-03-11T20:27:17.851Z"
   },
   {
    "duration": 12,
    "start_time": "2022-03-11T20:27:17.856Z"
   },
   {
    "duration": 19,
    "start_time": "2022-03-11T20:27:17.870Z"
   },
   {
    "duration": 3,
    "start_time": "2022-03-11T20:27:17.891Z"
   },
   {
    "duration": 13,
    "start_time": "2022-03-11T20:27:17.896Z"
   },
   {
    "duration": 37,
    "start_time": "2022-03-11T20:27:17.911Z"
   },
   {
    "duration": 3,
    "start_time": "2022-03-11T20:27:17.950Z"
   },
   {
    "duration": 9,
    "start_time": "2022-03-11T20:27:17.957Z"
   },
   {
    "duration": 16,
    "start_time": "2022-03-11T20:27:17.968Z"
   },
   {
    "duration": 18,
    "start_time": "2022-03-11T20:27:17.986Z"
   },
   {
    "duration": 36,
    "start_time": "2022-03-11T20:27:18.006Z"
   },
   {
    "duration": 5,
    "start_time": "2022-03-11T20:27:18.044Z"
   },
   {
    "duration": 63,
    "start_time": "2022-03-11T21:14:03.776Z"
   },
   {
    "duration": 4,
    "start_time": "2022-03-11T21:14:27.887Z"
   },
   {
    "duration": 366,
    "start_time": "2022-03-11T21:14:29.223Z"
   },
   {
    "duration": 4,
    "start_time": "2022-03-11T21:14:44.006Z"
   },
   {
    "duration": 5042,
    "start_time": "2022-03-11T21:14:44.975Z"
   },
   {
    "duration": 15,
    "start_time": "2022-03-11T21:15:53.558Z"
   },
   {
    "duration": 19,
    "start_time": "2022-03-11T21:16:07.806Z"
   },
   {
    "duration": 4,
    "start_time": "2022-03-11T21:32:23.749Z"
   },
   {
    "duration": 4353,
    "start_time": "2022-03-11T21:32:24.677Z"
   },
   {
    "duration": 5,
    "start_time": "2022-03-11T21:33:07.571Z"
   },
   {
    "duration": 4433,
    "start_time": "2022-03-11T21:33:08.404Z"
   },
   {
    "duration": 5,
    "start_time": "2022-03-11T21:36:20.385Z"
   },
   {
    "duration": 491,
    "start_time": "2022-03-11T21:36:21.139Z"
   },
   {
    "duration": 3,
    "start_time": "2022-03-11T21:46:26.635Z"
   },
   {
    "duration": 3,
    "start_time": "2022-03-11T21:46:27.555Z"
   },
   {
    "duration": 5,
    "start_time": "2022-03-11T21:50:37.983Z"
   },
   {
    "duration": 117,
    "start_time": "2022-03-11T21:50:39.535Z"
   },
   {
    "duration": 19,
    "start_time": "2022-03-11T21:50:48.727Z"
   },
   {
    "duration": 7,
    "start_time": "2022-03-11T21:54:15.084Z"
   },
   {
    "duration": 121,
    "start_time": "2022-03-11T21:54:15.852Z"
   },
   {
    "duration": 19,
    "start_time": "2022-03-11T21:54:17.301Z"
   },
   {
    "duration": 56,
    "start_time": "2022-03-11T22:08:50.378Z"
   },
   {
    "duration": 6,
    "start_time": "2022-03-11T22:09:38.883Z"
   },
   {
    "duration": 5218,
    "start_time": "2022-03-11T22:09:46.690Z"
   },
   {
    "duration": 7,
    "start_time": "2022-03-11T22:11:35.464Z"
   },
   {
    "duration": 4957,
    "start_time": "2022-03-11T22:11:38.978Z"
   },
   {
    "duration": 7,
    "start_time": "2022-03-11T22:13:13.040Z"
   },
   {
    "duration": 387,
    "start_time": "2022-03-11T22:13:16.577Z"
   },
   {
    "duration": 4,
    "start_time": "2022-03-11T22:14:20.175Z"
   },
   {
    "duration": 7,
    "start_time": "2022-03-11T22:14:22.520Z"
   },
   {
    "duration": 5155,
    "start_time": "2022-03-11T22:14:26.289Z"
   },
   {
    "duration": 8,
    "start_time": "2022-03-11T22:19:12.036Z"
   },
   {
    "duration": 408,
    "start_time": "2022-03-11T22:19:15.406Z"
   },
   {
    "duration": 8,
    "start_time": "2022-03-11T22:20:45.499Z"
   },
   {
    "duration": 527,
    "start_time": "2022-03-11T22:20:51.405Z"
   },
   {
    "duration": 7,
    "start_time": "2022-03-11T22:21:08.099Z"
   },
   {
    "duration": 244,
    "start_time": "2022-03-11T22:21:10.876Z"
   },
   {
    "duration": 20,
    "start_time": "2022-03-11T22:21:14.748Z"
   },
   {
    "duration": 984,
    "start_time": "2022-03-12T19:27:55.682Z"
   },
   {
    "duration": 353,
    "start_time": "2022-03-12T19:27:56.667Z"
   },
   {
    "duration": 21,
    "start_time": "2022-03-12T19:27:57.022Z"
   },
   {
    "duration": 9,
    "start_time": "2022-03-12T19:27:57.044Z"
   },
   {
    "duration": 15,
    "start_time": "2022-03-12T19:27:57.055Z"
   },
   {
    "duration": 7,
    "start_time": "2022-03-12T19:27:57.071Z"
   },
   {
    "duration": 13,
    "start_time": "2022-03-12T19:27:57.079Z"
   },
   {
    "duration": 13,
    "start_time": "2022-03-12T19:27:57.094Z"
   },
   {
    "duration": 6,
    "start_time": "2022-03-12T19:27:57.108Z"
   },
   {
    "duration": 9,
    "start_time": "2022-03-12T19:27:57.115Z"
   },
   {
    "duration": 6,
    "start_time": "2022-03-12T19:27:57.125Z"
   },
   {
    "duration": 13,
    "start_time": "2022-03-12T19:27:57.132Z"
   },
   {
    "duration": 6,
    "start_time": "2022-03-12T19:27:57.147Z"
   },
   {
    "duration": 48,
    "start_time": "2022-03-12T19:27:57.155Z"
   },
   {
    "duration": 54,
    "start_time": "2022-03-12T19:27:57.205Z"
   },
   {
    "duration": 13,
    "start_time": "2022-03-12T19:27:57.261Z"
   },
   {
    "duration": 30,
    "start_time": "2022-03-12T19:27:57.275Z"
   },
   {
    "duration": 6,
    "start_time": "2022-03-12T19:27:57.306Z"
   },
   {
    "duration": 4,
    "start_time": "2022-03-12T19:27:57.314Z"
   },
   {
    "duration": 17,
    "start_time": "2022-03-12T19:27:57.319Z"
   },
   {
    "duration": 17,
    "start_time": "2022-03-12T19:27:57.338Z"
   },
   {
    "duration": 15,
    "start_time": "2022-03-12T19:27:57.357Z"
   },
   {
    "duration": 32,
    "start_time": "2022-03-12T19:27:57.375Z"
   },
   {
    "duration": 3,
    "start_time": "2022-03-12T19:27:57.409Z"
   },
   {
    "duration": 12,
    "start_time": "2022-03-12T19:27:57.413Z"
   },
   {
    "duration": 16,
    "start_time": "2022-03-12T19:27:57.426Z"
   },
   {
    "duration": 25,
    "start_time": "2022-03-12T19:27:57.443Z"
   },
   {
    "duration": 32,
    "start_time": "2022-03-12T19:27:57.470Z"
   },
   {
    "duration": 12,
    "start_time": "2022-03-12T19:27:57.503Z"
   },
   {
    "duration": 9,
    "start_time": "2022-03-12T19:27:57.517Z"
   },
   {
    "duration": 10,
    "start_time": "2022-03-12T19:27:57.527Z"
   },
   {
    "duration": 9,
    "start_time": "2022-03-12T19:27:57.538Z"
   },
   {
    "duration": 10,
    "start_time": "2022-03-12T19:27:57.548Z"
   },
   {
    "duration": 8,
    "start_time": "2022-03-12T19:27:57.559Z"
   },
   {
    "duration": 12,
    "start_time": "2022-03-12T19:27:57.569Z"
   },
   {
    "duration": 9,
    "start_time": "2022-03-12T19:27:57.582Z"
   },
   {
    "duration": 9,
    "start_time": "2022-03-12T19:27:57.592Z"
   },
   {
    "duration": 16,
    "start_time": "2022-03-12T19:27:57.603Z"
   },
   {
    "duration": 12,
    "start_time": "2022-03-12T19:27:57.621Z"
   },
   {
    "duration": 12,
    "start_time": "2022-03-12T19:27:57.634Z"
   },
   {
    "duration": 31,
    "start_time": "2022-03-12T19:27:57.647Z"
   },
   {
    "duration": 7,
    "start_time": "2022-03-12T19:27:57.680Z"
   },
   {
    "duration": 16,
    "start_time": "2022-03-12T19:27:57.688Z"
   },
   {
    "duration": 7,
    "start_time": "2022-03-12T19:27:57.705Z"
   },
   {
    "duration": 20,
    "start_time": "2022-03-12T19:27:57.713Z"
   },
   {
    "duration": 8,
    "start_time": "2022-03-12T19:27:57.735Z"
   },
   {
    "duration": 21,
    "start_time": "2022-03-12T19:27:57.745Z"
   },
   {
    "duration": 2,
    "start_time": "2022-03-12T19:27:57.768Z"
   },
   {
    "duration": 33,
    "start_time": "2022-03-12T19:27:57.771Z"
   },
   {
    "duration": 14,
    "start_time": "2022-03-12T19:27:57.805Z"
   },
   {
    "duration": 2,
    "start_time": "2022-03-12T19:27:57.820Z"
   },
   {
    "duration": 12,
    "start_time": "2022-03-12T19:27:57.824Z"
   },
   {
    "duration": 17,
    "start_time": "2022-03-12T19:27:57.838Z"
   },
   {
    "duration": 2,
    "start_time": "2022-03-12T19:27:57.857Z"
   },
   {
    "duration": 18,
    "start_time": "2022-03-12T19:27:57.860Z"
   },
   {
    "duration": 23,
    "start_time": "2022-03-12T19:27:57.880Z"
   },
   {
    "duration": 15,
    "start_time": "2022-03-12T19:27:57.905Z"
   },
   {
    "duration": 6,
    "start_time": "2022-03-12T19:27:57.922Z"
   },
   {
    "duration": 7,
    "start_time": "2022-03-12T19:27:57.929Z"
   },
   {
    "duration": 250,
    "start_time": "2022-03-12T19:27:57.937Z"
   },
   {
    "duration": 28,
    "start_time": "2022-03-12T19:27:58.189Z"
   },
   {
    "duration": 377,
    "start_time": "2022-03-12T19:30:37.990Z"
   },
   {
    "duration": 363,
    "start_time": "2022-03-12T19:30:46.419Z"
   },
   {
    "duration": 16,
    "start_time": "2022-03-12T19:31:05.339Z"
   },
   {
    "duration": 17,
    "start_time": "2022-03-12T19:31:06.706Z"
   },
   {
    "duration": 15,
    "start_time": "2022-03-12T19:43:52.058Z"
   },
   {
    "duration": 20,
    "start_time": "2022-03-12T19:43:53.634Z"
   },
   {
    "duration": 103,
    "start_time": "2022-03-12T19:45:34.969Z"
   },
   {
    "duration": 104,
    "start_time": "2022-03-12T19:45:46.016Z"
   },
   {
    "duration": 99,
    "start_time": "2022-03-12T19:46:02.144Z"
   },
   {
    "duration": 17,
    "start_time": "2022-03-12T19:47:19.975Z"
   },
   {
    "duration": 2,
    "start_time": "2022-03-12T19:47:24.720Z"
   },
   {
    "duration": 19,
    "start_time": "2022-03-12T19:47:30.399Z"
   },
   {
    "duration": 102,
    "start_time": "2022-03-12T19:48:28.623Z"
   },
   {
    "duration": 387,
    "start_time": "2022-03-12T19:48:33.911Z"
   },
   {
    "duration": 20,
    "start_time": "2022-03-12T19:48:43.582Z"
   },
   {
    "duration": 322,
    "start_time": "2022-03-12T19:49:20.054Z"
   },
   {
    "duration": 352,
    "start_time": "2022-03-12T19:50:25.333Z"
   },
   {
    "duration": 344,
    "start_time": "2022-03-12T19:51:07.069Z"
   },
   {
    "duration": 317,
    "start_time": "2022-03-12T19:51:30.133Z"
   },
   {
    "duration": 6,
    "start_time": "2022-03-12T19:54:16.690Z"
   },
   {
    "duration": 5,
    "start_time": "2022-03-12T19:58:12.913Z"
   },
   {
    "duration": 7,
    "start_time": "2022-03-12T19:58:33.153Z"
   },
   {
    "duration": 4,
    "start_time": "2022-03-12T20:03:25.110Z"
   },
   {
    "duration": 1144,
    "start_time": "2022-03-12T20:03:53.818Z"
   },
   {
    "duration": 375,
    "start_time": "2022-03-12T20:03:54.964Z"
   },
   {
    "duration": 27,
    "start_time": "2022-03-12T20:03:55.341Z"
   },
   {
    "duration": 13,
    "start_time": "2022-03-12T20:03:55.370Z"
   },
   {
    "duration": 21,
    "start_time": "2022-03-12T20:03:55.384Z"
   },
   {
    "duration": 11,
    "start_time": "2022-03-12T20:03:55.407Z"
   },
   {
    "duration": 16,
    "start_time": "2022-03-12T20:03:55.420Z"
   },
   {
    "duration": 99,
    "start_time": "2022-03-12T20:03:55.438Z"
   },
   {
    "duration": 11,
    "start_time": "2022-03-12T20:03:55.539Z"
   },
   {
    "duration": 12,
    "start_time": "2022-03-12T20:03:55.551Z"
   },
   {
    "duration": 10,
    "start_time": "2022-03-12T20:03:55.564Z"
   },
   {
    "duration": 15,
    "start_time": "2022-03-12T20:03:55.575Z"
   },
   {
    "duration": 9,
    "start_time": "2022-03-12T20:03:55.591Z"
   },
   {
    "duration": 36,
    "start_time": "2022-03-12T20:03:55.602Z"
   },
   {
    "duration": 57,
    "start_time": "2022-03-12T20:03:55.640Z"
   },
   {
    "duration": 13,
    "start_time": "2022-03-12T20:03:55.702Z"
   },
   {
    "duration": 20,
    "start_time": "2022-03-12T20:03:55.717Z"
   },
   {
    "duration": 50,
    "start_time": "2022-03-12T20:03:55.738Z"
   },
   {
    "duration": 4,
    "start_time": "2022-03-12T20:03:55.789Z"
   },
   {
    "duration": 24,
    "start_time": "2022-03-12T20:03:55.794Z"
   },
   {
    "duration": 17,
    "start_time": "2022-03-12T20:03:55.820Z"
   },
   {
    "duration": 11,
    "start_time": "2022-03-12T20:03:55.839Z"
   },
   {
    "duration": 7,
    "start_time": "2022-03-12T20:03:55.854Z"
   },
   {
    "duration": 2,
    "start_time": "2022-03-12T20:03:55.864Z"
   },
   {
    "duration": 11,
    "start_time": "2022-03-12T20:03:55.868Z"
   },
   {
    "duration": 19,
    "start_time": "2022-03-12T20:03:55.901Z"
   },
   {
    "duration": 24,
    "start_time": "2022-03-12T20:03:55.922Z"
   },
   {
    "duration": 12,
    "start_time": "2022-03-12T20:03:55.947Z"
   },
   {
    "duration": 11,
    "start_time": "2022-03-12T20:03:55.961Z"
   },
   {
    "duration": 9,
    "start_time": "2022-03-12T20:03:55.974Z"
   },
   {
    "duration": 7,
    "start_time": "2022-03-12T20:03:56.002Z"
   },
   {
    "duration": 15,
    "start_time": "2022-03-12T20:03:56.011Z"
   },
   {
    "duration": 8,
    "start_time": "2022-03-12T20:03:56.028Z"
   },
   {
    "duration": 8,
    "start_time": "2022-03-12T20:03:56.038Z"
   },
   {
    "duration": 12,
    "start_time": "2022-03-12T20:03:56.048Z"
   },
   {
    "duration": 8,
    "start_time": "2022-03-12T20:03:56.062Z"
   },
   {
    "duration": 9,
    "start_time": "2022-03-12T20:03:56.071Z"
   },
   {
    "duration": 16,
    "start_time": "2022-03-12T20:03:56.082Z"
   },
   {
    "duration": 9,
    "start_time": "2022-03-12T20:03:56.101Z"
   },
   {
    "duration": 12,
    "start_time": "2022-03-12T20:03:56.112Z"
   },
   {
    "duration": 24,
    "start_time": "2022-03-12T20:03:56.126Z"
   },
   {
    "duration": 8,
    "start_time": "2022-03-12T20:03:56.151Z"
   },
   {
    "duration": 15,
    "start_time": "2022-03-12T20:03:56.161Z"
   },
   {
    "duration": 24,
    "start_time": "2022-03-12T20:03:56.178Z"
   },
   {
    "duration": 21,
    "start_time": "2022-03-12T20:03:56.204Z"
   },
   {
    "duration": 8,
    "start_time": "2022-03-12T20:03:56.226Z"
   },
   {
    "duration": 24,
    "start_time": "2022-03-12T20:03:56.236Z"
   },
   {
    "duration": 2,
    "start_time": "2022-03-12T20:03:56.262Z"
   },
   {
    "duration": 35,
    "start_time": "2022-03-12T20:03:56.266Z"
   },
   {
    "duration": 19,
    "start_time": "2022-03-12T20:03:56.303Z"
   },
   {
    "duration": 3,
    "start_time": "2022-03-12T20:03:56.323Z"
   },
   {
    "duration": 14,
    "start_time": "2022-03-12T20:03:56.327Z"
   },
   {
    "duration": 19,
    "start_time": "2022-03-12T20:03:56.342Z"
   },
   {
    "duration": 3,
    "start_time": "2022-03-12T20:03:56.362Z"
   },
   {
    "duration": 13,
    "start_time": "2022-03-12T20:03:56.366Z"
   },
   {
    "duration": 18,
    "start_time": "2022-03-12T20:04:02.754Z"
   },
   {
    "duration": 24,
    "start_time": "2022-03-12T20:04:03.898Z"
   },
   {
    "duration": 8,
    "start_time": "2022-03-12T20:04:47.850Z"
   },
   {
    "duration": 379,
    "start_time": "2022-03-12T20:05:59.057Z"
   },
   {
    "duration": 5,
    "start_time": "2022-03-12T20:06:05.921Z"
   },
   {
    "duration": 11,
    "start_time": "2022-03-12T20:10:45.397Z"
   },
   {
    "duration": 10,
    "start_time": "2022-03-12T20:10:51.901Z"
   },
   {
    "duration": 18,
    "start_time": "2022-03-12T20:19:15.847Z"
   },
   {
    "duration": 4,
    "start_time": "2022-03-12T20:21:26.093Z"
   },
   {
    "duration": 4,
    "start_time": "2022-03-12T20:21:45.701Z"
   },
   {
    "duration": 3,
    "start_time": "2022-03-12T20:22:46.486Z"
   },
   {
    "duration": 3,
    "start_time": "2022-03-12T20:22:47.045Z"
   },
   {
    "duration": 6,
    "start_time": "2022-03-12T20:23:00.349Z"
   },
   {
    "duration": 1039,
    "start_time": "2022-03-12T20:23:44.763Z"
   },
   {
    "duration": 380,
    "start_time": "2022-03-12T20:23:45.804Z"
   },
   {
    "duration": 18,
    "start_time": "2022-03-12T20:23:46.186Z"
   },
   {
    "duration": 10,
    "start_time": "2022-03-12T20:23:46.206Z"
   },
   {
    "duration": 15,
    "start_time": "2022-03-12T20:23:46.217Z"
   },
   {
    "duration": 7,
    "start_time": "2022-03-12T20:23:46.234Z"
   },
   {
    "duration": 14,
    "start_time": "2022-03-12T20:23:46.242Z"
   },
   {
    "duration": 6,
    "start_time": "2022-03-12T20:23:46.259Z"
   },
   {
    "duration": 34,
    "start_time": "2022-03-12T20:23:46.267Z"
   },
   {
    "duration": 8,
    "start_time": "2022-03-12T20:23:46.303Z"
   },
   {
    "duration": 7,
    "start_time": "2022-03-12T20:23:46.313Z"
   },
   {
    "duration": 14,
    "start_time": "2022-03-12T20:23:46.321Z"
   },
   {
    "duration": 9,
    "start_time": "2022-03-12T20:23:46.336Z"
   },
   {
    "duration": 32,
    "start_time": "2022-03-12T20:23:46.346Z"
   },
   {
    "duration": 74,
    "start_time": "2022-03-12T20:23:46.380Z"
   },
   {
    "duration": 8,
    "start_time": "2022-03-12T20:23:46.456Z"
   },
   {
    "duration": 17,
    "start_time": "2022-03-12T20:23:46.466Z"
   },
   {
    "duration": 8,
    "start_time": "2022-03-12T20:23:46.500Z"
   },
   {
    "duration": 4,
    "start_time": "2022-03-12T20:23:46.510Z"
   },
   {
    "duration": 22,
    "start_time": "2022-03-12T20:23:46.515Z"
   },
   {
    "duration": 17,
    "start_time": "2022-03-12T20:23:46.538Z"
   },
   {
    "duration": 10,
    "start_time": "2022-03-12T20:23:46.557Z"
   },
   {
    "duration": 34,
    "start_time": "2022-03-12T20:23:46.571Z"
   },
   {
    "duration": 2,
    "start_time": "2022-03-12T20:23:46.607Z"
   },
   {
    "duration": 15,
    "start_time": "2022-03-12T20:23:46.611Z"
   },
   {
    "duration": 16,
    "start_time": "2022-03-12T20:23:46.627Z"
   },
   {
    "duration": 23,
    "start_time": "2022-03-12T20:23:46.645Z"
   },
   {
    "duration": 32,
    "start_time": "2022-03-12T20:23:46.669Z"
   },
   {
    "duration": 10,
    "start_time": "2022-03-12T20:23:46.703Z"
   },
   {
    "duration": 7,
    "start_time": "2022-03-12T20:23:46.715Z"
   },
   {
    "duration": 7,
    "start_time": "2022-03-12T20:23:46.724Z"
   },
   {
    "duration": 8,
    "start_time": "2022-03-12T20:23:46.733Z"
   },
   {
    "duration": 8,
    "start_time": "2022-03-12T20:23:46.742Z"
   },
   {
    "duration": 9,
    "start_time": "2022-03-12T20:23:46.752Z"
   },
   {
    "duration": 15,
    "start_time": "2022-03-12T20:23:46.762Z"
   },
   {
    "duration": 22,
    "start_time": "2022-03-12T20:23:46.779Z"
   },
   {
    "duration": 6,
    "start_time": "2022-03-12T20:23:46.803Z"
   },
   {
    "duration": 16,
    "start_time": "2022-03-12T20:23:46.811Z"
   },
   {
    "duration": 8,
    "start_time": "2022-03-12T20:23:46.828Z"
   },
   {
    "duration": 10,
    "start_time": "2022-03-12T20:23:46.838Z"
   },
   {
    "duration": 25,
    "start_time": "2022-03-12T20:23:46.849Z"
   },
   {
    "duration": 7,
    "start_time": "2022-03-12T20:23:46.876Z"
   },
   {
    "duration": 24,
    "start_time": "2022-03-12T20:23:46.884Z"
   },
   {
    "duration": 6,
    "start_time": "2022-03-12T20:23:46.910Z"
   },
   {
    "duration": 17,
    "start_time": "2022-03-12T20:23:46.918Z"
   },
   {
    "duration": 7,
    "start_time": "2022-03-12T20:23:46.936Z"
   },
   {
    "duration": 26,
    "start_time": "2022-03-12T20:23:46.945Z"
   },
   {
    "duration": 2,
    "start_time": "2022-03-12T20:23:46.973Z"
   },
   {
    "duration": 32,
    "start_time": "2022-03-12T20:23:46.977Z"
   },
   {
    "duration": 14,
    "start_time": "2022-03-12T20:23:47.010Z"
   },
   {
    "duration": 3,
    "start_time": "2022-03-12T20:23:47.026Z"
   },
   {
    "duration": 14,
    "start_time": "2022-03-12T20:23:47.030Z"
   },
   {
    "duration": 18,
    "start_time": "2022-03-12T20:23:47.045Z"
   },
   {
    "duration": 2,
    "start_time": "2022-03-12T20:23:47.065Z"
   },
   {
    "duration": 34,
    "start_time": "2022-03-12T20:23:47.068Z"
   },
   {
    "duration": 16,
    "start_time": "2022-03-12T20:23:47.103Z"
   },
   {
    "duration": 17,
    "start_time": "2022-03-12T20:23:47.120Z"
   },
   {
    "duration": 5,
    "start_time": "2022-03-12T20:23:47.138Z"
   },
   {
    "duration": 10,
    "start_time": "2022-03-12T20:23:47.145Z"
   },
   {
    "duration": 44,
    "start_time": "2022-03-12T20:23:47.157Z"
   },
   {
    "duration": 3,
    "start_time": "2022-03-12T20:23:47.202Z"
   },
   {
    "duration": 4,
    "start_time": "2022-03-12T20:23:47.207Z"
   },
   {
    "duration": 7,
    "start_time": "2022-03-12T20:23:47.212Z"
   },
   {
    "duration": 4,
    "start_time": "2022-03-12T20:23:59.414Z"
   },
   {
    "duration": 7,
    "start_time": "2022-03-12T20:24:00.494Z"
   },
   {
    "duration": 19,
    "start_time": "2022-03-12T20:24:20.237Z"
   },
   {
    "duration": 4,
    "start_time": "2022-03-12T20:24:44.366Z"
   },
   {
    "duration": 4,
    "start_time": "2022-03-12T20:24:48.085Z"
   },
   {
    "duration": 3,
    "start_time": "2022-03-12T20:24:48.789Z"
   },
   {
    "duration": 3,
    "start_time": "2022-03-12T20:24:49.333Z"
   },
   {
    "duration": 3,
    "start_time": "2022-03-12T20:24:49.845Z"
   },
   {
    "duration": 6,
    "start_time": "2022-03-12T20:24:50.885Z"
   },
   {
    "duration": 18,
    "start_time": "2022-03-12T20:24:53.614Z"
   },
   {
    "duration": 1269,
    "start_time": "2022-03-12T20:25:34.485Z"
   },
   {
    "duration": 4,
    "start_time": "2022-03-12T20:27:54.715Z"
   },
   {
    "duration": 3,
    "start_time": "2022-03-12T20:28:57.147Z"
   },
   {
    "duration": 3,
    "start_time": "2022-03-12T20:28:57.794Z"
   },
   {
    "duration": 3,
    "start_time": "2022-03-12T20:28:58.266Z"
   },
   {
    "duration": 3,
    "start_time": "2022-03-12T20:28:58.674Z"
   },
   {
    "duration": 19,
    "start_time": "2022-03-12T20:29:03.442Z"
   },
   {
    "duration": 6,
    "start_time": "2022-03-12T20:33:09.575Z"
   },
   {
    "duration": 18,
    "start_time": "2022-03-12T20:33:13.080Z"
   },
   {
    "duration": 7,
    "start_time": "2022-03-12T20:34:50.710Z"
   },
   {
    "duration": 17,
    "start_time": "2022-03-12T20:34:52.503Z"
   },
   {
    "duration": 1074,
    "start_time": "2022-03-12T20:36:40.677Z"
   },
   {
    "duration": 370,
    "start_time": "2022-03-12T20:36:41.753Z"
   },
   {
    "duration": 19,
    "start_time": "2022-03-12T20:36:42.125Z"
   },
   {
    "duration": 9,
    "start_time": "2022-03-12T20:36:42.145Z"
   },
   {
    "duration": 14,
    "start_time": "2022-03-12T20:36:42.155Z"
   },
   {
    "duration": 7,
    "start_time": "2022-03-12T20:36:42.171Z"
   },
   {
    "duration": 13,
    "start_time": "2022-03-12T20:36:42.180Z"
   },
   {
    "duration": 6,
    "start_time": "2022-03-12T20:36:42.202Z"
   },
   {
    "duration": 6,
    "start_time": "2022-03-12T20:36:42.210Z"
   },
   {
    "duration": 7,
    "start_time": "2022-03-12T20:36:42.218Z"
   },
   {
    "duration": 8,
    "start_time": "2022-03-12T20:36:42.226Z"
   },
   {
    "duration": 14,
    "start_time": "2022-03-12T20:36:42.236Z"
   },
   {
    "duration": 8,
    "start_time": "2022-03-12T20:36:42.251Z"
   },
   {
    "duration": 52,
    "start_time": "2022-03-12T20:36:42.260Z"
   },
   {
    "duration": 55,
    "start_time": "2022-03-12T20:36:42.313Z"
   },
   {
    "duration": 9,
    "start_time": "2022-03-12T20:36:42.369Z"
   },
   {
    "duration": 27,
    "start_time": "2022-03-12T20:36:42.380Z"
   },
   {
    "duration": 6,
    "start_time": "2022-03-12T20:36:42.408Z"
   },
   {
    "duration": 3,
    "start_time": "2022-03-12T20:36:42.416Z"
   },
   {
    "duration": 19,
    "start_time": "2022-03-12T20:36:42.421Z"
   },
   {
    "duration": 18,
    "start_time": "2022-03-12T20:36:42.441Z"
   },
   {
    "duration": 11,
    "start_time": "2022-03-12T20:36:42.461Z"
   },
   {
    "duration": 32,
    "start_time": "2022-03-12T20:36:42.475Z"
   },
   {
    "duration": 3,
    "start_time": "2022-03-12T20:36:42.509Z"
   },
   {
    "duration": 16,
    "start_time": "2022-03-12T20:36:42.513Z"
   },
   {
    "duration": 20,
    "start_time": "2022-03-12T20:36:42.531Z"
   },
   {
    "duration": 24,
    "start_time": "2022-03-12T20:36:42.552Z"
   },
   {
    "duration": 25,
    "start_time": "2022-03-12T20:36:42.577Z"
   },
   {
    "duration": 12,
    "start_time": "2022-03-12T20:36:42.603Z"
   },
   {
    "duration": 8,
    "start_time": "2022-03-12T20:36:42.617Z"
   },
   {
    "duration": 10,
    "start_time": "2022-03-12T20:36:42.626Z"
   },
   {
    "duration": 12,
    "start_time": "2022-03-12T20:36:42.637Z"
   },
   {
    "duration": 10,
    "start_time": "2022-03-12T20:36:42.650Z"
   },
   {
    "duration": 23,
    "start_time": "2022-03-12T20:36:42.662Z"
   },
   {
    "duration": 14,
    "start_time": "2022-03-12T20:36:42.686Z"
   },
   {
    "duration": 14,
    "start_time": "2022-03-12T20:36:42.702Z"
   },
   {
    "duration": 9,
    "start_time": "2022-03-12T20:36:42.718Z"
   },
   {
    "duration": 16,
    "start_time": "2022-03-12T20:36:42.728Z"
   },
   {
    "duration": 9,
    "start_time": "2022-03-12T20:36:42.745Z"
   },
   {
    "duration": 9,
    "start_time": "2022-03-12T20:36:42.756Z"
   },
   {
    "duration": 23,
    "start_time": "2022-03-12T20:36:42.766Z"
   },
   {
    "duration": 7,
    "start_time": "2022-03-12T20:36:42.790Z"
   },
   {
    "duration": 17,
    "start_time": "2022-03-12T20:36:42.798Z"
   },
   {
    "duration": 8,
    "start_time": "2022-03-12T20:36:42.817Z"
   },
   {
    "duration": 19,
    "start_time": "2022-03-12T20:36:42.827Z"
   },
   {
    "duration": 8,
    "start_time": "2022-03-12T20:36:42.848Z"
   },
   {
    "duration": 44,
    "start_time": "2022-03-12T20:36:42.857Z"
   },
   {
    "duration": 3,
    "start_time": "2022-03-12T20:36:42.903Z"
   },
   {
    "duration": 11,
    "start_time": "2022-03-12T20:36:42.907Z"
   },
   {
    "duration": 17,
    "start_time": "2022-03-12T20:36:42.920Z"
   },
   {
    "duration": 2,
    "start_time": "2022-03-12T20:36:42.938Z"
   },
   {
    "duration": 13,
    "start_time": "2022-03-12T20:36:42.942Z"
   },
   {
    "duration": 22,
    "start_time": "2022-03-12T20:36:42.957Z"
   },
   {
    "duration": 3,
    "start_time": "2022-03-12T20:36:42.980Z"
   },
   {
    "duration": 8,
    "start_time": "2022-03-12T20:36:43.001Z"
   },
   {
    "duration": 16,
    "start_time": "2022-03-12T20:36:43.011Z"
   },
   {
    "duration": 17,
    "start_time": "2022-03-12T20:36:43.028Z"
   },
   {
    "duration": 6,
    "start_time": "2022-03-12T20:36:43.046Z"
   },
   {
    "duration": 10,
    "start_time": "2022-03-12T20:36:43.053Z"
   },
   {
    "duration": 37,
    "start_time": "2022-03-12T20:36:43.064Z"
   },
   {
    "duration": 8,
    "start_time": "2022-03-12T20:36:43.103Z"
   },
   {
    "duration": 6,
    "start_time": "2022-03-12T20:36:43.113Z"
   },
   {
    "duration": 9,
    "start_time": "2022-03-12T20:36:43.120Z"
   },
   {
    "duration": 8,
    "start_time": "2022-03-12T20:36:43.130Z"
   },
   {
    "duration": 12,
    "start_time": "2022-03-12T20:36:43.139Z"
   },
   {
    "duration": 20,
    "start_time": "2022-03-12T20:36:43.153Z"
   },
   {
    "duration": 6,
    "start_time": "2022-03-12T20:36:43.174Z"
   },
   {
    "duration": 25,
    "start_time": "2022-03-12T20:36:43.184Z"
   },
   {
    "duration": 6,
    "start_time": "2022-03-12T20:36:43.211Z"
   },
   {
    "duration": 7,
    "start_time": "2022-03-12T20:36:43.218Z"
   },
   {
    "duration": 277,
    "start_time": "2022-03-12T20:36:43.226Z"
   },
   {
    "duration": 18,
    "start_time": "2022-03-12T20:36:43.505Z"
   },
   {
    "duration": 374,
    "start_time": "2022-03-12T20:50:05.212Z"
   },
   {
    "duration": 25,
    "start_time": "2022-03-12T20:50:21.772Z"
   },
   {
    "duration": 37,
    "start_time": "2022-03-12T20:50:26.180Z"
   },
   {
    "duration": 11,
    "start_time": "2022-03-12T20:51:03.587Z"
   },
   {
    "duration": 9,
    "start_time": "2022-03-12T20:51:04.422Z"
   },
   {
    "duration": 21,
    "start_time": "2022-03-12T21:03:22.665Z"
   },
   {
    "duration": 7784,
    "start_time": "2022-03-12T21:05:27.984Z"
   },
   {
    "duration": 336,
    "start_time": "2022-03-12T21:07:31.357Z"
   },
   {
    "duration": 302,
    "start_time": "2022-03-12T21:07:43.702Z"
   },
   {
    "duration": 10,
    "start_time": "2022-03-12T21:07:56.357Z"
   },
   {
    "duration": 330,
    "start_time": "2022-03-12T21:07:59.877Z"
   },
   {
    "duration": 7541,
    "start_time": "2022-03-12T21:08:34.533Z"
   },
   {
    "duration": 7751,
    "start_time": "2022-03-12T21:12:19.162Z"
   },
   {
    "duration": 7650,
    "start_time": "2022-03-12T21:12:45.489Z"
   },
   {
    "duration": 356,
    "start_time": "2022-03-12T21:17:10.886Z"
   },
   {
    "duration": 13,
    "start_time": "2022-03-12T21:19:32.204Z"
   },
   {
    "duration": 9,
    "start_time": "2022-03-12T21:19:32.901Z"
   },
   {
    "duration": 11,
    "start_time": "2022-03-12T21:20:09.851Z"
   },
   {
    "duration": 9,
    "start_time": "2022-03-12T21:20:10.428Z"
   },
   {
    "duration": 99,
    "start_time": "2022-03-12T21:22:51.362Z"
   },
   {
    "duration": 97,
    "start_time": "2022-03-12T21:23:08.594Z"
   },
   {
    "duration": 97,
    "start_time": "2022-03-12T21:23:22.153Z"
   },
   {
    "duration": 109,
    "start_time": "2022-03-12T21:23:29.985Z"
   },
   {
    "duration": 318,
    "start_time": "2022-03-12T21:23:50.234Z"
   },
   {
    "duration": 341,
    "start_time": "2022-03-12T21:24:01.977Z"
   },
   {
    "duration": 303,
    "start_time": "2022-03-12T21:25:04.656Z"
   },
   {
    "duration": 11,
    "start_time": "2022-03-12T21:25:10.537Z"
   },
   {
    "duration": 9,
    "start_time": "2022-03-12T21:25:11.857Z"
   },
   {
    "duration": 310,
    "start_time": "2022-03-12T21:27:22.879Z"
   },
   {
    "duration": 304,
    "start_time": "2022-03-12T21:27:26.662Z"
   },
   {
    "duration": 339,
    "start_time": "2022-03-12T21:27:49.631Z"
   },
   {
    "duration": 431,
    "start_time": "2022-03-12T21:28:57.086Z"
   },
   {
    "duration": 5,
    "start_time": "2022-03-12T21:29:09.126Z"
   },
   {
    "duration": 8,
    "start_time": "2022-03-12T21:29:19.493Z"
   },
   {
    "duration": 12,
    "start_time": "2022-03-12T21:36:03.690Z"
   },
   {
    "duration": 10,
    "start_time": "2022-03-12T21:36:04.628Z"
   },
   {
    "duration": 5,
    "start_time": "2022-03-12T21:36:42.690Z"
   },
   {
    "duration": 8,
    "start_time": "2022-03-12T21:36:43.418Z"
   },
   {
    "duration": 19,
    "start_time": "2022-03-12T21:37:48.393Z"
   },
   {
    "duration": 5,
    "start_time": "2022-03-12T21:49:18.097Z"
   },
   {
    "duration": 19,
    "start_time": "2022-03-12T21:49:30.002Z"
   },
   {
    "duration": 30,
    "start_time": "2022-03-12T21:49:48.386Z"
   },
   {
    "duration": 330,
    "start_time": "2022-03-12T21:50:02.122Z"
   },
   {
    "duration": 18,
    "start_time": "2022-03-12T21:50:13.153Z"
   },
   {
    "duration": 288,
    "start_time": "2022-03-12T21:50:29.577Z"
   },
   {
    "duration": 291,
    "start_time": "2022-03-12T21:50:42.921Z"
   },
   {
    "duration": 6,
    "start_time": "2022-03-12T21:50:47.848Z"
   },
   {
    "duration": 305,
    "start_time": "2022-03-12T21:50:48.576Z"
   },
   {
    "duration": 7,
    "start_time": "2022-03-12T21:50:58.752Z"
   },
   {
    "duration": 11,
    "start_time": "2022-03-12T21:51:52.038Z"
   },
   {
    "duration": 8,
    "start_time": "2022-03-12T21:51:52.104Z"
   },
   {
    "duration": 5,
    "start_time": "2022-03-12T21:54:31.318Z"
   },
   {
    "duration": 6,
    "start_time": "2022-03-12T21:54:43.846Z"
   },
   {
    "duration": 6,
    "start_time": "2022-03-12T21:55:19.861Z"
   },
   {
    "duration": 4,
    "start_time": "2022-03-12T21:55:52.941Z"
   },
   {
    "duration": 5,
    "start_time": "2022-03-12T21:56:37.356Z"
   },
   {
    "duration": 18,
    "start_time": "2022-03-12T21:57:01.469Z"
   },
   {
    "duration": 5,
    "start_time": "2022-03-12T22:00:02.450Z"
   },
   {
    "duration": 17,
    "start_time": "2022-03-12T22:00:03.050Z"
   },
   {
    "duration": 13,
    "start_time": "2022-03-12T22:00:41.601Z"
   },
   {
    "duration": 12,
    "start_time": "2022-03-12T22:01:42.481Z"
   },
   {
    "duration": 13,
    "start_time": "2022-03-12T22:01:54.233Z"
   },
   {
    "duration": 3,
    "start_time": "2022-03-12T22:02:37.025Z"
   },
   {
    "duration": 4,
    "start_time": "2022-03-12T22:02:45.224Z"
   },
   {
    "duration": 3,
    "start_time": "2022-03-12T22:02:53.144Z"
   },
   {
    "duration": 3,
    "start_time": "2022-03-12T22:02:53.696Z"
   },
   {
    "duration": 6,
    "start_time": "2022-03-12T22:03:49.263Z"
   },
   {
    "duration": 7,
    "start_time": "2022-03-12T22:03:50.040Z"
   },
   {
    "duration": 4,
    "start_time": "2022-03-12T22:04:09.704Z"
   },
   {
    "duration": 22,
    "start_time": "2022-03-12T22:04:10.904Z"
   },
   {
    "duration": 6,
    "start_time": "2022-03-12T22:05:27.679Z"
   },
   {
    "duration": 6,
    "start_time": "2022-03-12T22:05:47.543Z"
   },
   {
    "duration": 6,
    "start_time": "2022-03-12T22:10:48.066Z"
   },
   {
    "duration": 6,
    "start_time": "2022-03-12T22:10:53.387Z"
   },
   {
    "duration": 6,
    "start_time": "2022-03-12T22:13:10.081Z"
   },
   {
    "duration": 671,
    "start_time": "2022-03-12T22:16:57.751Z"
   },
   {
    "duration": 212,
    "start_time": "2022-03-12T22:20:01.575Z"
   },
   {
    "duration": 310,
    "start_time": "2022-03-12T22:24:34.289Z"
   },
   {
    "duration": 8,
    "start_time": "2022-03-12T22:25:10.873Z"
   },
   {
    "duration": 7,
    "start_time": "2022-03-12T22:25:15.248Z"
   },
   {
    "duration": 7,
    "start_time": "2022-03-12T22:25:26.017Z"
   },
   {
    "duration": 1042,
    "start_time": "2022-03-12T22:25:53.615Z"
   },
   {
    "duration": 388,
    "start_time": "2022-03-12T22:25:54.659Z"
   },
   {
    "duration": 19,
    "start_time": "2022-03-12T22:25:55.049Z"
   },
   {
    "duration": 21,
    "start_time": "2022-03-12T22:25:55.069Z"
   },
   {
    "duration": 27,
    "start_time": "2022-03-12T22:25:55.091Z"
   },
   {
    "duration": 12,
    "start_time": "2022-03-12T22:25:55.120Z"
   },
   {
    "duration": 21,
    "start_time": "2022-03-12T22:25:55.134Z"
   },
   {
    "duration": 15,
    "start_time": "2022-03-12T22:25:55.158Z"
   },
   {
    "duration": 25,
    "start_time": "2022-03-12T22:25:55.175Z"
   },
   {
    "duration": 24,
    "start_time": "2022-03-12T22:25:55.201Z"
   },
   {
    "duration": 23,
    "start_time": "2022-03-12T22:25:55.227Z"
   },
   {
    "duration": 32,
    "start_time": "2022-03-12T22:25:55.252Z"
   },
   {
    "duration": 22,
    "start_time": "2022-03-12T22:25:55.286Z"
   },
   {
    "duration": 46,
    "start_time": "2022-03-12T22:25:55.309Z"
   },
   {
    "duration": 66,
    "start_time": "2022-03-12T22:25:55.356Z"
   },
   {
    "duration": 34,
    "start_time": "2022-03-12T22:25:55.424Z"
   },
   {
    "duration": 36,
    "start_time": "2022-03-12T22:25:55.460Z"
   },
   {
    "duration": 19,
    "start_time": "2022-03-12T22:25:55.498Z"
   },
   {
    "duration": 22,
    "start_time": "2022-03-12T22:25:55.519Z"
   },
   {
    "duration": 39,
    "start_time": "2022-03-12T22:25:55.542Z"
   },
   {
    "duration": 19,
    "start_time": "2022-03-12T22:25:55.582Z"
   },
   {
    "duration": 36,
    "start_time": "2022-03-12T22:25:55.603Z"
   },
   {
    "duration": 22,
    "start_time": "2022-03-12T22:25:55.644Z"
   },
   {
    "duration": 39,
    "start_time": "2022-03-12T22:25:55.669Z"
   },
   {
    "duration": 45,
    "start_time": "2022-03-12T22:25:55.709Z"
   },
   {
    "duration": 51,
    "start_time": "2022-03-12T22:25:55.755Z"
   },
   {
    "duration": 41,
    "start_time": "2022-03-12T22:25:55.808Z"
   },
   {
    "duration": 37,
    "start_time": "2022-03-12T22:25:55.851Z"
   },
   {
    "duration": 30,
    "start_time": "2022-03-12T22:25:55.889Z"
   },
   {
    "duration": 20,
    "start_time": "2022-03-12T22:25:55.920Z"
   },
   {
    "duration": 25,
    "start_time": "2022-03-12T22:25:55.942Z"
   },
   {
    "duration": 22,
    "start_time": "2022-03-12T22:25:55.968Z"
   },
   {
    "duration": 27,
    "start_time": "2022-03-12T22:25:55.991Z"
   },
   {
    "duration": 31,
    "start_time": "2022-03-12T22:25:56.020Z"
   },
   {
    "duration": 24,
    "start_time": "2022-03-12T22:25:56.053Z"
   },
   {
    "duration": 32,
    "start_time": "2022-03-12T22:25:56.078Z"
   },
   {
    "duration": 23,
    "start_time": "2022-03-12T22:25:56.112Z"
   },
   {
    "duration": 27,
    "start_time": "2022-03-12T22:25:56.137Z"
   },
   {
    "duration": 21,
    "start_time": "2022-03-12T22:25:56.166Z"
   },
   {
    "duration": 24,
    "start_time": "2022-03-12T22:25:56.189Z"
   },
   {
    "duration": 50,
    "start_time": "2022-03-12T22:25:56.214Z"
   },
   {
    "duration": 8,
    "start_time": "2022-03-12T22:25:56.266Z"
   },
   {
    "duration": 33,
    "start_time": "2022-03-12T22:25:56.276Z"
   },
   {
    "duration": 24,
    "start_time": "2022-03-12T22:25:56.310Z"
   },
   {
    "duration": 26,
    "start_time": "2022-03-12T22:25:56.336Z"
   },
   {
    "duration": 14,
    "start_time": "2022-03-12T22:25:56.364Z"
   },
   {
    "duration": 35,
    "start_time": "2022-03-12T22:25:56.380Z"
   },
   {
    "duration": 12,
    "start_time": "2022-03-12T22:25:56.417Z"
   },
   {
    "duration": 27,
    "start_time": "2022-03-12T22:25:56.431Z"
   },
   {
    "duration": 34,
    "start_time": "2022-03-12T22:25:56.460Z"
   },
   {
    "duration": 21,
    "start_time": "2022-03-12T22:25:56.496Z"
   },
   {
    "duration": 30,
    "start_time": "2022-03-12T22:25:56.519Z"
   },
   {
    "duration": 31,
    "start_time": "2022-03-12T22:25:56.551Z"
   },
   {
    "duration": 13,
    "start_time": "2022-03-12T22:25:56.584Z"
   },
   {
    "duration": 25,
    "start_time": "2022-03-12T22:25:56.599Z"
   },
   {
    "duration": 25,
    "start_time": "2022-03-12T22:25:56.626Z"
   },
   {
    "duration": 26,
    "start_time": "2022-03-12T22:25:56.654Z"
   },
   {
    "duration": 6,
    "start_time": "2022-03-12T22:25:56.682Z"
   },
   {
    "duration": 30,
    "start_time": "2022-03-12T22:25:56.689Z"
   },
   {
    "duration": 23,
    "start_time": "2022-03-12T22:25:56.721Z"
   },
   {
    "duration": 17,
    "start_time": "2022-03-12T22:25:56.745Z"
   },
   {
    "duration": 17,
    "start_time": "2022-03-12T22:25:56.763Z"
   },
   {
    "duration": 17,
    "start_time": "2022-03-12T22:25:56.781Z"
   },
   {
    "duration": 8,
    "start_time": "2022-03-12T22:25:56.799Z"
   },
   {
    "duration": 20,
    "start_time": "2022-03-12T22:25:56.809Z"
   },
   {
    "duration": 33,
    "start_time": "2022-03-12T22:25:56.831Z"
   },
   {
    "duration": 9,
    "start_time": "2022-03-12T22:25:56.865Z"
   },
   {
    "duration": 42,
    "start_time": "2022-03-12T22:25:56.877Z"
   },
   {
    "duration": 23,
    "start_time": "2022-03-12T22:25:56.921Z"
   },
   {
    "duration": 15,
    "start_time": "2022-03-12T22:25:56.946Z"
   },
   {
    "duration": 293,
    "start_time": "2022-03-12T22:25:56.962Z"
   },
   {
    "duration": 18,
    "start_time": "2022-03-12T22:25:57.257Z"
   },
   {
    "duration": 6,
    "start_time": "2022-03-12T22:26:01.335Z"
   },
   {
    "duration": 18,
    "start_time": "2022-03-12T22:26:02.247Z"
   },
   {
    "duration": 7,
    "start_time": "2022-03-12T22:26:09.304Z"
   },
   {
    "duration": 7,
    "start_time": "2022-03-12T22:26:10.343Z"
   },
   {
    "duration": 11,
    "start_time": "2022-03-12T22:27:09.695Z"
   },
   {
    "duration": 9,
    "start_time": "2022-03-12T22:27:10.423Z"
   },
   {
    "duration": 17,
    "start_time": "2022-03-12T22:28:02.806Z"
   },
   {
    "duration": 13,
    "start_time": "2022-03-12T22:28:03.502Z"
   },
   {
    "duration": 11,
    "start_time": "2022-03-12T22:33:27.522Z"
   },
   {
    "duration": 8,
    "start_time": "2022-03-12T22:33:29.163Z"
   },
   {
    "duration": 11,
    "start_time": "2022-03-12T22:33:58.681Z"
   },
   {
    "duration": 8,
    "start_time": "2022-03-12T22:33:59.171Z"
   },
   {
    "duration": 174,
    "start_time": "2022-03-12T22:43:30.563Z"
   },
   {
    "duration": 157,
    "start_time": "2022-03-12T22:43:37.707Z"
   },
   {
    "duration": 167,
    "start_time": "2022-03-12T22:43:50.435Z"
   },
   {
    "duration": 169,
    "start_time": "2022-03-12T22:44:12.627Z"
   },
   {
    "duration": 1052,
    "start_time": "2022-03-12T22:46:07.722Z"
   },
   {
    "duration": 391,
    "start_time": "2022-03-12T22:46:08.776Z"
   },
   {
    "duration": 18,
    "start_time": "2022-03-12T22:46:09.169Z"
   },
   {
    "duration": 9,
    "start_time": "2022-03-12T22:46:09.189Z"
   },
   {
    "duration": 14,
    "start_time": "2022-03-12T22:46:09.200Z"
   },
   {
    "duration": 7,
    "start_time": "2022-03-12T22:46:09.215Z"
   },
   {
    "duration": 13,
    "start_time": "2022-03-12T22:46:09.223Z"
   },
   {
    "duration": 6,
    "start_time": "2022-03-12T22:46:09.238Z"
   },
   {
    "duration": 5,
    "start_time": "2022-03-12T22:46:09.246Z"
   },
   {
    "duration": 13,
    "start_time": "2022-03-12T22:46:09.252Z"
   },
   {
    "duration": 9,
    "start_time": "2022-03-12T22:46:09.266Z"
   },
   {
    "duration": 31,
    "start_time": "2022-03-12T22:46:09.277Z"
   },
   {
    "duration": 7,
    "start_time": "2022-03-12T22:46:09.309Z"
   },
   {
    "duration": 30,
    "start_time": "2022-03-12T22:46:09.318Z"
   },
   {
    "duration": 73,
    "start_time": "2022-03-12T22:46:09.349Z"
   },
   {
    "duration": 8,
    "start_time": "2022-03-12T22:46:09.423Z"
   },
   {
    "duration": 17,
    "start_time": "2022-03-12T22:46:09.433Z"
   },
   {
    "duration": 6,
    "start_time": "2022-03-12T22:46:09.451Z"
   },
   {
    "duration": 4,
    "start_time": "2022-03-12T22:46:09.459Z"
   },
   {
    "duration": 38,
    "start_time": "2022-03-12T22:46:09.465Z"
   },
   {
    "duration": 18,
    "start_time": "2022-03-12T22:46:09.505Z"
   },
   {
    "duration": 16,
    "start_time": "2022-03-12T22:46:09.525Z"
   },
   {
    "duration": 8,
    "start_time": "2022-03-12T22:46:09.545Z"
   },
   {
    "duration": 3,
    "start_time": "2022-03-12T22:46:09.556Z"
   },
   {
    "duration": 16,
    "start_time": "2022-03-12T22:46:09.560Z"
   },
   {
    "duration": 37,
    "start_time": "2022-03-12T22:46:09.578Z"
   },
   {
    "duration": 25,
    "start_time": "2022-03-12T22:46:09.617Z"
   },
   {
    "duration": 8,
    "start_time": "2022-03-12T22:46:09.644Z"
   },
   {
    "duration": 10,
    "start_time": "2022-03-12T22:46:09.654Z"
   },
   {
    "duration": 37,
    "start_time": "2022-03-12T22:46:09.666Z"
   },
   {
    "duration": 6,
    "start_time": "2022-03-12T22:46:09.705Z"
   },
   {
    "duration": 5,
    "start_time": "2022-03-12T22:46:09.713Z"
   },
   {
    "duration": 9,
    "start_time": "2022-03-12T22:46:09.720Z"
   },
   {
    "duration": 8,
    "start_time": "2022-03-12T22:46:09.730Z"
   },
   {
    "duration": 12,
    "start_time": "2022-03-12T22:46:09.740Z"
   },
   {
    "duration": 12,
    "start_time": "2022-03-12T22:46:09.753Z"
   },
   {
    "duration": 10,
    "start_time": "2022-03-12T22:46:09.766Z"
   },
   {
    "duration": 18,
    "start_time": "2022-03-12T22:46:09.777Z"
   },
   {
    "duration": 10,
    "start_time": "2022-03-12T22:46:09.796Z"
   },
   {
    "duration": 11,
    "start_time": "2022-03-12T22:46:09.807Z"
   },
   {
    "duration": 29,
    "start_time": "2022-03-12T22:46:09.820Z"
   },
   {
    "duration": 7,
    "start_time": "2022-03-12T22:46:09.850Z"
   },
   {
    "duration": 16,
    "start_time": "2022-03-12T22:46:09.859Z"
   },
   {
    "duration": 8,
    "start_time": "2022-03-12T22:46:09.876Z"
   },
   {
    "duration": 28,
    "start_time": "2022-03-12T22:46:09.885Z"
   },
   {
    "duration": 8,
    "start_time": "2022-03-12T22:46:09.914Z"
   },
   {
    "duration": 24,
    "start_time": "2022-03-12T22:46:09.923Z"
   },
   {
    "duration": 3,
    "start_time": "2022-03-12T22:46:09.948Z"
   },
   {
    "duration": 13,
    "start_time": "2022-03-12T22:46:09.952Z"
   },
   {
    "duration": 19,
    "start_time": "2022-03-12T22:46:09.966Z"
   },
   {
    "duration": 14,
    "start_time": "2022-03-12T22:46:09.987Z"
   },
   {
    "duration": 11,
    "start_time": "2022-03-12T22:46:10.003Z"
   },
   {
    "duration": 19,
    "start_time": "2022-03-12T22:46:10.015Z"
   },
   {
    "duration": 3,
    "start_time": "2022-03-12T22:46:10.035Z"
   },
   {
    "duration": 19,
    "start_time": "2022-03-12T22:46:10.040Z"
   },
   {
    "duration": 19,
    "start_time": "2022-03-12T22:46:10.061Z"
   },
   {
    "duration": 32,
    "start_time": "2022-03-12T22:46:10.081Z"
   },
   {
    "duration": 8,
    "start_time": "2022-03-12T22:46:10.115Z"
   },
   {
    "duration": 11,
    "start_time": "2022-03-12T22:46:10.124Z"
   },
   {
    "duration": 7,
    "start_time": "2022-03-12T22:46:10.137Z"
   },
   {
    "duration": 11,
    "start_time": "2022-03-12T22:46:10.146Z"
   },
   {
    "duration": 8,
    "start_time": "2022-03-12T22:46:10.159Z"
   },
   {
    "duration": 9,
    "start_time": "2022-03-12T22:46:10.169Z"
   },
   {
    "duration": 8,
    "start_time": "2022-03-12T22:46:10.179Z"
   },
   {
    "duration": 17,
    "start_time": "2022-03-12T22:46:10.188Z"
   },
   {
    "duration": 17,
    "start_time": "2022-03-12T22:46:10.206Z"
   },
   {
    "duration": 5,
    "start_time": "2022-03-12T22:46:10.225Z"
   },
   {
    "duration": 15,
    "start_time": "2022-03-12T22:46:10.235Z"
   },
   {
    "duration": 10,
    "start_time": "2022-03-12T22:46:10.252Z"
   },
   {
    "duration": 12,
    "start_time": "2022-03-12T22:46:10.264Z"
   },
   {
    "duration": 297,
    "start_time": "2022-03-12T22:46:10.277Z"
   },
   {
    "duration": 31,
    "start_time": "2022-03-12T22:46:10.576Z"
   },
   {
    "duration": 2,
    "start_time": "2022-03-12T22:46:10.609Z"
   },
   {
    "duration": 4,
    "start_time": "2022-03-12T22:46:10.613Z"
   },
   {
    "duration": 4,
    "start_time": "2022-03-12T22:46:10.618Z"
   },
   {
    "duration": 3,
    "start_time": "2022-03-12T22:46:10.624Z"
   },
   {
    "duration": 5,
    "start_time": "2022-03-12T22:46:10.629Z"
   },
   {
    "duration": 530,
    "start_time": "2022-03-12T22:46:10.106Z"
   },
   {
    "duration": 375,
    "start_time": "2022-03-12T22:49:11.191Z"
   },
   {
    "duration": 293,
    "start_time": "2022-03-12T22:49:39.439Z"
   },
   {
    "duration": 300,
    "start_time": "2022-03-12T22:49:55.190Z"
   },
   {
    "duration": 359,
    "start_time": "2022-03-12T22:51:05.525Z"
   },
   {
    "duration": 314,
    "start_time": "2022-03-12T22:51:15.877Z"
   },
   {
    "duration": 302,
    "start_time": "2022-03-12T22:52:35.077Z"
   },
   {
    "duration": 333,
    "start_time": "2022-03-12T22:52:41.773Z"
   },
   {
    "duration": 318,
    "start_time": "2022-03-12T22:52:59.508Z"
   },
   {
    "duration": 303,
    "start_time": "2022-03-12T22:53:07.573Z"
   },
   {
    "duration": 1036,
    "start_time": "2022-03-12T22:53:19.029Z"
   },
   {
    "duration": 388,
    "start_time": "2022-03-12T22:53:20.067Z"
   },
   {
    "duration": 20,
    "start_time": "2022-03-12T22:53:20.456Z"
   },
   {
    "duration": 10,
    "start_time": "2022-03-12T22:53:20.477Z"
   },
   {
    "duration": 15,
    "start_time": "2022-03-12T22:53:20.488Z"
   },
   {
    "duration": 7,
    "start_time": "2022-03-12T22:53:20.505Z"
   },
   {
    "duration": 17,
    "start_time": "2022-03-12T22:53:20.513Z"
   },
   {
    "duration": 6,
    "start_time": "2022-03-12T22:53:20.532Z"
   },
   {
    "duration": 7,
    "start_time": "2022-03-12T22:53:20.540Z"
   },
   {
    "duration": 8,
    "start_time": "2022-03-12T22:53:20.548Z"
   },
   {
    "duration": 10,
    "start_time": "2022-03-12T22:53:20.557Z"
   },
   {
    "duration": 14,
    "start_time": "2022-03-12T22:53:20.569Z"
   },
   {
    "duration": 6,
    "start_time": "2022-03-12T22:53:20.600Z"
   },
   {
    "duration": 31,
    "start_time": "2022-03-12T22:53:20.607Z"
   },
   {
    "duration": 70,
    "start_time": "2022-03-12T22:53:20.639Z"
   },
   {
    "duration": 10,
    "start_time": "2022-03-12T22:53:20.710Z"
   },
   {
    "duration": 18,
    "start_time": "2022-03-12T22:53:20.721Z"
   },
   {
    "duration": 6,
    "start_time": "2022-03-12T22:53:20.741Z"
   },
   {
    "duration": 3,
    "start_time": "2022-03-12T22:53:20.749Z"
   },
   {
    "duration": 19,
    "start_time": "2022-03-12T22:53:20.754Z"
   },
   {
    "duration": 44,
    "start_time": "2022-03-12T22:53:20.774Z"
   },
   {
    "duration": 14,
    "start_time": "2022-03-12T22:53:20.819Z"
   },
   {
    "duration": 7,
    "start_time": "2022-03-12T22:53:20.837Z"
   },
   {
    "duration": 3,
    "start_time": "2022-03-12T22:53:20.846Z"
   },
   {
    "duration": 15,
    "start_time": "2022-03-12T22:53:20.850Z"
   },
   {
    "duration": 35,
    "start_time": "2022-03-12T22:53:20.867Z"
   },
   {
    "duration": 25,
    "start_time": "2022-03-12T22:53:20.903Z"
   },
   {
    "duration": 8,
    "start_time": "2022-03-12T22:53:20.929Z"
   },
   {
    "duration": 14,
    "start_time": "2022-03-12T22:53:20.938Z"
   },
   {
    "duration": 10,
    "start_time": "2022-03-12T22:53:20.953Z"
   },
   {
    "duration": 7,
    "start_time": "2022-03-12T22:53:20.965Z"
   },
   {
    "duration": 8,
    "start_time": "2022-03-12T22:53:20.974Z"
   },
   {
    "duration": 20,
    "start_time": "2022-03-12T22:53:20.983Z"
   },
   {
    "duration": 6,
    "start_time": "2022-03-12T22:53:21.004Z"
   },
   {
    "duration": 16,
    "start_time": "2022-03-12T22:53:21.012Z"
   },
   {
    "duration": 7,
    "start_time": "2022-03-12T22:53:21.030Z"
   },
   {
    "duration": 9,
    "start_time": "2022-03-12T22:53:21.039Z"
   },
   {
    "duration": 17,
    "start_time": "2022-03-12T22:53:21.049Z"
   },
   {
    "duration": 9,
    "start_time": "2022-03-12T22:53:21.068Z"
   },
   {
    "duration": 12,
    "start_time": "2022-03-12T22:53:21.079Z"
   },
   {
    "duration": 23,
    "start_time": "2022-03-12T22:53:21.092Z"
   },
   {
    "duration": 8,
    "start_time": "2022-03-12T22:53:21.117Z"
   },
   {
    "duration": 15,
    "start_time": "2022-03-12T22:53:21.127Z"
   },
   {
    "duration": 8,
    "start_time": "2022-03-12T22:53:21.143Z"
   },
   {
    "duration": 19,
    "start_time": "2022-03-12T22:53:21.153Z"
   },
   {
    "duration": 7,
    "start_time": "2022-03-12T22:53:21.173Z"
   },
   {
    "duration": 24,
    "start_time": "2022-03-12T22:53:21.201Z"
   },
   {
    "duration": 3,
    "start_time": "2022-03-12T22:53:21.226Z"
   },
   {
    "duration": 16,
    "start_time": "2022-03-12T22:53:21.230Z"
   },
   {
    "duration": 17,
    "start_time": "2022-03-12T22:53:21.248Z"
   },
   {
    "duration": 2,
    "start_time": "2022-03-12T22:53:21.267Z"
   },
   {
    "duration": 13,
    "start_time": "2022-03-12T22:53:21.271Z"
   },
   {
    "duration": 27,
    "start_time": "2022-03-12T22:53:21.286Z"
   },
   {
    "duration": 3,
    "start_time": "2022-03-12T22:53:21.314Z"
   },
   {
    "duration": 12,
    "start_time": "2022-03-12T22:53:21.318Z"
   },
   {
    "duration": 18,
    "start_time": "2022-03-12T22:53:21.332Z"
   },
   {
    "duration": 16,
    "start_time": "2022-03-12T22:53:21.351Z"
   },
   {
    "duration": 5,
    "start_time": "2022-03-12T22:53:21.369Z"
   },
   {
    "duration": 32,
    "start_time": "2022-03-12T22:53:21.375Z"
   },
   {
    "duration": 3,
    "start_time": "2022-03-12T22:53:21.409Z"
   },
   {
    "duration": 6,
    "start_time": "2022-03-12T22:53:21.414Z"
   },
   {
    "duration": 8,
    "start_time": "2022-03-12T22:53:21.421Z"
   },
   {
    "duration": 9,
    "start_time": "2022-03-12T22:53:21.430Z"
   },
   {
    "duration": 8,
    "start_time": "2022-03-12T22:53:21.441Z"
   },
   {
    "duration": 10,
    "start_time": "2022-03-12T22:53:21.451Z"
   },
   {
    "duration": 18,
    "start_time": "2022-03-12T22:53:21.462Z"
   },
   {
    "duration": 7,
    "start_time": "2022-03-12T22:53:21.481Z"
   },
   {
    "duration": 15,
    "start_time": "2022-03-12T22:53:21.501Z"
   },
   {
    "duration": 7,
    "start_time": "2022-03-12T22:53:21.518Z"
   },
   {
    "duration": 8,
    "start_time": "2022-03-12T22:53:21.526Z"
   },
   {
    "duration": 292,
    "start_time": "2022-03-12T22:53:21.536Z"
   },
   {
    "duration": 19,
    "start_time": "2022-03-12T22:53:21.830Z"
   },
   {
    "duration": 2,
    "start_time": "2022-03-12T22:53:21.851Z"
   },
   {
    "duration": 3,
    "start_time": "2022-03-12T22:53:21.855Z"
   },
   {
    "duration": 3,
    "start_time": "2022-03-12T22:53:21.860Z"
   },
   {
    "duration": 3,
    "start_time": "2022-03-12T22:53:21.865Z"
   },
   {
    "duration": 4,
    "start_time": "2022-03-12T22:53:21.870Z"
   },
   {
    "duration": 6,
    "start_time": "2022-03-12T22:53:21.901Z"
   },
   {
    "duration": 551,
    "start_time": "2022-03-12T22:53:21.358Z"
   },
   {
    "duration": 3,
    "start_time": "2022-03-12T22:53:32.238Z"
   },
   {
    "duration": 393,
    "start_time": "2022-03-12T22:53:32.243Z"
   },
   {
    "duration": 19,
    "start_time": "2022-03-12T22:53:32.638Z"
   },
   {
    "duration": 8,
    "start_time": "2022-03-12T22:53:32.658Z"
   },
   {
    "duration": 16,
    "start_time": "2022-03-12T22:53:32.667Z"
   },
   {
    "duration": 8,
    "start_time": "2022-03-12T22:53:32.684Z"
   },
   {
    "duration": 13,
    "start_time": "2022-03-12T22:53:32.694Z"
   },
   {
    "duration": 7,
    "start_time": "2022-03-12T22:53:32.709Z"
   },
   {
    "duration": 6,
    "start_time": "2022-03-12T22:53:32.717Z"
   },
   {
    "duration": 9,
    "start_time": "2022-03-12T22:53:32.724Z"
   },
   {
    "duration": 10,
    "start_time": "2022-03-12T22:53:32.734Z"
   },
   {
    "duration": 11,
    "start_time": "2022-03-12T22:53:32.746Z"
   },
   {
    "duration": 8,
    "start_time": "2022-03-12T22:53:32.759Z"
   },
   {
    "duration": 44,
    "start_time": "2022-03-12T22:53:32.768Z"
   },
   {
    "duration": 64,
    "start_time": "2022-03-12T22:53:32.814Z"
   },
   {
    "duration": 9,
    "start_time": "2022-03-12T22:53:32.879Z"
   },
   {
    "duration": 22,
    "start_time": "2022-03-12T22:53:32.889Z"
   },
   {
    "duration": 4,
    "start_time": "2022-03-12T22:53:32.912Z"
   },
   {
    "duration": 4,
    "start_time": "2022-03-12T22:53:32.919Z"
   },
   {
    "duration": 18,
    "start_time": "2022-03-12T22:53:32.925Z"
   },
   {
    "duration": 19,
    "start_time": "2022-03-12T22:53:32.945Z"
   },
   {
    "duration": 40,
    "start_time": "2022-03-12T22:53:32.966Z"
   },
   {
    "duration": 8,
    "start_time": "2022-03-12T22:53:33.008Z"
   },
   {
    "duration": 4,
    "start_time": "2022-03-12T22:53:33.018Z"
   },
   {
    "duration": 16,
    "start_time": "2022-03-12T22:53:33.024Z"
   },
   {
    "duration": 16,
    "start_time": "2022-03-12T22:53:33.042Z"
   },
   {
    "duration": 26,
    "start_time": "2022-03-12T22:53:33.060Z"
   },
   {
    "duration": 8,
    "start_time": "2022-03-12T22:53:33.101Z"
   },
   {
    "duration": 12,
    "start_time": "2022-03-12T22:53:33.110Z"
   },
   {
    "duration": 12,
    "start_time": "2022-03-12T22:53:33.123Z"
   },
   {
    "duration": 9,
    "start_time": "2022-03-12T22:53:33.136Z"
   },
   {
    "duration": 9,
    "start_time": "2022-03-12T22:53:33.147Z"
   },
   {
    "duration": 10,
    "start_time": "2022-03-12T22:53:33.157Z"
   },
   {
    "duration": 8,
    "start_time": "2022-03-12T22:53:33.168Z"
   },
   {
    "duration": 12,
    "start_time": "2022-03-12T22:53:33.178Z"
   },
   {
    "duration": 10,
    "start_time": "2022-03-12T22:53:33.191Z"
   },
   {
    "duration": 8,
    "start_time": "2022-03-12T22:53:33.202Z"
   },
   {
    "duration": 17,
    "start_time": "2022-03-12T22:53:33.212Z"
   },
   {
    "duration": 10,
    "start_time": "2022-03-12T22:53:33.230Z"
   },
   {
    "duration": 12,
    "start_time": "2022-03-12T22:53:33.241Z"
   },
   {
    "duration": 24,
    "start_time": "2022-03-12T22:53:33.254Z"
   },
   {
    "duration": 7,
    "start_time": "2022-03-12T22:53:33.280Z"
   },
   {
    "duration": 25,
    "start_time": "2022-03-12T22:53:33.288Z"
   },
   {
    "duration": 7,
    "start_time": "2022-03-12T22:53:33.315Z"
   },
   {
    "duration": 18,
    "start_time": "2022-03-12T22:53:33.324Z"
   },
   {
    "duration": 9,
    "start_time": "2022-03-12T22:53:33.343Z"
   },
   {
    "duration": 48,
    "start_time": "2022-03-12T22:53:33.353Z"
   },
   {
    "duration": 2,
    "start_time": "2022-03-12T22:53:33.403Z"
   },
   {
    "duration": 12,
    "start_time": "2022-03-12T22:53:33.407Z"
   },
   {
    "duration": 14,
    "start_time": "2022-03-12T22:53:33.421Z"
   },
   {
    "duration": 2,
    "start_time": "2022-03-12T22:53:33.436Z"
   },
   {
    "duration": 12,
    "start_time": "2022-03-12T22:53:33.440Z"
   },
   {
    "duration": 17,
    "start_time": "2022-03-12T22:53:33.454Z"
   },
   {
    "duration": 2,
    "start_time": "2022-03-12T22:53:33.473Z"
   },
   {
    "duration": 26,
    "start_time": "2022-03-12T22:53:33.479Z"
   },
   {
    "duration": 18,
    "start_time": "2022-03-12T22:53:33.507Z"
   },
   {
    "duration": 17,
    "start_time": "2022-03-12T22:53:33.527Z"
   },
   {
    "duration": 5,
    "start_time": "2022-03-12T22:53:33.546Z"
   },
   {
    "duration": 10,
    "start_time": "2022-03-12T22:53:33.553Z"
   },
   {
    "duration": 9,
    "start_time": "2022-03-12T22:53:33.564Z"
   },
   {
    "duration": 27,
    "start_time": "2022-03-12T22:53:33.574Z"
   },
   {
    "duration": 3,
    "start_time": "2022-03-12T22:53:33.603Z"
   },
   {
    "duration": 8,
    "start_time": "2022-03-12T22:53:33.607Z"
   },
   {
    "duration": 9,
    "start_time": "2022-03-12T22:53:33.616Z"
   },
   {
    "duration": 15,
    "start_time": "2022-03-12T22:53:33.626Z"
   },
   {
    "duration": 19,
    "start_time": "2022-03-12T22:53:33.643Z"
   },
   {
    "duration": 6,
    "start_time": "2022-03-12T22:53:33.664Z"
   },
   {
    "duration": 29,
    "start_time": "2022-03-12T22:53:33.672Z"
   },
   {
    "duration": 7,
    "start_time": "2022-03-12T22:53:33.703Z"
   },
   {
    "duration": 8,
    "start_time": "2022-03-12T22:53:33.712Z"
   },
   {
    "duration": 286,
    "start_time": "2022-03-12T22:53:33.722Z"
   },
   {
    "duration": 19,
    "start_time": "2022-03-12T22:53:34.010Z"
   },
   {
    "duration": 4,
    "start_time": "2022-03-12T22:53:34.030Z"
   },
   {
    "duration": 3,
    "start_time": "2022-03-12T22:53:34.036Z"
   },
   {
    "duration": 4,
    "start_time": "2022-03-12T22:53:34.041Z"
   },
   {
    "duration": 4,
    "start_time": "2022-03-12T22:53:34.046Z"
   },
   {
    "duration": 5,
    "start_time": "2022-03-12T22:53:34.051Z"
   },
   {
    "duration": 9,
    "start_time": "2022-03-12T22:53:34.057Z"
   },
   {
    "duration": 8,
    "start_time": "2022-03-12T22:53:34.068Z"
   },
   {
    "duration": 395,
    "start_time": "2022-03-12T22:53:40.248Z"
   },
   {
    "duration": 2,
    "start_time": "2022-03-12T23:01:35.628Z"
   },
   {
    "duration": 302,
    "start_time": "2022-03-12T23:02:08.666Z"
   },
   {
    "duration": 7,
    "start_time": "2022-03-12T23:02:28.779Z"
   },
   {
    "duration": 9,
    "start_time": "2022-03-12T23:02:35.531Z"
   },
   {
    "duration": 6,
    "start_time": "2022-03-12T23:02:53.794Z"
   },
   {
    "duration": 17,
    "start_time": "2022-03-12T23:02:56.506Z"
   },
   {
    "duration": 8,
    "start_time": "2022-03-12T23:03:14.617Z"
   },
   {
    "duration": 6,
    "start_time": "2022-03-12T23:03:34.410Z"
   },
   {
    "duration": 5,
    "start_time": "2022-03-12T23:03:53.314Z"
   },
   {
    "duration": 4,
    "start_time": "2022-03-12T23:03:54.921Z"
   },
   {
    "duration": 4,
    "start_time": "2022-03-12T23:03:59.146Z"
   },
   {
    "duration": 308,
    "start_time": "2022-03-12T23:05:06.928Z"
   },
   {
    "duration": 4,
    "start_time": "2022-03-12T23:05:26.873Z"
   },
   {
    "duration": 5,
    "start_time": "2022-03-12T23:05:29.335Z"
   },
   {
    "duration": 12,
    "start_time": "2022-03-12T23:06:23.263Z"
   },
   {
    "duration": 9,
    "start_time": "2022-03-12T23:06:25.767Z"
   },
   {
    "duration": 1102,
    "start_time": "2022-03-12T23:06:58.564Z"
   },
   {
    "duration": 399,
    "start_time": "2022-03-12T23:06:59.668Z"
   },
   {
    "duration": 19,
    "start_time": "2022-03-12T23:07:00.070Z"
   },
   {
    "duration": 11,
    "start_time": "2022-03-12T23:07:00.091Z"
   },
   {
    "duration": 17,
    "start_time": "2022-03-12T23:07:00.104Z"
   },
   {
    "duration": 8,
    "start_time": "2022-03-12T23:07:00.123Z"
   },
   {
    "duration": 14,
    "start_time": "2022-03-12T23:07:00.133Z"
   },
   {
    "duration": 7,
    "start_time": "2022-03-12T23:07:00.150Z"
   },
   {
    "duration": 44,
    "start_time": "2022-03-12T23:07:00.159Z"
   },
   {
    "duration": 8,
    "start_time": "2022-03-12T23:07:00.205Z"
   },
   {
    "duration": 7,
    "start_time": "2022-03-12T23:07:00.215Z"
   },
   {
    "duration": 11,
    "start_time": "2022-03-12T23:07:00.223Z"
   },
   {
    "duration": 8,
    "start_time": "2022-03-12T23:07:00.236Z"
   },
   {
    "duration": 38,
    "start_time": "2022-03-12T23:07:00.246Z"
   },
   {
    "duration": 81,
    "start_time": "2022-03-12T23:07:00.285Z"
   },
   {
    "duration": 15,
    "start_time": "2022-03-12T23:07:00.367Z"
   },
   {
    "duration": 30,
    "start_time": "2022-03-12T23:07:00.384Z"
   },
   {
    "duration": 7,
    "start_time": "2022-03-12T23:07:00.415Z"
   },
   {
    "duration": 16,
    "start_time": "2022-03-12T23:07:00.424Z"
   },
   {
    "duration": 27,
    "start_time": "2022-03-12T23:07:00.442Z"
   },
   {
    "duration": 27,
    "start_time": "2022-03-12T23:07:00.470Z"
   },
   {
    "duration": 13,
    "start_time": "2022-03-12T23:07:00.499Z"
   },
   {
    "duration": 7,
    "start_time": "2022-03-12T23:07:00.516Z"
   },
   {
    "duration": 9,
    "start_time": "2022-03-12T23:07:00.526Z"
   },
   {
    "duration": 16,
    "start_time": "2022-03-12T23:07:00.537Z"
   },
   {
    "duration": 17,
    "start_time": "2022-03-12T23:07:00.555Z"
   },
   {
    "duration": 47,
    "start_time": "2022-03-12T23:07:00.574Z"
   },
   {
    "duration": 17,
    "start_time": "2022-03-12T23:07:00.623Z"
   },
   {
    "duration": 17,
    "start_time": "2022-03-12T23:07:00.641Z"
   },
   {
    "duration": 11,
    "start_time": "2022-03-12T23:07:00.660Z"
   },
   {
    "duration": 7,
    "start_time": "2022-03-12T23:07:00.673Z"
   },
   {
    "duration": 9,
    "start_time": "2022-03-12T23:07:00.681Z"
   },
   {
    "duration": 19,
    "start_time": "2022-03-12T23:07:00.692Z"
   },
   {
    "duration": 12,
    "start_time": "2022-03-12T23:07:00.713Z"
   },
   {
    "duration": 22,
    "start_time": "2022-03-12T23:07:00.726Z"
   },
   {
    "duration": 16,
    "start_time": "2022-03-12T23:07:00.749Z"
   },
   {
    "duration": 16,
    "start_time": "2022-03-12T23:07:00.766Z"
   },
   {
    "duration": 27,
    "start_time": "2022-03-12T23:07:00.784Z"
   },
   {
    "duration": 13,
    "start_time": "2022-03-12T23:07:00.813Z"
   },
   {
    "duration": 14,
    "start_time": "2022-03-12T23:07:00.828Z"
   },
   {
    "duration": 33,
    "start_time": "2022-03-12T23:07:00.843Z"
   },
   {
    "duration": 8,
    "start_time": "2022-03-12T23:07:00.878Z"
   },
   {
    "duration": 21,
    "start_time": "2022-03-12T23:07:00.888Z"
   },
   {
    "duration": 9,
    "start_time": "2022-03-12T23:07:00.910Z"
   },
   {
    "duration": 19,
    "start_time": "2022-03-12T23:07:00.921Z"
   },
   {
    "duration": 15,
    "start_time": "2022-03-12T23:07:00.942Z"
   },
   {
    "duration": 44,
    "start_time": "2022-03-12T23:07:00.958Z"
   },
   {
    "duration": 3,
    "start_time": "2022-03-12T23:07:01.003Z"
   },
   {
    "duration": 28,
    "start_time": "2022-03-12T23:07:01.007Z"
   },
   {
    "duration": 17,
    "start_time": "2022-03-12T23:07:01.037Z"
   },
   {
    "duration": 3,
    "start_time": "2022-03-12T23:07:01.055Z"
   },
   {
    "duration": 29,
    "start_time": "2022-03-12T23:07:01.059Z"
   },
   {
    "duration": 23,
    "start_time": "2022-03-12T23:07:01.090Z"
   },
   {
    "duration": 8,
    "start_time": "2022-03-12T23:07:01.115Z"
   },
   {
    "duration": 17,
    "start_time": "2022-03-12T23:07:01.124Z"
   },
   {
    "duration": 25,
    "start_time": "2022-03-12T23:07:01.142Z"
   },
   {
    "duration": 17,
    "start_time": "2022-03-12T23:07:01.170Z"
   },
   {
    "duration": 6,
    "start_time": "2022-03-12T23:07:01.189Z"
   },
   {
    "duration": 12,
    "start_time": "2022-03-12T23:07:01.196Z"
   },
   {
    "duration": 8,
    "start_time": "2022-03-12T23:07:01.210Z"
   },
   {
    "duration": 25,
    "start_time": "2022-03-12T23:07:01.219Z"
   },
   {
    "duration": 16,
    "start_time": "2022-03-12T23:07:01.245Z"
   },
   {
    "duration": 24,
    "start_time": "2022-03-12T23:07:01.262Z"
   },
   {
    "duration": 22,
    "start_time": "2022-03-12T23:07:01.287Z"
   },
   {
    "duration": 14,
    "start_time": "2022-03-12T23:07:01.310Z"
   },
   {
    "duration": 23,
    "start_time": "2022-03-12T23:07:01.326Z"
   },
   {
    "duration": 9,
    "start_time": "2022-03-12T23:07:01.350Z"
   },
   {
    "duration": 17,
    "start_time": "2022-03-12T23:07:01.363Z"
   },
   {
    "duration": 15,
    "start_time": "2022-03-12T23:07:01.381Z"
   },
   {
    "duration": 9,
    "start_time": "2022-03-12T23:07:01.398Z"
   },
   {
    "duration": 280,
    "start_time": "2022-03-12T23:07:01.409Z"
   },
   {
    "duration": 19,
    "start_time": "2022-03-12T23:07:01.691Z"
   },
   {
    "duration": 6,
    "start_time": "2022-03-12T23:07:01.711Z"
   },
   {
    "duration": 22,
    "start_time": "2022-03-12T23:07:01.718Z"
   },
   {
    "duration": 3,
    "start_time": "2022-03-12T23:07:01.742Z"
   },
   {
    "duration": 4,
    "start_time": "2022-03-12T23:07:01.747Z"
   },
   {
    "duration": 4,
    "start_time": "2022-03-12T23:07:01.752Z"
   },
   {
    "duration": 14,
    "start_time": "2022-03-12T23:07:01.758Z"
   },
   {
    "duration": 29,
    "start_time": "2022-03-12T23:07:01.774Z"
   },
   {
    "duration": 4,
    "start_time": "2022-03-12T23:07:46.040Z"
   },
   {
    "duration": 4,
    "start_time": "2022-03-12T23:07:52.413Z"
   },
   {
    "duration": 374,
    "start_time": "2022-03-12T23:08:05.223Z"
   },
   {
    "duration": 7,
    "start_time": "2022-03-12T23:08:25.055Z"
   },
   {
    "duration": 7,
    "start_time": "2022-03-12T23:08:32.294Z"
   },
   {
    "duration": 295,
    "start_time": "2022-03-12T23:08:57.823Z"
   },
   {
    "duration": 353,
    "start_time": "2022-03-12T23:14:39.899Z"
   },
   {
    "duration": 299,
    "start_time": "2022-03-12T23:16:20.234Z"
   },
   {
    "duration": 2,
    "start_time": "2022-03-12T23:20:35.367Z"
   },
   {
    "duration": 3,
    "start_time": "2022-03-12T23:20:35.959Z"
   },
   {
    "duration": 2,
    "start_time": "2022-03-12T23:20:37.310Z"
   },
   {
    "duration": 2,
    "start_time": "2022-03-12T23:20:37.814Z"
   },
   {
    "duration": 2,
    "start_time": "2022-03-12T23:20:38.543Z"
   },
   {
    "duration": 2,
    "start_time": "2022-03-12T23:20:39.135Z"
   },
   {
    "duration": 2039,
    "start_time": "2022-03-12T23:22:18.717Z"
   },
   {
    "duration": 11,
    "start_time": "2022-03-12T23:28:29.056Z"
   },
   {
    "duration": 8,
    "start_time": "2022-03-12T23:28:32.033Z"
   },
   {
    "duration": 6,
    "start_time": "2022-03-12T23:28:48.208Z"
   },
   {
    "duration": 17,
    "start_time": "2022-03-12T23:28:55.889Z"
   },
   {
    "duration": 8538,
    "start_time": "2022-03-12T23:30:02.249Z"
   },
   {
    "duration": 7678,
    "start_time": "2022-03-12T23:30:25.784Z"
   },
   {
    "duration": 7,
    "start_time": "2022-03-12T23:32:42.190Z"
   },
   {
    "duration": 7,
    "start_time": "2022-03-12T23:32:45.167Z"
   },
   {
    "duration": 2,
    "start_time": "2022-03-12T23:33:16.374Z"
   },
   {
    "duration": 5,
    "start_time": "2022-03-12T23:33:24.966Z"
   },
   {
    "duration": 5,
    "start_time": "2022-03-12T23:33:35.934Z"
   },
   {
    "duration": 9,
    "start_time": "2022-03-12T23:33:47.189Z"
   },
   {
    "duration": 3,
    "start_time": "2022-03-12T23:35:07.853Z"
   },
   {
    "duration": 3,
    "start_time": "2022-03-12T23:35:15.732Z"
   },
   {
    "duration": 9,
    "start_time": "2022-03-12T23:35:16.469Z"
   },
   {
    "duration": 2,
    "start_time": "2022-03-12T23:38:16.851Z"
   },
   {
    "duration": 4,
    "start_time": "2022-03-12T23:38:27.627Z"
   },
   {
    "duration": 9,
    "start_time": "2022-03-12T23:38:29.659Z"
   },
   {
    "duration": 3,
    "start_time": "2022-03-12T23:43:35.814Z"
   },
   {
    "duration": 334,
    "start_time": "2022-03-12T23:43:38.959Z"
   },
   {
    "duration": 324,
    "start_time": "2022-03-12T23:43:59.287Z"
   },
   {
    "duration": 367,
    "start_time": "2022-03-12T23:44:53.910Z"
   },
   {
    "duration": 303,
    "start_time": "2022-03-12T23:45:52.432Z"
   },
   {
    "duration": 1038,
    "start_time": "2022-03-12T23:48:28.222Z"
   },
   {
    "duration": 380,
    "start_time": "2022-03-12T23:48:29.262Z"
   },
   {
    "duration": 20,
    "start_time": "2022-03-12T23:48:29.644Z"
   },
   {
    "duration": 20,
    "start_time": "2022-03-12T23:48:29.665Z"
   },
   {
    "duration": 37,
    "start_time": "2022-03-12T23:48:29.686Z"
   },
   {
    "duration": 14,
    "start_time": "2022-03-12T23:48:29.725Z"
   },
   {
    "duration": 40,
    "start_time": "2022-03-12T23:48:29.741Z"
   },
   {
    "duration": 21,
    "start_time": "2022-03-12T23:48:29.783Z"
   },
   {
    "duration": 23,
    "start_time": "2022-03-12T23:48:29.806Z"
   },
   {
    "duration": 7,
    "start_time": "2022-03-12T23:48:29.831Z"
   },
   {
    "duration": 5,
    "start_time": "2022-03-12T23:48:29.840Z"
   },
   {
    "duration": 9,
    "start_time": "2022-03-12T23:48:29.847Z"
   },
   {
    "duration": 9,
    "start_time": "2022-03-12T23:48:29.858Z"
   },
   {
    "duration": 30,
    "start_time": "2022-03-12T23:48:29.868Z"
   },
   {
    "duration": 64,
    "start_time": "2022-03-12T23:48:29.899Z"
   },
   {
    "duration": 10,
    "start_time": "2022-03-12T23:48:29.964Z"
   },
   {
    "duration": 30,
    "start_time": "2022-03-12T23:48:29.976Z"
   },
   {
    "duration": 7,
    "start_time": "2022-03-12T23:48:30.007Z"
   },
   {
    "duration": 39,
    "start_time": "2022-03-12T23:48:30.016Z"
   },
   {
    "duration": 21,
    "start_time": "2022-03-12T23:48:30.057Z"
   },
   {
    "duration": 19,
    "start_time": "2022-03-12T23:48:30.080Z"
   },
   {
    "duration": 14,
    "start_time": "2022-03-12T23:48:30.100Z"
   },
   {
    "duration": 7,
    "start_time": "2022-03-12T23:48:30.118Z"
   },
   {
    "duration": 12,
    "start_time": "2022-03-12T23:48:30.127Z"
   },
   {
    "duration": 19,
    "start_time": "2022-03-12T23:48:30.141Z"
   },
   {
    "duration": 16,
    "start_time": "2022-03-12T23:48:30.162Z"
   },
   {
    "duration": 27,
    "start_time": "2022-03-12T23:48:30.179Z"
   },
   {
    "duration": 17,
    "start_time": "2022-03-12T23:48:30.208Z"
   },
   {
    "duration": 24,
    "start_time": "2022-03-12T23:48:30.226Z"
   },
   {
    "duration": 17,
    "start_time": "2022-03-12T23:48:30.252Z"
   },
   {
    "duration": 19,
    "start_time": "2022-03-12T23:48:30.271Z"
   },
   {
    "duration": 18,
    "start_time": "2022-03-12T23:48:30.292Z"
   },
   {
    "duration": 17,
    "start_time": "2022-03-12T23:48:30.312Z"
   },
   {
    "duration": 13,
    "start_time": "2022-03-12T23:48:30.331Z"
   },
   {
    "duration": 17,
    "start_time": "2022-03-12T23:48:30.345Z"
   },
   {
    "duration": 16,
    "start_time": "2022-03-12T23:48:30.364Z"
   },
   {
    "duration": 10,
    "start_time": "2022-03-12T23:48:30.382Z"
   },
   {
    "duration": 26,
    "start_time": "2022-03-12T23:48:30.394Z"
   },
   {
    "duration": 14,
    "start_time": "2022-03-12T23:48:30.422Z"
   },
   {
    "duration": 21,
    "start_time": "2022-03-12T23:48:30.438Z"
   },
   {
    "duration": 44,
    "start_time": "2022-03-12T23:48:30.461Z"
   },
   {
    "duration": 11,
    "start_time": "2022-03-12T23:48:30.507Z"
   },
   {
    "duration": 40,
    "start_time": "2022-03-12T23:48:30.519Z"
   },
   {
    "duration": 9,
    "start_time": "2022-03-12T23:48:30.560Z"
   },
   {
    "duration": 31,
    "start_time": "2022-03-12T23:48:30.571Z"
   },
   {
    "duration": 11,
    "start_time": "2022-03-12T23:48:30.604Z"
   },
   {
    "duration": 32,
    "start_time": "2022-03-12T23:48:30.616Z"
   },
   {
    "duration": 3,
    "start_time": "2022-03-12T23:48:30.649Z"
   },
   {
    "duration": 24,
    "start_time": "2022-03-12T23:48:30.654Z"
   },
   {
    "duration": 31,
    "start_time": "2022-03-12T23:48:30.679Z"
   },
   {
    "duration": 11,
    "start_time": "2022-03-12T23:48:30.712Z"
   },
   {
    "duration": 21,
    "start_time": "2022-03-12T23:48:30.725Z"
   },
   {
    "duration": 26,
    "start_time": "2022-03-12T23:48:30.748Z"
   },
   {
    "duration": 3,
    "start_time": "2022-03-12T23:48:30.776Z"
   },
   {
    "duration": 23,
    "start_time": "2022-03-12T23:48:30.781Z"
   },
   {
    "duration": 30,
    "start_time": "2022-03-12T23:48:30.806Z"
   },
   {
    "duration": 21,
    "start_time": "2022-03-12T23:48:30.838Z"
   },
   {
    "duration": 8,
    "start_time": "2022-03-12T23:48:30.861Z"
   },
   {
    "duration": 13,
    "start_time": "2022-03-12T23:48:30.871Z"
   },
   {
    "duration": 5,
    "start_time": "2022-03-12T23:48:30.902Z"
   },
   {
    "duration": 12,
    "start_time": "2022-03-12T23:48:30.909Z"
   },
   {
    "duration": 9,
    "start_time": "2022-03-12T23:48:30.923Z"
   },
   {
    "duration": 10,
    "start_time": "2022-03-12T23:48:30.934Z"
   },
   {
    "duration": 11,
    "start_time": "2022-03-12T23:48:30.945Z"
   },
   {
    "duration": 17,
    "start_time": "2022-03-12T23:48:30.958Z"
   },
   {
    "duration": 29,
    "start_time": "2022-03-12T23:48:30.977Z"
   },
   {
    "duration": 17,
    "start_time": "2022-03-12T23:48:31.007Z"
   },
   {
    "duration": 21,
    "start_time": "2022-03-12T23:48:31.029Z"
   },
   {
    "duration": 15,
    "start_time": "2022-03-12T23:48:31.052Z"
   },
   {
    "duration": 13,
    "start_time": "2022-03-12T23:48:31.069Z"
   },
   {
    "duration": 290,
    "start_time": "2022-03-12T23:48:31.084Z"
   },
   {
    "duration": 19,
    "start_time": "2022-03-12T23:48:31.375Z"
   },
   {
    "duration": 7,
    "start_time": "2022-03-12T23:48:31.401Z"
   },
   {
    "duration": 24,
    "start_time": "2022-03-12T23:48:31.409Z"
   },
   {
    "duration": 7,
    "start_time": "2022-03-12T23:48:31.434Z"
   },
   {
    "duration": 11,
    "start_time": "2022-03-12T23:48:31.443Z"
   },
   {
    "duration": 12,
    "start_time": "2022-03-12T23:48:31.455Z"
   },
   {
    "duration": 6,
    "start_time": "2022-03-12T23:48:31.468Z"
   },
   {
    "duration": 14,
    "start_time": "2022-03-12T23:48:31.475Z"
   },
   {
    "duration": 17,
    "start_time": "2022-03-12T23:48:31.491Z"
   },
   {
    "duration": 9,
    "start_time": "2022-03-12T23:48:31.510Z"
   },
   {
    "duration": 3,
    "start_time": "2022-03-12T23:48:51.794Z"
   },
   {
    "duration": 4,
    "start_time": "2022-03-12T23:49:29.810Z"
   },
   {
    "duration": 8,
    "start_time": "2022-03-12T23:49:37.802Z"
   },
   {
    "duration": 4,
    "start_time": "2022-03-12T23:52:34.616Z"
   },
   {
    "duration": 3,
    "start_time": "2022-03-12T23:52:44.392Z"
   },
   {
    "duration": 390,
    "start_time": "2022-03-12T23:52:59.415Z"
   },
   {
    "duration": 176,
    "start_time": "2022-03-12T23:54:26.766Z"
   },
   {
    "duration": 278,
    "start_time": "2022-03-12T23:54:44.783Z"
   },
   {
    "duration": 3,
    "start_time": "2022-03-12T23:55:58.430Z"
   },
   {
    "duration": 1072,
    "start_time": "2022-03-13T11:55:31.001Z"
   },
   {
    "duration": 421,
    "start_time": "2022-03-13T11:55:32.075Z"
   },
   {
    "duration": 19,
    "start_time": "2022-03-13T11:55:32.498Z"
   },
   {
    "duration": 11,
    "start_time": "2022-03-13T11:55:32.519Z"
   },
   {
    "duration": 20,
    "start_time": "2022-03-13T11:55:32.531Z"
   },
   {
    "duration": 7,
    "start_time": "2022-03-13T11:55:32.553Z"
   },
   {
    "duration": 13,
    "start_time": "2022-03-13T11:55:32.561Z"
   },
   {
    "duration": 30,
    "start_time": "2022-03-13T11:55:32.576Z"
   },
   {
    "duration": 6,
    "start_time": "2022-03-13T11:55:32.608Z"
   },
   {
    "duration": 10,
    "start_time": "2022-03-13T11:55:32.616Z"
   },
   {
    "duration": 7,
    "start_time": "2022-03-13T11:55:32.627Z"
   },
   {
    "duration": 12,
    "start_time": "2022-03-13T11:55:32.635Z"
   },
   {
    "duration": 9,
    "start_time": "2022-03-13T11:55:32.649Z"
   },
   {
    "duration": 46,
    "start_time": "2022-03-13T11:55:32.660Z"
   },
   {
    "duration": 44,
    "start_time": "2022-03-13T11:55:32.707Z"
   },
   {
    "duration": 9,
    "start_time": "2022-03-13T11:55:32.753Z"
   },
   {
    "duration": 21,
    "start_time": "2022-03-13T11:55:32.763Z"
   },
   {
    "duration": 16,
    "start_time": "2022-03-13T11:55:32.785Z"
   },
   {
    "duration": 4,
    "start_time": "2022-03-13T11:55:32.802Z"
   },
   {
    "duration": 18,
    "start_time": "2022-03-13T11:55:32.807Z"
   },
   {
    "duration": 17,
    "start_time": "2022-03-13T11:55:32.826Z"
   },
   {
    "duration": 11,
    "start_time": "2022-03-13T11:55:32.845Z"
   },
   {
    "duration": 7,
    "start_time": "2022-03-13T11:55:32.860Z"
   },
   {
    "duration": 5,
    "start_time": "2022-03-13T11:55:32.869Z"
   },
   {
    "duration": 11,
    "start_time": "2022-03-13T11:55:32.901Z"
   },
   {
    "duration": 14,
    "start_time": "2022-03-13T11:55:32.914Z"
   },
   {
    "duration": 21,
    "start_time": "2022-03-13T11:55:32.930Z"
   },
   {
    "duration": 9,
    "start_time": "2022-03-13T11:55:32.952Z"
   },
   {
    "duration": 14,
    "start_time": "2022-03-13T11:55:32.962Z"
   },
   {
    "duration": 29,
    "start_time": "2022-03-13T11:55:32.977Z"
   },
   {
    "duration": 5,
    "start_time": "2022-03-13T11:55:33.007Z"
   },
   {
    "duration": 7,
    "start_time": "2022-03-13T11:55:33.013Z"
   },
   {
    "duration": 8,
    "start_time": "2022-03-13T11:55:33.021Z"
   },
   {
    "duration": 8,
    "start_time": "2022-03-13T11:55:33.031Z"
   },
   {
    "duration": 12,
    "start_time": "2022-03-13T11:55:33.041Z"
   },
   {
    "duration": 7,
    "start_time": "2022-03-13T11:55:33.055Z"
   },
   {
    "duration": 7,
    "start_time": "2022-03-13T11:55:33.064Z"
   },
   {
    "duration": 15,
    "start_time": "2022-03-13T11:55:33.073Z"
   },
   {
    "duration": 12,
    "start_time": "2022-03-13T11:55:33.089Z"
   },
   {
    "duration": 7,
    "start_time": "2022-03-13T11:55:33.102Z"
   },
   {
    "duration": 27,
    "start_time": "2022-03-13T11:55:33.110Z"
   },
   {
    "duration": 7,
    "start_time": "2022-03-13T11:55:33.139Z"
   },
   {
    "duration": 16,
    "start_time": "2022-03-13T11:55:33.147Z"
   },
   {
    "duration": 8,
    "start_time": "2022-03-13T11:55:33.164Z"
   },
   {
    "duration": 28,
    "start_time": "2022-03-13T11:55:33.173Z"
   },
   {
    "duration": 7,
    "start_time": "2022-03-13T11:55:33.203Z"
   },
   {
    "duration": 20,
    "start_time": "2022-03-13T11:55:33.211Z"
   },
   {
    "duration": 3,
    "start_time": "2022-03-13T11:55:33.232Z"
   },
   {
    "duration": 12,
    "start_time": "2022-03-13T11:55:33.236Z"
   },
   {
    "duration": 18,
    "start_time": "2022-03-13T11:55:33.249Z"
   },
   {
    "duration": 2,
    "start_time": "2022-03-13T11:55:33.269Z"
   },
   {
    "duration": 33,
    "start_time": "2022-03-13T11:55:33.273Z"
   },
   {
    "duration": 13,
    "start_time": "2022-03-13T11:55:33.307Z"
   },
   {
    "duration": 2,
    "start_time": "2022-03-13T11:55:33.321Z"
   },
   {
    "duration": 15,
    "start_time": "2022-03-13T11:55:33.325Z"
   },
   {
    "duration": 18,
    "start_time": "2022-03-13T11:55:33.342Z"
   },
   {
    "duration": 17,
    "start_time": "2022-03-13T11:55:33.361Z"
   },
   {
    "duration": 23,
    "start_time": "2022-03-13T11:55:33.379Z"
   },
   {
    "duration": 9,
    "start_time": "2022-03-13T11:55:33.403Z"
   },
   {
    "duration": 4,
    "start_time": "2022-03-13T11:55:33.413Z"
   },
   {
    "duration": 9,
    "start_time": "2022-03-13T11:55:33.418Z"
   },
   {
    "duration": 8,
    "start_time": "2022-03-13T11:55:33.428Z"
   },
   {
    "duration": 8,
    "start_time": "2022-03-13T11:55:33.438Z"
   },
   {
    "duration": 10,
    "start_time": "2022-03-13T11:55:33.447Z"
   },
   {
    "duration": 11,
    "start_time": "2022-03-13T11:55:33.458Z"
   },
   {
    "duration": 20,
    "start_time": "2022-03-13T11:55:33.470Z"
   },
   {
    "duration": 10,
    "start_time": "2022-03-13T11:55:33.491Z"
   },
   {
    "duration": 16,
    "start_time": "2022-03-13T11:55:33.505Z"
   },
   {
    "duration": 6,
    "start_time": "2022-03-13T11:55:33.522Z"
   },
   {
    "duration": 7,
    "start_time": "2022-03-13T11:55:33.530Z"
   },
   {
    "duration": 304,
    "start_time": "2022-03-13T11:55:33.539Z"
   },
   {
    "duration": 18,
    "start_time": "2022-03-13T11:55:33.844Z"
   },
   {
    "duration": 5,
    "start_time": "2022-03-13T11:55:33.863Z"
   },
   {
    "duration": 33,
    "start_time": "2022-03-13T11:55:33.869Z"
   },
   {
    "duration": 5,
    "start_time": "2022-03-13T11:55:33.903Z"
   },
   {
    "duration": 7,
    "start_time": "2022-03-13T11:55:33.910Z"
   },
   {
    "duration": 3,
    "start_time": "2022-03-13T11:55:33.919Z"
   },
   {
    "duration": 6,
    "start_time": "2022-03-13T11:55:33.923Z"
   },
   {
    "duration": 3,
    "start_time": "2022-03-13T11:55:33.931Z"
   },
   {
    "duration": 13,
    "start_time": "2022-03-13T11:55:33.936Z"
   },
   {
    "duration": 8,
    "start_time": "2022-03-13T11:55:33.951Z"
   },
   {
    "duration": 5,
    "start_time": "2022-03-13T11:55:33.961Z"
   },
   {
    "duration": 2,
    "start_time": "2022-03-13T11:56:27.985Z"
   },
   {
    "duration": 4,
    "start_time": "2022-03-13T11:56:56.152Z"
   },
   {
    "duration": 8,
    "start_time": "2022-03-13T11:57:01.289Z"
   },
   {
    "duration": 5,
    "start_time": "2022-03-13T11:57:28.944Z"
   },
   {
    "duration": 4,
    "start_time": "2022-03-13T11:57:34.512Z"
   },
   {
    "duration": 5,
    "start_time": "2022-03-13T11:59:13.734Z"
   },
   {
    "duration": 4,
    "start_time": "2022-03-13T11:59:14.398Z"
   },
   {
    "duration": 10930,
    "start_time": "2022-03-13T12:01:33.197Z"
   },
   {
    "duration": 11985,
    "start_time": "2022-03-13T12:01:48.493Z"
   },
   {
    "duration": 336,
    "start_time": "2022-03-13T12:02:02.668Z"
   },
   {
    "duration": 12,
    "start_time": "2022-03-13T12:07:33.305Z"
   },
   {
    "duration": 13,
    "start_time": "2022-03-13T12:07:34.074Z"
   },
   {
    "duration": 7,
    "start_time": "2022-03-13T12:08:46.407Z"
   },
   {
    "duration": 7,
    "start_time": "2022-03-13T12:08:47.248Z"
   },
   {
    "duration": 313,
    "start_time": "2022-03-13T12:11:02.054Z"
   },
   {
    "duration": 398,
    "start_time": "2022-03-13T12:11:56.534Z"
   },
   {
    "duration": 5,
    "start_time": "2022-03-13T12:12:02.414Z"
   },
   {
    "duration": 4,
    "start_time": "2022-03-13T12:12:07.173Z"
   },
   {
    "duration": 3,
    "start_time": "2022-03-13T12:16:55.570Z"
   },
   {
    "duration": 4,
    "start_time": "2022-03-13T12:17:01.058Z"
   },
   {
    "duration": 4,
    "start_time": "2022-03-13T12:17:12.609Z"
   },
   {
    "duration": 4,
    "start_time": "2022-03-13T12:17:13.250Z"
   },
   {
    "duration": 4,
    "start_time": "2022-03-13T12:17:26.210Z"
   },
   {
    "duration": 322,
    "start_time": "2022-03-13T12:21:10.415Z"
   },
   {
    "duration": 3,
    "start_time": "2022-03-13T12:21:18.832Z"
   },
   {
    "duration": 419,
    "start_time": "2022-03-13T12:21:23.655Z"
   },
   {
    "duration": 17,
    "start_time": "2022-03-13T14:41:59.365Z"
   },
   {
    "duration": 11,
    "start_time": "2022-03-13T14:42:01.298Z"
   },
   {
    "duration": 10,
    "start_time": "2022-03-13T14:57:12.600Z"
   },
   {
    "duration": 9,
    "start_time": "2022-03-13T14:57:14.576Z"
   },
   {
    "duration": 5,
    "start_time": "2022-03-13T14:57:29.318Z"
   },
   {
    "duration": 18,
    "start_time": "2022-03-13T14:57:46.656Z"
   },
   {
    "duration": 13,
    "start_time": "2022-03-13T14:57:48.583Z"
   },
   {
    "duration": 421,
    "start_time": "2022-03-13T15:05:13.209Z"
   },
   {
    "duration": 309,
    "start_time": "2022-03-13T15:05:38.026Z"
   },
   {
    "duration": 12,
    "start_time": "2022-03-13T15:43:23.350Z"
   },
   {
    "duration": 9,
    "start_time": "2022-03-13T15:43:24.678Z"
   },
   {
    "duration": 112,
    "start_time": "2022-03-13T15:43:35.453Z"
   },
   {
    "duration": 12,
    "start_time": "2022-03-13T15:43:41.999Z"
   },
   {
    "duration": 9,
    "start_time": "2022-03-13T15:43:42.845Z"
   },
   {
    "duration": 7,
    "start_time": "2022-03-13T15:46:12.469Z"
   },
   {
    "duration": 7,
    "start_time": "2022-03-13T15:46:17.582Z"
   },
   {
    "duration": 8,
    "start_time": "2022-03-13T15:48:47.276Z"
   },
   {
    "duration": 26,
    "start_time": "2022-03-13T15:50:30.619Z"
   },
   {
    "duration": 5,
    "start_time": "2022-03-13T15:52:35.417Z"
   },
   {
    "duration": 6,
    "start_time": "2022-03-13T15:54:48.280Z"
   },
   {
    "duration": 383,
    "start_time": "2022-03-13T15:55:03.112Z"
   },
   {
    "duration": 4,
    "start_time": "2022-03-13T15:55:11.488Z"
   },
   {
    "duration": 4,
    "start_time": "2022-03-13T15:55:21.535Z"
   },
   {
    "duration": 4,
    "start_time": "2022-03-13T15:55:42.776Z"
   },
   {
    "duration": 5,
    "start_time": "2022-03-13T15:55:56.447Z"
   },
   {
    "duration": 4,
    "start_time": "2022-03-13T15:56:16.855Z"
   },
   {
    "duration": 4,
    "start_time": "2022-03-13T15:56:35.360Z"
   },
   {
    "duration": 311,
    "start_time": "2022-03-13T15:57:40.845Z"
   },
   {
    "duration": 311,
    "start_time": "2022-03-13T15:57:50.686Z"
   },
   {
    "duration": 6,
    "start_time": "2022-03-13T15:58:44.390Z"
   },
   {
    "duration": 311,
    "start_time": "2022-03-13T15:59:35.285Z"
   },
   {
    "duration": 303,
    "start_time": "2022-03-13T16:00:15.741Z"
   },
   {
    "duration": 301,
    "start_time": "2022-03-13T16:00:37.484Z"
   },
   {
    "duration": 313,
    "start_time": "2022-03-13T19:42:05.994Z"
   },
   {
    "duration": 3,
    "start_time": "2022-03-13T19:42:13.308Z"
   },
   {
    "duration": 376,
    "start_time": "2022-03-13T19:42:13.313Z"
   },
   {
    "duration": 19,
    "start_time": "2022-03-13T19:42:13.691Z"
   },
   {
    "duration": 6,
    "start_time": "2022-03-13T19:42:13.712Z"
   },
   {
    "duration": 16,
    "start_time": "2022-03-13T19:42:13.719Z"
   },
   {
    "duration": 7,
    "start_time": "2022-03-13T19:42:13.737Z"
   },
   {
    "duration": 13,
    "start_time": "2022-03-13T19:42:13.746Z"
   },
   {
    "duration": 8,
    "start_time": "2022-03-13T19:42:13.761Z"
   },
   {
    "duration": 31,
    "start_time": "2022-03-13T19:42:13.771Z"
   },
   {
    "duration": 8,
    "start_time": "2022-03-13T19:42:13.803Z"
   },
   {
    "duration": 10,
    "start_time": "2022-03-13T19:42:13.812Z"
   },
   {
    "duration": 14,
    "start_time": "2022-03-13T19:42:13.823Z"
   },
   {
    "duration": 8,
    "start_time": "2022-03-13T19:42:13.838Z"
   },
   {
    "duration": 29,
    "start_time": "2022-03-13T19:42:13.847Z"
   },
   {
    "duration": 64,
    "start_time": "2022-03-13T19:42:13.877Z"
   },
   {
    "duration": 7,
    "start_time": "2022-03-13T19:42:13.943Z"
   },
   {
    "duration": 25,
    "start_time": "2022-03-13T19:42:13.952Z"
   },
   {
    "duration": 23,
    "start_time": "2022-03-13T19:42:13.978Z"
   },
   {
    "duration": 13,
    "start_time": "2022-03-13T19:42:14.005Z"
   },
   {
    "duration": 20,
    "start_time": "2022-03-13T19:42:14.020Z"
   },
   {
    "duration": 19,
    "start_time": "2022-03-13T19:42:14.041Z"
   },
   {
    "duration": 11,
    "start_time": "2022-03-13T19:42:14.062Z"
   },
   {
    "duration": 30,
    "start_time": "2022-03-13T19:42:14.075Z"
   },
   {
    "duration": 3,
    "start_time": "2022-03-13T19:42:14.106Z"
   },
   {
    "duration": 15,
    "start_time": "2022-03-13T19:42:14.111Z"
   },
   {
    "duration": 19,
    "start_time": "2022-03-13T19:42:14.127Z"
   },
   {
    "duration": 31,
    "start_time": "2022-03-13T19:42:14.148Z"
   },
   {
    "duration": 24,
    "start_time": "2022-03-13T19:42:14.181Z"
   },
   {
    "duration": 11,
    "start_time": "2022-03-13T19:42:14.207Z"
   },
   {
    "duration": 8,
    "start_time": "2022-03-13T19:42:14.221Z"
   },
   {
    "duration": 21,
    "start_time": "2022-03-13T19:42:14.231Z"
   },
   {
    "duration": 8,
    "start_time": "2022-03-13T19:42:14.254Z"
   },
   {
    "duration": 12,
    "start_time": "2022-03-13T19:42:14.263Z"
   },
   {
    "duration": 8,
    "start_time": "2022-03-13T19:42:14.277Z"
   },
   {
    "duration": 12,
    "start_time": "2022-03-13T19:42:14.286Z"
   },
   {
    "duration": 9,
    "start_time": "2022-03-13T19:42:14.300Z"
   },
   {
    "duration": 9,
    "start_time": "2022-03-13T19:42:14.311Z"
   },
   {
    "duration": 16,
    "start_time": "2022-03-13T19:42:14.322Z"
   },
   {
    "duration": 8,
    "start_time": "2022-03-13T19:42:14.340Z"
   },
   {
    "duration": 9,
    "start_time": "2022-03-13T19:42:14.350Z"
   },
   {
    "duration": 26,
    "start_time": "2022-03-13T19:42:14.360Z"
   },
   {
    "duration": 9,
    "start_time": "2022-03-13T19:42:14.388Z"
   },
   {
    "duration": 14,
    "start_time": "2022-03-13T19:42:14.398Z"
   },
   {
    "duration": 6,
    "start_time": "2022-03-13T19:42:14.414Z"
   },
   {
    "duration": 19,
    "start_time": "2022-03-13T19:42:14.422Z"
   },
   {
    "duration": 8,
    "start_time": "2022-03-13T19:42:14.442Z"
   },
   {
    "duration": 24,
    "start_time": "2022-03-13T19:42:14.452Z"
   },
   {
    "duration": 2,
    "start_time": "2022-03-13T19:42:14.478Z"
   },
   {
    "duration": 26,
    "start_time": "2022-03-13T19:42:14.482Z"
   },
   {
    "duration": 15,
    "start_time": "2022-03-13T19:42:14.509Z"
   },
   {
    "duration": 3,
    "start_time": "2022-03-13T19:42:14.526Z"
   },
   {
    "duration": 15,
    "start_time": "2022-03-13T19:42:14.531Z"
   },
   {
    "duration": 19,
    "start_time": "2022-03-13T19:42:14.547Z"
   },
   {
    "duration": 3,
    "start_time": "2022-03-13T19:42:14.568Z"
   },
   {
    "duration": 32,
    "start_time": "2022-03-13T19:42:14.575Z"
   },
   {
    "duration": 17,
    "start_time": "2022-03-13T19:42:14.609Z"
   },
   {
    "duration": 17,
    "start_time": "2022-03-13T19:42:14.628Z"
   },
   {
    "duration": 6,
    "start_time": "2022-03-13T19:42:14.646Z"
   },
   {
    "duration": 11,
    "start_time": "2022-03-13T19:42:14.653Z"
   },
   {
    "duration": 7,
    "start_time": "2022-03-13T19:42:14.665Z"
   },
   {
    "duration": 28,
    "start_time": "2022-03-13T19:42:14.673Z"
   },
   {
    "duration": 8,
    "start_time": "2022-03-13T19:42:14.703Z"
   },
   {
    "duration": 9,
    "start_time": "2022-03-13T19:42:14.712Z"
   },
   {
    "duration": 8,
    "start_time": "2022-03-13T19:42:14.722Z"
   },
   {
    "duration": 15,
    "start_time": "2022-03-13T19:42:14.732Z"
   },
   {
    "duration": 18,
    "start_time": "2022-03-13T19:42:14.749Z"
   },
   {
    "duration": 9,
    "start_time": "2022-03-13T19:42:14.768Z"
   },
   {
    "duration": 19,
    "start_time": "2022-03-13T19:42:14.779Z"
   },
   {
    "duration": 13,
    "start_time": "2022-03-13T19:42:14.799Z"
   },
   {
    "duration": 11,
    "start_time": "2022-03-13T19:42:14.814Z"
   },
   {
    "duration": 347,
    "start_time": "2022-03-13T19:42:14.827Z"
   },
   {
    "duration": 26,
    "start_time": "2022-03-13T19:42:15.176Z"
   },
   {
    "duration": 5,
    "start_time": "2022-03-13T19:42:15.204Z"
   },
   {
    "duration": 17,
    "start_time": "2022-03-13T19:42:15.211Z"
   },
   {
    "duration": 25,
    "start_time": "2022-03-13T19:42:15.230Z"
   },
   {
    "duration": 2,
    "start_time": "2022-03-13T19:42:15.257Z"
   },
   {
    "duration": 7,
    "start_time": "2022-03-13T19:42:15.261Z"
   },
   {
    "duration": 35,
    "start_time": "2022-03-13T19:42:15.269Z"
   },
   {
    "duration": 10,
    "start_time": "2022-03-13T19:42:15.306Z"
   },
   {
    "duration": 10,
    "start_time": "2022-03-13T19:42:15.318Z"
   },
   {
    "duration": 16,
    "start_time": "2022-03-13T19:42:15.330Z"
   },
   {
    "duration": 10,
    "start_time": "2022-03-13T19:42:15.348Z"
   },
   {
    "duration": 317,
    "start_time": "2022-03-13T19:42:23.529Z"
   },
   {
    "duration": 5654,
    "start_time": "2022-03-13T19:42:32.554Z"
   },
   {
    "duration": 309,
    "start_time": "2022-03-13T19:43:32.090Z"
   },
   {
    "duration": 107,
    "start_time": "2022-03-13T19:45:35.305Z"
   },
   {
    "duration": 3,
    "start_time": "2022-03-13T19:46:22.030Z"
   },
   {
    "duration": 3,
    "start_time": "2022-03-13T19:46:31.230Z"
   },
   {
    "duration": 3,
    "start_time": "2022-03-13T19:47:10.061Z"
   },
   {
    "duration": 300,
    "start_time": "2022-03-13T19:49:13.037Z"
   },
   {
    "duration": 294,
    "start_time": "2022-03-13T19:49:27.981Z"
   },
   {
    "duration": 309,
    "start_time": "2022-03-13T19:49:58.804Z"
   },
   {
    "duration": 5,
    "start_time": "2022-03-13T19:51:38.291Z"
   },
   {
    "duration": 4,
    "start_time": "2022-03-13T19:51:45.411Z"
   },
   {
    "duration": 4,
    "start_time": "2022-03-13T19:51:54.531Z"
   },
   {
    "duration": 7,
    "start_time": "2022-03-13T19:52:05.635Z"
   },
   {
    "duration": 5,
    "start_time": "2022-03-13T19:52:15.410Z"
   },
   {
    "duration": 5,
    "start_time": "2022-03-13T19:52:25.322Z"
   },
   {
    "duration": 5,
    "start_time": "2022-03-13T19:52:33.754Z"
   },
   {
    "duration": 5,
    "start_time": "2022-03-13T19:52:46.482Z"
   },
   {
    "duration": 4,
    "start_time": "2022-03-13T19:52:57.458Z"
   },
   {
    "duration": 5,
    "start_time": "2022-03-13T19:53:08.426Z"
   },
   {
    "duration": 5,
    "start_time": "2022-03-13T19:53:21.169Z"
   },
   {
    "duration": 5,
    "start_time": "2022-03-13T19:53:31.634Z"
   },
   {
    "duration": 4,
    "start_time": "2022-03-13T19:53:41.666Z"
   },
   {
    "duration": 6,
    "start_time": "2022-03-13T19:53:51.226Z"
   },
   {
    "duration": 4,
    "start_time": "2022-03-13T19:53:59.337Z"
   },
   {
    "duration": 4,
    "start_time": "2022-03-13T19:54:14.593Z"
   },
   {
    "duration": 5,
    "start_time": "2022-03-13T19:54:41.465Z"
   },
   {
    "duration": 5,
    "start_time": "2022-03-13T19:55:03.929Z"
   },
   {
    "duration": 5,
    "start_time": "2022-03-13T19:55:15.936Z"
   },
   {
    "duration": 6,
    "start_time": "2022-03-13T19:55:28.360Z"
   },
   {
    "duration": 5,
    "start_time": "2022-03-13T19:55:42.192Z"
   },
   {
    "duration": 5,
    "start_time": "2022-03-13T19:55:51.192Z"
   },
   {
    "duration": 5,
    "start_time": "2022-03-13T19:56:01.369Z"
   },
   {
    "duration": 5,
    "start_time": "2022-03-13T19:56:16.512Z"
   },
   {
    "duration": 5,
    "start_time": "2022-03-13T19:56:26.872Z"
   },
   {
    "duration": 5,
    "start_time": "2022-03-13T19:56:37.936Z"
   },
   {
    "duration": 5,
    "start_time": "2022-03-13T19:56:53.597Z"
   },
   {
    "duration": 5,
    "start_time": "2022-03-13T19:57:13.103Z"
   },
   {
    "duration": 5,
    "start_time": "2022-03-13T19:57:26.255Z"
   },
   {
    "duration": 6,
    "start_time": "2022-03-13T19:57:35.671Z"
   },
   {
    "duration": 5,
    "start_time": "2022-03-13T19:57:46.863Z"
   },
   {
    "duration": 5,
    "start_time": "2022-03-13T19:57:56.367Z"
   },
   {
    "duration": 6,
    "start_time": "2022-03-13T19:58:02.534Z"
   },
   {
    "duration": 5,
    "start_time": "2022-03-13T19:58:20.774Z"
   },
   {
    "duration": 6,
    "start_time": "2022-03-13T19:58:32.926Z"
   },
   {
    "duration": 4,
    "start_time": "2022-03-13T19:58:40.847Z"
   },
   {
    "duration": 5,
    "start_time": "2022-03-13T19:58:54.342Z"
   },
   {
    "duration": 5,
    "start_time": "2022-03-13T19:58:59.014Z"
   },
   {
    "duration": 5,
    "start_time": "2022-03-13T19:59:04.126Z"
   },
   {
    "duration": 4,
    "start_time": "2022-03-13T19:59:18.654Z"
   },
   {
    "duration": 5,
    "start_time": "2022-03-13T19:59:32.782Z"
   },
   {
    "duration": 5,
    "start_time": "2022-03-13T19:59:37.126Z"
   },
   {
    "duration": 5,
    "start_time": "2022-03-13T19:59:52.318Z"
   },
   {
    "duration": 5,
    "start_time": "2022-03-13T19:59:55.221Z"
   },
   {
    "duration": 5,
    "start_time": "2022-03-13T20:00:07.189Z"
   },
   {
    "duration": 5,
    "start_time": "2022-03-13T20:00:22.733Z"
   },
   {
    "duration": 5,
    "start_time": "2022-03-13T20:00:35.310Z"
   },
   {
    "duration": 4,
    "start_time": "2022-03-13T20:00:41.014Z"
   },
   {
    "duration": 5,
    "start_time": "2022-03-13T20:00:56.053Z"
   },
   {
    "duration": 5,
    "start_time": "2022-03-13T20:01:10.613Z"
   },
   {
    "duration": 5,
    "start_time": "2022-03-13T20:01:20.261Z"
   },
   {
    "duration": 4,
    "start_time": "2022-03-13T20:01:31.277Z"
   },
   {
    "duration": 318,
    "start_time": "2022-03-13T20:01:42.029Z"
   },
   {
    "duration": 303,
    "start_time": "2022-03-13T20:02:04.965Z"
   },
   {
    "duration": 1091,
    "start_time": "2022-03-13T20:02:21.675Z"
   },
   {
    "duration": 366,
    "start_time": "2022-03-13T20:02:22.768Z"
   },
   {
    "duration": 21,
    "start_time": "2022-03-13T20:02:23.136Z"
   },
   {
    "duration": 10,
    "start_time": "2022-03-13T20:02:23.159Z"
   },
   {
    "duration": 16,
    "start_time": "2022-03-13T20:02:23.171Z"
   },
   {
    "duration": 8,
    "start_time": "2022-03-13T20:02:23.188Z"
   },
   {
    "duration": 13,
    "start_time": "2022-03-13T20:02:23.201Z"
   },
   {
    "duration": 6,
    "start_time": "2022-03-13T20:02:23.217Z"
   },
   {
    "duration": 7,
    "start_time": "2022-03-13T20:02:23.225Z"
   },
   {
    "duration": 11,
    "start_time": "2022-03-13T20:02:23.234Z"
   },
   {
    "duration": 11,
    "start_time": "2022-03-13T20:02:23.247Z"
   },
   {
    "duration": 11,
    "start_time": "2022-03-13T20:02:23.259Z"
   },
   {
    "duration": 30,
    "start_time": "2022-03-13T20:02:23.271Z"
   },
   {
    "duration": 29,
    "start_time": "2022-03-13T20:02:23.303Z"
   },
   {
    "duration": 70,
    "start_time": "2022-03-13T20:02:23.333Z"
   },
   {
    "duration": 8,
    "start_time": "2022-03-13T20:02:23.405Z"
   },
   {
    "duration": 21,
    "start_time": "2022-03-13T20:02:23.415Z"
   },
   {
    "duration": 6,
    "start_time": "2022-03-13T20:02:23.438Z"
   },
   {
    "duration": 5,
    "start_time": "2022-03-13T20:02:23.445Z"
   },
   {
    "duration": 21,
    "start_time": "2022-03-13T20:02:23.451Z"
   },
   {
    "duration": 40,
    "start_time": "2022-03-13T20:02:23.473Z"
   },
   {
    "duration": 13,
    "start_time": "2022-03-13T20:02:23.515Z"
   },
   {
    "duration": 8,
    "start_time": "2022-03-13T20:02:23.532Z"
   },
   {
    "duration": 2,
    "start_time": "2022-03-13T20:02:23.543Z"
   },
   {
    "duration": 16,
    "start_time": "2022-03-13T20:02:23.547Z"
   },
   {
    "duration": 42,
    "start_time": "2022-03-13T20:02:23.565Z"
   },
   {
    "duration": 27,
    "start_time": "2022-03-13T20:02:23.609Z"
   },
   {
    "duration": 9,
    "start_time": "2022-03-13T20:02:23.637Z"
   },
   {
    "duration": 10,
    "start_time": "2022-03-13T20:02:23.648Z"
   },
   {
    "duration": 7,
    "start_time": "2022-03-13T20:02:23.659Z"
   },
   {
    "duration": 34,
    "start_time": "2022-03-13T20:02:23.667Z"
   },
   {
    "duration": 2,
    "start_time": "2022-03-13T20:02:23.703Z"
   },
   {
    "duration": 7,
    "start_time": "2022-03-13T20:02:23.707Z"
   },
   {
    "duration": 11,
    "start_time": "2022-03-13T20:02:23.716Z"
   },
   {
    "duration": 12,
    "start_time": "2022-03-13T20:02:23.728Z"
   },
   {
    "duration": 8,
    "start_time": "2022-03-13T20:02:23.742Z"
   },
   {
    "duration": 10,
    "start_time": "2022-03-13T20:02:23.752Z"
   },
   {
    "duration": 16,
    "start_time": "2022-03-13T20:02:23.763Z"
   },
   {
    "duration": 6,
    "start_time": "2022-03-13T20:02:23.780Z"
   },
   {
    "duration": 14,
    "start_time": "2022-03-13T20:02:23.788Z"
   },
   {
    "duration": 21,
    "start_time": "2022-03-13T20:02:23.803Z"
   },
   {
    "duration": 7,
    "start_time": "2022-03-13T20:02:23.825Z"
   },
   {
    "duration": 16,
    "start_time": "2022-03-13T20:02:23.834Z"
   },
   {
    "duration": 7,
    "start_time": "2022-03-13T20:02:23.852Z"
   },
   {
    "duration": 20,
    "start_time": "2022-03-13T20:02:23.861Z"
   },
   {
    "duration": 24,
    "start_time": "2022-03-13T20:02:23.882Z"
   },
   {
    "duration": 23,
    "start_time": "2022-03-13T20:02:23.908Z"
   },
   {
    "duration": 2,
    "start_time": "2022-03-13T20:02:23.933Z"
   },
   {
    "duration": 14,
    "start_time": "2022-03-13T20:02:23.936Z"
   },
   {
    "duration": 16,
    "start_time": "2022-03-13T20:02:23.951Z"
   },
   {
    "duration": 3,
    "start_time": "2022-03-13T20:02:23.968Z"
   },
   {
    "duration": 30,
    "start_time": "2022-03-13T20:02:23.972Z"
   },
   {
    "duration": 14,
    "start_time": "2022-03-13T20:02:24.003Z"
   },
   {
    "duration": 3,
    "start_time": "2022-03-13T20:02:24.018Z"
   },
   {
    "duration": 14,
    "start_time": "2022-03-13T20:02:24.022Z"
   },
   {
    "duration": 18,
    "start_time": "2022-03-13T20:02:24.038Z"
   },
   {
    "duration": 17,
    "start_time": "2022-03-13T20:02:24.058Z"
   },
   {
    "duration": 26,
    "start_time": "2022-03-13T20:02:24.077Z"
   },
   {
    "duration": 9,
    "start_time": "2022-03-13T20:02:24.104Z"
   },
   {
    "duration": 8,
    "start_time": "2022-03-13T20:02:24.115Z"
   },
   {
    "duration": 16,
    "start_time": "2022-03-13T20:02:24.124Z"
   },
   {
    "duration": 25,
    "start_time": "2022-03-13T20:02:24.141Z"
   },
   {
    "duration": 26,
    "start_time": "2022-03-13T20:02:24.168Z"
   },
   {
    "duration": 29,
    "start_time": "2022-03-13T20:02:24.195Z"
   },
   {
    "duration": 18,
    "start_time": "2022-03-13T20:02:24.226Z"
   },
   {
    "duration": 32,
    "start_time": "2022-03-13T20:02:24.246Z"
   },
   {
    "duration": 6,
    "start_time": "2022-03-13T20:02:24.279Z"
   },
   {
    "duration": 28,
    "start_time": "2022-03-13T20:02:24.289Z"
   },
   {
    "duration": 10,
    "start_time": "2022-03-13T20:02:24.319Z"
   },
   {
    "duration": 13,
    "start_time": "2022-03-13T20:02:24.330Z"
   },
   {
    "duration": 291,
    "start_time": "2022-03-13T20:02:24.344Z"
   },
   {
    "duration": 19,
    "start_time": "2022-03-13T20:02:24.636Z"
   },
   {
    "duration": 17,
    "start_time": "2022-03-13T20:02:24.656Z"
   },
   {
    "duration": 32,
    "start_time": "2022-03-13T20:02:24.674Z"
   },
   {
    "duration": 33,
    "start_time": "2022-03-13T20:02:24.707Z"
   },
   {
    "duration": 2,
    "start_time": "2022-03-13T20:02:24.741Z"
   },
   {
    "duration": 26,
    "start_time": "2022-03-13T20:02:24.745Z"
   },
   {
    "duration": 22,
    "start_time": "2022-03-13T20:02:24.772Z"
   },
   {
    "duration": 28,
    "start_time": "2022-03-13T20:02:24.795Z"
   },
   {
    "duration": 12,
    "start_time": "2022-03-13T20:02:24.825Z"
   },
   {
    "duration": 26,
    "start_time": "2022-03-13T20:02:24.838Z"
   },
   {
    "duration": 27,
    "start_time": "2022-03-13T20:02:24.865Z"
   },
   {
    "duration": 374,
    "start_time": "2022-03-13T20:02:35.302Z"
   },
   {
    "duration": 4,
    "start_time": "2022-03-13T20:05:06.244Z"
   },
   {
    "duration": 5,
    "start_time": "2022-03-13T20:05:27.565Z"
   },
   {
    "duration": 5,
    "start_time": "2022-03-13T20:05:43.267Z"
   },
   {
    "duration": 5,
    "start_time": "2022-03-13T20:05:51.235Z"
   },
   {
    "duration": 318,
    "start_time": "2022-03-13T20:05:56.948Z"
   },
   {
    "duration": 6,
    "start_time": "2022-03-13T20:06:01.931Z"
   },
   {
    "duration": 6,
    "start_time": "2022-03-13T20:07:01.387Z"
   },
   {
    "duration": 158,
    "start_time": "2022-03-13T20:17:32.364Z"
   },
   {
    "duration": 159,
    "start_time": "2022-03-13T20:17:59.692Z"
   },
   {
    "duration": 278,
    "start_time": "2022-03-13T20:18:43.092Z"
   },
   {
    "duration": 212,
    "start_time": "2022-03-13T20:18:53.940Z"
   },
   {
    "duration": 214,
    "start_time": "2022-03-13T20:22:31.105Z"
   },
   {
    "duration": 502,
    "start_time": "2022-03-13T20:24:02.951Z"
   },
   {
    "duration": 515,
    "start_time": "2022-03-13T20:24:35.568Z"
   },
   {
    "duration": 268,
    "start_time": "2022-03-13T20:24:58.928Z"
   },
   {
    "duration": 6,
    "start_time": "2022-03-13T20:32:25.946Z"
   },
   {
    "duration": 20,
    "start_time": "2022-03-13T20:32:30.442Z"
   },
   {
    "duration": 7,
    "start_time": "2022-03-13T20:33:24.897Z"
   },
   {
    "duration": 26,
    "start_time": "2022-03-13T20:35:03.048Z"
   },
   {
    "duration": 7,
    "start_time": "2022-03-13T20:40:48.932Z"
   },
   {
    "duration": 7,
    "start_time": "2022-03-13T20:40:50.940Z"
   },
   {
    "duration": 14,
    "start_time": "2022-03-13T20:42:46.002Z"
   },
   {
    "duration": 8,
    "start_time": "2022-03-13T20:42:50.152Z"
   },
   {
    "duration": 14,
    "start_time": "2022-03-13T20:44:14.481Z"
   },
   {
    "duration": 12,
    "start_time": "2022-03-13T20:44:16.905Z"
   },
   {
    "duration": 7,
    "start_time": "2022-03-13T20:49:53.477Z"
   },
   {
    "duration": 5,
    "start_time": "2022-03-13T20:50:03.605Z"
   },
   {
    "duration": 7633,
    "start_time": "2022-03-13T20:50:37.349Z"
   },
   {
    "duration": 8,
    "start_time": "2022-03-13T20:51:12.325Z"
   },
   {
    "duration": 7,
    "start_time": "2022-03-13T20:51:55.236Z"
   },
   {
    "duration": 327,
    "start_time": "2022-03-13T20:52:22.684Z"
   },
   {
    "duration": 315,
    "start_time": "2022-03-13T20:54:01.563Z"
   },
   {
    "duration": 489,
    "start_time": "2022-03-13T20:57:59.704Z"
   },
   {
    "duration": 263,
    "start_time": "2022-03-13T20:59:04.473Z"
   },
   {
    "duration": 194,
    "start_time": "2022-03-13T21:03:24.436Z"
   },
   {
    "duration": 198,
    "start_time": "2022-03-13T21:03:36.860Z"
   },
   {
    "duration": 265,
    "start_time": "2022-03-13T21:04:00.428Z"
   },
   {
    "duration": 242,
    "start_time": "2022-03-13T21:04:07.492Z"
   },
   {
    "duration": 166,
    "start_time": "2022-03-13T21:04:20.515Z"
   },
   {
    "duration": 162,
    "start_time": "2022-03-13T21:04:42.596Z"
   },
   {
    "duration": 162,
    "start_time": "2022-03-13T21:06:33.650Z"
   },
   {
    "duration": 155,
    "start_time": "2022-03-13T21:08:50.008Z"
   },
   {
    "duration": 314,
    "start_time": "2022-03-13T21:17:29.529Z"
   },
   {
    "duration": 312,
    "start_time": "2022-03-13T21:21:21.078Z"
   },
   {
    "duration": 72,
    "start_time": "2022-03-13T21:21:24.701Z"
   },
   {
    "duration": 339,
    "start_time": "2022-03-13T21:21:25.549Z"
   },
   {
    "duration": 187,
    "start_time": "2022-03-13T21:21:44.637Z"
   },
   {
    "duration": 296,
    "start_time": "2022-03-13T21:22:32.628Z"
   },
   {
    "duration": 313,
    "start_time": "2022-03-13T21:22:40.869Z"
   },
   {
    "duration": 365,
    "start_time": "2022-03-13T21:23:33.099Z"
   },
   {
    "duration": 305,
    "start_time": "2022-03-13T21:23:41.556Z"
   },
   {
    "duration": 129,
    "start_time": "2022-03-13T21:23:47.508Z"
   },
   {
    "duration": 191,
    "start_time": "2022-03-13T21:24:56.482Z"
   },
   {
    "duration": 184,
    "start_time": "2022-03-13T21:28:44.135Z"
   },
   {
    "duration": 266,
    "start_time": "2022-03-13T21:28:52.924Z"
   },
   {
    "duration": 3,
    "start_time": "2022-03-13T21:44:57.079Z"
   },
   {
    "duration": 415,
    "start_time": "2022-03-13T21:44:57.084Z"
   },
   {
    "duration": 20,
    "start_time": "2022-03-13T21:44:57.501Z"
   },
   {
    "duration": 9,
    "start_time": "2022-03-13T21:44:57.523Z"
   },
   {
    "duration": 28,
    "start_time": "2022-03-13T21:44:57.533Z"
   },
   {
    "duration": 7,
    "start_time": "2022-03-13T21:44:57.562Z"
   },
   {
    "duration": 31,
    "start_time": "2022-03-13T21:44:57.571Z"
   },
   {
    "duration": 7,
    "start_time": "2022-03-13T21:44:57.604Z"
   },
   {
    "duration": 14,
    "start_time": "2022-03-13T21:44:57.612Z"
   },
   {
    "duration": 21,
    "start_time": "2022-03-13T21:44:57.627Z"
   },
   {
    "duration": 8,
    "start_time": "2022-03-13T21:44:57.650Z"
   },
   {
    "duration": 19,
    "start_time": "2022-03-13T21:44:57.659Z"
   },
   {
    "duration": 17,
    "start_time": "2022-03-13T21:44:57.680Z"
   },
   {
    "duration": 34,
    "start_time": "2022-03-13T21:44:57.698Z"
   },
   {
    "duration": 53,
    "start_time": "2022-03-13T21:44:57.734Z"
   },
   {
    "duration": 16,
    "start_time": "2022-03-13T21:44:57.789Z"
   },
   {
    "duration": 15,
    "start_time": "2022-03-13T21:44:57.807Z"
   },
   {
    "duration": 7,
    "start_time": "2022-03-13T21:44:57.824Z"
   },
   {
    "duration": 6,
    "start_time": "2022-03-13T21:44:57.835Z"
   },
   {
    "duration": 20,
    "start_time": "2022-03-13T21:44:57.844Z"
   },
   {
    "duration": 38,
    "start_time": "2022-03-13T21:44:57.866Z"
   },
   {
    "duration": 11,
    "start_time": "2022-03-13T21:44:57.905Z"
   },
   {
    "duration": 7,
    "start_time": "2022-03-13T21:44:57.917Z"
   },
   {
    "duration": 9,
    "start_time": "2022-03-13T21:44:57.926Z"
   },
   {
    "duration": 17,
    "start_time": "2022-03-13T21:44:57.937Z"
   },
   {
    "duration": 18,
    "start_time": "2022-03-13T21:44:57.955Z"
   },
   {
    "duration": 41,
    "start_time": "2022-03-13T21:44:57.975Z"
   },
   {
    "duration": 10,
    "start_time": "2022-03-13T21:44:58.017Z"
   },
   {
    "duration": 15,
    "start_time": "2022-03-13T21:44:58.028Z"
   },
   {
    "duration": 7,
    "start_time": "2022-03-13T21:44:58.045Z"
   },
   {
    "duration": 9,
    "start_time": "2022-03-13T21:44:58.053Z"
   },
   {
    "duration": 7,
    "start_time": "2022-03-13T21:44:58.063Z"
   },
   {
    "duration": 9,
    "start_time": "2022-03-13T21:44:58.072Z"
   },
   {
    "duration": 19,
    "start_time": "2022-03-13T21:44:58.082Z"
   },
   {
    "duration": 11,
    "start_time": "2022-03-13T21:44:58.103Z"
   },
   {
    "duration": 8,
    "start_time": "2022-03-13T21:44:58.115Z"
   },
   {
    "duration": 9,
    "start_time": "2022-03-13T21:44:58.125Z"
   },
   {
    "duration": 14,
    "start_time": "2022-03-13T21:44:58.136Z"
   },
   {
    "duration": 14,
    "start_time": "2022-03-13T21:44:58.152Z"
   },
   {
    "duration": 9,
    "start_time": "2022-03-13T21:44:58.167Z"
   },
   {
    "duration": 35,
    "start_time": "2022-03-13T21:44:58.178Z"
   },
   {
    "duration": 8,
    "start_time": "2022-03-13T21:44:58.215Z"
   },
   {
    "duration": 15,
    "start_time": "2022-03-13T21:44:58.225Z"
   },
   {
    "duration": 7,
    "start_time": "2022-03-13T21:44:58.242Z"
   },
   {
    "duration": 20,
    "start_time": "2022-03-13T21:44:58.250Z"
   },
   {
    "duration": 7,
    "start_time": "2022-03-13T21:44:58.271Z"
   },
   {
    "duration": 38,
    "start_time": "2022-03-13T21:44:58.280Z"
   },
   {
    "duration": 3,
    "start_time": "2022-03-13T21:44:58.319Z"
   },
   {
    "duration": 11,
    "start_time": "2022-03-13T21:44:58.323Z"
   },
   {
    "duration": 16,
    "start_time": "2022-03-13T21:44:58.335Z"
   },
   {
    "duration": 2,
    "start_time": "2022-03-13T21:44:58.353Z"
   },
   {
    "duration": 13,
    "start_time": "2022-03-13T21:44:58.356Z"
   },
   {
    "duration": 39,
    "start_time": "2022-03-13T21:44:58.371Z"
   },
   {
    "duration": 3,
    "start_time": "2022-03-13T21:44:58.412Z"
   },
   {
    "duration": 11,
    "start_time": "2022-03-13T21:44:58.420Z"
   },
   {
    "duration": 18,
    "start_time": "2022-03-13T21:44:58.433Z"
   },
   {
    "duration": 18,
    "start_time": "2022-03-13T21:44:58.453Z"
   },
   {
    "duration": 30,
    "start_time": "2022-03-13T21:44:58.472Z"
   },
   {
    "duration": 10,
    "start_time": "2022-03-13T21:44:58.503Z"
   },
   {
    "duration": 5,
    "start_time": "2022-03-13T21:44:58.515Z"
   },
   {
    "duration": 12,
    "start_time": "2022-03-13T21:44:58.521Z"
   },
   {
    "duration": 9,
    "start_time": "2022-03-13T21:44:58.534Z"
   },
   {
    "duration": 8,
    "start_time": "2022-03-13T21:44:58.544Z"
   },
   {
    "duration": 8,
    "start_time": "2022-03-13T21:44:58.553Z"
   },
   {
    "duration": 12,
    "start_time": "2022-03-13T21:44:58.562Z"
   },
   {
    "duration": 18,
    "start_time": "2022-03-13T21:44:58.575Z"
   },
   {
    "duration": 10,
    "start_time": "2022-03-13T21:44:58.595Z"
   },
   {
    "duration": 16,
    "start_time": "2022-03-13T21:44:58.607Z"
   },
   {
    "duration": 11,
    "start_time": "2022-03-13T21:44:58.624Z"
   },
   {
    "duration": 8,
    "start_time": "2022-03-13T21:44:58.636Z"
   },
   {
    "duration": 298,
    "start_time": "2022-03-13T21:44:58.645Z"
   },
   {
    "duration": 20,
    "start_time": "2022-03-13T21:44:58.945Z"
   },
   {
    "duration": 7,
    "start_time": "2022-03-13T21:44:58.966Z"
   },
   {
    "duration": 30,
    "start_time": "2022-03-13T21:44:58.974Z"
   },
   {
    "duration": 5,
    "start_time": "2022-03-13T21:44:59.006Z"
   },
   {
    "duration": 24,
    "start_time": "2022-03-13T21:44:59.012Z"
   },
   {
    "duration": 6,
    "start_time": "2022-03-13T21:44:59.037Z"
   },
   {
    "duration": 6,
    "start_time": "2022-03-13T21:44:59.044Z"
   },
   {
    "duration": 12,
    "start_time": "2022-03-13T21:44:59.051Z"
   },
   {
    "duration": 37,
    "start_time": "2022-03-13T21:44:59.065Z"
   },
   {
    "duration": 11,
    "start_time": "2022-03-13T21:44:59.103Z"
   },
   {
    "duration": 8,
    "start_time": "2022-03-13T21:44:59.115Z"
   },
   {
    "duration": 7,
    "start_time": "2022-03-13T21:44:59.124Z"
   },
   {
    "duration": 21,
    "start_time": "2022-03-13T21:44:59.132Z"
   },
   {
    "duration": 6,
    "start_time": "2022-03-13T21:44:59.154Z"
   },
   {
    "duration": 46,
    "start_time": "2022-03-13T21:44:59.162Z"
   },
   {
    "duration": 5,
    "start_time": "2022-03-13T21:44:59.210Z"
   },
   {
    "duration": 6,
    "start_time": "2022-03-13T21:44:59.217Z"
   },
   {
    "duration": 14,
    "start_time": "2022-03-13T21:44:59.224Z"
   },
   {
    "duration": 10,
    "start_time": "2022-03-13T21:44:59.239Z"
   },
   {
    "duration": 17,
    "start_time": "2022-03-13T21:44:59.250Z"
   },
   {
    "duration": 7,
    "start_time": "2022-03-13T21:44:59.268Z"
   },
   {
    "duration": 5,
    "start_time": "2022-03-13T21:44:59.277Z"
   },
   {
    "duration": 2,
    "start_time": "2022-03-13T21:44:59.301Z"
   },
   {
    "duration": 305,
    "start_time": "2022-03-13T21:44:59.304Z"
   },
   {
    "duration": 239,
    "start_time": "2022-03-13T21:45:30.949Z"
   },
   {
    "duration": 189,
    "start_time": "2022-03-13T21:45:44.006Z"
   },
   {
    "duration": 173,
    "start_time": "2022-03-13T21:46:23.123Z"
   },
   {
    "duration": 178,
    "start_time": "2022-03-13T21:46:33.811Z"
   },
   {
    "duration": 343,
    "start_time": "2022-03-13T21:49:31.169Z"
   },
   {
    "duration": 173,
    "start_time": "2022-03-13T21:50:19.065Z"
   },
   {
    "duration": 181,
    "start_time": "2022-03-13T21:50:37.352Z"
   },
   {
    "duration": 4,
    "start_time": "2022-03-13T21:53:52.358Z"
   },
   {
    "duration": 9,
    "start_time": "2022-03-13T21:53:57.149Z"
   },
   {
    "duration": 176,
    "start_time": "2022-03-13T21:55:13.972Z"
   },
   {
    "duration": 510,
    "start_time": "2022-03-13T21:55:39.093Z"
   },
   {
    "duration": 174,
    "start_time": "2022-03-13T21:55:48.357Z"
   },
   {
    "duration": 164,
    "start_time": "2022-03-13T22:00:13.810Z"
   },
   {
    "duration": 175,
    "start_time": "2022-03-13T22:03:59.398Z"
   },
   {
    "duration": 3,
    "start_time": "2022-03-13T22:05:00.334Z"
   },
   {
    "duration": 8,
    "start_time": "2022-03-13T22:05:01.360Z"
   },
   {
    "duration": 4,
    "start_time": "2022-03-13T22:05:31.369Z"
   },
   {
    "duration": 10,
    "start_time": "2022-03-13T22:05:39.006Z"
   },
   {
    "duration": 1044,
    "start_time": "2022-03-14T18:48:22.308Z"
   },
   {
    "duration": 388,
    "start_time": "2022-03-14T18:48:23.354Z"
   },
   {
    "duration": 21,
    "start_time": "2022-03-14T18:48:23.744Z"
   },
   {
    "duration": 10,
    "start_time": "2022-03-14T18:48:23.767Z"
   },
   {
    "duration": 20,
    "start_time": "2022-03-14T18:48:23.778Z"
   },
   {
    "duration": 7,
    "start_time": "2022-03-14T18:48:23.800Z"
   },
   {
    "duration": 27,
    "start_time": "2022-03-14T18:48:23.808Z"
   },
   {
    "duration": 9,
    "start_time": "2022-03-14T18:48:23.837Z"
   },
   {
    "duration": 15,
    "start_time": "2022-03-14T18:48:23.848Z"
   },
   {
    "duration": 11,
    "start_time": "2022-03-14T18:48:23.865Z"
   },
   {
    "duration": 10,
    "start_time": "2022-03-14T18:48:23.878Z"
   },
   {
    "duration": 15,
    "start_time": "2022-03-14T18:48:23.890Z"
   },
   {
    "duration": 13,
    "start_time": "2022-03-14T18:48:23.906Z"
   },
   {
    "duration": 49,
    "start_time": "2022-03-14T18:48:23.921Z"
   },
   {
    "duration": 68,
    "start_time": "2022-03-14T18:48:23.972Z"
   },
   {
    "duration": 18,
    "start_time": "2022-03-14T18:48:24.042Z"
   },
   {
    "duration": 20,
    "start_time": "2022-03-14T18:48:24.062Z"
   },
   {
    "duration": 5,
    "start_time": "2022-03-14T18:48:24.083Z"
   },
   {
    "duration": 4,
    "start_time": "2022-03-14T18:48:24.090Z"
   },
   {
    "duration": 20,
    "start_time": "2022-03-14T18:48:24.096Z"
   },
   {
    "duration": 56,
    "start_time": "2022-03-14T18:48:24.117Z"
   },
   {
    "duration": 12,
    "start_time": "2022-03-14T18:48:24.175Z"
   },
   {
    "duration": 9,
    "start_time": "2022-03-14T18:48:24.191Z"
   },
   {
    "duration": 4,
    "start_time": "2022-03-14T18:48:24.202Z"
   },
   {
    "duration": 15,
    "start_time": "2022-03-14T18:48:24.207Z"
   },
   {
    "duration": 46,
    "start_time": "2022-03-14T18:48:24.224Z"
   },
   {
    "duration": 29,
    "start_time": "2022-03-14T18:48:24.272Z"
   },
   {
    "duration": 11,
    "start_time": "2022-03-14T18:48:24.303Z"
   },
   {
    "duration": 13,
    "start_time": "2022-03-14T18:48:24.315Z"
   },
   {
    "duration": 33,
    "start_time": "2022-03-14T18:48:24.330Z"
   },
   {
    "duration": 8,
    "start_time": "2022-03-14T18:48:24.364Z"
   },
   {
    "duration": 5,
    "start_time": "2022-03-14T18:48:24.373Z"
   },
   {
    "duration": 6,
    "start_time": "2022-03-14T18:48:24.379Z"
   },
   {
    "duration": 4,
    "start_time": "2022-03-14T18:48:24.387Z"
   },
   {
    "duration": 10,
    "start_time": "2022-03-14T18:48:24.393Z"
   },
   {
    "duration": 5,
    "start_time": "2022-03-14T18:48:24.405Z"
   },
   {
    "duration": 6,
    "start_time": "2022-03-14T18:48:24.411Z"
   },
   {
    "duration": 47,
    "start_time": "2022-03-14T18:48:24.419Z"
   },
   {
    "duration": 7,
    "start_time": "2022-03-14T18:48:24.468Z"
   },
   {
    "duration": 7,
    "start_time": "2022-03-14T18:48:24.476Z"
   },
   {
    "duration": 27,
    "start_time": "2022-03-14T18:48:24.485Z"
   },
   {
    "duration": 8,
    "start_time": "2022-03-14T18:48:24.514Z"
   },
   {
    "duration": 40,
    "start_time": "2022-03-14T18:48:24.524Z"
   },
   {
    "duration": 9,
    "start_time": "2022-03-14T18:48:24.565Z"
   },
   {
    "duration": 19,
    "start_time": "2022-03-14T18:48:24.576Z"
   },
   {
    "duration": 10,
    "start_time": "2022-03-14T18:48:24.597Z"
   },
   {
    "duration": 54,
    "start_time": "2022-03-14T18:48:24.609Z"
   },
   {
    "duration": 3,
    "start_time": "2022-03-14T18:48:24.665Z"
   },
   {
    "duration": 11,
    "start_time": "2022-03-14T18:48:24.671Z"
   },
   {
    "duration": 17,
    "start_time": "2022-03-14T18:48:24.684Z"
   },
   {
    "duration": 3,
    "start_time": "2022-03-14T18:48:24.703Z"
   },
   {
    "duration": 12,
    "start_time": "2022-03-14T18:48:24.708Z"
   },
   {
    "duration": 51,
    "start_time": "2022-03-14T18:48:24.722Z"
   },
   {
    "duration": 3,
    "start_time": "2022-03-14T18:48:24.775Z"
   },
   {
    "duration": 12,
    "start_time": "2022-03-14T18:48:24.780Z"
   },
   {
    "duration": 18,
    "start_time": "2022-03-14T18:48:24.800Z"
   },
   {
    "duration": 45,
    "start_time": "2022-03-14T18:48:24.820Z"
   },
   {
    "duration": 7,
    "start_time": "2022-03-14T18:48:24.866Z"
   },
   {
    "duration": 11,
    "start_time": "2022-03-14T18:48:24.875Z"
   },
   {
    "duration": 4,
    "start_time": "2022-03-14T18:48:24.887Z"
   },
   {
    "duration": 8,
    "start_time": "2022-03-14T18:48:24.892Z"
   },
   {
    "duration": 6,
    "start_time": "2022-03-14T18:48:24.901Z"
   },
   {
    "duration": 5,
    "start_time": "2022-03-14T18:48:24.909Z"
   },
   {
    "duration": 4,
    "start_time": "2022-03-14T18:48:24.916Z"
   },
   {
    "duration": 38,
    "start_time": "2022-03-14T18:48:24.921Z"
   },
   {
    "duration": 18,
    "start_time": "2022-03-14T18:48:24.961Z"
   },
   {
    "duration": 7,
    "start_time": "2022-03-14T18:48:24.980Z"
   },
   {
    "duration": 17,
    "start_time": "2022-03-14T18:48:24.993Z"
   },
   {
    "duration": 7,
    "start_time": "2022-03-14T18:48:25.012Z"
   },
   {
    "duration": 38,
    "start_time": "2022-03-14T18:48:25.021Z"
   },
   {
    "duration": 319,
    "start_time": "2022-03-14T18:48:25.062Z"
   },
   {
    "duration": 20,
    "start_time": "2022-03-14T18:48:25.383Z"
   },
   {
    "duration": 6,
    "start_time": "2022-03-14T18:48:25.405Z"
   },
   {
    "duration": 20,
    "start_time": "2022-03-14T18:48:25.413Z"
   },
   {
    "duration": 6,
    "start_time": "2022-03-14T18:48:25.460Z"
   },
   {
    "duration": 29,
    "start_time": "2022-03-14T18:48:25.468Z"
   },
   {
    "duration": 7,
    "start_time": "2022-03-14T18:48:25.499Z"
   },
   {
    "duration": 7,
    "start_time": "2022-03-14T18:48:25.508Z"
   },
   {
    "duration": 42,
    "start_time": "2022-03-14T18:48:25.517Z"
   },
   {
    "duration": 9,
    "start_time": "2022-03-14T18:48:25.561Z"
   },
   {
    "duration": 13,
    "start_time": "2022-03-14T18:48:25.571Z"
   },
   {
    "duration": 3,
    "start_time": "2022-03-14T18:48:25.586Z"
   },
   {
    "duration": 12,
    "start_time": "2022-03-14T18:48:25.590Z"
   },
   {
    "duration": 7,
    "start_time": "2022-03-14T18:48:25.603Z"
   },
   {
    "duration": 48,
    "start_time": "2022-03-14T18:48:25.611Z"
   },
   {
    "duration": 6,
    "start_time": "2022-03-14T18:48:25.661Z"
   },
   {
    "duration": 28,
    "start_time": "2022-03-14T18:48:25.670Z"
   },
   {
    "duration": 6,
    "start_time": "2022-03-14T18:48:25.700Z"
   },
   {
    "duration": 6,
    "start_time": "2022-03-14T18:48:25.708Z"
   },
   {
    "duration": 49,
    "start_time": "2022-03-14T18:48:25.716Z"
   },
   {
    "duration": 9,
    "start_time": "2022-03-14T18:48:25.767Z"
   },
   {
    "duration": 12,
    "start_time": "2022-03-14T18:48:25.778Z"
   },
   {
    "duration": 4,
    "start_time": "2022-03-14T18:48:25.792Z"
   },
   {
    "duration": 11,
    "start_time": "2022-03-14T18:48:25.798Z"
   },
   {
    "duration": 3,
    "start_time": "2022-03-14T18:48:25.811Z"
   },
   {
    "duration": 1156,
    "start_time": "2022-03-14T18:50:49.934Z"
   },
   {
    "duration": 1185,
    "start_time": "2022-03-14T18:54:53.244Z"
   },
   {
    "duration": 684,
    "start_time": "2022-03-14T18:56:50.055Z"
   },
   {
    "duration": 1189,
    "start_time": "2022-03-14T18:57:00.020Z"
   },
   {
    "duration": 62,
    "start_time": "2022-03-14T18:58:21.134Z"
   },
   {
    "duration": 397,
    "start_time": "2022-03-14T18:58:28.978Z"
   },
   {
    "duration": 1180,
    "start_time": "2022-03-14T18:58:36.298Z"
   },
   {
    "duration": 1244,
    "start_time": "2022-03-14T18:58:45.108Z"
   },
   {
    "duration": 1181,
    "start_time": "2022-03-14T18:59:06.714Z"
   },
   {
    "duration": 1226,
    "start_time": "2022-03-14T19:00:35.209Z"
   },
   {
    "duration": 1173,
    "start_time": "2022-03-14T19:01:03.696Z"
   },
   {
    "duration": 1212,
    "start_time": "2022-03-14T19:01:18.288Z"
   },
   {
    "duration": 1229,
    "start_time": "2022-03-14T19:01:27.057Z"
   },
   {
    "duration": 1223,
    "start_time": "2022-03-14T19:01:31.744Z"
   },
   {
    "duration": 1176,
    "start_time": "2022-03-14T19:02:02.720Z"
   },
   {
    "duration": 9,
    "start_time": "2022-03-14T19:08:53.044Z"
   },
   {
    "duration": 185,
    "start_time": "2022-03-14T19:09:20.148Z"
   },
   {
    "duration": 190,
    "start_time": "2022-03-14T19:09:55.212Z"
   },
   {
    "duration": 183,
    "start_time": "2022-03-14T19:10:16.827Z"
   },
   {
    "duration": 9,
    "start_time": "2022-03-14T19:11:42.731Z"
   },
   {
    "duration": 9,
    "start_time": "2022-03-14T19:11:51.338Z"
   },
   {
    "duration": 9,
    "start_time": "2022-03-14T19:12:28.242Z"
   },
   {
    "duration": 33,
    "start_time": "2022-03-14T19:16:38.134Z"
   },
   {
    "duration": 29,
    "start_time": "2022-03-14T19:16:42.150Z"
   },
   {
    "duration": 22,
    "start_time": "2022-03-14T19:17:39.526Z"
   },
   {
    "duration": 22,
    "start_time": "2022-03-14T19:18:37.725Z"
   },
   {
    "duration": 25,
    "start_time": "2022-03-14T19:21:15.411Z"
   },
   {
    "duration": 26,
    "start_time": "2022-03-14T19:21:35.419Z"
   },
   {
    "duration": 26,
    "start_time": "2022-03-14T19:21:48.852Z"
   },
   {
    "duration": 8,
    "start_time": "2022-03-14T19:22:25.850Z"
   },
   {
    "duration": 8,
    "start_time": "2022-03-14T19:22:38.978Z"
   },
   {
    "duration": 7,
    "start_time": "2022-03-14T19:22:49.394Z"
   },
   {
    "duration": 9,
    "start_time": "2022-03-14T19:22:54.602Z"
   },
   {
    "duration": 4552,
    "start_time": "2022-03-14T19:26:29.511Z"
   },
   {
    "duration": 4,
    "start_time": "2022-03-14T19:27:41.151Z"
   },
   {
    "duration": 9,
    "start_time": "2022-03-14T19:27:41.878Z"
   },
   {
    "duration": 4424,
    "start_time": "2022-03-14T19:27:47.368Z"
   },
   {
    "duration": 1021,
    "start_time": "2022-03-14T19:28:22.323Z"
   },
   {
    "duration": 407,
    "start_time": "2022-03-14T19:28:23.346Z"
   },
   {
    "duration": 22,
    "start_time": "2022-03-14T19:28:23.756Z"
   },
   {
    "duration": 11,
    "start_time": "2022-03-14T19:28:23.780Z"
   },
   {
    "duration": 17,
    "start_time": "2022-03-14T19:28:23.792Z"
   },
   {
    "duration": 8,
    "start_time": "2022-03-14T19:28:23.810Z"
   },
   {
    "duration": 42,
    "start_time": "2022-03-14T19:28:23.820Z"
   },
   {
    "duration": 8,
    "start_time": "2022-03-14T19:28:23.864Z"
   },
   {
    "duration": 6,
    "start_time": "2022-03-14T19:28:23.874Z"
   },
   {
    "duration": 9,
    "start_time": "2022-03-14T19:28:23.882Z"
   },
   {
    "duration": 8,
    "start_time": "2022-03-14T19:28:23.893Z"
   },
   {
    "duration": 11,
    "start_time": "2022-03-14T19:28:23.903Z"
   },
   {
    "duration": 43,
    "start_time": "2022-03-14T19:28:23.916Z"
   },
   {
    "duration": 32,
    "start_time": "2022-03-14T19:28:23.961Z"
   },
   {
    "duration": 75,
    "start_time": "2022-03-14T19:28:23.994Z"
   },
   {
    "duration": 10,
    "start_time": "2022-03-14T19:28:24.071Z"
   },
   {
    "duration": 20,
    "start_time": "2022-03-14T19:28:24.083Z"
   },
   {
    "duration": 4,
    "start_time": "2022-03-14T19:28:24.105Z"
   },
   {
    "duration": 6,
    "start_time": "2022-03-14T19:28:24.111Z"
   },
   {
    "duration": 49,
    "start_time": "2022-03-14T19:28:24.119Z"
   },
   {
    "duration": 22,
    "start_time": "2022-03-14T19:28:24.170Z"
   },
   {
    "duration": 16,
    "start_time": "2022-03-14T19:28:24.193Z"
   },
   {
    "duration": 8,
    "start_time": "2022-03-14T19:28:24.214Z"
   },
   {
    "duration": 3,
    "start_time": "2022-03-14T19:28:24.224Z"
   },
   {
    "duration": 34,
    "start_time": "2022-03-14T19:28:24.229Z"
   },
   {
    "duration": 16,
    "start_time": "2022-03-14T19:28:24.265Z"
   },
   {
    "duration": 26,
    "start_time": "2022-03-14T19:28:24.283Z"
   },
   {
    "duration": 9,
    "start_time": "2022-03-14T19:28:24.311Z"
   },
   {
    "duration": 38,
    "start_time": "2022-03-14T19:28:24.321Z"
   },
   {
    "duration": 7,
    "start_time": "2022-03-14T19:28:24.361Z"
   },
   {
    "duration": 6,
    "start_time": "2022-03-14T19:28:24.370Z"
   },
   {
    "duration": 5,
    "start_time": "2022-03-14T19:28:24.377Z"
   },
   {
    "duration": 7,
    "start_time": "2022-03-14T19:28:24.384Z"
   },
   {
    "duration": 6,
    "start_time": "2022-03-14T19:28:24.393Z"
   },
   {
    "duration": 11,
    "start_time": "2022-03-14T19:28:24.401Z"
   },
   {
    "duration": 5,
    "start_time": "2022-03-14T19:28:24.414Z"
   },
   {
    "duration": 6,
    "start_time": "2022-03-14T19:28:24.420Z"
   },
   {
    "duration": 38,
    "start_time": "2022-03-14T19:28:24.428Z"
   },
   {
    "duration": 8,
    "start_time": "2022-03-14T19:28:24.468Z"
   },
   {
    "duration": 8,
    "start_time": "2022-03-14T19:28:24.477Z"
   },
   {
    "duration": 25,
    "start_time": "2022-03-14T19:28:24.487Z"
   },
   {
    "duration": 9,
    "start_time": "2022-03-14T19:28:24.514Z"
   },
   {
    "duration": 46,
    "start_time": "2022-03-14T19:28:24.524Z"
   },
   {
    "duration": 9,
    "start_time": "2022-03-14T19:28:24.572Z"
   },
   {
    "duration": 20,
    "start_time": "2022-03-14T19:28:24.583Z"
   },
   {
    "duration": 9,
    "start_time": "2022-03-14T19:28:24.605Z"
   },
   {
    "duration": 52,
    "start_time": "2022-03-14T19:28:24.615Z"
   },
   {
    "duration": 2,
    "start_time": "2022-03-14T19:28:24.669Z"
   },
   {
    "duration": 13,
    "start_time": "2022-03-14T19:28:24.673Z"
   },
   {
    "duration": 16,
    "start_time": "2022-03-14T19:28:24.687Z"
   },
   {
    "duration": 2,
    "start_time": "2022-03-14T19:28:24.705Z"
   },
   {
    "duration": 12,
    "start_time": "2022-03-14T19:28:24.709Z"
   },
   {
    "duration": 46,
    "start_time": "2022-03-14T19:28:24.722Z"
   },
   {
    "duration": 3,
    "start_time": "2022-03-14T19:28:24.769Z"
   },
   {
    "duration": 11,
    "start_time": "2022-03-14T19:28:24.774Z"
   },
   {
    "duration": 19,
    "start_time": "2022-03-14T19:28:24.786Z"
   },
   {
    "duration": 19,
    "start_time": "2022-03-14T19:28:24.806Z"
   },
   {
    "duration": 36,
    "start_time": "2022-03-14T19:28:24.827Z"
   },
   {
    "duration": 11,
    "start_time": "2022-03-14T19:28:24.864Z"
   },
   {
    "duration": 5,
    "start_time": "2022-03-14T19:28:24.876Z"
   },
   {
    "duration": 6,
    "start_time": "2022-03-14T19:28:24.883Z"
   },
   {
    "duration": 5,
    "start_time": "2022-03-14T19:28:24.890Z"
   },
   {
    "duration": 4,
    "start_time": "2022-03-14T19:28:24.897Z"
   },
   {
    "duration": 4,
    "start_time": "2022-03-14T19:28:24.903Z"
   },
   {
    "duration": 7,
    "start_time": "2022-03-14T19:28:24.908Z"
   },
   {
    "duration": 51,
    "start_time": "2022-03-14T19:28:24.917Z"
   },
   {
    "duration": 6,
    "start_time": "2022-03-14T19:28:24.970Z"
   },
   {
    "duration": 16,
    "start_time": "2022-03-14T19:28:24.981Z"
   },
   {
    "duration": 8,
    "start_time": "2022-03-14T19:28:24.999Z"
   },
   {
    "duration": 8,
    "start_time": "2022-03-14T19:28:25.009Z"
   },
   {
    "duration": 352,
    "start_time": "2022-03-14T19:28:25.018Z"
   },
   {
    "duration": 21,
    "start_time": "2022-03-14T19:28:25.372Z"
   },
   {
    "duration": 6,
    "start_time": "2022-03-14T19:28:25.395Z"
   },
   {
    "duration": 20,
    "start_time": "2022-03-14T19:28:25.403Z"
   },
   {
    "duration": 6,
    "start_time": "2022-03-14T19:28:25.425Z"
   },
   {
    "duration": 7,
    "start_time": "2022-03-14T19:28:25.460Z"
   },
   {
    "duration": 9,
    "start_time": "2022-03-14T19:28:25.468Z"
   },
   {
    "duration": 13,
    "start_time": "2022-03-14T19:28:25.478Z"
   },
   {
    "duration": 8,
    "start_time": "2022-03-14T19:28:25.493Z"
   },
   {
    "duration": 13,
    "start_time": "2022-03-14T19:28:25.503Z"
   },
   {
    "duration": 4,
    "start_time": "2022-03-14T19:28:25.518Z"
   },
   {
    "duration": 39,
    "start_time": "2022-03-14T19:28:25.523Z"
   },
   {
    "duration": 9,
    "start_time": "2022-03-14T19:28:25.564Z"
   },
   {
    "duration": 22,
    "start_time": "2022-03-14T19:28:25.574Z"
   },
   {
    "duration": 7,
    "start_time": "2022-03-14T19:28:25.597Z"
   },
   {
    "duration": 8,
    "start_time": "2022-03-14T19:28:25.605Z"
   },
   {
    "duration": 9,
    "start_time": "2022-03-14T19:28:25.614Z"
   },
   {
    "duration": 14,
    "start_time": "2022-03-14T19:28:25.659Z"
   },
   {
    "duration": 4,
    "start_time": "2022-03-14T19:28:25.674Z"
   },
   {
    "duration": 13,
    "start_time": "2022-03-14T19:28:25.680Z"
   },
   {
    "duration": 13,
    "start_time": "2022-03-14T19:28:25.695Z"
   },
   {
    "duration": 3,
    "start_time": "2022-03-14T19:28:25.710Z"
   },
   {
    "duration": 44,
    "start_time": "2022-03-14T19:28:25.716Z"
   },
   {
    "duration": 10,
    "start_time": "2022-03-14T19:28:25.762Z"
   },
   {
    "duration": 9,
    "start_time": "2022-03-14T19:28:25.774Z"
   },
   {
    "duration": 24,
    "start_time": "2022-03-14T19:28:25.785Z"
   },
   {
    "duration": 61,
    "start_time": "2022-03-14T19:28:25.811Z"
   },
   {
    "duration": 9,
    "start_time": "2022-03-14T19:28:25.874Z"
   },
   {
    "duration": 9,
    "start_time": "2022-03-14T19:28:25.885Z"
   },
   {
    "duration": 1263,
    "start_time": "2022-03-14T19:28:25.896Z"
   },
   {
    "duration": 5435,
    "start_time": "2022-03-14T19:28:27.161Z"
   },
   {
    "duration": 5,
    "start_time": "2022-03-14T19:29:06.388Z"
   },
   {
    "duration": 9,
    "start_time": "2022-03-14T19:29:07.254Z"
   },
   {
    "duration": 1317,
    "start_time": "2022-03-14T19:29:13.742Z"
   },
   {
    "duration": 4699,
    "start_time": "2022-03-14T19:34:26.865Z"
   },
   {
    "duration": 300,
    "start_time": "2022-03-14T19:35:20.418Z"
   },
   {
    "duration": 306,
    "start_time": "2022-03-14T19:36:06.000Z"
   },
   {
    "duration": 1193,
    "start_time": "2022-03-14T19:36:18.697Z"
   },
   {
    "duration": 1291,
    "start_time": "2022-03-14T19:36:27.153Z"
   },
   {
    "duration": 307,
    "start_time": "2022-03-14T19:41:24.162Z"
   },
   {
    "duration": 378,
    "start_time": "2022-03-14T19:42:01.521Z"
   },
   {
    "duration": 1189,
    "start_time": "2022-03-14T19:44:02.050Z"
   },
   {
    "duration": 69,
    "start_time": "2022-03-14T20:09:53.881Z"
   },
   {
    "duration": 62,
    "start_time": "2022-03-14T20:10:04.697Z"
   },
   {
    "duration": 71,
    "start_time": "2022-03-14T20:10:26.417Z"
   },
   {
    "duration": 70,
    "start_time": "2022-03-14T20:10:57.633Z"
   },
   {
    "duration": 56,
    "start_time": "2022-03-14T20:11:02.473Z"
   },
   {
    "duration": 56,
    "start_time": "2022-03-14T20:11:23.128Z"
   },
   {
    "duration": 59,
    "start_time": "2022-03-14T20:11:58.416Z"
   },
   {
    "duration": 13,
    "start_time": "2022-03-14T20:12:08.873Z"
   },
   {
    "duration": 363,
    "start_time": "2022-03-14T20:13:44.800Z"
   },
   {
    "duration": 14,
    "start_time": "2022-03-14T20:13:53.624Z"
   },
   {
    "duration": 66,
    "start_time": "2022-03-14T20:13:58.783Z"
   },
   {
    "duration": 59,
    "start_time": "2022-03-14T20:14:46.550Z"
   },
   {
    "duration": 58,
    "start_time": "2022-03-14T20:14:50.743Z"
   },
   {
    "duration": 64,
    "start_time": "2022-03-14T20:14:57.918Z"
   },
   {
    "duration": 62,
    "start_time": "2022-03-14T20:15:03.535Z"
   },
   {
    "duration": 187,
    "start_time": "2022-03-14T20:15:31.207Z"
   },
   {
    "duration": 16,
    "start_time": "2022-03-14T20:16:02.047Z"
   },
   {
    "duration": 14,
    "start_time": "2022-03-14T20:18:20.652Z"
   },
   {
    "duration": 6,
    "start_time": "2022-03-14T20:19:45.460Z"
   },
   {
    "duration": 5,
    "start_time": "2022-03-14T20:20:05.196Z"
   },
   {
    "duration": 7,
    "start_time": "2022-03-14T20:24:49.698Z"
   },
   {
    "duration": 5,
    "start_time": "2022-03-14T20:25:01.429Z"
   },
   {
    "duration": 5,
    "start_time": "2022-03-14T20:25:06.002Z"
   },
   {
    "duration": 7,
    "start_time": "2022-03-14T20:25:21.697Z"
   },
   {
    "duration": 6,
    "start_time": "2022-03-14T20:25:24.449Z"
   },
   {
    "duration": 6,
    "start_time": "2022-03-14T20:27:39.456Z"
   },
   {
    "duration": 5,
    "start_time": "2022-03-14T20:27:40.487Z"
   },
   {
    "duration": 6,
    "start_time": "2022-03-14T20:29:24.079Z"
   },
   {
    "duration": 6,
    "start_time": "2022-03-14T20:29:25.047Z"
   },
   {
    "duration": 6,
    "start_time": "2022-03-14T20:34:56.627Z"
   },
   {
    "duration": 6,
    "start_time": "2022-03-14T20:34:57.370Z"
   },
   {
    "duration": 7,
    "start_time": "2022-03-14T20:35:06.730Z"
   },
   {
    "duration": 6,
    "start_time": "2022-03-14T20:35:07.235Z"
   },
   {
    "duration": 7695,
    "start_time": "2022-03-14T20:44:38.554Z"
   },
   {
    "duration": 1605,
    "start_time": "2022-03-14T20:44:44.647Z"
   },
   {
    "duration": 3,
    "start_time": "2022-03-14T20:45:08.779Z"
   },
   {
    "duration": 4,
    "start_time": "2022-03-14T20:45:09.457Z"
   },
   {
    "duration": 9,
    "start_time": "2022-03-14T20:54:31.294Z"
   },
   {
    "duration": 4,
    "start_time": "2022-03-14T20:55:06.995Z"
   },
   {
    "duration": 5,
    "start_time": "2022-03-14T20:55:16.460Z"
   },
   {
    "duration": 8,
    "start_time": "2022-03-14T20:55:20.095Z"
   },
   {
    "duration": 6,
    "start_time": "2022-03-14T20:56:11.262Z"
   },
   {
    "duration": 8,
    "start_time": "2022-03-14T20:56:29.853Z"
   },
   {
    "duration": 8,
    "start_time": "2022-03-14T20:59:16.363Z"
   },
   {
    "duration": 169,
    "start_time": "2022-03-14T20:59:36.208Z"
   },
   {
    "duration": 9,
    "start_time": "2022-03-14T20:59:43.921Z"
   },
   {
    "duration": 7,
    "start_time": "2022-03-14T21:02:26.275Z"
   },
   {
    "duration": 8,
    "start_time": "2022-03-14T21:02:37.250Z"
   },
   {
    "duration": 4,
    "start_time": "2022-03-14T21:02:59.418Z"
   },
   {
    "duration": 4,
    "start_time": "2022-03-14T21:03:00.538Z"
   },
   {
    "duration": 65,
    "start_time": "2022-03-14T21:05:36.136Z"
   },
   {
    "duration": 8,
    "start_time": "2022-03-14T21:05:45.648Z"
   },
   {
    "duration": 8,
    "start_time": "2022-03-14T21:06:15.872Z"
   },
   {
    "duration": 4,
    "start_time": "2022-03-14T21:07:30.959Z"
   },
   {
    "duration": 5,
    "start_time": "2022-03-14T21:07:36.303Z"
   },
   {
    "duration": 4,
    "start_time": "2022-03-14T21:07:47.183Z"
   },
   {
    "duration": 6,
    "start_time": "2022-03-14T21:08:11.015Z"
   },
   {
    "duration": 5,
    "start_time": "2022-03-14T21:08:24.206Z"
   },
   {
    "duration": 4,
    "start_time": "2022-03-14T21:08:25.830Z"
   },
   {
    "duration": 8,
    "start_time": "2022-03-14T21:08:28.655Z"
   },
   {
    "duration": 4,
    "start_time": "2022-03-14T21:08:47.382Z"
   },
   {
    "duration": 5,
    "start_time": "2022-03-14T21:08:49.390Z"
   },
   {
    "duration": 186,
    "start_time": "2022-03-14T21:12:45.117Z"
   },
   {
    "duration": 5,
    "start_time": "2022-03-14T21:13:27.316Z"
   },
   {
    "duration": 4,
    "start_time": "2022-03-14T21:13:29.354Z"
   },
   {
    "duration": 8,
    "start_time": "2022-03-14T21:14:52.948Z"
   },
   {
    "duration": 205,
    "start_time": "2022-03-14T21:24:55.318Z"
   },
   {
    "duration": 200,
    "start_time": "2022-03-14T21:25:03.472Z"
   },
   {
    "duration": 199,
    "start_time": "2022-03-14T21:25:33.679Z"
   },
   {
    "duration": 199,
    "start_time": "2022-03-14T21:26:18.782Z"
   },
   {
    "duration": 271,
    "start_time": "2022-03-14T21:26:38.670Z"
   },
   {
    "duration": 6,
    "start_time": "2022-03-14T21:27:19.374Z"
   },
   {
    "duration": 6,
    "start_time": "2022-03-14T21:27:51.308Z"
   },
   {
    "duration": 6,
    "start_time": "2022-03-14T21:27:55.796Z"
   },
   {
    "duration": 3,
    "start_time": "2022-03-14T21:28:00.500Z"
   },
   {
    "duration": 6,
    "start_time": "2022-03-14T21:28:59.764Z"
   },
   {
    "duration": 7,
    "start_time": "2022-03-14T21:29:09.429Z"
   },
   {
    "duration": 13,
    "start_time": "2022-03-14T21:29:31.117Z"
   },
   {
    "duration": 9,
    "start_time": "2022-03-14T21:29:37.811Z"
   },
   {
    "duration": 7,
    "start_time": "2022-03-14T21:29:40.013Z"
   },
   {
    "duration": 13,
    "start_time": "2022-03-14T21:30:27.036Z"
   },
   {
    "duration": 9,
    "start_time": "2022-03-14T21:30:44.946Z"
   },
   {
    "duration": 7,
    "start_time": "2022-03-14T21:30:46.259Z"
   },
   {
    "duration": 1071,
    "start_time": "2022-03-14T21:30:54.877Z"
   },
   {
    "duration": 392,
    "start_time": "2022-03-14T21:30:55.950Z"
   },
   {
    "duration": 24,
    "start_time": "2022-03-14T21:30:56.344Z"
   },
   {
    "duration": 11,
    "start_time": "2022-03-14T21:30:56.370Z"
   },
   {
    "duration": 18,
    "start_time": "2022-03-14T21:30:56.383Z"
   },
   {
    "duration": 8,
    "start_time": "2022-03-14T21:30:56.402Z"
   },
   {
    "duration": 15,
    "start_time": "2022-03-14T21:30:56.412Z"
   },
   {
    "duration": 33,
    "start_time": "2022-03-14T21:30:56.429Z"
   },
   {
    "duration": 14,
    "start_time": "2022-03-14T21:30:56.464Z"
   },
   {
    "duration": 9,
    "start_time": "2022-03-14T21:30:56.479Z"
   },
   {
    "duration": 7,
    "start_time": "2022-03-14T21:30:56.490Z"
   },
   {
    "duration": 11,
    "start_time": "2022-03-14T21:30:56.499Z"
   },
   {
    "duration": 7,
    "start_time": "2022-03-14T21:30:56.512Z"
   },
   {
    "duration": 58,
    "start_time": "2022-03-14T21:30:56.520Z"
   },
   {
    "duration": 66,
    "start_time": "2022-03-14T21:30:56.579Z"
   },
   {
    "duration": 9,
    "start_time": "2022-03-14T21:30:56.658Z"
   },
   {
    "duration": 20,
    "start_time": "2022-03-14T21:30:56.669Z"
   },
   {
    "duration": 5,
    "start_time": "2022-03-14T21:30:56.691Z"
   },
   {
    "duration": 5,
    "start_time": "2022-03-14T21:30:56.697Z"
   },
   {
    "duration": 21,
    "start_time": "2022-03-14T21:30:56.704Z"
   },
   {
    "duration": 49,
    "start_time": "2022-03-14T21:30:56.727Z"
   },
   {
    "duration": 12,
    "start_time": "2022-03-14T21:30:56.778Z"
   },
   {
    "duration": 8,
    "start_time": "2022-03-14T21:30:56.794Z"
   },
   {
    "duration": 3,
    "start_time": "2022-03-14T21:30:56.805Z"
   },
   {
    "duration": 13,
    "start_time": "2022-03-14T21:30:56.810Z"
   },
   {
    "duration": 51,
    "start_time": "2022-03-14T21:30:56.824Z"
   },
   {
    "duration": 28,
    "start_time": "2022-03-14T21:30:56.877Z"
   },
   {
    "duration": 10,
    "start_time": "2022-03-14T21:30:56.907Z"
   },
   {
    "duration": 12,
    "start_time": "2022-03-14T21:30:56.919Z"
   },
   {
    "duration": 31,
    "start_time": "2022-03-14T21:30:56.932Z"
   },
   {
    "duration": 7,
    "start_time": "2022-03-14T21:30:56.965Z"
   },
   {
    "duration": 6,
    "start_time": "2022-03-14T21:30:56.974Z"
   },
   {
    "duration": 6,
    "start_time": "2022-03-14T21:30:56.982Z"
   },
   {
    "duration": 8,
    "start_time": "2022-03-14T21:30:56.990Z"
   },
   {
    "duration": 25,
    "start_time": "2022-03-14T21:30:57.000Z"
   },
   {
    "duration": 13,
    "start_time": "2022-03-14T21:30:57.026Z"
   },
   {
    "duration": 8,
    "start_time": "2022-03-14T21:30:57.041Z"
   },
   {
    "duration": 14,
    "start_time": "2022-03-14T21:30:57.050Z"
   },
   {
    "duration": 6,
    "start_time": "2022-03-14T21:30:57.066Z"
   },
   {
    "duration": 6,
    "start_time": "2022-03-14T21:30:57.074Z"
   },
   {
    "duration": 23,
    "start_time": "2022-03-14T21:30:57.082Z"
   },
   {
    "duration": 9,
    "start_time": "2022-03-14T21:30:57.107Z"
   },
   {
    "duration": 49,
    "start_time": "2022-03-14T21:30:57.118Z"
   },
   {
    "duration": 9,
    "start_time": "2022-03-14T21:30:57.169Z"
   },
   {
    "duration": 24,
    "start_time": "2022-03-14T21:30:57.180Z"
   },
   {
    "duration": 9,
    "start_time": "2022-03-14T21:30:57.206Z"
   },
   {
    "duration": 43,
    "start_time": "2022-03-14T21:30:57.216Z"
   },
   {
    "duration": 3,
    "start_time": "2022-03-14T21:30:57.261Z"
   },
   {
    "duration": 13,
    "start_time": "2022-03-14T21:30:57.265Z"
   },
   {
    "duration": 17,
    "start_time": "2022-03-14T21:30:57.279Z"
   },
   {
    "duration": 3,
    "start_time": "2022-03-14T21:30:57.297Z"
   },
   {
    "duration": 11,
    "start_time": "2022-03-14T21:30:57.301Z"
   },
   {
    "duration": 51,
    "start_time": "2022-03-14T21:30:57.314Z"
   },
   {
    "duration": 3,
    "start_time": "2022-03-14T21:30:57.367Z"
   },
   {
    "duration": 11,
    "start_time": "2022-03-14T21:30:57.371Z"
   },
   {
    "duration": 20,
    "start_time": "2022-03-14T21:30:57.383Z"
   },
   {
    "duration": 20,
    "start_time": "2022-03-14T21:30:57.404Z"
   },
   {
    "duration": 36,
    "start_time": "2022-03-14T21:30:57.426Z"
   },
   {
    "duration": 11,
    "start_time": "2022-03-14T21:30:57.464Z"
   },
   {
    "duration": 6,
    "start_time": "2022-03-14T21:30:57.477Z"
   },
   {
    "duration": 7,
    "start_time": "2022-03-14T21:30:57.484Z"
   },
   {
    "duration": 5,
    "start_time": "2022-03-14T21:30:57.493Z"
   },
   {
    "duration": 5,
    "start_time": "2022-03-14T21:30:57.499Z"
   },
   {
    "duration": 5,
    "start_time": "2022-03-14T21:30:57.506Z"
   },
   {
    "duration": 10,
    "start_time": "2022-03-14T21:30:57.512Z"
   },
   {
    "duration": 48,
    "start_time": "2022-03-14T21:30:57.524Z"
   },
   {
    "duration": 7,
    "start_time": "2022-03-14T21:30:57.575Z"
   },
   {
    "duration": 18,
    "start_time": "2022-03-14T21:30:57.589Z"
   },
   {
    "duration": 8,
    "start_time": "2022-03-14T21:30:57.610Z"
   },
   {
    "duration": 44,
    "start_time": "2022-03-14T21:30:57.620Z"
   },
   {
    "duration": 326,
    "start_time": "2022-03-14T21:30:57.666Z"
   },
   {
    "duration": 19,
    "start_time": "2022-03-14T21:30:57.994Z"
   },
   {
    "duration": 6,
    "start_time": "2022-03-14T21:30:58.015Z"
   },
   {
    "duration": 38,
    "start_time": "2022-03-14T21:30:58.022Z"
   },
   {
    "duration": 8,
    "start_time": "2022-03-14T21:30:58.061Z"
   },
   {
    "duration": 7,
    "start_time": "2022-03-14T21:30:58.070Z"
   },
   {
    "duration": 6,
    "start_time": "2022-03-14T21:30:58.079Z"
   },
   {
    "duration": 13,
    "start_time": "2022-03-14T21:30:58.087Z"
   },
   {
    "duration": 4,
    "start_time": "2022-03-14T21:30:58.101Z"
   },
   {
    "duration": 11,
    "start_time": "2022-03-14T21:30:58.106Z"
   },
   {
    "duration": 45,
    "start_time": "2022-03-14T21:30:58.118Z"
   },
   {
    "duration": 3,
    "start_time": "2022-03-14T21:30:58.165Z"
   },
   {
    "duration": 11,
    "start_time": "2022-03-14T21:30:58.170Z"
   },
   {
    "duration": 7,
    "start_time": "2022-03-14T21:30:58.182Z"
   },
   {
    "duration": 21,
    "start_time": "2022-03-14T21:30:58.190Z"
   },
   {
    "duration": 7,
    "start_time": "2022-03-14T21:30:58.213Z"
   },
   {
    "duration": 7,
    "start_time": "2022-03-14T21:30:58.222Z"
   },
   {
    "duration": 7,
    "start_time": "2022-03-14T21:30:58.259Z"
   },
   {
    "duration": 14,
    "start_time": "2022-03-14T21:30:58.269Z"
   },
   {
    "duration": 5,
    "start_time": "2022-03-14T21:30:58.284Z"
   },
   {
    "duration": 10,
    "start_time": "2022-03-14T21:30:58.291Z"
   },
   {
    "duration": 12,
    "start_time": "2022-03-14T21:30:58.303Z"
   },
   {
    "duration": 4,
    "start_time": "2022-03-14T21:30:58.316Z"
   },
   {
    "duration": 9,
    "start_time": "2022-03-14T21:30:58.359Z"
   },
   {
    "duration": 10,
    "start_time": "2022-03-14T21:30:58.369Z"
   },
   {
    "duration": 9,
    "start_time": "2022-03-14T21:30:58.381Z"
   },
   {
    "duration": 24,
    "start_time": "2022-03-14T21:30:58.392Z"
   },
   {
    "duration": 54,
    "start_time": "2022-03-14T21:30:58.418Z"
   },
   {
    "duration": 7,
    "start_time": "2022-03-14T21:30:58.474Z"
   },
   {
    "duration": 9,
    "start_time": "2022-03-14T21:30:58.483Z"
   },
   {
    "duration": 411,
    "start_time": "2022-03-14T21:30:58.493Z"
   },
   {
    "duration": 1221,
    "start_time": "2022-03-14T21:30:58.906Z"
   },
   {
    "duration": 5,
    "start_time": "2022-03-14T21:31:00.128Z"
   },
   {
    "duration": 10,
    "start_time": "2022-03-14T21:31:00.134Z"
   },
   {
    "duration": 26,
    "start_time": "2022-03-14T21:31:00.145Z"
   },
   {
    "duration": 19,
    "start_time": "2022-03-14T21:31:00.172Z"
   },
   {
    "duration": 20,
    "start_time": "2022-03-14T21:31:00.193Z"
   },
   {
    "duration": 8,
    "start_time": "2022-03-14T21:31:44.021Z"
   },
   {
    "duration": 8,
    "start_time": "2022-03-14T21:32:30.332Z"
   },
   {
    "duration": 8,
    "start_time": "2022-03-14T21:33:19.283Z"
   },
   {
    "duration": 9,
    "start_time": "2022-03-14T21:33:30.057Z"
   },
   {
    "duration": 8,
    "start_time": "2022-03-14T21:33:31.771Z"
   },
   {
    "duration": 4,
    "start_time": "2022-03-14T21:58:03.891Z"
   },
   {
    "duration": 5,
    "start_time": "2022-03-14T21:59:56.632Z"
   },
   {
    "duration": 1097,
    "start_time": "2022-03-14T22:16:20.851Z"
   },
   {
    "duration": 397,
    "start_time": "2022-03-14T22:16:21.950Z"
   },
   {
    "duration": 22,
    "start_time": "2022-03-14T22:16:22.349Z"
   },
   {
    "duration": 11,
    "start_time": "2022-03-14T22:16:22.373Z"
   },
   {
    "duration": 17,
    "start_time": "2022-03-14T22:16:22.386Z"
   },
   {
    "duration": 8,
    "start_time": "2022-03-14T22:16:22.405Z"
   },
   {
    "duration": 17,
    "start_time": "2022-03-14T22:16:22.415Z"
   },
   {
    "duration": 7,
    "start_time": "2022-03-14T22:16:22.460Z"
   },
   {
    "duration": 10,
    "start_time": "2022-03-14T22:16:22.470Z"
   },
   {
    "duration": 11,
    "start_time": "2022-03-14T22:16:22.482Z"
   },
   {
    "duration": 9,
    "start_time": "2022-03-14T22:16:22.495Z"
   },
   {
    "duration": 15,
    "start_time": "2022-03-14T22:16:22.505Z"
   },
   {
    "duration": 11,
    "start_time": "2022-03-14T22:16:22.522Z"
   },
   {
    "duration": 50,
    "start_time": "2022-03-14T22:16:22.535Z"
   },
   {
    "duration": 88,
    "start_time": "2022-03-14T22:16:22.587Z"
   },
   {
    "duration": 24,
    "start_time": "2022-03-14T22:16:22.676Z"
   },
   {
    "duration": 31,
    "start_time": "2022-03-14T22:16:22.702Z"
   },
   {
    "duration": 5,
    "start_time": "2022-03-14T22:16:22.735Z"
   },
   {
    "duration": 12,
    "start_time": "2022-03-14T22:16:22.742Z"
   },
   {
    "duration": 33,
    "start_time": "2022-03-14T22:16:22.756Z"
   },
   {
    "duration": 22,
    "start_time": "2022-03-14T22:16:22.791Z"
   },
   {
    "duration": 31,
    "start_time": "2022-03-14T22:16:22.814Z"
   },
   {
    "duration": 16,
    "start_time": "2022-03-14T22:16:22.849Z"
   },
   {
    "duration": 14,
    "start_time": "2022-03-14T22:16:22.868Z"
   },
   {
    "duration": 27,
    "start_time": "2022-03-14T22:16:22.883Z"
   },
   {
    "duration": 30,
    "start_time": "2022-03-14T22:16:22.912Z"
   },
   {
    "duration": 36,
    "start_time": "2022-03-14T22:16:22.944Z"
   },
   {
    "duration": 23,
    "start_time": "2022-03-14T22:16:22.982Z"
   },
   {
    "duration": 23,
    "start_time": "2022-03-14T22:16:23.007Z"
   },
   {
    "duration": 23,
    "start_time": "2022-03-14T22:16:23.032Z"
   },
   {
    "duration": 23,
    "start_time": "2022-03-14T22:16:23.057Z"
   },
   {
    "duration": 27,
    "start_time": "2022-03-14T22:16:23.082Z"
   },
   {
    "duration": 16,
    "start_time": "2022-03-14T22:16:23.111Z"
   },
   {
    "duration": 37,
    "start_time": "2022-03-14T22:16:23.129Z"
   },
   {
    "duration": 29,
    "start_time": "2022-03-14T22:16:23.167Z"
   },
   {
    "duration": 23,
    "start_time": "2022-03-14T22:16:23.198Z"
   },
   {
    "duration": 20,
    "start_time": "2022-03-14T22:16:23.222Z"
   },
   {
    "duration": 32,
    "start_time": "2022-03-14T22:16:23.244Z"
   },
   {
    "duration": 26,
    "start_time": "2022-03-14T22:16:23.277Z"
   },
   {
    "duration": 15,
    "start_time": "2022-03-14T22:16:23.305Z"
   },
   {
    "duration": 48,
    "start_time": "2022-03-14T22:16:23.322Z"
   },
   {
    "duration": 8,
    "start_time": "2022-03-14T22:16:23.372Z"
   },
   {
    "duration": 33,
    "start_time": "2022-03-14T22:16:23.382Z"
   },
   {
    "duration": 20,
    "start_time": "2022-03-14T22:16:23.416Z"
   },
   {
    "duration": 30,
    "start_time": "2022-03-14T22:16:23.438Z"
   },
   {
    "duration": 10,
    "start_time": "2022-03-14T22:16:23.469Z"
   },
   {
    "duration": 45,
    "start_time": "2022-03-14T22:16:23.480Z"
   },
   {
    "duration": 3,
    "start_time": "2022-03-14T22:16:23.527Z"
   },
   {
    "duration": 32,
    "start_time": "2022-03-14T22:16:23.531Z"
   },
   {
    "duration": 24,
    "start_time": "2022-03-14T22:16:23.565Z"
   },
   {
    "duration": 3,
    "start_time": "2022-03-14T22:16:23.591Z"
   },
   {
    "duration": 25,
    "start_time": "2022-03-14T22:16:23.596Z"
   },
   {
    "duration": 30,
    "start_time": "2022-03-14T22:16:23.623Z"
   },
   {
    "duration": 7,
    "start_time": "2022-03-14T22:16:23.654Z"
   },
   {
    "duration": 21,
    "start_time": "2022-03-14T22:16:23.663Z"
   },
   {
    "duration": 31,
    "start_time": "2022-03-14T22:16:23.686Z"
   },
   {
    "duration": 27,
    "start_time": "2022-03-14T22:16:23.719Z"
   },
   {
    "duration": 7,
    "start_time": "2022-03-14T22:16:23.748Z"
   },
   {
    "duration": 30,
    "start_time": "2022-03-14T22:16:23.757Z"
   },
   {
    "duration": 11,
    "start_time": "2022-03-14T22:16:23.789Z"
   },
   {
    "duration": 19,
    "start_time": "2022-03-14T22:16:23.802Z"
   },
   {
    "duration": 21,
    "start_time": "2022-03-14T22:16:23.823Z"
   },
   {
    "duration": 20,
    "start_time": "2022-03-14T22:16:23.846Z"
   },
   {
    "duration": 26,
    "start_time": "2022-03-14T22:16:23.867Z"
   },
   {
    "duration": 19,
    "start_time": "2022-03-14T22:16:23.894Z"
   },
   {
    "duration": 41,
    "start_time": "2022-03-14T22:16:23.915Z"
   },
   {
    "duration": 22,
    "start_time": "2022-03-14T22:16:23.957Z"
   },
   {
    "duration": 60,
    "start_time": "2022-03-14T22:16:23.984Z"
   },
   {
    "duration": 29,
    "start_time": "2022-03-14T22:16:24.046Z"
   },
   {
    "duration": 26,
    "start_time": "2022-03-14T22:16:24.077Z"
   },
   {
    "duration": 341,
    "start_time": "2022-03-14T22:16:24.105Z"
   },
   {
    "duration": 21,
    "start_time": "2022-03-14T22:16:24.448Z"
   },
   {
    "duration": 14,
    "start_time": "2022-03-14T22:16:24.470Z"
   },
   {
    "duration": 42,
    "start_time": "2022-03-14T22:16:24.485Z"
   },
   {
    "duration": 34,
    "start_time": "2022-03-14T22:16:24.529Z"
   },
   {
    "duration": 14,
    "start_time": "2022-03-14T22:16:24.564Z"
   },
   {
    "duration": 26,
    "start_time": "2022-03-14T22:16:24.580Z"
   },
   {
    "duration": 27,
    "start_time": "2022-03-14T22:16:24.608Z"
   },
   {
    "duration": 15,
    "start_time": "2022-03-14T22:16:24.637Z"
   },
   {
    "duration": 51,
    "start_time": "2022-03-14T22:16:24.653Z"
   },
   {
    "duration": 18,
    "start_time": "2022-03-14T22:16:24.706Z"
   },
   {
    "duration": 41,
    "start_time": "2022-03-14T22:16:24.726Z"
   },
   {
    "duration": 15,
    "start_time": "2022-03-14T22:16:24.768Z"
   },
   {
    "duration": 19,
    "start_time": "2022-03-14T22:16:24.784Z"
   },
   {
    "duration": 36,
    "start_time": "2022-03-14T22:16:24.804Z"
   },
   {
    "duration": 36,
    "start_time": "2022-03-14T22:16:24.842Z"
   },
   {
    "duration": 31,
    "start_time": "2022-03-14T22:16:24.879Z"
   },
   {
    "duration": 19,
    "start_time": "2022-03-14T22:16:24.912Z"
   },
   {
    "duration": 22,
    "start_time": "2022-03-14T22:16:24.932Z"
   },
   {
    "duration": 36,
    "start_time": "2022-03-14T22:16:24.956Z"
   },
   {
    "duration": 15,
    "start_time": "2022-03-14T22:16:24.994Z"
   },
   {
    "duration": 29,
    "start_time": "2022-03-14T22:16:25.010Z"
   },
   {
    "duration": 33,
    "start_time": "2022-03-14T22:16:25.041Z"
   },
   {
    "duration": 26,
    "start_time": "2022-03-14T22:16:25.076Z"
   },
   {
    "duration": 15,
    "start_time": "2022-03-14T22:16:25.104Z"
   },
   {
    "duration": 24,
    "start_time": "2022-03-14T22:16:25.121Z"
   },
   {
    "duration": 23,
    "start_time": "2022-03-14T22:16:25.147Z"
   },
   {
    "duration": 32,
    "start_time": "2022-03-14T22:16:25.171Z"
   },
   {
    "duration": 38,
    "start_time": "2022-03-14T22:16:25.205Z"
   },
   {
    "duration": 31,
    "start_time": "2022-03-14T22:16:25.245Z"
   },
   {
    "duration": 19,
    "start_time": "2022-03-14T22:16:25.278Z"
   },
   {
    "duration": 28,
    "start_time": "2022-03-14T22:16:25.299Z"
   },
   {
    "duration": 401,
    "start_time": "2022-03-14T22:16:25.329Z"
   },
   {
    "duration": 1234,
    "start_time": "2022-03-14T22:16:25.731Z"
   },
   {
    "duration": 7,
    "start_time": "2022-03-14T22:16:26.967Z"
   },
   {
    "duration": 22,
    "start_time": "2022-03-14T22:16:26.975Z"
   },
   {
    "duration": 8,
    "start_time": "2022-03-14T22:16:26.998Z"
   },
   {
    "duration": 1470,
    "start_time": "2022-03-25T11:00:37.421Z"
   },
   {
    "duration": 577,
    "start_time": "2022-03-25T11:00:39.525Z"
   },
   {
    "duration": 37,
    "start_time": "2022-03-25T11:00:40.919Z"
   },
   {
    "duration": 17,
    "start_time": "2022-03-25T11:00:41.860Z"
   },
   {
    "duration": 32,
    "start_time": "2022-03-25T11:00:44.745Z"
   },
   {
    "duration": 13,
    "start_time": "2022-03-25T11:00:45.575Z"
   },
   {
    "duration": 27,
    "start_time": "2022-03-25T11:00:48.404Z"
   },
   {
    "duration": 11,
    "start_time": "2022-03-25T11:00:50.572Z"
   },
   {
    "duration": 15,
    "start_time": "2022-03-25T11:00:53.000Z"
   },
   {
    "duration": 11,
    "start_time": "2022-03-25T11:00:53.872Z"
   },
   {
    "duration": 15,
    "start_time": "2022-03-25T11:00:56.364Z"
   },
   {
    "duration": 17,
    "start_time": "2022-03-25T11:00:57.271Z"
   },
   {
    "duration": 6,
    "start_time": "2022-03-25T11:12:43.195Z"
   },
   {
    "duration": 51,
    "start_time": "2022-03-25T11:12:43.683Z"
   },
   {
    "duration": 77,
    "start_time": "2022-03-25T11:12:44.059Z"
   },
   {
    "duration": 12,
    "start_time": "2022-03-25T11:12:44.307Z"
   },
   {
    "duration": 27,
    "start_time": "2022-03-25T11:12:44.531Z"
   },
   {
    "duration": 11,
    "start_time": "2022-03-25T11:12:45.356Z"
   },
   {
    "duration": 5,
    "start_time": "2022-03-25T11:12:45.543Z"
   },
   {
    "duration": 38,
    "start_time": "2022-03-25T11:12:45.726Z"
   },
   {
    "duration": 32,
    "start_time": "2022-03-25T11:12:45.897Z"
   },
   {
    "duration": 14,
    "start_time": "2022-03-25T11:12:46.402Z"
   },
   {
    "duration": 12,
    "start_time": "2022-03-25T11:12:46.491Z"
   },
   {
    "duration": 3,
    "start_time": "2022-03-25T11:12:46.575Z"
   },
   {
    "duration": 25,
    "start_time": "2022-03-25T11:12:46.631Z"
   },
   {
    "duration": 29,
    "start_time": "2022-03-25T11:12:46.832Z"
   },
   {
    "duration": 33,
    "start_time": "2022-03-25T11:12:46.894Z"
   },
   {
    "duration": 11,
    "start_time": "2022-03-25T11:12:46.954Z"
   },
   {
    "duration": 20,
    "start_time": "2022-03-25T11:12:47.022Z"
   },
   {
    "duration": 11,
    "start_time": "2022-03-25T11:12:47.230Z"
   },
   {
    "duration": 15,
    "start_time": "2022-03-25T11:12:47.320Z"
   },
   {
    "duration": 5,
    "start_time": "2022-03-25T11:12:47.456Z"
   },
   {
    "duration": 7,
    "start_time": "2022-03-25T11:12:47.521Z"
   },
   {
    "duration": 5,
    "start_time": "2022-03-25T11:12:47.581Z"
   },
   {
    "duration": 16,
    "start_time": "2022-03-25T11:12:47.655Z"
   },
   {
    "duration": 8,
    "start_time": "2022-03-25T11:12:47.853Z"
   },
   {
    "duration": 8,
    "start_time": "2022-03-25T11:12:47.914Z"
   },
   {
    "duration": 22,
    "start_time": "2022-03-25T11:12:47.977Z"
   },
   {
    "duration": 15,
    "start_time": "2022-03-25T11:12:48.043Z"
   },
   {
    "duration": 8,
    "start_time": "2022-03-25T11:12:48.111Z"
   },
   {
    "duration": 32,
    "start_time": "2022-03-25T11:12:48.378Z"
   },
   {
    "duration": 12,
    "start_time": "2022-03-25T11:12:48.437Z"
   },
   {
    "duration": 22,
    "start_time": "2022-03-25T11:12:48.618Z"
   },
   {
    "duration": 13,
    "start_time": "2022-03-25T11:12:48.705Z"
   },
   {
    "duration": 25,
    "start_time": "2022-03-25T11:12:48.838Z"
   },
   {
    "duration": 12,
    "start_time": "2022-03-25T11:12:48.936Z"
   },
   {
    "duration": 31,
    "start_time": "2022-03-25T11:12:49.069Z"
   },
   {
    "duration": 4,
    "start_time": "2022-03-25T11:12:49.128Z"
   },
   {
    "duration": 14,
    "start_time": "2022-03-25T11:12:49.205Z"
   },
   {
    "duration": 22,
    "start_time": "2022-03-25T11:12:49.338Z"
   },
   {
    "duration": 4,
    "start_time": "2022-03-25T11:12:49.401Z"
   },
   {
    "duration": 13,
    "start_time": "2022-03-25T11:12:49.465Z"
   },
   {
    "duration": 23,
    "start_time": "2022-03-25T11:12:49.601Z"
   },
   {
    "duration": 4,
    "start_time": "2022-03-25T11:12:49.657Z"
   },
   {
    "duration": 13,
    "start_time": "2022-03-25T11:12:49.731Z"
   },
   {
    "duration": 26,
    "start_time": "2022-03-25T11:12:49.900Z"
   },
   {
    "duration": 32,
    "start_time": "2022-03-25T11:12:49.992Z"
   },
   {
    "duration": 12,
    "start_time": "2022-03-25T11:12:50.128Z"
   },
   {
    "duration": 19,
    "start_time": "2022-03-25T11:12:50.253Z"
   },
   {
    "duration": 7,
    "start_time": "2022-03-25T11:12:50.388Z"
   },
   {
    "duration": 6,
    "start_time": "2022-03-25T11:12:50.528Z"
   },
   {
    "duration": 4,
    "start_time": "2022-03-25T11:12:50.625Z"
   },
   {
    "duration": 5,
    "start_time": "2022-03-25T11:12:51.831Z"
   },
   {
    "duration": 5,
    "start_time": "2022-03-25T11:12:52.339Z"
   },
   {
    "duration": 9,
    "start_time": "2022-03-25T11:12:52.428Z"
   },
   {
    "duration": 29,
    "start_time": "2022-03-25T11:12:52.490Z"
   },
   {
    "duration": 11,
    "start_time": "2022-03-25T11:12:53.134Z"
   },
   {
    "duration": 27,
    "start_time": "2022-03-25T11:12:54.068Z"
   },
   {
    "duration": 11,
    "start_time": "2022-03-25T11:12:55.292Z"
   },
   {
    "duration": 13,
    "start_time": "2022-03-25T11:12:58.128Z"
   },
   {
    "duration": 399,
    "start_time": "2022-03-25T11:12:58.959Z"
   },
   {
    "duration": 29,
    "start_time": "2022-03-25T11:12:59.823Z"
   },
   {
    "duration": 9,
    "start_time": "2022-03-25T11:13:32.624Z"
   },
   {
    "duration": 27,
    "start_time": "2022-03-25T11:13:32.696Z"
   },
   {
    "duration": 9,
    "start_time": "2022-03-25T11:13:32.858Z"
   },
   {
    "duration": 9,
    "start_time": "2022-03-25T11:13:33.055Z"
   },
   {
    "duration": 11,
    "start_time": "2022-03-25T11:13:33.128Z"
   },
   {
    "duration": 17,
    "start_time": "2022-03-25T11:13:33.328Z"
   },
   {
    "duration": 6,
    "start_time": "2022-03-25T11:13:33.394Z"
   },
   {
    "duration": 15,
    "start_time": "2022-03-25T11:13:33.459Z"
   },
   {
    "duration": 6,
    "start_time": "2022-03-25T11:13:33.579Z"
   },
   {
    "duration": 19,
    "start_time": "2022-03-25T11:13:33.717Z"
   },
   {
    "duration": 5,
    "start_time": "2022-03-25T11:13:33.788Z"
   },
   {
    "duration": 21,
    "start_time": "2022-03-25T11:13:35.418Z"
   },
   {
    "duration": 13,
    "start_time": "2022-03-25T11:13:35.443Z"
   },
   {
    "duration": 31,
    "start_time": "2022-03-25T11:13:35.459Z"
   },
   {
    "duration": 9,
    "start_time": "2022-03-25T11:13:35.492Z"
   },
   {
    "duration": 11,
    "start_time": "2022-03-25T11:13:35.504Z"
   },
   {
    "duration": 11,
    "start_time": "2022-03-25T11:13:35.543Z"
   },
   {
    "duration": 18,
    "start_time": "2022-03-25T11:13:35.556Z"
   },
   {
    "duration": 6,
    "start_time": "2022-03-25T11:13:35.576Z"
   },
   {
    "duration": 17,
    "start_time": "2022-03-25T11:13:35.584Z"
   },
   {
    "duration": 41,
    "start_time": "2022-03-25T11:13:35.603Z"
   },
   {
    "duration": 22,
    "start_time": "2022-03-25T11:13:35.647Z"
   },
   {
    "duration": 6,
    "start_time": "2022-03-25T11:13:35.671Z"
   },
   {
    "duration": 18,
    "start_time": "2022-03-25T11:13:35.679Z"
   },
   {
    "duration": 12,
    "start_time": "2022-03-25T11:13:35.700Z"
   },
   {
    "duration": 30,
    "start_time": "2022-03-25T11:13:35.714Z"
   },
   {
    "duration": 35,
    "start_time": "2022-03-25T11:13:35.747Z"
   },
   {
    "duration": 73,
    "start_time": "2022-03-25T11:13:35.795Z"
   },
   {
    "duration": 12,
    "start_time": "2022-03-25T11:13:35.962Z"
   },
   {
    "duration": 9,
    "start_time": "2022-03-25T11:13:36.038Z"
   },
   {
    "duration": 590,
    "start_time": "2022-03-25T11:13:36.234Z"
   },
   {
    "duration": 2126,
    "start_time": "2022-03-25T11:13:37.449Z"
   },
   {
    "duration": 12,
    "start_time": "2022-03-25T11:13:40.632Z"
   },
   {
    "duration": 12,
    "start_time": "2022-03-25T11:13:45.248Z"
   },
   {
    "duration": 12,
    "start_time": "2022-03-25T11:13:45.584Z"
   },
   {
    "duration": 6,
    "start_time": "2022-03-25T11:20:00.012Z"
   },
   {
    "duration": 19,
    "start_time": "2022-03-25T11:20:06.013Z"
   },
   {
    "duration": 39,
    "start_time": "2022-03-25T11:20:06.397Z"
   },
   {
    "duration": 12,
    "start_time": "2022-03-25T11:20:06.725Z"
   },
   {
    "duration": 1573,
    "start_time": "2022-03-25T11:20:12.808Z"
   },
   {
    "duration": 542,
    "start_time": "2022-03-25T11:20:14.385Z"
   },
   {
    "duration": 38,
    "start_time": "2022-03-25T11:20:14.932Z"
   },
   {
    "duration": 17,
    "start_time": "2022-03-25T11:20:14.972Z"
   },
   {
    "duration": 51,
    "start_time": "2022-03-25T11:20:14.992Z"
   },
   {
    "duration": 14,
    "start_time": "2022-03-25T11:20:15.045Z"
   },
   {
    "duration": 30,
    "start_time": "2022-03-25T11:20:15.062Z"
   },
   {
    "duration": 13,
    "start_time": "2022-03-25T11:20:15.095Z"
   },
   {
    "duration": 16,
    "start_time": "2022-03-25T11:20:15.144Z"
   },
   {
    "duration": 16,
    "start_time": "2022-03-25T11:20:15.163Z"
   },
   {
    "duration": 18,
    "start_time": "2022-03-25T11:20:15.182Z"
   },
   {
    "duration": 51,
    "start_time": "2022-03-25T11:20:15.203Z"
   },
   {
    "duration": 11,
    "start_time": "2022-03-25T11:20:15.257Z"
   },
   {
    "duration": 74,
    "start_time": "2022-03-25T11:20:15.271Z"
   },
   {
    "duration": 97,
    "start_time": "2022-03-25T11:20:15.347Z"
   },
   {
    "duration": 19,
    "start_time": "2022-03-25T11:20:15.447Z"
   },
   {
    "duration": 40,
    "start_time": "2022-03-25T11:20:15.468Z"
   },
   {
    "duration": 35,
    "start_time": "2022-03-25T11:20:15.510Z"
   },
   {
    "duration": 5,
    "start_time": "2022-03-25T11:20:15.548Z"
   },
   {
    "duration": 36,
    "start_time": "2022-03-25T11:20:15.556Z"
   },
   {
    "duration": 49,
    "start_time": "2022-03-25T11:20:15.595Z"
   },
   {
    "duration": 14,
    "start_time": "2022-03-25T11:20:15.646Z"
   },
   {
    "duration": 13,
    "start_time": "2022-03-25T11:20:15.662Z"
   },
   {
    "duration": 5,
    "start_time": "2022-03-25T11:20:15.677Z"
   },
   {
    "duration": 65,
    "start_time": "2022-03-25T11:20:15.687Z"
   },
   {
    "duration": 28,
    "start_time": "2022-03-25T11:20:17.972Z"
   },
   {
    "duration": 34,
    "start_time": "2022-03-25T11:20:18.187Z"
   },
   {
    "duration": 11,
    "start_time": "2022-03-25T11:20:18.361Z"
   },
   {
    "duration": 22,
    "start_time": "2022-03-25T11:20:18.571Z"
   },
   {
    "duration": 13,
    "start_time": "2022-03-25T11:20:21.431Z"
   },
   {
    "duration": 14,
    "start_time": "2022-03-25T11:20:22.987Z"
   },
   {
    "duration": 6,
    "start_time": "2022-03-25T11:20:25.391Z"
   },
   {
    "duration": 9,
    "start_time": "2022-03-25T11:20:25.823Z"
   },
   {
    "duration": 5,
    "start_time": "2022-03-25T11:20:26.243Z"
   },
   {
    "duration": 12,
    "start_time": "2022-03-25T11:20:26.604Z"
   },
   {
    "duration": 3767,
    "start_time": "2022-03-25T11:20:46.212Z"
   },
   {
    "duration": 15,
    "start_time": "2022-03-25T11:20:52.573Z"
   },
   {
    "duration": 15,
    "start_time": "2022-03-25T11:20:53.102Z"
   },
   {
    "duration": 3381,
    "start_time": "2022-03-25T11:20:54.133Z"
   },
   {
    "duration": 1536,
    "start_time": "2022-03-25T11:21:06.766Z"
   },
   {
    "duration": 555,
    "start_time": "2022-03-25T11:21:08.304Z"
   },
   {
    "duration": 51,
    "start_time": "2022-03-25T11:21:08.863Z"
   },
   {
    "duration": 27,
    "start_time": "2022-03-25T11:21:08.917Z"
   },
   {
    "duration": 40,
    "start_time": "2022-03-25T11:21:08.947Z"
   },
   {
    "duration": 14,
    "start_time": "2022-03-25T11:21:08.990Z"
   },
   {
    "duration": 60,
    "start_time": "2022-03-25T11:21:09.007Z"
   },
   {
    "duration": 13,
    "start_time": "2022-03-25T11:21:09.070Z"
   },
   {
    "duration": 26,
    "start_time": "2022-03-25T11:21:09.086Z"
   },
   {
    "duration": 36,
    "start_time": "2022-03-25T11:21:09.114Z"
   },
   {
    "duration": 22,
    "start_time": "2022-03-25T11:21:09.153Z"
   },
   {
    "duration": 17,
    "start_time": "2022-03-25T11:21:09.177Z"
   },
   {
    "duration": 43,
    "start_time": "2022-03-25T11:21:09.200Z"
   },
   {
    "duration": 52,
    "start_time": "2022-03-25T11:21:09.249Z"
   },
   {
    "duration": 106,
    "start_time": "2022-03-25T11:21:09.304Z"
   },
   {
    "duration": 30,
    "start_time": "2022-03-25T11:21:09.413Z"
   },
   {
    "duration": 31,
    "start_time": "2022-03-25T11:21:09.446Z"
   },
   {
    "duration": 12,
    "start_time": "2022-03-25T11:21:09.480Z"
   },
   {
    "duration": 7,
    "start_time": "2022-03-25T11:21:09.494Z"
   },
   {
    "duration": 72,
    "start_time": "2022-03-25T11:21:09.503Z"
   },
   {
    "duration": 28,
    "start_time": "2022-03-25T11:21:09.578Z"
   },
   {
    "duration": 39,
    "start_time": "2022-03-25T11:21:09.608Z"
   },
   {
    "duration": 15,
    "start_time": "2022-03-25T11:21:09.650Z"
   },
   {
    "duration": 6,
    "start_time": "2022-03-25T11:21:09.667Z"
   },
   {
    "duration": 31,
    "start_time": "2022-03-25T11:21:09.675Z"
   },
   {
    "duration": 53,
    "start_time": "2022-03-25T11:21:09.709Z"
   },
   {
    "duration": 34,
    "start_time": "2022-03-25T11:21:09.765Z"
   },
   {
    "duration": 14,
    "start_time": "2022-03-25T11:21:09.801Z"
   },
   {
    "duration": 44,
    "start_time": "2022-03-25T11:21:09.818Z"
   },
   {
    "duration": 12,
    "start_time": "2022-03-25T11:21:09.868Z"
   },
   {
    "duration": 13,
    "start_time": "2022-03-25T11:21:11.947Z"
   },
   {
    "duration": 16,
    "start_time": "2022-03-25T11:21:12.801Z"
   },
   {
    "duration": 5,
    "start_time": "2022-03-25T11:21:14.172Z"
   },
   {
    "duration": 5,
    "start_time": "2022-03-25T11:21:15.344Z"
   },
   {
    "duration": 4,
    "start_time": "2022-03-25T11:21:17.768Z"
   },
   {
    "duration": 12,
    "start_time": "2022-03-25T11:21:41.969Z"
   },
   {
    "duration": 7,
    "start_time": "2022-03-25T11:21:43.004Z"
   },
   {
    "duration": 6,
    "start_time": "2022-03-25T11:21:43.936Z"
   },
   {
    "duration": 16,
    "start_time": "2022-03-25T11:21:45.070Z"
   },
   {
    "duration": 17,
    "start_time": "2022-03-25T11:21:45.464Z"
   },
   {
    "duration": 9,
    "start_time": "2022-03-25T11:21:46.329Z"
   },
   {
    "duration": 232,
    "start_time": "2022-03-25T11:22:09.035Z"
   },
   {
    "duration": 269,
    "start_time": "2022-03-25T11:22:15.133Z"
   },
   {
    "duration": 32,
    "start_time": "2022-03-25T11:22:22.788Z"
   },
   {
    "duration": 12,
    "start_time": "2022-03-25T11:22:23.757Z"
   },
   {
    "duration": 21,
    "start_time": "2022-03-25T11:22:27.485Z"
   },
   {
    "duration": 11,
    "start_time": "2022-03-25T11:22:28.361Z"
   },
   {
    "duration": 23,
    "start_time": "2022-03-25T11:22:29.100Z"
   },
   {
    "duration": 12,
    "start_time": "2022-03-25T11:22:30.045Z"
   },
   {
    "duration": 42,
    "start_time": "2022-03-25T11:23:21.709Z"
   },
   {
    "duration": 4,
    "start_time": "2022-03-25T11:23:22.661Z"
   },
   {
    "duration": 14,
    "start_time": "2022-03-25T11:23:23.182Z"
   },
   {
    "duration": 23,
    "start_time": "2022-03-25T11:23:25.213Z"
   },
   {
    "duration": 3,
    "start_time": "2022-03-25T11:23:26.006Z"
   },
   {
    "duration": 18,
    "start_time": "2022-03-25T11:23:26.530Z"
   },
   {
    "duration": 21,
    "start_time": "2022-03-25T11:23:30.133Z"
   },
   {
    "duration": 29,
    "start_time": "2022-03-25T11:23:31.825Z"
   },
   {
    "duration": 5,
    "start_time": "2022-03-25T11:23:32.161Z"
   },
   {
    "duration": 13,
    "start_time": "2022-03-25T11:23:32.482Z"
   },
   {
    "duration": 37,
    "start_time": "2022-03-25T11:23:35.674Z"
   },
   {
    "duration": 45,
    "start_time": "2022-03-25T11:23:35.715Z"
   },
   {
    "duration": 24,
    "start_time": "2022-03-25T11:24:21.382Z"
   },
   {
    "duration": 30,
    "start_time": "2022-03-25T11:24:21.894Z"
   },
   {
    "duration": 14,
    "start_time": "2022-03-25T11:24:25.620Z"
   },
   {
    "duration": 11,
    "start_time": "2022-03-25T11:24:56.189Z"
   },
   {
    "duration": 24,
    "start_time": "2022-03-25T11:24:58.330Z"
   },
   {
    "duration": 7,
    "start_time": "2022-03-25T11:25:02.154Z"
   },
   {
    "duration": 1523,
    "start_time": "2022-03-25T11:26:47.466Z"
   },
   {
    "duration": 535,
    "start_time": "2022-03-25T11:26:48.992Z"
   },
   {
    "duration": 36,
    "start_time": "2022-03-25T11:26:49.530Z"
   },
   {
    "duration": 19,
    "start_time": "2022-03-25T11:26:49.569Z"
   },
   {
    "duration": 60,
    "start_time": "2022-03-25T11:26:49.591Z"
   },
   {
    "duration": 13,
    "start_time": "2022-03-25T11:26:49.653Z"
   },
   {
    "duration": 27,
    "start_time": "2022-03-25T11:26:49.669Z"
   },
   {
    "duration": 11,
    "start_time": "2022-03-25T11:26:49.698Z"
   },
   {
    "duration": 21,
    "start_time": "2022-03-25T11:26:49.743Z"
   },
   {
    "duration": 13,
    "start_time": "2022-03-25T11:26:49.768Z"
   },
   {
    "duration": 16,
    "start_time": "2022-03-25T11:26:49.784Z"
   },
   {
    "duration": 16,
    "start_time": "2022-03-25T11:26:49.843Z"
   },
   {
    "duration": 12,
    "start_time": "2022-03-25T11:26:49.861Z"
   },
   {
    "duration": 80,
    "start_time": "2022-03-25T11:26:49.876Z"
   },
   {
    "duration": 90,
    "start_time": "2022-03-25T11:26:49.958Z"
   },
   {
    "duration": 20,
    "start_time": "2022-03-25T11:26:50.050Z"
   },
   {
    "duration": 50,
    "start_time": "2022-03-25T11:26:50.074Z"
   },
   {
    "duration": 23,
    "start_time": "2022-03-25T11:26:50.126Z"
   },
   {
    "duration": 13,
    "start_time": "2022-03-25T11:26:50.152Z"
   },
   {
    "duration": 54,
    "start_time": "2022-03-25T11:26:50.169Z"
   },
   {
    "duration": 47,
    "start_time": "2022-03-25T11:26:50.225Z"
   },
   {
    "duration": 13,
    "start_time": "2022-03-25T11:26:50.274Z"
   },
   {
    "duration": 31,
    "start_time": "2022-03-25T11:26:50.290Z"
   },
   {
    "duration": 3,
    "start_time": "2022-03-25T11:26:50.343Z"
   },
   {
    "duration": 34,
    "start_time": "2022-03-25T11:26:50.348Z"
   },
   {
    "duration": 29,
    "start_time": "2022-03-25T11:26:50.385Z"
   },
   {
    "duration": 59,
    "start_time": "2022-03-25T11:26:50.416Z"
   },
   {
    "duration": 12,
    "start_time": "2022-03-25T11:26:50.482Z"
   },
   {
    "duration": 53,
    "start_time": "2022-03-25T11:26:50.496Z"
   },
   {
    "duration": 13,
    "start_time": "2022-03-25T11:26:50.551Z"
   },
   {
    "duration": 33,
    "start_time": "2022-03-25T11:26:50.566Z"
   },
   {
    "duration": 8,
    "start_time": "2022-03-25T11:26:50.602Z"
   },
   {
    "duration": 9,
    "start_time": "2022-03-25T11:26:50.613Z"
   },
   {
    "duration": 5,
    "start_time": "2022-03-25T11:26:50.642Z"
   },
   {
    "duration": 16,
    "start_time": "2022-03-25T11:26:50.649Z"
   },
   {
    "duration": 19,
    "start_time": "2022-03-25T11:26:50.667Z"
   },
   {
    "duration": 22,
    "start_time": "2022-03-25T11:26:50.688Z"
   },
   {
    "duration": 33,
    "start_time": "2022-03-25T11:26:50.713Z"
   },
   {
    "duration": 35,
    "start_time": "2022-03-25T11:26:50.748Z"
   },
   {
    "duration": 10,
    "start_time": "2022-03-25T11:26:50.785Z"
   },
   {
    "duration": 51,
    "start_time": "2022-03-25T11:26:50.798Z"
   },
   {
    "duration": 17,
    "start_time": "2022-03-25T11:26:50.852Z"
   },
   {
    "duration": 26,
    "start_time": "2022-03-25T11:26:50.871Z"
   },
   {
    "duration": 43,
    "start_time": "2022-03-25T11:26:50.900Z"
   },
   {
    "duration": 24,
    "start_time": "2022-03-25T11:26:50.945Z"
   },
   {
    "duration": 13,
    "start_time": "2022-03-25T11:26:50.972Z"
   },
   {
    "duration": 73,
    "start_time": "2022-03-25T11:26:50.987Z"
   },
   {
    "duration": 5,
    "start_time": "2022-03-25T11:26:51.063Z"
   },
   {
    "duration": 22,
    "start_time": "2022-03-25T11:26:51.070Z"
   },
   {
    "duration": 52,
    "start_time": "2022-03-25T11:26:51.094Z"
   },
   {
    "duration": 4,
    "start_time": "2022-03-25T11:26:51.148Z"
   },
   {
    "duration": 35,
    "start_time": "2022-03-25T11:26:51.154Z"
   },
   {
    "duration": 36,
    "start_time": "2022-03-25T11:26:51.191Z"
   },
   {
    "duration": 13,
    "start_time": "2022-03-25T11:26:51.230Z"
   },
   {
    "duration": 31,
    "start_time": "2022-03-25T11:26:51.246Z"
   },
   {
    "duration": 47,
    "start_time": "2022-03-25T11:26:51.279Z"
   },
   {
    "duration": 33,
    "start_time": "2022-03-25T11:26:51.329Z"
   },
   {
    "duration": 13,
    "start_time": "2022-03-25T11:26:51.365Z"
   },
   {
    "duration": 28,
    "start_time": "2022-03-25T11:26:51.381Z"
   },
   {
    "duration": 32,
    "start_time": "2022-03-25T11:26:51.412Z"
   },
   {
    "duration": 17,
    "start_time": "2022-03-25T11:26:51.446Z"
   },
   {
    "duration": 14,
    "start_time": "2022-03-25T11:26:51.466Z"
   },
   {
    "duration": 21,
    "start_time": "2022-03-25T11:26:51.482Z"
   },
   {
    "duration": 10,
    "start_time": "2022-03-25T11:26:51.506Z"
   },
   {
    "duration": 25,
    "start_time": "2022-03-25T11:26:51.518Z"
   },
   {
    "duration": 33,
    "start_time": "2022-03-25T11:26:51.546Z"
   },
   {
    "duration": 16,
    "start_time": "2022-03-25T11:26:51.582Z"
   },
   {
    "duration": 50,
    "start_time": "2022-03-25T11:26:51.600Z"
   },
   {
    "duration": 15,
    "start_time": "2022-03-25T11:26:54.152Z"
   },
   {
    "duration": 11,
    "start_time": "2022-03-25T11:27:05.844Z"
   },
   {
    "duration": 346,
    "start_time": "2022-03-25T11:27:06.290Z"
   },
   {
    "duration": 31,
    "start_time": "2022-03-25T11:27:07.352Z"
   },
   {
    "duration": 1433,
    "start_time": "2022-03-25T11:29:06.958Z"
   },
   {
    "duration": 527,
    "start_time": "2022-03-25T11:29:08.393Z"
   },
   {
    "duration": 41,
    "start_time": "2022-03-25T11:29:08.922Z"
   },
   {
    "duration": 28,
    "start_time": "2022-03-25T11:29:08.967Z"
   },
   {
    "duration": 48,
    "start_time": "2022-03-25T11:29:08.998Z"
   },
   {
    "duration": 17,
    "start_time": "2022-03-25T11:29:09.049Z"
   },
   {
    "duration": 42,
    "start_time": "2022-03-25T11:29:09.068Z"
   },
   {
    "duration": 13,
    "start_time": "2022-03-25T11:29:09.144Z"
   },
   {
    "duration": 26,
    "start_time": "2022-03-25T11:29:09.162Z"
   },
   {
    "duration": 13,
    "start_time": "2022-03-25T11:29:09.192Z"
   },
   {
    "duration": 42,
    "start_time": "2022-03-25T11:29:09.207Z"
   },
   {
    "duration": 17,
    "start_time": "2022-03-25T11:29:09.253Z"
   },
   {
    "duration": 9,
    "start_time": "2022-03-25T11:29:09.273Z"
   },
   {
    "duration": 81,
    "start_time": "2022-03-25T11:29:09.284Z"
   },
   {
    "duration": 98,
    "start_time": "2022-03-25T11:29:09.367Z"
   },
   {
    "duration": 16,
    "start_time": "2022-03-25T11:29:09.468Z"
   },
   {
    "duration": 27,
    "start_time": "2022-03-25T11:29:09.487Z"
   },
   {
    "duration": 35,
    "start_time": "2022-03-25T11:29:09.516Z"
   },
   {
    "duration": 3,
    "start_time": "2022-03-25T11:29:09.554Z"
   },
   {
    "duration": 40,
    "start_time": "2022-03-25T11:29:09.559Z"
   },
   {
    "duration": 50,
    "start_time": "2022-03-25T11:29:09.601Z"
   },
   {
    "duration": 12,
    "start_time": "2022-03-25T11:29:09.653Z"
   },
   {
    "duration": 19,
    "start_time": "2022-03-25T11:29:09.667Z"
   },
   {
    "duration": 6,
    "start_time": "2022-03-25T11:29:09.688Z"
   },
   {
    "duration": 56,
    "start_time": "2022-03-25T11:29:09.697Z"
   },
   {
    "duration": 44,
    "start_time": "2022-03-25T11:29:09.756Z"
   },
   {
    "duration": 67,
    "start_time": "2022-03-25T11:29:09.803Z"
   },
   {
    "duration": 15,
    "start_time": "2022-03-25T11:29:09.879Z"
   },
   {
    "duration": 49,
    "start_time": "2022-03-25T11:29:09.897Z"
   },
   {
    "duration": 13,
    "start_time": "2022-03-25T11:29:09.949Z"
   },
   {
    "duration": 17,
    "start_time": "2022-03-25T11:29:09.965Z"
   },
   {
    "duration": 5,
    "start_time": "2022-03-25T11:29:09.984Z"
   },
   {
    "duration": 7,
    "start_time": "2022-03-25T11:29:09.991Z"
   },
   {
    "duration": 43,
    "start_time": "2022-03-25T11:29:10.000Z"
   },
   {
    "duration": 13,
    "start_time": "2022-03-25T11:29:10.046Z"
   },
   {
    "duration": 13,
    "start_time": "2022-03-25T11:29:10.061Z"
   },
   {
    "duration": 7,
    "start_time": "2022-03-25T11:29:10.076Z"
   },
   {
    "duration": 18,
    "start_time": "2022-03-25T11:29:10.085Z"
   },
   {
    "duration": 41,
    "start_time": "2022-03-25T11:29:10.105Z"
   },
   {
    "duration": 9,
    "start_time": "2022-03-25T11:29:10.149Z"
   },
   {
    "duration": 35,
    "start_time": "2022-03-25T11:29:10.160Z"
   },
   {
    "duration": 12,
    "start_time": "2022-03-25T11:29:10.197Z"
   },
   {
    "duration": 21,
    "start_time": "2022-03-25T11:29:10.242Z"
   },
   {
    "duration": 11,
    "start_time": "2022-03-25T11:29:10.266Z"
   },
   {
    "duration": 27,
    "start_time": "2022-03-25T11:29:10.280Z"
   },
   {
    "duration": 38,
    "start_time": "2022-03-25T11:29:10.309Z"
   },
   {
    "duration": 46,
    "start_time": "2022-03-25T11:29:10.349Z"
   },
   {
    "duration": 5,
    "start_time": "2022-03-25T11:29:10.398Z"
   },
   {
    "duration": 46,
    "start_time": "2022-03-25T11:29:10.405Z"
   },
   {
    "duration": 33,
    "start_time": "2022-03-25T11:29:10.454Z"
   },
   {
    "duration": 5,
    "start_time": "2022-03-25T11:29:10.490Z"
   },
   {
    "duration": 18,
    "start_time": "2022-03-25T11:29:10.497Z"
   },
   {
    "duration": 21,
    "start_time": "2022-03-25T11:29:10.542Z"
   },
   {
    "duration": 3,
    "start_time": "2022-03-25T11:29:10.565Z"
   },
   {
    "duration": 13,
    "start_time": "2022-03-25T11:29:10.571Z"
   },
   {
    "duration": 16,
    "start_time": "2022-03-25T11:29:10.586Z"
   },
   {
    "duration": 61,
    "start_time": "2022-03-25T11:29:10.605Z"
   },
   {
    "duration": 36,
    "start_time": "2022-03-25T11:29:10.669Z"
   },
   {
    "duration": 36,
    "start_time": "2022-03-25T11:29:10.708Z"
   },
   {
    "duration": 19,
    "start_time": "2022-03-25T11:29:10.746Z"
   },
   {
    "duration": 9,
    "start_time": "2022-03-25T11:29:10.767Z"
   },
   {
    "duration": 6,
    "start_time": "2022-03-25T11:29:10.778Z"
   },
   {
    "duration": 7,
    "start_time": "2022-03-25T11:29:10.786Z"
   },
   {
    "duration": 6,
    "start_time": "2022-03-25T11:29:10.796Z"
   },
   {
    "duration": 6,
    "start_time": "2022-03-25T11:29:10.843Z"
   },
   {
    "duration": 11,
    "start_time": "2022-03-25T11:29:10.851Z"
   },
   {
    "duration": 29,
    "start_time": "2022-03-25T11:29:10.864Z"
   },
   {
    "duration": 49,
    "start_time": "2022-03-25T11:29:10.895Z"
   },
   {
    "duration": 27,
    "start_time": "2022-03-25T11:29:10.946Z"
   },
   {
    "duration": 13,
    "start_time": "2022-03-25T11:29:10.976Z"
   },
   {
    "duration": 17,
    "start_time": "2022-03-25T11:29:12.331Z"
   },
   {
    "duration": 12,
    "start_time": "2022-03-25T11:29:12.731Z"
   },
   {
    "duration": 360,
    "start_time": "2022-03-25T11:29:13.688Z"
   },
   {
    "duration": 32,
    "start_time": "2022-03-25T11:29:14.072Z"
   },
   {
    "duration": 1499,
    "start_time": "2022-03-25T11:31:12.782Z"
   },
   {
    "duration": 541,
    "start_time": "2022-03-25T11:31:14.286Z"
   },
   {
    "duration": 37,
    "start_time": "2022-03-25T11:31:14.829Z"
   },
   {
    "duration": 17,
    "start_time": "2022-03-25T11:31:14.869Z"
   },
   {
    "duration": 55,
    "start_time": "2022-03-25T11:31:14.889Z"
   },
   {
    "duration": 13,
    "start_time": "2022-03-25T11:31:14.946Z"
   },
   {
    "duration": 29,
    "start_time": "2022-03-25T11:31:14.961Z"
   },
   {
    "duration": 12,
    "start_time": "2022-03-25T11:31:14.992Z"
   },
   {
    "duration": 50,
    "start_time": "2022-03-25T11:31:15.006Z"
   },
   {
    "duration": 26,
    "start_time": "2022-03-25T11:31:15.061Z"
   },
   {
    "duration": 21,
    "start_time": "2022-03-25T11:31:15.090Z"
   },
   {
    "duration": 21,
    "start_time": "2022-03-25T11:31:15.142Z"
   },
   {
    "duration": 11,
    "start_time": "2022-03-25T11:31:15.165Z"
   },
   {
    "duration": 101,
    "start_time": "2022-03-25T11:31:15.179Z"
   },
   {
    "duration": 110,
    "start_time": "2022-03-25T11:31:15.283Z"
   },
   {
    "duration": 16,
    "start_time": "2022-03-25T11:31:15.395Z"
   },
   {
    "duration": 49,
    "start_time": "2022-03-25T11:31:15.413Z"
   },
   {
    "duration": 10,
    "start_time": "2022-03-25T11:31:15.464Z"
   },
   {
    "duration": 7,
    "start_time": "2022-03-25T11:31:15.477Z"
   },
   {
    "duration": 68,
    "start_time": "2022-03-25T11:31:15.486Z"
   },
   {
    "duration": 26,
    "start_time": "2022-03-25T11:31:15.556Z"
   },
   {
    "duration": 28,
    "start_time": "2022-03-25T11:31:15.584Z"
   },
   {
    "duration": 29,
    "start_time": "2022-03-25T11:31:15.615Z"
   },
   {
    "duration": 5,
    "start_time": "2022-03-25T11:31:15.647Z"
   },
   {
    "duration": 26,
    "start_time": "2022-03-25T11:31:15.654Z"
   },
   {
    "duration": 61,
    "start_time": "2022-03-25T11:31:15.683Z"
   },
   {
    "duration": 36,
    "start_time": "2022-03-25T11:31:15.746Z"
   },
   {
    "duration": 15,
    "start_time": "2022-03-25T11:31:15.791Z"
   },
   {
    "duration": 54,
    "start_time": "2022-03-25T11:31:15.808Z"
   },
   {
    "duration": 15,
    "start_time": "2022-03-25T11:31:15.866Z"
   },
   {
    "duration": 23,
    "start_time": "2022-03-25T11:31:15.884Z"
   },
   {
    "duration": 6,
    "start_time": "2022-03-25T11:31:15.909Z"
   },
   {
    "duration": 34,
    "start_time": "2022-03-25T11:31:15.917Z"
   },
   {
    "duration": 6,
    "start_time": "2022-03-25T11:31:15.953Z"
   },
   {
    "duration": 13,
    "start_time": "2022-03-25T11:31:15.961Z"
   },
   {
    "duration": 8,
    "start_time": "2022-03-25T11:31:15.977Z"
   },
   {
    "duration": 8,
    "start_time": "2022-03-25T11:31:15.987Z"
   },
   {
    "duration": 63,
    "start_time": "2022-03-25T11:31:15.998Z"
   },
   {
    "duration": 17,
    "start_time": "2022-03-25T11:31:16.064Z"
   },
   {
    "duration": 10,
    "start_time": "2022-03-25T11:31:16.084Z"
   },
   {
    "duration": 71,
    "start_time": "2022-03-25T11:31:16.096Z"
   },
   {
    "duration": 13,
    "start_time": "2022-03-25T11:31:16.170Z"
   },
   {
    "duration": 22,
    "start_time": "2022-03-25T11:31:16.186Z"
   },
   {
    "duration": 34,
    "start_time": "2022-03-25T11:31:16.213Z"
   },
   {
    "duration": 26,
    "start_time": "2022-03-25T11:31:16.253Z"
   },
   {
    "duration": 12,
    "start_time": "2022-03-25T11:31:16.281Z"
   },
   {
    "duration": 63,
    "start_time": "2022-03-25T11:31:16.296Z"
   },
   {
    "duration": 4,
    "start_time": "2022-03-25T11:31:16.362Z"
   },
   {
    "duration": 20,
    "start_time": "2022-03-25T11:31:16.368Z"
   },
   {
    "duration": 56,
    "start_time": "2022-03-25T11:31:16.391Z"
   },
   {
    "duration": 5,
    "start_time": "2022-03-25T11:31:16.450Z"
   },
   {
    "duration": 18,
    "start_time": "2022-03-25T11:31:16.457Z"
   },
   {
    "duration": 22,
    "start_time": "2022-03-25T11:31:16.477Z"
   },
   {
    "duration": 5,
    "start_time": "2022-03-25T11:31:16.501Z"
   },
   {
    "duration": 48,
    "start_time": "2022-03-25T11:31:16.509Z"
   },
   {
    "duration": 33,
    "start_time": "2022-03-25T11:31:16.559Z"
   },
   {
    "duration": 55,
    "start_time": "2022-03-25T11:31:16.596Z"
   },
   {
    "duration": 11,
    "start_time": "2022-03-25T11:31:16.653Z"
   },
   {
    "duration": 23,
    "start_time": "2022-03-25T11:31:16.666Z"
   },
   {
    "duration": 16,
    "start_time": "2022-03-25T11:31:16.692Z"
   },
   {
    "duration": 35,
    "start_time": "2022-03-25T11:31:16.711Z"
   },
   {
    "duration": 6,
    "start_time": "2022-03-25T11:31:16.749Z"
   },
   {
    "duration": 12,
    "start_time": "2022-03-25T11:31:16.758Z"
   },
   {
    "duration": 6,
    "start_time": "2022-03-25T11:31:16.773Z"
   },
   {
    "duration": 15,
    "start_time": "2022-03-25T11:31:16.781Z"
   },
   {
    "duration": 31,
    "start_time": "2022-03-25T11:31:59.086Z"
   },
   {
    "duration": 11,
    "start_time": "2022-03-25T11:32:03.131Z"
   },
   {
    "duration": 10,
    "start_time": "2022-03-25T11:32:51.447Z"
   },
   {
    "duration": 9,
    "start_time": "2022-03-25T11:32:55.840Z"
   },
   {
    "duration": 1933,
    "start_time": "2022-03-25T11:33:04.788Z"
   },
   {
    "duration": 547,
    "start_time": "2022-03-25T11:33:06.724Z"
   },
   {
    "duration": 38,
    "start_time": "2022-03-25T11:33:07.273Z"
   },
   {
    "duration": 18,
    "start_time": "2022-03-25T11:33:07.316Z"
   },
   {
    "duration": 31,
    "start_time": "2022-03-25T11:33:07.342Z"
   },
   {
    "duration": 14,
    "start_time": "2022-03-25T11:33:07.376Z"
   },
   {
    "duration": 57,
    "start_time": "2022-03-25T11:33:07.393Z"
   },
   {
    "duration": 13,
    "start_time": "2022-03-25T11:33:07.453Z"
   },
   {
    "duration": 18,
    "start_time": "2022-03-25T11:33:07.469Z"
   },
   {
    "duration": 13,
    "start_time": "2022-03-25T11:33:07.489Z"
   },
   {
    "duration": 21,
    "start_time": "2022-03-25T11:33:07.543Z"
   },
   {
    "duration": 20,
    "start_time": "2022-03-25T11:33:07.567Z"
   },
   {
    "duration": 9,
    "start_time": "2022-03-25T11:33:07.594Z"
   },
   {
    "duration": 85,
    "start_time": "2022-03-25T11:33:07.605Z"
   },
   {
    "duration": 99,
    "start_time": "2022-03-25T11:33:07.693Z"
   },
   {
    "duration": 19,
    "start_time": "2022-03-25T11:33:07.794Z"
   },
   {
    "duration": 49,
    "start_time": "2022-03-25T11:33:07.815Z"
   },
   {
    "duration": 10,
    "start_time": "2022-03-25T11:33:07.867Z"
   },
   {
    "duration": 6,
    "start_time": "2022-03-25T11:33:07.880Z"
   },
   {
    "duration": 59,
    "start_time": "2022-03-25T11:33:07.888Z"
   },
   {
    "duration": 29,
    "start_time": "2022-03-25T11:33:07.949Z"
   },
   {
    "duration": 17,
    "start_time": "2022-03-25T11:33:07.981Z"
   },
   {
    "duration": 12,
    "start_time": "2022-03-25T11:33:08.000Z"
   },
   {
    "duration": 5,
    "start_time": "2022-03-25T11:33:08.044Z"
   },
   {
    "duration": 35,
    "start_time": "2022-03-25T11:33:08.052Z"
   },
   {
    "duration": 60,
    "start_time": "2022-03-25T11:33:08.089Z"
   },
   {
    "duration": 33,
    "start_time": "2022-03-25T11:33:08.151Z"
   },
   {
    "duration": 13,
    "start_time": "2022-03-25T11:33:08.187Z"
   },
   {
    "duration": 49,
    "start_time": "2022-03-25T11:33:08.202Z"
   },
   {
    "duration": 11,
    "start_time": "2022-03-25T11:33:08.254Z"
   },
   {
    "duration": 14,
    "start_time": "2022-03-25T11:33:08.267Z"
   },
   {
    "duration": 4,
    "start_time": "2022-03-25T11:33:08.284Z"
   },
   {
    "duration": 8,
    "start_time": "2022-03-25T11:33:08.290Z"
   },
   {
    "duration": 45,
    "start_time": "2022-03-25T11:33:08.300Z"
   },
   {
    "duration": 20,
    "start_time": "2022-03-25T11:33:08.348Z"
   },
   {
    "duration": 8,
    "start_time": "2022-03-25T11:33:08.371Z"
   },
   {
    "duration": 9,
    "start_time": "2022-03-25T11:33:08.382Z"
   },
   {
    "duration": 54,
    "start_time": "2022-03-25T11:33:08.394Z"
   },
   {
    "duration": 15,
    "start_time": "2022-03-25T11:33:08.451Z"
   },
   {
    "duration": 11,
    "start_time": "2022-03-25T11:33:08.472Z"
   },
   {
    "duration": 58,
    "start_time": "2022-03-25T11:33:08.486Z"
   },
   {
    "duration": 11,
    "start_time": "2022-03-25T11:33:08.547Z"
   },
   {
    "duration": 24,
    "start_time": "2022-03-25T11:33:08.560Z"
   },
   {
    "duration": 13,
    "start_time": "2022-03-25T11:33:08.586Z"
   },
   {
    "duration": 55,
    "start_time": "2022-03-25T11:33:08.602Z"
   },
   {
    "duration": 13,
    "start_time": "2022-03-25T11:33:08.659Z"
   },
   {
    "duration": 33,
    "start_time": "2022-03-25T11:33:08.675Z"
   },
   {
    "duration": 35,
    "start_time": "2022-03-25T11:33:08.710Z"
   },
   {
    "duration": 18,
    "start_time": "2022-03-25T11:33:08.747Z"
   },
   {
    "duration": 26,
    "start_time": "2022-03-25T11:33:08.767Z"
   },
   {
    "duration": 5,
    "start_time": "2022-03-25T11:33:08.795Z"
   },
   {
    "duration": 51,
    "start_time": "2022-03-25T11:33:08.802Z"
   },
   {
    "duration": 23,
    "start_time": "2022-03-25T11:33:08.858Z"
   },
   {
    "duration": 3,
    "start_time": "2022-03-25T11:33:08.884Z"
   },
   {
    "duration": 19,
    "start_time": "2022-03-25T11:33:08.890Z"
   },
   {
    "duration": 37,
    "start_time": "2022-03-25T11:33:08.942Z"
   },
   {
    "duration": 62,
    "start_time": "2022-03-25T11:33:08.981Z"
   },
   {
    "duration": 15,
    "start_time": "2022-03-25T11:33:09.046Z"
   },
   {
    "duration": 30,
    "start_time": "2022-03-25T11:33:09.063Z"
   },
   {
    "duration": 15,
    "start_time": "2022-03-25T11:33:09.096Z"
   },
   {
    "duration": 32,
    "start_time": "2022-03-25T11:33:09.114Z"
   },
   {
    "duration": 8,
    "start_time": "2022-03-25T11:33:09.149Z"
   },
   {
    "duration": 12,
    "start_time": "2022-03-25T11:33:09.159Z"
   },
   {
    "duration": 8,
    "start_time": "2022-03-25T11:33:09.174Z"
   },
   {
    "duration": 13,
    "start_time": "2022-03-25T11:33:09.184Z"
   },
   {
    "duration": 54,
    "start_time": "2022-03-25T11:33:09.199Z"
   },
   {
    "duration": 13,
    "start_time": "2022-03-25T11:33:19.970Z"
   },
   {
    "duration": 31,
    "start_time": "2022-03-25T11:34:09.230Z"
   },
   {
    "duration": 12,
    "start_time": "2022-03-25T11:34:11.285Z"
   },
   {
    "duration": 12,
    "start_time": "2022-03-25T11:34:13.116Z"
   },
   {
    "duration": 618,
    "start_time": "2022-03-25T11:34:15.116Z"
   },
   {
    "duration": 32,
    "start_time": "2022-03-25T11:34:16.445Z"
   },
   {
    "duration": 430,
    "start_time": "2022-03-25T11:36:48.272Z"
   },
   {
    "duration": 31,
    "start_time": "2022-03-25T11:36:49.079Z"
   },
   {
    "duration": 11,
    "start_time": "2022-03-25T11:37:31.903Z"
   },
   {
    "duration": 38,
    "start_time": "2022-03-25T11:37:33.561Z"
   },
   {
    "duration": 9,
    "start_time": "2022-03-25T11:37:35.566Z"
   },
   {
    "duration": 11,
    "start_time": "2022-03-25T11:37:40.266Z"
   },
   {
    "duration": 11,
    "start_time": "2022-03-25T11:37:40.979Z"
   },
   {
    "duration": 17,
    "start_time": "2022-03-25T11:37:43.718Z"
   },
   {
    "duration": 6,
    "start_time": "2022-03-25T11:37:44.543Z"
   },
   {
    "duration": 19,
    "start_time": "2022-03-25T11:37:45.080Z"
   },
   {
    "duration": 6,
    "start_time": "2022-03-25T11:37:47.295Z"
   },
   {
    "duration": 20,
    "start_time": "2022-03-25T11:37:49.335Z"
   },
   {
    "duration": 6,
    "start_time": "2022-03-25T11:37:50.490Z"
   },
   {
    "duration": 13,
    "start_time": "2022-03-25T11:37:50.950Z"
   },
   {
    "duration": 7,
    "start_time": "2022-03-25T11:37:55.247Z"
   },
   {
    "duration": 46,
    "start_time": "2022-03-25T11:37:56.321Z"
   },
   {
    "duration": 8,
    "start_time": "2022-03-25T11:37:57.887Z"
   },
   {
    "duration": 10,
    "start_time": "2022-03-25T11:37:59.150Z"
   },
   {
    "duration": 10,
    "start_time": "2022-03-25T11:37:59.366Z"
   },
   {
    "duration": 19,
    "start_time": "2022-03-25T11:38:00.775Z"
   },
   {
    "duration": 8,
    "start_time": "2022-03-25T11:38:01.831Z"
   },
   {
    "duration": 18,
    "start_time": "2022-03-25T11:38:02.160Z"
   },
   {
    "duration": 7,
    "start_time": "2022-03-25T11:38:03.627Z"
   },
   {
    "duration": 25,
    "start_time": "2022-03-25T11:38:05.099Z"
   },
   {
    "duration": 7,
    "start_time": "2022-03-25T11:38:05.284Z"
   },
   {
    "duration": 18,
    "start_time": "2022-03-25T11:38:05.544Z"
   },
   {
    "duration": 8,
    "start_time": "2022-03-25T11:38:11.108Z"
   },
   {
    "duration": 8,
    "start_time": "2022-03-25T11:38:12.132Z"
   },
   {
    "duration": 37,
    "start_time": "2022-03-25T11:38:13.679Z"
   },
   {
    "duration": 1567,
    "start_time": "2022-03-25T11:39:31.618Z"
   },
   {
    "duration": 703,
    "start_time": "2022-03-25T11:39:33.189Z"
   },
   {
    "duration": 76,
    "start_time": "2022-03-25T11:39:33.895Z"
   },
   {
    "duration": 21,
    "start_time": "2022-03-25T11:39:33.975Z"
   },
   {
    "duration": 53,
    "start_time": "2022-03-25T11:39:33.998Z"
   },
   {
    "duration": 15,
    "start_time": "2022-03-25T11:39:34.053Z"
   },
   {
    "duration": 36,
    "start_time": "2022-03-25T11:39:34.070Z"
   },
   {
    "duration": 16,
    "start_time": "2022-03-25T11:39:34.108Z"
   },
   {
    "duration": 26,
    "start_time": "2022-03-25T11:39:34.126Z"
   },
   {
    "duration": 49,
    "start_time": "2022-03-25T11:39:34.158Z"
   },
   {
    "duration": 34,
    "start_time": "2022-03-25T11:39:34.210Z"
   },
   {
    "duration": 37,
    "start_time": "2022-03-25T11:39:34.247Z"
   },
   {
    "duration": 23,
    "start_time": "2022-03-25T11:39:34.287Z"
   },
   {
    "duration": 79,
    "start_time": "2022-03-25T11:39:34.313Z"
   },
   {
    "duration": 105,
    "start_time": "2022-03-25T11:39:34.395Z"
   },
   {
    "duration": 24,
    "start_time": "2022-03-25T11:39:34.503Z"
   },
   {
    "duration": 50,
    "start_time": "2022-03-25T11:39:34.529Z"
   },
   {
    "duration": 19,
    "start_time": "2022-03-25T11:39:34.582Z"
   },
   {
    "duration": 17,
    "start_time": "2022-03-25T11:39:34.603Z"
   },
   {
    "duration": 78,
    "start_time": "2022-03-25T11:39:34.622Z"
   },
   {
    "duration": 36,
    "start_time": "2022-03-25T11:39:34.703Z"
   },
   {
    "duration": 33,
    "start_time": "2022-03-25T11:39:34.741Z"
   },
   {
    "duration": 25,
    "start_time": "2022-03-25T11:39:34.776Z"
   },
   {
    "duration": 18,
    "start_time": "2022-03-25T11:39:34.803Z"
   },
   {
    "duration": 44,
    "start_time": "2022-03-25T11:39:34.823Z"
   },
   {
    "duration": 33,
    "start_time": "2022-03-25T11:39:34.869Z"
   },
   {
    "duration": 32,
    "start_time": "2022-03-25T11:39:34.904Z"
   },
   {
    "duration": 18,
    "start_time": "2022-03-25T11:39:34.945Z"
   },
   {
    "duration": 34,
    "start_time": "2022-03-25T11:39:34.965Z"
   },
   {
    "duration": 17,
    "start_time": "2022-03-25T11:39:35.001Z"
   },
   {
    "duration": 32,
    "start_time": "2022-03-25T11:39:35.020Z"
   },
   {
    "duration": 15,
    "start_time": "2022-03-25T11:39:35.055Z"
   },
   {
    "duration": 23,
    "start_time": "2022-03-25T11:39:35.073Z"
   },
   {
    "duration": 13,
    "start_time": "2022-03-25T11:39:35.098Z"
   },
   {
    "duration": 36,
    "start_time": "2022-03-25T11:39:35.114Z"
   },
   {
    "duration": 15,
    "start_time": "2022-03-25T11:39:35.153Z"
   },
   {
    "duration": 73,
    "start_time": "2022-03-25T11:39:35.170Z"
   },
   {
    "duration": 31,
    "start_time": "2022-03-25T11:39:35.247Z"
   },
   {
    "duration": 75,
    "start_time": "2022-03-25T11:39:35.280Z"
   },
   {
    "duration": 26,
    "start_time": "2022-03-25T11:39:35.358Z"
   },
   {
    "duration": 44,
    "start_time": "2022-03-25T11:39:35.387Z"
   },
   {
    "duration": 15,
    "start_time": "2022-03-25T11:39:35.434Z"
   },
   {
    "duration": 33,
    "start_time": "2022-03-25T11:39:35.452Z"
   },
   {
    "duration": 11,
    "start_time": "2022-03-25T11:39:35.488Z"
   },
   {
    "duration": 44,
    "start_time": "2022-03-25T11:39:35.501Z"
   },
   {
    "duration": 12,
    "start_time": "2022-03-25T11:39:35.548Z"
   },
   {
    "duration": 89,
    "start_time": "2022-03-25T11:39:35.562Z"
   },
   {
    "duration": 4,
    "start_time": "2022-03-25T11:39:35.654Z"
   },
   {
    "duration": 25,
    "start_time": "2022-03-25T11:39:35.660Z"
   },
   {
    "duration": 62,
    "start_time": "2022-03-25T11:39:35.688Z"
   },
   {
    "duration": 9,
    "start_time": "2022-03-25T11:39:35.753Z"
   },
   {
    "duration": 79,
    "start_time": "2022-03-25T11:39:35.765Z"
   },
   {
    "duration": 31,
    "start_time": "2022-03-25T11:39:35.848Z"
   },
   {
    "duration": 13,
    "start_time": "2022-03-25T11:39:35.881Z"
   },
   {
    "duration": 17,
    "start_time": "2022-03-25T11:39:35.943Z"
   },
   {
    "duration": 90,
    "start_time": "2022-03-25T11:39:35.962Z"
   },
   {
    "duration": 89,
    "start_time": "2022-03-25T11:39:36.055Z"
   },
   {
    "duration": 11,
    "start_time": "2022-03-25T11:39:36.147Z"
   },
   {
    "duration": 22,
    "start_time": "2022-03-25T11:39:36.160Z"
   },
   {
    "duration": 79,
    "start_time": "2022-03-25T11:39:36.184Z"
   },
   {
    "duration": 18,
    "start_time": "2022-03-25T11:39:36.266Z"
   },
   {
    "duration": 12,
    "start_time": "2022-03-25T11:39:36.286Z"
   },
   {
    "duration": 43,
    "start_time": "2022-03-25T11:39:36.300Z"
   },
   {
    "duration": 9,
    "start_time": "2022-03-25T11:39:36.346Z"
   },
   {
    "duration": 26,
    "start_time": "2022-03-25T11:39:36.358Z"
   },
   {
    "duration": 81,
    "start_time": "2022-03-25T11:39:36.386Z"
   },
   {
    "duration": 14,
    "start_time": "2022-03-25T11:39:36.470Z"
   },
   {
    "duration": 86,
    "start_time": "2022-03-25T11:39:36.487Z"
   },
   {
    "duration": 68,
    "start_time": "2022-03-25T11:39:36.576Z"
   },
   {
    "duration": 11,
    "start_time": "2022-03-25T11:39:36.647Z"
   },
   {
    "duration": 792,
    "start_time": "2022-03-25T11:39:36.661Z"
   },
   {
    "duration": 43,
    "start_time": "2022-03-25T11:39:37.456Z"
   },
   {
    "duration": 10,
    "start_time": "2022-03-25T11:39:37.503Z"
   },
   {
    "duration": 61,
    "start_time": "2022-03-25T11:39:37.516Z"
   },
   {
    "duration": 12,
    "start_time": "2022-03-25T11:39:37.580Z"
   },
   {
    "duration": 9,
    "start_time": "2022-03-25T11:39:37.594Z"
   },
   {
    "duration": 40,
    "start_time": "2022-03-25T11:39:37.605Z"
   },
   {
    "duration": 21,
    "start_time": "2022-03-25T11:39:37.647Z"
   },
   {
    "duration": 7,
    "start_time": "2022-03-25T11:39:37.670Z"
   },
   {
    "duration": 15,
    "start_time": "2022-03-25T11:39:37.679Z"
   },
   {
    "duration": 7,
    "start_time": "2022-03-25T11:39:37.696Z"
   },
   {
    "duration": 21,
    "start_time": "2022-03-25T11:39:37.748Z"
   },
   {
    "duration": 6,
    "start_time": "2022-03-25T11:39:37.771Z"
   },
   {
    "duration": 23,
    "start_time": "2022-03-25T11:39:37.780Z"
   },
   {
    "duration": 38,
    "start_time": "2022-03-25T11:39:37.805Z"
   },
   {
    "duration": 32,
    "start_time": "2022-03-25T11:39:37.845Z"
   },
   {
    "duration": 10,
    "start_time": "2022-03-25T11:39:37.879Z"
   },
   {
    "duration": 11,
    "start_time": "2022-03-25T11:39:37.891Z"
   },
   {
    "duration": 41,
    "start_time": "2022-03-25T11:39:37.904Z"
   },
   {
    "duration": 17,
    "start_time": "2022-03-25T11:39:37.947Z"
   },
   {
    "duration": 5,
    "start_time": "2022-03-25T11:39:37.966Z"
   },
   {
    "duration": 16,
    "start_time": "2022-03-25T11:39:37.973Z"
   },
   {
    "duration": 51,
    "start_time": "2022-03-25T11:39:37.991Z"
   },
   {
    "duration": 21,
    "start_time": "2022-03-25T11:39:38.044Z"
   },
   {
    "duration": 5,
    "start_time": "2022-03-25T11:39:38.067Z"
   },
   {
    "duration": 22,
    "start_time": "2022-03-25T11:39:38.075Z"
   },
   {
    "duration": 10,
    "start_time": "2022-03-25T11:39:38.099Z"
   },
   {
    "duration": 39,
    "start_time": "2022-03-25T11:39:38.111Z"
   },
   {
    "duration": 42,
    "start_time": "2022-03-25T11:39:38.152Z"
   },
   {
    "duration": 64,
    "start_time": "2022-03-25T11:39:38.197Z"
   },
   {
    "duration": 8,
    "start_time": "2022-03-25T11:39:38.264Z"
   },
   {
    "duration": 10,
    "start_time": "2022-03-25T11:39:39.894Z"
   },
   {
    "duration": 9,
    "start_time": "2022-03-25T11:39:40.988Z"
   },
   {
    "duration": 7,
    "start_time": "2022-03-25T11:42:20.331Z"
   },
   {
    "duration": 6,
    "start_time": "2022-03-25T11:42:45.557Z"
   },
   {
    "duration": 6,
    "start_time": "2022-03-25T11:44:02.018Z"
   },
   {
    "duration": 394,
    "start_time": "2022-03-25T11:44:47.850Z"
   },
   {
    "duration": 11,
    "start_time": "2022-03-25T11:54:04.805Z"
   },
   {
    "duration": 1519,
    "start_time": "2022-03-25T12:21:34.658Z"
   },
   {
    "duration": 536,
    "start_time": "2022-03-25T12:21:36.180Z"
   },
   {
    "duration": 37,
    "start_time": "2022-03-25T12:21:36.722Z"
   },
   {
    "duration": 18,
    "start_time": "2022-03-25T12:21:36.761Z"
   },
   {
    "duration": 62,
    "start_time": "2022-03-25T12:21:36.782Z"
   },
   {
    "duration": 13,
    "start_time": "2022-03-25T12:21:36.847Z"
   },
   {
    "duration": 29,
    "start_time": "2022-03-25T12:21:36.863Z"
   },
   {
    "duration": 12,
    "start_time": "2022-03-25T12:21:36.894Z"
   },
   {
    "duration": 15,
    "start_time": "2022-03-25T12:21:36.942Z"
   },
   {
    "duration": 22,
    "start_time": "2022-03-25T12:21:36.960Z"
   },
   {
    "duration": 21,
    "start_time": "2022-03-25T12:21:36.984Z"
   },
   {
    "duration": 42,
    "start_time": "2022-03-25T12:21:37.008Z"
   },
   {
    "duration": 23,
    "start_time": "2022-03-25T12:21:37.053Z"
   },
   {
    "duration": 68,
    "start_time": "2022-03-25T12:21:37.078Z"
   },
   {
    "duration": 94,
    "start_time": "2022-03-25T12:21:37.149Z"
   },
   {
    "duration": 15,
    "start_time": "2022-03-25T12:21:37.246Z"
   },
   {
    "duration": 37,
    "start_time": "2022-03-25T12:21:37.263Z"
   },
   {
    "duration": 13,
    "start_time": "2022-03-25T12:21:37.303Z"
   },
   {
    "duration": 11,
    "start_time": "2022-03-25T12:21:37.318Z"
   },
   {
    "duration": 51,
    "start_time": "2022-03-25T12:21:37.331Z"
   },
   {
    "duration": 24,
    "start_time": "2022-03-25T12:21:37.385Z"
   },
   {
    "duration": 31,
    "start_time": "2022-03-25T12:21:37.412Z"
   },
   {
    "duration": 18,
    "start_time": "2022-03-25T12:21:37.445Z"
   },
   {
    "duration": 10,
    "start_time": "2022-03-25T12:21:37.465Z"
   },
   {
    "duration": 41,
    "start_time": "2022-03-25T12:21:37.478Z"
   },
   {
    "duration": 36,
    "start_time": "2022-03-25T12:21:37.521Z"
   },
   {
    "duration": 35,
    "start_time": "2022-03-25T12:21:37.564Z"
   },
   {
    "duration": 28,
    "start_time": "2022-03-25T12:21:37.602Z"
   },
   {
    "duration": 20,
    "start_time": "2022-03-25T12:21:37.644Z"
   },
   {
    "duration": 11,
    "start_time": "2022-03-25T12:21:37.667Z"
   },
   {
    "duration": 22,
    "start_time": "2022-03-25T12:21:37.680Z"
   },
   {
    "duration": 35,
    "start_time": "2022-03-25T12:21:37.705Z"
   },
   {
    "duration": 22,
    "start_time": "2022-03-25T12:21:37.742Z"
   },
   {
    "duration": 31,
    "start_time": "2022-03-25T12:21:37.767Z"
   },
   {
    "duration": 29,
    "start_time": "2022-03-25T12:21:37.801Z"
   },
   {
    "duration": 25,
    "start_time": "2022-03-25T12:21:37.832Z"
   },
   {
    "duration": 13,
    "start_time": "2022-03-25T12:21:37.860Z"
   },
   {
    "duration": 30,
    "start_time": "2022-03-25T12:21:37.876Z"
   },
   {
    "duration": 25,
    "start_time": "2022-03-25T12:21:37.908Z"
   },
   {
    "duration": 17,
    "start_time": "2022-03-25T12:21:37.936Z"
   },
   {
    "duration": 35,
    "start_time": "2022-03-25T12:21:37.956Z"
   },
   {
    "duration": 13,
    "start_time": "2022-03-25T12:21:37.993Z"
   },
   {
    "duration": 37,
    "start_time": "2022-03-25T12:21:38.008Z"
   },
   {
    "duration": 12,
    "start_time": "2022-03-25T12:21:38.048Z"
   },
   {
    "duration": 42,
    "start_time": "2022-03-25T12:21:38.063Z"
   },
   {
    "duration": 14,
    "start_time": "2022-03-25T12:21:38.107Z"
   },
   {
    "duration": 46,
    "start_time": "2022-03-25T12:21:38.123Z"
   },
   {
    "duration": 4,
    "start_time": "2022-03-25T12:21:38.172Z"
   },
   {
    "duration": 21,
    "start_time": "2022-03-25T12:21:38.178Z"
   },
   {
    "duration": 46,
    "start_time": "2022-03-25T12:21:38.201Z"
   },
   {
    "duration": 4,
    "start_time": "2022-03-25T12:21:38.250Z"
   },
   {
    "duration": 37,
    "start_time": "2022-03-25T12:21:38.255Z"
   },
   {
    "duration": 44,
    "start_time": "2022-03-25T12:21:38.294Z"
   },
   {
    "duration": 5,
    "start_time": "2022-03-25T12:21:38.341Z"
   },
   {
    "duration": 18,
    "start_time": "2022-03-25T12:21:38.349Z"
   },
   {
    "duration": 40,
    "start_time": "2022-03-25T12:21:38.369Z"
   },
   {
    "duration": 42,
    "start_time": "2022-03-25T12:21:38.412Z"
   },
   {
    "duration": 10,
    "start_time": "2022-03-25T12:21:38.456Z"
   },
   {
    "duration": 27,
    "start_time": "2022-03-25T12:21:38.468Z"
   },
   {
    "duration": 12,
    "start_time": "2022-03-25T12:21:38.497Z"
   },
   {
    "duration": 27,
    "start_time": "2022-03-25T12:21:38.512Z"
   },
   {
    "duration": 9,
    "start_time": "2022-03-25T12:21:38.541Z"
   },
   {
    "duration": 11,
    "start_time": "2022-03-25T12:21:38.552Z"
   },
   {
    "duration": 16,
    "start_time": "2022-03-25T12:21:38.565Z"
   },
   {
    "duration": 23,
    "start_time": "2022-03-25T12:21:38.583Z"
   },
   {
    "duration": 42,
    "start_time": "2022-03-25T12:21:38.608Z"
   },
   {
    "duration": 12,
    "start_time": "2022-03-25T12:21:38.653Z"
   },
   {
    "duration": 29,
    "start_time": "2022-03-25T12:21:38.668Z"
   },
   {
    "duration": 45,
    "start_time": "2022-03-25T12:21:38.700Z"
   },
   {
    "duration": 15,
    "start_time": "2022-03-25T12:21:38.747Z"
   },
   {
    "duration": 542,
    "start_time": "2022-03-25T12:21:38.764Z"
   },
   {
    "duration": 44,
    "start_time": "2022-03-25T12:21:39.308Z"
   },
   {
    "duration": 14,
    "start_time": "2022-03-25T12:21:39.355Z"
   },
   {
    "duration": 43,
    "start_time": "2022-03-25T12:21:39.372Z"
   },
   {
    "duration": 25,
    "start_time": "2022-03-25T12:21:39.418Z"
   },
   {
    "duration": 11,
    "start_time": "2022-03-25T12:21:39.445Z"
   },
   {
    "duration": 22,
    "start_time": "2022-03-25T12:21:39.459Z"
   },
   {
    "duration": 16,
    "start_time": "2022-03-25T12:21:39.484Z"
   },
   {
    "duration": 6,
    "start_time": "2022-03-25T12:21:39.502Z"
   },
   {
    "duration": 38,
    "start_time": "2022-03-25T12:21:39.510Z"
   },
   {
    "duration": 10,
    "start_time": "2022-03-25T12:21:39.556Z"
   },
   {
    "duration": 27,
    "start_time": "2022-03-25T12:21:39.568Z"
   },
   {
    "duration": 5,
    "start_time": "2022-03-25T12:21:39.598Z"
   },
   {
    "duration": 28,
    "start_time": "2022-03-25T12:21:39.605Z"
   },
   {
    "duration": 10,
    "start_time": "2022-03-25T12:21:39.642Z"
   },
   {
    "duration": 54,
    "start_time": "2022-03-25T12:21:39.654Z"
   },
   {
    "duration": 16,
    "start_time": "2022-03-25T12:21:39.710Z"
   },
   {
    "duration": 17,
    "start_time": "2022-03-25T12:21:39.728Z"
   },
   {
    "duration": 17,
    "start_time": "2022-03-25T12:21:39.747Z"
   },
   {
    "duration": 27,
    "start_time": "2022-03-25T12:21:39.766Z"
   },
   {
    "duration": 8,
    "start_time": "2022-03-25T12:21:39.795Z"
   },
   {
    "duration": 22,
    "start_time": "2022-03-25T12:21:39.804Z"
   },
   {
    "duration": 18,
    "start_time": "2022-03-25T12:21:39.828Z"
   },
   {
    "duration": 20,
    "start_time": "2022-03-25T12:21:39.849Z"
   },
   {
    "duration": 8,
    "start_time": "2022-03-25T12:21:39.872Z"
   },
   {
    "duration": 23,
    "start_time": "2022-03-25T12:21:39.882Z"
   },
   {
    "duration": 29,
    "start_time": "2022-03-25T12:21:39.907Z"
   },
   {
    "duration": 14,
    "start_time": "2022-03-25T12:21:39.942Z"
   },
   {
    "duration": 47,
    "start_time": "2022-03-25T12:21:39.958Z"
   },
   {
    "duration": 49,
    "start_time": "2022-03-25T12:21:40.007Z"
   },
   {
    "duration": 20,
    "start_time": "2022-03-25T12:21:40.059Z"
   },
   {
    "duration": 23,
    "start_time": "2022-03-25T12:21:40.082Z"
   },
   {
    "duration": 407,
    "start_time": "2022-03-25T12:21:40.107Z"
   },
   {
    "duration": 1327,
    "start_time": "2022-03-25T12:21:40.516Z"
   },
   {
    "duration": 12,
    "start_time": "2022-03-25T12:21:41.846Z"
   },
   {
    "duration": 13,
    "start_time": "2022-03-25T12:21:41.861Z"
   },
   {
    "duration": 14,
    "start_time": "2022-03-25T12:21:41.876Z"
   },
   {
    "duration": 1296,
    "start_time": "2022-03-25T19:32:18.425Z"
   },
   {
    "duration": 462,
    "start_time": "2022-03-25T19:32:19.724Z"
   },
   {
    "duration": 31,
    "start_time": "2022-03-25T19:32:20.188Z"
   },
   {
    "duration": 14,
    "start_time": "2022-03-25T19:32:20.222Z"
   },
   {
    "duration": 37,
    "start_time": "2022-03-25T19:32:20.238Z"
   },
   {
    "duration": 32,
    "start_time": "2022-03-25T19:32:20.277Z"
   },
   {
    "duration": 20,
    "start_time": "2022-03-25T19:32:20.311Z"
   },
   {
    "duration": 8,
    "start_time": "2022-03-25T19:32:20.333Z"
   },
   {
    "duration": 12,
    "start_time": "2022-03-25T19:32:20.342Z"
   },
   {
    "duration": 9,
    "start_time": "2022-03-25T19:32:20.357Z"
   },
   {
    "duration": 46,
    "start_time": "2022-03-25T19:32:20.367Z"
   },
   {
    "duration": 13,
    "start_time": "2022-03-25T19:32:20.415Z"
   },
   {
    "duration": 9,
    "start_time": "2022-03-25T19:32:20.430Z"
   },
   {
    "duration": 38,
    "start_time": "2022-03-25T19:32:20.441Z"
   },
   {
    "duration": 102,
    "start_time": "2022-03-25T19:32:20.509Z"
   },
   {
    "duration": 10,
    "start_time": "2022-03-25T19:32:20.614Z"
   },
   {
    "duration": 21,
    "start_time": "2022-03-25T19:32:20.625Z"
   },
   {
    "duration": 2,
    "start_time": "2022-03-25T19:34:23.985Z"
   },
   {
    "duration": 2,
    "start_time": "2022-03-25T19:34:24.496Z"
   },
   {
    "duration": 25,
    "start_time": "2022-03-25T19:34:24.956Z"
   },
   {
    "duration": 3,
    "start_time": "2022-03-25T19:34:32.488Z"
   },
   {
    "duration": 2,
    "start_time": "2022-03-25T19:34:32.928Z"
   },
   {
    "duration": 2,
    "start_time": "2022-03-25T19:34:33.280Z"
   },
   {
    "duration": 2,
    "start_time": "2022-03-25T19:34:33.721Z"
   },
   {
    "duration": 6,
    "start_time": "2022-03-25T19:34:41.169Z"
   },
   {
    "duration": 22,
    "start_time": "2022-03-25T19:34:53.241Z"
   },
   {
    "duration": 30,
    "start_time": "2022-03-25T19:35:03.008Z"
   },
   {
    "duration": 13,
    "start_time": "2022-03-25T19:35:13.463Z"
   },
   {
    "duration": 8,
    "start_time": "2022-03-25T19:35:27.432Z"
   },
   {
    "duration": 17,
    "start_time": "2022-03-25T19:35:56.111Z"
   },
   {
    "duration": 4,
    "start_time": "2022-03-25T19:38:08.621Z"
   },
   {
    "duration": 440,
    "start_time": "2022-03-25T19:38:08.628Z"
   },
   {
    "duration": 28,
    "start_time": "2022-03-25T19:38:09.070Z"
   },
   {
    "duration": 8,
    "start_time": "2022-03-25T19:38:09.101Z"
   },
   {
    "duration": 28,
    "start_time": "2022-03-25T19:38:09.111Z"
   },
   {
    "duration": 9,
    "start_time": "2022-03-25T19:38:09.141Z"
   },
   {
    "duration": 22,
    "start_time": "2022-03-25T19:38:09.152Z"
   },
   {
    "duration": 38,
    "start_time": "2022-03-25T19:38:09.177Z"
   },
   {
    "duration": 15,
    "start_time": "2022-03-25T19:38:09.217Z"
   },
   {
    "duration": 10,
    "start_time": "2022-03-25T19:38:09.234Z"
   },
   {
    "duration": 11,
    "start_time": "2022-03-25T19:38:09.248Z"
   },
   {
    "duration": 13,
    "start_time": "2022-03-25T19:38:09.261Z"
   },
   {
    "duration": 5,
    "start_time": "2022-03-25T19:38:09.309Z"
   },
   {
    "duration": 37,
    "start_time": "2022-03-25T19:38:09.316Z"
   },
   {
    "duration": 85,
    "start_time": "2022-03-25T19:38:09.355Z"
   },
   {
    "duration": 13,
    "start_time": "2022-03-25T19:38:09.441Z"
   },
   {
    "duration": 21,
    "start_time": "2022-03-25T19:38:09.456Z"
   },
   {
    "duration": 3,
    "start_time": "2022-03-25T19:38:09.478Z"
   },
   {
    "duration": 28,
    "start_time": "2022-03-25T19:38:09.482Z"
   },
   {
    "duration": 5,
    "start_time": "2022-03-25T19:38:09.511Z"
   },
   {
    "duration": 4,
    "start_time": "2022-03-25T19:38:09.517Z"
   },
   {
    "duration": 5,
    "start_time": "2022-03-25T19:38:09.522Z"
   },
   {
    "duration": 4,
    "start_time": "2022-03-25T19:38:09.529Z"
   },
   {
    "duration": 6,
    "start_time": "2022-03-25T19:38:09.535Z"
   },
   {
    "duration": 5,
    "start_time": "2022-03-25T19:38:09.542Z"
   },
   {
    "duration": 5,
    "start_time": "2022-03-25T19:38:09.548Z"
   },
   {
    "duration": 6,
    "start_time": "2022-03-25T19:38:09.555Z"
   },
   {
    "duration": 68,
    "start_time": "2022-03-25T19:38:09.563Z"
   },
   {
    "duration": 25,
    "start_time": "2022-03-25T19:38:09.636Z"
   },
   {
    "duration": 12,
    "start_time": "2022-03-25T19:38:09.663Z"
   },
   {
    "duration": 9,
    "start_time": "2022-03-25T19:38:09.676Z"
   },
   {
    "duration": 38,
    "start_time": "2022-03-25T19:38:09.686Z"
   },
   {
    "duration": 20,
    "start_time": "2022-03-25T19:38:09.726Z"
   },
   {
    "duration": 28,
    "start_time": "2022-03-25T19:38:09.748Z"
   },
   {
    "duration": 32,
    "start_time": "2022-03-25T19:38:09.778Z"
   },
   {
    "duration": 16,
    "start_time": "2022-03-25T19:38:09.811Z"
   },
   {
    "duration": 8,
    "start_time": "2022-03-25T19:38:09.828Z"
   },
   {
    "duration": 11,
    "start_time": "2022-03-25T19:38:09.837Z"
   },
   {
    "duration": 6,
    "start_time": "2022-03-25T19:38:09.850Z"
   },
   {
    "duration": 4,
    "start_time": "2022-03-25T19:38:09.858Z"
   },
   {
    "duration": 4,
    "start_time": "2022-03-25T19:38:09.864Z"
   },
   {
    "duration": 42,
    "start_time": "2022-03-25T19:38:09.870Z"
   },
   {
    "duration": 5,
    "start_time": "2022-03-25T19:38:09.914Z"
   },
   {
    "duration": 6,
    "start_time": "2022-03-25T19:38:09.920Z"
   },
   {
    "duration": 13,
    "start_time": "2022-03-25T19:38:09.927Z"
   },
   {
    "duration": 11,
    "start_time": "2022-03-25T19:38:09.942Z"
   },
   {
    "duration": 8,
    "start_time": "2022-03-25T19:38:09.955Z"
   },
   {
    "duration": 56,
    "start_time": "2022-03-25T19:38:09.965Z"
   },
   {
    "duration": 8,
    "start_time": "2022-03-25T19:38:10.023Z"
   },
   {
    "duration": 15,
    "start_time": "2022-03-25T19:38:10.033Z"
   },
   {
    "duration": 11,
    "start_time": "2022-03-25T19:38:10.050Z"
   },
   {
    "duration": 46,
    "start_time": "2022-03-25T19:38:10.063Z"
   },
   {
    "duration": 11,
    "start_time": "2022-03-25T19:38:10.111Z"
   },
   {
    "duration": 24,
    "start_time": "2022-03-25T19:38:10.124Z"
   },
   {
    "duration": 3,
    "start_time": "2022-03-25T19:38:10.150Z"
   },
   {
    "duration": 12,
    "start_time": "2022-03-25T19:38:10.155Z"
   },
   {
    "duration": 47,
    "start_time": "2022-03-25T19:38:10.168Z"
   },
   {
    "duration": 4,
    "start_time": "2022-03-25T19:38:10.216Z"
   },
   {
    "duration": 11,
    "start_time": "2022-03-25T19:38:10.222Z"
   },
   {
    "duration": 17,
    "start_time": "2022-03-25T19:38:10.235Z"
   },
   {
    "duration": 3,
    "start_time": "2022-03-25T19:38:10.254Z"
   },
   {
    "duration": 10,
    "start_time": "2022-03-25T19:38:26.821Z"
   },
   {
    "duration": 16,
    "start_time": "2022-03-25T19:38:40.006Z"
   },
   {
    "duration": 23,
    "start_time": "2022-03-25T19:38:40.581Z"
   },
   {
    "duration": 7,
    "start_time": "2022-03-25T19:39:20.101Z"
   },
   {
    "duration": 15,
    "start_time": "2022-03-25T19:39:24.005Z"
   },
   {
    "duration": 5,
    "start_time": "2022-03-25T19:39:40.868Z"
   },
   {
    "duration": 4,
    "start_time": "2022-03-25T19:39:59.636Z"
   },
   {
    "duration": 4,
    "start_time": "2022-03-25T19:40:00.332Z"
   },
   {
    "duration": 4,
    "start_time": "2022-03-25T19:40:00.981Z"
   },
   {
    "duration": 4,
    "start_time": "2022-03-25T19:40:01.876Z"
   },
   {
    "duration": 7,
    "start_time": "2022-03-25T19:40:03.068Z"
   },
   {
    "duration": 18,
    "start_time": "2022-03-25T19:40:06.932Z"
   },
   {
    "duration": 7,
    "start_time": "2022-03-25T19:40:19.996Z"
   },
   {
    "duration": 16,
    "start_time": "2022-03-25T19:40:43.572Z"
   },
   {
    "duration": 8,
    "start_time": "2022-03-25T19:40:50.212Z"
   },
   {
    "duration": 8,
    "start_time": "2022-03-25T19:42:13.259Z"
   },
   {
    "duration": 1206,
    "start_time": "2022-03-25T19:42:38.627Z"
   },
   {
    "duration": 0,
    "start_time": "2022-03-25T19:42:39.835Z"
   },
   {
    "duration": 9,
    "start_time": "2022-03-25T19:43:00.450Z"
   },
   {
    "duration": 228,
    "start_time": "2022-03-25T19:43:03.580Z"
   },
   {
    "duration": 20,
    "start_time": "2022-03-25T19:43:05.026Z"
   },
   {
    "duration": 5,
    "start_time": "2022-03-25T19:45:40.817Z"
   },
   {
    "duration": 2,
    "start_time": "2022-03-25T19:57:19.681Z"
   },
   {
    "duration": 3,
    "start_time": "2022-03-25T19:57:20.080Z"
   },
   {
    "duration": 64,
    "start_time": "2022-03-25T19:57:26.608Z"
   },
   {
    "duration": 2,
    "start_time": "2022-03-25T19:57:33.657Z"
   },
   {
    "duration": 7,
    "start_time": "2022-03-25T19:57:36.385Z"
   },
   {
    "duration": 1176,
    "start_time": "2022-03-25T19:58:07.189Z"
   },
   {
    "duration": 401,
    "start_time": "2022-03-25T19:58:08.367Z"
   },
   {
    "duration": 29,
    "start_time": "2022-03-25T19:58:08.770Z"
   },
   {
    "duration": 13,
    "start_time": "2022-03-25T19:58:08.802Z"
   },
   {
    "duration": 40,
    "start_time": "2022-03-25T19:58:08.817Z"
   },
   {
    "duration": 12,
    "start_time": "2022-03-25T19:58:08.860Z"
   },
   {
    "duration": 35,
    "start_time": "2022-03-25T19:58:08.874Z"
   },
   {
    "duration": 10,
    "start_time": "2022-03-25T19:58:08.911Z"
   },
   {
    "duration": 19,
    "start_time": "2022-03-25T19:58:08.923Z"
   },
   {
    "duration": 14,
    "start_time": "2022-03-25T19:58:08.946Z"
   },
   {
    "duration": 12,
    "start_time": "2022-03-25T19:58:08.962Z"
   },
   {
    "duration": 17,
    "start_time": "2022-03-25T19:58:09.008Z"
   },
   {
    "duration": 12,
    "start_time": "2022-03-25T19:58:09.027Z"
   },
   {
    "duration": 78,
    "start_time": "2022-03-25T19:58:09.041Z"
   },
   {
    "duration": 106,
    "start_time": "2022-03-25T19:58:09.122Z"
   },
   {
    "duration": 11,
    "start_time": "2022-03-25T19:58:09.230Z"
   },
   {
    "duration": 21,
    "start_time": "2022-03-25T19:58:09.243Z"
   },
   {
    "duration": 3,
    "start_time": "2022-03-25T19:58:09.266Z"
   },
   {
    "duration": 38,
    "start_time": "2022-03-25T19:58:09.271Z"
   },
   {
    "duration": 4,
    "start_time": "2022-03-25T19:58:09.311Z"
   },
   {
    "duration": 8,
    "start_time": "2022-03-25T19:58:09.317Z"
   },
   {
    "duration": 5,
    "start_time": "2022-03-25T19:58:09.327Z"
   },
   {
    "duration": 7,
    "start_time": "2022-03-25T19:58:09.334Z"
   },
   {
    "duration": 4,
    "start_time": "2022-03-25T19:58:09.343Z"
   },
   {
    "duration": 5,
    "start_time": "2022-03-25T19:58:09.349Z"
   },
   {
    "duration": 5,
    "start_time": "2022-03-25T19:58:09.356Z"
   },
   {
    "duration": 8,
    "start_time": "2022-03-25T19:58:09.362Z"
   },
   {
    "duration": 57,
    "start_time": "2022-03-25T19:58:09.374Z"
   },
   {
    "duration": 25,
    "start_time": "2022-03-25T19:58:09.433Z"
   },
   {
    "duration": 12,
    "start_time": "2022-03-25T19:58:09.460Z"
   },
   {
    "duration": 35,
    "start_time": "2022-03-25T19:58:09.474Z"
   },
   {
    "duration": 30,
    "start_time": "2022-03-25T19:58:09.512Z"
   },
   {
    "duration": 37,
    "start_time": "2022-03-25T19:58:09.544Z"
   },
   {
    "duration": 45,
    "start_time": "2022-03-25T19:58:09.609Z"
   },
   {
    "duration": 18,
    "start_time": "2022-03-25T19:58:09.656Z"
   },
   {
    "duration": 32,
    "start_time": "2022-03-25T19:58:09.677Z"
   },
   {
    "duration": 9,
    "start_time": "2022-03-25T19:58:09.711Z"
   },
   {
    "duration": 16,
    "start_time": "2022-03-25T19:58:09.722Z"
   },
   {
    "duration": 4,
    "start_time": "2022-03-25T19:58:09.741Z"
   },
   {
    "duration": 5,
    "start_time": "2022-03-25T19:58:09.747Z"
   },
   {
    "duration": 7,
    "start_time": "2022-03-25T19:58:09.754Z"
   },
   {
    "duration": 4,
    "start_time": "2022-03-25T19:58:09.763Z"
   },
   {
    "duration": 8,
    "start_time": "2022-03-25T19:59:02.717Z"
   },
   {
    "duration": 4,
    "start_time": "2022-03-25T19:59:03.252Z"
   },
   {
    "duration": 12,
    "start_time": "2022-03-25T19:59:03.676Z"
   },
   {
    "duration": 3,
    "start_time": "2022-03-25T19:59:21.757Z"
   },
   {
    "duration": 436,
    "start_time": "2022-03-25T19:59:21.763Z"
   },
   {
    "duration": 27,
    "start_time": "2022-03-25T19:59:22.201Z"
   },
   {
    "duration": 8,
    "start_time": "2022-03-25T19:59:22.230Z"
   },
   {
    "duration": 24,
    "start_time": "2022-03-25T19:59:22.240Z"
   },
   {
    "duration": 10,
    "start_time": "2022-03-25T19:59:22.266Z"
   },
   {
    "duration": 32,
    "start_time": "2022-03-25T19:59:22.309Z"
   },
   {
    "duration": 10,
    "start_time": "2022-03-25T19:59:22.343Z"
   },
   {
    "duration": 15,
    "start_time": "2022-03-25T19:59:22.355Z"
   },
   {
    "duration": 11,
    "start_time": "2022-03-25T19:59:22.372Z"
   },
   {
    "duration": 15,
    "start_time": "2022-03-25T19:59:22.411Z"
   },
   {
    "duration": 15,
    "start_time": "2022-03-25T19:59:22.428Z"
   },
   {
    "duration": 6,
    "start_time": "2022-03-25T19:59:22.445Z"
   },
   {
    "duration": 55,
    "start_time": "2022-03-25T19:59:22.454Z"
   },
   {
    "duration": 74,
    "start_time": "2022-03-25T19:59:22.510Z"
   },
   {
    "duration": 29,
    "start_time": "2022-03-25T19:59:22.586Z"
   },
   {
    "duration": 19,
    "start_time": "2022-03-25T19:59:22.616Z"
   },
   {
    "duration": 2,
    "start_time": "2022-03-25T19:59:22.637Z"
   },
   {
    "duration": 5,
    "start_time": "2022-03-25T19:59:22.641Z"
   },
   {
    "duration": 5,
    "start_time": "2022-03-25T19:59:22.647Z"
   },
   {
    "duration": 4,
    "start_time": "2022-03-25T19:59:22.654Z"
   },
   {
    "duration": 12,
    "start_time": "2022-03-25T19:59:22.659Z"
   },
   {
    "duration": 5,
    "start_time": "2022-03-25T19:59:22.672Z"
   },
   {
    "duration": 5,
    "start_time": "2022-03-25T19:59:22.679Z"
   },
   {
    "duration": 26,
    "start_time": "2022-03-25T19:59:22.686Z"
   },
   {
    "duration": 4,
    "start_time": "2022-03-25T19:59:22.714Z"
   },
   {
    "duration": 7,
    "start_time": "2022-03-25T19:59:22.720Z"
   },
   {
    "duration": 31,
    "start_time": "2022-03-25T19:59:22.729Z"
   },
   {
    "duration": 45,
    "start_time": "2022-03-25T19:59:22.764Z"
   },
   {
    "duration": 10,
    "start_time": "2022-03-25T19:59:22.811Z"
   },
   {
    "duration": 9,
    "start_time": "2022-03-25T19:59:22.822Z"
   },
   {
    "duration": 16,
    "start_time": "2022-03-25T19:59:22.833Z"
   },
   {
    "duration": 21,
    "start_time": "2022-03-25T19:59:22.850Z"
   },
   {
    "duration": 63,
    "start_time": "2022-03-25T19:59:22.872Z"
   },
   {
    "duration": 10,
    "start_time": "2022-03-25T19:59:22.937Z"
   },
   {
    "duration": 17,
    "start_time": "2022-03-25T19:59:22.949Z"
   },
   {
    "duration": 8,
    "start_time": "2022-03-25T19:59:22.968Z"
   },
   {
    "duration": 39,
    "start_time": "2022-03-25T19:59:22.978Z"
   },
   {
    "duration": 4,
    "start_time": "2022-03-25T19:59:23.019Z"
   },
   {
    "duration": 6,
    "start_time": "2022-03-25T19:59:23.025Z"
   },
   {
    "duration": 4,
    "start_time": "2022-03-25T19:59:23.033Z"
   },
   {
    "duration": 7,
    "start_time": "2022-03-25T19:59:23.039Z"
   },
   {
    "duration": 8,
    "start_time": "2022-03-25T19:59:23.047Z"
   },
   {
    "duration": 6,
    "start_time": "2022-03-25T19:59:23.057Z"
   },
   {
    "duration": 5,
    "start_time": "2022-03-25T19:59:23.065Z"
   },
   {
    "duration": 43,
    "start_time": "2022-03-25T19:59:23.072Z"
   },
   {
    "duration": 12,
    "start_time": "2022-03-25T19:59:23.117Z"
   },
   {
    "duration": 8,
    "start_time": "2022-03-25T19:59:23.131Z"
   },
   {
    "duration": 25,
    "start_time": "2022-03-25T19:59:23.141Z"
   },
   {
    "duration": 8,
    "start_time": "2022-03-25T19:59:23.168Z"
   },
   {
    "duration": 16,
    "start_time": "2022-03-25T19:59:23.208Z"
   },
   {
    "duration": 9,
    "start_time": "2022-03-25T19:59:23.226Z"
   },
   {
    "duration": 22,
    "start_time": "2022-03-25T19:59:23.237Z"
   },
   {
    "duration": 11,
    "start_time": "2022-03-25T19:59:23.261Z"
   },
   {
    "duration": 59,
    "start_time": "2022-03-25T19:59:23.274Z"
   },
   {
    "duration": 3,
    "start_time": "2022-03-25T19:59:23.335Z"
   },
   {
    "duration": 15,
    "start_time": "2022-03-25T19:59:23.340Z"
   },
   {
    "duration": 18,
    "start_time": "2022-03-25T19:59:23.357Z"
   },
   {
    "duration": 3,
    "start_time": "2022-03-25T19:59:23.377Z"
   },
   {
    "duration": 11,
    "start_time": "2022-03-25T19:59:23.409Z"
   },
   {
    "duration": 17,
    "start_time": "2022-03-25T19:59:23.422Z"
   },
   {
    "duration": 2,
    "start_time": "2022-03-25T19:59:23.441Z"
   },
   {
    "duration": 11,
    "start_time": "2022-03-25T19:59:23.445Z"
   },
   {
    "duration": 18,
    "start_time": "2022-03-25T19:59:23.458Z"
   },
   {
    "duration": 22,
    "start_time": "2022-03-25T19:59:23.508Z"
   },
   {
    "duration": 8,
    "start_time": "2022-03-25T19:59:23.532Z"
   },
   {
    "duration": 14,
    "start_time": "2022-03-25T19:59:23.542Z"
   },
   {
    "duration": 6,
    "start_time": "2022-03-25T19:59:23.557Z"
   },
   {
    "duration": 3,
    "start_time": "2022-03-25T19:59:23.565Z"
   },
   {
    "duration": 41,
    "start_time": "2022-03-25T19:59:23.570Z"
   },
   {
    "duration": 7,
    "start_time": "2022-03-25T19:59:23.613Z"
   },
   {
    "duration": 6,
    "start_time": "2022-03-25T19:59:23.622Z"
   },
   {
    "duration": 8,
    "start_time": "2022-03-25T19:59:23.629Z"
   },
   {
    "duration": 18,
    "start_time": "2022-03-25T19:59:23.639Z"
   },
   {
    "duration": 8,
    "start_time": "2022-03-25T19:59:23.659Z"
   },
   {
    "duration": 51,
    "start_time": "2022-03-25T19:59:23.669Z"
   },
   {
    "duration": 7,
    "start_time": "2022-03-25T19:59:41.516Z"
   },
   {
    "duration": 20,
    "start_time": "2022-03-25T20:01:14.579Z"
   },
   {
    "duration": 8,
    "start_time": "2022-03-25T20:01:16.178Z"
   },
   {
    "duration": 12,
    "start_time": "2022-03-25T20:01:18.979Z"
   },
   {
    "duration": 1092,
    "start_time": "2022-03-25T20:01:23.699Z"
   },
   {
    "duration": 13,
    "start_time": "2022-03-25T20:02:12.882Z"
   },
   {
    "duration": 218,
    "start_time": "2022-03-25T20:02:16.796Z"
   },
   {
    "duration": 20,
    "start_time": "2022-03-25T20:02:18.666Z"
   },
   {
    "duration": 5,
    "start_time": "2022-03-25T20:05:30.247Z"
   },
   {
    "duration": 4,
    "start_time": "2022-03-25T20:05:44.448Z"
   },
   {
    "duration": 11,
    "start_time": "2022-03-25T20:10:49.403Z"
   },
   {
    "duration": 216,
    "start_time": "2022-03-25T20:10:53.259Z"
   },
   {
    "duration": 19,
    "start_time": "2022-03-25T20:10:54.692Z"
   },
   {
    "duration": 20,
    "start_time": "2022-03-25T20:11:07.035Z"
   },
   {
    "duration": 1158,
    "start_time": "2022-03-25T20:11:56.096Z"
   },
   {
    "duration": 377,
    "start_time": "2022-03-25T20:11:57.256Z"
   },
   {
    "duration": 46,
    "start_time": "2022-03-25T20:11:57.635Z"
   },
   {
    "duration": 15,
    "start_time": "2022-03-25T20:11:57.683Z"
   },
   {
    "duration": 34,
    "start_time": "2022-03-25T20:11:57.700Z"
   },
   {
    "duration": 8,
    "start_time": "2022-03-25T20:11:57.736Z"
   },
   {
    "duration": 18,
    "start_time": "2022-03-25T20:11:57.746Z"
   },
   {
    "duration": 8,
    "start_time": "2022-03-25T20:11:57.765Z"
   },
   {
    "duration": 42,
    "start_time": "2022-03-25T20:11:57.774Z"
   },
   {
    "duration": 9,
    "start_time": "2022-03-25T20:11:57.820Z"
   },
   {
    "duration": 11,
    "start_time": "2022-03-25T20:11:57.831Z"
   },
   {
    "duration": 14,
    "start_time": "2022-03-25T20:11:57.843Z"
   },
   {
    "duration": 9,
    "start_time": "2022-03-25T20:11:57.858Z"
   },
   {
    "duration": 65,
    "start_time": "2022-03-25T20:11:57.868Z"
   },
   {
    "duration": 74,
    "start_time": "2022-03-25T20:11:57.935Z"
   },
   {
    "duration": 10,
    "start_time": "2022-03-25T20:11:58.012Z"
   },
   {
    "duration": 19,
    "start_time": "2022-03-25T20:11:58.024Z"
   },
   {
    "duration": 3,
    "start_time": "2022-03-25T20:11:58.044Z"
   },
   {
    "duration": 3,
    "start_time": "2022-03-25T20:11:58.049Z"
   },
   {
    "duration": 3,
    "start_time": "2022-03-25T20:11:58.054Z"
   },
   {
    "duration": 4,
    "start_time": "2022-03-25T20:11:58.059Z"
   },
   {
    "duration": 44,
    "start_time": "2022-03-25T20:11:58.065Z"
   },
   {
    "duration": 9,
    "start_time": "2022-03-25T20:11:58.111Z"
   },
   {
    "duration": 6,
    "start_time": "2022-03-25T20:11:58.122Z"
   },
   {
    "duration": 7,
    "start_time": "2022-03-25T20:11:58.130Z"
   },
   {
    "duration": 6,
    "start_time": "2022-03-25T20:11:58.139Z"
   },
   {
    "duration": 7,
    "start_time": "2022-03-25T20:11:58.147Z"
   },
   {
    "duration": 31,
    "start_time": "2022-03-25T20:11:58.160Z"
   },
   {
    "duration": 39,
    "start_time": "2022-03-25T20:11:58.193Z"
   },
   {
    "duration": 15,
    "start_time": "2022-03-25T20:11:58.234Z"
   },
   {
    "duration": 8,
    "start_time": "2022-03-25T20:11:58.251Z"
   },
   {
    "duration": 17,
    "start_time": "2022-03-25T20:11:58.261Z"
   },
   {
    "duration": 56,
    "start_time": "2022-03-25T20:11:58.280Z"
   },
   {
    "duration": 27,
    "start_time": "2022-03-25T20:11:58.338Z"
   },
   {
    "duration": 10,
    "start_time": "2022-03-25T20:11:58.367Z"
   },
   {
    "duration": 36,
    "start_time": "2022-03-25T20:11:58.380Z"
   },
   {
    "duration": 7,
    "start_time": "2022-03-25T20:11:58.418Z"
   },
   {
    "duration": 11,
    "start_time": "2022-03-25T20:11:58.427Z"
   },
   {
    "duration": 3,
    "start_time": "2022-03-25T20:11:58.440Z"
   },
   {
    "duration": 5,
    "start_time": "2022-03-25T20:11:58.445Z"
   },
   {
    "duration": 7,
    "start_time": "2022-03-25T20:11:58.451Z"
   },
   {
    "duration": 5,
    "start_time": "2022-03-25T20:11:58.459Z"
   },
   {
    "duration": 5,
    "start_time": "2022-03-25T20:11:58.466Z"
   },
   {
    "duration": 39,
    "start_time": "2022-03-25T20:11:58.472Z"
   },
   {
    "duration": 7,
    "start_time": "2022-03-25T20:11:58.512Z"
   },
   {
    "duration": 11,
    "start_time": "2022-03-25T20:11:58.521Z"
   },
   {
    "duration": 11,
    "start_time": "2022-03-25T20:11:58.534Z"
   },
   {
    "duration": 11,
    "start_time": "2022-03-25T20:11:58.547Z"
   },
   {
    "duration": 49,
    "start_time": "2022-03-25T20:11:58.559Z"
   },
   {
    "duration": 9,
    "start_time": "2022-03-25T20:11:58.610Z"
   },
   {
    "duration": 17,
    "start_time": "2022-03-25T20:11:58.620Z"
   },
   {
    "duration": 9,
    "start_time": "2022-03-25T20:11:58.638Z"
   },
   {
    "duration": 22,
    "start_time": "2022-03-25T20:11:58.648Z"
   },
   {
    "duration": 36,
    "start_time": "2022-03-25T20:11:58.672Z"
   },
   {
    "duration": 25,
    "start_time": "2022-03-25T20:11:58.711Z"
   },
   {
    "duration": 3,
    "start_time": "2022-03-25T20:11:58.738Z"
   },
   {
    "duration": 13,
    "start_time": "2022-03-25T20:11:58.742Z"
   },
   {
    "duration": 18,
    "start_time": "2022-03-25T20:11:58.757Z"
   },
   {
    "duration": 3,
    "start_time": "2022-03-25T20:11:58.777Z"
   },
   {
    "duration": 32,
    "start_time": "2022-03-25T20:11:58.782Z"
   },
   {
    "duration": 22,
    "start_time": "2022-03-25T20:11:58.815Z"
   },
   {
    "duration": 3,
    "start_time": "2022-03-25T20:11:58.839Z"
   },
   {
    "duration": 20,
    "start_time": "2022-03-25T20:11:58.844Z"
   },
   {
    "duration": 21,
    "start_time": "2022-03-25T20:11:58.866Z"
   },
   {
    "duration": 43,
    "start_time": "2022-03-25T20:11:58.888Z"
   },
   {
    "duration": 8,
    "start_time": "2022-03-25T20:11:58.933Z"
   },
   {
    "duration": 12,
    "start_time": "2022-03-25T20:11:58.943Z"
   },
   {
    "duration": 7,
    "start_time": "2022-03-25T20:11:58.956Z"
   },
   {
    "duration": 4,
    "start_time": "2022-03-25T20:11:58.964Z"
   },
   {
    "duration": 4,
    "start_time": "2022-03-25T20:11:58.970Z"
   },
   {
    "duration": 4,
    "start_time": "2022-03-25T20:11:59.009Z"
   },
   {
    "duration": 5,
    "start_time": "2022-03-25T20:11:59.015Z"
   },
   {
    "duration": 10,
    "start_time": "2022-03-25T20:11:59.021Z"
   },
   {
    "duration": 19,
    "start_time": "2022-03-25T20:11:59.032Z"
   },
   {
    "duration": 8,
    "start_time": "2022-03-25T20:11:59.052Z"
   },
   {
    "duration": 51,
    "start_time": "2022-03-25T20:11:59.061Z"
   },
   {
    "duration": 10,
    "start_time": "2022-03-25T20:11:59.114Z"
   },
   {
    "duration": 8,
    "start_time": "2022-03-25T20:11:59.126Z"
   },
   {
    "duration": 233,
    "start_time": "2022-03-25T20:11:59.136Z"
   },
   {
    "duration": 217,
    "start_time": "2022-03-25T20:12:08.833Z"
   },
   {
    "duration": 21,
    "start_time": "2022-03-25T20:12:10.456Z"
   },
   {
    "duration": 4,
    "start_time": "2022-03-25T20:12:57.832Z"
   },
   {
    "duration": 8,
    "start_time": "2022-03-25T20:13:10.433Z"
   },
   {
    "duration": 202,
    "start_time": "2022-03-25T20:13:14.440Z"
   },
   {
    "duration": 19,
    "start_time": "2022-03-25T20:13:15.705Z"
   },
   {
    "duration": 18,
    "start_time": "2022-03-25T20:17:45.414Z"
   },
   {
    "duration": 3,
    "start_time": "2022-03-25T20:17:46.278Z"
   },
   {
    "duration": 11,
    "start_time": "2022-03-25T20:17:47.486Z"
   },
   {
    "duration": 20,
    "start_time": "2022-03-25T20:19:14.750Z"
   },
   {
    "duration": 3,
    "start_time": "2022-03-25T20:19:16.791Z"
   },
   {
    "duration": 11,
    "start_time": "2022-03-25T20:19:17.509Z"
   },
   {
    "duration": 93,
    "start_time": "2022-03-25T20:19:42.285Z"
   },
   {
    "duration": 3,
    "start_time": "2022-03-25T20:19:48.079Z"
   },
   {
    "duration": 2,
    "start_time": "2022-03-25T20:19:52.125Z"
   },
   {
    "duration": 4,
    "start_time": "2022-03-25T20:19:53.166Z"
   },
   {
    "duration": 69,
    "start_time": "2022-03-25T20:21:08.053Z"
   },
   {
    "duration": 8,
    "start_time": "2022-03-25T20:21:22.109Z"
   },
   {
    "duration": 68,
    "start_time": "2022-03-25T20:21:29.492Z"
   },
   {
    "duration": 9,
    "start_time": "2022-03-25T20:21:44.613Z"
   },
   {
    "duration": 3,
    "start_time": "2022-03-25T20:24:19.411Z"
   },
   {
    "duration": 10,
    "start_time": "2022-03-25T20:25:24.178Z"
   },
   {
    "duration": 35,
    "start_time": "2022-03-25T20:26:47.850Z"
   },
   {
    "duration": 16,
    "start_time": "2022-03-25T20:26:55.089Z"
   },
   {
    "duration": 103,
    "start_time": "2022-03-25T20:27:32.034Z"
   },
   {
    "duration": 25,
    "start_time": "2022-03-25T20:27:33.346Z"
   },
   {
    "duration": 98,
    "start_time": "2022-03-25T20:31:10.569Z"
   },
   {
    "duration": 26,
    "start_time": "2022-03-25T20:31:11.137Z"
   },
   {
    "duration": 9,
    "start_time": "2022-03-25T20:33:43.727Z"
   },
   {
    "duration": 11,
    "start_time": "2022-03-25T20:34:08.431Z"
   },
   {
    "duration": 3,
    "start_time": "2022-03-25T20:34:15.206Z"
   },
   {
    "duration": 10,
    "start_time": "2022-03-25T20:34:15.871Z"
   },
   {
    "duration": 18,
    "start_time": "2022-03-25T20:35:13.973Z"
   },
   {
    "duration": 19,
    "start_time": "2022-03-25T20:35:14.599Z"
   },
   {
    "duration": 8,
    "start_time": "2022-03-25T20:38:46.403Z"
   },
   {
    "duration": 20,
    "start_time": "2022-03-25T20:38:47.244Z"
   },
   {
    "duration": 6,
    "start_time": "2022-03-25T20:38:52.516Z"
   },
   {
    "duration": 4,
    "start_time": "2022-03-25T20:39:14.172Z"
   },
   {
    "duration": 482,
    "start_time": "2022-03-25T20:39:14.179Z"
   },
   {
    "duration": 26,
    "start_time": "2022-03-25T20:39:14.663Z"
   },
   {
    "duration": 20,
    "start_time": "2022-03-25T20:39:14.691Z"
   },
   {
    "duration": 23,
    "start_time": "2022-03-25T20:39:14.713Z"
   },
   {
    "duration": 9,
    "start_time": "2022-03-25T20:39:14.738Z"
   },
   {
    "duration": 63,
    "start_time": "2022-03-25T20:39:14.750Z"
   },
   {
    "duration": 10,
    "start_time": "2022-03-25T20:39:14.815Z"
   },
   {
    "duration": 14,
    "start_time": "2022-03-25T20:39:14.827Z"
   },
   {
    "duration": 10,
    "start_time": "2022-03-25T20:39:14.843Z"
   },
   {
    "duration": 59,
    "start_time": "2022-03-25T20:39:14.856Z"
   },
   {
    "duration": 17,
    "start_time": "2022-03-25T20:39:14.917Z"
   },
   {
    "duration": 7,
    "start_time": "2022-03-25T20:39:14.935Z"
   },
   {
    "duration": 89,
    "start_time": "2022-03-25T20:39:14.945Z"
   },
   {
    "duration": 94,
    "start_time": "2022-03-25T20:39:15.036Z"
   },
   {
    "duration": 15,
    "start_time": "2022-03-25T20:39:15.131Z"
   },
   {
    "duration": 24,
    "start_time": "2022-03-25T20:39:15.148Z"
   },
   {
    "duration": 3,
    "start_time": "2022-03-25T20:39:15.174Z"
   },
   {
    "duration": 29,
    "start_time": "2022-03-25T20:39:15.180Z"
   },
   {
    "duration": 6,
    "start_time": "2022-03-25T20:39:15.211Z"
   },
   {
    "duration": 5,
    "start_time": "2022-03-25T20:39:15.219Z"
   },
   {
    "duration": 6,
    "start_time": "2022-03-25T20:39:15.226Z"
   },
   {
    "duration": 4,
    "start_time": "2022-03-25T20:39:15.235Z"
   },
   {
    "duration": 3,
    "start_time": "2022-03-25T20:39:15.242Z"
   },
   {
    "duration": 16,
    "start_time": "2022-03-25T20:39:15.248Z"
   },
   {
    "duration": 14,
    "start_time": "2022-03-25T20:39:15.267Z"
   },
   {
    "duration": 30,
    "start_time": "2022-03-25T20:39:15.283Z"
   },
   {
    "duration": 37,
    "start_time": "2022-03-25T20:39:15.315Z"
   },
   {
    "duration": 30,
    "start_time": "2022-03-25T20:39:15.358Z"
   },
   {
    "duration": 15,
    "start_time": "2022-03-25T20:39:15.409Z"
   },
   {
    "duration": 9,
    "start_time": "2022-03-25T20:39:15.427Z"
   },
   {
    "duration": 28,
    "start_time": "2022-03-25T20:39:15.438Z"
   },
   {
    "duration": 57,
    "start_time": "2022-03-25T20:39:15.468Z"
   },
   {
    "duration": 39,
    "start_time": "2022-03-25T20:39:15.527Z"
   },
   {
    "duration": 9,
    "start_time": "2022-03-25T20:39:15.567Z"
   },
   {
    "duration": 47,
    "start_time": "2022-03-25T20:39:15.578Z"
   },
   {
    "duration": 9,
    "start_time": "2022-03-25T20:39:15.629Z"
   },
   {
    "duration": 14,
    "start_time": "2022-03-25T20:39:15.641Z"
   },
   {
    "duration": 4,
    "start_time": "2022-03-25T20:39:15.657Z"
   },
   {
    "duration": 13,
    "start_time": "2022-03-25T20:39:15.662Z"
   },
   {
    "duration": 4,
    "start_time": "2022-03-25T20:39:15.677Z"
   },
   {
    "duration": 26,
    "start_time": "2022-03-25T20:39:15.684Z"
   },
   {
    "duration": 9,
    "start_time": "2022-03-25T20:39:15.713Z"
   },
   {
    "duration": 10,
    "start_time": "2022-03-25T20:39:15.724Z"
   },
   {
    "duration": 8,
    "start_time": "2022-03-25T20:39:15.738Z"
   },
   {
    "duration": 17,
    "start_time": "2022-03-25T20:39:15.748Z"
   },
   {
    "duration": 17,
    "start_time": "2022-03-25T20:39:15.767Z"
   },
   {
    "duration": 32,
    "start_time": "2022-03-25T20:39:15.786Z"
   },
   {
    "duration": 32,
    "start_time": "2022-03-25T20:39:15.820Z"
   },
   {
    "duration": 12,
    "start_time": "2022-03-25T20:39:15.854Z"
   },
   {
    "duration": 47,
    "start_time": "2022-03-25T20:39:15.867Z"
   },
   {
    "duration": 10,
    "start_time": "2022-03-25T20:39:15.915Z"
   },
   {
    "duration": 22,
    "start_time": "2022-03-25T20:39:15.926Z"
   },
   {
    "duration": 10,
    "start_time": "2022-03-25T20:39:15.950Z"
   },
   {
    "duration": 53,
    "start_time": "2022-03-25T20:39:15.962Z"
   },
   {
    "duration": 4,
    "start_time": "2022-03-25T20:39:16.017Z"
   },
   {
    "duration": 19,
    "start_time": "2022-03-25T20:39:16.022Z"
   },
   {
    "duration": 28,
    "start_time": "2022-03-25T20:39:16.045Z"
   },
   {
    "duration": 3,
    "start_time": "2022-03-25T20:39:16.075Z"
   },
   {
    "duration": 15,
    "start_time": "2022-03-25T20:39:16.110Z"
   },
   {
    "duration": 20,
    "start_time": "2022-03-25T20:39:16.129Z"
   },
   {
    "duration": 3,
    "start_time": "2022-03-25T20:39:16.151Z"
   },
   {
    "duration": 11,
    "start_time": "2022-03-25T20:39:16.156Z"
   },
   {
    "duration": 51,
    "start_time": "2022-03-25T20:39:16.169Z"
   },
   {
    "duration": 23,
    "start_time": "2022-03-25T20:39:16.222Z"
   },
   {
    "duration": 11,
    "start_time": "2022-03-25T20:39:16.247Z"
   },
   {
    "duration": 14,
    "start_time": "2022-03-25T20:39:16.260Z"
   },
   {
    "duration": 7,
    "start_time": "2022-03-25T20:39:16.308Z"
   },
   {
    "duration": 4,
    "start_time": "2022-03-25T20:39:16.318Z"
   },
   {
    "duration": 5,
    "start_time": "2022-03-25T20:39:16.324Z"
   },
   {
    "duration": 4,
    "start_time": "2022-03-25T20:39:16.331Z"
   },
   {
    "duration": 7,
    "start_time": "2022-03-25T20:39:16.337Z"
   },
   {
    "duration": 9,
    "start_time": "2022-03-25T20:39:16.346Z"
   },
   {
    "duration": 69,
    "start_time": "2022-03-25T20:39:16.358Z"
   },
   {
    "duration": 9,
    "start_time": "2022-03-25T20:39:16.429Z"
   },
   {
    "duration": 19,
    "start_time": "2022-03-25T20:39:16.440Z"
   },
   {
    "duration": 10,
    "start_time": "2022-03-25T20:39:16.461Z"
   },
   {
    "duration": 39,
    "start_time": "2022-03-25T20:39:16.473Z"
   },
   {
    "duration": 11,
    "start_time": "2022-03-25T20:39:16.515Z"
   },
   {
    "duration": 6,
    "start_time": "2022-03-25T20:39:16.528Z"
   },
   {
    "duration": 224,
    "start_time": "2022-03-25T20:39:16.536Z"
   },
   {
    "duration": 23,
    "start_time": "2022-03-25T20:39:16.762Z"
   },
   {
    "duration": 22,
    "start_time": "2022-03-25T20:39:16.790Z"
   },
   {
    "duration": 27,
    "start_time": "2022-03-25T20:39:16.814Z"
   },
   {
    "duration": 14,
    "start_time": "2022-03-25T20:39:16.843Z"
   },
   {
    "duration": 8,
    "start_time": "2022-03-25T20:39:16.858Z"
   },
   {
    "duration": 8,
    "start_time": "2022-03-25T20:39:16.868Z"
   },
   {
    "duration": 42,
    "start_time": "2022-03-25T20:39:16.878Z"
   },
   {
    "duration": 5,
    "start_time": "2022-03-25T20:39:16.922Z"
   },
   {
    "duration": 15,
    "start_time": "2022-03-25T20:39:16.929Z"
   },
   {
    "duration": 6,
    "start_time": "2022-03-25T20:39:16.946Z"
   },
   {
    "duration": 55,
    "start_time": "2022-03-25T20:39:16.954Z"
   },
   {
    "duration": 6,
    "start_time": "2022-03-25T20:39:17.012Z"
   },
   {
    "duration": 13,
    "start_time": "2022-03-25T20:39:17.020Z"
   },
   {
    "duration": 8,
    "start_time": "2022-03-25T20:39:17.035Z"
   },
   {
    "duration": 30,
    "start_time": "2022-03-25T20:39:17.045Z"
   },
   {
    "duration": 37,
    "start_time": "2022-03-25T20:39:17.078Z"
   },
   {
    "duration": 9,
    "start_time": "2022-03-25T20:39:17.117Z"
   },
   {
    "duration": 11,
    "start_time": "2022-03-25T20:39:17.129Z"
   },
   {
    "duration": 13,
    "start_time": "2022-03-25T20:39:17.142Z"
   },
   {
    "duration": 5,
    "start_time": "2022-03-25T20:39:17.157Z"
   },
   {
    "duration": 47,
    "start_time": "2022-03-25T20:39:17.163Z"
   },
   {
    "duration": 6,
    "start_time": "2022-03-25T20:39:17.213Z"
   },
   {
    "duration": 21,
    "start_time": "2022-03-25T20:39:17.221Z"
   },
   {
    "duration": 5,
    "start_time": "2022-03-25T20:39:17.244Z"
   },
   {
    "duration": 14,
    "start_time": "2022-03-25T20:41:46.074Z"
   },
   {
    "duration": 4,
    "start_time": "2022-03-25T20:41:46.697Z"
   },
   {
    "duration": 9,
    "start_time": "2022-03-25T20:41:47.274Z"
   },
   {
    "duration": 19,
    "start_time": "2022-03-25T20:48:15.275Z"
   },
   {
    "duration": 7,
    "start_time": "2022-03-25T20:53:11.761Z"
   },
   {
    "duration": 6,
    "start_time": "2022-03-25T20:53:13.497Z"
   },
   {
    "duration": 6,
    "start_time": "2022-03-25T20:53:26.488Z"
   },
   {
    "duration": 6,
    "start_time": "2022-03-25T20:53:45.984Z"
   },
   {
    "duration": 13,
    "start_time": "2022-03-25T21:23:11.216Z"
   },
   {
    "duration": 254,
    "start_time": "2022-03-25T21:23:15.918Z"
   },
   {
    "duration": 26,
    "start_time": "2022-03-25T21:23:16.616Z"
   },
   {
    "duration": 236,
    "start_time": "2022-03-25T21:25:21.556Z"
   },
   {
    "duration": 21,
    "start_time": "2022-03-25T21:25:22.119Z"
   },
   {
    "duration": 7,
    "start_time": "2022-03-25T21:26:28.930Z"
   },
   {
    "duration": 243,
    "start_time": "2022-03-25T21:26:33.386Z"
   },
   {
    "duration": 26,
    "start_time": "2022-03-25T21:26:34.820Z"
   },
   {
    "duration": 5,
    "start_time": "2022-03-25T21:27:11.281Z"
   },
   {
    "duration": 8,
    "start_time": "2022-03-25T21:32:19.518Z"
   },
   {
    "duration": 10,
    "start_time": "2022-03-25T21:32:43.525Z"
   },
   {
    "duration": 3,
    "start_time": "2022-03-25T21:33:28.710Z"
   },
   {
    "duration": 3,
    "start_time": "2022-03-25T21:33:29.797Z"
   },
   {
    "duration": 9,
    "start_time": "2022-03-25T21:40:15.200Z"
   },
   {
    "duration": 8,
    "start_time": "2022-03-25T21:41:05.002Z"
   },
   {
    "duration": 28,
    "start_time": "2022-03-25T21:41:33.841Z"
   },
   {
    "duration": 28,
    "start_time": "2022-03-25T21:41:53.978Z"
   },
   {
    "duration": 8,
    "start_time": "2022-03-25T21:42:35.890Z"
   },
   {
    "duration": 8,
    "start_time": "2022-03-25T21:42:46.016Z"
   },
   {
    "duration": 259,
    "start_time": "2022-03-25T21:43:09.480Z"
   },
   {
    "duration": 223,
    "start_time": "2022-03-25T21:45:29.143Z"
   },
   {
    "duration": 238,
    "start_time": "2022-03-25T21:46:06.855Z"
   },
   {
    "duration": 861,
    "start_time": "2022-03-25T21:46:35.110Z"
   },
   {
    "duration": 901,
    "start_time": "2022-03-25T21:48:12.863Z"
   },
   {
    "duration": 810,
    "start_time": "2022-03-25T21:49:01.301Z"
   },
   {
    "duration": 3,
    "start_time": "2022-03-25T21:50:35.597Z"
   },
   {
    "duration": 205,
    "start_time": "2022-03-25T21:50:48.140Z"
   },
   {
    "duration": 287,
    "start_time": "2022-03-25T21:51:43.596Z"
   },
   {
    "duration": 208,
    "start_time": "2022-03-25T21:52:09.739Z"
   },
   {
    "duration": 194,
    "start_time": "2022-03-25T21:52:43.187Z"
   },
   {
    "duration": 189,
    "start_time": "2022-03-25T21:53:24.619Z"
   },
   {
    "duration": 167732,
    "start_time": "2022-03-25T22:03:29.284Z"
   },
   {
    "duration": 270,
    "start_time": "2022-03-25T22:08:53.023Z"
   },
   {
    "duration": 291,
    "start_time": "2022-03-25T22:16:08.816Z"
   },
   {
    "duration": 275,
    "start_time": "2022-03-25T22:16:23.696Z"
   },
   {
    "duration": 272,
    "start_time": "2022-03-25T22:16:31.736Z"
   },
   {
    "duration": 299,
    "start_time": "2022-03-25T22:20:03.489Z"
   },
   {
    "duration": 296,
    "start_time": "2022-03-25T22:20:26.675Z"
   },
   {
    "duration": 306,
    "start_time": "2022-03-25T22:23:02.101Z"
   },
   {
    "duration": 313,
    "start_time": "2022-03-25T22:23:40.205Z"
   },
   {
    "duration": 316,
    "start_time": "2022-03-25T22:25:19.243Z"
   },
   {
    "duration": 7,
    "start_time": "2022-03-25T22:28:43.025Z"
   },
   {
    "duration": 3,
    "start_time": "2022-03-25T22:33:31.408Z"
   },
   {
    "duration": 6,
    "start_time": "2022-03-25T22:33:55.640Z"
   },
   {
    "duration": 10,
    "start_time": "2022-03-25T22:36:27.757Z"
   },
   {
    "duration": 8,
    "start_time": "2022-03-25T22:36:28.252Z"
   },
   {
    "duration": 7,
    "start_time": "2022-03-25T22:39:19.691Z"
   },
   {
    "duration": 1134,
    "start_time": "2022-03-25T22:50:32.434Z"
   },
   {
    "duration": 384,
    "start_time": "2022-03-25T22:50:33.570Z"
   },
   {
    "duration": 28,
    "start_time": "2022-03-25T22:50:33.955Z"
   },
   {
    "duration": 12,
    "start_time": "2022-03-25T22:50:33.986Z"
   },
   {
    "duration": 24,
    "start_time": "2022-03-25T22:50:34.000Z"
   },
   {
    "duration": 9,
    "start_time": "2022-03-25T22:50:34.026Z"
   },
   {
    "duration": 19,
    "start_time": "2022-03-25T22:50:34.037Z"
   },
   {
    "duration": 7,
    "start_time": "2022-03-25T22:50:34.058Z"
   },
   {
    "duration": 15,
    "start_time": "2022-03-25T22:50:34.067Z"
   },
   {
    "duration": 9,
    "start_time": "2022-03-25T22:50:34.108Z"
   },
   {
    "duration": 11,
    "start_time": "2022-03-25T22:50:34.118Z"
   },
   {
    "duration": 11,
    "start_time": "2022-03-25T22:50:34.130Z"
   },
   {
    "duration": 8,
    "start_time": "2022-03-25T22:50:34.142Z"
   },
   {
    "duration": 62,
    "start_time": "2022-03-25T22:50:34.152Z"
   },
   {
    "duration": 68,
    "start_time": "2022-03-25T22:50:34.216Z"
   },
   {
    "duration": 13,
    "start_time": "2022-03-25T22:50:34.286Z"
   },
   {
    "duration": 17,
    "start_time": "2022-03-25T22:50:34.309Z"
   },
   {
    "duration": 4,
    "start_time": "2022-03-25T22:50:34.328Z"
   },
   {
    "duration": 5,
    "start_time": "2022-03-25T22:50:34.333Z"
   },
   {
    "duration": 6,
    "start_time": "2022-03-25T22:50:34.340Z"
   },
   {
    "duration": 7,
    "start_time": "2022-03-25T22:50:34.348Z"
   },
   {
    "duration": 5,
    "start_time": "2022-03-25T22:50:34.357Z"
   },
   {
    "duration": 7,
    "start_time": "2022-03-25T22:50:34.363Z"
   },
   {
    "duration": 9,
    "start_time": "2022-03-25T22:50:34.372Z"
   },
   {
    "duration": 4,
    "start_time": "2022-03-25T22:50:34.383Z"
   },
   {
    "duration": 4,
    "start_time": "2022-03-25T22:50:34.389Z"
   },
   {
    "duration": 17,
    "start_time": "2022-03-25T22:50:34.394Z"
   },
   {
    "duration": 25,
    "start_time": "2022-03-25T22:50:34.415Z"
   },
   {
    "duration": 21,
    "start_time": "2022-03-25T22:50:34.441Z"
   },
   {
    "duration": 13,
    "start_time": "2022-03-25T22:50:34.463Z"
   },
   {
    "duration": 32,
    "start_time": "2022-03-25T22:50:34.477Z"
   },
   {
    "duration": 15,
    "start_time": "2022-03-25T22:50:34.510Z"
   },
   {
    "duration": 17,
    "start_time": "2022-03-25T22:50:34.527Z"
   },
   {
    "duration": 25,
    "start_time": "2022-03-25T22:50:34.546Z"
   },
   {
    "duration": 8,
    "start_time": "2022-03-25T22:50:34.573Z"
   },
   {
    "duration": 15,
    "start_time": "2022-03-25T22:50:34.609Z"
   },
   {
    "duration": 7,
    "start_time": "2022-03-25T22:50:34.625Z"
   },
   {
    "duration": 10,
    "start_time": "2022-03-25T22:50:34.634Z"
   },
   {
    "duration": 3,
    "start_time": "2022-03-25T22:50:34.645Z"
   },
   {
    "duration": 4,
    "start_time": "2022-03-25T22:50:34.649Z"
   },
   {
    "duration": 4,
    "start_time": "2022-03-25T22:50:34.655Z"
   },
   {
    "duration": 7,
    "start_time": "2022-03-25T22:50:34.660Z"
   },
   {
    "duration": 5,
    "start_time": "2022-03-25T22:50:34.668Z"
   },
   {
    "duration": 35,
    "start_time": "2022-03-25T22:50:34.675Z"
   },
   {
    "duration": 5,
    "start_time": "2022-03-25T22:50:34.712Z"
   },
   {
    "duration": 13,
    "start_time": "2022-03-25T22:50:34.719Z"
   },
   {
    "duration": 13,
    "start_time": "2022-03-25T22:50:34.733Z"
   },
   {
    "duration": 7,
    "start_time": "2022-03-25T22:50:34.748Z"
   },
   {
    "duration": 24,
    "start_time": "2022-03-25T22:50:34.757Z"
   },
   {
    "duration": 34,
    "start_time": "2022-03-25T22:50:34.783Z"
   },
   {
    "duration": 20,
    "start_time": "2022-03-25T22:50:34.819Z"
   },
   {
    "duration": 8,
    "start_time": "2022-03-25T22:50:34.840Z"
   },
   {
    "duration": 20,
    "start_time": "2022-03-25T22:50:34.850Z"
   },
   {
    "duration": 8,
    "start_time": "2022-03-25T22:50:34.872Z"
   },
   {
    "duration": 49,
    "start_time": "2022-03-25T22:50:34.882Z"
   },
   {
    "duration": 3,
    "start_time": "2022-03-25T22:50:34.933Z"
   },
   {
    "duration": 11,
    "start_time": "2022-03-25T22:50:34.937Z"
   },
   {
    "duration": 19,
    "start_time": "2022-03-25T22:50:34.949Z"
   },
   {
    "duration": 3,
    "start_time": "2022-03-25T22:50:34.969Z"
   },
   {
    "duration": 10,
    "start_time": "2022-03-25T22:50:34.974Z"
   },
   {
    "duration": 14,
    "start_time": "2022-03-25T22:50:35.008Z"
   },
   {
    "duration": 2,
    "start_time": "2022-03-25T22:50:35.024Z"
   },
   {
    "duration": 10,
    "start_time": "2022-03-25T22:50:35.028Z"
   },
   {
    "duration": 16,
    "start_time": "2022-03-25T22:50:35.040Z"
   },
   {
    "duration": 20,
    "start_time": "2022-03-25T22:50:35.058Z"
   },
   {
    "duration": 35,
    "start_time": "2022-03-25T22:50:35.079Z"
   },
   {
    "duration": 12,
    "start_time": "2022-03-25T22:50:35.115Z"
   },
   {
    "duration": 7,
    "start_time": "2022-03-25T22:50:35.128Z"
   },
   {
    "duration": 3,
    "start_time": "2022-03-25T22:50:35.137Z"
   },
   {
    "duration": 4,
    "start_time": "2022-03-25T22:50:35.141Z"
   },
   {
    "duration": 5,
    "start_time": "2022-03-25T22:50:35.147Z"
   },
   {
    "duration": 5,
    "start_time": "2022-03-25T22:50:35.153Z"
   },
   {
    "duration": 9,
    "start_time": "2022-03-25T22:50:35.160Z"
   },
   {
    "duration": 51,
    "start_time": "2022-03-25T22:50:35.171Z"
   },
   {
    "duration": 6,
    "start_time": "2022-03-25T22:50:35.223Z"
   },
   {
    "duration": 20,
    "start_time": "2022-03-25T22:50:35.231Z"
   },
   {
    "duration": 7,
    "start_time": "2022-03-25T22:50:35.252Z"
   },
   {
    "duration": 5,
    "start_time": "2022-03-25T22:50:35.260Z"
   },
   {
    "duration": 9,
    "start_time": "2022-03-25T22:50:35.266Z"
   },
   {
    "duration": 6,
    "start_time": "2022-03-25T22:50:35.276Z"
   },
   {
    "duration": 204,
    "start_time": "2022-03-25T22:50:35.309Z"
   },
   {
    "duration": 18,
    "start_time": "2022-03-25T22:50:35.519Z"
   },
   {
    "duration": 9,
    "start_time": "2022-03-25T22:50:35.538Z"
   },
   {
    "duration": 18,
    "start_time": "2022-03-25T22:50:35.548Z"
   },
   {
    "duration": 5,
    "start_time": "2022-03-25T22:50:35.567Z"
   },
   {
    "duration": 7,
    "start_time": "2022-03-25T22:50:35.574Z"
   },
   {
    "duration": 31,
    "start_time": "2022-03-25T22:50:35.583Z"
   },
   {
    "duration": 17,
    "start_time": "2022-03-25T22:50:35.616Z"
   },
   {
    "duration": 4,
    "start_time": "2022-03-25T22:50:35.635Z"
   },
   {
    "duration": 10,
    "start_time": "2022-03-25T22:50:35.640Z"
   },
   {
    "duration": 5,
    "start_time": "2022-03-25T22:50:35.652Z"
   },
   {
    "duration": 15,
    "start_time": "2022-03-25T22:50:35.658Z"
   },
   {
    "duration": 3,
    "start_time": "2022-03-25T22:50:35.675Z"
   },
   {
    "duration": 33,
    "start_time": "2022-03-25T22:50:35.680Z"
   },
   {
    "duration": 6,
    "start_time": "2022-03-25T22:50:35.715Z"
   },
   {
    "duration": 19,
    "start_time": "2022-03-25T22:50:35.722Z"
   },
   {
    "duration": 6,
    "start_time": "2022-03-25T22:50:35.743Z"
   },
   {
    "duration": 5,
    "start_time": "2022-03-25T22:50:35.750Z"
   },
   {
    "duration": 9,
    "start_time": "2022-03-25T22:50:35.757Z"
   },
   {
    "duration": 42,
    "start_time": "2022-03-25T22:50:35.768Z"
   },
   {
    "duration": 4,
    "start_time": "2022-03-25T22:50:35.812Z"
   },
   {
    "duration": 10,
    "start_time": "2022-03-25T22:50:35.818Z"
   },
   {
    "duration": 5,
    "start_time": "2022-03-25T22:50:35.830Z"
   },
   {
    "duration": 17,
    "start_time": "2022-03-25T22:50:35.836Z"
   },
   {
    "duration": 4,
    "start_time": "2022-03-25T22:50:35.854Z"
   },
   {
    "duration": 16,
    "start_time": "2022-03-25T22:50:35.860Z"
   },
   {
    "duration": 4,
    "start_time": "2022-03-25T22:50:35.878Z"
   },
   {
    "duration": 2,
    "start_time": "2022-03-25T22:50:35.909Z"
   },
   {
    "duration": 4,
    "start_time": "2022-03-25T22:50:35.913Z"
   },
   {
    "duration": 4,
    "start_time": "2022-03-25T22:50:35.918Z"
   },
   {
    "duration": 4,
    "start_time": "2022-03-25T22:50:35.924Z"
   },
   {
    "duration": 5,
    "start_time": "2022-03-25T22:50:35.929Z"
   },
   {
    "duration": 11,
    "start_time": "2022-03-25T22:50:35.935Z"
   },
   {
    "duration": 6,
    "start_time": "2022-03-25T22:50:35.948Z"
   },
   {
    "duration": 60,
    "start_time": "2022-03-25T22:50:35.956Z"
   },
   {
    "duration": 26,
    "start_time": "2022-03-25T22:50:36.017Z"
   },
   {
    "duration": 8,
    "start_time": "2022-03-25T22:50:36.044Z"
   },
   {
    "duration": 8,
    "start_time": "2022-03-25T22:50:36.053Z"
   },
   {
    "duration": 259,
    "start_time": "2022-03-25T22:50:36.062Z"
   },
   {
    "duration": 2,
    "start_time": "2022-03-25T22:50:36.323Z"
   },
   {
    "duration": 211,
    "start_time": "2022-03-25T22:50:36.327Z"
   },
   {
    "duration": 210,
    "start_time": "2022-03-25T22:50:36.540Z"
   },
   {
    "duration": 207,
    "start_time": "2022-03-25T22:50:36.752Z"
   },
   {
    "duration": 199,
    "start_time": "2022-03-25T22:50:36.961Z"
   },
   {
    "duration": 306,
    "start_time": "2022-03-25T22:50:37.162Z"
   },
   {
    "duration": 372,
    "start_time": "2022-03-25T22:50:37.470Z"
   },
   {
    "duration": 304,
    "start_time": "2022-03-25T22:50:37.844Z"
   },
   {
    "duration": 308,
    "start_time": "2022-03-25T22:50:38.150Z"
   },
   {
    "duration": 3,
    "start_time": "2022-03-25T22:50:38.459Z"
   },
   {
    "duration": 4,
    "start_time": "2022-03-25T22:50:38.464Z"
   },
   {
    "duration": 6,
    "start_time": "2022-03-25T22:50:38.469Z"
   },
   {
    "duration": 10,
    "start_time": "2022-03-25T22:50:38.477Z"
   },
   {
    "duration": 21,
    "start_time": "2022-03-25T22:50:38.488Z"
   },
   {
    "duration": 10,
    "start_time": "2022-03-25T22:50:38.510Z"
   },
   {
    "duration": 4,
    "start_time": "2022-03-25T22:50:38.521Z"
   },
   {
    "duration": 5,
    "start_time": "2022-03-25T22:50:38.526Z"
   },
   {
    "duration": 10,
    "start_time": "2022-03-25T22:50:38.533Z"
   },
   {
    "duration": 1377,
    "start_time": "2022-03-26T11:10:34.470Z"
   },
   {
    "duration": 380,
    "start_time": "2022-03-26T11:10:35.849Z"
   },
   {
    "duration": 28,
    "start_time": "2022-03-26T11:10:36.231Z"
   },
   {
    "duration": 12,
    "start_time": "2022-03-26T11:10:36.261Z"
   },
   {
    "duration": 34,
    "start_time": "2022-03-26T11:10:36.275Z"
   },
   {
    "duration": 11,
    "start_time": "2022-03-26T11:10:36.311Z"
   },
   {
    "duration": 42,
    "start_time": "2022-03-26T11:10:36.323Z"
   },
   {
    "duration": 8,
    "start_time": "2022-03-26T11:10:36.367Z"
   },
   {
    "duration": 17,
    "start_time": "2022-03-26T11:10:36.376Z"
   },
   {
    "duration": 9,
    "start_time": "2022-03-26T11:10:36.396Z"
   },
   {
    "duration": 13,
    "start_time": "2022-03-26T11:10:36.407Z"
   },
   {
    "duration": 11,
    "start_time": "2022-03-26T11:10:36.422Z"
   },
   {
    "duration": 30,
    "start_time": "2022-03-26T11:10:36.435Z"
   },
   {
    "duration": 35,
    "start_time": "2022-03-26T11:10:36.467Z"
   },
   {
    "duration": 90,
    "start_time": "2022-03-26T11:10:36.504Z"
   },
   {
    "duration": 9,
    "start_time": "2022-03-26T11:10:36.596Z"
   },
   {
    "duration": 20,
    "start_time": "2022-03-26T11:10:36.607Z"
   },
   {
    "duration": 2,
    "start_time": "2022-03-26T11:10:36.629Z"
   },
   {
    "duration": 6,
    "start_time": "2022-03-26T11:10:36.633Z"
   },
   {
    "duration": 4,
    "start_time": "2022-03-26T11:10:36.663Z"
   },
   {
    "duration": 12,
    "start_time": "2022-03-26T11:10:36.668Z"
   },
   {
    "duration": 9,
    "start_time": "2022-03-26T11:10:36.682Z"
   },
   {
    "duration": 15,
    "start_time": "2022-03-26T11:10:36.693Z"
   },
   {
    "duration": 23,
    "start_time": "2022-03-26T11:10:36.710Z"
   },
   {
    "duration": 20,
    "start_time": "2022-03-26T11:10:36.736Z"
   },
   {
    "duration": 17,
    "start_time": "2022-03-26T11:10:36.758Z"
   },
   {
    "duration": 13,
    "start_time": "2022-03-26T11:10:36.777Z"
   },
   {
    "duration": 38,
    "start_time": "2022-03-26T11:10:36.793Z"
   },
   {
    "duration": 23,
    "start_time": "2022-03-26T11:10:36.833Z"
   },
   {
    "duration": 16,
    "start_time": "2022-03-26T11:10:36.857Z"
   },
   {
    "duration": 10,
    "start_time": "2022-03-26T11:10:36.874Z"
   },
   {
    "duration": 23,
    "start_time": "2022-03-26T11:10:36.885Z"
   },
   {
    "duration": 20,
    "start_time": "2022-03-26T11:10:36.910Z"
   },
   {
    "duration": 52,
    "start_time": "2022-03-26T11:10:36.932Z"
   },
   {
    "duration": 11,
    "start_time": "2022-03-26T11:10:36.985Z"
   },
   {
    "duration": 23,
    "start_time": "2022-03-26T11:10:36.997Z"
   },
   {
    "duration": 8,
    "start_time": "2022-03-26T11:10:37.021Z"
   },
   {
    "duration": 16,
    "start_time": "2022-03-26T11:10:37.031Z"
   },
   {
    "duration": 2,
    "start_time": "2022-03-26T11:10:37.063Z"
   },
   {
    "duration": 9,
    "start_time": "2022-03-26T11:10:37.067Z"
   },
   {
    "duration": 8,
    "start_time": "2022-03-26T11:10:37.077Z"
   },
   {
    "duration": 7,
    "start_time": "2022-03-26T11:10:37.086Z"
   },
   {
    "duration": 5,
    "start_time": "2022-03-26T11:10:37.094Z"
   },
   {
    "duration": 7,
    "start_time": "2022-03-26T11:10:37.101Z"
   },
   {
    "duration": 8,
    "start_time": "2022-03-26T11:10:37.110Z"
   },
   {
    "duration": 15,
    "start_time": "2022-03-26T11:10:37.119Z"
   },
   {
    "duration": 29,
    "start_time": "2022-03-26T11:10:37.135Z"
   },
   {
    "duration": 14,
    "start_time": "2022-03-26T11:10:37.165Z"
   },
   {
    "duration": 28,
    "start_time": "2022-03-26T11:10:37.181Z"
   },
   {
    "duration": 9,
    "start_time": "2022-03-26T11:10:37.211Z"
   },
   {
    "duration": 19,
    "start_time": "2022-03-26T11:10:37.221Z"
   },
   {
    "duration": 27,
    "start_time": "2022-03-26T11:10:37.242Z"
   },
   {
    "duration": 22,
    "start_time": "2022-03-26T11:10:37.270Z"
   },
   {
    "duration": 9,
    "start_time": "2022-03-26T11:10:37.293Z"
   },
   {
    "duration": 28,
    "start_time": "2022-03-26T11:10:37.304Z"
   },
   {
    "duration": 2,
    "start_time": "2022-03-26T11:10:37.335Z"
   },
   {
    "duration": 29,
    "start_time": "2022-03-26T11:10:37.339Z"
   },
   {
    "duration": 23,
    "start_time": "2022-03-26T11:10:37.370Z"
   },
   {
    "duration": 3,
    "start_time": "2022-03-26T11:10:37.395Z"
   },
   {
    "duration": 14,
    "start_time": "2022-03-26T11:10:37.399Z"
   },
   {
    "duration": 16,
    "start_time": "2022-03-26T11:10:43.682Z"
   },
   {
    "duration": 3,
    "start_time": "2022-03-26T11:10:44.138Z"
   },
   {
    "duration": 10,
    "start_time": "2022-03-26T11:10:44.504Z"
   },
   {
    "duration": 18,
    "start_time": "2022-03-26T11:11:29.082Z"
   },
   {
    "duration": 20,
    "start_time": "2022-03-26T11:11:29.241Z"
   },
   {
    "duration": 10,
    "start_time": "2022-03-26T11:11:31.679Z"
   },
   {
    "duration": 17,
    "start_time": "2022-03-26T11:11:32.157Z"
   },
   {
    "duration": 5,
    "start_time": "2022-03-26T11:11:32.832Z"
   },
   {
    "duration": 4,
    "start_time": "2022-03-26T11:11:34.949Z"
   },
   {
    "duration": 4,
    "start_time": "2022-03-26T11:11:35.193Z"
   },
   {
    "duration": 4,
    "start_time": "2022-03-26T11:11:35.422Z"
   },
   {
    "duration": 4,
    "start_time": "2022-03-26T11:11:35.657Z"
   },
   {
    "duration": 7,
    "start_time": "2022-03-26T11:11:35.890Z"
   },
   {
    "duration": 19,
    "start_time": "2022-03-26T11:11:38.105Z"
   },
   {
    "duration": 7,
    "start_time": "2022-03-26T11:11:41.961Z"
   },
   {
    "duration": 18,
    "start_time": "2022-03-26T11:11:58.401Z"
   },
   {
    "duration": 8,
    "start_time": "2022-03-26T11:11:59.924Z"
   },
   {
    "duration": 5,
    "start_time": "2022-03-26T11:12:02.665Z"
   },
   {
    "duration": 4,
    "start_time": "2022-03-26T11:12:39.645Z"
   },
   {
    "duration": 8,
    "start_time": "2022-03-26T11:13:07.170Z"
   },
   {
    "duration": 3,
    "start_time": "2022-03-26T11:13:07.679Z"
   },
   {
    "duration": 177,
    "start_time": "2022-03-26T11:13:11.956Z"
   },
   {
    "duration": 18,
    "start_time": "2022-03-26T11:13:12.410Z"
   },
   {
    "duration": 4,
    "start_time": "2022-03-26T11:22:26.442Z"
   },
   {
    "duration": 6,
    "start_time": "2022-03-26T11:22:31.854Z"
   },
   {
    "duration": 2242,
    "start_time": "2022-03-26T11:22:36.099Z"
   },
   {
    "duration": 8,
    "start_time": "2022-03-26T11:23:18.003Z"
   },
   {
    "duration": 134,
    "start_time": "2022-03-26T11:24:31.663Z"
   },
   {
    "duration": 6,
    "start_time": "2022-03-26T11:25:00.594Z"
   },
   {
    "duration": 34,
    "start_time": "2022-03-26T11:25:04.191Z"
   },
   {
    "duration": 5,
    "start_time": "2022-03-26T11:26:13.323Z"
   },
   {
    "duration": 6,
    "start_time": "2022-03-26T11:26:17.801Z"
   },
   {
    "duration": 4,
    "start_time": "2022-03-26T11:29:13.308Z"
   },
   {
    "duration": 153,
    "start_time": "2022-03-26T11:29:36.325Z"
   },
   {
    "duration": 183,
    "start_time": "2022-03-26T11:29:44.110Z"
   },
   {
    "duration": 146,
    "start_time": "2022-03-26T11:29:52.820Z"
   },
   {
    "duration": 160,
    "start_time": "2022-03-26T11:30:02.340Z"
   },
   {
    "duration": 142,
    "start_time": "2022-03-26T11:30:27.373Z"
   },
   {
    "duration": 139,
    "start_time": "2022-03-26T11:30:34.686Z"
   },
   {
    "duration": 176,
    "start_time": "2022-03-26T11:30:41.200Z"
   },
   {
    "duration": 4,
    "start_time": "2022-03-26T11:30:53.157Z"
   },
   {
    "duration": 27,
    "start_time": "2022-03-26T11:30:56.336Z"
   },
   {
    "duration": 2227,
    "start_time": "2022-03-26T11:32:42.688Z"
   },
   {
    "duration": 4,
    "start_time": "2022-03-26T11:32:52.084Z"
   },
   {
    "duration": 4,
    "start_time": "2022-03-26T11:34:16.374Z"
   },
   {
    "duration": 30,
    "start_time": "2022-03-26T11:34:19.866Z"
   },
   {
    "duration": 179,
    "start_time": "2022-03-26T11:34:54.843Z"
   },
   {
    "duration": 2672,
    "start_time": "2022-03-26T11:34:58.586Z"
   },
   {
    "duration": 4,
    "start_time": "2022-03-26T11:35:33.434Z"
   },
   {
    "duration": 4,
    "start_time": "2022-03-26T11:35:46.106Z"
   },
   {
    "duration": 3,
    "start_time": "2022-03-26T11:39:14.360Z"
   },
   {
    "duration": 5,
    "start_time": "2022-03-26T11:40:21.142Z"
   },
   {
    "duration": 10,
    "start_time": "2022-03-26T11:40:24.981Z"
   },
   {
    "duration": 5,
    "start_time": "2022-03-26T11:40:32.931Z"
   },
   {
    "duration": 4,
    "start_time": "2022-03-26T11:40:58.469Z"
   },
   {
    "duration": 27,
    "start_time": "2022-03-26T11:41:02.428Z"
   },
   {
    "duration": 4,
    "start_time": "2022-03-26T11:41:53.909Z"
   },
   {
    "duration": 31,
    "start_time": "2022-03-26T11:41:58.892Z"
   },
   {
    "duration": 4,
    "start_time": "2022-03-26T11:42:41.155Z"
   },
   {
    "duration": 29,
    "start_time": "2022-03-26T11:42:43.963Z"
   },
   {
    "duration": 4,
    "start_time": "2022-03-26T11:42:57.325Z"
   },
   {
    "duration": 30,
    "start_time": "2022-03-26T11:43:10.499Z"
   },
   {
    "duration": 5,
    "start_time": "2022-03-26T11:44:20.195Z"
   },
   {
    "duration": 136,
    "start_time": "2022-03-26T11:44:24.501Z"
   },
   {
    "duration": 3,
    "start_time": "2022-03-26T11:44:31.168Z"
   },
   {
    "duration": 5,
    "start_time": "2022-03-26T11:44:37.277Z"
   },
   {
    "duration": 4,
    "start_time": "2022-03-26T11:46:18.386Z"
   },
   {
    "duration": 29,
    "start_time": "2022-03-26T11:46:21.298Z"
   },
   {
    "duration": 4,
    "start_time": "2022-03-26T11:46:59.622Z"
   },
   {
    "duration": 27,
    "start_time": "2022-03-26T11:47:03.709Z"
   },
   {
    "duration": 4,
    "start_time": "2022-03-26T11:47:27.111Z"
   },
   {
    "duration": 27,
    "start_time": "2022-03-26T11:47:31.181Z"
   },
   {
    "duration": 5,
    "start_time": "2022-03-26T11:47:47.233Z"
   },
   {
    "duration": 5,
    "start_time": "2022-03-26T11:48:10.815Z"
   },
   {
    "duration": 29,
    "start_time": "2022-03-26T11:48:13.576Z"
   },
   {
    "duration": 4,
    "start_time": "2022-03-26T11:50:02.912Z"
   },
   {
    "duration": 3302,
    "start_time": "2022-03-26T11:50:06.686Z"
   },
   {
    "duration": 4,
    "start_time": "2022-03-26T11:50:30.476Z"
   },
   {
    "duration": 2935,
    "start_time": "2022-03-26T11:50:34.680Z"
   },
   {
    "duration": 19,
    "start_time": "2022-03-26T11:50:52.200Z"
   },
   {
    "duration": 5,
    "start_time": "2022-03-26T11:51:32.331Z"
   },
   {
    "duration": 26,
    "start_time": "2022-03-26T11:51:35.571Z"
   },
   {
    "duration": 1143,
    "start_time": "2022-03-26T11:52:28.370Z"
   },
   {
    "duration": 379,
    "start_time": "2022-03-26T11:52:29.515Z"
   },
   {
    "duration": 25,
    "start_time": "2022-03-26T11:52:29.896Z"
   },
   {
    "duration": 13,
    "start_time": "2022-03-26T11:52:29.923Z"
   },
   {
    "duration": 23,
    "start_time": "2022-03-26T11:52:29.938Z"
   },
   {
    "duration": 8,
    "start_time": "2022-03-26T11:52:29.963Z"
   },
   {
    "duration": 34,
    "start_time": "2022-03-26T11:52:29.973Z"
   },
   {
    "duration": 22,
    "start_time": "2022-03-26T11:52:30.009Z"
   },
   {
    "duration": 24,
    "start_time": "2022-03-26T11:52:30.033Z"
   },
   {
    "duration": 22,
    "start_time": "2022-03-26T11:52:30.058Z"
   },
   {
    "duration": 19,
    "start_time": "2022-03-26T11:52:30.082Z"
   },
   {
    "duration": 27,
    "start_time": "2022-03-26T11:52:30.103Z"
   },
   {
    "duration": 18,
    "start_time": "2022-03-26T11:52:30.134Z"
   },
   {
    "duration": 40,
    "start_time": "2022-03-26T11:52:30.153Z"
   },
   {
    "duration": 85,
    "start_time": "2022-03-26T11:52:30.195Z"
   },
   {
    "duration": 33,
    "start_time": "2022-03-26T11:52:30.281Z"
   },
   {
    "duration": 35,
    "start_time": "2022-03-26T11:52:30.316Z"
   },
   {
    "duration": 3,
    "start_time": "2022-03-26T11:52:30.353Z"
   },
   {
    "duration": 10,
    "start_time": "2022-03-26T11:52:30.358Z"
   },
   {
    "duration": 12,
    "start_time": "2022-03-26T11:52:30.370Z"
   },
   {
    "duration": 27,
    "start_time": "2022-03-26T11:52:30.385Z"
   },
   {
    "duration": 10,
    "start_time": "2022-03-26T11:52:30.414Z"
   },
   {
    "duration": 15,
    "start_time": "2022-03-26T11:52:30.426Z"
   },
   {
    "duration": 28,
    "start_time": "2022-03-26T11:52:30.442Z"
   },
   {
    "duration": 20,
    "start_time": "2022-03-26T11:52:30.472Z"
   },
   {
    "duration": 18,
    "start_time": "2022-03-26T11:52:30.494Z"
   },
   {
    "duration": 34,
    "start_time": "2022-03-26T11:52:30.514Z"
   },
   {
    "duration": 38,
    "start_time": "2022-03-26T11:52:30.551Z"
   },
   {
    "duration": 23,
    "start_time": "2022-03-26T11:52:30.591Z"
   },
   {
    "duration": 23,
    "start_time": "2022-03-26T11:52:30.617Z"
   },
   {
    "duration": 28,
    "start_time": "2022-03-26T11:52:30.642Z"
   },
   {
    "duration": 33,
    "start_time": "2022-03-26T11:52:30.672Z"
   },
   {
    "duration": 21,
    "start_time": "2022-03-26T11:52:30.707Z"
   },
   {
    "duration": 35,
    "start_time": "2022-03-26T11:52:30.730Z"
   },
   {
    "duration": 17,
    "start_time": "2022-03-26T11:52:30.767Z"
   },
   {
    "duration": 35,
    "start_time": "2022-03-26T11:52:30.785Z"
   },
   {
    "duration": 11,
    "start_time": "2022-03-26T11:52:30.822Z"
   },
   {
    "duration": 17,
    "start_time": "2022-03-26T11:52:30.836Z"
   },
   {
    "duration": 30,
    "start_time": "2022-03-26T11:52:30.855Z"
   },
   {
    "duration": 15,
    "start_time": "2022-03-26T11:52:30.890Z"
   },
   {
    "duration": 32,
    "start_time": "2022-03-26T11:52:30.907Z"
   },
   {
    "duration": 48,
    "start_time": "2022-03-26T11:52:30.940Z"
   },
   {
    "duration": 16,
    "start_time": "2022-03-26T11:52:30.989Z"
   },
   {
    "duration": 18,
    "start_time": "2022-03-26T11:52:31.006Z"
   },
   {
    "duration": 17,
    "start_time": "2022-03-26T11:52:31.025Z"
   },
   {
    "duration": 29,
    "start_time": "2022-03-26T11:52:31.044Z"
   },
   {
    "duration": 27,
    "start_time": "2022-03-26T11:52:31.075Z"
   },
   {
    "duration": 15,
    "start_time": "2022-03-26T11:52:31.103Z"
   },
   {
    "duration": 40,
    "start_time": "2022-03-26T11:52:31.120Z"
   },
   {
    "duration": 8,
    "start_time": "2022-03-26T11:52:31.162Z"
   },
   {
    "duration": 36,
    "start_time": "2022-03-26T11:52:31.171Z"
   },
   {
    "duration": 15,
    "start_time": "2022-03-26T11:52:31.209Z"
   },
   {
    "duration": 38,
    "start_time": "2022-03-26T11:52:31.226Z"
   },
   {
    "duration": 11,
    "start_time": "2022-03-26T11:52:31.266Z"
   },
   {
    "duration": 27,
    "start_time": "2022-03-26T11:52:31.278Z"
   },
   {
    "duration": 2,
    "start_time": "2022-03-26T11:52:31.307Z"
   },
   {
    "duration": 25,
    "start_time": "2022-03-26T11:52:31.310Z"
   },
   {
    "duration": 31,
    "start_time": "2022-03-26T11:52:31.336Z"
   },
   {
    "duration": 3,
    "start_time": "2022-03-26T11:52:31.369Z"
   },
   {
    "duration": 21,
    "start_time": "2022-03-26T11:52:31.374Z"
   },
   {
    "duration": 20,
    "start_time": "2022-03-26T11:52:31.397Z"
   },
   {
    "duration": 9,
    "start_time": "2022-03-26T11:52:31.419Z"
   },
   {
    "duration": 23,
    "start_time": "2022-03-26T11:52:31.429Z"
   },
   {
    "duration": 45,
    "start_time": "2022-03-26T11:52:31.454Z"
   },
   {
    "duration": 31,
    "start_time": "2022-03-26T11:52:31.501Z"
   },
   {
    "duration": 15,
    "start_time": "2022-03-26T11:52:31.534Z"
   },
   {
    "duration": 27,
    "start_time": "2022-03-26T11:52:31.551Z"
   },
   {
    "duration": 34,
    "start_time": "2022-03-26T11:52:31.579Z"
   },
   {
    "duration": 10,
    "start_time": "2022-03-26T11:52:31.614Z"
   },
   {
    "duration": 9,
    "start_time": "2022-03-26T11:52:31.626Z"
   },
   {
    "duration": 15,
    "start_time": "2022-03-26T11:52:31.637Z"
   },
   {
    "duration": 27,
    "start_time": "2022-03-26T11:52:31.653Z"
   },
   {
    "duration": 38,
    "start_time": "2022-03-26T11:52:31.682Z"
   },
   {
    "duration": 22,
    "start_time": "2022-03-26T11:52:31.722Z"
   },
   {
    "duration": 12,
    "start_time": "2022-03-26T11:52:31.745Z"
   },
   {
    "duration": 25,
    "start_time": "2022-03-26T11:52:31.759Z"
   },
   {
    "duration": 13,
    "start_time": "2022-03-26T11:52:31.786Z"
   },
   {
    "duration": 20,
    "start_time": "2022-03-26T11:52:31.800Z"
   },
   {
    "duration": 18,
    "start_time": "2022-03-26T11:52:31.822Z"
   },
   {
    "duration": 6,
    "start_time": "2022-03-26T11:52:34.316Z"
   },
   {
    "duration": 106,
    "start_time": "2022-03-26T11:52:36.981Z"
   },
   {
    "duration": 5,
    "start_time": "2022-03-26T11:53:06.317Z"
   },
   {
    "duration": 27,
    "start_time": "2022-03-26T11:53:09.797Z"
   },
   {
    "duration": 4,
    "start_time": "2022-03-26T11:53:33.979Z"
   },
   {
    "duration": 27,
    "start_time": "2022-03-26T11:53:35.622Z"
   },
   {
    "duration": 5,
    "start_time": "2022-03-26T11:54:13.594Z"
   },
   {
    "duration": 3591,
    "start_time": "2022-03-26T11:54:15.637Z"
   },
   {
    "duration": 1115,
    "start_time": "2022-03-26T11:54:43.283Z"
   },
   {
    "duration": 399,
    "start_time": "2022-03-26T11:54:44.400Z"
   },
   {
    "duration": 26,
    "start_time": "2022-03-26T11:54:44.800Z"
   },
   {
    "duration": 17,
    "start_time": "2022-03-26T11:54:44.828Z"
   },
   {
    "duration": 36,
    "start_time": "2022-03-26T11:54:44.847Z"
   },
   {
    "duration": 12,
    "start_time": "2022-03-26T11:54:44.884Z"
   },
   {
    "duration": 24,
    "start_time": "2022-03-26T11:54:44.898Z"
   },
   {
    "duration": 13,
    "start_time": "2022-03-26T11:54:44.924Z"
   },
   {
    "duration": 29,
    "start_time": "2022-03-26T11:54:44.939Z"
   },
   {
    "duration": 42,
    "start_time": "2022-03-26T11:54:44.970Z"
   },
   {
    "duration": 34,
    "start_time": "2022-03-26T11:54:45.014Z"
   },
   {
    "duration": 17,
    "start_time": "2022-03-26T11:54:45.049Z"
   },
   {
    "duration": 33,
    "start_time": "2022-03-26T11:54:45.067Z"
   },
   {
    "duration": 52,
    "start_time": "2022-03-26T11:54:45.101Z"
   },
   {
    "duration": 68,
    "start_time": "2022-03-26T11:54:45.154Z"
   },
   {
    "duration": 20,
    "start_time": "2022-03-26T11:54:45.224Z"
   },
   {
    "duration": 38,
    "start_time": "2022-03-26T11:54:45.246Z"
   },
   {
    "duration": 25,
    "start_time": "2022-03-26T11:54:45.286Z"
   },
   {
    "duration": 8,
    "start_time": "2022-03-26T11:54:45.312Z"
   },
   {
    "duration": 10,
    "start_time": "2022-03-26T11:54:45.322Z"
   },
   {
    "duration": 15,
    "start_time": "2022-03-26T11:54:45.333Z"
   },
   {
    "duration": 21,
    "start_time": "2022-03-26T11:54:45.349Z"
   },
   {
    "duration": 25,
    "start_time": "2022-03-26T11:54:45.371Z"
   },
   {
    "duration": 25,
    "start_time": "2022-03-26T11:54:45.398Z"
   },
   {
    "duration": 14,
    "start_time": "2022-03-26T11:54:45.425Z"
   },
   {
    "duration": 29,
    "start_time": "2022-03-26T11:54:45.441Z"
   },
   {
    "duration": 16,
    "start_time": "2022-03-26T11:54:45.472Z"
   },
   {
    "duration": 38,
    "start_time": "2022-03-26T11:54:45.491Z"
   },
   {
    "duration": 48,
    "start_time": "2022-03-26T11:54:45.531Z"
   },
   {
    "duration": 22,
    "start_time": "2022-03-26T11:54:45.580Z"
   },
   {
    "duration": 18,
    "start_time": "2022-03-26T11:54:45.604Z"
   },
   {
    "duration": 26,
    "start_time": "2022-03-26T11:54:45.623Z"
   },
   {
    "duration": 18,
    "start_time": "2022-03-26T11:54:45.651Z"
   },
   {
    "duration": 29,
    "start_time": "2022-03-26T11:54:45.670Z"
   },
   {
    "duration": 12,
    "start_time": "2022-03-26T11:54:45.700Z"
   },
   {
    "duration": 59,
    "start_time": "2022-03-26T11:54:45.713Z"
   },
   {
    "duration": 15,
    "start_time": "2022-03-26T11:54:45.775Z"
   },
   {
    "duration": 18,
    "start_time": "2022-03-26T11:54:45.792Z"
   },
   {
    "duration": 13,
    "start_time": "2022-03-26T11:54:45.812Z"
   },
   {
    "duration": 26,
    "start_time": "2022-03-26T11:54:45.827Z"
   },
   {
    "duration": 20,
    "start_time": "2022-03-26T11:54:45.854Z"
   },
   {
    "duration": 12,
    "start_time": "2022-03-26T11:54:45.875Z"
   },
   {
    "duration": 13,
    "start_time": "2022-03-26T11:54:45.889Z"
   },
   {
    "duration": 18,
    "start_time": "2022-03-26T11:54:45.903Z"
   },
   {
    "duration": 14,
    "start_time": "2022-03-26T11:54:45.923Z"
   },
   {
    "duration": 33,
    "start_time": "2022-03-26T11:54:45.939Z"
   },
   {
    "duration": 14,
    "start_time": "2022-03-26T11:54:45.973Z"
   },
   {
    "duration": 15,
    "start_time": "2022-03-26T11:54:45.988Z"
   },
   {
    "duration": 33,
    "start_time": "2022-03-26T11:54:46.004Z"
   },
   {
    "duration": 16,
    "start_time": "2022-03-26T11:54:46.039Z"
   },
   {
    "duration": 32,
    "start_time": "2022-03-26T11:54:46.057Z"
   },
   {
    "duration": 8,
    "start_time": "2022-03-26T11:54:46.091Z"
   },
   {
    "duration": 35,
    "start_time": "2022-03-26T11:54:46.100Z"
   },
   {
    "duration": 16,
    "start_time": "2022-03-26T11:54:46.137Z"
   },
   {
    "duration": 36,
    "start_time": "2022-03-26T11:54:46.155Z"
   },
   {
    "duration": 3,
    "start_time": "2022-03-26T11:54:46.195Z"
   },
   {
    "duration": 18,
    "start_time": "2022-03-26T11:54:46.199Z"
   },
   {
    "duration": 31,
    "start_time": "2022-03-26T11:54:46.219Z"
   },
   {
    "duration": 3,
    "start_time": "2022-03-26T11:54:46.251Z"
   },
   {
    "duration": 26,
    "start_time": "2022-03-26T11:54:46.255Z"
   },
   {
    "duration": 31,
    "start_time": "2022-03-26T11:54:46.282Z"
   },
   {
    "duration": 3,
    "start_time": "2022-03-26T11:54:46.314Z"
   },
   {
    "duration": 51,
    "start_time": "2022-03-26T11:54:46.318Z"
   },
   {
    "duration": 31,
    "start_time": "2022-03-26T11:54:46.370Z"
   },
   {
    "duration": 72,
    "start_time": "2022-03-26T11:54:46.403Z"
   },
   {
    "duration": 6,
    "start_time": "2022-03-26T11:54:46.477Z"
   },
   {
    "duration": 22,
    "start_time": "2022-03-26T11:54:46.485Z"
   },
   {
    "duration": 18,
    "start_time": "2022-03-26T11:54:46.508Z"
   },
   {
    "duration": 19,
    "start_time": "2022-03-26T11:54:46.528Z"
   },
   {
    "duration": 14,
    "start_time": "2022-03-26T11:54:46.549Z"
   },
   {
    "duration": 10,
    "start_time": "2022-03-26T11:54:46.564Z"
   },
   {
    "duration": 9,
    "start_time": "2022-03-26T11:54:46.575Z"
   },
   {
    "duration": 14,
    "start_time": "2022-03-26T11:54:46.585Z"
   },
   {
    "duration": 36,
    "start_time": "2022-03-26T11:54:46.600Z"
   },
   {
    "duration": 29,
    "start_time": "2022-03-26T11:54:46.637Z"
   },
   {
    "duration": 31,
    "start_time": "2022-03-26T11:54:46.668Z"
   },
   {
    "duration": 34,
    "start_time": "2022-03-26T11:54:46.700Z"
   },
   {
    "duration": 11,
    "start_time": "2022-03-26T11:54:46.735Z"
   },
   {
    "duration": 16,
    "start_time": "2022-03-26T11:54:46.747Z"
   },
   {
    "duration": 22,
    "start_time": "2022-03-26T11:54:46.765Z"
   },
   {
    "duration": 5,
    "start_time": "2022-03-26T11:54:51.610Z"
   },
   {
    "duration": 3305,
    "start_time": "2022-03-26T11:55:00.227Z"
   },
   {
    "duration": 4,
    "start_time": "2022-03-26T11:55:47.950Z"
   },
   {
    "duration": 3176,
    "start_time": "2022-03-26T11:55:50.744Z"
   },
   {
    "duration": 134,
    "start_time": "2022-03-26T11:56:43.707Z"
   },
   {
    "duration": 5,
    "start_time": "2022-03-26T11:56:47.633Z"
   },
   {
    "duration": 926,
    "start_time": "2022-03-26T11:56:52.793Z"
   },
   {
    "duration": 17,
    "start_time": "2022-03-26T11:56:56.595Z"
   },
   {
    "duration": 138,
    "start_time": "2022-03-26T11:57:50.367Z"
   },
   {
    "duration": 133,
    "start_time": "2022-03-26T11:58:05.441Z"
   },
   {
    "duration": 4,
    "start_time": "2022-03-26T11:58:22.687Z"
   },
   {
    "duration": 6,
    "start_time": "2022-03-26T12:02:53.148Z"
   },
   {
    "duration": 108,
    "start_time": "2022-03-26T12:02:56.765Z"
   },
   {
    "duration": 7,
    "start_time": "2022-03-26T12:03:06.996Z"
   },
   {
    "duration": 2939,
    "start_time": "2022-03-26T12:03:08.552Z"
   },
   {
    "duration": 18,
    "start_time": "2022-03-26T12:03:13.122Z"
   },
   {
    "duration": 7,
    "start_time": "2022-03-26T12:03:52.400Z"
   },
   {
    "duration": 4515,
    "start_time": "2022-03-26T12:03:54.289Z"
   },
   {
    "duration": 18,
    "start_time": "2022-03-26T12:03:59.417Z"
   },
   {
    "duration": 6,
    "start_time": "2022-03-26T12:04:46.687Z"
   },
   {
    "duration": 3478,
    "start_time": "2022-03-26T12:04:47.458Z"
   },
   {
    "duration": 25,
    "start_time": "2022-03-26T12:04:50.938Z"
   },
   {
    "duration": 9,
    "start_time": "2022-03-26T12:05:33.016Z"
   },
   {
    "duration": 3481,
    "start_time": "2022-03-26T12:05:33.783Z"
   },
   {
    "duration": 6,
    "start_time": "2022-03-26T12:05:40.938Z"
   },
   {
    "duration": 3554,
    "start_time": "2022-03-26T12:05:42.885Z"
   },
   {
    "duration": 28,
    "start_time": "2022-03-26T12:05:46.441Z"
   },
   {
    "duration": 3,
    "start_time": "2022-03-26T12:06:20.453Z"
   },
   {
    "duration": 350,
    "start_time": "2022-03-26T12:06:20.461Z"
   },
   {
    "duration": 24,
    "start_time": "2022-03-26T12:06:20.813Z"
   },
   {
    "duration": 9,
    "start_time": "2022-03-26T12:06:20.839Z"
   },
   {
    "duration": 34,
    "start_time": "2022-03-26T12:06:20.850Z"
   },
   {
    "duration": 7,
    "start_time": "2022-03-26T12:06:20.886Z"
   },
   {
    "duration": 19,
    "start_time": "2022-03-26T12:06:20.895Z"
   },
   {
    "duration": 10,
    "start_time": "2022-03-26T12:06:20.916Z"
   },
   {
    "duration": 28,
    "start_time": "2022-03-26T12:06:20.928Z"
   },
   {
    "duration": 16,
    "start_time": "2022-03-26T12:06:20.958Z"
   },
   {
    "duration": 15,
    "start_time": "2022-03-26T12:06:20.977Z"
   },
   {
    "duration": 14,
    "start_time": "2022-03-26T12:06:20.993Z"
   },
   {
    "duration": 7,
    "start_time": "2022-03-26T12:06:21.008Z"
   },
   {
    "duration": 52,
    "start_time": "2022-03-26T12:06:21.017Z"
   },
   {
    "duration": 71,
    "start_time": "2022-03-26T12:06:21.071Z"
   },
   {
    "duration": 26,
    "start_time": "2022-03-26T12:06:21.143Z"
   },
   {
    "duration": 25,
    "start_time": "2022-03-26T12:06:21.171Z"
   },
   {
    "duration": 4,
    "start_time": "2022-03-26T12:06:21.198Z"
   },
   {
    "duration": 6,
    "start_time": "2022-03-26T12:06:21.203Z"
   },
   {
    "duration": 5,
    "start_time": "2022-03-26T12:06:21.210Z"
   },
   {
    "duration": 8,
    "start_time": "2022-03-26T12:06:21.217Z"
   },
   {
    "duration": 15,
    "start_time": "2022-03-26T12:06:21.227Z"
   },
   {
    "duration": 6,
    "start_time": "2022-03-26T12:06:21.244Z"
   },
   {
    "duration": 13,
    "start_time": "2022-03-26T12:06:21.252Z"
   },
   {
    "duration": 6,
    "start_time": "2022-03-26T12:06:21.266Z"
   },
   {
    "duration": 12,
    "start_time": "2022-03-26T12:06:21.273Z"
   },
   {
    "duration": 7,
    "start_time": "2022-03-26T12:06:21.287Z"
   },
   {
    "duration": 27,
    "start_time": "2022-03-26T12:06:21.295Z"
   },
   {
    "duration": 19,
    "start_time": "2022-03-26T12:06:21.326Z"
   },
   {
    "duration": 16,
    "start_time": "2022-03-26T12:06:21.347Z"
   },
   {
    "duration": 14,
    "start_time": "2022-03-26T12:06:21.364Z"
   },
   {
    "duration": 16,
    "start_time": "2022-03-26T12:06:21.380Z"
   },
   {
    "duration": 17,
    "start_time": "2022-03-26T12:06:21.397Z"
   },
   {
    "duration": 27,
    "start_time": "2022-03-26T12:06:21.416Z"
   },
   {
    "duration": 8,
    "start_time": "2022-03-26T12:06:21.463Z"
   },
   {
    "duration": 15,
    "start_time": "2022-03-26T12:06:21.472Z"
   },
   {
    "duration": 6,
    "start_time": "2022-03-26T12:06:21.489Z"
   },
   {
    "duration": 8,
    "start_time": "2022-03-26T12:06:21.497Z"
   },
   {
    "duration": 11,
    "start_time": "2022-03-26T12:06:21.506Z"
   },
   {
    "duration": 5,
    "start_time": "2022-03-26T12:06:21.518Z"
   },
   {
    "duration": 6,
    "start_time": "2022-03-26T12:06:21.525Z"
   },
   {
    "duration": 5,
    "start_time": "2022-03-26T12:06:21.533Z"
   },
   {
    "duration": 5,
    "start_time": "2022-03-26T12:06:21.539Z"
   },
   {
    "duration": 5,
    "start_time": "2022-03-26T12:06:21.563Z"
   },
   {
    "duration": 6,
    "start_time": "2022-03-26T12:06:21.569Z"
   },
   {
    "duration": 28,
    "start_time": "2022-03-26T12:06:21.576Z"
   },
   {
    "duration": 12,
    "start_time": "2022-03-26T12:06:21.606Z"
   },
   {
    "duration": 6,
    "start_time": "2022-03-26T12:06:21.620Z"
   },
   {
    "duration": 26,
    "start_time": "2022-03-26T12:06:21.628Z"
   },
   {
    "duration": 12,
    "start_time": "2022-03-26T12:06:21.656Z"
   },
   {
    "duration": 18,
    "start_time": "2022-03-26T12:06:21.670Z"
   },
   {
    "duration": 8,
    "start_time": "2022-03-26T12:06:21.690Z"
   },
   {
    "duration": 18,
    "start_time": "2022-03-26T12:06:21.700Z"
   },
   {
    "duration": 8,
    "start_time": "2022-03-26T12:06:21.720Z"
   },
   {
    "duration": 45,
    "start_time": "2022-03-26T12:06:21.729Z"
   },
   {
    "duration": 3,
    "start_time": "2022-03-26T12:06:21.776Z"
   },
   {
    "duration": 12,
    "start_time": "2022-03-26T12:06:21.781Z"
   },
   {
    "duration": 19,
    "start_time": "2022-03-26T12:06:21.795Z"
   },
   {
    "duration": 3,
    "start_time": "2022-03-26T12:06:21.815Z"
   },
   {
    "duration": 11,
    "start_time": "2022-03-26T12:06:21.819Z"
   },
   {
    "duration": 34,
    "start_time": "2022-03-26T12:06:21.831Z"
   },
   {
    "duration": 3,
    "start_time": "2022-03-26T12:06:21.867Z"
   },
   {
    "duration": 11,
    "start_time": "2022-03-26T12:06:21.871Z"
   },
   {
    "duration": 14,
    "start_time": "2022-03-26T12:06:21.883Z"
   },
   {
    "duration": 22,
    "start_time": "2022-03-26T12:06:21.899Z"
   },
   {
    "duration": 8,
    "start_time": "2022-03-26T12:06:21.923Z"
   },
   {
    "duration": 40,
    "start_time": "2022-03-26T12:06:21.932Z"
   },
   {
    "duration": 7,
    "start_time": "2022-03-26T12:06:21.974Z"
   },
   {
    "duration": 3,
    "start_time": "2022-03-26T12:06:21.983Z"
   },
   {
    "duration": 4,
    "start_time": "2022-03-26T12:06:21.988Z"
   },
   {
    "duration": 7,
    "start_time": "2022-03-26T12:06:21.994Z"
   },
   {
    "duration": 6,
    "start_time": "2022-03-26T12:06:22.002Z"
   },
   {
    "duration": 8,
    "start_time": "2022-03-26T12:06:22.009Z"
   },
   {
    "duration": 42,
    "start_time": "2022-03-26T12:06:22.023Z"
   },
   {
    "duration": 7,
    "start_time": "2022-03-26T12:06:22.068Z"
   },
   {
    "duration": 16,
    "start_time": "2022-03-26T12:06:22.077Z"
   },
   {
    "duration": 10,
    "start_time": "2022-03-26T12:06:22.095Z"
   },
   {
    "duration": 7,
    "start_time": "2022-03-26T12:06:22.107Z"
   },
   {
    "duration": 7,
    "start_time": "2022-03-26T12:06:34.903Z"
   },
   {
    "duration": 3731,
    "start_time": "2022-03-26T12:06:37.978Z"
   },
   {
    "duration": 18,
    "start_time": "2022-03-26T12:06:42.496Z"
   },
   {
    "duration": 6,
    "start_time": "2022-03-26T12:11:06.287Z"
   },
   {
    "duration": 3361,
    "start_time": "2022-03-26T12:11:07.543Z"
   },
   {
    "duration": 16,
    "start_time": "2022-03-26T12:11:11.540Z"
   },
   {
    "duration": 5,
    "start_time": "2022-03-26T12:11:27.454Z"
   },
   {
    "duration": 7,
    "start_time": "2022-03-26T12:11:31.967Z"
   },
   {
    "duration": 6,
    "start_time": "2022-03-26T12:11:43.763Z"
   },
   {
    "duration": 4448,
    "start_time": "2022-03-26T12:11:45.148Z"
   },
   {
    "duration": 19,
    "start_time": "2022-03-26T12:11:50.362Z"
   },
   {
    "duration": 6,
    "start_time": "2022-03-26T12:12:16.524Z"
   },
   {
    "duration": 30,
    "start_time": "2022-03-26T12:12:17.582Z"
   },
   {
    "duration": 6,
    "start_time": "2022-03-26T12:12:24.876Z"
   },
   {
    "duration": 28,
    "start_time": "2022-03-26T12:12:26.961Z"
   },
   {
    "duration": 6,
    "start_time": "2022-03-26T12:12:35.285Z"
   },
   {
    "duration": 3902,
    "start_time": "2022-03-26T12:12:36.333Z"
   },
   {
    "duration": 6,
    "start_time": "2022-03-26T12:13:07.510Z"
   },
   {
    "duration": 5873,
    "start_time": "2022-03-26T12:13:08.402Z"
   },
   {
    "duration": 18,
    "start_time": "2022-03-26T12:13:14.277Z"
   },
   {
    "duration": 6,
    "start_time": "2022-03-26T12:13:26.758Z"
   },
   {
    "duration": 5011,
    "start_time": "2022-03-26T12:13:27.223Z"
   },
   {
    "duration": 21,
    "start_time": "2022-03-26T12:13:35.725Z"
   },
   {
    "duration": 6,
    "start_time": "2022-03-26T12:14:44.897Z"
   },
   {
    "duration": 4882,
    "start_time": "2022-03-26T12:14:45.458Z"
   },
   {
    "duration": 20,
    "start_time": "2022-03-26T12:14:52.087Z"
   },
   {
    "duration": 6,
    "start_time": "2022-03-26T12:15:13.637Z"
   },
   {
    "duration": 5245,
    "start_time": "2022-03-26T12:15:14.207Z"
   },
   {
    "duration": 20,
    "start_time": "2022-03-26T12:15:20.537Z"
   },
   {
    "duration": 7,
    "start_time": "2022-03-26T12:15:38.234Z"
   },
   {
    "duration": 3377,
    "start_time": "2022-03-26T12:15:41.452Z"
   },
   {
    "duration": 17,
    "start_time": "2022-03-26T12:15:45.677Z"
   },
   {
    "duration": 7,
    "start_time": "2022-03-26T12:15:58.733Z"
   },
   {
    "duration": 5586,
    "start_time": "2022-03-26T12:15:59.678Z"
   },
   {
    "duration": 19,
    "start_time": "2022-03-26T12:16:05.790Z"
   },
   {
    "duration": 6,
    "start_time": "2022-03-26T12:16:23.691Z"
   },
   {
    "duration": 5944,
    "start_time": "2022-03-26T12:16:24.692Z"
   },
   {
    "duration": 20,
    "start_time": "2022-03-26T12:16:32.068Z"
   },
   {
    "duration": 7,
    "start_time": "2022-03-26T12:16:41.155Z"
   },
   {
    "duration": 4957,
    "start_time": "2022-03-26T12:16:42.197Z"
   },
   {
    "duration": 22,
    "start_time": "2022-03-26T12:16:50.027Z"
   },
   {
    "duration": 6,
    "start_time": "2022-03-26T12:17:48.263Z"
   },
   {
    "duration": 3535,
    "start_time": "2022-03-26T12:17:49.028Z"
   },
   {
    "duration": 18,
    "start_time": "2022-03-26T12:17:53.991Z"
   },
   {
    "duration": 6,
    "start_time": "2022-03-26T12:18:07.182Z"
   },
   {
    "duration": 23,
    "start_time": "2022-03-26T12:18:07.654Z"
   },
   {
    "duration": 6,
    "start_time": "2022-03-26T12:18:09.342Z"
   },
   {
    "duration": 7,
    "start_time": "2022-03-26T12:18:11.687Z"
   },
   {
    "duration": 8,
    "start_time": "2022-03-26T12:18:11.992Z"
   },
   {
    "duration": 12,
    "start_time": "2022-03-26T12:18:13.145Z"
   },
   {
    "duration": 4,
    "start_time": "2022-03-26T12:18:14.015Z"
   },
   {
    "duration": 8,
    "start_time": "2022-03-26T12:18:14.338Z"
   },
   {
    "duration": 4,
    "start_time": "2022-03-26T12:18:16.623Z"
   },
   {
    "duration": 13,
    "start_time": "2022-03-26T12:18:17.298Z"
   },
   {
    "duration": 5,
    "start_time": "2022-03-26T12:18:17.667Z"
   },
   {
    "duration": 10,
    "start_time": "2022-03-26T12:18:17.958Z"
   },
   {
    "duration": 6,
    "start_time": "2022-03-26T12:18:18.642Z"
   },
   {
    "duration": 18,
    "start_time": "2022-03-26T12:18:18.846Z"
   },
   {
    "duration": 6,
    "start_time": "2022-03-26T12:18:19.582Z"
   },
   {
    "duration": 7,
    "start_time": "2022-03-26T12:18:20.353Z"
   },
   {
    "duration": 7,
    "start_time": "2022-03-26T12:18:20.889Z"
   },
   {
    "duration": 12,
    "start_time": "2022-03-26T12:18:21.175Z"
   },
   {
    "duration": 5,
    "start_time": "2022-03-26T12:18:21.268Z"
   },
   {
    "duration": 9,
    "start_time": "2022-03-26T12:18:21.359Z"
   },
   {
    "duration": 5,
    "start_time": "2022-03-26T12:18:21.572Z"
   },
   {
    "duration": 13,
    "start_time": "2022-03-26T12:18:21.775Z"
   },
   {
    "duration": 4,
    "start_time": "2022-03-26T12:18:21.870Z"
   },
   {
    "duration": 10,
    "start_time": "2022-03-26T12:18:21.972Z"
   },
   {
    "duration": 2,
    "start_time": "2022-03-26T12:18:22.283Z"
   },
   {
    "duration": 3,
    "start_time": "2022-03-26T12:18:22.382Z"
   },
   {
    "duration": 3,
    "start_time": "2022-03-26T12:18:22.593Z"
   },
   {
    "duration": 3,
    "start_time": "2022-03-26T12:18:22.721Z"
   },
   {
    "duration": 2,
    "start_time": "2022-03-26T12:18:22.912Z"
   },
   {
    "duration": 2,
    "start_time": "2022-03-26T12:18:23.019Z"
   },
   {
    "duration": 8,
    "start_time": "2022-03-26T12:18:23.398Z"
   },
   {
    "duration": 8,
    "start_time": "2022-03-26T12:18:23.493Z"
   },
   {
    "duration": 25,
    "start_time": "2022-03-26T12:18:23.677Z"
   },
   {
    "duration": 24,
    "start_time": "2022-03-26T12:18:23.800Z"
   },
   {
    "duration": 8,
    "start_time": "2022-03-26T12:18:23.993Z"
   },
   {
    "duration": 6,
    "start_time": "2022-03-26T12:18:24.108Z"
   },
   {
    "duration": 214,
    "start_time": "2022-03-26T12:18:24.389Z"
   },
   {
    "duration": 2,
    "start_time": "2022-03-26T12:18:25.768Z"
   },
   {
    "duration": 188,
    "start_time": "2022-03-26T12:18:26.124Z"
   },
   {
    "duration": 272,
    "start_time": "2022-03-26T12:18:26.435Z"
   },
   {
    "duration": 182,
    "start_time": "2022-03-26T12:18:26.944Z"
   },
   {
    "duration": 193,
    "start_time": "2022-03-26T12:18:30.071Z"
   },
   {
    "duration": 263,
    "start_time": "2022-03-26T12:18:35.669Z"
   },
   {
    "duration": 257,
    "start_time": "2022-03-26T12:18:39.354Z"
   },
   {
    "duration": 260,
    "start_time": "2022-03-26T12:18:39.919Z"
   },
   {
    "duration": 263,
    "start_time": "2022-03-26T12:18:42.863Z"
   },
   {
    "duration": 8,
    "start_time": "2022-03-26T12:19:05.767Z"
   },
   {
    "duration": 3,
    "start_time": "2022-03-26T12:19:08.798Z"
   },
   {
    "duration": 9,
    "start_time": "2022-03-26T12:19:09.285Z"
   },
   {
    "duration": 3,
    "start_time": "2022-03-26T12:19:09.671Z"
   },
   {
    "duration": 3,
    "start_time": "2022-03-26T12:19:10.045Z"
   },
   {
    "duration": 8,
    "start_time": "2022-03-26T12:19:10.950Z"
   },
   {
    "duration": 105,
    "start_time": "2022-03-26T12:20:42.554Z"
   },
   {
    "duration": 5009,
    "start_time": "2022-03-26T12:20:44.223Z"
   },
   {
    "duration": 18,
    "start_time": "2022-03-26T12:20:52.602Z"
   },
   {
    "duration": 6,
    "start_time": "2022-03-26T12:21:24.643Z"
   },
   {
    "duration": 3362,
    "start_time": "2022-03-26T12:21:25.597Z"
   },
   {
    "duration": 20,
    "start_time": "2022-03-26T12:21:29.746Z"
   },
   {
    "duration": 1121,
    "start_time": "2022-03-26T12:24:51.688Z"
   },
   {
    "duration": 379,
    "start_time": "2022-03-26T12:24:52.811Z"
   },
   {
    "duration": 25,
    "start_time": "2022-03-26T12:24:53.191Z"
   },
   {
    "duration": 11,
    "start_time": "2022-03-26T12:24:53.219Z"
   },
   {
    "duration": 21,
    "start_time": "2022-03-26T12:24:53.232Z"
   },
   {
    "duration": 13,
    "start_time": "2022-03-26T12:24:53.255Z"
   },
   {
    "duration": 22,
    "start_time": "2022-03-26T12:24:53.269Z"
   },
   {
    "duration": 7,
    "start_time": "2022-03-26T12:24:53.293Z"
   },
   {
    "duration": 14,
    "start_time": "2022-03-26T12:24:53.301Z"
   },
   {
    "duration": 10,
    "start_time": "2022-03-26T12:24:53.317Z"
   },
   {
    "duration": 13,
    "start_time": "2022-03-26T12:24:53.328Z"
   },
   {
    "duration": 18,
    "start_time": "2022-03-26T12:24:53.364Z"
   },
   {
    "duration": 16,
    "start_time": "2022-03-26T12:24:53.384Z"
   },
   {
    "duration": 37,
    "start_time": "2022-03-26T12:24:53.402Z"
   },
   {
    "duration": 86,
    "start_time": "2022-03-26T12:24:53.441Z"
   },
   {
    "duration": 12,
    "start_time": "2022-03-26T12:24:53.528Z"
   },
   {
    "duration": 33,
    "start_time": "2022-03-26T12:24:53.542Z"
   },
   {
    "duration": 18,
    "start_time": "2022-03-26T12:24:53.577Z"
   },
   {
    "duration": 18,
    "start_time": "2022-03-26T12:24:53.597Z"
   },
   {
    "duration": 6,
    "start_time": "2022-03-26T12:24:53.617Z"
   },
   {
    "duration": 20,
    "start_time": "2022-03-26T12:24:53.625Z"
   },
   {
    "duration": 6,
    "start_time": "2022-03-26T12:24:53.647Z"
   },
   {
    "duration": 12,
    "start_time": "2022-03-26T12:24:53.654Z"
   },
   {
    "duration": 6,
    "start_time": "2022-03-26T12:24:53.668Z"
   },
   {
    "duration": 5,
    "start_time": "2022-03-26T12:24:53.676Z"
   },
   {
    "duration": 6,
    "start_time": "2022-03-26T12:24:53.683Z"
   },
   {
    "duration": 10,
    "start_time": "2022-03-26T12:24:53.690Z"
   },
   {
    "duration": 25,
    "start_time": "2022-03-26T12:24:53.704Z"
   },
   {
    "duration": 33,
    "start_time": "2022-03-26T12:24:53.732Z"
   },
   {
    "duration": 11,
    "start_time": "2022-03-26T12:24:53.767Z"
   },
   {
    "duration": 11,
    "start_time": "2022-03-26T12:24:53.780Z"
   },
   {
    "duration": 17,
    "start_time": "2022-03-26T12:24:53.793Z"
   },
   {
    "duration": 21,
    "start_time": "2022-03-26T12:24:53.812Z"
   },
   {
    "duration": 57,
    "start_time": "2022-03-26T12:24:53.835Z"
   },
   {
    "duration": 12,
    "start_time": "2022-03-26T12:24:53.893Z"
   },
   {
    "duration": 17,
    "start_time": "2022-03-26T12:24:53.907Z"
   },
   {
    "duration": 8,
    "start_time": "2022-03-26T12:24:54.784Z"
   },
   {
    "duration": 13,
    "start_time": "2022-03-26T12:24:54.794Z"
   },
   {
    "duration": 4,
    "start_time": "2022-03-26T12:24:54.809Z"
   },
   {
    "duration": 12,
    "start_time": "2022-03-26T12:24:54.815Z"
   },
   {
    "duration": 4,
    "start_time": "2022-03-26T12:24:54.829Z"
   },
   {
    "duration": 3,
    "start_time": "2022-03-26T12:24:55.260Z"
   },
   {
    "duration": 3,
    "start_time": "2022-03-26T12:24:55.269Z"
   },
   {
    "duration": 8,
    "start_time": "2022-03-26T12:24:55.274Z"
   },
   {
    "duration": 7,
    "start_time": "2022-03-26T12:24:55.284Z"
   },
   {
    "duration": 14,
    "start_time": "2022-03-26T12:24:55.293Z"
   },
   {
    "duration": 12,
    "start_time": "2022-03-26T12:24:55.309Z"
   },
   {
    "duration": 6,
    "start_time": "2022-03-26T12:24:55.351Z"
   },
   {
    "duration": 29,
    "start_time": "2022-03-26T12:24:55.359Z"
   },
   {
    "duration": 8,
    "start_time": "2022-03-26T12:24:55.390Z"
   },
   {
    "duration": 16,
    "start_time": "2022-03-26T12:24:55.400Z"
   },
   {
    "duration": 8,
    "start_time": "2022-03-26T12:24:55.419Z"
   },
   {
    "duration": 46,
    "start_time": "2022-03-26T12:24:55.429Z"
   },
   {
    "duration": 9,
    "start_time": "2022-03-26T12:24:55.477Z"
   },
   {
    "duration": 28,
    "start_time": "2022-03-26T12:24:55.487Z"
   },
   {
    "duration": 3,
    "start_time": "2022-03-26T12:24:56.668Z"
   },
   {
    "duration": 13,
    "start_time": "2022-03-26T12:24:56.672Z"
   },
   {
    "duration": 20,
    "start_time": "2022-03-26T12:24:56.687Z"
   },
   {
    "duration": 3,
    "start_time": "2022-03-26T12:24:56.709Z"
   },
   {
    "duration": 11,
    "start_time": "2022-03-26T12:24:56.714Z"
   },
   {
    "duration": 45,
    "start_time": "2022-03-26T12:24:56.727Z"
   },
   {
    "duration": 2,
    "start_time": "2022-03-26T12:24:56.774Z"
   },
   {
    "duration": 14,
    "start_time": "2022-03-26T12:24:56.778Z"
   },
   {
    "duration": 19,
    "start_time": "2022-03-26T12:24:56.793Z"
   },
   {
    "duration": 20,
    "start_time": "2022-03-26T12:24:56.815Z"
   },
   {
    "duration": 28,
    "start_time": "2022-03-26T12:24:56.836Z"
   },
   {
    "duration": 11,
    "start_time": "2022-03-26T12:24:56.865Z"
   },
   {
    "duration": 7,
    "start_time": "2022-03-26T12:24:56.878Z"
   },
   {
    "duration": 10,
    "start_time": "2022-03-26T12:24:56.886Z"
   },
   {
    "duration": 6,
    "start_time": "2022-03-26T12:24:56.897Z"
   },
   {
    "duration": 7,
    "start_time": "2022-03-26T12:24:56.905Z"
   },
   {
    "duration": 4,
    "start_time": "2022-03-26T12:24:56.914Z"
   },
   {
    "duration": 7,
    "start_time": "2022-03-26T12:24:56.920Z"
   },
   {
    "duration": 38,
    "start_time": "2022-03-26T12:24:56.929Z"
   },
   {
    "duration": 7,
    "start_time": "2022-03-26T12:24:56.969Z"
   },
   {
    "duration": 15,
    "start_time": "2022-03-26T12:24:56.977Z"
   },
   {
    "duration": 9,
    "start_time": "2022-03-26T12:24:56.994Z"
   },
   {
    "duration": 11,
    "start_time": "2022-03-26T12:24:57.004Z"
   },
   {
    "duration": 7,
    "start_time": "2022-03-26T12:24:59.142Z"
   },
   {
    "duration": 184,
    "start_time": "2022-03-26T12:25:24.907Z"
   },
   {
    "duration": 19,
    "start_time": "2022-03-26T12:25:25.718Z"
   },
   {
    "duration": 1160,
    "start_time": "2022-03-26T12:26:45.644Z"
   },
   {
    "duration": 363,
    "start_time": "2022-03-26T12:26:46.806Z"
   },
   {
    "duration": 26,
    "start_time": "2022-03-26T12:26:47.171Z"
   },
   {
    "duration": 11,
    "start_time": "2022-03-26T12:26:47.199Z"
   },
   {
    "duration": 19,
    "start_time": "2022-03-26T12:26:47.211Z"
   },
   {
    "duration": 8,
    "start_time": "2022-03-26T12:26:47.232Z"
   },
   {
    "duration": 20,
    "start_time": "2022-03-26T12:26:47.262Z"
   },
   {
    "duration": 7,
    "start_time": "2022-03-26T12:26:47.283Z"
   },
   {
    "duration": 12,
    "start_time": "2022-03-26T12:26:47.291Z"
   },
   {
    "duration": 6,
    "start_time": "2022-03-26T12:26:47.305Z"
   },
   {
    "duration": 12,
    "start_time": "2022-03-26T12:26:47.313Z"
   },
   {
    "duration": 38,
    "start_time": "2022-03-26T12:26:47.326Z"
   },
   {
    "duration": 7,
    "start_time": "2022-03-26T12:26:47.365Z"
   },
   {
    "duration": 36,
    "start_time": "2022-03-26T12:26:47.373Z"
   },
   {
    "duration": 92,
    "start_time": "2022-03-26T12:26:47.410Z"
   },
   {
    "duration": 10,
    "start_time": "2022-03-26T12:26:47.504Z"
   },
   {
    "duration": 21,
    "start_time": "2022-03-26T12:26:47.515Z"
   },
   {
    "duration": 2,
    "start_time": "2022-03-26T12:26:47.538Z"
   },
   {
    "duration": 21,
    "start_time": "2022-03-26T12:26:47.542Z"
   },
   {
    "duration": 6,
    "start_time": "2022-03-26T12:26:47.565Z"
   },
   {
    "duration": 4,
    "start_time": "2022-03-26T12:26:47.573Z"
   },
   {
    "duration": 4,
    "start_time": "2022-03-26T12:26:47.579Z"
   },
   {
    "duration": 6,
    "start_time": "2022-03-26T12:26:47.584Z"
   },
   {
    "duration": 8,
    "start_time": "2022-03-26T12:26:47.591Z"
   },
   {
    "duration": 7,
    "start_time": "2022-03-26T12:26:47.600Z"
   },
   {
    "duration": 5,
    "start_time": "2022-03-26T12:26:47.608Z"
   },
   {
    "duration": 6,
    "start_time": "2022-03-26T12:26:47.615Z"
   },
   {
    "duration": 46,
    "start_time": "2022-03-26T12:26:47.626Z"
   },
   {
    "duration": 22,
    "start_time": "2022-03-26T12:26:47.674Z"
   },
   {
    "duration": 17,
    "start_time": "2022-03-26T12:26:47.698Z"
   },
   {
    "duration": 10,
    "start_time": "2022-03-26T12:26:47.716Z"
   },
   {
    "duration": 36,
    "start_time": "2022-03-26T12:26:47.727Z"
   },
   {
    "duration": 19,
    "start_time": "2022-03-26T12:26:47.765Z"
   },
   {
    "duration": 31,
    "start_time": "2022-03-26T12:26:47.786Z"
   },
   {
    "duration": 11,
    "start_time": "2022-03-26T12:26:47.819Z"
   },
   {
    "duration": 35,
    "start_time": "2022-03-26T12:26:47.832Z"
   },
   {
    "duration": 7,
    "start_time": "2022-03-26T12:26:47.869Z"
   },
   {
    "duration": 17,
    "start_time": "2022-03-26T12:26:47.878Z"
   },
   {
    "duration": 5,
    "start_time": "2022-03-26T12:26:47.896Z"
   },
   {
    "duration": 7,
    "start_time": "2022-03-26T12:26:47.902Z"
   },
   {
    "duration": 5,
    "start_time": "2022-03-26T12:26:47.910Z"
   },
   {
    "duration": 10,
    "start_time": "2022-03-26T12:26:47.917Z"
   },
   {
    "duration": 7,
    "start_time": "2022-03-26T12:26:47.928Z"
   },
   {
    "duration": 11,
    "start_time": "2022-03-26T12:26:47.937Z"
   },
   {
    "duration": 13,
    "start_time": "2022-03-26T12:26:47.950Z"
   },
   {
    "duration": 23,
    "start_time": "2022-03-26T12:26:47.964Z"
   },
   {
    "duration": 15,
    "start_time": "2022-03-26T12:26:47.989Z"
   },
   {
    "duration": 8,
    "start_time": "2022-03-26T12:26:48.006Z"
   },
   {
    "duration": 23,
    "start_time": "2022-03-26T12:26:48.016Z"
   },
   {
    "duration": 8,
    "start_time": "2022-03-26T12:26:48.041Z"
   },
   {
    "duration": 26,
    "start_time": "2022-03-26T12:26:48.050Z"
   },
   {
    "duration": 8,
    "start_time": "2022-03-26T12:26:48.077Z"
   },
   {
    "duration": 19,
    "start_time": "2022-03-26T12:26:48.087Z"
   },
   {
    "duration": 9,
    "start_time": "2022-03-26T12:26:48.108Z"
   },
   {
    "duration": 46,
    "start_time": "2022-03-26T12:26:48.119Z"
   },
   {
    "duration": 4,
    "start_time": "2022-03-26T12:26:48.167Z"
   },
   {
    "duration": 11,
    "start_time": "2022-03-26T12:26:48.172Z"
   },
   {
    "duration": 19,
    "start_time": "2022-03-26T12:26:48.185Z"
   },
   {
    "duration": 3,
    "start_time": "2022-03-26T12:26:48.205Z"
   },
   {
    "duration": 14,
    "start_time": "2022-03-26T12:26:48.210Z"
   },
   {
    "duration": 36,
    "start_time": "2022-03-26T12:26:48.227Z"
   },
   {
    "duration": 3,
    "start_time": "2022-03-26T12:26:48.265Z"
   },
   {
    "duration": 12,
    "start_time": "2022-03-26T12:26:48.270Z"
   },
   {
    "duration": 24,
    "start_time": "2022-03-26T12:26:48.283Z"
   },
   {
    "duration": 18,
    "start_time": "2022-03-26T12:26:48.308Z"
   },
   {
    "duration": 7,
    "start_time": "2022-03-26T12:26:48.327Z"
   },
   {
    "duration": 38,
    "start_time": "2022-03-26T12:26:48.336Z"
   },
   {
    "duration": 9,
    "start_time": "2022-03-26T12:26:48.376Z"
   },
   {
    "duration": 5,
    "start_time": "2022-03-26T12:26:48.387Z"
   },
   {
    "duration": 6,
    "start_time": "2022-03-26T12:26:48.394Z"
   },
   {
    "duration": 7,
    "start_time": "2022-03-26T12:26:48.401Z"
   },
   {
    "duration": 5,
    "start_time": "2022-03-26T12:26:48.410Z"
   },
   {
    "duration": 9,
    "start_time": "2022-03-26T12:26:48.417Z"
   },
   {
    "duration": 18,
    "start_time": "2022-03-26T12:26:48.427Z"
   },
   {
    "duration": 7,
    "start_time": "2022-03-26T12:26:48.463Z"
   },
   {
    "duration": 21,
    "start_time": "2022-03-26T12:26:48.471Z"
   },
   {
    "duration": 7,
    "start_time": "2022-03-26T12:26:48.494Z"
   },
   {
    "duration": 5,
    "start_time": "2022-03-26T12:26:48.503Z"
   },
   {
    "duration": 7,
    "start_time": "2022-03-26T12:26:53.624Z"
   },
   {
    "duration": 191,
    "start_time": "2022-03-26T12:26:57.164Z"
   },
   {
    "duration": 21,
    "start_time": "2022-03-26T12:26:57.357Z"
   },
   {
    "duration": 142,
    "start_time": "2022-03-26T12:30:45.083Z"
   },
   {
    "duration": 135,
    "start_time": "2022-03-26T12:30:57.375Z"
   },
   {
    "duration": 183,
    "start_time": "2022-03-26T12:30:59.665Z"
   },
   {
    "duration": 17,
    "start_time": "2022-03-26T12:31:00.387Z"
   },
   {
    "duration": 1513,
    "start_time": "2022-03-26T12:31:45.211Z"
   },
   {
    "duration": 533,
    "start_time": "2022-03-26T12:31:46.726Z"
   },
   {
    "duration": 45,
    "start_time": "2022-03-26T12:31:47.261Z"
   },
   {
    "duration": 14,
    "start_time": "2022-03-26T12:31:47.309Z"
   },
   {
    "duration": 39,
    "start_time": "2022-03-26T12:31:47.325Z"
   },
   {
    "duration": 8,
    "start_time": "2022-03-26T12:31:47.365Z"
   },
   {
    "duration": 25,
    "start_time": "2022-03-26T12:31:47.375Z"
   },
   {
    "duration": 8,
    "start_time": "2022-03-26T12:31:47.401Z"
   },
   {
    "duration": 11,
    "start_time": "2022-03-26T12:31:47.410Z"
   },
   {
    "duration": 10,
    "start_time": "2022-03-26T12:31:47.424Z"
   },
   {
    "duration": 33,
    "start_time": "2022-03-26T12:31:47.435Z"
   },
   {
    "duration": 11,
    "start_time": "2022-03-26T12:31:47.470Z"
   },
   {
    "duration": 10,
    "start_time": "2022-03-26T12:31:47.484Z"
   },
   {
    "duration": 34,
    "start_time": "2022-03-26T12:31:47.495Z"
   },
   {
    "duration": 96,
    "start_time": "2022-03-26T12:31:47.530Z"
   },
   {
    "duration": 13,
    "start_time": "2022-03-26T12:31:47.627Z"
   },
   {
    "duration": 38,
    "start_time": "2022-03-26T12:31:47.642Z"
   },
   {
    "duration": 2,
    "start_time": "2022-03-26T12:31:47.682Z"
   },
   {
    "duration": 5,
    "start_time": "2022-03-26T12:31:47.686Z"
   },
   {
    "duration": 6,
    "start_time": "2022-03-26T12:31:47.692Z"
   },
   {
    "duration": 7,
    "start_time": "2022-03-26T12:31:47.699Z"
   },
   {
    "duration": 5,
    "start_time": "2022-03-26T12:31:47.707Z"
   },
   {
    "duration": 5,
    "start_time": "2022-03-26T12:31:47.713Z"
   },
   {
    "duration": 5,
    "start_time": "2022-03-26T12:31:47.719Z"
   },
   {
    "duration": 8,
    "start_time": "2022-03-26T12:31:47.726Z"
   },
   {
    "duration": 8,
    "start_time": "2022-03-26T12:31:47.735Z"
   },
   {
    "duration": 19,
    "start_time": "2022-03-26T12:31:47.744Z"
   },
   {
    "duration": 22,
    "start_time": "2022-03-26T12:31:47.767Z"
   },
   {
    "duration": 20,
    "start_time": "2022-03-26T12:31:47.791Z"
   },
   {
    "duration": 8,
    "start_time": "2022-03-26T12:31:47.813Z"
   },
   {
    "duration": 10,
    "start_time": "2022-03-26T12:31:47.823Z"
   },
   {
    "duration": 16,
    "start_time": "2022-03-26T12:31:47.863Z"
   },
   {
    "duration": 19,
    "start_time": "2022-03-26T12:31:47.880Z"
   },
   {
    "duration": 30,
    "start_time": "2022-03-26T12:31:47.900Z"
   },
   {
    "duration": 32,
    "start_time": "2022-03-26T12:31:47.932Z"
   },
   {
    "duration": 15,
    "start_time": "2022-03-26T12:31:47.966Z"
   },
   {
    "duration": 8,
    "start_time": "2022-03-26T12:31:47.982Z"
   },
   {
    "duration": 10,
    "start_time": "2022-03-26T12:31:47.991Z"
   },
   {
    "duration": 4,
    "start_time": "2022-03-26T12:31:48.003Z"
   },
   {
    "duration": 5,
    "start_time": "2022-03-26T12:31:48.008Z"
   },
   {
    "duration": 6,
    "start_time": "2022-03-26T12:31:48.014Z"
   },
   {
    "duration": 6,
    "start_time": "2022-03-26T12:31:48.021Z"
   },
   {
    "duration": 36,
    "start_time": "2022-03-26T12:31:48.028Z"
   },
   {
    "duration": 8,
    "start_time": "2022-03-26T12:31:48.066Z"
   },
   {
    "duration": 8,
    "start_time": "2022-03-26T12:31:48.076Z"
   },
   {
    "duration": 14,
    "start_time": "2022-03-26T12:31:48.086Z"
   },
   {
    "duration": 14,
    "start_time": "2022-03-26T12:31:48.101Z"
   },
   {
    "duration": 7,
    "start_time": "2022-03-26T12:31:48.116Z"
   },
   {
    "duration": 42,
    "start_time": "2022-03-26T12:31:48.125Z"
   },
   {
    "duration": 8,
    "start_time": "2022-03-26T12:31:48.169Z"
   },
   {
    "duration": 16,
    "start_time": "2022-03-26T12:31:48.179Z"
   },
   {
    "duration": 8,
    "start_time": "2022-03-26T12:31:48.196Z"
   },
   {
    "duration": 21,
    "start_time": "2022-03-26T12:31:48.206Z"
   },
   {
    "duration": 8,
    "start_time": "2022-03-26T12:31:48.229Z"
   },
   {
    "duration": 47,
    "start_time": "2022-03-26T12:31:48.239Z"
   },
   {
    "duration": 3,
    "start_time": "2022-03-26T12:31:48.287Z"
   },
   {
    "duration": 11,
    "start_time": "2022-03-26T12:31:48.292Z"
   },
   {
    "duration": 27,
    "start_time": "2022-03-26T12:31:48.304Z"
   },
   {
    "duration": 3,
    "start_time": "2022-03-26T12:31:48.333Z"
   },
   {
    "duration": 35,
    "start_time": "2022-03-26T12:31:48.338Z"
   },
   {
    "duration": 13,
    "start_time": "2022-03-26T12:31:48.375Z"
   },
   {
    "duration": 3,
    "start_time": "2022-03-26T12:31:48.390Z"
   },
   {
    "duration": 12,
    "start_time": "2022-03-26T12:31:48.394Z"
   },
   {
    "duration": 16,
    "start_time": "2022-03-26T12:31:48.408Z"
   },
   {
    "duration": 49,
    "start_time": "2022-03-26T12:31:48.425Z"
   },
   {
    "duration": 8,
    "start_time": "2022-03-26T12:31:48.476Z"
   },
   {
    "duration": 12,
    "start_time": "2022-03-26T12:31:48.485Z"
   },
   {
    "duration": 5,
    "start_time": "2022-03-26T12:31:48.499Z"
   },
   {
    "duration": 6,
    "start_time": "2022-03-26T12:31:48.506Z"
   },
   {
    "duration": 5,
    "start_time": "2022-03-26T12:31:48.513Z"
   },
   {
    "duration": 5,
    "start_time": "2022-03-26T12:31:48.520Z"
   },
   {
    "duration": 6,
    "start_time": "2022-03-26T12:31:48.527Z"
   },
   {
    "duration": 7,
    "start_time": "2022-03-26T12:31:48.562Z"
   },
   {
    "duration": 21,
    "start_time": "2022-03-26T12:31:48.570Z"
   },
   {
    "duration": 6,
    "start_time": "2022-03-26T12:31:48.593Z"
   },
   {
    "duration": 17,
    "start_time": "2022-03-26T12:31:48.600Z"
   },
   {
    "duration": 9,
    "start_time": "2022-03-26T12:31:48.619Z"
   },
   {
    "duration": 6,
    "start_time": "2022-03-26T12:31:48.629Z"
   },
   {
    "duration": 8,
    "start_time": "2022-03-26T12:31:51.810Z"
   },
   {
    "duration": 198,
    "start_time": "2022-03-26T12:31:57.004Z"
   },
   {
    "duration": 19,
    "start_time": "2022-03-26T12:31:57.657Z"
   },
   {
    "duration": 1203,
    "start_time": "2022-03-26T12:32:31.033Z"
   },
   {
    "duration": 377,
    "start_time": "2022-03-26T12:32:32.239Z"
   },
   {
    "duration": 25,
    "start_time": "2022-03-26T12:32:32.617Z"
   },
   {
    "duration": 10,
    "start_time": "2022-03-26T12:32:32.644Z"
   },
   {
    "duration": 20,
    "start_time": "2022-03-26T12:32:32.655Z"
   },
   {
    "duration": 7,
    "start_time": "2022-03-26T12:32:32.677Z"
   },
   {
    "duration": 19,
    "start_time": "2022-03-26T12:32:32.686Z"
   },
   {
    "duration": 6,
    "start_time": "2022-03-26T12:32:32.707Z"
   },
   {
    "duration": 14,
    "start_time": "2022-03-26T12:32:32.715Z"
   },
   {
    "duration": 35,
    "start_time": "2022-03-26T12:32:32.731Z"
   },
   {
    "duration": 12,
    "start_time": "2022-03-26T12:32:32.767Z"
   },
   {
    "duration": 16,
    "start_time": "2022-03-26T12:32:32.781Z"
   },
   {
    "duration": 10,
    "start_time": "2022-03-26T12:32:32.798Z"
   },
   {
    "duration": 35,
    "start_time": "2022-03-26T12:32:32.809Z"
   },
   {
    "duration": 71,
    "start_time": "2022-03-26T12:32:32.862Z"
   },
   {
    "duration": 16,
    "start_time": "2022-03-26T12:32:32.935Z"
   },
   {
    "duration": 29,
    "start_time": "2022-03-26T12:32:32.952Z"
   },
   {
    "duration": 2,
    "start_time": "2022-03-26T12:32:32.983Z"
   },
   {
    "duration": 6,
    "start_time": "2022-03-26T12:32:32.987Z"
   },
   {
    "duration": 7,
    "start_time": "2022-03-26T12:32:32.994Z"
   },
   {
    "duration": 6,
    "start_time": "2022-03-26T12:32:33.003Z"
   },
   {
    "duration": 7,
    "start_time": "2022-03-26T12:32:33.010Z"
   },
   {
    "duration": 5,
    "start_time": "2022-03-26T12:32:33.018Z"
   },
   {
    "duration": 6,
    "start_time": "2022-03-26T12:32:33.024Z"
   },
   {
    "duration": 6,
    "start_time": "2022-03-26T12:32:33.031Z"
   },
   {
    "duration": 5,
    "start_time": "2022-03-26T12:32:33.038Z"
   },
   {
    "duration": 7,
    "start_time": "2022-03-26T12:32:33.044Z"
   },
   {
    "duration": 29,
    "start_time": "2022-03-26T12:32:33.055Z"
   },
   {
    "duration": 24,
    "start_time": "2022-03-26T12:32:33.086Z"
   },
   {
    "duration": 14,
    "start_time": "2022-03-26T12:32:33.111Z"
   },
   {
    "duration": 9,
    "start_time": "2022-03-26T12:32:33.126Z"
   },
   {
    "duration": 43,
    "start_time": "2022-03-26T12:32:33.137Z"
   },
   {
    "duration": 20,
    "start_time": "2022-03-26T12:32:33.182Z"
   },
   {
    "duration": 31,
    "start_time": "2022-03-26T12:32:33.204Z"
   },
   {
    "duration": 8,
    "start_time": "2022-03-26T12:32:33.264Z"
   },
   {
    "duration": 21,
    "start_time": "2022-03-26T12:32:33.274Z"
   },
   {
    "duration": 7,
    "start_time": "2022-03-26T12:32:33.297Z"
   },
   {
    "duration": 20,
    "start_time": "2022-03-26T12:32:33.306Z"
   },
   {
    "duration": 5,
    "start_time": "2022-03-26T12:32:33.328Z"
   },
   {
    "duration": 10,
    "start_time": "2022-03-26T12:32:33.334Z"
   },
   {
    "duration": 17,
    "start_time": "2022-03-26T12:32:33.346Z"
   },
   {
    "duration": 9,
    "start_time": "2022-03-26T12:32:33.364Z"
   },
   {
    "duration": 4,
    "start_time": "2022-03-26T12:32:33.375Z"
   },
   {
    "duration": 7,
    "start_time": "2022-03-26T12:32:33.381Z"
   },
   {
    "duration": 11,
    "start_time": "2022-03-26T12:32:33.390Z"
   },
   {
    "duration": 18,
    "start_time": "2022-03-26T12:32:33.403Z"
   },
   {
    "duration": 12,
    "start_time": "2022-03-26T12:32:33.422Z"
   },
   {
    "duration": 10,
    "start_time": "2022-03-26T12:32:33.436Z"
   },
   {
    "duration": 31,
    "start_time": "2022-03-26T12:32:33.448Z"
   },
   {
    "duration": 9,
    "start_time": "2022-03-26T12:32:33.480Z"
   },
   {
    "duration": 17,
    "start_time": "2022-03-26T12:32:33.490Z"
   },
   {
    "duration": 8,
    "start_time": "2022-03-26T12:32:33.508Z"
   },
   {
    "duration": 18,
    "start_time": "2022-03-26T12:32:33.518Z"
   },
   {
    "duration": 31,
    "start_time": "2022-03-26T12:32:33.538Z"
   },
   {
    "duration": 28,
    "start_time": "2022-03-26T12:32:33.570Z"
   },
   {
    "duration": 2,
    "start_time": "2022-03-26T12:32:33.600Z"
   },
   {
    "duration": 12,
    "start_time": "2022-03-26T12:32:33.604Z"
   },
   {
    "duration": 19,
    "start_time": "2022-03-26T12:32:33.618Z"
   },
   {
    "duration": 24,
    "start_time": "2022-03-26T12:32:33.639Z"
   },
   {
    "duration": 12,
    "start_time": "2022-03-26T12:32:33.665Z"
   },
   {
    "duration": 15,
    "start_time": "2022-03-26T12:32:33.678Z"
   },
   {
    "duration": 3,
    "start_time": "2022-03-26T12:32:33.695Z"
   },
   {
    "duration": 14,
    "start_time": "2022-03-26T12:32:33.699Z"
   },
   {
    "duration": 48,
    "start_time": "2022-03-26T12:32:33.715Z"
   },
   {
    "duration": 21,
    "start_time": "2022-03-26T12:32:33.765Z"
   },
   {
    "duration": 9,
    "start_time": "2022-03-26T12:32:33.788Z"
   },
   {
    "duration": 12,
    "start_time": "2022-03-26T12:32:33.799Z"
   },
   {
    "duration": 7,
    "start_time": "2022-03-26T12:32:33.813Z"
   },
   {
    "duration": 8,
    "start_time": "2022-03-26T12:32:33.822Z"
   },
   {
    "duration": 31,
    "start_time": "2022-03-26T12:32:33.832Z"
   },
   {
    "duration": 6,
    "start_time": "2022-03-26T12:32:33.865Z"
   },
   {
    "duration": 5,
    "start_time": "2022-03-26T12:32:33.873Z"
   },
   {
    "duration": 8,
    "start_time": "2022-03-26T12:32:33.880Z"
   },
   {
    "duration": 18,
    "start_time": "2022-03-26T12:32:33.890Z"
   },
   {
    "duration": 7,
    "start_time": "2022-03-26T12:32:33.910Z"
   },
   {
    "duration": 50,
    "start_time": "2022-03-26T12:32:33.919Z"
   },
   {
    "duration": 8,
    "start_time": "2022-03-26T12:32:33.971Z"
   },
   {
    "duration": 6,
    "start_time": "2022-03-26T12:32:33.980Z"
   },
   {
    "duration": 7,
    "start_time": "2022-03-26T12:32:43.192Z"
   },
   {
    "duration": 193,
    "start_time": "2022-03-26T12:32:47.207Z"
   },
   {
    "duration": 18,
    "start_time": "2022-03-26T12:32:47.823Z"
   },
   {
    "duration": 6,
    "start_time": "2022-03-26T12:32:57.609Z"
   },
   {
    "duration": 17,
    "start_time": "2022-03-26T12:32:57.617Z"
   },
   {
    "duration": 5,
    "start_time": "2022-03-26T12:32:57.635Z"
   },
   {
    "duration": 6,
    "start_time": "2022-03-26T12:32:57.642Z"
   },
   {
    "duration": 8,
    "start_time": "2022-03-26T12:32:57.650Z"
   },
   {
    "duration": 13,
    "start_time": "2022-03-26T12:32:57.904Z"
   },
   {
    "duration": 5,
    "start_time": "2022-03-26T12:32:58.217Z"
   },
   {
    "duration": 9,
    "start_time": "2022-03-26T12:32:58.586Z"
   },
   {
    "duration": 5,
    "start_time": "2022-03-26T12:32:59.242Z"
   },
   {
    "duration": 14,
    "start_time": "2022-03-26T12:32:59.817Z"
   },
   {
    "duration": 5,
    "start_time": "2022-03-26T12:33:00.282Z"
   },
   {
    "duration": 9,
    "start_time": "2022-03-26T12:33:01.199Z"
   },
   {
    "duration": 6,
    "start_time": "2022-03-26T12:33:02.876Z"
   },
   {
    "duration": 20,
    "start_time": "2022-03-26T12:33:03.325Z"
   },
   {
    "duration": 7,
    "start_time": "2022-03-26T12:33:04.428Z"
   },
   {
    "duration": 7,
    "start_time": "2022-03-26T12:33:05.680Z"
   },
   {
    "duration": 7,
    "start_time": "2022-03-26T12:33:06.108Z"
   },
   {
    "duration": 13,
    "start_time": "2022-03-26T12:33:07.652Z"
   },
   {
    "duration": 4,
    "start_time": "2022-03-26T12:33:08.310Z"
   },
   {
    "duration": 9,
    "start_time": "2022-03-26T12:33:09.448Z"
   },
   {
    "duration": 4,
    "start_time": "2022-03-26T12:33:10.274Z"
   },
   {
    "duration": 17,
    "start_time": "2022-03-26T12:33:11.065Z"
   },
   {
    "duration": 4,
    "start_time": "2022-03-26T12:33:11.418Z"
   },
   {
    "duration": 9,
    "start_time": "2022-03-26T12:33:11.763Z"
   },
   {
    "duration": 3,
    "start_time": "2022-03-26T12:33:13.150Z"
   },
   {
    "duration": 3,
    "start_time": "2022-03-26T12:33:13.571Z"
   },
   {
    "duration": 3,
    "start_time": "2022-03-26T12:33:14.420Z"
   },
   {
    "duration": 3,
    "start_time": "2022-03-26T12:33:14.814Z"
   },
   {
    "duration": 2,
    "start_time": "2022-03-26T12:33:15.507Z"
   },
   {
    "duration": 3,
    "start_time": "2022-03-26T12:33:15.862Z"
   },
   {
    "duration": 8,
    "start_time": "2022-03-26T12:33:23.298Z"
   },
   {
    "duration": 7,
    "start_time": "2022-03-26T12:33:23.929Z"
   },
   {
    "duration": 25,
    "start_time": "2022-03-26T12:33:26.009Z"
   },
   {
    "duration": 26,
    "start_time": "2022-03-26T12:33:26.463Z"
   },
   {
    "duration": 7,
    "start_time": "2022-03-26T12:33:27.467Z"
   },
   {
    "duration": 7,
    "start_time": "2022-03-26T12:33:27.969Z"
   },
   {
    "duration": 229,
    "start_time": "2022-03-26T12:36:00.322Z"
   },
   {
    "duration": 179,
    "start_time": "2022-03-26T12:37:07.410Z"
   },
   {
    "duration": 166,
    "start_time": "2022-03-26T12:40:17.934Z"
   },
   {
    "duration": 175,
    "start_time": "2022-03-26T12:40:28.675Z"
   },
   {
    "duration": 173,
    "start_time": "2022-03-26T12:40:40.728Z"
   },
   {
    "duration": 276,
    "start_time": "2022-03-26T12:40:45.809Z"
   },
   {
    "duration": 335,
    "start_time": "2022-03-26T12:40:47.724Z"
   },
   {
    "duration": 255,
    "start_time": "2022-03-26T12:40:48.507Z"
   },
   {
    "duration": 455,
    "start_time": "2022-03-26T12:40:53.258Z"
   },
   {
    "duration": 7,
    "start_time": "2022-03-26T12:41:47.679Z"
   },
   {
    "duration": 2,
    "start_time": "2022-03-26T12:42:48.298Z"
   },
   {
    "duration": 9,
    "start_time": "2022-03-26T12:42:48.529Z"
   },
   {
    "duration": 3,
    "start_time": "2022-03-26T12:42:48.876Z"
   },
   {
    "duration": 8,
    "start_time": "2022-03-26T12:42:55.209Z"
   },
   {
    "duration": 1695,
    "start_time": "2022-03-26T20:38:30.723Z"
   },
   {
    "duration": 479,
    "start_time": "2022-03-26T20:38:32.421Z"
   },
   {
    "duration": 35,
    "start_time": "2022-03-26T20:38:32.903Z"
   },
   {
    "duration": 16,
    "start_time": "2022-03-26T20:38:32.941Z"
   },
   {
    "duration": 27,
    "start_time": "2022-03-26T20:38:32.967Z"
   },
   {
    "duration": 12,
    "start_time": "2022-03-26T20:38:32.997Z"
   },
   {
    "duration": 27,
    "start_time": "2022-03-26T20:38:33.011Z"
   },
   {
    "duration": 35,
    "start_time": "2022-03-26T20:38:33.040Z"
   },
   {
    "duration": 15,
    "start_time": "2022-03-26T20:38:33.078Z"
   },
   {
    "duration": 11,
    "start_time": "2022-03-26T20:38:33.097Z"
   },
   {
    "duration": 16,
    "start_time": "2022-03-26T20:38:33.110Z"
   },
   {
    "duration": 51,
    "start_time": "2022-03-26T20:38:33.128Z"
   },
   {
    "duration": 9,
    "start_time": "2022-03-26T20:38:33.181Z"
   },
   {
    "duration": 81,
    "start_time": "2022-03-26T20:38:33.192Z"
   },
   {
    "duration": 92,
    "start_time": "2022-03-26T20:38:33.275Z"
   },
   {
    "duration": 12,
    "start_time": "2022-03-26T20:38:33.369Z"
   },
   {
    "duration": 28,
    "start_time": "2022-03-26T20:38:33.383Z"
   },
   {
    "duration": 3,
    "start_time": "2022-03-26T20:38:33.413Z"
   },
   {
    "duration": 8,
    "start_time": "2022-03-26T20:38:33.419Z"
   },
   {
    "duration": 6,
    "start_time": "2022-03-26T20:38:33.429Z"
   },
   {
    "duration": 3,
    "start_time": "2022-03-26T20:38:33.467Z"
   },
   {
    "duration": 7,
    "start_time": "2022-03-26T20:38:33.473Z"
   },
   {
    "duration": 7,
    "start_time": "2022-03-26T20:38:33.482Z"
   },
   {
    "duration": 4,
    "start_time": "2022-03-26T20:38:33.492Z"
   },
   {
    "duration": 5,
    "start_time": "2022-03-26T20:38:33.499Z"
   },
   {
    "duration": 5,
    "start_time": "2022-03-26T20:38:33.506Z"
   },
   {
    "duration": 4,
    "start_time": "2022-03-26T20:41:24.451Z"
   },
   {
    "duration": 36,
    "start_time": "2022-03-26T20:41:25.579Z"
   },
   {
    "duration": 25,
    "start_time": "2022-03-26T20:41:45.307Z"
   },
   {
    "duration": 11,
    "start_time": "2022-03-26T20:41:46.291Z"
   },
   {
    "duration": 12,
    "start_time": "2022-03-26T20:41:47.067Z"
   },
   {
    "duration": 24,
    "start_time": "2022-03-26T20:41:50.635Z"
   },
   {
    "duration": 5,
    "start_time": "2022-03-26T20:42:17.088Z"
   },
   {
    "duration": 526,
    "start_time": "2022-03-26T20:42:17.096Z"
   },
   {
    "duration": 32,
    "start_time": "2022-03-26T20:42:17.625Z"
   },
   {
    "duration": 11,
    "start_time": "2022-03-26T20:42:17.660Z"
   },
   {
    "duration": 27,
    "start_time": "2022-03-26T20:42:17.674Z"
   },
   {
    "duration": 13,
    "start_time": "2022-03-26T20:42:17.703Z"
   },
   {
    "duration": 63,
    "start_time": "2022-03-26T20:42:17.718Z"
   },
   {
    "duration": 12,
    "start_time": "2022-03-26T20:42:17.783Z"
   },
   {
    "duration": 15,
    "start_time": "2022-03-26T20:42:17.797Z"
   },
   {
    "duration": 12,
    "start_time": "2022-03-26T20:42:17.815Z"
   },
   {
    "duration": 48,
    "start_time": "2022-03-26T20:42:17.831Z"
   },
   {
    "duration": 16,
    "start_time": "2022-03-26T20:42:17.881Z"
   },
   {
    "duration": 5,
    "start_time": "2022-03-26T20:42:17.900Z"
   },
   {
    "duration": 75,
    "start_time": "2022-03-26T20:42:17.907Z"
   },
   {
    "duration": 83,
    "start_time": "2022-03-26T20:42:17.984Z"
   },
   {
    "duration": 11,
    "start_time": "2022-03-26T20:42:18.070Z"
   },
   {
    "duration": 27,
    "start_time": "2022-03-26T20:42:18.083Z"
   },
   {
    "duration": 3,
    "start_time": "2022-03-26T20:42:18.112Z"
   },
   {
    "duration": 9,
    "start_time": "2022-03-26T20:42:18.117Z"
   },
   {
    "duration": 40,
    "start_time": "2022-03-26T20:42:18.128Z"
   },
   {
    "duration": 4,
    "start_time": "2022-03-26T20:42:18.170Z"
   },
   {
    "duration": 11,
    "start_time": "2022-03-26T20:42:18.176Z"
   },
   {
    "duration": 5,
    "start_time": "2022-03-26T20:42:18.189Z"
   },
   {
    "duration": 5,
    "start_time": "2022-03-26T20:42:18.196Z"
   },
   {
    "duration": 5,
    "start_time": "2022-03-26T20:42:18.203Z"
   },
   {
    "duration": 6,
    "start_time": "2022-03-26T20:42:18.210Z"
   },
   {
    "duration": 5,
    "start_time": "2022-03-26T20:42:18.218Z"
   },
   {
    "duration": 70,
    "start_time": "2022-03-26T20:42:18.225Z"
   },
   {
    "duration": 26,
    "start_time": "2022-03-26T20:42:18.301Z"
   },
   {
    "duration": 10,
    "start_time": "2022-03-26T20:42:18.329Z"
   },
   {
    "duration": 37,
    "start_time": "2022-03-26T20:42:18.341Z"
   },
   {
    "duration": 26,
    "start_time": "2022-03-26T20:42:18.380Z"
   },
   {
    "duration": 29,
    "start_time": "2022-03-26T20:42:18.409Z"
   },
   {
    "duration": 61,
    "start_time": "2022-03-26T20:42:18.440Z"
   },
   {
    "duration": 11,
    "start_time": "2022-03-26T20:42:18.504Z"
   },
   {
    "duration": 20,
    "start_time": "2022-03-26T20:42:18.517Z"
   },
   {
    "duration": 37,
    "start_time": "2022-03-26T20:42:18.539Z"
   },
   {
    "duration": 16,
    "start_time": "2022-03-26T20:42:18.578Z"
   },
   {
    "duration": 4,
    "start_time": "2022-03-26T20:42:18.597Z"
   },
   {
    "duration": 7,
    "start_time": "2022-03-26T20:42:18.604Z"
   },
   {
    "duration": 7,
    "start_time": "2022-03-26T20:42:18.613Z"
   },
   {
    "duration": 48,
    "start_time": "2022-03-26T20:42:18.622Z"
   },
   {
    "duration": 5,
    "start_time": "2022-03-26T20:42:18.673Z"
   },
   {
    "duration": 11,
    "start_time": "2022-03-26T20:42:18.680Z"
   },
   {
    "duration": 8,
    "start_time": "2022-03-26T20:42:18.693Z"
   },
   {
    "duration": 17,
    "start_time": "2022-03-26T20:42:18.703Z"
   },
   {
    "duration": 48,
    "start_time": "2022-03-26T20:42:18.722Z"
   },
   {
    "duration": 10,
    "start_time": "2022-03-26T20:42:18.772Z"
   },
   {
    "duration": 31,
    "start_time": "2022-03-26T20:42:18.784Z"
   },
   {
    "duration": 11,
    "start_time": "2022-03-26T20:42:18.817Z"
   },
   {
    "duration": 48,
    "start_time": "2022-03-26T20:42:18.831Z"
   },
   {
    "duration": 11,
    "start_time": "2022-03-26T20:42:18.881Z"
   },
   {
    "duration": 24,
    "start_time": "2022-03-26T20:42:18.894Z"
   },
   {
    "duration": 10,
    "start_time": "2022-03-26T20:42:18.921Z"
   },
   {
    "duration": 61,
    "start_time": "2022-03-26T20:42:18.933Z"
   },
   {
    "duration": 3,
    "start_time": "2022-03-26T20:42:18.997Z"
   },
   {
    "duration": 17,
    "start_time": "2022-03-26T20:42:19.002Z"
   },
   {
    "duration": 50,
    "start_time": "2022-03-26T20:42:19.021Z"
   },
   {
    "duration": 4,
    "start_time": "2022-03-26T20:42:19.073Z"
   },
   {
    "duration": 4,
    "start_time": "2022-03-26T20:42:31.483Z"
   },
   {
    "duration": 14,
    "start_time": "2022-03-26T20:42:32.018Z"
   },
   {
    "duration": 19,
    "start_time": "2022-03-26T20:42:35.948Z"
   },
   {
    "duration": 4,
    "start_time": "2022-03-26T20:42:36.570Z"
   },
   {
    "duration": 14,
    "start_time": "2022-03-26T20:42:37.290Z"
   },
   {
    "duration": 26,
    "start_time": "2022-03-26T20:43:05.026Z"
   },
   {
    "duration": 33,
    "start_time": "2022-03-26T20:43:05.705Z"
   },
   {
    "duration": 14,
    "start_time": "2022-03-26T20:43:19.977Z"
   },
   {
    "duration": 19,
    "start_time": "2022-03-26T20:43:22.355Z"
   },
   {
    "duration": 5,
    "start_time": "2022-03-26T20:53:45.714Z"
   },
   {
    "duration": 536,
    "start_time": "2022-03-26T20:53:45.722Z"
   },
   {
    "duration": 33,
    "start_time": "2022-03-26T20:53:46.261Z"
   },
   {
    "duration": 13,
    "start_time": "2022-03-26T20:53:46.297Z"
   },
   {
    "duration": 65,
    "start_time": "2022-03-26T20:53:46.314Z"
   },
   {
    "duration": 14,
    "start_time": "2022-03-26T20:53:46.382Z"
   },
   {
    "duration": 29,
    "start_time": "2022-03-26T20:53:46.398Z"
   },
   {
    "duration": 44,
    "start_time": "2022-03-26T20:53:46.429Z"
   },
   {
    "duration": 19,
    "start_time": "2022-03-26T20:53:46.476Z"
   },
   {
    "duration": 15,
    "start_time": "2022-03-26T20:53:46.498Z"
   },
   {
    "duration": 54,
    "start_time": "2022-03-26T20:53:46.517Z"
   },
   {
    "duration": 18,
    "start_time": "2022-03-26T20:53:46.574Z"
   },
   {
    "duration": 7,
    "start_time": "2022-03-26T20:53:46.594Z"
   },
   {
    "duration": 70,
    "start_time": "2022-03-26T20:53:46.603Z"
   },
   {
    "duration": 102,
    "start_time": "2022-03-26T20:53:46.675Z"
   },
   {
    "duration": 13,
    "start_time": "2022-03-26T20:53:46.779Z"
   },
   {
    "duration": 27,
    "start_time": "2022-03-26T20:53:46.795Z"
   },
   {
    "duration": 3,
    "start_time": "2022-03-26T20:53:46.825Z"
   },
   {
    "duration": 38,
    "start_time": "2022-03-26T20:53:46.831Z"
   },
   {
    "duration": 5,
    "start_time": "2022-03-26T20:53:46.871Z"
   },
   {
    "duration": 5,
    "start_time": "2022-03-26T20:53:46.878Z"
   },
   {
    "duration": 7,
    "start_time": "2022-03-26T20:53:46.885Z"
   },
   {
    "duration": 7,
    "start_time": "2022-03-26T20:53:46.894Z"
   },
   {
    "duration": 6,
    "start_time": "2022-03-26T20:53:46.904Z"
   },
   {
    "duration": 6,
    "start_time": "2022-03-26T20:53:46.912Z"
   },
   {
    "duration": 7,
    "start_time": "2022-03-26T20:53:46.920Z"
   },
   {
    "duration": 39,
    "start_time": "2022-03-26T20:53:46.929Z"
   },
   {
    "duration": 37,
    "start_time": "2022-03-26T20:53:46.970Z"
   },
   {
    "duration": 27,
    "start_time": "2022-03-26T20:53:47.014Z"
   },
   {
    "duration": 32,
    "start_time": "2022-03-26T20:53:47.043Z"
   },
   {
    "duration": 19,
    "start_time": "2022-03-26T20:53:47.077Z"
   },
   {
    "duration": 22,
    "start_time": "2022-03-26T20:53:47.099Z"
   },
   {
    "duration": 59,
    "start_time": "2022-03-26T20:53:47.123Z"
   },
   {
    "duration": 36,
    "start_time": "2022-03-26T20:53:47.184Z"
   },
   {
    "duration": 12,
    "start_time": "2022-03-26T20:53:47.223Z"
   },
   {
    "duration": 45,
    "start_time": "2022-03-26T20:53:47.237Z"
   },
   {
    "duration": 15,
    "start_time": "2022-03-26T20:53:47.285Z"
   },
   {
    "duration": 26,
    "start_time": "2022-03-26T20:53:47.302Z"
   },
   {
    "duration": 9,
    "start_time": "2022-03-26T20:53:47.330Z"
   },
   {
    "duration": 32,
    "start_time": "2022-03-26T20:53:47.341Z"
   },
   {
    "duration": 3,
    "start_time": "2022-03-26T20:53:47.375Z"
   },
   {
    "duration": 24,
    "start_time": "2022-03-26T20:53:47.380Z"
   },
   {
    "duration": 16,
    "start_time": "2022-03-26T20:53:47.406Z"
   },
   {
    "duration": 23,
    "start_time": "2022-03-26T20:53:47.424Z"
   },
   {
    "duration": 20,
    "start_time": "2022-03-26T20:53:47.449Z"
   },
   {
    "duration": 36,
    "start_time": "2022-03-26T20:53:47.471Z"
   },
   {
    "duration": 33,
    "start_time": "2022-03-26T20:53:47.510Z"
   },
   {
    "duration": 17,
    "start_time": "2022-03-26T20:53:47.546Z"
   },
   {
    "duration": 37,
    "start_time": "2022-03-26T20:53:47.566Z"
   },
   {
    "duration": 15,
    "start_time": "2022-03-26T20:53:47.606Z"
   },
   {
    "duration": 26,
    "start_time": "2022-03-26T20:53:47.624Z"
   },
   {
    "duration": 15,
    "start_time": "2022-03-26T20:53:47.667Z"
   },
   {
    "duration": 26,
    "start_time": "2022-03-26T20:53:47.684Z"
   },
   {
    "duration": 12,
    "start_time": "2022-03-26T20:53:47.712Z"
   },
   {
    "duration": 67,
    "start_time": "2022-03-26T20:53:47.727Z"
   },
   {
    "duration": 5,
    "start_time": "2022-03-26T20:53:47.796Z"
   },
   {
    "duration": 16,
    "start_time": "2022-03-26T20:53:47.803Z"
   },
   {
    "duration": 51,
    "start_time": "2022-03-26T20:53:47.821Z"
   },
   {
    "duration": 4,
    "start_time": "2022-03-26T20:53:47.874Z"
   },
   {
    "duration": 17,
    "start_time": "2022-03-26T20:53:47.880Z"
   },
   {
    "duration": 18,
    "start_time": "2022-03-26T20:53:47.900Z"
   },
   {
    "duration": 4,
    "start_time": "2022-03-26T20:53:47.920Z"
   },
   {
    "duration": 47,
    "start_time": "2022-03-26T20:53:47.926Z"
   },
   {
    "duration": 26,
    "start_time": "2022-03-26T20:53:47.976Z"
   },
   {
    "duration": 34,
    "start_time": "2022-03-26T20:53:48.004Z"
   },
   {
    "duration": 14,
    "start_time": "2022-03-26T20:53:48.068Z"
   },
   {
    "duration": 20,
    "start_time": "2022-03-26T20:53:48.085Z"
   },
   {
    "duration": 7,
    "start_time": "2022-03-26T20:53:48.107Z"
   },
   {
    "duration": 5,
    "start_time": "2022-03-26T20:53:48.117Z"
   },
   {
    "duration": 44,
    "start_time": "2022-03-26T20:53:48.124Z"
   },
   {
    "duration": 5,
    "start_time": "2022-03-26T20:53:48.171Z"
   },
   {
    "duration": 13,
    "start_time": "2022-03-26T20:53:48.178Z"
   },
   {
    "duration": 22,
    "start_time": "2022-03-26T20:53:48.193Z"
   },
   {
    "duration": 52,
    "start_time": "2022-03-26T20:53:48.217Z"
   },
   {
    "duration": 12,
    "start_time": "2022-03-26T20:53:48.272Z"
   },
   {
    "duration": 26,
    "start_time": "2022-03-26T20:53:48.287Z"
   },
   {
    "duration": 10,
    "start_time": "2022-03-26T20:53:54.580Z"
   },
   {
    "duration": 358,
    "start_time": "2022-03-26T20:54:05.419Z"
   },
   {
    "duration": 32,
    "start_time": "2022-03-26T20:54:07.171Z"
   },
   {
    "duration": 12,
    "start_time": "2022-03-26T21:01:04.726Z"
   },
   {
    "duration": 11,
    "start_time": "2022-03-26T21:01:11.382Z"
   },
   {
    "duration": 403,
    "start_time": "2022-03-26T21:01:16.350Z"
   },
   {
    "duration": 30,
    "start_time": "2022-03-26T21:01:16.935Z"
   },
   {
    "duration": 17,
    "start_time": "2022-03-26T21:02:14.189Z"
   },
   {
    "duration": 381,
    "start_time": "2022-03-26T21:02:18.629Z"
   },
   {
    "duration": 30,
    "start_time": "2022-03-26T21:02:19.910Z"
   },
   {
    "duration": 12,
    "start_time": "2022-03-26T21:09:11.702Z"
   },
   {
    "duration": 476,
    "start_time": "2022-03-26T21:23:23.943Z"
   },
   {
    "duration": 30,
    "start_time": "2022-03-26T21:23:24.640Z"
   },
   {
    "duration": 10,
    "start_time": "2022-03-26T21:25:33.405Z"
   },
   {
    "duration": 29,
    "start_time": "2022-03-26T21:25:34.364Z"
   },
   {
    "duration": 9,
    "start_time": "2022-03-26T21:25:38.796Z"
   },
   {
    "duration": 9,
    "start_time": "2022-03-26T21:25:50.125Z"
   },
   {
    "duration": 11,
    "start_time": "2022-03-26T21:25:51.212Z"
   },
   {
    "duration": 19,
    "start_time": "2022-03-26T21:25:56.341Z"
   },
   {
    "duration": 6,
    "start_time": "2022-03-26T21:25:57.845Z"
   },
   {
    "duration": 15,
    "start_time": "2022-03-26T21:25:59.115Z"
   },
   {
    "duration": 6,
    "start_time": "2022-03-26T21:26:07.007Z"
   },
   {
    "duration": 20,
    "start_time": "2022-03-26T21:26:18.365Z"
   },
   {
    "duration": 6,
    "start_time": "2022-03-26T21:26:20.719Z"
   },
   {
    "duration": 13,
    "start_time": "2022-03-26T21:26:21.612Z"
   },
   {
    "duration": 7,
    "start_time": "2022-03-26T21:26:49.332Z"
   },
   {
    "duration": 29,
    "start_time": "2022-03-26T21:26:49.899Z"
   },
   {
    "duration": 8,
    "start_time": "2022-03-26T21:27:11.140Z"
   },
   {
    "duration": 10,
    "start_time": "2022-03-26T21:27:13.444Z"
   },
   {
    "duration": 10,
    "start_time": "2022-03-26T21:27:14.427Z"
   },
   {
    "duration": 19,
    "start_time": "2022-03-26T21:27:22.244Z"
   },
   {
    "duration": 6,
    "start_time": "2022-03-26T21:27:23.484Z"
   },
   {
    "duration": 13,
    "start_time": "2022-03-26T21:27:24.123Z"
   },
   {
    "duration": 6,
    "start_time": "2022-03-26T21:27:35.452Z"
   },
   {
    "duration": 22,
    "start_time": "2022-03-26T21:28:23.987Z"
   },
   {
    "duration": 7,
    "start_time": "2022-03-26T21:28:24.630Z"
   },
   {
    "duration": 13,
    "start_time": "2022-03-26T21:28:25.187Z"
   },
   {
    "duration": 11,
    "start_time": "2022-03-26T21:28:59.634Z"
   },
   {
    "duration": 13,
    "start_time": "2022-03-26T21:29:02.354Z"
   },
   {
    "duration": 40,
    "start_time": "2022-03-26T21:29:04.738Z"
   },
   {
    "duration": 39,
    "start_time": "2022-03-26T21:29:06.939Z"
   },
   {
    "duration": 11,
    "start_time": "2022-03-26T21:29:09.226Z"
   },
   {
    "duration": 10,
    "start_time": "2022-03-26T21:29:11.218Z"
   },
   {
    "duration": 471,
    "start_time": "2022-03-26T21:29:14.402Z"
   },
   {
    "duration": 307,
    "start_time": "2022-03-26T21:29:27.354Z"
   },
   {
    "duration": 339,
    "start_time": "2022-03-26T21:29:39.723Z"
   },
   {
    "duration": 319,
    "start_time": "2022-03-26T21:30:18.851Z"
   },
   {
    "duration": 320,
    "start_time": "2022-03-26T21:30:32.122Z"
   },
   {
    "duration": 291,
    "start_time": "2022-03-26T21:30:48.586Z"
   },
   {
    "duration": 324,
    "start_time": "2022-03-26T21:31:06.873Z"
   },
   {
    "duration": 399,
    "start_time": "2022-03-26T21:31:35.897Z"
   },
   {
    "duration": 455,
    "start_time": "2022-03-26T21:31:44.065Z"
   },
   {
    "duration": 423,
    "start_time": "2022-03-26T21:31:52.632Z"
   },
   {
    "duration": 429,
    "start_time": "2022-03-26T21:31:56.488Z"
   },
   {
    "duration": 441,
    "start_time": "2022-03-26T21:31:59.168Z"
   },
   {
    "duration": 11,
    "start_time": "2022-03-26T21:32:34.624Z"
   },
   {
    "duration": 12,
    "start_time": "2022-03-26T21:33:47.432Z"
   },
   {
    "duration": 13,
    "start_time": "2022-03-26T21:33:51.823Z"
   },
   {
    "duration": 1457,
    "start_time": "2022-03-26T21:38:17.557Z"
   },
   {
    "duration": 488,
    "start_time": "2022-03-26T21:38:19.017Z"
   },
   {
    "duration": 37,
    "start_time": "2022-03-26T21:38:19.507Z"
   },
   {
    "duration": 23,
    "start_time": "2022-03-26T21:38:19.546Z"
   },
   {
    "duration": 30,
    "start_time": "2022-03-26T21:38:19.571Z"
   },
   {
    "duration": 13,
    "start_time": "2022-03-26T21:38:19.603Z"
   },
   {
    "duration": 64,
    "start_time": "2022-03-26T21:38:19.619Z"
   },
   {
    "duration": 15,
    "start_time": "2022-03-26T21:38:19.686Z"
   },
   {
    "duration": 22,
    "start_time": "2022-03-26T21:38:19.704Z"
   },
   {
    "duration": 11,
    "start_time": "2022-03-26T21:38:19.768Z"
   },
   {
    "duration": 16,
    "start_time": "2022-03-26T21:38:19.781Z"
   },
   {
    "duration": 16,
    "start_time": "2022-03-26T21:38:19.799Z"
   },
   {
    "duration": 7,
    "start_time": "2022-03-26T21:38:19.817Z"
   },
   {
    "duration": 50,
    "start_time": "2022-03-26T21:38:19.868Z"
   },
   {
    "duration": 95,
    "start_time": "2022-03-26T21:38:19.921Z"
   },
   {
    "duration": 18,
    "start_time": "2022-03-26T21:38:20.018Z"
   },
   {
    "duration": 44,
    "start_time": "2022-03-26T21:38:20.038Z"
   },
   {
    "duration": 3,
    "start_time": "2022-03-26T21:38:20.084Z"
   },
   {
    "duration": 5,
    "start_time": "2022-03-26T21:38:20.089Z"
   },
   {
    "duration": 4,
    "start_time": "2022-03-26T21:38:20.096Z"
   },
   {
    "duration": 5,
    "start_time": "2022-03-26T21:38:20.102Z"
   },
   {
    "duration": 6,
    "start_time": "2022-03-26T21:38:20.109Z"
   },
   {
    "duration": 52,
    "start_time": "2022-03-26T21:38:20.117Z"
   },
   {
    "duration": 7,
    "start_time": "2022-03-26T21:38:20.172Z"
   },
   {
    "duration": 7,
    "start_time": "2022-03-26T21:38:20.181Z"
   },
   {
    "duration": 5,
    "start_time": "2022-03-26T21:38:20.190Z"
   },
   {
    "duration": 6,
    "start_time": "2022-03-26T21:38:20.197Z"
   },
   {
    "duration": 74,
    "start_time": "2022-03-26T21:38:20.210Z"
   },
   {
    "duration": 26,
    "start_time": "2022-03-26T21:38:20.286Z"
   },
   {
    "duration": 15,
    "start_time": "2022-03-26T21:38:20.315Z"
   },
   {
    "duration": 42,
    "start_time": "2022-03-26T21:38:20.332Z"
   },
   {
    "duration": 24,
    "start_time": "2022-03-26T21:38:20.377Z"
   },
   {
    "duration": 30,
    "start_time": "2022-03-26T21:38:20.403Z"
   },
   {
    "duration": 40,
    "start_time": "2022-03-26T21:38:20.467Z"
   },
   {
    "duration": 12,
    "start_time": "2022-03-26T21:38:20.510Z"
   },
   {
    "duration": 58,
    "start_time": "2022-03-26T21:38:20.525Z"
   },
   {
    "duration": 18,
    "start_time": "2022-03-26T21:38:20.586Z"
   },
   {
    "duration": 17,
    "start_time": "2022-03-26T21:38:20.607Z"
   },
   {
    "duration": 7,
    "start_time": "2022-03-26T21:38:20.627Z"
   },
   {
    "duration": 4,
    "start_time": "2022-03-26T21:38:20.669Z"
   },
   {
    "duration": 5,
    "start_time": "2022-03-26T21:38:20.675Z"
   },
   {
    "duration": 6,
    "start_time": "2022-03-26T21:38:20.683Z"
   },
   {
    "duration": 5,
    "start_time": "2022-03-26T21:38:20.691Z"
   },
   {
    "duration": 8,
    "start_time": "2022-03-26T21:38:20.700Z"
   },
   {
    "duration": 7,
    "start_time": "2022-03-26T21:38:20.711Z"
   },
   {
    "duration": 57,
    "start_time": "2022-03-26T21:38:20.721Z"
   },
   {
    "duration": 19,
    "start_time": "2022-03-26T21:38:20.781Z"
   },
   {
    "duration": 7,
    "start_time": "2022-03-26T21:38:20.803Z"
   },
   {
    "duration": 65,
    "start_time": "2022-03-26T21:38:20.813Z"
   },
   {
    "duration": 12,
    "start_time": "2022-03-26T21:38:20.880Z"
   },
   {
    "duration": 22,
    "start_time": "2022-03-26T21:38:20.894Z"
   },
   {
    "duration": 12,
    "start_time": "2022-03-26T21:38:20.918Z"
   },
   {
    "duration": 61,
    "start_time": "2022-03-26T21:38:20.932Z"
   },
   {
    "duration": 11,
    "start_time": "2022-03-26T21:38:20.995Z"
   },
   {
    "duration": 31,
    "start_time": "2022-03-26T21:38:21.008Z"
   },
   {
    "duration": 25,
    "start_time": "2022-03-26T21:38:21.042Z"
   },
   {
    "duration": 15,
    "start_time": "2022-03-26T21:38:21.070Z"
   },
   {
    "duration": 25,
    "start_time": "2022-03-26T21:38:21.087Z"
   },
   {
    "duration": 4,
    "start_time": "2022-03-26T21:38:21.114Z"
   },
   {
    "duration": 55,
    "start_time": "2022-03-26T21:38:21.119Z"
   },
   {
    "duration": 21,
    "start_time": "2022-03-26T21:38:21.176Z"
   },
   {
    "duration": 3,
    "start_time": "2022-03-26T21:38:21.199Z"
   },
   {
    "duration": 19,
    "start_time": "2022-03-26T21:38:21.204Z"
   },
   {
    "duration": 60,
    "start_time": "2022-03-26T21:38:21.226Z"
   },
   {
    "duration": 32,
    "start_time": "2022-03-26T21:38:21.288Z"
   },
   {
    "duration": 12,
    "start_time": "2022-03-26T21:38:21.323Z"
   },
   {
    "duration": 18,
    "start_time": "2022-03-26T21:38:21.369Z"
   },
   {
    "duration": 9,
    "start_time": "2022-03-26T21:38:21.389Z"
   },
   {
    "duration": 6,
    "start_time": "2022-03-26T21:38:21.400Z"
   },
   {
    "duration": 5,
    "start_time": "2022-03-26T21:38:21.408Z"
   },
   {
    "duration": 53,
    "start_time": "2022-03-26T21:38:21.415Z"
   },
   {
    "duration": 9,
    "start_time": "2022-03-26T21:38:21.470Z"
   },
   {
    "duration": 16,
    "start_time": "2022-03-26T21:38:21.482Z"
   },
   {
    "duration": 66,
    "start_time": "2022-03-26T21:38:21.501Z"
   },
   {
    "duration": 13,
    "start_time": "2022-03-26T21:38:21.571Z"
   },
   {
    "duration": 41,
    "start_time": "2022-03-26T21:38:21.587Z"
   },
   {
    "duration": 45,
    "start_time": "2022-03-26T21:38:21.631Z"
   },
   {
    "duration": 5,
    "start_time": "2022-03-26T21:38:21.678Z"
   },
   {
    "duration": 12,
    "start_time": "2022-03-26T21:38:21.686Z"
   },
   {
    "duration": 91,
    "start_time": "2022-03-26T21:38:21.701Z"
   },
   {
    "duration": 0,
    "start_time": "2022-03-26T21:38:21.801Z"
   },
   {
    "duration": 0,
    "start_time": "2022-03-26T21:38:21.803Z"
   },
   {
    "duration": 0,
    "start_time": "2022-03-26T21:38:21.805Z"
   },
   {
    "duration": 0,
    "start_time": "2022-03-26T21:38:21.808Z"
   },
   {
    "duration": 0,
    "start_time": "2022-03-26T21:38:21.810Z"
   },
   {
    "duration": 0,
    "start_time": "2022-03-26T21:38:21.812Z"
   },
   {
    "duration": 0,
    "start_time": "2022-03-26T21:38:21.815Z"
   },
   {
    "duration": 0,
    "start_time": "2022-03-26T21:38:21.817Z"
   },
   {
    "duration": 0,
    "start_time": "2022-03-26T21:38:21.819Z"
   },
   {
    "duration": 0,
    "start_time": "2022-03-26T21:38:21.822Z"
   },
   {
    "duration": 0,
    "start_time": "2022-03-26T21:38:21.823Z"
   },
   {
    "duration": 0,
    "start_time": "2022-03-26T21:38:21.826Z"
   },
   {
    "duration": 0,
    "start_time": "2022-03-26T21:38:21.828Z"
   },
   {
    "duration": 0,
    "start_time": "2022-03-26T21:38:21.831Z"
   },
   {
    "duration": 0,
    "start_time": "2022-03-26T21:38:21.833Z"
   },
   {
    "duration": 0,
    "start_time": "2022-03-26T21:38:21.866Z"
   },
   {
    "duration": 1,
    "start_time": "2022-03-26T21:38:21.868Z"
   },
   {
    "duration": 0,
    "start_time": "2022-03-26T21:38:21.871Z"
   },
   {
    "duration": 0,
    "start_time": "2022-03-26T21:38:21.873Z"
   },
   {
    "duration": 0,
    "start_time": "2022-03-26T21:38:21.876Z"
   },
   {
    "duration": 0,
    "start_time": "2022-03-26T21:38:21.878Z"
   },
   {
    "duration": 0,
    "start_time": "2022-03-26T21:38:21.880Z"
   },
   {
    "duration": 0,
    "start_time": "2022-03-26T21:38:21.883Z"
   },
   {
    "duration": 0,
    "start_time": "2022-03-26T21:38:21.885Z"
   },
   {
    "duration": 0,
    "start_time": "2022-03-26T21:38:21.887Z"
   },
   {
    "duration": 0,
    "start_time": "2022-03-26T21:38:21.889Z"
   },
   {
    "duration": 0,
    "start_time": "2022-03-26T21:38:21.891Z"
   },
   {
    "duration": 0,
    "start_time": "2022-03-26T21:38:21.893Z"
   },
   {
    "duration": 0,
    "start_time": "2022-03-26T21:38:21.895Z"
   },
   {
    "duration": 0,
    "start_time": "2022-03-26T21:38:21.896Z"
   },
   {
    "duration": 0,
    "start_time": "2022-03-26T21:38:21.898Z"
   },
   {
    "duration": 0,
    "start_time": "2022-03-26T21:38:21.900Z"
   },
   {
    "duration": 0,
    "start_time": "2022-03-26T21:38:21.902Z"
   },
   {
    "duration": 0,
    "start_time": "2022-03-26T21:38:21.903Z"
   },
   {
    "duration": 0,
    "start_time": "2022-03-26T21:38:21.905Z"
   },
   {
    "duration": 0,
    "start_time": "2022-03-26T21:38:21.967Z"
   },
   {
    "duration": 0,
    "start_time": "2022-03-26T21:38:21.969Z"
   },
   {
    "duration": 0,
    "start_time": "2022-03-26T21:38:21.970Z"
   },
   {
    "duration": 0,
    "start_time": "2022-03-26T21:38:21.971Z"
   },
   {
    "duration": 0,
    "start_time": "2022-03-26T21:38:21.973Z"
   },
   {
    "duration": 0,
    "start_time": "2022-03-26T21:38:21.974Z"
   },
   {
    "duration": 0,
    "start_time": "2022-03-26T21:38:21.976Z"
   },
   {
    "duration": 0,
    "start_time": "2022-03-26T21:38:21.977Z"
   },
   {
    "duration": 0,
    "start_time": "2022-03-26T21:38:21.978Z"
   },
   {
    "duration": 0,
    "start_time": "2022-03-26T21:38:21.980Z"
   },
   {
    "duration": 0,
    "start_time": "2022-03-26T21:38:21.982Z"
   },
   {
    "duration": 0,
    "start_time": "2022-03-26T21:38:21.984Z"
   },
   {
    "duration": 1,
    "start_time": "2022-03-26T21:38:21.985Z"
   },
   {
    "duration": 0,
    "start_time": "2022-03-26T21:38:21.987Z"
   },
   {
    "duration": 0,
    "start_time": "2022-03-26T21:38:21.988Z"
   },
   {
    "duration": 0,
    "start_time": "2022-03-26T21:38:21.990Z"
   },
   {
    "duration": 0,
    "start_time": "2022-03-26T21:38:21.992Z"
   },
   {
    "duration": 0,
    "start_time": "2022-03-26T21:38:21.993Z"
   },
   {
    "duration": 0,
    "start_time": "2022-03-26T21:38:21.995Z"
   },
   {
    "duration": 0,
    "start_time": "2022-03-26T21:38:21.996Z"
   },
   {
    "duration": 0,
    "start_time": "2022-03-26T21:38:21.998Z"
   },
   {
    "duration": 0,
    "start_time": "2022-03-26T21:38:21.999Z"
   },
   {
    "duration": 0,
    "start_time": "2022-03-26T21:38:22.000Z"
   },
   {
    "duration": 0,
    "start_time": "2022-03-26T21:38:22.002Z"
   },
   {
    "duration": 0,
    "start_time": "2022-03-26T21:38:22.068Z"
   },
   {
    "duration": 0,
    "start_time": "2022-03-26T21:38:22.070Z"
   },
   {
    "duration": 387,
    "start_time": "2022-03-26T21:39:04.144Z"
   },
   {
    "duration": 28,
    "start_time": "2022-03-26T21:39:05.439Z"
   },
   {
    "duration": 428,
    "start_time": "2022-03-26T21:39:30.342Z"
   },
   {
    "duration": 28,
    "start_time": "2022-03-26T21:39:30.773Z"
   },
   {
    "duration": 32,
    "start_time": "2022-03-26T21:39:30.804Z"
   },
   {
    "duration": 44,
    "start_time": "2022-03-26T21:39:30.840Z"
   },
   {
    "duration": 14,
    "start_time": "2022-03-26T21:39:30.886Z"
   },
   {
    "duration": 9,
    "start_time": "2022-03-26T21:39:30.902Z"
   },
   {
    "duration": 17,
    "start_time": "2022-03-26T21:39:30.913Z"
   },
   {
    "duration": 52,
    "start_time": "2022-03-26T21:39:30.932Z"
   },
   {
    "duration": 6,
    "start_time": "2022-03-26T21:39:30.986Z"
   },
   {
    "duration": 20,
    "start_time": "2022-03-26T21:39:30.996Z"
   },
   {
    "duration": 13,
    "start_time": "2022-03-26T21:39:31.018Z"
   },
   {
    "duration": 39,
    "start_time": "2022-03-26T21:39:31.034Z"
   },
   {
    "duration": 6,
    "start_time": "2022-03-26T21:39:31.076Z"
   },
   {
    "duration": 30,
    "start_time": "2022-03-26T21:39:31.084Z"
   },
   {
    "duration": 21,
    "start_time": "2022-03-26T21:39:31.116Z"
   },
   {
    "duration": 30,
    "start_time": "2022-03-26T21:39:31.140Z"
   },
   {
    "duration": 8,
    "start_time": "2022-03-26T21:39:31.173Z"
   },
   {
    "duration": 23,
    "start_time": "2022-03-26T21:39:31.184Z"
   },
   {
    "duration": 24,
    "start_time": "2022-03-26T21:39:31.209Z"
   },
   {
    "duration": 22,
    "start_time": "2022-03-26T21:39:31.235Z"
   },
   {
    "duration": 12,
    "start_time": "2022-03-26T21:39:31.259Z"
   },
   {
    "duration": 17,
    "start_time": "2022-03-26T21:39:31.273Z"
   },
   {
    "duration": 9,
    "start_time": "2022-03-26T21:39:31.292Z"
   },
   {
    "duration": 30,
    "start_time": "2022-03-26T21:39:31.303Z"
   },
   {
    "duration": 7,
    "start_time": "2022-03-26T21:39:31.335Z"
   },
   {
    "duration": 13,
    "start_time": "2022-03-26T21:39:31.368Z"
   },
   {
    "duration": 4,
    "start_time": "2022-03-26T21:39:31.384Z"
   },
   {
    "duration": 3,
    "start_time": "2022-03-26T21:39:31.399Z"
   },
   {
    "duration": 6,
    "start_time": "2022-03-26T21:39:31.405Z"
   },
   {
    "duration": 10,
    "start_time": "2022-03-26T21:39:31.414Z"
   },
   {
    "duration": 41,
    "start_time": "2022-03-26T21:39:31.427Z"
   },
   {
    "duration": 9,
    "start_time": "2022-03-26T21:39:31.471Z"
   },
   {
    "duration": 18,
    "start_time": "2022-03-26T21:39:31.483Z"
   },
   {
    "duration": 11,
    "start_time": "2022-03-26T21:39:31.503Z"
   },
   {
    "duration": 72,
    "start_time": "2022-03-26T21:39:31.516Z"
   },
   {
    "duration": 41,
    "start_time": "2022-03-26T21:39:31.590Z"
   },
   {
    "duration": 36,
    "start_time": "2022-03-26T21:39:31.633Z"
   },
   {
    "duration": 12,
    "start_time": "2022-03-26T21:39:31.672Z"
   },
   {
    "duration": 405,
    "start_time": "2022-03-26T21:39:31.686Z"
   },
   {
    "duration": 4,
    "start_time": "2022-03-26T21:39:32.093Z"
   },
   {
    "duration": 339,
    "start_time": "2022-03-26T21:39:32.099Z"
   },
   {
    "duration": 340,
    "start_time": "2022-03-26T21:39:32.440Z"
   },
   {
    "duration": 329,
    "start_time": "2022-03-26T21:39:32.782Z"
   },
   {
    "duration": 358,
    "start_time": "2022-03-26T21:39:33.113Z"
   },
   {
    "duration": 361,
    "start_time": "2022-03-26T21:39:33.473Z"
   },
   {
    "duration": 564,
    "start_time": "2022-03-26T21:39:33.836Z"
   },
   {
    "duration": 464,
    "start_time": "2022-03-26T21:39:34.403Z"
   },
   {
    "duration": 467,
    "start_time": "2022-03-26T21:39:34.870Z"
   },
   {
    "duration": 474,
    "start_time": "2022-03-26T21:39:35.340Z"
   },
   {
    "duration": 4,
    "start_time": "2022-03-26T21:39:35.816Z"
   },
   {
    "duration": 6,
    "start_time": "2022-03-26T21:39:35.822Z"
   },
   {
    "duration": 5,
    "start_time": "2022-03-26T21:39:35.830Z"
   },
   {
    "duration": 42,
    "start_time": "2022-03-26T21:39:35.837Z"
   },
   {
    "duration": 4,
    "start_time": "2022-03-26T21:39:35.881Z"
   },
   {
    "duration": 15,
    "start_time": "2022-03-26T21:39:35.887Z"
   },
   {
    "duration": 5,
    "start_time": "2022-03-26T21:39:35.904Z"
   },
   {
    "duration": 6,
    "start_time": "2022-03-26T21:39:35.911Z"
   },
   {
    "duration": 55,
    "start_time": "2022-03-26T21:39:35.919Z"
   },
   {
    "duration": 4,
    "start_time": "2022-03-26T21:39:35.977Z"
   },
   {
    "duration": 12,
    "start_time": "2022-03-26T21:39:35.984Z"
   },
   {
    "duration": 29,
    "start_time": "2022-03-26T21:39:35.999Z"
   },
   {
    "duration": 1483,
    "start_time": "2022-03-26T21:41:17.524Z"
   },
   {
    "duration": 489,
    "start_time": "2022-03-26T21:41:19.010Z"
   },
   {
    "duration": 35,
    "start_time": "2022-03-26T21:41:19.501Z"
   },
   {
    "duration": 16,
    "start_time": "2022-03-26T21:41:19.539Z"
   },
   {
    "duration": 33,
    "start_time": "2022-03-26T21:41:19.557Z"
   },
   {
    "duration": 13,
    "start_time": "2022-03-26T21:41:19.592Z"
   },
   {
    "duration": 26,
    "start_time": "2022-03-26T21:41:19.607Z"
   },
   {
    "duration": 35,
    "start_time": "2022-03-26T21:41:19.635Z"
   },
   {
    "duration": 16,
    "start_time": "2022-03-26T21:41:19.672Z"
   },
   {
    "duration": 12,
    "start_time": "2022-03-26T21:41:19.693Z"
   },
   {
    "duration": 15,
    "start_time": "2022-03-26T21:41:19.708Z"
   },
   {
    "duration": 18,
    "start_time": "2022-03-26T21:41:19.768Z"
   },
   {
    "duration": 8,
    "start_time": "2022-03-26T21:41:19.788Z"
   },
   {
    "duration": 76,
    "start_time": "2022-03-26T21:41:19.799Z"
   },
   {
    "duration": 72,
    "start_time": "2022-03-26T21:41:19.877Z"
   },
   {
    "duration": 28,
    "start_time": "2022-03-26T21:41:19.951Z"
   },
   {
    "duration": 30,
    "start_time": "2022-03-26T21:41:19.981Z"
   },
   {
    "duration": 3,
    "start_time": "2022-03-26T21:41:20.013Z"
   },
   {
    "duration": 5,
    "start_time": "2022-03-26T21:41:20.019Z"
   },
   {
    "duration": 5,
    "start_time": "2022-03-26T21:41:20.027Z"
   },
   {
    "duration": 34,
    "start_time": "2022-03-26T21:41:20.034Z"
   },
   {
    "duration": 7,
    "start_time": "2022-03-26T21:41:20.070Z"
   },
   {
    "duration": 8,
    "start_time": "2022-03-26T21:41:20.079Z"
   },
   {
    "duration": 10,
    "start_time": "2022-03-26T21:41:20.089Z"
   },
   {
    "duration": 7,
    "start_time": "2022-03-26T21:41:20.102Z"
   },
   {
    "duration": 11,
    "start_time": "2022-03-26T21:41:20.111Z"
   },
   {
    "duration": 6,
    "start_time": "2022-03-26T21:41:20.124Z"
   },
   {
    "duration": 60,
    "start_time": "2022-03-26T21:41:20.138Z"
   },
   {
    "duration": 39,
    "start_time": "2022-03-26T21:41:20.201Z"
   },
   {
    "duration": 37,
    "start_time": "2022-03-26T21:41:20.243Z"
   },
   {
    "duration": 17,
    "start_time": "2022-03-26T21:41:20.284Z"
   },
   {
    "duration": 22,
    "start_time": "2022-03-26T21:41:20.304Z"
   },
   {
    "duration": 58,
    "start_time": "2022-03-26T21:41:20.329Z"
   },
   {
    "duration": 37,
    "start_time": "2022-03-26T21:41:20.390Z"
   },
   {
    "duration": 39,
    "start_time": "2022-03-26T21:41:20.429Z"
   },
   {
    "duration": 20,
    "start_time": "2022-03-26T21:41:20.471Z"
   },
   {
    "duration": 14,
    "start_time": "2022-03-26T21:41:20.493Z"
   },
   {
    "duration": 19,
    "start_time": "2022-03-26T21:41:20.510Z"
   },
   {
    "duration": 35,
    "start_time": "2022-03-26T21:41:20.532Z"
   },
   {
    "duration": 4,
    "start_time": "2022-03-26T21:41:20.570Z"
   },
   {
    "duration": 5,
    "start_time": "2022-03-26T21:41:20.577Z"
   },
   {
    "duration": 4,
    "start_time": "2022-03-26T21:41:20.585Z"
   },
   {
    "duration": 5,
    "start_time": "2022-03-26T21:41:20.592Z"
   },
   {
    "duration": 8,
    "start_time": "2022-03-26T21:41:20.600Z"
   },
   {
    "duration": 58,
    "start_time": "2022-03-26T21:41:20.610Z"
   },
   {
    "duration": 18,
    "start_time": "2022-03-26T21:41:20.671Z"
   },
   {
    "duration": 17,
    "start_time": "2022-03-26T21:41:20.691Z"
   },
   {
    "duration": 10,
    "start_time": "2022-03-26T21:41:20.710Z"
   },
   {
    "duration": 72,
    "start_time": "2022-03-26T21:41:20.722Z"
   },
   {
    "duration": 11,
    "start_time": "2022-03-26T21:41:20.797Z"
   },
   {
    "duration": 25,
    "start_time": "2022-03-26T21:41:20.810Z"
   },
   {
    "duration": 33,
    "start_time": "2022-03-26T21:41:20.837Z"
   },
   {
    "duration": 25,
    "start_time": "2022-03-26T21:41:20.873Z"
   },
   {
    "duration": 12,
    "start_time": "2022-03-26T21:41:20.900Z"
   },
   {
    "duration": 58,
    "start_time": "2022-03-26T21:41:20.914Z"
   },
   {
    "duration": 4,
    "start_time": "2022-03-26T21:41:20.974Z"
   },
   {
    "duration": 15,
    "start_time": "2022-03-26T21:41:20.980Z"
   },
   {
    "duration": 23,
    "start_time": "2022-03-26T21:41:20.997Z"
   },
   {
    "duration": 3,
    "start_time": "2022-03-26T21:41:21.023Z"
   },
   {
    "duration": 45,
    "start_time": "2022-03-26T21:41:21.028Z"
   },
   {
    "duration": 19,
    "start_time": "2022-03-26T21:41:21.076Z"
   },
   {
    "duration": 3,
    "start_time": "2022-03-26T21:41:21.098Z"
   },
   {
    "duration": 17,
    "start_time": "2022-03-26T21:41:21.104Z"
   },
   {
    "duration": 66,
    "start_time": "2022-03-26T21:41:21.123Z"
   },
   {
    "duration": 33,
    "start_time": "2022-03-26T21:41:21.191Z"
   },
   {
    "duration": 41,
    "start_time": "2022-03-26T21:41:21.227Z"
   },
   {
    "duration": 17,
    "start_time": "2022-03-26T21:41:21.270Z"
   },
   {
    "duration": 5,
    "start_time": "2022-03-26T21:41:21.289Z"
   },
   {
    "duration": 5,
    "start_time": "2022-03-26T21:41:21.296Z"
   },
   {
    "duration": 5,
    "start_time": "2022-03-26T21:41:21.303Z"
   },
   {
    "duration": 6,
    "start_time": "2022-03-26T21:41:21.310Z"
   },
   {
    "duration": 54,
    "start_time": "2022-03-26T21:41:21.318Z"
   },
   {
    "duration": 11,
    "start_time": "2022-03-26T21:41:21.374Z"
   },
   {
    "duration": 28,
    "start_time": "2022-03-26T21:41:21.388Z"
   },
   {
    "duration": 54,
    "start_time": "2022-03-26T21:41:21.419Z"
   },
   {
    "duration": 39,
    "start_time": "2022-03-26T21:41:21.477Z"
   },
   {
    "duration": 16,
    "start_time": "2022-03-26T21:41:21.518Z"
   },
   {
    "duration": 35,
    "start_time": "2022-03-26T21:41:21.537Z"
   },
   {
    "duration": 14,
    "start_time": "2022-03-26T21:41:21.574Z"
   },
   {
    "duration": 91,
    "start_time": "2022-03-26T21:41:21.591Z"
   },
   {
    "duration": 0,
    "start_time": "2022-03-26T21:41:21.690Z"
   },
   {
    "duration": 0,
    "start_time": "2022-03-26T21:41:21.692Z"
   },
   {
    "duration": 0,
    "start_time": "2022-03-26T21:41:21.694Z"
   },
   {
    "duration": 0,
    "start_time": "2022-03-26T21:41:21.696Z"
   },
   {
    "duration": 0,
    "start_time": "2022-03-26T21:41:21.698Z"
   },
   {
    "duration": 0,
    "start_time": "2022-03-26T21:41:21.701Z"
   },
   {
    "duration": 0,
    "start_time": "2022-03-26T21:41:21.703Z"
   },
   {
    "duration": 0,
    "start_time": "2022-03-26T21:41:21.705Z"
   },
   {
    "duration": 0,
    "start_time": "2022-03-26T21:41:21.707Z"
   },
   {
    "duration": 0,
    "start_time": "2022-03-26T21:41:21.709Z"
   },
   {
    "duration": 0,
    "start_time": "2022-03-26T21:41:21.711Z"
   },
   {
    "duration": 0,
    "start_time": "2022-03-26T21:41:21.713Z"
   },
   {
    "duration": 0,
    "start_time": "2022-03-26T21:41:21.716Z"
   },
   {
    "duration": 0,
    "start_time": "2022-03-26T21:41:21.718Z"
   },
   {
    "duration": 0,
    "start_time": "2022-03-26T21:41:21.720Z"
   },
   {
    "duration": 0,
    "start_time": "2022-03-26T21:41:21.723Z"
   },
   {
    "duration": 0,
    "start_time": "2022-03-26T21:41:21.725Z"
   },
   {
    "duration": 0,
    "start_time": "2022-03-26T21:41:21.770Z"
   },
   {
    "duration": 0,
    "start_time": "2022-03-26T21:41:21.772Z"
   },
   {
    "duration": 0,
    "start_time": "2022-03-26T21:41:21.774Z"
   },
   {
    "duration": 0,
    "start_time": "2022-03-26T21:41:21.776Z"
   },
   {
    "duration": 0,
    "start_time": "2022-03-26T21:41:21.778Z"
   },
   {
    "duration": 0,
    "start_time": "2022-03-26T21:41:21.781Z"
   },
   {
    "duration": 0,
    "start_time": "2022-03-26T21:41:21.783Z"
   },
   {
    "duration": 0,
    "start_time": "2022-03-26T21:41:21.785Z"
   },
   {
    "duration": 0,
    "start_time": "2022-03-26T21:41:21.787Z"
   },
   {
    "duration": 0,
    "start_time": "2022-03-26T21:41:21.789Z"
   },
   {
    "duration": 0,
    "start_time": "2022-03-26T21:41:21.792Z"
   },
   {
    "duration": 0,
    "start_time": "2022-03-26T21:41:21.794Z"
   },
   {
    "duration": 0,
    "start_time": "2022-03-26T21:41:21.796Z"
   },
   {
    "duration": 0,
    "start_time": "2022-03-26T21:41:21.798Z"
   },
   {
    "duration": 0,
    "start_time": "2022-03-26T21:41:21.800Z"
   },
   {
    "duration": 0,
    "start_time": "2022-03-26T21:41:21.802Z"
   },
   {
    "duration": 1,
    "start_time": "2022-03-26T21:41:21.804Z"
   },
   {
    "duration": 0,
    "start_time": "2022-03-26T21:41:21.868Z"
   },
   {
    "duration": 0,
    "start_time": "2022-03-26T21:41:21.871Z"
   },
   {
    "duration": 0,
    "start_time": "2022-03-26T21:41:21.873Z"
   },
   {
    "duration": 0,
    "start_time": "2022-03-26T21:41:21.875Z"
   },
   {
    "duration": 0,
    "start_time": "2022-03-26T21:41:21.878Z"
   },
   {
    "duration": 1,
    "start_time": "2022-03-26T21:41:21.879Z"
   },
   {
    "duration": 0,
    "start_time": "2022-03-26T21:41:21.882Z"
   },
   {
    "duration": 0,
    "start_time": "2022-03-26T21:41:21.884Z"
   },
   {
    "duration": 0,
    "start_time": "2022-03-26T21:41:21.886Z"
   },
   {
    "duration": 0,
    "start_time": "2022-03-26T21:41:21.889Z"
   },
   {
    "duration": 0,
    "start_time": "2022-03-26T21:41:21.891Z"
   },
   {
    "duration": 0,
    "start_time": "2022-03-26T21:41:21.893Z"
   },
   {
    "duration": 0,
    "start_time": "2022-03-26T21:41:21.895Z"
   },
   {
    "duration": 0,
    "start_time": "2022-03-26T21:41:21.897Z"
   },
   {
    "duration": 0,
    "start_time": "2022-03-26T21:41:21.899Z"
   },
   {
    "duration": 0,
    "start_time": "2022-03-26T21:41:21.901Z"
   },
   {
    "duration": 0,
    "start_time": "2022-03-26T21:41:21.903Z"
   },
   {
    "duration": 0,
    "start_time": "2022-03-26T21:41:21.967Z"
   },
   {
    "duration": 0,
    "start_time": "2022-03-26T21:41:21.969Z"
   },
   {
    "duration": 0,
    "start_time": "2022-03-26T21:41:21.971Z"
   },
   {
    "duration": 0,
    "start_time": "2022-03-26T21:41:21.973Z"
   },
   {
    "duration": 0,
    "start_time": "2022-03-26T21:41:21.975Z"
   },
   {
    "duration": 0,
    "start_time": "2022-03-26T21:41:21.977Z"
   },
   {
    "duration": 1,
    "start_time": "2022-03-26T21:41:21.979Z"
   },
   {
    "duration": 0,
    "start_time": "2022-03-26T21:41:21.982Z"
   },
   {
    "duration": 0,
    "start_time": "2022-03-26T21:41:21.985Z"
   },
   {
    "duration": 0,
    "start_time": "2022-03-26T21:41:21.987Z"
   },
   {
    "duration": 455,
    "start_time": "2022-03-26T21:43:16.953Z"
   },
   {
    "duration": 58,
    "start_time": "2022-03-26T21:43:17.411Z"
   },
   {
    "duration": 15,
    "start_time": "2022-03-26T21:43:17.472Z"
   },
   {
    "duration": 29,
    "start_time": "2022-03-26T21:43:17.490Z"
   },
   {
    "duration": 45,
    "start_time": "2022-03-26T21:43:17.523Z"
   },
   {
    "duration": 10,
    "start_time": "2022-03-26T21:43:17.570Z"
   },
   {
    "duration": 11,
    "start_time": "2022-03-26T21:43:17.582Z"
   },
   {
    "duration": 20,
    "start_time": "2022-03-26T21:43:17.596Z"
   },
   {
    "duration": 6,
    "start_time": "2022-03-26T21:43:17.618Z"
   },
   {
    "duration": 51,
    "start_time": "2022-03-26T21:43:17.628Z"
   },
   {
    "duration": 8,
    "start_time": "2022-03-26T21:43:17.682Z"
   },
   {
    "duration": 23,
    "start_time": "2022-03-26T21:43:17.692Z"
   },
   {
    "duration": 8,
    "start_time": "2022-03-26T21:43:17.717Z"
   },
   {
    "duration": 55,
    "start_time": "2022-03-26T21:43:17.727Z"
   },
   {
    "duration": 8,
    "start_time": "2022-03-26T21:43:17.785Z"
   },
   {
    "duration": 29,
    "start_time": "2022-03-26T21:43:17.796Z"
   },
   {
    "duration": 9,
    "start_time": "2022-03-26T21:43:17.827Z"
   },
   {
    "duration": 9,
    "start_time": "2022-03-26T21:43:17.868Z"
   },
   {
    "duration": 10,
    "start_time": "2022-03-26T21:43:17.879Z"
   },
   {
    "duration": 17,
    "start_time": "2022-03-26T21:43:17.892Z"
   },
   {
    "duration": 5,
    "start_time": "2022-03-26T21:43:17.912Z"
   },
   {
    "duration": 49,
    "start_time": "2022-03-26T21:43:17.920Z"
   },
   {
    "duration": 6,
    "start_time": "2022-03-26T21:43:17.972Z"
   },
   {
    "duration": 21,
    "start_time": "2022-03-26T21:43:17.980Z"
   },
   {
    "duration": 6,
    "start_time": "2022-03-26T21:43:18.003Z"
   },
   {
    "duration": 19,
    "start_time": "2022-03-26T21:43:18.011Z"
   },
   {
    "duration": 4,
    "start_time": "2022-03-26T21:43:18.068Z"
   },
   {
    "duration": 3,
    "start_time": "2022-03-26T21:43:18.078Z"
   },
   {
    "duration": 6,
    "start_time": "2022-03-26T21:43:18.084Z"
   },
   {
    "duration": 8,
    "start_time": "2022-03-26T21:43:18.092Z"
   },
   {
    "duration": 5,
    "start_time": "2022-03-26T21:43:18.102Z"
   },
   {
    "duration": 5,
    "start_time": "2022-03-26T21:43:18.110Z"
   },
   {
    "duration": 62,
    "start_time": "2022-03-26T21:43:18.118Z"
   },
   {
    "duration": 14,
    "start_time": "2022-03-26T21:43:18.183Z"
   },
   {
    "duration": 83,
    "start_time": "2022-03-26T21:43:18.200Z"
   },
   {
    "duration": 40,
    "start_time": "2022-03-26T21:43:18.285Z"
   },
   {
    "duration": 10,
    "start_time": "2022-03-26T21:43:18.327Z"
   },
   {
    "duration": 10,
    "start_time": "2022-03-26T21:43:18.367Z"
   },
   {
    "duration": 415,
    "start_time": "2022-03-26T21:43:18.379Z"
   },
   {
    "duration": 4,
    "start_time": "2022-03-26T21:43:18.796Z"
   },
   {
    "duration": 342,
    "start_time": "2022-03-26T21:43:18.802Z"
   },
   {
    "duration": 530,
    "start_time": "2022-03-26T21:43:19.147Z"
   },
   {
    "duration": 334,
    "start_time": "2022-03-26T21:43:19.680Z"
   },
   {
    "duration": 350,
    "start_time": "2022-03-26T21:43:20.017Z"
   },
   {
    "duration": 355,
    "start_time": "2022-03-26T21:43:20.370Z"
   },
   {
    "duration": 479,
    "start_time": "2022-03-26T21:43:20.728Z"
   },
   {
    "duration": 534,
    "start_time": "2022-03-26T21:43:21.209Z"
   },
   {
    "duration": 476,
    "start_time": "2022-03-26T21:43:21.745Z"
   },
   {
    "duration": 504,
    "start_time": "2022-03-26T21:43:22.223Z"
   },
   {
    "duration": 3,
    "start_time": "2022-03-26T21:43:22.730Z"
   },
   {
    "duration": 6,
    "start_time": "2022-03-26T21:43:22.735Z"
   },
   {
    "duration": 24,
    "start_time": "2022-03-26T21:43:22.744Z"
   },
   {
    "duration": 13,
    "start_time": "2022-03-26T21:43:22.770Z"
   },
   {
    "duration": 3,
    "start_time": "2022-03-26T21:43:22.786Z"
   },
   {
    "duration": 12,
    "start_time": "2022-03-26T21:43:22.791Z"
   },
   {
    "duration": 4,
    "start_time": "2022-03-26T21:43:22.805Z"
   },
   {
    "duration": 5,
    "start_time": "2022-03-26T21:43:22.811Z"
   },
   {
    "duration": 11,
    "start_time": "2022-03-26T21:43:22.869Z"
   },
   {
    "duration": 3,
    "start_time": "2022-03-26T21:43:22.882Z"
   },
   {
    "duration": 5,
    "start_time": "2022-03-26T21:43:22.887Z"
   },
   {
    "duration": 8,
    "start_time": "2022-03-26T21:43:22.895Z"
   },
   {
    "duration": 141,
    "start_time": "2022-03-27T12:10:19.222Z"
   },
   {
    "duration": 1430,
    "start_time": "2022-03-27T12:13:11.299Z"
   },
   {
    "duration": 553,
    "start_time": "2022-03-27T12:13:12.739Z"
   },
   {
    "duration": 57,
    "start_time": "2022-03-27T12:13:13.299Z"
   },
   {
    "duration": 36,
    "start_time": "2022-03-27T12:13:13.360Z"
   },
   {
    "duration": 48,
    "start_time": "2022-03-27T12:13:13.398Z"
   },
   {
    "duration": 36,
    "start_time": "2022-03-27T12:13:13.449Z"
   },
   {
    "duration": 44,
    "start_time": "2022-03-27T12:13:13.487Z"
   },
   {
    "duration": 14,
    "start_time": "2022-03-27T12:13:13.534Z"
   },
   {
    "duration": 30,
    "start_time": "2022-03-27T12:13:13.551Z"
   },
   {
    "duration": 31,
    "start_time": "2022-03-27T12:13:13.591Z"
   },
   {
    "duration": 35,
    "start_time": "2022-03-27T12:13:13.625Z"
   },
   {
    "duration": 29,
    "start_time": "2022-03-27T12:13:13.663Z"
   },
   {
    "duration": 39,
    "start_time": "2022-03-27T12:13:13.695Z"
   },
   {
    "duration": 57,
    "start_time": "2022-03-27T12:13:13.736Z"
   },
   {
    "duration": 91,
    "start_time": "2022-03-27T12:13:13.795Z"
   },
   {
    "duration": 27,
    "start_time": "2022-03-27T12:13:13.888Z"
   },
   {
    "duration": 41,
    "start_time": "2022-03-27T12:13:13.917Z"
   },
   {
    "duration": 18,
    "start_time": "2022-03-27T12:13:13.961Z"
   },
   {
    "duration": 30,
    "start_time": "2022-03-27T12:13:13.983Z"
   },
   {
    "duration": 28,
    "start_time": "2022-03-27T12:13:14.015Z"
   },
   {
    "duration": 28,
    "start_time": "2022-03-27T12:13:14.046Z"
   },
   {
    "duration": 46,
    "start_time": "2022-03-27T12:13:14.076Z"
   },
   {
    "duration": 29,
    "start_time": "2022-03-27T12:13:14.124Z"
   },
   {
    "duration": 37,
    "start_time": "2022-03-27T12:13:14.155Z"
   },
   {
    "duration": 25,
    "start_time": "2022-03-27T12:13:14.195Z"
   },
   {
    "duration": 26,
    "start_time": "2022-03-27T12:13:14.222Z"
   },
   {
    "duration": 46,
    "start_time": "2022-03-27T12:13:14.250Z"
   },
   {
    "duration": 49,
    "start_time": "2022-03-27T12:13:14.303Z"
   },
   {
    "duration": 26,
    "start_time": "2022-03-27T12:13:14.354Z"
   },
   {
    "duration": 28,
    "start_time": "2022-03-27T12:13:14.382Z"
   },
   {
    "duration": 35,
    "start_time": "2022-03-27T12:13:14.412Z"
   },
   {
    "duration": 28,
    "start_time": "2022-03-27T12:13:14.450Z"
   },
   {
    "duration": 47,
    "start_time": "2022-03-27T12:13:14.480Z"
   },
   {
    "duration": 50,
    "start_time": "2022-03-27T12:13:14.529Z"
   },
   {
    "duration": 31,
    "start_time": "2022-03-27T12:13:14.584Z"
   },
   {
    "duration": 45,
    "start_time": "2022-03-27T12:13:14.617Z"
   },
   {
    "duration": 16,
    "start_time": "2022-03-27T12:13:14.664Z"
   },
   {
    "duration": 41,
    "start_time": "2022-03-27T12:13:14.682Z"
   },
   {
    "duration": 20,
    "start_time": "2022-03-27T12:13:14.726Z"
   },
   {
    "duration": 26,
    "start_time": "2022-03-27T12:13:14.749Z"
   },
   {
    "duration": 45,
    "start_time": "2022-03-27T12:13:14.777Z"
   },
   {
    "duration": 33,
    "start_time": "2022-03-27T12:13:14.825Z"
   },
   {
    "duration": 35,
    "start_time": "2022-03-27T12:13:14.859Z"
   },
   {
    "duration": 29,
    "start_time": "2022-03-27T12:13:14.897Z"
   },
   {
    "duration": 18,
    "start_time": "2022-03-27T12:13:14.928Z"
   },
   {
    "duration": 31,
    "start_time": "2022-03-27T12:13:14.948Z"
   },
   {
    "duration": 51,
    "start_time": "2022-03-27T12:13:14.983Z"
   },
   {
    "duration": 26,
    "start_time": "2022-03-27T12:13:15.036Z"
   },
   {
    "duration": 68,
    "start_time": "2022-03-27T12:13:15.065Z"
   },
   {
    "duration": 35,
    "start_time": "2022-03-27T12:13:15.136Z"
   },
   {
    "duration": 74,
    "start_time": "2022-03-27T12:13:15.174Z"
   },
   {
    "duration": 12,
    "start_time": "2022-03-27T12:13:15.250Z"
   },
   {
    "duration": 28,
    "start_time": "2022-03-27T12:13:15.264Z"
   },
   {
    "duration": 12,
    "start_time": "2022-03-27T12:13:15.294Z"
   },
   {
    "duration": 37,
    "start_time": "2022-03-27T12:13:15.308Z"
   },
   {
    "duration": 4,
    "start_time": "2022-03-27T12:13:15.347Z"
   },
   {
    "duration": 43,
    "start_time": "2022-03-27T12:13:15.354Z"
   },
   {
    "duration": 36,
    "start_time": "2022-03-27T12:13:15.400Z"
   },
   {
    "duration": 4,
    "start_time": "2022-03-27T12:13:15.438Z"
   },
   {
    "duration": 29,
    "start_time": "2022-03-27T12:13:15.444Z"
   },
   {
    "duration": 27,
    "start_time": "2022-03-27T12:13:15.475Z"
   },
   {
    "duration": 4,
    "start_time": "2022-03-27T12:13:15.504Z"
   },
   {
    "duration": 18,
    "start_time": "2022-03-27T12:13:15.510Z"
   },
   {
    "duration": 34,
    "start_time": "2022-03-27T12:13:15.530Z"
   },
   {
    "duration": 48,
    "start_time": "2022-03-27T12:13:15.566Z"
   },
   {
    "duration": 11,
    "start_time": "2022-03-27T12:13:15.616Z"
   },
   {
    "duration": 20,
    "start_time": "2022-03-27T12:13:15.630Z"
   },
   {
    "duration": 39,
    "start_time": "2022-03-27T12:13:15.653Z"
   },
   {
    "duration": 8,
    "start_time": "2022-03-27T12:13:15.695Z"
   },
   {
    "duration": 8,
    "start_time": "2022-03-27T12:13:15.705Z"
   },
   {
    "duration": 10,
    "start_time": "2022-03-27T12:13:15.716Z"
   },
   {
    "duration": 10,
    "start_time": "2022-03-27T12:13:15.728Z"
   },
   {
    "duration": 19,
    "start_time": "2022-03-27T12:13:15.740Z"
   },
   {
    "duration": 54,
    "start_time": "2022-03-27T12:13:15.761Z"
   },
   {
    "duration": 11,
    "start_time": "2022-03-27T12:13:15.818Z"
   },
   {
    "duration": 26,
    "start_time": "2022-03-27T12:13:15.831Z"
   },
   {
    "duration": 12,
    "start_time": "2022-03-27T12:13:15.889Z"
   },
   {
    "duration": 11,
    "start_time": "2022-03-27T12:16:04.627Z"
   },
   {
    "duration": 374,
    "start_time": "2022-03-27T12:16:08.561Z"
   },
   {
    "duration": 27,
    "start_time": "2022-03-27T12:16:09.535Z"
   },
   {
    "duration": 11,
    "start_time": "2022-03-27T12:16:27.784Z"
   },
   {
    "duration": 15,
    "start_time": "2022-03-27T12:17:14.383Z"
   },
   {
    "duration": 370,
    "start_time": "2022-03-27T12:17:19.600Z"
   },
   {
    "duration": 28,
    "start_time": "2022-03-27T12:17:20.436Z"
   },
   {
    "duration": 11,
    "start_time": "2022-03-27T12:18:09.312Z"
   },
   {
    "duration": 467,
    "start_time": "2022-03-27T12:18:13.157Z"
   },
   {
    "duration": 30,
    "start_time": "2022-03-27T12:18:15.338Z"
   },
   {
    "duration": 1864,
    "start_time": "2022-03-27T13:02:35.601Z"
   },
   {
    "duration": 490,
    "start_time": "2022-03-27T13:02:37.468Z"
   },
   {
    "duration": 37,
    "start_time": "2022-03-27T13:02:37.960Z"
   },
   {
    "duration": 17,
    "start_time": "2022-03-27T13:02:38.001Z"
   },
   {
    "duration": 29,
    "start_time": "2022-03-27T13:02:38.021Z"
   },
   {
    "duration": 18,
    "start_time": "2022-03-27T13:02:38.082Z"
   },
   {
    "duration": 48,
    "start_time": "2022-03-27T13:02:38.102Z"
   },
   {
    "duration": 33,
    "start_time": "2022-03-27T13:02:38.153Z"
   },
   {
    "duration": 26,
    "start_time": "2022-03-27T13:02:38.188Z"
   },
   {
    "duration": 21,
    "start_time": "2022-03-27T13:02:38.221Z"
   },
   {
    "duration": 18,
    "start_time": "2022-03-27T13:02:38.245Z"
   },
   {
    "duration": 16,
    "start_time": "2022-03-27T13:02:38.283Z"
   },
   {
    "duration": 16,
    "start_time": "2022-03-27T13:02:38.301Z"
   },
   {
    "duration": 76,
    "start_time": "2022-03-27T13:02:38.319Z"
   },
   {
    "duration": 84,
    "start_time": "2022-03-27T13:02:38.398Z"
   },
   {
    "duration": 14,
    "start_time": "2022-03-27T13:02:38.484Z"
   },
   {
    "duration": 27,
    "start_time": "2022-03-27T13:02:38.501Z"
   },
   {
    "duration": 3,
    "start_time": "2022-03-27T13:02:38.530Z"
   },
   {
    "duration": 7,
    "start_time": "2022-03-27T13:02:38.536Z"
   },
   {
    "duration": 3,
    "start_time": "2022-03-27T13:02:38.582Z"
   },
   {
    "duration": 6,
    "start_time": "2022-03-27T13:02:38.588Z"
   },
   {
    "duration": 7,
    "start_time": "2022-03-27T13:02:38.596Z"
   },
   {
    "duration": 9,
    "start_time": "2022-03-27T13:02:38.605Z"
   },
   {
    "duration": 6,
    "start_time": "2022-03-27T13:02:38.616Z"
   },
   {
    "duration": 6,
    "start_time": "2022-03-27T13:02:38.624Z"
   },
   {
    "duration": 6,
    "start_time": "2022-03-27T13:02:38.632Z"
   },
   {
    "duration": 7,
    "start_time": "2022-03-27T13:02:38.639Z"
   },
   {
    "duration": 30,
    "start_time": "2022-03-27T13:02:38.685Z"
   },
   {
    "duration": 23,
    "start_time": "2022-03-27T13:02:38.718Z"
   },
   {
    "duration": 13,
    "start_time": "2022-03-27T13:02:38.743Z"
   },
   {
    "duration": 34,
    "start_time": "2022-03-27T13:02:38.758Z"
   },
   {
    "duration": 29,
    "start_time": "2022-03-27T13:02:38.794Z"
   },
   {
    "duration": 28,
    "start_time": "2022-03-27T13:02:38.825Z"
   },
   {
    "duration": 61,
    "start_time": "2022-03-27T13:02:38.855Z"
   },
   {
    "duration": 14,
    "start_time": "2022-03-27T13:02:38.918Z"
   },
   {
    "duration": 19,
    "start_time": "2022-03-27T13:02:38.934Z"
   },
   {
    "duration": 36,
    "start_time": "2022-03-27T13:02:38.955Z"
   },
   {
    "duration": 14,
    "start_time": "2022-03-27T13:02:38.993Z"
   },
   {
    "duration": 6,
    "start_time": "2022-03-27T13:02:39.009Z"
   },
   {
    "duration": 5,
    "start_time": "2022-03-27T13:02:39.017Z"
   },
   {
    "duration": 11,
    "start_time": "2022-03-27T13:02:39.024Z"
   },
   {
    "duration": 6,
    "start_time": "2022-03-27T13:02:39.038Z"
   },
   {
    "duration": 13,
    "start_time": "2022-03-27T13:02:39.082Z"
   },
   {
    "duration": 21,
    "start_time": "2022-03-27T13:02:39.097Z"
   },
   {
    "duration": 19,
    "start_time": "2022-03-27T13:02:39.119Z"
   },
   {
    "duration": 29,
    "start_time": "2022-03-27T13:02:39.140Z"
   },
   {
    "duration": 37,
    "start_time": "2022-03-27T13:02:39.171Z"
   },
   {
    "duration": 35,
    "start_time": "2022-03-27T13:02:39.210Z"
   },
   {
    "duration": 37,
    "start_time": "2022-03-27T13:02:39.247Z"
   },
   {
    "duration": 11,
    "start_time": "2022-03-27T13:02:39.286Z"
   },
   {
    "duration": 40,
    "start_time": "2022-03-27T13:02:39.299Z"
   },
   {
    "duration": 10,
    "start_time": "2022-03-27T13:02:39.341Z"
   },
   {
    "duration": 38,
    "start_time": "2022-03-27T13:02:39.353Z"
   },
   {
    "duration": 12,
    "start_time": "2022-03-27T13:02:39.393Z"
   },
   {
    "duration": 36,
    "start_time": "2022-03-27T13:02:39.407Z"
   },
   {
    "duration": 3,
    "start_time": "2022-03-27T13:02:39.446Z"
   },
   {
    "duration": 35,
    "start_time": "2022-03-27T13:02:39.451Z"
   },
   {
    "duration": 42,
    "start_time": "2022-03-27T13:02:39.489Z"
   },
   {
    "duration": 4,
    "start_time": "2022-03-27T13:02:39.533Z"
   },
   {
    "duration": 28,
    "start_time": "2022-03-27T13:02:39.539Z"
   },
   {
    "duration": 27,
    "start_time": "2022-03-27T13:02:39.569Z"
   },
   {
    "duration": 6,
    "start_time": "2022-03-27T13:02:39.598Z"
   },
   {
    "duration": 37,
    "start_time": "2022-03-27T13:02:39.606Z"
   },
   {
    "duration": 38,
    "start_time": "2022-03-27T13:02:39.645Z"
   },
   {
    "duration": 29,
    "start_time": "2022-03-27T13:02:39.686Z"
   },
   {
    "duration": 10,
    "start_time": "2022-03-27T13:02:39.717Z"
   },
   {
    "duration": 45,
    "start_time": "2022-03-27T13:02:39.729Z"
   },
   {
    "duration": 11,
    "start_time": "2022-03-27T13:02:39.777Z"
   },
   {
    "duration": 20,
    "start_time": "2022-03-27T13:02:39.791Z"
   },
   {
    "duration": 15,
    "start_time": "2022-03-27T13:02:39.814Z"
   },
   {
    "duration": 16,
    "start_time": "2022-03-27T13:02:39.831Z"
   },
   {
    "duration": 22,
    "start_time": "2022-03-27T13:02:39.849Z"
   },
   {
    "duration": 38,
    "start_time": "2022-03-27T13:02:39.873Z"
   },
   {
    "duration": 32,
    "start_time": "2022-03-27T13:02:39.913Z"
   },
   {
    "duration": 32,
    "start_time": "2022-03-27T13:02:39.948Z"
   },
   {
    "duration": 30,
    "start_time": "2022-03-27T13:02:39.982Z"
   },
   {
    "duration": 31,
    "start_time": "2022-03-27T13:02:40.014Z"
   },
   {
    "duration": 25,
    "start_time": "2022-03-27T13:02:40.048Z"
   },
   {
    "duration": 28,
    "start_time": "2022-03-27T13:02:40.075Z"
   },
   {
    "duration": 0,
    "start_time": "2022-03-27T13:02:40.107Z"
   },
   {
    "duration": 0,
    "start_time": "2022-03-27T13:02:40.109Z"
   },
   {
    "duration": 0,
    "start_time": "2022-03-27T13:02:40.111Z"
   },
   {
    "duration": 0,
    "start_time": "2022-03-27T13:02:40.113Z"
   },
   {
    "duration": 0,
    "start_time": "2022-03-27T13:02:40.114Z"
   },
   {
    "duration": 0,
    "start_time": "2022-03-27T13:02:40.116Z"
   },
   {
    "duration": 0,
    "start_time": "2022-03-27T13:02:40.118Z"
   },
   {
    "duration": 0,
    "start_time": "2022-03-27T13:02:40.119Z"
   },
   {
    "duration": 0,
    "start_time": "2022-03-27T13:02:40.121Z"
   },
   {
    "duration": 0,
    "start_time": "2022-03-27T13:02:40.122Z"
   },
   {
    "duration": 0,
    "start_time": "2022-03-27T13:02:40.124Z"
   },
   {
    "duration": 0,
    "start_time": "2022-03-27T13:02:40.126Z"
   },
   {
    "duration": 0,
    "start_time": "2022-03-27T13:02:40.128Z"
   },
   {
    "duration": 0,
    "start_time": "2022-03-27T13:02:40.129Z"
   },
   {
    "duration": 0,
    "start_time": "2022-03-27T13:02:40.131Z"
   },
   {
    "duration": 0,
    "start_time": "2022-03-27T13:02:40.133Z"
   },
   {
    "duration": 0,
    "start_time": "2022-03-27T13:02:40.135Z"
   },
   {
    "duration": 0,
    "start_time": "2022-03-27T13:02:40.136Z"
   },
   {
    "duration": 0,
    "start_time": "2022-03-27T13:02:40.138Z"
   },
   {
    "duration": 0,
    "start_time": "2022-03-27T13:02:40.139Z"
   },
   {
    "duration": 0,
    "start_time": "2022-03-27T13:02:40.142Z"
   },
   {
    "duration": 0,
    "start_time": "2022-03-27T13:02:40.143Z"
   },
   {
    "duration": 0,
    "start_time": "2022-03-27T13:02:40.144Z"
   },
   {
    "duration": 0,
    "start_time": "2022-03-27T13:02:40.182Z"
   },
   {
    "duration": 0,
    "start_time": "2022-03-27T13:02:40.183Z"
   },
   {
    "duration": 0,
    "start_time": "2022-03-27T13:02:40.185Z"
   },
   {
    "duration": 0,
    "start_time": "2022-03-27T13:02:40.187Z"
   },
   {
    "duration": 0,
    "start_time": "2022-03-27T13:02:40.188Z"
   },
   {
    "duration": 0,
    "start_time": "2022-03-27T13:02:40.189Z"
   },
   {
    "duration": 0,
    "start_time": "2022-03-27T13:02:40.191Z"
   },
   {
    "duration": 0,
    "start_time": "2022-03-27T13:02:40.192Z"
   },
   {
    "duration": 0,
    "start_time": "2022-03-27T13:02:40.194Z"
   },
   {
    "duration": 0,
    "start_time": "2022-03-27T13:02:40.195Z"
   },
   {
    "duration": 0,
    "start_time": "2022-03-27T13:02:40.197Z"
   },
   {
    "duration": 0,
    "start_time": "2022-03-27T13:02:40.198Z"
   },
   {
    "duration": 0,
    "start_time": "2022-03-27T13:02:40.200Z"
   },
   {
    "duration": 0,
    "start_time": "2022-03-27T13:02:40.201Z"
   },
   {
    "duration": 0,
    "start_time": "2022-03-27T13:02:40.203Z"
   },
   {
    "duration": 0,
    "start_time": "2022-03-27T13:02:40.205Z"
   },
   {
    "duration": 0,
    "start_time": "2022-03-27T13:02:40.206Z"
   },
   {
    "duration": 0,
    "start_time": "2022-03-27T13:02:40.208Z"
   },
   {
    "duration": 0,
    "start_time": "2022-03-27T13:02:40.209Z"
   },
   {
    "duration": 0,
    "start_time": "2022-03-27T13:02:40.211Z"
   },
   {
    "duration": 0,
    "start_time": "2022-03-27T13:02:40.212Z"
   },
   {
    "duration": 0,
    "start_time": "2022-03-27T13:02:40.214Z"
   },
   {
    "duration": 0,
    "start_time": "2022-03-27T13:02:40.216Z"
   },
   {
    "duration": 0,
    "start_time": "2022-03-27T13:02:40.217Z"
   },
   {
    "duration": 0,
    "start_time": "2022-03-27T13:02:40.283Z"
   },
   {
    "duration": 0,
    "start_time": "2022-03-27T13:02:40.284Z"
   },
   {
    "duration": 0,
    "start_time": "2022-03-27T13:02:40.285Z"
   },
   {
    "duration": 0,
    "start_time": "2022-03-27T13:02:40.287Z"
   },
   {
    "duration": 0,
    "start_time": "2022-03-27T13:02:40.288Z"
   },
   {
    "duration": 0,
    "start_time": "2022-03-27T13:02:40.290Z"
   },
   {
    "duration": 0,
    "start_time": "2022-03-27T13:02:40.292Z"
   },
   {
    "duration": 0,
    "start_time": "2022-03-27T13:02:40.293Z"
   },
   {
    "duration": 0,
    "start_time": "2022-03-27T13:02:40.295Z"
   },
   {
    "duration": 0,
    "start_time": "2022-03-27T13:02:40.296Z"
   },
   {
    "duration": 0,
    "start_time": "2022-03-27T13:02:40.298Z"
   },
   {
    "duration": 0,
    "start_time": "2022-03-27T13:02:40.299Z"
   },
   {
    "duration": 0,
    "start_time": "2022-03-27T13:02:40.300Z"
   },
   {
    "duration": 0,
    "start_time": "2022-03-27T13:02:40.301Z"
   },
   {
    "duration": 0,
    "start_time": "2022-03-27T13:02:40.302Z"
   },
   {
    "duration": 0,
    "start_time": "2022-03-27T13:02:40.303Z"
   },
   {
    "duration": 139,
    "start_time": "2022-03-27T13:03:14.432Z"
   },
   {
    "duration": 153,
    "start_time": "2022-03-27T13:03:55.784Z"
   },
   {
    "duration": 293,
    "start_time": "2022-03-27T13:04:24.336Z"
   },
   {
    "duration": 10,
    "start_time": "2022-03-27T13:05:41.174Z"
   },
   {
    "duration": 307,
    "start_time": "2022-03-27T13:05:50.317Z"
   },
   {
    "duration": 27,
    "start_time": "2022-03-27T13:05:51.295Z"
   },
   {
    "duration": 5,
    "start_time": "2022-03-27T13:06:31.699Z"
   },
   {
    "duration": 512,
    "start_time": "2022-03-27T13:06:31.707Z"
   },
   {
    "duration": 34,
    "start_time": "2022-03-27T13:06:32.222Z"
   },
   {
    "duration": 11,
    "start_time": "2022-03-27T13:06:32.258Z"
   },
   {
    "duration": 37,
    "start_time": "2022-03-27T13:06:32.271Z"
   },
   {
    "duration": 11,
    "start_time": "2022-03-27T13:06:32.310Z"
   },
   {
    "duration": 29,
    "start_time": "2022-03-27T13:06:32.323Z"
   },
   {
    "duration": 36,
    "start_time": "2022-03-27T13:06:32.355Z"
   },
   {
    "duration": 24,
    "start_time": "2022-03-27T13:06:32.393Z"
   },
   {
    "duration": 20,
    "start_time": "2022-03-27T13:06:32.419Z"
   },
   {
    "duration": 29,
    "start_time": "2022-03-27T13:06:32.443Z"
   },
   {
    "duration": 21,
    "start_time": "2022-03-27T13:06:32.474Z"
   },
   {
    "duration": 9,
    "start_time": "2022-03-27T13:06:32.497Z"
   },
   {
    "duration": 46,
    "start_time": "2022-03-27T13:06:32.508Z"
   },
   {
    "duration": 92,
    "start_time": "2022-03-27T13:06:32.556Z"
   },
   {
    "duration": 16,
    "start_time": "2022-03-27T13:06:32.650Z"
   },
   {
    "duration": 37,
    "start_time": "2022-03-27T13:06:32.668Z"
   },
   {
    "duration": 3,
    "start_time": "2022-03-27T13:06:32.708Z"
   },
   {
    "duration": 11,
    "start_time": "2022-03-27T13:06:32.714Z"
   },
   {
    "duration": 19,
    "start_time": "2022-03-27T13:06:32.727Z"
   },
   {
    "duration": 10,
    "start_time": "2022-03-27T13:06:32.748Z"
   },
   {
    "duration": 14,
    "start_time": "2022-03-27T13:06:32.761Z"
   },
   {
    "duration": 19,
    "start_time": "2022-03-27T13:06:32.777Z"
   },
   {
    "duration": 17,
    "start_time": "2022-03-27T13:06:32.798Z"
   },
   {
    "duration": 9,
    "start_time": "2022-03-27T13:06:32.817Z"
   },
   {
    "duration": 24,
    "start_time": "2022-03-27T13:06:32.828Z"
   },
   {
    "duration": 15,
    "start_time": "2022-03-27T13:06:32.854Z"
   },
   {
    "duration": 49,
    "start_time": "2022-03-27T13:06:32.871Z"
   },
   {
    "duration": 24,
    "start_time": "2022-03-27T13:06:32.926Z"
   },
   {
    "duration": 32,
    "start_time": "2022-03-27T13:06:32.952Z"
   },
   {
    "duration": 26,
    "start_time": "2022-03-27T13:06:32.986Z"
   },
   {
    "duration": 28,
    "start_time": "2022-03-27T13:06:33.014Z"
   },
   {
    "duration": 29,
    "start_time": "2022-03-27T13:06:33.044Z"
   },
   {
    "duration": 35,
    "start_time": "2022-03-27T13:06:33.075Z"
   },
   {
    "duration": 20,
    "start_time": "2022-03-27T13:06:33.113Z"
   },
   {
    "duration": 23,
    "start_time": "2022-03-27T13:06:33.135Z"
   },
   {
    "duration": 30,
    "start_time": "2022-03-27T13:06:33.160Z"
   },
   {
    "duration": 30,
    "start_time": "2022-03-27T13:06:33.192Z"
   },
   {
    "duration": 36,
    "start_time": "2022-03-27T13:06:33.224Z"
   },
   {
    "duration": 8,
    "start_time": "2022-03-27T13:06:33.262Z"
   },
   {
    "duration": 9,
    "start_time": "2022-03-27T13:06:33.272Z"
   },
   {
    "duration": 21,
    "start_time": "2022-03-27T13:06:33.283Z"
   },
   {
    "duration": 13,
    "start_time": "2022-03-27T13:06:33.307Z"
   },
   {
    "duration": 12,
    "start_time": "2022-03-27T13:06:33.322Z"
   },
   {
    "duration": 32,
    "start_time": "2022-03-27T13:06:33.336Z"
   },
   {
    "duration": 33,
    "start_time": "2022-03-27T13:06:33.370Z"
   },
   {
    "duration": 35,
    "start_time": "2022-03-27T13:06:33.406Z"
   },
   {
    "duration": 12,
    "start_time": "2022-03-27T13:06:33.444Z"
   },
   {
    "duration": 34,
    "start_time": "2022-03-27T13:06:33.459Z"
   },
   {
    "duration": 13,
    "start_time": "2022-03-27T13:06:33.496Z"
   },
   {
    "duration": 21,
    "start_time": "2022-03-27T13:06:33.512Z"
   },
   {
    "duration": 11,
    "start_time": "2022-03-27T13:06:33.535Z"
   },
   {
    "duration": 52,
    "start_time": "2022-03-27T13:06:33.548Z"
   },
   {
    "duration": 12,
    "start_time": "2022-03-27T13:06:33.602Z"
   },
   {
    "duration": 41,
    "start_time": "2022-03-27T13:06:33.616Z"
   },
   {
    "duration": 4,
    "start_time": "2022-03-27T13:06:33.660Z"
   },
   {
    "duration": 15,
    "start_time": "2022-03-27T13:06:33.682Z"
   },
   {
    "duration": 39,
    "start_time": "2022-03-27T13:06:33.699Z"
   },
   {
    "duration": 4,
    "start_time": "2022-03-27T13:06:33.740Z"
   },
   {
    "duration": 27,
    "start_time": "2022-03-27T13:06:33.746Z"
   },
   {
    "duration": 18,
    "start_time": "2022-03-27T13:06:33.781Z"
   },
   {
    "duration": 4,
    "start_time": "2022-03-27T13:06:33.801Z"
   },
   {
    "duration": 36,
    "start_time": "2022-03-27T13:06:33.807Z"
   },
   {
    "duration": 32,
    "start_time": "2022-03-27T13:06:33.845Z"
   },
   {
    "duration": 30,
    "start_time": "2022-03-27T13:06:33.880Z"
   },
   {
    "duration": 10,
    "start_time": "2022-03-27T13:06:33.913Z"
   },
   {
    "duration": 19,
    "start_time": "2022-03-27T13:06:33.925Z"
   },
   {
    "duration": 39,
    "start_time": "2022-03-27T13:06:33.946Z"
   },
   {
    "duration": 15,
    "start_time": "2022-03-27T13:06:33.987Z"
   },
   {
    "duration": 15,
    "start_time": "2022-03-27T13:06:34.005Z"
   },
   {
    "duration": 15,
    "start_time": "2022-03-27T13:06:34.022Z"
   },
   {
    "duration": 13,
    "start_time": "2022-03-27T13:06:34.039Z"
   },
   {
    "duration": 17,
    "start_time": "2022-03-27T13:06:34.054Z"
   },
   {
    "duration": 27,
    "start_time": "2022-03-27T13:06:34.074Z"
   },
   {
    "duration": 16,
    "start_time": "2022-03-27T13:06:34.104Z"
   },
   {
    "duration": 30,
    "start_time": "2022-03-27T13:06:34.122Z"
   },
   {
    "duration": 16,
    "start_time": "2022-03-27T13:06:34.154Z"
   },
   {
    "duration": 5,
    "start_time": "2022-03-27T13:06:34.182Z"
   },
   {
    "duration": 19,
    "start_time": "2022-03-27T13:06:34.190Z"
   },
   {
    "duration": 23,
    "start_time": "2022-03-27T13:06:34.211Z"
   },
   {
    "duration": 151,
    "start_time": "2022-03-27T13:06:34.236Z"
   },
   {
    "duration": 0,
    "start_time": "2022-03-27T13:06:34.389Z"
   },
   {
    "duration": 328,
    "start_time": "2022-03-27T13:06:45.963Z"
   },
   {
    "duration": 27,
    "start_time": "2022-03-27T13:06:46.294Z"
   },
   {
    "duration": 12,
    "start_time": "2022-03-27T13:06:46.323Z"
   },
   {
    "duration": 56,
    "start_time": "2022-03-27T13:06:46.338Z"
   },
   {
    "duration": 8,
    "start_time": "2022-03-27T13:06:46.396Z"
   },
   {
    "duration": 9,
    "start_time": "2022-03-27T13:06:46.406Z"
   },
   {
    "duration": 10,
    "start_time": "2022-03-27T13:06:46.417Z"
   },
   {
    "duration": 59,
    "start_time": "2022-03-27T13:06:46.429Z"
   },
   {
    "duration": 6,
    "start_time": "2022-03-27T13:06:46.490Z"
   },
   {
    "duration": 12,
    "start_time": "2022-03-27T13:06:46.500Z"
   },
   {
    "duration": 6,
    "start_time": "2022-03-27T13:06:46.515Z"
   },
   {
    "duration": 59,
    "start_time": "2022-03-27T13:06:46.523Z"
   },
   {
    "duration": 6,
    "start_time": "2022-03-27T13:06:46.584Z"
   },
   {
    "duration": 16,
    "start_time": "2022-03-27T13:06:46.592Z"
   },
   {
    "duration": 12,
    "start_time": "2022-03-27T13:06:46.610Z"
   },
   {
    "duration": 27,
    "start_time": "2022-03-27T13:06:46.624Z"
   },
   {
    "duration": 33,
    "start_time": "2022-03-27T13:06:46.653Z"
   },
   {
    "duration": 12,
    "start_time": "2022-03-27T13:06:46.688Z"
   },
   {
    "duration": 9,
    "start_time": "2022-03-27T13:06:46.702Z"
   },
   {
    "duration": 20,
    "start_time": "2022-03-27T13:06:46.713Z"
   },
   {
    "duration": 6,
    "start_time": "2022-03-27T13:06:46.735Z"
   },
   {
    "duration": 46,
    "start_time": "2022-03-27T13:06:46.743Z"
   },
   {
    "duration": 7,
    "start_time": "2022-03-27T13:06:46.792Z"
   },
   {
    "duration": 20,
    "start_time": "2022-03-27T13:06:46.801Z"
   },
   {
    "duration": 5,
    "start_time": "2022-03-27T13:06:46.823Z"
   },
   {
    "duration": 13,
    "start_time": "2022-03-27T13:06:46.830Z"
   },
   {
    "duration": 4,
    "start_time": "2022-03-27T13:06:46.881Z"
   },
   {
    "duration": 4,
    "start_time": "2022-03-27T13:06:46.890Z"
   },
   {
    "duration": 4,
    "start_time": "2022-03-27T13:06:46.896Z"
   },
   {
    "duration": 6,
    "start_time": "2022-03-27T13:06:46.902Z"
   },
   {
    "duration": 5,
    "start_time": "2022-03-27T13:06:46.910Z"
   },
   {
    "duration": 5,
    "start_time": "2022-03-27T13:06:46.917Z"
   },
   {
    "duration": 13,
    "start_time": "2022-03-27T13:06:46.924Z"
   },
   {
    "duration": 49,
    "start_time": "2022-03-27T13:06:46.939Z"
   },
   {
    "duration": 37,
    "start_time": "2022-03-27T13:06:46.990Z"
   },
   {
    "duration": 57,
    "start_time": "2022-03-27T13:06:47.029Z"
   },
   {
    "duration": 10,
    "start_time": "2022-03-27T13:06:47.088Z"
   },
   {
    "duration": 14,
    "start_time": "2022-03-27T13:06:47.100Z"
   },
   {
    "duration": 385,
    "start_time": "2022-03-27T13:06:47.116Z"
   },
   {
    "duration": 4,
    "start_time": "2022-03-27T13:06:47.503Z"
   },
   {
    "duration": 314,
    "start_time": "2022-03-27T13:06:47.508Z"
   },
   {
    "duration": 319,
    "start_time": "2022-03-27T13:06:47.825Z"
   },
   {
    "duration": 306,
    "start_time": "2022-03-27T13:06:48.146Z"
   },
   {
    "duration": 331,
    "start_time": "2022-03-27T13:06:48.454Z"
   },
   {
    "duration": 340,
    "start_time": "2022-03-27T13:06:48.787Z"
   },
   {
    "duration": 519,
    "start_time": "2022-03-27T13:06:49.129Z"
   },
   {
    "duration": 432,
    "start_time": "2022-03-27T13:06:49.650Z"
   },
   {
    "duration": 446,
    "start_time": "2022-03-27T13:06:50.084Z"
   },
   {
    "duration": 450,
    "start_time": "2022-03-27T13:06:50.532Z"
   },
   {
    "duration": 4,
    "start_time": "2022-03-27T13:06:50.984Z"
   },
   {
    "duration": 6,
    "start_time": "2022-03-27T13:06:50.990Z"
   },
   {
    "duration": 6,
    "start_time": "2022-03-27T13:06:50.998Z"
   },
   {
    "duration": 13,
    "start_time": "2022-03-27T13:06:51.006Z"
   },
   {
    "duration": 3,
    "start_time": "2022-03-27T13:06:51.021Z"
   },
   {
    "duration": 12,
    "start_time": "2022-03-27T13:06:51.026Z"
   },
   {
    "duration": 45,
    "start_time": "2022-03-27T13:06:51.040Z"
   },
   {
    "duration": 9,
    "start_time": "2022-03-27T13:06:51.087Z"
   },
   {
    "duration": 15,
    "start_time": "2022-03-27T13:06:51.098Z"
   },
   {
    "duration": 3,
    "start_time": "2022-03-27T13:06:51.116Z"
   },
   {
    "duration": 8,
    "start_time": "2022-03-27T13:06:51.121Z"
   },
   {
    "duration": 12,
    "start_time": "2022-03-27T13:06:51.131Z"
   }
  ],
  "kernelspec": {
   "display_name": "Python 3 (ipykernel)",
   "language": "python",
   "name": "python3"
  },
  "language_info": {
   "codemirror_mode": {
    "name": "ipython",
    "version": 3
   },
   "file_extension": ".py",
   "mimetype": "text/x-python",
   "name": "python",
   "nbconvert_exporter": "python",
   "pygments_lexer": "ipython3",
   "version": "3.9.7"
  },
  "toc": {
   "base_numbering": 1,
   "nav_menu": {},
   "number_sections": true,
   "sideBar": true,
   "skip_h1_title": true,
   "title_cell": "Table of Contents",
   "title_sidebar": "Contents",
   "toc_cell": false,
   "toc_position": {},
   "toc_section_display": true,
   "toc_window_display": false
  }
 },
 "nbformat": 4,
 "nbformat_minor": 2
}
