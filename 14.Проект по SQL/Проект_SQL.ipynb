{
 "cells": [
  {
   "cell_type": "markdown",
   "metadata": {},
   "source": [
    "# Проект по SQL"
   ]
  },
  {
   "cell_type": "markdown",
   "metadata": {},
   "source": [
    "# Содержание:\n",
    "1. [Вводная часть](#step1)\n",
    "2. [Цели исследования](#step2)\n",
    "3. [Описание данных](#step3)\n",
    "4. [Исследование таблицы](#step4)\n",
    "5. [Задание 1.](#step5)\n",
    "6. [Задание 2.](#step6)\n",
    "7. [Задание 3.](#step7)\n",
    "8. [Задание 4.](#step8)\n",
    "9. [Задание 5.](#step9)"
   ]
  },
  {
   "cell_type": "markdown",
   "metadata": {},
   "source": [
    "# Вводная часть: <a id=\"step1\"></a>   \n",
    "</div>\n",
    "Коронавирус застал мир врасплох, изменив привычный порядок вещей. В свободное время жители городов больше не выходят на улицу, не посещают кафе и торговые центры. Зато стало больше времени для книг. Это заметили стартаперы — и бросились создавать приложения для тех, кто любит читать.\n",
    "Наша компания решила быть на волне и купила крупный сервис для чтения книг по подписке."
   ]
  },
  {
   "cell_type": "markdown",
   "metadata": {},
   "source": [
    "# Цели исследования:<a id=\"step2\"></a>   \n",
    "</div>\n",
    "\n",
    "* проанализировать базу данных. В ней — информация о книгах, издательствах, авторах, а также пользовательские обзоры книг; \n",
    "\n",
    "* сформулировать ценностное предложение для нового продукта."
   ]
  },
  {
   "cell_type": "markdown",
   "metadata": {},
   "source": [
    "# Описание данных: <a id=\"step3\"></a>   \n",
    "</div>\n",
    "\n",
    "* Таблица `books` - cодержит данные о книгах:\n",
    "`book_id` — идентификатор книги;\n",
    "`author_id` — идентификатор автора;\n",
    "`title` — название книги;\n",
    "`num_pages` — количество страниц;\n",
    "`publication_date` — дата публикации книги;\n",
    "`publisher_id` — идентификатор издателя.\n",
    "\n",
    "\n",
    "* Таблица `authors` - cодержит данные об авторах:\n",
    "`author_id` — идентификатор автора;\n",
    "`author` — имя автора.\n",
    "\n",
    "\n",
    "* Таблица `publishers` - cодержит данные об издательствах:\n",
    "`publisher_id` — идентификатор издательства;\n",
    "`publisher` — название издательства;\n",
    "\n",
    "\n",
    "* Таблица `ratings` - cодержит данные о пользовательских оценках книг:\n",
    "`rating_id` — идентификатор оценки;\n",
    "`book_id` — идентификатор книги;\n",
    "`username` — имя пользователя, оставившего оценку;\n",
    "`rating` — оценка книги.\n",
    "\n",
    "\n",
    "* Таблица `reviews`- cодержит данные о пользовательских обзорах:\n",
    "`review_id` — идентификатор обзора;\n",
    "`book_id` — идентификатор книги;\n",
    "`username` — имя автора обзора;\n",
    "`text` — текст обзора."
   ]
  },
  {
   "cell_type": "markdown",
   "metadata": {},
   "source": [
    "# Исследование таблицы: <a id=\"step4\"></a>   \n",
    "</div>"
   ]
  },
  {
   "cell_type": "code",
   "execution_count": 1,
   "metadata": {},
   "outputs": [],
   "source": [
    "# импортируем библиотеки\n",
    "import pandas as pd\n",
    "from sqlalchemy import create_engine\n",
    "# устанавливаем параметры\n",
    "db_config = {'user': 'praktikum_student', # имя пользователя\n",
    "            'pwd': 'Sdf4$2;d-d30pp', # пароль\n",
    "            'host': 'rc1b-wcoijxj3yxfsf3fs.mdb.yandexcloud.net',\n",
    "            'port': 6432, # порт подключения\n",
    "            'db': 'data-analyst-final-project-db'} # название базы данных\n",
    "connection_string = 'postgresql://{}:{}@{}:{}/{}'.format(db_config['user'],\n",
    "                                                         db_config['pwd'],\n",
    "                                                         db_config['host'],\n",
    "                                                         db_config['port'],\n",
    "                                                         db_config['db'])\n",
    "# сохраняем коннектор\n",
    "engine = create_engine(connection_string, connect_args={'sslmode':'require'})"
   ]
  },
  {
   "cell_type": "markdown",
   "metadata": {},
   "source": [
    "Выведем первые строки каждой таблицы:"
   ]
  },
  {
   "cell_type": "code",
   "execution_count": 2,
   "metadata": {},
   "outputs": [
    {
     "data": {
      "text/html": [
       "<div>\n",
       "<style scoped>\n",
       "    .dataframe tbody tr th:only-of-type {\n",
       "        vertical-align: middle;\n",
       "    }\n",
       "\n",
       "    .dataframe tbody tr th {\n",
       "        vertical-align: top;\n",
       "    }\n",
       "\n",
       "    .dataframe thead th {\n",
       "        text-align: right;\n",
       "    }\n",
       "</style>\n",
       "<table border=\"1\" class=\"dataframe\">\n",
       "  <thead>\n",
       "    <tr style=\"text-align: right;\">\n",
       "      <th></th>\n",
       "      <th>book_id</th>\n",
       "      <th>author_id</th>\n",
       "      <th>title</th>\n",
       "      <th>num_pages</th>\n",
       "      <th>publication_date</th>\n",
       "      <th>publisher_id</th>\n",
       "    </tr>\n",
       "  </thead>\n",
       "  <tbody>\n",
       "    <tr>\n",
       "      <th>0</th>\n",
       "      <td>1</td>\n",
       "      <td>546</td>\n",
       "      <td>'Salem's Lot</td>\n",
       "      <td>594</td>\n",
       "      <td>2005-11-01</td>\n",
       "      <td>93</td>\n",
       "    </tr>\n",
       "  </tbody>\n",
       "</table>\n",
       "</div>"
      ],
      "text/plain": [
       "   book_id  author_id         title  num_pages publication_date  publisher_id\n",
       "0        1        546  'Salem's Lot        594       2005-11-01            93"
      ]
     },
     "execution_count": 2,
     "metadata": {},
     "output_type": "execute_result"
    }
   ],
   "source": [
    "# Таблица `books`\n",
    "query_1 = '''\n",
    "SELECT *\n",
    "FROM books\n",
    "LIMIT 1;\n",
    "'''\n",
    "pd.io.sql.read_sql(query_1, con = engine) "
   ]
  },
  {
   "cell_type": "code",
   "execution_count": 3,
   "metadata": {},
   "outputs": [
    {
     "data": {
      "text/html": [
       "<div>\n",
       "<style scoped>\n",
       "    .dataframe tbody tr th:only-of-type {\n",
       "        vertical-align: middle;\n",
       "    }\n",
       "\n",
       "    .dataframe tbody tr th {\n",
       "        vertical-align: top;\n",
       "    }\n",
       "\n",
       "    .dataframe thead th {\n",
       "        text-align: right;\n",
       "    }\n",
       "</style>\n",
       "<table border=\"1\" class=\"dataframe\">\n",
       "  <thead>\n",
       "    <tr style=\"text-align: right;\">\n",
       "      <th></th>\n",
       "      <th>author_id</th>\n",
       "      <th>author</th>\n",
       "    </tr>\n",
       "  </thead>\n",
       "  <tbody>\n",
       "    <tr>\n",
       "      <th>0</th>\n",
       "      <td>1</td>\n",
       "      <td>A.S. Byatt</td>\n",
       "    </tr>\n",
       "  </tbody>\n",
       "</table>\n",
       "</div>"
      ],
      "text/plain": [
       "   author_id      author\n",
       "0          1  A.S. Byatt"
      ]
     },
     "execution_count": 3,
     "metadata": {},
     "output_type": "execute_result"
    }
   ],
   "source": [
    "# Таблица `authors`\n",
    "query_2 = '''\n",
    "SELECT *\n",
    "FROM authors\n",
    "LIMIT 1;\n",
    "'''\n",
    "pd.io.sql.read_sql(query_2, con = engine)"
   ]
  },
  {
   "cell_type": "code",
   "execution_count": 4,
   "metadata": {},
   "outputs": [
    {
     "data": {
      "text/html": [
       "<div>\n",
       "<style scoped>\n",
       "    .dataframe tbody tr th:only-of-type {\n",
       "        vertical-align: middle;\n",
       "    }\n",
       "\n",
       "    .dataframe tbody tr th {\n",
       "        vertical-align: top;\n",
       "    }\n",
       "\n",
       "    .dataframe thead th {\n",
       "        text-align: right;\n",
       "    }\n",
       "</style>\n",
       "<table border=\"1\" class=\"dataframe\">\n",
       "  <thead>\n",
       "    <tr style=\"text-align: right;\">\n",
       "      <th></th>\n",
       "      <th>rating_id</th>\n",
       "      <th>book_id</th>\n",
       "      <th>username</th>\n",
       "      <th>rating</th>\n",
       "    </tr>\n",
       "  </thead>\n",
       "  <tbody>\n",
       "    <tr>\n",
       "      <th>0</th>\n",
       "      <td>1</td>\n",
       "      <td>1</td>\n",
       "      <td>ryanfranco</td>\n",
       "      <td>4</td>\n",
       "    </tr>\n",
       "  </tbody>\n",
       "</table>\n",
       "</div>"
      ],
      "text/plain": [
       "   rating_id  book_id    username  rating\n",
       "0          1        1  ryanfranco       4"
      ]
     },
     "execution_count": 4,
     "metadata": {},
     "output_type": "execute_result"
    }
   ],
   "source": [
    "# Таблица `ratings`\n",
    "query_3 = '''\n",
    "SELECT *\n",
    "FROM ratings\n",
    "LIMIT 1;\n",
    "'''\n",
    "pd.io.sql.read_sql(query_3, con = engine)"
   ]
  },
  {
   "cell_type": "code",
   "execution_count": 5,
   "metadata": {},
   "outputs": [
    {
     "data": {
      "text/html": [
       "<div>\n",
       "<style scoped>\n",
       "    .dataframe tbody tr th:only-of-type {\n",
       "        vertical-align: middle;\n",
       "    }\n",
       "\n",
       "    .dataframe tbody tr th {\n",
       "        vertical-align: top;\n",
       "    }\n",
       "\n",
       "    .dataframe thead th {\n",
       "        text-align: right;\n",
       "    }\n",
       "</style>\n",
       "<table border=\"1\" class=\"dataframe\">\n",
       "  <thead>\n",
       "    <tr style=\"text-align: right;\">\n",
       "      <th></th>\n",
       "      <th>review_id</th>\n",
       "      <th>book_id</th>\n",
       "      <th>username</th>\n",
       "      <th>text</th>\n",
       "    </tr>\n",
       "  </thead>\n",
       "  <tbody>\n",
       "    <tr>\n",
       "      <th>0</th>\n",
       "      <td>1</td>\n",
       "      <td>1</td>\n",
       "      <td>brandtandrea</td>\n",
       "      <td>Mention society tell send professor analysis. ...</td>\n",
       "    </tr>\n",
       "  </tbody>\n",
       "</table>\n",
       "</div>"
      ],
      "text/plain": [
       "   review_id  book_id      username  \\\n",
       "0          1        1  brandtandrea   \n",
       "\n",
       "                                                text  \n",
       "0  Mention society tell send professor analysis. ...  "
      ]
     },
     "execution_count": 5,
     "metadata": {},
     "output_type": "execute_result"
    }
   ],
   "source": [
    "# Таблица `reviews`\n",
    "query_4 = '''\n",
    "SELECT *\n",
    "FROM reviews\n",
    "LIMIT 1;\n",
    "'''\n",
    "pd.io.sql.read_sql(query_4, con = engine)"
   ]
  },
  {
   "cell_type": "code",
   "execution_count": 6,
   "metadata": {},
   "outputs": [
    {
     "data": {
      "text/html": [
       "<div>\n",
       "<style scoped>\n",
       "    .dataframe tbody tr th:only-of-type {\n",
       "        vertical-align: middle;\n",
       "    }\n",
       "\n",
       "    .dataframe tbody tr th {\n",
       "        vertical-align: top;\n",
       "    }\n",
       "\n",
       "    .dataframe thead th {\n",
       "        text-align: right;\n",
       "    }\n",
       "</style>\n",
       "<table border=\"1\" class=\"dataframe\">\n",
       "  <thead>\n",
       "    <tr style=\"text-align: right;\">\n",
       "      <th></th>\n",
       "      <th>publisher_id</th>\n",
       "      <th>publisher</th>\n",
       "    </tr>\n",
       "  </thead>\n",
       "  <tbody>\n",
       "    <tr>\n",
       "      <th>0</th>\n",
       "      <td>1</td>\n",
       "      <td>Ace</td>\n",
       "    </tr>\n",
       "  </tbody>\n",
       "</table>\n",
       "</div>"
      ],
      "text/plain": [
       "   publisher_id publisher\n",
       "0             1       Ace"
      ]
     },
     "execution_count": 6,
     "metadata": {},
     "output_type": "execute_result"
    }
   ],
   "source": [
    "# Таблица `publishers`\n",
    "query_5 = '''\n",
    "SELECT *\n",
    "FROM publishers\n",
    "LIMIT 1;\n",
    "'''\n",
    "pd.io.sql.read_sql(query_5, con = engine)"
   ]
  },
  {
   "cell_type": "markdown",
   "metadata": {},
   "source": [
    "#### Промежуточные выводы:\n",
    "* Библиотеки импортированы, параметры установлены, данные таблиц получены."
   ]
  },
  {
   "cell_type": "markdown",
   "metadata": {},
   "source": [
    "# Задание 1. Посчитайте, сколько книг вышло после 1 января 2000 года: <a id=\"step5\"></a>   \n",
    "</div>"
   ]
  },
  {
   "cell_type": "code",
   "execution_count": 7,
   "metadata": {},
   "outputs": [
    {
     "data": {
      "text/html": [
       "<div>\n",
       "<style scoped>\n",
       "    .dataframe tbody tr th:only-of-type {\n",
       "        vertical-align: middle;\n",
       "    }\n",
       "\n",
       "    .dataframe tbody tr th {\n",
       "        vertical-align: top;\n",
       "    }\n",
       "\n",
       "    .dataframe thead th {\n",
       "        text-align: right;\n",
       "    }\n",
       "</style>\n",
       "<table border=\"1\" class=\"dataframe\">\n",
       "  <thead>\n",
       "    <tr style=\"text-align: right;\">\n",
       "      <th></th>\n",
       "      <th>count_book</th>\n",
       "    </tr>\n",
       "  </thead>\n",
       "  <tbody>\n",
       "    <tr>\n",
       "      <th>0</th>\n",
       "      <td>821</td>\n",
       "    </tr>\n",
       "  </tbody>\n",
       "</table>\n",
       "</div>"
      ],
      "text/plain": [
       "   count_book\n",
       "0         821"
      ]
     },
     "execution_count": 7,
     "metadata": {},
     "output_type": "execute_result"
    }
   ],
   "source": [
    "mission_1 = '''\n",
    "SELECT COUNT (book_id) AS count_book\n",
    "FROM books\n",
    "WHERE publication_date >= '2000-01-01';\n",
    "'''\n",
    "pd.io.sql.read_sql(mission_1, con = engine)"
   ]
  },
  {
   "cell_type": "markdown",
   "metadata": {},
   "source": [
    "С 1 января 2000 года до пандемии вышла 821 книга. Довольно небольшой результат."
   ]
  },
  {
   "cell_type": "markdown",
   "metadata": {},
   "source": [
    "# Задание 2. Для каждой книги посчитайте количество обзоров и среднюю оценку: <a id=\"step6\"></a>   \n",
    "</div>"
   ]
  },
  {
   "cell_type": "code",
   "execution_count": 8,
   "metadata": {},
   "outputs": [
    {
     "data": {
      "text/html": [
       "<div>\n",
       "<style scoped>\n",
       "    .dataframe tbody tr th:only-of-type {\n",
       "        vertical-align: middle;\n",
       "    }\n",
       "\n",
       "    .dataframe tbody tr th {\n",
       "        vertical-align: top;\n",
       "    }\n",
       "\n",
       "    .dataframe thead th {\n",
       "        text-align: right;\n",
       "    }\n",
       "</style>\n",
       "<table border=\"1\" class=\"dataframe\">\n",
       "  <thead>\n",
       "    <tr style=\"text-align: right;\">\n",
       "      <th></th>\n",
       "      <th>book_id</th>\n",
       "      <th>count</th>\n",
       "    </tr>\n",
       "  </thead>\n",
       "  <tbody>\n",
       "    <tr>\n",
       "      <th>0</th>\n",
       "      <td>652</td>\n",
       "      <td>2</td>\n",
       "    </tr>\n",
       "    <tr>\n",
       "      <th>1</th>\n",
       "      <td>273</td>\n",
       "      <td>2</td>\n",
       "    </tr>\n",
       "    <tr>\n",
       "      <th>2</th>\n",
       "      <td>51</td>\n",
       "      <td>5</td>\n",
       "    </tr>\n",
       "    <tr>\n",
       "      <th>3</th>\n",
       "      <td>951</td>\n",
       "      <td>2</td>\n",
       "    </tr>\n",
       "    <tr>\n",
       "      <th>4</th>\n",
       "      <td>839</td>\n",
       "      <td>4</td>\n",
       "    </tr>\n",
       "    <tr>\n",
       "      <th>...</th>\n",
       "      <td>...</td>\n",
       "      <td>...</td>\n",
       "    </tr>\n",
       "    <tr>\n",
       "      <th>989</th>\n",
       "      <td>64</td>\n",
       "      <td>4</td>\n",
       "    </tr>\n",
       "    <tr>\n",
       "      <th>990</th>\n",
       "      <td>55</td>\n",
       "      <td>2</td>\n",
       "    </tr>\n",
       "    <tr>\n",
       "      <th>991</th>\n",
       "      <td>148</td>\n",
       "      <td>3</td>\n",
       "    </tr>\n",
       "    <tr>\n",
       "      <th>992</th>\n",
       "      <td>790</td>\n",
       "      <td>2</td>\n",
       "    </tr>\n",
       "    <tr>\n",
       "      <th>993</th>\n",
       "      <td>828</td>\n",
       "      <td>2</td>\n",
       "    </tr>\n",
       "  </tbody>\n",
       "</table>\n",
       "<p>994 rows × 2 columns</p>\n",
       "</div>"
      ],
      "text/plain": [
       "     book_id  count\n",
       "0        652      2\n",
       "1        273      2\n",
       "2         51      5\n",
       "3        951      2\n",
       "4        839      4\n",
       "..       ...    ...\n",
       "989       64      4\n",
       "990       55      2\n",
       "991      148      3\n",
       "992      790      2\n",
       "993      828      2\n",
       "\n",
       "[994 rows x 2 columns]"
      ]
     },
     "execution_count": 8,
     "metadata": {},
     "output_type": "execute_result"
    }
   ],
   "source": [
    "# Выделяем идентификатор книги и количество обзоров\n",
    "m_2 = '''\n",
    "SELECT book_id,\n",
    "       COUNT(review_id)\n",
    "FROM reviews\n",
    "GROUP BY book_id;\n",
    "'''\n",
    "pd.io.sql.read_sql(m_2, con = engine)"
   ]
  },
  {
   "cell_type": "code",
   "execution_count": 9,
   "metadata": {},
   "outputs": [
    {
     "data": {
      "text/html": [
       "<div>\n",
       "<style scoped>\n",
       "    .dataframe tbody tr th:only-of-type {\n",
       "        vertical-align: middle;\n",
       "    }\n",
       "\n",
       "    .dataframe tbody tr th {\n",
       "        vertical-align: top;\n",
       "    }\n",
       "\n",
       "    .dataframe thead th {\n",
       "        text-align: right;\n",
       "    }\n",
       "</style>\n",
       "<table border=\"1\" class=\"dataframe\">\n",
       "  <thead>\n",
       "    <tr style=\"text-align: right;\">\n",
       "      <th></th>\n",
       "      <th>book_id</th>\n",
       "      <th>avg</th>\n",
       "    </tr>\n",
       "  </thead>\n",
       "  <tbody>\n",
       "    <tr>\n",
       "      <th>0</th>\n",
       "      <td>652</td>\n",
       "      <td>4.500000</td>\n",
       "    </tr>\n",
       "    <tr>\n",
       "      <th>1</th>\n",
       "      <td>273</td>\n",
       "      <td>4.500000</td>\n",
       "    </tr>\n",
       "    <tr>\n",
       "      <th>2</th>\n",
       "      <td>51</td>\n",
       "      <td>4.250000</td>\n",
       "    </tr>\n",
       "    <tr>\n",
       "      <th>3</th>\n",
       "      <td>951</td>\n",
       "      <td>4.000000</td>\n",
       "    </tr>\n",
       "    <tr>\n",
       "      <th>4</th>\n",
       "      <td>839</td>\n",
       "      <td>4.285714</td>\n",
       "    </tr>\n",
       "    <tr>\n",
       "      <th>...</th>\n",
       "      <td>...</td>\n",
       "      <td>...</td>\n",
       "    </tr>\n",
       "    <tr>\n",
       "      <th>995</th>\n",
       "      <td>64</td>\n",
       "      <td>4.230769</td>\n",
       "    </tr>\n",
       "    <tr>\n",
       "      <th>996</th>\n",
       "      <td>55</td>\n",
       "      <td>5.000000</td>\n",
       "    </tr>\n",
       "    <tr>\n",
       "      <th>997</th>\n",
       "      <td>148</td>\n",
       "      <td>3.428571</td>\n",
       "    </tr>\n",
       "    <tr>\n",
       "      <th>998</th>\n",
       "      <td>790</td>\n",
       "      <td>3.500000</td>\n",
       "    </tr>\n",
       "    <tr>\n",
       "      <th>999</th>\n",
       "      <td>828</td>\n",
       "      <td>3.000000</td>\n",
       "    </tr>\n",
       "  </tbody>\n",
       "</table>\n",
       "<p>1000 rows × 2 columns</p>\n",
       "</div>"
      ],
      "text/plain": [
       "     book_id       avg\n",
       "0        652  4.500000\n",
       "1        273  4.500000\n",
       "2         51  4.250000\n",
       "3        951  4.000000\n",
       "4        839  4.285714\n",
       "..       ...       ...\n",
       "995       64  4.230769\n",
       "996       55  5.000000\n",
       "997      148  3.428571\n",
       "998      790  3.500000\n",
       "999      828  3.000000\n",
       "\n",
       "[1000 rows x 2 columns]"
      ]
     },
     "execution_count": 9,
     "metadata": {},
     "output_type": "execute_result"
    }
   ],
   "source": [
    "# Выделяем идентификатор книги и среднюю оценку\n",
    "m_3 = '''\n",
    "SELECT book_id,\n",
    "       AVG(rating)\n",
    "FROM ratings\n",
    "GROUP BY book_id;\n",
    "'''\n",
    "pd.io.sql.read_sql(m_3, con = engine)"
   ]
  },
  {
   "cell_type": "code",
   "execution_count": 10,
   "metadata": {},
   "outputs": [
    {
     "data": {
      "text/html": [
       "<div>\n",
       "<style scoped>\n",
       "    .dataframe tbody tr th:only-of-type {\n",
       "        vertical-align: middle;\n",
       "    }\n",
       "\n",
       "    .dataframe tbody tr th {\n",
       "        vertical-align: top;\n",
       "    }\n",
       "\n",
       "    .dataframe thead th {\n",
       "        text-align: right;\n",
       "    }\n",
       "</style>\n",
       "<table border=\"1\" class=\"dataframe\">\n",
       "  <thead>\n",
       "    <tr style=\"text-align: right;\">\n",
       "      <th></th>\n",
       "      <th>book_id</th>\n",
       "      <th>title_book</th>\n",
       "      <th>count_review_id</th>\n",
       "      <th>avg_rating</th>\n",
       "    </tr>\n",
       "  </thead>\n",
       "  <tbody>\n",
       "    <tr>\n",
       "      <th>0</th>\n",
       "      <td>652</td>\n",
       "      <td>The Body in the Library (Miss Marple  #3)</td>\n",
       "      <td>2.0</td>\n",
       "      <td>4.500000</td>\n",
       "    </tr>\n",
       "    <tr>\n",
       "      <th>1</th>\n",
       "      <td>273</td>\n",
       "      <td>Galápagos</td>\n",
       "      <td>2.0</td>\n",
       "      <td>4.500000</td>\n",
       "    </tr>\n",
       "    <tr>\n",
       "      <th>2</th>\n",
       "      <td>51</td>\n",
       "      <td>A Tree Grows in Brooklyn</td>\n",
       "      <td>5.0</td>\n",
       "      <td>4.250000</td>\n",
       "    </tr>\n",
       "    <tr>\n",
       "      <th>3</th>\n",
       "      <td>951</td>\n",
       "      <td>Undaunted Courage: The Pioneering First Missio...</td>\n",
       "      <td>2.0</td>\n",
       "      <td>4.000000</td>\n",
       "    </tr>\n",
       "    <tr>\n",
       "      <th>4</th>\n",
       "      <td>839</td>\n",
       "      <td>The Prophet</td>\n",
       "      <td>4.0</td>\n",
       "      <td>4.285714</td>\n",
       "    </tr>\n",
       "    <tr>\n",
       "      <th>...</th>\n",
       "      <td>...</td>\n",
       "      <td>...</td>\n",
       "      <td>...</td>\n",
       "      <td>...</td>\n",
       "    </tr>\n",
       "    <tr>\n",
       "      <th>995</th>\n",
       "      <td>64</td>\n",
       "      <td>Alice in Wonderland</td>\n",
       "      <td>4.0</td>\n",
       "      <td>4.230769</td>\n",
       "    </tr>\n",
       "    <tr>\n",
       "      <th>996</th>\n",
       "      <td>55</td>\n",
       "      <td>A Woman of Substance (Emma Harte Saga #1)</td>\n",
       "      <td>2.0</td>\n",
       "      <td>5.000000</td>\n",
       "    </tr>\n",
       "    <tr>\n",
       "      <th>997</th>\n",
       "      <td>148</td>\n",
       "      <td>Christine</td>\n",
       "      <td>3.0</td>\n",
       "      <td>3.428571</td>\n",
       "    </tr>\n",
       "    <tr>\n",
       "      <th>998</th>\n",
       "      <td>790</td>\n",
       "      <td>The Magicians' Guild (Black Magician Trilogy  #1)</td>\n",
       "      <td>2.0</td>\n",
       "      <td>3.500000</td>\n",
       "    </tr>\n",
       "    <tr>\n",
       "      <th>999</th>\n",
       "      <td>828</td>\n",
       "      <td>The Plot Against America</td>\n",
       "      <td>2.0</td>\n",
       "      <td>3.000000</td>\n",
       "    </tr>\n",
       "  </tbody>\n",
       "</table>\n",
       "<p>1000 rows × 4 columns</p>\n",
       "</div>"
      ],
      "text/plain": [
       "     book_id                                         title_book  \\\n",
       "0        652          The Body in the Library (Miss Marple  #3)   \n",
       "1        273                                          Galápagos   \n",
       "2         51                           A Tree Grows in Brooklyn   \n",
       "3        951  Undaunted Courage: The Pioneering First Missio...   \n",
       "4        839                                        The Prophet   \n",
       "..       ...                                                ...   \n",
       "995       64                                Alice in Wonderland   \n",
       "996       55          A Woman of Substance (Emma Harte Saga #1)   \n",
       "997      148                                          Christine   \n",
       "998      790  The Magicians' Guild (Black Magician Trilogy  #1)   \n",
       "999      828                           The Plot Against America   \n",
       "\n",
       "     count_review_id  avg_rating  \n",
       "0                2.0    4.500000  \n",
       "1                2.0    4.500000  \n",
       "2                5.0    4.250000  \n",
       "3                2.0    4.000000  \n",
       "4                4.0    4.285714  \n",
       "..               ...         ...  \n",
       "995              4.0    4.230769  \n",
       "996              2.0    5.000000  \n",
       "997              3.0    3.428571  \n",
       "998              2.0    3.500000  \n",
       "999              2.0    3.000000  \n",
       "\n",
       "[1000 rows x 4 columns]"
      ]
     },
     "execution_count": 10,
     "metadata": {},
     "output_type": "execute_result"
    }
   ],
   "source": [
    "# Соединяем: к таблице с книгами левым джойном присоединяем таблицу с оценками (чтобы не пропали книги, у кого нет оценок),\n",
    "# а затем присоединяем книги с обзорами, т.к. там точно есть книги без обзоров, чтобы наши книги не пропали\n",
    "mission_2 = '''\n",
    "SELECT bo.book_id AS book_id,\n",
    "       bo.title AS title_book,\n",
    "       re.count AS count_review_id,\n",
    "       ra.avg AS avg_rating\n",
    "FROM books AS bo\n",
    "LEFT JOIN (SELECT book_id,\n",
    "           AVG(rating)\n",
    "           FROM ratings\n",
    "           GROUP BY book_id) AS ra ON ra.book_id = bo.book_id\n",
    "LEFT JOIN (SELECT book_id,\n",
    "           COUNT(review_id)\n",
    "           FROM reviews\n",
    "           GROUP BY book_id) AS re ON re.book_id = bo.book_id\n",
    "'''\n",
    "pd.io.sql.read_sql(mission_2, con = engine)"
   ]
  },
  {
   "cell_type": "code",
   "execution_count": 11,
   "metadata": {},
   "outputs": [
    {
     "data": {
      "text/plain": [
       "2.0    444\n",
       "3.0    277\n",
       "4.0    160\n",
       "5.0     60\n",
       "1.0     37\n",
       "6.0     15\n",
       "7.0      1\n",
       "Name: count_review_id, dtype: int64"
      ]
     },
     "execution_count": 11,
     "metadata": {},
     "output_type": "execute_result"
    }
   ],
   "source": [
    "# Посмотрим количество распределений обзоров\n",
    "pd.io.sql.read_sql(mission_2, con = engine)['count_review_id'].value_counts()"
   ]
  },
  {
   "cell_type": "markdown",
   "metadata": {},
   "source": [
    "В основном у всех книг от 2 до 4 пользовательских обзоров. Посмотрим, у кого 7 обзоров:"
   ]
  },
  {
   "cell_type": "code",
   "execution_count": 12,
   "metadata": {},
   "outputs": [
    {
     "data": {
      "text/html": [
       "<div>\n",
       "<style scoped>\n",
       "    .dataframe tbody tr th:only-of-type {\n",
       "        vertical-align: middle;\n",
       "    }\n",
       "\n",
       "    .dataframe tbody tr th {\n",
       "        vertical-align: top;\n",
       "    }\n",
       "\n",
       "    .dataframe thead th {\n",
       "        text-align: right;\n",
       "    }\n",
       "</style>\n",
       "<table border=\"1\" class=\"dataframe\">\n",
       "  <thead>\n",
       "    <tr style=\"text-align: right;\">\n",
       "      <th></th>\n",
       "      <th>book_id</th>\n",
       "      <th>title_book</th>\n",
       "      <th>count_review_id</th>\n",
       "      <th>avg_rating</th>\n",
       "    </tr>\n",
       "  </thead>\n",
       "  <tbody>\n",
       "    <tr>\n",
       "      <th>161</th>\n",
       "      <td>948</td>\n",
       "      <td>Twilight (Twilight  #1)</td>\n",
       "      <td>7.0</td>\n",
       "      <td>3.6625</td>\n",
       "    </tr>\n",
       "  </tbody>\n",
       "</table>\n",
       "</div>"
      ],
      "text/plain": [
       "     book_id               title_book  count_review_id  avg_rating\n",
       "161      948  Twilight (Twilight  #1)              7.0      3.6625"
      ]
     },
     "execution_count": 12,
     "metadata": {},
     "output_type": "execute_result"
    }
   ],
   "source": [
    "pd.io.sql.read_sql(mission_2, con = engine).query('count_review_id == 7.0')"
   ]
  },
  {
   "cell_type": "markdown",
   "metadata": {},
   "source": [
    "У книги \"Сумерки\" больше всего пользовательских обзоров."
   ]
  },
  {
   "cell_type": "code",
   "execution_count": 13,
   "metadata": {},
   "outputs": [
    {
     "data": {
      "text/plain": [
       "count    1000.000000\n",
       "mean        3.898973\n",
       "std         0.562376\n",
       "min         1.500000\n",
       "25%         3.500000\n",
       "50%         4.000000\n",
       "75%         4.333333\n",
       "max         5.000000\n",
       "Name: avg_rating, dtype: float64"
      ]
     },
     "execution_count": 13,
     "metadata": {},
     "output_type": "execute_result"
    }
   ],
   "source": [
    "# Посмотрим значение оценок\n",
    "pd.io.sql.read_sql(mission_2, con = engine)['avg_rating'].describe()"
   ]
  },
  {
   "cell_type": "code",
   "execution_count": 14,
   "metadata": {},
   "outputs": [
    {
     "name": "stdout",
     "output_type": "stream",
     "text": [
      "<class 'pandas.core.frame.DataFrame'>\n",
      "RangeIndex: 1000 entries, 0 to 999\n",
      "Data columns (total 4 columns):\n",
      " #   Column           Non-Null Count  Dtype  \n",
      "---  ------           --------------  -----  \n",
      " 0   book_id          1000 non-null   int64  \n",
      " 1   title_book       1000 non-null   object \n",
      " 2   count_review_id  994 non-null    float64\n",
      " 3   avg_rating       1000 non-null   float64\n",
      "dtypes: float64(2), int64(1), object(1)\n",
      "memory usage: 31.4+ KB\n"
     ]
    }
   ],
   "source": [
    "# Посмотрим общую информацию\n",
    "pd.io.sql.read_sql(mission_2, con = engine).info()"
   ]
  },
  {
   "cell_type": "markdown",
   "metadata": {},
   "source": [
    "#### Вывод:\n",
    "* В нашей библиотеке 1000 книг: пользовательские оценки есть на всех, а пользовательские обзоры нет;\n",
    "* Количество обзоров на книги от 1 до 7;\n",
    "* Оценки от 1.5 до 5. Средняя оценка - 4.00 балла. Это хороший результат"
   ]
  },
  {
   "cell_type": "markdown",
   "metadata": {},
   "source": [
    "# Задание 3. Определите издательство, которое выпустило наибольшее число книг толще 50 страниц — так вы исключите из анализа брошюры: <a id=\"step7\"></a>   \n",
    "</div>"
   ]
  },
  {
   "cell_type": "code",
   "execution_count": 15,
   "metadata": {},
   "outputs": [
    {
     "data": {
      "text/html": [
       "<div>\n",
       "<style scoped>\n",
       "    .dataframe tbody tr th:only-of-type {\n",
       "        vertical-align: middle;\n",
       "    }\n",
       "\n",
       "    .dataframe tbody tr th {\n",
       "        vertical-align: top;\n",
       "    }\n",
       "\n",
       "    .dataframe thead th {\n",
       "        text-align: right;\n",
       "    }\n",
       "</style>\n",
       "<table border=\"1\" class=\"dataframe\">\n",
       "  <thead>\n",
       "    <tr style=\"text-align: right;\">\n",
       "      <th></th>\n",
       "      <th>publisher_id</th>\n",
       "      <th>book_count</th>\n",
       "      <th>publisher</th>\n",
       "    </tr>\n",
       "  </thead>\n",
       "  <tbody>\n",
       "    <tr>\n",
       "      <th>0</th>\n",
       "      <td>212</td>\n",
       "      <td>42</td>\n",
       "      <td>Penguin Books</td>\n",
       "    </tr>\n",
       "  </tbody>\n",
       "</table>\n",
       "</div>"
      ],
      "text/plain": [
       "   publisher_id  book_count      publisher\n",
       "0           212          42  Penguin Books"
      ]
     },
     "execution_count": 15,
     "metadata": {},
     "output_type": "execute_result"
    }
   ],
   "source": [
    "# Выбираем поля идентификатор издателя, количество книг таблицы `books` и название издательства таблицы `publisher`\n",
    "# К таблице `publisher` присоединяем `books` по идентификатору издателя\n",
    "# Указываем условие, что количество страниц больше 50\n",
    "# Группируем по идентификатору издателя и названию издательства\n",
    "# Делаем сортировку по убыванию\n",
    "# Отсеиваем только 1 (самое верхнее) издательство\n",
    "mission_3 = '''\n",
    "SELECT bo.publisher_id,\n",
    "       bo.count AS book_count,\n",
    "       publisher\n",
    "FROM books AS bo\n",
    "LEFT JOIN publishers ON publishers.publisher_id = bo.publisher_id\n",
    "WHERE num_pages > 50\n",
    "GROUP BY bo.publisher_id, publisher\n",
    "ORDER BY book_count DESC\n",
    "LIMIT 1;\n",
    "'''\n",
    "pd.io.sql.read_sql(mission_3, con = engine)"
   ]
  },
  {
   "cell_type": "markdown",
   "metadata": {},
   "source": [
    "#### Вывод:\n",
    "* Издательство \"Penguin Books\" (\"Книги о пингвинах\") выпустило наибольшее количество книг толще 50 страниц - 42 книги. Видимо, читателям было интересно узнать про жизнь пингвинов"
   ]
  },
  {
   "cell_type": "markdown",
   "metadata": {},
   "source": [
    "# Задание 4. Определите автора с самой высокой средней оценкой книг — учитывайте только книги с 50 и более оценками: <a id=\"step7\"></a>   \n",
    "</div>"
   ]
  },
  {
   "cell_type": "code",
   "execution_count": 16,
   "metadata": {},
   "outputs": [
    {
     "data": {
      "text/html": [
       "<div>\n",
       "<style scoped>\n",
       "    .dataframe tbody tr th:only-of-type {\n",
       "        vertical-align: middle;\n",
       "    }\n",
       "\n",
       "    .dataframe tbody tr th {\n",
       "        vertical-align: top;\n",
       "    }\n",
       "\n",
       "    .dataframe thead th {\n",
       "        text-align: right;\n",
       "    }\n",
       "</style>\n",
       "<table border=\"1\" class=\"dataframe\">\n",
       "  <thead>\n",
       "    <tr style=\"text-align: right;\">\n",
       "      <th></th>\n",
       "      <th>author_id</th>\n",
       "      <th>author</th>\n",
       "      <th>avg</th>\n",
       "      <th>count</th>\n",
       "    </tr>\n",
       "  </thead>\n",
       "  <tbody>\n",
       "    <tr>\n",
       "      <th>0</th>\n",
       "      <td>236</td>\n",
       "      <td>J.K. Rowling/Mary GrandPré</td>\n",
       "      <td>4.414634</td>\n",
       "      <td>82</td>\n",
       "    </tr>\n",
       "    <tr>\n",
       "      <th>1</th>\n",
       "      <td>240</td>\n",
       "      <td>J.R.R. Tolkien</td>\n",
       "      <td>4.391892</td>\n",
       "      <td>74</td>\n",
       "    </tr>\n",
       "    <tr>\n",
       "      <th>2</th>\n",
       "      <td>236</td>\n",
       "      <td>J.K. Rowling/Mary GrandPré</td>\n",
       "      <td>4.287500</td>\n",
       "      <td>80</td>\n",
       "    </tr>\n",
       "    <tr>\n",
       "      <th>3</th>\n",
       "      <td>402</td>\n",
       "      <td>Markus Zusak/Cao Xuân Việt Khương</td>\n",
       "      <td>4.264151</td>\n",
       "      <td>53</td>\n",
       "    </tr>\n",
       "    <tr>\n",
       "      <th>4</th>\n",
       "      <td>236</td>\n",
       "      <td>J.K. Rowling/Mary GrandPré</td>\n",
       "      <td>4.246575</td>\n",
       "      <td>73</td>\n",
       "    </tr>\n",
       "    <tr>\n",
       "      <th>5</th>\n",
       "      <td>376</td>\n",
       "      <td>Louisa May Alcott</td>\n",
       "      <td>4.192308</td>\n",
       "      <td>52</td>\n",
       "    </tr>\n",
       "    <tr>\n",
       "      <th>6</th>\n",
       "      <td>236</td>\n",
       "      <td>J.K. Rowling/Mary GrandPré</td>\n",
       "      <td>4.186667</td>\n",
       "      <td>75</td>\n",
       "    </tr>\n",
       "    <tr>\n",
       "      <th>7</th>\n",
       "      <td>240</td>\n",
       "      <td>J.R.R. Tolkien</td>\n",
       "      <td>4.125000</td>\n",
       "      <td>88</td>\n",
       "    </tr>\n",
       "    <tr>\n",
       "      <th>8</th>\n",
       "      <td>498</td>\n",
       "      <td>Rick Riordan</td>\n",
       "      <td>4.080645</td>\n",
       "      <td>62</td>\n",
       "    </tr>\n",
       "    <tr>\n",
       "      <th>9</th>\n",
       "      <td>621</td>\n",
       "      <td>William Golding</td>\n",
       "      <td>3.901408</td>\n",
       "      <td>71</td>\n",
       "    </tr>\n",
       "    <tr>\n",
       "      <th>10</th>\n",
       "      <td>106</td>\n",
       "      <td>Dan Brown</td>\n",
       "      <td>3.830508</td>\n",
       "      <td>59</td>\n",
       "    </tr>\n",
       "    <tr>\n",
       "      <th>11</th>\n",
       "      <td>235</td>\n",
       "      <td>J.D. Salinger</td>\n",
       "      <td>3.825581</td>\n",
       "      <td>86</td>\n",
       "    </tr>\n",
       "    <tr>\n",
       "      <th>12</th>\n",
       "      <td>469</td>\n",
       "      <td>Paulo Coelho/Alan R. Clarke/Özdemir İnce</td>\n",
       "      <td>3.789474</td>\n",
       "      <td>57</td>\n",
       "    </tr>\n",
       "    <tr>\n",
       "      <th>13</th>\n",
       "      <td>630</td>\n",
       "      <td>William Shakespeare/Paul Werstine/Barbara A. M...</td>\n",
       "      <td>3.787879</td>\n",
       "      <td>66</td>\n",
       "    </tr>\n",
       "    <tr>\n",
       "      <th>14</th>\n",
       "      <td>372</td>\n",
       "      <td>Lois Lowry</td>\n",
       "      <td>3.750000</td>\n",
       "      <td>56</td>\n",
       "    </tr>\n",
       "    <tr>\n",
       "      <th>15</th>\n",
       "      <td>195</td>\n",
       "      <td>George Orwell/Boris Grabnar/Peter Škerl</td>\n",
       "      <td>3.729730</td>\n",
       "      <td>74</td>\n",
       "    </tr>\n",
       "    <tr>\n",
       "      <th>16</th>\n",
       "      <td>106</td>\n",
       "      <td>Dan Brown</td>\n",
       "      <td>3.678571</td>\n",
       "      <td>84</td>\n",
       "    </tr>\n",
       "    <tr>\n",
       "      <th>17</th>\n",
       "      <td>554</td>\n",
       "      <td>Stephenie Meyer</td>\n",
       "      <td>3.662500</td>\n",
       "      <td>160</td>\n",
       "    </tr>\n",
       "    <tr>\n",
       "      <th>18</th>\n",
       "      <td>311</td>\n",
       "      <td>John Steinbeck</td>\n",
       "      <td>3.622951</td>\n",
       "      <td>61</td>\n",
       "    </tr>\n",
       "  </tbody>\n",
       "</table>\n",
       "</div>"
      ],
      "text/plain": [
       "    author_id                                             author       avg  \\\n",
       "0         236                         J.K. Rowling/Mary GrandPré  4.414634   \n",
       "1         240                                     J.R.R. Tolkien  4.391892   \n",
       "2         236                         J.K. Rowling/Mary GrandPré  4.287500   \n",
       "3         402                  Markus Zusak/Cao Xuân Việt Khương  4.264151   \n",
       "4         236                         J.K. Rowling/Mary GrandPré  4.246575   \n",
       "5         376                                  Louisa May Alcott  4.192308   \n",
       "6         236                         J.K. Rowling/Mary GrandPré  4.186667   \n",
       "7         240                                     J.R.R. Tolkien  4.125000   \n",
       "8         498                                       Rick Riordan  4.080645   \n",
       "9         621                                    William Golding  3.901408   \n",
       "10        106                                          Dan Brown  3.830508   \n",
       "11        235                                      J.D. Salinger  3.825581   \n",
       "12        469           Paulo Coelho/Alan R. Clarke/Özdemir İnce  3.789474   \n",
       "13        630  William Shakespeare/Paul Werstine/Barbara A. M...  3.787879   \n",
       "14        372                                         Lois Lowry  3.750000   \n",
       "15        195            George Orwell/Boris Grabnar/Peter Škerl  3.729730   \n",
       "16        106                                          Dan Brown  3.678571   \n",
       "17        554                                    Stephenie Meyer  3.662500   \n",
       "18        311                                     John Steinbeck  3.622951   \n",
       "\n",
       "    count  \n",
       "0      82  \n",
       "1      74  \n",
       "2      80  \n",
       "3      53  \n",
       "4      73  \n",
       "5      52  \n",
       "6      75  \n",
       "7      88  \n",
       "8      62  \n",
       "9      71  \n",
       "10     59  \n",
       "11     86  \n",
       "12     57  \n",
       "13     66  \n",
       "14     56  \n",
       "15     74  \n",
       "16     84  \n",
       "17    160  \n",
       "18     61  "
      ]
     },
     "execution_count": 16,
     "metadata": {},
     "output_type": "execute_result"
    }
   ],
   "source": [
    "# Выделяем идентификатор автора, имя автора, его оценку и количество книг > 50\n",
    "# Посчитаем среднюю оценку книг автора\n",
    "m_7 = '''\n",
    "SELECT authors.author_id,\n",
    "       author,\n",
    "       AVG(rating),\n",
    "       COUNT(rating)\n",
    "FROM books AS bo\n",
    "LEFT JOIN authors ON bo.author_id = authors.author_id\n",
    "LEFT JOIN ratings ON bo.book_id = ratings.book_id \n",
    "GROUP BY bo.book_id, authors.author_id \n",
    "HAVING COUNT(rating) >= 50\n",
    "ORDER BY avg DESC;\n",
    "'''\n",
    "pd.io.sql.read_sql(m_7, con = engine)"
   ]
  },
  {
   "cell_type": "code",
   "execution_count": 17,
   "metadata": {},
   "outputs": [
    {
     "data": {
      "text/html": [
       "<div>\n",
       "<style scoped>\n",
       "    .dataframe tbody tr th:only-of-type {\n",
       "        vertical-align: middle;\n",
       "    }\n",
       "\n",
       "    .dataframe tbody tr th {\n",
       "        vertical-align: top;\n",
       "    }\n",
       "\n",
       "    .dataframe thead th {\n",
       "        text-align: right;\n",
       "    }\n",
       "</style>\n",
       "<table border=\"1\" class=\"dataframe\">\n",
       "  <thead>\n",
       "    <tr style=\"text-align: right;\">\n",
       "      <th></th>\n",
       "      <th>author</th>\n",
       "      <th>avg</th>\n",
       "    </tr>\n",
       "  </thead>\n",
       "  <tbody>\n",
       "    <tr>\n",
       "      <th>0</th>\n",
       "      <td>J.K. Rowling/Mary GrandPré</td>\n",
       "      <td>4.283844</td>\n",
       "    </tr>\n",
       "    <tr>\n",
       "      <th>1</th>\n",
       "      <td>Markus Zusak/Cao Xuân Việt Khương</td>\n",
       "      <td>4.264151</td>\n",
       "    </tr>\n",
       "    <tr>\n",
       "      <th>2</th>\n",
       "      <td>J.R.R. Tolkien</td>\n",
       "      <td>4.258446</td>\n",
       "    </tr>\n",
       "    <tr>\n",
       "      <th>3</th>\n",
       "      <td>Louisa May Alcott</td>\n",
       "      <td>4.192308</td>\n",
       "    </tr>\n",
       "    <tr>\n",
       "      <th>4</th>\n",
       "      <td>Rick Riordan</td>\n",
       "      <td>4.080645</td>\n",
       "    </tr>\n",
       "    <tr>\n",
       "      <th>5</th>\n",
       "      <td>William Golding</td>\n",
       "      <td>3.901408</td>\n",
       "    </tr>\n",
       "    <tr>\n",
       "      <th>6</th>\n",
       "      <td>J.D. Salinger</td>\n",
       "      <td>3.825581</td>\n",
       "    </tr>\n",
       "    <tr>\n",
       "      <th>7</th>\n",
       "      <td>Paulo Coelho/Alan R. Clarke/Özdemir İnce</td>\n",
       "      <td>3.789474</td>\n",
       "    </tr>\n",
       "    <tr>\n",
       "      <th>8</th>\n",
       "      <td>William Shakespeare/Paul Werstine/Barbara A. M...</td>\n",
       "      <td>3.787879</td>\n",
       "    </tr>\n",
       "    <tr>\n",
       "      <th>9</th>\n",
       "      <td>Dan Brown</td>\n",
       "      <td>3.754540</td>\n",
       "    </tr>\n",
       "    <tr>\n",
       "      <th>10</th>\n",
       "      <td>Lois Lowry</td>\n",
       "      <td>3.750000</td>\n",
       "    </tr>\n",
       "    <tr>\n",
       "      <th>11</th>\n",
       "      <td>George Orwell/Boris Grabnar/Peter Škerl</td>\n",
       "      <td>3.729730</td>\n",
       "    </tr>\n",
       "    <tr>\n",
       "      <th>12</th>\n",
       "      <td>Stephenie Meyer</td>\n",
       "      <td>3.662500</td>\n",
       "    </tr>\n",
       "    <tr>\n",
       "      <th>13</th>\n",
       "      <td>John Steinbeck</td>\n",
       "      <td>3.622951</td>\n",
       "    </tr>\n",
       "  </tbody>\n",
       "</table>\n",
       "</div>"
      ],
      "text/plain": [
       "                                               author       avg\n",
       "0                          J.K. Rowling/Mary GrandPré  4.283844\n",
       "1                   Markus Zusak/Cao Xuân Việt Khương  4.264151\n",
       "2                                      J.R.R. Tolkien  4.258446\n",
       "3                                   Louisa May Alcott  4.192308\n",
       "4                                        Rick Riordan  4.080645\n",
       "5                                     William Golding  3.901408\n",
       "6                                       J.D. Salinger  3.825581\n",
       "7            Paulo Coelho/Alan R. Clarke/Özdemir İnce  3.789474\n",
       "8   William Shakespeare/Paul Werstine/Barbara A. M...  3.787879\n",
       "9                                           Dan Brown  3.754540\n",
       "10                                         Lois Lowry  3.750000\n",
       "11            George Orwell/Boris Grabnar/Peter Škerl  3.729730\n",
       "12                                    Stephenie Meyer  3.662500\n",
       "13                                     John Steinbeck  3.622951"
      ]
     },
     "execution_count": 17,
     "metadata": {},
     "output_type": "execute_result"
    }
   ],
   "source": [
    "# По средней оценке книг автора посчитаем его среднюю оценку\n",
    "# Результат отсортируем по убыванию\n",
    "mission_4 = '''\n",
    "SELECT a.author,\n",
    "       AVG(a.avg)\n",
    "FROM (SELECT authors.author_id,\n",
    "             author,\n",
    "             AVG(rating),\n",
    "             COUNT(rating)\n",
    "      FROM books AS bo\n",
    "      LEFT JOIN authors ON bo.author_id = authors.author_id\n",
    "      LEFT JOIN ratings ON bo.book_id = ratings.book_id \n",
    "      GROUP BY bo.book_id, authors.author_id\n",
    "      HAVING COUNT(rating) >= 50) AS a    \n",
    "GROUP BY a.author \n",
    "ORDER BY avg DESC;\n",
    "'''\n",
    "pd.io.sql.read_sql(mission_4 , con = engine)"
   ]
  },
  {
   "cell_type": "markdown",
   "metadata": {},
   "source": [
    "#### Вывод:\n",
    "* Самый высокий средний рейтинг у авторов за все книги - `J.K. Rowling/Mary GrandPré` "
   ]
  },
  {
   "cell_type": "markdown",
   "metadata": {},
   "source": [
    "# Задание 5. Посчитайте среднее количество обзоров от пользователей, которые поставили больше 50 оценок: <a id=\"step8\"></a>   \n",
    "</div>"
   ]
  },
  {
   "cell_type": "code",
   "execution_count": 18,
   "metadata": {},
   "outputs": [
    {
     "data": {
      "text/html": [
       "<div>\n",
       "<style scoped>\n",
       "    .dataframe tbody tr th:only-of-type {\n",
       "        vertical-align: middle;\n",
       "    }\n",
       "\n",
       "    .dataframe tbody tr th {\n",
       "        vertical-align: top;\n",
       "    }\n",
       "\n",
       "    .dataframe thead th {\n",
       "        text-align: right;\n",
       "    }\n",
       "</style>\n",
       "<table border=\"1\" class=\"dataframe\">\n",
       "  <thead>\n",
       "    <tr style=\"text-align: right;\">\n",
       "      <th></th>\n",
       "      <th>username</th>\n",
       "      <th>count</th>\n",
       "    </tr>\n",
       "  </thead>\n",
       "  <tbody>\n",
       "    <tr>\n",
       "      <th>0</th>\n",
       "      <td>sfitzgerald</td>\n",
       "      <td>55</td>\n",
       "    </tr>\n",
       "    <tr>\n",
       "      <th>1</th>\n",
       "      <td>jennifermiller</td>\n",
       "      <td>53</td>\n",
       "    </tr>\n",
       "    <tr>\n",
       "      <th>2</th>\n",
       "      <td>xdavis</td>\n",
       "      <td>51</td>\n",
       "    </tr>\n",
       "    <tr>\n",
       "      <th>3</th>\n",
       "      <td>paul88</td>\n",
       "      <td>56</td>\n",
       "    </tr>\n",
       "    <tr>\n",
       "      <th>4</th>\n",
       "      <td>martinadam</td>\n",
       "      <td>56</td>\n",
       "    </tr>\n",
       "    <tr>\n",
       "      <th>5</th>\n",
       "      <td>richard89</td>\n",
       "      <td>55</td>\n",
       "    </tr>\n",
       "  </tbody>\n",
       "</table>\n",
       "</div>"
      ],
      "text/plain": [
       "         username  count\n",
       "0     sfitzgerald     55\n",
       "1  jennifermiller     53\n",
       "2          xdavis     51\n",
       "3          paul88     56\n",
       "4      martinadam     56\n",
       "5       richard89     55"
      ]
     },
     "execution_count": 18,
     "metadata": {},
     "output_type": "execute_result"
    }
   ],
   "source": [
    "# Выделим пользователей, которые поставили больше 50 оценок\n",
    "m_9 = '''\n",
    "SELECT username,\n",
    "       COUNT(rating)\n",
    "FROM ratings\n",
    "GROUP BY username\n",
    "HAVING COUNT(rating) > 50\n",
    "'''\n",
    "pd.io.sql.read_sql(m_9, con = engine)"
   ]
  },
  {
   "cell_type": "code",
   "execution_count": 19,
   "metadata": {},
   "outputs": [
    {
     "data": {
      "text/html": [
       "<div>\n",
       "<style scoped>\n",
       "    .dataframe tbody tr th:only-of-type {\n",
       "        vertical-align: middle;\n",
       "    }\n",
       "\n",
       "    .dataframe tbody tr th {\n",
       "        vertical-align: top;\n",
       "    }\n",
       "\n",
       "    .dataframe thead th {\n",
       "        text-align: right;\n",
       "    }\n",
       "</style>\n",
       "<table border=\"1\" class=\"dataframe\">\n",
       "  <thead>\n",
       "    <tr style=\"text-align: right;\">\n",
       "      <th></th>\n",
       "      <th>username</th>\n",
       "      <th>count</th>\n",
       "    </tr>\n",
       "  </thead>\n",
       "  <tbody>\n",
       "    <tr>\n",
       "      <th>0</th>\n",
       "      <td>sfitzgerald</td>\n",
       "      <td>28</td>\n",
       "    </tr>\n",
       "    <tr>\n",
       "      <th>1</th>\n",
       "      <td>jennifermiller</td>\n",
       "      <td>25</td>\n",
       "    </tr>\n",
       "    <tr>\n",
       "      <th>2</th>\n",
       "      <td>xdavis</td>\n",
       "      <td>18</td>\n",
       "    </tr>\n",
       "    <tr>\n",
       "      <th>3</th>\n",
       "      <td>paul88</td>\n",
       "      <td>22</td>\n",
       "    </tr>\n",
       "    <tr>\n",
       "      <th>4</th>\n",
       "      <td>martinadam</td>\n",
       "      <td>27</td>\n",
       "    </tr>\n",
       "    <tr>\n",
       "      <th>5</th>\n",
       "      <td>richard89</td>\n",
       "      <td>26</td>\n",
       "    </tr>\n",
       "  </tbody>\n",
       "</table>\n",
       "</div>"
      ],
      "text/plain": [
       "         username  count\n",
       "0     sfitzgerald     28\n",
       "1  jennifermiller     25\n",
       "2          xdavis     18\n",
       "3          paul88     22\n",
       "4      martinadam     27\n",
       "5       richard89     26"
      ]
     },
     "execution_count": 19,
     "metadata": {},
     "output_type": "execute_result"
    }
   ],
   "source": [
    "# Посмотрим, сколько каждый из них написал обзоров\n",
    "m_10 = '''\n",
    "SELECT username,\n",
    "       COUNT(review_id)\n",
    "FROM reviews\n",
    "WHERE username IN(SELECT username\n",
    "                  FROM ratings\n",
    "                  GROUP BY username\n",
    "                  HAVING COUNT(rating) > 50)\n",
    "GROUP BY username;\n",
    "'''\n",
    "pd.io.sql.read_sql(m_10, con = engine)"
   ]
  },
  {
   "cell_type": "code",
   "execution_count": 20,
   "metadata": {},
   "outputs": [
    {
     "data": {
      "text/html": [
       "<div>\n",
       "<style scoped>\n",
       "    .dataframe tbody tr th:only-of-type {\n",
       "        vertical-align: middle;\n",
       "    }\n",
       "\n",
       "    .dataframe tbody tr th {\n",
       "        vertical-align: top;\n",
       "    }\n",
       "\n",
       "    .dataframe thead th {\n",
       "        text-align: right;\n",
       "    }\n",
       "</style>\n",
       "<table border=\"1\" class=\"dataframe\">\n",
       "  <thead>\n",
       "    <tr style=\"text-align: right;\">\n",
       "      <th></th>\n",
       "      <th>avg_reviews</th>\n",
       "    </tr>\n",
       "  </thead>\n",
       "  <tbody>\n",
       "    <tr>\n",
       "      <th>0</th>\n",
       "      <td>24.333333</td>\n",
       "    </tr>\n",
       "  </tbody>\n",
       "</table>\n",
       "</div>"
      ],
      "text/plain": [
       "   avg_reviews\n",
       "0    24.333333"
      ]
     },
     "execution_count": 20,
     "metadata": {},
     "output_type": "execute_result"
    }
   ],
   "source": [
    "# Объедимим получившиеся таблицы и узнаем, среднее количество обзоров этих пользователей \n",
    "# (т.е. сумму/количество)\n",
    "mission_5 = '''\n",
    "SELECT AVG(a.count) AS avg_reviews\n",
    "FROM (SELECT username,\n",
    "             COUNT(review_id)\n",
    "      FROM reviews\n",
    "      WHERE username IN(SELECT username\n",
    "                        FROM ratings\n",
    "                        GROUP BY username\n",
    "                        HAVING COUNT(rating) > 50)\n",
    "      GROUP BY username) AS a;\n",
    "'''\n",
    "pd.io.sql.read_sql(mission_5, con = engine)"
   ]
  },
  {
   "cell_type": "markdown",
   "metadata": {},
   "source": [
    "#### Вывод:\n",
    "* Среднее количество обзоров от всех пользователей, которые поставили более 50 оценков - 24."
   ]
  }
 ],
 "metadata": {
  "ExecuteTimeLog": [
   {
    "duration": 23729,
    "start_time": "2022-08-02T19:35:40.986Z"
   },
   {
    "duration": 4,
    "start_time": "2022-08-02T19:36:50.530Z"
   },
   {
    "duration": 60,
    "start_time": "2022-08-02T19:37:09.149Z"
   },
   {
    "duration": 4,
    "start_time": "2022-08-02T20:06:24.826Z"
   },
   {
    "duration": 84,
    "start_time": "2022-08-02T20:07:26.789Z"
   },
   {
    "duration": 79,
    "start_time": "2022-08-02T20:07:45.953Z"
   },
   {
    "duration": 72,
    "start_time": "2022-08-02T20:07:58.136Z"
   },
   {
    "duration": 24,
    "start_time": "2022-08-02T20:08:04.988Z"
   },
   {
    "duration": 17,
    "start_time": "2022-08-02T20:08:20.432Z"
   },
   {
    "duration": 15,
    "start_time": "2022-08-02T20:08:25.938Z"
   },
   {
    "duration": 14,
    "start_time": "2022-08-02T20:09:48.235Z"
   },
   {
    "duration": 18,
    "start_time": "2022-08-02T20:10:07.043Z"
   },
   {
    "duration": 11,
    "start_time": "2022-08-02T20:10:47.427Z"
   },
   {
    "duration": 13,
    "start_time": "2022-08-02T20:11:20.986Z"
   },
   {
    "duration": 11,
    "start_time": "2022-08-02T20:12:39.561Z"
   },
   {
    "duration": 11,
    "start_time": "2022-08-02T20:13:07.237Z"
   },
   {
    "duration": 4,
    "start_time": "2022-08-02T20:14:53.487Z"
   },
   {
    "duration": 8,
    "start_time": "2022-08-02T20:15:10.791Z"
   },
   {
    "duration": 7,
    "start_time": "2022-08-02T20:15:18.768Z"
   },
   {
    "duration": 7,
    "start_time": "2022-08-02T20:15:26.731Z"
   },
   {
    "duration": 140,
    "start_time": "2022-08-02T20:26:00.538Z"
   },
   {
    "duration": 12,
    "start_time": "2022-08-02T20:26:27.994Z"
   },
   {
    "duration": 12,
    "start_time": "2022-08-02T20:32:50.535Z"
   },
   {
    "duration": 119,
    "start_time": "2022-08-02T20:33:20.970Z"
   },
   {
    "duration": 3,
    "start_time": "2022-08-02T20:33:51.269Z"
   },
   {
    "duration": 13,
    "start_time": "2022-08-02T20:34:09.432Z"
   },
   {
    "duration": 3497,
    "start_time": "2022-08-02T20:35:45.188Z"
   },
   {
    "duration": 2535,
    "start_time": "2022-08-02T20:35:54.579Z"
   },
   {
    "duration": 1385,
    "start_time": "2022-08-02T20:36:22.156Z"
   },
   {
    "duration": 13,
    "start_time": "2022-08-02T20:36:31.037Z"
   },
   {
    "duration": 74,
    "start_time": "2022-08-02T20:36:51.090Z"
   },
   {
    "duration": 22,
    "start_time": "2022-08-02T20:36:55.299Z"
   },
   {
    "duration": 25,
    "start_time": "2022-08-02T20:37:03.354Z"
   },
   {
    "duration": 1295,
    "start_time": "2022-08-02T20:37:18.733Z"
   },
   {
    "duration": 10,
    "start_time": "2022-08-02T20:37:32.170Z"
   },
   {
    "duration": 77,
    "start_time": "2022-08-02T20:37:41.036Z"
   },
   {
    "duration": 10,
    "start_time": "2022-08-02T20:37:46.163Z"
   },
   {
    "duration": 8,
    "start_time": "2022-08-02T20:37:52.484Z"
   },
   {
    "duration": 16,
    "start_time": "2022-08-02T20:38:13.593Z"
   },
   {
    "duration": 5,
    "start_time": "2022-08-02T20:40:29.530Z"
   },
   {
    "duration": 11865,
    "start_time": "2022-08-02T20:40:43.871Z"
   },
   {
    "duration": 65,
    "start_time": "2022-08-02T20:40:55.739Z"
   },
   {
    "duration": 11,
    "start_time": "2022-08-02T20:40:55.806Z"
   },
   {
    "duration": 13,
    "start_time": "2022-08-02T20:40:55.820Z"
   },
   {
    "duration": 18,
    "start_time": "2022-08-02T20:40:55.836Z"
   },
   {
    "duration": 15,
    "start_time": "2022-08-02T20:40:55.856Z"
   },
   {
    "duration": 8,
    "start_time": "2022-08-02T20:40:55.874Z"
   },
   {
    "duration": 8,
    "start_time": "2022-08-02T20:41:07.636Z"
   },
   {
    "duration": 10,
    "start_time": "2022-08-02T20:41:23.636Z"
   },
   {
    "duration": 10,
    "start_time": "2022-08-02T20:41:29.580Z"
   },
   {
    "duration": 10,
    "start_time": "2022-08-02T20:45:09.482Z"
   },
   {
    "duration": 8502,
    "start_time": "2022-08-02T20:45:15.934Z"
   },
   {
    "duration": 63,
    "start_time": "2022-08-02T20:45:24.438Z"
   },
   {
    "duration": 11,
    "start_time": "2022-08-02T20:45:24.506Z"
   },
   {
    "duration": 14,
    "start_time": "2022-08-02T20:45:24.519Z"
   },
   {
    "duration": 19,
    "start_time": "2022-08-02T20:45:24.535Z"
   },
   {
    "duration": 15,
    "start_time": "2022-08-02T20:45:24.556Z"
   },
   {
    "duration": 26,
    "start_time": "2022-08-02T20:45:24.574Z"
   },
   {
    "duration": 154,
    "start_time": "2022-08-02T20:45:24.602Z"
   },
   {
    "duration": 11,
    "start_time": "2022-08-02T20:46:41.435Z"
   },
   {
    "duration": 10,
    "start_time": "2022-08-02T20:47:01.628Z"
   },
   {
    "duration": 11,
    "start_time": "2022-08-02T20:47:15.379Z"
   },
   {
    "duration": 11,
    "start_time": "2022-08-02T20:47:20.259Z"
   },
   {
    "duration": 11,
    "start_time": "2022-08-02T20:47:32.927Z"
   },
   {
    "duration": 14,
    "start_time": "2022-08-02T20:47:51.538Z"
   },
   {
    "duration": 101,
    "start_time": "2022-08-02T20:55:08.655Z"
   },
   {
    "duration": 102,
    "start_time": "2022-08-02T20:55:25.599Z"
   },
   {
    "duration": 90,
    "start_time": "2022-08-02T21:01:00.387Z"
   },
   {
    "duration": 94,
    "start_time": "2022-08-02T21:02:00.667Z"
   },
   {
    "duration": 110,
    "start_time": "2022-08-02T21:14:37.753Z"
   },
   {
    "duration": 98,
    "start_time": "2022-08-02T21:14:47.874Z"
   },
   {
    "duration": 13,
    "start_time": "2022-08-02T21:15:03.537Z"
   },
   {
    "duration": 11,
    "start_time": "2022-08-02T21:15:05.577Z"
   },
   {
    "duration": 93,
    "start_time": "2022-08-02T21:17:02.480Z"
   },
   {
    "duration": 16,
    "start_time": "2022-08-02T21:17:56.472Z"
   },
   {
    "duration": 111,
    "start_time": "2022-08-02T21:18:23.207Z"
   },
   {
    "duration": 110,
    "start_time": "2022-08-02T21:19:56.494Z"
   },
   {
    "duration": 457,
    "start_time": "2022-08-02T21:20:11.631Z"
   },
   {
    "duration": 98,
    "start_time": "2022-08-02T21:20:35.486Z"
   },
   {
    "duration": 128,
    "start_time": "2022-08-02T21:21:00.078Z"
   },
   {
    "duration": 15,
    "start_time": "2022-08-02T21:21:12.902Z"
   },
   {
    "duration": 13,
    "start_time": "2022-08-02T21:22:57.684Z"
   },
   {
    "duration": 14,
    "start_time": "2022-08-02T21:23:14.620Z"
   },
   {
    "duration": 20,
    "start_time": "2022-08-02T21:24:23.203Z"
   },
   {
    "duration": 89,
    "start_time": "2022-08-02T21:31:23.463Z"
   },
   {
    "duration": 91,
    "start_time": "2022-08-02T21:32:44.627Z"
   },
   {
    "duration": 91,
    "start_time": "2022-08-02T21:33:34.550Z"
   },
   {
    "duration": 107,
    "start_time": "2022-08-02T21:33:59.942Z"
   },
   {
    "duration": 105,
    "start_time": "2022-08-02T21:36:38.141Z"
   },
   {
    "duration": 165,
    "start_time": "2022-08-02T21:37:13.338Z"
   },
   {
    "duration": 91,
    "start_time": "2022-08-02T21:37:23.147Z"
   },
   {
    "duration": 26,
    "start_time": "2022-08-02T21:37:45.611Z"
   },
   {
    "duration": 99,
    "start_time": "2022-08-02T21:38:51.668Z"
   },
   {
    "duration": 100,
    "start_time": "2022-08-02T21:41:03.834Z"
   },
   {
    "duration": 96,
    "start_time": "2022-08-02T21:43:11.737Z"
   },
   {
    "duration": 94,
    "start_time": "2022-08-02T21:43:17.776Z"
   },
   {
    "duration": 93,
    "start_time": "2022-08-02T21:43:27.384Z"
   },
   {
    "duration": 91,
    "start_time": "2022-08-02T21:44:00.400Z"
   },
   {
    "duration": 86,
    "start_time": "2022-08-02T21:45:39.768Z"
   },
   {
    "duration": 91,
    "start_time": "2022-08-02T21:46:19.751Z"
   },
   {
    "duration": 91,
    "start_time": "2022-08-02T21:46:25.270Z"
   },
   {
    "duration": 88,
    "start_time": "2022-08-02T21:47:47.542Z"
   },
   {
    "duration": 107,
    "start_time": "2022-08-02T21:48:19.550Z"
   },
   {
    "duration": 8166,
    "start_time": "2022-08-02T21:48:34.646Z"
   },
   {
    "duration": 67,
    "start_time": "2022-08-02T21:48:42.814Z"
   },
   {
    "duration": 16,
    "start_time": "2022-08-02T21:48:42.883Z"
   },
   {
    "duration": 19,
    "start_time": "2022-08-02T21:48:42.903Z"
   },
   {
    "duration": 17,
    "start_time": "2022-08-02T21:48:42.925Z"
   },
   {
    "duration": 20,
    "start_time": "2022-08-02T21:48:42.945Z"
   },
   {
    "duration": 14,
    "start_time": "2022-08-02T21:48:42.968Z"
   },
   {
    "duration": 16,
    "start_time": "2022-08-02T21:48:42.983Z"
   },
   {
    "duration": 17,
    "start_time": "2022-08-02T21:48:43.000Z"
   },
   {
    "duration": 204,
    "start_time": "2022-08-02T21:48:43.020Z"
   },
   {
    "duration": 24,
    "start_time": "2022-08-02T21:50:30.173Z"
   },
   {
    "duration": 4,
    "start_time": "2022-08-02T21:51:26.570Z"
   },
   {
    "duration": 21,
    "start_time": "2022-08-02T21:51:37.258Z"
   },
   {
    "duration": 17,
    "start_time": "2022-08-02T21:52:04.651Z"
   },
   {
    "duration": 22,
    "start_time": "2022-08-02T21:53:50.209Z"
   },
   {
    "duration": 26,
    "start_time": "2022-08-02T21:58:32.694Z"
   },
   {
    "duration": 23,
    "start_time": "2022-08-02T21:58:45.255Z"
   },
   {
    "duration": 16,
    "start_time": "2022-08-02T22:00:13.652Z"
   },
   {
    "duration": 18,
    "start_time": "2022-08-02T22:00:32.615Z"
   },
   {
    "duration": 20,
    "start_time": "2022-08-02T22:01:37.787Z"
   },
   {
    "duration": 7147,
    "start_time": "2022-08-03T07:10:48.912Z"
   },
   {
    "duration": 241,
    "start_time": "2022-08-03T07:10:56.061Z"
   },
   {
    "duration": 71,
    "start_time": "2022-08-03T07:10:56.303Z"
   },
   {
    "duration": 69,
    "start_time": "2022-08-03T07:10:56.375Z"
   },
   {
    "duration": 70,
    "start_time": "2022-08-03T07:10:56.446Z"
   },
   {
    "duration": 69,
    "start_time": "2022-08-03T07:10:56.518Z"
   },
   {
    "duration": 68,
    "start_time": "2022-08-03T07:10:56.588Z"
   },
   {
    "duration": 83,
    "start_time": "2022-08-03T07:10:56.658Z"
   },
   {
    "duration": 85,
    "start_time": "2022-08-03T07:10:56.743Z"
   },
   {
    "duration": 91,
    "start_time": "2022-08-03T07:10:56.830Z"
   },
   {
    "duration": 82,
    "start_time": "2022-08-03T07:10:56.923Z"
   },
   {
    "duration": 78,
    "start_time": "2022-08-03T07:10:57.006Z"
   },
   {
    "duration": 82,
    "start_time": "2022-08-03T07:10:57.086Z"
   },
   {
    "duration": 87,
    "start_time": "2022-08-03T07:10:57.170Z"
   },
   {
    "duration": 70,
    "start_time": "2022-08-03T07:16:23.842Z"
   },
   {
    "duration": 209,
    "start_time": "2022-08-03T07:20:11.833Z"
   },
   {
    "duration": 73,
    "start_time": "2022-08-03T07:21:24.033Z"
   },
   {
    "duration": 79,
    "start_time": "2022-08-03T07:22:07.271Z"
   },
   {
    "duration": 151,
    "start_time": "2022-08-03T07:22:35.820Z"
   },
   {
    "duration": 148,
    "start_time": "2022-08-03T07:23:15.943Z"
   },
   {
    "duration": 88,
    "start_time": "2022-08-03T07:23:27.165Z"
   },
   {
    "duration": 88,
    "start_time": "2022-08-03T07:23:37.316Z"
   },
   {
    "duration": 180,
    "start_time": "2022-08-03T07:24:04.277Z"
   },
   {
    "duration": 239,
    "start_time": "2022-08-03T07:24:25.557Z"
   },
   {
    "duration": 155,
    "start_time": "2022-08-03T07:24:34.477Z"
   },
   {
    "duration": 187,
    "start_time": "2022-08-03T07:25:17.749Z"
   },
   {
    "duration": 192,
    "start_time": "2022-08-03T07:25:33.676Z"
   },
   {
    "duration": 170,
    "start_time": "2022-08-03T07:31:26.577Z"
   },
   {
    "duration": 94,
    "start_time": "2022-08-03T07:31:41.530Z"
   },
   {
    "duration": 101,
    "start_time": "2022-08-03T07:32:22.951Z"
   },
   {
    "duration": 91,
    "start_time": "2022-08-03T07:32:26.992Z"
   },
   {
    "duration": 85,
    "start_time": "2022-08-03T07:32:52.735Z"
   },
   {
    "duration": 70,
    "start_time": "2022-08-03T07:36:09.654Z"
   },
   {
    "duration": 133,
    "start_time": "2022-08-03T07:42:28.369Z"
   },
   {
    "duration": 137,
    "start_time": "2022-08-03T07:42:35.944Z"
   },
   {
    "duration": 129,
    "start_time": "2022-08-03T07:42:44.624Z"
   },
   {
    "duration": 167,
    "start_time": "2022-08-03T07:42:52.200Z"
   },
   {
    "duration": 131,
    "start_time": "2022-08-03T07:43:22.714Z"
   },
   {
    "duration": 129,
    "start_time": "2022-08-03T07:43:34.743Z"
   },
   {
    "duration": 154,
    "start_time": "2022-08-03T11:49:36.602Z"
   },
   {
    "duration": 167,
    "start_time": "2022-08-03T11:50:12.534Z"
   },
   {
    "duration": 132,
    "start_time": "2022-08-03T11:50:26.430Z"
   },
   {
    "duration": 129,
    "start_time": "2022-08-03T11:51:11.600Z"
   },
   {
    "duration": 184,
    "start_time": "2022-08-03T11:51:19.566Z"
   },
   {
    "duration": 76,
    "start_time": "2022-08-03T11:51:31.304Z"
   },
   {
    "duration": 136,
    "start_time": "2022-08-03T11:53:12.461Z"
   },
   {
    "duration": 84,
    "start_time": "2022-08-03T11:53:21.200Z"
   },
   {
    "duration": 74,
    "start_time": "2022-08-03T11:54:17.091Z"
   },
   {
    "duration": 72,
    "start_time": "2022-08-03T11:55:52.154Z"
   },
   {
    "duration": 129,
    "start_time": "2022-08-03T11:56:04.154Z"
   },
   {
    "duration": 70,
    "start_time": "2022-08-03T11:56:13.347Z"
   },
   {
    "duration": 142,
    "start_time": "2022-08-03T11:57:30.282Z"
   },
   {
    "duration": 70,
    "start_time": "2022-08-03T11:57:41.829Z"
   },
   {
    "duration": 149,
    "start_time": "2022-08-03T12:00:09.794Z"
   },
   {
    "duration": 193,
    "start_time": "2022-08-03T12:00:15.640Z"
   },
   {
    "duration": 156,
    "start_time": "2022-08-03T12:00:29.680Z"
   },
   {
    "duration": 70,
    "start_time": "2022-08-03T12:00:40.551Z"
   },
   {
    "duration": 205,
    "start_time": "2022-08-03T12:01:23.255Z"
   },
   {
    "duration": 72,
    "start_time": "2022-08-03T12:01:30.063Z"
   },
   {
    "duration": 173,
    "start_time": "2022-08-03T12:05:23.045Z"
   },
   {
    "duration": 136,
    "start_time": "2022-08-03T12:05:34.260Z"
   },
   {
    "duration": 78,
    "start_time": "2022-08-03T12:05:40.273Z"
   },
   {
    "duration": 71,
    "start_time": "2022-08-03T12:07:51.322Z"
   },
   {
    "duration": 69,
    "start_time": "2022-08-03T12:07:59.634Z"
   },
   {
    "duration": 71,
    "start_time": "2022-08-03T12:15:57.663Z"
   },
   {
    "duration": 91,
    "start_time": "2022-08-03T12:16:56.886Z"
   },
   {
    "duration": 72,
    "start_time": "2022-08-03T12:18:18.365Z"
   },
   {
    "duration": 72,
    "start_time": "2022-08-03T12:22:19.932Z"
   },
   {
    "duration": 127,
    "start_time": "2022-08-03T12:25:12.739Z"
   },
   {
    "duration": 82,
    "start_time": "2022-08-03T12:25:26.323Z"
   },
   {
    "duration": 157,
    "start_time": "2022-08-03T12:25:58.022Z"
   },
   {
    "duration": 97,
    "start_time": "2022-08-03T12:26:25.527Z"
   },
   {
    "duration": 74,
    "start_time": "2022-08-03T12:27:09.778Z"
   },
   {
    "duration": 228,
    "start_time": "2022-08-03T12:30:30.177Z"
   },
   {
    "duration": 125,
    "start_time": "2022-08-03T12:30:42.352Z"
   },
   {
    "duration": 154,
    "start_time": "2022-08-03T12:31:26.369Z"
   },
   {
    "duration": 73,
    "start_time": "2022-08-03T12:37:38.775Z"
   },
   {
    "duration": 129,
    "start_time": "2022-08-03T12:39:36.572Z"
   },
   {
    "duration": 131,
    "start_time": "2022-08-03T12:40:17.244Z"
   },
   {
    "duration": 146,
    "start_time": "2022-08-03T12:40:42.921Z"
   },
   {
    "duration": 131,
    "start_time": "2022-08-03T12:40:53.921Z"
   },
   {
    "duration": 137,
    "start_time": "2022-08-03T12:41:31.251Z"
   },
   {
    "duration": 172,
    "start_time": "2022-08-03T12:41:52.824Z"
   },
   {
    "duration": 132,
    "start_time": "2022-08-03T12:41:59.620Z"
   },
   {
    "duration": 126,
    "start_time": "2022-08-03T12:42:27.458Z"
   },
   {
    "duration": 76,
    "start_time": "2022-08-03T12:42:51.730Z"
   },
   {
    "duration": 310,
    "start_time": "2022-08-03T12:44:06.720Z"
   },
   {
    "duration": 75,
    "start_time": "2022-08-03T12:44:15.240Z"
   },
   {
    "duration": 82,
    "start_time": "2022-08-03T12:50:00.373Z"
   },
   {
    "duration": 89,
    "start_time": "2022-08-03T12:50:15.892Z"
   },
   {
    "duration": 142,
    "start_time": "2022-08-03T12:52:27.580Z"
   },
   {
    "duration": 94,
    "start_time": "2022-08-03T12:53:16.186Z"
   },
   {
    "duration": 319,
    "start_time": "2022-08-03T12:57:22.423Z"
   },
   {
    "duration": 77,
    "start_time": "2022-08-03T12:58:04.142Z"
   },
   {
    "duration": 91,
    "start_time": "2022-08-03T13:00:04.923Z"
   },
   {
    "duration": 75,
    "start_time": "2022-08-03T13:00:45.268Z"
   },
   {
    "duration": 83,
    "start_time": "2022-08-03T13:01:09.355Z"
   },
   {
    "duration": 100,
    "start_time": "2022-08-03T13:01:29.126Z"
   },
   {
    "duration": 86,
    "start_time": "2022-08-03T13:01:40.851Z"
   },
   {
    "duration": 77,
    "start_time": "2022-08-03T13:03:05.451Z"
   },
   {
    "duration": 76,
    "start_time": "2022-08-03T13:03:13.361Z"
   },
   {
    "duration": 88,
    "start_time": "2022-08-03T13:37:02.136Z"
   },
   {
    "duration": 213,
    "start_time": "2022-08-03T13:43:43.373Z"
   },
   {
    "duration": 222,
    "start_time": "2022-08-03T13:43:56.336Z"
   },
   {
    "duration": 210,
    "start_time": "2022-08-03T13:44:41.470Z"
   },
   {
    "duration": 231,
    "start_time": "2022-08-03T13:45:36.136Z"
   },
   {
    "duration": 225,
    "start_time": "2022-08-03T13:50:31.740Z"
   },
   {
    "duration": 185,
    "start_time": "2022-08-03T13:50:38.320Z"
   },
   {
    "duration": 106,
    "start_time": "2022-08-03T13:51:15.280Z"
   },
   {
    "duration": 6,
    "start_time": "2022-08-03T13:51:22.487Z"
   },
   {
    "duration": 143,
    "start_time": "2022-08-03T13:51:48.271Z"
   },
   {
    "duration": 213,
    "start_time": "2022-08-03T13:56:16.857Z"
   },
   {
    "duration": 226,
    "start_time": "2022-08-03T13:56:25.645Z"
   },
   {
    "duration": 201,
    "start_time": "2022-08-03T13:56:56.282Z"
   },
   {
    "duration": 180,
    "start_time": "2022-08-03T13:57:36.234Z"
   },
   {
    "duration": 165,
    "start_time": "2022-08-03T13:58:02.523Z"
   },
   {
    "duration": 189,
    "start_time": "2022-08-03T13:58:13.758Z"
   },
   {
    "duration": 209,
    "start_time": "2022-08-03T13:58:28.065Z"
   },
   {
    "duration": 188,
    "start_time": "2022-08-03T13:58:56.984Z"
   },
   {
    "duration": 158,
    "start_time": "2022-08-03T13:59:18.168Z"
   },
   {
    "duration": 176,
    "start_time": "2022-08-03T13:59:33.336Z"
   },
   {
    "duration": 333,
    "start_time": "2022-08-03T13:59:55.229Z"
   },
   {
    "duration": 169,
    "start_time": "2022-08-03T14:00:21.071Z"
   },
   {
    "duration": 186,
    "start_time": "2022-08-03T14:01:05.128Z"
   },
   {
    "duration": 406,
    "start_time": "2022-08-03T14:01:47.341Z"
   },
   {
    "duration": 4,
    "start_time": "2022-08-03T14:02:37.231Z"
   },
   {
    "duration": 121,
    "start_time": "2022-08-03T14:02:45.770Z"
   },
   {
    "duration": 111,
    "start_time": "2022-08-03T14:02:55.762Z"
   },
   {
    "duration": 96,
    "start_time": "2022-08-03T14:03:25.707Z"
   },
   {
    "duration": 1463,
    "start_time": "2022-08-03T14:04:19.115Z"
   },
   {
    "duration": 91,
    "start_time": "2022-08-03T14:05:03.704Z"
   },
   {
    "duration": 197,
    "start_time": "2022-08-03T14:10:23.570Z"
   },
   {
    "duration": 155,
    "start_time": "2022-08-03T14:10:36.504Z"
   },
   {
    "duration": 173,
    "start_time": "2022-08-03T14:11:57.610Z"
   },
   {
    "duration": 86,
    "start_time": "2022-08-03T14:12:45.405Z"
   },
   {
    "duration": 8886,
    "start_time": "2022-08-03T14:16:00.475Z"
   },
   {
    "duration": 312,
    "start_time": "2022-08-03T14:16:09.363Z"
   },
   {
    "duration": 94,
    "start_time": "2022-08-03T14:16:09.677Z"
   },
   {
    "duration": 95,
    "start_time": "2022-08-03T14:16:09.774Z"
   },
   {
    "duration": 98,
    "start_time": "2022-08-03T14:16:09.871Z"
   },
   {
    "duration": 97,
    "start_time": "2022-08-03T14:16:09.971Z"
   },
   {
    "duration": 86,
    "start_time": "2022-08-03T14:16:10.070Z"
   },
   {
    "duration": 126,
    "start_time": "2022-08-03T14:16:10.158Z"
   },
   {
    "duration": 115,
    "start_time": "2022-08-03T14:16:10.287Z"
   },
   {
    "duration": 147,
    "start_time": "2022-08-03T14:16:10.406Z"
   },
   {
    "duration": 97,
    "start_time": "2022-08-03T14:16:10.555Z"
   },
   {
    "duration": 112,
    "start_time": "2022-08-03T14:16:10.654Z"
   },
   {
    "duration": 101,
    "start_time": "2022-08-03T14:16:10.769Z"
   },
   {
    "duration": 97,
    "start_time": "2022-08-03T14:16:10.872Z"
   },
   {
    "duration": 87,
    "start_time": "2022-08-03T14:16:10.971Z"
   },
   {
    "duration": 99,
    "start_time": "2022-08-03T14:16:11.060Z"
   },
   {
    "duration": 94,
    "start_time": "2022-08-03T14:16:11.161Z"
   },
   {
    "duration": 98,
    "start_time": "2022-08-03T14:16:11.257Z"
   },
   {
    "duration": 94,
    "start_time": "2022-08-03T14:16:11.357Z"
   },
   {
    "duration": 95,
    "start_time": "2022-08-03T14:16:11.453Z"
   }
  ],
  "kernelspec": {
   "display_name": "Python 3 (ipykernel)",
   "language": "python",
   "name": "python3"
  },
  "language_info": {
   "codemirror_mode": {
    "name": "ipython",
    "version": 3
   },
   "file_extension": ".py",
   "mimetype": "text/x-python",
   "name": "python",
   "nbconvert_exporter": "python",
   "pygments_lexer": "ipython3",
   "version": "3.9.7"
  },
  "toc": {
   "base_numbering": 1,
   "nav_menu": {},
   "number_sections": true,
   "sideBar": true,
   "skip_h1_title": true,
   "title_cell": "Table of Contents",
   "title_sidebar": "Contents",
   "toc_cell": false,
   "toc_position": {},
   "toc_section_display": true,
   "toc_window_display": false
  }
 },
 "nbformat": 4,
 "nbformat_minor": 2
}
