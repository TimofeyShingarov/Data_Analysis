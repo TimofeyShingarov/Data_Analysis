{
 "cells": [
  {
   "cell_type": "markdown",
   "id": "9ef3db1f",
   "metadata": {},
   "source": [
    "# Исследование надежности заемщиков."
   ]
  },
  {
   "cell_type": "markdown",
   "id": "719fb450",
   "metadata": {},
   "source": [
    "### ОГЛАВЛЕНИЕ"
   ]
  },
  {
   "cell_type": "markdown",
   "id": "92157b41",
   "metadata": {},
   "source": [
    "#### Предисловие "
   ]
  },
  {
   "cell_type": "markdown",
   "id": "51f0cc49",
   "metadata": {},
   "source": [
    "#### Описание данных"
   ]
  },
  {
   "cell_type": "markdown",
   "id": "7cc58b62",
   "metadata": {},
   "source": [
    "#### Шаг 1. Импортируем данные, изучим и подготовим их к анализу¶"
   ]
  },
  {
   "cell_type": "markdown",
   "id": "10b5a213",
   "metadata": {},
   "source": [
    "#### Шаг 2. Заполнение пропусков"
   ]
  },
  {
   "cell_type": "markdown",
   "id": "ae257b3f",
   "metadata": {},
   "source": [
    "#### Шаг 2.1 Проверка данных на аномалии и исправления"
   ]
  },
  {
   "cell_type": "markdown",
   "id": "0cc283fc",
   "metadata": {},
   "source": [
    "#### Шаг 2.2. Удаление дубликатов"
   ]
  },
  {
   "cell_type": "markdown",
   "id": "f59598c8",
   "metadata": {},
   "source": [
    "#### Шаг 2.3. Формирование дополнительных датафреймов словарей, декомпозиция исходного датафрейма"
   ]
  },
  {
   "cell_type": "markdown",
   "id": "9b0949c7",
   "metadata": {},
   "source": [
    "#### Шаг 2.4. Категоризация дохода"
   ]
  },
  {
   "cell_type": "markdown",
   "id": "4bd3989b",
   "metadata": {},
   "source": [
    "#### Шаг 2.5. Категоризация целей кредита"
   ]
  },
  {
   "cell_type": "markdown",
   "id": "8471bec0",
   "metadata": {},
   "source": [
    "#### Ответы на вопросы"
   ]
  },
  {
   "cell_type": "markdown",
   "id": "6ce1a069",
   "metadata": {},
   "source": [
    "#### Общий вывод"
   ]
  },
  {
   "cell_type": "markdown",
   "id": "1641c711",
   "metadata": {},
   "source": [
    "## Предисловие"
   ]
  },
  {
   "cell_type": "markdown",
   "id": "671e99b9",
   "metadata": {},
   "source": [
    " **Заказчик** - кредитный отдел банка"
   ]
  },
  {
   "cell_type": "markdown",
   "id": "2aff7b9c",
   "metadata": {},
   "source": [
    "**Цель исследования**:\n",
    "    "
   ]
  },
  {
   "cell_type": "markdown",
   "id": "e4d44d38",
   "metadata": {},
   "source": [
    "1) Нужно разобраться, влияет ли семейное положение и количество детей клиента на факт погашения кредита в срок"
   ]
  },
  {
   "cell_type": "markdown",
   "id": "7b69d0a6",
   "metadata": {},
   "source": [
    "**Результаты исследования** - будут учтены при построении модели кредитного скоринга \n",
    "(специальной системы, которая оценивает способность потенциального заемщика вернуть кредит банку)"
   ]
  },
  {
   "cell_type": "markdown",
   "id": "19658cee",
   "metadata": {},
   "source": [
    "### Описание данных"
   ]
  },
  {
   "cell_type": "markdown",
   "id": "8d918e96",
   "metadata": {},
   "source": [
    "Изучим документацию к данным. Согласно документации:"
   ]
  },
  {
   "cell_type": "markdown",
   "id": "08284c55",
   "metadata": {},
   "source": [
    "* `children` - количество детей в семье"
   ]
  },
  {
   "cell_type": "markdown",
   "id": "0693b68b",
   "metadata": {},
   "source": [
    "* `days_employed` - общий трудовой стаж в днях"
   ]
  },
  {
   "cell_type": "markdown",
   "id": "34c630e7",
   "metadata": {},
   "source": [
    "* `dob_years` - возраст клиента в годах"
   ]
  },
  {
   "cell_type": "markdown",
   "id": "34f5cd88",
   "metadata": {},
   "source": [
    "* `education` - уровень образования клиента"
   ]
  },
  {
   "cell_type": "markdown",
   "id": "87067f68",
   "metadata": {},
   "source": [
    "* `education_id` - идентификатор уровня образования"
   ]
  },
  {
   "cell_type": "markdown",
   "id": "2fb16b12",
   "metadata": {},
   "source": [
    "* `family_status` - семейное положение"
   ]
  },
  {
   "cell_type": "markdown",
   "id": "c0a600dc",
   "metadata": {},
   "source": [
    "* `family_status_id` - идентификатор семейного положения"
   ]
  },
  {
   "cell_type": "markdown",
   "id": "eeb42285",
   "metadata": {},
   "source": [
    "* `gender` - пол клиента"
   ]
  },
  {
   "cell_type": "markdown",
   "id": "3781573b",
   "metadata": {},
   "source": [
    "* `income_type` - тип занятости"
   ]
  },
  {
   "cell_type": "markdown",
   "id": "bc655f3c",
   "metadata": {},
   "source": [
    "* `debt` - имел ли задолженность по возврату кредитов"
   ]
  },
  {
   "cell_type": "markdown",
   "id": "09e6c132",
   "metadata": {},
   "source": [
    "* `total_income` - ежемесячный доход"
   ]
  },
  {
   "cell_type": "markdown",
   "id": "dcd25d2d",
   "metadata": {},
   "source": [
    "* `purpose` - цель получения кредита"
   ]
  },
  {
   "cell_type": "markdown",
   "id": "3c68a77d",
   "metadata": {},
   "source": [
    "### Шаг 1. Импортируем данные, изучим и подготовим их к анализу"
   ]
  },
  {
   "cell_type": "code",
   "execution_count": 1,
   "id": "e82c4d78",
   "metadata": {},
   "outputs": [],
   "source": [
    "# импортируем библиотеку pandas\n",
    "import pandas as pd"
   ]
  },
  {
   "cell_type": "code",
   "execution_count": 2,
   "id": "effe3ad7",
   "metadata": {},
   "outputs": [],
   "source": [
    "# читаем файл с данными и сохраняем его в df\n",
    "df = pd.read_csv('D:/Project/2/data.csv')"
   ]
  },
  {
   "cell_type": "markdown",
   "id": "dad69e5a",
   "metadata": {},
   "source": [
    "Выведем на экран первые десять строк таблицы:"
   ]
  },
  {
   "cell_type": "code",
   "execution_count": 3,
   "id": "3a31d6b6",
   "metadata": {},
   "outputs": [
    {
     "data": {
      "text/html": [
       "<div>\n",
       "<style scoped>\n",
       "    .dataframe tbody tr th:only-of-type {\n",
       "        vertical-align: middle;\n",
       "    }\n",
       "\n",
       "    .dataframe tbody tr th {\n",
       "        vertical-align: top;\n",
       "    }\n",
       "\n",
       "    .dataframe thead th {\n",
       "        text-align: right;\n",
       "    }\n",
       "</style>\n",
       "<table border=\"1\" class=\"dataframe\">\n",
       "  <thead>\n",
       "    <tr style=\"text-align: right;\">\n",
       "      <th></th>\n",
       "      <th>children</th>\n",
       "      <th>days_employed</th>\n",
       "      <th>dob_years</th>\n",
       "      <th>education</th>\n",
       "      <th>education_id</th>\n",
       "      <th>family_status</th>\n",
       "      <th>family_status_id</th>\n",
       "      <th>gender</th>\n",
       "      <th>income_type</th>\n",
       "      <th>debt</th>\n",
       "      <th>total_income</th>\n",
       "      <th>purpose</th>\n",
       "    </tr>\n",
       "  </thead>\n",
       "  <tbody>\n",
       "    <tr>\n",
       "      <th>0</th>\n",
       "      <td>1</td>\n",
       "      <td>-8437.673028</td>\n",
       "      <td>42</td>\n",
       "      <td>высшее</td>\n",
       "      <td>0</td>\n",
       "      <td>женат / замужем</td>\n",
       "      <td>0</td>\n",
       "      <td>F</td>\n",
       "      <td>сотрудник</td>\n",
       "      <td>0</td>\n",
       "      <td>253875.639453</td>\n",
       "      <td>покупка жилья</td>\n",
       "    </tr>\n",
       "    <tr>\n",
       "      <th>1</th>\n",
       "      <td>1</td>\n",
       "      <td>-4024.803754</td>\n",
       "      <td>36</td>\n",
       "      <td>среднее</td>\n",
       "      <td>1</td>\n",
       "      <td>женат / замужем</td>\n",
       "      <td>0</td>\n",
       "      <td>F</td>\n",
       "      <td>сотрудник</td>\n",
       "      <td>0</td>\n",
       "      <td>112080.014102</td>\n",
       "      <td>приобретение автомобиля</td>\n",
       "    </tr>\n",
       "    <tr>\n",
       "      <th>2</th>\n",
       "      <td>0</td>\n",
       "      <td>-5623.422610</td>\n",
       "      <td>33</td>\n",
       "      <td>Среднее</td>\n",
       "      <td>1</td>\n",
       "      <td>женат / замужем</td>\n",
       "      <td>0</td>\n",
       "      <td>M</td>\n",
       "      <td>сотрудник</td>\n",
       "      <td>0</td>\n",
       "      <td>145885.952297</td>\n",
       "      <td>покупка жилья</td>\n",
       "    </tr>\n",
       "    <tr>\n",
       "      <th>3</th>\n",
       "      <td>3</td>\n",
       "      <td>-4124.747207</td>\n",
       "      <td>32</td>\n",
       "      <td>среднее</td>\n",
       "      <td>1</td>\n",
       "      <td>женат / замужем</td>\n",
       "      <td>0</td>\n",
       "      <td>M</td>\n",
       "      <td>сотрудник</td>\n",
       "      <td>0</td>\n",
       "      <td>267628.550329</td>\n",
       "      <td>дополнительное образование</td>\n",
       "    </tr>\n",
       "    <tr>\n",
       "      <th>4</th>\n",
       "      <td>0</td>\n",
       "      <td>340266.072047</td>\n",
       "      <td>53</td>\n",
       "      <td>среднее</td>\n",
       "      <td>1</td>\n",
       "      <td>гражданский брак</td>\n",
       "      <td>1</td>\n",
       "      <td>F</td>\n",
       "      <td>пенсионер</td>\n",
       "      <td>0</td>\n",
       "      <td>158616.077870</td>\n",
       "      <td>сыграть свадьбу</td>\n",
       "    </tr>\n",
       "    <tr>\n",
       "      <th>5</th>\n",
       "      <td>0</td>\n",
       "      <td>-926.185831</td>\n",
       "      <td>27</td>\n",
       "      <td>высшее</td>\n",
       "      <td>0</td>\n",
       "      <td>гражданский брак</td>\n",
       "      <td>1</td>\n",
       "      <td>M</td>\n",
       "      <td>компаньон</td>\n",
       "      <td>0</td>\n",
       "      <td>255763.565419</td>\n",
       "      <td>покупка жилья</td>\n",
       "    </tr>\n",
       "    <tr>\n",
       "      <th>6</th>\n",
       "      <td>0</td>\n",
       "      <td>-2879.202052</td>\n",
       "      <td>43</td>\n",
       "      <td>высшее</td>\n",
       "      <td>0</td>\n",
       "      <td>женат / замужем</td>\n",
       "      <td>0</td>\n",
       "      <td>F</td>\n",
       "      <td>компаньон</td>\n",
       "      <td>0</td>\n",
       "      <td>240525.971920</td>\n",
       "      <td>операции с жильем</td>\n",
       "    </tr>\n",
       "    <tr>\n",
       "      <th>7</th>\n",
       "      <td>0</td>\n",
       "      <td>-152.779569</td>\n",
       "      <td>50</td>\n",
       "      <td>СРЕДНЕЕ</td>\n",
       "      <td>1</td>\n",
       "      <td>женат / замужем</td>\n",
       "      <td>0</td>\n",
       "      <td>M</td>\n",
       "      <td>сотрудник</td>\n",
       "      <td>0</td>\n",
       "      <td>135823.934197</td>\n",
       "      <td>образование</td>\n",
       "    </tr>\n",
       "    <tr>\n",
       "      <th>8</th>\n",
       "      <td>2</td>\n",
       "      <td>-6929.865299</td>\n",
       "      <td>35</td>\n",
       "      <td>ВЫСШЕЕ</td>\n",
       "      <td>0</td>\n",
       "      <td>гражданский брак</td>\n",
       "      <td>1</td>\n",
       "      <td>F</td>\n",
       "      <td>сотрудник</td>\n",
       "      <td>0</td>\n",
       "      <td>95856.832424</td>\n",
       "      <td>на проведение свадьбы</td>\n",
       "    </tr>\n",
       "    <tr>\n",
       "      <th>9</th>\n",
       "      <td>0</td>\n",
       "      <td>-2188.756445</td>\n",
       "      <td>41</td>\n",
       "      <td>среднее</td>\n",
       "      <td>1</td>\n",
       "      <td>женат / замужем</td>\n",
       "      <td>0</td>\n",
       "      <td>M</td>\n",
       "      <td>сотрудник</td>\n",
       "      <td>0</td>\n",
       "      <td>144425.938277</td>\n",
       "      <td>покупка жилья для семьи</td>\n",
       "    </tr>\n",
       "  </tbody>\n",
       "</table>\n",
       "</div>"
      ],
      "text/plain": [
       "   children  days_employed  dob_years education  education_id  \\\n",
       "0         1   -8437.673028         42    высшее             0   \n",
       "1         1   -4024.803754         36   среднее             1   \n",
       "2         0   -5623.422610         33   Среднее             1   \n",
       "3         3   -4124.747207         32   среднее             1   \n",
       "4         0  340266.072047         53   среднее             1   \n",
       "5         0    -926.185831         27    высшее             0   \n",
       "6         0   -2879.202052         43    высшее             0   \n",
       "7         0    -152.779569         50   СРЕДНЕЕ             1   \n",
       "8         2   -6929.865299         35    ВЫСШЕЕ             0   \n",
       "9         0   -2188.756445         41   среднее             1   \n",
       "\n",
       "      family_status  family_status_id gender income_type  debt   total_income  \\\n",
       "0   женат / замужем                 0      F   сотрудник     0  253875.639453   \n",
       "1   женат / замужем                 0      F   сотрудник     0  112080.014102   \n",
       "2   женат / замужем                 0      M   сотрудник     0  145885.952297   \n",
       "3   женат / замужем                 0      M   сотрудник     0  267628.550329   \n",
       "4  гражданский брак                 1      F   пенсионер     0  158616.077870   \n",
       "5  гражданский брак                 1      M   компаньон     0  255763.565419   \n",
       "6   женат / замужем                 0      F   компаньон     0  240525.971920   \n",
       "7   женат / замужем                 0      M   сотрудник     0  135823.934197   \n",
       "8  гражданский брак                 1      F   сотрудник     0   95856.832424   \n",
       "9   женат / замужем                 0      M   сотрудник     0  144425.938277   \n",
       "\n",
       "                      purpose  \n",
       "0               покупка жилья  \n",
       "1     приобретение автомобиля  \n",
       "2               покупка жилья  \n",
       "3  дополнительное образование  \n",
       "4             сыграть свадьбу  \n",
       "5               покупка жилья  \n",
       "6           операции с жильем  \n",
       "7                 образование  \n",
       "8       на проведение свадьбы  \n",
       "9     покупка жилья для семьи  "
      ]
     },
     "execution_count": 3,
     "metadata": {},
     "output_type": "execute_result"
    }
   ],
   "source": [
    "# получаем первые 10 строк таблицы df\n",
    "df.head(10)"
   ]
  },
  {
   "cell_type": "markdown",
   "id": "7babbfbf",
   "metadata": {},
   "source": [
    "Получим общую информацию о таблице:"
   ]
  },
  {
   "cell_type": "code",
   "execution_count": 4,
   "id": "e4a06a6f",
   "metadata": {
    "scrolled": false
   },
   "outputs": [
    {
     "name": "stdout",
     "output_type": "stream",
     "text": [
      "<class 'pandas.core.frame.DataFrame'>\n",
      "RangeIndex: 21525 entries, 0 to 21524\n",
      "Data columns (total 12 columns):\n",
      " #   Column            Non-Null Count  Dtype  \n",
      "---  ------            --------------  -----  \n",
      " 0   children          21525 non-null  int64  \n",
      " 1   days_employed     19351 non-null  float64\n",
      " 2   dob_years         21525 non-null  int64  \n",
      " 3   education         21525 non-null  object \n",
      " 4   education_id      21525 non-null  int64  \n",
      " 5   family_status     21525 non-null  object \n",
      " 6   family_status_id  21525 non-null  int64  \n",
      " 7   gender            21525 non-null  object \n",
      " 8   income_type       21525 non-null  object \n",
      " 9   debt              21525 non-null  int64  \n",
      " 10  total_income      19351 non-null  float64\n",
      " 11  purpose           21525 non-null  object \n",
      "dtypes: float64(2), int64(5), object(5)\n",
      "memory usage: 2.0+ MB\n"
     ]
    }
   ],
   "source": [
    "# получаем общую информацию о данных в таблице df\n",
    "df.info()"
   ]
  },
  {
   "cell_type": "markdown",
   "id": "9164e24c",
   "metadata": {},
   "source": [
    "В таблице 12 столбцов. Тип данных - строки (`object`), целые числа (`int64`), вещественные числа (`float64`)."
   ]
  },
  {
   "cell_type": "markdown",
   "id": "4f992534",
   "metadata": {},
   "source": [
    "Проверим написание столбцов, с целью приведения их к единому регистру:"
   ]
  },
  {
   "cell_type": "code",
   "execution_count": 5,
   "id": "dafab49e",
   "metadata": {
    "scrolled": false
   },
   "outputs": [
    {
     "data": {
      "text/plain": [
       "Index(['children', 'days_employed', 'dob_years', 'education', 'education_id',\n",
       "       'family_status', 'family_status_id', 'gender', 'income_type', 'debt',\n",
       "       'total_income', 'purpose'],\n",
       "      dtype='object')"
      ]
     },
     "execution_count": 5,
     "metadata": {},
     "output_type": "execute_result"
    }
   ],
   "source": [
    "# Выведем на экран название столбцов\n",
    "df.columns"
   ]
  },
  {
   "cell_type": "markdown",
   "id": "520b7333",
   "metadata": {},
   "source": [
    "Как видим, столбы написаны в едином регистре, в правке не нуждаются"
   ]
  },
  {
   "cell_type": "markdown",
   "id": "6ed701dd",
   "metadata": {},
   "source": [
    "Определим, есть ли в таблице пропущенные значения. Для этого используем метод `isna()`"
   ]
  },
  {
   "cell_type": "code",
   "execution_count": 6,
   "id": "2f56e733",
   "metadata": {
    "scrolled": false
   },
   "outputs": [
    {
     "data": {
      "text/plain": [
       "children               0\n",
       "days_employed       2174\n",
       "dob_years              0\n",
       "education              0\n",
       "education_id           0\n",
       "family_status          0\n",
       "family_status_id       0\n",
       "gender                 0\n",
       "income_type            0\n",
       "debt                   0\n",
       "total_income        2174\n",
       "purpose                0\n",
       "dtype: int64"
      ]
     },
     "execution_count": 6,
     "metadata": {},
     "output_type": "execute_result"
    }
   ],
   "source": [
    "# подсчитаем количество пропущенных значений \n",
    "df.isna().sum()"
   ]
  },
  {
   "cell_type": "markdown",
   "id": "e14ec95c",
   "metadata": {},
   "source": [
    "Как видим, столбцы `days_employed` и `total_income` имеют пропущенные значения"
   ]
  },
  {
   "cell_type": "markdown",
   "id": "55a4f594",
   "metadata": {},
   "source": [
    "Изучим их более внимательно:"
   ]
  },
  {
   "cell_type": "code",
   "execution_count": 7,
   "id": "c5b778e6",
   "metadata": {
    "scrolled": false
   },
   "outputs": [
    {
     "name": "stdout",
     "output_type": "stream",
     "text": [
      "<class 'pandas.core.frame.DataFrame'>\n",
      "Int64Index: 2174 entries, 12 to 21510\n",
      "Data columns (total 12 columns):\n",
      " #   Column            Non-Null Count  Dtype  \n",
      "---  ------            --------------  -----  \n",
      " 0   children          2174 non-null   int64  \n",
      " 1   days_employed     0 non-null      float64\n",
      " 2   dob_years         2174 non-null   int64  \n",
      " 3   education         2174 non-null   object \n",
      " 4   education_id      2174 non-null   int64  \n",
      " 5   family_status     2174 non-null   object \n",
      " 6   family_status_id  2174 non-null   int64  \n",
      " 7   gender            2174 non-null   object \n",
      " 8   income_type       2174 non-null   object \n",
      " 9   debt              2174 non-null   int64  \n",
      " 10  total_income      0 non-null      float64\n",
      " 11  purpose           2174 non-null   object \n",
      "dtypes: float64(2), int64(5), object(5)\n",
      "memory usage: 220.8+ KB\n"
     ]
    }
   ],
   "source": [
    "# подсчитаем, совпадает ли количество пропущенных значений столбцов `days_employed` и `total_income`\n",
    "df[(df['days_employed'].isna() == True) & df['total_income'].isna() == True].info()"
   ]
  },
  {
   "cell_type": "markdown",
   "id": "c7d3c6cb",
   "metadata": {},
   "source": [
    "Как видим, пропущенные значения в столбце `days_employed` и `total_income` совпадают"
   ]
  },
  {
   "cell_type": "markdown",
   "id": "07a21823",
   "metadata": {},
   "source": [
    "Посчитаем, какую долю от общего количества составляют пропущенные значения:"
   ]
  },
  {
   "cell_type": "code",
   "execution_count": 8,
   "id": "086ddf22",
   "metadata": {
    "scrolled": false
   },
   "outputs": [
    {
     "data": {
      "text/plain": [
       "'Доля пропущенных значений от общего количества составляет: 10.10%'"
      ]
     },
     "metadata": {},
     "output_type": "display_data"
    }
   ],
   "source": [
    "# Разделим пропущенные значения на общее количество значений. Результат умножим на 100% и округлим до двух знаков после запятой\n",
    "total = 21525\n",
    "missing_value = 2174\n",
    "precent_total = (missing_value / total)\n",
    "display(f'Доля пропущенных значений от общего количества составляет: {precent_total:.2%}')"
   ]
  },
  {
   "cell_type": "markdown",
   "id": "005a942d",
   "metadata": {},
   "source": [
    "**10,10%** - составляет довольно большую долю пропущенных значений от общего количества. \n",
    "Возможные причины их появления - люди не имеют официального места работы и официального заработка либо не указывают место работы и заработок. Также возможна ошибка при заведении данных в таблицу. Удалить их нельзя, так как это повлияет на вывод исследования. Придется их заменить."
   ]
  },
  {
   "cell_type": "markdown",
   "id": "4e56127a",
   "metadata": {},
   "source": [
    "### Шаг 2. Заполнение пропусков"
   ]
  },
  {
   "cell_type": "markdown",
   "id": "c50171f5",
   "metadata": {},
   "source": [
    "Один из способов замены - замена пропусков медианным значением. Так как `days_employed` (общий трудовой стаж) \n",
    "и `total_income` (ежемесячный доход) количественные переменные, то пропуски в таких значениях можно заполнить \n",
    "характерными значениями."
   ]
  },
  {
   "cell_type": "markdown",
   "id": "a10502d7",
   "metadata": {},
   "source": [
    "При изучении данных в таблице видны аномалии: данные в столбцах имеют отрицательные значение.\n",
    "Возможно, была допущена ошибка при заведении данных в таблицу. Необходимо поменять отрицательные значения на \n",
    "положительные, подсчитаем среднюю арифметическую и медиану."
   ]
  },
  {
   "cell_type": "markdown",
   "id": "1d7b7812",
   "metadata": {},
   "source": [
    "Отрицательные значения на положительные в столбцах `days_employed` (общий трудовой стаж) \n",
    "и `total_income` (ежемесячный доход) поменяем с помощью медианы (метод `abs()`)"
   ]
  },
  {
   "cell_type": "code",
   "execution_count": 9,
   "id": "346a4e3d",
   "metadata": {},
   "outputs": [],
   "source": [
    "df['days_employed'] = df['days_employed'].abs()"
   ]
  },
  {
   "cell_type": "code",
   "execution_count": 10,
   "id": "b469822a",
   "metadata": {},
   "outputs": [],
   "source": [
    "df['total_income'] = df['total_income'].abs()"
   ]
  },
  {
   "cell_type": "markdown",
   "id": "23434d3f",
   "metadata": {},
   "source": [
    "Чтобы определить медиану, нужно внимательно рассмотреть таблицу `total_incomе` (ежемесячный доход). \n",
    "Произведем группировку данных в нашей таблице."
   ]
  },
  {
   "cell_type": "code",
   "execution_count": 11,
   "id": "f1ef2379",
   "metadata": {},
   "outputs": [],
   "source": [
    "df_income_type = df.groupby(['income_type']).agg({'total_income': ['sum','count']})"
   ]
  },
  {
   "cell_type": "code",
   "execution_count": 12,
   "id": "683d5f64",
   "metadata": {},
   "outputs": [
    {
     "data": {
      "text/html": [
       "<div>\n",
       "<style scoped>\n",
       "    .dataframe tbody tr th:only-of-type {\n",
       "        vertical-align: middle;\n",
       "    }\n",
       "\n",
       "    .dataframe tbody tr th {\n",
       "        vertical-align: top;\n",
       "    }\n",
       "\n",
       "    .dataframe thead tr th {\n",
       "        text-align: left;\n",
       "    }\n",
       "\n",
       "    .dataframe thead tr:last-of-type th {\n",
       "        text-align: right;\n",
       "    }\n",
       "</style>\n",
       "<table border=\"1\" class=\"dataframe\">\n",
       "  <thead>\n",
       "    <tr>\n",
       "      <th></th>\n",
       "      <th colspan=\"2\" halign=\"left\">total_income</th>\n",
       "    </tr>\n",
       "    <tr>\n",
       "      <th></th>\n",
       "      <th>sum</th>\n",
       "      <th>count</th>\n",
       "    </tr>\n",
       "    <tr>\n",
       "      <th>income_type</th>\n",
       "      <th></th>\n",
       "      <th></th>\n",
       "    </tr>\n",
       "  </thead>\n",
       "  <tbody>\n",
       "    <tr>\n",
       "      <th>безработный</th>\n",
       "      <td>2.626795e+05</td>\n",
       "      <td>2</td>\n",
       "    </tr>\n",
       "    <tr>\n",
       "      <th>в декрете</th>\n",
       "      <td>5.382913e+04</td>\n",
       "      <td>1</td>\n",
       "    </tr>\n",
       "    <tr>\n",
       "      <th>госслужащий</th>\n",
       "      <td>2.242186e+08</td>\n",
       "      <td>1312</td>\n",
       "    </tr>\n",
       "    <tr>\n",
       "      <th>компаньон</th>\n",
       "      <td>9.264647e+08</td>\n",
       "      <td>4577</td>\n",
       "    </tr>\n",
       "    <tr>\n",
       "      <th>пенсионер</th>\n",
       "      <td>4.721299e+08</td>\n",
       "      <td>3443</td>\n",
       "    </tr>\n",
       "    <tr>\n",
       "      <th>предприниматель</th>\n",
       "      <td>4.991631e+05</td>\n",
       "      <td>1</td>\n",
       "    </tr>\n",
       "    <tr>\n",
       "      <th>сотрудник</th>\n",
       "      <td>1.616062e+09</td>\n",
       "      <td>10014</td>\n",
       "    </tr>\n",
       "    <tr>\n",
       "      <th>студент</th>\n",
       "      <td>9.820163e+04</td>\n",
       "      <td>1</td>\n",
       "    </tr>\n",
       "  </tbody>\n",
       "</table>\n",
       "</div>"
      ],
      "text/plain": [
       "                 total_income       \n",
       "                          sum  count\n",
       "income_type                         \n",
       "безработный      2.626795e+05      2\n",
       "в декрете        5.382913e+04      1\n",
       "госслужащий      2.242186e+08   1312\n",
       "компаньон        9.264647e+08   4577\n",
       "пенсионер        4.721299e+08   3443\n",
       "предприниматель  4.991631e+05      1\n",
       "сотрудник        1.616062e+09  10014\n",
       "студент          9.820163e+04      1"
      ]
     },
     "metadata": {},
     "output_type": "display_data"
    }
   ],
   "source": [
    "display(df_income_type)"
   ]
  },
  {
   "cell_type": "markdown",
   "id": "651a8638",
   "metadata": {},
   "source": [
    "Найдем медианное значение и заполним пропуски по конкретному типу занятости"
   ]
  },
  {
   "cell_type": "code",
   "execution_count": 13,
   "id": "82a81e94",
   "metadata": {},
   "outputs": [],
   "source": [
    "temp = df.copy()"
   ]
  },
  {
   "cell_type": "code",
   "execution_count": 14,
   "id": "d30ed780",
   "metadata": {},
   "outputs": [],
   "source": [
    "median_sot = df.loc[df['income_type'] == 'сотрудник', 'total_income'].median()\n",
    "median_gos = df.loc[df['income_type'] == 'госслужащий', 'total_income'].median()\n",
    "median_com = df.loc[df['income_type'] == 'компаньон', 'total_income'].median()\n",
    "median_pen = df.loc[df['income_type'] == 'пенсионер', 'total_income'].median()\n",
    "median_pred = df.loc[df['income_type'] == 'предприниматель', 'total_income'].median()"
   ]
  },
  {
   "cell_type": "code",
   "execution_count": 15,
   "id": "2f015b0f",
   "metadata": {},
   "outputs": [],
   "source": [
    "df['total_income'] = df['total_income'].fillna(value = median_sot)\n",
    "df['total_income'] = df['total_income'].fillna(value = median_gos)\n",
    "df['total_income'] = df['total_income'].fillna(value = median_com)\n",
    "df['total_income'] = df['total_income'].fillna(value = median_pen)\n",
    "df['total_income'] = df['total_income'].fillna(value = median_pred)"
   ]
  },
  {
   "cell_type": "code",
   "execution_count": 16,
   "id": "209e689b",
   "metadata": {},
   "outputs": [
    {
     "data": {
      "text/plain": [
       "children               0\n",
       "days_employed       2174\n",
       "dob_years              0\n",
       "education              0\n",
       "education_id           0\n",
       "family_status          0\n",
       "family_status_id       0\n",
       "gender                 0\n",
       "income_type            0\n",
       "debt                   0\n",
       "total_income        2174\n",
       "purpose                0\n",
       "dtype: int64"
      ]
     },
     "execution_count": 16,
     "metadata": {},
     "output_type": "execute_result"
    }
   ],
   "source": [
    "# Код ревьюера\n",
    "temp.isna().sum()"
   ]
  },
  {
   "cell_type": "code",
   "execution_count": 17,
   "id": "63312e3d",
   "metadata": {},
   "outputs": [],
   "source": [
    "# Код ревьюера\n",
    "temp.loc[temp['income_type'] == 'сотрудник', 'total_income'] = \\\n",
    "                                temp.loc[temp['income_type'] == 'сотрудник', 'total_income'].fillna(value = median_sot)"
   ]
  },
  {
   "cell_type": "code",
   "execution_count": 18,
   "id": "fd53d74c",
   "metadata": {},
   "outputs": [
    {
     "data": {
      "text/plain": [
       "children               0\n",
       "days_employed       2174\n",
       "dob_years              0\n",
       "education              0\n",
       "education_id           0\n",
       "family_status          0\n",
       "family_status_id       0\n",
       "gender                 0\n",
       "income_type            0\n",
       "debt                   0\n",
       "total_income        1069\n",
       "purpose                0\n",
       "dtype: int64"
      ]
     },
     "execution_count": 18,
     "metadata": {},
     "output_type": "execute_result"
    }
   ],
   "source": [
    "# Код ревьюера\n",
    "temp.isna().sum()"
   ]
  },
  {
   "cell_type": "code",
   "execution_count": 19,
   "id": "b667ff43",
   "metadata": {},
   "outputs": [],
   "source": [
    "median_days_sot = df.loc[df['income_type'] == 'сотрудник', 'days_employed'].median()\n",
    "median_days_gos = df.loc[df['income_type'] == 'госслужащий', 'days_employed'].median()\n",
    "median_days_com = df.loc[df['income_type'] == 'компаньон', 'days_employed'].median()\n",
    "median_days_pen = df.loc[df['income_type'] == 'пенсионер', 'days_employed'].median()\n",
    "median_days_pred = df.loc[df['income_type'] == 'предприниматель', 'days_employed'].median()"
   ]
  },
  {
   "cell_type": "code",
   "execution_count": 20,
   "id": "162f63b7",
   "metadata": {},
   "outputs": [],
   "source": [
    "df['days_employed']= df['days_employed'].fillna(value = median_days_sot)\n",
    "df['days_employed']= df['days_employed'].fillna(value = median_days_gos)\n",
    "df['days_employed']= df['days_employed'].fillna(value = median_days_com)\n",
    "df['days_employed']= df['days_employed'].fillna(value = median_days_pen)\n",
    "df['days_employed']= df['days_employed'].fillna(value = median_days_pred)"
   ]
  },
  {
   "cell_type": "code",
   "execution_count": 21,
   "id": "e606757f",
   "metadata": {
    "scrolled": false
   },
   "outputs": [
    {
     "data": {
      "text/plain": [
       "children            0\n",
       "days_employed       0\n",
       "dob_years           0\n",
       "education           0\n",
       "education_id        0\n",
       "family_status       0\n",
       "family_status_id    0\n",
       "gender              0\n",
       "income_type         0\n",
       "debt                0\n",
       "total_income        0\n",
       "purpose             0\n",
       "dtype: int64"
      ]
     },
     "execution_count": 21,
     "metadata": {},
     "output_type": "execute_result"
    }
   ],
   "source": [
    "# Проверим наличие пропусков в столбцах\n",
    "df.isna().sum()"
   ]
  },
  {
   "cell_type": "markdown",
   "id": "fbdea0ad",
   "metadata": {},
   "source": [
    "Пропуски заполнены медианным значением"
   ]
  },
  {
   "cell_type": "markdown",
   "id": "4ba6c613",
   "metadata": {},
   "source": [
    "### Шаг 2.1 Проверка данных на аномалии и исправления"
   ]
  },
  {
   "cell_type": "markdown",
   "id": "03aefdbf",
   "metadata": {},
   "source": [
    "Теперь проверим каждый столбец на аномалии (значения, которые не отражают действительность).\n",
    "Если они есть, то исправим их"
   ]
  },
  {
   "cell_type": "markdown",
   "id": "22c9955e",
   "metadata": {},
   "source": [
    "#### Столбец `children` - Дети"
   ]
  },
  {
   "cell_type": "markdown",
   "id": "7fcf111f",
   "metadata": {},
   "source": [
    "Рассмотрим первый столбец - Дети. Применим метод `.value_counts()`, который возвращает уникальные значения \n",
    "и количество их упоминаний"
   ]
  },
  {
   "cell_type": "code",
   "execution_count": 22,
   "id": "c085539e",
   "metadata": {
    "scrolled": false
   },
   "outputs": [
    {
     "data": {
      "text/plain": [
       " 0     14149\n",
       " 1      4818\n",
       " 2      2055\n",
       " 3       330\n",
       " 20       76\n",
       "-1        47\n",
       " 4        41\n",
       " 5         9\n",
       "Name: children, dtype: int64"
      ]
     },
     "execution_count": 22,
     "metadata": {},
     "output_type": "execute_result"
    }
   ],
   "source": [
    "# Применяем метод `.value_counts()` к столбцу df['children']\n",
    "df['children'].value_counts()"
   ]
  },
  {
   "cell_type": "markdown",
   "id": "96007608",
   "metadata": {},
   "source": [
    "Как видим, в данном столбце встречаются аномалии: у 47 человек количество детей `-1`, а у 76 человек `20` детей.\n",
    "Думаю, что ошибка возникла случайно, вследствие человеческого фактора. \n",
    "Исправим `-1` на `1`, а `20` заменим медианным значением"
   ]
  },
  {
   "cell_type": "code",
   "execution_count": 23,
   "id": "59c57bb7",
   "metadata": {},
   "outputs": [],
   "source": [
    "# Для замены отрицательного значения на положительное воспользуемся методом `.replace()`\n",
    "df['children'] = df['children'].replace(-1, 1)"
   ]
  },
  {
   "cell_type": "code",
   "execution_count": 24,
   "id": "3071f4f4",
   "metadata": {},
   "outputs": [],
   "source": [
    "# Для замены числа `20` на медианное значение сделаем логическую индексацию и воспользуемся методом `.median()`\n",
    "median_children = df.loc[df.loc[:, 'children'] != 20]['children'].median()\n",
    "df['children'] = df['children'].replace(20, median_children)"
   ]
  },
  {
   "cell_type": "markdown",
   "id": "49b5fdac",
   "metadata": {},
   "source": [
    "Проверим результат:"
   ]
  },
  {
   "cell_type": "code",
   "execution_count": 25,
   "id": "ed24293f",
   "metadata": {
    "scrolled": true
   },
   "outputs": [
    {
     "data": {
      "text/plain": [
       "0    14225\n",
       "1     4865\n",
       "2     2055\n",
       "3      330\n",
       "4       41\n",
       "5        9\n",
       "Name: children, dtype: int64"
      ]
     },
     "execution_count": 25,
     "metadata": {},
     "output_type": "execute_result"
    }
   ],
   "source": [
    "df['children'].value_counts()"
   ]
  },
  {
   "cell_type": "markdown",
   "id": "f52bae2a",
   "metadata": {},
   "source": [
    "Видим, что аномалии отсутствуют"
   ]
  },
  {
   "cell_type": "markdown",
   "id": "2b94dde6",
   "metadata": {},
   "source": [
    "#### Столбец `days_employed` - общий трудовой стаж в днях"
   ]
  },
  {
   "cell_type": "code",
   "execution_count": 26,
   "id": "6d581f39",
   "metadata": {
    "scrolled": false
   },
   "outputs": [
    {
     "data": {
      "text/plain": [
       "1574.202821      2174\n",
       "8437.673028         1\n",
       "5135.928528         1\n",
       "354500.415854       1\n",
       "769.717438          1\n",
       "                 ... \n",
       "1099.957609         1\n",
       "209.984794          1\n",
       "398099.392433       1\n",
       "1271.038880         1\n",
       "1984.507589         1\n",
       "Name: days_employed, Length: 19352, dtype: int64"
      ]
     },
     "execution_count": 26,
     "metadata": {},
     "output_type": "execute_result"
    }
   ],
   "source": [
    "# Посмотрим уникальные значения столбца\n",
    "df['days_employed'].value_counts()"
   ]
  },
  {
   "cell_type": "markdown",
   "id": "6e076d71",
   "metadata": {},
   "source": [
    "Отрицательные значения в данном столбце убрали, пропуски заполнили медианным значением"
   ]
  },
  {
   "cell_type": "markdown",
   "id": "ade40498",
   "metadata": {},
   "source": [
    "Проверим тип данных:"
   ]
  },
  {
   "cell_type": "code",
   "execution_count": 27,
   "id": "d83e224d",
   "metadata": {
    "scrolled": true
   },
   "outputs": [
    {
     "data": {
      "text/plain": [
       "0          8437.673028\n",
       "1          4024.803754\n",
       "2          5623.422610\n",
       "3          4124.747207\n",
       "4        340266.072047\n",
       "             ...      \n",
       "21520      4529.316663\n",
       "21521    343937.404131\n",
       "21522      2113.346888\n",
       "21523      3112.481705\n",
       "21524      1984.507589\n",
       "Name: days_employed, Length: 21525, dtype: float64"
      ]
     },
     "execution_count": 27,
     "metadata": {},
     "output_type": "execute_result"
    }
   ],
   "source": [
    "df['days_employed']"
   ]
  },
  {
   "cell_type": "markdown",
   "id": "61d935cc",
   "metadata": {},
   "source": [
    "Видим, что тип данных в столбце - `float64`, что означает вещественные числа.\n",
    "Заменим на целые числа:"
   ]
  },
  {
   "cell_type": "code",
   "execution_count": 28,
   "id": "b68634a5",
   "metadata": {},
   "outputs": [],
   "source": [
    "# Для замены типа данных воспользуемся методом `.astype()`\n",
    "df['days_employed'] = df['days_employed'].astype('int')"
   ]
  },
  {
   "cell_type": "code",
   "execution_count": 29,
   "id": "9785abe9",
   "metadata": {
    "scrolled": true
   },
   "outputs": [
    {
     "data": {
      "text/plain": [
       "0          8437\n",
       "1          4024\n",
       "2          5623\n",
       "3          4124\n",
       "4        340266\n",
       "          ...  \n",
       "21520      4529\n",
       "21521    343937\n",
       "21522      2113\n",
       "21523      3112\n",
       "21524      1984\n",
       "Name: days_employed, Length: 21525, dtype: int32"
      ]
     },
     "execution_count": 29,
     "metadata": {},
     "output_type": "execute_result"
    }
   ],
   "source": [
    "df['days_employed']"
   ]
  },
  {
   "cell_type": "markdown",
   "id": "84ce70e5",
   "metadata": {},
   "source": [
    "Типа данных поменяли на целые числа"
   ]
  },
  {
   "cell_type": "markdown",
   "id": "69c7eada",
   "metadata": {},
   "source": [
    "#### Столбец `dob_years` - возраст клиента в годах"
   ]
  },
  {
   "cell_type": "code",
   "execution_count": 30,
   "id": "7d60328d",
   "metadata": {
    "scrolled": true
   },
   "outputs": [
    {
     "data": {
      "text/plain": [
       "35    617\n",
       "40    609\n",
       "41    607\n",
       "34    603\n",
       "38    598\n",
       "42    597\n",
       "33    581\n",
       "39    573\n",
       "31    560\n",
       "36    555\n",
       "44    547\n",
       "29    545\n",
       "30    540\n",
       "48    538\n",
       "37    537\n",
       "50    514\n",
       "43    513\n",
       "32    510\n",
       "49    508\n",
       "28    503\n",
       "45    497\n",
       "27    493\n",
       "56    487\n",
       "52    484\n",
       "47    480\n",
       "54    479\n",
       "46    475\n",
       "58    461\n",
       "57    460\n",
       "53    459\n",
       "51    448\n",
       "59    444\n",
       "55    443\n",
       "26    408\n",
       "60    377\n",
       "25    357\n",
       "61    355\n",
       "62    352\n",
       "63    269\n",
       "64    265\n",
       "24    264\n",
       "23    254\n",
       "65    194\n",
       "22    183\n",
       "66    183\n",
       "67    167\n",
       "21    111\n",
       "0     101\n",
       "68     99\n",
       "69     85\n",
       "70     65\n",
       "71     58\n",
       "20     51\n",
       "72     33\n",
       "19     14\n",
       "73      8\n",
       "74      6\n",
       "75      1\n",
       "Name: dob_years, dtype: int64"
      ]
     },
     "execution_count": 30,
     "metadata": {},
     "output_type": "execute_result"
    }
   ],
   "source": [
    "df['dob_years'].value_counts()"
   ]
  },
  {
   "cell_type": "markdown",
   "id": "607651d2",
   "metadata": {},
   "source": [
    "Как видим, данные тоже содержат аномалии: 101 человек имеет возраст 0. \n",
    "Так как 101 человек от общего количества людей составляет `((101/21525) * 100)` примерно `0,5%`, \n",
    "то такое значение не будет влиять на результат"
   ]
  },
  {
   "cell_type": "markdown",
   "id": "4daa3bbc",
   "metadata": {},
   "source": [
    "#### Столбец `education` - уровень образования клиента"
   ]
  },
  {
   "cell_type": "code",
   "execution_count": 31,
   "id": "b7494204",
   "metadata": {},
   "outputs": [
    {
     "data": {
      "text/plain": [
       "среднее                13750\n",
       "высшее                  4718\n",
       "СРЕДНЕЕ                  772\n",
       "Среднее                  711\n",
       "неоконченное высшее      668\n",
       "ВЫСШЕЕ                   274\n",
       "Высшее                   268\n",
       "начальное                250\n",
       "Неоконченное высшее       47\n",
       "НЕОКОНЧЕННОЕ ВЫСШЕЕ       29\n",
       "НАЧАЛЬНОЕ                 17\n",
       "Начальное                 15\n",
       "ученая степень             4\n",
       "Ученая степень             1\n",
       "УЧЕНАЯ СТЕПЕНЬ             1\n",
       "Name: education, dtype: int64"
      ]
     },
     "execution_count": 31,
     "metadata": {},
     "output_type": "execute_result"
    }
   ],
   "source": [
    "df['education'].value_counts()"
   ]
  },
  {
   "cell_type": "markdown",
   "id": "cf6edc83",
   "metadata": {},
   "source": [
    "В данном столбце присутствуют аномалии: разный регистр букв. Приведем буквы в словах к одному регистру,\n",
    "для этого воспользуемся методом `.str.lower()`"
   ]
  },
  {
   "cell_type": "code",
   "execution_count": 32,
   "id": "2df3ed0c",
   "metadata": {},
   "outputs": [
    {
     "data": {
      "text/plain": [
       "среднее                15233\n",
       "высшее                  5260\n",
       "неоконченное высшее      744\n",
       "начальное                282\n",
       "ученая степень             6\n",
       "Name: education, dtype: int64"
      ]
     },
     "execution_count": 32,
     "metadata": {},
     "output_type": "execute_result"
    }
   ],
   "source": [
    "# Приводим буквы к одному регистру\n",
    "df['education'] = df['education'].str.lower()\n",
    "df['education'].value_counts()\n"
   ]
  },
  {
   "cell_type": "markdown",
   "id": "1dda320e",
   "metadata": {},
   "source": [
    "Как видим, аномалия устранена, буквы имеют единый регистр"
   ]
  },
  {
   "cell_type": "markdown",
   "id": "3eef4b0c",
   "metadata": {},
   "source": [
    "#### Столбец `education_id` - идентификатор уровня образования"
   ]
  },
  {
   "cell_type": "code",
   "execution_count": 33,
   "id": "5f127b98",
   "metadata": {},
   "outputs": [
    {
     "data": {
      "text/plain": [
       "1    15233\n",
       "0     5260\n",
       "2      744\n",
       "3      282\n",
       "4        6\n",
       "Name: education_id, dtype: int64"
      ]
     },
     "execution_count": 33,
     "metadata": {},
     "output_type": "execute_result"
    }
   ],
   "source": [
    "df['education_id'].value_counts()"
   ]
  },
  {
   "cell_type": "markdown",
   "id": "2e8973bb",
   "metadata": {},
   "source": [
    "Столбец корректен. Как видим, данные соответствут уровню образования клиента"
   ]
  },
  {
   "cell_type": "markdown",
   "id": "816fd001",
   "metadata": {},
   "source": [
    "#### Столбец `family_status` - семейное положение"
   ]
  },
  {
   "cell_type": "code",
   "execution_count": 34,
   "id": "17ef04a1",
   "metadata": {},
   "outputs": [
    {
     "data": {
      "text/plain": [
       "женат / замужем          12380\n",
       "гражданский брак          4177\n",
       "Не женат / не замужем     2813\n",
       "в разводе                 1195\n",
       "вдовец / вдова             960\n",
       "Name: family_status, dtype: int64"
      ]
     },
     "execution_count": 34,
     "metadata": {},
     "output_type": "execute_result"
    }
   ],
   "source": [
    "df['family_status'].value_counts()"
   ]
  },
  {
   "cell_type": "markdown",
   "id": "f0b37ca8",
   "metadata": {},
   "source": [
    "В столбце присутствуют аномалии. Знакомым нам методом `.str.lower()` приведем буквы в словах к одному регистру:"
   ]
  },
  {
   "cell_type": "code",
   "execution_count": 35,
   "id": "3d8003b7",
   "metadata": {
    "scrolled": true
   },
   "outputs": [
    {
     "data": {
      "text/plain": [
       "женат / замужем          12380\n",
       "гражданский брак          4177\n",
       "не женат / не замужем     2813\n",
       "в разводе                 1195\n",
       "вдовец / вдова             960\n",
       "Name: family_status, dtype: int64"
      ]
     },
     "execution_count": 35,
     "metadata": {},
     "output_type": "execute_result"
    }
   ],
   "source": [
    "# Приводим буквы к одному регистру\n",
    "df['family_status'] = df['family_status'].str.lower()\n",
    "df['family_status'].value_counts()"
   ]
  },
  {
   "cell_type": "markdown",
   "id": "0f4ce21c",
   "metadata": {},
   "source": [
    "Аномалия устранена, буквы имеют единый регистр"
   ]
  },
  {
   "cell_type": "markdown",
   "id": "9c0c943a",
   "metadata": {},
   "source": [
    "#### Столбец `family_status_id` - идентификатор семейного положения"
   ]
  },
  {
   "cell_type": "code",
   "execution_count": 36,
   "id": "66878d48",
   "metadata": {},
   "outputs": [
    {
     "data": {
      "text/plain": [
       "0    12380\n",
       "1     4177\n",
       "4     2813\n",
       "3     1195\n",
       "2      960\n",
       "Name: family_status_id, dtype: int64"
      ]
     },
     "execution_count": 36,
     "metadata": {},
     "output_type": "execute_result"
    }
   ],
   "source": [
    "df['family_status_id'].value_counts()"
   ]
  },
  {
   "cell_type": "markdown",
   "id": "92b08718",
   "metadata": {},
   "source": [
    "Столбец корректен."
   ]
  },
  {
   "cell_type": "markdown",
   "id": "530f5254",
   "metadata": {},
   "source": [
    "#### Столбец `gender` - пол клиента"
   ]
  },
  {
   "cell_type": "code",
   "execution_count": 37,
   "id": "5b4887c6",
   "metadata": {},
   "outputs": [
    {
     "data": {
      "text/plain": [
       "F      14236\n",
       "M       7288\n",
       "XNA        1\n",
       "Name: gender, dtype: int64"
      ]
     },
     "execution_count": 37,
     "metadata": {},
     "output_type": "execute_result"
    }
   ],
   "source": [
    "df['gender'].value_counts()"
   ]
  },
  {
   "cell_type": "markdown",
   "id": "f92fdc7e",
   "metadata": {},
   "source": [
    "В данном столбце имеется аномальное значение `XNA`. Оставим это значение, так как оно на результат исследования \n",
    "не будет влиять"
   ]
  },
  {
   "cell_type": "markdown",
   "id": "a47a49ee",
   "metadata": {},
   "source": [
    "#### Столбец `income_type` - тип занятости"
   ]
  },
  {
   "cell_type": "code",
   "execution_count": 38,
   "id": "7919efa5",
   "metadata": {},
   "outputs": [
    {
     "data": {
      "text/plain": [
       "сотрудник          11119\n",
       "компаньон           5085\n",
       "пенсионер           3856\n",
       "госслужащий         1459\n",
       "безработный            2\n",
       "предприниматель        2\n",
       "студент                1\n",
       "в декрете              1\n",
       "Name: income_type, dtype: int64"
      ]
     },
     "execution_count": 38,
     "metadata": {},
     "output_type": "execute_result"
    }
   ],
   "source": [
    "df['income_type'].value_counts()"
   ]
  },
  {
   "cell_type": "markdown",
   "id": "96e9b62a",
   "metadata": {},
   "source": [
    "В данном столбце данные в правке не нуждаются"
   ]
  },
  {
   "cell_type": "markdown",
   "id": "f7617ff2",
   "metadata": {},
   "source": [
    "#### Столбец `debt` - имел ли задолженность по возврату кредитов"
   ]
  },
  {
   "cell_type": "code",
   "execution_count": 39,
   "id": "5211d0d0",
   "metadata": {},
   "outputs": [
    {
     "data": {
      "text/plain": [
       "0    19784\n",
       "1     1741\n",
       "Name: debt, dtype: int64"
      ]
     },
     "execution_count": 39,
     "metadata": {},
     "output_type": "execute_result"
    }
   ],
   "source": [
    "df['debt'].value_counts()"
   ]
  },
  {
   "cell_type": "markdown",
   "id": "081ad745",
   "metadata": {},
   "source": [
    "В данном столбце данные в правке не нуждаются"
   ]
  },
  {
   "cell_type": "markdown",
   "id": "7b42e313",
   "metadata": {},
   "source": [
    "#### Столбец `total_income` - ежемесячный доход"
   ]
  },
  {
   "cell_type": "code",
   "execution_count": 40,
   "id": "ee13a5a6",
   "metadata": {},
   "outputs": [
    {
     "data": {
      "text/plain": [
       "0        253875.639453\n",
       "1        112080.014102\n",
       "2        145885.952297\n",
       "3        267628.550329\n",
       "4        158616.077870\n",
       "             ...      \n",
       "21520    224791.862382\n",
       "21521    155999.806512\n",
       "21522     89672.561153\n",
       "21523    244093.050500\n",
       "21524     82047.418899\n",
       "Name: total_income, Length: 21525, dtype: float64"
      ]
     },
     "execution_count": 40,
     "metadata": {},
     "output_type": "execute_result"
    }
   ],
   "source": [
    "df['total_income']"
   ]
  },
  {
   "cell_type": "markdown",
   "id": "a53d8a8c",
   "metadata": {},
   "source": [
    "Данный столбец нами уже исправлен: исправлены отрицательные значения, удалены пропуски.\n",
    "Однако, тип данного столбца - `float64` (вещественные числа). Поменяем его на целочисленный"
   ]
  },
  {
   "cell_type": "code",
   "execution_count": 41,
   "id": "5638f0bc",
   "metadata": {},
   "outputs": [],
   "source": [
    "# Для замены типа стоблца воспользуемся методом `astype()`\n",
    "df['total_income'] = df['total_income'].astype('int')"
   ]
  },
  {
   "cell_type": "code",
   "execution_count": 42,
   "id": "df2e57d9",
   "metadata": {},
   "outputs": [
    {
     "data": {
      "text/plain": [
       "0        253875\n",
       "1        112080\n",
       "2        145885\n",
       "3        267628\n",
       "4        158616\n",
       "          ...  \n",
       "21520    224791\n",
       "21521    155999\n",
       "21522     89672\n",
       "21523    244093\n",
       "21524     82047\n",
       "Name: total_income, Length: 21525, dtype: int32"
      ]
     },
     "execution_count": 42,
     "metadata": {},
     "output_type": "execute_result"
    }
   ],
   "source": [
    "# Проверяем результат\n",
    "df['total_income']"
   ]
  },
  {
   "cell_type": "markdown",
   "id": "644b042d",
   "metadata": {},
   "source": [
    "Тип столбца `ежемесячный доход` поменяли с вещественного числа на целочисленный"
   ]
  },
  {
   "cell_type": "markdown",
   "id": "2763e3f9",
   "metadata": {},
   "source": [
    "#### Столбец `purpose` - цель получения кредита"
   ]
  },
  {
   "cell_type": "code",
   "execution_count": 43,
   "id": "c13e7c41",
   "metadata": {},
   "outputs": [
    {
     "data": {
      "text/plain": [
       "свадьба                                   797\n",
       "на проведение свадьбы                     777\n",
       "сыграть свадьбу                           774\n",
       "операции с недвижимостью                  676\n",
       "покупка коммерческой недвижимости         664\n",
       "покупка жилья для сдачи                   653\n",
       "операции с жильем                         653\n",
       "операции с коммерческой недвижимостью     651\n",
       "покупка жилья                             647\n",
       "жилье                                     647\n",
       "покупка жилья для семьи                   641\n",
       "строительство собственной недвижимости    635\n",
       "недвижимость                              634\n",
       "операции со своей недвижимостью           630\n",
       "строительство жилой недвижимости          626\n",
       "покупка недвижимости                      624\n",
       "строительство недвижимости                620\n",
       "покупка своего жилья                      620\n",
       "ремонт жилью                              612\n",
       "покупка жилой недвижимости                607\n",
       "на покупку своего автомобиля              505\n",
       "заняться высшим образованием              496\n",
       "автомобиль                                495\n",
       "сделка с подержанным автомобилем          489\n",
       "свой автомобиль                           480\n",
       "на покупку подержанного автомобиля        479\n",
       "автомобили                                478\n",
       "на покупку автомобиля                     472\n",
       "дополнительное образование                462\n",
       "приобретение автомобиля                   462\n",
       "сделка с автомобилем                      455\n",
       "высшее образование                        453\n",
       "образование                               447\n",
       "получение дополнительного образования     447\n",
       "получение образования                     443\n",
       "профильное образование                    436\n",
       "получение высшего образования             426\n",
       "заняться образованием                     412\n",
       "Name: purpose, dtype: int64"
      ]
     },
     "execution_count": 43,
     "metadata": {},
     "output_type": "execute_result"
    }
   ],
   "source": [
    "df['purpose'].value_counts()"
   ]
  },
  {
   "cell_type": "markdown",
   "id": "7f25380c",
   "metadata": {},
   "source": [
    "В данном столбце имеются неявные дубликаты. В дальнейшем придется их удалить"
   ]
  },
  {
   "cell_type": "markdown",
   "id": "0d39b718",
   "metadata": {},
   "source": [
    "### Шаг 2.2. Удаление дубликатов"
   ]
  },
  {
   "cell_type": "markdown",
   "id": "10766253",
   "metadata": {},
   "source": [
    "Осуществим поиск дубликатов. Для этого воспользуемся функцией `.duplicated()`"
   ]
  },
  {
   "cell_type": "code",
   "execution_count": 44,
   "id": "5564e365",
   "metadata": {
    "scrolled": true
   },
   "outputs": [
    {
     "data": {
      "text/plain": [
       "71"
      ]
     },
     "execution_count": 44,
     "metadata": {},
     "output_type": "execute_result"
    }
   ],
   "source": [
    "# Подсчитаем количество дубликатов\n",
    "df.duplicated().sum()"
   ]
  },
  {
   "cell_type": "code",
   "execution_count": 45,
   "id": "08204e14",
   "metadata": {},
   "outputs": [],
   "source": [
    "# Удалим явные дубликаты (с удалением старых индексов и формированием новых)\n",
    "df = df.drop_duplicates().reset_index()"
   ]
  },
  {
   "cell_type": "code",
   "execution_count": 46,
   "id": "23c093b5",
   "metadata": {},
   "outputs": [
    {
     "data": {
      "text/plain": [
       "0"
      ]
     },
     "execution_count": 46,
     "metadata": {},
     "output_type": "execute_result"
    }
   ],
   "source": [
    "# Проверим результат: подсчитаем количество дубликатов\n",
    "df.duplicated().sum()"
   ]
  },
  {
   "cell_type": "markdown",
   "id": "feb98718",
   "metadata": {},
   "source": [
    "Дубликаты удалены"
   ]
  },
  {
   "cell_type": "markdown",
   "id": "1e9eef12",
   "metadata": {},
   "source": [
    "### Шаг 2.3. Формирование дополнительных датафреймов словарей, декомпозиция исходного датафрейма"
   ]
  },
  {
   "cell_type": "markdown",
   "id": "eeb5e840",
   "metadata": {},
   "source": [
    "Создадим два новых датафрейма: первый со столбцами `education` и `education_id`;\n",
    "второй со столбцами `family_status_id` и `family_status`"
   ]
  },
  {
   "cell_type": "code",
   "execution_count": 47,
   "id": "1c2b4fad",
   "metadata": {},
   "outputs": [],
   "source": [
    "first_new_df = df[['education', 'education_id']]\n",
    "second_new_df = df[['family_status_id', 'family_status']]"
   ]
  },
  {
   "cell_type": "code",
   "execution_count": 48,
   "id": "638bac75",
   "metadata": {
    "scrolled": false
   },
   "outputs": [
    {
     "data": {
      "text/html": [
       "<div>\n",
       "<style scoped>\n",
       "    .dataframe tbody tr th:only-of-type {\n",
       "        vertical-align: middle;\n",
       "    }\n",
       "\n",
       "    .dataframe tbody tr th {\n",
       "        vertical-align: top;\n",
       "    }\n",
       "\n",
       "    .dataframe thead th {\n",
       "        text-align: right;\n",
       "    }\n",
       "</style>\n",
       "<table border=\"1\" class=\"dataframe\">\n",
       "  <thead>\n",
       "    <tr style=\"text-align: right;\">\n",
       "      <th></th>\n",
       "      <th>education</th>\n",
       "      <th>education_id</th>\n",
       "    </tr>\n",
       "  </thead>\n",
       "  <tbody>\n",
       "    <tr>\n",
       "      <th>0</th>\n",
       "      <td>высшее</td>\n",
       "      <td>0</td>\n",
       "    </tr>\n",
       "    <tr>\n",
       "      <th>1</th>\n",
       "      <td>среднее</td>\n",
       "      <td>1</td>\n",
       "    </tr>\n",
       "    <tr>\n",
       "      <th>2</th>\n",
       "      <td>среднее</td>\n",
       "      <td>1</td>\n",
       "    </tr>\n",
       "    <tr>\n",
       "      <th>3</th>\n",
       "      <td>среднее</td>\n",
       "      <td>1</td>\n",
       "    </tr>\n",
       "    <tr>\n",
       "      <th>4</th>\n",
       "      <td>среднее</td>\n",
       "      <td>1</td>\n",
       "    </tr>\n",
       "    <tr>\n",
       "      <th>...</th>\n",
       "      <td>...</td>\n",
       "      <td>...</td>\n",
       "    </tr>\n",
       "    <tr>\n",
       "      <th>21449</th>\n",
       "      <td>среднее</td>\n",
       "      <td>1</td>\n",
       "    </tr>\n",
       "    <tr>\n",
       "      <th>21450</th>\n",
       "      <td>среднее</td>\n",
       "      <td>1</td>\n",
       "    </tr>\n",
       "    <tr>\n",
       "      <th>21451</th>\n",
       "      <td>среднее</td>\n",
       "      <td>1</td>\n",
       "    </tr>\n",
       "    <tr>\n",
       "      <th>21452</th>\n",
       "      <td>среднее</td>\n",
       "      <td>1</td>\n",
       "    </tr>\n",
       "    <tr>\n",
       "      <th>21453</th>\n",
       "      <td>среднее</td>\n",
       "      <td>1</td>\n",
       "    </tr>\n",
       "  </tbody>\n",
       "</table>\n",
       "<p>21454 rows × 2 columns</p>\n",
       "</div>"
      ],
      "text/plain": [
       "      education  education_id\n",
       "0        высшее             0\n",
       "1       среднее             1\n",
       "2       среднее             1\n",
       "3       среднее             1\n",
       "4       среднее             1\n",
       "...         ...           ...\n",
       "21449   среднее             1\n",
       "21450   среднее             1\n",
       "21451   среднее             1\n",
       "21452   среднее             1\n",
       "21453   среднее             1\n",
       "\n",
       "[21454 rows x 2 columns]"
      ]
     },
     "metadata": {},
     "output_type": "display_data"
    }
   ],
   "source": [
    "# Выведем на экран с целью проверки\n",
    "display(first_new_df)"
   ]
  },
  {
   "cell_type": "code",
   "execution_count": 49,
   "id": "505f2d53",
   "metadata": {
    "scrolled": false
   },
   "outputs": [
    {
     "data": {
      "text/html": [
       "<div>\n",
       "<style scoped>\n",
       "    .dataframe tbody tr th:only-of-type {\n",
       "        vertical-align: middle;\n",
       "    }\n",
       "\n",
       "    .dataframe tbody tr th {\n",
       "        vertical-align: top;\n",
       "    }\n",
       "\n",
       "    .dataframe thead th {\n",
       "        text-align: right;\n",
       "    }\n",
       "</style>\n",
       "<table border=\"1\" class=\"dataframe\">\n",
       "  <thead>\n",
       "    <tr style=\"text-align: right;\">\n",
       "      <th></th>\n",
       "      <th>family_status_id</th>\n",
       "      <th>family_status</th>\n",
       "    </tr>\n",
       "  </thead>\n",
       "  <tbody>\n",
       "    <tr>\n",
       "      <th>0</th>\n",
       "      <td>0</td>\n",
       "      <td>женат / замужем</td>\n",
       "    </tr>\n",
       "    <tr>\n",
       "      <th>1</th>\n",
       "      <td>0</td>\n",
       "      <td>женат / замужем</td>\n",
       "    </tr>\n",
       "    <tr>\n",
       "      <th>2</th>\n",
       "      <td>0</td>\n",
       "      <td>женат / замужем</td>\n",
       "    </tr>\n",
       "    <tr>\n",
       "      <th>3</th>\n",
       "      <td>0</td>\n",
       "      <td>женат / замужем</td>\n",
       "    </tr>\n",
       "    <tr>\n",
       "      <th>4</th>\n",
       "      <td>1</td>\n",
       "      <td>гражданский брак</td>\n",
       "    </tr>\n",
       "    <tr>\n",
       "      <th>...</th>\n",
       "      <td>...</td>\n",
       "      <td>...</td>\n",
       "    </tr>\n",
       "    <tr>\n",
       "      <th>21449</th>\n",
       "      <td>1</td>\n",
       "      <td>гражданский брак</td>\n",
       "    </tr>\n",
       "    <tr>\n",
       "      <th>21450</th>\n",
       "      <td>0</td>\n",
       "      <td>женат / замужем</td>\n",
       "    </tr>\n",
       "    <tr>\n",
       "      <th>21451</th>\n",
       "      <td>1</td>\n",
       "      <td>гражданский брак</td>\n",
       "    </tr>\n",
       "    <tr>\n",
       "      <th>21452</th>\n",
       "      <td>0</td>\n",
       "      <td>женат / замужем</td>\n",
       "    </tr>\n",
       "    <tr>\n",
       "      <th>21453</th>\n",
       "      <td>0</td>\n",
       "      <td>женат / замужем</td>\n",
       "    </tr>\n",
       "  </tbody>\n",
       "</table>\n",
       "<p>21454 rows × 2 columns</p>\n",
       "</div>"
      ],
      "text/plain": [
       "       family_status_id     family_status\n",
       "0                     0   женат / замужем\n",
       "1                     0   женат / замужем\n",
       "2                     0   женат / замужем\n",
       "3                     0   женат / замужем\n",
       "4                     1  гражданский брак\n",
       "...                 ...               ...\n",
       "21449                 1  гражданский брак\n",
       "21450                 0   женат / замужем\n",
       "21451                 1  гражданский брак\n",
       "21452                 0   женат / замужем\n",
       "21453                 0   женат / замужем\n",
       "\n",
       "[21454 rows x 2 columns]"
      ]
     },
     "metadata": {},
     "output_type": "display_data"
    }
   ],
   "source": [
    "# Выведем на экран с целью проверки\n",
    "display(second_new_df)"
   ]
  },
  {
   "cell_type": "markdown",
   "id": "c926b3d4",
   "metadata": {},
   "source": [
    "Проверим наличие дубликатов и если есть - то удалим их:"
   ]
  },
  {
   "cell_type": "code",
   "execution_count": 51,
   "id": "d411cae4",
   "metadata": {},
   "outputs": [
    {
     "data": {
      "text/plain": [
       "21449"
      ]
     },
     "execution_count": 51,
     "metadata": {},
     "output_type": "execute_result"
    }
   ],
   "source": [
    "first_new_df.duplicated().sum()"
   ]
  },
  {
   "cell_type": "code",
   "execution_count": 52,
   "id": "7324210e",
   "metadata": {},
   "outputs": [
    {
     "data": {
      "text/plain": [
       "21449"
      ]
     },
     "execution_count": 52,
     "metadata": {},
     "output_type": "execute_result"
    }
   ],
   "source": [
    "second_new_df.duplicated().sum()"
   ]
  },
  {
   "cell_type": "code",
   "execution_count": 53,
   "id": "c9908c1c",
   "metadata": {},
   "outputs": [],
   "source": [
    "first_new_df = first_new_df.drop_duplicates().reset_index()"
   ]
  },
  {
   "cell_type": "code",
   "execution_count": 54,
   "id": "fac8c038",
   "metadata": {},
   "outputs": [],
   "source": [
    "second_new_df = second_new_df.drop_duplicates().reset_index()"
   ]
  },
  {
   "cell_type": "code",
   "execution_count": 55,
   "id": "c27102ff",
   "metadata": {},
   "outputs": [
    {
     "data": {
      "text/html": [
       "<div>\n",
       "<style scoped>\n",
       "    .dataframe tbody tr th:only-of-type {\n",
       "        vertical-align: middle;\n",
       "    }\n",
       "\n",
       "    .dataframe tbody tr th {\n",
       "        vertical-align: top;\n",
       "    }\n",
       "\n",
       "    .dataframe thead th {\n",
       "        text-align: right;\n",
       "    }\n",
       "</style>\n",
       "<table border=\"1\" class=\"dataframe\">\n",
       "  <thead>\n",
       "    <tr style=\"text-align: right;\">\n",
       "      <th></th>\n",
       "      <th>index</th>\n",
       "      <th>education</th>\n",
       "      <th>education_id</th>\n",
       "    </tr>\n",
       "  </thead>\n",
       "  <tbody>\n",
       "    <tr>\n",
       "      <th>0</th>\n",
       "      <td>0</td>\n",
       "      <td>высшее</td>\n",
       "      <td>0</td>\n",
       "    </tr>\n",
       "    <tr>\n",
       "      <th>1</th>\n",
       "      <td>1</td>\n",
       "      <td>среднее</td>\n",
       "      <td>1</td>\n",
       "    </tr>\n",
       "    <tr>\n",
       "      <th>2</th>\n",
       "      <td>13</td>\n",
       "      <td>неоконченное высшее</td>\n",
       "      <td>2</td>\n",
       "    </tr>\n",
       "    <tr>\n",
       "      <th>3</th>\n",
       "      <td>31</td>\n",
       "      <td>начальное</td>\n",
       "      <td>3</td>\n",
       "    </tr>\n",
       "    <tr>\n",
       "      <th>4</th>\n",
       "      <td>2962</td>\n",
       "      <td>ученая степень</td>\n",
       "      <td>4</td>\n",
       "    </tr>\n",
       "  </tbody>\n",
       "</table>\n",
       "</div>"
      ],
      "text/plain": [
       "   index            education  education_id\n",
       "0      0               высшее             0\n",
       "1      1              среднее             1\n",
       "2     13  неоконченное высшее             2\n",
       "3     31            начальное             3\n",
       "4   2962       ученая степень             4"
      ]
     },
     "metadata": {},
     "output_type": "display_data"
    }
   ],
   "source": [
    "display(first_new_df)"
   ]
  },
  {
   "cell_type": "code",
   "execution_count": 56,
   "id": "046ddd4f",
   "metadata": {
    "scrolled": true
   },
   "outputs": [
    {
     "data": {
      "text/html": [
       "<div>\n",
       "<style scoped>\n",
       "    .dataframe tbody tr th:only-of-type {\n",
       "        vertical-align: middle;\n",
       "    }\n",
       "\n",
       "    .dataframe tbody tr th {\n",
       "        vertical-align: top;\n",
       "    }\n",
       "\n",
       "    .dataframe thead th {\n",
       "        text-align: right;\n",
       "    }\n",
       "</style>\n",
       "<table border=\"1\" class=\"dataframe\">\n",
       "  <thead>\n",
       "    <tr style=\"text-align: right;\">\n",
       "      <th></th>\n",
       "      <th>index</th>\n",
       "      <th>family_status_id</th>\n",
       "      <th>family_status</th>\n",
       "    </tr>\n",
       "  </thead>\n",
       "  <tbody>\n",
       "    <tr>\n",
       "      <th>0</th>\n",
       "      <td>0</td>\n",
       "      <td>0</td>\n",
       "      <td>женат / замужем</td>\n",
       "    </tr>\n",
       "    <tr>\n",
       "      <th>1</th>\n",
       "      <td>4</td>\n",
       "      <td>1</td>\n",
       "      <td>гражданский брак</td>\n",
       "    </tr>\n",
       "    <tr>\n",
       "      <th>2</th>\n",
       "      <td>18</td>\n",
       "      <td>2</td>\n",
       "      <td>вдовец / вдова</td>\n",
       "    </tr>\n",
       "    <tr>\n",
       "      <th>3</th>\n",
       "      <td>19</td>\n",
       "      <td>3</td>\n",
       "      <td>в разводе</td>\n",
       "    </tr>\n",
       "    <tr>\n",
       "      <th>4</th>\n",
       "      <td>24</td>\n",
       "      <td>4</td>\n",
       "      <td>не женат / не замужем</td>\n",
       "    </tr>\n",
       "  </tbody>\n",
       "</table>\n",
       "</div>"
      ],
      "text/plain": [
       "   index  family_status_id          family_status\n",
       "0      0                 0        женат / замужем\n",
       "1      4                 1       гражданский брак\n",
       "2     18                 2         вдовец / вдова\n",
       "3     19                 3              в разводе\n",
       "4     24                 4  не женат / не замужем"
      ]
     },
     "metadata": {},
     "output_type": "display_data"
    }
   ],
   "source": [
    "display(second_new_df)"
   ]
  },
  {
   "cell_type": "markdown",
   "id": "377d22e1",
   "metadata": {},
   "source": [
    "Удалим из исходного датафрейма столбцы education и family_status:"
   ]
  },
  {
   "cell_type": "code",
   "execution_count": 57,
   "id": "32779578",
   "metadata": {},
   "outputs": [
    {
     "data": {
      "text/html": [
       "<div>\n",
       "<style scoped>\n",
       "    .dataframe tbody tr th:only-of-type {\n",
       "        vertical-align: middle;\n",
       "    }\n",
       "\n",
       "    .dataframe tbody tr th {\n",
       "        vertical-align: top;\n",
       "    }\n",
       "\n",
       "    .dataframe thead th {\n",
       "        text-align: right;\n",
       "    }\n",
       "</style>\n",
       "<table border=\"1\" class=\"dataframe\">\n",
       "  <thead>\n",
       "    <tr style=\"text-align: right;\">\n",
       "      <th></th>\n",
       "      <th>index</th>\n",
       "      <th>children</th>\n",
       "      <th>days_employed</th>\n",
       "      <th>dob_years</th>\n",
       "      <th>education_id</th>\n",
       "      <th>family_status_id</th>\n",
       "      <th>gender</th>\n",
       "      <th>income_type</th>\n",
       "      <th>debt</th>\n",
       "      <th>total_income</th>\n",
       "      <th>purpose</th>\n",
       "    </tr>\n",
       "  </thead>\n",
       "  <tbody>\n",
       "    <tr>\n",
       "      <th>0</th>\n",
       "      <td>0</td>\n",
       "      <td>1</td>\n",
       "      <td>8437</td>\n",
       "      <td>42</td>\n",
       "      <td>0</td>\n",
       "      <td>0</td>\n",
       "      <td>F</td>\n",
       "      <td>сотрудник</td>\n",
       "      <td>0</td>\n",
       "      <td>253875</td>\n",
       "      <td>покупка жилья</td>\n",
       "    </tr>\n",
       "    <tr>\n",
       "      <th>1</th>\n",
       "      <td>1</td>\n",
       "      <td>1</td>\n",
       "      <td>4024</td>\n",
       "      <td>36</td>\n",
       "      <td>1</td>\n",
       "      <td>0</td>\n",
       "      <td>F</td>\n",
       "      <td>сотрудник</td>\n",
       "      <td>0</td>\n",
       "      <td>112080</td>\n",
       "      <td>приобретение автомобиля</td>\n",
       "    </tr>\n",
       "    <tr>\n",
       "      <th>2</th>\n",
       "      <td>2</td>\n",
       "      <td>0</td>\n",
       "      <td>5623</td>\n",
       "      <td>33</td>\n",
       "      <td>1</td>\n",
       "      <td>0</td>\n",
       "      <td>M</td>\n",
       "      <td>сотрудник</td>\n",
       "      <td>0</td>\n",
       "      <td>145885</td>\n",
       "      <td>покупка жилья</td>\n",
       "    </tr>\n",
       "    <tr>\n",
       "      <th>3</th>\n",
       "      <td>3</td>\n",
       "      <td>3</td>\n",
       "      <td>4124</td>\n",
       "      <td>32</td>\n",
       "      <td>1</td>\n",
       "      <td>0</td>\n",
       "      <td>M</td>\n",
       "      <td>сотрудник</td>\n",
       "      <td>0</td>\n",
       "      <td>267628</td>\n",
       "      <td>дополнительное образование</td>\n",
       "    </tr>\n",
       "    <tr>\n",
       "      <th>4</th>\n",
       "      <td>4</td>\n",
       "      <td>0</td>\n",
       "      <td>340266</td>\n",
       "      <td>53</td>\n",
       "      <td>1</td>\n",
       "      <td>1</td>\n",
       "      <td>F</td>\n",
       "      <td>пенсионер</td>\n",
       "      <td>0</td>\n",
       "      <td>158616</td>\n",
       "      <td>сыграть свадьбу</td>\n",
       "    </tr>\n",
       "    <tr>\n",
       "      <th>...</th>\n",
       "      <td>...</td>\n",
       "      <td>...</td>\n",
       "      <td>...</td>\n",
       "      <td>...</td>\n",
       "      <td>...</td>\n",
       "      <td>...</td>\n",
       "      <td>...</td>\n",
       "      <td>...</td>\n",
       "      <td>...</td>\n",
       "      <td>...</td>\n",
       "      <td>...</td>\n",
       "    </tr>\n",
       "    <tr>\n",
       "      <th>21449</th>\n",
       "      <td>21520</td>\n",
       "      <td>1</td>\n",
       "      <td>4529</td>\n",
       "      <td>43</td>\n",
       "      <td>1</td>\n",
       "      <td>1</td>\n",
       "      <td>F</td>\n",
       "      <td>компаньон</td>\n",
       "      <td>0</td>\n",
       "      <td>224791</td>\n",
       "      <td>операции с жильем</td>\n",
       "    </tr>\n",
       "    <tr>\n",
       "      <th>21450</th>\n",
       "      <td>21521</td>\n",
       "      <td>0</td>\n",
       "      <td>343937</td>\n",
       "      <td>67</td>\n",
       "      <td>1</td>\n",
       "      <td>0</td>\n",
       "      <td>F</td>\n",
       "      <td>пенсионер</td>\n",
       "      <td>0</td>\n",
       "      <td>155999</td>\n",
       "      <td>сделка с автомобилем</td>\n",
       "    </tr>\n",
       "    <tr>\n",
       "      <th>21451</th>\n",
       "      <td>21522</td>\n",
       "      <td>1</td>\n",
       "      <td>2113</td>\n",
       "      <td>38</td>\n",
       "      <td>1</td>\n",
       "      <td>1</td>\n",
       "      <td>M</td>\n",
       "      <td>сотрудник</td>\n",
       "      <td>1</td>\n",
       "      <td>89672</td>\n",
       "      <td>недвижимость</td>\n",
       "    </tr>\n",
       "    <tr>\n",
       "      <th>21452</th>\n",
       "      <td>21523</td>\n",
       "      <td>3</td>\n",
       "      <td>3112</td>\n",
       "      <td>38</td>\n",
       "      <td>1</td>\n",
       "      <td>0</td>\n",
       "      <td>M</td>\n",
       "      <td>сотрудник</td>\n",
       "      <td>1</td>\n",
       "      <td>244093</td>\n",
       "      <td>на покупку своего автомобиля</td>\n",
       "    </tr>\n",
       "    <tr>\n",
       "      <th>21453</th>\n",
       "      <td>21524</td>\n",
       "      <td>2</td>\n",
       "      <td>1984</td>\n",
       "      <td>40</td>\n",
       "      <td>1</td>\n",
       "      <td>0</td>\n",
       "      <td>F</td>\n",
       "      <td>сотрудник</td>\n",
       "      <td>0</td>\n",
       "      <td>82047</td>\n",
       "      <td>на покупку автомобиля</td>\n",
       "    </tr>\n",
       "  </tbody>\n",
       "</table>\n",
       "<p>21454 rows × 11 columns</p>\n",
       "</div>"
      ],
      "text/plain": [
       "       index  children  days_employed  dob_years  education_id  \\\n",
       "0          0         1           8437         42             0   \n",
       "1          1         1           4024         36             1   \n",
       "2          2         0           5623         33             1   \n",
       "3          3         3           4124         32             1   \n",
       "4          4         0         340266         53             1   \n",
       "...      ...       ...            ...        ...           ...   \n",
       "21449  21520         1           4529         43             1   \n",
       "21450  21521         0         343937         67             1   \n",
       "21451  21522         1           2113         38             1   \n",
       "21452  21523         3           3112         38             1   \n",
       "21453  21524         2           1984         40             1   \n",
       "\n",
       "       family_status_id gender income_type  debt  total_income  \\\n",
       "0                     0      F   сотрудник     0        253875   \n",
       "1                     0      F   сотрудник     0        112080   \n",
       "2                     0      M   сотрудник     0        145885   \n",
       "3                     0      M   сотрудник     0        267628   \n",
       "4                     1      F   пенсионер     0        158616   \n",
       "...                 ...    ...         ...   ...           ...   \n",
       "21449                 1      F   компаньон     0        224791   \n",
       "21450                 0      F   пенсионер     0        155999   \n",
       "21451                 1      M   сотрудник     1         89672   \n",
       "21452                 0      M   сотрудник     1        244093   \n",
       "21453                 0      F   сотрудник     0         82047   \n",
       "\n",
       "                            purpose  \n",
       "0                     покупка жилья  \n",
       "1           приобретение автомобиля  \n",
       "2                     покупка жилья  \n",
       "3        дополнительное образование  \n",
       "4                   сыграть свадьбу  \n",
       "...                             ...  \n",
       "21449             операции с жильем  \n",
       "21450          сделка с автомобилем  \n",
       "21451                  недвижимость  \n",
       "21452  на покупку своего автомобиля  \n",
       "21453         на покупку автомобиля  \n",
       "\n",
       "[21454 rows x 11 columns]"
      ]
     },
     "execution_count": 57,
     "metadata": {},
     "output_type": "execute_result"
    }
   ],
   "source": [
    "#  Воспользуемся методом `.drop()`, а `axis=1` указывает, что удалять нужно столбец, а не строку\n",
    "df.drop(['education', 'family_status'], axis=1)"
   ]
  },
  {
   "cell_type": "markdown",
   "id": "c9b2cbdc",
   "metadata": {},
   "source": [
    "### Шаг 2.4. Категоризация дохода"
   ]
  },
  {
   "cell_type": "markdown",
   "id": "31bf960a",
   "metadata": {},
   "source": [
    "На основании диапазонов назначим кредитополучателю категорию, в зависимости от ежемесячного дохода, от `A` до `E`"
   ]
  },
  {
   "cell_type": "code",
   "execution_count": 58,
   "id": "2e1d58a1",
   "metadata": {},
   "outputs": [],
   "source": [
    "# Создадим функцию: на вход подадим доход клиента, а возвращает категорию клиента\n",
    "def total(total_income):\n",
    "    if 0 <= total_income <= 30000:\n",
    "        return 'E'\n",
    "    if 30001 <= total_income <= 50000:\n",
    "        return 'D'\n",
    "    if 50001 <= total_income <= 200000:\n",
    "        return 'C'\n",
    "    if 200001 <= total_income <= 1000000:\n",
    "        return 'B'\n",
    "    return 'A'"
   ]
  },
  {
   "cell_type": "code",
   "execution_count": 59,
   "id": "085fa958",
   "metadata": {},
   "outputs": [],
   "source": [
    "# Создадим отдельный столбец с категориями и в ячейке запишем значения, возвращаемые функцией.\n",
    "# Для этого воспользуемся методом `.apply()`\n",
    "df['total_income_category'] = df['total_income'].apply(total)"
   ]
  },
  {
   "cell_type": "code",
   "execution_count": 60,
   "id": "5138307e",
   "metadata": {
    "scrolled": false
   },
   "outputs": [
    {
     "data": {
      "text/html": [
       "<div>\n",
       "<style scoped>\n",
       "    .dataframe tbody tr th:only-of-type {\n",
       "        vertical-align: middle;\n",
       "    }\n",
       "\n",
       "    .dataframe tbody tr th {\n",
       "        vertical-align: top;\n",
       "    }\n",
       "\n",
       "    .dataframe thead th {\n",
       "        text-align: right;\n",
       "    }\n",
       "</style>\n",
       "<table border=\"1\" class=\"dataframe\">\n",
       "  <thead>\n",
       "    <tr style=\"text-align: right;\">\n",
       "      <th></th>\n",
       "      <th>index</th>\n",
       "      <th>children</th>\n",
       "      <th>days_employed</th>\n",
       "      <th>dob_years</th>\n",
       "      <th>education</th>\n",
       "      <th>education_id</th>\n",
       "      <th>family_status</th>\n",
       "      <th>family_status_id</th>\n",
       "      <th>gender</th>\n",
       "      <th>income_type</th>\n",
       "      <th>debt</th>\n",
       "      <th>total_income</th>\n",
       "      <th>purpose</th>\n",
       "      <th>total_income_category</th>\n",
       "    </tr>\n",
       "  </thead>\n",
       "  <tbody>\n",
       "    <tr>\n",
       "      <th>0</th>\n",
       "      <td>0</td>\n",
       "      <td>1</td>\n",
       "      <td>8437</td>\n",
       "      <td>42</td>\n",
       "      <td>высшее</td>\n",
       "      <td>0</td>\n",
       "      <td>женат / замужем</td>\n",
       "      <td>0</td>\n",
       "      <td>F</td>\n",
       "      <td>сотрудник</td>\n",
       "      <td>0</td>\n",
       "      <td>253875</td>\n",
       "      <td>покупка жилья</td>\n",
       "      <td>B</td>\n",
       "    </tr>\n",
       "    <tr>\n",
       "      <th>1</th>\n",
       "      <td>1</td>\n",
       "      <td>1</td>\n",
       "      <td>4024</td>\n",
       "      <td>36</td>\n",
       "      <td>среднее</td>\n",
       "      <td>1</td>\n",
       "      <td>женат / замужем</td>\n",
       "      <td>0</td>\n",
       "      <td>F</td>\n",
       "      <td>сотрудник</td>\n",
       "      <td>0</td>\n",
       "      <td>112080</td>\n",
       "      <td>приобретение автомобиля</td>\n",
       "      <td>C</td>\n",
       "    </tr>\n",
       "    <tr>\n",
       "      <th>2</th>\n",
       "      <td>2</td>\n",
       "      <td>0</td>\n",
       "      <td>5623</td>\n",
       "      <td>33</td>\n",
       "      <td>среднее</td>\n",
       "      <td>1</td>\n",
       "      <td>женат / замужем</td>\n",
       "      <td>0</td>\n",
       "      <td>M</td>\n",
       "      <td>сотрудник</td>\n",
       "      <td>0</td>\n",
       "      <td>145885</td>\n",
       "      <td>покупка жилья</td>\n",
       "      <td>C</td>\n",
       "    </tr>\n",
       "    <tr>\n",
       "      <th>3</th>\n",
       "      <td>3</td>\n",
       "      <td>3</td>\n",
       "      <td>4124</td>\n",
       "      <td>32</td>\n",
       "      <td>среднее</td>\n",
       "      <td>1</td>\n",
       "      <td>женат / замужем</td>\n",
       "      <td>0</td>\n",
       "      <td>M</td>\n",
       "      <td>сотрудник</td>\n",
       "      <td>0</td>\n",
       "      <td>267628</td>\n",
       "      <td>дополнительное образование</td>\n",
       "      <td>B</td>\n",
       "    </tr>\n",
       "    <tr>\n",
       "      <th>4</th>\n",
       "      <td>4</td>\n",
       "      <td>0</td>\n",
       "      <td>340266</td>\n",
       "      <td>53</td>\n",
       "      <td>среднее</td>\n",
       "      <td>1</td>\n",
       "      <td>гражданский брак</td>\n",
       "      <td>1</td>\n",
       "      <td>F</td>\n",
       "      <td>пенсионер</td>\n",
       "      <td>0</td>\n",
       "      <td>158616</td>\n",
       "      <td>сыграть свадьбу</td>\n",
       "      <td>C</td>\n",
       "    </tr>\n",
       "  </tbody>\n",
       "</table>\n",
       "</div>"
      ],
      "text/plain": [
       "   index  children  days_employed  dob_years education  education_id  \\\n",
       "0      0         1           8437         42    высшее             0   \n",
       "1      1         1           4024         36   среднее             1   \n",
       "2      2         0           5623         33   среднее             1   \n",
       "3      3         3           4124         32   среднее             1   \n",
       "4      4         0         340266         53   среднее             1   \n",
       "\n",
       "      family_status  family_status_id gender income_type  debt  total_income  \\\n",
       "0   женат / замужем                 0      F   сотрудник     0        253875   \n",
       "1   женат / замужем                 0      F   сотрудник     0        112080   \n",
       "2   женат / замужем                 0      M   сотрудник     0        145885   \n",
       "3   женат / замужем                 0      M   сотрудник     0        267628   \n",
       "4  гражданский брак                 1      F   пенсионер     0        158616   \n",
       "\n",
       "                      purpose total_income_category  \n",
       "0               покупка жилья                     B  \n",
       "1     приобретение автомобиля                     C  \n",
       "2               покупка жилья                     C  \n",
       "3  дополнительное образование                     B  \n",
       "4             сыграть свадьбу                     C  "
      ]
     },
     "execution_count": 60,
     "metadata": {},
     "output_type": "execute_result"
    }
   ],
   "source": [
    "df.head()"
   ]
  },
  {
   "cell_type": "markdown",
   "id": "c7c31038",
   "metadata": {},
   "source": [
    "### Шаг 2.5. Категоризация целей кредита"
   ]
  },
  {
   "cell_type": "markdown",
   "id": "93125b92",
   "metadata": {},
   "source": [
    "Создадим функцию, которая на основании данных и столбца `purpose` сформирует новый столбец для категоризации цели кредита.\n",
    "Затем воспользуемся методом `.apply()`"
   ]
  },
  {
   "cell_type": "code",
   "execution_count": 61,
   "id": "538e5373",
   "metadata": {},
   "outputs": [],
   "source": [
    "def total(purpose):\n",
    "    if 'авто' in purpose:\n",
    "        return 'операции с автомобилем'\n",
    "    elif 'свад' in purpose:\n",
    "        return 'проведение свадьбы'\n",
    "    elif 'образ' in purpose:\n",
    "        return 'получение образования'\n",
    "    else:\n",
    "        return 'операции с недвижимостью'"
   ]
  },
  {
   "cell_type": "code",
   "execution_count": 62,
   "id": "e98b87b4",
   "metadata": {},
   "outputs": [],
   "source": [
    "df['purpose_category'] = df['purpose'].apply(total)"
   ]
  },
  {
   "cell_type": "code",
   "execution_count": 63,
   "id": "4da8b5aa",
   "metadata": {},
   "outputs": [
    {
     "data": {
      "text/html": [
       "<div>\n",
       "<style scoped>\n",
       "    .dataframe tbody tr th:only-of-type {\n",
       "        vertical-align: middle;\n",
       "    }\n",
       "\n",
       "    .dataframe tbody tr th {\n",
       "        vertical-align: top;\n",
       "    }\n",
       "\n",
       "    .dataframe thead th {\n",
       "        text-align: right;\n",
       "    }\n",
       "</style>\n",
       "<table border=\"1\" class=\"dataframe\">\n",
       "  <thead>\n",
       "    <tr style=\"text-align: right;\">\n",
       "      <th></th>\n",
       "      <th>index</th>\n",
       "      <th>children</th>\n",
       "      <th>days_employed</th>\n",
       "      <th>dob_years</th>\n",
       "      <th>education</th>\n",
       "      <th>education_id</th>\n",
       "      <th>family_status</th>\n",
       "      <th>family_status_id</th>\n",
       "      <th>gender</th>\n",
       "      <th>income_type</th>\n",
       "      <th>debt</th>\n",
       "      <th>total_income</th>\n",
       "      <th>purpose</th>\n",
       "      <th>total_income_category</th>\n",
       "      <th>purpose_category</th>\n",
       "    </tr>\n",
       "  </thead>\n",
       "  <tbody>\n",
       "    <tr>\n",
       "      <th>0</th>\n",
       "      <td>0</td>\n",
       "      <td>1</td>\n",
       "      <td>8437</td>\n",
       "      <td>42</td>\n",
       "      <td>высшее</td>\n",
       "      <td>0</td>\n",
       "      <td>женат / замужем</td>\n",
       "      <td>0</td>\n",
       "      <td>F</td>\n",
       "      <td>сотрудник</td>\n",
       "      <td>0</td>\n",
       "      <td>253875</td>\n",
       "      <td>покупка жилья</td>\n",
       "      <td>B</td>\n",
       "      <td>операции с недвижимостью</td>\n",
       "    </tr>\n",
       "    <tr>\n",
       "      <th>1</th>\n",
       "      <td>1</td>\n",
       "      <td>1</td>\n",
       "      <td>4024</td>\n",
       "      <td>36</td>\n",
       "      <td>среднее</td>\n",
       "      <td>1</td>\n",
       "      <td>женат / замужем</td>\n",
       "      <td>0</td>\n",
       "      <td>F</td>\n",
       "      <td>сотрудник</td>\n",
       "      <td>0</td>\n",
       "      <td>112080</td>\n",
       "      <td>приобретение автомобиля</td>\n",
       "      <td>C</td>\n",
       "      <td>операции с автомобилем</td>\n",
       "    </tr>\n",
       "    <tr>\n",
       "      <th>2</th>\n",
       "      <td>2</td>\n",
       "      <td>0</td>\n",
       "      <td>5623</td>\n",
       "      <td>33</td>\n",
       "      <td>среднее</td>\n",
       "      <td>1</td>\n",
       "      <td>женат / замужем</td>\n",
       "      <td>0</td>\n",
       "      <td>M</td>\n",
       "      <td>сотрудник</td>\n",
       "      <td>0</td>\n",
       "      <td>145885</td>\n",
       "      <td>покупка жилья</td>\n",
       "      <td>C</td>\n",
       "      <td>операции с недвижимостью</td>\n",
       "    </tr>\n",
       "    <tr>\n",
       "      <th>3</th>\n",
       "      <td>3</td>\n",
       "      <td>3</td>\n",
       "      <td>4124</td>\n",
       "      <td>32</td>\n",
       "      <td>среднее</td>\n",
       "      <td>1</td>\n",
       "      <td>женат / замужем</td>\n",
       "      <td>0</td>\n",
       "      <td>M</td>\n",
       "      <td>сотрудник</td>\n",
       "      <td>0</td>\n",
       "      <td>267628</td>\n",
       "      <td>дополнительное образование</td>\n",
       "      <td>B</td>\n",
       "      <td>получение образования</td>\n",
       "    </tr>\n",
       "    <tr>\n",
       "      <th>4</th>\n",
       "      <td>4</td>\n",
       "      <td>0</td>\n",
       "      <td>340266</td>\n",
       "      <td>53</td>\n",
       "      <td>среднее</td>\n",
       "      <td>1</td>\n",
       "      <td>гражданский брак</td>\n",
       "      <td>1</td>\n",
       "      <td>F</td>\n",
       "      <td>пенсионер</td>\n",
       "      <td>0</td>\n",
       "      <td>158616</td>\n",
       "      <td>сыграть свадьбу</td>\n",
       "      <td>C</td>\n",
       "      <td>проведение свадьбы</td>\n",
       "    </tr>\n",
       "    <tr>\n",
       "      <th>5</th>\n",
       "      <td>5</td>\n",
       "      <td>0</td>\n",
       "      <td>926</td>\n",
       "      <td>27</td>\n",
       "      <td>высшее</td>\n",
       "      <td>0</td>\n",
       "      <td>гражданский брак</td>\n",
       "      <td>1</td>\n",
       "      <td>M</td>\n",
       "      <td>компаньон</td>\n",
       "      <td>0</td>\n",
       "      <td>255763</td>\n",
       "      <td>покупка жилья</td>\n",
       "      <td>B</td>\n",
       "      <td>операции с недвижимостью</td>\n",
       "    </tr>\n",
       "    <tr>\n",
       "      <th>6</th>\n",
       "      <td>6</td>\n",
       "      <td>0</td>\n",
       "      <td>2879</td>\n",
       "      <td>43</td>\n",
       "      <td>высшее</td>\n",
       "      <td>0</td>\n",
       "      <td>женат / замужем</td>\n",
       "      <td>0</td>\n",
       "      <td>F</td>\n",
       "      <td>компаньон</td>\n",
       "      <td>0</td>\n",
       "      <td>240525</td>\n",
       "      <td>операции с жильем</td>\n",
       "      <td>B</td>\n",
       "      <td>операции с недвижимостью</td>\n",
       "    </tr>\n",
       "    <tr>\n",
       "      <th>7</th>\n",
       "      <td>7</td>\n",
       "      <td>0</td>\n",
       "      <td>152</td>\n",
       "      <td>50</td>\n",
       "      <td>среднее</td>\n",
       "      <td>1</td>\n",
       "      <td>женат / замужем</td>\n",
       "      <td>0</td>\n",
       "      <td>M</td>\n",
       "      <td>сотрудник</td>\n",
       "      <td>0</td>\n",
       "      <td>135823</td>\n",
       "      <td>образование</td>\n",
       "      <td>C</td>\n",
       "      <td>получение образования</td>\n",
       "    </tr>\n",
       "    <tr>\n",
       "      <th>8</th>\n",
       "      <td>8</td>\n",
       "      <td>2</td>\n",
       "      <td>6929</td>\n",
       "      <td>35</td>\n",
       "      <td>высшее</td>\n",
       "      <td>0</td>\n",
       "      <td>гражданский брак</td>\n",
       "      <td>1</td>\n",
       "      <td>F</td>\n",
       "      <td>сотрудник</td>\n",
       "      <td>0</td>\n",
       "      <td>95856</td>\n",
       "      <td>на проведение свадьбы</td>\n",
       "      <td>C</td>\n",
       "      <td>проведение свадьбы</td>\n",
       "    </tr>\n",
       "    <tr>\n",
       "      <th>9</th>\n",
       "      <td>9</td>\n",
       "      <td>0</td>\n",
       "      <td>2188</td>\n",
       "      <td>41</td>\n",
       "      <td>среднее</td>\n",
       "      <td>1</td>\n",
       "      <td>женат / замужем</td>\n",
       "      <td>0</td>\n",
       "      <td>M</td>\n",
       "      <td>сотрудник</td>\n",
       "      <td>0</td>\n",
       "      <td>144425</td>\n",
       "      <td>покупка жилья для семьи</td>\n",
       "      <td>C</td>\n",
       "      <td>операции с недвижимостью</td>\n",
       "    </tr>\n",
       "  </tbody>\n",
       "</table>\n",
       "</div>"
      ],
      "text/plain": [
       "   index  children  days_employed  dob_years education  education_id  \\\n",
       "0      0         1           8437         42    высшее             0   \n",
       "1      1         1           4024         36   среднее             1   \n",
       "2      2         0           5623         33   среднее             1   \n",
       "3      3         3           4124         32   среднее             1   \n",
       "4      4         0         340266         53   среднее             1   \n",
       "5      5         0            926         27    высшее             0   \n",
       "6      6         0           2879         43    высшее             0   \n",
       "7      7         0            152         50   среднее             1   \n",
       "8      8         2           6929         35    высшее             0   \n",
       "9      9         0           2188         41   среднее             1   \n",
       "\n",
       "      family_status  family_status_id gender income_type  debt  total_income  \\\n",
       "0   женат / замужем                 0      F   сотрудник     0        253875   \n",
       "1   женат / замужем                 0      F   сотрудник     0        112080   \n",
       "2   женат / замужем                 0      M   сотрудник     0        145885   \n",
       "3   женат / замужем                 0      M   сотрудник     0        267628   \n",
       "4  гражданский брак                 1      F   пенсионер     0        158616   \n",
       "5  гражданский брак                 1      M   компаньон     0        255763   \n",
       "6   женат / замужем                 0      F   компаньон     0        240525   \n",
       "7   женат / замужем                 0      M   сотрудник     0        135823   \n",
       "8  гражданский брак                 1      F   сотрудник     0         95856   \n",
       "9   женат / замужем                 0      M   сотрудник     0        144425   \n",
       "\n",
       "                      purpose total_income_category          purpose_category  \n",
       "0               покупка жилья                     B  операции с недвижимостью  \n",
       "1     приобретение автомобиля                     C    операции с автомобилем  \n",
       "2               покупка жилья                     C  операции с недвижимостью  \n",
       "3  дополнительное образование                     B     получение образования  \n",
       "4             сыграть свадьбу                     C        проведение свадьбы  \n",
       "5               покупка жилья                     B  операции с недвижимостью  \n",
       "6           операции с жильем                     B  операции с недвижимостью  \n",
       "7                 образование                     C     получение образования  \n",
       "8       на проведение свадьбы                     C        проведение свадьбы  \n",
       "9     покупка жилья для семьи                     C  операции с недвижимостью  "
      ]
     },
     "execution_count": 63,
     "metadata": {},
     "output_type": "execute_result"
    }
   ],
   "source": [
    "df.head(10)"
   ]
  },
  {
   "cell_type": "markdown",
   "id": "d131d085",
   "metadata": {},
   "source": [
    "## Ответы на вопросы"
   ]
  },
  {
   "cell_type": "markdown",
   "id": "692d818a",
   "metadata": {},
   "source": [
    "#### Вопрос 1: Есть ли зависимость между количеством детей и возвратом кредита в срок?"
   ]
  },
  {
   "cell_type": "markdown",
   "id": "911e5337",
   "metadata": {},
   "source": [
    "Осуществим группировку данных: в столбей `количество детей`, передадим словарь \n",
    "методом `agg()`, где ключ - это название слолбца `имел ли задолженность по возврату кредита`"
   ]
  },
  {
   "cell_type": "code",
   "execution_count": 64,
   "id": "2cb95035",
   "metadata": {},
   "outputs": [],
   "source": [
    "df_children_debt = df.groupby(['children']).agg({'debt': ['sum','count']})"
   ]
  },
  {
   "cell_type": "code",
   "execution_count": 65,
   "id": "a0115955",
   "metadata": {
    "scrolled": true
   },
   "outputs": [
    {
     "data": {
      "text/html": [
       "<div>\n",
       "<style scoped>\n",
       "    .dataframe tbody tr th:only-of-type {\n",
       "        vertical-align: middle;\n",
       "    }\n",
       "\n",
       "    .dataframe tbody tr th {\n",
       "        vertical-align: top;\n",
       "    }\n",
       "\n",
       "    .dataframe thead tr th {\n",
       "        text-align: left;\n",
       "    }\n",
       "\n",
       "    .dataframe thead tr:last-of-type th {\n",
       "        text-align: right;\n",
       "    }\n",
       "</style>\n",
       "<table border=\"1\" class=\"dataframe\">\n",
       "  <thead>\n",
       "    <tr>\n",
       "      <th></th>\n",
       "      <th colspan=\"2\" halign=\"left\">debt</th>\n",
       "    </tr>\n",
       "    <tr>\n",
       "      <th></th>\n",
       "      <th>sum</th>\n",
       "      <th>count</th>\n",
       "    </tr>\n",
       "    <tr>\n",
       "      <th>children</th>\n",
       "      <th></th>\n",
       "      <th></th>\n",
       "    </tr>\n",
       "  </thead>\n",
       "  <tbody>\n",
       "    <tr>\n",
       "      <th>0</th>\n",
       "      <td>1071</td>\n",
       "      <td>14167</td>\n",
       "    </tr>\n",
       "    <tr>\n",
       "      <th>1</th>\n",
       "      <td>445</td>\n",
       "      <td>4855</td>\n",
       "    </tr>\n",
       "    <tr>\n",
       "      <th>2</th>\n",
       "      <td>194</td>\n",
       "      <td>2052</td>\n",
       "    </tr>\n",
       "    <tr>\n",
       "      <th>3</th>\n",
       "      <td>27</td>\n",
       "      <td>330</td>\n",
       "    </tr>\n",
       "    <tr>\n",
       "      <th>4</th>\n",
       "      <td>4</td>\n",
       "      <td>41</td>\n",
       "    </tr>\n",
       "    <tr>\n",
       "      <th>5</th>\n",
       "      <td>0</td>\n",
       "      <td>9</td>\n",
       "    </tr>\n",
       "  </tbody>\n",
       "</table>\n",
       "</div>"
      ],
      "text/plain": [
       "          debt       \n",
       "           sum  count\n",
       "children             \n",
       "0         1071  14167\n",
       "1          445   4855\n",
       "2          194   2052\n",
       "3           27    330\n",
       "4            4     41\n",
       "5            0      9"
      ]
     },
     "execution_count": 65,
     "metadata": {},
     "output_type": "execute_result"
    }
   ],
   "source": [
    "df_children_debt"
   ]
  },
  {
   "cell_type": "markdown",
   "id": "625fa295",
   "metadata": {},
   "source": [
    "Далее, вычислим процент клиентов с детьми,допустившими просрок по кредиту:"
   ]
  },
  {
   "cell_type": "code",
   "execution_count": 66,
   "id": "93a5c687",
   "metadata": {},
   "outputs": [],
   "source": [
    "precent_total_debt = (df_children_debt['debt']['sum'] / df_children_debt['debt']['count']) * 100"
   ]
  },
  {
   "cell_type": "code",
   "execution_count": 67,
   "id": "869dc736",
   "metadata": {},
   "outputs": [
    {
     "data": {
      "text/plain": [
       "children\n",
       "0    7.559822\n",
       "1    9.165808\n",
       "2    9.454191\n",
       "3    8.181818\n",
       "4    9.756098\n",
       "5    0.000000\n",
       "dtype: float64"
      ]
     },
     "execution_count": 67,
     "metadata": {},
     "output_type": "execute_result"
    }
   ],
   "source": [
    "precent_total_debt"
   ]
  },
  {
   "cell_type": "markdown",
   "id": "f2b9b044",
   "metadata": {},
   "source": [
    "##### Вывод 1:"
   ]
  },
  {
   "cell_type": "markdown",
   "id": "efc67f54",
   "metadata": {},
   "source": [
    "Как видим из результатов, количество детей влияет на процент клиентов, допустившим просрок по кредиту:\n",
    "у клиентов с 5 детьми просроков не было. Скорее всего, это связано с тем, что такие клиенты более отвественно подходят к решению о кредите, но скорее всего, не берут его совсем. \n",
    "Меньший процент просрочки по кредитам у клиентов, имеющих 1 ребенка. \n",
    "Таким образом, можно сделать вывод, что чем меньше детей у клиента, тем реже они допускают просроки по кредитам"
   ]
  },
  {
   "cell_type": "markdown",
   "id": "2b03eaba",
   "metadata": {},
   "source": [
    "##### Вопрос 2: Есть ли зависимость между семейным положением и возвратом кредита в срок?"
   ]
  },
  {
   "cell_type": "code",
   "execution_count": 68,
   "id": "f42002a0",
   "metadata": {},
   "outputs": [],
   "source": [
    "df_family_debt = df.groupby(['family_status']).agg({'debt': ['sum','count']})"
   ]
  },
  {
   "cell_type": "code",
   "execution_count": 69,
   "id": "eac0c044",
   "metadata": {},
   "outputs": [
    {
     "data": {
      "text/html": [
       "<div>\n",
       "<style scoped>\n",
       "    .dataframe tbody tr th:only-of-type {\n",
       "        vertical-align: middle;\n",
       "    }\n",
       "\n",
       "    .dataframe tbody tr th {\n",
       "        vertical-align: top;\n",
       "    }\n",
       "\n",
       "    .dataframe thead tr th {\n",
       "        text-align: left;\n",
       "    }\n",
       "\n",
       "    .dataframe thead tr:last-of-type th {\n",
       "        text-align: right;\n",
       "    }\n",
       "</style>\n",
       "<table border=\"1\" class=\"dataframe\">\n",
       "  <thead>\n",
       "    <tr>\n",
       "      <th></th>\n",
       "      <th colspan=\"2\" halign=\"left\">debt</th>\n",
       "    </tr>\n",
       "    <tr>\n",
       "      <th></th>\n",
       "      <th>sum</th>\n",
       "      <th>count</th>\n",
       "    </tr>\n",
       "    <tr>\n",
       "      <th>family_status</th>\n",
       "      <th></th>\n",
       "      <th></th>\n",
       "    </tr>\n",
       "  </thead>\n",
       "  <tbody>\n",
       "    <tr>\n",
       "      <th>в разводе</th>\n",
       "      <td>85</td>\n",
       "      <td>1195</td>\n",
       "    </tr>\n",
       "    <tr>\n",
       "      <th>вдовец / вдова</th>\n",
       "      <td>63</td>\n",
       "      <td>959</td>\n",
       "    </tr>\n",
       "    <tr>\n",
       "      <th>гражданский брак</th>\n",
       "      <td>388</td>\n",
       "      <td>4151</td>\n",
       "    </tr>\n",
       "    <tr>\n",
       "      <th>женат / замужем</th>\n",
       "      <td>931</td>\n",
       "      <td>12339</td>\n",
       "    </tr>\n",
       "    <tr>\n",
       "      <th>не женат / не замужем</th>\n",
       "      <td>274</td>\n",
       "      <td>2810</td>\n",
       "    </tr>\n",
       "  </tbody>\n",
       "</table>\n",
       "</div>"
      ],
      "text/plain": [
       "                      debt       \n",
       "                       sum  count\n",
       "family_status                    \n",
       "в разводе               85   1195\n",
       "вдовец / вдова          63    959\n",
       "гражданский брак       388   4151\n",
       "женат / замужем        931  12339\n",
       "не женат / не замужем  274   2810"
      ]
     },
     "execution_count": 69,
     "metadata": {},
     "output_type": "execute_result"
    }
   ],
   "source": [
    "df_family_debt"
   ]
  },
  {
   "cell_type": "code",
   "execution_count": 70,
   "id": "a22925fa",
   "metadata": {},
   "outputs": [],
   "source": [
    "precent_total_debt_f = (df_family_debt['debt']['sum'] / df_family_debt['debt']['count']) * 100"
   ]
  },
  {
   "cell_type": "code",
   "execution_count": 71,
   "id": "56dfd9fc",
   "metadata": {},
   "outputs": [
    {
     "data": {
      "text/plain": [
       "family_status\n",
       "в разводе                7.112971\n",
       "вдовец / вдова           6.569343\n",
       "гражданский брак         9.347145\n",
       "женат / замужем          7.545182\n",
       "не женат / не замужем    9.750890\n",
       "dtype: float64"
      ]
     },
     "execution_count": 71,
     "metadata": {},
     "output_type": "execute_result"
    }
   ],
   "source": [
    "precent_total_debt_f"
   ]
  },
  {
   "cell_type": "markdown",
   "id": "0cfb690d",
   "metadata": {},
   "source": [
    "##### Вывод 2: \n",
    "Зависимость между семейным положением и возвратом кредита в срок прослеживается: \n",
    "меньше всего задолженность у категории вдовец/вдова. Скорее всего, это связано с тем, что при оформлении кредита \n",
    "жизнь человека страхуется и после его смерти страховая компания платит банку определенный процент.\n",
    "Также небольшая разница у тех, кто женат/замужем или в разводе. Самый большой процент просроков у клиентов, \n",
    "состоящих в гражданском браке либо не женатых/не замужем. Скорее всего, это связано с тем, что люди не ответственно подходят\n",
    "к возвращению кредита\n"
   ]
  },
  {
   "cell_type": "markdown",
   "id": "e6061f39",
   "metadata": {},
   "source": [
    "##### Вопрос 3: Есть ли зависимость между уровнем дохода и возвратом кредита в срок?"
   ]
  },
  {
   "cell_type": "code",
   "execution_count": 72,
   "id": "2a29209d",
   "metadata": {},
   "outputs": [],
   "source": [
    "df_income = df.groupby(['total_income_category']).agg({'debt':['sum','count']})"
   ]
  },
  {
   "cell_type": "code",
   "execution_count": 73,
   "id": "f58540fd",
   "metadata": {
    "scrolled": true
   },
   "outputs": [
    {
     "data": {
      "text/html": [
       "<div>\n",
       "<style scoped>\n",
       "    .dataframe tbody tr th:only-of-type {\n",
       "        vertical-align: middle;\n",
       "    }\n",
       "\n",
       "    .dataframe tbody tr th {\n",
       "        vertical-align: top;\n",
       "    }\n",
       "\n",
       "    .dataframe thead tr th {\n",
       "        text-align: left;\n",
       "    }\n",
       "\n",
       "    .dataframe thead tr:last-of-type th {\n",
       "        text-align: right;\n",
       "    }\n",
       "</style>\n",
       "<table border=\"1\" class=\"dataframe\">\n",
       "  <thead>\n",
       "    <tr>\n",
       "      <th></th>\n",
       "      <th colspan=\"2\" halign=\"left\">debt</th>\n",
       "    </tr>\n",
       "    <tr>\n",
       "      <th></th>\n",
       "      <th>sum</th>\n",
       "      <th>count</th>\n",
       "    </tr>\n",
       "    <tr>\n",
       "      <th>total_income_category</th>\n",
       "      <th></th>\n",
       "      <th></th>\n",
       "    </tr>\n",
       "  </thead>\n",
       "  <tbody>\n",
       "    <tr>\n",
       "      <th>A</th>\n",
       "      <td>2</td>\n",
       "      <td>25</td>\n",
       "    </tr>\n",
       "    <tr>\n",
       "      <th>B</th>\n",
       "      <td>356</td>\n",
       "      <td>5041</td>\n",
       "    </tr>\n",
       "    <tr>\n",
       "      <th>C</th>\n",
       "      <td>1360</td>\n",
       "      <td>16016</td>\n",
       "    </tr>\n",
       "    <tr>\n",
       "      <th>D</th>\n",
       "      <td>21</td>\n",
       "      <td>350</td>\n",
       "    </tr>\n",
       "    <tr>\n",
       "      <th>E</th>\n",
       "      <td>2</td>\n",
       "      <td>22</td>\n",
       "    </tr>\n",
       "  </tbody>\n",
       "</table>\n",
       "</div>"
      ],
      "text/plain": [
       "                       debt       \n",
       "                        sum  count\n",
       "total_income_category             \n",
       "A                         2     25\n",
       "B                       356   5041\n",
       "C                      1360  16016\n",
       "D                        21    350\n",
       "E                         2     22"
      ]
     },
     "execution_count": 73,
     "metadata": {},
     "output_type": "execute_result"
    }
   ],
   "source": [
    "df_income"
   ]
  },
  {
   "cell_type": "markdown",
   "id": "f1bea46c",
   "metadata": {},
   "source": [
    "`A` - очень высокий уровень дохода\n",
    "`В` - высокий уровень дохода\n",
    "`С` - выше среднего уровень дохода\n",
    "`D` - средний уровень дохода\n",
    "`Е` - уровень дохода ниже среднего"
   ]
  },
  {
   "cell_type": "code",
   "execution_count": 74,
   "id": "30a6d79b",
   "metadata": {},
   "outputs": [],
   "source": [
    "precent_total_debt_in = (df_income['debt']['sum'] / df_income['debt']['count']) * 100"
   ]
  },
  {
   "cell_type": "code",
   "execution_count": 75,
   "id": "81e38a9b",
   "metadata": {},
   "outputs": [
    {
     "data": {
      "text/plain": [
       "total_income_category\n",
       "A    8.000000\n",
       "B    7.062091\n",
       "C    8.491508\n",
       "D    6.000000\n",
       "E    9.090909\n",
       "dtype: float64"
      ]
     },
     "execution_count": 75,
     "metadata": {},
     "output_type": "execute_result"
    }
   ],
   "source": [
    "precent_total_debt_in"
   ]
  },
  {
   "cell_type": "markdown",
   "id": "20f5da6c",
   "metadata": {},
   "source": [
    "##### Вывод 3: \n",
    "Зависимость между уровнем дохода и возвратом кредита в срок прослеживается: \n",
    "меньше всего просрочек допускают клиенты со среднем уровнем дохода. \n",
    "Ну и что закономерно: больше всего просрочек по кредиту допускают клиенты с уровнем дохода ниже среднего"
   ]
  },
  {
   "cell_type": "markdown",
   "id": "382e2dc8",
   "metadata": {},
   "source": [
    "##### Вопрос 4: Как разные цели кредита влияют на его возврат в срок?"
   ]
  },
  {
   "cell_type": "code",
   "execution_count": 80,
   "id": "32301c85",
   "metadata": {
    "scrolled": true
   },
   "outputs": [
    {
     "data": {
      "text/html": [
       "<div>\n",
       "<style scoped>\n",
       "    .dataframe tbody tr th:only-of-type {\n",
       "        vertical-align: middle;\n",
       "    }\n",
       "\n",
       "    .dataframe tbody tr th {\n",
       "        vertical-align: top;\n",
       "    }\n",
       "\n",
       "    .dataframe thead th {\n",
       "        text-align: right;\n",
       "    }\n",
       "</style>\n",
       "<table border=\"1\" class=\"dataframe\">\n",
       "  <thead>\n",
       "    <tr style=\"text-align: right;\">\n",
       "      <th></th>\n",
       "      <th>debt</th>\n",
       "    </tr>\n",
       "    <tr>\n",
       "      <th>purpose_category</th>\n",
       "      <th></th>\n",
       "    </tr>\n",
       "  </thead>\n",
       "  <tbody>\n",
       "    <tr>\n",
       "      <th>операции с автомобилем</th>\n",
       "      <td>0.093590</td>\n",
       "    </tr>\n",
       "    <tr>\n",
       "      <th>операции с недвижимостью</th>\n",
       "      <td>0.072334</td>\n",
       "    </tr>\n",
       "    <tr>\n",
       "      <th>получение образования</th>\n",
       "      <td>0.092200</td>\n",
       "    </tr>\n",
       "    <tr>\n",
       "      <th>проведение свадьбы</th>\n",
       "      <td>0.080034</td>\n",
       "    </tr>\n",
       "  </tbody>\n",
       "</table>\n",
       "</div>"
      ],
      "text/plain": [
       "                              debt\n",
       "purpose_category                  \n",
       "операции с автомобилем    0.093590\n",
       "операции с недвижимостью  0.072334\n",
       "получение образования     0.092200\n",
       "проведение свадьбы        0.080034"
      ]
     },
     "execution_count": 80,
     "metadata": {},
     "output_type": "execute_result"
    }
   ],
   "source": [
    "# По умолчанию, если не указывать параметр `aggfunc`, то метод `pivot_table`\n",
    "# рассчитает среднее арифметическое значение, указанное в параметре `values`\n",
    "pd.pivot_table(df,\n",
    "              index=['purpose_category'],\n",
    "              values='debt')              "
   ]
  },
  {
   "cell_type": "markdown",
   "id": "c382f6cb",
   "metadata": {},
   "source": [
    "##### Вывод 4: \n",
    "\n",
    "Разные цели кредита несущественно, но все же влияют на возврат кредита: меньше всего клиентов не оплачивают кредит по операции с недвижимостью, что закономерно, т.к. зачастую жилье находится в залоге у банка. Больше всего просрочек по кредиту допускают по операциям с автомобилем и получением образования"
   ]
  },
  {
   "cell_type": "markdown",
   "id": "2c71240d",
   "metadata": {},
   "source": [
    "## Общий вывод:"
   ]
  },
  {
   "cell_type": "markdown",
   "id": "a65dcc41",
   "metadata": {},
   "source": [
    "В своей работе мы исследовали надежность заемщиков. Выяснили, что самые частые цели кредита - это операции с автомобилем, операции с недвижимостью, получение образованиия и свадьба. Меньше всего клиентов допускают просроченные платежи по кредиту за недвижимость. \n",
    "По уровню дохода клиентов, меньше всего просроченных платежей у клиентов со средним уровнем дохода. Самые ненадежные клиенты - у которых уровень дохода ниже среднего.\n",
    "Анализируя семейное положение клиентов, приходим к выводу, что вдовец (вдвова) реже допускают просроченные платежи по кредитам. Не женатые (не замужние) и клиенты, живущие в гражданском браке допускают просроченных платежей больше всего.\n",
    "При изучении количества детей на вовзрат кредита в срок, приходим к выводу, что чем меньше детей, тем клиент реже допускает просроченных платежей по кредиту. Правда, в нашем исследовании мы выяснили, что клиенты, у кого 5 детей совсем не допускают просроченных платежей по кредиту. Но это, скорее всего, связано с тем, что люди более ответственно подходят к решению о кредите, либо не берут по причине невозможности вернуть его в срок."
   ]
  }
 ],
 "metadata": {
  "ExecuteTimeLog": [
   {
    "duration": 6,
    "start_time": "2022-02-06T18:28:28.094Z"
   },
   {
    "duration": 4,
    "start_time": "2022-02-06T18:28:32.477Z"
   },
   {
    "duration": 4,
    "start_time": "2022-02-06T18:35:39.961Z"
   },
   {
    "duration": 86,
    "start_time": "2022-02-06T18:36:22.224Z"
   },
   {
    "duration": 85,
    "start_time": "2022-02-06T18:43:05.260Z"
   },
   {
    "duration": 399,
    "start_time": "2022-02-06T18:54:24.640Z"
   },
   {
    "duration": 711,
    "start_time": "2022-02-06T18:54:32.967Z"
   },
   {
    "duration": 2040,
    "start_time": "2022-02-06T18:54:33.680Z"
   },
   {
    "duration": -155,
    "start_time": "2022-02-06T18:54:35.878Z"
   },
   {
    "duration": -157,
    "start_time": "2022-02-06T18:54:35.881Z"
   },
   {
    "duration": 62,
    "start_time": "2022-02-06T18:54:55.864Z"
   },
   {
    "duration": 63,
    "start_time": "2022-02-06T18:55:00.064Z"
   },
   {
    "duration": 30,
    "start_time": "2022-02-06T18:55:02.424Z"
   },
   {
    "duration": 15,
    "start_time": "2022-02-06T18:55:39.007Z"
   },
   {
    "duration": 32,
    "start_time": "2022-02-06T19:31:39.670Z"
   },
   {
    "duration": 19,
    "start_time": "2022-02-06T19:31:51.527Z"
   },
   {
    "duration": 10,
    "start_time": "2022-02-06T19:39:04.097Z"
   },
   {
    "duration": 607,
    "start_time": "2022-02-06T19:43:08.480Z"
   },
   {
    "duration": 505,
    "start_time": "2022-02-06T19:43:21.862Z"
   },
   {
    "duration": 8,
    "start_time": "2022-02-06T19:47:51.442Z"
   },
   {
    "duration": 86,
    "start_time": "2022-02-06T19:48:46.235Z"
   },
   {
    "duration": 14,
    "start_time": "2022-02-06T19:48:52.426Z"
   },
   {
    "duration": 246,
    "start_time": "2022-02-06T19:49:45.665Z"
   },
   {
    "duration": 7,
    "start_time": "2022-02-06T19:50:26.499Z"
   },
   {
    "duration": 8,
    "start_time": "2022-02-06T19:50:49.883Z"
   },
   {
    "duration": 7,
    "start_time": "2022-02-06T19:52:06.527Z"
   },
   {
    "duration": 8,
    "start_time": "2022-02-06T19:53:32.848Z"
   },
   {
    "duration": 280,
    "start_time": "2022-02-06T19:53:48.023Z"
   },
   {
    "duration": 5,
    "start_time": "2022-02-06T19:54:11.863Z"
   },
   {
    "duration": 246,
    "start_time": "2022-02-06T20:02:45.401Z"
   },
   {
    "duration": 7,
    "start_time": "2022-02-06T20:03:19.240Z"
   },
   {
    "duration": 8,
    "start_time": "2022-02-06T20:03:25.406Z"
   },
   {
    "duration": 268,
    "start_time": "2022-02-06T20:11:44.833Z"
   },
   {
    "duration": 13,
    "start_time": "2022-02-06T20:12:04.626Z"
   },
   {
    "duration": 41,
    "start_time": "2022-02-06T20:12:27.097Z"
   },
   {
    "duration": 32,
    "start_time": "2022-02-06T20:14:52.823Z"
   },
   {
    "duration": 33,
    "start_time": "2022-02-06T20:27:40.344Z"
   },
   {
    "duration": 82,
    "start_time": "2022-02-06T20:30:07.953Z"
   },
   {
    "duration": 135,
    "start_time": "2022-02-06T20:33:35.787Z"
   },
   {
    "duration": 5,
    "start_time": "2022-02-06T20:33:47.035Z"
   },
   {
    "duration": 71,
    "start_time": "2022-02-06T20:36:51.232Z"
   },
   {
    "duration": 5,
    "start_time": "2022-02-06T20:37:14.840Z"
   },
   {
    "duration": 5,
    "start_time": "2022-02-06T20:37:27.784Z"
   },
   {
    "duration": 5,
    "start_time": "2022-02-06T20:42:19.317Z"
   },
   {
    "duration": 5,
    "start_time": "2022-02-06T20:44:11.271Z"
   },
   {
    "duration": 23,
    "start_time": "2022-02-06T20:57:07.298Z"
   },
   {
    "duration": 119,
    "start_time": "2022-02-06T20:59:19.553Z"
   },
   {
    "duration": 38,
    "start_time": "2022-02-06T20:59:30.153Z"
   },
   {
    "duration": 75,
    "start_time": "2022-02-06T21:01:18.300Z"
   },
   {
    "duration": 85,
    "start_time": "2022-02-06T21:01:37.353Z"
   },
   {
    "duration": 37,
    "start_time": "2022-02-06T21:02:09.584Z"
   },
   {
    "duration": 37,
    "start_time": "2022-02-06T21:02:19.004Z"
   },
   {
    "duration": 312,
    "start_time": "2022-02-06T21:03:46.699Z"
   },
   {
    "duration": 251,
    "start_time": "2022-02-06T21:03:53.055Z"
   },
   {
    "duration": 246,
    "start_time": "2022-02-06T21:04:04.398Z"
   },
   {
    "duration": 229,
    "start_time": "2022-02-06T21:04:44.911Z"
   },
   {
    "duration": 39,
    "start_time": "2022-02-06T21:04:55.357Z"
   },
   {
    "duration": 263,
    "start_time": "2022-02-06T21:05:19.334Z"
   },
   {
    "duration": 19,
    "start_time": "2022-02-06T21:05:47.854Z"
   },
   {
    "duration": 42,
    "start_time": "2022-02-06T21:07:07.796Z"
   },
   {
    "duration": 8,
    "start_time": "2022-02-06T21:15:03.374Z"
   },
   {
    "duration": 6,
    "start_time": "2022-02-06T21:31:21.418Z"
   },
   {
    "duration": 6,
    "start_time": "2022-02-06T21:31:24.338Z"
   },
   {
    "duration": 7,
    "start_time": "2022-02-06T21:31:38.291Z"
   },
   {
    "duration": 5,
    "start_time": "2022-02-06T21:37:54.798Z"
   },
   {
    "duration": 7,
    "start_time": "2022-02-06T21:38:14.301Z"
   },
   {
    "duration": 7,
    "start_time": "2022-02-06T21:38:42.630Z"
   },
   {
    "duration": 78,
    "start_time": "2022-02-06T21:50:58.038Z"
   },
   {
    "duration": 16,
    "start_time": "2022-02-06T21:51:44.220Z"
   },
   {
    "duration": 293,
    "start_time": "2022-02-07T18:32:29.013Z"
   },
   {
    "duration": 253,
    "start_time": "2022-02-07T18:32:55.473Z"
   },
   {
    "duration": 103,
    "start_time": "2022-02-07T18:36:21.255Z"
   },
   {
    "duration": 359,
    "start_time": "2022-02-07T18:36:33.230Z"
   },
   {
    "duration": 261,
    "start_time": "2022-02-07T18:37:08.909Z"
   },
   {
    "duration": 247,
    "start_time": "2022-02-07T18:37:17.942Z"
   },
   {
    "duration": 295,
    "start_time": "2022-02-07T18:37:28.613Z"
   },
   {
    "duration": 661,
    "start_time": "2022-02-07T18:37:36.910Z"
   },
   {
    "duration": 54,
    "start_time": "2022-02-07T18:37:37.572Z"
   },
   {
    "duration": 19,
    "start_time": "2022-02-07T18:37:37.629Z"
   },
   {
    "duration": 12,
    "start_time": "2022-02-07T18:37:37.650Z"
   },
   {
    "duration": 10,
    "start_time": "2022-02-07T18:37:37.664Z"
   },
   {
    "duration": 10,
    "start_time": "2022-02-07T18:37:37.676Z"
   },
   {
    "duration": 32,
    "start_time": "2022-02-07T18:37:37.688Z"
   },
   {
    "duration": 6,
    "start_time": "2022-02-07T18:37:37.722Z"
   },
   {
    "duration": 4,
    "start_time": "2022-02-07T18:37:37.730Z"
   },
   {
    "duration": 3,
    "start_time": "2022-02-07T18:37:55.434Z"
   },
   {
    "duration": 53,
    "start_time": "2022-02-07T18:37:55.439Z"
   },
   {
    "duration": 13,
    "start_time": "2022-02-07T18:37:55.494Z"
   },
   {
    "duration": 16,
    "start_time": "2022-02-07T18:37:55.508Z"
   },
   {
    "duration": 9,
    "start_time": "2022-02-07T18:37:55.525Z"
   },
   {
    "duration": 9,
    "start_time": "2022-02-07T18:37:55.536Z"
   },
   {
    "duration": 4,
    "start_time": "2022-02-07T18:37:55.546Z"
   },
   {
    "duration": 6,
    "start_time": "2022-02-07T18:37:55.552Z"
   },
   {
    "duration": 8,
    "start_time": "2022-02-07T18:37:55.560Z"
   },
   {
    "duration": 51,
    "start_time": "2022-02-07T18:38:04.924Z"
   },
   {
    "duration": 13,
    "start_time": "2022-02-07T18:38:08.046Z"
   },
   {
    "duration": 12,
    "start_time": "2022-02-07T18:38:12.036Z"
   },
   {
    "duration": 10,
    "start_time": "2022-02-07T18:38:16.245Z"
   },
   {
    "duration": 10,
    "start_time": "2022-02-07T18:38:20.077Z"
   },
   {
    "duration": 4,
    "start_time": "2022-02-07T18:38:25.277Z"
   },
   {
    "duration": 4,
    "start_time": "2022-02-07T18:53:19.084Z"
   },
   {
    "duration": 13,
    "start_time": "2022-02-07T18:53:20.627Z"
   },
   {
    "duration": 5,
    "start_time": "2022-02-07T18:54:27.162Z"
   },
   {
    "duration": 6,
    "start_time": "2022-02-07T18:54:47.849Z"
   },
   {
    "duration": 5,
    "start_time": "2022-02-07T18:54:57.122Z"
   },
   {
    "duration": 12,
    "start_time": "2022-02-07T18:56:22.321Z"
   },
   {
    "duration": 81,
    "start_time": "2022-02-07T18:58:07.068Z"
   },
   {
    "duration": 11,
    "start_time": "2022-02-07T18:58:42.591Z"
   },
   {
    "duration": 7,
    "start_time": "2022-02-07T19:06:57.441Z"
   },
   {
    "duration": 1814,
    "start_time": "2022-02-07T19:24:42.166Z"
   },
   {
    "duration": 9,
    "start_time": "2022-02-07T19:25:22.567Z"
   },
   {
    "duration": 8,
    "start_time": "2022-02-07T19:25:25.421Z"
   },
   {
    "duration": 8,
    "start_time": "2022-02-07T19:26:12.653Z"
   },
   {
    "duration": 7,
    "start_time": "2022-02-07T19:26:20.612Z"
   },
   {
    "duration": 6,
    "start_time": "2022-02-07T19:26:43.709Z"
   },
   {
    "duration": 3,
    "start_time": "2022-02-07T19:26:47.954Z"
   },
   {
    "duration": 59,
    "start_time": "2022-02-07T19:26:47.959Z"
   },
   {
    "duration": 14,
    "start_time": "2022-02-07T19:26:48.020Z"
   },
   {
    "duration": 19,
    "start_time": "2022-02-07T19:26:48.036Z"
   },
   {
    "duration": 10,
    "start_time": "2022-02-07T19:26:48.058Z"
   },
   {
    "duration": 10,
    "start_time": "2022-02-07T19:26:48.070Z"
   },
   {
    "duration": 5,
    "start_time": "2022-02-07T19:26:48.082Z"
   },
   {
    "duration": 6,
    "start_time": "2022-02-07T19:26:48.118Z"
   },
   {
    "duration": 14,
    "start_time": "2022-02-07T19:26:48.126Z"
   },
   {
    "duration": 15,
    "start_time": "2022-02-07T19:26:48.142Z"
   },
   {
    "duration": 6,
    "start_time": "2022-02-07T19:26:48.159Z"
   },
   {
    "duration": 5,
    "start_time": "2022-02-07T19:26:48.166Z"
   },
   {
    "duration": 10,
    "start_time": "2022-02-07T19:26:48.173Z"
   },
   {
    "duration": 33,
    "start_time": "2022-02-07T19:26:48.185Z"
   },
   {
    "duration": 8,
    "start_time": "2022-02-07T19:34:11.896Z"
   },
   {
    "duration": 9,
    "start_time": "2022-02-07T19:36:56.574Z"
   },
   {
    "duration": 246,
    "start_time": "2022-02-07T19:41:54.586Z"
   },
   {
    "duration": 5,
    "start_time": "2022-02-07T19:42:03.635Z"
   },
   {
    "duration": 6,
    "start_time": "2022-02-07T19:45:31.327Z"
   },
   {
    "duration": 5,
    "start_time": "2022-02-07T19:47:47.294Z"
   },
   {
    "duration": 3,
    "start_time": "2022-02-07T19:48:43.814Z"
   },
   {
    "duration": 5,
    "start_time": "2022-02-07T19:48:52.686Z"
   },
   {
    "duration": 6,
    "start_time": "2022-02-07T19:50:20.222Z"
   },
   {
    "duration": 5,
    "start_time": "2022-02-07T19:50:54.725Z"
   },
   {
    "duration": 4,
    "start_time": "2022-02-07T19:51:38.885Z"
   },
   {
    "duration": 7,
    "start_time": "2022-02-07T19:53:02.747Z"
   },
   {
    "duration": 8,
    "start_time": "2022-02-07T19:53:15.277Z"
   },
   {
    "duration": 7,
    "start_time": "2022-02-07T19:53:34.340Z"
   },
   {
    "duration": 8,
    "start_time": "2022-02-07T20:02:36.901Z"
   },
   {
    "duration": 261,
    "start_time": "2022-02-07T20:23:40.452Z"
   },
   {
    "duration": 13,
    "start_time": "2022-02-07T20:23:53.279Z"
   },
   {
    "duration": 15,
    "start_time": "2022-02-07T20:24:23.788Z"
   },
   {
    "duration": 5,
    "start_time": "2022-02-07T20:28:00.122Z"
   },
   {
    "duration": 6,
    "start_time": "2022-02-07T20:30:35.392Z"
   },
   {
    "duration": 18,
    "start_time": "2022-02-07T20:31:21.512Z"
   },
   {
    "duration": 7,
    "start_time": "2022-02-07T20:32:35.790Z"
   },
   {
    "duration": 8,
    "start_time": "2022-02-07T20:34:00.814Z"
   },
   {
    "duration": 18,
    "start_time": "2022-02-07T20:42:18.584Z"
   },
   {
    "duration": 6,
    "start_time": "2022-02-07T20:42:57.383Z"
   },
   {
    "duration": 7,
    "start_time": "2022-02-07T20:43:05.967Z"
   },
   {
    "duration": 1699,
    "start_time": "2022-02-07T20:44:24.310Z"
   },
   {
    "duration": 258,
    "start_time": "2022-02-07T20:44:31.759Z"
   },
   {
    "duration": 241,
    "start_time": "2022-02-07T20:46:11.118Z"
   },
   {
    "duration": 237,
    "start_time": "2022-02-07T20:46:21.237Z"
   },
   {
    "duration": 12,
    "start_time": "2022-02-07T20:46:27.965Z"
   },
   {
    "duration": 9,
    "start_time": "2022-02-07T20:46:43.813Z"
   },
   {
    "duration": 244,
    "start_time": "2022-02-07T20:47:08.846Z"
   },
   {
    "duration": 284,
    "start_time": "2022-02-07T20:47:21.925Z"
   },
   {
    "duration": 10,
    "start_time": "2022-02-07T20:47:38.812Z"
   },
   {
    "duration": 20,
    "start_time": "2022-02-07T20:49:33.628Z"
   },
   {
    "duration": 18,
    "start_time": "2022-02-07T20:49:42.651Z"
   },
   {
    "duration": 8,
    "start_time": "2022-02-07T20:52:36.746Z"
   },
   {
    "duration": 9,
    "start_time": "2022-02-07T20:56:30.448Z"
   },
   {
    "duration": 132,
    "start_time": "2022-02-08T17:28:32.529Z"
   },
   {
    "duration": 410,
    "start_time": "2022-02-08T17:28:59.781Z"
   },
   {
    "duration": 273,
    "start_time": "2022-02-08T17:30:52.922Z"
   },
   {
    "duration": 292,
    "start_time": "2022-02-08T17:30:57.041Z"
   },
   {
    "duration": 926,
    "start_time": "2022-02-08T17:31:24.013Z"
   },
   {
    "duration": 58,
    "start_time": "2022-02-08T17:31:24.942Z"
   },
   {
    "duration": 42,
    "start_time": "2022-02-08T17:31:25.004Z"
   },
   {
    "duration": 22,
    "start_time": "2022-02-08T17:31:25.050Z"
   },
   {
    "duration": 15,
    "start_time": "2022-02-08T17:31:25.075Z"
   },
   {
    "duration": 14,
    "start_time": "2022-02-08T17:31:25.124Z"
   },
   {
    "duration": 5,
    "start_time": "2022-02-08T17:31:25.140Z"
   },
   {
    "duration": 8,
    "start_time": "2022-02-08T17:31:25.149Z"
   },
   {
    "duration": 16,
    "start_time": "2022-02-08T17:31:25.160Z"
   },
   {
    "duration": 59,
    "start_time": "2022-02-08T17:31:25.178Z"
   },
   {
    "duration": 10,
    "start_time": "2022-02-08T17:31:25.240Z"
   },
   {
    "duration": 5,
    "start_time": "2022-02-08T17:31:25.253Z"
   },
   {
    "duration": 19,
    "start_time": "2022-02-08T17:31:25.260Z"
   },
   {
    "duration": 41,
    "start_time": "2022-02-08T17:31:25.282Z"
   },
   {
    "duration": 11,
    "start_time": "2022-02-08T17:31:25.326Z"
   },
   {
    "duration": 7,
    "start_time": "2022-02-08T17:31:25.341Z"
   },
   {
    "duration": 4,
    "start_time": "2022-02-08T17:31:25.351Z"
   },
   {
    "duration": 8,
    "start_time": "2022-02-08T17:31:25.358Z"
   },
   {
    "duration": 59,
    "start_time": "2022-02-08T17:31:25.369Z"
   },
   {
    "duration": 11,
    "start_time": "2022-02-08T17:31:25.430Z"
   },
   {
    "duration": 34,
    "start_time": "2022-02-08T17:31:25.443Z"
   },
   {
    "duration": 46,
    "start_time": "2022-02-08T17:31:25.480Z"
   },
   {
    "duration": 11,
    "start_time": "2022-02-08T17:31:25.530Z"
   },
   {
    "duration": 29,
    "start_time": "2022-02-08T17:31:25.544Z"
   },
   {
    "duration": 10,
    "start_time": "2022-02-08T17:31:25.575Z"
   },
   {
    "duration": 47,
    "start_time": "2022-02-08T17:31:25.588Z"
   },
   {
    "duration": 15,
    "start_time": "2022-02-08T17:31:25.638Z"
   },
   {
    "duration": 7,
    "start_time": "2022-02-08T17:31:41.346Z"
   },
   {
    "duration": 8,
    "start_time": "2022-02-08T17:42:49.372Z"
   },
   {
    "duration": 11,
    "start_time": "2022-02-08T17:44:20.490Z"
   },
   {
    "duration": 374,
    "start_time": "2022-02-08T17:46:44.357Z"
   },
   {
    "duration": 4,
    "start_time": "2022-02-08T17:46:58.405Z"
   },
   {
    "duration": 70,
    "start_time": "2022-02-08T17:46:58.412Z"
   },
   {
    "duration": 21,
    "start_time": "2022-02-08T17:46:58.485Z"
   },
   {
    "duration": 16,
    "start_time": "2022-02-08T17:46:58.525Z"
   },
   {
    "duration": 7,
    "start_time": "2022-02-08T17:46:58.543Z"
   },
   {
    "duration": 14,
    "start_time": "2022-02-08T17:46:58.552Z"
   },
   {
    "duration": 70,
    "start_time": "2022-02-08T17:46:58.570Z"
   },
   {
    "duration": 7,
    "start_time": "2022-02-08T17:46:58.643Z"
   },
   {
    "duration": 7,
    "start_time": "2022-02-08T17:46:58.653Z"
   },
   {
    "duration": 61,
    "start_time": "2022-02-08T17:46:58.663Z"
   },
   {
    "duration": 20,
    "start_time": "2022-02-08T17:46:58.727Z"
   },
   {
    "duration": 11,
    "start_time": "2022-02-08T17:46:58.750Z"
   },
   {
    "duration": 5,
    "start_time": "2022-02-08T17:46:58.763Z"
   },
   {
    "duration": 10,
    "start_time": "2022-02-08T17:46:58.771Z"
   },
   {
    "duration": 45,
    "start_time": "2022-02-08T17:46:58.784Z"
   },
   {
    "duration": 12,
    "start_time": "2022-02-08T17:46:58.831Z"
   },
   {
    "duration": 6,
    "start_time": "2022-02-08T17:46:58.846Z"
   },
   {
    "duration": 6,
    "start_time": "2022-02-08T17:46:58.855Z"
   },
   {
    "duration": 9,
    "start_time": "2022-02-08T17:46:58.865Z"
   },
   {
    "duration": 8,
    "start_time": "2022-02-08T17:46:58.925Z"
   },
   {
    "duration": 14,
    "start_time": "2022-02-08T17:46:58.935Z"
   },
   {
    "duration": 29,
    "start_time": "2022-02-08T17:46:58.951Z"
   },
   {
    "duration": 46,
    "start_time": "2022-02-08T17:46:58.983Z"
   },
   {
    "duration": 10,
    "start_time": "2022-02-08T17:46:59.031Z"
   },
   {
    "duration": 26,
    "start_time": "2022-02-08T17:46:59.043Z"
   },
   {
    "duration": 55,
    "start_time": "2022-02-08T17:46:59.072Z"
   },
   {
    "duration": 9,
    "start_time": "2022-02-08T17:46:59.129Z"
   },
   {
    "duration": 11,
    "start_time": "2022-02-08T17:46:59.141Z"
   },
   {
    "duration": 10,
    "start_time": "2022-02-08T17:46:59.155Z"
   },
   {
    "duration": 287,
    "start_time": "2022-02-08T17:46:59.168Z"
   },
   {
    "duration": 266,
    "start_time": "2022-02-08T17:46:59.191Z"
   },
   {
    "duration": 394,
    "start_time": "2022-02-08T17:47:13.527Z"
   },
   {
    "duration": 300,
    "start_time": "2022-02-08T17:47:32.555Z"
   },
   {
    "duration": 6,
    "start_time": "2022-02-08T17:47:59.473Z"
   },
   {
    "duration": 280,
    "start_time": "2022-02-08T17:48:04.472Z"
   },
   {
    "duration": 295,
    "start_time": "2022-02-08T17:49:45.087Z"
   },
   {
    "duration": 12,
    "start_time": "2022-02-08T17:50:01.055Z"
   },
   {
    "duration": 28,
    "start_time": "2022-02-08T17:50:16.359Z"
   },
   {
    "duration": 287,
    "start_time": "2022-02-08T17:50:25.528Z"
   },
   {
    "duration": 11,
    "start_time": "2022-02-08T17:52:52.437Z"
   },
   {
    "duration": 92,
    "start_time": "2022-02-08T17:53:24.076Z"
   },
   {
    "duration": 254,
    "start_time": "2022-02-08T17:53:44.827Z"
   },
   {
    "duration": 7268,
    "start_time": "2022-02-08T17:53:46.252Z"
   },
   {
    "duration": 254,
    "start_time": "2022-02-08T17:54:03.612Z"
   },
   {
    "duration": 7008,
    "start_time": "2022-02-08T17:54:25.363Z"
   },
   {
    "duration": 7937,
    "start_time": "2022-02-08T17:54:38.412Z"
   },
   {
    "duration": 364,
    "start_time": "2022-02-08T17:55:20.563Z"
   },
   {
    "duration": 15,
    "start_time": "2022-02-08T17:56:24.771Z"
   },
   {
    "duration": 11,
    "start_time": "2022-02-08T17:56:42.266Z"
   },
   {
    "duration": 18,
    "start_time": "2022-02-08T18:00:01.664Z"
   },
   {
    "duration": 17,
    "start_time": "2022-02-08T18:00:08.208Z"
   },
   {
    "duration": 33,
    "start_time": "2022-02-08T18:02:29.266Z"
   },
   {
    "duration": 24,
    "start_time": "2022-02-08T18:02:41.326Z"
   },
   {
    "duration": 29,
    "start_time": "2022-02-08T18:04:32.148Z"
   },
   {
    "duration": 28,
    "start_time": "2022-02-08T18:04:33.925Z"
   },
   {
    "duration": 90,
    "start_time": "2022-02-08T18:15:25.199Z"
   },
   {
    "duration": 25,
    "start_time": "2022-02-08T18:16:30.431Z"
   },
   {
    "duration": 4,
    "start_time": "2022-02-08T18:27:53.683Z"
   },
   {
    "duration": 553,
    "start_time": "2022-02-08T18:30:57.969Z"
   },
   {
    "duration": 356,
    "start_time": "2022-02-08T18:31:11.771Z"
   },
   {
    "duration": 45,
    "start_time": "2022-02-08T18:32:57.492Z"
   },
   {
    "duration": 47,
    "start_time": "2022-02-08T18:33:01.111Z"
   },
   {
    "duration": 25,
    "start_time": "2022-02-08T18:33:19.736Z"
   },
   {
    "duration": 4,
    "start_time": "2022-02-08T18:33:27.758Z"
   },
   {
    "duration": 57,
    "start_time": "2022-02-08T18:33:27.764Z"
   },
   {
    "duration": 18,
    "start_time": "2022-02-08T18:33:27.824Z"
   },
   {
    "duration": 14,
    "start_time": "2022-02-08T18:33:27.845Z"
   },
   {
    "duration": 5,
    "start_time": "2022-02-08T18:33:27.861Z"
   },
   {
    "duration": 12,
    "start_time": "2022-02-08T18:33:27.869Z"
   },
   {
    "duration": 13,
    "start_time": "2022-02-08T18:33:27.925Z"
   },
   {
    "duration": 6,
    "start_time": "2022-02-08T18:33:27.941Z"
   },
   {
    "duration": 6,
    "start_time": "2022-02-08T18:33:27.950Z"
   },
   {
    "duration": 65,
    "start_time": "2022-02-08T18:33:27.958Z"
   },
   {
    "duration": 13,
    "start_time": "2022-02-08T18:33:28.026Z"
   },
   {
    "duration": 9,
    "start_time": "2022-02-08T18:33:28.042Z"
   },
   {
    "duration": 5,
    "start_time": "2022-02-08T18:33:28.054Z"
   },
   {
    "duration": 10,
    "start_time": "2022-02-08T18:33:28.062Z"
   },
   {
    "duration": 52,
    "start_time": "2022-02-08T18:33:28.074Z"
   },
   {
    "duration": 10,
    "start_time": "2022-02-08T18:33:28.128Z"
   },
   {
    "duration": 6,
    "start_time": "2022-02-08T18:33:28.141Z"
   },
   {
    "duration": 6,
    "start_time": "2022-02-08T18:33:28.149Z"
   },
   {
    "duration": 7,
    "start_time": "2022-02-08T18:33:28.160Z"
   },
   {
    "duration": 53,
    "start_time": "2022-02-08T18:33:28.170Z"
   },
   {
    "duration": 11,
    "start_time": "2022-02-08T18:33:28.226Z"
   },
   {
    "duration": 25,
    "start_time": "2022-02-08T18:33:28.239Z"
   },
   {
    "duration": 8,
    "start_time": "2022-02-08T18:33:28.266Z"
   },
   {
    "duration": 48,
    "start_time": "2022-02-08T18:33:28.277Z"
   },
   {
    "duration": 26,
    "start_time": "2022-02-08T18:33:28.328Z"
   },
   {
    "duration": 8,
    "start_time": "2022-02-08T18:33:28.357Z"
   },
   {
    "duration": 10,
    "start_time": "2022-02-08T18:33:28.367Z"
   },
   {
    "duration": 47,
    "start_time": "2022-02-08T18:33:28.379Z"
   },
   {
    "duration": 12,
    "start_time": "2022-02-08T18:33:28.429Z"
   },
   {
    "duration": 11,
    "start_time": "2022-02-08T18:33:28.443Z"
   },
   {
    "duration": 10,
    "start_time": "2022-02-08T18:33:28.457Z"
   },
   {
    "duration": 75,
    "start_time": "2022-02-08T18:33:28.469Z"
   },
   {
    "duration": 27,
    "start_time": "2022-02-08T18:33:28.547Z"
   },
   {
    "duration": 24,
    "start_time": "2022-02-08T18:33:28.576Z"
   },
   {
    "duration": 23,
    "start_time": "2022-02-08T18:33:28.624Z"
   },
   {
    "duration": 4,
    "start_time": "2022-02-08T18:33:28.649Z"
   },
   {
    "duration": 71,
    "start_time": "2022-02-08T18:33:28.655Z"
   },
   {
    "duration": 32,
    "start_time": "2022-02-08T18:33:28.728Z"
   },
   {
    "duration": 37,
    "start_time": "2022-02-08T18:33:59.992Z"
   },
   {
    "duration": 12,
    "start_time": "2022-02-08T18:34:36.735Z"
   },
   {
    "duration": 6,
    "start_time": "2022-02-08T18:35:05.527Z"
   },
   {
    "duration": 25,
    "start_time": "2022-02-08T18:35:07.927Z"
   },
   {
    "duration": 291,
    "start_time": "2022-02-08T18:43:24.329Z"
   },
   {
    "duration": 15,
    "start_time": "2022-02-08T18:43:41.793Z"
   },
   {
    "duration": 16,
    "start_time": "2022-02-08T18:43:44.624Z"
   },
   {
    "duration": 25,
    "start_time": "2022-02-08T18:43:54.273Z"
   },
   {
    "duration": 3,
    "start_time": "2022-02-08T18:44:30.808Z"
   },
   {
    "duration": 84,
    "start_time": "2022-02-08T18:44:30.816Z"
   },
   {
    "duration": 21,
    "start_time": "2022-02-08T18:44:30.903Z"
   },
   {
    "duration": 19,
    "start_time": "2022-02-08T18:44:30.927Z"
   },
   {
    "duration": 12,
    "start_time": "2022-02-08T18:44:30.949Z"
   },
   {
    "duration": 21,
    "start_time": "2022-02-08T18:44:30.963Z"
   },
   {
    "duration": 49,
    "start_time": "2022-02-08T18:44:30.987Z"
   },
   {
    "duration": 9,
    "start_time": "2022-02-08T18:44:31.039Z"
   },
   {
    "duration": 18,
    "start_time": "2022-02-08T18:44:31.052Z"
   },
   {
    "duration": 51,
    "start_time": "2022-02-08T18:44:31.073Z"
   },
   {
    "duration": 21,
    "start_time": "2022-02-08T18:44:31.128Z"
   },
   {
    "duration": 8,
    "start_time": "2022-02-08T18:44:31.153Z"
   },
   {
    "duration": 7,
    "start_time": "2022-02-08T18:44:31.163Z"
   },
   {
    "duration": 19,
    "start_time": "2022-02-08T18:44:31.172Z"
   },
   {
    "duration": 45,
    "start_time": "2022-02-08T18:44:31.194Z"
   },
   {
    "duration": 13,
    "start_time": "2022-02-08T18:44:31.242Z"
   },
   {
    "duration": 7,
    "start_time": "2022-02-08T18:44:31.258Z"
   },
   {
    "duration": 8,
    "start_time": "2022-02-08T18:44:31.268Z"
   },
   {
    "duration": 45,
    "start_time": "2022-02-08T18:44:31.278Z"
   },
   {
    "duration": 11,
    "start_time": "2022-02-08T18:44:31.326Z"
   },
   {
    "duration": 15,
    "start_time": "2022-02-08T18:44:31.340Z"
   },
   {
    "duration": 29,
    "start_time": "2022-02-08T18:44:31.358Z"
   },
   {
    "duration": 42,
    "start_time": "2022-02-08T18:44:31.390Z"
   },
   {
    "duration": 10,
    "start_time": "2022-02-08T18:44:31.439Z"
   },
   {
    "duration": 28,
    "start_time": "2022-02-08T18:44:31.453Z"
   },
   {
    "duration": 47,
    "start_time": "2022-02-08T18:44:31.484Z"
   },
   {
    "duration": 12,
    "start_time": "2022-02-08T18:44:31.534Z"
   },
   {
    "duration": 16,
    "start_time": "2022-02-08T18:44:31.549Z"
   },
   {
    "duration": 54,
    "start_time": "2022-02-08T18:44:31.569Z"
   },
   {
    "duration": 15,
    "start_time": "2022-02-08T18:44:31.626Z"
   },
   {
    "duration": 27,
    "start_time": "2022-02-08T18:44:31.644Z"
   },
   {
    "duration": 38,
    "start_time": "2022-02-08T18:44:31.674Z"
   },
   {
    "duration": 26,
    "start_time": "2022-02-08T18:44:31.723Z"
   },
   {
    "duration": 25,
    "start_time": "2022-02-08T18:44:31.752Z"
   },
   {
    "duration": 73,
    "start_time": "2022-02-08T18:44:31.781Z"
   },
   {
    "duration": 251,
    "start_time": "2022-02-08T18:44:31.857Z"
   },
   {
    "duration": 247,
    "start_time": "2022-02-08T18:44:31.863Z"
   },
   {
    "duration": 238,
    "start_time": "2022-02-08T18:44:31.874Z"
   },
   {
    "duration": 234,
    "start_time": "2022-02-08T18:44:31.880Z"
   },
   {
    "duration": 226,
    "start_time": "2022-02-08T18:44:31.890Z"
   },
   {
    "duration": 4,
    "start_time": "2022-02-08T18:44:42.119Z"
   },
   {
    "duration": 67,
    "start_time": "2022-02-08T18:44:42.126Z"
   },
   {
    "duration": 28,
    "start_time": "2022-02-08T18:44:42.197Z"
   },
   {
    "duration": 16,
    "start_time": "2022-02-08T18:44:42.227Z"
   },
   {
    "duration": 6,
    "start_time": "2022-02-08T18:44:42.245Z"
   },
   {
    "duration": 24,
    "start_time": "2022-02-08T18:44:42.254Z"
   },
   {
    "duration": 58,
    "start_time": "2022-02-08T18:44:42.281Z"
   },
   {
    "duration": 7,
    "start_time": "2022-02-08T18:44:42.343Z"
   },
   {
    "duration": 6,
    "start_time": "2022-02-08T18:44:42.356Z"
   },
   {
    "duration": 58,
    "start_time": "2022-02-08T18:44:42.366Z"
   },
   {
    "duration": 15,
    "start_time": "2022-02-08T18:44:42.428Z"
   },
   {
    "duration": 9,
    "start_time": "2022-02-08T18:44:42.446Z"
   },
   {
    "duration": 12,
    "start_time": "2022-02-08T18:44:42.457Z"
   },
   {
    "duration": 18,
    "start_time": "2022-02-08T18:44:42.471Z"
   },
   {
    "duration": 37,
    "start_time": "2022-02-08T18:44:42.492Z"
   },
   {
    "duration": 19,
    "start_time": "2022-02-08T18:44:42.531Z"
   },
   {
    "duration": 8,
    "start_time": "2022-02-08T18:44:42.553Z"
   },
   {
    "duration": 6,
    "start_time": "2022-02-08T18:44:42.564Z"
   },
   {
    "duration": 12,
    "start_time": "2022-02-08T18:44:42.572Z"
   },
   {
    "duration": 9,
    "start_time": "2022-02-08T18:44:42.624Z"
   },
   {
    "duration": 14,
    "start_time": "2022-02-08T18:44:42.635Z"
   },
   {
    "duration": 25,
    "start_time": "2022-02-08T18:44:42.652Z"
   },
   {
    "duration": 45,
    "start_time": "2022-02-08T18:44:42.680Z"
   },
   {
    "duration": 26,
    "start_time": "2022-02-08T18:44:42.727Z"
   },
   {
    "duration": 31,
    "start_time": "2022-02-08T18:44:42.756Z"
   },
   {
    "duration": 38,
    "start_time": "2022-02-08T18:44:42.790Z"
   },
   {
    "duration": 9,
    "start_time": "2022-02-08T18:44:42.833Z"
   },
   {
    "duration": 13,
    "start_time": "2022-02-08T18:44:42.845Z"
   },
   {
    "duration": 10,
    "start_time": "2022-02-08T18:44:42.860Z"
   },
   {
    "duration": 56,
    "start_time": "2022-02-08T18:44:42.873Z"
   },
   {
    "duration": 11,
    "start_time": "2022-02-08T18:44:42.932Z"
   },
   {
    "duration": 27,
    "start_time": "2022-02-08T18:44:42.946Z"
   },
   {
    "duration": 62,
    "start_time": "2022-02-08T18:44:42.976Z"
   },
   {
    "duration": 25,
    "start_time": "2022-02-08T18:44:43.040Z"
   },
   {
    "duration": 25,
    "start_time": "2022-02-08T18:44:43.068Z"
   },
   {
    "duration": 102,
    "start_time": "2022-02-08T18:44:43.123Z"
   },
   {
    "duration": 273,
    "start_time": "2022-02-08T18:44:42.955Z"
   },
   {
    "duration": 267,
    "start_time": "2022-02-08T18:44:42.962Z"
   },
   {
    "duration": 259,
    "start_time": "2022-02-08T18:44:42.972Z"
   },
   {
    "duration": 254,
    "start_time": "2022-02-08T18:44:42.979Z"
   },
   {
    "duration": 26,
    "start_time": "2022-02-08T18:44:57.976Z"
   },
   {
    "duration": 3,
    "start_time": "2022-02-08T18:45:01.591Z"
   },
   {
    "duration": 66,
    "start_time": "2022-02-08T18:45:01.600Z"
   },
   {
    "duration": 20,
    "start_time": "2022-02-08T18:45:01.669Z"
   },
   {
    "duration": 38,
    "start_time": "2022-02-08T18:45:01.693Z"
   },
   {
    "duration": 8,
    "start_time": "2022-02-08T18:45:01.734Z"
   },
   {
    "duration": 18,
    "start_time": "2022-02-08T18:45:01.744Z"
   },
   {
    "duration": 17,
    "start_time": "2022-02-08T18:45:01.764Z"
   },
   {
    "duration": 42,
    "start_time": "2022-02-08T18:45:01.783Z"
   },
   {
    "duration": 6,
    "start_time": "2022-02-08T18:45:01.829Z"
   },
   {
    "duration": 18,
    "start_time": "2022-02-08T18:45:01.839Z"
   },
   {
    "duration": 13,
    "start_time": "2022-02-08T18:45:01.860Z"
   },
   {
    "duration": 54,
    "start_time": "2022-02-08T18:45:01.876Z"
   },
   {
    "duration": 27,
    "start_time": "2022-02-08T18:45:01.933Z"
   },
   {
    "duration": 13,
    "start_time": "2022-02-08T18:45:01.963Z"
   },
   {
    "duration": 16,
    "start_time": "2022-02-08T18:45:01.979Z"
   },
   {
    "duration": 31,
    "start_time": "2022-02-08T18:45:01.998Z"
   },
   {
    "duration": 7,
    "start_time": "2022-02-08T18:45:02.032Z"
   },
   {
    "duration": 10,
    "start_time": "2022-02-08T18:45:02.042Z"
   },
   {
    "duration": 8,
    "start_time": "2022-02-08T18:45:02.054Z"
   },
   {
    "duration": 8,
    "start_time": "2022-02-08T18:45:02.065Z"
   },
   {
    "duration": 54,
    "start_time": "2022-02-08T18:45:02.075Z"
   },
   {
    "duration": 26,
    "start_time": "2022-02-08T18:45:02.132Z"
   },
   {
    "duration": 27,
    "start_time": "2022-02-08T18:45:02.161Z"
   },
   {
    "duration": 14,
    "start_time": "2022-02-08T18:45:02.193Z"
   },
   {
    "duration": 39,
    "start_time": "2022-02-08T18:45:02.209Z"
   },
   {
    "duration": 15,
    "start_time": "2022-02-08T18:45:02.251Z"
   },
   {
    "duration": 32,
    "start_time": "2022-02-08T18:45:02.269Z"
   },
   {
    "duration": 23,
    "start_time": "2022-02-08T18:45:02.304Z"
   },
   {
    "duration": 16,
    "start_time": "2022-02-08T18:45:02.330Z"
   },
   {
    "duration": 18,
    "start_time": "2022-02-08T18:45:02.348Z"
   },
   {
    "duration": 11,
    "start_time": "2022-02-08T18:45:02.368Z"
   },
   {
    "duration": 31,
    "start_time": "2022-02-08T18:45:02.382Z"
   },
   {
    "duration": 27,
    "start_time": "2022-02-08T18:45:02.424Z"
   },
   {
    "duration": 24,
    "start_time": "2022-02-08T18:45:02.453Z"
   },
   {
    "duration": 49,
    "start_time": "2022-02-08T18:45:02.480Z"
   },
   {
    "duration": 3,
    "start_time": "2022-02-08T18:45:02.531Z"
   },
   {
    "duration": 11,
    "start_time": "2022-02-08T18:45:02.537Z"
   },
   {
    "duration": 9,
    "start_time": "2022-02-08T18:45:02.550Z"
   },
   {
    "duration": 18,
    "start_time": "2022-02-08T18:45:02.561Z"
   },
   {
    "duration": 60,
    "start_time": "2022-02-08T18:45:02.582Z"
   },
   {
    "duration": 7,
    "start_time": "2022-02-08T18:45:42.095Z"
   },
   {
    "duration": 12,
    "start_time": "2022-02-08T18:46:29.766Z"
   },
   {
    "duration": 28,
    "start_time": "2022-02-08T18:46:33.254Z"
   },
   {
    "duration": 6,
    "start_time": "2022-02-08T18:47:29.133Z"
   },
   {
    "duration": 26,
    "start_time": "2022-02-08T18:47:30.766Z"
   },
   {
    "duration": 3,
    "start_time": "2022-02-08T18:48:23.659Z"
   },
   {
    "duration": 65,
    "start_time": "2022-02-08T18:48:23.667Z"
   },
   {
    "duration": 21,
    "start_time": "2022-02-08T18:48:23.735Z"
   },
   {
    "duration": 30,
    "start_time": "2022-02-08T18:48:23.759Z"
   },
   {
    "duration": 30,
    "start_time": "2022-02-08T18:48:23.793Z"
   },
   {
    "duration": 13,
    "start_time": "2022-02-08T18:48:23.826Z"
   },
   {
    "duration": 16,
    "start_time": "2022-02-08T18:48:23.842Z"
   },
   {
    "duration": 6,
    "start_time": "2022-02-08T18:48:23.861Z"
   },
   {
    "duration": 52,
    "start_time": "2022-02-08T18:48:23.871Z"
   },
   {
    "duration": 17,
    "start_time": "2022-02-08T18:48:23.926Z"
   },
   {
    "duration": 15,
    "start_time": "2022-02-08T18:48:23.946Z"
   },
   {
    "duration": 20,
    "start_time": "2022-02-08T18:48:23.964Z"
   },
   {
    "duration": 5,
    "start_time": "2022-02-08T18:48:23.987Z"
   },
   {
    "duration": 43,
    "start_time": "2022-02-08T18:48:23.995Z"
   },
   {
    "duration": 17,
    "start_time": "2022-02-08T18:48:24.041Z"
   },
   {
    "duration": 12,
    "start_time": "2022-02-08T18:48:24.060Z"
   },
   {
    "duration": 15,
    "start_time": "2022-02-08T18:48:24.075Z"
   },
   {
    "duration": 28,
    "start_time": "2022-02-08T18:48:24.092Z"
   },
   {
    "duration": 13,
    "start_time": "2022-02-08T18:48:24.122Z"
   },
   {
    "duration": 25,
    "start_time": "2022-02-08T18:48:24.137Z"
   },
   {
    "duration": 19,
    "start_time": "2022-02-08T18:48:24.165Z"
   },
   {
    "duration": 39,
    "start_time": "2022-02-08T18:48:24.187Z"
   },
   {
    "duration": 21,
    "start_time": "2022-02-08T18:48:24.229Z"
   },
   {
    "duration": 13,
    "start_time": "2022-02-08T18:48:24.256Z"
   },
   {
    "duration": 37,
    "start_time": "2022-02-08T18:48:24.272Z"
   },
   {
    "duration": 16,
    "start_time": "2022-02-08T18:48:24.312Z"
   },
   {
    "duration": 13,
    "start_time": "2022-02-08T18:48:24.331Z"
   },
   {
    "duration": 30,
    "start_time": "2022-02-08T18:48:24.347Z"
   },
   {
    "duration": 25,
    "start_time": "2022-02-08T18:48:24.379Z"
   },
   {
    "duration": 20,
    "start_time": "2022-02-08T18:48:24.406Z"
   },
   {
    "duration": 14,
    "start_time": "2022-02-08T18:48:24.429Z"
   },
   {
    "duration": 44,
    "start_time": "2022-02-08T18:48:24.446Z"
   },
   {
    "duration": 46,
    "start_time": "2022-02-08T18:48:24.493Z"
   },
   {
    "duration": 29,
    "start_time": "2022-02-08T18:48:24.541Z"
   },
   {
    "duration": 57,
    "start_time": "2022-02-08T18:48:24.573Z"
   },
   {
    "duration": 4,
    "start_time": "2022-02-08T18:48:24.633Z"
   },
   {
    "duration": 31,
    "start_time": "2022-02-08T18:48:24.639Z"
   },
   {
    "duration": 33,
    "start_time": "2022-02-08T18:48:24.673Z"
   },
   {
    "duration": 20,
    "start_time": "2022-02-08T19:03:06.722Z"
   },
   {
    "duration": 16,
    "start_time": "2022-02-08T19:03:23.889Z"
   },
   {
    "duration": 11,
    "start_time": "2022-02-08T19:03:38.848Z"
   },
   {
    "duration": 1378,
    "start_time": "2022-02-08T19:04:03.081Z"
   },
   {
    "duration": 407,
    "start_time": "2022-02-08T19:04:11.304Z"
   },
   {
    "duration": 2803,
    "start_time": "2022-02-08T19:05:06.432Z"
   },
   {
    "duration": 5,
    "start_time": "2022-02-08T19:09:47.462Z"
   },
   {
    "duration": 11,
    "start_time": "2022-02-08T19:09:52.172Z"
   },
   {
    "duration": 511,
    "start_time": "2022-02-08T19:10:47.404Z"
   },
   {
    "duration": 28,
    "start_time": "2022-02-08T19:11:04.644Z"
   },
   {
    "duration": 6,
    "start_time": "2022-02-08T19:11:10.028Z"
   },
   {
    "duration": 10,
    "start_time": "2022-02-08T19:11:12.123Z"
   },
   {
    "duration": 27,
    "start_time": "2022-02-08T19:11:26.100Z"
   },
   {
    "duration": 740,
    "start_time": "2022-02-08T19:13:09.003Z"
   },
   {
    "duration": 1560,
    "start_time": "2022-02-08T19:15:05.506Z"
   },
   {
    "duration": 1322,
    "start_time": "2022-02-08T19:15:53.912Z"
   },
   {
    "duration": 1467,
    "start_time": "2022-02-08T19:15:57.617Z"
   },
   {
    "duration": 1396,
    "start_time": "2022-02-08T19:16:36.440Z"
   },
   {
    "duration": 296,
    "start_time": "2022-02-08T19:17:42.911Z"
   },
   {
    "duration": 1457,
    "start_time": "2022-02-08T19:17:51.343Z"
   },
   {
    "duration": 8,
    "start_time": "2022-02-08T19:24:50.716Z"
   },
   {
    "duration": 8,
    "start_time": "2022-02-08T19:25:55.849Z"
   },
   {
    "duration": 11,
    "start_time": "2022-02-08T19:26:15.273Z"
   },
   {
    "duration": 4,
    "start_time": "2022-02-08T19:26:21.935Z"
   },
   {
    "duration": 58,
    "start_time": "2022-02-08T19:26:21.942Z"
   },
   {
    "duration": 28,
    "start_time": "2022-02-08T19:26:22.003Z"
   },
   {
    "duration": 14,
    "start_time": "2022-02-08T19:26:22.034Z"
   },
   {
    "duration": 4,
    "start_time": "2022-02-08T19:26:22.051Z"
   },
   {
    "duration": 12,
    "start_time": "2022-02-08T19:26:22.058Z"
   },
   {
    "duration": 15,
    "start_time": "2022-02-08T19:26:22.122Z"
   },
   {
    "duration": 5,
    "start_time": "2022-02-08T19:26:22.140Z"
   },
   {
    "duration": 6,
    "start_time": "2022-02-08T19:26:22.147Z"
   },
   {
    "duration": 19,
    "start_time": "2022-02-08T19:26:22.156Z"
   },
   {
    "duration": 55,
    "start_time": "2022-02-08T19:26:22.178Z"
   },
   {
    "duration": 10,
    "start_time": "2022-02-08T19:26:22.236Z"
   },
   {
    "duration": 5,
    "start_time": "2022-02-08T19:26:22.249Z"
   },
   {
    "duration": 10,
    "start_time": "2022-02-08T19:26:22.256Z"
   },
   {
    "duration": 8,
    "start_time": "2022-02-08T19:26:22.268Z"
   },
   {
    "duration": 55,
    "start_time": "2022-02-08T19:26:22.279Z"
   },
   {
    "duration": 7,
    "start_time": "2022-02-08T19:26:22.337Z"
   },
   {
    "duration": 5,
    "start_time": "2022-02-08T19:26:22.347Z"
   },
   {
    "duration": 6,
    "start_time": "2022-02-08T19:26:22.357Z"
   },
   {
    "duration": 8,
    "start_time": "2022-02-08T19:26:22.366Z"
   },
   {
    "duration": 10,
    "start_time": "2022-02-08T19:26:22.424Z"
   },
   {
    "duration": 26,
    "start_time": "2022-02-08T19:26:22.436Z"
   },
   {
    "duration": 8,
    "start_time": "2022-02-08T19:26:22.464Z"
   },
   {
    "duration": 8,
    "start_time": "2022-02-08T19:26:22.475Z"
   },
   {
    "duration": 62,
    "start_time": "2022-02-08T19:26:22.485Z"
   },
   {
    "duration": 12,
    "start_time": "2022-02-08T19:26:22.550Z"
   },
   {
    "duration": 9,
    "start_time": "2022-02-08T19:26:22.564Z"
   },
   {
    "duration": 10,
    "start_time": "2022-02-08T19:26:22.575Z"
   },
   {
    "duration": 7,
    "start_time": "2022-02-08T19:26:22.623Z"
   },
   {
    "duration": 13,
    "start_time": "2022-02-08T19:26:22.633Z"
   },
   {
    "duration": 10,
    "start_time": "2022-02-08T19:26:22.649Z"
   },
   {
    "duration": 66,
    "start_time": "2022-02-08T19:26:22.661Z"
   },
   {
    "duration": 29,
    "start_time": "2022-02-08T19:26:22.729Z"
   },
   {
    "duration": 24,
    "start_time": "2022-02-08T19:26:22.760Z"
   },
   {
    "duration": 48,
    "start_time": "2022-02-08T19:26:22.787Z"
   },
   {
    "duration": 6,
    "start_time": "2022-02-08T19:26:22.837Z"
   },
   {
    "duration": 30,
    "start_time": "2022-02-08T19:26:22.846Z"
   },
   {
    "duration": 10,
    "start_time": "2022-02-08T19:27:44.704Z"
   },
   {
    "duration": 25,
    "start_time": "2022-02-08T19:27:46.152Z"
   },
   {
    "duration": 11,
    "start_time": "2022-02-08T19:31:40.173Z"
   },
   {
    "duration": 27,
    "start_time": "2022-02-08T19:31:41.668Z"
   },
   {
    "duration": 60,
    "start_time": "2022-02-08T19:33:52.651Z"
   },
   {
    "duration": 41,
    "start_time": "2022-02-08T19:33:53.491Z"
   },
   {
    "duration": 364,
    "start_time": "2022-02-08T19:35:33.257Z"
   },
   {
    "duration": 576,
    "start_time": "2022-02-08T19:35:39.308Z"
   },
   {
    "duration": 412,
    "start_time": "2022-02-08T19:35:40.165Z"
   },
   {
    "duration": 776,
    "start_time": "2022-02-08T19:35:45.118Z"
   },
   {
    "duration": 61,
    "start_time": "2022-02-08T19:35:45.897Z"
   },
   {
    "duration": 29,
    "start_time": "2022-02-08T19:35:45.961Z"
   },
   {
    "duration": 31,
    "start_time": "2022-02-08T19:35:45.992Z"
   },
   {
    "duration": 11,
    "start_time": "2022-02-08T19:35:46.026Z"
   },
   {
    "duration": 23,
    "start_time": "2022-02-08T19:35:46.040Z"
   },
   {
    "duration": 23,
    "start_time": "2022-02-08T19:35:46.065Z"
   },
   {
    "duration": 28,
    "start_time": "2022-02-08T19:35:46.092Z"
   },
   {
    "duration": 15,
    "start_time": "2022-02-08T19:35:46.123Z"
   },
   {
    "duration": 56,
    "start_time": "2022-02-08T19:35:46.140Z"
   },
   {
    "duration": 12,
    "start_time": "2022-02-08T19:35:46.199Z"
   },
   {
    "duration": 8,
    "start_time": "2022-02-08T19:35:46.214Z"
   },
   {
    "duration": 5,
    "start_time": "2022-02-08T19:35:46.224Z"
   },
   {
    "duration": 16,
    "start_time": "2022-02-08T19:35:46.231Z"
   },
   {
    "duration": 7,
    "start_time": "2022-02-08T19:35:46.250Z"
   },
   {
    "duration": 13,
    "start_time": "2022-02-08T19:35:46.260Z"
   },
   {
    "duration": 7,
    "start_time": "2022-02-08T19:35:46.275Z"
   },
   {
    "duration": 5,
    "start_time": "2022-02-08T19:35:46.325Z"
   },
   {
    "duration": 10,
    "start_time": "2022-02-08T19:35:46.332Z"
   },
   {
    "duration": 8,
    "start_time": "2022-02-08T19:35:46.345Z"
   },
   {
    "duration": 9,
    "start_time": "2022-02-08T19:35:46.355Z"
   },
   {
    "duration": 74,
    "start_time": "2022-02-08T19:35:46.367Z"
   },
   {
    "duration": 10,
    "start_time": "2022-02-08T19:35:46.447Z"
   },
   {
    "duration": 14,
    "start_time": "2022-02-08T19:35:46.460Z"
   },
   {
    "duration": 63,
    "start_time": "2022-02-08T19:35:46.477Z"
   },
   {
    "duration": 9,
    "start_time": "2022-02-08T19:35:46.543Z"
   },
   {
    "duration": 11,
    "start_time": "2022-02-08T19:35:46.555Z"
   },
   {
    "duration": 21,
    "start_time": "2022-02-08T19:35:46.569Z"
   },
   {
    "duration": 41,
    "start_time": "2022-02-08T19:35:46.592Z"
   },
   {
    "duration": 12,
    "start_time": "2022-02-08T19:35:46.636Z"
   },
   {
    "duration": 11,
    "start_time": "2022-02-08T19:35:46.651Z"
   },
   {
    "duration": 72,
    "start_time": "2022-02-08T19:35:46.665Z"
   },
   {
    "duration": 31,
    "start_time": "2022-02-08T19:35:46.740Z"
   },
   {
    "duration": 51,
    "start_time": "2022-02-08T19:35:46.774Z"
   },
   {
    "duration": 28,
    "start_time": "2022-02-08T19:35:46.828Z"
   },
   {
    "duration": 31,
    "start_time": "2022-02-08T19:35:46.859Z"
   },
   {
    "duration": 57,
    "start_time": "2022-02-08T19:35:46.892Z"
   },
   {
    "duration": 899,
    "start_time": "2022-02-08T19:36:45.697Z"
   },
   {
    "duration": 254,
    "start_time": "2022-02-08T19:36:46.345Z"
   },
   {
    "duration": 722,
    "start_time": "2022-02-08T19:36:53.070Z"
   },
   {
    "duration": 64,
    "start_time": "2022-02-08T19:36:53.795Z"
   },
   {
    "duration": 30,
    "start_time": "2022-02-08T19:36:53.863Z"
   },
   {
    "duration": 36,
    "start_time": "2022-02-08T19:36:53.897Z"
   },
   {
    "duration": 7,
    "start_time": "2022-02-08T19:36:53.936Z"
   },
   {
    "duration": 15,
    "start_time": "2022-02-08T19:36:53.946Z"
   },
   {
    "duration": 16,
    "start_time": "2022-02-08T19:36:53.963Z"
   },
   {
    "duration": 6,
    "start_time": "2022-02-08T19:36:54.025Z"
   },
   {
    "duration": 10,
    "start_time": "2022-02-08T19:36:54.034Z"
   },
   {
    "duration": 17,
    "start_time": "2022-02-08T19:36:54.046Z"
   },
   {
    "duration": 15,
    "start_time": "2022-02-08T19:36:54.065Z"
   },
   {
    "duration": 46,
    "start_time": "2022-02-08T19:36:54.083Z"
   },
   {
    "duration": 6,
    "start_time": "2022-02-08T19:36:54.132Z"
   },
   {
    "duration": 12,
    "start_time": "2022-02-08T19:36:54.141Z"
   },
   {
    "duration": 8,
    "start_time": "2022-02-08T19:36:54.155Z"
   },
   {
    "duration": 63,
    "start_time": "2022-02-08T19:36:54.166Z"
   },
   {
    "duration": 7,
    "start_time": "2022-02-08T19:36:54.232Z"
   },
   {
    "duration": 6,
    "start_time": "2022-02-08T19:36:54.242Z"
   },
   {
    "duration": 9,
    "start_time": "2022-02-08T19:36:54.251Z"
   },
   {
    "duration": 9,
    "start_time": "2022-02-08T19:36:54.263Z"
   },
   {
    "duration": 54,
    "start_time": "2022-02-08T19:36:54.275Z"
   },
   {
    "duration": 24,
    "start_time": "2022-02-08T19:36:54.332Z"
   },
   {
    "duration": 7,
    "start_time": "2022-02-08T19:36:54.360Z"
   },
   {
    "duration": 10,
    "start_time": "2022-02-08T19:36:54.369Z"
   },
   {
    "duration": 65,
    "start_time": "2022-02-08T19:36:54.381Z"
   },
   {
    "duration": 8,
    "start_time": "2022-02-08T19:36:54.448Z"
   },
   {
    "duration": 9,
    "start_time": "2022-02-08T19:36:54.458Z"
   },
   {
    "duration": 10,
    "start_time": "2022-02-08T19:36:54.469Z"
   },
   {
    "duration": 44,
    "start_time": "2022-02-08T19:36:54.482Z"
   },
   {
    "duration": 13,
    "start_time": "2022-02-08T19:36:54.528Z"
   },
   {
    "duration": 9,
    "start_time": "2022-02-08T19:36:54.543Z"
   },
   {
    "duration": 26,
    "start_time": "2022-02-08T19:36:54.555Z"
   },
   {
    "duration": 63,
    "start_time": "2022-02-08T19:36:54.584Z"
   },
   {
    "duration": 32,
    "start_time": "2022-02-08T19:36:54.650Z"
   },
   {
    "duration": 52,
    "start_time": "2022-02-08T19:36:54.685Z"
   },
   {
    "duration": 65,
    "start_time": "2022-02-08T19:36:54.740Z"
   },
   {
    "duration": 46,
    "start_time": "2022-02-08T19:36:54.823Z"
   },
   {
    "duration": 555,
    "start_time": "2022-02-08T19:37:33.449Z"
   },
   {
    "duration": 28,
    "start_time": "2022-02-08T19:41:11.335Z"
   },
   {
    "duration": 800,
    "start_time": "2022-02-08T19:44:54.732Z"
   },
   {
    "duration": 526,
    "start_time": "2022-02-08T19:46:39.595Z"
   },
   {
    "duration": 4,
    "start_time": "2022-02-08T19:46:47.228Z"
   },
   {
    "duration": 897,
    "start_time": "2022-02-08T19:46:47.235Z"
   },
   {
    "duration": 21,
    "start_time": "2022-02-08T19:46:48.136Z"
   },
   {
    "duration": 17,
    "start_time": "2022-02-08T19:46:48.160Z"
   },
   {
    "duration": 5,
    "start_time": "2022-02-08T19:46:48.180Z"
   },
   {
    "duration": 43,
    "start_time": "2022-02-08T19:46:48.187Z"
   },
   {
    "duration": 17,
    "start_time": "2022-02-08T19:46:48.233Z"
   },
   {
    "duration": 5,
    "start_time": "2022-02-08T19:46:48.253Z"
   },
   {
    "duration": 6,
    "start_time": "2022-02-08T19:46:48.261Z"
   },
   {
    "duration": 54,
    "start_time": "2022-02-08T19:46:48.269Z"
   },
   {
    "duration": 13,
    "start_time": "2022-02-08T19:46:48.326Z"
   },
   {
    "duration": 12,
    "start_time": "2022-02-08T19:46:48.341Z"
   },
   {
    "duration": 5,
    "start_time": "2022-02-08T19:46:48.356Z"
   },
   {
    "duration": 10,
    "start_time": "2022-02-08T19:46:48.363Z"
   },
   {
    "duration": 47,
    "start_time": "2022-02-08T19:46:48.376Z"
   },
   {
    "duration": 10,
    "start_time": "2022-02-08T19:46:48.426Z"
   },
   {
    "duration": 6,
    "start_time": "2022-02-08T19:46:48.439Z"
   },
   {
    "duration": 6,
    "start_time": "2022-02-08T19:46:48.448Z"
   },
   {
    "duration": 7,
    "start_time": "2022-02-08T19:46:48.459Z"
   },
   {
    "duration": 8,
    "start_time": "2022-02-08T19:46:48.469Z"
   },
   {
    "duration": 11,
    "start_time": "2022-02-08T19:46:48.523Z"
   },
   {
    "duration": 22,
    "start_time": "2022-02-08T19:46:48.536Z"
   },
   {
    "duration": 11,
    "start_time": "2022-02-08T19:46:48.561Z"
   },
   {
    "duration": 53,
    "start_time": "2022-02-08T19:46:48.575Z"
   },
   {
    "duration": 26,
    "start_time": "2022-02-08T19:46:48.630Z"
   },
   {
    "duration": 7,
    "start_time": "2022-02-08T19:46:48.658Z"
   },
   {
    "duration": 9,
    "start_time": "2022-02-08T19:46:48.668Z"
   },
   {
    "duration": 48,
    "start_time": "2022-02-08T19:46:48.679Z"
   },
   {
    "duration": 9,
    "start_time": "2022-02-08T19:46:48.729Z"
   },
   {
    "duration": 9,
    "start_time": "2022-02-08T19:46:48.741Z"
   },
   {
    "duration": 10,
    "start_time": "2022-02-08T19:46:48.752Z"
   },
   {
    "duration": 68,
    "start_time": "2022-02-08T19:46:48.765Z"
   },
   {
    "duration": 29,
    "start_time": "2022-02-08T19:46:48.836Z"
   },
   {
    "duration": 25,
    "start_time": "2022-02-08T19:46:48.868Z"
   },
   {
    "duration": 49,
    "start_time": "2022-02-08T19:46:48.896Z"
   },
   {
    "duration": 160,
    "start_time": "2022-02-08T19:46:48.947Z"
   },
   {
    "duration": 40,
    "start_time": "2022-02-08T19:46:49.109Z"
   },
   {
    "duration": 134,
    "start_time": "2022-02-08T19:47:36.474Z"
   },
   {
    "duration": 23,
    "start_time": "2022-02-08T19:47:46.825Z"
   },
   {
    "duration": 553,
    "start_time": "2022-02-08T19:53:50.254Z"
   },
   {
    "duration": 16,
    "start_time": "2022-02-08T19:54:03.661Z"
   },
   {
    "duration": 16,
    "start_time": "2022-02-08T19:54:08.093Z"
   },
   {
    "duration": 8,
    "start_time": "2022-02-08T19:54:22.197Z"
   },
   {
    "duration": 8,
    "start_time": "2022-02-08T19:54:37.514Z"
   },
   {
    "duration": 21,
    "start_time": "2022-02-08T19:54:55.117Z"
   },
   {
    "duration": 23,
    "start_time": "2022-02-08T19:55:18.661Z"
   },
   {
    "duration": 4,
    "start_time": "2022-02-08T19:55:23.584Z"
   },
   {
    "duration": 62,
    "start_time": "2022-02-08T19:55:23.591Z"
   },
   {
    "duration": 19,
    "start_time": "2022-02-08T19:55:23.657Z"
   },
   {
    "duration": 52,
    "start_time": "2022-02-08T19:55:23.680Z"
   },
   {
    "duration": 5,
    "start_time": "2022-02-08T19:55:23.735Z"
   },
   {
    "duration": 13,
    "start_time": "2022-02-08T19:55:23.743Z"
   },
   {
    "duration": 16,
    "start_time": "2022-02-08T19:55:23.760Z"
   },
   {
    "duration": 5,
    "start_time": "2022-02-08T19:55:23.825Z"
   },
   {
    "duration": 10,
    "start_time": "2022-02-08T19:55:23.833Z"
   },
   {
    "duration": 16,
    "start_time": "2022-02-08T19:55:23.845Z"
   },
   {
    "duration": 11,
    "start_time": "2022-02-08T19:55:23.864Z"
   },
   {
    "duration": 46,
    "start_time": "2022-02-08T19:55:23.878Z"
   },
   {
    "duration": 5,
    "start_time": "2022-02-08T19:55:23.927Z"
   },
   {
    "duration": 10,
    "start_time": "2022-02-08T19:55:23.934Z"
   },
   {
    "duration": 7,
    "start_time": "2022-02-08T19:55:23.947Z"
   },
   {
    "duration": 10,
    "start_time": "2022-02-08T19:55:23.957Z"
   },
   {
    "duration": 7,
    "start_time": "2022-02-08T19:55:23.969Z"
   },
   {
    "duration": 49,
    "start_time": "2022-02-08T19:55:23.977Z"
   },
   {
    "duration": 6,
    "start_time": "2022-02-08T19:55:24.031Z"
   },
   {
    "duration": 9,
    "start_time": "2022-02-08T19:55:24.039Z"
   },
   {
    "duration": 9,
    "start_time": "2022-02-08T19:55:24.051Z"
   },
   {
    "duration": 72,
    "start_time": "2022-02-08T19:55:24.063Z"
   },
   {
    "duration": 7,
    "start_time": "2022-02-08T19:55:24.138Z"
   },
   {
    "duration": 9,
    "start_time": "2022-02-08T19:55:24.148Z"
   },
   {
    "duration": 65,
    "start_time": "2022-02-08T19:55:24.160Z"
   },
   {
    "duration": 10,
    "start_time": "2022-02-08T19:55:24.227Z"
   },
   {
    "duration": 9,
    "start_time": "2022-02-08T19:55:24.239Z"
   },
   {
    "duration": 11,
    "start_time": "2022-02-08T19:55:24.250Z"
   },
   {
    "duration": 8,
    "start_time": "2022-02-08T19:55:24.263Z"
   },
   {
    "duration": 57,
    "start_time": "2022-02-08T19:55:24.273Z"
   },
   {
    "duration": 10,
    "start_time": "2022-02-08T19:55:24.333Z"
   },
   {
    "duration": 29,
    "start_time": "2022-02-08T19:55:24.346Z"
   },
   {
    "duration": 60,
    "start_time": "2022-02-08T19:55:24.377Z"
   },
   {
    "duration": 28,
    "start_time": "2022-02-08T19:55:24.439Z"
   },
   {
    "duration": 25,
    "start_time": "2022-02-08T19:55:24.470Z"
   },
   {
    "duration": 35,
    "start_time": "2022-02-08T19:55:24.498Z"
   },
   {
    "duration": 26,
    "start_time": "2022-02-08T19:55:24.537Z"
   },
   {
    "duration": 15,
    "start_time": "2022-02-08T19:56:31.140Z"
   },
   {
    "duration": 28,
    "start_time": "2022-02-08T19:56:32.805Z"
   },
   {
    "duration": 7,
    "start_time": "2022-02-08T19:56:52.900Z"
   },
   {
    "duration": 11,
    "start_time": "2022-02-08T19:57:11.028Z"
   },
   {
    "duration": 15,
    "start_time": "2022-02-08T20:17:23.582Z"
   },
   {
    "duration": 12,
    "start_time": "2022-02-08T20:17:43.356Z"
   },
   {
    "duration": 25,
    "start_time": "2022-02-08T20:17:52.221Z"
   },
   {
    "duration": 13,
    "start_time": "2022-02-08T20:21:18.010Z"
   },
   {
    "duration": 24,
    "start_time": "2022-02-08T20:21:19.746Z"
   },
   {
    "duration": 16,
    "start_time": "2022-02-08T20:21:38.729Z"
   },
   {
    "duration": 26,
    "start_time": "2022-02-08T20:21:39.666Z"
   },
   {
    "duration": 14,
    "start_time": "2022-02-08T20:29:04.238Z"
   },
   {
    "duration": 23,
    "start_time": "2022-02-08T20:29:06.477Z"
   },
   {
    "duration": 15,
    "start_time": "2022-02-08T20:29:37.540Z"
   },
   {
    "duration": 21,
    "start_time": "2022-02-08T20:29:38.653Z"
   },
   {
    "duration": 15,
    "start_time": "2022-02-08T20:29:55.132Z"
   },
   {
    "duration": 21,
    "start_time": "2022-02-08T20:29:57.172Z"
   },
   {
    "duration": 4,
    "start_time": "2022-02-08T20:30:15.859Z"
   },
   {
    "duration": 59,
    "start_time": "2022-02-08T20:30:15.865Z"
   },
   {
    "duration": 20,
    "start_time": "2022-02-08T20:30:15.927Z"
   },
   {
    "duration": 17,
    "start_time": "2022-02-08T20:30:15.950Z"
   },
   {
    "duration": 6,
    "start_time": "2022-02-08T20:30:15.969Z"
   },
   {
    "duration": 53,
    "start_time": "2022-02-08T20:30:15.978Z"
   },
   {
    "duration": 13,
    "start_time": "2022-02-08T20:30:16.035Z"
   },
   {
    "duration": 5,
    "start_time": "2022-02-08T20:30:16.051Z"
   },
   {
    "duration": 9,
    "start_time": "2022-02-08T20:30:16.058Z"
   },
   {
    "duration": 74,
    "start_time": "2022-02-08T20:30:16.069Z"
   },
   {
    "duration": 57,
    "start_time": "2022-02-08T20:30:16.146Z"
   },
   {
    "duration": 29,
    "start_time": "2022-02-08T20:30:16.205Z"
   },
   {
    "duration": 99,
    "start_time": "2022-02-08T20:30:16.237Z"
   },
   {
    "duration": 33,
    "start_time": "2022-02-08T20:30:16.340Z"
   },
   {
    "duration": 9,
    "start_time": "2022-02-08T20:30:16.376Z"
   },
   {
    "duration": 13,
    "start_time": "2022-02-08T20:30:16.388Z"
   },
   {
    "duration": 6,
    "start_time": "2022-02-08T20:30:16.403Z"
   },
   {
    "duration": 6,
    "start_time": "2022-02-08T20:30:16.412Z"
   },
   {
    "duration": 9,
    "start_time": "2022-02-08T20:30:16.422Z"
   },
   {
    "duration": 9,
    "start_time": "2022-02-08T20:30:16.434Z"
   },
   {
    "duration": 10,
    "start_time": "2022-02-08T20:30:16.445Z"
   },
   {
    "duration": 24,
    "start_time": "2022-02-08T20:30:16.457Z"
   },
   {
    "duration": 48,
    "start_time": "2022-02-08T20:30:16.483Z"
   },
   {
    "duration": 12,
    "start_time": "2022-02-08T20:30:16.533Z"
   },
   {
    "duration": 28,
    "start_time": "2022-02-08T20:30:16.547Z"
   },
   {
    "duration": 7,
    "start_time": "2022-02-08T20:30:16.577Z"
   },
   {
    "duration": 10,
    "start_time": "2022-02-08T20:30:16.623Z"
   },
   {
    "duration": 10,
    "start_time": "2022-02-08T20:30:16.636Z"
   },
   {
    "duration": 8,
    "start_time": "2022-02-08T20:30:16.648Z"
   },
   {
    "duration": 11,
    "start_time": "2022-02-08T20:30:16.658Z"
   },
   {
    "duration": 10,
    "start_time": "2022-02-08T20:30:16.671Z"
   },
   {
    "duration": 27,
    "start_time": "2022-02-08T20:30:16.724Z"
   },
   {
    "duration": 26,
    "start_time": "2022-02-08T20:30:16.753Z"
   },
   {
    "duration": 53,
    "start_time": "2022-02-08T20:30:16.782Z"
   },
   {
    "duration": 25,
    "start_time": "2022-02-08T20:30:16.838Z"
   },
   {
    "duration": 1436,
    "start_time": "2022-02-08T20:30:16.866Z"
   },
   {
    "duration": 237,
    "start_time": "2022-02-08T20:30:18.067Z"
   },
   {
    "duration": 7884,
    "start_time": "2022-02-08T20:31:15.051Z"
   },
   {
    "duration": 1633,
    "start_time": "2022-02-08T20:31:54.605Z"
   },
   {
    "duration": 3,
    "start_time": "2022-02-08T20:32:02.907Z"
   },
   {
    "duration": 63,
    "start_time": "2022-02-08T20:32:02.913Z"
   },
   {
    "duration": 18,
    "start_time": "2022-02-08T20:32:02.979Z"
   },
   {
    "duration": 32,
    "start_time": "2022-02-08T20:32:03.000Z"
   },
   {
    "duration": 5,
    "start_time": "2022-02-08T20:32:03.035Z"
   },
   {
    "duration": 12,
    "start_time": "2022-02-08T20:32:03.043Z"
   },
   {
    "duration": 15,
    "start_time": "2022-02-08T20:32:03.058Z"
   },
   {
    "duration": 50,
    "start_time": "2022-02-08T20:32:03.075Z"
   },
   {
    "duration": 7,
    "start_time": "2022-02-08T20:32:03.128Z"
   },
   {
    "duration": 17,
    "start_time": "2022-02-08T20:32:03.138Z"
   },
   {
    "duration": 14,
    "start_time": "2022-02-08T20:32:03.158Z"
   },
   {
    "duration": 51,
    "start_time": "2022-02-08T20:32:03.174Z"
   },
   {
    "duration": 5,
    "start_time": "2022-02-08T20:32:03.227Z"
   },
   {
    "duration": 10,
    "start_time": "2022-02-08T20:32:03.235Z"
   },
   {
    "duration": 9,
    "start_time": "2022-02-08T20:32:03.247Z"
   },
   {
    "duration": 11,
    "start_time": "2022-02-08T20:32:03.258Z"
   },
   {
    "duration": 55,
    "start_time": "2022-02-08T20:32:03.272Z"
   },
   {
    "duration": 5,
    "start_time": "2022-02-08T20:32:03.329Z"
   },
   {
    "duration": 7,
    "start_time": "2022-02-08T20:32:03.341Z"
   },
   {
    "duration": 11,
    "start_time": "2022-02-08T20:32:03.351Z"
   },
   {
    "duration": 11,
    "start_time": "2022-02-08T20:32:03.364Z"
   },
   {
    "duration": 81,
    "start_time": "2022-02-08T20:32:03.378Z"
   },
   {
    "duration": 9,
    "start_time": "2022-02-08T20:32:03.461Z"
   },
   {
    "duration": 9,
    "start_time": "2022-02-08T20:32:03.473Z"
   },
   {
    "duration": 48,
    "start_time": "2022-02-08T20:32:03.484Z"
   },
   {
    "duration": 8,
    "start_time": "2022-02-08T20:32:03.535Z"
   },
   {
    "duration": 12,
    "start_time": "2022-02-08T20:32:03.546Z"
   },
   {
    "duration": 12,
    "start_time": "2022-02-08T20:32:03.560Z"
   },
   {
    "duration": 51,
    "start_time": "2022-02-08T20:32:03.574Z"
   },
   {
    "duration": 11,
    "start_time": "2022-02-08T20:32:03.627Z"
   },
   {
    "duration": 9,
    "start_time": "2022-02-08T20:32:03.641Z"
   },
   {
    "duration": 25,
    "start_time": "2022-02-08T20:32:03.653Z"
   },
   {
    "duration": 69,
    "start_time": "2022-02-08T20:32:03.681Z"
   },
   {
    "duration": 25,
    "start_time": "2022-02-08T20:32:03.753Z"
   },
   {
    "duration": 48,
    "start_time": "2022-02-08T20:32:03.781Z"
   },
   {
    "duration": 1298,
    "start_time": "2022-02-08T20:32:03.832Z"
   },
   {
    "duration": 231,
    "start_time": "2022-02-08T20:32:04.901Z"
   },
   {
    "duration": 8684,
    "start_time": "2022-02-08T20:32:10.674Z"
   },
   {
    "duration": 343,
    "start_time": "2022-02-08T20:33:24.918Z"
   },
   {
    "duration": 361,
    "start_time": "2022-02-08T20:33:41.893Z"
   },
   {
    "duration": 705,
    "start_time": "2022-02-08T20:33:46.662Z"
   },
   {
    "duration": 63,
    "start_time": "2022-02-08T20:33:47.369Z"
   },
   {
    "duration": 29,
    "start_time": "2022-02-08T20:33:47.435Z"
   },
   {
    "duration": 16,
    "start_time": "2022-02-08T20:33:47.466Z"
   },
   {
    "duration": 5,
    "start_time": "2022-02-08T20:33:47.484Z"
   },
   {
    "duration": 43,
    "start_time": "2022-02-08T20:33:47.491Z"
   },
   {
    "duration": 14,
    "start_time": "2022-02-08T20:33:47.536Z"
   },
   {
    "duration": 5,
    "start_time": "2022-02-08T20:33:47.554Z"
   },
   {
    "duration": 7,
    "start_time": "2022-02-08T20:33:47.563Z"
   },
   {
    "duration": 59,
    "start_time": "2022-02-08T20:33:47.572Z"
   },
   {
    "duration": 14,
    "start_time": "2022-02-08T20:33:47.634Z"
   },
   {
    "duration": 9,
    "start_time": "2022-02-08T20:33:47.651Z"
   },
   {
    "duration": 5,
    "start_time": "2022-02-08T20:33:47.663Z"
   },
   {
    "duration": 60,
    "start_time": "2022-02-08T20:33:47.671Z"
   },
   {
    "duration": 11,
    "start_time": "2022-02-08T20:33:47.733Z"
   },
   {
    "duration": 11,
    "start_time": "2022-02-08T20:33:47.746Z"
   },
   {
    "duration": 7,
    "start_time": "2022-02-08T20:33:47.759Z"
   },
   {
    "duration": 5,
    "start_time": "2022-02-08T20:33:47.768Z"
   },
   {
    "duration": 51,
    "start_time": "2022-02-08T20:33:47.776Z"
   },
   {
    "duration": 12,
    "start_time": "2022-02-08T20:33:47.830Z"
   },
   {
    "duration": 9,
    "start_time": "2022-02-08T20:33:47.844Z"
   },
   {
    "duration": 23,
    "start_time": "2022-02-08T20:33:47.855Z"
   },
   {
    "duration": 41,
    "start_time": "2022-02-08T20:33:47.883Z"
   },
   {
    "duration": 10,
    "start_time": "2022-02-08T20:33:47.927Z"
   },
   {
    "duration": 27,
    "start_time": "2022-02-08T20:33:47.939Z"
   },
   {
    "duration": 7,
    "start_time": "2022-02-08T20:33:47.969Z"
   },
   {
    "duration": 46,
    "start_time": "2022-02-08T20:33:47.978Z"
   },
   {
    "duration": 9,
    "start_time": "2022-02-08T20:33:48.026Z"
   },
   {
    "duration": 9,
    "start_time": "2022-02-08T20:33:48.037Z"
   },
   {
    "duration": 11,
    "start_time": "2022-02-08T20:33:48.048Z"
   },
   {
    "duration": 9,
    "start_time": "2022-02-08T20:33:48.060Z"
   },
   {
    "duration": 70,
    "start_time": "2022-02-08T20:33:48.072Z"
   },
   {
    "duration": 30,
    "start_time": "2022-02-08T20:33:48.145Z"
   },
   {
    "duration": 56,
    "start_time": "2022-02-08T20:33:48.178Z"
   },
   {
    "duration": 24,
    "start_time": "2022-02-08T20:33:48.237Z"
   },
   {
    "duration": 1331,
    "start_time": "2022-02-08T20:33:48.264Z"
   },
   {
    "duration": 230,
    "start_time": "2022-02-08T20:33:49.367Z"
   },
   {
    "duration": 179,
    "start_time": "2022-02-08T20:34:30.412Z"
   },
   {
    "duration": 14,
    "start_time": "2022-02-08T20:34:37.323Z"
   },
   {
    "duration": 10,
    "start_time": "2022-02-08T20:34:39.915Z"
   },
   {
    "duration": 3524,
    "start_time": "2022-02-08T20:35:21.858Z"
   },
   {
    "duration": 226,
    "start_time": "2022-02-08T20:35:25.158Z"
   },
   {
    "duration": 1590,
    "start_time": "2022-02-08T20:35:42.034Z"
   },
   {
    "duration": 2260,
    "start_time": "2022-02-08T20:36:11.242Z"
   },
   {
    "duration": 106,
    "start_time": "2022-02-08T20:37:29.697Z"
   },
   {
    "duration": 287,
    "start_time": "2022-02-08T20:37:37.449Z"
   },
   {
    "duration": 4,
    "start_time": "2022-02-08T20:38:05.376Z"
   },
   {
    "duration": 1303,
    "start_time": "2022-02-08T20:40:10.471Z"
   },
   {
    "duration": 101,
    "start_time": "2022-02-08T20:40:32.958Z"
   },
   {
    "duration": 1355,
    "start_time": "2022-02-08T20:40:43.895Z"
   },
   {
    "duration": 1347,
    "start_time": "2022-02-08T20:41:17.597Z"
   },
   {
    "duration": 10,
    "start_time": "2022-02-08T20:42:01.221Z"
   },
   {
    "duration": 25527,
    "start_time": "2022-02-08T20:44:59.964Z"
   },
   {
    "duration": 8,
    "start_time": "2022-02-08T20:46:41.242Z"
   },
   {
    "duration": 13,
    "start_time": "2022-02-08T20:47:05.010Z"
   },
   {
    "duration": 22937,
    "start_time": "2022-02-08T20:47:18.338Z"
   },
   {
    "duration": 8,
    "start_time": "2022-02-08T20:49:36.480Z"
   },
   {
    "duration": 11,
    "start_time": "2022-02-08T20:49:46.847Z"
   },
   {
    "duration": 22332,
    "start_time": "2022-02-08T20:56:37.356Z"
   },
   {
    "duration": 10,
    "start_time": "2022-02-08T20:56:59.690Z"
   },
   {
    "duration": 93,
    "start_time": "2022-02-08T20:58:58.388Z"
   },
   {
    "duration": 9,
    "start_time": "2022-02-08T20:58:58.483Z"
   },
   {
    "duration": 490,
    "start_time": "2022-02-08T21:00:16.656Z"
   },
   {
    "duration": 23181,
    "start_time": "2022-02-08T21:00:25.433Z"
   },
   {
    "duration": 10,
    "start_time": "2022-02-08T21:00:48.623Z"
   },
   {
    "duration": 22215,
    "start_time": "2022-02-08T21:01:31.177Z"
   },
   {
    "duration": 9,
    "start_time": "2022-02-08T21:01:53.395Z"
   },
   {
    "duration": 514,
    "start_time": "2022-02-08T21:02:33.632Z"
   },
   {
    "duration": 503,
    "start_time": "2022-02-08T21:02:56.247Z"
   },
   {
    "duration": 316,
    "start_time": "2022-02-08T21:04:04.607Z"
   },
   {
    "duration": 22160,
    "start_time": "2022-02-08T21:04:09.415Z"
   },
   {
    "duration": 9,
    "start_time": "2022-02-08T21:11:24.131Z"
   },
   {
    "duration": 8,
    "start_time": "2022-02-08T21:56:11.930Z"
   },
   {
    "duration": 25,
    "start_time": "2022-02-08T21:57:58.248Z"
   },
   {
    "duration": 9,
    "start_time": "2022-02-08T21:58:00.984Z"
   },
   {
    "duration": 51,
    "start_time": "2022-02-08T22:01:05.838Z"
   },
   {
    "duration": 7,
    "start_time": "2022-02-08T22:01:07.205Z"
   },
   {
    "duration": 293,
    "start_time": "2022-02-08T22:01:16.325Z"
   },
   {
    "duration": 296,
    "start_time": "2022-02-08T22:01:47.749Z"
   },
   {
    "duration": 300,
    "start_time": "2022-02-08T22:02:51.028Z"
   },
   {
    "duration": 389,
    "start_time": "2022-02-08T22:03:06.662Z"
   },
   {
    "duration": 6,
    "start_time": "2022-02-08T22:08:24.152Z"
   },
   {
    "duration": 309,
    "start_time": "2022-02-08T22:09:44.743Z"
   },
   {
    "duration": 132,
    "start_time": "2022-02-08T22:10:38.367Z"
   },
   {
    "duration": 88,
    "start_time": "2022-02-08T22:11:25.142Z"
   },
   {
    "duration": 102,
    "start_time": "2022-02-08T22:11:58.997Z"
   },
   {
    "duration": 90,
    "start_time": "2022-02-08T22:14:06.692Z"
   },
   {
    "duration": 93,
    "start_time": "2022-02-08T22:14:27.124Z"
   },
   {
    "duration": 309,
    "start_time": "2022-02-08T22:14:38.547Z"
   },
   {
    "duration": 315,
    "start_time": "2022-02-08T22:14:47.988Z"
   },
   {
    "duration": 303,
    "start_time": "2022-02-08T22:15:39.048Z"
   },
   {
    "duration": 306,
    "start_time": "2022-02-08T22:15:46.555Z"
   },
   {
    "duration": 298,
    "start_time": "2022-02-08T22:16:01.323Z"
   },
   {
    "duration": 678,
    "start_time": "2022-02-08T22:16:45.010Z"
   },
   {
    "duration": 503,
    "start_time": "2022-02-08T22:16:57.883Z"
   },
   {
    "duration": 429,
    "start_time": "2022-02-09T18:26:46.404Z"
   },
   {
    "duration": 98,
    "start_time": "2022-02-09T18:28:05.281Z"
   },
   {
    "duration": 5,
    "start_time": "2022-02-09T18:28:29.449Z"
   },
   {
    "duration": 340,
    "start_time": "2022-02-09T18:28:59.641Z"
   },
   {
    "duration": 756,
    "start_time": "2022-02-09T18:29:05.995Z"
   },
   {
    "duration": 63,
    "start_time": "2022-02-09T18:29:06.753Z"
   },
   {
    "duration": 32,
    "start_time": "2022-02-09T18:29:06.819Z"
   },
   {
    "duration": 15,
    "start_time": "2022-02-09T18:29:06.870Z"
   },
   {
    "duration": 5,
    "start_time": "2022-02-09T18:29:06.888Z"
   },
   {
    "duration": 14,
    "start_time": "2022-02-09T18:29:06.895Z"
   },
   {
    "duration": 14,
    "start_time": "2022-02-09T18:29:06.911Z"
   },
   {
    "duration": 5,
    "start_time": "2022-02-09T18:29:06.972Z"
   },
   {
    "duration": 6,
    "start_time": "2022-02-09T18:29:06.980Z"
   },
   {
    "duration": 16,
    "start_time": "2022-02-09T18:29:06.989Z"
   },
   {
    "duration": 12,
    "start_time": "2022-02-09T18:29:07.008Z"
   },
   {
    "duration": 52,
    "start_time": "2022-02-09T18:29:07.022Z"
   },
   {
    "duration": 5,
    "start_time": "2022-02-09T18:29:07.076Z"
   },
   {
    "duration": 13,
    "start_time": "2022-02-09T18:29:07.083Z"
   },
   {
    "duration": 9,
    "start_time": "2022-02-09T18:29:07.098Z"
   },
   {
    "duration": 11,
    "start_time": "2022-02-09T18:29:07.111Z"
   },
   {
    "duration": 49,
    "start_time": "2022-02-09T18:29:07.124Z"
   },
   {
    "duration": 5,
    "start_time": "2022-02-09T18:29:07.175Z"
   },
   {
    "duration": 7,
    "start_time": "2022-02-09T18:29:07.182Z"
   },
   {
    "duration": 9,
    "start_time": "2022-02-09T18:29:07.191Z"
   },
   {
    "duration": 9,
    "start_time": "2022-02-09T18:29:07.202Z"
   },
   {
    "duration": 68,
    "start_time": "2022-02-09T18:29:07.214Z"
   },
   {
    "duration": 7,
    "start_time": "2022-02-09T18:29:07.287Z"
   },
   {
    "duration": 12,
    "start_time": "2022-02-09T18:29:07.297Z"
   },
   {
    "duration": 60,
    "start_time": "2022-02-09T18:29:07.311Z"
   },
   {
    "duration": 8,
    "start_time": "2022-02-09T18:29:07.373Z"
   },
   {
    "duration": 11,
    "start_time": "2022-02-09T18:29:07.383Z"
   },
   {
    "duration": 11,
    "start_time": "2022-02-09T18:29:07.396Z"
   },
   {
    "duration": 10,
    "start_time": "2022-02-09T18:29:07.409Z"
   },
   {
    "duration": 54,
    "start_time": "2022-02-09T18:29:07.421Z"
   },
   {
    "duration": 11,
    "start_time": "2022-02-09T18:29:07.478Z"
   },
   {
    "duration": 33,
    "start_time": "2022-02-09T18:29:07.492Z"
   },
   {
    "duration": 72,
    "start_time": "2022-02-09T18:29:07.527Z"
   },
   {
    "duration": 27,
    "start_time": "2022-02-09T18:29:07.602Z"
   },
   {
    "duration": 45,
    "start_time": "2022-02-09T18:29:07.632Z"
   },
   {
    "duration": 4,
    "start_time": "2022-02-09T18:29:07.680Z"
   },
   {
    "duration": 317,
    "start_time": "2022-02-09T18:29:07.687Z"
   },
   {
    "duration": 262,
    "start_time": "2022-02-09T18:29:33.729Z"
   },
   {
    "duration": 92,
    "start_time": "2022-02-09T18:31:54.431Z"
   },
   {
    "duration": 102,
    "start_time": "2022-02-09T18:31:59.655Z"
   },
   {
    "duration": 127,
    "start_time": "2022-02-09T18:32:09.446Z"
   },
   {
    "duration": 104,
    "start_time": "2022-02-09T18:32:13.855Z"
   },
   {
    "duration": 91,
    "start_time": "2022-02-09T18:32:19.575Z"
   },
   {
    "duration": 96,
    "start_time": "2022-02-09T18:32:36.542Z"
   },
   {
    "duration": 3,
    "start_time": "2022-02-09T18:33:11.903Z"
   },
   {
    "duration": 4,
    "start_time": "2022-02-09T18:33:15.981Z"
   },
   {
    "duration": 275,
    "start_time": "2022-02-09T18:33:46.069Z"
   },
   {
    "duration": 3,
    "start_time": "2022-02-09T18:34:22.030Z"
   },
   {
    "duration": 4,
    "start_time": "2022-02-09T18:34:23.956Z"
   },
   {
    "duration": 258,
    "start_time": "2022-02-09T18:34:37.478Z"
   },
   {
    "duration": 280,
    "start_time": "2022-02-09T18:39:12.979Z"
   },
   {
    "duration": 276,
    "start_time": "2022-02-09T18:39:18.979Z"
   },
   {
    "duration": 16,
    "start_time": "2022-02-09T18:40:07.378Z"
   },
   {
    "duration": 336,
    "start_time": "2022-02-09T18:40:40.665Z"
   },
   {
    "duration": 6,
    "start_time": "2022-02-09T18:45:48.343Z"
   },
   {
    "duration": 12,
    "start_time": "2022-02-09T18:46:33.421Z"
   },
   {
    "duration": 264,
    "start_time": "2022-02-09T18:46:58.965Z"
   },
   {
    "duration": 7,
    "start_time": "2022-02-09T18:47:32.876Z"
   },
   {
    "duration": 7,
    "start_time": "2022-02-09T18:53:45.808Z"
   },
   {
    "duration": 260,
    "start_time": "2022-02-09T18:56:05.471Z"
   },
   {
    "duration": 4,
    "start_time": "2022-02-09T18:56:58.934Z"
   },
   {
    "duration": 6,
    "start_time": "2022-02-09T18:57:09.406Z"
   },
   {
    "duration": 9,
    "start_time": "2022-02-09T19:02:51.148Z"
   },
   {
    "duration": 12,
    "start_time": "2022-02-09T19:03:05.090Z"
   },
   {
    "duration": 13,
    "start_time": "2022-02-09T19:03:17.706Z"
   },
   {
    "duration": 283,
    "start_time": "2022-02-09T19:04:17.600Z"
   },
   {
    "duration": 37,
    "start_time": "2022-02-09T19:04:27.312Z"
   },
   {
    "duration": 36,
    "start_time": "2022-02-09T19:04:39.184Z"
   },
   {
    "duration": 8,
    "start_time": "2022-02-09T19:05:36.272Z"
   },
   {
    "duration": 13,
    "start_time": "2022-02-09T19:08:01.879Z"
   },
   {
    "duration": 14,
    "start_time": "2022-02-09T19:08:03.775Z"
   },
   {
    "duration": 28,
    "start_time": "2022-02-09T19:16:15.712Z"
   },
   {
    "duration": 257,
    "start_time": "2022-02-09T19:23:13.396Z"
   },
   {
    "duration": 266,
    "start_time": "2022-02-09T19:23:36.100Z"
   },
   {
    "duration": 302,
    "start_time": "2022-02-09T19:23:53.308Z"
   },
   {
    "duration": 289,
    "start_time": "2022-02-09T19:24:05.220Z"
   },
   {
    "duration": 32,
    "start_time": "2022-02-09T19:24:18.020Z"
   },
   {
    "duration": 28,
    "start_time": "2022-02-09T19:24:22.274Z"
   },
   {
    "duration": 42,
    "start_time": "2022-02-09T19:24:41.450Z"
   },
   {
    "duration": 6541,
    "start_time": "2022-02-09T19:35:44.907Z"
   },
   {
    "duration": 7192,
    "start_time": "2022-02-09T19:36:24.412Z"
   },
   {
    "duration": 311,
    "start_time": "2022-02-09T19:38:12.666Z"
   },
   {
    "duration": 6830,
    "start_time": "2022-02-09T19:53:26.540Z"
   },
   {
    "duration": 7227,
    "start_time": "2022-02-09T19:53:51.467Z"
   },
   {
    "duration": 6852,
    "start_time": "2022-02-09T19:54:39.211Z"
   },
   {
    "duration": 267,
    "start_time": "2022-02-09T19:56:02.282Z"
   },
   {
    "duration": 4,
    "start_time": "2022-02-09T19:56:35.868Z"
   },
   {
    "duration": 71,
    "start_time": "2022-02-09T19:56:35.875Z"
   },
   {
    "duration": 34,
    "start_time": "2022-02-09T19:56:35.949Z"
   },
   {
    "duration": 22,
    "start_time": "2022-02-09T19:56:35.986Z"
   },
   {
    "duration": 28,
    "start_time": "2022-02-09T19:56:36.011Z"
   },
   {
    "duration": 34,
    "start_time": "2022-02-09T19:56:36.042Z"
   },
   {
    "duration": 17,
    "start_time": "2022-02-09T19:56:36.080Z"
   },
   {
    "duration": 6,
    "start_time": "2022-02-09T19:56:36.099Z"
   },
   {
    "duration": 14,
    "start_time": "2022-02-09T19:56:36.107Z"
   },
   {
    "duration": 52,
    "start_time": "2022-02-09T19:56:36.124Z"
   },
   {
    "duration": 18,
    "start_time": "2022-02-09T19:56:36.178Z"
   },
   {
    "duration": 17,
    "start_time": "2022-02-09T19:56:36.199Z"
   },
   {
    "duration": 10,
    "start_time": "2022-02-09T19:56:36.218Z"
   },
   {
    "duration": 15,
    "start_time": "2022-02-09T19:56:36.230Z"
   },
   {
    "duration": 24,
    "start_time": "2022-02-09T19:56:36.247Z"
   },
   {
    "duration": 14,
    "start_time": "2022-02-09T19:56:36.274Z"
   },
   {
    "duration": 13,
    "start_time": "2022-02-09T19:56:36.290Z"
   },
   {
    "duration": 17,
    "start_time": "2022-02-09T19:56:36.305Z"
   },
   {
    "duration": 6,
    "start_time": "2022-02-09T19:56:36.329Z"
   },
   {
    "duration": 35,
    "start_time": "2022-02-09T19:56:36.340Z"
   },
   {
    "duration": 10,
    "start_time": "2022-02-09T19:56:36.378Z"
   },
   {
    "duration": 32,
    "start_time": "2022-02-09T19:56:36.390Z"
   },
   {
    "duration": 26,
    "start_time": "2022-02-09T19:56:36.424Z"
   },
   {
    "duration": 23,
    "start_time": "2022-02-09T19:56:36.452Z"
   },
   {
    "duration": 35,
    "start_time": "2022-02-09T19:56:36.477Z"
   },
   {
    "duration": 27,
    "start_time": "2022-02-09T19:56:36.514Z"
   },
   {
    "duration": 16,
    "start_time": "2022-02-09T19:56:36.543Z"
   },
   {
    "duration": 19,
    "start_time": "2022-02-09T19:56:36.561Z"
   },
   {
    "duration": 23,
    "start_time": "2022-02-09T19:56:36.582Z"
   },
   {
    "duration": 9,
    "start_time": "2022-02-09T19:56:36.607Z"
   },
   {
    "duration": 18,
    "start_time": "2022-02-09T19:56:36.619Z"
   },
   {
    "duration": 17,
    "start_time": "2022-02-09T19:56:36.639Z"
   },
   {
    "duration": 21,
    "start_time": "2022-02-09T19:56:36.658Z"
   },
   {
    "duration": 47,
    "start_time": "2022-02-09T19:56:36.681Z"
   },
   {
    "duration": 30,
    "start_time": "2022-02-09T19:56:36.730Z"
   },
   {
    "duration": 30,
    "start_time": "2022-02-09T19:56:36.763Z"
   },
   {
    "duration": 9,
    "start_time": "2022-02-09T19:56:36.795Z"
   },
   {
    "duration": 32,
    "start_time": "2022-02-09T19:56:36.807Z"
   },
   {
    "duration": 37,
    "start_time": "2022-02-09T19:56:36.842Z"
   },
   {
    "duration": 51,
    "start_time": "2022-02-09T19:56:36.882Z"
   },
   {
    "duration": 18,
    "start_time": "2022-02-09T19:56:36.936Z"
   },
   {
    "duration": 34,
    "start_time": "2022-02-09T19:56:36.956Z"
   },
   {
    "duration": 6870,
    "start_time": "2022-02-09T19:56:36.993Z"
   },
   {
    "duration": 7500,
    "start_time": "2022-02-09T20:00:19.976Z"
   },
   {
    "duration": 135,
    "start_time": "2022-02-09T20:16:18.252Z"
   },
   {
    "duration": 6946,
    "start_time": "2022-02-09T20:16:22.629Z"
   },
   {
    "duration": 4,
    "start_time": "2022-02-09T20:16:44.920Z"
   },
   {
    "duration": 63,
    "start_time": "2022-02-09T20:16:44.927Z"
   },
   {
    "duration": 20,
    "start_time": "2022-02-09T20:16:44.993Z"
   },
   {
    "duration": 57,
    "start_time": "2022-02-09T20:16:45.017Z"
   },
   {
    "duration": 6,
    "start_time": "2022-02-09T20:16:45.076Z"
   },
   {
    "duration": 22,
    "start_time": "2022-02-09T20:16:45.085Z"
   },
   {
    "duration": 26,
    "start_time": "2022-02-09T20:16:45.109Z"
   },
   {
    "duration": 36,
    "start_time": "2022-02-09T20:16:45.138Z"
   },
   {
    "duration": 32,
    "start_time": "2022-02-09T20:16:45.180Z"
   },
   {
    "duration": 38,
    "start_time": "2022-02-09T20:16:45.215Z"
   },
   {
    "duration": 20,
    "start_time": "2022-02-09T20:16:45.256Z"
   },
   {
    "duration": 17,
    "start_time": "2022-02-09T20:16:45.279Z"
   },
   {
    "duration": 15,
    "start_time": "2022-02-09T20:16:45.299Z"
   },
   {
    "duration": 34,
    "start_time": "2022-02-09T20:16:45.316Z"
   },
   {
    "duration": 26,
    "start_time": "2022-02-09T20:16:45.352Z"
   },
   {
    "duration": 28,
    "start_time": "2022-02-09T20:16:45.381Z"
   },
   {
    "duration": 9,
    "start_time": "2022-02-09T20:16:45.412Z"
   },
   {
    "duration": 22,
    "start_time": "2022-02-09T20:16:45.423Z"
   },
   {
    "duration": 24,
    "start_time": "2022-02-09T20:16:45.448Z"
   },
   {
    "duration": 23,
    "start_time": "2022-02-09T20:16:45.475Z"
   },
   {
    "duration": 20,
    "start_time": "2022-02-09T20:16:45.500Z"
   },
   {
    "duration": 38,
    "start_time": "2022-02-09T20:16:45.522Z"
   },
   {
    "duration": 29,
    "start_time": "2022-02-09T20:16:45.562Z"
   },
   {
    "duration": 35,
    "start_time": "2022-02-09T20:16:45.594Z"
   },
   {
    "duration": 43,
    "start_time": "2022-02-09T20:16:45.632Z"
   },
   {
    "duration": 18,
    "start_time": "2022-02-09T20:16:45.678Z"
   },
   {
    "duration": 23,
    "start_time": "2022-02-09T20:16:45.703Z"
   },
   {
    "duration": 29,
    "start_time": "2022-02-09T20:16:45.731Z"
   },
   {
    "duration": 11,
    "start_time": "2022-02-09T20:16:45.762Z"
   },
   {
    "duration": 8,
    "start_time": "2022-02-09T20:16:45.775Z"
   },
   {
    "duration": 11,
    "start_time": "2022-02-09T20:16:45.785Z"
   },
   {
    "duration": 21,
    "start_time": "2022-02-09T20:16:45.798Z"
   },
   {
    "duration": 23,
    "start_time": "2022-02-09T20:16:45.821Z"
   },
   {
    "duration": 39,
    "start_time": "2022-02-09T20:16:45.847Z"
   },
   {
    "duration": 30,
    "start_time": "2022-02-09T20:16:45.888Z"
   },
   {
    "duration": 49,
    "start_time": "2022-02-09T20:16:45.920Z"
   },
   {
    "duration": 10,
    "start_time": "2022-02-09T20:16:45.972Z"
   },
   {
    "duration": 24,
    "start_time": "2022-02-09T20:16:45.984Z"
   },
   {
    "duration": 16,
    "start_time": "2022-02-09T20:16:46.010Z"
   },
   {
    "duration": 58,
    "start_time": "2022-02-09T20:16:46.028Z"
   },
   {
    "duration": 15,
    "start_time": "2022-02-09T20:16:46.089Z"
   },
   {
    "duration": 16,
    "start_time": "2022-02-09T20:16:46.107Z"
   },
   {
    "duration": 11252,
    "start_time": "2022-02-09T20:16:46.126Z"
   },
   {
    "duration": 7630,
    "start_time": "2022-02-09T20:17:59.178Z"
   },
   {
    "duration": 6609,
    "start_time": "2022-02-09T20:19:38.778Z"
   },
   {
    "duration": 5,
    "start_time": "2022-02-09T20:19:52.592Z"
   },
   {
    "duration": 5,
    "start_time": "2022-02-09T20:19:55.488Z"
   },
   {
    "duration": 6,
    "start_time": "2022-02-09T20:19:57.160Z"
   },
   {
    "duration": 323,
    "start_time": "2022-02-09T20:26:27.868Z"
   },
   {
    "duration": 284,
    "start_time": "2022-02-09T20:27:17.972Z"
   },
   {
    "duration": 1052,
    "start_time": "2022-02-09T20:29:37.610Z"
   },
   {
    "duration": 19,
    "start_time": "2022-02-09T20:30:17.114Z"
   },
   {
    "duration": 16,
    "start_time": "2022-02-09T20:30:24.658Z"
   },
   {
    "duration": 6,
    "start_time": "2022-02-09T20:31:44.409Z"
   },
   {
    "duration": 7077,
    "start_time": "2022-02-09T20:34:25.160Z"
   },
   {
    "duration": 1071,
    "start_time": "2022-02-09T20:35:22.799Z"
   },
   {
    "duration": 1161,
    "start_time": "2022-02-09T20:43:30.594Z"
   },
   {
    "duration": 1005,
    "start_time": "2022-02-09T20:50:31.948Z"
   },
   {
    "duration": 22870,
    "start_time": "2022-02-09T20:54:36.640Z"
   },
   {
    "duration": 22804,
    "start_time": "2022-02-09T20:56:08.025Z"
   },
   {
    "duration": 87,
    "start_time": "2022-02-09T21:00:42.148Z"
   },
   {
    "duration": 106,
    "start_time": "2022-02-09T21:00:56.029Z"
   },
   {
    "duration": 5,
    "start_time": "2022-02-09T21:01:16.437Z"
   },
   {
    "duration": 3,
    "start_time": "2022-02-09T21:01:23.444Z"
   },
   {
    "duration": 109,
    "start_time": "2022-02-09T21:02:26.531Z"
   },
   {
    "duration": 504,
    "start_time": "2022-02-09T21:04:37.555Z"
   },
   {
    "duration": 128,
    "start_time": "2022-02-09T21:04:53.098Z"
   },
   {
    "duration": 1094,
    "start_time": "2022-02-09T21:07:44.480Z"
   },
   {
    "duration": 11,
    "start_time": "2022-02-09T21:13:17.101Z"
   },
   {
    "duration": 7,
    "start_time": "2022-02-09T21:13:36.412Z"
   },
   {
    "duration": 286,
    "start_time": "2022-02-09T21:14:06.068Z"
   },
   {
    "duration": 6,
    "start_time": "2022-02-09T21:14:14.068Z"
   },
   {
    "duration": 1162,
    "start_time": "2022-02-09T21:16:54.002Z"
   },
   {
    "duration": 11,
    "start_time": "2022-02-09T21:24:27.804Z"
   },
   {
    "duration": 11,
    "start_time": "2022-02-09T21:25:07.811Z"
   },
   {
    "duration": 10,
    "start_time": "2022-02-09T21:25:25.717Z"
   },
   {
    "duration": 9,
    "start_time": "2022-02-09T21:25:44.068Z"
   },
   {
    "duration": 11,
    "start_time": "2022-02-09T21:25:51.645Z"
   },
   {
    "duration": 16,
    "start_time": "2022-02-09T21:29:24.177Z"
   },
   {
    "duration": 23,
    "start_time": "2022-02-09T21:29:29.970Z"
   },
   {
    "duration": 22,
    "start_time": "2022-02-09T21:29:41.226Z"
   },
   {
    "duration": 37,
    "start_time": "2022-02-09T21:29:59.249Z"
   },
   {
    "duration": 8,
    "start_time": "2022-02-09T21:30:37.925Z"
   },
   {
    "duration": 6,
    "start_time": "2022-02-09T21:42:02.907Z"
   },
   {
    "duration": 31,
    "start_time": "2022-02-09T21:44:15.767Z"
   },
   {
    "duration": 20,
    "start_time": "2022-02-09T21:44:28.976Z"
   },
   {
    "duration": 30,
    "start_time": "2022-02-09T21:45:33.367Z"
   },
   {
    "duration": 7,
    "start_time": "2022-02-09T21:45:40.967Z"
   },
   {
    "duration": 4,
    "start_time": "2022-02-09T21:50:12.597Z"
   },
   {
    "duration": 265,
    "start_time": "2022-02-09T21:51:15.899Z"
   },
   {
    "duration": 84,
    "start_time": "2022-02-09T21:52:03.370Z"
   },
   {
    "duration": 5,
    "start_time": "2022-02-09T21:52:16.730Z"
   },
   {
    "duration": 252,
    "start_time": "2022-02-09T21:52:23.987Z"
   },
   {
    "duration": 12,
    "start_time": "2022-02-09T21:53:09.466Z"
   },
   {
    "duration": 12,
    "start_time": "2022-02-09T21:53:14.906Z"
   },
   {
    "duration": 19,
    "start_time": "2022-02-09T21:53:28.178Z"
   },
   {
    "duration": 4,
    "start_time": "2022-02-09T22:03:57.760Z"
   },
   {
    "duration": 11,
    "start_time": "2022-02-09T22:04:06.839Z"
   },
   {
    "duration": 19,
    "start_time": "2022-02-09T22:04:08.912Z"
   },
   {
    "duration": 4,
    "start_time": "2022-02-09T22:04:50.327Z"
   },
   {
    "duration": 17,
    "start_time": "2022-02-09T22:04:50.334Z"
   },
   {
    "duration": 22,
    "start_time": "2022-02-09T22:05:16.839Z"
   },
   {
    "duration": 29,
    "start_time": "2022-02-09T22:05:52.447Z"
   },
   {
    "duration": 22,
    "start_time": "2022-02-09T22:06:07.334Z"
   },
   {
    "duration": 18,
    "start_time": "2022-02-09T22:33:57.259Z"
   },
   {
    "duration": 26,
    "start_time": "2022-02-09T22:35:03.035Z"
   },
   {
    "duration": 105,
    "start_time": "2022-02-09T22:44:03.971Z"
   },
   {
    "duration": 82,
    "start_time": "2022-02-09T22:44:54.674Z"
   },
   {
    "duration": 105,
    "start_time": "2022-02-09T22:45:26.642Z"
   },
   {
    "duration": 15,
    "start_time": "2022-02-09T22:45:46.562Z"
   },
   {
    "duration": 18,
    "start_time": "2022-02-09T22:46:07.730Z"
   },
   {
    "duration": 6,
    "start_time": "2022-02-09T22:57:51.074Z"
   },
   {
    "duration": 259,
    "start_time": "2022-02-09T22:57:52.410Z"
   },
   {
    "duration": 6,
    "start_time": "2022-02-09T22:59:00.609Z"
   },
   {
    "duration": 6,
    "start_time": "2022-02-09T22:59:21.577Z"
   },
   {
    "duration": 7,
    "start_time": "2022-02-09T22:59:23.337Z"
   },
   {
    "duration": 113,
    "start_time": "2022-02-09T22:59:32.240Z"
   },
   {
    "duration": 8,
    "start_time": "2022-02-09T23:00:43.880Z"
   },
   {
    "duration": 280,
    "start_time": "2022-02-09T23:01:29.152Z"
   },
   {
    "duration": 8,
    "start_time": "2022-02-09T23:01:36.944Z"
   },
   {
    "duration": 13,
    "start_time": "2022-02-09T23:11:16.906Z"
   },
   {
    "duration": 11,
    "start_time": "2022-02-09T23:11:24.065Z"
   },
   {
    "duration": 7,
    "start_time": "2022-02-09T23:12:32.873Z"
   },
   {
    "duration": 6,
    "start_time": "2022-02-09T23:12:38.369Z"
   },
   {
    "duration": 17,
    "start_time": "2022-02-09T23:20:34.740Z"
   },
   {
    "duration": 14,
    "start_time": "2022-02-09T23:20:40.756Z"
   },
   {
    "duration": 16,
    "start_time": "2022-02-09T23:22:49.355Z"
   },
   {
    "duration": 13,
    "start_time": "2022-02-09T23:22:50.170Z"
   },
   {
    "duration": 266,
    "start_time": "2022-02-09T23:24:54.402Z"
   },
   {
    "duration": 93,
    "start_time": "2022-02-09T23:25:05.025Z"
   },
   {
    "duration": 18,
    "start_time": "2022-02-09T23:25:24.674Z"
   },
   {
    "duration": 7,
    "start_time": "2022-02-09T23:25:25.785Z"
   },
   {
    "duration": 14,
    "start_time": "2022-02-09T23:28:03.896Z"
   },
   {
    "duration": 296,
    "start_time": "2022-02-09T23:32:44.013Z"
   },
   {
    "duration": 365,
    "start_time": "2022-02-09T23:33:34.019Z"
   },
   {
    "duration": 256,
    "start_time": "2022-02-09T23:34:03.524Z"
   },
   {
    "duration": 909,
    "start_time": "2022-02-09T23:34:08.782Z"
   },
   {
    "duration": 246,
    "start_time": "2022-02-09T23:34:09.693Z"
   },
   {
    "duration": 34,
    "start_time": "2022-02-09T23:34:09.942Z"
   },
   {
    "duration": 16,
    "start_time": "2022-02-09T23:34:09.979Z"
   },
   {
    "duration": 5,
    "start_time": "2022-02-09T23:34:09.998Z"
   },
   {
    "duration": 14,
    "start_time": "2022-02-09T23:34:10.006Z"
   },
   {
    "duration": 54,
    "start_time": "2022-02-09T23:34:10.023Z"
   },
   {
    "duration": 7,
    "start_time": "2022-02-09T23:34:10.082Z"
   },
   {
    "duration": 7,
    "start_time": "2022-02-09T23:34:10.094Z"
   },
   {
    "duration": 19,
    "start_time": "2022-02-09T23:34:10.104Z"
   },
   {
    "duration": 53,
    "start_time": "2022-02-09T23:34:10.125Z"
   },
   {
    "duration": 12,
    "start_time": "2022-02-09T23:34:10.182Z"
   },
   {
    "duration": 12,
    "start_time": "2022-02-09T23:34:10.197Z"
   },
   {
    "duration": 14,
    "start_time": "2022-02-09T23:34:10.211Z"
   },
   {
    "duration": 45,
    "start_time": "2022-02-09T23:34:10.228Z"
   },
   {
    "duration": 15,
    "start_time": "2022-02-09T23:34:10.276Z"
   },
   {
    "duration": 8,
    "start_time": "2022-02-09T23:34:10.294Z"
   },
   {
    "duration": 6,
    "start_time": "2022-02-09T23:34:10.305Z"
   },
   {
    "duration": 58,
    "start_time": "2022-02-09T23:34:10.314Z"
   },
   {
    "duration": 14,
    "start_time": "2022-02-09T23:34:10.375Z"
   },
   {
    "duration": 11,
    "start_time": "2022-02-09T23:34:10.391Z"
   },
   {
    "duration": 27,
    "start_time": "2022-02-09T23:34:10.404Z"
   },
   {
    "duration": 8,
    "start_time": "2022-02-09T23:34:10.474Z"
   },
   {
    "duration": 10,
    "start_time": "2022-02-09T23:34:10.485Z"
   },
   {
    "duration": 26,
    "start_time": "2022-02-09T23:34:10.497Z"
   },
   {
    "duration": 49,
    "start_time": "2022-02-09T23:34:10.525Z"
   },
   {
    "duration": 15,
    "start_time": "2022-02-09T23:34:10.577Z"
   },
   {
    "duration": 14,
    "start_time": "2022-02-09T23:34:10.594Z"
   },
   {
    "duration": 9,
    "start_time": "2022-02-09T23:34:10.611Z"
   },
   {
    "duration": 7,
    "start_time": "2022-02-09T23:34:10.623Z"
   },
   {
    "duration": 40,
    "start_time": "2022-02-09T23:34:10.632Z"
   },
   {
    "duration": 16,
    "start_time": "2022-02-09T23:34:10.675Z"
   },
   {
    "duration": 17,
    "start_time": "2022-02-09T23:34:10.694Z"
   },
   {
    "duration": 56,
    "start_time": "2022-02-09T23:34:10.713Z"
   },
   {
    "duration": 31,
    "start_time": "2022-02-09T23:34:10.772Z"
   },
   {
    "duration": 28,
    "start_time": "2022-02-09T23:34:10.805Z"
   },
   {
    "duration": 37,
    "start_time": "2022-02-09T23:34:10.835Z"
   },
   {
    "duration": 13,
    "start_time": "2022-02-09T23:34:10.875Z"
   },
   {
    "duration": 18,
    "start_time": "2022-02-09T23:34:10.891Z"
   },
   {
    "duration": 57,
    "start_time": "2022-02-09T23:34:10.912Z"
   },
   {
    "duration": 5,
    "start_time": "2022-02-09T23:34:10.972Z"
   },
   {
    "duration": 324,
    "start_time": "2022-02-09T23:34:10.980Z"
   },
   {
    "duration": -105,
    "start_time": "2022-02-09T23:34:11.411Z"
   },
   {
    "duration": -111,
    "start_time": "2022-02-09T23:34:11.419Z"
   },
   {
    "duration": -120,
    "start_time": "2022-02-09T23:34:11.429Z"
   },
   {
    "duration": -127,
    "start_time": "2022-02-09T23:34:11.438Z"
   },
   {
    "duration": -137,
    "start_time": "2022-02-09T23:34:11.449Z"
   },
   {
    "duration": -148,
    "start_time": "2022-02-09T23:34:11.461Z"
   },
   {
    "duration": -153,
    "start_time": "2022-02-09T23:34:11.468Z"
   },
   {
    "duration": -163,
    "start_time": "2022-02-09T23:34:11.479Z"
   },
   {
    "duration": -169,
    "start_time": "2022-02-09T23:34:11.487Z"
   },
   {
    "duration": -177,
    "start_time": "2022-02-09T23:34:11.497Z"
   },
   {
    "duration": -187,
    "start_time": "2022-02-09T23:34:11.508Z"
   },
   {
    "duration": -193,
    "start_time": "2022-02-09T23:34:11.516Z"
   },
   {
    "duration": -203,
    "start_time": "2022-02-09T23:34:11.527Z"
   },
   {
    "duration": -209,
    "start_time": "2022-02-09T23:34:11.535Z"
   },
   {
    "duration": 263,
    "start_time": "2022-02-09T23:34:28.268Z"
   },
   {
    "duration": 271,
    "start_time": "2022-02-09T23:34:31.012Z"
   },
   {
    "duration": 24,
    "start_time": "2022-02-09T23:34:45.971Z"
   },
   {
    "duration": 249,
    "start_time": "2022-02-09T23:35:40.266Z"
   },
   {
    "duration": 4,
    "start_time": "2022-02-09T23:35:44.525Z"
   },
   {
    "duration": 75,
    "start_time": "2022-02-09T23:35:44.531Z"
   },
   {
    "duration": 19,
    "start_time": "2022-02-09T23:35:44.609Z"
   },
   {
    "duration": 40,
    "start_time": "2022-02-09T23:35:44.631Z"
   },
   {
    "duration": 5,
    "start_time": "2022-02-09T23:35:44.673Z"
   },
   {
    "duration": 13,
    "start_time": "2022-02-09T23:35:44.681Z"
   },
   {
    "duration": 15,
    "start_time": "2022-02-09T23:35:44.698Z"
   },
   {
    "duration": 55,
    "start_time": "2022-02-09T23:35:44.716Z"
   },
   {
    "duration": 6,
    "start_time": "2022-02-09T23:35:44.774Z"
   },
   {
    "duration": 31,
    "start_time": "2022-02-09T23:35:44.782Z"
   },
   {
    "duration": 63,
    "start_time": "2022-02-09T23:35:44.817Z"
   },
   {
    "duration": 11,
    "start_time": "2022-02-09T23:35:44.884Z"
   },
   {
    "duration": 7,
    "start_time": "2022-02-09T23:35:44.898Z"
   },
   {
    "duration": 17,
    "start_time": "2022-02-09T23:35:44.908Z"
   },
   {
    "duration": 49,
    "start_time": "2022-02-09T23:35:44.928Z"
   },
   {
    "duration": 11,
    "start_time": "2022-02-09T23:35:44.979Z"
   },
   {
    "duration": 10,
    "start_time": "2022-02-09T23:35:44.993Z"
   },
   {
    "duration": 29,
    "start_time": "2022-02-09T23:35:45.006Z"
   },
   {
    "duration": 31,
    "start_time": "2022-02-09T23:35:45.043Z"
   },
   {
    "duration": 22,
    "start_time": "2022-02-09T23:35:45.080Z"
   },
   {
    "duration": 23,
    "start_time": "2022-02-09T23:35:45.105Z"
   },
   {
    "duration": 44,
    "start_time": "2022-02-09T23:35:45.131Z"
   },
   {
    "duration": 10,
    "start_time": "2022-02-09T23:35:45.178Z"
   },
   {
    "duration": 11,
    "start_time": "2022-02-09T23:35:45.190Z"
   },
   {
    "duration": 68,
    "start_time": "2022-02-09T23:35:45.204Z"
   },
   {
    "duration": 11,
    "start_time": "2022-02-09T23:35:45.275Z"
   },
   {
    "duration": 14,
    "start_time": "2022-02-09T23:35:45.290Z"
   },
   {
    "duration": 17,
    "start_time": "2022-02-09T23:35:45.308Z"
   },
   {
    "duration": 45,
    "start_time": "2022-02-09T23:35:45.328Z"
   },
   {
    "duration": 9,
    "start_time": "2022-02-09T23:35:45.375Z"
   },
   {
    "duration": 6,
    "start_time": "2022-02-09T23:35:45.387Z"
   },
   {
    "duration": 7,
    "start_time": "2022-02-09T23:35:45.396Z"
   },
   {
    "duration": 14,
    "start_time": "2022-02-09T23:35:45.405Z"
   },
   {
    "duration": 32,
    "start_time": "2022-02-09T23:35:45.470Z"
   },
   {
    "duration": 29,
    "start_time": "2022-02-09T23:35:45.505Z"
   },
   {
    "duration": 55,
    "start_time": "2022-02-09T23:35:45.537Z"
   },
   {
    "duration": 9,
    "start_time": "2022-02-09T23:35:45.595Z"
   },
   {
    "duration": 12,
    "start_time": "2022-02-09T23:35:45.607Z"
   },
   {
    "duration": 50,
    "start_time": "2022-02-09T23:35:45.621Z"
   },
   {
    "duration": 27,
    "start_time": "2022-02-09T23:35:45.674Z"
   },
   {
    "duration": 8,
    "start_time": "2022-02-09T23:35:45.704Z"
   },
   {
    "duration": 260,
    "start_time": "2022-02-09T23:35:45.715Z"
   },
   {
    "duration": -73,
    "start_time": "2022-02-09T23:35:46.051Z"
   },
   {
    "duration": -83,
    "start_time": "2022-02-09T23:35:46.062Z"
   },
   {
    "duration": -86,
    "start_time": "2022-02-09T23:35:46.067Z"
   },
   {
    "duration": -94,
    "start_time": "2022-02-09T23:35:46.076Z"
   },
   {
    "duration": -110,
    "start_time": "2022-02-09T23:35:46.094Z"
   },
   {
    "duration": -115,
    "start_time": "2022-02-09T23:35:46.100Z"
   },
   {
    "duration": -121,
    "start_time": "2022-02-09T23:35:46.108Z"
   },
   {
    "duration": -125,
    "start_time": "2022-02-09T23:35:46.114Z"
   },
   {
    "duration": -129,
    "start_time": "2022-02-09T23:35:46.119Z"
   },
   {
    "duration": -136,
    "start_time": "2022-02-09T23:35:46.128Z"
   },
   {
    "duration": -141,
    "start_time": "2022-02-09T23:35:46.134Z"
   },
   {
    "duration": -148,
    "start_time": "2022-02-09T23:35:46.143Z"
   },
   {
    "duration": -152,
    "start_time": "2022-02-09T23:35:46.148Z"
   },
   {
    "duration": -155,
    "start_time": "2022-02-09T23:35:46.153Z"
   },
   {
    "duration": 1341,
    "start_time": "2022-02-09T23:36:04.216Z"
   },
   {
    "duration": -72,
    "start_time": "2022-02-09T23:36:05.632Z"
   },
   {
    "duration": 274,
    "start_time": "2022-02-09T23:36:23.545Z"
   },
   {
    "duration": 4,
    "start_time": "2022-02-09T23:36:30.883Z"
   },
   {
    "duration": 80,
    "start_time": "2022-02-09T23:36:30.890Z"
   },
   {
    "duration": 21,
    "start_time": "2022-02-09T23:36:30.973Z"
   },
   {
    "duration": 20,
    "start_time": "2022-02-09T23:36:30.998Z"
   },
   {
    "duration": 12,
    "start_time": "2022-02-09T23:36:31.021Z"
   },
   {
    "duration": 35,
    "start_time": "2022-02-09T23:36:31.068Z"
   },
   {
    "duration": 23,
    "start_time": "2022-02-09T23:36:31.106Z"
   },
   {
    "duration": 37,
    "start_time": "2022-02-09T23:36:31.135Z"
   },
   {
    "duration": 7,
    "start_time": "2022-02-09T23:36:31.177Z"
   },
   {
    "duration": 33,
    "start_time": "2022-02-09T23:36:31.187Z"
   },
   {
    "duration": 30,
    "start_time": "2022-02-09T23:36:31.223Z"
   },
   {
    "duration": 19,
    "start_time": "2022-02-09T23:36:31.256Z"
   },
   {
    "duration": 13,
    "start_time": "2022-02-09T23:36:31.278Z"
   },
   {
    "duration": 20,
    "start_time": "2022-02-09T23:36:31.293Z"
   },
   {
    "duration": 14,
    "start_time": "2022-02-09T23:36:31.315Z"
   },
   {
    "duration": 38,
    "start_time": "2022-02-09T23:36:31.332Z"
   },
   {
    "duration": 8,
    "start_time": "2022-02-09T23:36:31.372Z"
   },
   {
    "duration": 18,
    "start_time": "2022-02-09T23:36:31.384Z"
   },
   {
    "duration": 9,
    "start_time": "2022-02-09T23:36:31.407Z"
   },
   {
    "duration": 11,
    "start_time": "2022-02-09T23:36:31.419Z"
   },
   {
    "duration": 43,
    "start_time": "2022-02-09T23:36:31.432Z"
   },
   {
    "duration": 31,
    "start_time": "2022-02-09T23:36:31.478Z"
   },
   {
    "duration": 9,
    "start_time": "2022-02-09T23:36:31.516Z"
   },
   {
    "duration": 42,
    "start_time": "2022-02-09T23:36:31.529Z"
   },
   {
    "duration": 32,
    "start_time": "2022-02-09T23:36:31.573Z"
   },
   {
    "duration": 9,
    "start_time": "2022-02-09T23:36:31.607Z"
   },
   {
    "duration": 15,
    "start_time": "2022-02-09T23:36:31.618Z"
   },
   {
    "duration": 41,
    "start_time": "2022-02-09T23:36:31.635Z"
   },
   {
    "duration": 19,
    "start_time": "2022-02-09T23:36:31.680Z"
   },
   {
    "duration": 21,
    "start_time": "2022-02-09T23:36:31.702Z"
   },
   {
    "duration": 14,
    "start_time": "2022-02-09T23:36:31.726Z"
   },
   {
    "duration": 30,
    "start_time": "2022-02-09T23:36:31.743Z"
   },
   {
    "duration": 26,
    "start_time": "2022-02-09T23:36:31.776Z"
   },
   {
    "duration": 75,
    "start_time": "2022-02-09T23:36:31.804Z"
   },
   {
    "duration": 40,
    "start_time": "2022-02-09T23:36:31.882Z"
   },
   {
    "duration": 47,
    "start_time": "2022-02-09T23:36:31.925Z"
   },
   {
    "duration": 10,
    "start_time": "2022-02-09T23:36:31.975Z"
   },
   {
    "duration": 23,
    "start_time": "2022-02-09T23:36:31.988Z"
   },
   {
    "duration": 27,
    "start_time": "2022-02-09T23:36:32.013Z"
   },
   {
    "duration": 52,
    "start_time": "2022-02-09T23:36:32.042Z"
   },
   {
    "duration": 26,
    "start_time": "2022-02-09T23:36:32.098Z"
   },
   {
    "duration": 294,
    "start_time": "2022-02-09T23:36:32.127Z"
   },
   {
    "duration": -74,
    "start_time": "2022-02-09T23:36:32.498Z"
   },
   {
    "duration": -87,
    "start_time": "2022-02-09T23:36:32.513Z"
   },
   {
    "duration": -91,
    "start_time": "2022-02-09T23:36:32.519Z"
   },
   {
    "duration": -98,
    "start_time": "2022-02-09T23:36:32.528Z"
   },
   {
    "duration": -101,
    "start_time": "2022-02-09T23:36:32.533Z"
   },
   {
    "duration": -108,
    "start_time": "2022-02-09T23:36:32.542Z"
   },
   {
    "duration": -111,
    "start_time": "2022-02-09T23:36:32.547Z"
   },
   {
    "duration": -112,
    "start_time": "2022-02-09T23:36:32.551Z"
   },
   {
    "duration": -120,
    "start_time": "2022-02-09T23:36:32.561Z"
   },
   {
    "duration": -122,
    "start_time": "2022-02-09T23:36:32.565Z"
   },
   {
    "duration": -128,
    "start_time": "2022-02-09T23:36:32.573Z"
   },
   {
    "duration": -132,
    "start_time": "2022-02-09T23:36:32.578Z"
   },
   {
    "duration": -135,
    "start_time": "2022-02-09T23:36:32.583Z"
   },
   {
    "duration": -143,
    "start_time": "2022-02-09T23:36:32.592Z"
   },
   {
    "duration": 4,
    "start_time": "2022-02-09T23:36:39.623Z"
   },
   {
    "duration": 62,
    "start_time": "2022-02-09T23:36:39.629Z"
   },
   {
    "duration": 20,
    "start_time": "2022-02-09T23:36:39.694Z"
   },
   {
    "duration": 25,
    "start_time": "2022-02-09T23:36:39.717Z"
   },
   {
    "duration": 27,
    "start_time": "2022-02-09T23:36:39.745Z"
   },
   {
    "duration": 25,
    "start_time": "2022-02-09T23:36:39.775Z"
   },
   {
    "duration": 18,
    "start_time": "2022-02-09T23:36:39.803Z"
   },
   {
    "duration": 12,
    "start_time": "2022-02-09T23:36:39.824Z"
   },
   {
    "duration": 35,
    "start_time": "2022-02-09T23:36:39.838Z"
   },
   {
    "duration": 25,
    "start_time": "2022-02-09T23:36:39.876Z"
   },
   {
    "duration": 32,
    "start_time": "2022-02-09T23:36:39.904Z"
   },
   {
    "duration": 21,
    "start_time": "2022-02-09T23:36:39.938Z"
   },
   {
    "duration": 15,
    "start_time": "2022-02-09T23:36:39.962Z"
   },
   {
    "duration": 17,
    "start_time": "2022-02-09T23:36:39.979Z"
   },
   {
    "duration": 19,
    "start_time": "2022-02-09T23:36:39.999Z"
   },
   {
    "duration": 17,
    "start_time": "2022-02-09T23:36:40.021Z"
   },
   {
    "duration": 28,
    "start_time": "2022-02-09T23:36:40.041Z"
   },
   {
    "duration": 13,
    "start_time": "2022-02-09T23:36:40.072Z"
   },
   {
    "duration": 13,
    "start_time": "2022-02-09T23:36:40.091Z"
   },
   {
    "duration": 19,
    "start_time": "2022-02-09T23:36:40.108Z"
   },
   {
    "duration": 15,
    "start_time": "2022-02-09T23:36:40.129Z"
   },
   {
    "duration": 45,
    "start_time": "2022-02-09T23:36:40.146Z"
   },
   {
    "duration": 9,
    "start_time": "2022-02-09T23:36:40.193Z"
   },
   {
    "duration": 10,
    "start_time": "2022-02-09T23:36:40.205Z"
   },
   {
    "duration": 59,
    "start_time": "2022-02-09T23:36:40.218Z"
   },
   {
    "duration": 29,
    "start_time": "2022-02-09T23:36:40.280Z"
   },
   {
    "duration": 11,
    "start_time": "2022-02-09T23:36:40.311Z"
   },
   {
    "duration": 20,
    "start_time": "2022-02-09T23:36:40.324Z"
   },
   {
    "duration": 17,
    "start_time": "2022-02-09T23:36:40.347Z"
   },
   {
    "duration": 8,
    "start_time": "2022-02-09T23:36:40.370Z"
   },
   {
    "duration": 6,
    "start_time": "2022-02-09T23:36:40.380Z"
   },
   {
    "duration": 13,
    "start_time": "2022-02-09T23:36:40.389Z"
   },
   {
    "duration": 11,
    "start_time": "2022-02-09T23:36:40.404Z"
   },
   {
    "duration": 75,
    "start_time": "2022-02-09T23:36:40.418Z"
   },
   {
    "duration": 31,
    "start_time": "2022-02-09T23:36:40.495Z"
   },
   {
    "duration": 57,
    "start_time": "2022-02-09T23:36:40.528Z"
   },
   {
    "duration": 10,
    "start_time": "2022-02-09T23:36:40.587Z"
   },
   {
    "duration": 12,
    "start_time": "2022-02-09T23:36:40.599Z"
   },
   {
    "duration": 12,
    "start_time": "2022-02-09T23:36:40.613Z"
   },
   {
    "duration": 63,
    "start_time": "2022-02-09T23:36:40.628Z"
   },
   {
    "duration": 6,
    "start_time": "2022-02-09T23:36:40.694Z"
   },
   {
    "duration": 275,
    "start_time": "2022-02-09T23:36:40.703Z"
   },
   {
    "duration": -78,
    "start_time": "2022-02-09T23:36:41.060Z"
   },
   {
    "duration": -81,
    "start_time": "2022-02-09T23:36:41.065Z"
   },
   {
    "duration": -91,
    "start_time": "2022-02-09T23:36:41.077Z"
   },
   {
    "duration": -95,
    "start_time": "2022-02-09T23:36:41.083Z"
   },
   {
    "duration": -101,
    "start_time": "2022-02-09T23:36:41.091Z"
   },
   {
    "duration": -105,
    "start_time": "2022-02-09T23:36:41.097Z"
   },
   {
    "duration": -108,
    "start_time": "2022-02-09T23:36:41.102Z"
   },
   {
    "duration": -115,
    "start_time": "2022-02-09T23:36:41.111Z"
   },
   {
    "duration": -118,
    "start_time": "2022-02-09T23:36:41.116Z"
   },
   {
    "duration": -124,
    "start_time": "2022-02-09T23:36:41.124Z"
   },
   {
    "duration": -128,
    "start_time": "2022-02-09T23:36:41.130Z"
   },
   {
    "duration": -131,
    "start_time": "2022-02-09T23:36:41.135Z"
   },
   {
    "duration": 252,
    "start_time": "2022-02-09T23:36:48.088Z"
   },
   {
    "duration": 17,
    "start_time": "2022-02-09T23:36:51.239Z"
   },
   {
    "duration": 271,
    "start_time": "2022-02-09T23:37:05.815Z"
   },
   {
    "duration": 265,
    "start_time": "2022-02-09T23:37:20.263Z"
   },
   {
    "duration": 269,
    "start_time": "2022-02-09T23:37:29.049Z"
   },
   {
    "duration": 5,
    "start_time": "2022-02-09T23:37:34.864Z"
   },
   {
    "duration": 271,
    "start_time": "2022-02-09T23:37:35.727Z"
   },
   {
    "duration": 284,
    "start_time": "2022-02-09T23:38:10.808Z"
   },
   {
    "duration": 15,
    "start_time": "2022-02-09T23:38:21.680Z"
   },
   {
    "duration": 19,
    "start_time": "2022-02-09T23:38:24.783Z"
   },
   {
    "duration": 20,
    "start_time": "2022-02-09T23:38:40.319Z"
   },
   {
    "duration": 21,
    "start_time": "2022-02-09T23:42:22.717Z"
   },
   {
    "duration": 1322,
    "start_time": "2022-02-09T23:42:27.364Z"
   },
   {
    "duration": 4,
    "start_time": "2022-02-09T23:42:33.756Z"
   },
   {
    "duration": 13,
    "start_time": "2022-02-09T23:42:35.580Z"
   },
   {
    "duration": 22,
    "start_time": "2022-02-09T23:42:36.909Z"
   },
   {
    "duration": 4,
    "start_time": "2022-02-09T23:43:29.615Z"
   },
   {
    "duration": 63,
    "start_time": "2022-02-09T23:43:29.621Z"
   },
   {
    "duration": 19,
    "start_time": "2022-02-09T23:43:29.687Z"
   },
   {
    "duration": 14,
    "start_time": "2022-02-09T23:43:29.710Z"
   },
   {
    "duration": 5,
    "start_time": "2022-02-09T23:43:29.726Z"
   },
   {
    "duration": 48,
    "start_time": "2022-02-09T23:43:29.733Z"
   },
   {
    "duration": 14,
    "start_time": "2022-02-09T23:43:29.784Z"
   },
   {
    "duration": 5,
    "start_time": "2022-02-09T23:43:29.801Z"
   },
   {
    "duration": 6,
    "start_time": "2022-02-09T23:43:29.808Z"
   },
   {
    "duration": 67,
    "start_time": "2022-02-09T23:43:29.816Z"
   },
   {
    "duration": 14,
    "start_time": "2022-02-09T23:43:29.886Z"
   },
   {
    "duration": 7,
    "start_time": "2022-02-09T23:43:29.903Z"
   },
   {
    "duration": 4,
    "start_time": "2022-02-09T23:43:29.912Z"
   },
   {
    "duration": 54,
    "start_time": "2022-02-09T23:43:29.919Z"
   },
   {
    "duration": 8,
    "start_time": "2022-02-09T23:43:29.975Z"
   },
   {
    "duration": 14,
    "start_time": "2022-02-09T23:43:29.985Z"
   },
   {
    "duration": 7,
    "start_time": "2022-02-09T23:43:30.001Z"
   },
   {
    "duration": 8,
    "start_time": "2022-02-09T23:43:30.010Z"
   },
   {
    "duration": 47,
    "start_time": "2022-02-09T23:43:30.024Z"
   },
   {
    "duration": 14,
    "start_time": "2022-02-09T23:43:30.075Z"
   },
   {
    "duration": 20,
    "start_time": "2022-02-09T23:43:30.091Z"
   },
   {
    "duration": 33,
    "start_time": "2022-02-09T23:43:30.114Z"
   },
   {
    "duration": 23,
    "start_time": "2022-02-09T23:43:30.150Z"
   },
   {
    "duration": 14,
    "start_time": "2022-02-09T23:43:30.176Z"
   },
   {
    "duration": 38,
    "start_time": "2022-02-09T23:43:30.192Z"
   },
   {
    "duration": 11,
    "start_time": "2022-02-09T23:43:30.233Z"
   },
   {
    "duration": 30,
    "start_time": "2022-02-09T23:43:30.247Z"
   },
   {
    "duration": 22,
    "start_time": "2022-02-09T23:43:30.279Z"
   },
   {
    "duration": 13,
    "start_time": "2022-02-09T23:43:30.303Z"
   },
   {
    "duration": 12,
    "start_time": "2022-02-09T23:43:30.319Z"
   },
   {
    "duration": 15,
    "start_time": "2022-02-09T23:43:30.333Z"
   },
   {
    "duration": 20,
    "start_time": "2022-02-09T23:43:30.351Z"
   },
   {
    "duration": 27,
    "start_time": "2022-02-09T23:43:30.373Z"
   },
   {
    "duration": 37,
    "start_time": "2022-02-09T23:43:30.403Z"
   },
   {
    "duration": 38,
    "start_time": "2022-02-09T23:43:30.443Z"
   },
   {
    "duration": 27,
    "start_time": "2022-02-09T23:43:30.483Z"
   },
   {
    "duration": 10,
    "start_time": "2022-02-09T23:43:30.513Z"
   },
   {
    "duration": 15,
    "start_time": "2022-02-09T23:43:30.526Z"
   },
   {
    "duration": 12,
    "start_time": "2022-02-09T23:43:30.569Z"
   },
   {
    "duration": 29,
    "start_time": "2022-02-09T23:43:30.584Z"
   },
   {
    "duration": 4,
    "start_time": "2022-02-09T23:43:30.616Z"
   },
   {
    "duration": 47,
    "start_time": "2022-02-09T23:43:30.622Z"
   },
   {
    "duration": 19,
    "start_time": "2022-02-09T23:43:30.672Z"
   },
   {
    "duration": 6,
    "start_time": "2022-02-09T23:43:30.694Z"
   },
   {
    "duration": 16,
    "start_time": "2022-02-09T23:43:30.703Z"
   },
   {
    "duration": 61,
    "start_time": "2022-02-09T23:43:30.721Z"
   },
   {
    "duration": 27,
    "start_time": "2022-02-09T23:43:30.784Z"
   },
   {
    "duration": 14,
    "start_time": "2022-02-09T23:43:30.813Z"
   },
   {
    "duration": 26,
    "start_time": "2022-02-09T23:43:30.829Z"
   },
   {
    "duration": 12,
    "start_time": "2022-02-09T23:43:30.858Z"
   },
   {
    "duration": 21,
    "start_time": "2022-02-09T23:43:30.873Z"
   },
   {
    "duration": 10,
    "start_time": "2022-02-09T23:43:30.896Z"
   },
   {
    "duration": 14,
    "start_time": "2022-02-09T23:43:30.909Z"
   },
   {
    "duration": 33,
    "start_time": "2022-02-09T23:43:30.925Z"
   },
   {
    "duration": 25,
    "start_time": "2022-02-09T23:43:30.964Z"
   },
   {
    "duration": 20,
    "start_time": "2022-02-09T23:44:03.171Z"
   },
   {
    "duration": 22,
    "start_time": "2022-02-09T23:44:21.001Z"
   },
   {
    "duration": 278,
    "start_time": "2022-02-09T23:44:43.930Z"
   },
   {
    "duration": 24,
    "start_time": "2022-02-09T23:44:48.169Z"
   },
   {
    "duration": 21,
    "start_time": "2022-02-09T23:44:49.602Z"
   },
   {
    "duration": 45,
    "start_time": "2022-02-09T23:59:07.496Z"
   },
   {
    "duration": 17,
    "start_time": "2022-02-09T23:59:13.640Z"
   },
   {
    "duration": 273,
    "start_time": "2022-02-09T23:59:54.759Z"
   },
   {
    "duration": 46,
    "start_time": "2022-02-10T00:00:32.936Z"
   },
   {
    "duration": 31,
    "start_time": "2022-02-10T00:00:37.216Z"
   },
   {
    "duration": 45,
    "start_time": "2022-02-10T00:01:22.222Z"
   },
   {
    "duration": 16,
    "start_time": "2022-02-10T00:01:22.992Z"
   },
   {
    "duration": 42,
    "start_time": "2022-02-10T00:05:54.563Z"
   },
   {
    "duration": 15,
    "start_time": "2022-02-10T00:05:55.444Z"
   },
   {
    "duration": 38,
    "start_time": "2022-02-10T00:06:26.971Z"
   },
   {
    "duration": 15,
    "start_time": "2022-02-10T00:06:27.532Z"
   },
   {
    "duration": 7,
    "start_time": "2022-02-10T00:07:43.930Z"
   },
   {
    "duration": 16,
    "start_time": "2022-02-10T00:08:07.618Z"
   },
   {
    "duration": 22,
    "start_time": "2022-02-10T00:08:30.921Z"
   },
   {
    "duration": 11,
    "start_time": "2022-02-10T00:08:31.674Z"
   },
   {
    "duration": 23,
    "start_time": "2022-02-10T00:09:16.537Z"
   },
   {
    "duration": 9,
    "start_time": "2022-02-10T00:09:17.393Z"
   },
   {
    "duration": 22,
    "start_time": "2022-02-10T00:10:10.856Z"
   },
   {
    "duration": 8,
    "start_time": "2022-02-10T00:10:11.457Z"
   },
   {
    "duration": 672,
    "start_time": "2022-02-10T00:11:49.391Z"
   },
   {
    "duration": -81,
    "start_time": "2022-02-10T00:11:50.147Z"
   },
   {
    "duration": 29,
    "start_time": "2022-02-10T00:11:58.215Z"
   },
   {
    "duration": 12,
    "start_time": "2022-02-10T00:12:00.287Z"
   },
   {
    "duration": 30,
    "start_time": "2022-02-10T00:12:33.847Z"
   },
   {
    "duration": 12,
    "start_time": "2022-02-10T00:12:35.191Z"
   },
   {
    "duration": 28,
    "start_time": "2022-02-10T00:12:51.222Z"
   },
   {
    "duration": 12,
    "start_time": "2022-02-10T00:12:52.447Z"
   },
   {
    "duration": 7,
    "start_time": "2022-02-10T00:20:28.370Z"
   },
   {
    "duration": 17,
    "start_time": "2022-02-10T00:20:43.906Z"
   },
   {
    "duration": 21,
    "start_time": "2022-02-10T00:20:57.441Z"
   },
   {
    "duration": 9,
    "start_time": "2022-02-10T00:20:58.169Z"
   },
   {
    "duration": 16,
    "start_time": "2022-02-10T00:22:20.144Z"
   },
   {
    "duration": 251,
    "start_time": "2022-02-10T00:28:37.332Z"
   },
   {
    "duration": 290,
    "start_time": "2022-02-10T00:29:11.692Z"
   },
   {
    "duration": 11,
    "start_time": "2022-02-10T00:29:27.066Z"
   },
   {
    "duration": 9,
    "start_time": "2022-02-10T00:29:36.243Z"
   },
   {
    "duration": 94,
    "start_time": "2022-02-10T00:29:57.386Z"
   },
   {
    "duration": 245,
    "start_time": "2022-02-10T00:30:25.147Z"
   },
   {
    "duration": 294,
    "start_time": "2022-02-10T00:31:12.378Z"
   },
   {
    "duration": 9,
    "start_time": "2022-02-10T00:31:17.379Z"
   },
   {
    "duration": 8,
    "start_time": "2022-02-10T00:31:20.570Z"
   },
   {
    "duration": 8,
    "start_time": "2022-02-10T00:32:22.969Z"
   },
   {
    "duration": 8,
    "start_time": "2022-02-10T00:32:23.498Z"
   },
   {
    "duration": 12,
    "start_time": "2022-02-10T00:34:58.783Z"
   },
   {
    "duration": 13,
    "start_time": "2022-02-10T00:35:00.696Z"
   },
   {
    "duration": 12,
    "start_time": "2022-02-10T00:35:32.950Z"
   },
   {
    "duration": 11,
    "start_time": "2022-02-10T00:35:33.784Z"
   },
   {
    "duration": 11,
    "start_time": "2022-02-10T00:36:50.200Z"
   },
   {
    "duration": 11,
    "start_time": "2022-02-10T00:36:51.399Z"
   },
   {
    "duration": 11,
    "start_time": "2022-02-10T00:39:04.564Z"
   },
   {
    "duration": 11,
    "start_time": "2022-02-10T00:39:05.389Z"
   },
   {
    "duration": 7,
    "start_time": "2022-02-10T00:40:49.724Z"
   },
   {
    "duration": 7,
    "start_time": "2022-02-10T00:40:50.516Z"
   },
   {
    "duration": 243,
    "start_time": "2022-02-10T00:49:48.654Z"
   },
   {
    "duration": 12,
    "start_time": "2022-02-10T00:49:51.230Z"
   },
   {
    "duration": 11,
    "start_time": "2022-02-10T00:49:53.630Z"
   },
   {
    "duration": 7,
    "start_time": "2022-02-10T00:50:29.710Z"
   },
   {
    "duration": 6,
    "start_time": "2022-02-10T00:50:30.661Z"
   },
   {
    "duration": 6224,
    "start_time": "2022-02-10T00:55:50.697Z"
   },
   {
    "duration": 6262,
    "start_time": "2022-02-10T00:56:18.162Z"
   },
   {
    "duration": 6269,
    "start_time": "2022-02-10T00:56:39.762Z"
   },
   {
    "duration": 4,
    "start_time": "2022-02-10T01:44:46.050Z"
   },
   {
    "duration": 584,
    "start_time": "2022-02-15T16:12:10.912Z"
   },
   {
    "duration": 50,
    "start_time": "2022-02-15T16:12:11.498Z"
   },
   {
    "duration": 29,
    "start_time": "2022-02-15T16:12:11.551Z"
   },
   {
    "duration": 11,
    "start_time": "2022-02-15T16:12:11.582Z"
   },
   {
    "duration": 4,
    "start_time": "2022-02-15T16:12:11.594Z"
   },
   {
    "duration": 36,
    "start_time": "2022-02-15T16:12:11.599Z"
   },
   {
    "duration": 10,
    "start_time": "2022-02-15T16:12:11.636Z"
   },
   {
    "duration": 5,
    "start_time": "2022-02-15T16:12:11.649Z"
   },
   {
    "duration": 6,
    "start_time": "2022-02-15T16:12:11.656Z"
   },
   {
    "duration": 13,
    "start_time": "2022-02-15T16:12:11.663Z"
   },
   {
    "duration": 13,
    "start_time": "2022-02-15T16:12:11.677Z"
   },
   {
    "duration": 6,
    "start_time": "2022-02-15T16:12:11.691Z"
   },
   {
    "duration": 4,
    "start_time": "2022-02-15T16:12:11.730Z"
   },
   {
    "duration": 9,
    "start_time": "2022-02-15T16:12:11.735Z"
   },
   {
    "duration": 6,
    "start_time": "2022-02-15T16:12:11.746Z"
   },
   {
    "duration": 8,
    "start_time": "2022-02-15T16:12:11.753Z"
   },
   {
    "duration": 5,
    "start_time": "2022-02-15T16:12:11.763Z"
   },
   {
    "duration": 4,
    "start_time": "2022-02-15T16:12:11.770Z"
   },
   {
    "duration": 7,
    "start_time": "2022-02-15T16:12:11.776Z"
   },
   {
    "duration": 48,
    "start_time": "2022-02-15T16:12:11.785Z"
   },
   {
    "duration": 7,
    "start_time": "2022-02-15T16:12:11.835Z"
   },
   {
    "duration": 19,
    "start_time": "2022-02-15T16:12:11.844Z"
   },
   {
    "duration": 5,
    "start_time": "2022-02-15T16:12:11.867Z"
   },
   {
    "duration": 10,
    "start_time": "2022-02-15T16:12:11.874Z"
   },
   {
    "duration": 46,
    "start_time": "2022-02-15T16:12:11.886Z"
   },
   {
    "duration": 6,
    "start_time": "2022-02-15T16:12:11.934Z"
   },
   {
    "duration": 9,
    "start_time": "2022-02-15T16:12:11.942Z"
   },
   {
    "duration": 11,
    "start_time": "2022-02-15T16:12:11.952Z"
   },
   {
    "duration": 7,
    "start_time": "2022-02-15T16:12:11.965Z"
   },
   {
    "duration": 8,
    "start_time": "2022-02-15T16:12:11.974Z"
   },
   {
    "duration": 3,
    "start_time": "2022-02-15T16:12:11.984Z"
   },
   {
    "duration": 6,
    "start_time": "2022-02-15T16:12:11.989Z"
   },
   {
    "duration": 39,
    "start_time": "2022-02-15T16:12:11.996Z"
   },
   {
    "duration": 19,
    "start_time": "2022-02-15T16:12:12.037Z"
   },
   {
    "duration": 20,
    "start_time": "2022-02-15T16:12:12.058Z"
   },
   {
    "duration": 18,
    "start_time": "2022-02-15T16:12:12.080Z"
   },
   {
    "duration": 30,
    "start_time": "2022-02-15T16:12:12.100Z"
   },
   {
    "duration": 9,
    "start_time": "2022-02-15T16:12:12.132Z"
   },
   {
    "duration": 9,
    "start_time": "2022-02-15T16:12:12.143Z"
   },
   {
    "duration": 16,
    "start_time": "2022-02-15T16:12:12.153Z"
   },
   {
    "duration": 3,
    "start_time": "2022-02-15T16:12:12.170Z"
   },
   {
    "duration": 13,
    "start_time": "2022-02-15T16:12:12.174Z"
   },
   {
    "duration": 41,
    "start_time": "2022-02-15T16:12:12.189Z"
   },
   {
    "duration": 3,
    "start_time": "2022-02-15T16:12:12.232Z"
   },
   {
    "duration": 10,
    "start_time": "2022-02-15T16:12:12.237Z"
   },
   {
    "duration": 14,
    "start_time": "2022-02-15T16:12:12.249Z"
   },
   {
    "duration": 12,
    "start_time": "2022-02-15T16:12:12.265Z"
   },
   {
    "duration": 7,
    "start_time": "2022-02-15T16:12:12.279Z"
   },
   {
    "duration": 7,
    "start_time": "2022-02-15T16:12:12.289Z"
   },
   {
    "duration": 34,
    "start_time": "2022-02-15T16:12:12.297Z"
   },
   {
    "duration": 8,
    "start_time": "2022-02-15T16:12:12.333Z"
   },
   {
    "duration": 7,
    "start_time": "2022-02-15T16:12:12.343Z"
   },
   {
    "duration": 7,
    "start_time": "2022-02-15T16:12:12.352Z"
   },
   {
    "duration": 7,
    "start_time": "2022-02-15T16:12:12.361Z"
   },
   {
    "duration": 9,
    "start_time": "2022-02-15T16:12:12.370Z"
   },
   {
    "duration": 7,
    "start_time": "2022-02-15T16:12:12.380Z"
   },
   {
    "duration": 7,
    "start_time": "2022-02-15T16:12:12.389Z"
   },
   {
    "duration": 38,
    "start_time": "2022-02-15T16:12:12.397Z"
   },
   {
    "duration": 9,
    "start_time": "2022-02-15T16:12:12.437Z"
   },
   {
    "duration": 7,
    "start_time": "2022-02-15T16:12:12.447Z"
   },
   {
    "duration": 5,
    "start_time": "2022-02-15T16:12:12.456Z"
   },
   {
    "duration": 6,
    "start_time": "2022-02-15T16:12:12.462Z"
   },
   {
    "duration": 375,
    "start_time": "2022-02-15T18:48:50.315Z"
   },
   {
    "duration": 744,
    "start_time": "2022-02-15T18:49:49.720Z"
   },
   {
    "duration": 59,
    "start_time": "2022-02-15T18:49:50.467Z"
   },
   {
    "duration": 28,
    "start_time": "2022-02-15T18:49:50.529Z"
   },
   {
    "duration": 13,
    "start_time": "2022-02-15T18:49:50.560Z"
   },
   {
    "duration": 8,
    "start_time": "2022-02-15T18:49:50.576Z"
   },
   {
    "duration": 48,
    "start_time": "2022-02-15T18:49:50.586Z"
   },
   {
    "duration": 15,
    "start_time": "2022-02-15T18:49:50.636Z"
   },
   {
    "duration": 5,
    "start_time": "2022-02-15T18:49:50.656Z"
   },
   {
    "duration": 7,
    "start_time": "2022-02-15T18:49:50.664Z"
   },
   {
    "duration": 19,
    "start_time": "2022-02-15T18:49:50.673Z"
   },
   {
    "duration": 47,
    "start_time": "2022-02-15T18:49:50.694Z"
   },
   {
    "duration": 37,
    "start_time": "2022-02-15T18:49:50.743Z"
   },
   {
    "duration": 36,
    "start_time": "2022-02-15T18:50:11.400Z"
   },
   {
    "duration": 124,
    "start_time": "2022-02-15T18:58:56.499Z"
   },
   {
    "duration": 5,
    "start_time": "2022-02-15T18:59:15.521Z"
   },
   {
    "duration": 4,
    "start_time": "2022-02-15T18:59:18.242Z"
   },
   {
    "duration": 5,
    "start_time": "2022-02-15T19:03:07.511Z"
   },
   {
    "duration": 8,
    "start_time": "2022-02-15T19:03:20.895Z"
   },
   {
    "duration": 7,
    "start_time": "2022-02-15T19:04:10.734Z"
   },
   {
    "duration": 6,
    "start_time": "2022-02-15T19:05:08.070Z"
   },
   {
    "duration": 8,
    "start_time": "2022-02-15T19:07:53.204Z"
   },
   {
    "duration": 15,
    "start_time": "2022-02-15T19:08:47.298Z"
   },
   {
    "duration": 9,
    "start_time": "2022-02-15T19:09:05.339Z"
   },
   {
    "duration": 9,
    "start_time": "2022-02-15T19:09:43.410Z"
   },
   {
    "duration": 10,
    "start_time": "2022-02-15T19:09:53.114Z"
   },
   {
    "duration": 11,
    "start_time": "2022-02-15T19:10:19.914Z"
   },
   {
    "duration": 78,
    "start_time": "2022-02-15T19:10:39.426Z"
   },
   {
    "duration": 23,
    "start_time": "2022-02-15T19:10:44.145Z"
   },
   {
    "duration": 12,
    "start_time": "2022-02-15T19:11:21.105Z"
   },
   {
    "duration": 20,
    "start_time": "2022-02-15T19:18:46.660Z"
   },
   {
    "duration": 19,
    "start_time": "2022-02-15T19:18:49.123Z"
   },
   {
    "duration": 8,
    "start_time": "2022-02-15T19:19:08.363Z"
   },
   {
    "duration": 13,
    "start_time": "2022-02-15T19:26:13.366Z"
   },
   {
    "duration": 13,
    "start_time": "2022-02-15T19:26:16.535Z"
   },
   {
    "duration": 12,
    "start_time": "2022-02-15T19:26:30.111Z"
   },
   {
    "duration": 18,
    "start_time": "2022-02-15T19:27:08.518Z"
   },
   {
    "duration": 12,
    "start_time": "2022-02-15T19:27:09.208Z"
   },
   {
    "duration": 13,
    "start_time": "2022-02-15T19:30:51.755Z"
   },
   {
    "duration": 13,
    "start_time": "2022-02-15T19:30:52.365Z"
   },
   {
    "duration": 84,
    "start_time": "2022-02-15T19:33:19.258Z"
   },
   {
    "duration": 23,
    "start_time": "2022-02-15T19:33:28.161Z"
   },
   {
    "duration": 29,
    "start_time": "2022-02-15T19:33:29.187Z"
   },
   {
    "duration": 307,
    "start_time": "2022-02-15T19:33:52.284Z"
   },
   {
    "duration": 264,
    "start_time": "2022-02-15T19:33:58.428Z"
   },
   {
    "duration": 264,
    "start_time": "2022-02-15T19:34:23.291Z"
   },
   {
    "duration": 12,
    "start_time": "2022-02-15T19:34:28.337Z"
   },
   {
    "duration": 248,
    "start_time": "2022-02-15T19:34:29.019Z"
   },
   {
    "duration": 11,
    "start_time": "2022-02-15T19:35:05.938Z"
   },
   {
    "duration": 63,
    "start_time": "2022-02-15T19:36:15.560Z"
   },
   {
    "duration": 55,
    "start_time": "2022-02-15T19:36:16.240Z"
   },
   {
    "duration": 12,
    "start_time": "2022-02-15T19:36:26.416Z"
   },
   {
    "duration": 617,
    "start_time": "2022-02-15T19:36:40.216Z"
   },
   {
    "duration": 13,
    "start_time": "2022-02-15T19:36:48.824Z"
   },
   {
    "duration": 12,
    "start_time": "2022-02-15T19:36:50.595Z"
   },
   {
    "duration": 5,
    "start_time": "2022-02-15T19:44:18.102Z"
   },
   {
    "duration": 17,
    "start_time": "2022-02-15T19:44:30.348Z"
   },
   {
    "duration": 234,
    "start_time": "2022-02-15T19:48:55.136Z"
   },
   {
    "duration": 18,
    "start_time": "2022-02-15T19:49:07.009Z"
   },
   {
    "duration": 18,
    "start_time": "2022-02-15T19:49:22.632Z"
   },
   {
    "duration": 12,
    "start_time": "2022-02-15T19:49:33.273Z"
   },
   {
    "duration": 6389,
    "start_time": "2022-02-15T19:51:05.062Z"
   },
   {
    "duration": 5776,
    "start_time": "2022-02-15T19:51:51.823Z"
   },
   {
    "duration": 3,
    "start_time": "2022-02-15T19:52:02.915Z"
   },
   {
    "duration": 62,
    "start_time": "2022-02-15T19:52:02.924Z"
   },
   {
    "duration": 19,
    "start_time": "2022-02-15T19:52:02.988Z"
   },
   {
    "duration": 32,
    "start_time": "2022-02-15T19:52:03.010Z"
   },
   {
    "duration": 14,
    "start_time": "2022-02-15T19:52:03.045Z"
   },
   {
    "duration": 15,
    "start_time": "2022-02-15T19:52:03.061Z"
   },
   {
    "duration": 14,
    "start_time": "2022-02-15T19:52:03.078Z"
   },
   {
    "duration": 5,
    "start_time": "2022-02-15T19:52:03.094Z"
   },
   {
    "duration": 3,
    "start_time": "2022-02-15T19:52:03.133Z"
   },
   {
    "duration": 31,
    "start_time": "2022-02-15T19:52:03.138Z"
   },
   {
    "duration": 17,
    "start_time": "2022-02-15T19:52:03.171Z"
   },
   {
    "duration": 5,
    "start_time": "2022-02-15T19:52:03.190Z"
   },
   {
    "duration": 12,
    "start_time": "2022-02-15T19:52:03.197Z"
   },
   {
    "duration": 31,
    "start_time": "2022-02-15T19:52:03.211Z"
   },
   {
    "duration": 271,
    "start_time": "2022-02-15T19:52:36.142Z"
   },
   {
    "duration": 8,
    "start_time": "2022-02-15T19:53:19.103Z"
   },
   {
    "duration": 33,
    "start_time": "2022-02-15T19:53:34.020Z"
   },
   {
    "duration": 14,
    "start_time": "2022-02-15T20:04:17.860Z"
   },
   {
    "duration": 9,
    "start_time": "2022-02-15T20:04:19.212Z"
   },
   {
    "duration": 85,
    "start_time": "2022-02-15T20:17:53.848Z"
   },
   {
    "duration": 6,
    "start_time": "2022-02-15T20:18:55.681Z"
   },
   {
    "duration": 4,
    "start_time": "2022-02-15T20:18:59.513Z"
   },
   {
    "duration": 10,
    "start_time": "2022-02-15T20:19:14.120Z"
   },
   {
    "duration": 5,
    "start_time": "2022-02-15T20:19:36.768Z"
   },
   {
    "duration": 8,
    "start_time": "2022-02-15T20:19:42.303Z"
   },
   {
    "duration": 16,
    "start_time": "2022-02-15T20:20:12.663Z"
   },
   {
    "duration": 9,
    "start_time": "2022-02-15T20:20:13.696Z"
   },
   {
    "duration": 33,
    "start_time": "2022-02-15T20:29:39.351Z"
   },
   {
    "duration": 17,
    "start_time": "2022-02-15T20:29:41.345Z"
   },
   {
    "duration": 14,
    "start_time": "2022-02-15T20:30:18.303Z"
   },
   {
    "duration": 9,
    "start_time": "2022-02-15T20:30:19.008Z"
   },
   {
    "duration": 87,
    "start_time": "2022-02-15T20:31:21.887Z"
   },
   {
    "duration": 4,
    "start_time": "2022-02-15T20:31:41.968Z"
   },
   {
    "duration": 7,
    "start_time": "2022-02-15T20:31:53.561Z"
   },
   {
    "duration": 7,
    "start_time": "2022-02-15T20:32:36.743Z"
   },
   {
    "duration": 8,
    "start_time": "2022-02-15T20:32:48.039Z"
   },
   {
    "duration": 4,
    "start_time": "2022-02-15T20:33:53.726Z"
   },
   {
    "duration": 64,
    "start_time": "2022-02-15T20:33:53.734Z"
   },
   {
    "duration": 32,
    "start_time": "2022-02-15T20:33:53.802Z"
   },
   {
    "duration": 15,
    "start_time": "2022-02-15T20:33:53.837Z"
   },
   {
    "duration": 6,
    "start_time": "2022-02-15T20:33:53.855Z"
   },
   {
    "duration": 18,
    "start_time": "2022-02-15T20:33:53.863Z"
   },
   {
    "duration": 52,
    "start_time": "2022-02-15T20:33:53.883Z"
   },
   {
    "duration": 5,
    "start_time": "2022-02-15T20:33:53.937Z"
   },
   {
    "duration": 4,
    "start_time": "2022-02-15T20:33:53.946Z"
   },
   {
    "duration": 3,
    "start_time": "2022-02-15T20:34:04.910Z"
   },
   {
    "duration": 59,
    "start_time": "2022-02-15T20:34:04.919Z"
   },
   {
    "duration": 20,
    "start_time": "2022-02-15T20:34:04.981Z"
   },
   {
    "duration": 38,
    "start_time": "2022-02-15T20:34:05.004Z"
   },
   {
    "duration": 4,
    "start_time": "2022-02-15T20:34:05.045Z"
   },
   {
    "duration": 15,
    "start_time": "2022-02-15T20:34:05.052Z"
   },
   {
    "duration": 14,
    "start_time": "2022-02-15T20:34:05.070Z"
   },
   {
    "duration": 45,
    "start_time": "2022-02-15T20:34:05.088Z"
   },
   {
    "duration": 3,
    "start_time": "2022-02-15T20:34:05.138Z"
   },
   {
    "duration": 79,
    "start_time": "2022-02-15T20:34:05.144Z"
   },
   {
    "duration": 1864,
    "start_time": "2022-02-15T20:34:03.362Z"
   },
   {
    "duration": 1855,
    "start_time": "2022-02-15T20:34:03.372Z"
   },
   {
    "duration": 1848,
    "start_time": "2022-02-15T20:34:03.381Z"
   },
   {
    "duration": 1838,
    "start_time": "2022-02-15T20:34:03.392Z"
   },
   {
    "duration": 1832,
    "start_time": "2022-02-15T20:34:03.400Z"
   },
   {
    "duration": 1824,
    "start_time": "2022-02-15T20:34:03.410Z"
   },
   {
    "duration": 9,
    "start_time": "2022-02-15T20:34:13.349Z"
   },
   {
    "duration": 14,
    "start_time": "2022-02-15T20:34:25.301Z"
   },
   {
    "duration": 105,
    "start_time": "2022-02-15T20:36:57.301Z"
   },
   {
    "duration": 5,
    "start_time": "2022-02-15T20:37:17.117Z"
   },
   {
    "duration": 16,
    "start_time": "2022-02-15T20:38:39.979Z"
   },
   {
    "duration": 14,
    "start_time": "2022-02-15T20:38:42.659Z"
   },
   {
    "duration": 15,
    "start_time": "2022-02-15T20:38:47.410Z"
   },
   {
    "duration": 27,
    "start_time": "2022-02-15T20:47:05.317Z"
   },
   {
    "duration": 253,
    "start_time": "2022-02-15T20:48:05.702Z"
   },
   {
    "duration": 253,
    "start_time": "2022-02-15T20:48:16.717Z"
   },
   {
    "duration": 245,
    "start_time": "2022-02-15T20:48:25.165Z"
   },
   {
    "duration": 14,
    "start_time": "2022-02-15T20:48:36.853Z"
   },
   {
    "duration": 5,
    "start_time": "2022-02-15T20:51:50.562Z"
   },
   {
    "duration": 5,
    "start_time": "2022-02-15T20:51:51.362Z"
   },
   {
    "duration": 15,
    "start_time": "2022-02-15T20:51:52.066Z"
   },
   {
    "duration": 9,
    "start_time": "2022-02-15T20:51:52.780Z"
   },
   {
    "duration": 5,
    "start_time": "2022-02-15T20:56:16.919Z"
   },
   {
    "duration": 6,
    "start_time": "2022-02-15T20:56:17.975Z"
   },
   {
    "duration": 6,
    "start_time": "2022-02-15T20:56:32.192Z"
   },
   {
    "duration": 4,
    "start_time": "2022-02-15T20:56:35.231Z"
   },
   {
    "duration": 7,
    "start_time": "2022-02-15T20:56:35.791Z"
   },
   {
    "duration": 23,
    "start_time": "2022-02-15T20:59:03.230Z"
   },
   {
    "duration": 6,
    "start_time": "2022-02-15T20:59:05.229Z"
   },
   {
    "duration": 605,
    "start_time": "2022-02-15T20:59:06.421Z"
   },
   {
    "duration": 5,
    "start_time": "2022-02-15T20:59:27.422Z"
   },
   {
    "duration": 1065,
    "start_time": "2022-02-15T20:59:28.134Z"
   },
   {
    "duration": 16,
    "start_time": "2022-02-15T20:59:49.501Z"
   },
   {
    "duration": 15,
    "start_time": "2022-02-15T21:00:22.381Z"
   },
   {
    "duration": 13,
    "start_time": "2022-02-15T21:00:39.917Z"
   },
   {
    "duration": 12,
    "start_time": "2022-02-15T21:00:40.614Z"
   },
   {
    "duration": 5,
    "start_time": "2022-02-15T21:01:14.764Z"
   },
   {
    "duration": 796,
    "start_time": "2022-02-15T21:01:15.540Z"
   },
   {
    "duration": 15,
    "start_time": "2022-02-15T21:01:16.339Z"
   },
   {
    "duration": 17,
    "start_time": "2022-02-15T21:01:51.412Z"
   },
   {
    "duration": 9,
    "start_time": "2022-02-15T21:01:52.300Z"
   },
   {
    "duration": 4,
    "start_time": "2022-02-15T21:02:15.500Z"
   },
   {
    "duration": 806,
    "start_time": "2022-02-15T21:02:16.452Z"
   },
   {
    "duration": 15,
    "start_time": "2022-02-15T21:02:18.716Z"
   },
   {
    "duration": 270,
    "start_time": "2022-02-15T21:12:37.612Z"
   },
   {
    "duration": 11,
    "start_time": "2022-02-15T21:12:40.451Z"
   },
   {
    "duration": 292,
    "start_time": "2022-02-15T21:12:42.077Z"
   },
   {
    "duration": 14,
    "start_time": "2022-02-15T21:12:57.333Z"
   },
   {
    "duration": 4,
    "start_time": "2022-02-15T21:18:57.999Z"
   },
   {
    "duration": 6,
    "start_time": "2022-02-15T21:18:58.895Z"
   },
   {
    "duration": 6,
    "start_time": "2022-02-15T21:20:28.158Z"
   },
   {
    "duration": 6,
    "start_time": "2022-02-15T21:20:28.767Z"
   },
   {
    "duration": 7,
    "start_time": "2022-02-15T21:20:49.357Z"
   },
   {
    "duration": 6,
    "start_time": "2022-02-15T21:20:52.383Z"
   },
   {
    "duration": 5,
    "start_time": "2022-02-15T21:21:45.389Z"
   },
   {
    "duration": 3,
    "start_time": "2022-02-15T21:23:13.301Z"
   },
   {
    "duration": 88,
    "start_time": "2022-02-15T21:23:16.076Z"
   },
   {
    "duration": 5,
    "start_time": "2022-02-15T21:23:21.925Z"
   },
   {
    "duration": 15,
    "start_time": "2022-02-15T21:23:57.043Z"
   },
   {
    "duration": 9,
    "start_time": "2022-02-15T21:23:58.387Z"
   },
   {
    "duration": 5,
    "start_time": "2022-02-15T21:24:02.100Z"
   },
   {
    "duration": 13,
    "start_time": "2022-02-15T21:24:13.995Z"
   },
   {
    "duration": 692,
    "start_time": "2022-02-15T21:25:24.381Z"
   },
   {
    "duration": 63,
    "start_time": "2022-02-15T21:25:25.076Z"
   },
   {
    "duration": 30,
    "start_time": "2022-02-15T21:25:25.142Z"
   },
   {
    "duration": 19,
    "start_time": "2022-02-15T21:25:25.174Z"
   },
   {
    "duration": 36,
    "start_time": "2022-02-15T21:25:25.196Z"
   },
   {
    "duration": 13,
    "start_time": "2022-02-15T21:25:25.234Z"
   },
   {
    "duration": 15,
    "start_time": "2022-02-15T21:25:25.249Z"
   },
   {
    "duration": 5,
    "start_time": "2022-02-15T21:25:25.268Z"
   },
   {
    "duration": 6,
    "start_time": "2022-02-15T21:25:25.276Z"
   },
   {
    "duration": 85,
    "start_time": "2022-02-15T21:25:25.285Z"
   },
   {
    "duration": 1715,
    "start_time": "2022-02-15T21:25:23.660Z"
   },
   {
    "duration": 1706,
    "start_time": "2022-02-15T21:25:23.670Z"
   },
   {
    "duration": 1692,
    "start_time": "2022-02-15T21:25:23.685Z"
   },
   {
    "duration": 1681,
    "start_time": "2022-02-15T21:25:23.698Z"
   },
   {
    "duration": 1673,
    "start_time": "2022-02-15T21:25:23.707Z"
   },
   {
    "duration": 1662,
    "start_time": "2022-02-15T21:25:23.719Z"
   },
   {
    "duration": 1652,
    "start_time": "2022-02-15T21:25:23.731Z"
   },
   {
    "duration": 1645,
    "start_time": "2022-02-15T21:25:23.739Z"
   },
   {
    "duration": 1578,
    "start_time": "2022-02-15T21:25:23.807Z"
   },
   {
    "duration": 1568,
    "start_time": "2022-02-15T21:25:23.819Z"
   },
   {
    "duration": 1559,
    "start_time": "2022-02-15T21:25:23.830Z"
   },
   {
    "duration": 1551,
    "start_time": "2022-02-15T21:25:23.839Z"
   },
   {
    "duration": 1542,
    "start_time": "2022-02-15T21:25:23.849Z"
   },
   {
    "duration": 1536,
    "start_time": "2022-02-15T21:25:23.857Z"
   },
   {
    "duration": 1527,
    "start_time": "2022-02-15T21:25:23.867Z"
   },
   {
    "duration": 1518,
    "start_time": "2022-02-15T21:25:23.877Z"
   },
   {
    "duration": 1511,
    "start_time": "2022-02-15T21:25:23.885Z"
   },
   {
    "duration": 1503,
    "start_time": "2022-02-15T21:25:23.895Z"
   },
   {
    "duration": 1487,
    "start_time": "2022-02-15T21:25:23.912Z"
   },
   {
    "duration": 1478,
    "start_time": "2022-02-15T21:25:23.923Z"
   },
   {
    "duration": 1469,
    "start_time": "2022-02-15T21:25:23.933Z"
   },
   {
    "duration": 1462,
    "start_time": "2022-02-15T21:25:23.941Z"
   },
   {
    "duration": 1457,
    "start_time": "2022-02-15T21:25:23.948Z"
   },
   {
    "duration": 1450,
    "start_time": "2022-02-15T21:25:23.956Z"
   },
   {
    "duration": 1441,
    "start_time": "2022-02-15T21:25:23.966Z"
   },
   {
    "duration": 1435,
    "start_time": "2022-02-15T21:25:23.973Z"
   },
   {
    "duration": 1429,
    "start_time": "2022-02-15T21:25:23.982Z"
   },
   {
    "duration": 1442,
    "start_time": "2022-02-15T21:25:23.989Z"
   },
   {
    "duration": 1434,
    "start_time": "2022-02-15T21:25:23.999Z"
   },
   {
    "duration": 1428,
    "start_time": "2022-02-15T21:25:24.006Z"
   },
   {
    "duration": 1419,
    "start_time": "2022-02-15T21:25:24.016Z"
   },
   {
    "duration": 1411,
    "start_time": "2022-02-15T21:25:24.026Z"
   },
   {
    "duration": 1406,
    "start_time": "2022-02-15T21:25:24.032Z"
   },
   {
    "duration": 1399,
    "start_time": "2022-02-15T21:25:24.040Z"
   },
   {
    "duration": 1391,
    "start_time": "2022-02-15T21:25:24.050Z"
   },
   {
    "duration": 1383,
    "start_time": "2022-02-15T21:25:24.059Z"
   },
   {
    "duration": 1378,
    "start_time": "2022-02-15T21:25:24.066Z"
   },
   {
    "duration": 1368,
    "start_time": "2022-02-15T21:25:24.077Z"
   },
   {
    "duration": 1350,
    "start_time": "2022-02-15T21:25:24.096Z"
   },
   {
    "duration": 1344,
    "start_time": "2022-02-15T21:25:24.104Z"
   },
   {
    "duration": 1335,
    "start_time": "2022-02-15T21:25:24.114Z"
   },
   {
    "duration": 1329,
    "start_time": "2022-02-15T21:25:24.122Z"
   },
   {
    "duration": 1321,
    "start_time": "2022-02-15T21:25:24.132Z"
   },
   {
    "duration": 1316,
    "start_time": "2022-02-15T21:25:24.138Z"
   },
   {
    "duration": 1308,
    "start_time": "2022-02-15T21:25:24.148Z"
   },
   {
    "duration": 1302,
    "start_time": "2022-02-15T21:25:24.155Z"
   },
   {
    "duration": 1293,
    "start_time": "2022-02-15T21:25:24.165Z"
   },
   {
    "duration": 1288,
    "start_time": "2022-02-15T21:25:24.172Z"
   },
   {
    "duration": 1278,
    "start_time": "2022-02-15T21:25:24.183Z"
   },
   {
    "duration": 1268,
    "start_time": "2022-02-15T21:25:24.194Z"
   },
   {
    "duration": 1262,
    "start_time": "2022-02-15T21:25:24.201Z"
   },
   {
    "duration": 1253,
    "start_time": "2022-02-15T21:25:24.212Z"
   },
   {
    "duration": 1247,
    "start_time": "2022-02-15T21:25:24.219Z"
   },
   {
    "duration": 1238,
    "start_time": "2022-02-15T21:25:24.229Z"
   },
   {
    "duration": 1231,
    "start_time": "2022-02-15T21:25:24.237Z"
   },
   {
    "duration": 1224,
    "start_time": "2022-02-15T21:25:24.246Z"
   },
   {
    "duration": 1279,
    "start_time": "2022-02-15T21:25:24.253Z"
   },
   {
    "duration": 1271,
    "start_time": "2022-02-15T21:25:24.263Z"
   },
   {
    "duration": 4,
    "start_time": "2022-02-15T21:26:21.579Z"
   },
   {
    "duration": 58,
    "start_time": "2022-02-15T21:26:21.589Z"
   },
   {
    "duration": 19,
    "start_time": "2022-02-15T21:26:21.650Z"
   },
   {
    "duration": 16,
    "start_time": "2022-02-15T21:26:21.672Z"
   },
   {
    "duration": 6,
    "start_time": "2022-02-15T21:26:21.691Z"
   },
   {
    "duration": 13,
    "start_time": "2022-02-15T21:26:21.733Z"
   },
   {
    "duration": 14,
    "start_time": "2022-02-15T21:26:21.749Z"
   },
   {
    "duration": 6,
    "start_time": "2022-02-15T21:26:21.765Z"
   },
   {
    "duration": 57,
    "start_time": "2022-02-15T21:26:21.775Z"
   },
   {
    "duration": 8,
    "start_time": "2022-02-15T21:26:21.836Z"
   },
   {
    "duration": 18,
    "start_time": "2022-02-15T21:26:21.847Z"
   },
   {
    "duration": 5,
    "start_time": "2022-02-15T21:26:21.867Z"
   },
   {
    "duration": 7,
    "start_time": "2022-02-15T21:26:21.874Z"
   },
   {
    "duration": 57,
    "start_time": "2022-02-15T21:26:21.883Z"
   },
   {
    "duration": 8,
    "start_time": "2022-02-15T21:26:21.943Z"
   },
   {
    "duration": 7,
    "start_time": "2022-02-15T21:26:21.953Z"
   },
   {
    "duration": 22,
    "start_time": "2022-02-15T21:26:21.962Z"
   },
   {
    "duration": 7,
    "start_time": "2022-02-15T21:26:21.986Z"
   },
   {
    "duration": 41,
    "start_time": "2022-02-15T21:26:21.995Z"
   },
   {
    "duration": 11,
    "start_time": "2022-02-15T21:26:22.039Z"
   },
   {
    "duration": 8,
    "start_time": "2022-02-15T21:26:22.052Z"
   },
   {
    "duration": 12,
    "start_time": "2022-02-15T21:26:22.063Z"
   },
   {
    "duration": 8,
    "start_time": "2022-02-15T21:26:22.078Z"
   },
   {
    "duration": 352,
    "start_time": "2022-02-15T21:26:22.138Z"
   },
   {
    "duration": 1734,
    "start_time": "2022-02-15T21:26:20.762Z"
   },
   {
    "duration": 1730,
    "start_time": "2022-02-15T21:26:20.768Z"
   },
   {
    "duration": 1720,
    "start_time": "2022-02-15T21:26:20.780Z"
   },
   {
    "duration": 1716,
    "start_time": "2022-02-15T21:26:20.786Z"
   },
   {
    "duration": 1709,
    "start_time": "2022-02-15T21:26:20.796Z"
   },
   {
    "duration": 1704,
    "start_time": "2022-02-15T21:26:20.803Z"
   },
   {
    "duration": 1697,
    "start_time": "2022-02-15T21:26:20.812Z"
   },
   {
    "duration": 1694,
    "start_time": "2022-02-15T21:26:20.817Z"
   },
   {
    "duration": 1685,
    "start_time": "2022-02-15T21:26:20.828Z"
   },
   {
    "duration": 1682,
    "start_time": "2022-02-15T21:26:20.833Z"
   },
   {
    "duration": 1674,
    "start_time": "2022-02-15T21:26:20.844Z"
   },
   {
    "duration": 1671,
    "start_time": "2022-02-15T21:26:20.849Z"
   },
   {
    "duration": 1666,
    "start_time": "2022-02-15T21:26:20.856Z"
   },
   {
    "duration": 1658,
    "start_time": "2022-02-15T21:26:20.866Z"
   },
   {
    "duration": 1655,
    "start_time": "2022-02-15T21:26:20.872Z"
   },
   {
    "duration": 1647,
    "start_time": "2022-02-15T21:26:20.882Z"
   },
   {
    "duration": 1643,
    "start_time": "2022-02-15T21:26:20.888Z"
   },
   {
    "duration": 1636,
    "start_time": "2022-02-15T21:26:20.897Z"
   },
   {
    "duration": 1633,
    "start_time": "2022-02-15T21:26:20.903Z"
   },
   {
    "duration": 1599,
    "start_time": "2022-02-15T21:26:20.939Z"
   },
   {
    "duration": 1591,
    "start_time": "2022-02-15T21:26:20.949Z"
   },
   {
    "duration": 1587,
    "start_time": "2022-02-15T21:26:20.955Z"
   },
   {
    "duration": 1551,
    "start_time": "2022-02-15T21:26:20.993Z"
   },
   {
    "duration": 1544,
    "start_time": "2022-02-15T21:26:21.002Z"
   },
   {
    "duration": 1539,
    "start_time": "2022-02-15T21:26:21.009Z"
   },
   {
    "duration": 1535,
    "start_time": "2022-02-15T21:26:21.015Z"
   },
   {
    "duration": 1532,
    "start_time": "2022-02-15T21:26:21.021Z"
   },
   {
    "duration": 1526,
    "start_time": "2022-02-15T21:26:21.030Z"
   },
   {
    "duration": 1520,
    "start_time": "2022-02-15T21:26:21.038Z"
   },
   {
    "duration": 1514,
    "start_time": "2022-02-15T21:26:21.046Z"
   },
   {
    "duration": 1510,
    "start_time": "2022-02-15T21:26:21.053Z"
   },
   {
    "duration": 1504,
    "start_time": "2022-02-15T21:26:21.061Z"
   },
   {
    "duration": 1500,
    "start_time": "2022-02-15T21:26:21.067Z"
   },
   {
    "duration": 1492,
    "start_time": "2022-02-15T21:26:21.077Z"
   },
   {
    "duration": 1488,
    "start_time": "2022-02-15T21:26:21.083Z"
   },
   {
    "duration": 1543,
    "start_time": "2022-02-15T21:26:21.089Z"
   },
   {
    "duration": 1536,
    "start_time": "2022-02-15T21:26:21.099Z"
   },
   {
    "duration": 1532,
    "start_time": "2022-02-15T21:26:21.105Z"
   },
   {
    "duration": 1525,
    "start_time": "2022-02-15T21:26:21.114Z"
   },
   {
    "duration": 1521,
    "start_time": "2022-02-15T21:26:21.121Z"
   },
   {
    "duration": 1514,
    "start_time": "2022-02-15T21:26:21.130Z"
   },
   {
    "duration": 1510,
    "start_time": "2022-02-15T21:26:21.136Z"
   },
   {
    "duration": 1505,
    "start_time": "2022-02-15T21:26:21.145Z"
   },
   {
    "duration": 1500,
    "start_time": "2022-02-15T21:26:21.152Z"
   },
   {
    "duration": 4,
    "start_time": "2022-02-15T21:27:16.199Z"
   },
   {
    "duration": 61,
    "start_time": "2022-02-15T21:27:16.209Z"
   },
   {
    "duration": 22,
    "start_time": "2022-02-15T21:27:16.273Z"
   },
   {
    "duration": 48,
    "start_time": "2022-02-15T21:27:16.299Z"
   },
   {
    "duration": 6,
    "start_time": "2022-02-15T21:27:16.350Z"
   },
   {
    "duration": 28,
    "start_time": "2022-02-15T21:27:16.359Z"
   },
   {
    "duration": 56,
    "start_time": "2022-02-15T21:27:16.390Z"
   },
   {
    "duration": 7,
    "start_time": "2022-02-15T21:27:16.449Z"
   },
   {
    "duration": 3,
    "start_time": "2022-02-15T21:27:16.462Z"
   },
   {
    "duration": 6,
    "start_time": "2022-02-15T21:27:16.470Z"
   },
   {
    "duration": 68,
    "start_time": "2022-02-15T21:27:16.479Z"
   },
   {
    "duration": 6,
    "start_time": "2022-02-15T21:27:16.550Z"
   },
   {
    "duration": 7,
    "start_time": "2022-02-15T21:27:16.559Z"
   },
   {
    "duration": 16,
    "start_time": "2022-02-15T21:27:16.569Z"
   },
   {
    "duration": 51,
    "start_time": "2022-02-15T21:27:16.587Z"
   },
   {
    "duration": 7,
    "start_time": "2022-02-15T21:27:16.641Z"
   },
   {
    "duration": 11,
    "start_time": "2022-02-15T21:27:16.651Z"
   },
   {
    "duration": 5,
    "start_time": "2022-02-15T21:27:16.665Z"
   },
   {
    "duration": 59,
    "start_time": "2022-02-15T21:27:16.673Z"
   },
   {
    "duration": 10,
    "start_time": "2022-02-15T21:27:16.735Z"
   },
   {
    "duration": 12,
    "start_time": "2022-02-15T21:27:16.748Z"
   },
   {
    "duration": 7,
    "start_time": "2022-02-15T21:27:16.763Z"
   },
   {
    "duration": 260,
    "start_time": "2022-02-15T21:27:16.772Z"
   },
   {
    "duration": 1788,
    "start_time": "2022-02-15T21:27:15.249Z"
   },
   {
    "duration": 1783,
    "start_time": "2022-02-15T21:27:15.255Z"
   },
   {
    "duration": 1775,
    "start_time": "2022-02-15T21:27:15.265Z"
   },
   {
    "duration": 1770,
    "start_time": "2022-02-15T21:27:15.272Z"
   },
   {
    "duration": 1762,
    "start_time": "2022-02-15T21:27:15.281Z"
   },
   {
    "duration": 1756,
    "start_time": "2022-02-15T21:27:15.289Z"
   },
   {
    "duration": 1750,
    "start_time": "2022-02-15T21:27:15.297Z"
   },
   {
    "duration": 1745,
    "start_time": "2022-02-15T21:27:15.303Z"
   },
   {
    "duration": 1737,
    "start_time": "2022-02-15T21:27:15.313Z"
   },
   {
    "duration": 1732,
    "start_time": "2022-02-15T21:27:15.319Z"
   },
   {
    "duration": 1725,
    "start_time": "2022-02-15T21:27:15.328Z"
   },
   {
    "duration": 1720,
    "start_time": "2022-02-15T21:27:15.334Z"
   },
   {
    "duration": 1713,
    "start_time": "2022-02-15T21:27:15.342Z"
   },
   {
    "duration": 1709,
    "start_time": "2022-02-15T21:27:15.348Z"
   },
   {
    "duration": 1706,
    "start_time": "2022-02-15T21:27:15.353Z"
   },
   {
    "duration": 1697,
    "start_time": "2022-02-15T21:27:15.363Z"
   },
   {
    "duration": 1693,
    "start_time": "2022-02-15T21:27:15.369Z"
   },
   {
    "duration": 1684,
    "start_time": "2022-02-15T21:27:15.379Z"
   },
   {
    "duration": 1679,
    "start_time": "2022-02-15T21:27:15.385Z"
   },
   {
    "duration": 1644,
    "start_time": "2022-02-15T21:27:15.422Z"
   },
   {
    "duration": 1637,
    "start_time": "2022-02-15T21:27:15.430Z"
   },
   {
    "duration": 1631,
    "start_time": "2022-02-15T21:27:15.437Z"
   },
   {
    "duration": 1624,
    "start_time": "2022-02-15T21:27:15.446Z"
   },
   {
    "duration": 1619,
    "start_time": "2022-02-15T21:27:15.452Z"
   },
   {
    "duration": 1612,
    "start_time": "2022-02-15T21:27:15.461Z"
   },
   {
    "duration": 1607,
    "start_time": "2022-02-15T21:27:15.467Z"
   },
   {
    "duration": 1599,
    "start_time": "2022-02-15T21:27:15.476Z"
   },
   {
    "duration": 1650,
    "start_time": "2022-02-15T21:27:15.482Z"
   },
   {
    "duration": 1645,
    "start_time": "2022-02-15T21:27:15.488Z"
   },
   {
    "duration": 1638,
    "start_time": "2022-02-15T21:27:15.497Z"
   },
   {
    "duration": 1633,
    "start_time": "2022-02-15T21:27:15.503Z"
   },
   {
    "duration": 1626,
    "start_time": "2022-02-15T21:27:15.512Z"
   },
   {
    "duration": 1620,
    "start_time": "2022-02-15T21:27:15.519Z"
   },
   {
    "duration": 1612,
    "start_time": "2022-02-15T21:27:15.528Z"
   },
   {
    "duration": 1608,
    "start_time": "2022-02-15T21:27:15.534Z"
   },
   {
    "duration": 1601,
    "start_time": "2022-02-15T21:27:15.543Z"
   },
   {
    "duration": 1595,
    "start_time": "2022-02-15T21:27:15.550Z"
   },
   {
    "duration": 1590,
    "start_time": "2022-02-15T21:27:15.556Z"
   },
   {
    "duration": 1582,
    "start_time": "2022-02-15T21:27:15.566Z"
   },
   {
    "duration": 1578,
    "start_time": "2022-02-15T21:27:15.571Z"
   },
   {
    "duration": 1570,
    "start_time": "2022-02-15T21:27:15.581Z"
   },
   {
    "duration": 1566,
    "start_time": "2022-02-15T21:27:15.586Z"
   },
   {
    "duration": 1558,
    "start_time": "2022-02-15T21:27:15.596Z"
   },
   {
    "duration": 1553,
    "start_time": "2022-02-15T21:27:15.602Z"
   },
   {
    "duration": 3,
    "start_time": "2022-02-15T21:28:18.864Z"
   },
   {
    "duration": 64,
    "start_time": "2022-02-15T21:28:18.869Z"
   },
   {
    "duration": 19,
    "start_time": "2022-02-15T21:28:18.935Z"
   },
   {
    "duration": 18,
    "start_time": "2022-02-15T21:28:18.957Z"
   },
   {
    "duration": 5,
    "start_time": "2022-02-15T21:28:18.977Z"
   },
   {
    "duration": 53,
    "start_time": "2022-02-15T21:28:18.984Z"
   },
   {
    "duration": 13,
    "start_time": "2022-02-15T21:28:19.041Z"
   },
   {
    "duration": 6,
    "start_time": "2022-02-15T21:28:19.056Z"
   },
   {
    "duration": 8,
    "start_time": "2022-02-15T21:28:19.065Z"
   },
   {
    "duration": 63,
    "start_time": "2022-02-15T21:28:19.076Z"
   },
   {
    "duration": 13,
    "start_time": "2022-02-15T21:28:19.141Z"
   },
   {
    "duration": 5,
    "start_time": "2022-02-15T21:28:19.157Z"
   },
   {
    "duration": 8,
    "start_time": "2022-02-15T21:28:19.164Z"
   },
   {
    "duration": 60,
    "start_time": "2022-02-15T21:28:19.175Z"
   },
   {
    "duration": 8,
    "start_time": "2022-02-15T21:28:19.237Z"
   },
   {
    "duration": 11,
    "start_time": "2022-02-15T21:28:19.248Z"
   },
   {
    "duration": 15,
    "start_time": "2022-02-15T21:28:19.261Z"
   },
   {
    "duration": 4,
    "start_time": "2022-02-15T21:28:19.279Z"
   },
   {
    "duration": 15,
    "start_time": "2022-02-15T21:28:19.288Z"
   },
   {
    "duration": 9,
    "start_time": "2022-02-15T21:28:19.332Z"
   },
   {
    "duration": 10,
    "start_time": "2022-02-15T21:28:19.344Z"
   },
   {
    "duration": 7,
    "start_time": "2022-02-15T21:28:19.356Z"
   },
   {
    "duration": 7,
    "start_time": "2022-02-15T21:28:19.366Z"
   },
   {
    "duration": 56,
    "start_time": "2022-02-15T21:28:19.376Z"
   },
   {
    "duration": 11,
    "start_time": "2022-02-15T21:28:19.435Z"
   },
   {
    "duration": 11,
    "start_time": "2022-02-15T21:28:19.449Z"
   },
   {
    "duration": 24,
    "start_time": "2022-02-15T21:28:19.463Z"
   },
   {
    "duration": 51,
    "start_time": "2022-02-15T21:28:19.490Z"
   },
   {
    "duration": 11,
    "start_time": "2022-02-15T21:28:19.544Z"
   },
   {
    "duration": 27,
    "start_time": "2022-02-15T21:28:19.558Z"
   },
   {
    "duration": 47,
    "start_time": "2022-02-15T21:28:19.587Z"
   },
   {
    "duration": 10,
    "start_time": "2022-02-15T21:28:19.637Z"
   },
   {
    "duration": 12,
    "start_time": "2022-02-15T21:28:19.650Z"
   },
   {
    "duration": 10,
    "start_time": "2022-02-15T21:28:19.665Z"
   },
   {
    "duration": 58,
    "start_time": "2022-02-15T21:28:19.678Z"
   },
   {
    "duration": 8,
    "start_time": "2022-02-15T21:28:19.739Z"
   },
   {
    "duration": 9,
    "start_time": "2022-02-15T21:28:19.750Z"
   },
   {
    "duration": 13,
    "start_time": "2022-02-15T21:28:19.762Z"
   },
   {
    "duration": 60,
    "start_time": "2022-02-15T21:28:19.778Z"
   },
   {
    "duration": 31,
    "start_time": "2022-02-15T21:28:19.841Z"
   },
   {
    "duration": 27,
    "start_time": "2022-02-15T21:28:19.874Z"
   },
   {
    "duration": 9,
    "start_time": "2022-02-15T21:28:19.932Z"
   },
   {
    "duration": 12,
    "start_time": "2022-02-15T21:28:19.943Z"
   },
   {
    "duration": 14,
    "start_time": "2022-02-15T21:28:19.957Z"
   },
   {
    "duration": 61,
    "start_time": "2022-02-15T21:28:19.973Z"
   },
   {
    "duration": 12,
    "start_time": "2022-02-15T21:28:20.036Z"
   },
   {
    "duration": 21,
    "start_time": "2022-02-15T21:28:20.050Z"
   },
   {
    "duration": 18,
    "start_time": "2022-02-15T21:28:20.073Z"
   },
   {
    "duration": 10,
    "start_time": "2022-02-15T21:28:20.093Z"
   },
   {
    "duration": 33,
    "start_time": "2022-02-15T21:28:20.106Z"
   },
   {
    "duration": 20,
    "start_time": "2022-02-15T21:28:20.141Z"
   },
   {
    "duration": 17,
    "start_time": "2022-02-15T21:28:20.164Z"
   },
   {
    "duration": 12,
    "start_time": "2022-02-15T21:28:20.184Z"
   },
   {
    "duration": 12,
    "start_time": "2022-02-15T21:28:20.231Z"
   },
   {
    "duration": 7,
    "start_time": "2022-02-15T21:28:20.251Z"
   },
   {
    "duration": 17,
    "start_time": "2022-02-15T21:28:20.261Z"
   },
   {
    "duration": 13,
    "start_time": "2022-02-15T21:28:20.280Z"
   },
   {
    "duration": 43,
    "start_time": "2022-02-15T21:28:20.296Z"
   },
   {
    "duration": 10,
    "start_time": "2022-02-15T21:28:20.341Z"
   },
   {
    "duration": 12,
    "start_time": "2022-02-15T21:28:20.354Z"
   },
   {
    "duration": 11,
    "start_time": "2022-02-15T21:28:20.369Z"
   },
   {
    "duration": 50,
    "start_time": "2022-02-15T21:28:20.383Z"
   },
   {
    "duration": 12,
    "start_time": "2022-02-15T21:28:20.436Z"
   },
   {
    "duration": 22,
    "start_time": "2022-02-15T21:28:20.450Z"
   },
   {
    "duration": 13,
    "start_time": "2022-02-15T21:28:20.474Z"
   },
   {
    "duration": 9,
    "start_time": "2022-02-15T21:28:20.490Z"
   },
   {
    "duration": 37,
    "start_time": "2022-02-15T21:28:20.502Z"
   },
   {
    "duration": 18,
    "start_time": "2022-02-15T21:48:06.318Z"
   },
   {
    "duration": 19,
    "start_time": "2022-02-15T21:48:07.158Z"
   },
   {
    "duration": 690,
    "start_time": "2022-02-15T21:56:11.979Z"
   },
   {
    "duration": 66,
    "start_time": "2022-02-15T21:56:12.672Z"
   },
   {
    "duration": 29,
    "start_time": "2022-02-15T21:56:12.740Z"
   },
   {
    "duration": 18,
    "start_time": "2022-02-15T21:56:12.771Z"
   },
   {
    "duration": 10,
    "start_time": "2022-02-15T21:56:12.792Z"
   },
   {
    "duration": 36,
    "start_time": "2022-02-15T21:56:12.805Z"
   },
   {
    "duration": 14,
    "start_time": "2022-02-15T21:56:12.843Z"
   },
   {
    "duration": 6,
    "start_time": "2022-02-15T21:56:12.860Z"
   },
   {
    "duration": 10,
    "start_time": "2022-02-15T21:56:12.869Z"
   },
   {
    "duration": 51,
    "start_time": "2022-02-15T21:56:12.881Z"
   },
   {
    "duration": 15,
    "start_time": "2022-02-15T21:56:12.935Z"
   },
   {
    "duration": 8,
    "start_time": "2022-02-15T21:56:12.953Z"
   },
   {
    "duration": 8,
    "start_time": "2022-02-15T21:56:12.963Z"
   },
   {
    "duration": 26,
    "start_time": "2022-02-15T21:56:12.973Z"
   },
   {
    "duration": 33,
    "start_time": "2022-02-15T21:56:13.001Z"
   },
   {
    "duration": 611,
    "start_time": "2022-02-15T21:56:13.037Z"
   },
   {
    "duration": 1833,
    "start_time": "2022-02-15T21:56:11.817Z"
   },
   {
    "duration": 1828,
    "start_time": "2022-02-15T21:56:11.824Z"
   },
   {
    "duration": 1820,
    "start_time": "2022-02-15T21:56:11.834Z"
   },
   {
    "duration": 6,
    "start_time": "2022-02-15T21:56:55.995Z"
   },
   {
    "duration": 1028,
    "start_time": "2022-02-15T21:56:57.331Z"
   },
   {
    "duration": 865,
    "start_time": "2022-02-15T21:57:13.783Z"
   },
   {
    "duration": 62,
    "start_time": "2022-02-15T21:57:14.652Z"
   },
   {
    "duration": 33,
    "start_time": "2022-02-15T21:57:14.717Z"
   },
   {
    "duration": 18,
    "start_time": "2022-02-15T21:57:14.753Z"
   },
   {
    "duration": 5,
    "start_time": "2022-02-15T21:57:14.774Z"
   },
   {
    "duration": 16,
    "start_time": "2022-02-15T21:57:14.782Z"
   },
   {
    "duration": 43,
    "start_time": "2022-02-15T21:57:14.801Z"
   },
   {
    "duration": 6,
    "start_time": "2022-02-15T21:57:14.848Z"
   },
   {
    "duration": 10,
    "start_time": "2022-02-15T21:57:14.856Z"
   },
   {
    "duration": 22,
    "start_time": "2022-02-15T21:57:14.869Z"
   },
   {
    "duration": 43,
    "start_time": "2022-02-15T21:57:14.894Z"
   },
   {
    "duration": 6,
    "start_time": "2022-02-15T21:57:14.940Z"
   },
   {
    "duration": 10,
    "start_time": "2022-02-15T21:57:14.949Z"
   },
   {
    "duration": 26,
    "start_time": "2022-02-15T21:57:14.961Z"
   },
   {
    "duration": 6,
    "start_time": "2022-02-15T21:57:14.990Z"
   },
   {
    "duration": 1156,
    "start_time": "2022-02-15T21:57:14.998Z"
   },
   {
    "duration": 22,
    "start_time": "2022-02-15T21:57:16.156Z"
   },
   {
    "duration": 5,
    "start_time": "2022-02-15T21:57:16.181Z"
   },
   {
    "duration": 1086,
    "start_time": "2022-02-15T21:57:16.188Z"
   },
   {
    "duration": 721,
    "start_time": "2022-02-15T21:58:09.019Z"
   },
   {
    "duration": 59,
    "start_time": "2022-02-15T21:58:09.742Z"
   },
   {
    "duration": 33,
    "start_time": "2022-02-15T21:58:09.805Z"
   },
   {
    "duration": 19,
    "start_time": "2022-02-15T21:58:09.841Z"
   },
   {
    "duration": 6,
    "start_time": "2022-02-15T21:58:09.863Z"
   },
   {
    "duration": 13,
    "start_time": "2022-02-15T21:58:09.872Z"
   },
   {
    "duration": 51,
    "start_time": "2022-02-15T21:58:09.887Z"
   },
   {
    "duration": 6,
    "start_time": "2022-02-15T21:58:09.942Z"
   },
   {
    "duration": 6,
    "start_time": "2022-02-15T21:58:09.950Z"
   },
   {
    "duration": 5,
    "start_time": "2022-02-15T21:58:09.959Z"
   },
   {
    "duration": 6,
    "start_time": "2022-02-15T21:58:09.967Z"
   },
   {
    "duration": 6,
    "start_time": "2022-02-15T21:58:09.976Z"
   },
   {
    "duration": 49,
    "start_time": "2022-02-15T21:58:09.984Z"
   },
   {
    "duration": 29,
    "start_time": "2022-02-15T21:58:10.035Z"
   },
   {
    "duration": 5,
    "start_time": "2022-02-15T21:58:10.066Z"
   },
   {
    "duration": 1085,
    "start_time": "2022-02-15T21:58:10.074Z"
   },
   {
    "duration": 22,
    "start_time": "2022-02-15T21:58:11.162Z"
   },
   {
    "duration": 5,
    "start_time": "2022-02-15T21:58:11.186Z"
   },
   {
    "duration": 1023,
    "start_time": "2022-02-15T21:58:11.193Z"
   },
   {
    "duration": 12,
    "start_time": "2022-02-15T21:58:16.882Z"
   },
   {
    "duration": 4,
    "start_time": "2022-02-15T22:00:09.177Z"
   },
   {
    "duration": 69,
    "start_time": "2022-02-15T22:00:09.185Z"
   },
   {
    "duration": 18,
    "start_time": "2022-02-15T22:00:09.257Z"
   },
   {
    "duration": 22,
    "start_time": "2022-02-15T22:00:09.278Z"
   },
   {
    "duration": 30,
    "start_time": "2022-02-15T22:00:09.303Z"
   },
   {
    "duration": 19,
    "start_time": "2022-02-15T22:00:09.335Z"
   },
   {
    "duration": 24,
    "start_time": "2022-02-15T22:00:09.356Z"
   },
   {
    "duration": 5,
    "start_time": "2022-02-15T22:00:09.382Z"
   },
   {
    "duration": 10,
    "start_time": "2022-02-15T22:00:09.391Z"
   },
   {
    "duration": 3,
    "start_time": "2022-02-15T22:00:09.433Z"
   },
   {
    "duration": 8,
    "start_time": "2022-02-15T22:00:09.438Z"
   },
   {
    "duration": 8,
    "start_time": "2022-02-15T22:00:09.448Z"
   },
   {
    "duration": 8,
    "start_time": "2022-02-15T22:00:09.458Z"
   },
   {
    "duration": 22,
    "start_time": "2022-02-15T22:00:09.469Z"
   },
   {
    "duration": 4,
    "start_time": "2022-02-15T22:00:09.494Z"
   },
   {
    "duration": 1035,
    "start_time": "2022-02-15T22:00:09.532Z"
   },
   {
    "duration": 28,
    "start_time": "2022-02-15T22:00:10.570Z"
   },
   {
    "duration": 4,
    "start_time": "2022-02-15T22:00:10.601Z"
   },
   {
    "duration": 1102,
    "start_time": "2022-02-15T22:00:10.608Z"
   },
   {
    "duration": 21,
    "start_time": "2022-02-15T22:00:11.712Z"
   },
   {
    "duration": 7,
    "start_time": "2022-02-15T22:00:11.736Z"
   },
   {
    "duration": 5,
    "start_time": "2022-02-15T22:00:11.745Z"
   },
   {
    "duration": 14,
    "start_time": "2022-02-15T22:00:11.753Z"
   },
   {
    "duration": 7,
    "start_time": "2022-02-15T22:00:11.773Z"
   },
   {
    "duration": 53,
    "start_time": "2022-02-15T22:00:11.785Z"
   },
   {
    "duration": 9,
    "start_time": "2022-02-15T22:00:11.840Z"
   },
   {
    "duration": 9,
    "start_time": "2022-02-15T22:00:11.852Z"
   },
   {
    "duration": 16,
    "start_time": "2022-02-15T22:00:11.863Z"
   },
   {
    "duration": 14,
    "start_time": "2022-02-15T22:00:11.881Z"
   },
   {
    "duration": 40,
    "start_time": "2022-02-15T22:00:11.898Z"
   },
   {
    "duration": 24,
    "start_time": "2022-02-15T22:00:11.942Z"
   },
   {
    "duration": 7,
    "start_time": "2022-02-15T22:00:11.969Z"
   },
   {
    "duration": 9,
    "start_time": "2022-02-15T22:00:11.979Z"
   },
   {
    "duration": 63,
    "start_time": "2022-02-15T22:00:11.990Z"
   },
   {
    "duration": 8,
    "start_time": "2022-02-15T22:00:12.055Z"
   },
   {
    "duration": 13,
    "start_time": "2022-02-15T22:00:12.066Z"
   },
   {
    "duration": 12,
    "start_time": "2022-02-15T22:00:12.082Z"
   },
   {
    "duration": 38,
    "start_time": "2022-02-15T22:00:12.096Z"
   },
   {
    "duration": 10,
    "start_time": "2022-02-15T22:00:12.136Z"
   },
   {
    "duration": 11,
    "start_time": "2022-02-15T22:00:12.148Z"
   },
   {
    "duration": 8,
    "start_time": "2022-02-15T22:00:12.161Z"
   },
   {
    "duration": 11,
    "start_time": "2022-02-15T22:00:12.172Z"
   },
   {
    "duration": 61,
    "start_time": "2022-02-15T22:00:12.185Z"
   },
   {
    "duration": 27,
    "start_time": "2022-02-15T22:00:12.249Z"
   },
   {
    "duration": 24,
    "start_time": "2022-02-15T22:00:12.279Z"
   },
   {
    "duration": 33,
    "start_time": "2022-02-15T22:00:12.306Z"
   },
   {
    "duration": 12,
    "start_time": "2022-02-15T22:00:12.342Z"
   },
   {
    "duration": 15,
    "start_time": "2022-02-15T22:00:12.356Z"
   },
   {
    "duration": 27,
    "start_time": "2022-02-15T22:00:12.374Z"
   },
   {
    "duration": 5,
    "start_time": "2022-02-15T22:00:12.433Z"
   },
   {
    "duration": 20,
    "start_time": "2022-02-15T22:00:12.440Z"
   },
   {
    "duration": 23,
    "start_time": "2022-02-15T22:00:12.463Z"
   },
   {
    "duration": 7,
    "start_time": "2022-02-15T22:00:12.488Z"
   },
   {
    "duration": 39,
    "start_time": "2022-02-15T22:00:12.497Z"
   },
   {
    "duration": 21,
    "start_time": "2022-02-15T22:00:12.538Z"
   },
   {
    "duration": 31,
    "start_time": "2022-02-15T22:00:12.561Z"
   },
   {
    "duration": 15,
    "start_time": "2022-02-15T22:00:12.594Z"
   },
   {
    "duration": 27,
    "start_time": "2022-02-15T22:00:12.612Z"
   },
   {
    "duration": 10,
    "start_time": "2022-02-15T22:00:12.642Z"
   },
   {
    "duration": 20,
    "start_time": "2022-02-15T22:00:12.654Z"
   },
   {
    "duration": 10,
    "start_time": "2022-02-15T22:00:12.677Z"
   },
   {
    "duration": 10,
    "start_time": "2022-02-15T22:00:12.690Z"
   },
   {
    "duration": 32,
    "start_time": "2022-02-15T22:00:12.702Z"
   },
   {
    "duration": 21,
    "start_time": "2022-02-15T22:00:12.736Z"
   },
   {
    "duration": 10,
    "start_time": "2022-02-15T22:00:12.759Z"
   },
   {
    "duration": 12,
    "start_time": "2022-02-15T22:00:12.772Z"
   },
   {
    "duration": 14,
    "start_time": "2022-02-15T22:00:12.786Z"
   },
   {
    "duration": 41,
    "start_time": "2022-02-15T22:00:12.803Z"
   },
   {
    "duration": 15,
    "start_time": "2022-02-15T22:00:12.855Z"
   },
   {
    "duration": 9,
    "start_time": "2022-02-15T22:00:12.873Z"
   },
   {
    "duration": 12,
    "start_time": "2022-02-15T22:00:12.885Z"
   },
   {
    "duration": 221,
    "start_time": "2022-02-16T18:04:01.418Z"
   },
   {
    "duration": 607,
    "start_time": "2022-02-16T18:04:18.666Z"
   },
   {
    "duration": 47,
    "start_time": "2022-02-16T18:04:19.275Z"
   },
   {
    "duration": 18,
    "start_time": "2022-02-16T18:04:19.324Z"
   },
   {
    "duration": 21,
    "start_time": "2022-02-16T18:04:19.343Z"
   },
   {
    "duration": 3,
    "start_time": "2022-02-16T18:04:19.366Z"
   },
   {
    "duration": 11,
    "start_time": "2022-02-16T18:04:19.371Z"
   },
   {
    "duration": 10,
    "start_time": "2022-02-16T18:04:19.383Z"
   },
   {
    "duration": 3,
    "start_time": "2022-02-16T18:04:19.396Z"
   },
   {
    "duration": 7,
    "start_time": "2022-02-16T18:04:19.402Z"
   },
   {
    "duration": 5,
    "start_time": "2022-02-16T18:04:19.411Z"
   },
   {
    "duration": 7,
    "start_time": "2022-02-16T18:04:19.417Z"
   },
   {
    "duration": 34,
    "start_time": "2022-02-16T18:04:19.426Z"
   },
   {
    "duration": 8,
    "start_time": "2022-02-16T18:04:19.462Z"
   },
   {
    "duration": 4,
    "start_time": "2022-02-16T18:04:19.471Z"
   },
   {
    "duration": 8,
    "start_time": "2022-02-16T18:04:19.477Z"
   },
   {
    "duration": 3,
    "start_time": "2022-02-16T18:04:19.487Z"
   },
   {
    "duration": 9,
    "start_time": "2022-02-16T18:04:19.491Z"
   },
   {
    "duration": 5,
    "start_time": "2022-02-16T18:04:19.502Z"
   },
   {
    "duration": 9,
    "start_time": "2022-02-16T18:04:19.509Z"
   },
   {
    "duration": 39,
    "start_time": "2022-02-16T18:04:19.520Z"
   },
   {
    "duration": 250,
    "start_time": "2022-02-16T18:04:19.561Z"
   },
   {
    "duration": 1725,
    "start_time": "2022-02-16T18:04:18.091Z"
   },
   {
    "duration": 1717,
    "start_time": "2022-02-16T18:04:18.101Z"
   },
   {
    "duration": 1711,
    "start_time": "2022-02-16T18:04:18.108Z"
   },
   {
    "duration": 1702,
    "start_time": "2022-02-16T18:04:18.118Z"
   },
   {
    "duration": 1653,
    "start_time": "2022-02-16T18:04:18.168Z"
   },
   {
    "duration": 1648,
    "start_time": "2022-02-16T18:04:18.174Z"
   },
   {
    "duration": 1639,
    "start_time": "2022-02-16T18:04:18.184Z"
   },
   {
    "duration": 1633,
    "start_time": "2022-02-16T18:04:18.191Z"
   },
   {
    "duration": 1625,
    "start_time": "2022-02-16T18:04:18.200Z"
   },
   {
    "duration": 1618,
    "start_time": "2022-02-16T18:04:18.208Z"
   },
   {
    "duration": 1609,
    "start_time": "2022-02-16T18:04:18.217Z"
   },
   {
    "duration": 1603,
    "start_time": "2022-02-16T18:04:18.224Z"
   },
   {
    "duration": 1595,
    "start_time": "2022-02-16T18:04:18.234Z"
   },
   {
    "duration": 1589,
    "start_time": "2022-02-16T18:04:18.241Z"
   },
   {
    "duration": 1580,
    "start_time": "2022-02-16T18:04:18.251Z"
   },
   {
    "duration": 1574,
    "start_time": "2022-02-16T18:04:18.258Z"
   },
   {
    "duration": 1566,
    "start_time": "2022-02-16T18:04:18.267Z"
   },
   {
    "duration": 1560,
    "start_time": "2022-02-16T18:04:18.275Z"
   },
   {
    "duration": 1550,
    "start_time": "2022-02-16T18:04:18.285Z"
   },
   {
    "duration": 1544,
    "start_time": "2022-02-16T18:04:18.293Z"
   },
   {
    "duration": 1507,
    "start_time": "2022-02-16T18:04:18.331Z"
   },
   {
    "duration": 1501,
    "start_time": "2022-02-16T18:04:18.338Z"
   },
   {
    "duration": 1497,
    "start_time": "2022-02-16T18:04:18.345Z"
   },
   {
    "duration": 1489,
    "start_time": "2022-02-16T18:04:18.355Z"
   },
   {
    "duration": 1483,
    "start_time": "2022-02-16T18:04:18.362Z"
   },
   {
    "duration": 1474,
    "start_time": "2022-02-16T18:04:18.372Z"
   },
   {
    "duration": 1469,
    "start_time": "2022-02-16T18:04:18.379Z"
   },
   {
    "duration": 1460,
    "start_time": "2022-02-16T18:04:18.389Z"
   },
   {
    "duration": 1456,
    "start_time": "2022-02-16T18:04:18.395Z"
   },
   {
    "duration": 1447,
    "start_time": "2022-02-16T18:04:18.404Z"
   },
   {
    "duration": 1441,
    "start_time": "2022-02-16T18:04:18.411Z"
   },
   {
    "duration": 1432,
    "start_time": "2022-02-16T18:04:18.420Z"
   },
   {
    "duration": 1427,
    "start_time": "2022-02-16T18:04:18.426Z"
   },
   {
    "duration": 1418,
    "start_time": "2022-02-16T18:04:18.436Z"
   },
   {
    "duration": 1415,
    "start_time": "2022-02-16T18:04:18.443Z"
   },
   {
    "duration": 1408,
    "start_time": "2022-02-16T18:04:18.451Z"
   },
   {
    "duration": 1403,
    "start_time": "2022-02-16T18:04:18.457Z"
   },
   {
    "duration": 1394,
    "start_time": "2022-02-16T18:04:18.468Z"
   },
   {
    "duration": 1388,
    "start_time": "2022-02-16T18:04:18.475Z"
   },
   {
    "duration": 1379,
    "start_time": "2022-02-16T18:04:18.485Z"
   },
   {
    "duration": 1374,
    "start_time": "2022-02-16T18:04:18.492Z"
   },
   {
    "duration": 1363,
    "start_time": "2022-02-16T18:04:18.504Z"
   },
   {
    "duration": 1358,
    "start_time": "2022-02-16T18:04:18.510Z"
   },
   {
    "duration": 1348,
    "start_time": "2022-02-16T18:04:18.521Z"
   },
   {
    "duration": 10,
    "start_time": "2022-02-16T18:05:12.131Z"
   },
   {
    "duration": 10,
    "start_time": "2022-02-16T18:05:26.107Z"
   },
   {
    "duration": 211,
    "start_time": "2022-02-16T18:07:09.419Z"
   },
   {
    "duration": 35,
    "start_time": "2022-02-16T18:07:44.562Z"
   },
   {
    "duration": 11,
    "start_time": "2022-02-16T18:07:59.810Z"
   },
   {
    "duration": 34,
    "start_time": "2022-02-16T18:10:08.177Z"
   },
   {
    "duration": 11,
    "start_time": "2022-02-16T18:10:08.985Z"
   },
   {
    "duration": 545,
    "start_time": "2022-02-16T18:10:19.818Z"
   },
   {
    "duration": 47,
    "start_time": "2022-02-16T18:10:20.364Z"
   },
   {
    "duration": 19,
    "start_time": "2022-02-16T18:10:20.413Z"
   },
   {
    "duration": 26,
    "start_time": "2022-02-16T18:10:20.434Z"
   },
   {
    "duration": 4,
    "start_time": "2022-02-16T18:10:20.462Z"
   },
   {
    "duration": 12,
    "start_time": "2022-02-16T18:10:20.468Z"
   },
   {
    "duration": 25,
    "start_time": "2022-02-16T18:10:20.482Z"
   },
   {
    "duration": 5,
    "start_time": "2022-02-16T18:10:20.510Z"
   },
   {
    "duration": 7,
    "start_time": "2022-02-16T18:10:20.517Z"
   },
   {
    "duration": 5,
    "start_time": "2022-02-16T18:10:20.526Z"
   },
   {
    "duration": 6,
    "start_time": "2022-02-16T18:10:20.532Z"
   },
   {
    "duration": 19,
    "start_time": "2022-02-16T18:10:20.540Z"
   },
   {
    "duration": 3,
    "start_time": "2022-02-16T18:10:20.561Z"
   },
   {
    "duration": 15,
    "start_time": "2022-02-16T18:10:20.566Z"
   },
   {
    "duration": 8,
    "start_time": "2022-02-16T18:10:20.583Z"
   },
   {
    "duration": 36,
    "start_time": "2022-02-16T18:10:20.593Z"
   },
   {
    "duration": 30,
    "start_time": "2022-02-16T18:10:20.631Z"
   },
   {
    "duration": 6,
    "start_time": "2022-02-16T18:10:20.662Z"
   },
   {
    "duration": 23,
    "start_time": "2022-02-16T18:10:20.670Z"
   },
   {
    "duration": 11,
    "start_time": "2022-02-16T18:10:20.695Z"
   },
   {
    "duration": 7,
    "start_time": "2022-02-16T18:10:20.708Z"
   },
   {
    "duration": 8,
    "start_time": "2022-02-16T18:10:20.717Z"
   },
   {
    "duration": 6,
    "start_time": "2022-02-16T18:10:20.729Z"
   },
   {
    "duration": 22,
    "start_time": "2022-02-16T18:10:20.737Z"
   },
   {
    "duration": 5,
    "start_time": "2022-02-16T18:10:20.760Z"
   },
   {
    "duration": 8,
    "start_time": "2022-02-16T18:10:20.767Z"
   },
   {
    "duration": 8,
    "start_time": "2022-02-16T18:10:20.776Z"
   },
   {
    "duration": 18,
    "start_time": "2022-02-16T18:10:20.786Z"
   },
   {
    "duration": 6,
    "start_time": "2022-02-16T18:10:20.806Z"
   },
   {
    "duration": 9,
    "start_time": "2022-02-16T18:10:20.813Z"
   },
   {
    "duration": 52,
    "start_time": "2022-02-16T18:10:20.824Z"
   },
   {
    "duration": 12,
    "start_time": "2022-02-16T18:10:20.878Z"
   },
   {
    "duration": 12,
    "start_time": "2022-02-16T18:10:20.891Z"
   },
   {
    "duration": 11,
    "start_time": "2022-02-16T18:10:20.905Z"
   },
   {
    "duration": 8,
    "start_time": "2022-02-16T18:10:20.918Z"
   },
   {
    "duration": 5,
    "start_time": "2022-02-16T18:10:20.928Z"
   },
   {
    "duration": 4,
    "start_time": "2022-02-16T18:10:20.935Z"
   },
   {
    "duration": 22,
    "start_time": "2022-02-16T18:10:20.940Z"
   },
   {
    "duration": 12,
    "start_time": "2022-02-16T18:10:20.964Z"
   },
   {
    "duration": 22,
    "start_time": "2022-02-16T18:10:20.978Z"
   },
   {
    "duration": 22,
    "start_time": "2022-02-16T18:10:21.001Z"
   },
   {
    "duration": 39,
    "start_time": "2022-02-16T18:10:21.024Z"
   },
   {
    "duration": 7,
    "start_time": "2022-02-16T18:10:21.065Z"
   },
   {
    "duration": 9,
    "start_time": "2022-02-16T18:10:21.073Z"
   },
   {
    "duration": 12,
    "start_time": "2022-02-16T18:10:21.084Z"
   },
   {
    "duration": 19,
    "start_time": "2022-02-16T18:10:21.098Z"
   },
   {
    "duration": 5,
    "start_time": "2022-02-16T18:10:21.119Z"
   },
   {
    "duration": 37,
    "start_time": "2022-02-16T18:10:21.125Z"
   },
   {
    "duration": 16,
    "start_time": "2022-02-16T18:10:21.164Z"
   },
   {
    "duration": 7,
    "start_time": "2022-02-16T18:10:21.182Z"
   },
   {
    "duration": 11,
    "start_time": "2022-02-16T18:10:21.191Z"
   },
   {
    "duration": 15,
    "start_time": "2022-02-16T18:10:21.203Z"
   },
   {
    "duration": 12,
    "start_time": "2022-02-16T18:10:21.220Z"
   },
   {
    "duration": 6,
    "start_time": "2022-02-16T18:10:21.234Z"
   },
   {
    "duration": 15,
    "start_time": "2022-02-16T18:10:21.260Z"
   },
   {
    "duration": 8,
    "start_time": "2022-02-16T18:10:21.276Z"
   },
   {
    "duration": 11,
    "start_time": "2022-02-16T18:10:21.285Z"
   },
   {
    "duration": 6,
    "start_time": "2022-02-16T18:10:21.298Z"
   },
   {
    "duration": 8,
    "start_time": "2022-02-16T18:10:21.306Z"
   },
   {
    "duration": 9,
    "start_time": "2022-02-16T18:10:21.315Z"
   },
   {
    "duration": 8,
    "start_time": "2022-02-16T18:10:21.325Z"
   },
   {
    "duration": 25,
    "start_time": "2022-02-16T18:10:21.335Z"
   },
   {
    "duration": 6,
    "start_time": "2022-02-16T18:10:21.361Z"
   },
   {
    "duration": 26,
    "start_time": "2022-02-16T18:10:21.369Z"
   },
   {
    "duration": 16,
    "start_time": "2022-02-16T18:10:21.397Z"
   },
   {
    "duration": 7,
    "start_time": "2022-02-16T18:10:21.415Z"
   },
   {
    "duration": 8,
    "start_time": "2022-02-16T18:10:21.424Z"
   },
   {
    "duration": 5,
    "start_time": "2022-02-16T18:10:21.436Z"
   },
   {
    "duration": 7,
    "start_time": "2022-02-16T18:33:52.040Z"
   },
   {
    "duration": 7,
    "start_time": "2022-02-16T18:33:55.687Z"
   },
   {
    "duration": 8,
    "start_time": "2022-02-16T18:35:06.591Z"
   },
   {
    "duration": 8,
    "start_time": "2022-02-16T18:35:07.759Z"
   },
   {
    "duration": 7,
    "start_time": "2022-02-16T18:35:08.649Z"
   },
   {
    "duration": 7,
    "start_time": "2022-02-16T18:35:14.016Z"
   },
   {
    "duration": 5,
    "start_time": "2022-02-16T18:38:48.316Z"
   },
   {
    "duration": 5,
    "start_time": "2022-02-16T18:38:49.460Z"
   },
   {
    "duration": 7,
    "start_time": "2022-02-16T18:38:50.125Z"
   },
   {
    "duration": 7,
    "start_time": "2022-02-16T18:38:51.235Z"
   },
   {
    "duration": 21,
    "start_time": "2022-02-16T18:40:51.241Z"
   },
   {
    "duration": 629,
    "start_time": "2022-02-16T18:42:15.359Z"
   },
   {
    "duration": 45,
    "start_time": "2022-02-16T18:42:15.990Z"
   },
   {
    "duration": 26,
    "start_time": "2022-02-16T18:42:16.037Z"
   },
   {
    "duration": 10,
    "start_time": "2022-02-16T18:42:16.065Z"
   },
   {
    "duration": 4,
    "start_time": "2022-02-16T18:42:16.076Z"
   },
   {
    "duration": 11,
    "start_time": "2022-02-16T18:42:16.081Z"
   },
   {
    "duration": 9,
    "start_time": "2022-02-16T18:42:16.094Z"
   },
   {
    "duration": 4,
    "start_time": "2022-02-16T18:42:16.106Z"
   },
   {
    "duration": 3,
    "start_time": "2022-02-16T18:42:16.113Z"
   },
   {
    "duration": 41,
    "start_time": "2022-02-16T18:42:16.118Z"
   },
   {
    "duration": 7,
    "start_time": "2022-02-16T18:42:16.161Z"
   },
   {
    "duration": 6,
    "start_time": "2022-02-16T18:42:16.170Z"
   },
   {
    "duration": 5,
    "start_time": "2022-02-16T18:42:16.177Z"
   },
   {
    "duration": 11,
    "start_time": "2022-02-16T18:42:16.184Z"
   },
   {
    "duration": 7,
    "start_time": "2022-02-16T18:42:16.196Z"
   },
   {
    "duration": 31,
    "start_time": "2022-02-16T18:42:16.205Z"
   },
   {
    "duration": 24,
    "start_time": "2022-02-16T18:42:16.238Z"
   },
   {
    "duration": 6,
    "start_time": "2022-02-16T18:42:16.264Z"
   },
   {
    "duration": 7,
    "start_time": "2022-02-16T18:42:16.272Z"
   },
   {
    "duration": 12,
    "start_time": "2022-02-16T18:42:16.281Z"
   },
   {
    "duration": 14,
    "start_time": "2022-02-16T18:42:16.294Z"
   },
   {
    "duration": 12,
    "start_time": "2022-02-16T18:42:16.309Z"
   },
   {
    "duration": 6,
    "start_time": "2022-02-16T18:42:16.325Z"
   },
   {
    "duration": 5,
    "start_time": "2022-02-16T18:42:16.333Z"
   },
   {
    "duration": 24,
    "start_time": "2022-02-16T18:42:16.339Z"
   },
   {
    "duration": 9,
    "start_time": "2022-02-16T18:42:16.364Z"
   },
   {
    "duration": 8,
    "start_time": "2022-02-16T18:42:16.375Z"
   },
   {
    "duration": 16,
    "start_time": "2022-02-16T18:42:16.385Z"
   },
   {
    "duration": 6,
    "start_time": "2022-02-16T18:42:16.403Z"
   },
   {
    "duration": 7,
    "start_time": "2022-02-16T18:42:16.411Z"
   },
   {
    "duration": 43,
    "start_time": "2022-02-16T18:42:16.419Z"
   },
   {
    "duration": 5,
    "start_time": "2022-02-16T18:42:16.464Z"
   },
   {
    "duration": 9,
    "start_time": "2022-02-16T18:42:16.470Z"
   },
   {
    "duration": 9,
    "start_time": "2022-02-16T18:42:16.481Z"
   },
   {
    "duration": 9,
    "start_time": "2022-02-16T18:42:16.491Z"
   },
   {
    "duration": 6,
    "start_time": "2022-02-16T18:42:16.502Z"
   },
   {
    "duration": 5,
    "start_time": "2022-02-16T18:42:16.509Z"
   },
   {
    "duration": 6,
    "start_time": "2022-02-16T18:42:16.515Z"
   },
   {
    "duration": 37,
    "start_time": "2022-02-16T18:42:16.523Z"
   },
   {
    "duration": 19,
    "start_time": "2022-02-16T18:42:16.561Z"
   },
   {
    "duration": 19,
    "start_time": "2022-02-16T18:42:16.582Z"
   },
   {
    "duration": 15,
    "start_time": "2022-02-16T18:42:16.603Z"
   },
   {
    "duration": 6,
    "start_time": "2022-02-16T18:42:16.619Z"
   },
   {
    "duration": 33,
    "start_time": "2022-02-16T18:42:16.627Z"
   },
   {
    "duration": 10,
    "start_time": "2022-02-16T18:42:16.661Z"
   },
   {
    "duration": 4,
    "start_time": "2022-02-16T18:42:16.673Z"
   },
   {
    "duration": 10,
    "start_time": "2022-02-16T18:42:16.678Z"
   },
   {
    "duration": 8,
    "start_time": "2022-02-16T18:42:16.689Z"
   },
   {
    "duration": 5,
    "start_time": "2022-02-16T18:42:16.699Z"
   },
   {
    "duration": 8,
    "start_time": "2022-02-16T18:42:16.706Z"
   },
   {
    "duration": 7,
    "start_time": "2022-02-16T18:42:16.715Z"
   },
   {
    "duration": 37,
    "start_time": "2022-02-16T18:42:16.723Z"
   },
   {
    "duration": 14,
    "start_time": "2022-02-16T18:42:16.762Z"
   },
   {
    "duration": 7,
    "start_time": "2022-02-16T18:42:16.778Z"
   },
   {
    "duration": 15,
    "start_time": "2022-02-16T18:42:16.786Z"
   },
   {
    "duration": 15,
    "start_time": "2022-02-16T18:42:16.803Z"
   },
   {
    "duration": 4,
    "start_time": "2022-02-16T18:42:16.820Z"
   },
   {
    "duration": 13,
    "start_time": "2022-02-16T18:42:16.825Z"
   },
   {
    "duration": 28,
    "start_time": "2022-02-16T18:42:16.840Z"
   },
   {
    "duration": 12,
    "start_time": "2022-02-16T18:42:16.870Z"
   },
   {
    "duration": 6,
    "start_time": "2022-02-16T18:42:16.884Z"
   },
   {
    "duration": 6,
    "start_time": "2022-02-16T18:42:16.892Z"
   },
   {
    "duration": 5,
    "start_time": "2022-02-16T18:42:16.899Z"
   },
   {
    "duration": 10,
    "start_time": "2022-02-16T18:42:16.906Z"
   },
   {
    "duration": 8,
    "start_time": "2022-02-16T18:42:16.918Z"
   },
   {
    "duration": 31,
    "start_time": "2022-02-16T18:42:16.928Z"
   },
   {
    "duration": 7,
    "start_time": "2022-02-16T18:42:16.961Z"
   },
   {
    "duration": 8,
    "start_time": "2022-02-16T18:42:16.973Z"
   },
   {
    "duration": 7,
    "start_time": "2022-02-16T18:42:16.983Z"
   },
   {
    "duration": 7,
    "start_time": "2022-02-16T18:42:16.992Z"
   },
   {
    "duration": 6,
    "start_time": "2022-02-16T18:42:17.001Z"
   },
   {
    "duration": 9,
    "start_time": "2022-02-16T18:42:17.009Z"
   },
   {
    "duration": 44,
    "start_time": "2022-02-16T18:42:17.019Z"
   },
   {
    "duration": 6,
    "start_time": "2022-02-16T18:42:17.065Z"
   },
   {
    "duration": 9,
    "start_time": "2022-02-16T18:42:17.072Z"
   },
   {
    "duration": 255,
    "start_time": "2022-02-16T18:47:18.464Z"
   },
   {
    "duration": 169,
    "start_time": "2022-02-16T18:47:28.870Z"
   },
   {
    "duration": 167,
    "start_time": "2022-02-16T18:48:13.095Z"
   },
   {
    "duration": 175,
    "start_time": "2022-02-16T18:49:36.734Z"
   },
   {
    "duration": 174,
    "start_time": "2022-02-16T18:50:44.116Z"
   },
   {
    "duration": 12,
    "start_time": "2022-02-16T18:50:54.006Z"
   },
   {
    "duration": 6,
    "start_time": "2022-02-16T18:50:56.044Z"
   },
   {
    "duration": 168,
    "start_time": "2022-02-16T18:53:46.563Z"
   },
   {
    "duration": 417,
    "start_time": "2022-02-16T18:53:59.546Z"
   },
   {
    "duration": 187,
    "start_time": "2022-02-16T18:54:14.258Z"
   },
   {
    "duration": 166,
    "start_time": "2022-02-16T18:57:13.344Z"
   },
   {
    "duration": 10,
    "start_time": "2022-02-16T18:57:29.287Z"
   },
   {
    "duration": 196,
    "start_time": "2022-02-16T18:58:31.126Z"
   },
   {
    "duration": 11,
    "start_time": "2022-02-16T18:58:37.655Z"
   },
   {
    "duration": 12,
    "start_time": "2022-02-16T18:58:41.678Z"
   },
   {
    "duration": 6,
    "start_time": "2022-02-16T18:58:42.782Z"
   },
   {
    "duration": 511,
    "start_time": "2022-02-16T18:59:04.819Z"
   },
   {
    "duration": 54,
    "start_time": "2022-02-16T18:59:05.332Z"
   },
   {
    "duration": 18,
    "start_time": "2022-02-16T18:59:05.388Z"
   },
   {
    "duration": 14,
    "start_time": "2022-02-16T18:59:05.408Z"
   },
   {
    "duration": 4,
    "start_time": "2022-02-16T18:59:05.424Z"
   },
   {
    "duration": 30,
    "start_time": "2022-02-16T18:59:05.430Z"
   },
   {
    "duration": 10,
    "start_time": "2022-02-16T18:59:05.462Z"
   },
   {
    "duration": 4,
    "start_time": "2022-02-16T18:59:05.474Z"
   },
   {
    "duration": 3,
    "start_time": "2022-02-16T18:59:05.480Z"
   },
   {
    "duration": 5,
    "start_time": "2022-02-16T18:59:05.485Z"
   },
   {
    "duration": 6,
    "start_time": "2022-02-16T18:59:05.491Z"
   },
   {
    "duration": 10,
    "start_time": "2022-02-16T18:59:05.499Z"
   },
   {
    "duration": 5,
    "start_time": "2022-02-16T18:59:05.510Z"
   },
   {
    "duration": 9,
    "start_time": "2022-02-16T18:59:05.517Z"
   },
   {
    "duration": 33,
    "start_time": "2022-02-16T18:59:05.527Z"
   },
   {
    "duration": 32,
    "start_time": "2022-02-16T18:59:05.561Z"
   },
   {
    "duration": 8,
    "start_time": "2022-02-16T18:59:05.595Z"
   },
   {
    "duration": 5,
    "start_time": "2022-02-16T18:59:05.605Z"
   },
   {
    "duration": 5,
    "start_time": "2022-02-16T18:59:05.611Z"
   },
   {
    "duration": 14,
    "start_time": "2022-02-16T18:59:05.618Z"
   },
   {
    "duration": 32,
    "start_time": "2022-02-16T18:59:05.633Z"
   },
   {
    "duration": 7,
    "start_time": "2022-02-16T18:59:05.667Z"
   },
   {
    "duration": 4,
    "start_time": "2022-02-16T18:59:05.677Z"
   },
   {
    "duration": 5,
    "start_time": "2022-02-16T18:59:05.684Z"
   },
   {
    "duration": 6,
    "start_time": "2022-02-16T18:59:05.690Z"
   },
   {
    "duration": 13,
    "start_time": "2022-02-16T18:59:05.698Z"
   },
   {
    "duration": 11,
    "start_time": "2022-02-16T18:59:05.712Z"
   },
   {
    "duration": 48,
    "start_time": "2022-02-16T18:59:05.724Z"
   },
   {
    "duration": 5,
    "start_time": "2022-02-16T18:59:05.774Z"
   },
   {
    "duration": 14,
    "start_time": "2022-02-16T18:59:05.781Z"
   },
   {
    "duration": 21,
    "start_time": "2022-02-16T18:59:05.796Z"
   },
   {
    "duration": 5,
    "start_time": "2022-02-16T18:59:05.819Z"
   },
   {
    "duration": 8,
    "start_time": "2022-02-16T18:59:05.826Z"
   },
   {
    "duration": 26,
    "start_time": "2022-02-16T18:59:05.836Z"
   },
   {
    "duration": 9,
    "start_time": "2022-02-16T18:59:05.863Z"
   },
   {
    "duration": 5,
    "start_time": "2022-02-16T18:59:05.874Z"
   },
   {
    "duration": 5,
    "start_time": "2022-02-16T18:59:05.881Z"
   },
   {
    "duration": 10,
    "start_time": "2022-02-16T18:59:05.888Z"
   },
   {
    "duration": 18,
    "start_time": "2022-02-16T18:59:05.900Z"
   },
   {
    "duration": 22,
    "start_time": "2022-02-16T18:59:05.920Z"
   },
   {
    "duration": 34,
    "start_time": "2022-02-16T18:59:05.944Z"
   },
   {
    "duration": 17,
    "start_time": "2022-02-16T18:59:05.980Z"
   },
   {
    "duration": 7,
    "start_time": "2022-02-16T18:59:05.998Z"
   },
   {
    "duration": 20,
    "start_time": "2022-02-16T18:59:06.007Z"
   },
   {
    "duration": 21,
    "start_time": "2022-02-16T18:59:06.028Z"
   },
   {
    "duration": 7,
    "start_time": "2022-02-16T18:59:06.060Z"
   },
   {
    "duration": 12,
    "start_time": "2022-02-16T18:59:06.069Z"
   },
   {
    "duration": 8,
    "start_time": "2022-02-16T18:59:06.082Z"
   },
   {
    "duration": 13,
    "start_time": "2022-02-16T18:59:06.092Z"
   },
   {
    "duration": 13,
    "start_time": "2022-02-16T18:59:06.107Z"
   },
   {
    "duration": 10,
    "start_time": "2022-02-16T18:59:06.121Z"
   },
   {
    "duration": 27,
    "start_time": "2022-02-16T18:59:06.133Z"
   },
   {
    "duration": 18,
    "start_time": "2022-02-16T18:59:06.162Z"
   },
   {
    "duration": 6,
    "start_time": "2022-02-16T18:59:06.183Z"
   },
   {
    "duration": 18,
    "start_time": "2022-02-16T18:59:06.191Z"
   },
   {
    "duration": 14,
    "start_time": "2022-02-16T18:59:06.211Z"
   },
   {
    "duration": 10,
    "start_time": "2022-02-16T18:59:06.226Z"
   },
   {
    "duration": 26,
    "start_time": "2022-02-16T18:59:06.238Z"
   },
   {
    "duration": 14,
    "start_time": "2022-02-16T18:59:06.266Z"
   },
   {
    "duration": 13,
    "start_time": "2022-02-16T18:59:06.282Z"
   },
   {
    "duration": 9,
    "start_time": "2022-02-16T18:59:06.296Z"
   },
   {
    "duration": 9,
    "start_time": "2022-02-16T18:59:06.306Z"
   },
   {
    "duration": 7,
    "start_time": "2022-02-16T18:59:06.317Z"
   },
   {
    "duration": 10,
    "start_time": "2022-02-16T18:59:06.360Z"
   },
   {
    "duration": 7,
    "start_time": "2022-02-16T18:59:06.371Z"
   },
   {
    "duration": 14,
    "start_time": "2022-02-16T18:59:06.380Z"
   },
   {
    "duration": 9,
    "start_time": "2022-02-16T18:59:06.396Z"
   },
   {
    "duration": 9,
    "start_time": "2022-02-16T18:59:06.409Z"
   },
   {
    "duration": 15,
    "start_time": "2022-02-16T18:59:06.420Z"
   },
   {
    "duration": 23,
    "start_time": "2022-02-16T18:59:06.436Z"
   },
   {
    "duration": 20,
    "start_time": "2022-02-16T18:59:06.461Z"
   },
   {
    "duration": 3,
    "start_time": "2022-02-16T18:59:06.483Z"
   },
   {
    "duration": 5,
    "start_time": "2022-02-16T18:59:06.488Z"
   },
   {
    "duration": 237,
    "start_time": "2022-02-16T18:59:06.495Z"
   },
   {
    "duration": 1619,
    "start_time": "2022-02-16T18:59:05.115Z"
   },
   {
    "duration": 1608,
    "start_time": "2022-02-16T18:59:05.127Z"
   },
   {
    "duration": 1601,
    "start_time": "2022-02-16T18:59:05.135Z"
   },
   {
    "duration": 2,
    "start_time": "2022-02-16T18:59:23.611Z"
   },
   {
    "duration": 46,
    "start_time": "2022-02-16T18:59:23.618Z"
   },
   {
    "duration": 13,
    "start_time": "2022-02-16T18:59:23.666Z"
   },
   {
    "duration": 12,
    "start_time": "2022-02-16T18:59:23.681Z"
   },
   {
    "duration": 3,
    "start_time": "2022-02-16T18:59:23.695Z"
   },
   {
    "duration": 10,
    "start_time": "2022-02-16T18:59:23.700Z"
   },
   {
    "duration": 11,
    "start_time": "2022-02-16T18:59:23.712Z"
   },
   {
    "duration": 3,
    "start_time": "2022-02-16T18:59:23.725Z"
   },
   {
    "duration": 29,
    "start_time": "2022-02-16T18:59:23.731Z"
   },
   {
    "duration": 8,
    "start_time": "2022-02-16T18:59:23.762Z"
   },
   {
    "duration": 7,
    "start_time": "2022-02-16T18:59:23.771Z"
   },
   {
    "duration": 6,
    "start_time": "2022-02-16T18:59:23.780Z"
   },
   {
    "duration": 6,
    "start_time": "2022-02-16T18:59:23.787Z"
   },
   {
    "duration": 12,
    "start_time": "2022-02-16T18:59:23.794Z"
   },
   {
    "duration": 9,
    "start_time": "2022-02-16T18:59:23.808Z"
   },
   {
    "duration": 65,
    "start_time": "2022-02-16T18:59:23.819Z"
   },
   {
    "duration": 9,
    "start_time": "2022-02-16T18:59:23.886Z"
   },
   {
    "duration": 9,
    "start_time": "2022-02-16T18:59:23.896Z"
   },
   {
    "duration": 7,
    "start_time": "2022-02-16T18:59:23.907Z"
   },
   {
    "duration": 15,
    "start_time": "2022-02-16T18:59:23.916Z"
   },
   {
    "duration": 28,
    "start_time": "2022-02-16T18:59:23.932Z"
   },
   {
    "duration": 15,
    "start_time": "2022-02-16T18:59:23.962Z"
   },
   {
    "duration": 5,
    "start_time": "2022-02-16T18:59:23.978Z"
   },
   {
    "duration": 6,
    "start_time": "2022-02-16T18:59:23.985Z"
   },
   {
    "duration": 9,
    "start_time": "2022-02-16T18:59:23.994Z"
   },
   {
    "duration": 11,
    "start_time": "2022-02-16T18:59:24.005Z"
   },
   {
    "duration": 11,
    "start_time": "2022-02-16T18:59:24.017Z"
   },
   {
    "duration": 42,
    "start_time": "2022-02-16T18:59:24.029Z"
   },
   {
    "duration": 5,
    "start_time": "2022-02-16T18:59:24.072Z"
   },
   {
    "duration": 10,
    "start_time": "2022-02-16T18:59:24.079Z"
   },
   {
    "duration": 20,
    "start_time": "2022-02-16T18:59:24.090Z"
   },
   {
    "duration": 5,
    "start_time": "2022-02-16T18:59:24.112Z"
   },
   {
    "duration": 10,
    "start_time": "2022-02-16T18:59:24.118Z"
   },
   {
    "duration": 7,
    "start_time": "2022-02-16T18:59:24.159Z"
   },
   {
    "duration": 8,
    "start_time": "2022-02-16T18:59:24.168Z"
   },
   {
    "duration": 7,
    "start_time": "2022-02-16T18:59:24.177Z"
   },
   {
    "duration": 6,
    "start_time": "2022-02-16T18:59:24.186Z"
   },
   {
    "duration": 8,
    "start_time": "2022-02-16T18:59:24.193Z"
   },
   {
    "duration": 9,
    "start_time": "2022-02-16T18:59:24.202Z"
   },
   {
    "duration": 48,
    "start_time": "2022-02-16T18:59:24.212Z"
   },
   {
    "duration": 20,
    "start_time": "2022-02-16T18:59:24.261Z"
   },
   {
    "duration": 17,
    "start_time": "2022-02-16T18:59:24.283Z"
   },
   {
    "duration": 6,
    "start_time": "2022-02-16T18:59:24.304Z"
   },
   {
    "duration": 9,
    "start_time": "2022-02-16T18:59:24.312Z"
   },
   {
    "duration": 9,
    "start_time": "2022-02-16T18:59:24.323Z"
   },
   {
    "duration": 26,
    "start_time": "2022-02-16T18:59:24.334Z"
   },
   {
    "duration": 15,
    "start_time": "2022-02-16T18:59:24.362Z"
   },
   {
    "duration": 7,
    "start_time": "2022-02-16T18:59:24.379Z"
   },
   {
    "duration": 10,
    "start_time": "2022-02-16T18:59:24.387Z"
   },
   {
    "duration": 7,
    "start_time": "2022-02-16T18:59:24.399Z"
   },
   {
    "duration": 6,
    "start_time": "2022-02-16T18:59:24.408Z"
   },
   {
    "duration": 9,
    "start_time": "2022-02-16T18:59:24.416Z"
   },
   {
    "duration": 33,
    "start_time": "2022-02-16T18:59:24.427Z"
   },
   {
    "duration": 5,
    "start_time": "2022-02-16T18:59:24.462Z"
   },
   {
    "duration": 12,
    "start_time": "2022-02-16T18:59:24.468Z"
   },
   {
    "duration": 15,
    "start_time": "2022-02-16T18:59:24.482Z"
   },
   {
    "duration": 4,
    "start_time": "2022-02-16T18:59:24.499Z"
   },
   {
    "duration": 14,
    "start_time": "2022-02-16T18:59:24.505Z"
   },
   {
    "duration": 18,
    "start_time": "2022-02-16T18:59:24.520Z"
   },
   {
    "duration": 32,
    "start_time": "2022-02-16T18:59:24.539Z"
   },
   {
    "duration": 8,
    "start_time": "2022-02-16T18:59:24.572Z"
   },
   {
    "duration": 10,
    "start_time": "2022-02-16T18:59:24.581Z"
   },
   {
    "duration": 9,
    "start_time": "2022-02-16T18:59:24.592Z"
   },
   {
    "duration": 10,
    "start_time": "2022-02-16T18:59:24.602Z"
   },
   {
    "duration": 7,
    "start_time": "2022-02-16T18:59:24.614Z"
   },
   {
    "duration": 7,
    "start_time": "2022-02-16T18:59:24.623Z"
   },
   {
    "duration": 8,
    "start_time": "2022-02-16T18:59:24.631Z"
   },
   {
    "duration": 24,
    "start_time": "2022-02-16T18:59:24.640Z"
   },
   {
    "duration": 6,
    "start_time": "2022-02-16T18:59:24.666Z"
   },
   {
    "duration": 9,
    "start_time": "2022-02-16T18:59:24.674Z"
   },
   {
    "duration": 9,
    "start_time": "2022-02-16T18:59:24.684Z"
   },
   {
    "duration": 7,
    "start_time": "2022-02-16T18:59:24.695Z"
   },
   {
    "duration": 4,
    "start_time": "2022-02-16T18:59:24.704Z"
   },
   {
    "duration": 6,
    "start_time": "2022-02-16T18:59:24.710Z"
   },
   {
    "duration": 167,
    "start_time": "2022-02-16T18:59:24.717Z"
   },
   {
    "duration": 1270,
    "start_time": "2022-02-16T18:59:23.615Z"
   },
   {
    "duration": 1259,
    "start_time": "2022-02-16T18:59:23.627Z"
   },
   {
    "duration": 2,
    "start_time": "2022-02-16T18:59:39.859Z"
   },
   {
    "duration": 48,
    "start_time": "2022-02-16T18:59:39.864Z"
   },
   {
    "duration": 12,
    "start_time": "2022-02-16T18:59:39.914Z"
   },
   {
    "duration": 13,
    "start_time": "2022-02-16T18:59:39.928Z"
   },
   {
    "duration": 18,
    "start_time": "2022-02-16T18:59:39.942Z"
   },
   {
    "duration": 14,
    "start_time": "2022-02-16T18:59:39.961Z"
   },
   {
    "duration": 9,
    "start_time": "2022-02-16T18:59:39.976Z"
   },
   {
    "duration": 6,
    "start_time": "2022-02-16T18:59:39.987Z"
   },
   {
    "duration": 9,
    "start_time": "2022-02-16T18:59:39.995Z"
   },
   {
    "duration": 6,
    "start_time": "2022-02-16T18:59:40.006Z"
   },
   {
    "duration": 10,
    "start_time": "2022-02-16T18:59:40.014Z"
   },
   {
    "duration": 9,
    "start_time": "2022-02-16T18:59:40.026Z"
   },
   {
    "duration": 24,
    "start_time": "2022-02-16T18:59:40.037Z"
   },
   {
    "duration": 19,
    "start_time": "2022-02-16T18:59:40.063Z"
   },
   {
    "duration": 7,
    "start_time": "2022-02-16T18:59:40.084Z"
   },
   {
    "duration": 33,
    "start_time": "2022-02-16T18:59:40.093Z"
   },
   {
    "duration": 33,
    "start_time": "2022-02-16T18:59:40.128Z"
   },
   {
    "duration": 8,
    "start_time": "2022-02-16T18:59:40.162Z"
   },
   {
    "duration": 3,
    "start_time": "2022-02-16T18:59:40.172Z"
   },
   {
    "duration": 9,
    "start_time": "2022-02-16T18:59:40.177Z"
   },
   {
    "duration": 5,
    "start_time": "2022-02-16T18:59:40.189Z"
   },
   {
    "duration": 9,
    "start_time": "2022-02-16T18:59:40.196Z"
   },
   {
    "duration": 4,
    "start_time": "2022-02-16T18:59:40.207Z"
   },
   {
    "duration": 5,
    "start_time": "2022-02-16T18:59:40.213Z"
   },
   {
    "duration": 42,
    "start_time": "2022-02-16T18:59:40.220Z"
   },
   {
    "duration": 8,
    "start_time": "2022-02-16T18:59:40.264Z"
   },
   {
    "duration": 9,
    "start_time": "2022-02-16T18:59:40.273Z"
   },
   {
    "duration": 18,
    "start_time": "2022-02-16T18:59:40.284Z"
   },
   {
    "duration": 6,
    "start_time": "2022-02-16T18:59:40.303Z"
   },
   {
    "duration": 10,
    "start_time": "2022-02-16T18:59:40.311Z"
   },
   {
    "duration": 51,
    "start_time": "2022-02-16T18:59:40.322Z"
   },
   {
    "duration": 5,
    "start_time": "2022-02-16T18:59:40.375Z"
   },
   {
    "duration": 16,
    "start_time": "2022-02-16T18:59:40.381Z"
   },
   {
    "duration": 9,
    "start_time": "2022-02-16T18:59:40.399Z"
   },
   {
    "duration": 8,
    "start_time": "2022-02-16T18:59:40.410Z"
   },
   {
    "duration": 6,
    "start_time": "2022-02-16T18:59:40.420Z"
   },
   {
    "duration": 32,
    "start_time": "2022-02-16T18:59:40.428Z"
   },
   {
    "duration": 5,
    "start_time": "2022-02-16T18:59:40.461Z"
   },
   {
    "duration": 13,
    "start_time": "2022-02-16T18:59:40.468Z"
   },
   {
    "duration": 24,
    "start_time": "2022-02-16T18:59:40.482Z"
   },
   {
    "duration": 21,
    "start_time": "2022-02-16T18:59:40.508Z"
   },
   {
    "duration": 44,
    "start_time": "2022-02-16T18:59:40.531Z"
   },
   {
    "duration": 7,
    "start_time": "2022-02-16T18:59:40.577Z"
   },
   {
    "duration": 10,
    "start_time": "2022-02-16T18:59:40.586Z"
   },
   {
    "duration": 9,
    "start_time": "2022-02-16T18:59:40.597Z"
   },
   {
    "duration": 4,
    "start_time": "2022-02-16T18:59:40.608Z"
   },
   {
    "duration": 10,
    "start_time": "2022-02-16T18:59:40.613Z"
   },
   {
    "duration": 36,
    "start_time": "2022-02-16T18:59:40.627Z"
   },
   {
    "duration": 6,
    "start_time": "2022-02-16T18:59:40.666Z"
   },
   {
    "duration": 14,
    "start_time": "2022-02-16T18:59:40.674Z"
   },
   {
    "duration": 7,
    "start_time": "2022-02-16T18:59:40.691Z"
   },
   {
    "duration": 11,
    "start_time": "2022-02-16T18:59:40.700Z"
   },
   {
    "duration": 18,
    "start_time": "2022-02-16T18:59:40.712Z"
   },
   {
    "duration": 4,
    "start_time": "2022-02-16T18:59:40.732Z"
   },
   {
    "duration": 30,
    "start_time": "2022-02-16T18:59:40.738Z"
   },
   {
    "duration": 14,
    "start_time": "2022-02-16T18:59:40.770Z"
   },
   {
    "duration": 4,
    "start_time": "2022-02-16T18:59:40.786Z"
   },
   {
    "duration": 15,
    "start_time": "2022-02-16T18:59:40.792Z"
   },
   {
    "duration": 22,
    "start_time": "2022-02-16T18:59:40.809Z"
   },
   {
    "duration": 29,
    "start_time": "2022-02-16T18:59:40.833Z"
   },
   {
    "duration": 7,
    "start_time": "2022-02-16T18:59:40.864Z"
   },
   {
    "duration": 8,
    "start_time": "2022-02-16T18:59:40.873Z"
   },
   {
    "duration": 7,
    "start_time": "2022-02-16T18:59:40.882Z"
   },
   {
    "duration": 11,
    "start_time": "2022-02-16T18:59:40.890Z"
   },
   {
    "duration": 7,
    "start_time": "2022-02-16T18:59:40.902Z"
   },
   {
    "duration": 7,
    "start_time": "2022-02-16T18:59:40.910Z"
   },
   {
    "duration": 9,
    "start_time": "2022-02-16T18:59:40.918Z"
   },
   {
    "duration": 35,
    "start_time": "2022-02-16T18:59:40.928Z"
   },
   {
    "duration": 6,
    "start_time": "2022-02-16T18:59:40.965Z"
   },
   {
    "duration": 8,
    "start_time": "2022-02-16T18:59:40.972Z"
   },
   {
    "duration": 7,
    "start_time": "2022-02-16T18:59:40.981Z"
   },
   {
    "duration": 13,
    "start_time": "2022-02-16T18:59:40.989Z"
   },
   {
    "duration": 4,
    "start_time": "2022-02-16T18:59:41.004Z"
   },
   {
    "duration": 6,
    "start_time": "2022-02-16T18:59:41.010Z"
   },
   {
    "duration": 13,
    "start_time": "2022-02-16T18:59:41.017Z"
   },
   {
    "duration": 13,
    "start_time": "2022-02-16T18:59:41.032Z"
   },
   {
    "duration": 13,
    "start_time": "2022-02-16T18:59:41.046Z"
   },
   {
    "duration": 192,
    "start_time": "2022-02-16T19:00:07.275Z"
   },
   {
    "duration": 15,
    "start_time": "2022-02-16T19:00:21.563Z"
   },
   {
    "duration": 15,
    "start_time": "2022-02-16T19:00:47.587Z"
   },
   {
    "duration": 212,
    "start_time": "2022-02-16T19:01:41.050Z"
   },
   {
    "duration": 20,
    "start_time": "2022-02-16T19:01:52.338Z"
   },
   {
    "duration": 16,
    "start_time": "2022-02-16T19:02:07.369Z"
   },
   {
    "duration": 12,
    "start_time": "2022-02-16T19:02:28.009Z"
   },
   {
    "duration": 7,
    "start_time": "2022-02-16T19:02:28.954Z"
   },
   {
    "duration": 62,
    "start_time": "2022-02-16T19:03:02.065Z"
   },
   {
    "duration": 188,
    "start_time": "2022-02-16T19:03:07.809Z"
   },
   {
    "duration": 178,
    "start_time": "2022-02-16T19:03:19.065Z"
   },
   {
    "duration": 11,
    "start_time": "2022-02-16T19:05:28.759Z"
   },
   {
    "duration": 6,
    "start_time": "2022-02-16T19:05:31.823Z"
   },
   {
    "duration": 186,
    "start_time": "2022-02-16T19:11:14.867Z"
   },
   {
    "duration": 24,
    "start_time": "2022-02-16T19:11:26.936Z"
   },
   {
    "duration": 62,
    "start_time": "2022-02-16T19:12:01.756Z"
   },
   {
    "duration": 32,
    "start_time": "2022-02-16T19:12:30.579Z"
   },
   {
    "duration": 40,
    "start_time": "2022-02-16T19:14:44.194Z"
   },
   {
    "duration": 31,
    "start_time": "2022-02-16T19:15:01.922Z"
   },
   {
    "duration": 19,
    "start_time": "2022-02-16T19:15:41.379Z"
   },
   {
    "duration": 170,
    "start_time": "2022-02-16T19:16:20.952Z"
   },
   {
    "duration": 55,
    "start_time": "2022-02-16T19:16:35.032Z"
   },
   {
    "duration": 186,
    "start_time": "2022-02-16T19:16:38.808Z"
   },
   {
    "duration": 173,
    "start_time": "2022-02-16T19:16:52.768Z"
   },
   {
    "duration": 15,
    "start_time": "2022-02-16T19:18:09.287Z"
   },
   {
    "duration": 192,
    "start_time": "2022-02-16T19:18:49.680Z"
   },
   {
    "duration": 168,
    "start_time": "2022-02-16T19:20:15.879Z"
   },
   {
    "duration": 168,
    "start_time": "2022-02-16T19:20:43.299Z"
   },
   {
    "duration": 181,
    "start_time": "2022-02-16T19:20:52.323Z"
   },
   {
    "duration": 195,
    "start_time": "2022-02-16T19:20:56.554Z"
   },
   {
    "duration": 213,
    "start_time": "2022-02-16T19:21:11.378Z"
   },
   {
    "duration": 13,
    "start_time": "2022-02-16T19:21:32.003Z"
   },
   {
    "duration": 484,
    "start_time": "2022-02-16T19:21:48.579Z"
   },
   {
    "duration": 13,
    "start_time": "2022-02-16T19:21:59.874Z"
   },
   {
    "duration": 54,
    "start_time": "2022-02-16T19:22:54.963Z"
   },
   {
    "duration": 170,
    "start_time": "2022-02-16T19:23:15.808Z"
   },
   {
    "duration": 14,
    "start_time": "2022-02-16T19:23:23.057Z"
   },
   {
    "duration": 13,
    "start_time": "2022-02-16T19:25:46.208Z"
   },
   {
    "duration": 6,
    "start_time": "2022-02-16T19:25:48.391Z"
   },
   {
    "duration": 14,
    "start_time": "2022-02-16T19:25:56.327Z"
   },
   {
    "duration": 58,
    "start_time": "2022-02-16T19:26:49.503Z"
   },
   {
    "duration": 182,
    "start_time": "2022-02-16T19:26:58.606Z"
   },
   {
    "duration": 208,
    "start_time": "2022-02-16T19:27:09.110Z"
   },
   {
    "duration": 688,
    "start_time": "2022-02-16T19:27:17.654Z"
   },
   {
    "duration": 178,
    "start_time": "2022-02-16T19:27:32.631Z"
   },
   {
    "duration": 179,
    "start_time": "2022-02-16T19:27:44.886Z"
   },
   {
    "duration": 14,
    "start_time": "2022-02-16T19:29:31.046Z"
   },
   {
    "duration": 58,
    "start_time": "2022-02-16T19:32:32.539Z"
   },
   {
    "duration": 54,
    "start_time": "2022-02-16T19:33:04.771Z"
   },
   {
    "duration": 60,
    "start_time": "2022-02-16T19:33:18.770Z"
   },
   {
    "duration": 28,
    "start_time": "2022-02-16T19:33:23.573Z"
   },
   {
    "duration": 177,
    "start_time": "2022-02-16T19:33:40.418Z"
   },
   {
    "duration": 26,
    "start_time": "2022-02-16T19:33:45.554Z"
   },
   {
    "duration": 35,
    "start_time": "2022-02-16T19:34:47.122Z"
   },
   {
    "duration": 30,
    "start_time": "2022-02-16T19:35:01.898Z"
   },
   {
    "duration": 14,
    "start_time": "2022-02-16T19:36:08.113Z"
   },
   {
    "duration": 14,
    "start_time": "2022-02-16T19:37:00.161Z"
   },
   {
    "duration": 597,
    "start_time": "2022-02-16T19:42:33.790Z"
   },
   {
    "duration": 47,
    "start_time": "2022-02-16T19:42:34.389Z"
   },
   {
    "duration": 22,
    "start_time": "2022-02-16T19:42:34.438Z"
   },
   {
    "duration": 10,
    "start_time": "2022-02-16T19:42:34.462Z"
   },
   {
    "duration": 6,
    "start_time": "2022-02-16T19:42:34.473Z"
   },
   {
    "duration": 11,
    "start_time": "2022-02-16T19:42:34.481Z"
   },
   {
    "duration": 9,
    "start_time": "2022-02-16T19:42:34.494Z"
   },
   {
    "duration": 4,
    "start_time": "2022-02-16T19:42:34.505Z"
   },
   {
    "duration": 5,
    "start_time": "2022-02-16T19:42:34.511Z"
   },
   {
    "duration": 5,
    "start_time": "2022-02-16T19:42:34.518Z"
   },
   {
    "duration": 34,
    "start_time": "2022-02-16T19:42:34.525Z"
   },
   {
    "duration": 9,
    "start_time": "2022-02-16T19:42:34.561Z"
   },
   {
    "duration": 9,
    "start_time": "2022-02-16T19:42:34.571Z"
   },
   {
    "duration": 11,
    "start_time": "2022-02-16T19:42:34.581Z"
   },
   {
    "duration": 7,
    "start_time": "2022-02-16T19:42:34.594Z"
   },
   {
    "duration": 33,
    "start_time": "2022-02-16T19:42:34.603Z"
   },
   {
    "duration": 23,
    "start_time": "2022-02-16T19:42:34.637Z"
   },
   {
    "duration": 5,
    "start_time": "2022-02-16T19:42:34.661Z"
   },
   {
    "duration": 6,
    "start_time": "2022-02-16T19:42:34.668Z"
   },
   {
    "duration": 11,
    "start_time": "2022-02-16T19:42:34.676Z"
   },
   {
    "duration": 5,
    "start_time": "2022-02-16T19:42:34.689Z"
   },
   {
    "duration": 9,
    "start_time": "2022-02-16T19:42:34.696Z"
   },
   {
    "duration": 5,
    "start_time": "2022-02-16T19:42:34.709Z"
   },
   {
    "duration": 5,
    "start_time": "2022-02-16T19:42:34.716Z"
   },
   {
    "duration": 37,
    "start_time": "2022-02-16T19:42:34.723Z"
   },
   {
    "duration": 6,
    "start_time": "2022-02-16T19:42:34.762Z"
   },
   {
    "duration": 11,
    "start_time": "2022-02-16T19:42:34.769Z"
   },
   {
    "duration": 18,
    "start_time": "2022-02-16T19:42:34.781Z"
   },
   {
    "duration": 6,
    "start_time": "2022-02-16T19:42:34.801Z"
   },
   {
    "duration": 10,
    "start_time": "2022-02-16T19:42:34.809Z"
   },
   {
    "duration": 47,
    "start_time": "2022-02-16T19:42:34.820Z"
   },
   {
    "duration": 5,
    "start_time": "2022-02-16T19:42:34.869Z"
   },
   {
    "duration": 8,
    "start_time": "2022-02-16T19:42:34.876Z"
   },
   {
    "duration": 9,
    "start_time": "2022-02-16T19:42:34.886Z"
   },
   {
    "duration": 8,
    "start_time": "2022-02-16T19:42:34.897Z"
   },
   {
    "duration": 7,
    "start_time": "2022-02-16T19:42:34.906Z"
   },
   {
    "duration": 5,
    "start_time": "2022-02-16T19:42:34.915Z"
   },
   {
    "duration": 6,
    "start_time": "2022-02-16T19:42:34.921Z"
   },
   {
    "duration": 34,
    "start_time": "2022-02-16T19:42:34.929Z"
   },
   {
    "duration": 21,
    "start_time": "2022-02-16T19:42:34.965Z"
   },
   {
    "duration": 21,
    "start_time": "2022-02-16T19:42:34.988Z"
   },
   {
    "duration": 18,
    "start_time": "2022-02-16T19:42:35.011Z"
   },
   {
    "duration": 33,
    "start_time": "2022-02-16T19:42:35.031Z"
   },
   {
    "duration": 19,
    "start_time": "2022-02-16T19:42:35.065Z"
   },
   {
    "duration": 11,
    "start_time": "2022-02-16T19:42:35.085Z"
   },
   {
    "duration": 4,
    "start_time": "2022-02-16T19:42:35.098Z"
   },
   {
    "duration": 9,
    "start_time": "2022-02-16T19:42:35.104Z"
   },
   {
    "duration": 9,
    "start_time": "2022-02-16T19:42:35.114Z"
   },
   {
    "duration": 10,
    "start_time": "2022-02-16T19:42:35.124Z"
   },
   {
    "duration": 23,
    "start_time": "2022-02-16T19:42:35.136Z"
   },
   {
    "duration": 6,
    "start_time": "2022-02-16T19:42:35.161Z"
   },
   {
    "duration": 10,
    "start_time": "2022-02-16T19:42:35.169Z"
   },
   {
    "duration": 17,
    "start_time": "2022-02-16T19:42:35.180Z"
   },
   {
    "duration": 6,
    "start_time": "2022-02-16T19:42:35.199Z"
   },
   {
    "duration": 19,
    "start_time": "2022-02-16T19:42:35.207Z"
   },
   {
    "duration": 31,
    "start_time": "2022-02-16T19:42:35.228Z"
   },
   {
    "duration": 6,
    "start_time": "2022-02-16T19:42:35.261Z"
   },
   {
    "duration": 12,
    "start_time": "2022-02-16T19:42:35.269Z"
   },
   {
    "duration": 15,
    "start_time": "2022-02-16T19:42:35.283Z"
   },
   {
    "duration": 11,
    "start_time": "2022-02-16T19:42:35.300Z"
   },
   {
    "duration": 7,
    "start_time": "2022-02-16T19:42:35.313Z"
   },
   {
    "duration": 7,
    "start_time": "2022-02-16T19:42:35.322Z"
   },
   {
    "duration": 32,
    "start_time": "2022-02-16T19:42:35.331Z"
   },
   {
    "duration": 11,
    "start_time": "2022-02-16T19:42:35.366Z"
   },
   {
    "duration": 9,
    "start_time": "2022-02-16T19:42:35.380Z"
   },
   {
    "duration": 8,
    "start_time": "2022-02-16T19:42:35.391Z"
   },
   {
    "duration": 9,
    "start_time": "2022-02-16T19:42:35.401Z"
   },
   {
    "duration": 8,
    "start_time": "2022-02-16T19:42:35.415Z"
   },
   {
    "duration": 37,
    "start_time": "2022-02-16T19:42:35.425Z"
   },
   {
    "duration": 11,
    "start_time": "2022-02-16T19:42:35.464Z"
   },
   {
    "duration": 20,
    "start_time": "2022-02-16T19:42:35.477Z"
   },
   {
    "duration": 8,
    "start_time": "2022-02-16T19:42:35.499Z"
   },
   {
    "duration": 8,
    "start_time": "2022-02-16T19:42:35.509Z"
   },
   {
    "duration": 6,
    "start_time": "2022-02-16T19:42:35.519Z"
   },
   {
    "duration": 7,
    "start_time": "2022-02-16T19:42:35.526Z"
   },
   {
    "duration": 25,
    "start_time": "2022-02-16T19:42:35.535Z"
   },
   {
    "duration": 662,
    "start_time": "2022-02-17T10:34:12.124Z"
   },
   {
    "duration": 49,
    "start_time": "2022-02-17T10:34:12.788Z"
   },
   {
    "duration": 22,
    "start_time": "2022-02-17T10:34:12.839Z"
   },
   {
    "duration": 13,
    "start_time": "2022-02-17T10:34:12.863Z"
   },
   {
    "duration": 31,
    "start_time": "2022-02-17T10:34:12.878Z"
   },
   {
    "duration": 12,
    "start_time": "2022-02-17T10:34:12.911Z"
   },
   {
    "duration": 13,
    "start_time": "2022-02-17T10:34:12.925Z"
   },
   {
    "duration": 4,
    "start_time": "2022-02-17T10:34:12.941Z"
   },
   {
    "duration": 7,
    "start_time": "2022-02-17T10:34:12.948Z"
   },
   {
    "duration": 8,
    "start_time": "2022-02-17T10:34:12.957Z"
   },
   {
    "duration": 9,
    "start_time": "2022-02-17T10:34:12.967Z"
   },
   {
    "duration": 32,
    "start_time": "2022-02-17T10:34:12.979Z"
   },
   {
    "duration": 10,
    "start_time": "2022-02-17T10:34:13.013Z"
   },
   {
    "duration": 17,
    "start_time": "2022-02-17T10:34:13.025Z"
   },
   {
    "duration": 9,
    "start_time": "2022-02-17T10:34:13.045Z"
   },
   {
    "duration": 55,
    "start_time": "2022-02-17T10:34:13.055Z"
   },
   {
    "duration": 11,
    "start_time": "2022-02-17T10:34:13.112Z"
   },
   {
    "duration": 6,
    "start_time": "2022-02-17T10:34:13.125Z"
   },
   {
    "duration": 9,
    "start_time": "2022-02-17T10:34:13.132Z"
   },
   {
    "duration": 12,
    "start_time": "2022-02-17T10:34:13.143Z"
   },
   {
    "duration": 11,
    "start_time": "2022-02-17T10:34:13.157Z"
   },
   {
    "duration": 17,
    "start_time": "2022-02-17T10:34:13.170Z"
   },
   {
    "duration": 7,
    "start_time": "2022-02-17T10:34:13.209Z"
   },
   {
    "duration": 5,
    "start_time": "2022-02-17T10:34:13.219Z"
   },
   {
    "duration": 22,
    "start_time": "2022-02-17T10:34:13.226Z"
   },
   {
    "duration": 11,
    "start_time": "2022-02-17T10:34:13.251Z"
   },
   {
    "duration": 20,
    "start_time": "2022-02-17T10:34:13.263Z"
   },
   {
    "duration": 34,
    "start_time": "2022-02-17T10:34:13.285Z"
   },
   {
    "duration": 15,
    "start_time": "2022-02-17T10:34:13.321Z"
   },
   {
    "duration": 19,
    "start_time": "2022-02-17T10:34:13.338Z"
   },
   {
    "duration": 26,
    "start_time": "2022-02-17T10:34:13.359Z"
   },
   {
    "duration": 18,
    "start_time": "2022-02-17T10:34:13.387Z"
   },
   {
    "duration": 16,
    "start_time": "2022-02-17T10:34:13.406Z"
   },
   {
    "duration": 13,
    "start_time": "2022-02-17T10:34:13.424Z"
   },
   {
    "duration": 14,
    "start_time": "2022-02-17T10:34:13.439Z"
   },
   {
    "duration": 8,
    "start_time": "2022-02-17T10:34:13.455Z"
   },
   {
    "duration": 10,
    "start_time": "2022-02-17T10:34:13.465Z"
   },
   {
    "duration": 11,
    "start_time": "2022-02-17T10:34:13.476Z"
   },
   {
    "duration": 24,
    "start_time": "2022-02-17T10:34:13.488Z"
   },
   {
    "duration": 33,
    "start_time": "2022-02-17T10:34:13.514Z"
   },
   {
    "duration": 22,
    "start_time": "2022-02-17T10:34:13.549Z"
   },
   {
    "duration": 34,
    "start_time": "2022-02-17T10:34:13.573Z"
   },
   {
    "duration": 9,
    "start_time": "2022-02-17T10:34:13.609Z"
   },
   {
    "duration": 37,
    "start_time": "2022-02-17T10:34:13.620Z"
   },
   {
    "duration": 14,
    "start_time": "2022-02-17T10:34:13.659Z"
   },
   {
    "duration": 11,
    "start_time": "2022-02-17T10:34:13.675Z"
   },
   {
    "duration": 14,
    "start_time": "2022-02-17T10:34:13.688Z"
   },
   {
    "duration": 16,
    "start_time": "2022-02-17T10:34:13.704Z"
   },
   {
    "duration": 14,
    "start_time": "2022-02-17T10:34:13.722Z"
   },
   {
    "duration": 13,
    "start_time": "2022-02-17T10:34:13.738Z"
   },
   {
    "duration": 11,
    "start_time": "2022-02-17T10:34:13.753Z"
   },
   {
    "duration": 13,
    "start_time": "2022-02-17T10:34:13.766Z"
   },
   {
    "duration": 22,
    "start_time": "2022-02-17T10:34:13.781Z"
   },
   {
    "duration": 4,
    "start_time": "2022-02-17T10:34:13.805Z"
   },
   {
    "duration": 17,
    "start_time": "2022-02-17T10:34:13.810Z"
   },
   {
    "duration": 13,
    "start_time": "2022-02-17T10:34:13.829Z"
   },
   {
    "duration": 12,
    "start_time": "2022-02-17T10:34:13.844Z"
   },
   {
    "duration": 22,
    "start_time": "2022-02-17T10:34:13.857Z"
   },
   {
    "duration": 21,
    "start_time": "2022-02-17T10:34:13.881Z"
   },
   {
    "duration": 13,
    "start_time": "2022-02-17T10:34:13.907Z"
   },
   {
    "duration": 10,
    "start_time": "2022-02-17T10:34:13.921Z"
   },
   {
    "duration": 16,
    "start_time": "2022-02-17T10:34:13.933Z"
   },
   {
    "duration": 7,
    "start_time": "2022-02-17T10:34:13.951Z"
   },
   {
    "duration": 14,
    "start_time": "2022-02-17T10:34:13.960Z"
   },
   {
    "duration": 33,
    "start_time": "2022-02-17T10:34:13.976Z"
   },
   {
    "duration": 6,
    "start_time": "2022-02-17T10:34:14.011Z"
   },
   {
    "duration": 16,
    "start_time": "2022-02-17T10:34:14.019Z"
   },
   {
    "duration": 12,
    "start_time": "2022-02-17T10:34:14.041Z"
   },
   {
    "duration": 8,
    "start_time": "2022-02-17T10:34:14.056Z"
   },
   {
    "duration": 13,
    "start_time": "2022-02-17T10:34:14.066Z"
   },
   {
    "duration": 15,
    "start_time": "2022-02-17T10:34:14.081Z"
   },
   {
    "duration": 3,
    "start_time": "2022-02-17T10:34:14.108Z"
   },
   {
    "duration": 8,
    "start_time": "2022-02-17T10:34:14.114Z"
   },
   {
    "duration": 14,
    "start_time": "2022-02-17T10:34:14.124Z"
   },
   {
    "duration": 9,
    "start_time": "2022-02-17T10:34:14.140Z"
   },
   {
    "duration": 21,
    "start_time": "2022-02-17T10:34:14.152Z"
   },
   {
    "duration": 6221,
    "start_time": "2022-02-17T10:34:39.625Z"
   },
   {
    "duration": 6703,
    "start_time": "2022-02-17T10:34:56.752Z"
   },
   {
    "duration": 234,
    "start_time": "2022-02-17T10:35:36.686Z"
   },
   {
    "duration": 284,
    "start_time": "2022-02-17T10:35:43.815Z"
   },
   {
    "duration": 252,
    "start_time": "2022-02-17T10:36:00.159Z"
   },
   {
    "duration": 6427,
    "start_time": "2022-02-17T10:36:04.722Z"
   },
   {
    "duration": 6,
    "start_time": "2022-02-17T10:36:11.911Z"
   },
   {
    "duration": 266,
    "start_time": "2022-02-17T10:36:52.704Z"
   },
   {
    "duration": 24,
    "start_time": "2022-02-17T10:37:08.248Z"
   },
   {
    "duration": 243,
    "start_time": "2022-02-17T10:37:17.794Z"
   },
   {
    "duration": 10,
    "start_time": "2022-02-17T10:37:22.987Z"
   },
   {
    "duration": 380,
    "start_time": "2022-02-17T18:15:08.033Z"
   },
   {
    "duration": 608,
    "start_time": "2022-02-17T18:15:17.265Z"
   },
   {
    "duration": 65,
    "start_time": "2022-02-17T18:15:17.875Z"
   },
   {
    "duration": 27,
    "start_time": "2022-02-17T18:15:17.942Z"
   },
   {
    "duration": 16,
    "start_time": "2022-02-17T18:15:17.972Z"
   },
   {
    "duration": 5,
    "start_time": "2022-02-17T18:15:17.991Z"
   },
   {
    "duration": 36,
    "start_time": "2022-02-17T18:15:17.998Z"
   },
   {
    "duration": 10,
    "start_time": "2022-02-17T18:15:18.036Z"
   },
   {
    "duration": 3,
    "start_time": "2022-02-17T18:15:18.049Z"
   },
   {
    "duration": 3,
    "start_time": "2022-02-17T18:15:18.054Z"
   },
   {
    "duration": 4,
    "start_time": "2022-02-17T18:15:18.058Z"
   },
   {
    "duration": 6,
    "start_time": "2022-02-17T18:15:18.064Z"
   },
   {
    "duration": 10,
    "start_time": "2022-02-17T18:15:18.072Z"
   },
   {
    "duration": 7,
    "start_time": "2022-02-17T18:15:18.084Z"
   },
   {
    "duration": 12,
    "start_time": "2022-02-17T18:15:18.093Z"
   },
   {
    "duration": 27,
    "start_time": "2022-02-17T18:15:18.108Z"
   },
   {
    "duration": 29,
    "start_time": "2022-02-17T18:15:18.137Z"
   },
   {
    "duration": 6,
    "start_time": "2022-02-17T18:15:18.167Z"
   },
   {
    "duration": 10,
    "start_time": "2022-02-17T18:15:18.174Z"
   },
   {
    "duration": 7,
    "start_time": "2022-02-17T18:15:18.185Z"
   },
   {
    "duration": 10,
    "start_time": "2022-02-17T18:15:18.194Z"
   },
   {
    "duration": 31,
    "start_time": "2022-02-17T18:15:18.207Z"
   },
   {
    "duration": 6,
    "start_time": "2022-02-17T18:15:18.241Z"
   },
   {
    "duration": 9,
    "start_time": "2022-02-17T18:15:18.252Z"
   },
   {
    "duration": 4,
    "start_time": "2022-02-17T18:15:18.264Z"
   },
   {
    "duration": 7,
    "start_time": "2022-02-17T18:15:18.270Z"
   },
   {
    "duration": 10,
    "start_time": "2022-02-17T18:15:18.279Z"
   },
   {
    "duration": 10,
    "start_time": "2022-02-17T18:15:18.291Z"
   },
   {
    "duration": 29,
    "start_time": "2022-02-17T18:15:18.303Z"
   },
   {
    "duration": 19,
    "start_time": "2022-02-17T18:15:18.334Z"
   },
   {
    "duration": 6,
    "start_time": "2022-02-17T18:15:18.355Z"
   },
   {
    "duration": 9,
    "start_time": "2022-02-17T18:15:18.363Z"
   },
   {
    "duration": 21,
    "start_time": "2022-02-17T18:15:18.373Z"
   },
   {
    "duration": 9,
    "start_time": "2022-02-17T18:15:18.395Z"
   },
   {
    "duration": 27,
    "start_time": "2022-02-17T18:15:18.406Z"
   },
   {
    "duration": 7,
    "start_time": "2022-02-17T18:15:18.434Z"
   },
   {
    "duration": 8,
    "start_time": "2022-02-17T18:15:18.443Z"
   },
   {
    "duration": 8,
    "start_time": "2022-02-17T18:15:18.453Z"
   },
   {
    "duration": 8,
    "start_time": "2022-02-17T18:15:18.462Z"
   },
   {
    "duration": 9,
    "start_time": "2022-02-17T18:15:18.471Z"
   },
   {
    "duration": 11,
    "start_time": "2022-02-17T18:15:18.481Z"
   },
   {
    "duration": 21,
    "start_time": "2022-02-17T18:15:18.493Z"
   },
   {
    "duration": 31,
    "start_time": "2022-02-17T18:15:18.516Z"
   },
   {
    "duration": 17,
    "start_time": "2022-02-17T18:15:18.549Z"
   },
   {
    "duration": 7,
    "start_time": "2022-02-17T18:15:18.567Z"
   },
   {
    "duration": 10,
    "start_time": "2022-02-17T18:15:18.576Z"
   },
   {
    "duration": 8,
    "start_time": "2022-02-17T18:15:18.588Z"
   },
   {
    "duration": 4,
    "start_time": "2022-02-17T18:15:18.598Z"
   },
   {
    "duration": 33,
    "start_time": "2022-02-17T18:15:18.604Z"
   },
   {
    "duration": 7,
    "start_time": "2022-02-17T18:15:18.639Z"
   },
   {
    "duration": 8,
    "start_time": "2022-02-17T18:15:18.648Z"
   },
   {
    "duration": 11,
    "start_time": "2022-02-17T18:15:18.657Z"
   },
   {
    "duration": 8,
    "start_time": "2022-02-17T18:15:18.669Z"
   },
   {
    "duration": 10,
    "start_time": "2022-02-17T18:15:18.679Z"
   },
   {
    "duration": 49,
    "start_time": "2022-02-17T18:15:18.691Z"
   },
   {
    "duration": 4,
    "start_time": "2022-02-17T18:15:18.742Z"
   },
   {
    "duration": 13,
    "start_time": "2022-02-17T18:15:18.748Z"
   },
   {
    "duration": 11,
    "start_time": "2022-02-17T18:15:18.763Z"
   },
   {
    "duration": 4,
    "start_time": "2022-02-17T18:15:18.775Z"
   },
   {
    "duration": 17,
    "start_time": "2022-02-17T18:15:18.780Z"
   },
   {
    "duration": 16,
    "start_time": "2022-02-17T18:15:18.798Z"
   },
   {
    "duration": 23,
    "start_time": "2022-02-17T18:15:18.816Z"
   },
   {
    "duration": 7,
    "start_time": "2022-02-17T18:15:18.841Z"
   },
   {
    "duration": 7,
    "start_time": "2022-02-17T18:15:18.849Z"
   },
   {
    "duration": 6,
    "start_time": "2022-02-17T18:15:18.858Z"
   },
   {
    "duration": 12,
    "start_time": "2022-02-17T18:15:18.865Z"
   },
   {
    "duration": 8,
    "start_time": "2022-02-17T18:15:18.879Z"
   },
   {
    "duration": 8,
    "start_time": "2022-02-17T18:15:18.888Z"
   },
   {
    "duration": 7,
    "start_time": "2022-02-17T18:15:18.900Z"
   },
   {
    "duration": 30,
    "start_time": "2022-02-17T18:15:18.908Z"
   },
   {
    "duration": 6,
    "start_time": "2022-02-17T18:15:18.940Z"
   },
   {
    "duration": 9,
    "start_time": "2022-02-17T18:15:18.947Z"
   },
   {
    "duration": 10,
    "start_time": "2022-02-17T18:15:18.958Z"
   },
   {
    "duration": 10,
    "start_time": "2022-02-17T18:15:18.969Z"
   },
   {
    "duration": 7,
    "start_time": "2022-02-17T18:15:18.981Z"
   },
   {
    "duration": 8,
    "start_time": "2022-02-17T18:15:18.989Z"
   },
   {
    "duration": 8,
    "start_time": "2022-02-17T18:15:18.998Z"
   },
   {
    "duration": 18,
    "start_time": "2022-02-17T18:15:19.008Z"
   },
   {
    "duration": 8,
    "start_time": "2022-02-17T18:16:08.746Z"
   },
   {
    "duration": 10,
    "start_time": "2022-02-17T18:16:12.096Z"
   },
   {
    "duration": 6,
    "start_time": "2022-02-17T18:35:20.923Z"
   },
   {
    "duration": 309,
    "start_time": "2022-02-17T18:35:33.266Z"
   },
   {
    "duration": 692,
    "start_time": "2022-02-17T18:35:41.554Z"
   },
   {
    "duration": 8,
    "start_time": "2022-02-17T18:42:28.182Z"
   },
   {
    "duration": 7,
    "start_time": "2022-02-17T18:42:29.950Z"
   },
   {
    "duration": 7,
    "start_time": "2022-02-17T18:42:32.071Z"
   },
   {
    "duration": 7,
    "start_time": "2022-02-17T18:42:36.445Z"
   },
   {
    "duration": 6,
    "start_time": "2022-02-17T18:42:39.701Z"
   },
   {
    "duration": 134,
    "start_time": "2022-02-17T19:01:53.744Z"
   },
   {
    "duration": 2138,
    "start_time": "2022-02-17T19:02:01.889Z"
   },
   {
    "duration": 2074,
    "start_time": "2022-02-17T19:02:25.760Z"
   },
   {
    "duration": 14,
    "start_time": "2022-02-17T19:12:05.866Z"
   },
   {
    "duration": 4,
    "start_time": "2022-02-17T19:13:36.833Z"
   },
   {
    "duration": 2154,
    "start_time": "2022-02-17T19:16:00.214Z"
   },
   {
    "duration": 106,
    "start_time": "2022-02-17T19:16:49.222Z"
   },
   {
    "duration": 96,
    "start_time": "2022-02-17T19:17:00.406Z"
   },
   {
    "duration": 2140,
    "start_time": "2022-02-17T19:17:07.645Z"
   },
   {
    "duration": 776,
    "start_time": "2022-02-17T19:17:52.884Z"
   },
   {
    "duration": 6,
    "start_time": "2022-02-17T19:29:44.043Z"
   },
   {
    "duration": 7,
    "start_time": "2022-02-17T19:30:09.364Z"
   },
   {
    "duration": 7,
    "start_time": "2022-02-17T19:31:58.730Z"
   },
   {
    "duration": 6,
    "start_time": "2022-02-17T19:32:00.179Z"
   },
   {
    "duration": 5,
    "start_time": "2022-02-17T19:32:54.226Z"
   },
   {
    "duration": 102,
    "start_time": "2022-02-17T19:44:32.079Z"
   },
   {
    "duration": 300,
    "start_time": "2022-02-17T19:44:48.886Z"
   },
   {
    "duration": 303,
    "start_time": "2022-02-17T19:48:14.572Z"
   },
   {
    "duration": 49,
    "start_time": "2022-02-17T19:50:08.722Z"
   },
   {
    "duration": 61,
    "start_time": "2022-02-17T19:51:29.656Z"
   },
   {
    "duration": 57,
    "start_time": "2022-02-17T19:51:40.785Z"
   },
   {
    "duration": 59,
    "start_time": "2022-02-17T19:51:50.642Z"
   },
   {
    "duration": 56,
    "start_time": "2022-02-17T19:53:50.311Z"
   },
   {
    "duration": 11,
    "start_time": "2022-02-17T19:53:51.087Z"
   },
   {
    "duration": 58,
    "start_time": "2022-02-17T19:54:47.751Z"
   },
   {
    "duration": 11,
    "start_time": "2022-02-17T19:54:50.855Z"
   },
   {
    "duration": 565,
    "start_time": "2022-02-17T19:54:59.386Z"
   },
   {
    "duration": 48,
    "start_time": "2022-02-17T19:54:59.953Z"
   },
   {
    "duration": 18,
    "start_time": "2022-02-17T19:55:00.003Z"
   },
   {
    "duration": 14,
    "start_time": "2022-02-17T19:55:00.022Z"
   },
   {
    "duration": 3,
    "start_time": "2022-02-17T19:55:00.038Z"
   },
   {
    "duration": 11,
    "start_time": "2022-02-17T19:55:00.043Z"
   },
   {
    "duration": 9,
    "start_time": "2022-02-17T19:55:00.055Z"
   },
   {
    "duration": 4,
    "start_time": "2022-02-17T19:55:00.066Z"
   },
   {
    "duration": 7,
    "start_time": "2022-02-17T19:55:00.072Z"
   },
   {
    "duration": 13,
    "start_time": "2022-02-17T19:55:00.081Z"
   },
   {
    "duration": 11,
    "start_time": "2022-02-17T19:55:00.096Z"
   },
   {
    "duration": 4,
    "start_time": "2022-02-17T19:55:00.133Z"
   },
   {
    "duration": 6,
    "start_time": "2022-02-17T19:55:00.139Z"
   },
   {
    "duration": 13,
    "start_time": "2022-02-17T19:55:00.147Z"
   },
   {
    "duration": 10,
    "start_time": "2022-02-17T19:55:00.162Z"
   },
   {
    "duration": 9,
    "start_time": "2022-02-17T19:55:00.174Z"
   },
   {
    "duration": 7,
    "start_time": "2022-02-17T19:55:00.185Z"
   },
   {
    "duration": 74,
    "start_time": "2022-02-17T19:55:00.194Z"
   },
   {
    "duration": 9,
    "start_time": "2022-02-17T19:55:00.270Z"
   },
   {
    "duration": 8,
    "start_time": "2022-02-17T19:55:00.281Z"
   },
   {
    "duration": 3,
    "start_time": "2022-02-17T19:55:00.291Z"
   },
   {
    "duration": 9,
    "start_time": "2022-02-17T19:55:00.296Z"
   },
   {
    "duration": 23,
    "start_time": "2022-02-17T19:55:00.309Z"
   },
   {
    "duration": 8,
    "start_time": "2022-02-17T19:55:00.335Z"
   },
   {
    "duration": 9,
    "start_time": "2022-02-17T19:55:00.345Z"
   },
   {
    "duration": 374,
    "start_time": "2022-02-17T19:55:00.355Z"
   },
   {
    "duration": 169,
    "start_time": "2022-02-17T19:55:00.563Z"
   },
   {
    "duration": 161,
    "start_time": "2022-02-17T19:55:00.572Z"
   },
   {
    "duration": 152,
    "start_time": "2022-02-17T19:55:00.582Z"
   },
   {
    "duration": 145,
    "start_time": "2022-02-17T19:55:00.591Z"
   },
   {
    "duration": 135,
    "start_time": "2022-02-17T19:55:00.602Z"
   },
   {
    "duration": 126,
    "start_time": "2022-02-17T19:55:00.613Z"
   },
   {
    "duration": 120,
    "start_time": "2022-02-17T19:55:00.620Z"
   },
   {
    "duration": 110,
    "start_time": "2022-02-17T19:55:00.631Z"
   },
   {
    "duration": 104,
    "start_time": "2022-02-17T19:55:00.639Z"
   },
   {
    "duration": 95,
    "start_time": "2022-02-17T19:55:00.649Z"
   },
   {
    "duration": 87,
    "start_time": "2022-02-17T19:55:00.658Z"
   },
   {
    "duration": 79,
    "start_time": "2022-02-17T19:55:00.667Z"
   },
   {
    "duration": 69,
    "start_time": "2022-02-17T19:55:00.679Z"
   },
   {
    "duration": 62,
    "start_time": "2022-02-17T19:55:00.687Z"
   },
   {
    "duration": 53,
    "start_time": "2022-02-17T19:55:00.697Z"
   },
   {
    "duration": 46,
    "start_time": "2022-02-17T19:55:00.706Z"
   },
   {
    "duration": 38,
    "start_time": "2022-02-17T19:55:00.715Z"
   },
   {
    "duration": 30,
    "start_time": "2022-02-17T19:55:00.724Z"
   },
   {
    "duration": 22,
    "start_time": "2022-02-17T19:55:00.733Z"
   },
   {
    "duration": 16,
    "start_time": "2022-02-17T19:55:00.741Z"
   },
   {
    "duration": 6,
    "start_time": "2022-02-17T19:55:00.753Z"
   },
   {
    "duration": -3,
    "start_time": "2022-02-17T19:55:00.763Z"
   },
   {
    "duration": -46,
    "start_time": "2022-02-17T19:55:00.807Z"
   },
   {
    "duration": -53,
    "start_time": "2022-02-17T19:55:00.817Z"
   },
   {
    "duration": -59,
    "start_time": "2022-02-17T19:55:00.824Z"
   },
   {
    "duration": -69,
    "start_time": "2022-02-17T19:55:00.835Z"
   },
   {
    "duration": -78,
    "start_time": "2022-02-17T19:55:00.846Z"
   },
   {
    "duration": -84,
    "start_time": "2022-02-17T19:55:00.853Z"
   },
   {
    "duration": -93,
    "start_time": "2022-02-17T19:55:00.863Z"
   },
   {
    "duration": -99,
    "start_time": "2022-02-17T19:55:00.871Z"
   },
   {
    "duration": -108,
    "start_time": "2022-02-17T19:55:00.881Z"
   },
   {
    "duration": -116,
    "start_time": "2022-02-17T19:55:00.890Z"
   },
   {
    "duration": -124,
    "start_time": "2022-02-17T19:55:00.899Z"
   },
   {
    "duration": -131,
    "start_time": "2022-02-17T19:55:00.907Z"
   },
   {
    "duration": -140,
    "start_time": "2022-02-17T19:55:00.917Z"
   },
   {
    "duration": -147,
    "start_time": "2022-02-17T19:55:00.925Z"
   },
   {
    "duration": -102,
    "start_time": "2022-02-17T19:55:00.934Z"
   },
   {
    "duration": -111,
    "start_time": "2022-02-17T19:55:00.945Z"
   },
   {
    "duration": -118,
    "start_time": "2022-02-17T19:55:00.953Z"
   },
   {
    "duration": -126,
    "start_time": "2022-02-17T19:55:00.962Z"
   },
   {
    "duration": -133,
    "start_time": "2022-02-17T19:55:00.971Z"
   },
   {
    "duration": -140,
    "start_time": "2022-02-17T19:55:00.980Z"
   },
   {
    "duration": -146,
    "start_time": "2022-02-17T19:55:00.988Z"
   },
   {
    "duration": -155,
    "start_time": "2022-02-17T19:55:00.998Z"
   },
   {
    "duration": -161,
    "start_time": "2022-02-17T19:55:01.005Z"
   },
   {
    "duration": -171,
    "start_time": "2022-02-17T19:55:01.016Z"
   },
   {
    "duration": -176,
    "start_time": "2022-02-17T19:55:01.023Z"
   },
   {
    "duration": -186,
    "start_time": "2022-02-17T19:55:01.034Z"
   },
   {
    "duration": -192,
    "start_time": "2022-02-17T19:55:01.041Z"
   },
   {
    "duration": -200,
    "start_time": "2022-02-17T19:55:01.051Z"
   },
   {
    "duration": -209,
    "start_time": "2022-02-17T19:55:01.062Z"
   },
   {
    "duration": -215,
    "start_time": "2022-02-17T19:55:01.069Z"
   },
   {
    "duration": 114,
    "start_time": "2022-02-17T19:58:52.081Z"
   },
   {
    "duration": 107,
    "start_time": "2022-02-17T19:59:14.032Z"
   },
   {
    "duration": 11,
    "start_time": "2022-02-17T19:59:16.696Z"
   },
   {
    "duration": 1485,
    "start_time": "2022-02-17T19:59:25.028Z"
   },
   {
    "duration": 666,
    "start_time": "2022-02-17T19:59:26.515Z"
   },
   {
    "duration": 17,
    "start_time": "2022-02-17T19:59:27.183Z"
   },
   {
    "duration": 15,
    "start_time": "2022-02-17T19:59:27.202Z"
   },
   {
    "duration": 4,
    "start_time": "2022-02-17T19:59:27.219Z"
   },
   {
    "duration": 8,
    "start_time": "2022-02-17T19:59:27.232Z"
   },
   {
    "duration": 8,
    "start_time": "2022-02-17T19:59:27.241Z"
   },
   {
    "duration": 4,
    "start_time": "2022-02-17T19:59:27.251Z"
   },
   {
    "duration": 3,
    "start_time": "2022-02-17T19:59:27.257Z"
   },
   {
    "duration": 8,
    "start_time": "2022-02-17T19:59:27.262Z"
   },
   {
    "duration": 9,
    "start_time": "2022-02-17T19:59:27.272Z"
   },
   {
    "duration": 8,
    "start_time": "2022-02-17T19:59:27.283Z"
   },
   {
    "duration": 8,
    "start_time": "2022-02-17T19:59:27.293Z"
   },
   {
    "duration": 12,
    "start_time": "2022-02-17T19:59:27.302Z"
   },
   {
    "duration": 7,
    "start_time": "2022-02-17T19:59:27.332Z"
   },
   {
    "duration": 4,
    "start_time": "2022-02-17T19:59:27.340Z"
   },
   {
    "duration": 14,
    "start_time": "2022-02-17T19:59:27.346Z"
   },
   {
    "duration": 119,
    "start_time": "2022-02-17T19:59:27.361Z"
   },
   {
    "duration": 10,
    "start_time": "2022-02-17T19:59:27.481Z"
   },
   {
    "duration": 6,
    "start_time": "2022-02-17T19:59:27.493Z"
   },
   {
    "duration": 4,
    "start_time": "2022-02-17T19:59:27.501Z"
   },
   {
    "duration": 33,
    "start_time": "2022-02-17T19:59:27.507Z"
   },
   {
    "duration": 7,
    "start_time": "2022-02-17T19:59:27.546Z"
   },
   {
    "duration": 10,
    "start_time": "2022-02-17T19:59:27.556Z"
   },
   {
    "duration": 6,
    "start_time": "2022-02-17T19:59:27.568Z"
   },
   {
    "duration": 1210,
    "start_time": "2022-02-17T19:59:27.575Z"
   },
   {
    "duration": 237,
    "start_time": "2022-02-17T19:59:28.551Z"
   },
   {
    "duration": 226,
    "start_time": "2022-02-17T19:59:28.563Z"
   },
   {
    "duration": 217,
    "start_time": "2022-02-17T19:59:28.572Z"
   },
   {
    "duration": 208,
    "start_time": "2022-02-17T19:59:28.582Z"
   },
   {
    "duration": 197,
    "start_time": "2022-02-17T19:59:28.594Z"
   },
   {
    "duration": 188,
    "start_time": "2022-02-17T19:59:28.604Z"
   },
   {
    "duration": 177,
    "start_time": "2022-02-17T19:59:28.615Z"
   },
   {
    "duration": 170,
    "start_time": "2022-02-17T19:59:28.623Z"
   },
   {
    "duration": 161,
    "start_time": "2022-02-17T19:59:28.633Z"
   },
   {
    "duration": 150,
    "start_time": "2022-02-17T19:59:28.644Z"
   },
   {
    "duration": 143,
    "start_time": "2022-02-17T19:59:28.653Z"
   },
   {
    "duration": 132,
    "start_time": "2022-02-17T19:59:28.664Z"
   },
   {
    "duration": 126,
    "start_time": "2022-02-17T19:59:28.671Z"
   },
   {
    "duration": 116,
    "start_time": "2022-02-17T19:59:28.682Z"
   },
   {
    "duration": 110,
    "start_time": "2022-02-17T19:59:28.689Z"
   },
   {
    "duration": 99,
    "start_time": "2022-02-17T19:59:28.700Z"
   },
   {
    "duration": 90,
    "start_time": "2022-02-17T19:59:28.710Z"
   },
   {
    "duration": 83,
    "start_time": "2022-02-17T19:59:28.718Z"
   },
   {
    "duration": 72,
    "start_time": "2022-02-17T19:59:28.729Z"
   },
   {
    "duration": 65,
    "start_time": "2022-02-17T19:59:28.737Z"
   },
   {
    "duration": 56,
    "start_time": "2022-02-17T19:59:28.747Z"
   },
   {
    "duration": 48,
    "start_time": "2022-02-17T19:59:28.756Z"
   },
   {
    "duration": 38,
    "start_time": "2022-02-17T19:59:28.766Z"
   },
   {
    "duration": 28,
    "start_time": "2022-02-17T19:59:28.777Z"
   },
   {
    "duration": -13,
    "start_time": "2022-02-17T19:59:28.819Z"
   },
   {
    "duration": -23,
    "start_time": "2022-02-17T19:59:28.829Z"
   },
   {
    "duration": -30,
    "start_time": "2022-02-17T19:59:28.837Z"
   },
   {
    "duration": -36,
    "start_time": "2022-02-17T19:59:28.847Z"
   },
   {
    "duration": -44,
    "start_time": "2022-02-17T19:59:28.856Z"
   },
   {
    "duration": -53,
    "start_time": "2022-02-17T19:59:28.866Z"
   },
   {
    "duration": -62,
    "start_time": "2022-02-17T19:59:28.877Z"
   },
   {
    "duration": -70,
    "start_time": "2022-02-17T19:59:28.886Z"
   },
   {
    "duration": -78,
    "start_time": "2022-02-17T19:59:28.896Z"
   },
   {
    "duration": -85,
    "start_time": "2022-02-17T19:59:28.904Z"
   },
   {
    "duration": -94,
    "start_time": "2022-02-17T19:59:28.914Z"
   },
   {
    "duration": -101,
    "start_time": "2022-02-17T19:59:28.922Z"
   },
   {
    "duration": -110,
    "start_time": "2022-02-17T19:59:28.932Z"
   },
   {
    "duration": -119,
    "start_time": "2022-02-17T19:59:28.942Z"
   },
   {
    "duration": -126,
    "start_time": "2022-02-17T19:59:28.950Z"
   },
   {
    "duration": -129,
    "start_time": "2022-02-17T19:59:28.960Z"
   },
   {
    "duration": -136,
    "start_time": "2022-02-17T19:59:28.968Z"
   },
   {
    "duration": -146,
    "start_time": "2022-02-17T19:59:28.978Z"
   },
   {
    "duration": -152,
    "start_time": "2022-02-17T19:59:28.985Z"
   },
   {
    "duration": -162,
    "start_time": "2022-02-17T19:59:28.996Z"
   },
   {
    "duration": -168,
    "start_time": "2022-02-17T19:59:29.003Z"
   },
   {
    "duration": -179,
    "start_time": "2022-02-17T19:59:29.015Z"
   },
   {
    "duration": -185,
    "start_time": "2022-02-17T19:59:29.022Z"
   },
   {
    "duration": -194,
    "start_time": "2022-02-17T19:59:29.032Z"
   },
   {
    "duration": -204,
    "start_time": "2022-02-17T19:59:29.043Z"
   },
   {
    "duration": -211,
    "start_time": "2022-02-17T19:59:29.050Z"
   },
   {
    "duration": -220,
    "start_time": "2022-02-17T19:59:29.061Z"
   },
   {
    "duration": -227,
    "start_time": "2022-02-17T19:59:29.069Z"
   },
   {
    "duration": 179,
    "start_time": "2022-02-17T20:00:55.847Z"
   },
   {
    "duration": 134,
    "start_time": "2022-02-17T20:05:22.571Z"
   },
   {
    "duration": 15,
    "start_time": "2022-02-17T20:05:24.330Z"
   },
   {
    "duration": 387,
    "start_time": "2022-02-18T13:46:34.719Z"
   },
   {
    "duration": 886,
    "start_time": "2022-02-18T13:46:43.784Z"
   },
   {
    "duration": 69,
    "start_time": "2022-02-18T13:46:44.673Z"
   },
   {
    "duration": 32,
    "start_time": "2022-02-18T13:46:44.746Z"
   },
   {
    "duration": 19,
    "start_time": "2022-02-18T13:46:44.780Z"
   },
   {
    "duration": 28,
    "start_time": "2022-02-18T13:46:44.801Z"
   },
   {
    "duration": 54,
    "start_time": "2022-02-18T13:46:44.832Z"
   },
   {
    "duration": 26,
    "start_time": "2022-02-18T13:46:44.889Z"
   },
   {
    "duration": 37,
    "start_time": "2022-02-18T13:46:44.919Z"
   },
   {
    "duration": 26,
    "start_time": "2022-02-18T13:46:44.959Z"
   },
   {
    "duration": 98,
    "start_time": "2022-02-18T13:46:44.988Z"
   },
   {
    "duration": 61,
    "start_time": "2022-02-18T13:46:45.089Z"
   },
   {
    "duration": 12,
    "start_time": "2022-02-18T13:46:45.153Z"
   },
   {
    "duration": 12,
    "start_time": "2022-02-18T13:46:45.167Z"
   },
   {
    "duration": 32,
    "start_time": "2022-02-18T13:46:45.181Z"
   },
   {
    "duration": 33,
    "start_time": "2022-02-18T13:46:45.215Z"
   },
   {
    "duration": 31,
    "start_time": "2022-02-18T13:46:45.250Z"
   },
   {
    "duration": 320,
    "start_time": "2022-02-18T13:46:45.283Z"
   },
   {
    "duration": 2261,
    "start_time": "2022-02-18T13:46:43.347Z"
   },
   {
    "duration": 2249,
    "start_time": "2022-02-18T13:46:43.360Z"
   },
   {
    "duration": 2243,
    "start_time": "2022-02-18T13:46:43.368Z"
   },
   {
    "duration": 2233,
    "start_time": "2022-02-18T13:46:43.380Z"
   },
   {
    "duration": 2221,
    "start_time": "2022-02-18T13:46:43.393Z"
   },
   {
    "duration": 2213,
    "start_time": "2022-02-18T13:46:43.402Z"
   },
   {
    "duration": 2202,
    "start_time": "2022-02-18T13:46:43.415Z"
   },
   {
    "duration": 2191,
    "start_time": "2022-02-18T13:46:43.427Z"
   },
   {
    "duration": 2120,
    "start_time": "2022-02-18T13:46:43.499Z"
   },
   {
    "duration": 2111,
    "start_time": "2022-02-18T13:46:43.510Z"
   },
   {
    "duration": 2105,
    "start_time": "2022-02-18T13:46:43.518Z"
   },
   {
    "duration": 2094,
    "start_time": "2022-02-18T13:46:43.530Z"
   },
   {
    "duration": 2085,
    "start_time": "2022-02-18T13:46:43.541Z"
   },
   {
    "duration": 2078,
    "start_time": "2022-02-18T13:46:43.549Z"
   },
   {
    "duration": 2070,
    "start_time": "2022-02-18T13:46:43.559Z"
   },
   {
    "duration": 2064,
    "start_time": "2022-02-18T13:46:43.566Z"
   },
   {
    "duration": 2057,
    "start_time": "2022-02-18T13:46:43.576Z"
   },
   {
    "duration": 2053,
    "start_time": "2022-02-18T13:46:43.584Z"
   },
   {
    "duration": 2045,
    "start_time": "2022-02-18T13:46:43.594Z"
   },
   {
    "duration": 2041,
    "start_time": "2022-02-18T13:46:43.601Z"
   },
   {
    "duration": 2033,
    "start_time": "2022-02-18T13:46:43.611Z"
   },
   {
    "duration": 1989,
    "start_time": "2022-02-18T13:46:43.657Z"
   },
   {
    "duration": 1983,
    "start_time": "2022-02-18T13:46:43.664Z"
   },
   {
    "duration": 1975,
    "start_time": "2022-02-18T13:46:43.673Z"
   },
   {
    "duration": 1968,
    "start_time": "2022-02-18T13:46:43.682Z"
   },
   {
    "duration": 1961,
    "start_time": "2022-02-18T13:46:43.691Z"
   },
   {
    "duration": 1954,
    "start_time": "2022-02-18T13:46:43.699Z"
   },
   {
    "duration": 1947,
    "start_time": "2022-02-18T13:46:43.708Z"
   },
   {
    "duration": 1941,
    "start_time": "2022-02-18T13:46:43.715Z"
   },
   {
    "duration": 1932,
    "start_time": "2022-02-18T13:46:43.725Z"
   },
   {
    "duration": 1927,
    "start_time": "2022-02-18T13:46:43.732Z"
   },
   {
    "duration": 1920,
    "start_time": "2022-02-18T13:46:43.741Z"
   },
   {
    "duration": 1914,
    "start_time": "2022-02-18T13:46:43.749Z"
   },
   {
    "duration": 1906,
    "start_time": "2022-02-18T13:46:43.759Z"
   },
   {
    "duration": 1900,
    "start_time": "2022-02-18T13:46:43.767Z"
   },
   {
    "duration": 1951,
    "start_time": "2022-02-18T13:46:43.776Z"
   },
   {
    "duration": 1947,
    "start_time": "2022-02-18T13:46:43.783Z"
   },
   {
    "duration": 1939,
    "start_time": "2022-02-18T13:46:43.793Z"
   },
   {
    "duration": 1932,
    "start_time": "2022-02-18T13:46:43.801Z"
   },
   {
    "duration": 1923,
    "start_time": "2022-02-18T13:46:43.812Z"
   },
   {
    "duration": 1913,
    "start_time": "2022-02-18T13:46:43.824Z"
   },
   {
    "duration": 1907,
    "start_time": "2022-02-18T13:46:43.832Z"
   },
   {
    "duration": 1897,
    "start_time": "2022-02-18T13:46:43.843Z"
   },
   {
    "duration": 1890,
    "start_time": "2022-02-18T13:46:43.852Z"
   },
   {
    "duration": 1881,
    "start_time": "2022-02-18T13:46:43.863Z"
   },
   {
    "duration": 1872,
    "start_time": "2022-02-18T13:46:43.874Z"
   },
   {
    "duration": 1866,
    "start_time": "2022-02-18T13:46:43.882Z"
   },
   {
    "duration": 1856,
    "start_time": "2022-02-18T13:46:43.894Z"
   },
   {
    "duration": 1850,
    "start_time": "2022-02-18T13:46:43.902Z"
   },
   {
    "duration": 1839,
    "start_time": "2022-02-18T13:46:43.915Z"
   },
   {
    "duration": 1829,
    "start_time": "2022-02-18T13:46:43.927Z"
   },
   {
    "duration": 1823,
    "start_time": "2022-02-18T13:46:43.935Z"
   },
   {
    "duration": 1814,
    "start_time": "2022-02-18T13:46:43.946Z"
   },
   {
    "duration": 1806,
    "start_time": "2022-02-18T13:46:43.956Z"
   },
   {
    "duration": 1800,
    "start_time": "2022-02-18T13:46:43.964Z"
   },
   {
    "duration": 1793,
    "start_time": "2022-02-18T13:46:43.973Z"
   },
   {
    "duration": 1846,
    "start_time": "2022-02-18T13:46:43.981Z"
   },
   {
    "duration": 1837,
    "start_time": "2022-02-18T13:46:43.992Z"
   },
   {
    "duration": 1833,
    "start_time": "2022-02-18T13:46:43.999Z"
   },
   {
    "duration": 1825,
    "start_time": "2022-02-18T13:46:44.009Z"
   },
   {
    "duration": 296,
    "start_time": "2022-02-18T13:47:22.969Z"
   },
   {
    "duration": 354,
    "start_time": "2022-02-18T13:47:33.120Z"
   },
   {
    "duration": 833,
    "start_time": "2022-02-18T13:47:51.606Z"
   },
   {
    "duration": 69,
    "start_time": "2022-02-18T13:47:52.443Z"
   },
   {
    "duration": 39,
    "start_time": "2022-02-18T13:47:52.515Z"
   },
   {
    "duration": 14,
    "start_time": "2022-02-18T13:47:52.557Z"
   },
   {
    "duration": 6,
    "start_time": "2022-02-18T13:47:52.574Z"
   },
   {
    "duration": 57,
    "start_time": "2022-02-18T13:47:52.583Z"
   },
   {
    "duration": 14,
    "start_time": "2022-02-18T13:47:52.644Z"
   },
   {
    "duration": 6,
    "start_time": "2022-02-18T13:47:52.662Z"
   },
   {
    "duration": 4,
    "start_time": "2022-02-18T13:47:52.670Z"
   },
   {
    "duration": 5,
    "start_time": "2022-02-18T13:47:52.677Z"
   },
   {
    "duration": 3,
    "start_time": "2022-02-18T13:47:52.727Z"
   },
   {
    "duration": 14,
    "start_time": "2022-02-18T13:47:52.733Z"
   },
   {
    "duration": 10,
    "start_time": "2022-02-18T13:47:52.752Z"
   },
   {
    "duration": 29,
    "start_time": "2022-02-18T13:47:52.764Z"
   },
   {
    "duration": 13,
    "start_time": "2022-02-18T13:47:52.795Z"
   },
   {
    "duration": 4,
    "start_time": "2022-02-18T13:47:52.828Z"
   },
   {
    "duration": 414,
    "start_time": "2022-02-18T13:47:52.835Z"
   },
   {
    "duration": 16,
    "start_time": "2022-02-18T13:48:02.735Z"
   },
   {
    "duration": 294,
    "start_time": "2022-02-18T13:49:21.939Z"
   },
   {
    "duration": 302,
    "start_time": "2022-02-18T13:49:32.949Z"
   },
   {
    "duration": 391,
    "start_time": "2022-02-18T13:49:39.324Z"
   },
   {
    "duration": 16,
    "start_time": "2022-02-18T13:49:43.724Z"
   },
   {
    "duration": 10,
    "start_time": "2022-02-18T13:50:13.845Z"
   },
   {
    "duration": 471,
    "start_time": "2022-02-18T13:58:07.696Z"
   },
   {
    "duration": 72,
    "start_time": "2022-02-18T13:59:13.282Z"
   },
   {
    "duration": 307,
    "start_time": "2022-02-18T14:00:11.919Z"
   },
   {
    "duration": 328,
    "start_time": "2022-02-18T14:01:46.669Z"
   },
   {
    "duration": 304,
    "start_time": "2022-02-18T14:02:12.917Z"
   },
   {
    "duration": 285,
    "start_time": "2022-02-18T14:02:26.796Z"
   },
   {
    "duration": 835,
    "start_time": "2022-02-18T14:02:32.667Z"
   },
   {
    "duration": 64,
    "start_time": "2022-02-18T14:02:33.505Z"
   },
   {
    "duration": 31,
    "start_time": "2022-02-18T14:02:33.572Z"
   },
   {
    "duration": 37,
    "start_time": "2022-02-18T14:02:33.607Z"
   },
   {
    "duration": 6,
    "start_time": "2022-02-18T14:02:33.647Z"
   },
   {
    "duration": 17,
    "start_time": "2022-02-18T14:02:33.655Z"
   },
   {
    "duration": 15,
    "start_time": "2022-02-18T14:02:33.675Z"
   },
   {
    "duration": 5,
    "start_time": "2022-02-18T14:02:33.729Z"
   },
   {
    "duration": 5,
    "start_time": "2022-02-18T14:02:33.737Z"
   },
   {
    "duration": 8,
    "start_time": "2022-02-18T14:02:33.744Z"
   },
   {
    "duration": 7,
    "start_time": "2022-02-18T14:02:33.755Z"
   },
   {
    "duration": 6,
    "start_time": "2022-02-18T14:02:33.765Z"
   },
   {
    "duration": 6,
    "start_time": "2022-02-18T14:02:33.773Z"
   },
   {
    "duration": 56,
    "start_time": "2022-02-18T14:02:33.782Z"
   },
   {
    "duration": 12,
    "start_time": "2022-02-18T14:02:33.840Z"
   },
   {
    "duration": 76,
    "start_time": "2022-02-18T14:02:33.854Z"
   },
   {
    "duration": 3,
    "start_time": "2022-02-18T14:02:33.933Z"
   },
   {
    "duration": 16,
    "start_time": "2022-02-18T14:02:33.939Z"
   },
   {
    "duration": 10,
    "start_time": "2022-02-18T14:02:33.958Z"
   },
   {
    "duration": 7,
    "start_time": "2022-02-18T14:02:33.970Z"
   },
   {
    "duration": 47,
    "start_time": "2022-02-18T14:02:33.979Z"
   },
   {
    "duration": 8,
    "start_time": "2022-02-18T14:02:34.028Z"
   },
   {
    "duration": 11,
    "start_time": "2022-02-18T14:02:34.043Z"
   },
   {
    "duration": 8,
    "start_time": "2022-02-18T14:02:34.060Z"
   },
   {
    "duration": 6,
    "start_time": "2022-02-18T14:02:34.070Z"
   },
   {
    "duration": 51,
    "start_time": "2022-02-18T14:02:34.078Z"
   },
   {
    "duration": 13,
    "start_time": "2022-02-18T14:02:34.131Z"
   },
   {
    "duration": 10,
    "start_time": "2022-02-18T14:02:34.147Z"
   },
   {
    "duration": 25,
    "start_time": "2022-02-18T14:02:34.159Z"
   },
   {
    "duration": 43,
    "start_time": "2022-02-18T14:02:34.187Z"
   },
   {
    "duration": 14,
    "start_time": "2022-02-18T14:02:34.232Z"
   },
   {
    "duration": 28,
    "start_time": "2022-02-18T14:02:34.248Z"
   },
   {
    "duration": 46,
    "start_time": "2022-02-18T14:02:34.279Z"
   },
   {
    "duration": 12,
    "start_time": "2022-02-18T14:02:34.328Z"
   },
   {
    "duration": 14,
    "start_time": "2022-02-18T14:02:34.342Z"
   },
   {
    "duration": 11,
    "start_time": "2022-02-18T14:02:34.358Z"
   },
   {
    "duration": 7,
    "start_time": "2022-02-18T14:02:34.371Z"
   },
   {
    "duration": 5,
    "start_time": "2022-02-18T14:02:34.380Z"
   },
   {
    "duration": 7,
    "start_time": "2022-02-18T14:02:34.426Z"
   },
   {
    "duration": 13,
    "start_time": "2022-02-18T14:02:34.436Z"
   },
   {
    "duration": 31,
    "start_time": "2022-02-18T14:02:34.452Z"
   },
   {
    "duration": 70,
    "start_time": "2022-02-18T14:02:34.486Z"
   },
   {
    "duration": 30,
    "start_time": "2022-02-18T14:02:34.558Z"
   },
   {
    "duration": 38,
    "start_time": "2022-02-18T14:02:34.591Z"
   },
   {
    "duration": 13,
    "start_time": "2022-02-18T14:02:34.631Z"
   },
   {
    "duration": 22,
    "start_time": "2022-02-18T14:02:34.647Z"
   },
   {
    "duration": 9,
    "start_time": "2022-02-18T14:02:34.672Z"
   },
   {
    "duration": 16,
    "start_time": "2022-02-18T14:02:34.683Z"
   },
   {
    "duration": 28,
    "start_time": "2022-02-18T14:02:34.702Z"
   },
   {
    "duration": 9,
    "start_time": "2022-02-18T14:02:34.732Z"
   },
   {
    "duration": 8,
    "start_time": "2022-02-18T14:02:34.744Z"
   },
   {
    "duration": 9,
    "start_time": "2022-02-18T14:02:34.755Z"
   },
   {
    "duration": 14,
    "start_time": "2022-02-18T14:02:34.767Z"
   },
   {
    "duration": 31,
    "start_time": "2022-02-18T14:02:34.827Z"
   },
   {
    "duration": 7,
    "start_time": "2022-02-18T14:02:34.861Z"
   },
   {
    "duration": 21,
    "start_time": "2022-02-18T14:02:34.871Z"
   },
   {
    "duration": 44,
    "start_time": "2022-02-18T14:02:34.894Z"
   },
   {
    "duration": 8,
    "start_time": "2022-02-18T14:02:34.942Z"
   },
   {
    "duration": 15,
    "start_time": "2022-02-18T14:02:34.953Z"
   },
   {
    "duration": 24,
    "start_time": "2022-02-18T14:02:34.971Z"
   },
   {
    "duration": 15,
    "start_time": "2022-02-18T14:02:35.027Z"
   },
   {
    "duration": 15,
    "start_time": "2022-02-18T14:02:35.044Z"
   },
   {
    "duration": 17,
    "start_time": "2022-02-18T14:02:35.062Z"
   },
   {
    "duration": 13,
    "start_time": "2022-02-18T14:02:35.082Z"
   },
   {
    "duration": 38,
    "start_time": "2022-02-18T14:02:35.098Z"
   },
   {
    "duration": 12,
    "start_time": "2022-02-18T14:02:35.139Z"
   },
   {
    "duration": 8,
    "start_time": "2022-02-18T14:02:35.154Z"
   },
   {
    "duration": 8,
    "start_time": "2022-02-18T14:02:35.169Z"
   },
   {
    "duration": 54,
    "start_time": "2022-02-18T14:02:35.180Z"
   },
   {
    "duration": 12,
    "start_time": "2022-02-18T14:02:35.236Z"
   },
   {
    "duration": 8,
    "start_time": "2022-02-18T14:02:35.250Z"
   },
   {
    "duration": 15,
    "start_time": "2022-02-18T14:02:35.261Z"
   },
   {
    "duration": 7,
    "start_time": "2022-02-18T14:02:35.278Z"
   },
   {
    "duration": 15,
    "start_time": "2022-02-18T14:02:35.287Z"
   },
   {
    "duration": 3,
    "start_time": "2022-02-18T14:02:35.327Z"
   },
   {
    "duration": 10,
    "start_time": "2022-02-18T14:02:35.333Z"
   },
   {
    "duration": 31,
    "start_time": "2022-02-18T14:02:35.346Z"
   },
   {
    "duration": 11,
    "start_time": "2022-02-18T14:03:44.634Z"
   },
   {
    "duration": 365,
    "start_time": "2022-02-18T14:03:52.858Z"
   },
   {
    "duration": 274,
    "start_time": "2022-02-18T14:04:06.082Z"
   },
   {
    "duration": 259,
    "start_time": "2022-02-18T14:04:11.802Z"
   },
   {
    "duration": 12,
    "start_time": "2022-02-18T14:04:21.036Z"
   },
   {
    "duration": 10,
    "start_time": "2022-02-18T14:06:25.633Z"
   },
   {
    "duration": 396,
    "start_time": "2022-02-18T14:15:33.491Z"
   },
   {
    "duration": 99,
    "start_time": "2022-02-18T17:25:02.491Z"
   },
   {
    "duration": 283,
    "start_time": "2022-02-18T17:25:52.083Z"
   },
   {
    "duration": 15,
    "start_time": "2022-02-18T17:26:09.027Z"
   },
   {
    "duration": 12,
    "start_time": "2022-02-18T17:26:13.706Z"
   },
   {
    "duration": 19,
    "start_time": "2022-02-18T17:26:15.537Z"
   },
   {
    "duration": 862,
    "start_time": "2022-02-18T17:27:01.083Z"
   },
   {
    "duration": 66,
    "start_time": "2022-02-18T17:27:01.948Z"
   },
   {
    "duration": 43,
    "start_time": "2022-02-18T17:27:02.017Z"
   },
   {
    "duration": 17,
    "start_time": "2022-02-18T17:27:02.064Z"
   },
   {
    "duration": 6,
    "start_time": "2022-02-18T17:27:02.084Z"
   },
   {
    "duration": 62,
    "start_time": "2022-02-18T17:27:02.092Z"
   },
   {
    "duration": 21,
    "start_time": "2022-02-18T17:27:02.158Z"
   },
   {
    "duration": 7,
    "start_time": "2022-02-18T17:27:02.184Z"
   },
   {
    "duration": 31,
    "start_time": "2022-02-18T17:27:02.195Z"
   },
   {
    "duration": 15,
    "start_time": "2022-02-18T17:27:02.230Z"
   },
   {
    "duration": 4,
    "start_time": "2022-02-18T17:27:02.248Z"
   },
   {
    "duration": 10,
    "start_time": "2022-02-18T17:27:02.255Z"
   },
   {
    "duration": 7,
    "start_time": "2022-02-18T17:27:02.268Z"
   },
   {
    "duration": 16,
    "start_time": "2022-02-18T17:27:02.277Z"
   },
   {
    "duration": 36,
    "start_time": "2022-02-18T17:27:02.295Z"
   },
   {
    "duration": 4,
    "start_time": "2022-02-18T17:27:02.336Z"
   },
   {
    "duration": 12,
    "start_time": "2022-02-18T17:27:02.345Z"
   },
   {
    "duration": 15,
    "start_time": "2022-02-18T17:27:02.359Z"
   },
   {
    "duration": 17,
    "start_time": "2022-02-18T17:27:02.377Z"
   },
   {
    "duration": 33,
    "start_time": "2022-02-18T17:27:02.396Z"
   },
   {
    "duration": 5,
    "start_time": "2022-02-18T17:27:02.434Z"
   },
   {
    "duration": 25,
    "start_time": "2022-02-18T17:27:02.445Z"
   },
   {
    "duration": 12,
    "start_time": "2022-02-18T17:27:02.481Z"
   },
   {
    "duration": 41,
    "start_time": "2022-02-18T17:27:02.498Z"
   },
   {
    "duration": 13,
    "start_time": "2022-02-18T17:27:02.542Z"
   },
   {
    "duration": 416,
    "start_time": "2022-02-18T17:27:02.558Z"
   },
   {
    "duration": 2221,
    "start_time": "2022-02-18T17:27:00.758Z"
   },
   {
    "duration": 2213,
    "start_time": "2022-02-18T17:27:00.767Z"
   },
   {
    "duration": 2206,
    "start_time": "2022-02-18T17:27:00.777Z"
   },
   {
    "duration": 2201,
    "start_time": "2022-02-18T17:27:00.784Z"
   },
   {
    "duration": 2193,
    "start_time": "2022-02-18T17:27:00.794Z"
   },
   {
    "duration": 2188,
    "start_time": "2022-02-18T17:27:00.801Z"
   },
   {
    "duration": 2180,
    "start_time": "2022-02-18T17:27:00.811Z"
   },
   {
    "duration": 2175,
    "start_time": "2022-02-18T17:27:00.818Z"
   },
   {
    "duration": 2167,
    "start_time": "2022-02-18T17:27:00.828Z"
   },
   {
    "duration": 2115,
    "start_time": "2022-02-18T17:27:00.882Z"
   },
   {
    "duration": 2111,
    "start_time": "2022-02-18T17:27:00.889Z"
   },
   {
    "duration": 2103,
    "start_time": "2022-02-18T17:27:00.899Z"
   },
   {
    "duration": 2098,
    "start_time": "2022-02-18T17:27:00.906Z"
   },
   {
    "duration": 2089,
    "start_time": "2022-02-18T17:27:00.916Z"
   },
   {
    "duration": 2084,
    "start_time": "2022-02-18T17:27:00.923Z"
   },
   {
    "duration": 2076,
    "start_time": "2022-02-18T17:27:00.932Z"
   },
   {
    "duration": 2087,
    "start_time": "2022-02-18T17:27:00.939Z"
   },
   {
    "duration": 2080,
    "start_time": "2022-02-18T17:27:00.948Z"
   },
   {
    "duration": 2074,
    "start_time": "2022-02-18T17:27:00.956Z"
   },
   {
    "duration": 2067,
    "start_time": "2022-02-18T17:27:00.965Z"
   },
   {
    "duration": 2062,
    "start_time": "2022-02-18T17:27:00.972Z"
   },
   {
    "duration": 2055,
    "start_time": "2022-02-18T17:27:00.982Z"
   },
   {
    "duration": 2052,
    "start_time": "2022-02-18T17:27:00.988Z"
   },
   {
    "duration": 2045,
    "start_time": "2022-02-18T17:27:00.997Z"
   },
   {
    "duration": 2040,
    "start_time": "2022-02-18T17:27:01.004Z"
   },
   {
    "duration": 2031,
    "start_time": "2022-02-18T17:27:01.014Z"
   },
   {
    "duration": 2026,
    "start_time": "2022-02-18T17:27:01.020Z"
   },
   {
    "duration": 2017,
    "start_time": "2022-02-18T17:27:01.030Z"
   },
   {
    "duration": 2012,
    "start_time": "2022-02-18T17:27:01.037Z"
   },
   {
    "duration": 2006,
    "start_time": "2022-02-18T17:27:01.046Z"
   },
   {
    "duration": 2001,
    "start_time": "2022-02-18T17:27:01.054Z"
   },
   {
    "duration": 1993,
    "start_time": "2022-02-18T17:27:01.063Z"
   },
   {
    "duration": 1987,
    "start_time": "2022-02-18T17:27:01.070Z"
   },
   {
    "duration": 1979,
    "start_time": "2022-02-18T17:27:01.080Z"
   },
   {
    "duration": 1973,
    "start_time": "2022-02-18T17:27:01.087Z"
   },
   {
    "duration": 1966,
    "start_time": "2022-02-18T17:27:01.096Z"
   },
   {
    "duration": 1960,
    "start_time": "2022-02-18T17:27:01.104Z"
   },
   {
    "duration": 1952,
    "start_time": "2022-02-18T17:27:01.113Z"
   },
   {
    "duration": 1946,
    "start_time": "2022-02-18T17:27:01.120Z"
   },
   {
    "duration": 1939,
    "start_time": "2022-02-18T17:27:01.129Z"
   },
   {
    "duration": 1989,
    "start_time": "2022-02-18T17:27:01.136Z"
   },
   {
    "duration": 1982,
    "start_time": "2022-02-18T17:27:01.145Z"
   },
   {
    "duration": 1979,
    "start_time": "2022-02-18T17:27:01.151Z"
   },
   {
    "duration": 1970,
    "start_time": "2022-02-18T17:27:01.162Z"
   },
   {
    "duration": 1966,
    "start_time": "2022-02-18T17:27:01.168Z"
   },
   {
    "duration": 1957,
    "start_time": "2022-02-18T17:27:01.178Z"
   },
   {
    "duration": 1952,
    "start_time": "2022-02-18T17:27:01.185Z"
   },
   {
    "duration": 1944,
    "start_time": "2022-02-18T17:27:01.195Z"
   },
   {
    "duration": 1940,
    "start_time": "2022-02-18T17:27:01.202Z"
   },
   {
    "duration": 1941,
    "start_time": "2022-02-18T17:27:01.212Z"
   },
   {
    "duration": 1934,
    "start_time": "2022-02-18T17:27:01.220Z"
   },
   {
    "duration": 1921,
    "start_time": "2022-02-18T17:27:01.235Z"
   },
   {
    "duration": 17,
    "start_time": "2022-02-18T17:34:17.949Z"
   },
   {
    "duration": 21,
    "start_time": "2022-02-18T17:37:08.995Z"
   },
   {
    "duration": 10,
    "start_time": "2022-02-18T17:37:10.803Z"
   },
   {
    "duration": 14,
    "start_time": "2022-02-18T17:37:16.195Z"
   },
   {
    "duration": 16,
    "start_time": "2022-02-18T17:39:36.330Z"
   },
   {
    "duration": 286,
    "start_time": "2022-02-18T17:41:30.722Z"
   },
   {
    "duration": 274,
    "start_time": "2022-02-18T17:42:26.180Z"
   },
   {
    "duration": 11,
    "start_time": "2022-02-18T17:42:31.649Z"
   },
   {
    "duration": 30,
    "start_time": "2022-02-18T17:42:32.656Z"
   },
   {
    "duration": 10,
    "start_time": "2022-02-18T17:42:33.720Z"
   },
   {
    "duration": 12,
    "start_time": "2022-02-18T17:42:35.968Z"
   },
   {
    "duration": 1027,
    "start_time": "2022-02-18T17:43:02.472Z"
   },
   {
    "duration": 78,
    "start_time": "2022-02-18T17:43:03.503Z"
   },
   {
    "duration": 50,
    "start_time": "2022-02-18T17:43:03.584Z"
   },
   {
    "duration": 36,
    "start_time": "2022-02-18T17:43:03.637Z"
   },
   {
    "duration": 8,
    "start_time": "2022-02-18T17:43:03.676Z"
   },
   {
    "duration": 18,
    "start_time": "2022-02-18T17:43:03.687Z"
   },
   {
    "duration": 37,
    "start_time": "2022-02-18T17:43:03.708Z"
   },
   {
    "duration": 29,
    "start_time": "2022-02-18T17:43:03.750Z"
   },
   {
    "duration": 50,
    "start_time": "2022-02-18T17:43:03.783Z"
   },
   {
    "duration": 45,
    "start_time": "2022-02-18T17:43:03.836Z"
   },
   {
    "duration": 10,
    "start_time": "2022-02-18T17:43:03.884Z"
   },
   {
    "duration": 9,
    "start_time": "2022-02-18T17:43:03.897Z"
   },
   {
    "duration": 18,
    "start_time": "2022-02-18T17:43:03.909Z"
   },
   {
    "duration": 42,
    "start_time": "2022-02-18T17:43:03.930Z"
   },
   {
    "duration": 24,
    "start_time": "2022-02-18T17:43:03.974Z"
   },
   {
    "duration": 6,
    "start_time": "2022-02-18T17:43:04.001Z"
   },
   {
    "duration": 9,
    "start_time": "2022-02-18T17:43:04.010Z"
   },
   {
    "duration": 54,
    "start_time": "2022-02-18T17:43:04.022Z"
   },
   {
    "duration": 15,
    "start_time": "2022-02-18T17:43:04.079Z"
   },
   {
    "duration": 33,
    "start_time": "2022-02-18T17:43:04.097Z"
   },
   {
    "duration": 14,
    "start_time": "2022-02-18T17:43:04.133Z"
   },
   {
    "duration": 29,
    "start_time": "2022-02-18T17:43:04.150Z"
   },
   {
    "duration": 11,
    "start_time": "2022-02-18T17:43:04.189Z"
   },
   {
    "duration": 8,
    "start_time": "2022-02-18T17:43:04.226Z"
   },
   {
    "duration": 15,
    "start_time": "2022-02-18T17:43:04.239Z"
   },
   {
    "duration": 19,
    "start_time": "2022-02-18T17:43:04.257Z"
   },
   {
    "duration": 15,
    "start_time": "2022-02-18T17:43:04.278Z"
   },
   {
    "duration": 38,
    "start_time": "2022-02-18T17:43:04.296Z"
   },
   {
    "duration": 8,
    "start_time": "2022-02-18T17:43:04.339Z"
   },
   {
    "duration": 12,
    "start_time": "2022-02-18T17:43:04.349Z"
   },
   {
    "duration": 23,
    "start_time": "2022-02-18T17:43:04.364Z"
   },
   {
    "duration": 14,
    "start_time": "2022-02-18T17:43:04.390Z"
   },
   {
    "duration": 35,
    "start_time": "2022-02-18T17:43:04.426Z"
   },
   {
    "duration": 7,
    "start_time": "2022-02-18T17:43:04.464Z"
   },
   {
    "duration": 9,
    "start_time": "2022-02-18T17:43:04.474Z"
   },
   {
    "duration": 70,
    "start_time": "2022-02-18T17:43:04.486Z"
   },
   {
    "duration": 8,
    "start_time": "2022-02-18T17:43:04.559Z"
   },
   {
    "duration": 14,
    "start_time": "2022-02-18T17:43:04.570Z"
   },
   {
    "duration": 48,
    "start_time": "2022-02-18T17:43:04.586Z"
   },
   {
    "duration": 18,
    "start_time": "2022-02-18T17:43:04.636Z"
   },
   {
    "duration": 7,
    "start_time": "2022-02-18T17:43:04.656Z"
   },
   {
    "duration": 6,
    "start_time": "2022-02-18T17:43:04.666Z"
   },
   {
    "duration": 8,
    "start_time": "2022-02-18T17:43:04.674Z"
   },
   {
    "duration": 50,
    "start_time": "2022-02-18T17:43:04.684Z"
   },
   {
    "duration": 42,
    "start_time": "2022-02-18T17:43:04.737Z"
   },
   {
    "duration": 62,
    "start_time": "2022-02-18T17:43:04.782Z"
   },
   {
    "duration": 37,
    "start_time": "2022-02-18T17:43:04.847Z"
   },
   {
    "duration": 10,
    "start_time": "2022-02-18T17:43:04.887Z"
   },
   {
    "duration": 45,
    "start_time": "2022-02-18T17:43:04.900Z"
   },
   {
    "duration": 15,
    "start_time": "2022-02-18T17:43:04.949Z"
   },
   {
    "duration": 4,
    "start_time": "2022-02-18T17:43:04.967Z"
   },
   {
    "duration": 10,
    "start_time": "2022-02-18T17:43:04.974Z"
   },
   {
    "duration": 52,
    "start_time": "2022-02-18T17:43:04.987Z"
   },
   {
    "duration": 10,
    "start_time": "2022-02-18T17:43:05.042Z"
   },
   {
    "duration": 9,
    "start_time": "2022-02-18T17:43:05.055Z"
   },
   {
    "duration": 10,
    "start_time": "2022-02-18T17:43:05.067Z"
   },
   {
    "duration": 54,
    "start_time": "2022-02-18T17:43:05.081Z"
   },
   {
    "duration": 43,
    "start_time": "2022-02-18T17:43:05.138Z"
   },
   {
    "duration": 8,
    "start_time": "2022-02-18T17:43:05.184Z"
   },
   {
    "duration": 43,
    "start_time": "2022-02-18T17:43:05.195Z"
   },
   {
    "duration": 22,
    "start_time": "2022-02-18T17:43:05.247Z"
   },
   {
    "duration": 10,
    "start_time": "2022-02-18T17:43:05.272Z"
   },
   {
    "duration": 22,
    "start_time": "2022-02-18T17:43:05.284Z"
   },
   {
    "duration": 54,
    "start_time": "2022-02-18T17:43:05.309Z"
   },
   {
    "duration": 15,
    "start_time": "2022-02-18T17:43:05.365Z"
   },
   {
    "duration": 11,
    "start_time": "2022-02-18T17:43:05.383Z"
   },
   {
    "duration": 47,
    "start_time": "2022-02-18T17:43:05.396Z"
   },
   {
    "duration": 8,
    "start_time": "2022-02-18T17:43:05.450Z"
   },
   {
    "duration": 17,
    "start_time": "2022-02-18T17:43:05.461Z"
   },
   {
    "duration": 14,
    "start_time": "2022-02-18T17:43:05.481Z"
   },
   {
    "duration": 35,
    "start_time": "2022-02-18T17:43:05.497Z"
   },
   {
    "duration": 19,
    "start_time": "2022-02-18T17:43:05.535Z"
   },
   {
    "duration": 21,
    "start_time": "2022-02-18T17:43:05.557Z"
   },
   {
    "duration": 14,
    "start_time": "2022-02-18T17:43:05.580Z"
   },
   {
    "duration": 15,
    "start_time": "2022-02-18T17:43:05.597Z"
   },
   {
    "duration": 35,
    "start_time": "2022-02-18T17:43:05.615Z"
   },
   {
    "duration": 18,
    "start_time": "2022-02-18T17:43:05.653Z"
   },
   {
    "duration": 8,
    "start_time": "2022-02-18T17:43:05.674Z"
   },
   {
    "duration": 17,
    "start_time": "2022-02-18T17:43:05.684Z"
   },
   {
    "duration": 12,
    "start_time": "2022-02-18T17:43:05.703Z"
   },
   {
    "duration": 45,
    "start_time": "2022-02-18T17:43:05.717Z"
   },
   {
    "duration": 890,
    "start_time": "2022-02-18T17:47:22.415Z"
   },
   {
    "duration": 94,
    "start_time": "2022-02-18T17:47:23.308Z"
   },
   {
    "duration": 49,
    "start_time": "2022-02-18T17:47:23.406Z"
   },
   {
    "duration": 21,
    "start_time": "2022-02-18T17:47:23.460Z"
   },
   {
    "duration": 20,
    "start_time": "2022-02-18T17:47:23.484Z"
   },
   {
    "duration": 45,
    "start_time": "2022-02-18T17:47:23.506Z"
   },
   {
    "duration": 21,
    "start_time": "2022-02-18T17:47:23.554Z"
   },
   {
    "duration": 7,
    "start_time": "2022-02-18T17:47:23.580Z"
   },
   {
    "duration": 39,
    "start_time": "2022-02-18T17:47:23.591Z"
   },
   {
    "duration": 13,
    "start_time": "2022-02-18T17:47:23.633Z"
   },
   {
    "duration": 13,
    "start_time": "2022-02-18T17:47:23.649Z"
   },
   {
    "duration": 23,
    "start_time": "2022-02-18T17:47:23.665Z"
   },
   {
    "duration": 7,
    "start_time": "2022-02-18T17:47:23.691Z"
   },
   {
    "duration": 19,
    "start_time": "2022-02-18T17:47:23.701Z"
   },
   {
    "duration": 15,
    "start_time": "2022-02-18T17:47:23.723Z"
   },
   {
    "duration": 18,
    "start_time": "2022-02-18T17:47:23.740Z"
   },
   {
    "duration": 5,
    "start_time": "2022-02-18T17:47:23.761Z"
   },
   {
    "duration": 24,
    "start_time": "2022-02-18T17:47:23.769Z"
   },
   {
    "duration": 30,
    "start_time": "2022-02-18T17:47:23.796Z"
   },
   {
    "duration": 26,
    "start_time": "2022-02-18T17:47:23.829Z"
   },
   {
    "duration": 15,
    "start_time": "2022-02-18T17:47:23.857Z"
   },
   {
    "duration": 28,
    "start_time": "2022-02-18T17:47:23.874Z"
   },
   {
    "duration": 28,
    "start_time": "2022-02-18T17:47:23.908Z"
   },
   {
    "duration": 28,
    "start_time": "2022-02-18T17:47:23.941Z"
   },
   {
    "duration": 39,
    "start_time": "2022-02-18T17:47:23.971Z"
   },
   {
    "duration": 37,
    "start_time": "2022-02-18T17:47:24.013Z"
   },
   {
    "duration": 24,
    "start_time": "2022-02-18T17:47:24.052Z"
   },
   {
    "duration": 20,
    "start_time": "2022-02-18T17:47:24.078Z"
   },
   {
    "duration": 21,
    "start_time": "2022-02-18T17:47:24.100Z"
   },
   {
    "duration": 33,
    "start_time": "2022-02-18T17:47:24.123Z"
   },
   {
    "duration": 17,
    "start_time": "2022-02-18T17:47:24.158Z"
   },
   {
    "duration": 13,
    "start_time": "2022-02-18T17:47:24.178Z"
   },
   {
    "duration": 48,
    "start_time": "2022-02-18T17:47:24.194Z"
   },
   {
    "duration": 15,
    "start_time": "2022-02-18T17:47:24.245Z"
   },
   {
    "duration": 10,
    "start_time": "2022-02-18T17:47:24.263Z"
   },
   {
    "duration": 38,
    "start_time": "2022-02-18T17:47:24.275Z"
   },
   {
    "duration": 16,
    "start_time": "2022-02-18T17:47:24.327Z"
   },
   {
    "duration": 49,
    "start_time": "2022-02-18T17:47:24.345Z"
   },
   {
    "duration": 40,
    "start_time": "2022-02-18T17:47:24.397Z"
   },
   {
    "duration": 23,
    "start_time": "2022-02-18T17:47:24.440Z"
   },
   {
    "duration": 8,
    "start_time": "2022-02-18T17:47:24.466Z"
   },
   {
    "duration": 7,
    "start_time": "2022-02-18T17:47:24.477Z"
   },
   {
    "duration": 11,
    "start_time": "2022-02-18T17:47:24.487Z"
   },
   {
    "duration": 52,
    "start_time": "2022-02-18T17:47:24.501Z"
   },
   {
    "duration": 36,
    "start_time": "2022-02-18T17:47:24.556Z"
   },
   {
    "duration": 53,
    "start_time": "2022-02-18T17:47:24.595Z"
   },
   {
    "duration": 28,
    "start_time": "2022-02-18T17:47:24.650Z"
   },
   {
    "duration": 10,
    "start_time": "2022-02-18T17:47:24.681Z"
   },
   {
    "duration": 45,
    "start_time": "2022-02-18T17:47:24.694Z"
   },
   {
    "duration": 25,
    "start_time": "2022-02-18T17:47:24.742Z"
   },
   {
    "duration": 5,
    "start_time": "2022-02-18T17:47:24.770Z"
   },
   {
    "duration": 11,
    "start_time": "2022-02-18T17:47:24.778Z"
   },
   {
    "duration": 35,
    "start_time": "2022-02-18T17:47:24.792Z"
   },
   {
    "duration": 13,
    "start_time": "2022-02-18T17:47:24.831Z"
   },
   {
    "duration": 25,
    "start_time": "2022-02-18T17:47:24.849Z"
   },
   {
    "duration": 12,
    "start_time": "2022-02-18T17:47:24.877Z"
   },
   {
    "duration": 42,
    "start_time": "2022-02-18T17:47:24.892Z"
   },
   {
    "duration": 38,
    "start_time": "2022-02-18T17:47:24.940Z"
   },
   {
    "duration": 5,
    "start_time": "2022-02-18T17:47:24.981Z"
   },
   {
    "duration": 47,
    "start_time": "2022-02-18T17:47:24.989Z"
   },
   {
    "duration": 27,
    "start_time": "2022-02-18T17:47:25.038Z"
   },
   {
    "duration": 13,
    "start_time": "2022-02-18T17:47:25.068Z"
   },
   {
    "duration": 20,
    "start_time": "2022-02-18T17:47:25.084Z"
   },
   {
    "duration": 36,
    "start_time": "2022-02-18T17:47:25.107Z"
   },
   {
    "duration": 21,
    "start_time": "2022-02-18T17:47:25.146Z"
   },
   {
    "duration": 15,
    "start_time": "2022-02-18T17:47:25.170Z"
   },
   {
    "duration": 38,
    "start_time": "2022-02-18T17:47:25.188Z"
   },
   {
    "duration": 15,
    "start_time": "2022-02-18T17:47:25.236Z"
   },
   {
    "duration": 13,
    "start_time": "2022-02-18T17:47:25.254Z"
   },
   {
    "duration": 11,
    "start_time": "2022-02-18T17:47:25.270Z"
   },
   {
    "duration": 7,
    "start_time": "2022-02-18T17:47:25.284Z"
   },
   {
    "duration": 18,
    "start_time": "2022-02-18T17:47:25.333Z"
   },
   {
    "duration": 15,
    "start_time": "2022-02-18T17:47:25.354Z"
   },
   {
    "duration": 13,
    "start_time": "2022-02-18T17:47:25.372Z"
   },
   {
    "duration": 15,
    "start_time": "2022-02-18T17:47:25.388Z"
   },
   {
    "duration": 32,
    "start_time": "2022-02-18T17:47:25.406Z"
   },
   {
    "duration": 11,
    "start_time": "2022-02-18T17:47:25.441Z"
   },
   {
    "duration": 13,
    "start_time": "2022-02-18T17:47:25.455Z"
   },
   {
    "duration": 6,
    "start_time": "2022-02-18T17:47:25.471Z"
   },
   {
    "duration": 6,
    "start_time": "2022-02-18T17:47:25.480Z"
   },
   {
    "duration": 53,
    "start_time": "2022-02-18T17:47:25.488Z"
   },
   {
    "duration": 1015,
    "start_time": "2022-02-18T17:51:07.186Z"
   },
   {
    "duration": 91,
    "start_time": "2022-02-18T17:51:08.204Z"
   },
   {
    "duration": 52,
    "start_time": "2022-02-18T17:51:08.299Z"
   },
   {
    "duration": 17,
    "start_time": "2022-02-18T17:51:08.355Z"
   },
   {
    "duration": 6,
    "start_time": "2022-02-18T17:51:08.375Z"
   },
   {
    "duration": 55,
    "start_time": "2022-02-18T17:51:08.384Z"
   },
   {
    "duration": 21,
    "start_time": "2022-02-18T17:51:08.443Z"
   },
   {
    "duration": 6,
    "start_time": "2022-02-18T17:51:08.470Z"
   },
   {
    "duration": 4,
    "start_time": "2022-02-18T17:51:08.480Z"
   },
   {
    "duration": 4,
    "start_time": "2022-02-18T17:51:08.487Z"
   },
   {
    "duration": 9,
    "start_time": "2022-02-18T17:51:08.526Z"
   },
   {
    "duration": 19,
    "start_time": "2022-02-18T17:51:08.538Z"
   },
   {
    "duration": 14,
    "start_time": "2022-02-18T17:51:08.559Z"
   },
   {
    "duration": 20,
    "start_time": "2022-02-18T17:51:08.576Z"
   },
   {
    "duration": 26,
    "start_time": "2022-02-18T17:51:08.599Z"
   },
   {
    "duration": 3,
    "start_time": "2022-02-18T17:51:08.634Z"
   },
   {
    "duration": 14,
    "start_time": "2022-02-18T17:51:08.640Z"
   },
   {
    "duration": 32,
    "start_time": "2022-02-18T17:51:08.657Z"
   },
   {
    "duration": 10,
    "start_time": "2022-02-18T17:51:08.692Z"
   },
   {
    "duration": 29,
    "start_time": "2022-02-18T17:51:08.730Z"
   },
   {
    "duration": 11,
    "start_time": "2022-02-18T17:51:08.762Z"
   },
   {
    "duration": 20,
    "start_time": "2022-02-18T17:51:08.776Z"
   },
   {
    "duration": 14,
    "start_time": "2022-02-18T17:51:08.837Z"
   },
   {
    "duration": 6,
    "start_time": "2022-02-18T17:51:08.856Z"
   },
   {
    "duration": 33,
    "start_time": "2022-02-18T17:51:08.865Z"
   },
   {
    "duration": 9,
    "start_time": "2022-02-18T17:51:08.902Z"
   },
   {
    "duration": 17,
    "start_time": "2022-02-18T17:51:08.926Z"
   },
   {
    "duration": 14,
    "start_time": "2022-02-18T17:51:08.948Z"
   },
   {
    "duration": 8,
    "start_time": "2022-02-18T17:51:08.964Z"
   },
   {
    "duration": 12,
    "start_time": "2022-02-18T17:51:08.975Z"
   },
   {
    "duration": 48,
    "start_time": "2022-02-18T17:51:08.990Z"
   },
   {
    "duration": 12,
    "start_time": "2022-02-18T17:51:09.040Z"
   },
   {
    "duration": 28,
    "start_time": "2022-02-18T17:51:09.054Z"
   },
   {
    "duration": 10,
    "start_time": "2022-02-18T17:51:09.085Z"
   },
   {
    "duration": 22,
    "start_time": "2022-02-18T17:51:09.127Z"
   },
   {
    "duration": 47,
    "start_time": "2022-02-18T17:51:09.152Z"
   },
   {
    "duration": 33,
    "start_time": "2022-02-18T17:51:09.202Z"
   },
   {
    "duration": 19,
    "start_time": "2022-02-18T17:51:09.238Z"
   },
   {
    "duration": 15,
    "start_time": "2022-02-18T17:51:09.259Z"
   },
   {
    "duration": 17,
    "start_time": "2022-02-18T17:51:09.276Z"
   },
   {
    "duration": 36,
    "start_time": "2022-02-18T17:51:09.297Z"
   },
   {
    "duration": 19,
    "start_time": "2022-02-18T17:51:09.336Z"
   },
   {
    "duration": 23,
    "start_time": "2022-02-18T17:51:09.358Z"
   },
   {
    "duration": 23,
    "start_time": "2022-02-18T17:51:09.385Z"
   },
   {
    "duration": 51,
    "start_time": "2022-02-18T17:51:09.411Z"
   },
   {
    "duration": 43,
    "start_time": "2022-02-18T17:51:09.466Z"
   },
   {
    "duration": 41,
    "start_time": "2022-02-18T17:51:09.526Z"
   },
   {
    "duration": 12,
    "start_time": "2022-02-18T17:51:09.570Z"
   },
   {
    "duration": 42,
    "start_time": "2022-02-18T17:51:09.586Z"
   },
   {
    "duration": 25,
    "start_time": "2022-02-18T17:51:09.631Z"
   },
   {
    "duration": 4,
    "start_time": "2022-02-18T17:51:09.659Z"
   },
   {
    "duration": 13,
    "start_time": "2022-02-18T17:51:09.665Z"
   },
   {
    "duration": 12,
    "start_time": "2022-02-18T17:51:09.681Z"
   },
   {
    "duration": 15,
    "start_time": "2022-02-18T17:51:09.726Z"
   },
   {
    "duration": 21,
    "start_time": "2022-02-18T17:51:09.744Z"
   },
   {
    "duration": 11,
    "start_time": "2022-02-18T17:51:09.768Z"
   },
   {
    "duration": 15,
    "start_time": "2022-02-18T17:51:09.782Z"
   },
   {
    "duration": 32,
    "start_time": "2022-02-18T17:51:09.833Z"
   },
   {
    "duration": 5,
    "start_time": "2022-02-18T17:51:09.868Z"
   },
   {
    "duration": 26,
    "start_time": "2022-02-18T17:51:09.876Z"
   },
   {
    "duration": 24,
    "start_time": "2022-02-18T17:51:09.928Z"
   },
   {
    "duration": 13,
    "start_time": "2022-02-18T17:51:09.955Z"
   },
   {
    "duration": 18,
    "start_time": "2022-02-18T17:51:09.971Z"
   },
   {
    "duration": 51,
    "start_time": "2022-02-18T17:51:09.992Z"
   },
   {
    "duration": 16,
    "start_time": "2022-02-18T17:51:10.046Z"
   },
   {
    "duration": 11,
    "start_time": "2022-02-18T17:51:10.065Z"
   },
   {
    "duration": 32,
    "start_time": "2022-02-18T17:51:10.078Z"
   },
   {
    "duration": 9,
    "start_time": "2022-02-18T17:51:10.131Z"
   },
   {
    "duration": 22,
    "start_time": "2022-02-18T17:51:10.143Z"
   },
   {
    "duration": 16,
    "start_time": "2022-02-18T17:51:10.168Z"
   },
   {
    "duration": 9,
    "start_time": "2022-02-18T17:51:10.186Z"
   },
   {
    "duration": 50,
    "start_time": "2022-02-18T17:51:10.197Z"
   },
   {
    "duration": 17,
    "start_time": "2022-02-18T17:51:10.250Z"
   },
   {
    "duration": 15,
    "start_time": "2022-02-18T17:51:10.270Z"
   },
   {
    "duration": 13,
    "start_time": "2022-02-18T17:51:10.287Z"
   },
   {
    "duration": 41,
    "start_time": "2022-02-18T17:51:10.303Z"
   },
   {
    "duration": 4,
    "start_time": "2022-02-18T17:51:10.347Z"
   },
   {
    "duration": 9,
    "start_time": "2022-02-18T17:51:10.354Z"
   },
   {
    "duration": 5,
    "start_time": "2022-02-18T17:51:10.366Z"
   },
   {
    "duration": 9,
    "start_time": "2022-02-18T17:51:10.373Z"
   },
   {
    "duration": 50,
    "start_time": "2022-02-18T17:51:10.385Z"
   },
   {
    "duration": 810,
    "start_time": "2022-02-19T05:52:12.173Z"
   },
   {
    "duration": 62,
    "start_time": "2022-02-19T05:52:12.986Z"
   },
   {
    "duration": 38,
    "start_time": "2022-02-19T05:52:13.051Z"
   },
   {
    "duration": 16,
    "start_time": "2022-02-19T05:52:13.092Z"
   },
   {
    "duration": 5,
    "start_time": "2022-02-19T05:52:13.111Z"
   },
   {
    "duration": 50,
    "start_time": "2022-02-19T05:52:13.118Z"
   },
   {
    "duration": 14,
    "start_time": "2022-02-19T05:52:13.170Z"
   },
   {
    "duration": 6,
    "start_time": "2022-02-19T05:52:13.188Z"
   },
   {
    "duration": 5,
    "start_time": "2022-02-19T05:52:13.197Z"
   },
   {
    "duration": 5,
    "start_time": "2022-02-19T05:52:13.204Z"
   },
   {
    "duration": 6,
    "start_time": "2022-02-19T05:52:13.211Z"
   },
   {
    "duration": 44,
    "start_time": "2022-02-19T05:52:13.219Z"
   },
   {
    "duration": 5,
    "start_time": "2022-02-19T05:52:13.266Z"
   },
   {
    "duration": 13,
    "start_time": "2022-02-19T05:52:13.273Z"
   },
   {
    "duration": 12,
    "start_time": "2022-02-19T05:52:13.288Z"
   },
   {
    "duration": 4,
    "start_time": "2022-02-19T05:52:13.302Z"
   },
   {
    "duration": 6,
    "start_time": "2022-02-19T05:52:13.309Z"
   },
   {
    "duration": 9,
    "start_time": "2022-02-19T05:52:13.360Z"
   },
   {
    "duration": 20,
    "start_time": "2022-02-19T05:52:13.371Z"
   },
   {
    "duration": 9,
    "start_time": "2022-02-19T05:52:13.393Z"
   },
   {
    "duration": 18,
    "start_time": "2022-02-19T05:52:13.405Z"
   },
   {
    "duration": 40,
    "start_time": "2022-02-19T05:52:13.426Z"
   },
   {
    "duration": 13,
    "start_time": "2022-02-19T05:52:13.474Z"
   },
   {
    "duration": 8,
    "start_time": "2022-02-19T05:52:13.491Z"
   },
   {
    "duration": 6,
    "start_time": "2022-02-19T05:52:13.501Z"
   },
   {
    "duration": 58,
    "start_time": "2022-02-19T05:52:13.510Z"
   },
   {
    "duration": 8,
    "start_time": "2022-02-19T05:52:13.570Z"
   },
   {
    "duration": 10,
    "start_time": "2022-02-19T05:52:13.580Z"
   },
   {
    "duration": 5,
    "start_time": "2022-02-19T05:52:13.593Z"
   },
   {
    "duration": 5,
    "start_time": "2022-02-19T05:52:13.600Z"
   },
   {
    "duration": 53,
    "start_time": "2022-02-19T05:52:13.607Z"
   },
   {
    "duration": 9,
    "start_time": "2022-02-19T05:52:13.663Z"
   },
   {
    "duration": 10,
    "start_time": "2022-02-19T05:52:13.674Z"
   },
   {
    "duration": 26,
    "start_time": "2022-02-19T05:52:13.686Z"
   },
   {
    "duration": 48,
    "start_time": "2022-02-19T05:52:13.714Z"
   },
   {
    "duration": 9,
    "start_time": "2022-02-19T05:52:13.765Z"
   },
   {
    "duration": 26,
    "start_time": "2022-02-19T05:52:13.777Z"
   },
   {
    "duration": 7,
    "start_time": "2022-02-19T05:52:13.806Z"
   },
   {
    "duration": 51,
    "start_time": "2022-02-19T05:52:13.816Z"
   },
   {
    "duration": 11,
    "start_time": "2022-02-19T05:52:13.869Z"
   },
   {
    "duration": 9,
    "start_time": "2022-02-19T05:52:13.882Z"
   },
   {
    "duration": 10,
    "start_time": "2022-02-19T05:52:13.894Z"
   },
   {
    "duration": 6,
    "start_time": "2022-02-19T05:52:13.906Z"
   },
   {
    "duration": 53,
    "start_time": "2022-02-19T05:52:13.915Z"
   },
   {
    "duration": 13,
    "start_time": "2022-02-19T05:52:13.971Z"
   },
   {
    "duration": 29,
    "start_time": "2022-02-19T05:52:13.987Z"
   },
   {
    "duration": 74,
    "start_time": "2022-02-19T05:52:14.019Z"
   },
   {
    "duration": 28,
    "start_time": "2022-02-19T05:52:14.096Z"
   },
   {
    "duration": 39,
    "start_time": "2022-02-19T05:52:14.127Z"
   },
   {
    "duration": 14,
    "start_time": "2022-02-19T05:52:14.169Z"
   },
   {
    "duration": 13,
    "start_time": "2022-02-19T05:52:14.186Z"
   },
   {
    "duration": 5,
    "start_time": "2022-02-19T05:52:14.202Z"
   },
   {
    "duration": 54,
    "start_time": "2022-02-19T05:52:14.210Z"
   },
   {
    "duration": 9,
    "start_time": "2022-02-19T05:52:14.267Z"
   },
   {
    "duration": 22,
    "start_time": "2022-02-19T05:52:14.278Z"
   },
   {
    "duration": 10,
    "start_time": "2022-02-19T05:52:14.302Z"
   },
   {
    "duration": 9,
    "start_time": "2022-02-19T05:52:14.315Z"
   },
   {
    "duration": 40,
    "start_time": "2022-02-19T05:52:14.326Z"
   },
   {
    "duration": 36,
    "start_time": "2022-02-19T05:52:14.369Z"
   },
   {
    "duration": 4,
    "start_time": "2022-02-19T05:52:14.408Z"
   },
   {
    "duration": 18,
    "start_time": "2022-02-19T05:52:14.415Z"
   },
   {
    "duration": 19,
    "start_time": "2022-02-19T05:52:14.462Z"
   },
   {
    "duration": 7,
    "start_time": "2022-02-19T05:52:14.483Z"
   },
   {
    "duration": 22,
    "start_time": "2022-02-19T05:52:14.493Z"
   },
   {
    "duration": 50,
    "start_time": "2022-02-19T05:52:14.518Z"
   },
   {
    "duration": 18,
    "start_time": "2022-02-19T05:52:14.571Z"
   },
   {
    "duration": 12,
    "start_time": "2022-02-19T05:52:14.592Z"
   },
   {
    "duration": 12,
    "start_time": "2022-02-19T05:52:14.612Z"
   },
   {
    "duration": 38,
    "start_time": "2022-02-19T05:52:14.627Z"
   },
   {
    "duration": 12,
    "start_time": "2022-02-19T05:52:14.668Z"
   },
   {
    "duration": 10,
    "start_time": "2022-02-19T05:52:14.683Z"
   },
   {
    "duration": 6,
    "start_time": "2022-02-19T05:52:14.696Z"
   },
   {
    "duration": 11,
    "start_time": "2022-02-19T05:52:14.705Z"
   },
   {
    "duration": 11,
    "start_time": "2022-02-19T05:52:14.762Z"
   },
   {
    "duration": 10,
    "start_time": "2022-02-19T05:52:14.775Z"
   },
   {
    "duration": 7,
    "start_time": "2022-02-19T05:52:14.788Z"
   },
   {
    "duration": 6,
    "start_time": "2022-02-19T05:52:14.797Z"
   },
   {
    "duration": 3,
    "start_time": "2022-02-19T05:52:14.806Z"
   },
   {
    "duration": 5,
    "start_time": "2022-02-19T05:52:14.811Z"
   },
   {
    "duration": 3,
    "start_time": "2022-02-19T05:52:14.862Z"
   },
   {
    "duration": 9,
    "start_time": "2022-02-19T05:52:14.867Z"
   },
   {
    "duration": 23,
    "start_time": "2022-02-19T05:52:14.878Z"
   },
   {
    "duration": 21,
    "start_time": "2022-02-19T06:02:28.156Z"
   },
   {
    "duration": 16,
    "start_time": "2022-02-19T06:02:39.970Z"
   },
   {
    "duration": 13,
    "start_time": "2022-02-19T06:03:27.809Z"
   },
   {
    "duration": 26,
    "start_time": "2022-02-19T06:03:32.520Z"
   }
  ],
  "kernelspec": {
   "display_name": "Python 3 (ipykernel)",
   "language": "python",
   "name": "python3"
  },
  "language_info": {
   "codemirror_mode": {
    "name": "ipython",
    "version": 3
   },
   "file_extension": ".py",
   "mimetype": "text/x-python",
   "name": "python",
   "nbconvert_exporter": "python",
   "pygments_lexer": "ipython3",
   "version": "3.9.7"
  },
  "toc": {
   "base_numbering": 1,
   "nav_menu": {},
   "number_sections": true,
   "sideBar": true,
   "skip_h1_title": true,
   "title_cell": "Table of Contents",
   "title_sidebar": "Contents",
   "toc_cell": false,
   "toc_position": {},
   "toc_section_display": true,
   "toc_window_display": false
  }
 },
 "nbformat": 4,
 "nbformat_minor": 5
}
