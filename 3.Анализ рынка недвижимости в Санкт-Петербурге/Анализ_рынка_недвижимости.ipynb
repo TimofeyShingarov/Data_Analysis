{
 "cells": [
  {
   "cell_type": "markdown",
   "metadata": {
    "toc": true
   },
   "source": [
    "<h1>Содержание<span class=\"tocSkip\"></span></h1>\n",
    "<div class=\"toc\"><ul class=\"toc-item\"><li><span><a href=\"#Изучение-данных-из-файла\" data-toc-modified-id=\"Изучение-данных-из-файла-1\"><span class=\"toc-item-num\">1&nbsp;&nbsp;</span>Изучение данных из файла</a></span><ul class=\"toc-item\"><li><span><a href=\"#Вывод\" data-toc-modified-id=\"Вывод-1.1\"><span class=\"toc-item-num\">1.1&nbsp;&nbsp;</span>Вывод</a></span></li></ul></li><li><span><a href=\"#Предобработка-данных\" data-toc-modified-id=\"Предобработка-данных-2\"><span class=\"toc-item-num\">2&nbsp;&nbsp;</span>Предобработка данных</a></span></li><li><span><a href=\"#Расчёты-и-добавление-результатов-в-таблицу\" data-toc-modified-id=\"Расчёты-и-добавление-результатов-в-таблицу-3\"><span class=\"toc-item-num\">3&nbsp;&nbsp;</span>Расчёты и добавление результатов в таблицу</a></span></li><li><span><a href=\"#Исследовательский-анализ-данных\" data-toc-modified-id=\"Исследовательский-анализ-данных-4\"><span class=\"toc-item-num\">4&nbsp;&nbsp;</span>Исследовательский анализ данных</a></span></li><li><span><a href=\"#Общий-вывод\" data-toc-modified-id=\"Общий-вывод-5\"><span class=\"toc-item-num\">5&nbsp;&nbsp;</span>Общий вывод</a></span></li><li><span><a href=\"#Чек-лист-готовности-проекта\" data-toc-modified-id=\"Чек-лист-готовности-проекта-6\"><span class=\"toc-item-num\">6&nbsp;&nbsp;</span>Чек-лист готовности проекта</a></span></li></ul></div>"
   ]
  },
  {
   "cell_type": "markdown",
   "metadata": {},
   "source": [
    "# Исследование объявлений о продаже квартир\n",
    "\n",
    "В вашем распоряжении данные сервиса Яндекc Недвижимость — архив объявлений о продаже квартир в Санкт-Петербурге и соседних населённых пунктах за несколько лет. Нужно научиться определять рыночную стоимость объектов недвижимости. Ваша задача — установить параметры. Это позволит построить автоматизированную систему: она отследит аномалии и мошенническую деятельность. \n",
    "\n",
    "По каждой квартире на продажу доступны два вида данных. Первые вписаны пользователем, вторые получены автоматически на основе картографических данных. Например, расстояние до центра, аэропорта, ближайшего парка и водоёма. "
   ]
  },
  {
   "cell_type": "markdown",
   "metadata": {},
   "source": [
    "## Изучение данных из файла"
   ]
  },
  {
   "cell_type": "code",
   "execution_count": 1,
   "metadata": {},
   "outputs": [],
   "source": [
    "# Импорт библиотеки pandas\n",
    "import pandas as pd"
   ]
  },
  {
   "cell_type": "code",
   "execution_count": 2,
   "metadata": {},
   "outputs": [],
   "source": [
    "df = pd.read_csv('D:/Project/3/real_estate_data.csv')"
   ]
  },
  {
   "cell_type": "code",
   "execution_count": 3,
   "metadata": {
    "scrolled": true
   },
   "outputs": [
    {
     "name": "stdout",
     "output_type": "stream",
     "text": [
      "<class 'pandas.core.frame.DataFrame'>\n",
      "RangeIndex: 23699 entries, 0 to 23698\n",
      "Data columns (total 1 columns):\n",
      " #   Column                                                                                                                                                                                                                                                                                           Non-Null Count  Dtype \n",
      "---  ------                                                                                                                                                                                                                                                                                           --------------  ----- \n",
      " 0   total_images\tlast_price\ttotal_area\tfirst_day_exposition\trooms\tceiling_height\tfloors_total\tliving_area\tfloor\tis_apartment\tstudio\topen_plan\tkitchen_area\tbalcony\tlocality_name\tairports_nearest\tcityCenters_nearest\tparks_around3000\tparks_nearest\tponds_around3000\tponds_nearest\tdays_exposition  23699 non-null  object\n",
      "dtypes: object(1)\n",
      "memory usage: 185.3+ KB\n"
     ]
    }
   ],
   "source": [
    "# Получим общую информацию о файле\n",
    "df.info()"
   ]
  },
  {
   "cell_type": "markdown",
   "metadata": {},
   "source": [
    "Из полученной информации видим, что данные все находятся в одной колонке. Необходимо их разделить"
   ]
  },
  {
   "cell_type": "code",
   "execution_count": 4,
   "metadata": {},
   "outputs": [],
   "source": [
    "# Для разделения колонок применим параметр `sep`\n",
    "df = pd.read_csv('D:/Project/3/real_estate_data.csv', sep = '\\t')"
   ]
  },
  {
   "cell_type": "code",
   "execution_count": 5,
   "metadata": {},
   "outputs": [
    {
     "name": "stdout",
     "output_type": "stream",
     "text": [
      "<class 'pandas.core.frame.DataFrame'>\n",
      "RangeIndex: 23699 entries, 0 to 23698\n",
      "Data columns (total 22 columns):\n",
      " #   Column                Non-Null Count  Dtype  \n",
      "---  ------                --------------  -----  \n",
      " 0   total_images          23699 non-null  int64  \n",
      " 1   last_price            23699 non-null  float64\n",
      " 2   total_area            23699 non-null  float64\n",
      " 3   first_day_exposition  23699 non-null  object \n",
      " 4   rooms                 23699 non-null  int64  \n",
      " 5   ceiling_height        14504 non-null  float64\n",
      " 6   floors_total          23613 non-null  float64\n",
      " 7   living_area           21796 non-null  float64\n",
      " 8   floor                 23699 non-null  int64  \n",
      " 9   is_apartment          2775 non-null   object \n",
      " 10  studio                23699 non-null  bool   \n",
      " 11  open_plan             23699 non-null  bool   \n",
      " 12  kitchen_area          21421 non-null  float64\n",
      " 13  balcony               12180 non-null  float64\n",
      " 14  locality_name         23650 non-null  object \n",
      " 15  airports_nearest      18157 non-null  float64\n",
      " 16  cityCenters_nearest   18180 non-null  float64\n",
      " 17  parks_around3000      18181 non-null  float64\n",
      " 18  parks_nearest         8079 non-null   float64\n",
      " 19  ponds_around3000      18181 non-null  float64\n",
      " 20  ponds_nearest         9110 non-null   float64\n",
      " 21  days_exposition       20518 non-null  float64\n",
      "dtypes: bool(2), float64(14), int64(3), object(3)\n",
      "memory usage: 3.7+ MB\n"
     ]
    }
   ],
   "source": [
    "# Выведем обработанную информацию о таблице на экран\n",
    "df.info()"
   ]
  },
  {
   "cell_type": "markdown",
   "metadata": {},
   "source": [
    "Итак, в нашей таблице 22 колонки. Из них, 2 колонки имеют логический тип данных, 14 колонок - вещественные числа,\n",
    "3 колонки - целые числа, 3 колонки - строки."
   ]
  },
  {
   "cell_type": "markdown",
   "metadata": {},
   "source": [
    "Согласно документации к данным:\n",
    "    \n",
    "`airports_nearest` — расстояние до ближайшего аэропорта в метрах (м)\n",
    "\n",
    "`balcony` — число балконов\n",
    "\n",
    "`ceiling_height` — высота потолков (м)\n",
    "\n",
    "`cityCenters_nearest` — расстояние до центра города (м)\n",
    "\n",
    "`days_exposition` — сколько дней было размещено объявление (от публикации до снятия)\n",
    "\n",
    "`first_day_exposition` — дата публикации\n",
    "\n",
    "`floor` — этаж\n",
    "\n",
    "`floors_total` — всего этажей в доме\n",
    "\n",
    "`is_apartment` — апартаменты (булев тип)\n",
    "\n",
    "`kitchen_area` — площадь кухни в квадратных метрах (м²)\n",
    "\n",
    "`last_price` — цена на момент снятия с публикации\n",
    "\n",
    "`living_area` — жилая площадь в квадратных метрах (м²)\n",
    "\n",
    "`locality_name` — название населённого пункта\n",
    "\n",
    "`open_plan` — свободная планировка (булев тип)\n",
    "\n",
    "`parks_around3000` — число парков в радиусе 3 км\n",
    "\n",
    "`parks_nearest` — расстояние до ближайшего парка (м)\n",
    "\n",
    "`ponds_around3000` — число водоёмов в радиусе 3 км\n",
    "\n",
    "`ponds_nearest` — расстояние до ближайшего водоёма (м)\n",
    "\n",
    "`rooms` — число комнат\n",
    "\n",
    "`studio` — квартира-студия (булев тип)\n",
    "\n",
    "`total_area` — площадь квартиры в квадратных метрах (м²)\n",
    "\n",
    "`total_images` — число фотографий квартиры в объявлении"
   ]
  },
  {
   "cell_type": "code",
   "execution_count": 6,
   "metadata": {},
   "outputs": [
    {
     "data": {
      "text/html": [
       "<div>\n",
       "<style scoped>\n",
       "    .dataframe tbody tr th:only-of-type {\n",
       "        vertical-align: middle;\n",
       "    }\n",
       "\n",
       "    .dataframe tbody tr th {\n",
       "        vertical-align: top;\n",
       "    }\n",
       "\n",
       "    .dataframe thead th {\n",
       "        text-align: right;\n",
       "    }\n",
       "</style>\n",
       "<table border=\"1\" class=\"dataframe\">\n",
       "  <thead>\n",
       "    <tr style=\"text-align: right;\">\n",
       "      <th></th>\n",
       "      <th>total_images</th>\n",
       "      <th>last_price</th>\n",
       "      <th>total_area</th>\n",
       "      <th>first_day_exposition</th>\n",
       "      <th>rooms</th>\n",
       "      <th>ceiling_height</th>\n",
       "      <th>floors_total</th>\n",
       "      <th>living_area</th>\n",
       "      <th>floor</th>\n",
       "      <th>is_apartment</th>\n",
       "      <th>...</th>\n",
       "      <th>kitchen_area</th>\n",
       "      <th>balcony</th>\n",
       "      <th>locality_name</th>\n",
       "      <th>airports_nearest</th>\n",
       "      <th>cityCenters_nearest</th>\n",
       "      <th>parks_around3000</th>\n",
       "      <th>parks_nearest</th>\n",
       "      <th>ponds_around3000</th>\n",
       "      <th>ponds_nearest</th>\n",
       "      <th>days_exposition</th>\n",
       "    </tr>\n",
       "  </thead>\n",
       "  <tbody>\n",
       "    <tr>\n",
       "      <th>0</th>\n",
       "      <td>20</td>\n",
       "      <td>13000000.0</td>\n",
       "      <td>108.0</td>\n",
       "      <td>2019-03-07T00:00:00</td>\n",
       "      <td>3</td>\n",
       "      <td>2.70</td>\n",
       "      <td>16.0</td>\n",
       "      <td>51.0</td>\n",
       "      <td>8</td>\n",
       "      <td>NaN</td>\n",
       "      <td>...</td>\n",
       "      <td>25.0</td>\n",
       "      <td>NaN</td>\n",
       "      <td>Санкт-Петербург</td>\n",
       "      <td>18863.0</td>\n",
       "      <td>16028.0</td>\n",
       "      <td>1.0</td>\n",
       "      <td>482.0</td>\n",
       "      <td>2.0</td>\n",
       "      <td>755.0</td>\n",
       "      <td>NaN</td>\n",
       "    </tr>\n",
       "    <tr>\n",
       "      <th>1</th>\n",
       "      <td>7</td>\n",
       "      <td>3350000.0</td>\n",
       "      <td>40.4</td>\n",
       "      <td>2018-12-04T00:00:00</td>\n",
       "      <td>1</td>\n",
       "      <td>NaN</td>\n",
       "      <td>11.0</td>\n",
       "      <td>18.6</td>\n",
       "      <td>1</td>\n",
       "      <td>NaN</td>\n",
       "      <td>...</td>\n",
       "      <td>11.0</td>\n",
       "      <td>2.0</td>\n",
       "      <td>посёлок Шушары</td>\n",
       "      <td>12817.0</td>\n",
       "      <td>18603.0</td>\n",
       "      <td>0.0</td>\n",
       "      <td>NaN</td>\n",
       "      <td>0.0</td>\n",
       "      <td>NaN</td>\n",
       "      <td>81.0</td>\n",
       "    </tr>\n",
       "    <tr>\n",
       "      <th>2</th>\n",
       "      <td>10</td>\n",
       "      <td>5196000.0</td>\n",
       "      <td>56.0</td>\n",
       "      <td>2015-08-20T00:00:00</td>\n",
       "      <td>2</td>\n",
       "      <td>NaN</td>\n",
       "      <td>5.0</td>\n",
       "      <td>34.3</td>\n",
       "      <td>4</td>\n",
       "      <td>NaN</td>\n",
       "      <td>...</td>\n",
       "      <td>8.3</td>\n",
       "      <td>0.0</td>\n",
       "      <td>Санкт-Петербург</td>\n",
       "      <td>21741.0</td>\n",
       "      <td>13933.0</td>\n",
       "      <td>1.0</td>\n",
       "      <td>90.0</td>\n",
       "      <td>2.0</td>\n",
       "      <td>574.0</td>\n",
       "      <td>558.0</td>\n",
       "    </tr>\n",
       "    <tr>\n",
       "      <th>3</th>\n",
       "      <td>0</td>\n",
       "      <td>64900000.0</td>\n",
       "      <td>159.0</td>\n",
       "      <td>2015-07-24T00:00:00</td>\n",
       "      <td>3</td>\n",
       "      <td>NaN</td>\n",
       "      <td>14.0</td>\n",
       "      <td>NaN</td>\n",
       "      <td>9</td>\n",
       "      <td>NaN</td>\n",
       "      <td>...</td>\n",
       "      <td>NaN</td>\n",
       "      <td>0.0</td>\n",
       "      <td>Санкт-Петербург</td>\n",
       "      <td>28098.0</td>\n",
       "      <td>6800.0</td>\n",
       "      <td>2.0</td>\n",
       "      <td>84.0</td>\n",
       "      <td>3.0</td>\n",
       "      <td>234.0</td>\n",
       "      <td>424.0</td>\n",
       "    </tr>\n",
       "    <tr>\n",
       "      <th>4</th>\n",
       "      <td>2</td>\n",
       "      <td>10000000.0</td>\n",
       "      <td>100.0</td>\n",
       "      <td>2018-06-19T00:00:00</td>\n",
       "      <td>2</td>\n",
       "      <td>3.03</td>\n",
       "      <td>14.0</td>\n",
       "      <td>32.0</td>\n",
       "      <td>13</td>\n",
       "      <td>NaN</td>\n",
       "      <td>...</td>\n",
       "      <td>41.0</td>\n",
       "      <td>NaN</td>\n",
       "      <td>Санкт-Петербург</td>\n",
       "      <td>31856.0</td>\n",
       "      <td>8098.0</td>\n",
       "      <td>2.0</td>\n",
       "      <td>112.0</td>\n",
       "      <td>1.0</td>\n",
       "      <td>48.0</td>\n",
       "      <td>121.0</td>\n",
       "    </tr>\n",
       "  </tbody>\n",
       "</table>\n",
       "<p>5 rows × 22 columns</p>\n",
       "</div>"
      ],
      "text/plain": [
       "   total_images  last_price  total_area first_day_exposition  rooms  \\\n",
       "0            20  13000000.0       108.0  2019-03-07T00:00:00      3   \n",
       "1             7   3350000.0        40.4  2018-12-04T00:00:00      1   \n",
       "2            10   5196000.0        56.0  2015-08-20T00:00:00      2   \n",
       "3             0  64900000.0       159.0  2015-07-24T00:00:00      3   \n",
       "4             2  10000000.0       100.0  2018-06-19T00:00:00      2   \n",
       "\n",
       "   ceiling_height  floors_total  living_area  floor is_apartment  ...  \\\n",
       "0            2.70          16.0         51.0      8          NaN  ...   \n",
       "1             NaN          11.0         18.6      1          NaN  ...   \n",
       "2             NaN           5.0         34.3      4          NaN  ...   \n",
       "3             NaN          14.0          NaN      9          NaN  ...   \n",
       "4            3.03          14.0         32.0     13          NaN  ...   \n",
       "\n",
       "   kitchen_area  balcony    locality_name  airports_nearest  \\\n",
       "0          25.0      NaN  Санкт-Петербург           18863.0   \n",
       "1          11.0      2.0   посёлок Шушары           12817.0   \n",
       "2           8.3      0.0  Санкт-Петербург           21741.0   \n",
       "3           NaN      0.0  Санкт-Петербург           28098.0   \n",
       "4          41.0      NaN  Санкт-Петербург           31856.0   \n",
       "\n",
       "  cityCenters_nearest  parks_around3000  parks_nearest  ponds_around3000  \\\n",
       "0             16028.0               1.0          482.0               2.0   \n",
       "1             18603.0               0.0            NaN               0.0   \n",
       "2             13933.0               1.0           90.0               2.0   \n",
       "3              6800.0               2.0           84.0               3.0   \n",
       "4              8098.0               2.0          112.0               1.0   \n",
       "\n",
       "   ponds_nearest  days_exposition  \n",
       "0          755.0              NaN  \n",
       "1            NaN             81.0  \n",
       "2          574.0            558.0  \n",
       "3          234.0            424.0  \n",
       "4           48.0            121.0  \n",
       "\n",
       "[5 rows x 22 columns]"
      ]
     },
     "execution_count": 6,
     "metadata": {},
     "output_type": "execute_result"
    }
   ],
   "source": [
    "# Выведем первые 5 строк нашей таблицы\n",
    "df.head()"
   ]
  },
  {
   "cell_type": "code",
   "execution_count": 7,
   "metadata": {},
   "outputs": [
    {
     "data": {
      "text/plain": [
       "Index(['total_images', 'last_price', 'total_area', 'first_day_exposition',\n",
       "       'rooms', 'ceiling_height', 'floors_total', 'living_area', 'floor',\n",
       "       'is_apartment', 'studio', 'open_plan', 'kitchen_area', 'balcony',\n",
       "       'locality_name', 'airports_nearest', 'cityCenters_nearest',\n",
       "       'parks_around3000', 'parks_nearest', 'ponds_around3000',\n",
       "       'ponds_nearest', 'days_exposition'],\n",
       "      dtype='object')"
      ]
     },
     "execution_count": 7,
     "metadata": {},
     "output_type": "execute_result"
    }
   ],
   "source": [
    "# Выведем название колонок\n",
    "df.columns"
   ]
  },
  {
   "cell_type": "markdown",
   "metadata": {},
   "source": [
    "Как видим, название колонок написаны правильно, не начинаются с заглавных букв и пробелов,\n",
    "присутствует \"змеиный регистр\"."
   ]
  },
  {
   "cell_type": "markdown",
   "metadata": {},
   "source": [
    "### Вывод"
   ]
  },
  {
   "cell_type": "markdown",
   "metadata": {},
   "source": [
    "Предварительно можно утвердать, что данных достаточно для установления параметров с целью построения автоматизированной системы. Однако, встречаются пропуски в данных. Кроме того, возможно, придется поменять тип данных некоторых столбцов"
   ]
  },
  {
   "cell_type": "markdown",
   "metadata": {},
   "source": [
    "## Предобработка данных"
   ]
  },
  {
   "cell_type": "markdown",
   "metadata": {},
   "source": [
    "Сначала посчитаем, сколько пропущенных значений в таблице"
   ]
  },
  {
   "cell_type": "code",
   "execution_count": 9,
   "metadata": {},
   "outputs": [
    {
     "data": {
      "text/plain": [
       "total_images                0\n",
       "last_price                  0\n",
       "total_area                  0\n",
       "first_day_exposition        0\n",
       "rooms                       0\n",
       "ceiling_height           9195\n",
       "floors_total               86\n",
       "living_area              1903\n",
       "floor                       0\n",
       "is_apartment            20924\n",
       "studio                      0\n",
       "open_plan                   0\n",
       "kitchen_area             2278\n",
       "balcony                 11519\n",
       "locality_name              49\n",
       "airports_nearest         5542\n",
       "cityCenters_nearest      5519\n",
       "parks_around3000         5518\n",
       "parks_nearest           15620\n",
       "ponds_around3000         5518\n",
       "ponds_nearest           14589\n",
       "days_exposition          3181\n",
       "dtype: int64"
      ]
     },
     "execution_count": 9,
     "metadata": {},
     "output_type": "execute_result"
    }
   ],
   "source": [
    "df.isna().sum()"
   ]
  },
  {
   "cell_type": "markdown",
   "metadata": {},
   "source": [
    "Как видим, в 14 столбцах имеются пропущенные значения. Но не все они будут влиять на исследование.\n",
    "Рассмотрим их более внимательно и при необходимости заменим"
   ]
  },
  {
   "cell_type": "markdown",
   "metadata": {},
   "source": [
    "Рассмотрим столбы `balcony`, `parks_around3000`, `ponds_around3000`. \n",
    "Будем считать, что если значение в этих столбцах пропущено, то оно равно 0, так как в квартире нет балкона,\n",
    "а в радиусе трех километров нет ни парка, ни водоема."
   ]
  },
  {
   "cell_type": "code",
   "execution_count": 9,
   "metadata": {},
   "outputs": [],
   "source": [
    "# Заменим пропущенные значения в эти столбцах на 0 методом `.fillna()`\n",
    "df['balcony'] = df['balcony'].fillna(0)\n",
    "df['parks_around3000'] = df['parks_around3000'].fillna(0)\n",
    "df['ponds_around3000'] = df['ponds_around3000'].fillna(0)"
   ]
  },
  {
   "cell_type": "code",
   "execution_count": 10,
   "metadata": {},
   "outputs": [],
   "source": [
    "# Поменяем тип столбцов с вещественные числа на целые числа\n",
    "df['balcony'] = df['balcony'].astype('int')\n",
    "df['parks_around3000'] = df['parks_around3000'].astype('int')\n",
    "df['ponds_around3000'] = df['ponds_around3000'].astype('int')"
   ]
  },
  {
   "cell_type": "code",
   "execution_count": 11,
   "metadata": {
    "scrolled": false
   },
   "outputs": [
    {
     "name": "stdout",
     "output_type": "stream",
     "text": [
      "<class 'pandas.core.frame.DataFrame'>\n",
      "RangeIndex: 23699 entries, 0 to 23698\n",
      "Data columns (total 22 columns):\n",
      "total_images            23699 non-null int64\n",
      "last_price              23699 non-null float64\n",
      "total_area              23699 non-null float64\n",
      "first_day_exposition    23699 non-null object\n",
      "rooms                   23699 non-null int64\n",
      "ceiling_height          14504 non-null float64\n",
      "floors_total            23613 non-null float64\n",
      "living_area             21796 non-null float64\n",
      "floor                   23699 non-null int64\n",
      "is_apartment            2775 non-null object\n",
      "studio                  23699 non-null bool\n",
      "open_plan               23699 non-null bool\n",
      "kitchen_area            21421 non-null float64\n",
      "balcony                 23699 non-null int64\n",
      "locality_name           23650 non-null object\n",
      "airports_nearest        18157 non-null float64\n",
      "cityCenters_nearest     18180 non-null float64\n",
      "parks_around3000        23699 non-null int64\n",
      "parks_nearest           8079 non-null float64\n",
      "ponds_around3000        23699 non-null int64\n",
      "ponds_nearest           9110 non-null float64\n",
      "days_exposition         20518 non-null float64\n",
      "dtypes: bool(2), float64(11), int64(6), object(3)\n",
      "memory usage: 3.7+ MB\n"
     ]
    }
   ],
   "source": [
    "df.info()"
   ]
  },
  {
   "cell_type": "markdown",
   "metadata": {},
   "source": [
    "Заполним пропуски в столбце `floors_total`. "
   ]
  },
  {
   "cell_type": "code",
   "execution_count": 12,
   "metadata": {
    "scrolled": true
   },
   "outputs": [
    {
     "data": {
      "text/plain": [
       "5.0     5788\n",
       "9.0     3761\n",
       "16.0    1376\n",
       "12.0    1362\n",
       "4.0     1200\n",
       "10.0    1174\n",
       "25.0    1075\n",
       "6.0      914\n",
       "17.0     833\n",
       "3.0      668\n",
       "7.0      592\n",
       "14.0     553\n",
       "18.0     505\n",
       "24.0     469\n",
       "8.0      390\n",
       "2.0      383\n",
       "15.0     365\n",
       "23.0     352\n",
       "19.0     339\n",
       "22.0     286\n",
       "20.0     271\n",
       "13.0     229\n",
       "11.0     203\n",
       "27.0     164\n",
       "21.0     158\n",
       "26.0     124\n",
       "1.0       25\n",
       "35.0      24\n",
       "28.0      21\n",
       "36.0       3\n",
       "29.0       1\n",
       "60.0       1\n",
       "33.0       1\n",
       "52.0       1\n",
       "37.0       1\n",
       "34.0       1\n",
       "Name: floors_total, dtype: int64"
      ]
     },
     "execution_count": 12,
     "metadata": {},
     "output_type": "execute_result"
    }
   ],
   "source": [
    "df['floors_total'].value_counts()"
   ]
  },
  {
   "cell_type": "code",
   "execution_count": 13,
   "metadata": {
    "scrolled": true
   },
   "outputs": [
    {
     "data": {
      "text/plain": [
       "4     10\n",
       "6      9\n",
       "8      8\n",
       "12     6\n",
       "9      5\n",
       "3      4\n",
       "21     4\n",
       "5      4\n",
       "7      4\n",
       "11     3\n",
       "10     3\n",
       "1      3\n",
       "13     3\n",
       "15     3\n",
       "18     3\n",
       "19     3\n",
       "14     2\n",
       "20     2\n",
       "2      2\n",
       "24     2\n",
       "23     1\n",
       "17     1\n",
       "22     1\n",
       "Name: floor, dtype: int64"
      ]
     },
     "execution_count": 13,
     "metadata": {},
     "output_type": "execute_result"
    }
   ],
   "source": [
    "df[df['floors_total'].isna()]['floor'].value_counts()"
   ]
  },
  {
   "cell_type": "markdown",
   "metadata": {},
   "source": [
    "Скорее всего, в представленных таблицах видно, что если стоит пропуск в графе `floors_total`, то значит, что указанный в объявлении этаж - это последний. Поэтому заменим пропуски в графе `floors_total` указанным в объявлении этажем"
   ]
  },
  {
   "cell_type": "code",
   "execution_count": 14,
   "metadata": {},
   "outputs": [
    {
     "data": {
      "text/plain": [
       "0"
      ]
     },
     "execution_count": 14,
     "metadata": {},
     "output_type": "execute_result"
    }
   ],
   "source": [
    "# Для заполнения пропусков заполним пропуски нулем и создадим функцию, в которой определим, \n",
    "# что если всего этажей в доме равно 0, то функция будет возвращать этаж.\n",
    "df['floors_total'] = df['floors_total'].fillna(0)\n",
    "def floors(row):\n",
    "    if row['floors_total'] == 0:\n",
    "        row['floors_total'] = row['floor']\n",
    "    return row\n",
    "\n",
    "df = df.apply(floors, axis=1)\n",
    "\n",
    "df['floors_total'].isna().sum()"
   ]
  },
  {
   "cell_type": "code",
   "execution_count": 15,
   "metadata": {},
   "outputs": [
    {
     "name": "stdout",
     "output_type": "stream",
     "text": [
      "<class 'pandas.core.frame.DataFrame'>\n",
      "RangeIndex: 23699 entries, 0 to 23698\n",
      "Data columns (total 22 columns):\n",
      "total_images            23699 non-null int64\n",
      "last_price              23699 non-null float64\n",
      "total_area              23699 non-null float64\n",
      "first_day_exposition    23699 non-null object\n",
      "rooms                   23699 non-null int64\n",
      "ceiling_height          14504 non-null float64\n",
      "floors_total            23699 non-null float64\n",
      "living_area             21796 non-null float64\n",
      "floor                   23699 non-null int64\n",
      "is_apartment            2775 non-null object\n",
      "studio                  23699 non-null bool\n",
      "open_plan               23699 non-null bool\n",
      "kitchen_area            21421 non-null float64\n",
      "balcony                 23699 non-null int64\n",
      "locality_name           23650 non-null object\n",
      "airports_nearest        18157 non-null float64\n",
      "cityCenters_nearest     18180 non-null float64\n",
      "parks_around3000        23699 non-null int64\n",
      "parks_nearest           8079 non-null float64\n",
      "ponds_around3000        23699 non-null int64\n",
      "ponds_nearest           9110 non-null float64\n",
      "days_exposition         20518 non-null float64\n",
      "dtypes: bool(2), float64(11), int64(6), object(3)\n",
      "memory usage: 3.7+ MB\n"
     ]
    }
   ],
   "source": [
    "df.info()"
   ]
  },
  {
   "cell_type": "markdown",
   "metadata": {},
   "source": [
    "Рассмотрим столбец `is_apartment`. "
   ]
  },
  {
   "cell_type": "code",
   "execution_count": 16,
   "metadata": {},
   "outputs": [
    {
     "data": {
      "text/plain": [
       "array([nan, False, True], dtype=object)"
      ]
     },
     "execution_count": 16,
     "metadata": {},
     "output_type": "execute_result"
    }
   ],
   "source": [
    "df['is_apartment'].unique()"
   ]
  },
  {
   "cell_type": "markdown",
   "metadata": {},
   "source": [
    "Значения могут говорить, что если не указаны данные, то квартира не является аппартаментами. Заменим пропуски на `False`,\n",
    "что значит, не аппартаменты"
   ]
  },
  {
   "cell_type": "code",
   "execution_count": 17,
   "metadata": {},
   "outputs": [],
   "source": [
    "df['is_apartment'] = df['is_apartment'].fillna(value=False)"
   ]
  },
  {
   "cell_type": "code",
   "execution_count": 18,
   "metadata": {},
   "outputs": [
    {
     "data": {
      "text/plain": [
       "0"
      ]
     },
     "execution_count": 18,
     "metadata": {},
     "output_type": "execute_result"
    }
   ],
   "source": [
    "df['is_apartment'].isna().sum()"
   ]
  },
  {
   "cell_type": "markdown",
   "metadata": {},
   "source": [
    "Рассмотрим пропуски в столбцах `living_area` и `kitchen_area`. "
   ]
  },
  {
   "cell_type": "code",
   "execution_count": 19,
   "metadata": {},
   "outputs": [
    {
     "data": {
      "text/html": [
       "<div>\n",
       "<style scoped>\n",
       "    .dataframe tbody tr th:only-of-type {\n",
       "        vertical-align: middle;\n",
       "    }\n",
       "\n",
       "    .dataframe tbody tr th {\n",
       "        vertical-align: top;\n",
       "    }\n",
       "\n",
       "    .dataframe thead th {\n",
       "        text-align: right;\n",
       "    }\n",
       "</style>\n",
       "<table border=\"1\" class=\"dataframe\">\n",
       "  <thead>\n",
       "    <tr style=\"text-align: right;\">\n",
       "      <th></th>\n",
       "      <th>total_images</th>\n",
       "      <th>last_price</th>\n",
       "      <th>total_area</th>\n",
       "      <th>rooms</th>\n",
       "      <th>ceiling_height</th>\n",
       "      <th>floors_total</th>\n",
       "      <th>living_area</th>\n",
       "      <th>floor</th>\n",
       "      <th>kitchen_area</th>\n",
       "      <th>balcony</th>\n",
       "      <th>airports_nearest</th>\n",
       "      <th>cityCenters_nearest</th>\n",
       "      <th>parks_around3000</th>\n",
       "      <th>parks_nearest</th>\n",
       "      <th>ponds_around3000</th>\n",
       "      <th>ponds_nearest</th>\n",
       "      <th>days_exposition</th>\n",
       "    </tr>\n",
       "  </thead>\n",
       "  <tbody>\n",
       "    <tr>\n",
       "      <td>count</td>\n",
       "      <td>23699.000000</td>\n",
       "      <td>2.369900e+04</td>\n",
       "      <td>23699.000000</td>\n",
       "      <td>23699.000000</td>\n",
       "      <td>14504.000000</td>\n",
       "      <td>23699.000000</td>\n",
       "      <td>21796.000000</td>\n",
       "      <td>23699.000000</td>\n",
       "      <td>21421.000000</td>\n",
       "      <td>23699.000000</td>\n",
       "      <td>18157.000000</td>\n",
       "      <td>18180.000000</td>\n",
       "      <td>23699.000000</td>\n",
       "      <td>8079.000000</td>\n",
       "      <td>23699.000000</td>\n",
       "      <td>9110.000000</td>\n",
       "      <td>20518.000000</td>\n",
       "    </tr>\n",
       "    <tr>\n",
       "      <td>mean</td>\n",
       "      <td>9.858475</td>\n",
       "      <td>6.541549e+06</td>\n",
       "      <td>60.348651</td>\n",
       "      <td>2.070636</td>\n",
       "      <td>2.771499</td>\n",
       "      <td>10.671463</td>\n",
       "      <td>34.457852</td>\n",
       "      <td>5.892358</td>\n",
       "      <td>10.569807</td>\n",
       "      <td>0.591080</td>\n",
       "      <td>28793.672193</td>\n",
       "      <td>14191.277833</td>\n",
       "      <td>0.469049</td>\n",
       "      <td>490.804555</td>\n",
       "      <td>0.590911</td>\n",
       "      <td>517.980900</td>\n",
       "      <td>180.888634</td>\n",
       "    </tr>\n",
       "    <tr>\n",
       "      <td>std</td>\n",
       "      <td>5.682529</td>\n",
       "      <td>1.088701e+07</td>\n",
       "      <td>35.654083</td>\n",
       "      <td>1.078405</td>\n",
       "      <td>1.261056</td>\n",
       "      <td>6.595802</td>\n",
       "      <td>22.030445</td>\n",
       "      <td>4.885249</td>\n",
       "      <td>5.905438</td>\n",
       "      <td>0.959298</td>\n",
       "      <td>12630.880622</td>\n",
       "      <td>8608.386210</td>\n",
       "      <td>0.748534</td>\n",
       "      <td>342.317995</td>\n",
       "      <td>0.883999</td>\n",
       "      <td>277.720643</td>\n",
       "      <td>219.727988</td>\n",
       "    </tr>\n",
       "    <tr>\n",
       "      <td>min</td>\n",
       "      <td>0.000000</td>\n",
       "      <td>1.219000e+04</td>\n",
       "      <td>12.000000</td>\n",
       "      <td>0.000000</td>\n",
       "      <td>1.000000</td>\n",
       "      <td>1.000000</td>\n",
       "      <td>2.000000</td>\n",
       "      <td>1.000000</td>\n",
       "      <td>1.300000</td>\n",
       "      <td>0.000000</td>\n",
       "      <td>0.000000</td>\n",
       "      <td>181.000000</td>\n",
       "      <td>0.000000</td>\n",
       "      <td>1.000000</td>\n",
       "      <td>0.000000</td>\n",
       "      <td>13.000000</td>\n",
       "      <td>1.000000</td>\n",
       "    </tr>\n",
       "    <tr>\n",
       "      <td>25%</td>\n",
       "      <td>6.000000</td>\n",
       "      <td>3.400000e+06</td>\n",
       "      <td>40.000000</td>\n",
       "      <td>1.000000</td>\n",
       "      <td>2.520000</td>\n",
       "      <td>5.000000</td>\n",
       "      <td>18.600000</td>\n",
       "      <td>2.000000</td>\n",
       "      <td>7.000000</td>\n",
       "      <td>0.000000</td>\n",
       "      <td>18585.000000</td>\n",
       "      <td>9238.000000</td>\n",
       "      <td>0.000000</td>\n",
       "      <td>288.000000</td>\n",
       "      <td>0.000000</td>\n",
       "      <td>294.000000</td>\n",
       "      <td>45.000000</td>\n",
       "    </tr>\n",
       "    <tr>\n",
       "      <td>50%</td>\n",
       "      <td>9.000000</td>\n",
       "      <td>4.650000e+06</td>\n",
       "      <td>52.000000</td>\n",
       "      <td>2.000000</td>\n",
       "      <td>2.650000</td>\n",
       "      <td>9.000000</td>\n",
       "      <td>30.000000</td>\n",
       "      <td>4.000000</td>\n",
       "      <td>9.100000</td>\n",
       "      <td>0.000000</td>\n",
       "      <td>26726.000000</td>\n",
       "      <td>13098.500000</td>\n",
       "      <td>0.000000</td>\n",
       "      <td>455.000000</td>\n",
       "      <td>0.000000</td>\n",
       "      <td>502.000000</td>\n",
       "      <td>95.000000</td>\n",
       "    </tr>\n",
       "    <tr>\n",
       "      <td>75%</td>\n",
       "      <td>14.000000</td>\n",
       "      <td>6.800000e+06</td>\n",
       "      <td>69.900000</td>\n",
       "      <td>3.000000</td>\n",
       "      <td>2.800000</td>\n",
       "      <td>16.000000</td>\n",
       "      <td>42.300000</td>\n",
       "      <td>8.000000</td>\n",
       "      <td>12.000000</td>\n",
       "      <td>1.000000</td>\n",
       "      <td>37273.000000</td>\n",
       "      <td>16293.000000</td>\n",
       "      <td>1.000000</td>\n",
       "      <td>612.000000</td>\n",
       "      <td>1.000000</td>\n",
       "      <td>729.000000</td>\n",
       "      <td>232.000000</td>\n",
       "    </tr>\n",
       "    <tr>\n",
       "      <td>max</td>\n",
       "      <td>50.000000</td>\n",
       "      <td>7.630000e+08</td>\n",
       "      <td>900.000000</td>\n",
       "      <td>19.000000</td>\n",
       "      <td>100.000000</td>\n",
       "      <td>60.000000</td>\n",
       "      <td>409.700000</td>\n",
       "      <td>33.000000</td>\n",
       "      <td>112.000000</td>\n",
       "      <td>5.000000</td>\n",
       "      <td>84869.000000</td>\n",
       "      <td>65968.000000</td>\n",
       "      <td>3.000000</td>\n",
       "      <td>3190.000000</td>\n",
       "      <td>3.000000</td>\n",
       "      <td>1344.000000</td>\n",
       "      <td>1580.000000</td>\n",
       "    </tr>\n",
       "  </tbody>\n",
       "</table>\n",
       "</div>"
      ],
      "text/plain": [
       "       total_images    last_price    total_area         rooms  ceiling_height  \\\n",
       "count  23699.000000  2.369900e+04  23699.000000  23699.000000    14504.000000   \n",
       "mean       9.858475  6.541549e+06     60.348651      2.070636        2.771499   \n",
       "std        5.682529  1.088701e+07     35.654083      1.078405        1.261056   \n",
       "min        0.000000  1.219000e+04     12.000000      0.000000        1.000000   \n",
       "25%        6.000000  3.400000e+06     40.000000      1.000000        2.520000   \n",
       "50%        9.000000  4.650000e+06     52.000000      2.000000        2.650000   \n",
       "75%       14.000000  6.800000e+06     69.900000      3.000000        2.800000   \n",
       "max       50.000000  7.630000e+08    900.000000     19.000000      100.000000   \n",
       "\n",
       "       floors_total   living_area         floor  kitchen_area       balcony  \\\n",
       "count  23699.000000  21796.000000  23699.000000  21421.000000  23699.000000   \n",
       "mean      10.671463     34.457852      5.892358     10.569807      0.591080   \n",
       "std        6.595802     22.030445      4.885249      5.905438      0.959298   \n",
       "min        1.000000      2.000000      1.000000      1.300000      0.000000   \n",
       "25%        5.000000     18.600000      2.000000      7.000000      0.000000   \n",
       "50%        9.000000     30.000000      4.000000      9.100000      0.000000   \n",
       "75%       16.000000     42.300000      8.000000     12.000000      1.000000   \n",
       "max       60.000000    409.700000     33.000000    112.000000      5.000000   \n",
       "\n",
       "       airports_nearest  cityCenters_nearest  parks_around3000  parks_nearest  \\\n",
       "count      18157.000000         18180.000000      23699.000000    8079.000000   \n",
       "mean       28793.672193         14191.277833          0.469049     490.804555   \n",
       "std        12630.880622          8608.386210          0.748534     342.317995   \n",
       "min            0.000000           181.000000          0.000000       1.000000   \n",
       "25%        18585.000000          9238.000000          0.000000     288.000000   \n",
       "50%        26726.000000         13098.500000          0.000000     455.000000   \n",
       "75%        37273.000000         16293.000000          1.000000     612.000000   \n",
       "max        84869.000000         65968.000000          3.000000    3190.000000   \n",
       "\n",
       "       ponds_around3000  ponds_nearest  days_exposition  \n",
       "count      23699.000000    9110.000000     20518.000000  \n",
       "mean           0.590911     517.980900       180.888634  \n",
       "std            0.883999     277.720643       219.727988  \n",
       "min            0.000000      13.000000         1.000000  \n",
       "25%            0.000000     294.000000        45.000000  \n",
       "50%            0.000000     502.000000        95.000000  \n",
       "75%            1.000000     729.000000       232.000000  \n",
       "max            3.000000    1344.000000      1580.000000  "
      ]
     },
     "execution_count": 19,
     "metadata": {},
     "output_type": "execute_result"
    }
   ],
   "source": [
    "df.describe()"
   ]
  },
  {
   "cell_type": "markdown",
   "metadata": {},
   "source": [
    "В связи с малым количеством пропущенных значений в данных столбцах, пропуски можно заменить средним значением (`mean`)"
   ]
  },
  {
   "cell_type": "code",
   "execution_count": 20,
   "metadata": {},
   "outputs": [],
   "source": [
    "# Рассчитаем значение жилой площади от среднего отношения жилой площади к средней общей площади квартиры \n",
    "mean_live = df['living_area'].mean() / df['total_area'].mean()\n",
    "df['living_area'].fillna(mean_live * df['total_area'], inplace=True)"
   ]
  },
  {
   "cell_type": "code",
   "execution_count": 21,
   "metadata": {},
   "outputs": [],
   "source": [
    "# Рассчитаем значение площади кухни от среднего отношения площади кухни к средней общей площади квартиры \n",
    "mean_kitchen = df['kitchen_area'].mean() / df['total_area'].mean()\n",
    "df['kitchen_area'].fillna(mean_kitchen * df['total_area'], inplace=True)"
   ]
  },
  {
   "cell_type": "markdown",
   "metadata": {},
   "source": [
    "Пропуски в `ceiling_height` (высота потолков) заменим средним значением. Оно примерно совпадает со значением по СНИПам (2,5)"
   ]
  },
  {
   "cell_type": "code",
   "execution_count": 22,
   "metadata": {},
   "outputs": [],
   "source": [
    "df['ceiling_height'] = df['ceiling_height'].fillna(df['ceiling_height'].mean())"
   ]
  },
  {
   "cell_type": "markdown",
   "metadata": {},
   "source": [
    "Рассмотрим столбцы `airports_nearest`, `cityCenters_nearest`, `parks_nearest`, `ponds_nearest`."
   ]
  },
  {
   "cell_type": "code",
   "execution_count": 23,
   "metadata": {},
   "outputs": [
    {
     "data": {
      "text/plain": [
       "0"
      ]
     },
     "execution_count": 23,
     "metadata": {},
     "output_type": "execute_result"
    }
   ],
   "source": [
    "# Сгруппируем расстояние до аэропорта по колонке \"Название населенного пункта\" и методом `transform()` найдем среднее\n",
    "# значение. После чего заполним пропуски по населенному пункту, а оставшиеся пропуски заполним средним значением\n",
    "grouped_nearest=df.groupby('locality_name')['airports_nearest'].transform('mean')\n",
    "df['airports_nearest'].fillna(grouped_nearest,inplace=True)\n",
    "df['airports_nearest']=df['airports_nearest'].fillna(df['airports_nearest'].mean())\n",
    "df['airports_nearest'].isna().sum()"
   ]
  },
  {
   "cell_type": "code",
   "execution_count": 24,
   "metadata": {},
   "outputs": [
    {
     "data": {
      "text/plain": [
       "0"
      ]
     },
     "execution_count": 24,
     "metadata": {},
     "output_type": "execute_result"
    }
   ],
   "source": [
    "# Аналогично расстоянию до аэропорта сгруппируем \"Расстояние\" до центра города\n",
    "grouped_nearest=df.groupby('locality_name')['cityCenters_nearest'].transform('mean')\n",
    "df['cityCenters_nearest'].fillna(grouped_nearest,inplace=True)\n",
    "df['cityCenters_nearest']=df['cityCenters_nearest'].fillna(df['cityCenters_nearest'].mean())\n",
    "df['cityCenters_nearest'].isna().sum()"
   ]
  },
  {
   "cell_type": "code",
   "execution_count": 25,
   "metadata": {},
   "outputs": [
    {
     "data": {
      "text/plain": [
       "0"
      ]
     },
     "execution_count": 25,
     "metadata": {},
     "output_type": "execute_result"
    }
   ],
   "source": [
    "# Расстояние для парка и водоема сгруппировать по среднему значению нельзя, так как поблизости от квартиры они могут\n",
    "#  совсем не находиться. Поэтому заменим пропущенние значения на \"unknown\"\n",
    "df['parks_nearest'] = df['parks_nearest'].fillna('unknown')\n",
    "df['ponds_nearest'] = df['ponds_nearest'].fillna('unknown')\n",
    "\n",
    "df['parks_nearest'].isna().sum()\n",
    "df['ponds_nearest'].isna().sum()"
   ]
  },
  {
   "cell_type": "markdown",
   "metadata": {},
   "source": [
    "Рассмотрим столбец `days_exposition` (сколько дней было размещено объявление). Так как в аннотации сказано, что перед\n",
    "нами данные о продажах квартир за несколько лет, то вряд ли можно утверждать, что если значение отсутствует, то\n",
    "квартира еще продается. Логичнее заполнить пропуски медианным значением."
   ]
  },
  {
   "cell_type": "code",
   "execution_count": 26,
   "metadata": {},
   "outputs": [],
   "source": [
    "df['days_exposition'] = df['days_exposition'].fillna(df['days_exposition'].median())"
   ]
  },
  {
   "cell_type": "code",
   "execution_count": 27,
   "metadata": {},
   "outputs": [
    {
     "data": {
      "text/plain": [
       "0"
      ]
     },
     "execution_count": 27,
     "metadata": {},
     "output_type": "execute_result"
    }
   ],
   "source": [
    "df['days_exposition'].isna().sum()"
   ]
  },
  {
   "cell_type": "markdown",
   "metadata": {},
   "source": [
    "Рассмотрим столбец `locality_name`"
   ]
  },
  {
   "cell_type": "code",
   "execution_count": 28,
   "metadata": {
    "scrolled": true
   },
   "outputs": [
    {
     "data": {
      "text/plain": [
       "array(['Бокситогорск', 'Волосово', 'Волхов', 'Всеволожск', 'Выборг',\n",
       "       'Высоцк', 'Гатчина', 'Зеленогорск', 'Ивангород', 'Каменногорск',\n",
       "       'Кингисепп', 'Кириши', 'Кировск', 'Колпино', 'Коммунар',\n",
       "       'Красное Село', 'Кронштадт', 'Кудрово', 'Лодейное Поле',\n",
       "       'Ломоносов', 'Луга', 'Любань', 'Мурино', 'Никольское',\n",
       "       'Новая Ладога', 'Отрадное', 'Павловск', 'Петергоф', 'Пикалёво',\n",
       "       'Подпорожье', 'Приморск', 'Приозерск', 'Пушкин', 'Санкт-Петербург',\n",
       "       'Светогорск', 'Сертолово', 'Сестрорецк', 'Сланцы', 'Сосновый Бор',\n",
       "       'Сясьстрой', 'Тихвин', 'Тосно', 'Шлиссельбург',\n",
       "       'городской поселок Большая Ижора', 'городской поселок Янино-1',\n",
       "       'городской посёлок Будогощь', 'городской посёлок Виллози',\n",
       "       'городской посёлок Лесогорский', 'городской посёлок Мга',\n",
       "       'городской посёлок Назия', 'городской посёлок Новоселье',\n",
       "       'городской посёлок Павлово', 'городской посёлок Рощино',\n",
       "       'городской посёлок Свирьстрой', 'городской посёлок Советский',\n",
       "       'городской посёлок Фёдоровское', 'городской посёлок Янино-1',\n",
       "       'деревня Агалатово', 'деревня Аро', 'деревня Батово',\n",
       "       'деревня Бегуницы', 'деревня Белогорка', 'деревня Большая Вруда',\n",
       "       'деревня Большая Пустомержа', 'деревня Большие Колпаны',\n",
       "       'деревня Большое Рейзино', 'деревня Большой Сабск', 'деревня Бор',\n",
       "       'деревня Борисова Грива', 'деревня Ваганово', 'деревня Вартемяги',\n",
       "       'деревня Вахнова Кара', 'деревня Выскатка', 'деревня Гарболово',\n",
       "       'деревня Глинка', 'деревня Горбунки', 'деревня Гостилицы',\n",
       "       'деревня Заклинье', 'деревня Заневка', 'деревня Зимитицы',\n",
       "       'деревня Извара', 'деревня Иссад', 'деревня Калитино',\n",
       "       'деревня Кальтино', 'деревня Камышовка', 'деревня Каськово',\n",
       "       'деревня Келози', 'деревня Кипень', 'деревня Кисельня',\n",
       "       'деревня Колтуши', 'деревня Коркино', 'деревня Котлы',\n",
       "       'деревня Кривко', 'деревня Кудрово', 'деревня Кузьмолово',\n",
       "       'деревня Курковицы', 'деревня Куровицы', 'деревня Куттузи',\n",
       "       'деревня Лаврики', 'деревня Лаголово', 'деревня Лампово',\n",
       "       'деревня Лесколово', 'деревня Лопухинка', 'деревня Лупполово',\n",
       "       'деревня Малая Романовка', 'деревня Малое Верево',\n",
       "       'деревня Малое Карлино', 'деревня Малые Колпаны',\n",
       "       'деревня Мануйлово', 'деревня Меньково', 'деревня Мины',\n",
       "       'деревня Мистолово', 'деревня Ненимяки', 'деревня Нижние Осельки',\n",
       "       'деревня Нижняя', 'деревня Низино', 'деревня Новое Девяткино',\n",
       "       'деревня Новолисино', 'деревня Нурма', 'деревня Оржицы',\n",
       "       'деревня Парицы', 'деревня Пельгора', 'деревня Пеники',\n",
       "       'деревня Пижма', 'деревня Пикколово', 'деревня Пудомяги',\n",
       "       'деревня Пустынка', 'деревня Пчева', 'деревня Рабитицы',\n",
       "       'деревня Разбегаево', 'деревня Раздолье', 'деревня Разметелево',\n",
       "       'деревня Рапполово', 'деревня Реброво', 'деревня Русско',\n",
       "       'деревня Сижно', 'деревня Снегирёвка', 'деревня Старая',\n",
       "       'деревня Старая Пустошь', 'деревня Старое Хинколово',\n",
       "       'деревня Старополье', 'деревня Старосиверская',\n",
       "       'деревня Старые Бегуницы', 'деревня Суоранда',\n",
       "       'деревня Сяськелево', 'деревня Тарасово', 'деревня Терпилицы',\n",
       "       'деревня Тихковицы', 'деревня Тойворово', 'деревня Торосово',\n",
       "       'деревня Торошковичи', 'деревня Трубников Бор',\n",
       "       'деревня Фалилеево', 'деревня Фёдоровское', 'деревня Хапо-Ое',\n",
       "       'деревня Хязельки', 'деревня Чудской Бор', 'деревня Шпаньково',\n",
       "       'деревня Щеглово', 'деревня Юкки', 'деревня Ялгино',\n",
       "       'деревня Яльгелево', 'деревня Ям-Тесово',\n",
       "       'коттеджный поселок Кивеннапа Север', 'коттеджный поселок Счастье',\n",
       "       'коттеджный посёлок Лесное', 'поселок Аннино', 'поселок Барышево',\n",
       "       'поселок Бугры', 'поселок Возрождение', 'поселок Войсковицы',\n",
       "       'поселок Володарское', 'поселок Гаврилово', 'поселок Гарболово',\n",
       "       'поселок Гладкое', 'поселок Глажево', 'поселок Глебычево',\n",
       "       'поселок Гончарово', 'поселок Громово', 'поселок Дружноселье',\n",
       "       'поселок Елизаветино', 'поселок Жилгородок', 'поселок Жилпосёлок',\n",
       "       'поселок Житково', 'поселок Заводской', 'поселок Запорожское',\n",
       "       'поселок Зимитицы', 'поселок Ильичёво', 'поселок Калитино',\n",
       "       'поселок Каложицы', 'поселок Кингисеппский', 'поселок Кирпичное',\n",
       "       'поселок Кобралово', 'поселок Кобринское', 'поселок Коммунары',\n",
       "       'поселок Коробицыно', 'поселок Котельский',\n",
       "       'поселок Красная Долина', 'поселок Красносельское',\n",
       "       'поселок Лесное', 'поселок Лисий Нос', 'поселок Лукаши',\n",
       "       'поселок Любань', 'поселок Мельниково', 'поселок Мичуринское',\n",
       "       'поселок Молодцово', 'поселок Мурино', 'поселок Новый Свет',\n",
       "       'поселок Новый Учхоз', 'поселок Оредеж',\n",
       "       'поселок Пансионат Зелёный Бор', 'поселок Первомайское',\n",
       "       'поселок Перово', 'поселок Петровское', 'поселок Победа',\n",
       "       'поселок Поляны', 'поселок Почап', 'поселок Починок',\n",
       "       'поселок Пушное', 'поселок Пчевжа', 'поселок Рабитицы',\n",
       "       'поселок Романовка', 'поселок Ромашки', 'поселок Рябово',\n",
       "       'поселок Севастьяново', 'поселок Селезнёво', 'поселок Сельцо',\n",
       "       'поселок Семиозерье', 'поселок Семрино', 'поселок Серебрянский',\n",
       "       'поселок Совхозный', 'поселок Старая Малукса',\n",
       "       'поселок Стеклянный', 'поселок Сумино', 'поселок Суходолье',\n",
       "       'поселок Тельмана', 'поселок Терволово', 'поселок Торковичи',\n",
       "       'поселок Тёсово-4', 'поселок Углово', 'поселок Усть-Луга',\n",
       "       'поселок Ушаки', 'поселок Цвелодубово', 'поселок Цвылёво',\n",
       "       'поселок городского типа Большая Ижора',\n",
       "       'поселок городского типа Вырица',\n",
       "       'поселок городского типа Дружная Горка',\n",
       "       'поселок городского типа Дубровка',\n",
       "       'поселок городского типа Ефимовский',\n",
       "       'поселок городского типа Кондратьево',\n",
       "       'поселок городского типа Красный Бор',\n",
       "       'поселок городского типа Кузьмоловский',\n",
       "       'поселок городского типа Лебяжье',\n",
       "       'поселок городского типа Лесогорский',\n",
       "       'поселок городского типа Назия',\n",
       "       'поселок городского типа Никольский',\n",
       "       'поселок городского типа Приладожский',\n",
       "       'поселок городского типа Рахья', 'поселок городского типа Рощино',\n",
       "       'поселок городского типа Рябово',\n",
       "       'поселок городского типа Синявино',\n",
       "       'поселок городского типа Советский',\n",
       "       'поселок городского типа Токсово',\n",
       "       'поселок городского типа Форносово',\n",
       "       'поселок городского типа имени Свердлова',\n",
       "       'поселок станции Вещево', 'поселок станции Корнево',\n",
       "       'поселок станции Лужайка', 'поселок станции Приветнинское',\n",
       "       'посёлок Александровская', 'посёлок Алексеевка', 'посёлок Аннино',\n",
       "       'посёлок Белоостров', 'посёлок Бугры', 'посёлок Возрождение',\n",
       "       'посёлок Войскорово', 'посёлок Высокоключевой',\n",
       "       'посёлок Гаврилово', 'посёлок Дзержинского', 'посёлок Жилгородок',\n",
       "       'посёлок Ильичёво', 'посёлок Кикерино', 'посёлок Кобралово',\n",
       "       'посёлок Коробицыно', 'посёлок Левашово', 'посёлок Ленинское',\n",
       "       'посёлок Лисий Нос', 'посёлок Мельниково', 'посёлок Металлострой',\n",
       "       'посёлок Мичуринское', 'посёлок Молодёжное', 'посёлок Мурино',\n",
       "       'посёлок Мыза-Ивановка', 'посёлок Новогорелово',\n",
       "       'посёлок Новый Свет', 'посёлок Пансионат Зелёный Бор',\n",
       "       'посёлок Парголово', 'посёлок Перово', 'посёлок Песочный',\n",
       "       'посёлок Петро-Славянка', 'посёлок Петровское',\n",
       "       'посёлок Платформа 69-й километр', 'посёлок Плодовое',\n",
       "       'посёлок Плоское', 'посёлок Победа', 'посёлок Поляны',\n",
       "       'посёлок Понтонный', 'посёлок Пригородный', 'посёлок Пудость',\n",
       "       'посёлок Репино', 'посёлок Ропша', 'посёлок Сапёрное',\n",
       "       'посёлок Сапёрный', 'посёлок Сосново', 'посёлок Старая Малукса',\n",
       "       'посёлок Стеклянный', 'посёлок Стрельна', 'посёлок Суйда',\n",
       "       'посёлок Сумино', 'посёлок Тельмана', 'посёлок Терволово',\n",
       "       'посёлок Торфяное', 'посёлок Усть-Ижора', 'посёлок Усть-Луга',\n",
       "       'посёлок Форт Красная Горка', 'посёлок Шугозеро', 'посёлок Шушары',\n",
       "       'посёлок Щеглово', 'посёлок городского типа Важины',\n",
       "       'посёлок городского типа Вознесенье',\n",
       "       'посёлок городского типа Вырица',\n",
       "       'посёлок городского типа Красный Бор',\n",
       "       'посёлок городского типа Кузнечное',\n",
       "       'посёлок городского типа Кузьмоловский',\n",
       "       'посёлок городского типа Лебяжье', 'посёлок городского типа Мга',\n",
       "       'посёлок городского типа Павлово',\n",
       "       'посёлок городского типа Рощино', 'посёлок городского типа Рябово',\n",
       "       'посёлок городского типа Сиверский',\n",
       "       'посёлок городского типа Тайцы', 'посёлок городского типа Токсово',\n",
       "       'посёлок городского типа Ульяновка',\n",
       "       'посёлок городского типа Форносово',\n",
       "       'посёлок городского типа имени Морозова',\n",
       "       'посёлок городского типа имени Свердлова',\n",
       "       'посёлок при железнодорожной станции Вещево',\n",
       "       'посёлок при железнодорожной станции Приветнинское',\n",
       "       'посёлок станции Громово', 'посёлок станции Свирь',\n",
       "       'садоводческое некоммерческое товарищество Лесная Поляна',\n",
       "       'садовое товарищество Новая Ропша',\n",
       "       'садовое товарищество Приладожский', 'садовое товарищество Рахья',\n",
       "       'садовое товарищество Садко', 'село Копорье', 'село Никольское',\n",
       "       'село Павлово', 'село Паша', 'село Путилово', 'село Рождествено',\n",
       "       'село Русско-Высоцкое', 'село Старая Ладога', 'село Шум', nan],\n",
       "      dtype=object)"
      ]
     },
     "execution_count": 28,
     "metadata": {},
     "output_type": "execute_result"
    }
   ],
   "source": [
    "df['locality_name'].sort_values().unique()"
   ]
  },
  {
   "cell_type": "markdown",
   "metadata": {},
   "source": [
    "При изучении столбца видим, что в нем присутствуют неявные дубликаты: есть \"посёлок\", а есть \"поселок\". Приведем к одному виду - \"поселок\"."
   ]
  },
  {
   "cell_type": "code",
   "execution_count": 29,
   "metadata": {},
   "outputs": [],
   "source": [
    "# заменим букву \"ё\" на \"е\" методом `re`\n",
    "import re\n",
    "for i in df.loc[(df['locality_name'].isna()==False),'locality_name'].index:    \n",
    "    new_letter = df.loc[i, 'locality_name']\n",
    "    if 'ё' in new_letter:\n",
    "        new_letter = re.sub('ё', 'е', new_letter)\n",
    "    df.loc[i, 'locality_name'] = new_letter"
   ]
  },
  {
   "cell_type": "code",
   "execution_count": 30,
   "metadata": {},
   "outputs": [
    {
     "data": {
      "text/plain": [
       "0            Санкт-Петербург\n",
       "1             поселок Шушары\n",
       "2            Санкт-Петербург\n",
       "3            Санкт-Петербург\n",
       "4            Санкт-Петербург\n",
       "                ...         \n",
       "23694        Санкт-Петербург\n",
       "23695                  Тосно\n",
       "23696       село Рождествено\n",
       "23697        Санкт-Петербург\n",
       "23698    поселок Новый Учхоз\n",
       "Name: locality_name, Length: 23699, dtype: object"
      ]
     },
     "execution_count": 30,
     "metadata": {},
     "output_type": "execute_result"
    }
   ],
   "source": [
    "df['locality_name']"
   ]
  },
  {
   "cell_type": "markdown",
   "metadata": {},
   "source": [
    "Еще раз проверим типы данных и заменим при необходимости"
   ]
  },
  {
   "cell_type": "code",
   "execution_count": 31,
   "metadata": {},
   "outputs": [
    {
     "name": "stdout",
     "output_type": "stream",
     "text": [
      "<class 'pandas.core.frame.DataFrame'>\n",
      "RangeIndex: 23699 entries, 0 to 23698\n",
      "Data columns (total 22 columns):\n",
      "total_images            23699 non-null int64\n",
      "last_price              23699 non-null float64\n",
      "total_area              23699 non-null float64\n",
      "first_day_exposition    23699 non-null object\n",
      "rooms                   23699 non-null int64\n",
      "ceiling_height          23699 non-null float64\n",
      "floors_total            23699 non-null float64\n",
      "living_area             23699 non-null float64\n",
      "floor                   23699 non-null int64\n",
      "is_apartment            23699 non-null bool\n",
      "studio                  23699 non-null bool\n",
      "open_plan               23699 non-null bool\n",
      "kitchen_area            23699 non-null float64\n",
      "balcony                 23699 non-null int64\n",
      "locality_name           23650 non-null object\n",
      "airports_nearest        23699 non-null float64\n",
      "cityCenters_nearest     23699 non-null float64\n",
      "parks_around3000        23699 non-null int64\n",
      "parks_nearest           23699 non-null object\n",
      "ponds_around3000        23699 non-null int64\n",
      "ponds_nearest           23699 non-null object\n",
      "days_exposition         23699 non-null float64\n",
      "dtypes: bool(3), float64(9), int64(6), object(4)\n",
      "memory usage: 3.5+ MB\n"
     ]
    }
   ],
   "source": [
    "df.info()"
   ]
  },
  {
   "cell_type": "code",
   "execution_count": 32,
   "metadata": {},
   "outputs": [],
   "source": [
    "# Заменим \"Общее число этажей\" и \"Балконы\" на целочисленный тип, т.к. не может быть 1,5 этажа или балкона\n",
    "df['floors_total'] = df['floors_total'].astype('int')\n",
    "df['balcony'] = df['balcony'].astype('int')"
   ]
  },
  {
   "cell_type": "code",
   "execution_count": 33,
   "metadata": {},
   "outputs": [],
   "source": [
    "# У \"Даты публикации\" поменяем тип на `datetime`\n",
    "df['first_day_exposition'] = pd.to_datetime(df['first_day_exposition'], format = '%Y-%m-%dT%H:%M:%S')"
   ]
  },
  {
   "cell_type": "code",
   "execution_count": 34,
   "metadata": {
    "scrolled": true
   },
   "outputs": [
    {
     "name": "stdout",
     "output_type": "stream",
     "text": [
      "<class 'pandas.core.frame.DataFrame'>\n",
      "RangeIndex: 23699 entries, 0 to 23698\n",
      "Data columns (total 22 columns):\n",
      "total_images            23699 non-null int64\n",
      "last_price              23699 non-null float64\n",
      "total_area              23699 non-null float64\n",
      "first_day_exposition    23699 non-null datetime64[ns]\n",
      "rooms                   23699 non-null int64\n",
      "ceiling_height          23699 non-null float64\n",
      "floors_total            23699 non-null int64\n",
      "living_area             23699 non-null float64\n",
      "floor                   23699 non-null int64\n",
      "is_apartment            23699 non-null bool\n",
      "studio                  23699 non-null bool\n",
      "open_plan               23699 non-null bool\n",
      "kitchen_area            23699 non-null float64\n",
      "balcony                 23699 non-null int64\n",
      "locality_name           23650 non-null object\n",
      "airports_nearest        23699 non-null float64\n",
      "cityCenters_nearest     23699 non-null float64\n",
      "parks_around3000        23699 non-null int64\n",
      "parks_nearest           23699 non-null object\n",
      "ponds_around3000        23699 non-null int64\n",
      "ponds_nearest           23699 non-null object\n",
      "days_exposition         23699 non-null float64\n",
      "dtypes: bool(3), datetime64[ns](1), float64(8), int64(7), object(3)\n",
      "memory usage: 3.5+ MB\n"
     ]
    }
   ],
   "source": [
    "df.info()"
   ]
  },
  {
   "cell_type": "markdown",
   "metadata": {},
   "source": [
    "Изучим столбец \"Цена на момент снятия с публикации\""
   ]
  },
  {
   "cell_type": "code",
   "execution_count": 35,
   "metadata": {},
   "outputs": [
    {
     "data": {
      "text/plain": [
       "8793         12190.0\n",
       "17456       430000.0\n",
       "14911       430000.0\n",
       "16274       440000.0\n",
       "17676       450000.0\n",
       "            ...     \n",
       "15651    300000000.0\n",
       "1436     330000000.0\n",
       "14706    401300000.0\n",
       "19540    420000000.0\n",
       "12971    763000000.0\n",
       "Name: last_price, Length: 23699, dtype: float64"
      ]
     },
     "execution_count": 35,
     "metadata": {},
     "output_type": "execute_result"
    }
   ],
   "source": [
    "df['last_price'].sort_values()"
   ]
  },
  {
   "cell_type": "markdown",
   "metadata": {},
   "source": [
    "Видим, что имеются аномалии: слишком низкое значение (12190) и слишком высокое (763 млн). "
   ]
  },
  {
   "cell_type": "code",
   "execution_count": 36,
   "metadata": {
    "scrolled": true
   },
   "outputs": [
    {
     "data": {
      "text/plain": [
       "total_images                              7\n",
       "last_price                            12190\n",
       "total_area                              109\n",
       "first_day_exposition    2019-03-20 00:00:00\n",
       "rooms                                     2\n",
       "ceiling_height                         2.75\n",
       "floors_total                             25\n",
       "living_area                              32\n",
       "floor                                    25\n",
       "is_apartment                          False\n",
       "studio                                False\n",
       "open_plan                             False\n",
       "kitchen_area                           40.5\n",
       "balcony                                   0\n",
       "locality_name               Санкт-Петербург\n",
       "airports_nearest                      36421\n",
       "cityCenters_nearest                    9176\n",
       "parks_around3000                          1\n",
       "parks_nearest                           805\n",
       "ponds_around3000                          0\n",
       "ponds_nearest                       unknown\n",
       "days_exposition                           8\n",
       "Name: 8793, dtype: object"
      ]
     },
     "execution_count": 36,
     "metadata": {},
     "output_type": "execute_result"
    }
   ],
   "source": [
    "# Рассмотрим квартиру с низким значением\n",
    "df.iloc[8793]"
   ]
  },
  {
   "cell_type": "markdown",
   "metadata": {},
   "source": [
    "Видим, что это двухкомнатная квартира в Санкт-Петербурге в 25-этажном доме на последнем этаже. Цена выглядит очень\n",
    "подозрительно. Заменим ее на минимальное значение столбца \"Цена на момент снятия с публикации\". Возможно, при продаже\n",
    "данной квартиры могут быть какие-либо мошеннические действия"
   ]
  },
  {
   "cell_type": "code",
   "execution_count": 37,
   "metadata": {},
   "outputs": [],
   "source": [
    "# Заменим число `12190` на ближайшее минимальное значение\n",
    "df['last_price'] = df['last_price'].replace(12190, 430000)"
   ]
  },
  {
   "cell_type": "code",
   "execution_count": 38,
   "metadata": {},
   "outputs": [
    {
     "data": {
      "text/plain": [
       "total_images                             19\n",
       "last_price                         7.63e+08\n",
       "total_area                              400\n",
       "first_day_exposition    2017-09-30 00:00:00\n",
       "rooms                                     7\n",
       "ceiling_height                       2.7715\n",
       "floors_total                             10\n",
       "living_area                             250\n",
       "floor                                    10\n",
       "is_apartment                          False\n",
       "studio                                False\n",
       "open_plan                             False\n",
       "kitchen_area                        70.0583\n",
       "balcony                                   2\n",
       "locality_name               Санкт-Петербург\n",
       "airports_nearest                      25108\n",
       "cityCenters_nearest                    3956\n",
       "parks_around3000                          1\n",
       "parks_nearest                           530\n",
       "ponds_around3000                          3\n",
       "ponds_nearest                           756\n",
       "days_exposition                          33\n",
       "Name: 12971, dtype: object"
      ]
     },
     "execution_count": 38,
     "metadata": {},
     "output_type": "execute_result"
    }
   ],
   "source": [
    "# Рассмотрим квартиру с высоким значением\n",
    "df.iloc[12971]"
   ]
  },
  {
   "cell_type": "markdown",
   "metadata": {},
   "source": [
    "Тут ничего менять не будем, так как вполне возможно, что 7-комнатная квартира рядом с парком и прудом общей площадью\n",
    "400 квадратных метров действительно стоит 763 млн."
   ]
  },
  {
   "cell_type": "markdown",
   "metadata": {},
   "source": [
    "Рассмотрим столбец \"Комнаты\". Заменим аномальные значения комнат"
   ]
  },
  {
   "cell_type": "code",
   "execution_count": 39,
   "metadata": {},
   "outputs": [],
   "source": [
    "# Заменим значение 0 комнат на минимальное значение 1 комната\n",
    "df['rooms'] = df['rooms'].replace(0,1)"
   ]
  },
  {
   "cell_type": "code",
   "execution_count": 40,
   "metadata": {},
   "outputs": [
    {
     "data": {
      "text/plain": [
       "1     8244\n",
       "2     7940\n",
       "3     5814\n",
       "4     1180\n",
       "5      326\n",
       "6      105\n",
       "7       59\n",
       "8       12\n",
       "9        8\n",
       "10       3\n",
       "14       2\n",
       "11       2\n",
       "15       1\n",
       "12       1\n",
       "19       1\n",
       "16       1\n",
       "Name: rooms, dtype: int64"
      ]
     },
     "execution_count": 40,
     "metadata": {},
     "output_type": "execute_result"
    }
   ],
   "source": [
    "df['rooms'].value_counts()"
   ]
  },
  {
   "cell_type": "markdown",
   "metadata": {},
   "source": [
    "Также видим, что присутствуют 8- и 19-комнатные квартиры. К сожалению, заменить их не представляется возможным, т.к.\n",
    "непонятно, на что их менять. В дальнейшем, при построении гистограммы, будем считать это выбросом"
   ]
  },
  {
   "cell_type": "markdown",
   "metadata": {},
   "source": [
    "## Расчёты и добавление результатов в таблицу"
   ]
  },
  {
   "cell_type": "markdown",
   "metadata": {},
   "source": [
    "Рассчитаем и добавим в таблицу столбец с ценой квадратного метра. Квадратный метр вычисляется как отношение цены к общей площади"
   ]
  },
  {
   "cell_type": "code",
   "execution_count": 41,
   "metadata": {},
   "outputs": [],
   "source": [
    "# Квадратный метр = цена / общую площадь\n",
    "df['price_square_meter'] = df['last_price']/df['total_area']"
   ]
  },
  {
   "cell_type": "markdown",
   "metadata": {},
   "source": [
    "Добавим в таблицу столбцы с днем недели, месяцем и годом публикации объявления"
   ]
  },
  {
   "cell_type": "code",
   "execution_count": 42,
   "metadata": {},
   "outputs": [],
   "source": [
    "# Воспользуемся методом df.weekday()\n",
    "df['day'] = df['first_day_exposition'].dt.weekday\n",
    "df['month'] = df['first_day_exposition'].dt.month\n",
    "df['year'] = df['first_day_exposition'].dt.year"
   ]
  },
  {
   "cell_type": "markdown",
   "metadata": {},
   "source": [
    "Обратим внимание, что 0 - это понедельник, 1 - вторник ... 6 - воскресенье"
   ]
  },
  {
   "cell_type": "markdown",
   "metadata": {},
   "source": [
    "Добавим в таблицу столбцы с этажностью квартиры"
   ]
  },
  {
   "cell_type": "code",
   "execution_count": 43,
   "metadata": {},
   "outputs": [],
   "source": [
    "# Сделаем функцию, которая возвращает этажность\n",
    "def floor(floor_name):\n",
    "    if floor_name['floor'] == 1:\n",
    "        return 'первый'\n",
    "    elif floor_name['floor'] == floor_name['floors_total']:\n",
    "        return 'последний'\n",
    "    else:\n",
    "        return 'другой'\n",
    "df['category_floor'] = df.apply(floor, axis = 1)"
   ]
  },
  {
   "cell_type": "code",
   "execution_count": 44,
   "metadata": {},
   "outputs": [
    {
     "data": {
      "text/html": [
       "<div>\n",
       "<style scoped>\n",
       "    .dataframe tbody tr th:only-of-type {\n",
       "        vertical-align: middle;\n",
       "    }\n",
       "\n",
       "    .dataframe tbody tr th {\n",
       "        vertical-align: top;\n",
       "    }\n",
       "\n",
       "    .dataframe thead th {\n",
       "        text-align: right;\n",
       "    }\n",
       "</style>\n",
       "<table border=\"1\" class=\"dataframe\">\n",
       "  <thead>\n",
       "    <tr style=\"text-align: right;\">\n",
       "      <th></th>\n",
       "      <th>total_images</th>\n",
       "      <th>last_price</th>\n",
       "      <th>total_area</th>\n",
       "      <th>first_day_exposition</th>\n",
       "      <th>rooms</th>\n",
       "      <th>ceiling_height</th>\n",
       "      <th>floors_total</th>\n",
       "      <th>living_area</th>\n",
       "      <th>floor</th>\n",
       "      <th>is_apartment</th>\n",
       "      <th>...</th>\n",
       "      <th>parks_around3000</th>\n",
       "      <th>parks_nearest</th>\n",
       "      <th>ponds_around3000</th>\n",
       "      <th>ponds_nearest</th>\n",
       "      <th>days_exposition</th>\n",
       "      <th>price_square_meter</th>\n",
       "      <th>day</th>\n",
       "      <th>month</th>\n",
       "      <th>year</th>\n",
       "      <th>category_floor</th>\n",
       "    </tr>\n",
       "  </thead>\n",
       "  <tbody>\n",
       "    <tr>\n",
       "      <td>0</td>\n",
       "      <td>20</td>\n",
       "      <td>13000000.0</td>\n",
       "      <td>108.0</td>\n",
       "      <td>2019-03-07</td>\n",
       "      <td>3</td>\n",
       "      <td>2.700000</td>\n",
       "      <td>16</td>\n",
       "      <td>51.000000</td>\n",
       "      <td>8</td>\n",
       "      <td>False</td>\n",
       "      <td>...</td>\n",
       "      <td>1</td>\n",
       "      <td>482</td>\n",
       "      <td>2</td>\n",
       "      <td>755</td>\n",
       "      <td>95.0</td>\n",
       "      <td>120370.370370</td>\n",
       "      <td>3</td>\n",
       "      <td>3</td>\n",
       "      <td>2019</td>\n",
       "      <td>другой</td>\n",
       "    </tr>\n",
       "    <tr>\n",
       "      <td>1</td>\n",
       "      <td>7</td>\n",
       "      <td>3350000.0</td>\n",
       "      <td>40.4</td>\n",
       "      <td>2018-12-04</td>\n",
       "      <td>1</td>\n",
       "      <td>2.771499</td>\n",
       "      <td>11</td>\n",
       "      <td>18.600000</td>\n",
       "      <td>1</td>\n",
       "      <td>False</td>\n",
       "      <td>...</td>\n",
       "      <td>0</td>\n",
       "      <td>unknown</td>\n",
       "      <td>0</td>\n",
       "      <td>unknown</td>\n",
       "      <td>81.0</td>\n",
       "      <td>82920.792079</td>\n",
       "      <td>1</td>\n",
       "      <td>12</td>\n",
       "      <td>2018</td>\n",
       "      <td>первый</td>\n",
       "    </tr>\n",
       "    <tr>\n",
       "      <td>2</td>\n",
       "      <td>10</td>\n",
       "      <td>5196000.0</td>\n",
       "      <td>56.0</td>\n",
       "      <td>2015-08-20</td>\n",
       "      <td>2</td>\n",
       "      <td>2.771499</td>\n",
       "      <td>5</td>\n",
       "      <td>34.300000</td>\n",
       "      <td>4</td>\n",
       "      <td>False</td>\n",
       "      <td>...</td>\n",
       "      <td>1</td>\n",
       "      <td>90</td>\n",
       "      <td>2</td>\n",
       "      <td>574</td>\n",
       "      <td>558.0</td>\n",
       "      <td>92785.714286</td>\n",
       "      <td>3</td>\n",
       "      <td>8</td>\n",
       "      <td>2015</td>\n",
       "      <td>другой</td>\n",
       "    </tr>\n",
       "    <tr>\n",
       "      <td>3</td>\n",
       "      <td>0</td>\n",
       "      <td>64900000.0</td>\n",
       "      <td>159.0</td>\n",
       "      <td>2015-07-24</td>\n",
       "      <td>3</td>\n",
       "      <td>2.771499</td>\n",
       "      <td>14</td>\n",
       "      <td>90.785766</td>\n",
       "      <td>9</td>\n",
       "      <td>False</td>\n",
       "      <td>...</td>\n",
       "      <td>2</td>\n",
       "      <td>84</td>\n",
       "      <td>3</td>\n",
       "      <td>234</td>\n",
       "      <td>424.0</td>\n",
       "      <td>408176.100629</td>\n",
       "      <td>4</td>\n",
       "      <td>7</td>\n",
       "      <td>2015</td>\n",
       "      <td>другой</td>\n",
       "    </tr>\n",
       "    <tr>\n",
       "      <td>4</td>\n",
       "      <td>2</td>\n",
       "      <td>10000000.0</td>\n",
       "      <td>100.0</td>\n",
       "      <td>2018-06-19</td>\n",
       "      <td>2</td>\n",
       "      <td>3.030000</td>\n",
       "      <td>14</td>\n",
       "      <td>32.000000</td>\n",
       "      <td>13</td>\n",
       "      <td>False</td>\n",
       "      <td>...</td>\n",
       "      <td>2</td>\n",
       "      <td>112</td>\n",
       "      <td>1</td>\n",
       "      <td>48</td>\n",
       "      <td>121.0</td>\n",
       "      <td>100000.000000</td>\n",
       "      <td>1</td>\n",
       "      <td>6</td>\n",
       "      <td>2018</td>\n",
       "      <td>другой</td>\n",
       "    </tr>\n",
       "  </tbody>\n",
       "</table>\n",
       "<p>5 rows × 27 columns</p>\n",
       "</div>"
      ],
      "text/plain": [
       "   total_images  last_price  total_area first_day_exposition  rooms  \\\n",
       "0            20  13000000.0       108.0           2019-03-07      3   \n",
       "1             7   3350000.0        40.4           2018-12-04      1   \n",
       "2            10   5196000.0        56.0           2015-08-20      2   \n",
       "3             0  64900000.0       159.0           2015-07-24      3   \n",
       "4             2  10000000.0       100.0           2018-06-19      2   \n",
       "\n",
       "   ceiling_height  floors_total  living_area  floor  is_apartment  ...  \\\n",
       "0        2.700000            16    51.000000      8         False  ...   \n",
       "1        2.771499            11    18.600000      1         False  ...   \n",
       "2        2.771499             5    34.300000      4         False  ...   \n",
       "3        2.771499            14    90.785766      9         False  ...   \n",
       "4        3.030000            14    32.000000     13         False  ...   \n",
       "\n",
       "   parks_around3000  parks_nearest  ponds_around3000  ponds_nearest  \\\n",
       "0                 1            482                 2            755   \n",
       "1                 0        unknown                 0        unknown   \n",
       "2                 1             90                 2            574   \n",
       "3                 2             84                 3            234   \n",
       "4                 2            112                 1             48   \n",
       "\n",
       "  days_exposition  price_square_meter  day  month  year  category_floor  \n",
       "0            95.0       120370.370370    3      3  2019          другой  \n",
       "1            81.0        82920.792079    1     12  2018          первый  \n",
       "2           558.0        92785.714286    3      8  2015          другой  \n",
       "3           424.0       408176.100629    4      7  2015          другой  \n",
       "4           121.0       100000.000000    1      6  2018          другой  \n",
       "\n",
       "[5 rows x 27 columns]"
      ]
     },
     "execution_count": 44,
     "metadata": {},
     "output_type": "execute_result"
    }
   ],
   "source": [
    "# Проверим результаты добавления квадратного метра, дня недели/месяца/года, этажности\n",
    "df.head()"
   ]
  },
  {
   "cell_type": "markdown",
   "metadata": {},
   "source": [
    "Посчитаем и добавим в таблицу соотношение жилой и общей площади, а также отношение площади кухни к общей"
   ]
  },
  {
   "cell_type": "code",
   "execution_count": 45,
   "metadata": {},
   "outputs": [],
   "source": [
    "# Рассчитаем по формуле: жилая площадь / общая площадь;\n",
    "# Площадь кухни / общая площадь\n",
    "df['living_area_ratio'] = df['living_area'] / df['total_area']\n",
    "df['kitchen_area_ratio'] = df['kitchen_area'] / df['total_area']"
   ]
  },
  {
   "cell_type": "code",
   "execution_count": 46,
   "metadata": {},
   "outputs": [
    {
     "data": {
      "text/html": [
       "<div>\n",
       "<style scoped>\n",
       "    .dataframe tbody tr th:only-of-type {\n",
       "        vertical-align: middle;\n",
       "    }\n",
       "\n",
       "    .dataframe tbody tr th {\n",
       "        vertical-align: top;\n",
       "    }\n",
       "\n",
       "    .dataframe thead th {\n",
       "        text-align: right;\n",
       "    }\n",
       "</style>\n",
       "<table border=\"1\" class=\"dataframe\">\n",
       "  <thead>\n",
       "    <tr style=\"text-align: right;\">\n",
       "      <th></th>\n",
       "      <th>total_images</th>\n",
       "      <th>last_price</th>\n",
       "      <th>total_area</th>\n",
       "      <th>first_day_exposition</th>\n",
       "      <th>rooms</th>\n",
       "      <th>ceiling_height</th>\n",
       "      <th>floors_total</th>\n",
       "      <th>living_area</th>\n",
       "      <th>floor</th>\n",
       "      <th>is_apartment</th>\n",
       "      <th>...</th>\n",
       "      <th>ponds_around3000</th>\n",
       "      <th>ponds_nearest</th>\n",
       "      <th>days_exposition</th>\n",
       "      <th>price_square_meter</th>\n",
       "      <th>day</th>\n",
       "      <th>month</th>\n",
       "      <th>year</th>\n",
       "      <th>category_floor</th>\n",
       "      <th>living_area_ratio</th>\n",
       "      <th>kitchen_area_ratio</th>\n",
       "    </tr>\n",
       "  </thead>\n",
       "  <tbody>\n",
       "    <tr>\n",
       "      <td>0</td>\n",
       "      <td>20</td>\n",
       "      <td>13000000.0</td>\n",
       "      <td>108.0</td>\n",
       "      <td>2019-03-07</td>\n",
       "      <td>3</td>\n",
       "      <td>2.700000</td>\n",
       "      <td>16</td>\n",
       "      <td>51.000000</td>\n",
       "      <td>8</td>\n",
       "      <td>False</td>\n",
       "      <td>...</td>\n",
       "      <td>2</td>\n",
       "      <td>755</td>\n",
       "      <td>95.0</td>\n",
       "      <td>120370.370370</td>\n",
       "      <td>3</td>\n",
       "      <td>3</td>\n",
       "      <td>2019</td>\n",
       "      <td>другой</td>\n",
       "      <td>0.472222</td>\n",
       "      <td>0.231481</td>\n",
       "    </tr>\n",
       "    <tr>\n",
       "      <td>1</td>\n",
       "      <td>7</td>\n",
       "      <td>3350000.0</td>\n",
       "      <td>40.4</td>\n",
       "      <td>2018-12-04</td>\n",
       "      <td>1</td>\n",
       "      <td>2.771499</td>\n",
       "      <td>11</td>\n",
       "      <td>18.600000</td>\n",
       "      <td>1</td>\n",
       "      <td>False</td>\n",
       "      <td>...</td>\n",
       "      <td>0</td>\n",
       "      <td>unknown</td>\n",
       "      <td>81.0</td>\n",
       "      <td>82920.792079</td>\n",
       "      <td>1</td>\n",
       "      <td>12</td>\n",
       "      <td>2018</td>\n",
       "      <td>первый</td>\n",
       "      <td>0.460396</td>\n",
       "      <td>0.272277</td>\n",
       "    </tr>\n",
       "    <tr>\n",
       "      <td>2</td>\n",
       "      <td>10</td>\n",
       "      <td>5196000.0</td>\n",
       "      <td>56.0</td>\n",
       "      <td>2015-08-20</td>\n",
       "      <td>2</td>\n",
       "      <td>2.771499</td>\n",
       "      <td>5</td>\n",
       "      <td>34.300000</td>\n",
       "      <td>4</td>\n",
       "      <td>False</td>\n",
       "      <td>...</td>\n",
       "      <td>2</td>\n",
       "      <td>574</td>\n",
       "      <td>558.0</td>\n",
       "      <td>92785.714286</td>\n",
       "      <td>3</td>\n",
       "      <td>8</td>\n",
       "      <td>2015</td>\n",
       "      <td>другой</td>\n",
       "      <td>0.612500</td>\n",
       "      <td>0.148214</td>\n",
       "    </tr>\n",
       "    <tr>\n",
       "      <td>3</td>\n",
       "      <td>0</td>\n",
       "      <td>64900000.0</td>\n",
       "      <td>159.0</td>\n",
       "      <td>2015-07-24</td>\n",
       "      <td>3</td>\n",
       "      <td>2.771499</td>\n",
       "      <td>14</td>\n",
       "      <td>90.785766</td>\n",
       "      <td>9</td>\n",
       "      <td>False</td>\n",
       "      <td>...</td>\n",
       "      <td>3</td>\n",
       "      <td>234</td>\n",
       "      <td>424.0</td>\n",
       "      <td>408176.100629</td>\n",
       "      <td>4</td>\n",
       "      <td>7</td>\n",
       "      <td>2015</td>\n",
       "      <td>другой</td>\n",
       "      <td>0.570980</td>\n",
       "      <td>0.175146</td>\n",
       "    </tr>\n",
       "    <tr>\n",
       "      <td>4</td>\n",
       "      <td>2</td>\n",
       "      <td>10000000.0</td>\n",
       "      <td>100.0</td>\n",
       "      <td>2018-06-19</td>\n",
       "      <td>2</td>\n",
       "      <td>3.030000</td>\n",
       "      <td>14</td>\n",
       "      <td>32.000000</td>\n",
       "      <td>13</td>\n",
       "      <td>False</td>\n",
       "      <td>...</td>\n",
       "      <td>1</td>\n",
       "      <td>48</td>\n",
       "      <td>121.0</td>\n",
       "      <td>100000.000000</td>\n",
       "      <td>1</td>\n",
       "      <td>6</td>\n",
       "      <td>2018</td>\n",
       "      <td>другой</td>\n",
       "      <td>0.320000</td>\n",
       "      <td>0.410000</td>\n",
       "    </tr>\n",
       "  </tbody>\n",
       "</table>\n",
       "<p>5 rows × 29 columns</p>\n",
       "</div>"
      ],
      "text/plain": [
       "   total_images  last_price  total_area first_day_exposition  rooms  \\\n",
       "0            20  13000000.0       108.0           2019-03-07      3   \n",
       "1             7   3350000.0        40.4           2018-12-04      1   \n",
       "2            10   5196000.0        56.0           2015-08-20      2   \n",
       "3             0  64900000.0       159.0           2015-07-24      3   \n",
       "4             2  10000000.0       100.0           2018-06-19      2   \n",
       "\n",
       "   ceiling_height  floors_total  living_area  floor  is_apartment  ...  \\\n",
       "0        2.700000            16    51.000000      8         False  ...   \n",
       "1        2.771499            11    18.600000      1         False  ...   \n",
       "2        2.771499             5    34.300000      4         False  ...   \n",
       "3        2.771499            14    90.785766      9         False  ...   \n",
       "4        3.030000            14    32.000000     13         False  ...   \n",
       "\n",
       "   ponds_around3000  ponds_nearest  days_exposition  price_square_meter day  \\\n",
       "0                 2            755             95.0       120370.370370   3   \n",
       "1                 0        unknown             81.0        82920.792079   1   \n",
       "2                 2            574            558.0        92785.714286   3   \n",
       "3                 3            234            424.0       408176.100629   4   \n",
       "4                 1             48            121.0       100000.000000   1   \n",
       "\n",
       "   month  year  category_floor living_area_ratio  kitchen_area_ratio  \n",
       "0      3  2019          другой          0.472222            0.231481  \n",
       "1     12  2018          первый          0.460396            0.272277  \n",
       "2      8  2015          другой          0.612500            0.148214  \n",
       "3      7  2015          другой          0.570980            0.175146  \n",
       "4      6  2018          другой          0.320000            0.410000  \n",
       "\n",
       "[5 rows x 29 columns]"
      ]
     },
     "execution_count": 46,
     "metadata": {},
     "output_type": "execute_result"
    }
   ],
   "source": [
    "df.head()"
   ]
  },
  {
   "cell_type": "markdown",
   "metadata": {},
   "source": [
    "Сделаем выводы: расчеты произведены, данные добавлены в новые столбцы. Пора приступать к исследовательскому анализу данных"
   ]
  },
  {
   "cell_type": "markdown",
   "metadata": {},
   "source": [
    "## Исследовательский анализ данных"
   ]
  },
  {
   "cell_type": "markdown",
   "metadata": {},
   "source": [
    "Изучим следующие параметры: площадь, цена, число комнат, высота потолков. Для наглядности для каждого параметра\n",
    "построим гистограмму (т.е. график, который покажет, как часто в наборе данных встречается то или иное значение)"
   ]
  },
  {
   "cell_type": "code",
   "execution_count": 47,
   "metadata": {},
   "outputs": [],
   "source": [
    "# Подключим библиотеку \n",
    "import matplotlib.pyplot as plt"
   ]
  },
  {
   "cell_type": "code",
   "execution_count": 48,
   "metadata": {},
   "outputs": [
    {
     "data": {
      "text/plain": [
       "<matplotlib.axes._subplots.AxesSubplot at 0x7efcc9a6c310>"
      ]
     },
     "execution_count": 48,
     "metadata": {},
     "output_type": "execute_result"
    },
    {
     "data": {
      "image/png": "[encoded data removed]",
      "text/plain": [
       "<Figure size 432x288 with 1 Axes>"
      ]
     },
     "metadata": {
      "needs_background": "light"
     },
     "output_type": "display_data"
    }
   ],
   "source": [
    "# Построим диаграмму размаха с целью визуально оценить характеристики распределения\n",
    "df.boxplot('total_area')"
   ]
  },
  {
   "cell_type": "code",
   "execution_count": 49,
   "metadata": {},
   "outputs": [
    {
     "data": {
      "text/plain": [
       "Text(0, 0.5, 'Количество квартир')"
      ]
     },
     "execution_count": 49,
     "metadata": {},
     "output_type": "execute_result"
    },
    {
     "data": {
      "image/png": "[encoded data removed]",
      "text/plain": [
       "<Figure size 432x288 with 1 Axes>"
      ]
     },
     "metadata": {
      "needs_background": "light"
     },
     "output_type": "display_data"
    }
   ],
   "source": [
    "# Строим гистограмму для площади квартиры\n",
    "df['total_area'].hist(bins=30, range = (0,300))\n",
    "plt.title('Площадь квартир')\n",
    "plt.xlabel('Квадратные метры')\n",
    "plt.ylabel('Количество квартир')"
   ]
  },
  {
   "cell_type": "markdown",
   "metadata": {},
   "source": [
    "Из представленной гистограммы видим, что самые распространненные квартиры на рынке недвижимости - это квартиры площадью\n",
    "40-50 квадратных метров"
   ]
  },
  {
   "cell_type": "code",
   "execution_count": 50,
   "metadata": {},
   "outputs": [
    {
     "data": {
      "text/plain": [
       "Text(0, 0.5, 'Количество квартир')"
      ]
     },
     "execution_count": 50,
     "metadata": {},
     "output_type": "execute_result"
    },
    {
     "data": {
      "image/png": "[encoded data removed]",
      "text/plain": [
       "<Figure size 432x288 with 1 Axes>"
      ]
     },
     "metadata": {
      "needs_background": "light"
     },
     "output_type": "display_data"
    }
   ],
   "source": [
    "# Строим гистограмму для цены\n",
    "df['last_price'].hist(bins=30, range = (0,20000000))\n",
    "plt.title('Цена квартир')\n",
    "plt.xlabel('Цена')\n",
    "plt.ylabel('Количество квартир')"
   ]
  },
  {
   "cell_type": "markdown",
   "metadata": {},
   "source": [
    "Из представленного графика видим, что цены на квартиры в основном от 2,5 до 5 млн рублей"
   ]
  },
  {
   "cell_type": "code",
   "execution_count": 51,
   "metadata": {},
   "outputs": [
    {
     "data": {
      "text/plain": [
       "<matplotlib.axes._subplots.AxesSubplot at 0x7efcc8e125d0>"
      ]
     },
     "execution_count": 51,
     "metadata": {},
     "output_type": "execute_result"
    },
    {
     "data": {
      "image/png": "[encoded data removed]",
      "text/plain": [
       "<Figure size 432x288 with 1 Axes>"
      ]
     },
     "metadata": {
      "needs_background": "light"
     },
     "output_type": "display_data"
    }
   ],
   "source": [
    "# Построим диаграмму размаха с целью визуально оценить характеристики распределения\n",
    "df.boxplot('rooms')"
   ]
  },
  {
   "cell_type": "code",
   "execution_count": 52,
   "metadata": {},
   "outputs": [
    {
     "data": {
      "text/plain": [
       "Text(0, 0.5, 'Количество квартир')"
      ]
     },
     "execution_count": 52,
     "metadata": {},
     "output_type": "execute_result"
    },
    {
     "data": {
      "image/png": "[encoded data removed]",
      "text/plain": [
       "<Figure size 432x288 with 1 Axes>"
      ]
     },
     "metadata": {
      "needs_background": "light"
     },
     "output_type": "display_data"
    }
   ],
   "source": [
    "# Строим гистограмму для числа комнат\n",
    "df['rooms'].hist(bins=10, range = (0,7))\n",
    "plt.title('Количество комнат')\n",
    "plt.xlabel('Комнаты')\n",
    "plt.ylabel('Количество квартир')"
   ]
  },
  {
   "cell_type": "markdown",
   "metadata": {},
   "source": [
    "Из представленного графика видим, что в основном продаются 1- и 2-комнатные квартиры"
   ]
  },
  {
   "cell_type": "code",
   "execution_count": 53,
   "metadata": {},
   "outputs": [
    {
     "data": {
      "text/plain": [
       "Text(0, 0.5, 'Количество квартир')"
      ]
     },
     "execution_count": 53,
     "metadata": {},
     "output_type": "execute_result"
    },
    {
     "data": {
      "image/png": "[encoded data removed]",
      "text/plain": [
       "<Figure size 432x288 with 1 Axes>"
      ]
     },
     "metadata": {
      "needs_background": "light"
     },
     "output_type": "display_data"
    }
   ],
   "source": [
    "# Строим гистограмму для высоты потолков\n",
    "df['ceiling_height'].hist(bins=10, range = (2,5))\n",
    "plt.title('Высота потолков')\n",
    "plt.xlabel('Средняя высота потолков')\n",
    "plt.ylabel('Количество квартир')"
   ]
  },
  {
   "cell_type": "markdown",
   "metadata": {},
   "source": [
    "Видим, что средняя высота потолков 2,7 метра. Что, в принципе, соответствует СНИПам."
   ]
  },
  {
   "cell_type": "markdown",
   "metadata": {},
   "source": [
    "Изучим количество дней, которые ушли на продажу квартиры."
   ]
  },
  {
   "cell_type": "code",
   "execution_count": 54,
   "metadata": {
    "scrolled": true
   },
   "outputs": [
    {
     "data": {
      "text/plain": [
       "<matplotlib.axes._subplots.AxesSubplot at 0x7efcc9a6c410>"
      ]
     },
     "execution_count": 54,
     "metadata": {},
     "output_type": "execute_result"
    },
    {
     "data": {
      "image/png": "[encoded data removed]",
      "text/plain": [
       "<Figure size 432x288 with 1 Axes>"
      ]
     },
     "metadata": {
      "needs_background": "light"
     },
     "output_type": "display_data"
    }
   ],
   "source": [
    "# Построим диаграмму размаха с целью визуально оценить характеристики распределения\n",
    "df.boxplot('days_exposition')"
   ]
  },
  {
   "cell_type": "markdown",
   "metadata": {},
   "source": [
    "В размах \"усов\" попали нормальные значения, а за пределами - выбросы"
   ]
  },
  {
   "cell_type": "code",
   "execution_count": 55,
   "metadata": {},
   "outputs": [
    {
     "data": {
      "text/plain": [
       "Text(0, 0.5, 'Количество квартир')"
      ]
     },
     "execution_count": 55,
     "metadata": {},
     "output_type": "execute_result"
    },
    {
     "data": {
      "image/png": "[encoded data removed]",
      "text/plain": [
       "<Figure size 432x288 with 1 Axes>"
      ]
     },
     "metadata": {
      "needs_background": "light"
     },
     "output_type": "display_data"
    }
   ],
   "source": [
    "# Строим гистограмму для времени, потраченному на продажу квартиры\n",
    "df['days_exposition'].hist(bins=100, range = (0,300))\n",
    "plt.title('Количество дней на продажу квартиры')\n",
    "plt.xlabel('Дни')\n",
    "plt.ylabel('Количество квартир')"
   ]
  },
  {
   "cell_type": "code",
   "execution_count": 56,
   "metadata": {},
   "outputs": [
    {
     "data": {
      "text/plain": [
       "95.0"
      ]
     },
     "execution_count": 56,
     "metadata": {},
     "output_type": "execute_result"
    }
   ],
   "source": [
    "df['days_exposition'].median()"
   ]
  },
  {
   "cell_type": "code",
   "execution_count": 57,
   "metadata": {},
   "outputs": [
    {
     "data": {
      "text/plain": [
       "169.36022616988058"
      ]
     },
     "execution_count": 57,
     "metadata": {},
     "output_type": "execute_result"
    }
   ],
   "source": [
    "df['days_exposition'].mean()"
   ]
  },
  {
   "cell_type": "code",
   "execution_count": 58,
   "metadata": {},
   "outputs": [
    {
     "data": {
      "text/plain": [
       "count    23699.000000\n",
       "mean       169.360226\n",
       "std        206.535633\n",
       "min          1.000000\n",
       "25%         45.000000\n",
       "50%         95.000000\n",
       "75%        199.000000\n",
       "max       1580.000000\n",
       "Name: days_exposition, dtype: float64"
      ]
     },
     "execution_count": 58,
     "metadata": {},
     "output_type": "execute_result"
    }
   ],
   "source": [
    "df['days_exposition'].describe()"
   ]
  },
  {
   "cell_type": "markdown",
   "metadata": {},
   "source": [
    "Видим, что медиана составляет 95 дней. Т.е. именно дней столько в среднем уходит на продажу квартиры. Также видим, что\n",
    "быстрым временем продажи квартиры является 45 дней и меньше. Если квартира не продалась раньше 200 дней, то\n",
    "считается, что продажа идет долго."
   ]
  },
  {
   "cell_type": "markdown",
   "metadata": {},
   "source": [
    "Подведем промежуточный итог и ответим на вопрос: какие редкие и выбивающие значения мы убрали? Какие особенности мы\n",
    "обнаружили?\n",
    "- При изучении поступившего файла данные были в одной колонке. Мы разделили данные на 22 колонки, которые впоследствие привели к соответствующему типу;\n",
    "- Поставили 0 в пропущенных данных в столбцах: \"Балконы\", \"Число водоемов в радиусе 3 км\", \"Число парков в радиусе 3 км\";\n",
    "- Заменили пропуски в этажности дома;\n",
    "- Поменяли число комнат 0 на минимальное значение 1;\n",
    "- Обнаружили неправдоподобно низкую цену на квартиру и заменили ее на минимальную. Но отметили для себя, что цена подозрительная\n",
    "\n",
    "Особенности:\n",
    "- самые распространненные квартиры на рынке недвижимости - это квартиры площадью 40-50 квадратных метров;\n",
    "- цены на квартиры в основном от 2,5 до 5 млн рублей;\n",
    "- в основном продаются 1- и 2-комнатные квартиры;\n",
    "- средняя высота потолков 2,7 метра;\n",
    "- среднее время продажи составляет 95 дней"
   ]
  },
  {
   "cell_type": "markdown",
   "metadata": {},
   "source": [
    "Изучим столбы `total_area`, `ceiling_height`, `rooms`, `days_exposition`: проверим есть ли в них выбросы."
   ]
  },
  {
   "cell_type": "code",
   "execution_count": 59,
   "metadata": {
    "scrolled": true
   },
   "outputs": [
    {
     "data": {
      "text/plain": [
       "count    23699.000000\n",
       "mean        60.348651\n",
       "std         35.654083\n",
       "min         12.000000\n",
       "25%         40.000000\n",
       "50%         52.000000\n",
       "75%         69.900000\n",
       "max        900.000000\n",
       "Name: total_area, dtype: float64"
      ]
     },
     "execution_count": 59,
     "metadata": {},
     "output_type": "execute_result"
    }
   ],
   "source": [
    "df['total_area'].describe()"
   ]
  },
  {
   "cell_type": "markdown",
   "metadata": {},
   "source": [
    "Видим, что в целом значения нормальные, но присутсвуют выбросы (вряд ли есть площадь квартиры 900 кв. метров)"
   ]
  },
  {
   "cell_type": "code",
   "execution_count": 60,
   "metadata": {
    "scrolled": true
   },
   "outputs": [
    {
     "data": {
      "text/plain": [
       "count    23699.000000\n",
       "mean         2.771499\n",
       "std          0.986523\n",
       "min          1.000000\n",
       "25%          2.600000\n",
       "50%          2.771499\n",
       "75%          2.771499\n",
       "max        100.000000\n",
       "Name: ceiling_height, dtype: float64"
      ]
     },
     "execution_count": 60,
     "metadata": {},
     "output_type": "execute_result"
    }
   ],
   "source": [
    "df['ceiling_height'].describe()"
   ]
  },
  {
   "cell_type": "markdown",
   "metadata": {},
   "source": [
    "Выброс в высоте потолков - 100 метров"
   ]
  },
  {
   "cell_type": "code",
   "execution_count": 61,
   "metadata": {
    "scrolled": false
   },
   "outputs": [
    {
     "data": {
      "text/plain": [
       "count    23699.000000\n",
       "mean         2.078948\n",
       "std          1.066196\n",
       "min          1.000000\n",
       "25%          1.000000\n",
       "50%          2.000000\n",
       "75%          3.000000\n",
       "max         19.000000\n",
       "Name: rooms, dtype: float64"
      ]
     },
     "execution_count": 61,
     "metadata": {},
     "output_type": "execute_result"
    }
   ],
   "source": [
    "df['rooms'].describe()"
   ]
  },
  {
   "cell_type": "code",
   "execution_count": 62,
   "metadata": {},
   "outputs": [
    {
     "data": {
      "text/plain": [
       "1     8244\n",
       "2     7940\n",
       "3     5814\n",
       "4     1180\n",
       "5      326\n",
       "6      105\n",
       "7       59\n",
       "8       12\n",
       "9        8\n",
       "10       3\n",
       "14       2\n",
       "11       2\n",
       "15       1\n",
       "12       1\n",
       "19       1\n",
       "16       1\n",
       "Name: rooms, dtype: int64"
      ]
     },
     "execution_count": 62,
     "metadata": {},
     "output_type": "execute_result"
    }
   ],
   "source": [
    "df['rooms'].value_counts()"
   ]
  },
  {
   "cell_type": "markdown",
   "metadata": {},
   "source": [
    "Также существуют выбросы (число комнат от 8 до 19)"
   ]
  },
  {
   "cell_type": "code",
   "execution_count": 63,
   "metadata": {
    "scrolled": true
   },
   "outputs": [
    {
     "data": {
      "text/plain": [
       "count    23699.000000\n",
       "mean       169.360226\n",
       "std        206.535633\n",
       "min          1.000000\n",
       "25%         45.000000\n",
       "50%         95.000000\n",
       "75%        199.000000\n",
       "max       1580.000000\n",
       "Name: days_exposition, dtype: float64"
      ]
     },
     "execution_count": 63,
     "metadata": {},
     "output_type": "execute_result"
    }
   ],
   "source": [
    "df['days_exposition'].describe()"
   ]
  },
  {
   "cell_type": "code",
   "execution_count": 64,
   "metadata": {
    "scrolled": true
   },
   "outputs": [
    {
     "data": {
      "text/plain": [
       "95.0      3245\n",
       "45.0       880\n",
       "60.0       538\n",
       "7.0        234\n",
       "30.0       208\n",
       "          ... \n",
       "1110.0       1\n",
       "1135.0       1\n",
       "951.0        1\n",
       "693.0        1\n",
       "773.0        1\n",
       "Name: days_exposition, Length: 1141, dtype: int64"
      ]
     },
     "execution_count": 64,
     "metadata": {},
     "output_type": "execute_result"
    }
   ],
   "source": [
    "df['days_exposition'].value_counts()"
   ]
  },
  {
   "cell_type": "markdown",
   "metadata": {},
   "source": [
    "Есть объявления длительностью более 1000 дней, это больше 3-х лет."
   ]
  },
  {
   "cell_type": "markdown",
   "metadata": {},
   "source": [
    "Избавимся от выбросов методом `query()` и подсчитаем процент удаленных объявлений"
   ]
  },
  {
   "cell_type": "code",
   "execution_count": 65,
   "metadata": {},
   "outputs": [],
   "source": [
    "df = df.query('15 <= total_area <=150')"
   ]
  },
  {
   "cell_type": "code",
   "execution_count": 66,
   "metadata": {},
   "outputs": [],
   "source": [
    "df = df.query('1.7 <= ceiling_height <= 3.0')"
   ]
  },
  {
   "cell_type": "code",
   "execution_count": 67,
   "metadata": {},
   "outputs": [],
   "source": [
    "df = df.query('1 <= rooms <= 7')"
   ]
  },
  {
   "cell_type": "code",
   "execution_count": 68,
   "metadata": {},
   "outputs": [],
   "source": [
    "df = df.query('1<= days_exposition <= 450')"
   ]
  },
  {
   "cell_type": "code",
   "execution_count": 69,
   "metadata": {},
   "outputs": [
    {
     "name": "stdout",
     "output_type": "stream",
     "text": [
      "<class 'pandas.core.frame.DataFrame'>\n",
      "Int64Index: 19997 entries, 0 to 23698\n",
      "Data columns (total 29 columns):\n",
      "total_images            19997 non-null int64\n",
      "last_price              19997 non-null float64\n",
      "total_area              19997 non-null float64\n",
      "first_day_exposition    19997 non-null datetime64[ns]\n",
      "rooms                   19997 non-null int64\n",
      "ceiling_height          19997 non-null float64\n",
      "floors_total            19997 non-null int64\n",
      "living_area             19997 non-null float64\n",
      "floor                   19997 non-null int64\n",
      "is_apartment            19997 non-null bool\n",
      "studio                  19997 non-null bool\n",
      "open_plan               19997 non-null bool\n",
      "kitchen_area            19997 non-null float64\n",
      "balcony                 19997 non-null int64\n",
      "locality_name           19962 non-null object\n",
      "airports_nearest        19997 non-null float64\n",
      "cityCenters_nearest     19997 non-null float64\n",
      "parks_around3000        19997 non-null int64\n",
      "parks_nearest           19997 non-null object\n",
      "ponds_around3000        19997 non-null int64\n",
      "ponds_nearest           19997 non-null object\n",
      "days_exposition         19997 non-null float64\n",
      "price_square_meter      19997 non-null float64\n",
      "day                     19997 non-null int64\n",
      "month                   19997 non-null int64\n",
      "year                    19997 non-null int64\n",
      "category_floor          19997 non-null object\n",
      "living_area_ratio       19997 non-null float64\n",
      "kitchen_area_ratio      19997 non-null float64\n",
      "dtypes: bool(3), datetime64[ns](1), float64(11), int64(10), object(4)\n",
      "memory usage: 4.2+ MB\n"
     ]
    }
   ],
   "source": [
    "df.info()"
   ]
  },
  {
   "cell_type": "code",
   "execution_count": 70,
   "metadata": {},
   "outputs": [
    {
     "data": {
      "text/plain": [
       "0.1561735167524686"
      ]
     },
     "execution_count": 70,
     "metadata": {},
     "output_type": "execute_result"
    }
   ],
   "source": [
    "1-(19997/23698)"
   ]
  },
  {
   "cell_type": "markdown",
   "metadata": {},
   "source": [
    "Получилось, что примерно 15% объявлений содержали аномальные значения (выбросы), т.е. примерно каждое шестое. Удалив их, можем построить гистограммы и изучить данные. Считаю, что удалив 15% объявлений, все равно осталось достаточное количество данных для анализа и это не повлияет на итоговый результат"
   ]
  },
  {
   "cell_type": "code",
   "execution_count": 71,
   "metadata": {
    "scrolled": true
   },
   "outputs": [
    {
     "data": {
      "text/plain": [
       "(0, 150)"
      ]
     },
     "execution_count": 71,
     "metadata": {},
     "output_type": "execute_result"
    },
    {
     "data": {
      "image/png": "[encoded data removed]",
      "text/plain": [
       "<Figure size 432x288 with 1 Axes>"
      ]
     },
     "metadata": {
      "needs_background": "light"
     },
     "output_type": "display_data"
    }
   ],
   "source": [
    "# Применим метод ylim(y_min, y_max) для изменения масштаба по вертикальной оси столбца \"Общая площадь\"\n",
    "df.boxplot('total_area')\n",
    "plt.ylim(0, 150)"
   ]
  },
  {
   "cell_type": "code",
   "execution_count": 72,
   "metadata": {},
   "outputs": [
    {
     "data": {
      "text/plain": [
       "Text(0, 0.5, 'Количество квартир')"
      ]
     },
     "execution_count": 72,
     "metadata": {},
     "output_type": "execute_result"
    },
    {
     "data": {
      "image/png": "[encoded data removed]",
      "text/plain": [
       "<Figure size 432x288 with 1 Axes>"
      ]
     },
     "metadata": {
      "needs_background": "light"
     },
     "output_type": "display_data"
    }
   ],
   "source": [
    "# Строим гистограмму для площади квартиры\n",
    "df['total_area'].hist(bins=30, range = (0,300))\n",
    "plt.title('Площадь квартир')\n",
    "plt.xlabel('Квадратные метры')\n",
    "plt.ylabel('Количество квартир')"
   ]
  },
  {
   "cell_type": "markdown",
   "metadata": {},
   "source": [
    "В размах «усов» на первом графике попали нормальные значения. Сравнивая с гистограммой, можно сделать вывод, что данные совпадают: самые распространненные квартиры на рынке недвижимости - это квартиры площадью 40-50 квадратных метров. В основном продаются квартиры площадью от 18 до 110 квадратных метров. Все, что больше - редкие варианты"
   ]
  },
  {
   "cell_type": "code",
   "execution_count": 73,
   "metadata": {},
   "outputs": [
    {
     "data": {
      "text/plain": [
       "(0, 8)"
      ]
     },
     "execution_count": 73,
     "metadata": {},
     "output_type": "execute_result"
    },
    {
     "data": {
      "image/png": "[encoded data removed]",
      "text/plain": [
       "<Figure size 432x288 with 1 Axes>"
      ]
     },
     "metadata": {
      "needs_background": "light"
     },
     "output_type": "display_data"
    }
   ],
   "source": [
    "# Применим метод ylim(y_min, y_max) для изменения масштаба по вертикальной оси столбца \"Число комнат\"\n",
    "df.boxplot('rooms')\n",
    "plt.ylim(0, 8)"
   ]
  },
  {
   "cell_type": "code",
   "execution_count": 74,
   "metadata": {},
   "outputs": [
    {
     "data": {
      "text/plain": [
       "Text(0, 0.5, 'Количество квартир')"
      ]
     },
     "execution_count": 74,
     "metadata": {},
     "output_type": "execute_result"
    },
    {
     "data": {
      "image/png": "[encoded data removed]",
      "text/plain": [
       "<Figure size 432x288 with 1 Axes>"
      ]
     },
     "metadata": {
      "needs_background": "light"
     },
     "output_type": "display_data"
    }
   ],
   "source": [
    "# Строим гистограмму для числа комнат\n",
    "df['rooms'].hist(bins=10, range = (0,7))\n",
    "plt.title('Количество комнат')\n",
    "plt.xlabel('Комнаты')\n",
    "plt.ylabel('Количество квартир')"
   ]
  },
  {
   "cell_type": "markdown",
   "metadata": {},
   "source": [
    "В размах «ящике» на первом графике самые распространенные варианты на продажу, что соответствует данным с гистограммы. В основном люди продают 1- и 2-комнатные квартиры."
   ]
  },
  {
   "cell_type": "code",
   "execution_count": 75,
   "metadata": {},
   "outputs": [
    {
     "data": {
      "text/plain": [
       "(0, 4)"
      ]
     },
     "execution_count": 75,
     "metadata": {},
     "output_type": "execute_result"
    },
    {
     "data": {
      "image/png": "[encoded data removed]",
      "text/plain": [
       "<Figure size 432x288 with 1 Axes>"
      ]
     },
     "metadata": {
      "needs_background": "light"
     },
     "output_type": "display_data"
    }
   ],
   "source": [
    "# Применим метод ylim(y_min, y_max) для изменения масштаба по вертикальной оси столбца \"Высота потолков\"\n",
    "df.boxplot('ceiling_height')\n",
    "plt.ylim(0, 4)"
   ]
  },
  {
   "cell_type": "code",
   "execution_count": 76,
   "metadata": {},
   "outputs": [
    {
     "data": {
      "text/plain": [
       "Text(0, 0.5, 'Количество квартир')"
      ]
     },
     "execution_count": 76,
     "metadata": {},
     "output_type": "execute_result"
    },
    {
     "data": {
      "image/png": "[encoded data removed]",
      "text/plain": [
       "<Figure size 432x288 with 1 Axes>"
      ]
     },
     "metadata": {
      "needs_background": "light"
     },
     "output_type": "display_data"
    }
   ],
   "source": [
    "# Строим гистограмму для высоты потолков\n",
    "df['ceiling_height'].hist(bins=10, range = (2,4))\n",
    "plt.title('Высота потолков')\n",
    "plt.xlabel('Средняя высота потолков')\n",
    "plt.ylabel('Количество квартир')"
   ]
  },
  {
   "cell_type": "markdown",
   "metadata": {},
   "source": [
    "Видим, что в основном в квартирах высота потолков от 2.3 до 3 метров"
   ]
  },
  {
   "cell_type": "code",
   "execution_count": 77,
   "metadata": {},
   "outputs": [
    {
     "data": {
      "text/plain": [
       "(0, 500)"
      ]
     },
     "execution_count": 77,
     "metadata": {},
     "output_type": "execute_result"
    },
    {
     "data": {
      "image/png": "[encoded data removed]",
      "text/plain": [
       "<Figure size 432x288 with 1 Axes>"
      ]
     },
     "metadata": {
      "needs_background": "light"
     },
     "output_type": "display_data"
    }
   ],
   "source": [
    "# Применим метод ylim(y_min, y_max) для изменения масштаба по вертикальной оси столбца времени,\n",
    "# потраченному на продажу квартиры\n",
    "df.boxplot('days_exposition')\n",
    "plt.ylim(0, 500)"
   ]
  },
  {
   "cell_type": "code",
   "execution_count": 78,
   "metadata": {},
   "outputs": [
    {
     "data": {
      "text/plain": [
       "Text(0, 0.5, 'Количество квартир')"
      ]
     },
     "execution_count": 78,
     "metadata": {},
     "output_type": "execute_result"
    },
    {
     "data": {
      "image/png": "[encoded data removed]",
      "text/plain": [
       "<Figure size 432x288 with 1 Axes>"
      ]
     },
     "metadata": {
      "needs_background": "light"
     },
     "output_type": "display_data"
    }
   ],
   "source": [
    "# Строим гистограмму для времени, потраченному на продажу квартиры\n",
    "df['days_exposition'].hist(bins=100, range = (0,300))\n",
    "plt.title('Количество дней на продажу квартиры')\n",
    "plt.xlabel('Дни')\n",
    "plt.ylabel('Количество квартир')"
   ]
  },
  {
   "cell_type": "markdown",
   "metadata": {},
   "source": [
    "При изучении графиков можно сделать вывод, что квартиры в Санкт-Петербурге и области продаются в основном от 45 до 200 дней. Но вообще, могут продаваться от 1 до 440 дней. Все, что дольше - аномальные значения, "
   ]
  },
  {
   "cell_type": "markdown",
   "metadata": {},
   "source": [
    "Рассмотрим, какие факторы больше всего влияют на стоимость квартиры."
   ]
  },
  {
   "cell_type": "markdown",
   "metadata": {},
   "source": [
    "Зависит ли цена от квадратного метра?"
   ]
  },
  {
   "cell_type": "code",
   "execution_count": 79,
   "metadata": {},
   "outputs": [
    {
     "data": {
      "text/plain": [
       "0.704928346617295"
      ]
     },
     "execution_count": 79,
     "metadata": {},
     "output_type": "execute_result"
    }
   ],
   "source": [
    "# Используем корреляцию Пирсона: чем ближе коэффициент к крайним (1;-1), тем теснее линейная взаимосвязь\n",
    "df['last_price'].corr(df['total_area'])"
   ]
  },
  {
   "cell_type": "code",
   "execution_count": 80,
   "metadata": {},
   "outputs": [
    {
     "data": {
      "text/plain": [
       "<matplotlib.axes._subplots.AxesSubplot at 0x7efcc7d3f990>"
      ]
     },
     "execution_count": 80,
     "metadata": {},
     "output_type": "execute_result"
    },
    {
     "data": {
      "image/png": "[encoded data removed]",
      "text/plain": [
       "<Figure size 1080x360 with 1 Axes>"
      ]
     },
     "metadata": {
      "needs_background": "light"
     },
     "output_type": "display_data"
    }
   ],
   "source": [
    "df.plot(x='total_area', y='last_price', grid=True, style='o', figsize=(15, 5))"
   ]
  },
  {
   "cell_type": "markdown",
   "metadata": {},
   "source": [
    "Зависит ли цена от числа комнат?"
   ]
  },
  {
   "cell_type": "code",
   "execution_count": 81,
   "metadata": {},
   "outputs": [
    {
     "data": {
      "text/plain": [
       "0.4036628954640045"
      ]
     },
     "execution_count": 81,
     "metadata": {},
     "output_type": "execute_result"
    }
   ],
   "source": [
    "df['last_price'].corr(df['rooms'])"
   ]
  },
  {
   "cell_type": "code",
   "execution_count": 82,
   "metadata": {},
   "outputs": [
    {
     "data": {
      "text/plain": [
       "<matplotlib.axes._subplots.AxesSubplot at 0x7efcc821afd0>"
      ]
     },
     "execution_count": 82,
     "metadata": {},
     "output_type": "execute_result"
    },
    {
     "data": {
      "image/png": "[encoded data removed]",
      "text/plain": [
       "<Figure size 1080x360 with 1 Axes>"
      ]
     },
     "metadata": {
      "needs_background": "light"
     },
     "output_type": "display_data"
    }
   ],
   "source": [
    "df.plot(x='rooms', y='last_price', grid=True, style='o', figsize=(15, 5))"
   ]
  },
  {
   "cell_type": "markdown",
   "metadata": {},
   "source": [
    "Зависит ли цена от этажа?"
   ]
  },
  {
   "cell_type": "code",
   "execution_count": 83,
   "metadata": {},
   "outputs": [
    {
     "data": {
      "text/plain": [
       "0.10200878869531825"
      ]
     },
     "execution_count": 83,
     "metadata": {},
     "output_type": "execute_result"
    }
   ],
   "source": [
    "df['last_price'].corr(df['floor'])"
   ]
  },
  {
   "cell_type": "code",
   "execution_count": 84,
   "metadata": {},
   "outputs": [
    {
     "data": {
      "image/png": "[encoded data removed]",
      "text/plain": [
       "<Figure size 432x360 with 1 Axes>"
      ]
     },
     "metadata": {
      "needs_background": "light"
     },
     "output_type": "display_data"
    }
   ],
   "source": [
    "#Вычислим среднюю цену в каждой категории. `bar` - означает столбчатый график\n",
    "mean_price = df.groupby('category_floor')['last_price'].mean();\n",
    "mean_price.plot(x=mean_price.index, y=mean_price.values, kind='bar', grid=True, figsize=(6,5));\n",
    "\n"
   ]
  },
  {
   "cell_type": "markdown",
   "metadata": {},
   "source": [
    "Зависит ли цена от удаленности от центра?"
   ]
  },
  {
   "cell_type": "code",
   "execution_count": 85,
   "metadata": {},
   "outputs": [
    {
     "data": {
      "text/plain": [
       "-0.2537204400660568"
      ]
     },
     "execution_count": 85,
     "metadata": {},
     "output_type": "execute_result"
    }
   ],
   "source": [
    "df['last_price'].corr(df['cityCenters_nearest'])"
   ]
  },
  {
   "cell_type": "code",
   "execution_count": 86,
   "metadata": {},
   "outputs": [
    {
     "data": {
      "text/plain": [
       "<matplotlib.axes._subplots.AxesSubplot at 0x7efcc80953d0>"
      ]
     },
     "execution_count": 86,
     "metadata": {},
     "output_type": "execute_result"
    },
    {
     "data": {
      "image/png": "[encoded data removed]",
      "text/plain": [
       "<Figure size 1008x504 with 1 Axes>"
      ]
     },
     "metadata": {
      "needs_background": "light"
     },
     "output_type": "display_data"
    }
   ],
   "source": [
    "# alpha -  прозрачность\n",
    "df.plot(x='cityCenters_nearest', y='last_price', kind='scatter', grid=True, figsize=(14,7), alpha=0.5)"
   ]
  },
  {
   "cell_type": "markdown",
   "metadata": {},
   "source": [
    "Зависит ли цена от даты размещения?"
   ]
  },
  {
   "cell_type": "code",
   "execution_count": 87,
   "metadata": {},
   "outputs": [
    {
     "data": {
      "text/plain": [
       "-0.006833505135890027"
      ]
     },
     "execution_count": 87,
     "metadata": {},
     "output_type": "execute_result"
    }
   ],
   "source": [
    "df['last_price'].corr(df['day'])"
   ]
  },
  {
   "cell_type": "code",
   "execution_count": 88,
   "metadata": {},
   "outputs": [
    {
     "data": {
      "text/plain": [
       "0.0005578162686277714"
      ]
     },
     "execution_count": 88,
     "metadata": {},
     "output_type": "execute_result"
    }
   ],
   "source": [
    "df['last_price'].corr(df['month'])"
   ]
  },
  {
   "cell_type": "code",
   "execution_count": 89,
   "metadata": {},
   "outputs": [
    {
     "data": {
      "text/plain": [
       "0.006343498129852618"
      ]
     },
     "execution_count": 89,
     "metadata": {},
     "output_type": "execute_result"
    }
   ],
   "source": [
    "df['last_price'].corr(df['year'])"
   ]
  },
  {
   "cell_type": "code",
   "execution_count": 90,
   "metadata": {},
   "outputs": [
    {
     "data": {
      "image/png": "[encoded data removed]",
      "text/plain": [
       "<Figure size 360x360 with 1 Axes>"
      ]
     },
     "metadata": {
      "needs_background": "light"
     },
     "output_type": "display_data"
    }
   ],
   "source": [
    "# Зависимость от дня размещения\n",
    "(df.pivot_table(index='day', values='last_price').plot(grid=True, style='o-', figsize=(5, 5))\n",
    ")\n",
    "plt.show()"
   ]
  },
  {
   "cell_type": "code",
   "execution_count": 91,
   "metadata": {},
   "outputs": [
    {
     "data": {
      "image/png": "[encoded data removed]",
      "text/plain": [
       "<Figure size 720x360 with 1 Axes>"
      ]
     },
     "metadata": {
      "needs_background": "light"
     },
     "output_type": "display_data"
    }
   ],
   "source": [
    "# Зависимость от месяца размещения\n",
    "(df.pivot_table(index='month', values='last_price').plot(grid=True, style='o-', xlim=(1,12), figsize=(10, 5))\n",
    ")\n",
    "plt.show()"
   ]
  },
  {
   "cell_type": "code",
   "execution_count": 92,
   "metadata": {},
   "outputs": [
    {
     "data": {
      "image/png": "[encoded data removed]",
      "text/plain": [
       "<Figure size 360x360 with 1 Axes>"
      ]
     },
     "metadata": {
      "needs_background": "light"
     },
     "output_type": "display_data"
    }
   ],
   "source": [
    "# Зависимость от года размещения\n",
    "(df.pivot_table(index='year', values='last_price').plot(grid=True, style='o-', figsize=(5, 5))\n",
    ")\n",
    "plt.show()"
   ]
  },
  {
   "cell_type": "markdown",
   "metadata": {},
   "source": [
    "Выводы:\n",
    "- чем выше площадь квартиры, тем выше цена;\n",
    "- число комнат не сильно влияет на цену. Но видим, что чем больше комнат - тем больше цена.\n",
    "Возможно, на стоимость также влияет расположение: если мало комнат, но квартира ближе к центру, то цена выше\n",
    "- первый этаж значительно дешевле, чем все остальные;\n",
    "- чем ближе к центру, тем выше цена. Самые дорогие квартиры на расстоянии 20000 метров (20 км) от центра;\n",
    "- самая высокая цена у квартир, выставленных на продажу в субботу;\n",
    "- самая высокая цена у квартиры, выставленной в декабре. Но это 7-комнатная квартира, которая вызывала сомнение.\n",
    "Лучше будем считать, что самые дорогие квартиры, выставленные на продажу в апреле и сентябре;\n",
    "- Начиная с 2014 по 2018 год стоимость квартир снижалась."
   ]
  },
  {
   "cell_type": "markdown",
   "metadata": {},
   "source": [
    "Выберем 10 населённых пунктов с наибольшим числом объявлений. \n",
    "Посчитаем среднюю цену квадратного метра в этих населённых пунктах. \n",
    "Выделим населённые пункты с самой высокой и низкой стоимостью жилья"
   ]
  },
  {
   "cell_type": "code",
   "execution_count": 93,
   "metadata": {},
   "outputs": [],
   "source": [
    "# Сгруппируем данные по \"Названию населенного пункта\" и \"Стоимость квадратного метра\"\n",
    "# Методов `agg`  найдем количество и среднее значение. Отсортируем по убыванию\n",
    "sity = df.groupby('locality_name')['price_square_meter'].agg(['count', 'mean']).sort_values(by='count', ascending=False).head(10)\n",
    "sity.columns = ['rooms', 'price_square_meter']\n",
    "sity.reset_index(inplace=True)"
   ]
  },
  {
   "cell_type": "code",
   "execution_count": 94,
   "metadata": {},
   "outputs": [
    {
     "data": {
      "text/html": [
       "<div>\n",
       "<style scoped>\n",
       "    .dataframe tbody tr th:only-of-type {\n",
       "        vertical-align: middle;\n",
       "    }\n",
       "\n",
       "    .dataframe tbody tr th {\n",
       "        vertical-align: top;\n",
       "    }\n",
       "\n",
       "    .dataframe thead th {\n",
       "        text-align: right;\n",
       "    }\n",
       "</style>\n",
       "<table border=\"1\" class=\"dataframe\">\n",
       "  <thead>\n",
       "    <tr style=\"text-align: right;\">\n",
       "      <th></th>\n",
       "      <th>locality_name</th>\n",
       "      <th>rooms</th>\n",
       "      <th>price_square_meter</th>\n",
       "    </tr>\n",
       "  </thead>\n",
       "  <tbody>\n",
       "    <tr>\n",
       "      <td>0</td>\n",
       "      <td>Санкт-Петербург</td>\n",
       "      <td>12821</td>\n",
       "      <td>110241.521851</td>\n",
       "    </tr>\n",
       "    <tr>\n",
       "      <td>1</td>\n",
       "      <td>поселок Мурино</td>\n",
       "      <td>512</td>\n",
       "      <td>85906.127207</td>\n",
       "    </tr>\n",
       "    <tr>\n",
       "      <td>2</td>\n",
       "      <td>поселок Шушары</td>\n",
       "      <td>411</td>\n",
       "      <td>78631.634990</td>\n",
       "    </tr>\n",
       "    <tr>\n",
       "      <td>3</td>\n",
       "      <td>Всеволожск</td>\n",
       "      <td>355</td>\n",
       "      <td>68819.983956</td>\n",
       "    </tr>\n",
       "    <tr>\n",
       "      <td>4</td>\n",
       "      <td>Пушкин</td>\n",
       "      <td>314</td>\n",
       "      <td>101879.458680</td>\n",
       "    </tr>\n",
       "    <tr>\n",
       "      <td>5</td>\n",
       "      <td>Колпино</td>\n",
       "      <td>307</td>\n",
       "      <td>75340.402084</td>\n",
       "    </tr>\n",
       "    <tr>\n",
       "      <td>6</td>\n",
       "      <td>поселок Парголово</td>\n",
       "      <td>306</td>\n",
       "      <td>90002.244826</td>\n",
       "    </tr>\n",
       "    <tr>\n",
       "      <td>7</td>\n",
       "      <td>Гатчина</td>\n",
       "      <td>273</td>\n",
       "      <td>68799.652210</td>\n",
       "    </tr>\n",
       "    <tr>\n",
       "      <td>8</td>\n",
       "      <td>деревня Кудрово</td>\n",
       "      <td>264</td>\n",
       "      <td>92674.384211</td>\n",
       "    </tr>\n",
       "    <tr>\n",
       "      <td>9</td>\n",
       "      <td>Выборг</td>\n",
       "      <td>204</td>\n",
       "      <td>57562.621463</td>\n",
       "    </tr>\n",
       "  </tbody>\n",
       "</table>\n",
       "</div>"
      ],
      "text/plain": [
       "       locality_name  rooms  price_square_meter\n",
       "0    Санкт-Петербург  12821       110241.521851\n",
       "1     поселок Мурино    512        85906.127207\n",
       "2     поселок Шушары    411        78631.634990\n",
       "3         Всеволожск    355        68819.983956\n",
       "4             Пушкин    314       101879.458680\n",
       "5            Колпино    307        75340.402084\n",
       "6  поселок Парголово    306        90002.244826\n",
       "7            Гатчина    273        68799.652210\n",
       "8    деревня Кудрово    264        92674.384211\n",
       "9             Выборг    204        57562.621463"
      ]
     },
     "execution_count": 94,
     "metadata": {},
     "output_type": "execute_result"
    }
   ],
   "source": [
    "sity"
   ]
  },
  {
   "cell_type": "markdown",
   "metadata": {},
   "source": [
    "Больше всего объявлений по продаже квартир в Санкт-Петербурге, что логично. В этом же городе средняя стоимость \n",
    "квадратного метра выше"
   ]
  },
  {
   "cell_type": "markdown",
   "metadata": {},
   "source": [
    "Изучим предложения квартир: выясним, какая область входит в центр"
   ]
  },
  {
   "cell_type": "code",
   "execution_count": 95,
   "metadata": {},
   "outputs": [],
   "source": [
    "# Создадим столбец \"Расстояние до центра в км\". Т.к. значения у нас в метрах, необходимо поделить на 1000 (1 км = 1000 м)\n",
    "# Переводом в целочисленный тип мы округлим значение до целого\n",
    "df['centre_km'] = df['cityCenters_nearest'] / 1000\n",
    "df['centre_km'] = df['centre_km'].fillna(value=0).astype(int)"
   ]
  },
  {
   "cell_type": "code",
   "execution_count": 96,
   "metadata": {},
   "outputs": [
    {
     "data": {
      "image/png": "[encoded data removed]",
      "text/plain": [
       "<Figure size 1080x360 with 1 Axes>"
      ]
     },
     "metadata": {
      "needs_background": "light"
     },
     "output_type": "display_data"
    }
   ],
   "source": [
    "# Выберем город Санкт-Петербург, построим график\n",
    "(df.query('locality_name == \"Санкт-Петербург\"').pivot_table(index='centre_km', values='last_price')\n",
    "    .plot(grid=True, style='o-', xlim=(0,20), figsize=(15, 5))\n",
    ")\n",
    "plt.show()"
   ]
  },
  {
   "cell_type": "markdown",
   "metadata": {},
   "source": [
    "По данному графику видим, что в центральную часть входит радиус примерно в 7 км от центра Санкт-Петербурга. Соответственно, чем ближе к центру города, тем выше цена"
   ]
  },
  {
   "cell_type": "markdown",
   "metadata": {},
   "source": [
    "Выделим сегмент квартир в центре. Проанализируем эту территорию и изучим следующие параметры: площадь, цена, число комнат, высота потолков. Также выделим факторы, которые влияют на стоимость квартиры"
   ]
  },
  {
   "cell_type": "code",
   "execution_count": 97,
   "metadata": {},
   "outputs": [],
   "source": [
    "# Для среза данных воспользуемся методом `query`\n",
    "df_spb_centre = df.query('(locality_name == \"Санкт-Петербург\") & (centre_km <= 7)') # центр города\n",
    "df_spb_all = df.query('locality_name == \"Санкт-Петербург\"') # остальная часть города"
   ]
  },
  {
   "cell_type": "code",
   "execution_count": 98,
   "metadata": {},
   "outputs": [
    {
     "data": {
      "image/png": "[encoded data removed]",
      "text/plain": [
       "<Figure size 1080x216 with 1 Axes>"
      ]
     },
     "metadata": {
      "needs_background": "light"
     },
     "output_type": "display_data"
    },
    {
     "data": {
      "image/png": "[encoded data removed]",
      "text/plain": [
       "<Figure size 1080x216 with 1 Axes>"
      ]
     },
     "metadata": {
      "needs_background": "light"
     },
     "output_type": "display_data"
    },
    {
     "data": {
      "image/png": "[encoded data removed]",
      "text/plain": [
       "<Figure size 1080x216 with 1 Axes>"
      ]
     },
     "metadata": {
      "needs_background": "light"
     },
     "output_type": "display_data"
    },
    {
     "data": {
      "image/png": "[encoded data removed]",
      "text/plain": [
       "<Figure size 1080x216 with 1 Axes>"
      ]
     },
     "metadata": {
      "needs_background": "light"
     },
     "output_type": "display_data"
    },
    {
     "data": {
      "image/png": "[encoded data removed]",
      "text/plain": [
       "<Figure size 1080x216 with 1 Axes>"
      ]
     },
     "metadata": {
      "needs_background": "light"
     },
     "output_type": "display_data"
    },
    {
     "data": {
      "image/png": "[encoded data removed]",
      "text/plain": [
       "<Figure size 1080x216 with 1 Axes>"
      ]
     },
     "metadata": {
      "needs_background": "light"
     },
     "output_type": "display_data"
    },
    {
     "data": {
      "image/png": "[encoded data removed]",
      "text/plain": [
       "<Figure size 1080x216 with 1 Axes>"
      ]
     },
     "metadata": {
      "needs_background": "light"
     },
     "output_type": "display_data"
    },
    {
     "data": {
      "image/png": "[encoded data removed]",
      "text/plain": [
       "<Figure size 1080x216 with 1 Axes>"
      ]
     },
     "metadata": {
      "needs_background": "light"
     },
     "output_type": "display_data"
    }
   ],
   "source": [
    "# Для построения графиков воспользуемся циклом\n",
    "parametrs = ['total_area', 'last_price', 'rooms', 'ceiling_height']\n",
    "for index in parametrs:\n",
    "    df_spb_centre.plot(y=index, kind='hist', grid=True, figsize=(15,3), bins=75, alpha=1)\n",
    "    df_spb_all.plot(y=index, kind='hist', grid=True, figsize=(15,3), bins=75, alpha=0.5)\n",
    "    plt.show()"
   ]
  },
  {
   "cell_type": "markdown",
   "metadata": {},
   "source": [
    "По указанным графикам сделаем выводы:\n",
    "- Общая площадь квартир в центральной части Санкт-Петербурга (напомним, что центр - это все что внутри радиуса 7 км)выше, по сравнению с квартирами в остальном городе;\n",
    "- Цена за квадратный метр в центре выше (ось х);\n",
    "- В центре в основном продают 2- и 3-комнатные квартиры (причем, 3-комнатных больше);\n",
    "- Потолки в центре города и во всем городе примерно одинаковые, но видно, что в центре высота потолков разная"
   ]
  },
  {
   "cell_type": "markdown",
   "metadata": {},
   "source": [
    "Также выделим факторы, которые влияют на стоимость квартиры (число комнат, этаж, удалённость от центра, дата размещения объявления)"
   ]
  },
  {
   "cell_type": "markdown",
   "metadata": {},
   "source": [
    "Число комнат:"
   ]
  },
  {
   "cell_type": "code",
   "execution_count": 99,
   "metadata": {},
   "outputs": [
    {
     "data": {
      "text/plain": [
       "<matplotlib.axes._subplots.AxesSubplot at 0x7efcc76cf390>"
      ]
     },
     "execution_count": 99,
     "metadata": {},
     "output_type": "execute_result"
    },
    {
     "data": {
      "image/png": "[encoded data removed]",
      "text/plain": [
       "<Figure size 360x360 with 1 Axes>"
      ]
     },
     "metadata": {
      "needs_background": "light"
     },
     "output_type": "display_data"
    }
   ],
   "source": [
    "df_spb_all.pivot_table(index='rooms', values='last_price').plot(grid=True, style='o-', figsize=(5, 5))"
   ]
  },
  {
   "cell_type": "markdown",
   "metadata": {},
   "source": [
    "Как видим, чем больше комнат, тем выше цена"
   ]
  },
  {
   "cell_type": "markdown",
   "metadata": {},
   "source": [
    "Этаж:"
   ]
  },
  {
   "cell_type": "code",
   "execution_count": 100,
   "metadata": {},
   "outputs": [
    {
     "data": {
      "text/plain": [
       "<matplotlib.axes._subplots.AxesSubplot at 0x7efcc74c7050>"
      ]
     },
     "execution_count": 100,
     "metadata": {},
     "output_type": "execute_result"
    },
    {
     "data": {
      "image/png": "[encoded data removed]",
      "text/plain": [
       "<Figure size 360x360 with 1 Axes>"
      ]
     },
     "metadata": {
      "needs_background": "light"
     },
     "output_type": "display_data"
    }
   ],
   "source": [
    "df_spb_all.pivot_table(index='floor', values='last_price').plot(grid=True, style='o-', figsize=(5, 5))"
   ]
  },
  {
   "cell_type": "markdown",
   "metadata": {},
   "source": [
    "Примерно все этажи стоят одинаково, за исключением первого"
   ]
  },
  {
   "cell_type": "markdown",
   "metadata": {},
   "source": [
    "Удаленность от центра:"
   ]
  },
  {
   "cell_type": "code",
   "execution_count": 101,
   "metadata": {},
   "outputs": [
    {
     "data": {
      "text/plain": [
       "<matplotlib.axes._subplots.AxesSubplot at 0x7efcc753dad0>"
      ]
     },
     "execution_count": 101,
     "metadata": {},
     "output_type": "execute_result"
    },
    {
     "data": {
      "image/png": "[encoded data removed]",
      "text/plain": [
       "<Figure size 1080x360 with 1 Axes>"
      ]
     },
     "metadata": {
      "needs_background": "light"
     },
     "output_type": "display_data"
    }
   ],
   "source": [
    "df_spb_all.pivot_table(index='cityCenters_nearest', values='last_price', aggfunc='median').plot(grid=True, style='o', figsize=(15, 5))"
   ]
  },
  {
   "cell_type": "markdown",
   "metadata": {},
   "source": [
    "Чем ближе к центру, тем квартиры дороже"
   ]
  },
  {
   "cell_type": "markdown",
   "metadata": {},
   "source": [
    " Дата размещения объявления:"
   ]
  },
  {
   "cell_type": "code",
   "execution_count": 102,
   "metadata": {},
   "outputs": [
    {
     "data": {
      "text/plain": [
       "<matplotlib.axes._subplots.AxesSubplot at 0x7efcc7498490>"
      ]
     },
     "execution_count": 102,
     "metadata": {},
     "output_type": "execute_result"
    },
    {
     "data": {
      "image/png": "[encoded data removed]",
      "text/plain": [
       "<Figure size 360x360 with 1 Axes>"
      ]
     },
     "metadata": {
      "needs_background": "light"
     },
     "output_type": "display_data"
    }
   ],
   "source": [
    "df_spb_all.pivot_table(index='day', values='last_price').plot(grid=True, style='o-', figsize=(5, 5))"
   ]
  },
  {
   "cell_type": "code",
   "execution_count": 103,
   "metadata": {},
   "outputs": [
    {
     "data": {
      "text/plain": [
       "<matplotlib.axes._subplots.AxesSubplot at 0x7efcc7585c90>"
      ]
     },
     "execution_count": 103,
     "metadata": {},
     "output_type": "execute_result"
    },
    {
     "data": {
      "image/png": "[encoded data removed]",
      "text/plain": [
       "<Figure size 360x360 with 1 Axes>"
      ]
     },
     "metadata": {
      "needs_background": "light"
     },
     "output_type": "display_data"
    }
   ],
   "source": [
    "df_spb_all.pivot_table(index='month', values='last_price').plot(grid=True, style='o-', figsize=(5, 5))"
   ]
  },
  {
   "cell_type": "code",
   "execution_count": 104,
   "metadata": {},
   "outputs": [
    {
     "data": {
      "text/plain": [
       "<matplotlib.axes._subplots.AxesSubplot at 0x7efcc8001fd0>"
      ]
     },
     "execution_count": 104,
     "metadata": {},
     "output_type": "execute_result"
    },
    {
     "data": {
      "image/png": "[encoded data removed]",
      "text/plain": [
       "<Figure size 360x360 with 1 Axes>"
      ]
     },
     "metadata": {
      "needs_background": "light"
     },
     "output_type": "display_data"
    }
   ],
   "source": [
    "df_spb_all.pivot_table(index='year', values='last_price').plot(grid=True, style='o-', figsize=(5, 5))"
   ]
  },
  {
   "cell_type": "markdown",
   "metadata": {},
   "source": [
    "Самые дорогие квартиры в Санкт-Петербурге выставлялись на продажу в среду и в воскресенье; месяц - январь, сентябрь, декабрь. С каждым годом квартиры дешевеют"
   ]
  },
  {
   "cell_type": "markdown",
   "metadata": {},
   "source": [
    "Вывод:\n",
    "- чем больше комнат, тем выше цена;\n",
    "- примерно все этажи стоят одинаково, за исключением первого;\n",
    "- чем ближе к центру, тем квартиры дороже;\n",
    "- самые дорогие квартиры в Санкт-Петербурге выставлялись на продажу в субботу; месяц - май. С каждым годом квартиры дешевеют"
   ]
  },
  {
   "cell_type": "markdown",
   "metadata": {},
   "source": [
    "## Общий вывод"
   ]
  },
  {
   "cell_type": "markdown",
   "metadata": {},
   "source": [
    "Мы исследовали данные сервиса Яндекc.Недвижимость — архив объявлений о продаже квартир в Санкт-Петербурге и соседних населённых пунктах за несколько лет. Научились определять рыночную стоимость объектов недвижимости, установили параметры. Смогли отследить аномалии и возможную мошенническую деятельность. \n",
    "\n",
    "В нашем исследовании можно сделать следующие общие выводы:\n",
    "- самые распространненные квартиры на рынке недвижимости - это квартиры площадью 40-50 квадратных метров;\n",
    "- средняя цена на квартиры в основном от 2,5 до 5 млн рублей;\n",
    "- самые распространенные варианты продажи - это продажи 1- и 2-комнатных квартир;\n",
    "- среднее время продажи составляет 95 дней;\n",
    "- чем ближе к центру, тем выше цена;\n",
    "- начиная с 2014 по 2018 год стоимость квартир снижалась, но затем опять начала расти;\n",
    "- самые дешевые квартиры - это однокомнатные;\n",
    "- стоимость квадратного метра дороже всего в Санкт-Петербурге - примерно 115000 руб/м2\n",
    "- стоимость квадратного метра дешевле всего в Выборе (121 км от Санкт-Петербурга) - примерно 58000 руб/м2"
   ]
  },
  {
   "cell_type": "code",
   "execution_count": null,
   "metadata": {},
   "outputs": [],
   "source": []
  }
 ],
 "metadata": {
  "ExecuteTimeLog": [
   {
    "duration": 593,
    "start_time": "2022-02-22T20:56:22.807Z"
   },
   {
    "duration": 76,
    "start_time": "2022-02-22T20:56:24.126Z"
   },
   {
    "duration": 16,
    "start_time": "2022-02-22T20:56:25.142Z"
   },
   {
    "duration": 10,
    "start_time": "2022-02-22T20:57:12.926Z"
   },
   {
    "duration": 85,
    "start_time": "2022-02-22T21:04:12.226Z"
   },
   {
    "duration": 118,
    "start_time": "2022-02-22T21:04:47.337Z"
   },
   {
    "duration": 74,
    "start_time": "2022-02-22T21:05:09.841Z"
   },
   {
    "duration": 87,
    "start_time": "2022-02-22T21:06:57.088Z"
   },
   {
    "duration": 11,
    "start_time": "2022-02-22T21:07:09.071Z"
   },
   {
    "duration": 310,
    "start_time": "2022-02-22T21:10:19.797Z"
   },
   {
    "duration": 244,
    "start_time": "2022-02-22T21:10:35.110Z"
   },
   {
    "duration": 240,
    "start_time": "2022-02-22T21:10:59.277Z"
   },
   {
    "duration": 11,
    "start_time": "2022-02-22T21:11:54.541Z"
   },
   {
    "duration": 241,
    "start_time": "2022-02-22T21:12:07.156Z"
   },
   {
    "duration": 10,
    "start_time": "2022-02-22T21:22:07.132Z"
   },
   {
    "duration": 27,
    "start_time": "2022-02-22T21:22:23.877Z"
   },
   {
    "duration": 36,
    "start_time": "2022-02-22T21:27:48.174Z"
   },
   {
    "duration": 238,
    "start_time": "2022-02-22T21:37:29.048Z"
   },
   {
    "duration": 236,
    "start_time": "2022-02-22T21:37:46.384Z"
   },
   {
    "duration": 6,
    "start_time": "2022-02-22T21:37:55.165Z"
   },
   {
    "duration": 5,
    "start_time": "2022-02-22T21:40:17.856Z"
   },
   {
    "duration": 9,
    "start_time": "2022-02-22T21:50:45.984Z"
   },
   {
    "duration": 315,
    "start_time": "2022-02-23T16:04:07.706Z"
   },
   {
    "duration": 787,
    "start_time": "2022-02-23T16:04:18.798Z"
   },
   {
    "duration": 74,
    "start_time": "2022-02-23T16:04:19.587Z"
   },
   {
    "duration": 12,
    "start_time": "2022-02-23T16:04:19.664Z"
   },
   {
    "duration": 98,
    "start_time": "2022-02-23T16:04:19.678Z"
   },
   {
    "duration": 15,
    "start_time": "2022-02-23T16:04:19.779Z"
   },
   {
    "duration": 65,
    "start_time": "2022-02-23T16:04:19.797Z"
   },
   {
    "duration": 6,
    "start_time": "2022-02-23T16:04:19.864Z"
   },
   {
    "duration": 25,
    "start_time": "2022-02-23T16:04:19.873Z"
   },
   {
    "duration": 32,
    "start_time": "2022-02-23T16:04:19.900Z"
   },
   {
    "duration": 411,
    "start_time": "2022-02-23T16:05:36.728Z"
   },
   {
    "duration": 260,
    "start_time": "2022-02-23T16:05:57.623Z"
   },
   {
    "duration": 247,
    "start_time": "2022-02-23T16:06:07.031Z"
   },
   {
    "duration": 243,
    "start_time": "2022-02-23T16:06:22.191Z"
   },
   {
    "duration": 252,
    "start_time": "2022-02-23T16:14:18.077Z"
   },
   {
    "duration": 103,
    "start_time": "2022-02-23T16:16:38.456Z"
   },
   {
    "duration": 269,
    "start_time": "2022-02-23T16:16:56.961Z"
   },
   {
    "duration": 840,
    "start_time": "2022-02-23T16:17:20.505Z"
   },
   {
    "duration": 29,
    "start_time": "2022-02-23T16:17:31.241Z"
   },
   {
    "duration": 27,
    "start_time": "2022-02-23T16:18:07.969Z"
   },
   {
    "duration": 23,
    "start_time": "2022-02-23T16:19:02.280Z"
   },
   {
    "duration": 9,
    "start_time": "2022-02-23T16:24:17.363Z"
   },
   {
    "duration": 42,
    "start_time": "2022-02-23T16:31:57.464Z"
   },
   {
    "duration": 7,
    "start_time": "2022-02-23T16:36:56.396Z"
   },
   {
    "duration": 10,
    "start_time": "2022-02-23T16:40:24.505Z"
   },
   {
    "duration": 279,
    "start_time": "2022-02-23T16:41:04.551Z"
   },
   {
    "duration": 16,
    "start_time": "2022-02-23T16:41:11.904Z"
   },
   {
    "duration": 6,
    "start_time": "2022-02-23T16:42:16.831Z"
   },
   {
    "duration": 6,
    "start_time": "2022-02-23T16:42:33.703Z"
   },
   {
    "duration": 7,
    "start_time": "2022-02-23T16:42:34.727Z"
   },
   {
    "duration": 10,
    "start_time": "2022-02-23T16:42:54.727Z"
   },
   {
    "duration": 7,
    "start_time": "2022-02-23T16:43:34.014Z"
   },
   {
    "duration": 41,
    "start_time": "2022-02-23T16:43:59.245Z"
   },
   {
    "duration": 15,
    "start_time": "2022-02-23T16:44:04.102Z"
   },
   {
    "duration": 7,
    "start_time": "2022-02-23T16:44:22.053Z"
   },
   {
    "duration": 10,
    "start_time": "2022-02-23T16:44:23.398Z"
   },
   {
    "duration": 16,
    "start_time": "2022-02-23T16:44:24.190Z"
   },
   {
    "duration": 9,
    "start_time": "2022-02-23T16:45:19.565Z"
   },
   {
    "duration": 14,
    "start_time": "2022-02-23T16:45:20.645Z"
   },
   {
    "duration": 11,
    "start_time": "2022-02-23T16:46:22.868Z"
   },
   {
    "duration": 19,
    "start_time": "2022-02-23T16:46:25.661Z"
   },
   {
    "duration": 7,
    "start_time": "2022-02-23T16:50:43.065Z"
   },
   {
    "duration": 278,
    "start_time": "2022-02-23T16:51:06.346Z"
   },
   {
    "duration": 269,
    "start_time": "2022-02-23T16:51:13.818Z"
   },
   {
    "duration": 266,
    "start_time": "2022-02-23T16:51:18.393Z"
   },
   {
    "duration": 7,
    "start_time": "2022-02-23T16:52:08.114Z"
   },
   {
    "duration": 298,
    "start_time": "2022-02-23T17:09:37.253Z"
   },
   {
    "duration": 9,
    "start_time": "2022-02-23T17:10:17.756Z"
   },
   {
    "duration": 19,
    "start_time": "2022-02-23T17:10:29.220Z"
   },
   {
    "duration": 1044,
    "start_time": "2022-02-23T17:11:19.372Z"
   },
   {
    "duration": 18,
    "start_time": "2022-02-23T17:12:06.179Z"
   },
   {
    "duration": 35,
    "start_time": "2022-02-23T17:12:14.525Z"
   },
   {
    "duration": 7,
    "start_time": "2022-02-23T17:12:28.802Z"
   },
   {
    "duration": 6,
    "start_time": "2022-02-23T17:12:29.443Z"
   },
   {
    "duration": 21,
    "start_time": "2022-02-23T17:12:30.529Z"
   },
   {
    "duration": 779,
    "start_time": "2022-02-23T17:12:53.821Z"
   },
   {
    "duration": 72,
    "start_time": "2022-02-23T17:12:54.602Z"
   },
   {
    "duration": 11,
    "start_time": "2022-02-23T17:12:54.677Z"
   },
   {
    "duration": 103,
    "start_time": "2022-02-23T17:12:54.691Z"
   },
   {
    "duration": 16,
    "start_time": "2022-02-23T17:12:54.797Z"
   },
   {
    "duration": 52,
    "start_time": "2022-02-23T17:12:54.827Z"
   },
   {
    "duration": 8,
    "start_time": "2022-02-23T17:12:54.882Z"
   },
   {
    "duration": 38,
    "start_time": "2022-02-23T17:12:54.894Z"
   },
   {
    "duration": 6,
    "start_time": "2022-02-23T17:12:54.935Z"
   },
   {
    "duration": 13,
    "start_time": "2022-02-23T17:12:54.943Z"
   },
   {
    "duration": 18,
    "start_time": "2022-02-23T17:12:54.959Z"
   },
   {
    "duration": 49,
    "start_time": "2022-02-23T17:12:54.980Z"
   },
   {
    "duration": 7,
    "start_time": "2022-02-23T17:13:28.000Z"
   },
   {
    "duration": 17,
    "start_time": "2022-02-23T17:14:13.248Z"
   },
   {
    "duration": 10,
    "start_time": "2022-02-23T17:40:38.582Z"
   },
   {
    "duration": 284,
    "start_time": "2022-02-23T17:42:06.932Z"
   },
   {
    "duration": 11,
    "start_time": "2022-02-23T17:42:11.420Z"
   },
   {
    "duration": 10,
    "start_time": "2022-02-23T17:46:45.616Z"
   },
   {
    "duration": 9,
    "start_time": "2022-02-23T17:47:24.184Z"
   },
   {
    "duration": 10,
    "start_time": "2022-02-23T17:47:29.240Z"
   },
   {
    "duration": 12,
    "start_time": "2022-02-23T17:55:13.003Z"
   },
   {
    "duration": 13,
    "start_time": "2022-02-23T17:55:57.299Z"
   },
   {
    "duration": 340,
    "start_time": "2022-02-23T17:55:57.859Z"
   },
   {
    "duration": 6,
    "start_time": "2022-02-23T17:56:10.035Z"
   },
   {
    "duration": 8,
    "start_time": "2022-02-23T17:56:16.915Z"
   },
   {
    "duration": 6,
    "start_time": "2022-02-23T17:56:29.234Z"
   },
   {
    "duration": 8,
    "start_time": "2022-02-23T17:56:49.939Z"
   },
   {
    "duration": 6,
    "start_time": "2022-02-23T17:57:06.035Z"
   },
   {
    "duration": 509,
    "start_time": "2022-02-23T18:05:05.318Z"
   },
   {
    "duration": 4848,
    "start_time": "2022-02-23T18:05:30.606Z"
   },
   {
    "duration": 17,
    "start_time": "2022-02-23T18:06:04.325Z"
   },
   {
    "duration": 806,
    "start_time": "2022-02-23T18:06:36.962Z"
   },
   {
    "duration": 85,
    "start_time": "2022-02-23T18:06:37.770Z"
   },
   {
    "duration": 11,
    "start_time": "2022-02-23T18:06:37.858Z"
   },
   {
    "duration": 105,
    "start_time": "2022-02-23T18:06:37.872Z"
   },
   {
    "duration": 16,
    "start_time": "2022-02-23T18:06:37.979Z"
   },
   {
    "duration": 76,
    "start_time": "2022-02-23T18:06:37.999Z"
   },
   {
    "duration": 5,
    "start_time": "2022-02-23T18:06:38.078Z"
   },
   {
    "duration": 46,
    "start_time": "2022-02-23T18:06:38.088Z"
   },
   {
    "duration": 7,
    "start_time": "2022-02-23T18:06:38.139Z"
   },
   {
    "duration": 16,
    "start_time": "2022-02-23T18:06:38.149Z"
   },
   {
    "duration": 37,
    "start_time": "2022-02-23T18:06:38.168Z"
   },
   {
    "duration": 90,
    "start_time": "2022-02-23T18:06:38.207Z"
   },
   {
    "duration": -132,
    "start_time": "2022-02-23T18:06:38.431Z"
   },
   {
    "duration": -142,
    "start_time": "2022-02-23T18:06:38.443Z"
   },
   {
    "duration": -146,
    "start_time": "2022-02-23T18:06:38.450Z"
   },
   {
    "duration": -151,
    "start_time": "2022-02-23T18:06:38.457Z"
   },
   {
    "duration": -153,
    "start_time": "2022-02-23T18:06:38.460Z"
   },
   {
    "duration": -155,
    "start_time": "2022-02-23T18:06:38.464Z"
   },
   {
    "duration": -158,
    "start_time": "2022-02-23T18:06:38.468Z"
   },
   {
    "duration": 3,
    "start_time": "2022-02-23T18:07:21.009Z"
   },
   {
    "duration": 79,
    "start_time": "2022-02-23T18:07:21.015Z"
   },
   {
    "duration": 10,
    "start_time": "2022-02-23T18:07:21.096Z"
   },
   {
    "duration": 73,
    "start_time": "2022-02-23T18:07:21.127Z"
   },
   {
    "duration": 33,
    "start_time": "2022-02-23T18:07:21.202Z"
   },
   {
    "duration": 41,
    "start_time": "2022-02-23T18:07:21.238Z"
   },
   {
    "duration": 6,
    "start_time": "2022-02-23T18:07:21.285Z"
   },
   {
    "duration": 45,
    "start_time": "2022-02-23T18:07:21.295Z"
   },
   {
    "duration": 10,
    "start_time": "2022-02-23T18:07:21.343Z"
   },
   {
    "duration": 13,
    "start_time": "2022-02-23T18:07:21.355Z"
   },
   {
    "duration": 64,
    "start_time": "2022-02-23T18:07:21.371Z"
   },
   {
    "duration": 10,
    "start_time": "2022-02-23T18:07:21.438Z"
   },
   {
    "duration": 13,
    "start_time": "2022-02-23T18:07:21.451Z"
   },
   {
    "duration": 6,
    "start_time": "2022-02-23T18:07:21.466Z"
   },
   {
    "duration": 9,
    "start_time": "2022-02-23T18:07:21.475Z"
   },
   {
    "duration": 10,
    "start_time": "2022-02-23T18:07:21.487Z"
   },
   {
    "duration": 661,
    "start_time": "2022-02-23T18:07:21.500Z"
   },
   {
    "duration": -140,
    "start_time": "2022-02-23T18:07:22.304Z"
   },
   {
    "duration": 3,
    "start_time": "2022-02-23T18:07:57.993Z"
   },
   {
    "duration": 83,
    "start_time": "2022-02-23T18:07:57.999Z"
   },
   {
    "duration": 9,
    "start_time": "2022-02-23T18:07:58.085Z"
   },
   {
    "duration": 105,
    "start_time": "2022-02-23T18:07:58.097Z"
   },
   {
    "duration": 35,
    "start_time": "2022-02-23T18:07:58.205Z"
   },
   {
    "duration": 40,
    "start_time": "2022-02-23T18:07:58.243Z"
   },
   {
    "duration": 7,
    "start_time": "2022-02-23T18:07:58.286Z"
   },
   {
    "duration": 20,
    "start_time": "2022-02-23T18:07:58.327Z"
   },
   {
    "duration": 14,
    "start_time": "2022-02-23T18:07:58.351Z"
   },
   {
    "duration": 13,
    "start_time": "2022-02-23T18:07:58.367Z"
   },
   {
    "duration": 64,
    "start_time": "2022-02-23T18:07:58.383Z"
   },
   {
    "duration": 10,
    "start_time": "2022-02-23T18:07:58.450Z"
   },
   {
    "duration": 11,
    "start_time": "2022-02-23T18:07:58.462Z"
   },
   {
    "duration": 7,
    "start_time": "2022-02-23T18:07:58.475Z"
   },
   {
    "duration": 7,
    "start_time": "2022-02-23T18:07:58.484Z"
   },
   {
    "duration": 34,
    "start_time": "2022-02-23T18:07:58.493Z"
   },
   {
    "duration": 5468,
    "start_time": "2022-02-23T18:07:58.530Z"
   },
   {
    "duration": 30,
    "start_time": "2022-02-23T18:08:04.000Z"
   },
   {
    "duration": 4897,
    "start_time": "2022-02-23T18:11:16.448Z"
   },
   {
    "duration": 12,
    "start_time": "2022-02-23T18:17:01.420Z"
   },
   {
    "duration": 10,
    "start_time": "2022-02-23T18:18:04.372Z"
   },
   {
    "duration": 9,
    "start_time": "2022-02-23T18:19:30.521Z"
   },
   {
    "duration": 6,
    "start_time": "2022-02-23T18:20:13.689Z"
   },
   {
    "duration": 158,
    "start_time": "2022-02-23T18:43:27.560Z"
   },
   {
    "duration": 13,
    "start_time": "2022-02-23T18:53:27.063Z"
   },
   {
    "duration": 316,
    "start_time": "2022-02-23T18:53:27.762Z"
   },
   {
    "duration": 8,
    "start_time": "2022-02-23T18:53:32.507Z"
   },
   {
    "duration": 20,
    "start_time": "2022-02-23T18:53:49.938Z"
   },
   {
    "duration": 252,
    "start_time": "2022-02-23T19:03:55.980Z"
   },
   {
    "duration": 7,
    "start_time": "2022-02-23T19:04:01.337Z"
   },
   {
    "duration": 46,
    "start_time": "2022-02-23T19:04:14.458Z"
   },
   {
    "duration": 8,
    "start_time": "2022-02-23T19:11:40.893Z"
   },
   {
    "duration": 8,
    "start_time": "2022-02-23T19:11:55.212Z"
   },
   {
    "duration": 7,
    "start_time": "2022-02-23T19:12:14.253Z"
   },
   {
    "duration": 282,
    "start_time": "2022-02-23T19:12:38.083Z"
   },
   {
    "duration": 9,
    "start_time": "2022-02-23T19:13:05.670Z"
   },
   {
    "duration": 7,
    "start_time": "2022-02-23T19:14:57.403Z"
   },
   {
    "duration": 8,
    "start_time": "2022-02-23T19:15:15.697Z"
   },
   {
    "duration": 12,
    "start_time": "2022-02-23T19:15:42.021Z"
   },
   {
    "duration": 6,
    "start_time": "2022-02-23T19:15:49.505Z"
   },
   {
    "duration": 1064,
    "start_time": "2022-02-23T19:17:27.489Z"
   },
   {
    "duration": 1842,
    "start_time": "2022-02-23T19:17:57.001Z"
   },
   {
    "duration": 11,
    "start_time": "2022-02-23T19:18:09.168Z"
   },
   {
    "duration": 261,
    "start_time": "2022-02-23T19:19:42.311Z"
   },
   {
    "duration": 13,
    "start_time": "2022-02-23T19:19:48.991Z"
   },
   {
    "duration": 6,
    "start_time": "2022-02-23T19:20:14.423Z"
   },
   {
    "duration": 8,
    "start_time": "2022-02-23T19:20:25.624Z"
   },
   {
    "duration": 7,
    "start_time": "2022-02-23T19:20:45.007Z"
   },
   {
    "duration": 6,
    "start_time": "2022-02-23T19:21:03.799Z"
   },
   {
    "duration": 7,
    "start_time": "2022-02-23T19:21:04.478Z"
   },
   {
    "duration": 7,
    "start_time": "2022-02-23T19:21:05.447Z"
   },
   {
    "duration": 11,
    "start_time": "2022-02-23T19:24:04.340Z"
   },
   {
    "duration": 7,
    "start_time": "2022-02-23T19:24:15.501Z"
   },
   {
    "duration": 7,
    "start_time": "2022-02-23T19:24:16.820Z"
   },
   {
    "duration": 7,
    "start_time": "2022-02-23T19:24:22.724Z"
   },
   {
    "duration": 7,
    "start_time": "2022-02-23T19:24:24.053Z"
   },
   {
    "duration": 7,
    "start_time": "2022-02-23T19:24:27.276Z"
   },
   {
    "duration": 9,
    "start_time": "2022-02-23T19:24:28.300Z"
   },
   {
    "duration": 6,
    "start_time": "2022-02-23T19:24:29.893Z"
   },
   {
    "duration": 825,
    "start_time": "2022-02-23T19:28:31.882Z"
   },
   {
    "duration": 7,
    "start_time": "2022-02-23T19:28:48.841Z"
   },
   {
    "duration": 9,
    "start_time": "2022-02-23T19:29:07.417Z"
   },
   {
    "duration": 850,
    "start_time": "2022-02-23T19:29:35.808Z"
   },
   {
    "duration": 80,
    "start_time": "2022-02-23T19:29:36.660Z"
   },
   {
    "duration": 12,
    "start_time": "2022-02-23T19:29:36.743Z"
   },
   {
    "duration": 102,
    "start_time": "2022-02-23T19:29:36.757Z"
   },
   {
    "duration": 14,
    "start_time": "2022-02-23T19:29:36.862Z"
   },
   {
    "duration": 66,
    "start_time": "2022-02-23T19:29:36.879Z"
   },
   {
    "duration": 6,
    "start_time": "2022-02-23T19:29:36.948Z"
   },
   {
    "duration": 23,
    "start_time": "2022-02-23T19:29:36.957Z"
   },
   {
    "duration": 7,
    "start_time": "2022-02-23T19:29:36.983Z"
   },
   {
    "duration": 42,
    "start_time": "2022-02-23T19:29:36.992Z"
   },
   {
    "duration": 16,
    "start_time": "2022-02-23T19:29:37.037Z"
   },
   {
    "duration": 9,
    "start_time": "2022-02-23T19:29:37.056Z"
   },
   {
    "duration": 10,
    "start_time": "2022-02-23T19:29:37.068Z"
   },
   {
    "duration": 5004,
    "start_time": "2022-02-23T19:29:37.081Z"
   },
   {
    "duration": 18,
    "start_time": "2022-02-23T19:29:42.088Z"
   },
   {
    "duration": 8,
    "start_time": "2022-02-23T19:29:42.127Z"
   },
   {
    "duration": 11,
    "start_time": "2022-02-23T19:29:42.138Z"
   },
   {
    "duration": 9,
    "start_time": "2022-02-23T19:29:42.151Z"
   },
   {
    "duration": 138,
    "start_time": "2022-02-23T19:29:42.163Z"
   },
   {
    "duration": 22,
    "start_time": "2022-02-23T19:29:42.304Z"
   },
   {
    "duration": 6,
    "start_time": "2022-02-23T19:29:42.329Z"
   },
   {
    "duration": 9,
    "start_time": "2022-02-23T19:29:42.339Z"
   },
   {
    "duration": 11,
    "start_time": "2022-02-23T19:29:42.351Z"
   },
   {
    "duration": 875,
    "start_time": "2022-02-23T19:29:57.565Z"
   },
   {
    "duration": 770,
    "start_time": "2022-02-23T19:30:12.256Z"
   },
   {
    "duration": 81,
    "start_time": "2022-02-23T19:30:13.029Z"
   },
   {
    "duration": 16,
    "start_time": "2022-02-23T19:30:13.115Z"
   },
   {
    "duration": 114,
    "start_time": "2022-02-23T19:30:13.134Z"
   },
   {
    "duration": 25,
    "start_time": "2022-02-23T19:30:13.251Z"
   },
   {
    "duration": 99,
    "start_time": "2022-02-23T19:30:13.279Z"
   },
   {
    "duration": 8,
    "start_time": "2022-02-23T19:30:13.381Z"
   },
   {
    "duration": 40,
    "start_time": "2022-02-23T19:30:13.395Z"
   },
   {
    "duration": 8,
    "start_time": "2022-02-23T19:30:13.440Z"
   },
   {
    "duration": 17,
    "start_time": "2022-02-23T19:30:13.450Z"
   },
   {
    "duration": 18,
    "start_time": "2022-02-23T19:30:13.471Z"
   },
   {
    "duration": 43,
    "start_time": "2022-02-23T19:30:13.491Z"
   },
   {
    "duration": 11,
    "start_time": "2022-02-23T19:30:13.537Z"
   },
   {
    "duration": 4919,
    "start_time": "2022-02-23T19:30:13.551Z"
   },
   {
    "duration": 16,
    "start_time": "2022-02-23T19:30:18.472Z"
   },
   {
    "duration": 19,
    "start_time": "2022-02-23T19:30:18.491Z"
   },
   {
    "duration": 20,
    "start_time": "2022-02-23T19:30:18.512Z"
   },
   {
    "duration": 27,
    "start_time": "2022-02-23T19:30:18.535Z"
   },
   {
    "duration": 122,
    "start_time": "2022-02-23T19:30:18.564Z"
   },
   {
    "duration": 12,
    "start_time": "2022-02-23T19:30:18.688Z"
   },
   {
    "duration": 27,
    "start_time": "2022-02-23T19:30:18.702Z"
   },
   {
    "duration": 880,
    "start_time": "2022-02-23T19:30:18.731Z"
   },
   {
    "duration": 12,
    "start_time": "2022-02-23T19:30:19.615Z"
   },
   {
    "duration": 880,
    "start_time": "2022-02-23T19:31:05.738Z"
   },
   {
    "duration": 6,
    "start_time": "2022-02-23T19:31:07.922Z"
   },
   {
    "duration": 886,
    "start_time": "2022-02-23T19:31:13.744Z"
   },
   {
    "duration": 6,
    "start_time": "2022-02-23T19:31:15.242Z"
   },
   {
    "duration": 1111,
    "start_time": "2022-02-23T19:31:22.816Z"
   },
   {
    "duration": 114,
    "start_time": "2022-02-23T19:31:23.931Z"
   },
   {
    "duration": 14,
    "start_time": "2022-02-23T19:31:24.050Z"
   },
   {
    "duration": 109,
    "start_time": "2022-02-23T19:31:24.068Z"
   },
   {
    "duration": 17,
    "start_time": "2022-02-23T19:31:24.180Z"
   },
   {
    "duration": 96,
    "start_time": "2022-02-23T19:31:24.200Z"
   },
   {
    "duration": 6,
    "start_time": "2022-02-23T19:31:24.300Z"
   },
   {
    "duration": 16,
    "start_time": "2022-02-23T19:31:24.330Z"
   },
   {
    "duration": 7,
    "start_time": "2022-02-23T19:31:24.349Z"
   },
   {
    "duration": 17,
    "start_time": "2022-02-23T19:31:24.359Z"
   },
   {
    "duration": 50,
    "start_time": "2022-02-23T19:31:24.379Z"
   },
   {
    "duration": 10,
    "start_time": "2022-02-23T19:31:24.432Z"
   },
   {
    "duration": 12,
    "start_time": "2022-02-23T19:31:24.445Z"
   },
   {
    "duration": 6632,
    "start_time": "2022-02-23T19:31:24.459Z"
   },
   {
    "duration": 37,
    "start_time": "2022-02-23T19:31:31.094Z"
   },
   {
    "duration": 9,
    "start_time": "2022-02-23T19:31:31.134Z"
   },
   {
    "duration": 22,
    "start_time": "2022-02-23T19:31:31.146Z"
   },
   {
    "duration": 17,
    "start_time": "2022-02-23T19:31:31.171Z"
   },
   {
    "duration": 160,
    "start_time": "2022-02-23T19:31:31.190Z"
   },
   {
    "duration": 13,
    "start_time": "2022-02-23T19:31:31.352Z"
   },
   {
    "duration": 7,
    "start_time": "2022-02-23T19:31:31.367Z"
   },
   {
    "duration": 944,
    "start_time": "2022-02-23T19:31:31.376Z"
   },
   {
    "duration": 7,
    "start_time": "2022-02-23T19:31:32.327Z"
   },
   {
    "duration": 4857,
    "start_time": "2022-02-23T19:32:09.376Z"
   },
   {
    "duration": 1223,
    "start_time": "2022-02-23T19:32:33.905Z"
   },
   {
    "duration": 728,
    "start_time": "2022-02-23T19:32:46.566Z"
   },
   {
    "duration": 72,
    "start_time": "2022-02-23T19:32:47.297Z"
   },
   {
    "duration": 9,
    "start_time": "2022-02-23T19:32:47.372Z"
   },
   {
    "duration": 98,
    "start_time": "2022-02-23T19:32:47.384Z"
   },
   {
    "duration": 16,
    "start_time": "2022-02-23T19:32:47.484Z"
   },
   {
    "duration": 74,
    "start_time": "2022-02-23T19:32:47.504Z"
   },
   {
    "duration": 7,
    "start_time": "2022-02-23T19:32:47.581Z"
   },
   {
    "duration": 43,
    "start_time": "2022-02-23T19:32:47.594Z"
   },
   {
    "duration": 9,
    "start_time": "2022-02-23T19:32:47.641Z"
   },
   {
    "duration": 12,
    "start_time": "2022-02-23T19:32:47.652Z"
   },
   {
    "duration": 61,
    "start_time": "2022-02-23T19:32:47.667Z"
   },
   {
    "duration": 10,
    "start_time": "2022-02-23T19:32:47.731Z"
   },
   {
    "duration": 10,
    "start_time": "2022-02-23T19:32:47.744Z"
   },
   {
    "duration": 7108,
    "start_time": "2022-02-23T19:32:47.756Z"
   },
   {
    "duration": 17,
    "start_time": "2022-02-23T19:32:54.867Z"
   },
   {
    "duration": 8,
    "start_time": "2022-02-23T19:32:54.887Z"
   },
   {
    "duration": 36,
    "start_time": "2022-02-23T19:32:54.898Z"
   },
   {
    "duration": 9,
    "start_time": "2022-02-23T19:32:54.937Z"
   },
   {
    "duration": 140,
    "start_time": "2022-02-23T19:32:54.948Z"
   },
   {
    "duration": 11,
    "start_time": "2022-02-23T19:32:55.090Z"
   },
   {
    "duration": 22,
    "start_time": "2022-02-23T19:32:55.104Z"
   },
   {
    "duration": 854,
    "start_time": "2022-02-23T19:32:55.128Z"
   },
   {
    "duration": 5,
    "start_time": "2022-02-23T19:34:20.726Z"
   },
   {
    "duration": 6,
    "start_time": "2022-02-23T19:34:55.030Z"
   },
   {
    "duration": 6,
    "start_time": "2022-02-23T19:35:08.863Z"
   },
   {
    "duration": 11,
    "start_time": "2022-02-23T19:35:47.862Z"
   },
   {
    "duration": 7,
    "start_time": "2022-02-23T19:50:50.577Z"
   },
   {
    "duration": 11,
    "start_time": "2022-02-23T19:51:04.256Z"
   },
   {
    "duration": 11,
    "start_time": "2022-02-23T19:51:54.208Z"
   },
   {
    "duration": 13,
    "start_time": "2022-02-23T19:53:03.487Z"
   },
   {
    "duration": 11,
    "start_time": "2022-02-23T19:53:49.110Z"
   },
   {
    "duration": 351,
    "start_time": "2022-02-23T19:54:28.357Z"
   },
   {
    "duration": 6,
    "start_time": "2022-02-23T19:54:47.022Z"
   },
   {
    "duration": 7,
    "start_time": "2022-02-23T19:54:49.077Z"
   },
   {
    "duration": 5,
    "start_time": "2022-02-23T19:54:51.262Z"
   },
   {
    "duration": 7,
    "start_time": "2022-02-23T19:54:52.518Z"
   },
   {
    "duration": 12,
    "start_time": "2022-02-23T20:02:23.170Z"
   },
   {
    "duration": 5,
    "start_time": "2022-02-23T20:02:27.185Z"
   },
   {
    "duration": 7,
    "start_time": "2022-02-23T20:02:29.009Z"
   },
   {
    "duration": 6,
    "start_time": "2022-02-23T20:02:36.472Z"
   },
   {
    "duration": 6,
    "start_time": "2022-02-23T20:02:37.696Z"
   },
   {
    "duration": 9,
    "start_time": "2022-02-23T20:03:42.560Z"
   },
   {
    "duration": 5,
    "start_time": "2022-02-23T20:03:52.057Z"
   },
   {
    "duration": 6,
    "start_time": "2022-02-23T20:07:49.997Z"
   },
   {
    "duration": 9,
    "start_time": "2022-02-23T20:07:55.789Z"
   },
   {
    "duration": 6,
    "start_time": "2022-02-23T20:08:15.541Z"
   },
   {
    "duration": 22,
    "start_time": "2022-02-23T20:09:46.356Z"
   },
   {
    "duration": 10,
    "start_time": "2022-02-23T20:10:22.884Z"
   },
   {
    "duration": 6,
    "start_time": "2022-02-23T20:10:23.515Z"
   },
   {
    "duration": 7,
    "start_time": "2022-02-23T20:10:24.156Z"
   },
   {
    "duration": 15,
    "start_time": "2022-02-23T20:10:24.940Z"
   },
   {
    "duration": 16,
    "start_time": "2022-02-23T20:12:48.171Z"
   },
   {
    "duration": 15,
    "start_time": "2022-02-23T20:13:18.489Z"
   },
   {
    "duration": 16,
    "start_time": "2022-02-23T20:13:20.187Z"
   },
   {
    "duration": 17,
    "start_time": "2022-02-23T20:13:58.106Z"
   },
   {
    "duration": 17,
    "start_time": "2022-02-23T20:14:38.819Z"
   },
   {
    "duration": 13,
    "start_time": "2022-02-23T20:17:04.704Z"
   },
   {
    "duration": 7,
    "start_time": "2022-02-23T20:17:17.969Z"
   },
   {
    "duration": 7,
    "start_time": "2022-02-23T20:17:42.704Z"
   },
   {
    "duration": 641,
    "start_time": "2022-02-23T20:30:27.527Z"
   },
   {
    "duration": 288,
    "start_time": "2022-02-23T20:30:39.559Z"
   },
   {
    "duration": 6,
    "start_time": "2022-02-23T20:30:49.208Z"
   },
   {
    "duration": 14,
    "start_time": "2022-02-23T20:30:55.110Z"
   },
   {
    "duration": 7,
    "start_time": "2022-02-23T20:35:52.468Z"
   },
   {
    "duration": 7,
    "start_time": "2022-02-23T20:36:05.900Z"
   },
   {
    "duration": 37,
    "start_time": "2022-02-23T20:38:42.922Z"
   },
   {
    "duration": 30,
    "start_time": "2022-02-23T20:41:34.823Z"
   },
   {
    "duration": 11,
    "start_time": "2022-02-23T21:00:20.441Z"
   },
   {
    "duration": 27,
    "start_time": "2022-02-23T21:00:42.896Z"
   },
   {
    "duration": 158,
    "start_time": "2022-02-23T21:01:04.944Z"
   },
   {
    "duration": 27,
    "start_time": "2022-02-23T21:01:12.936Z"
   },
   {
    "duration": 270,
    "start_time": "2022-02-23T21:02:13.936Z"
   },
   {
    "duration": 158,
    "start_time": "2022-02-23T21:02:26.686Z"
   },
   {
    "duration": 31,
    "start_time": "2022-02-23T21:02:32.999Z"
   },
   {
    "duration": 109,
    "start_time": "2022-02-23T21:04:53.789Z"
   },
   {
    "duration": 28,
    "start_time": "2022-02-23T21:04:59.861Z"
   },
   {
    "duration": 10,
    "start_time": "2022-02-23T21:08:04.507Z"
   },
   {
    "duration": 12,
    "start_time": "2022-02-23T21:08:16.331Z"
   },
   {
    "duration": 13,
    "start_time": "2022-02-23T21:08:37.387Z"
   },
   {
    "duration": 13,
    "start_time": "2022-02-23T21:08:59.683Z"
   },
   {
    "duration": 13,
    "start_time": "2022-02-23T21:09:00.858Z"
   },
   {
    "duration": 806,
    "start_time": "2022-02-23T21:09:12.299Z"
   },
   {
    "duration": 76,
    "start_time": "2022-02-23T21:09:13.108Z"
   },
   {
    "duration": 10,
    "start_time": "2022-02-23T21:09:13.187Z"
   },
   {
    "duration": 109,
    "start_time": "2022-02-23T21:09:13.200Z"
   },
   {
    "duration": 20,
    "start_time": "2022-02-23T21:09:13.311Z"
   },
   {
    "duration": 54,
    "start_time": "2022-02-23T21:09:13.334Z"
   },
   {
    "duration": 7,
    "start_time": "2022-02-23T21:09:13.391Z"
   },
   {
    "duration": 15,
    "start_time": "2022-02-23T21:09:13.430Z"
   },
   {
    "duration": 14,
    "start_time": "2022-02-23T21:09:13.449Z"
   },
   {
    "duration": 15,
    "start_time": "2022-02-23T21:09:13.466Z"
   },
   {
    "duration": 49,
    "start_time": "2022-02-23T21:09:13.484Z"
   },
   {
    "duration": 11,
    "start_time": "2022-02-23T21:09:13.536Z"
   },
   {
    "duration": 29,
    "start_time": "2022-02-23T21:09:13.550Z"
   },
   {
    "duration": 4957,
    "start_time": "2022-02-23T21:09:13.581Z"
   },
   {
    "duration": 15,
    "start_time": "2022-02-23T21:09:18.540Z"
   },
   {
    "duration": 8,
    "start_time": "2022-02-23T21:09:18.557Z"
   },
   {
    "duration": 9,
    "start_time": "2022-02-23T21:09:18.567Z"
   },
   {
    "duration": 9,
    "start_time": "2022-02-23T21:09:18.578Z"
   },
   {
    "duration": 120,
    "start_time": "2022-02-23T21:09:18.626Z"
   },
   {
    "duration": 11,
    "start_time": "2022-02-23T21:09:18.748Z"
   },
   {
    "duration": 7,
    "start_time": "2022-02-23T21:09:18.762Z"
   },
   {
    "duration": 16,
    "start_time": "2022-02-23T21:09:18.771Z"
   },
   {
    "duration": 41,
    "start_time": "2022-02-23T21:09:18.791Z"
   },
   {
    "duration": 15,
    "start_time": "2022-02-23T21:09:18.835Z"
   },
   {
    "duration": 21,
    "start_time": "2022-02-23T21:09:18.853Z"
   },
   {
    "duration": 7,
    "start_time": "2022-02-23T21:09:18.877Z"
   },
   {
    "duration": 44,
    "start_time": "2022-02-23T21:09:18.887Z"
   },
   {
    "duration": 113,
    "start_time": "2022-02-23T21:09:18.934Z"
   },
   {
    "duration": -163,
    "start_time": "2022-02-23T21:09:19.213Z"
   },
   {
    "duration": -167,
    "start_time": "2022-02-23T21:09:19.219Z"
   },
   {
    "duration": -169,
    "start_time": "2022-02-23T21:09:19.222Z"
   },
   {
    "duration": 29,
    "start_time": "2022-02-23T21:09:34.610Z"
   },
   {
    "duration": 11,
    "start_time": "2022-02-23T21:09:36.363Z"
   },
   {
    "duration": 14,
    "start_time": "2022-02-23T21:09:37.259Z"
   },
   {
    "duration": 4,
    "start_time": "2022-02-23T21:12:21.937Z"
   },
   {
    "duration": 8,
    "start_time": "2022-02-23T21:13:54.872Z"
   },
   {
    "duration": 9,
    "start_time": "2022-02-23T21:14:03.359Z"
   },
   {
    "duration": 799,
    "start_time": "2022-02-23T21:26:55.389Z"
   },
   {
    "duration": 77,
    "start_time": "2022-02-23T21:26:56.191Z"
   },
   {
    "duration": 12,
    "start_time": "2022-02-23T21:26:56.271Z"
   },
   {
    "duration": 106,
    "start_time": "2022-02-23T21:26:56.286Z"
   },
   {
    "duration": 16,
    "start_time": "2022-02-23T21:26:56.395Z"
   },
   {
    "duration": 49,
    "start_time": "2022-02-23T21:26:56.426Z"
   },
   {
    "duration": 6,
    "start_time": "2022-02-23T21:26:56.478Z"
   },
   {
    "duration": 41,
    "start_time": "2022-02-23T21:26:56.490Z"
   },
   {
    "duration": 8,
    "start_time": "2022-02-23T21:26:56.534Z"
   },
   {
    "duration": 11,
    "start_time": "2022-02-23T21:26:56.545Z"
   },
   {
    "duration": 19,
    "start_time": "2022-02-23T21:26:56.559Z"
   },
   {
    "duration": 50,
    "start_time": "2022-02-23T21:26:56.581Z"
   },
   {
    "duration": 10,
    "start_time": "2022-02-23T21:26:56.633Z"
   },
   {
    "duration": 5055,
    "start_time": "2022-02-23T21:26:56.646Z"
   },
   {
    "duration": 30,
    "start_time": "2022-02-23T21:27:01.704Z"
   },
   {
    "duration": 8,
    "start_time": "2022-02-23T21:27:01.736Z"
   },
   {
    "duration": 13,
    "start_time": "2022-02-23T21:27:01.747Z"
   },
   {
    "duration": 35,
    "start_time": "2022-02-23T21:27:01.763Z"
   },
   {
    "duration": 125,
    "start_time": "2022-02-23T21:27:01.801Z"
   },
   {
    "duration": 13,
    "start_time": "2022-02-23T21:27:01.929Z"
   },
   {
    "duration": 9,
    "start_time": "2022-02-23T21:27:01.944Z"
   },
   {
    "duration": 14,
    "start_time": "2022-02-23T21:27:01.955Z"
   },
   {
    "duration": 16,
    "start_time": "2022-02-23T21:27:01.974Z"
   },
   {
    "duration": 43,
    "start_time": "2022-02-23T21:27:01.992Z"
   },
   {
    "duration": 20,
    "start_time": "2022-02-23T21:27:02.037Z"
   },
   {
    "duration": 6,
    "start_time": "2022-02-23T21:27:02.060Z"
   },
   {
    "duration": 10,
    "start_time": "2022-02-23T21:27:02.069Z"
   },
   {
    "duration": 67,
    "start_time": "2022-02-23T21:27:02.082Z"
   },
   {
    "duration": 13,
    "start_time": "2022-02-23T21:27:02.152Z"
   },
   {
    "duration": 20,
    "start_time": "2022-02-23T21:27:02.167Z"
   },
   {
    "duration": 57,
    "start_time": "2022-02-23T21:27:02.189Z"
   },
   {
    "duration": 5,
    "start_time": "2022-02-23T21:36:54.183Z"
   },
   {
    "duration": 2329,
    "start_time": "2022-02-23T21:36:54.910Z"
   },
   {
    "duration": 4,
    "start_time": "2022-02-23T21:40:07.548Z"
   },
   {
    "duration": 1282,
    "start_time": "2022-02-23T21:40:08.220Z"
   },
   {
    "duration": 1264,
    "start_time": "2022-02-23T21:40:41.915Z"
   },
   {
    "duration": 4,
    "start_time": "2022-02-23T21:40:59.019Z"
   },
   {
    "duration": 1401,
    "start_time": "2022-02-23T21:41:00.428Z"
   },
   {
    "duration": 1223,
    "start_time": "2022-02-23T21:42:08.747Z"
   },
   {
    "duration": 1321,
    "start_time": "2022-02-23T21:57:09.858Z"
   },
   {
    "duration": 787,
    "start_time": "2022-02-23T21:59:47.327Z"
   },
   {
    "duration": 82,
    "start_time": "2022-02-23T21:59:48.117Z"
   },
   {
    "duration": 11,
    "start_time": "2022-02-23T21:59:48.202Z"
   },
   {
    "duration": 85,
    "start_time": "2022-02-23T21:59:48.227Z"
   },
   {
    "duration": 26,
    "start_time": "2022-02-23T21:59:48.315Z"
   },
   {
    "duration": 52,
    "start_time": "2022-02-23T21:59:48.344Z"
   },
   {
    "duration": 31,
    "start_time": "2022-02-23T21:59:48.398Z"
   },
   {
    "duration": 18,
    "start_time": "2022-02-23T21:59:48.435Z"
   },
   {
    "duration": 8,
    "start_time": "2022-02-23T21:59:48.457Z"
   },
   {
    "duration": 62,
    "start_time": "2022-02-23T21:59:48.467Z"
   },
   {
    "duration": 24,
    "start_time": "2022-02-23T21:59:48.532Z"
   },
   {
    "duration": 9,
    "start_time": "2022-02-23T21:59:48.559Z"
   },
   {
    "duration": 10,
    "start_time": "2022-02-23T21:59:48.570Z"
   },
   {
    "duration": 5046,
    "start_time": "2022-02-23T21:59:48.582Z"
   },
   {
    "duration": 15,
    "start_time": "2022-02-23T21:59:53.631Z"
   },
   {
    "duration": 29,
    "start_time": "2022-02-23T21:59:53.649Z"
   },
   {
    "duration": 13,
    "start_time": "2022-02-23T21:59:53.680Z"
   },
   {
    "duration": 20,
    "start_time": "2022-02-23T21:59:53.695Z"
   },
   {
    "duration": 117,
    "start_time": "2022-02-23T21:59:53.718Z"
   },
   {
    "duration": 10,
    "start_time": "2022-02-23T21:59:53.838Z"
   },
   {
    "duration": 7,
    "start_time": "2022-02-23T21:59:53.851Z"
   },
   {
    "duration": 10,
    "start_time": "2022-02-23T21:59:53.860Z"
   },
   {
    "duration": 20,
    "start_time": "2022-02-23T21:59:53.875Z"
   },
   {
    "duration": 38,
    "start_time": "2022-02-23T21:59:53.897Z"
   },
   {
    "duration": 20,
    "start_time": "2022-02-23T21:59:53.937Z"
   },
   {
    "duration": 5,
    "start_time": "2022-02-23T21:59:53.960Z"
   },
   {
    "duration": 8,
    "start_time": "2022-02-23T21:59:53.967Z"
   },
   {
    "duration": 69,
    "start_time": "2022-02-23T21:59:53.978Z"
   },
   {
    "duration": 3,
    "start_time": "2022-02-23T21:59:54.050Z"
   },
   {
    "duration": 1826,
    "start_time": "2022-02-23T21:59:54.056Z"
   },
   {
    "duration": 3,
    "start_time": "2022-02-24T16:47:01.185Z"
   },
   {
    "duration": 328,
    "start_time": "2022-02-24T16:47:01.977Z"
   },
   {
    "duration": 643,
    "start_time": "2022-02-24T16:47:10.340Z"
   },
   {
    "duration": 60,
    "start_time": "2022-02-24T16:47:10.985Z"
   },
   {
    "duration": 7,
    "start_time": "2022-02-24T16:47:11.047Z"
   },
   {
    "duration": 57,
    "start_time": "2022-02-24T16:47:11.056Z"
   },
   {
    "duration": 22,
    "start_time": "2022-02-24T16:47:11.115Z"
   },
   {
    "duration": 29,
    "start_time": "2022-02-24T16:47:11.138Z"
   },
   {
    "duration": 3,
    "start_time": "2022-02-24T16:47:11.168Z"
   },
   {
    "duration": 8,
    "start_time": "2022-02-24T16:47:11.174Z"
   },
   {
    "duration": 4,
    "start_time": "2022-02-24T16:47:11.183Z"
   },
   {
    "duration": 7,
    "start_time": "2022-02-24T16:47:11.189Z"
   },
   {
    "duration": 39,
    "start_time": "2022-02-24T16:47:11.197Z"
   },
   {
    "duration": 6,
    "start_time": "2022-02-24T16:47:11.237Z"
   },
   {
    "duration": 6,
    "start_time": "2022-02-24T16:47:11.244Z"
   },
   {
    "duration": 2618,
    "start_time": "2022-02-24T16:47:11.251Z"
   },
   {
    "duration": 9,
    "start_time": "2022-02-24T16:47:13.871Z"
   },
   {
    "duration": 5,
    "start_time": "2022-02-24T16:47:13.882Z"
   },
   {
    "duration": 6,
    "start_time": "2022-02-24T16:47:13.888Z"
   },
   {
    "duration": 6,
    "start_time": "2022-02-24T16:47:13.895Z"
   },
   {
    "duration": 89,
    "start_time": "2022-02-24T16:47:13.903Z"
   },
   {
    "duration": 8,
    "start_time": "2022-02-24T16:47:13.994Z"
   },
   {
    "duration": 4,
    "start_time": "2022-02-24T16:47:14.003Z"
   },
   {
    "duration": 23,
    "start_time": "2022-02-24T16:47:14.009Z"
   },
   {
    "duration": 11,
    "start_time": "2022-02-24T16:47:14.034Z"
   },
   {
    "duration": 10,
    "start_time": "2022-02-24T16:47:14.047Z"
   },
   {
    "duration": 14,
    "start_time": "2022-02-24T16:47:14.058Z"
   },
   {
    "duration": 4,
    "start_time": "2022-02-24T16:47:14.073Z"
   },
   {
    "duration": 7,
    "start_time": "2022-02-24T16:47:14.079Z"
   },
   {
    "duration": 45,
    "start_time": "2022-02-24T16:47:14.087Z"
   },
   {
    "duration": 3,
    "start_time": "2022-02-24T16:47:14.133Z"
   },
   {
    "duration": 1774,
    "start_time": "2022-02-24T16:47:14.137Z"
   },
   {
    "duration": 3,
    "start_time": "2022-02-24T16:48:11.308Z"
   },
   {
    "duration": 327,
    "start_time": "2022-02-24T16:49:02.348Z"
   },
   {
    "duration": 304,
    "start_time": "2022-02-24T16:49:13.508Z"
   },
   {
    "duration": 6,
    "start_time": "2022-02-24T16:50:12.332Z"
   },
   {
    "duration": 5,
    "start_time": "2022-02-24T16:50:52.283Z"
   },
   {
    "duration": 3,
    "start_time": "2022-02-24T16:51:05.539Z"
   },
   {
    "duration": 1631,
    "start_time": "2022-02-24T16:51:06.251Z"
   },
   {
    "duration": 1180,
    "start_time": "2022-02-24T16:51:37.604Z"
   },
   {
    "duration": 2,
    "start_time": "2022-02-24T17:06:06.867Z"
   },
   {
    "duration": 362,
    "start_time": "2022-02-24T17:07:09.722Z"
   },
   {
    "duration": 942,
    "start_time": "2022-02-24T17:07:41.032Z"
   },
   {
    "duration": 297,
    "start_time": "2022-02-24T17:07:58.888Z"
   },
   {
    "duration": 951,
    "start_time": "2022-02-24T17:08:21.294Z"
   },
   {
    "duration": 934,
    "start_time": "2022-02-24T17:09:27.733Z"
   },
   {
    "duration": 3,
    "start_time": "2022-02-24T17:10:04.948Z"
   },
   {
    "duration": 1446,
    "start_time": "2022-02-24T17:10:08.644Z"
   },
   {
    "duration": 4,
    "start_time": "2022-02-24T17:11:45.275Z"
   },
   {
    "duration": 1723,
    "start_time": "2022-02-24T17:12:08.619Z"
   },
   {
    "duration": 3,
    "start_time": "2022-02-24T17:12:14.627Z"
   },
   {
    "duration": 3,
    "start_time": "2022-02-24T17:12:15.315Z"
   },
   {
    "duration": 1464,
    "start_time": "2022-02-24T17:12:15.995Z"
   },
   {
    "duration": 3,
    "start_time": "2022-02-24T17:12:38.346Z"
   },
   {
    "duration": 296,
    "start_time": "2022-02-24T17:12:39.034Z"
   },
   {
    "duration": 4,
    "start_time": "2022-02-24T17:12:58.954Z"
   },
   {
    "duration": 1586,
    "start_time": "2022-02-24T17:13:00.218Z"
   },
   {
    "duration": 3,
    "start_time": "2022-02-24T17:13:47.154Z"
   },
   {
    "duration": 448,
    "start_time": "2022-02-24T17:13:51.090Z"
   },
   {
    "duration": 301,
    "start_time": "2022-02-24T17:13:57.082Z"
   },
   {
    "duration": 3,
    "start_time": "2022-02-24T17:14:05.394Z"
   },
   {
    "duration": 2,
    "start_time": "2022-02-24T17:14:06.834Z"
   },
   {
    "duration": 302,
    "start_time": "2022-02-24T17:14:07.354Z"
   },
   {
    "duration": 319,
    "start_time": "2022-02-24T17:17:35.192Z"
   },
   {
    "duration": 329,
    "start_time": "2022-02-24T17:17:57.656Z"
   },
   {
    "duration": 330,
    "start_time": "2022-02-24T17:18:15.128Z"
   },
   {
    "duration": 17,
    "start_time": "2022-02-24T17:32:00.310Z"
   },
   {
    "duration": 4,
    "start_time": "2022-02-24T17:33:15.805Z"
   },
   {
    "duration": 319,
    "start_time": "2022-02-24T17:37:28.211Z"
   },
   {
    "duration": 4,
    "start_time": "2022-02-24T17:37:43.859Z"
   },
   {
    "duration": 12,
    "start_time": "2022-02-24T17:38:53.753Z"
   },
   {
    "duration": 8,
    "start_time": "2022-02-24T17:48:47.268Z"
   },
   {
    "duration": 4,
    "start_time": "2022-02-24T17:49:52.491Z"
   },
   {
    "duration": 11,
    "start_time": "2022-02-24T17:49:53.035Z"
   },
   {
    "duration": 5,
    "start_time": "2022-02-24T18:05:40.055Z"
   },
   {
    "duration": 11,
    "start_time": "2022-02-24T18:05:51.872Z"
   },
   {
    "duration": 7,
    "start_time": "2022-02-24T18:06:21.751Z"
   },
   {
    "duration": 12,
    "start_time": "2022-02-24T18:20:08.406Z"
   },
   {
    "duration": 440,
    "start_time": "2022-02-24T18:26:54.000Z"
   },
   {
    "duration": 543,
    "start_time": "2022-02-24T18:27:18.976Z"
   },
   {
    "duration": 21,
    "start_time": "2022-02-24T18:27:38.135Z"
   },
   {
    "duration": 517,
    "start_time": "2022-02-24T18:30:12.987Z"
   },
   {
    "duration": 58,
    "start_time": "2022-02-24T18:30:13.505Z"
   },
   {
    "duration": 7,
    "start_time": "2022-02-24T18:30:13.564Z"
   },
   {
    "duration": 63,
    "start_time": "2022-02-24T18:30:13.573Z"
   },
   {
    "duration": 10,
    "start_time": "2022-02-24T18:30:13.638Z"
   },
   {
    "duration": 29,
    "start_time": "2022-02-24T18:30:13.649Z"
   },
   {
    "duration": 5,
    "start_time": "2022-02-24T18:30:13.679Z"
   },
   {
    "duration": 8,
    "start_time": "2022-02-24T18:30:13.687Z"
   },
   {
    "duration": 35,
    "start_time": "2022-02-24T18:30:13.697Z"
   },
   {
    "duration": 8,
    "start_time": "2022-02-24T18:30:13.733Z"
   },
   {
    "duration": 11,
    "start_time": "2022-02-24T18:30:13.742Z"
   },
   {
    "duration": 6,
    "start_time": "2022-02-24T18:30:13.754Z"
   },
   {
    "duration": 6,
    "start_time": "2022-02-24T18:30:13.761Z"
   },
   {
    "duration": 2346,
    "start_time": "2022-02-24T18:30:13.769Z"
   },
   {
    "duration": 17,
    "start_time": "2022-02-24T18:30:16.117Z"
   },
   {
    "duration": 6,
    "start_time": "2022-02-24T18:30:16.136Z"
   },
   {
    "duration": 26,
    "start_time": "2022-02-24T18:30:16.143Z"
   },
   {
    "duration": 43,
    "start_time": "2022-02-24T18:30:16.171Z"
   },
   {
    "duration": 76,
    "start_time": "2022-02-24T18:30:16.216Z"
   },
   {
    "duration": 7,
    "start_time": "2022-02-24T18:30:16.293Z"
   },
   {
    "duration": 16,
    "start_time": "2022-02-24T18:30:16.301Z"
   },
   {
    "duration": 11,
    "start_time": "2022-02-24T18:30:16.318Z"
   },
   {
    "duration": 27,
    "start_time": "2022-02-24T18:30:16.332Z"
   },
   {
    "duration": 21,
    "start_time": "2022-02-24T18:30:16.361Z"
   },
   {
    "duration": 12,
    "start_time": "2022-02-24T18:30:16.383Z"
   },
   {
    "duration": 4,
    "start_time": "2022-02-24T18:30:16.396Z"
   },
   {
    "duration": 17,
    "start_time": "2022-02-24T18:30:16.402Z"
   },
   {
    "duration": 33,
    "start_time": "2022-02-24T18:30:16.420Z"
   },
   {
    "duration": 14,
    "start_time": "2022-02-24T18:30:16.455Z"
   },
   {
    "duration": 32,
    "start_time": "2022-02-24T18:30:16.470Z"
   },
   {
    "duration": 29,
    "start_time": "2022-02-24T18:30:16.503Z"
   },
   {
    "duration": 4,
    "start_time": "2022-02-24T18:30:16.533Z"
   },
   {
    "duration": 27,
    "start_time": "2022-02-24T18:30:16.538Z"
   },
   {
    "duration": 18,
    "start_time": "2022-02-24T18:30:16.566Z"
   },
   {
    "duration": 10,
    "start_time": "2022-02-24T18:30:16.585Z"
   },
   {
    "duration": 21,
    "start_time": "2022-02-24T18:30:16.596Z"
   },
   {
    "duration": 527,
    "start_time": "2022-02-24T18:30:16.618Z"
   },
   {
    "duration": 21,
    "start_time": "2022-02-24T18:30:17.147Z"
   },
   {
    "duration": 533,
    "start_time": "2022-02-24T18:44:47.667Z"
   },
   {
    "duration": 5,
    "start_time": "2022-02-24T18:45:08.086Z"
   },
   {
    "duration": 21,
    "start_time": "2022-02-24T18:45:15.941Z"
   },
   {
    "duration": 299,
    "start_time": "2022-02-24T18:56:23.264Z"
   },
   {
    "duration": 3,
    "start_time": "2022-02-24T18:57:34.094Z"
   },
   {
    "duration": 213,
    "start_time": "2022-02-24T18:57:34.791Z"
   },
   {
    "duration": 213,
    "start_time": "2022-02-24T18:57:47.023Z"
   },
   {
    "duration": 183,
    "start_time": "2022-02-24T18:58:03.551Z"
   },
   {
    "duration": 212,
    "start_time": "2022-02-24T18:58:28.919Z"
   },
   {
    "duration": 318,
    "start_time": "2022-02-24T19:17:46.712Z"
   },
   {
    "duration": 598,
    "start_time": "2022-02-24T19:18:08.831Z"
   },
   {
    "duration": 313,
    "start_time": "2022-02-24T19:18:40.598Z"
   },
   {
    "duration": 212,
    "start_time": "2022-02-24T19:19:46.022Z"
   },
   {
    "duration": 398,
    "start_time": "2022-02-24T19:23:00.852Z"
   },
   {
    "duration": 8,
    "start_time": "2022-02-24T19:24:15.045Z"
   },
   {
    "duration": 9,
    "start_time": "2022-02-24T19:24:55.594Z"
   },
   {
    "duration": 208,
    "start_time": "2022-02-24T19:25:23.291Z"
   },
   {
    "duration": 228,
    "start_time": "2022-02-24T19:27:23.521Z"
   },
   {
    "duration": 127,
    "start_time": "2022-02-24T19:27:42.089Z"
   },
   {
    "duration": 811,
    "start_time": "2022-02-24T19:27:46.585Z"
   },
   {
    "duration": 197,
    "start_time": "2022-02-24T19:27:52.625Z"
   },
   {
    "duration": 109,
    "start_time": "2022-02-24T19:29:17.960Z"
   },
   {
    "duration": 227,
    "start_time": "2022-02-24T19:29:23.376Z"
   },
   {
    "duration": 7,
    "start_time": "2022-02-24T19:32:55.781Z"
   },
   {
    "duration": 10,
    "start_time": "2022-02-24T19:33:29.445Z"
   },
   {
    "duration": 5,
    "start_time": "2022-02-24T19:33:38.365Z"
   },
   {
    "duration": 4,
    "start_time": "2022-02-24T19:35:29.412Z"
   },
   {
    "duration": 196,
    "start_time": "2022-02-24T19:39:40.041Z"
   },
   {
    "duration": 205,
    "start_time": "2022-02-24T19:40:12.505Z"
   },
   {
    "duration": 214,
    "start_time": "2022-02-24T19:40:22.897Z"
   },
   {
    "duration": 115,
    "start_time": "2022-02-24T19:41:20.572Z"
   },
   {
    "duration": 213,
    "start_time": "2022-02-24T19:44:22.950Z"
   },
   {
    "duration": 216,
    "start_time": "2022-02-24T19:44:36.526Z"
   },
   {
    "duration": 176,
    "start_time": "2022-02-24T19:44:55.182Z"
   },
   {
    "duration": 284,
    "start_time": "2022-02-24T19:45:07.478Z"
   },
   {
    "duration": 180,
    "start_time": "2022-02-24T19:45:14.301Z"
   },
   {
    "duration": 191,
    "start_time": "2022-02-24T19:45:22.334Z"
   },
   {
    "duration": 138,
    "start_time": "2022-02-24T20:24:32.658Z"
   },
   {
    "duration": 182,
    "start_time": "2022-02-24T20:32:16.332Z"
   },
   {
    "duration": 333,
    "start_time": "2022-02-24T20:32:53.619Z"
   },
   {
    "duration": 334,
    "start_time": "2022-02-24T20:33:16.484Z"
   },
   {
    "duration": 313,
    "start_time": "2022-02-24T20:33:33.779Z"
   },
   {
    "duration": 309,
    "start_time": "2022-02-24T20:33:57.843Z"
   },
   {
    "duration": 404,
    "start_time": "2022-02-24T20:34:38.867Z"
   },
   {
    "duration": 310,
    "start_time": "2022-02-24T20:34:50.587Z"
   },
   {
    "duration": 6,
    "start_time": "2022-02-24T20:35:44.122Z"
   },
   {
    "duration": 5,
    "start_time": "2022-02-24T20:35:45.393Z"
   },
   {
    "duration": 317,
    "start_time": "2022-02-24T20:36:27.281Z"
   },
   {
    "duration": 301,
    "start_time": "2022-02-24T20:39:19.671Z"
   },
   {
    "duration": 109,
    "start_time": "2022-02-24T20:39:30.504Z"
   },
   {
    "duration": 8,
    "start_time": "2022-02-24T20:39:35.087Z"
   },
   {
    "duration": 8,
    "start_time": "2022-02-24T20:54:12.212Z"
   },
   {
    "duration": 5,
    "start_time": "2022-02-24T20:54:41.244Z"
   },
   {
    "duration": 7,
    "start_time": "2022-02-24T20:54:50.948Z"
   },
   {
    "duration": 8,
    "start_time": "2022-02-24T21:02:15.560Z"
   },
   {
    "duration": 9,
    "start_time": "2022-02-24T21:02:45.247Z"
   },
   {
    "duration": 5,
    "start_time": "2022-02-24T21:05:59.900Z"
   },
   {
    "duration": 5,
    "start_time": "2022-02-24T21:11:06.122Z"
   },
   {
    "duration": 7,
    "start_time": "2022-02-24T21:12:11.401Z"
   },
   {
    "duration": 5810,
    "start_time": "2022-02-24T21:15:20.215Z"
   },
   {
    "duration": 9479,
    "start_time": "2022-02-24T21:16:58.886Z"
   },
   {
    "duration": 8,
    "start_time": "2022-02-24T21:18:52.955Z"
   },
   {
    "duration": 4,
    "start_time": "2022-02-24T21:23:07.764Z"
   },
   {
    "duration": 6,
    "start_time": "2022-02-24T21:24:34.072Z"
   },
   {
    "duration": 4,
    "start_time": "2022-02-24T21:28:42.366Z"
   },
   {
    "duration": 6,
    "start_time": "2022-02-24T21:36:16.000Z"
   },
   {
    "duration": 10,
    "start_time": "2022-02-24T21:36:33.105Z"
   },
   {
    "duration": 5,
    "start_time": "2022-02-24T21:37:36.216Z"
   },
   {
    "duration": 5,
    "start_time": "2022-02-24T21:41:40.853Z"
   },
   {
    "duration": 3,
    "start_time": "2022-02-24T21:44:21.371Z"
   },
   {
    "duration": 47,
    "start_time": "2022-02-24T21:44:50.720Z"
   },
   {
    "duration": 5,
    "start_time": "2022-02-24T21:45:03.266Z"
   },
   {
    "duration": 6,
    "start_time": "2022-02-24T21:45:26.259Z"
   },
   {
    "duration": 3,
    "start_time": "2022-02-24T21:45:38.210Z"
   },
   {
    "duration": 1535,
    "start_time": "2022-02-24T21:45:39.690Z"
   },
   {
    "duration": 3,
    "start_time": "2022-02-24T21:45:50.026Z"
   },
   {
    "duration": 1504,
    "start_time": "2022-02-24T21:45:52.587Z"
   },
   {
    "duration": 3,
    "start_time": "2022-02-24T21:46:38.002Z"
   },
   {
    "duration": 1515,
    "start_time": "2022-02-24T21:46:41.611Z"
   },
   {
    "duration": 7,
    "start_time": "2022-02-24T21:46:56.305Z"
   },
   {
    "duration": 3,
    "start_time": "2022-02-24T21:47:05.737Z"
   },
   {
    "duration": 2031,
    "start_time": "2022-02-24T21:47:06.809Z"
   },
   {
    "duration": 4,
    "start_time": "2022-02-24T22:02:29.910Z"
   },
   {
    "duration": 318,
    "start_time": "2022-02-24T22:02:30.823Z"
   },
   {
    "duration": 8,
    "start_time": "2022-02-24T22:04:12.900Z"
   },
   {
    "duration": 5,
    "start_time": "2022-02-24T22:04:25.596Z"
   },
   {
    "duration": 292,
    "start_time": "2022-02-24T22:04:56.629Z"
   },
   {
    "duration": 607,
    "start_time": "2022-02-24T22:05:10.805Z"
   },
   {
    "duration": 56,
    "start_time": "2022-02-24T22:05:11.414Z"
   },
   {
    "duration": 6,
    "start_time": "2022-02-24T22:05:11.472Z"
   },
   {
    "duration": 68,
    "start_time": "2022-02-24T22:05:11.480Z"
   },
   {
    "duration": 10,
    "start_time": "2022-02-24T22:05:11.549Z"
   },
   {
    "duration": 36,
    "start_time": "2022-02-24T22:05:11.561Z"
   },
   {
    "duration": 3,
    "start_time": "2022-02-24T22:05:11.599Z"
   },
   {
    "duration": 19,
    "start_time": "2022-02-24T22:05:11.605Z"
   },
   {
    "duration": 25,
    "start_time": "2022-02-24T22:05:11.626Z"
   },
   {
    "duration": 24,
    "start_time": "2022-02-24T22:05:11.653Z"
   },
   {
    "duration": 24,
    "start_time": "2022-02-24T22:05:11.679Z"
   },
   {
    "duration": 8,
    "start_time": "2022-02-24T22:05:11.705Z"
   },
   {
    "duration": 22,
    "start_time": "2022-02-24T22:05:11.714Z"
   },
   {
    "duration": 2275,
    "start_time": "2022-02-24T22:05:11.738Z"
   },
   {
    "duration": 18,
    "start_time": "2022-02-24T22:05:14.015Z"
   },
   {
    "duration": 6,
    "start_time": "2022-02-24T22:05:14.034Z"
   },
   {
    "duration": 26,
    "start_time": "2022-02-24T22:05:14.042Z"
   },
   {
    "duration": 7,
    "start_time": "2022-02-24T22:05:14.069Z"
   },
   {
    "duration": 59,
    "start_time": "2022-02-24T22:05:14.078Z"
   },
   {
    "duration": 7,
    "start_time": "2022-02-24T22:05:14.138Z"
   },
   {
    "duration": 4,
    "start_time": "2022-02-24T22:05:14.146Z"
   },
   {
    "duration": 5,
    "start_time": "2022-02-24T22:05:14.152Z"
   },
   {
    "duration": 9,
    "start_time": "2022-02-24T22:05:14.160Z"
   },
   {
    "duration": 8,
    "start_time": "2022-02-24T22:05:14.171Z"
   },
   {
    "duration": 11,
    "start_time": "2022-02-24T22:05:14.181Z"
   },
   {
    "duration": 37,
    "start_time": "2022-02-24T22:05:14.194Z"
   },
   {
    "duration": 4,
    "start_time": "2022-02-24T22:05:14.233Z"
   },
   {
    "duration": 18,
    "start_time": "2022-02-24T22:05:14.239Z"
   },
   {
    "duration": 2,
    "start_time": "2022-02-24T22:05:14.259Z"
   },
   {
    "duration": 8,
    "start_time": "2022-02-24T22:05:14.262Z"
   },
   {
    "duration": 22,
    "start_time": "2022-02-24T22:05:14.272Z"
   },
   {
    "duration": 4,
    "start_time": "2022-02-24T22:05:14.295Z"
   },
   {
    "duration": 11,
    "start_time": "2022-02-24T22:05:14.300Z"
   },
   {
    "duration": 25,
    "start_time": "2022-02-24T22:05:14.313Z"
   },
   {
    "duration": 7,
    "start_time": "2022-02-24T22:05:14.339Z"
   },
   {
    "duration": 4,
    "start_time": "2022-02-24T22:05:14.348Z"
   },
   {
    "duration": 6,
    "start_time": "2022-02-24T22:05:14.354Z"
   },
   {
    "duration": 9,
    "start_time": "2022-02-24T22:05:14.361Z"
   },
   {
    "duration": 7,
    "start_time": "2022-02-24T22:05:14.372Z"
   },
   {
    "duration": 352,
    "start_time": "2022-02-24T22:05:14.381Z"
   },
   {
    "duration": 1325,
    "start_time": "2022-02-24T22:05:13.409Z"
   },
   {
    "duration": 1312,
    "start_time": "2022-02-24T22:05:13.423Z"
   },
   {
    "duration": 1305,
    "start_time": "2022-02-24T22:05:13.431Z"
   },
   {
    "duration": 1296,
    "start_time": "2022-02-24T22:05:13.441Z"
   },
   {
    "duration": 1290,
    "start_time": "2022-02-24T22:05:13.448Z"
   },
   {
    "duration": 1281,
    "start_time": "2022-02-24T22:05:13.458Z"
   },
   {
    "duration": 1271,
    "start_time": "2022-02-24T22:05:13.469Z"
   },
   {
    "duration": 1266,
    "start_time": "2022-02-24T22:05:13.475Z"
   },
   {
    "duration": 1255,
    "start_time": "2022-02-24T22:05:13.487Z"
   },
   {
    "duration": 1249,
    "start_time": "2022-02-24T22:05:13.493Z"
   },
   {
    "duration": 1236,
    "start_time": "2022-02-24T22:05:13.507Z"
   },
   {
    "duration": 1229,
    "start_time": "2022-02-24T22:05:13.515Z"
   },
   {
    "duration": 1220,
    "start_time": "2022-02-24T22:05:13.525Z"
   },
   {
    "duration": 1214,
    "start_time": "2022-02-24T22:05:13.532Z"
   },
   {
    "duration": 1205,
    "start_time": "2022-02-24T22:05:13.542Z"
   },
   {
    "duration": 1194,
    "start_time": "2022-02-24T22:05:13.553Z"
   },
   {
    "duration": 347,
    "start_time": "2022-02-24T22:05:31.729Z"
   },
   {
    "duration": 310,
    "start_time": "2022-02-24T22:05:44.712Z"
   },
   {
    "duration": 7,
    "start_time": "2022-02-24T22:06:04.256Z"
   },
   {
    "duration": 4,
    "start_time": "2022-02-24T22:08:26.901Z"
   },
   {
    "duration": 4,
    "start_time": "2022-02-24T22:08:40.749Z"
   },
   {
    "duration": 8,
    "start_time": "2022-02-24T22:09:56.189Z"
   },
   {
    "duration": 6,
    "start_time": "2022-02-24T22:10:54.644Z"
   },
   {
    "duration": 8,
    "start_time": "2022-02-24T22:11:12.077Z"
   },
   {
    "duration": 6,
    "start_time": "2022-02-24T22:11:13.028Z"
   },
   {
    "duration": 5,
    "start_time": "2022-02-24T22:12:36.067Z"
   },
   {
    "duration": 596,
    "start_time": "2022-02-24T22:12:59.960Z"
   },
   {
    "duration": 61,
    "start_time": "2022-02-24T22:13:00.558Z"
   },
   {
    "duration": 7,
    "start_time": "2022-02-24T22:13:00.621Z"
   },
   {
    "duration": 67,
    "start_time": "2022-02-24T22:13:00.630Z"
   },
   {
    "duration": 9,
    "start_time": "2022-02-24T22:13:00.699Z"
   },
   {
    "duration": 35,
    "start_time": "2022-02-24T22:13:00.709Z"
   },
   {
    "duration": 4,
    "start_time": "2022-02-24T22:13:00.746Z"
   },
   {
    "duration": 15,
    "start_time": "2022-02-24T22:13:00.753Z"
   },
   {
    "duration": 6,
    "start_time": "2022-02-24T22:13:00.770Z"
   },
   {
    "duration": 24,
    "start_time": "2022-02-24T22:13:00.778Z"
   },
   {
    "duration": 11,
    "start_time": "2022-02-24T22:13:00.804Z"
   },
   {
    "duration": 7,
    "start_time": "2022-02-24T22:13:00.831Z"
   },
   {
    "duration": 9,
    "start_time": "2022-02-24T22:13:00.840Z"
   },
   {
    "duration": 2697,
    "start_time": "2022-02-24T22:13:00.850Z"
   },
   {
    "duration": 9,
    "start_time": "2022-02-24T22:13:03.548Z"
   },
   {
    "duration": 5,
    "start_time": "2022-02-24T22:13:03.559Z"
   },
   {
    "duration": 7,
    "start_time": "2022-02-24T22:13:03.565Z"
   },
   {
    "duration": 5,
    "start_time": "2022-02-24T22:13:03.573Z"
   },
   {
    "duration": 86,
    "start_time": "2022-02-24T22:13:03.579Z"
   },
   {
    "duration": 8,
    "start_time": "2022-02-24T22:13:03.666Z"
   },
   {
    "duration": 4,
    "start_time": "2022-02-24T22:13:03.675Z"
   },
   {
    "duration": 4,
    "start_time": "2022-02-24T22:13:03.681Z"
   },
   {
    "duration": 10,
    "start_time": "2022-02-24T22:13:03.689Z"
   },
   {
    "duration": 31,
    "start_time": "2022-02-24T22:13:03.701Z"
   },
   {
    "duration": 12,
    "start_time": "2022-02-24T22:13:03.734Z"
   },
   {
    "duration": 3,
    "start_time": "2022-02-24T22:13:03.748Z"
   },
   {
    "duration": 9,
    "start_time": "2022-02-24T22:13:03.753Z"
   },
   {
    "duration": 21,
    "start_time": "2022-02-24T22:13:03.763Z"
   },
   {
    "duration": 2,
    "start_time": "2022-02-24T22:13:03.785Z"
   },
   {
    "duration": 8,
    "start_time": "2022-02-24T22:13:03.789Z"
   },
   {
    "duration": 20,
    "start_time": "2022-02-24T22:13:03.798Z"
   },
   {
    "duration": 4,
    "start_time": "2022-02-24T22:13:03.831Z"
   },
   {
    "duration": 11,
    "start_time": "2022-02-24T22:13:03.836Z"
   },
   {
    "duration": 14,
    "start_time": "2022-02-24T22:13:03.848Z"
   },
   {
    "duration": 7,
    "start_time": "2022-02-24T22:13:03.863Z"
   },
   {
    "duration": 5,
    "start_time": "2022-02-24T22:13:03.871Z"
   },
   {
    "duration": 8,
    "start_time": "2022-02-24T22:13:03.877Z"
   },
   {
    "duration": 9,
    "start_time": "2022-02-24T22:13:03.887Z"
   },
   {
    "duration": 8,
    "start_time": "2022-02-24T22:13:03.898Z"
   },
   {
    "duration": 8,
    "start_time": "2022-02-24T22:13:03.907Z"
   },
   {
    "duration": 16,
    "start_time": "2022-02-24T22:13:03.916Z"
   },
   {
    "duration": 4,
    "start_time": "2022-02-24T22:13:03.934Z"
   },
   {
    "duration": 7,
    "start_time": "2022-02-24T22:13:03.940Z"
   },
   {
    "duration": 17,
    "start_time": "2022-02-24T22:13:03.948Z"
   },
   {
    "duration": 524,
    "start_time": "2022-02-24T22:13:03.966Z"
   },
   {
    "duration": 19,
    "start_time": "2022-02-24T22:13:04.491Z"
   },
   {
    "duration": 7,
    "start_time": "2022-02-24T22:13:04.512Z"
   },
   {
    "duration": 29,
    "start_time": "2022-02-24T22:13:04.520Z"
   },
   {
    "duration": 61,
    "start_time": "2022-02-24T22:13:04.550Z"
   },
   {
    "duration": 210,
    "start_time": "2022-02-24T22:13:04.612Z"
   },
   {
    "duration": 215,
    "start_time": "2022-02-24T22:13:04.823Z"
   },
   {
    "duration": 200,
    "start_time": "2022-02-24T22:13:05.040Z"
   },
   {
    "duration": 192,
    "start_time": "2022-02-24T22:13:05.242Z"
   },
   {
    "duration": 149,
    "start_time": "2022-02-24T22:13:05.435Z"
   },
   {
    "duration": 327,
    "start_time": "2022-02-24T22:13:05.586Z"
   },
   {
    "duration": 5,
    "start_time": "2022-02-24T22:13:05.914Z"
   },
   {
    "duration": 12,
    "start_time": "2022-02-24T22:13:05.920Z"
   },
   {
    "duration": 7,
    "start_time": "2022-02-24T22:13:05.934Z"
   },
   {
    "duration": 96,
    "start_time": "2022-02-24T22:14:31.374Z"
   },
   {
    "duration": 106,
    "start_time": "2022-02-24T22:14:43.055Z"
   },
   {
    "duration": 5,
    "start_time": "2022-02-24T22:18:31.532Z"
   },
   {
    "duration": 6,
    "start_time": "2022-02-24T22:18:47.973Z"
   },
   {
    "duration": 102,
    "start_time": "2022-02-24T22:19:36.955Z"
   },
   {
    "duration": 105,
    "start_time": "2022-02-24T22:19:56.117Z"
   },
   {
    "duration": 947,
    "start_time": "2022-02-24T22:20:07.900Z"
   },
   {
    "duration": 302,
    "start_time": "2022-02-24T22:20:27.612Z"
   },
   {
    "duration": 329,
    "start_time": "2022-02-24T22:20:42.690Z"
   },
   {
    "duration": 380,
    "start_time": "2022-02-24T22:20:53.341Z"
   },
   {
    "duration": 313,
    "start_time": "2022-02-24T22:21:01.820Z"
   },
   {
    "duration": 301,
    "start_time": "2022-02-24T22:21:09.028Z"
   },
   {
    "duration": 252,
    "start_time": "2022-02-25T17:55:47.946Z"
   },
   {
    "duration": 622,
    "start_time": "2022-02-25T17:55:57.197Z"
   },
   {
    "duration": 66,
    "start_time": "2022-02-25T17:55:57.822Z"
   },
   {
    "duration": 8,
    "start_time": "2022-02-25T17:55:57.890Z"
   },
   {
    "duration": 71,
    "start_time": "2022-02-25T17:55:57.900Z"
   },
   {
    "duration": 10,
    "start_time": "2022-02-25T17:55:57.973Z"
   },
   {
    "duration": 51,
    "start_time": "2022-02-25T17:55:57.985Z"
   },
   {
    "duration": 4,
    "start_time": "2022-02-25T17:55:58.038Z"
   },
   {
    "duration": 12,
    "start_time": "2022-02-25T17:55:58.045Z"
   },
   {
    "duration": 5,
    "start_time": "2022-02-25T17:55:58.059Z"
   },
   {
    "duration": 10,
    "start_time": "2022-02-25T17:55:58.066Z"
   },
   {
    "duration": 12,
    "start_time": "2022-02-25T17:55:58.077Z"
   },
   {
    "duration": 7,
    "start_time": "2022-02-25T17:55:58.119Z"
   },
   {
    "duration": 7,
    "start_time": "2022-02-25T17:55:58.128Z"
   },
   {
    "duration": 2527,
    "start_time": "2022-02-25T17:55:58.137Z"
   },
   {
    "duration": 11,
    "start_time": "2022-02-25T17:56:00.666Z"
   },
   {
    "duration": 12,
    "start_time": "2022-02-25T17:56:00.678Z"
   },
   {
    "duration": 17,
    "start_time": "2022-02-25T17:56:00.693Z"
   },
   {
    "duration": 14,
    "start_time": "2022-02-25T17:56:00.712Z"
   },
   {
    "duration": 94,
    "start_time": "2022-02-25T17:56:00.727Z"
   },
   {
    "duration": 6,
    "start_time": "2022-02-25T17:56:00.823Z"
   },
   {
    "duration": 17,
    "start_time": "2022-02-25T17:56:00.830Z"
   },
   {
    "duration": 18,
    "start_time": "2022-02-25T17:56:00.849Z"
   },
   {
    "duration": 15,
    "start_time": "2022-02-25T17:56:00.872Z"
   },
   {
    "duration": 13,
    "start_time": "2022-02-25T17:56:00.890Z"
   },
   {
    "duration": 22,
    "start_time": "2022-02-25T17:56:00.905Z"
   },
   {
    "duration": 6,
    "start_time": "2022-02-25T17:56:00.929Z"
   },
   {
    "duration": 11,
    "start_time": "2022-02-25T17:56:00.936Z"
   },
   {
    "duration": 30,
    "start_time": "2022-02-25T17:56:00.949Z"
   },
   {
    "duration": 4,
    "start_time": "2022-02-25T17:56:00.981Z"
   },
   {
    "duration": 11,
    "start_time": "2022-02-25T17:56:00.986Z"
   },
   {
    "duration": 21,
    "start_time": "2022-02-25T17:56:00.999Z"
   },
   {
    "duration": 4,
    "start_time": "2022-02-25T17:56:01.021Z"
   },
   {
    "duration": 13,
    "start_time": "2022-02-25T17:56:01.027Z"
   },
   {
    "duration": 14,
    "start_time": "2022-02-25T17:56:01.042Z"
   },
   {
    "duration": 20,
    "start_time": "2022-02-25T17:56:01.058Z"
   },
   {
    "duration": 11,
    "start_time": "2022-02-25T17:56:01.080Z"
   },
   {
    "duration": 8,
    "start_time": "2022-02-25T17:56:01.093Z"
   },
   {
    "duration": 18,
    "start_time": "2022-02-25T17:56:01.102Z"
   },
   {
    "duration": 13,
    "start_time": "2022-02-25T17:56:01.121Z"
   },
   {
    "duration": 13,
    "start_time": "2022-02-25T17:56:01.136Z"
   },
   {
    "duration": 18,
    "start_time": "2022-02-25T17:56:01.151Z"
   },
   {
    "duration": 30,
    "start_time": "2022-02-25T17:56:01.171Z"
   },
   {
    "duration": 594,
    "start_time": "2022-02-25T17:56:01.203Z"
   },
   {
    "duration": 32,
    "start_time": "2022-02-25T17:56:01.799Z"
   },
   {
    "duration": 7,
    "start_time": "2022-02-25T17:56:01.832Z"
   },
   {
    "duration": 37,
    "start_time": "2022-02-25T17:56:01.841Z"
   },
   {
    "duration": 76,
    "start_time": "2022-02-25T17:56:01.880Z"
   },
   {
    "duration": 256,
    "start_time": "2022-02-25T17:56:01.958Z"
   },
   {
    "duration": 255,
    "start_time": "2022-02-25T17:56:02.218Z"
   },
   {
    "duration": 224,
    "start_time": "2022-02-25T17:56:02.475Z"
   },
   {
    "duration": 219,
    "start_time": "2022-02-25T17:56:02.701Z"
   },
   {
    "duration": 163,
    "start_time": "2022-02-25T17:56:02.922Z"
   },
   {
    "duration": 373,
    "start_time": "2022-02-25T17:56:03.087Z"
   },
   {
    "duration": 5,
    "start_time": "2022-02-25T17:56:03.462Z"
   },
   {
    "duration": 4,
    "start_time": "2022-02-25T17:56:03.469Z"
   },
   {
    "duration": 8,
    "start_time": "2022-02-25T17:56:03.475Z"
   },
   {
    "duration": 192,
    "start_time": "2022-02-25T18:06:16.300Z"
   },
   {
    "duration": 156,
    "start_time": "2022-02-25T18:10:43.640Z"
   },
   {
    "duration": 149,
    "start_time": "2022-02-25T18:11:47.855Z"
   },
   {
    "duration": 225,
    "start_time": "2022-02-25T18:12:02.576Z"
   },
   {
    "duration": 145,
    "start_time": "2022-02-25T18:12:37.774Z"
   },
   {
    "duration": 6,
    "start_time": "2022-02-25T18:36:49.208Z"
   },
   {
    "duration": 75,
    "start_time": "2022-02-25T18:41:41.604Z"
   },
   {
    "duration": 212,
    "start_time": "2022-02-25T18:42:49.499Z"
   },
   {
    "duration": 273,
    "start_time": "2022-02-25T18:43:27.314Z"
   },
   {
    "duration": 166,
    "start_time": "2022-02-25T18:45:21.169Z"
   },
   {
    "duration": 299,
    "start_time": "2022-02-25T18:45:27.233Z"
   },
   {
    "duration": 259,
    "start_time": "2022-02-25T18:45:40.074Z"
   },
   {
    "duration": 267,
    "start_time": "2022-02-25T18:45:47.937Z"
   },
   {
    "duration": 239,
    "start_time": "2022-02-25T18:45:58.032Z"
   },
   {
    "duration": 335,
    "start_time": "2022-02-25T18:46:02.954Z"
   },
   {
    "duration": 286,
    "start_time": "2022-02-25T18:47:02.511Z"
   },
   {
    "duration": 204,
    "start_time": "2022-02-25T18:47:13.575Z"
   },
   {
    "duration": 234,
    "start_time": "2022-02-25T18:47:33.215Z"
   },
   {
    "duration": 365,
    "start_time": "2022-02-25T18:47:40.383Z"
   },
   {
    "duration": 677,
    "start_time": "2022-02-25T18:47:59.591Z"
   },
   {
    "duration": 378,
    "start_time": "2022-02-25T18:48:04.959Z"
   },
   {
    "duration": 321,
    "start_time": "2022-02-25T18:48:56.302Z"
   },
   {
    "duration": 299,
    "start_time": "2022-02-25T18:49:25.622Z"
   },
   {
    "duration": 323,
    "start_time": "2022-02-25T18:49:46.710Z"
   },
   {
    "duration": 344,
    "start_time": "2022-02-25T18:49:53.238Z"
   },
   {
    "duration": 5,
    "start_time": "2022-02-25T18:51:46.621Z"
   },
   {
    "duration": 371,
    "start_time": "2022-02-25T18:52:05.517Z"
   },
   {
    "duration": 4638,
    "start_time": "2022-02-25T18:54:09.036Z"
   },
   {
    "duration": 2,
    "start_time": "2022-02-25T18:54:38.788Z"
   },
   {
    "duration": 5563,
    "start_time": "2022-02-25T18:54:52.938Z"
   },
   {
    "duration": 4809,
    "start_time": "2022-02-25T18:55:24.348Z"
   },
   {
    "duration": 4990,
    "start_time": "2022-02-25T18:55:33.139Z"
   },
   {
    "duration": 6,
    "start_time": "2022-02-25T18:55:43.195Z"
   },
   {
    "duration": 338,
    "start_time": "2022-02-25T18:55:53.227Z"
   },
   {
    "duration": 196,
    "start_time": "2022-02-25T18:57:07.882Z"
   },
   {
    "duration": 194,
    "start_time": "2022-02-25T18:57:27.858Z"
   },
   {
    "duration": 202,
    "start_time": "2022-02-25T18:57:43.082Z"
   },
   {
    "duration": 576,
    "start_time": "2022-02-25T18:57:53.451Z"
   },
   {
    "duration": 58,
    "start_time": "2022-02-25T18:57:54.029Z"
   },
   {
    "duration": 8,
    "start_time": "2022-02-25T18:57:54.088Z"
   },
   {
    "duration": 74,
    "start_time": "2022-02-25T18:57:54.098Z"
   },
   {
    "duration": 10,
    "start_time": "2022-02-25T18:57:54.174Z"
   },
   {
    "duration": 44,
    "start_time": "2022-02-25T18:57:54.185Z"
   },
   {
    "duration": 4,
    "start_time": "2022-02-25T18:57:54.230Z"
   },
   {
    "duration": 9,
    "start_time": "2022-02-25T18:57:54.236Z"
   },
   {
    "duration": 4,
    "start_time": "2022-02-25T18:57:54.246Z"
   },
   {
    "duration": 7,
    "start_time": "2022-02-25T18:57:54.252Z"
   },
   {
    "duration": 10,
    "start_time": "2022-02-25T18:57:54.260Z"
   },
   {
    "duration": 5,
    "start_time": "2022-02-25T18:57:54.272Z"
   },
   {
    "duration": 45,
    "start_time": "2022-02-25T18:57:54.279Z"
   },
   {
    "duration": 2547,
    "start_time": "2022-02-25T18:57:54.326Z"
   },
   {
    "duration": 11,
    "start_time": "2022-02-25T18:57:56.875Z"
   },
   {
    "duration": 11,
    "start_time": "2022-02-25T18:57:56.887Z"
   },
   {
    "duration": 19,
    "start_time": "2022-02-25T18:57:56.900Z"
   },
   {
    "duration": 5,
    "start_time": "2022-02-25T18:57:56.921Z"
   },
   {
    "duration": 70,
    "start_time": "2022-02-25T18:57:56.928Z"
   },
   {
    "duration": 20,
    "start_time": "2022-02-25T18:57:57.000Z"
   },
   {
    "duration": 5,
    "start_time": "2022-02-25T18:57:57.022Z"
   },
   {
    "duration": 8,
    "start_time": "2022-02-25T18:57:57.028Z"
   },
   {
    "duration": 10,
    "start_time": "2022-02-25T18:57:57.040Z"
   },
   {
    "duration": 10,
    "start_time": "2022-02-25T18:57:57.053Z"
   },
   {
    "duration": 12,
    "start_time": "2022-02-25T18:57:57.065Z"
   },
   {
    "duration": 3,
    "start_time": "2022-02-25T18:57:57.079Z"
   },
   {
    "duration": 36,
    "start_time": "2022-02-25T18:57:57.084Z"
   },
   {
    "duration": 19,
    "start_time": "2022-02-25T18:57:57.122Z"
   },
   {
    "duration": 2,
    "start_time": "2022-02-25T18:57:57.143Z"
   },
   {
    "duration": 7,
    "start_time": "2022-02-25T18:57:57.147Z"
   },
   {
    "duration": 16,
    "start_time": "2022-02-25T18:57:57.155Z"
   },
   {
    "duration": 4,
    "start_time": "2022-02-25T18:57:57.173Z"
   },
   {
    "duration": 9,
    "start_time": "2022-02-25T18:57:57.178Z"
   },
   {
    "duration": 39,
    "start_time": "2022-02-25T18:57:57.189Z"
   },
   {
    "duration": 8,
    "start_time": "2022-02-25T18:57:57.230Z"
   },
   {
    "duration": 5,
    "start_time": "2022-02-25T18:57:57.240Z"
   },
   {
    "duration": 5,
    "start_time": "2022-02-25T18:57:57.246Z"
   },
   {
    "duration": 6,
    "start_time": "2022-02-25T18:57:57.253Z"
   },
   {
    "duration": 3,
    "start_time": "2022-02-25T18:57:57.261Z"
   },
   {
    "duration": 6,
    "start_time": "2022-02-25T18:57:57.266Z"
   },
   {
    "duration": 46,
    "start_time": "2022-02-25T18:57:57.274Z"
   },
   {
    "duration": 15,
    "start_time": "2022-02-25T18:57:57.321Z"
   },
   {
    "duration": 581,
    "start_time": "2022-02-25T18:57:57.338Z"
   },
   {
    "duration": 25,
    "start_time": "2022-02-25T18:57:57.920Z"
   },
   {
    "duration": 5,
    "start_time": "2022-02-25T18:57:57.946Z"
   },
   {
    "duration": 28,
    "start_time": "2022-02-25T18:57:57.953Z"
   },
   {
    "duration": 96,
    "start_time": "2022-02-25T18:57:57.982Z"
   },
   {
    "duration": 155,
    "start_time": "2022-02-25T18:57:58.080Z"
   },
   {
    "duration": 251,
    "start_time": "2022-02-25T18:57:58.236Z"
   },
   {
    "duration": 271,
    "start_time": "2022-02-25T18:57:58.489Z"
   },
   {
    "duration": 164,
    "start_time": "2022-02-25T18:57:58.761Z"
   },
   {
    "duration": 224,
    "start_time": "2022-02-25T18:57:58.927Z"
   },
   {
    "duration": 233,
    "start_time": "2022-02-25T18:57:59.153Z"
   },
   {
    "duration": 171,
    "start_time": "2022-02-25T18:57:59.388Z"
   },
   {
    "duration": 465,
    "start_time": "2022-02-25T18:57:59.561Z"
   },
   {
    "duration": 5,
    "start_time": "2022-02-25T18:58:00.028Z"
   },
   {
    "duration": 36,
    "start_time": "2022-02-25T18:58:00.035Z"
   },
   {
    "duration": 49,
    "start_time": "2022-02-25T18:58:00.073Z"
   },
   {
    "duration": 8,
    "start_time": "2022-02-25T18:58:00.124Z"
   },
   {
    "duration": 363,
    "start_time": "2022-02-25T18:58:00.133Z"
   },
   {
    "duration": 5,
    "start_time": "2022-02-25T18:58:00.498Z"
   },
   {
    "duration": 363,
    "start_time": "2022-02-25T18:58:00.504Z"
   },
   {
    "duration": 2,
    "start_time": "2022-02-25T18:58:00.869Z"
   },
   {
    "duration": 329,
    "start_time": "2022-02-25T18:58:00.873Z"
   },
   {
    "duration": 210,
    "start_time": "2022-02-25T19:00:02.731Z"
   },
   {
    "duration": 163,
    "start_time": "2022-02-25T19:01:13.867Z"
   },
   {
    "duration": 806,
    "start_time": "2022-02-25T19:01:38.922Z"
   },
   {
    "duration": 162,
    "start_time": "2022-02-25T19:03:24.042Z"
   },
   {
    "duration": 5,
    "start_time": "2022-02-25T19:08:27.374Z"
   },
   {
    "duration": 6,
    "start_time": "2022-02-25T19:09:48.340Z"
   },
   {
    "duration": 347,
    "start_time": "2022-02-25T19:10:24.766Z"
   },
   {
    "duration": 652,
    "start_time": "2022-02-25T19:12:26.148Z"
   },
   {
    "duration": 5402,
    "start_time": "2022-02-25T19:16:04.592Z"
   },
   {
    "duration": 5185,
    "start_time": "2022-02-25T19:16:22.705Z"
   },
   {
    "duration": 5,
    "start_time": "2022-02-25T19:17:16.889Z"
   },
   {
    "duration": 415,
    "start_time": "2022-02-25T19:17:45.066Z"
   },
   {
    "duration": 2292,
    "start_time": "2022-02-25T19:18:02.632Z"
   },
   {
    "duration": 196,
    "start_time": "2022-02-25T19:18:36.799Z"
   },
   {
    "duration": 729,
    "start_time": "2022-02-25T19:18:50.856Z"
   },
   {
    "duration": 7,
    "start_time": "2022-02-25T19:19:29.815Z"
   },
   {
    "duration": 5,
    "start_time": "2022-02-25T19:19:40.320Z"
   },
   {
    "duration": 5,
    "start_time": "2022-02-25T19:19:44.774Z"
   },
   {
    "duration": 6,
    "start_time": "2022-02-25T19:19:46.038Z"
   },
   {
    "duration": 638,
    "start_time": "2022-02-25T19:19:50.976Z"
   },
   {
    "duration": 218,
    "start_time": "2022-02-25T19:20:57.630Z"
   },
   {
    "duration": 242,
    "start_time": "2022-02-25T19:21:11.965Z"
   },
   {
    "duration": 247,
    "start_time": "2022-02-25T19:21:22.797Z"
   },
   {
    "duration": 223,
    "start_time": "2022-02-25T19:21:30.280Z"
   },
   {
    "duration": 206,
    "start_time": "2022-02-25T19:21:43.157Z"
   },
   {
    "duration": 216,
    "start_time": "2022-02-25T19:29:59.104Z"
   },
   {
    "duration": 210,
    "start_time": "2022-02-25T19:30:51.559Z"
   },
   {
    "duration": 233,
    "start_time": "2022-02-25T19:31:00.792Z"
   },
   {
    "duration": 201,
    "start_time": "2022-02-25T19:31:04.304Z"
   },
   {
    "duration": 303,
    "start_time": "2022-02-25T19:31:56.311Z"
   },
   {
    "duration": 10,
    "start_time": "2022-02-25T19:38:31.418Z"
   },
   {
    "duration": 8,
    "start_time": "2022-02-25T19:38:40.010Z"
   },
   {
    "duration": 281,
    "start_time": "2022-02-25T19:39:18.977Z"
   },
   {
    "duration": 11,
    "start_time": "2022-02-25T19:39:25.394Z"
   },
   {
    "duration": 10,
    "start_time": "2022-02-25T19:41:09.141Z"
   },
   {
    "duration": 186,
    "start_time": "2022-02-25T19:41:17.084Z"
   },
   {
    "duration": 8,
    "start_time": "2022-02-25T19:41:21.430Z"
   },
   {
    "duration": 5,
    "start_time": "2022-02-25T19:54:24.710Z"
   },
   {
    "duration": 260,
    "start_time": "2022-02-25T19:54:39.468Z"
   },
   {
    "duration": 248,
    "start_time": "2022-02-25T19:54:51.028Z"
   },
   {
    "duration": 270,
    "start_time": "2022-02-25T19:55:08.286Z"
   },
   {
    "duration": 266,
    "start_time": "2022-02-25T19:56:08.060Z"
   },
   {
    "duration": 9,
    "start_time": "2022-02-25T20:09:05.020Z"
   },
   {
    "duration": 4871,
    "start_time": "2022-02-25T20:15:05.399Z"
   },
   {
    "duration": 5062,
    "start_time": "2022-02-25T20:15:19.296Z"
   },
   {
    "duration": 192,
    "start_time": "2022-02-25T20:15:28.463Z"
   },
   {
    "duration": 160,
    "start_time": "2022-02-25T20:15:58.918Z"
   },
   {
    "duration": 168,
    "start_time": "2022-02-25T20:17:08.814Z"
   },
   {
    "duration": 466,
    "start_time": "2022-02-25T20:19:40.134Z"
   },
   {
    "duration": 205,
    "start_time": "2022-02-25T20:19:54.692Z"
   },
   {
    "duration": 11,
    "start_time": "2022-02-25T20:20:17.180Z"
   },
   {
    "duration": 8,
    "start_time": "2022-02-25T20:20:18.068Z"
   },
   {
    "duration": 194,
    "start_time": "2022-02-25T20:25:38.143Z"
   },
   {
    "duration": 54,
    "start_time": "2022-02-25T20:25:47.016Z"
   },
   {
    "duration": 13,
    "start_time": "2022-02-25T20:30:22.037Z"
   },
   {
    "duration": 194,
    "start_time": "2022-02-25T20:31:13.652Z"
   },
   {
    "duration": 3075,
    "start_time": "2022-02-25T20:31:28.701Z"
   },
   {
    "duration": 3356,
    "start_time": "2022-02-25T20:31:53.862Z"
   },
   {
    "duration": 3630,
    "start_time": "2022-02-25T20:32:18.173Z"
   },
   {
    "duration": 3176,
    "start_time": "2022-02-25T20:33:10.804Z"
   },
   {
    "duration": 3388,
    "start_time": "2022-02-25T20:34:06.237Z"
   },
   {
    "duration": 3141,
    "start_time": "2022-02-25T20:34:25.139Z"
   },
   {
    "duration": 217,
    "start_time": "2022-02-25T21:27:19.094Z"
   },
   {
    "duration": 16,
    "start_time": "2022-02-25T21:27:56.814Z"
   },
   {
    "duration": 192,
    "start_time": "2022-02-25T21:30:51.892Z"
   },
   {
    "duration": 205,
    "start_time": "2022-02-25T21:31:25.739Z"
   },
   {
    "duration": 14,
    "start_time": "2022-02-25T21:33:18.139Z"
   },
   {
    "duration": 205,
    "start_time": "2022-02-25T21:33:32.738Z"
   },
   {
    "duration": 209,
    "start_time": "2022-02-25T21:35:13.137Z"
   },
   {
    "duration": 227,
    "start_time": "2022-02-25T21:37:04.832Z"
   },
   {
    "duration": 290,
    "start_time": "2022-02-25T21:37:10.216Z"
   },
   {
    "duration": 286,
    "start_time": "2022-02-25T21:37:54.335Z"
   },
   {
    "duration": 269,
    "start_time": "2022-02-25T21:38:02.552Z"
   },
   {
    "duration": 235,
    "start_time": "2022-02-25T21:40:46.318Z"
   },
   {
    "duration": 247,
    "start_time": "2022-02-25T21:40:52.607Z"
   },
   {
    "duration": 296,
    "start_time": "2022-02-25T21:41:06.510Z"
   },
   {
    "duration": 208,
    "start_time": "2022-02-25T21:41:19.630Z"
   },
   {
    "duration": 207,
    "start_time": "2022-02-25T21:41:39.637Z"
   },
   {
    "duration": 203,
    "start_time": "2022-02-25T21:41:55.245Z"
   },
   {
    "duration": 207,
    "start_time": "2022-02-25T21:42:15.604Z"
   },
   {
    "duration": 565,
    "start_time": "2022-02-25T21:59:52.838Z"
   },
   {
    "duration": 60,
    "start_time": "2022-02-25T21:59:53.405Z"
   },
   {
    "duration": 7,
    "start_time": "2022-02-25T21:59:53.467Z"
   },
   {
    "duration": 75,
    "start_time": "2022-02-25T21:59:53.476Z"
   },
   {
    "duration": 10,
    "start_time": "2022-02-25T21:59:53.553Z"
   },
   {
    "duration": 34,
    "start_time": "2022-02-25T21:59:53.565Z"
   },
   {
    "duration": 21,
    "start_time": "2022-02-25T21:59:53.601Z"
   },
   {
    "duration": 12,
    "start_time": "2022-02-25T21:59:53.625Z"
   },
   {
    "duration": 6,
    "start_time": "2022-02-25T21:59:53.640Z"
   },
   {
    "duration": 8,
    "start_time": "2022-02-25T21:59:53.647Z"
   },
   {
    "duration": 16,
    "start_time": "2022-02-25T21:59:53.657Z"
   },
   {
    "duration": 10,
    "start_time": "2022-02-25T21:59:53.674Z"
   },
   {
    "duration": 40,
    "start_time": "2022-02-25T21:59:53.685Z"
   },
   {
    "duration": 2494,
    "start_time": "2022-02-25T21:59:53.727Z"
   },
   {
    "duration": 12,
    "start_time": "2022-02-25T21:59:56.222Z"
   },
   {
    "duration": 5,
    "start_time": "2022-02-25T21:59:56.236Z"
   },
   {
    "duration": 8,
    "start_time": "2022-02-25T21:59:56.243Z"
   },
   {
    "duration": 5,
    "start_time": "2022-02-25T21:59:56.253Z"
   },
   {
    "duration": 98,
    "start_time": "2022-02-25T21:59:56.259Z"
   },
   {
    "duration": 6,
    "start_time": "2022-02-25T21:59:56.359Z"
   },
   {
    "duration": 4,
    "start_time": "2022-02-25T21:59:56.366Z"
   },
   {
    "duration": 5,
    "start_time": "2022-02-25T21:59:56.371Z"
   },
   {
    "duration": 13,
    "start_time": "2022-02-25T21:59:56.379Z"
   },
   {
    "duration": 30,
    "start_time": "2022-02-25T21:59:56.394Z"
   },
   {
    "duration": 12,
    "start_time": "2022-02-25T21:59:56.426Z"
   },
   {
    "duration": 4,
    "start_time": "2022-02-25T21:59:56.439Z"
   },
   {
    "duration": 5,
    "start_time": "2022-02-25T21:59:56.445Z"
   },
   {
    "duration": 21,
    "start_time": "2022-02-25T21:59:56.452Z"
   },
   {
    "duration": 2,
    "start_time": "2022-02-25T21:59:56.475Z"
   },
   {
    "duration": 5,
    "start_time": "2022-02-25T21:59:56.478Z"
   },
   {
    "duration": 44,
    "start_time": "2022-02-25T21:59:56.485Z"
   },
   {
    "duration": 5,
    "start_time": "2022-02-25T21:59:56.530Z"
   },
   {
    "duration": 8,
    "start_time": "2022-02-25T21:59:56.536Z"
   },
   {
    "duration": 13,
    "start_time": "2022-02-25T21:59:56.546Z"
   },
   {
    "duration": 7,
    "start_time": "2022-02-25T21:59:56.560Z"
   },
   {
    "duration": 4,
    "start_time": "2022-02-25T21:59:56.569Z"
   },
   {
    "duration": 4,
    "start_time": "2022-02-25T21:59:56.575Z"
   },
   {
    "duration": 43,
    "start_time": "2022-02-25T21:59:56.580Z"
   },
   {
    "duration": 4,
    "start_time": "2022-02-25T21:59:56.625Z"
   },
   {
    "duration": 6,
    "start_time": "2022-02-25T21:59:56.631Z"
   },
   {
    "duration": 4,
    "start_time": "2022-02-25T21:59:56.639Z"
   },
   {
    "duration": 13,
    "start_time": "2022-02-25T21:59:56.644Z"
   },
   {
    "duration": 592,
    "start_time": "2022-02-25T21:59:56.659Z"
   },
   {
    "duration": 23,
    "start_time": "2022-02-25T21:59:57.252Z"
   },
   {
    "duration": 4,
    "start_time": "2022-02-25T21:59:57.277Z"
   },
   {
    "duration": 37,
    "start_time": "2022-02-25T21:59:57.283Z"
   },
   {
    "duration": 67,
    "start_time": "2022-02-25T21:59:57.322Z"
   },
   {
    "duration": 158,
    "start_time": "2022-02-25T21:59:57.391Z"
   },
   {
    "duration": 253,
    "start_time": "2022-02-25T21:59:57.551Z"
   },
   {
    "duration": 268,
    "start_time": "2022-02-25T21:59:57.806Z"
   },
   {
    "duration": 149,
    "start_time": "2022-02-25T21:59:58.075Z"
   },
   {
    "duration": 234,
    "start_time": "2022-02-25T21:59:58.225Z"
   },
   {
    "duration": 230,
    "start_time": "2022-02-25T21:59:58.461Z"
   },
   {
    "duration": 167,
    "start_time": "2022-02-25T21:59:58.693Z"
   },
   {
    "duration": 432,
    "start_time": "2022-02-25T21:59:58.862Z"
   },
   {
    "duration": 5,
    "start_time": "2022-02-25T21:59:59.295Z"
   },
   {
    "duration": 20,
    "start_time": "2022-02-25T21:59:59.302Z"
   },
   {
    "duration": 11,
    "start_time": "2022-02-25T21:59:59.323Z"
   },
   {
    "duration": 5,
    "start_time": "2022-02-25T21:59:59.336Z"
   },
   {
    "duration": 376,
    "start_time": "2022-02-25T21:59:59.343Z"
   },
   {
    "duration": 5,
    "start_time": "2022-02-25T21:59:59.720Z"
   },
   {
    "duration": 353,
    "start_time": "2022-02-25T21:59:59.727Z"
   },
   {
    "duration": 5,
    "start_time": "2022-02-25T22:00:00.081Z"
   },
   {
    "duration": 183,
    "start_time": "2022-02-25T22:00:00.088Z"
   },
   {
    "duration": 5,
    "start_time": "2022-02-25T22:00:00.273Z"
   },
   {
    "duration": 620,
    "start_time": "2022-02-25T22:00:00.280Z"
   },
   {
    "duration": 6,
    "start_time": "2022-02-25T22:00:00.902Z"
   },
   {
    "duration": 5,
    "start_time": "2022-02-25T22:00:00.923Z"
   },
   {
    "duration": 16,
    "start_time": "2022-02-25T22:00:00.930Z"
   },
   {
    "duration": 218,
    "start_time": "2022-02-25T22:00:00.948Z"
   },
   {
    "duration": 251,
    "start_time": "2022-02-25T22:00:01.168Z"
   },
   {
    "duration": 208,
    "start_time": "2022-02-25T22:00:01.420Z"
   },
   {
    "duration": 11,
    "start_time": "2022-02-25T22:00:01.629Z"
   },
   {
    "duration": 11,
    "start_time": "2022-02-25T22:00:01.641Z"
   },
   {
    "duration": 13,
    "start_time": "2022-02-25T22:00:01.653Z"
   },
   {
    "duration": 279,
    "start_time": "2022-02-25T22:00:01.667Z"
   },
   {
    "duration": 14,
    "start_time": "2022-02-25T22:00:01.948Z"
   },
   {
    "duration": 2942,
    "start_time": "2022-02-25T22:00:01.964Z"
   },
   {
    "duration": 206,
    "start_time": "2022-02-25T22:00:04.908Z"
   },
   {
    "duration": 329,
    "start_time": "2022-02-25T22:00:05.115Z"
   },
   {
    "duration": 291,
    "start_time": "2022-02-25T22:00:05.446Z"
   },
   {
    "duration": 208,
    "start_time": "2022-02-25T22:00:05.739Z"
   },
   {
    "duration": 214,
    "start_time": "2022-02-25T22:00:05.948Z"
   },
   {
    "duration": 216,
    "start_time": "2022-02-25T22:00:06.164Z"
   },
   {
    "duration": 3,
    "start_time": "2022-02-25T22:01:21.851Z"
   },
   {
    "duration": 993,
    "start_time": "2022-02-25T22:01:22.754Z"
   },
   {
    "duration": 295,
    "start_time": "2022-02-25T22:06:48.356Z"
   },
   {
    "duration": 345,
    "start_time": "2022-02-25T22:07:21.268Z"
   },
   {
    "duration": 141,
    "start_time": "2022-02-25T22:07:29.780Z"
   },
   {
    "duration": 204,
    "start_time": "2022-02-25T22:12:19.224Z"
   },
   {
    "duration": 204,
    "start_time": "2022-02-25T22:12:41.120Z"
   },
   {
    "duration": 132,
    "start_time": "2022-02-25T22:12:47.865Z"
   },
   {
    "duration": 2,
    "start_time": "2022-02-25T22:15:51.926Z"
   },
   {
    "duration": 5,
    "start_time": "2022-02-25T22:16:10.654Z"
   },
   {
    "duration": 3,
    "start_time": "2022-02-25T22:16:21.574Z"
   },
   {
    "duration": 9,
    "start_time": "2022-02-25T22:16:22.462Z"
   },
   {
    "duration": 8,
    "start_time": "2022-02-25T22:16:43.949Z"
   },
   {
    "duration": 6,
    "start_time": "2022-02-25T22:16:55.030Z"
   },
   {
    "duration": 5,
    "start_time": "2022-02-25T22:19:22.780Z"
   },
   {
    "duration": 6,
    "start_time": "2022-02-25T22:19:29.980Z"
   },
   {
    "duration": 2150,
    "start_time": "2022-02-25T22:20:59.059Z"
   },
   {
    "duration": 5,
    "start_time": "2022-02-25T22:21:19.714Z"
   },
   {
    "duration": 580,
    "start_time": "2022-02-25T22:22:05.561Z"
   },
   {
    "duration": 60,
    "start_time": "2022-02-25T22:22:06.143Z"
   },
   {
    "duration": 8,
    "start_time": "2022-02-25T22:22:06.205Z"
   },
   {
    "duration": 64,
    "start_time": "2022-02-25T22:22:06.219Z"
   },
   {
    "duration": 10,
    "start_time": "2022-02-25T22:22:06.285Z"
   },
   {
    "duration": 52,
    "start_time": "2022-02-25T22:22:06.297Z"
   },
   {
    "duration": 4,
    "start_time": "2022-02-25T22:22:06.351Z"
   },
   {
    "duration": 12,
    "start_time": "2022-02-25T22:22:06.357Z"
   },
   {
    "duration": 5,
    "start_time": "2022-02-25T22:22:06.371Z"
   },
   {
    "duration": 8,
    "start_time": "2022-02-25T22:22:06.377Z"
   },
   {
    "duration": 41,
    "start_time": "2022-02-25T22:22:06.386Z"
   },
   {
    "duration": 6,
    "start_time": "2022-02-25T22:22:06.429Z"
   },
   {
    "duration": 12,
    "start_time": "2022-02-25T22:22:06.437Z"
   },
   {
    "duration": 2472,
    "start_time": "2022-02-25T22:22:06.451Z"
   },
   {
    "duration": 11,
    "start_time": "2022-02-25T22:22:08.925Z"
   },
   {
    "duration": 5,
    "start_time": "2022-02-25T22:22:08.937Z"
   },
   {
    "duration": 8,
    "start_time": "2022-02-25T22:22:08.943Z"
   },
   {
    "duration": 5,
    "start_time": "2022-02-25T22:22:08.953Z"
   },
   {
    "duration": 96,
    "start_time": "2022-02-25T22:22:08.959Z"
   },
   {
    "duration": 6,
    "start_time": "2022-02-25T22:22:09.057Z"
   },
   {
    "duration": 6,
    "start_time": "2022-02-25T22:22:09.065Z"
   },
   {
    "duration": 9,
    "start_time": "2022-02-25T22:22:09.073Z"
   },
   {
    "duration": 35,
    "start_time": "2022-02-25T22:22:09.085Z"
   },
   {
    "duration": 10,
    "start_time": "2022-02-25T22:22:09.122Z"
   },
   {
    "duration": 12,
    "start_time": "2022-02-25T22:22:09.133Z"
   },
   {
    "duration": 3,
    "start_time": "2022-02-25T22:22:09.147Z"
   },
   {
    "duration": 4,
    "start_time": "2022-02-25T22:22:09.152Z"
   },
   {
    "duration": 21,
    "start_time": "2022-02-25T22:22:09.158Z"
   },
   {
    "duration": 2,
    "start_time": "2022-02-25T22:22:09.180Z"
   },
   {
    "duration": 6,
    "start_time": "2022-02-25T22:22:53.488Z"
   },
   {
    "duration": 6,
    "start_time": "2022-02-25T22:22:57.472Z"
   },
   {
    "duration": 264,
    "start_time": "2022-02-25T22:23:29.023Z"
   },
   {
    "duration": 203,
    "start_time": "2022-02-25T22:24:43.135Z"
   },
   {
    "duration": 23185,
    "start_time": "2022-02-25T22:24:53.954Z"
   },
   {
    "duration": 5,
    "start_time": "2022-02-25T22:25:27.158Z"
   },
   {
    "duration": 23583,
    "start_time": "2022-02-25T22:26:43.974Z"
   },
   {
    "duration": 5,
    "start_time": "2022-02-25T22:27:21.349Z"
   },
   {
    "duration": 23303,
    "start_time": "2022-02-25T22:28:20.988Z"
   },
   {
    "duration": 5,
    "start_time": "2022-02-25T22:28:48.628Z"
   },
   {
    "duration": 23640,
    "start_time": "2022-02-25T22:30:23.644Z"
   },
   {
    "duration": 23552,
    "start_time": "2022-02-25T22:30:53.186Z"
   },
   {
    "duration": 603,
    "start_time": "2022-02-25T22:34:11.852Z"
   },
   {
    "duration": 64,
    "start_time": "2022-02-25T22:34:12.457Z"
   },
   {
    "duration": 8,
    "start_time": "2022-02-25T22:34:12.523Z"
   },
   {
    "duration": 67,
    "start_time": "2022-02-25T22:34:12.533Z"
   },
   {
    "duration": 23,
    "start_time": "2022-02-25T22:34:12.602Z"
   },
   {
    "duration": 59,
    "start_time": "2022-02-25T22:34:12.628Z"
   },
   {
    "duration": 61,
    "start_time": "2022-02-25T22:34:12.689Z"
   },
   {
    "duration": 35,
    "start_time": "2022-02-25T22:34:12.753Z"
   },
   {
    "duration": 14,
    "start_time": "2022-02-25T22:34:12.790Z"
   },
   {
    "duration": 23,
    "start_time": "2022-02-25T22:34:12.806Z"
   },
   {
    "duration": 46,
    "start_time": "2022-02-25T22:34:12.831Z"
   },
   {
    "duration": 12,
    "start_time": "2022-02-25T22:34:12.879Z"
   },
   {
    "duration": 16,
    "start_time": "2022-02-25T22:34:12.893Z"
   },
   {
    "duration": 2635,
    "start_time": "2022-02-25T22:34:12.911Z"
   },
   {
    "duration": 10,
    "start_time": "2022-02-25T22:34:15.548Z"
   },
   {
    "duration": 5,
    "start_time": "2022-02-25T22:34:15.560Z"
   },
   {
    "duration": 6,
    "start_time": "2022-02-25T22:34:15.567Z"
   },
   {
    "duration": 7,
    "start_time": "2022-02-25T22:34:15.575Z"
   },
   {
    "duration": 101,
    "start_time": "2022-02-25T22:34:15.583Z"
   },
   {
    "duration": 6,
    "start_time": "2022-02-25T22:34:15.686Z"
   },
   {
    "duration": 6,
    "start_time": "2022-02-25T22:34:15.694Z"
   },
   {
    "duration": 20,
    "start_time": "2022-02-25T22:34:15.701Z"
   },
   {
    "duration": 10,
    "start_time": "2022-02-25T22:34:15.725Z"
   },
   {
    "duration": 10,
    "start_time": "2022-02-25T22:34:15.738Z"
   },
   {
    "duration": 12,
    "start_time": "2022-02-25T22:34:15.750Z"
   },
   {
    "duration": 4,
    "start_time": "2022-02-25T22:34:15.763Z"
   },
   {
    "duration": 4,
    "start_time": "2022-02-25T22:34:15.769Z"
   },
   {
    "duration": 52,
    "start_time": "2022-02-25T22:34:15.775Z"
   },
   {
    "duration": 2,
    "start_time": "2022-02-25T22:34:15.829Z"
   },
   {
    "duration": 275,
    "start_time": "2022-02-25T22:34:15.833Z"
   },
   {
    "duration": 285,
    "start_time": "2022-02-25T22:34:15.826Z"
   },
   {
    "duration": 275,
    "start_time": "2022-02-25T22:34:15.838Z"
   },
   {
    "duration": 264,
    "start_time": "2022-02-25T22:34:15.850Z"
   },
   {
    "duration": 259,
    "start_time": "2022-02-25T22:34:15.856Z"
   },
   {
    "duration": 250,
    "start_time": "2022-02-25T22:34:15.866Z"
   },
   {
    "duration": 244,
    "start_time": "2022-02-25T22:34:15.873Z"
   },
   {
    "duration": 235,
    "start_time": "2022-02-25T22:34:15.883Z"
   },
   {
    "duration": 230,
    "start_time": "2022-02-25T22:34:15.889Z"
   },
   {
    "duration": 188,
    "start_time": "2022-02-25T22:34:15.932Z"
   },
   {
    "duration": 182,
    "start_time": "2022-02-25T22:34:15.939Z"
   },
   {
    "duration": 173,
    "start_time": "2022-02-25T22:34:15.949Z"
   },
   {
    "duration": 167,
    "start_time": "2022-02-25T22:34:15.956Z"
   },
   {
    "duration": 158,
    "start_time": "2022-02-25T22:34:15.965Z"
   },
   {
    "duration": 152,
    "start_time": "2022-02-25T22:34:15.972Z"
   },
   {
    "duration": 144,
    "start_time": "2022-02-25T22:34:15.981Z"
   },
   {
    "duration": 139,
    "start_time": "2022-02-25T22:34:15.986Z"
   },
   {
    "duration": 130,
    "start_time": "2022-02-25T22:34:15.996Z"
   },
   {
    "duration": 126,
    "start_time": "2022-02-25T22:34:16.001Z"
   },
   {
    "duration": 120,
    "start_time": "2022-02-25T22:34:16.008Z"
   },
   {
    "duration": 112,
    "start_time": "2022-02-25T22:34:16.017Z"
   },
   {
    "duration": 105,
    "start_time": "2022-02-25T22:34:16.024Z"
   },
   {
    "duration": 97,
    "start_time": "2022-02-25T22:34:16.033Z"
   },
   {
    "duration": 91,
    "start_time": "2022-02-25T22:34:16.040Z"
   },
   {
    "duration": 84,
    "start_time": "2022-02-25T22:34:16.048Z"
   },
   {
    "duration": 79,
    "start_time": "2022-02-25T22:34:16.054Z"
   },
   {
    "duration": 70,
    "start_time": "2022-02-25T22:34:16.063Z"
   },
   {
    "duration": 64,
    "start_time": "2022-02-25T22:34:16.070Z"
   },
   {
    "duration": 56,
    "start_time": "2022-02-25T22:34:16.079Z"
   },
   {
    "duration": 51,
    "start_time": "2022-02-25T22:34:16.085Z"
   },
   {
    "duration": 45,
    "start_time": "2022-02-25T22:34:16.092Z"
   },
   {
    "duration": 37,
    "start_time": "2022-02-25T22:34:16.101Z"
   },
   {
    "duration": 32,
    "start_time": "2022-02-25T22:34:16.107Z"
   },
   {
    "duration": 24,
    "start_time": "2022-02-25T22:34:16.116Z"
   },
   {
    "duration": 18,
    "start_time": "2022-02-25T22:34:16.122Z"
   },
   {
    "duration": 10,
    "start_time": "2022-02-25T22:34:16.131Z"
   },
   {
    "duration": 5,
    "start_time": "2022-02-25T22:34:16.137Z"
   },
   {
    "duration": -3,
    "start_time": "2022-02-25T22:34:16.146Z"
   },
   {
    "duration": -9,
    "start_time": "2022-02-25T22:34:16.152Z"
   },
   {
    "duration": -15,
    "start_time": "2022-02-25T22:34:16.159Z"
   },
   {
    "duration": -23,
    "start_time": "2022-02-25T22:34:16.168Z"
   },
   {
    "duration": -28,
    "start_time": "2022-02-25T22:34:16.174Z"
   },
   {
    "duration": -37,
    "start_time": "2022-02-25T22:34:16.184Z"
   },
   {
    "duration": -41,
    "start_time": "2022-02-25T22:34:16.190Z"
   },
   {
    "duration": -49,
    "start_time": "2022-02-25T22:34:16.199Z"
   },
   {
    "duration": -55,
    "start_time": "2022-02-25T22:34:16.206Z"
   },
   {
    "duration": -64,
    "start_time": "2022-02-25T22:34:16.216Z"
   },
   {
    "duration": -69,
    "start_time": "2022-02-25T22:34:16.222Z"
   },
   {
    "duration": -77,
    "start_time": "2022-02-25T22:34:16.231Z"
   },
   {
    "duration": -82,
    "start_time": "2022-02-25T22:34:16.237Z"
   },
   {
    "duration": -91,
    "start_time": "2022-02-25T22:34:16.247Z"
   },
   {
    "duration": -95,
    "start_time": "2022-02-25T22:34:16.252Z"
   },
   {
    "duration": -100,
    "start_time": "2022-02-25T22:34:16.258Z"
   },
   {
    "duration": -109,
    "start_time": "2022-02-25T22:34:16.268Z"
   },
   {
    "duration": -55,
    "start_time": "2022-02-25T22:34:16.274Z"
   },
   {
    "duration": -63,
    "start_time": "2022-02-25T22:34:16.284Z"
   },
   {
    "duration": 216,
    "start_time": "2022-02-25T22:34:38.929Z"
   },
   {
    "duration": 215,
    "start_time": "2022-02-25T22:34:49.316Z"
   },
   {
    "duration": 23175,
    "start_time": "2022-02-25T22:35:47.483Z"
   },
   {
    "duration": 5,
    "start_time": "2022-02-25T22:36:15.242Z"
   },
   {
    "duration": 633,
    "start_time": "2022-02-25T22:36:27.793Z"
   },
   {
    "duration": 57,
    "start_time": "2022-02-25T22:36:28.428Z"
   },
   {
    "duration": 7,
    "start_time": "2022-02-25T22:36:28.487Z"
   },
   {
    "duration": 73,
    "start_time": "2022-02-25T22:36:28.496Z"
   },
   {
    "duration": 11,
    "start_time": "2022-02-25T22:36:28.571Z"
   },
   {
    "duration": 46,
    "start_time": "2022-02-25T22:36:28.584Z"
   },
   {
    "duration": 3,
    "start_time": "2022-02-25T22:36:28.632Z"
   },
   {
    "duration": 9,
    "start_time": "2022-02-25T22:36:28.637Z"
   },
   {
    "duration": 4,
    "start_time": "2022-02-25T22:36:28.648Z"
   },
   {
    "duration": 11,
    "start_time": "2022-02-25T22:36:28.654Z"
   },
   {
    "duration": 11,
    "start_time": "2022-02-25T22:36:28.667Z"
   },
   {
    "duration": 43,
    "start_time": "2022-02-25T22:36:28.680Z"
   },
   {
    "duration": 8,
    "start_time": "2022-02-25T22:36:28.724Z"
   },
   {
    "duration": 2486,
    "start_time": "2022-02-25T22:36:28.733Z"
   },
   {
    "duration": 10,
    "start_time": "2022-02-25T22:36:31.221Z"
   },
   {
    "duration": 5,
    "start_time": "2022-02-25T22:36:31.233Z"
   },
   {
    "duration": 8,
    "start_time": "2022-02-25T22:36:31.239Z"
   },
   {
    "duration": 6,
    "start_time": "2022-02-25T22:36:31.249Z"
   },
   {
    "duration": 96,
    "start_time": "2022-02-25T22:36:31.257Z"
   },
   {
    "duration": 8,
    "start_time": "2022-02-25T22:36:31.355Z"
   },
   {
    "duration": 14,
    "start_time": "2022-02-25T22:36:31.364Z"
   },
   {
    "duration": 7,
    "start_time": "2022-02-25T22:36:31.379Z"
   },
   {
    "duration": 11,
    "start_time": "2022-02-25T22:36:31.390Z"
   },
   {
    "duration": 28,
    "start_time": "2022-02-25T22:36:31.404Z"
   },
   {
    "duration": 16,
    "start_time": "2022-02-25T22:36:31.434Z"
   },
   {
    "duration": 4,
    "start_time": "2022-02-25T22:36:31.451Z"
   },
   {
    "duration": 6,
    "start_time": "2022-02-25T22:36:31.457Z"
   },
   {
    "duration": 21,
    "start_time": "2022-02-25T22:36:31.464Z"
   },
   {
    "duration": 2,
    "start_time": "2022-02-25T22:36:31.486Z"
   },
   {
    "duration": 23587,
    "start_time": "2022-02-25T22:36:31.490Z"
   },
   {
    "duration": 5,
    "start_time": "2022-02-25T22:36:55.079Z"
   },
   {
    "duration": 12,
    "start_time": "2022-02-25T22:36:55.086Z"
   },
   {
    "duration": 21,
    "start_time": "2022-02-25T22:36:55.100Z"
   },
   {
    "duration": 8,
    "start_time": "2022-02-25T22:36:55.123Z"
   },
   {
    "duration": 16,
    "start_time": "2022-02-25T22:36:55.133Z"
   },
   {
    "duration": 9,
    "start_time": "2022-02-25T22:36:55.151Z"
   },
   {
    "duration": 5,
    "start_time": "2022-02-25T22:36:55.162Z"
   },
   {
    "duration": 4,
    "start_time": "2022-02-25T22:36:55.169Z"
   },
   {
    "duration": 6,
    "start_time": "2022-02-25T22:36:55.175Z"
   },
   {
    "duration": 4,
    "start_time": "2022-02-25T22:36:55.219Z"
   },
   {
    "duration": 9,
    "start_time": "2022-02-25T22:36:55.225Z"
   },
   {
    "duration": 4,
    "start_time": "2022-02-25T22:36:55.235Z"
   },
   {
    "duration": 14,
    "start_time": "2022-02-25T22:36:55.241Z"
   },
   {
    "duration": 602,
    "start_time": "2022-02-25T22:36:55.257Z"
   },
   {
    "duration": 22,
    "start_time": "2022-02-25T22:36:55.861Z"
   },
   {
    "duration": 5,
    "start_time": "2022-02-25T22:36:55.884Z"
   },
   {
    "duration": 40,
    "start_time": "2022-02-25T22:36:55.890Z"
   },
   {
    "duration": 71,
    "start_time": "2022-02-25T22:36:55.932Z"
   },
   {
    "duration": 166,
    "start_time": "2022-02-25T22:36:56.005Z"
   },
   {
    "duration": 263,
    "start_time": "2022-02-25T22:36:56.174Z"
   },
   {
    "duration": 279,
    "start_time": "2022-02-25T22:36:56.439Z"
   },
   {
    "duration": 158,
    "start_time": "2022-02-25T22:36:56.720Z"
   },
   {
    "duration": 232,
    "start_time": "2022-02-25T22:36:56.880Z"
   },
   {
    "duration": 237,
    "start_time": "2022-02-25T22:36:57.113Z"
   },
   {
    "duration": 169,
    "start_time": "2022-02-25T22:36:57.351Z"
   },
   {
    "duration": 454,
    "start_time": "2022-02-25T22:36:57.522Z"
   },
   {
    "duration": 5,
    "start_time": "2022-02-25T22:36:57.977Z"
   },
   {
    "duration": 5,
    "start_time": "2022-02-25T22:36:57.984Z"
   },
   {
    "duration": 9,
    "start_time": "2022-02-25T22:36:57.991Z"
   },
   {
    "duration": 5,
    "start_time": "2022-02-25T22:36:58.019Z"
   },
   {
    "duration": 378,
    "start_time": "2022-02-25T22:36:58.026Z"
   },
   {
    "duration": 5,
    "start_time": "2022-02-25T22:36:58.405Z"
   },
   {
    "duration": 353,
    "start_time": "2022-02-25T22:36:58.419Z"
   },
   {
    "duration": 5,
    "start_time": "2022-02-25T22:36:58.774Z"
   },
   {
    "duration": 187,
    "start_time": "2022-02-25T22:36:58.781Z"
   },
   {
    "duration": 6,
    "start_time": "2022-02-25T22:36:58.970Z"
   },
   {
    "duration": 627,
    "start_time": "2022-02-25T22:36:58.978Z"
   },
   {
    "duration": 6,
    "start_time": "2022-02-25T22:36:59.619Z"
   },
   {
    "duration": 6,
    "start_time": "2022-02-25T22:36:59.627Z"
   },
   {
    "duration": 6,
    "start_time": "2022-02-25T22:36:59.635Z"
   },
   {
    "duration": 240,
    "start_time": "2022-02-25T22:36:59.643Z"
   },
   {
    "duration": 247,
    "start_time": "2022-02-25T22:36:59.885Z"
   },
   {
    "duration": 199,
    "start_time": "2022-02-25T22:37:00.134Z"
   },
   {
    "duration": 11,
    "start_time": "2022-02-25T22:37:00.335Z"
   },
   {
    "duration": 10,
    "start_time": "2022-02-25T22:37:00.348Z"
   },
   {
    "duration": 14,
    "start_time": "2022-02-25T22:37:00.360Z"
   },
   {
    "duration": 282,
    "start_time": "2022-02-25T22:37:00.375Z"
   },
   {
    "duration": 15,
    "start_time": "2022-02-25T22:37:00.659Z"
   },
   {
    "duration": 2907,
    "start_time": "2022-02-25T22:37:00.676Z"
   },
   {
    "duration": 218,
    "start_time": "2022-02-25T22:37:03.585Z"
   },
   {
    "duration": 314,
    "start_time": "2022-02-25T22:37:03.805Z"
   },
   {
    "duration": 293,
    "start_time": "2022-02-25T22:37:04.120Z"
   },
   {
    "duration": 222,
    "start_time": "2022-02-25T22:37:04.418Z"
   },
   {
    "duration": 232,
    "start_time": "2022-02-25T22:37:04.642Z"
   },
   {
    "duration": 223,
    "start_time": "2022-02-25T22:37:04.876Z"
   },
   {
    "duration": 332,
    "start_time": "2022-02-25T22:40:35.333Z"
   },
   {
    "duration": 645,
    "start_time": "2022-02-25T22:51:49.106Z"
   },
   {
    "duration": 55,
    "start_time": "2022-02-25T22:51:49.753Z"
   },
   {
    "duration": 8,
    "start_time": "2022-02-25T22:51:49.811Z"
   },
   {
    "duration": 63,
    "start_time": "2022-02-25T22:51:49.821Z"
   },
   {
    "duration": 10,
    "start_time": "2022-02-25T22:51:49.886Z"
   },
   {
    "duration": 46,
    "start_time": "2022-02-25T22:51:49.897Z"
   },
   {
    "duration": 3,
    "start_time": "2022-02-25T22:51:49.945Z"
   },
   {
    "duration": 10,
    "start_time": "2022-02-25T22:51:49.951Z"
   },
   {
    "duration": 5,
    "start_time": "2022-02-25T22:51:49.963Z"
   },
   {
    "duration": 9,
    "start_time": "2022-02-25T22:51:49.969Z"
   },
   {
    "duration": 39,
    "start_time": "2022-02-25T22:51:49.980Z"
   },
   {
    "duration": 6,
    "start_time": "2022-02-25T22:51:50.021Z"
   },
   {
    "duration": 10,
    "start_time": "2022-02-25T22:51:50.029Z"
   },
   {
    "duration": 2494,
    "start_time": "2022-02-25T22:51:50.040Z"
   },
   {
    "duration": 10,
    "start_time": "2022-02-25T22:51:52.536Z"
   },
   {
    "duration": 6,
    "start_time": "2022-02-25T22:51:52.547Z"
   },
   {
    "duration": 7,
    "start_time": "2022-02-25T22:51:52.554Z"
   },
   {
    "duration": 5,
    "start_time": "2022-02-25T22:51:52.563Z"
   },
   {
    "duration": 96,
    "start_time": "2022-02-25T22:51:52.570Z"
   },
   {
    "duration": 5,
    "start_time": "2022-02-25T22:51:52.668Z"
   },
   {
    "duration": 4,
    "start_time": "2022-02-25T22:51:52.675Z"
   },
   {
    "duration": 4,
    "start_time": "2022-02-25T22:51:52.681Z"
   },
   {
    "duration": 32,
    "start_time": "2022-02-25T22:51:52.688Z"
   },
   {
    "duration": 10,
    "start_time": "2022-02-25T22:51:52.723Z"
   },
   {
    "duration": 14,
    "start_time": "2022-02-25T22:51:52.734Z"
   },
   {
    "duration": 4,
    "start_time": "2022-02-25T22:51:52.749Z"
   },
   {
    "duration": 8,
    "start_time": "2022-02-25T22:51:52.754Z"
   },
   {
    "duration": 21,
    "start_time": "2022-02-25T22:51:52.764Z"
   },
   {
    "duration": 22372,
    "start_time": "2022-02-25T22:51:52.787Z"
   },
   {
    "duration": 6,
    "start_time": "2022-02-25T22:52:15.161Z"
   },
   {
    "duration": 13,
    "start_time": "2022-02-25T22:52:15.168Z"
   },
   {
    "duration": 4,
    "start_time": "2022-02-25T22:52:15.183Z"
   },
   {
    "duration": 32,
    "start_time": "2022-02-25T22:52:15.188Z"
   },
   {
    "duration": 13,
    "start_time": "2022-02-25T22:52:15.222Z"
   },
   {
    "duration": 7,
    "start_time": "2022-02-25T22:52:15.237Z"
   },
   {
    "duration": 5,
    "start_time": "2022-02-25T22:52:15.246Z"
   },
   {
    "duration": 12,
    "start_time": "2022-02-25T22:52:15.253Z"
   },
   {
    "duration": 7,
    "start_time": "2022-02-25T22:52:15.266Z"
   },
   {
    "duration": 5,
    "start_time": "2022-02-25T22:52:15.274Z"
   },
   {
    "duration": 7,
    "start_time": "2022-02-25T22:52:15.281Z"
   },
   {
    "duration": 30,
    "start_time": "2022-02-25T22:52:15.289Z"
   },
   {
    "duration": 15,
    "start_time": "2022-02-25T22:52:15.321Z"
   },
   {
    "duration": 589,
    "start_time": "2022-02-25T22:52:15.337Z"
   },
   {
    "duration": 22,
    "start_time": "2022-02-25T22:52:15.928Z"
   },
   {
    "duration": 5,
    "start_time": "2022-02-25T22:52:15.951Z"
   },
   {
    "duration": 27,
    "start_time": "2022-02-25T22:52:15.957Z"
   },
   {
    "duration": 94,
    "start_time": "2022-02-25T22:52:15.986Z"
   },
   {
    "duration": 146,
    "start_time": "2022-02-25T22:52:16.082Z"
   },
   {
    "duration": 234,
    "start_time": "2022-02-25T22:52:16.230Z"
   },
   {
    "duration": 277,
    "start_time": "2022-02-25T22:52:16.467Z"
   },
   {
    "duration": 155,
    "start_time": "2022-02-25T22:52:16.746Z"
   },
   {
    "duration": 226,
    "start_time": "2022-02-25T22:52:16.902Z"
   },
   {
    "duration": 216,
    "start_time": "2022-02-25T22:52:17.129Z"
   },
   {
    "duration": 165,
    "start_time": "2022-02-25T22:52:17.347Z"
   },
   {
    "duration": 423,
    "start_time": "2022-02-25T22:52:17.513Z"
   },
   {
    "duration": 4,
    "start_time": "2022-02-25T22:52:17.938Z"
   },
   {
    "duration": 5,
    "start_time": "2022-02-25T22:52:17.943Z"
   },
   {
    "duration": 8,
    "start_time": "2022-02-25T22:52:17.949Z"
   },
   {
    "duration": 4,
    "start_time": "2022-02-25T22:52:17.959Z"
   },
   {
    "duration": 367,
    "start_time": "2022-02-25T22:52:17.965Z"
   },
   {
    "duration": 5,
    "start_time": "2022-02-25T22:52:18.334Z"
   },
   {
    "duration": 363,
    "start_time": "2022-02-25T22:52:18.341Z"
   },
   {
    "duration": 14,
    "start_time": "2022-02-25T22:52:18.706Z"
   },
   {
    "duration": 167,
    "start_time": "2022-02-25T22:52:18.721Z"
   },
   {
    "duration": 6,
    "start_time": "2022-02-25T22:52:18.889Z"
   },
   {
    "duration": 602,
    "start_time": "2022-02-25T22:52:18.897Z"
   },
   {
    "duration": 5,
    "start_time": "2022-02-25T22:52:19.501Z"
   },
   {
    "duration": 5,
    "start_time": "2022-02-25T22:52:19.519Z"
   },
   {
    "duration": 5,
    "start_time": "2022-02-25T22:52:19.526Z"
   },
   {
    "duration": 230,
    "start_time": "2022-02-25T22:52:19.532Z"
   },
   {
    "duration": 244,
    "start_time": "2022-02-25T22:52:19.763Z"
   },
   {
    "duration": 205,
    "start_time": "2022-02-25T22:52:20.009Z"
   },
   {
    "duration": 9,
    "start_time": "2022-02-25T22:52:20.219Z"
   },
   {
    "duration": 7,
    "start_time": "2022-02-25T22:52:20.230Z"
   },
   {
    "duration": 7,
    "start_time": "2022-02-25T22:52:20.239Z"
   },
   {
    "duration": 297,
    "start_time": "2022-02-25T22:52:20.247Z"
   },
   {
    "duration": 17,
    "start_time": "2022-02-25T22:52:20.546Z"
   },
   {
    "duration": 3047,
    "start_time": "2022-02-25T22:52:20.565Z"
   },
   {
    "duration": 211,
    "start_time": "2022-02-25T22:52:23.613Z"
   },
   {
    "duration": 319,
    "start_time": "2022-02-25T22:52:23.826Z"
   },
   {
    "duration": 285,
    "start_time": "2022-02-25T22:52:24.147Z"
   },
   {
    "duration": 219,
    "start_time": "2022-02-25T22:52:24.433Z"
   },
   {
    "duration": 226,
    "start_time": "2022-02-25T22:52:24.654Z"
   },
   {
    "duration": 223,
    "start_time": "2022-02-25T22:52:24.881Z"
   },
   {
    "duration": 746,
    "start_time": "2022-03-07T06:05:12.078Z"
   },
   {
    "duration": 71,
    "start_time": "2022-03-07T06:05:12.827Z"
   },
   {
    "duration": 9,
    "start_time": "2022-03-07T06:05:12.901Z"
   },
   {
    "duration": 84,
    "start_time": "2022-03-07T06:05:12.912Z"
   },
   {
    "duration": 14,
    "start_time": "2022-03-07T06:05:12.999Z"
   },
   {
    "duration": 66,
    "start_time": "2022-03-07T06:05:13.016Z"
   },
   {
    "duration": 5,
    "start_time": "2022-03-07T06:05:13.085Z"
   },
   {
    "duration": 15,
    "start_time": "2022-03-07T06:05:13.094Z"
   },
   {
    "duration": 6,
    "start_time": "2022-03-07T06:05:13.111Z"
   },
   {
    "duration": 9,
    "start_time": "2022-03-07T06:05:13.120Z"
   },
   {
    "duration": 60,
    "start_time": "2022-03-07T06:05:13.131Z"
   },
   {
    "duration": 8,
    "start_time": "2022-03-07T06:05:13.193Z"
   },
   {
    "duration": 9,
    "start_time": "2022-03-07T06:05:13.204Z"
   },
   {
    "duration": 4374,
    "start_time": "2022-03-07T06:05:13.216Z"
   },
   {
    "duration": 15,
    "start_time": "2022-03-07T06:05:17.592Z"
   },
   {
    "duration": 7,
    "start_time": "2022-03-07T06:05:17.609Z"
   },
   {
    "duration": 8,
    "start_time": "2022-03-07T06:05:17.618Z"
   },
   {
    "duration": 9,
    "start_time": "2022-03-07T06:05:17.628Z"
   },
   {
    "duration": 134,
    "start_time": "2022-03-07T06:05:17.639Z"
   },
   {
    "duration": 11,
    "start_time": "2022-03-07T06:05:17.782Z"
   },
   {
    "duration": 6,
    "start_time": "2022-03-07T06:05:17.795Z"
   },
   {
    "duration": 6,
    "start_time": "2022-03-07T06:05:17.803Z"
   },
   {
    "duration": 14,
    "start_time": "2022-03-07T06:05:17.815Z"
   },
   {
    "duration": 53,
    "start_time": "2022-03-07T06:05:17.833Z"
   },
   {
    "duration": 17,
    "start_time": "2022-03-07T06:05:17.889Z"
   },
   {
    "duration": 5,
    "start_time": "2022-03-07T06:05:17.908Z"
   },
   {
    "duration": 6,
    "start_time": "2022-03-07T06:05:17.915Z"
   },
   {
    "duration": 61,
    "start_time": "2022-03-07T06:05:17.923Z"
   },
   {
    "duration": 35371,
    "start_time": "2022-03-07T06:05:17.986Z"
   },
   {
    "duration": 8,
    "start_time": "2022-03-07T06:05:53.360Z"
   },
   {
    "duration": 28,
    "start_time": "2022-03-07T06:05:53.371Z"
   },
   {
    "duration": 7,
    "start_time": "2022-03-07T06:05:53.402Z"
   },
   {
    "duration": 22,
    "start_time": "2022-03-07T06:05:53.412Z"
   },
   {
    "duration": 47,
    "start_time": "2022-03-07T06:05:53.436Z"
   },
   {
    "duration": 14,
    "start_time": "2022-03-07T06:05:53.486Z"
   },
   {
    "duration": 16,
    "start_time": "2022-03-07T06:05:53.503Z"
   },
   {
    "duration": 18,
    "start_time": "2022-03-07T06:05:53.521Z"
   },
   {
    "duration": 10,
    "start_time": "2022-03-07T06:05:53.542Z"
   },
   {
    "duration": 31,
    "start_time": "2022-03-07T06:05:53.555Z"
   },
   {
    "duration": 17,
    "start_time": "2022-03-07T06:05:53.589Z"
   },
   {
    "duration": 12,
    "start_time": "2022-03-07T06:05:53.609Z"
   },
   {
    "duration": 39,
    "start_time": "2022-03-07T06:05:53.624Z"
   },
   {
    "duration": 879,
    "start_time": "2022-03-07T06:05:53.665Z"
   },
   {
    "duration": 44,
    "start_time": "2022-03-07T06:05:54.546Z"
   },
   {
    "duration": 10,
    "start_time": "2022-03-07T06:05:54.593Z"
   },
   {
    "duration": 48,
    "start_time": "2022-03-07T06:05:54.605Z"
   },
   {
    "duration": 131,
    "start_time": "2022-03-07T06:05:54.656Z"
   },
   {
    "duration": 222,
    "start_time": "2022-03-07T06:05:54.789Z"
   },
   {
    "duration": 359,
    "start_time": "2022-03-07T06:05:55.014Z"
   },
   {
    "duration": 382,
    "start_time": "2022-03-07T06:05:55.376Z"
   },
   {
    "duration": 223,
    "start_time": "2022-03-07T06:05:55.760Z"
   },
   {
    "duration": 327,
    "start_time": "2022-03-07T06:05:55.985Z"
   },
   {
    "duration": 339,
    "start_time": "2022-03-07T06:05:56.314Z"
   },
   {
    "duration": 260,
    "start_time": "2022-03-07T06:05:56.655Z"
   },
   {
    "duration": 613,
    "start_time": "2022-03-07T06:05:56.918Z"
   },
   {
    "duration": 6,
    "start_time": "2022-03-07T06:05:57.533Z"
   },
   {
    "duration": 6,
    "start_time": "2022-03-07T06:05:57.542Z"
   },
   {
    "duration": 35,
    "start_time": "2022-03-07T06:05:57.551Z"
   },
   {
    "duration": 6,
    "start_time": "2022-03-07T06:05:57.588Z"
   },
   {
    "duration": 506,
    "start_time": "2022-03-07T06:05:57.596Z"
   },
   {
    "duration": 7,
    "start_time": "2022-03-07T06:05:58.104Z"
   },
   {
    "duration": 505,
    "start_time": "2022-03-07T06:05:58.113Z"
   },
   {
    "duration": 8,
    "start_time": "2022-03-07T06:05:58.620Z"
   },
   {
    "duration": 289,
    "start_time": "2022-03-07T06:05:58.630Z"
   },
   {
    "duration": 7,
    "start_time": "2022-03-07T06:05:58.922Z"
   },
   {
    "duration": 840,
    "start_time": "2022-03-07T06:05:58.931Z"
   },
   {
    "duration": 12,
    "start_time": "2022-03-07T06:05:59.774Z"
   },
   {
    "duration": 7,
    "start_time": "2022-03-07T06:05:59.796Z"
   },
   {
    "duration": 8,
    "start_time": "2022-03-07T06:05:59.806Z"
   },
   {
    "duration": 354,
    "start_time": "2022-03-07T06:05:59.816Z"
   },
   {
    "duration": 358,
    "start_time": "2022-03-07T06:06:00.172Z"
   },
   {
    "duration": 291,
    "start_time": "2022-03-07T06:06:00.533Z"
   },
   {
    "duration": 16,
    "start_time": "2022-03-07T06:06:00.826Z"
   },
   {
    "duration": 14,
    "start_time": "2022-03-07T06:06:00.845Z"
   },
   {
    "duration": 14,
    "start_time": "2022-03-07T06:06:00.882Z"
   },
   {
    "duration": 421,
    "start_time": "2022-03-07T06:06:00.899Z"
   },
   {
    "duration": 22,
    "start_time": "2022-03-07T06:06:01.324Z"
   },
   {
    "duration": 4558,
    "start_time": "2022-03-07T06:06:01.348Z"
   },
   {
    "duration": 314,
    "start_time": "2022-03-07T06:06:05.908Z"
   },
   {
    "duration": 433,
    "start_time": "2022-03-07T06:06:06.224Z"
   },
   {
    "duration": 412,
    "start_time": "2022-03-07T06:06:06.660Z"
   },
   {
    "duration": 307,
    "start_time": "2022-03-07T06:06:07.075Z"
   },
   {
    "duration": 304,
    "start_time": "2022-03-07T06:06:07.385Z"
   },
   {
    "duration": 305,
    "start_time": "2022-03-07T06:06:07.691Z"
   },
   {
    "duration": 321,
    "start_time": "2022-03-07T18:14:25.348Z"
   },
   {
    "duration": 588,
    "start_time": "2022-03-07T18:14:35.853Z"
   },
   {
    "duration": 56,
    "start_time": "2022-03-07T18:14:36.442Z"
   },
   {
    "duration": 6,
    "start_time": "2022-03-07T18:14:36.500Z"
   },
   {
    "duration": 54,
    "start_time": "2022-03-07T18:14:36.508Z"
   },
   {
    "duration": 11,
    "start_time": "2022-03-07T18:14:36.563Z"
   },
   {
    "duration": 37,
    "start_time": "2022-03-07T18:14:36.576Z"
   },
   {
    "duration": 3,
    "start_time": "2022-03-07T18:14:36.615Z"
   },
   {
    "duration": 9,
    "start_time": "2022-03-07T18:14:36.620Z"
   },
   {
    "duration": 4,
    "start_time": "2022-03-07T18:14:36.630Z"
   },
   {
    "duration": 8,
    "start_time": "2022-03-07T18:14:36.636Z"
   },
   {
    "duration": 9,
    "start_time": "2022-03-07T18:14:36.646Z"
   },
   {
    "duration": 6,
    "start_time": "2022-03-07T18:14:36.656Z"
   },
   {
    "duration": 44,
    "start_time": "2022-03-07T18:14:36.664Z"
   },
   {
    "duration": 2371,
    "start_time": "2022-03-07T18:14:36.709Z"
   },
   {
    "duration": 9,
    "start_time": "2022-03-07T18:14:39.082Z"
   },
   {
    "duration": 5,
    "start_time": "2022-03-07T18:14:39.101Z"
   },
   {
    "duration": 6,
    "start_time": "2022-03-07T18:14:39.107Z"
   },
   {
    "duration": 5,
    "start_time": "2022-03-07T18:14:39.115Z"
   },
   {
    "duration": 58,
    "start_time": "2022-03-07T18:14:39.121Z"
   },
   {
    "duration": 22,
    "start_time": "2022-03-07T18:14:39.180Z"
   },
   {
    "duration": 5,
    "start_time": "2022-03-07T18:14:39.204Z"
   },
   {
    "duration": 4,
    "start_time": "2022-03-07T18:14:39.210Z"
   },
   {
    "duration": 9,
    "start_time": "2022-03-07T18:14:39.217Z"
   },
   {
    "duration": 8,
    "start_time": "2022-03-07T18:14:39.228Z"
   },
   {
    "duration": 14,
    "start_time": "2022-03-07T18:14:39.237Z"
   },
   {
    "duration": 3,
    "start_time": "2022-03-07T18:14:39.253Z"
   },
   {
    "duration": 9,
    "start_time": "2022-03-07T18:14:39.258Z"
   },
   {
    "duration": 48,
    "start_time": "2022-03-07T18:14:39.268Z"
   },
   {
    "duration": 20397,
    "start_time": "2022-03-07T18:14:39.318Z"
   },
   {
    "duration": 5,
    "start_time": "2022-03-07T18:14:59.716Z"
   },
   {
    "duration": 10,
    "start_time": "2022-03-07T18:14:59.723Z"
   },
   {
    "duration": 4,
    "start_time": "2022-03-07T18:14:59.735Z"
   },
   {
    "duration": 7,
    "start_time": "2022-03-07T18:14:59.740Z"
   },
   {
    "duration": 11,
    "start_time": "2022-03-07T18:14:59.749Z"
   },
   {
    "duration": 7,
    "start_time": "2022-03-07T18:14:59.761Z"
   },
   {
    "duration": 4,
    "start_time": "2022-03-07T18:14:59.801Z"
   },
   {
    "duration": 5,
    "start_time": "2022-03-07T18:14:59.806Z"
   },
   {
    "duration": 9,
    "start_time": "2022-03-07T18:14:59.812Z"
   },
   {
    "duration": 8,
    "start_time": "2022-03-07T18:14:59.823Z"
   },
   {
    "duration": 11,
    "start_time": "2022-03-07T18:14:59.832Z"
   },
   {
    "duration": 6,
    "start_time": "2022-03-07T18:14:59.845Z"
   },
   {
    "duration": 16,
    "start_time": "2022-03-07T18:14:59.853Z"
   },
   {
    "duration": 541,
    "start_time": "2022-03-07T18:14:59.870Z"
   },
   {
    "duration": 19,
    "start_time": "2022-03-07T18:15:00.413Z"
   },
   {
    "duration": 5,
    "start_time": "2022-03-07T18:15:00.434Z"
   },
   {
    "duration": 34,
    "start_time": "2022-03-07T18:15:00.441Z"
   },
   {
    "duration": 79,
    "start_time": "2022-03-07T18:15:00.477Z"
   },
   {
    "duration": 131,
    "start_time": "2022-03-07T18:15:00.558Z"
   },
   {
    "duration": 220,
    "start_time": "2022-03-07T18:15:00.691Z"
   },
   {
    "duration": 224,
    "start_time": "2022-03-07T18:15:00.912Z"
   },
   {
    "duration": 128,
    "start_time": "2022-03-07T18:15:01.138Z"
   },
   {
    "duration": 191,
    "start_time": "2022-03-07T18:15:01.268Z"
   },
   {
    "duration": 188,
    "start_time": "2022-03-07T18:15:01.461Z"
   },
   {
    "duration": 144,
    "start_time": "2022-03-07T18:15:01.651Z"
   },
   {
    "duration": 365,
    "start_time": "2022-03-07T18:15:01.797Z"
   },
   {
    "duration": 4,
    "start_time": "2022-03-07T18:15:02.164Z"
   },
   {
    "duration": 20,
    "start_time": "2022-03-07T18:15:02.169Z"
   },
   {
    "duration": 13,
    "start_time": "2022-03-07T18:15:02.190Z"
   },
   {
    "duration": 123,
    "start_time": "2022-03-07T18:15:02.204Z"
   },
   {
    "duration": 4,
    "start_time": "2022-03-07T18:15:02.329Z"
   },
   {
    "duration": 315,
    "start_time": "2022-03-07T18:15:02.334Z"
   },
   {
    "duration": 4,
    "start_time": "2022-03-07T18:15:02.651Z"
   },
   {
    "duration": 305,
    "start_time": "2022-03-07T18:15:02.657Z"
   },
   {
    "duration": 4,
    "start_time": "2022-03-07T18:15:02.964Z"
   },
   {
    "duration": 153,
    "start_time": "2022-03-07T18:15:02.970Z"
   },
   {
    "duration": 6,
    "start_time": "2022-03-07T18:15:03.124Z"
   },
   {
    "duration": 560,
    "start_time": "2022-03-07T18:15:03.132Z"
   },
   {
    "duration": 7,
    "start_time": "2022-03-07T18:15:03.696Z"
   },
   {
    "duration": 4,
    "start_time": "2022-03-07T18:15:03.705Z"
   },
   {
    "duration": 3,
    "start_time": "2022-03-07T18:15:03.711Z"
   },
   {
    "duration": 187,
    "start_time": "2022-03-07T18:15:03.716Z"
   },
   {
    "duration": 206,
    "start_time": "2022-03-07T18:15:03.905Z"
   },
   {
    "duration": 161,
    "start_time": "2022-03-07T18:15:04.113Z"
   },
   {
    "duration": 9,
    "start_time": "2022-03-07T18:15:04.276Z"
   },
   {
    "duration": 18,
    "start_time": "2022-03-07T18:15:04.286Z"
   },
   {
    "duration": 5,
    "start_time": "2022-03-07T18:15:04.306Z"
   },
   {
    "duration": 230,
    "start_time": "2022-03-07T18:15:04.313Z"
   },
   {
    "duration": 13,
    "start_time": "2022-03-07T18:15:04.544Z"
   },
   {
    "duration": 2444,
    "start_time": "2022-03-07T18:15:04.559Z"
   },
   {
    "duration": 255,
    "start_time": "2022-03-07T18:15:07.004Z"
   },
   {
    "duration": 172,
    "start_time": "2022-03-07T18:15:07.261Z"
   },
   {
    "duration": 237,
    "start_time": "2022-03-07T18:15:07.435Z"
   },
   {
    "duration": 175,
    "start_time": "2022-03-07T18:15:07.673Z"
   },
   {
    "duration": 185,
    "start_time": "2022-03-07T18:15:07.850Z"
   },
   {
    "duration": 180,
    "start_time": "2022-03-07T18:15:08.036Z"
   },
   {
    "duration": 117,
    "start_time": "2022-03-07T18:15:31.815Z"
   },
   {
    "duration": 129,
    "start_time": "2022-03-07T18:15:41.687Z"
   },
   {
    "duration": 127,
    "start_time": "2022-03-07T18:16:11.534Z"
   },
   {
    "duration": 118,
    "start_time": "2022-03-07T18:17:03.894Z"
   },
   {
    "duration": 121,
    "start_time": "2022-03-07T19:13:50.942Z"
   },
   {
    "duration": 182,
    "start_time": "2022-03-07T19:14:04.149Z"
   },
   {
    "duration": 193,
    "start_time": "2022-03-07T19:15:04.084Z"
   },
   {
    "duration": 116,
    "start_time": "2022-03-07T19:22:30.416Z"
   },
   {
    "duration": 190,
    "start_time": "2022-03-07T19:24:07.743Z"
   },
   {
    "duration": 175,
    "start_time": "2022-03-07T19:24:28.911Z"
   },
   {
    "duration": 118,
    "start_time": "2022-03-07T19:30:00.848Z"
   },
   {
    "duration": 122,
    "start_time": "2022-03-07T19:30:18.117Z"
   },
   {
    "duration": 125,
    "start_time": "2022-03-07T19:30:28.572Z"
   },
   {
    "duration": 118,
    "start_time": "2022-03-07T19:30:39.748Z"
   },
   {
    "duration": 122,
    "start_time": "2022-03-07T19:30:45.900Z"
   },
   {
    "duration": 130,
    "start_time": "2022-03-07T19:31:03.460Z"
   },
   {
    "duration": 177,
    "start_time": "2022-03-07T19:31:14.035Z"
   },
   {
    "duration": 121,
    "start_time": "2022-03-07T19:32:25.946Z"
   },
   {
    "duration": 121,
    "start_time": "2022-03-07T19:32:32.835Z"
   },
   {
    "duration": 117,
    "start_time": "2022-03-07T19:32:40.290Z"
   },
   {
    "duration": 126,
    "start_time": "2022-03-07T19:32:47.818Z"
   },
   {
    "duration": 120,
    "start_time": "2022-03-07T19:35:39.376Z"
   },
   {
    "duration": 124,
    "start_time": "2022-03-07T19:35:44.209Z"
   },
   {
    "duration": 205,
    "start_time": "2022-03-07T19:35:49.449Z"
   },
   {
    "duration": 300,
    "start_time": "2022-03-07T19:35:55.032Z"
   },
   {
    "duration": 987,
    "start_time": "2022-03-07T20:01:57.360Z"
   },
   {
    "duration": 1550,
    "start_time": "2022-03-07T20:01:58.349Z"
   },
   {
    "duration": 6,
    "start_time": "2022-03-07T20:01:59.901Z"
   },
   {
    "duration": 55,
    "start_time": "2022-03-07T20:01:59.909Z"
   },
   {
    "duration": 9,
    "start_time": "2022-03-07T20:01:59.966Z"
   },
   {
    "duration": 35,
    "start_time": "2022-03-07T20:01:59.977Z"
   },
   {
    "duration": 4,
    "start_time": "2022-03-07T20:02:00.013Z"
   },
   {
    "duration": 15,
    "start_time": "2022-03-07T20:02:00.019Z"
   },
   {
    "duration": 6,
    "start_time": "2022-03-07T20:02:00.036Z"
   },
   {
    "duration": 9,
    "start_time": "2022-03-07T20:02:00.043Z"
   },
   {
    "duration": 13,
    "start_time": "2022-03-07T20:02:00.053Z"
   },
   {
    "duration": 6,
    "start_time": "2022-03-07T20:02:00.068Z"
   },
   {
    "duration": 7,
    "start_time": "2022-03-07T20:02:00.075Z"
   },
   {
    "duration": 2471,
    "start_time": "2022-03-07T20:02:00.084Z"
   },
   {
    "duration": 10,
    "start_time": "2022-03-07T20:02:02.557Z"
   },
   {
    "duration": 5,
    "start_time": "2022-03-07T20:02:02.568Z"
   },
   {
    "duration": 6,
    "start_time": "2022-03-07T20:02:02.574Z"
   },
   {
    "duration": 23,
    "start_time": "2022-03-07T20:02:02.581Z"
   },
   {
    "duration": 61,
    "start_time": "2022-03-07T20:02:02.605Z"
   },
   {
    "duration": 7,
    "start_time": "2022-03-07T20:02:02.667Z"
   },
   {
    "duration": 25,
    "start_time": "2022-03-07T20:02:02.676Z"
   },
   {
    "duration": 4,
    "start_time": "2022-03-07T20:02:02.703Z"
   },
   {
    "duration": 10,
    "start_time": "2022-03-07T20:02:02.710Z"
   },
   {
    "duration": 10,
    "start_time": "2022-03-07T20:02:02.723Z"
   },
   {
    "duration": 12,
    "start_time": "2022-03-07T20:02:02.735Z"
   },
   {
    "duration": 3,
    "start_time": "2022-03-07T20:02:02.749Z"
   },
   {
    "duration": 8,
    "start_time": "2022-03-07T20:02:02.754Z"
   },
   {
    "duration": 52,
    "start_time": "2022-03-07T20:02:02.763Z"
   },
   {
    "duration": 20695,
    "start_time": "2022-03-07T20:02:02.817Z"
   },
   {
    "duration": 5,
    "start_time": "2022-03-07T20:02:23.514Z"
   },
   {
    "duration": 11,
    "start_time": "2022-03-07T20:02:23.521Z"
   },
   {
    "duration": 4,
    "start_time": "2022-03-07T20:02:23.533Z"
   },
   {
    "duration": 7,
    "start_time": "2022-03-07T20:02:23.539Z"
   },
   {
    "duration": 14,
    "start_time": "2022-03-07T20:02:23.548Z"
   },
   {
    "duration": 39,
    "start_time": "2022-03-07T20:02:23.563Z"
   },
   {
    "duration": 5,
    "start_time": "2022-03-07T20:02:23.603Z"
   },
   {
    "duration": 8,
    "start_time": "2022-03-07T20:02:23.609Z"
   },
   {
    "duration": 6,
    "start_time": "2022-03-07T20:02:23.618Z"
   },
   {
    "duration": 9,
    "start_time": "2022-03-07T20:02:23.626Z"
   },
   {
    "duration": 10,
    "start_time": "2022-03-07T20:02:23.636Z"
   },
   {
    "duration": 8,
    "start_time": "2022-03-07T20:02:23.647Z"
   },
   {
    "duration": 22,
    "start_time": "2022-03-07T20:02:23.656Z"
   },
   {
    "duration": 537,
    "start_time": "2022-03-07T20:02:23.679Z"
   },
   {
    "duration": 20,
    "start_time": "2022-03-07T20:02:24.217Z"
   },
   {
    "duration": 5,
    "start_time": "2022-03-07T20:02:24.239Z"
   },
   {
    "duration": 19,
    "start_time": "2022-03-07T20:02:24.245Z"
   },
   {
    "duration": 83,
    "start_time": "2022-03-07T20:02:24.265Z"
   },
   {
    "duration": 122,
    "start_time": "2022-03-07T20:02:24.350Z"
   },
   {
    "duration": 209,
    "start_time": "2022-03-07T20:02:24.474Z"
   },
   {
    "duration": 217,
    "start_time": "2022-03-07T20:02:24.684Z"
   },
   {
    "duration": 131,
    "start_time": "2022-03-07T20:02:24.903Z"
   },
   {
    "duration": 192,
    "start_time": "2022-03-07T20:02:25.035Z"
   },
   {
    "duration": 185,
    "start_time": "2022-03-07T20:02:25.228Z"
   },
   {
    "duration": 141,
    "start_time": "2022-03-07T20:02:25.415Z"
   },
   {
    "duration": 356,
    "start_time": "2022-03-07T20:02:25.557Z"
   },
   {
    "duration": 5,
    "start_time": "2022-03-07T20:02:25.914Z"
   },
   {
    "duration": 4,
    "start_time": "2022-03-07T20:02:25.921Z"
   },
   {
    "duration": 8,
    "start_time": "2022-03-07T20:02:25.927Z"
   },
   {
    "duration": 164,
    "start_time": "2022-03-07T20:02:25.937Z"
   },
   {
    "duration": 203,
    "start_time": "2022-03-07T20:02:26.103Z"
   },
   {
    "duration": 130,
    "start_time": "2022-03-07T20:02:26.308Z"
   },
   {
    "duration": 181,
    "start_time": "2022-03-07T20:02:26.439Z"
   },
   {
    "duration": 140,
    "start_time": "2022-03-07T20:02:26.622Z"
   },
   {
    "duration": 192,
    "start_time": "2022-03-07T20:02:26.764Z"
   },
   {
    "duration": 127,
    "start_time": "2022-03-07T20:02:26.957Z"
   },
   {
    "duration": 316,
    "start_time": "2022-03-07T20:02:27.085Z"
   },
   {
    "duration": 4,
    "start_time": "2022-03-07T20:02:27.403Z"
   },
   {
    "duration": 318,
    "start_time": "2022-03-07T20:02:27.412Z"
   },
   {
    "duration": 5,
    "start_time": "2022-03-07T20:02:27.732Z"
   },
   {
    "duration": 399,
    "start_time": "2022-03-07T20:02:27.739Z"
   },
   {
    "duration": 5,
    "start_time": "2022-03-07T20:02:28.139Z"
   },
   {
    "duration": 158,
    "start_time": "2022-03-07T20:02:28.145Z"
   },
   {
    "duration": 5,
    "start_time": "2022-03-07T20:02:28.304Z"
   },
   {
    "duration": 548,
    "start_time": "2022-03-07T20:02:28.310Z"
   },
   {
    "duration": 5,
    "start_time": "2022-03-07T20:02:28.860Z"
   },
   {
    "duration": 4,
    "start_time": "2022-03-07T20:02:28.866Z"
   },
   {
    "duration": 4,
    "start_time": "2022-03-07T20:02:28.872Z"
   },
   {
    "duration": 195,
    "start_time": "2022-03-07T20:02:28.878Z"
   },
   {
    "duration": 201,
    "start_time": "2022-03-07T20:02:29.075Z"
   },
   {
    "duration": 179,
    "start_time": "2022-03-07T20:02:29.278Z"
   },
   {
    "duration": 10,
    "start_time": "2022-03-07T20:02:29.459Z"
   },
   {
    "duration": 6,
    "start_time": "2022-03-07T20:02:29.471Z"
   },
   {
    "duration": 5,
    "start_time": "2022-03-07T20:02:29.478Z"
   },
   {
    "duration": 247,
    "start_time": "2022-03-07T20:02:29.485Z"
   },
   {
    "duration": 14,
    "start_time": "2022-03-07T20:02:29.733Z"
   },
   {
    "duration": 2652,
    "start_time": "2022-03-07T20:02:29.749Z"
   },
   {
    "duration": 184,
    "start_time": "2022-03-07T20:02:32.403Z"
   },
   {
    "duration": 184,
    "start_time": "2022-03-07T20:02:32.589Z"
   },
   {
    "duration": 249,
    "start_time": "2022-03-07T20:02:32.774Z"
   },
   {
    "duration": 288,
    "start_time": "2022-03-07T20:02:33.024Z"
   },
   {
    "duration": 291,
    "start_time": "2022-03-07T20:02:33.313Z"
   },
   {
    "duration": 187,
    "start_time": "2022-03-07T20:02:33.606Z"
   },
   {
    "duration": 777,
    "start_time": "2022-03-08T14:54:15.420Z"
   },
   {
    "duration": 70,
    "start_time": "2022-03-08T14:54:16.200Z"
   },
   {
    "duration": 9,
    "start_time": "2022-03-08T14:54:16.273Z"
   },
   {
    "duration": 84,
    "start_time": "2022-03-08T14:54:16.285Z"
   },
   {
    "duration": 14,
    "start_time": "2022-03-08T14:54:16.371Z"
   },
   {
    "duration": 66,
    "start_time": "2022-03-08T14:54:16.387Z"
   },
   {
    "duration": 6,
    "start_time": "2022-03-08T14:54:16.456Z"
   },
   {
    "duration": 14,
    "start_time": "2022-03-08T14:54:16.464Z"
   },
   {
    "duration": 7,
    "start_time": "2022-03-08T14:54:16.481Z"
   },
   {
    "duration": 9,
    "start_time": "2022-03-08T14:54:16.491Z"
   },
   {
    "duration": 56,
    "start_time": "2022-03-08T14:54:16.502Z"
   },
   {
    "duration": 9,
    "start_time": "2022-03-08T14:54:16.560Z"
   },
   {
    "duration": 8,
    "start_time": "2022-03-08T14:54:16.572Z"
   },
   {
    "duration": 4439,
    "start_time": "2022-03-08T14:54:16.583Z"
   },
   {
    "duration": 27,
    "start_time": "2022-03-08T14:54:21.024Z"
   },
   {
    "duration": 7,
    "start_time": "2022-03-08T14:54:21.054Z"
   },
   {
    "duration": 14,
    "start_time": "2022-03-08T14:54:21.063Z"
   },
   {
    "duration": 14,
    "start_time": "2022-03-08T14:54:21.079Z"
   },
   {
    "duration": 117,
    "start_time": "2022-03-08T14:54:21.096Z"
   },
   {
    "duration": 9,
    "start_time": "2022-03-08T14:54:21.216Z"
   },
   {
    "duration": 31,
    "start_time": "2022-03-08T14:54:21.227Z"
   },
   {
    "duration": 13,
    "start_time": "2022-03-08T14:54:21.261Z"
   },
   {
    "duration": 19,
    "start_time": "2022-03-08T14:54:21.276Z"
   },
   {
    "duration": 22,
    "start_time": "2022-03-08T14:54:21.298Z"
   },
   {
    "duration": 32,
    "start_time": "2022-03-08T14:54:21.323Z"
   },
   {
    "duration": 5,
    "start_time": "2022-03-08T14:54:21.357Z"
   },
   {
    "duration": 5,
    "start_time": "2022-03-08T14:54:21.370Z"
   },
   {
    "duration": 25,
    "start_time": "2022-03-08T14:54:21.378Z"
   },
   {
    "duration": 35928,
    "start_time": "2022-03-08T14:54:21.405Z"
   },
   {
    "duration": 7,
    "start_time": "2022-03-08T14:54:57.335Z"
   },
   {
    "duration": 15,
    "start_time": "2022-03-08T14:54:57.352Z"
   },
   {
    "duration": 5,
    "start_time": "2022-03-08T14:54:57.369Z"
   },
   {
    "duration": 11,
    "start_time": "2022-03-08T14:54:57.376Z"
   },
   {
    "duration": 18,
    "start_time": "2022-03-08T14:54:57.389Z"
   },
   {
    "duration": 51,
    "start_time": "2022-03-08T14:54:57.409Z"
   },
   {
    "duration": 7,
    "start_time": "2022-03-08T14:54:57.463Z"
   },
   {
    "duration": 5,
    "start_time": "2022-03-08T14:54:57.472Z"
   },
   {
    "duration": 8,
    "start_time": "2022-03-08T14:54:57.480Z"
   },
   {
    "duration": 5,
    "start_time": "2022-03-08T14:54:57.490Z"
   },
   {
    "duration": 55,
    "start_time": "2022-03-08T14:54:57.497Z"
   },
   {
    "duration": 6,
    "start_time": "2022-03-08T14:54:57.555Z"
   },
   {
    "duration": 18,
    "start_time": "2022-03-08T14:54:57.563Z"
   },
   {
    "duration": 963,
    "start_time": "2022-03-08T14:54:57.583Z"
   },
   {
    "duration": 34,
    "start_time": "2022-03-08T14:54:58.548Z"
   },
   {
    "duration": 6,
    "start_time": "2022-03-08T14:54:58.584Z"
   },
   {
    "duration": 61,
    "start_time": "2022-03-08T14:54:58.592Z"
   },
   {
    "duration": 116,
    "start_time": "2022-03-08T14:54:58.655Z"
   },
   {
    "duration": 214,
    "start_time": "2022-03-08T14:54:58.773Z"
   },
   {
    "duration": 364,
    "start_time": "2022-03-08T14:54:58.990Z"
   },
   {
    "duration": 382,
    "start_time": "2022-03-08T14:54:59.357Z"
   },
   {
    "duration": 239,
    "start_time": "2022-03-08T14:54:59.742Z"
   },
   {
    "duration": 330,
    "start_time": "2022-03-08T14:54:59.984Z"
   },
   {
    "duration": 343,
    "start_time": "2022-03-08T14:55:00.317Z"
   },
   {
    "duration": 255,
    "start_time": "2022-03-08T14:55:00.662Z"
   },
   {
    "duration": 636,
    "start_time": "2022-03-08T14:55:00.919Z"
   },
   {
    "duration": 7,
    "start_time": "2022-03-08T14:55:01.557Z"
   },
   {
    "duration": 7,
    "start_time": "2022-03-08T14:55:01.567Z"
   },
   {
    "duration": 13,
    "start_time": "2022-03-08T14:55:01.577Z"
   },
   {
    "duration": 289,
    "start_time": "2022-03-08T14:55:01.592Z"
   },
   {
    "duration": 382,
    "start_time": "2022-03-08T14:55:01.884Z"
   },
   {
    "duration": 245,
    "start_time": "2022-03-08T14:55:02.269Z"
   },
   {
    "duration": 338,
    "start_time": "2022-03-08T14:55:02.517Z"
   },
   {
    "duration": 245,
    "start_time": "2022-03-08T14:55:02.858Z"
   },
   {
    "duration": 332,
    "start_time": "2022-03-08T14:55:03.105Z"
   },
   {
    "duration": 226,
    "start_time": "2022-03-08T14:55:03.440Z"
   },
   {
    "duration": 588,
    "start_time": "2022-03-08T14:55:03.669Z"
   },
   {
    "duration": 8,
    "start_time": "2022-03-08T14:55:04.260Z"
   },
   {
    "duration": 554,
    "start_time": "2022-03-08T14:55:04.271Z"
   },
   {
    "duration": 23,
    "start_time": "2022-03-08T14:55:04.828Z"
   },
   {
    "duration": 575,
    "start_time": "2022-03-08T14:55:04.853Z"
   },
   {
    "duration": 21,
    "start_time": "2022-03-08T14:55:05.430Z"
   },
   {
    "duration": 255,
    "start_time": "2022-03-08T14:55:05.453Z"
   },
   {
    "duration": 6,
    "start_time": "2022-03-08T14:55:05.710Z"
   },
   {
    "duration": 874,
    "start_time": "2022-03-08T14:55:05.718Z"
   },
   {
    "duration": 9,
    "start_time": "2022-03-08T14:55:06.595Z"
   },
   {
    "duration": 7,
    "start_time": "2022-03-08T14:55:06.607Z"
   },
   {
    "duration": 8,
    "start_time": "2022-03-08T14:55:06.651Z"
   },
   {
    "duration": 340,
    "start_time": "2022-03-08T14:55:06.662Z"
   },
   {
    "duration": 363,
    "start_time": "2022-03-08T14:55:07.004Z"
   },
   {
    "duration": 302,
    "start_time": "2022-03-08T14:55:07.370Z"
   },
   {
    "duration": 13,
    "start_time": "2022-03-08T14:55:07.680Z"
   },
   {
    "duration": 10,
    "start_time": "2022-03-08T14:55:07.696Z"
   },
   {
    "duration": 7,
    "start_time": "2022-03-08T14:55:07.708Z"
   },
   {
    "duration": 430,
    "start_time": "2022-03-08T14:55:07.717Z"
   },
   {
    "duration": 19,
    "start_time": "2022-03-08T14:55:08.152Z"
   },
   {
    "duration": 4633,
    "start_time": "2022-03-08T14:55:08.174Z"
   },
   {
    "duration": 322,
    "start_time": "2022-03-08T14:55:12.809Z"
   },
   {
    "duration": 324,
    "start_time": "2022-03-08T14:55:13.133Z"
   },
   {
    "duration": 424,
    "start_time": "2022-03-08T14:55:13.460Z"
   },
   {
    "duration": 405,
    "start_time": "2022-03-08T14:55:13.886Z"
   },
   {
    "duration": 321,
    "start_time": "2022-03-08T14:55:14.293Z"
   },
   {
    "duration": 322,
    "start_time": "2022-03-08T14:55:14.617Z"
   },
   {
    "duration": 7,
    "start_time": "2022-03-08T14:55:55.736Z"
   },
   {
    "duration": 6,
    "start_time": "2022-03-08T14:55:59.683Z"
   },
   {
    "duration": 215,
    "start_time": "2022-03-08T16:28:36.532Z"
   },
   {
    "duration": 588,
    "start_time": "2022-03-08T16:28:45.608Z"
   },
   {
    "duration": 52,
    "start_time": "2022-03-08T16:28:46.198Z"
   },
   {
    "duration": 7,
    "start_time": "2022-03-08T16:28:46.252Z"
   },
   {
    "duration": 55,
    "start_time": "2022-03-08T16:28:46.261Z"
   },
   {
    "duration": 23,
    "start_time": "2022-03-08T16:28:46.318Z"
   },
   {
    "duration": 30,
    "start_time": "2022-03-08T16:28:46.342Z"
   },
   {
    "duration": 3,
    "start_time": "2022-03-08T16:28:46.374Z"
   },
   {
    "duration": 10,
    "start_time": "2022-03-08T16:28:46.380Z"
   },
   {
    "duration": 6,
    "start_time": "2022-03-08T16:28:46.392Z"
   },
   {
    "duration": 43,
    "start_time": "2022-03-08T16:28:46.399Z"
   },
   {
    "duration": 13,
    "start_time": "2022-03-08T16:28:46.444Z"
   },
   {
    "duration": 8,
    "start_time": "2022-03-08T16:28:46.459Z"
   },
   {
    "duration": 8,
    "start_time": "2022-03-08T16:28:46.468Z"
   },
   {
    "duration": 2363,
    "start_time": "2022-03-08T16:28:46.478Z"
   },
   {
    "duration": 11,
    "start_time": "2022-03-08T16:28:48.843Z"
   },
   {
    "duration": 5,
    "start_time": "2022-03-08T16:28:48.856Z"
   },
   {
    "duration": 7,
    "start_time": "2022-03-08T16:28:48.863Z"
   },
   {
    "duration": 6,
    "start_time": "2022-03-08T16:28:48.872Z"
   },
   {
    "duration": 96,
    "start_time": "2022-03-08T16:28:48.880Z"
   },
   {
    "duration": 7,
    "start_time": "2022-03-08T16:28:48.978Z"
   },
   {
    "duration": 8,
    "start_time": "2022-03-08T16:28:48.986Z"
   },
   {
    "duration": 5,
    "start_time": "2022-03-08T16:28:48.995Z"
   },
   {
    "duration": 34,
    "start_time": "2022-03-08T16:28:49.005Z"
   },
   {
    "duration": 10,
    "start_time": "2022-03-08T16:28:49.043Z"
   },
   {
    "duration": 12,
    "start_time": "2022-03-08T16:28:49.055Z"
   },
   {
    "duration": 4,
    "start_time": "2022-03-08T16:28:49.069Z"
   },
   {
    "duration": 16,
    "start_time": "2022-03-08T16:28:49.074Z"
   },
   {
    "duration": 21,
    "start_time": "2022-03-08T16:28:49.092Z"
   },
   {
    "duration": 21819,
    "start_time": "2022-03-08T16:28:49.115Z"
   },
   {
    "duration": 5,
    "start_time": "2022-03-08T16:29:10.936Z"
   },
   {
    "duration": 13,
    "start_time": "2022-03-08T16:29:10.943Z"
   },
   {
    "duration": 6,
    "start_time": "2022-03-08T16:29:10.958Z"
   },
   {
    "duration": 14,
    "start_time": "2022-03-08T16:29:10.965Z"
   },
   {
    "duration": 14,
    "start_time": "2022-03-08T16:29:10.981Z"
   },
   {
    "duration": 41,
    "start_time": "2022-03-08T16:29:10.997Z"
   },
   {
    "duration": 6,
    "start_time": "2022-03-08T16:29:11.040Z"
   },
   {
    "duration": 10,
    "start_time": "2022-03-08T16:29:11.048Z"
   },
   {
    "duration": 9,
    "start_time": "2022-03-08T16:29:11.060Z"
   },
   {
    "duration": 15,
    "start_time": "2022-03-08T16:29:11.070Z"
   },
   {
    "duration": 9,
    "start_time": "2022-03-08T16:29:11.087Z"
   },
   {
    "duration": 7,
    "start_time": "2022-03-08T16:29:11.098Z"
   },
   {
    "duration": 21,
    "start_time": "2022-03-08T16:29:11.106Z"
   },
   {
    "duration": 563,
    "start_time": "2022-03-08T16:29:11.129Z"
   },
   {
    "duration": 22,
    "start_time": "2022-03-08T16:29:11.694Z"
   },
   {
    "duration": 5,
    "start_time": "2022-03-08T16:29:11.717Z"
   },
   {
    "duration": 38,
    "start_time": "2022-03-08T16:29:11.723Z"
   },
   {
    "duration": 85,
    "start_time": "2022-03-08T16:29:11.762Z"
   },
   {
    "duration": 153,
    "start_time": "2022-03-08T16:29:11.849Z"
   },
   {
    "duration": 247,
    "start_time": "2022-03-08T16:29:12.005Z"
   },
   {
    "duration": 265,
    "start_time": "2022-03-08T16:29:12.254Z"
   },
   {
    "duration": 164,
    "start_time": "2022-03-08T16:29:12.521Z"
   },
   {
    "duration": 221,
    "start_time": "2022-03-08T16:29:12.687Z"
   },
   {
    "duration": 226,
    "start_time": "2022-03-08T16:29:12.911Z"
   },
   {
    "duration": 168,
    "start_time": "2022-03-08T16:29:13.139Z"
   },
   {
    "duration": 434,
    "start_time": "2022-03-08T16:29:13.309Z"
   },
   {
    "duration": 5,
    "start_time": "2022-03-08T16:29:13.744Z"
   },
   {
    "duration": 4,
    "start_time": "2022-03-08T16:29:13.751Z"
   },
   {
    "duration": 9,
    "start_time": "2022-03-08T16:29:13.756Z"
   },
   {
    "duration": 156,
    "start_time": "2022-03-08T16:29:13.767Z"
   },
   {
    "duration": 239,
    "start_time": "2022-03-08T16:29:13.924Z"
   },
   {
    "duration": 153,
    "start_time": "2022-03-08T16:29:14.164Z"
   },
   {
    "duration": 219,
    "start_time": "2022-03-08T16:29:14.319Z"
   },
   {
    "duration": 155,
    "start_time": "2022-03-08T16:29:14.540Z"
   },
   {
    "duration": 214,
    "start_time": "2022-03-08T16:29:14.696Z"
   },
   {
    "duration": 164,
    "start_time": "2022-03-08T16:29:14.912Z"
   },
   {
    "duration": 388,
    "start_time": "2022-03-08T16:29:15.078Z"
   },
   {
    "duration": 5,
    "start_time": "2022-03-08T16:29:15.468Z"
   },
   {
    "duration": 363,
    "start_time": "2022-03-08T16:29:15.478Z"
   },
   {
    "duration": 5,
    "start_time": "2022-03-08T16:29:15.843Z"
   },
   {
    "duration": 441,
    "start_time": "2022-03-08T16:29:15.849Z"
   },
   {
    "duration": 5,
    "start_time": "2022-03-08T16:29:16.292Z"
   },
   {
    "duration": 169,
    "start_time": "2022-03-08T16:29:16.298Z"
   },
   {
    "duration": 5,
    "start_time": "2022-03-08T16:29:16.469Z"
   },
   {
    "duration": 621,
    "start_time": "2022-03-08T16:29:16.475Z"
   },
   {
    "duration": 5,
    "start_time": "2022-03-08T16:29:17.098Z"
   },
   {
    "duration": 7,
    "start_time": "2022-03-08T16:29:17.104Z"
   },
   {
    "duration": 7,
    "start_time": "2022-03-08T16:29:17.113Z"
   },
   {
    "duration": 215,
    "start_time": "2022-03-08T16:29:17.121Z"
   },
   {
    "duration": 239,
    "start_time": "2022-03-08T16:29:17.338Z"
   },
   {
    "duration": 193,
    "start_time": "2022-03-08T16:29:17.579Z"
   },
   {
    "duration": 10,
    "start_time": "2022-03-08T16:29:17.774Z"
   },
   {
    "duration": 7,
    "start_time": "2022-03-08T16:29:17.786Z"
   },
   {
    "duration": 7,
    "start_time": "2022-03-08T16:29:17.794Z"
   },
   {
    "duration": 283,
    "start_time": "2022-03-08T16:29:17.803Z"
   },
   {
    "duration": 15,
    "start_time": "2022-03-08T16:29:18.087Z"
   },
   {
    "duration": 2969,
    "start_time": "2022-03-08T16:29:18.103Z"
   },
   {
    "duration": 205,
    "start_time": "2022-03-08T16:29:21.074Z"
   },
   {
    "duration": 222,
    "start_time": "2022-03-08T16:29:21.280Z"
   },
   {
    "duration": 272,
    "start_time": "2022-03-08T16:29:21.504Z"
   },
   {
    "duration": 341,
    "start_time": "2022-03-08T16:29:21.777Z"
   },
   {
    "duration": 217,
    "start_time": "2022-03-08T16:29:22.120Z"
   },
   {
    "duration": 214,
    "start_time": "2022-03-08T16:29:22.339Z"
   },
   {
    "duration": 5,
    "start_time": "2022-03-08T16:32:35.475Z"
   },
   {
    "duration": 10,
    "start_time": "2022-03-08T16:32:59.427Z"
   },
   {
    "duration": 9,
    "start_time": "2022-03-08T16:35:19.745Z"
   },
   {
    "duration": 217,
    "start_time": "2022-03-08T16:36:36.688Z"
   },
   {
    "duration": 10,
    "start_time": "2022-03-08T16:36:51.497Z"
   },
   {
    "duration": 14,
    "start_time": "2022-03-08T16:37:08.952Z"
   },
   {
    "duration": 747,
    "start_time": "2022-03-08T16:40:41.534Z"
   },
   {
    "duration": 670,
    "start_time": "2022-03-08T16:56:28.218Z"
   },
   {
    "duration": 12,
    "start_time": "2022-03-08T16:57:18.304Z"
   },
   {
    "duration": 10,
    "start_time": "2022-03-08T16:57:26.631Z"
   },
   {
    "duration": 10,
    "start_time": "2022-03-08T16:57:30.591Z"
   },
   {
    "duration": 10,
    "start_time": "2022-03-08T16:57:33.463Z"
   },
   {
    "duration": 11,
    "start_time": "2022-03-08T16:57:48.455Z"
   },
   {
    "duration": 4,
    "start_time": "2022-03-08T16:58:29.557Z"
   },
   {
    "duration": 761,
    "start_time": "2022-03-08T17:01:44.481Z"
   },
   {
    "duration": 56,
    "start_time": "2022-03-08T17:01:45.244Z"
   },
   {
    "duration": 7,
    "start_time": "2022-03-08T17:01:45.302Z"
   },
   {
    "duration": 69,
    "start_time": "2022-03-08T17:01:45.311Z"
   },
   {
    "duration": 24,
    "start_time": "2022-03-08T17:01:45.382Z"
   },
   {
    "duration": 34,
    "start_time": "2022-03-08T17:01:45.408Z"
   },
   {
    "duration": 4,
    "start_time": "2022-03-08T17:01:45.443Z"
   },
   {
    "duration": 13,
    "start_time": "2022-03-08T17:01:45.449Z"
   },
   {
    "duration": 5,
    "start_time": "2022-03-08T17:01:45.464Z"
   },
   {
    "duration": 12,
    "start_time": "2022-03-08T17:01:45.471Z"
   },
   {
    "duration": 11,
    "start_time": "2022-03-08T17:01:45.485Z"
   },
   {
    "duration": 6,
    "start_time": "2022-03-08T17:01:45.498Z"
   },
   {
    "duration": 39,
    "start_time": "2022-03-08T17:01:45.506Z"
   },
   {
    "duration": 2373,
    "start_time": "2022-03-08T17:01:45.547Z"
   },
   {
    "duration": 16,
    "start_time": "2022-03-08T17:01:47.921Z"
   },
   {
    "duration": 5,
    "start_time": "2022-03-08T17:01:47.939Z"
   },
   {
    "duration": 8,
    "start_time": "2022-03-08T17:01:47.946Z"
   },
   {
    "duration": 6,
    "start_time": "2022-03-08T17:01:47.955Z"
   },
   {
    "duration": 86,
    "start_time": "2022-03-08T17:01:47.963Z"
   },
   {
    "duration": 6,
    "start_time": "2022-03-08T17:01:48.051Z"
   },
   {
    "duration": 5,
    "start_time": "2022-03-08T17:01:48.058Z"
   },
   {
    "duration": 4,
    "start_time": "2022-03-08T17:01:48.065Z"
   },
   {
    "duration": 15,
    "start_time": "2022-03-08T17:01:48.073Z"
   },
   {
    "duration": 10,
    "start_time": "2022-03-08T17:01:48.090Z"
   },
   {
    "duration": 44,
    "start_time": "2022-03-08T17:01:48.102Z"
   },
   {
    "duration": 4,
    "start_time": "2022-03-08T17:01:48.147Z"
   },
   {
    "duration": 8,
    "start_time": "2022-03-08T17:01:48.153Z"
   },
   {
    "duration": 20,
    "start_time": "2022-03-08T17:01:48.163Z"
   },
   {
    "duration": 21875,
    "start_time": "2022-03-08T17:01:48.184Z"
   },
   {
    "duration": 5,
    "start_time": "2022-03-08T17:02:10.061Z"
   },
   {
    "duration": 31,
    "start_time": "2022-03-08T17:02:10.068Z"
   },
   {
    "duration": 5,
    "start_time": "2022-03-08T17:02:10.101Z"
   },
   {
    "duration": 12,
    "start_time": "2022-03-08T17:02:10.108Z"
   },
   {
    "duration": 24,
    "start_time": "2022-03-08T17:02:10.122Z"
   },
   {
    "duration": 9,
    "start_time": "2022-03-08T17:02:10.147Z"
   },
   {
    "duration": 6,
    "start_time": "2022-03-08T17:02:10.157Z"
   },
   {
    "duration": 5,
    "start_time": "2022-03-08T17:02:10.165Z"
   },
   {
    "duration": 7,
    "start_time": "2022-03-08T17:02:10.172Z"
   },
   {
    "duration": 9,
    "start_time": "2022-03-08T17:02:10.181Z"
   },
   {
    "duration": 13,
    "start_time": "2022-03-08T17:02:10.192Z"
   },
   {
    "duration": 33,
    "start_time": "2022-03-08T17:02:10.207Z"
   },
   {
    "duration": 20,
    "start_time": "2022-03-08T17:02:10.241Z"
   },
   {
    "duration": 573,
    "start_time": "2022-03-08T17:02:10.263Z"
   },
   {
    "duration": 23,
    "start_time": "2022-03-08T17:02:10.838Z"
   },
   {
    "duration": 7,
    "start_time": "2022-03-08T17:02:10.862Z"
   },
   {
    "duration": 23,
    "start_time": "2022-03-08T17:02:10.870Z"
   },
   {
    "duration": 93,
    "start_time": "2022-03-08T17:02:10.895Z"
   },
   {
    "duration": 159,
    "start_time": "2022-03-08T17:02:10.990Z"
   },
   {
    "duration": 251,
    "start_time": "2022-03-08T17:02:11.151Z"
   },
   {
    "duration": 266,
    "start_time": "2022-03-08T17:02:11.404Z"
   },
   {
    "duration": 157,
    "start_time": "2022-03-08T17:02:11.672Z"
   },
   {
    "duration": 230,
    "start_time": "2022-03-08T17:02:11.831Z"
   },
   {
    "duration": 226,
    "start_time": "2022-03-08T17:02:12.063Z"
   },
   {
    "duration": 167,
    "start_time": "2022-03-08T17:02:12.290Z"
   },
   {
    "duration": 457,
    "start_time": "2022-03-08T17:02:12.459Z"
   },
   {
    "duration": 5,
    "start_time": "2022-03-08T17:02:12.918Z"
   },
   {
    "duration": 14,
    "start_time": "2022-03-08T17:02:12.925Z"
   },
   {
    "duration": 11,
    "start_time": "2022-03-08T17:02:12.940Z"
   },
   {
    "duration": 8,
    "start_time": "2022-03-08T17:02:12.953Z"
   },
   {
    "duration": 13,
    "start_time": "2022-03-08T17:02:12.963Z"
   },
   {
    "duration": 11,
    "start_time": "2022-03-08T17:02:12.978Z"
   },
   {
    "duration": 9,
    "start_time": "2022-03-08T17:02:12.991Z"
   },
   {
    "duration": 44,
    "start_time": "2022-03-08T17:02:13.002Z"
   },
   {
    "duration": 12,
    "start_time": "2022-03-08T17:02:13.048Z"
   },
   {
    "duration": 3,
    "start_time": "2022-03-08T17:02:13.062Z"
   },
   {
    "duration": 179,
    "start_time": "2022-03-08T17:02:13.067Z"
   },
   {
    "duration": 252,
    "start_time": "2022-03-08T17:02:13.248Z"
   },
   {
    "duration": 169,
    "start_time": "2022-03-08T17:02:13.506Z"
   },
   {
    "duration": 231,
    "start_time": "2022-03-08T17:02:13.678Z"
   },
   {
    "duration": 168,
    "start_time": "2022-03-08T17:02:13.910Z"
   },
   {
    "duration": 232,
    "start_time": "2022-03-08T17:02:14.079Z"
   },
   {
    "duration": 159,
    "start_time": "2022-03-08T17:02:14.314Z"
   },
   {
    "duration": 374,
    "start_time": "2022-03-08T17:02:14.475Z"
   },
   {
    "duration": 5,
    "start_time": "2022-03-08T17:02:14.850Z"
   },
   {
    "duration": 375,
    "start_time": "2022-03-08T17:02:14.856Z"
   },
   {
    "duration": 7,
    "start_time": "2022-03-08T17:02:15.233Z"
   },
   {
    "duration": 409,
    "start_time": "2022-03-08T17:02:15.241Z"
   },
   {
    "duration": 5,
    "start_time": "2022-03-08T17:02:15.652Z"
   },
   {
    "duration": 165,
    "start_time": "2022-03-08T17:02:15.658Z"
   },
   {
    "duration": 5,
    "start_time": "2022-03-08T17:02:15.824Z"
   },
   {
    "duration": 552,
    "start_time": "2022-03-08T17:02:15.838Z"
   },
   {
    "duration": 5,
    "start_time": "2022-03-08T17:02:16.392Z"
   },
   {
    "duration": 9,
    "start_time": "2022-03-08T17:02:16.399Z"
   },
   {
    "duration": 5,
    "start_time": "2022-03-08T17:02:16.409Z"
   },
   {
    "duration": 213,
    "start_time": "2022-03-08T17:02:16.416Z"
   },
   {
    "duration": 213,
    "start_time": "2022-03-08T17:02:16.631Z"
   },
   {
    "duration": 186,
    "start_time": "2022-03-08T17:02:16.846Z"
   },
   {
    "duration": 10,
    "start_time": "2022-03-08T17:02:17.037Z"
   },
   {
    "duration": 8,
    "start_time": "2022-03-08T17:02:17.048Z"
   },
   {
    "duration": 7,
    "start_time": "2022-03-08T17:02:17.057Z"
   },
   {
    "duration": 274,
    "start_time": "2022-03-08T17:02:17.066Z"
   },
   {
    "duration": 14,
    "start_time": "2022-03-08T17:02:17.342Z"
   },
   {
    "duration": 2982,
    "start_time": "2022-03-08T17:02:17.358Z"
   },
   {
    "duration": 215,
    "start_time": "2022-03-08T17:02:20.341Z"
   },
   {
    "duration": 200,
    "start_time": "2022-03-08T17:02:20.558Z"
   },
   {
    "duration": 269,
    "start_time": "2022-03-08T17:02:20.760Z"
   },
   {
    "duration": 346,
    "start_time": "2022-03-08T17:02:21.031Z"
   },
   {
    "duration": 219,
    "start_time": "2022-03-08T17:02:21.378Z"
   },
   {
    "duration": 201,
    "start_time": "2022-03-08T17:02:21.599Z"
   },
   {
    "duration": 4,
    "start_time": "2022-03-08T17:05:09.851Z"
   },
   {
    "duration": 621,
    "start_time": "2022-03-08T17:07:22.922Z"
   },
   {
    "duration": 60,
    "start_time": "2022-03-08T17:07:23.545Z"
   },
   {
    "duration": 8,
    "start_time": "2022-03-08T17:07:23.607Z"
   },
   {
    "duration": 72,
    "start_time": "2022-03-08T17:07:23.617Z"
   },
   {
    "duration": 10,
    "start_time": "2022-03-08T17:07:23.691Z"
   },
   {
    "duration": 44,
    "start_time": "2022-03-08T17:07:23.703Z"
   },
   {
    "duration": 4,
    "start_time": "2022-03-08T17:07:23.749Z"
   },
   {
    "duration": 18,
    "start_time": "2022-03-08T17:07:23.755Z"
   },
   {
    "duration": 5,
    "start_time": "2022-03-08T17:07:23.775Z"
   },
   {
    "duration": 13,
    "start_time": "2022-03-08T17:07:23.781Z"
   },
   {
    "duration": 15,
    "start_time": "2022-03-08T17:07:23.796Z"
   },
   {
    "duration": 25,
    "start_time": "2022-03-08T17:07:23.813Z"
   },
   {
    "duration": 7,
    "start_time": "2022-03-08T17:07:23.840Z"
   },
   {
    "duration": 2449,
    "start_time": "2022-03-08T17:07:23.849Z"
   },
   {
    "duration": 10,
    "start_time": "2022-03-08T17:07:26.300Z"
   },
   {
    "duration": 5,
    "start_time": "2022-03-08T17:07:26.312Z"
   },
   {
    "duration": 21,
    "start_time": "2022-03-08T17:07:26.319Z"
   },
   {
    "duration": 5,
    "start_time": "2022-03-08T17:07:26.342Z"
   },
   {
    "duration": 74,
    "start_time": "2022-03-08T17:07:26.349Z"
   },
   {
    "duration": 19,
    "start_time": "2022-03-08T17:07:26.424Z"
   },
   {
    "duration": 6,
    "start_time": "2022-03-08T17:07:26.444Z"
   },
   {
    "duration": 5,
    "start_time": "2022-03-08T17:07:26.451Z"
   },
   {
    "duration": 11,
    "start_time": "2022-03-08T17:07:26.459Z"
   },
   {
    "duration": 21,
    "start_time": "2022-03-08T17:07:26.472Z"
   },
   {
    "duration": 13,
    "start_time": "2022-03-08T17:07:26.495Z"
   },
   {
    "duration": 30,
    "start_time": "2022-03-08T17:07:26.510Z"
   },
   {
    "duration": 4,
    "start_time": "2022-03-08T17:07:26.542Z"
   },
   {
    "duration": 25,
    "start_time": "2022-03-08T17:07:26.548Z"
   },
   {
    "duration": 21513,
    "start_time": "2022-03-08T17:07:26.575Z"
   },
   {
    "duration": 5,
    "start_time": "2022-03-08T17:07:48.090Z"
   },
   {
    "duration": 13,
    "start_time": "2022-03-08T17:07:48.096Z"
   },
   {
    "duration": 4,
    "start_time": "2022-03-08T17:07:48.111Z"
   },
   {
    "duration": 27,
    "start_time": "2022-03-08T17:07:48.116Z"
   },
   {
    "duration": 12,
    "start_time": "2022-03-08T17:07:48.145Z"
   },
   {
    "duration": 7,
    "start_time": "2022-03-08T17:07:48.159Z"
   },
   {
    "duration": 5,
    "start_time": "2022-03-08T17:07:48.168Z"
   },
   {
    "duration": 6,
    "start_time": "2022-03-08T17:07:48.175Z"
   },
   {
    "duration": 6,
    "start_time": "2022-03-08T17:07:48.182Z"
   },
   {
    "duration": 5,
    "start_time": "2022-03-08T17:07:48.190Z"
   },
   {
    "duration": 42,
    "start_time": "2022-03-08T17:07:48.196Z"
   },
   {
    "duration": 4,
    "start_time": "2022-03-08T17:07:48.240Z"
   },
   {
    "duration": 20,
    "start_time": "2022-03-08T17:07:48.246Z"
   },
   {
    "duration": 552,
    "start_time": "2022-03-08T17:07:48.267Z"
   },
   {
    "duration": 26,
    "start_time": "2022-03-08T17:07:48.821Z"
   },
   {
    "duration": 5,
    "start_time": "2022-03-08T17:07:48.849Z"
   },
   {
    "duration": 23,
    "start_time": "2022-03-08T17:07:48.855Z"
   },
   {
    "duration": 91,
    "start_time": "2022-03-08T17:07:48.879Z"
   },
   {
    "duration": 142,
    "start_time": "2022-03-08T17:07:48.971Z"
   },
   {
    "duration": 254,
    "start_time": "2022-03-08T17:07:49.115Z"
   },
   {
    "duration": 270,
    "start_time": "2022-03-08T17:07:49.370Z"
   },
   {
    "duration": 155,
    "start_time": "2022-03-08T17:07:49.642Z"
   },
   {
    "duration": 219,
    "start_time": "2022-03-08T17:07:49.798Z"
   },
   {
    "duration": 234,
    "start_time": "2022-03-08T17:07:50.019Z"
   },
   {
    "duration": 165,
    "start_time": "2022-03-08T17:07:50.255Z"
   },
   {
    "duration": 438,
    "start_time": "2022-03-08T17:07:50.422Z"
   },
   {
    "duration": 4,
    "start_time": "2022-03-08T17:07:50.862Z"
   },
   {
    "duration": 5,
    "start_time": "2022-03-08T17:07:50.868Z"
   },
   {
    "duration": 10,
    "start_time": "2022-03-08T17:07:50.875Z"
   },
   {
    "duration": 9,
    "start_time": "2022-03-08T17:08:43.793Z"
   },
   {
    "duration": 9,
    "start_time": "2022-03-08T17:08:46.434Z"
   },
   {
    "duration": 8,
    "start_time": "2022-03-08T17:08:47.506Z"
   },
   {
    "duration": 10,
    "start_time": "2022-03-08T17:08:48.169Z"
   },
   {
    "duration": 7,
    "start_time": "2022-03-08T17:13:14.400Z"
   },
   {
    "duration": 7,
    "start_time": "2022-03-08T17:14:31.231Z"
   },
   {
    "duration": 14,
    "start_time": "2022-03-08T17:16:29.958Z"
   },
   {
    "duration": 13,
    "start_time": "2022-03-08T17:16:30.654Z"
   },
   {
    "duration": 11,
    "start_time": "2022-03-08T17:16:31.142Z"
   },
   {
    "duration": 11,
    "start_time": "2022-03-08T17:16:31.582Z"
   },
   {
    "duration": 14,
    "start_time": "2022-03-08T17:16:32.022Z"
   },
   {
    "duration": 4,
    "start_time": "2022-03-08T17:16:35.254Z"
   },
   {
    "duration": 603,
    "start_time": "2022-03-08T17:22:46.338Z"
   },
   {
    "duration": 60,
    "start_time": "2022-03-08T17:22:46.943Z"
   },
   {
    "duration": 9,
    "start_time": "2022-03-08T17:22:47.004Z"
   },
   {
    "duration": 88,
    "start_time": "2022-03-08T17:22:47.014Z"
   },
   {
    "duration": 10,
    "start_time": "2022-03-08T17:22:47.104Z"
   },
   {
    "duration": 32,
    "start_time": "2022-03-08T17:22:47.137Z"
   },
   {
    "duration": 21,
    "start_time": "2022-03-08T17:22:47.170Z"
   },
   {
    "duration": 27,
    "start_time": "2022-03-08T17:22:47.194Z"
   },
   {
    "duration": 13,
    "start_time": "2022-03-08T17:22:47.223Z"
   },
   {
    "duration": 22,
    "start_time": "2022-03-08T17:22:47.237Z"
   },
   {
    "duration": 11,
    "start_time": "2022-03-08T17:22:47.261Z"
   },
   {
    "duration": 11,
    "start_time": "2022-03-08T17:22:47.274Z"
   },
   {
    "duration": 9,
    "start_time": "2022-03-08T17:22:47.287Z"
   },
   {
    "duration": 2408,
    "start_time": "2022-03-08T17:22:47.298Z"
   },
   {
    "duration": 12,
    "start_time": "2022-03-08T17:22:49.708Z"
   },
   {
    "duration": 19,
    "start_time": "2022-03-08T17:22:49.722Z"
   },
   {
    "duration": 7,
    "start_time": "2022-03-08T17:22:49.743Z"
   },
   {
    "duration": 5,
    "start_time": "2022-03-08T17:22:49.752Z"
   },
   {
    "duration": 87,
    "start_time": "2022-03-08T17:22:49.759Z"
   },
   {
    "duration": 7,
    "start_time": "2022-03-08T17:22:49.848Z"
   },
   {
    "duration": 9,
    "start_time": "2022-03-08T17:22:49.857Z"
   },
   {
    "duration": 5,
    "start_time": "2022-03-08T17:22:49.868Z"
   },
   {
    "duration": 11,
    "start_time": "2022-03-08T17:22:49.878Z"
   },
   {
    "duration": 12,
    "start_time": "2022-03-08T17:22:49.892Z"
   },
   {
    "duration": 14,
    "start_time": "2022-03-08T17:22:49.939Z"
   },
   {
    "duration": 6,
    "start_time": "2022-03-08T17:22:49.955Z"
   },
   {
    "duration": 6,
    "start_time": "2022-03-08T17:22:49.962Z"
   },
   {
    "duration": 20,
    "start_time": "2022-03-08T17:22:49.969Z"
   },
   {
    "duration": 21915,
    "start_time": "2022-03-08T17:22:49.991Z"
   },
   {
    "duration": 5,
    "start_time": "2022-03-08T17:23:11.908Z"
   },
   {
    "duration": 22,
    "start_time": "2022-03-08T17:23:11.915Z"
   },
   {
    "duration": 4,
    "start_time": "2022-03-08T17:23:11.940Z"
   },
   {
    "duration": 11,
    "start_time": "2022-03-08T17:23:11.946Z"
   },
   {
    "duration": 13,
    "start_time": "2022-03-08T17:23:11.959Z"
   },
   {
    "duration": 7,
    "start_time": "2022-03-08T17:23:11.974Z"
   },
   {
    "duration": 4,
    "start_time": "2022-03-08T17:23:11.983Z"
   },
   {
    "duration": 6,
    "start_time": "2022-03-08T17:23:11.989Z"
   },
   {
    "duration": 9,
    "start_time": "2022-03-08T17:23:11.996Z"
   },
   {
    "duration": 4,
    "start_time": "2022-03-08T17:23:12.038Z"
   },
   {
    "duration": 10,
    "start_time": "2022-03-08T17:23:12.043Z"
   },
   {
    "duration": 4,
    "start_time": "2022-03-08T17:23:12.055Z"
   },
   {
    "duration": 14,
    "start_time": "2022-03-08T17:23:12.060Z"
   },
   {
    "duration": 590,
    "start_time": "2022-03-08T17:23:12.076Z"
   },
   {
    "duration": 23,
    "start_time": "2022-03-08T17:23:12.668Z"
   },
   {
    "duration": 5,
    "start_time": "2022-03-08T17:23:12.693Z"
   },
   {
    "duration": 46,
    "start_time": "2022-03-08T17:23:12.699Z"
   },
   {
    "duration": 74,
    "start_time": "2022-03-08T17:23:12.748Z"
   },
   {
    "duration": 169,
    "start_time": "2022-03-08T17:23:12.823Z"
   },
   {
    "duration": 257,
    "start_time": "2022-03-08T17:23:12.994Z"
   },
   {
    "duration": 274,
    "start_time": "2022-03-08T17:23:13.254Z"
   },
   {
    "duration": 150,
    "start_time": "2022-03-08T17:23:13.537Z"
   },
   {
    "duration": 213,
    "start_time": "2022-03-08T17:23:13.689Z"
   },
   {
    "duration": 221,
    "start_time": "2022-03-08T17:23:13.904Z"
   },
   {
    "duration": 160,
    "start_time": "2022-03-08T17:23:14.126Z"
   },
   {
    "duration": 441,
    "start_time": "2022-03-08T17:23:14.288Z"
   },
   {
    "duration": 10,
    "start_time": "2022-03-08T17:23:14.731Z"
   },
   {
    "duration": 9,
    "start_time": "2022-03-08T17:23:14.743Z"
   },
   {
    "duration": 8,
    "start_time": "2022-03-08T17:23:14.754Z"
   },
   {
    "duration": 8,
    "start_time": "2022-03-08T17:23:14.764Z"
   },
   {
    "duration": 8,
    "start_time": "2022-03-08T17:23:14.774Z"
   },
   {
    "duration": 7,
    "start_time": "2022-03-08T17:23:14.783Z"
   },
   {
    "duration": 5,
    "start_time": "2022-03-08T17:23:14.792Z"
   },
   {
    "duration": 8,
    "start_time": "2022-03-08T17:23:14.839Z"
   },
   {
    "duration": 7,
    "start_time": "2022-03-08T17:23:14.849Z"
   },
   {
    "duration": 12,
    "start_time": "2022-03-08T17:23:14.857Z"
   },
   {
    "duration": 11,
    "start_time": "2022-03-08T17:23:14.871Z"
   },
   {
    "duration": 9,
    "start_time": "2022-03-08T17:23:14.884Z"
   },
   {
    "duration": 44,
    "start_time": "2022-03-08T17:23:14.899Z"
   },
   {
    "duration": 12,
    "start_time": "2022-03-08T17:23:14.946Z"
   },
   {
    "duration": 4,
    "start_time": "2022-03-08T17:23:14.960Z"
   },
   {
    "duration": 184,
    "start_time": "2022-03-08T17:23:14.965Z"
   },
   {
    "duration": 259,
    "start_time": "2022-03-08T17:23:15.152Z"
   },
   {
    "duration": 152,
    "start_time": "2022-03-08T17:23:15.413Z"
   },
   {
    "duration": 211,
    "start_time": "2022-03-08T17:23:15.567Z"
   },
   {
    "duration": 152,
    "start_time": "2022-03-08T17:23:15.779Z"
   },
   {
    "duration": 220,
    "start_time": "2022-03-08T17:23:15.937Z"
   },
   {
    "duration": 145,
    "start_time": "2022-03-08T17:23:16.158Z"
   },
   {
    "duration": 374,
    "start_time": "2022-03-08T17:23:16.305Z"
   },
   {
    "duration": 5,
    "start_time": "2022-03-08T17:23:16.681Z"
   },
   {
    "duration": 342,
    "start_time": "2022-03-08T17:23:16.687Z"
   },
   {
    "duration": 11,
    "start_time": "2022-03-08T17:23:17.031Z"
   },
   {
    "duration": 411,
    "start_time": "2022-03-08T17:23:17.043Z"
   },
   {
    "duration": 5,
    "start_time": "2022-03-08T17:23:17.455Z"
   },
   {
    "duration": 168,
    "start_time": "2022-03-08T17:23:17.462Z"
   },
   {
    "duration": 7,
    "start_time": "2022-03-08T17:23:17.631Z"
   },
   {
    "duration": 544,
    "start_time": "2022-03-08T17:23:17.640Z"
   },
   {
    "duration": 4,
    "start_time": "2022-03-08T17:23:18.186Z"
   },
   {
    "duration": 9,
    "start_time": "2022-03-08T17:23:18.192Z"
   },
   {
    "duration": 6,
    "start_time": "2022-03-08T17:23:18.203Z"
   },
   {
    "duration": 197,
    "start_time": "2022-03-08T17:23:18.211Z"
   },
   {
    "duration": 215,
    "start_time": "2022-03-08T17:23:18.410Z"
   },
   {
    "duration": 185,
    "start_time": "2022-03-08T17:23:18.627Z"
   },
   {
    "duration": 9,
    "start_time": "2022-03-08T17:23:18.813Z"
   },
   {
    "duration": 16,
    "start_time": "2022-03-08T17:23:18.824Z"
   },
   {
    "duration": 6,
    "start_time": "2022-03-08T17:23:18.841Z"
   },
   {
    "duration": 267,
    "start_time": "2022-03-08T17:23:18.849Z"
   },
   {
    "duration": 19,
    "start_time": "2022-03-08T17:23:19.118Z"
   },
   {
    "duration": 2921,
    "start_time": "2022-03-08T17:23:19.139Z"
   },
   {
    "duration": 205,
    "start_time": "2022-03-08T17:23:22.062Z"
   },
   {
    "duration": 194,
    "start_time": "2022-03-08T17:23:22.269Z"
   },
   {
    "duration": 267,
    "start_time": "2022-03-08T17:23:22.464Z"
   },
   {
    "duration": 348,
    "start_time": "2022-03-08T17:23:22.733Z"
   },
   {
    "duration": 211,
    "start_time": "2022-03-08T17:23:23.083Z"
   },
   {
    "duration": 207,
    "start_time": "2022-03-08T17:23:23.296Z"
   },
   {
    "duration": 836,
    "start_time": "2022-03-08T19:23:15.306Z"
   },
   {
    "duration": 77,
    "start_time": "2022-03-08T19:23:16.145Z"
   },
   {
    "duration": 10,
    "start_time": "2022-03-08T19:23:16.226Z"
   },
   {
    "duration": 94,
    "start_time": "2022-03-08T19:23:16.239Z"
   },
   {
    "duration": 16,
    "start_time": "2022-03-08T19:23:16.335Z"
   },
   {
    "duration": 63,
    "start_time": "2022-03-08T19:23:16.353Z"
   },
   {
    "duration": 7,
    "start_time": "2022-03-08T19:23:16.419Z"
   },
   {
    "duration": 46,
    "start_time": "2022-03-08T19:23:16.429Z"
   },
   {
    "duration": 7,
    "start_time": "2022-03-08T19:23:16.479Z"
   },
   {
    "duration": 9,
    "start_time": "2022-03-08T19:23:16.489Z"
   },
   {
    "duration": 19,
    "start_time": "2022-03-08T19:23:16.501Z"
   },
   {
    "duration": 51,
    "start_time": "2022-03-08T19:23:16.523Z"
   },
   {
    "duration": 12,
    "start_time": "2022-03-08T19:23:16.576Z"
   },
   {
    "duration": 4704,
    "start_time": "2022-03-08T19:23:16.591Z"
   },
   {
    "duration": 15,
    "start_time": "2022-03-08T19:23:21.297Z"
   },
   {
    "duration": 7,
    "start_time": "2022-03-08T19:23:21.314Z"
   },
   {
    "duration": 10,
    "start_time": "2022-03-08T19:23:21.323Z"
   },
   {
    "duration": 40,
    "start_time": "2022-03-08T19:23:21.335Z"
   },
   {
    "duration": 108,
    "start_time": "2022-03-08T19:23:21.378Z"
   },
   {
    "duration": 10,
    "start_time": "2022-03-08T19:23:21.489Z"
   },
   {
    "duration": 7,
    "start_time": "2022-03-08T19:23:21.501Z"
   },
   {
    "duration": 6,
    "start_time": "2022-03-08T19:23:21.510Z"
   },
   {
    "duration": 14,
    "start_time": "2022-03-08T19:23:21.519Z"
   },
   {
    "duration": 51,
    "start_time": "2022-03-08T19:23:21.535Z"
   },
   {
    "duration": 18,
    "start_time": "2022-03-08T19:23:21.589Z"
   },
   {
    "duration": 5,
    "start_time": "2022-03-08T19:23:21.609Z"
   },
   {
    "duration": 5,
    "start_time": "2022-03-08T19:23:21.621Z"
   },
   {
    "duration": 63,
    "start_time": "2022-03-08T19:23:21.630Z"
   },
   {
    "duration": 37077,
    "start_time": "2022-03-08T19:23:21.696Z"
   },
   {
    "duration": 7,
    "start_time": "2022-03-08T19:23:58.775Z"
   },
   {
    "duration": 22,
    "start_time": "2022-03-08T19:23:58.784Z"
   },
   {
    "duration": 6,
    "start_time": "2022-03-08T19:23:58.808Z"
   },
   {
    "duration": 18,
    "start_time": "2022-03-08T19:23:58.816Z"
   },
   {
    "duration": 46,
    "start_time": "2022-03-08T19:23:58.836Z"
   },
   {
    "duration": 10,
    "start_time": "2022-03-08T19:23:58.884Z"
   },
   {
    "duration": 7,
    "start_time": "2022-03-08T19:23:58.896Z"
   },
   {
    "duration": 6,
    "start_time": "2022-03-08T19:23:58.905Z"
   },
   {
    "duration": 7,
    "start_time": "2022-03-08T19:23:58.913Z"
   },
   {
    "duration": 7,
    "start_time": "2022-03-08T19:23:58.922Z"
   },
   {
    "duration": 49,
    "start_time": "2022-03-08T19:23:58.931Z"
   },
   {
    "duration": 6,
    "start_time": "2022-03-08T19:23:58.983Z"
   },
   {
    "duration": 20,
    "start_time": "2022-03-08T19:23:58.992Z"
   },
   {
    "duration": 1001,
    "start_time": "2022-03-08T19:23:59.015Z"
   },
   {
    "duration": 36,
    "start_time": "2022-03-08T19:24:00.018Z"
   },
   {
    "duration": 21,
    "start_time": "2022-03-08T19:24:00.056Z"
   },
   {
    "duration": 45,
    "start_time": "2022-03-08T19:24:00.080Z"
   },
   {
    "duration": 132,
    "start_time": "2022-03-08T19:24:00.128Z"
   },
   {
    "duration": 233,
    "start_time": "2022-03-08T19:24:00.263Z"
   },
   {
    "duration": 377,
    "start_time": "2022-03-08T19:24:00.499Z"
   },
   {
    "duration": 420,
    "start_time": "2022-03-08T19:24:00.878Z"
   },
   {
    "duration": 276,
    "start_time": "2022-03-08T19:24:01.301Z"
   },
   {
    "duration": 493,
    "start_time": "2022-03-08T19:24:01.580Z"
   },
   {
    "duration": 489,
    "start_time": "2022-03-08T19:24:02.076Z"
   },
   {
    "duration": 256,
    "start_time": "2022-03-08T19:24:02.573Z"
   },
   {
    "duration": 651,
    "start_time": "2022-03-08T19:24:02.831Z"
   },
   {
    "duration": 7,
    "start_time": "2022-03-08T19:24:03.485Z"
   },
   {
    "duration": 7,
    "start_time": "2022-03-08T19:24:03.495Z"
   },
   {
    "duration": 13,
    "start_time": "2022-03-08T19:24:03.505Z"
   },
   {
    "duration": 11,
    "start_time": "2022-03-08T19:24:03.520Z"
   },
   {
    "duration": 49,
    "start_time": "2022-03-08T19:24:03.534Z"
   },
   {
    "duration": 19,
    "start_time": "2022-03-08T19:24:03.585Z"
   },
   {
    "duration": 14,
    "start_time": "2022-03-08T19:24:03.607Z"
   },
   {
    "duration": 12,
    "start_time": "2022-03-08T19:24:03.624Z"
   },
   {
    "duration": 42,
    "start_time": "2022-03-08T19:24:03.638Z"
   },
   {
    "duration": 21,
    "start_time": "2022-03-08T19:24:03.682Z"
   },
   {
    "duration": 19,
    "start_time": "2022-03-08T19:24:03.706Z"
   },
   {
    "duration": 12,
    "start_time": "2022-03-08T19:24:03.728Z"
   },
   {
    "duration": 40,
    "start_time": "2022-03-08T19:24:03.743Z"
   },
   {
    "duration": 19,
    "start_time": "2022-03-08T19:24:03.786Z"
   },
   {
    "duration": 6,
    "start_time": "2022-03-08T19:24:03.809Z"
   },
   {
    "duration": 267,
    "start_time": "2022-03-08T19:24:03.818Z"
   },
   {
    "duration": 379,
    "start_time": "2022-03-08T19:24:04.088Z"
   },
   {
    "duration": 249,
    "start_time": "2022-03-08T19:24:04.474Z"
   },
   {
    "duration": 345,
    "start_time": "2022-03-08T19:24:04.725Z"
   },
   {
    "duration": 252,
    "start_time": "2022-03-08T19:24:05.074Z"
   },
   {
    "duration": 359,
    "start_time": "2022-03-08T19:24:05.329Z"
   },
   {
    "duration": 231,
    "start_time": "2022-03-08T19:24:05.691Z"
   },
   {
    "duration": 582,
    "start_time": "2022-03-08T19:24:05.924Z"
   },
   {
    "duration": 6,
    "start_time": "2022-03-08T19:24:06.509Z"
   },
   {
    "duration": 529,
    "start_time": "2022-03-08T19:24:06.518Z"
   },
   {
    "duration": 18,
    "start_time": "2022-03-08T19:24:07.055Z"
   },
   {
    "duration": 589,
    "start_time": "2022-03-08T19:24:07.076Z"
   },
   {
    "duration": 11,
    "start_time": "2022-03-08T19:24:07.667Z"
   },
   {
    "duration": 252,
    "start_time": "2022-03-08T19:24:07.680Z"
   },
   {
    "duration": 6,
    "start_time": "2022-03-08T19:24:07.935Z"
   },
   {
    "duration": 858,
    "start_time": "2022-03-08T19:24:07.943Z"
   },
   {
    "duration": 6,
    "start_time": "2022-03-08T19:24:08.804Z"
   },
   {
    "duration": 12,
    "start_time": "2022-03-08T19:24:08.812Z"
   },
   {
    "duration": 7,
    "start_time": "2022-03-08T19:24:08.827Z"
   },
   {
    "duration": 336,
    "start_time": "2022-03-08T19:24:08.837Z"
   },
   {
    "duration": 351,
    "start_time": "2022-03-08T19:24:09.175Z"
   },
   {
    "duration": 299,
    "start_time": "2022-03-08T19:24:09.529Z"
   },
   {
    "duration": 15,
    "start_time": "2022-03-08T19:24:09.830Z"
   },
   {
    "duration": 26,
    "start_time": "2022-03-08T19:24:09.848Z"
   },
   {
    "duration": 7,
    "start_time": "2022-03-08T19:24:09.877Z"
   },
   {
    "duration": 421,
    "start_time": "2022-03-08T19:24:09.887Z"
   },
   {
    "duration": 19,
    "start_time": "2022-03-08T19:24:10.310Z"
   },
   {
    "duration": 4793,
    "start_time": "2022-03-08T19:24:10.332Z"
   },
   {
    "duration": 341,
    "start_time": "2022-03-08T19:24:15.127Z"
   },
   {
    "duration": 330,
    "start_time": "2022-03-08T19:24:15.474Z"
   },
   {
    "duration": 449,
    "start_time": "2022-03-08T19:24:15.806Z"
   },
   {
    "duration": 461,
    "start_time": "2022-03-08T19:24:16.258Z"
   },
   {
    "duration": 334,
    "start_time": "2022-03-08T19:24:16.722Z"
   },
   {
    "duration": 320,
    "start_time": "2022-03-08T19:24:17.058Z"
   }
  ],
  "kernelspec": {
   "display_name": "Python 3 (ipykernel)",
   "language": "python",
   "name": "python3"
  },
  "language_info": {
   "codemirror_mode": {
    "name": "ipython",
    "version": 3
   },
   "file_extension": ".py",
   "mimetype": "text/x-python",
   "name": "python",
   "nbconvert_exporter": "python",
   "pygments_lexer": "ipython3",
   "version": "3.9.7"
  },
  "toc": {
   "base_numbering": 1,
   "nav_menu": {},
   "number_sections": true,
   "sideBar": true,
   "skip_h1_title": true,
   "title_cell": "Содержание",
   "title_sidebar": "Contents",
   "toc_cell": true,
   "toc_position": {},
   "toc_section_display": true,
   "toc_window_display": false
  }
 },
 "nbformat": 4,
 "nbformat_minor": 4
}
