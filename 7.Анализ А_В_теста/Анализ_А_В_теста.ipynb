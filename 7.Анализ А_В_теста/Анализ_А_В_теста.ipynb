{
 "cells": [
  {
   "cell_type": "markdown",
   "metadata": {},
   "source": [
    "# Самостоятельный проект: \"Принятие решений в бизнесе\""
   ]
  },
  {
   "cell_type": "markdown",
   "metadata": {},
   "source": [
    "# Содержание:\n",
    "1. [Описание проекта;](#step1)\n",
    "2. [Шаг 1: Анализ данных и предобработка;](#step2)\n",
    "3. [Шаг 2: Приоритизация гипотез;](#step3)\n",
    "4. [Шаг 3: Анализ А/В-теста;](#step4)\n",
    "5. [Вывод](#step5)"
   ]
  },
  {
   "cell_type": "markdown",
   "metadata": {},
   "source": [
    "# Описание проекта <a id=\"step1\"></a>   \n",
    "</div>"
   ]
  },
  {
   "cell_type": "markdown",
   "metadata": {},
   "source": [
    "## Контекст\n",
    "\n",
    "Вы — аналитик крупного интернет-магазина. Вместе с отделом маркетинга вы подготовили список гипотез для увеличения выручки.\n",
    "Приоритизируйте гипотезы, запустите A/B-тест и проанализируйте результаты. "
   ]
  },
  {
   "cell_type": "markdown",
   "metadata": {},
   "source": [
    "## План действий:\n",
    "\n",
    "1. Импортируем библиотеки, загрузим файлы данных, изучим их;\n",
    "2. Проверим названия столбцов, наличие пропусков;\n",
    "3. Сделаем приоритизацию гипотез;\n",
    "4. Сделаем анализ результатов проведенного А/В-теста. Сделаем некоторые выводы и предположения"
   ]
  },
  {
   "cell_type": "markdown",
   "metadata": {},
   "source": [
    "# Шаг 1: Анализ данных и предобработка <a id=\"step2\"></a>   \n",
    "</div>"
   ]
  },
  {
   "cell_type": "code",
   "execution_count": 1,
   "metadata": {},
   "outputs": [],
   "source": [
    "# Импортируем библиотеки\n",
    "import pandas as pd\n",
    "import datetime as dt\n",
    "import numpy as np\n",
    "from scipy import stats as st\n",
    "import math as mth\n",
    "import matplotlib.pyplot as plt\n",
    "pd.set_option('display.float_format', '{:,.2f}'.format)\n",
    "from pandas.plotting import register_matplotlib_converters\n",
    "import warnings"
   ]
  },
  {
   "cell_type": "code",
   "execution_count": 2,
   "metadata": {},
   "outputs": [],
   "source": [
    "# Сохраним файл в переменнe.\n",
    "# Файл с 9 гипотезами:\n",
    "data = pd.read_csv('D:/Project/7/hypothesis.csv', sep=',')"
   ]
  },
  {
   "cell_type": "markdown",
   "metadata": {},
   "source": [
    "Рассмотрим каждую таблицу по-отдельности: общую информацию, названия колонок"
   ]
  },
  {
   "cell_type": "code",
   "execution_count": 3,
   "metadata": {},
   "outputs": [
    {
     "data": {
      "text/html": [
       "<div>\n",
       "<style scoped>\n",
       "    .dataframe tbody tr th:only-of-type {\n",
       "        vertical-align: middle;\n",
       "    }\n",
       "\n",
       "    .dataframe tbody tr th {\n",
       "        vertical-align: top;\n",
       "    }\n",
       "\n",
       "    .dataframe thead th {\n",
       "        text-align: right;\n",
       "    }\n",
       "</style>\n",
       "<table border=\"1\" class=\"dataframe\">\n",
       "  <thead>\n",
       "    <tr style=\"text-align: right;\">\n",
       "      <th></th>\n",
       "      <th>Hypothesis</th>\n",
       "      <th>Reach</th>\n",
       "      <th>Impact</th>\n",
       "      <th>Confidence</th>\n",
       "      <th>Efforts</th>\n",
       "    </tr>\n",
       "  </thead>\n",
       "  <tbody>\n",
       "    <tr>\n",
       "      <th>0</th>\n",
       "      <td>Добавить два новых канала привлечения трафика,...</td>\n",
       "      <td>3</td>\n",
       "      <td>10</td>\n",
       "      <td>8</td>\n",
       "      <td>6</td>\n",
       "    </tr>\n",
       "    <tr>\n",
       "      <th>1</th>\n",
       "      <td>Запустить собственную службу доставки, что сок...</td>\n",
       "      <td>2</td>\n",
       "      <td>5</td>\n",
       "      <td>4</td>\n",
       "      <td>10</td>\n",
       "    </tr>\n",
       "    <tr>\n",
       "      <th>2</th>\n",
       "      <td>Добавить блоки рекомендаций товаров на сайт ин...</td>\n",
       "      <td>8</td>\n",
       "      <td>3</td>\n",
       "      <td>7</td>\n",
       "      <td>3</td>\n",
       "    </tr>\n",
       "    <tr>\n",
       "      <th>3</th>\n",
       "      <td>Изменить структура категорий, что увеличит кон...</td>\n",
       "      <td>8</td>\n",
       "      <td>3</td>\n",
       "      <td>3</td>\n",
       "      <td>8</td>\n",
       "    </tr>\n",
       "    <tr>\n",
       "      <th>4</th>\n",
       "      <td>Изменить цвет фона главной страницы, чтобы уве...</td>\n",
       "      <td>3</td>\n",
       "      <td>1</td>\n",
       "      <td>1</td>\n",
       "      <td>1</td>\n",
       "    </tr>\n",
       "    <tr>\n",
       "      <th>5</th>\n",
       "      <td>Добавить страницу отзывов клиентов о магазине,...</td>\n",
       "      <td>3</td>\n",
       "      <td>2</td>\n",
       "      <td>2</td>\n",
       "      <td>3</td>\n",
       "    </tr>\n",
       "    <tr>\n",
       "      <th>6</th>\n",
       "      <td>Показать на главной странице баннеры с актуаль...</td>\n",
       "      <td>5</td>\n",
       "      <td>3</td>\n",
       "      <td>8</td>\n",
       "      <td>3</td>\n",
       "    </tr>\n",
       "    <tr>\n",
       "      <th>7</th>\n",
       "      <td>Добавить форму подписки на все основные страни...</td>\n",
       "      <td>10</td>\n",
       "      <td>7</td>\n",
       "      <td>8</td>\n",
       "      <td>5</td>\n",
       "    </tr>\n",
       "    <tr>\n",
       "      <th>8</th>\n",
       "      <td>Запустить акцию, дающую скидку на товар в день...</td>\n",
       "      <td>1</td>\n",
       "      <td>9</td>\n",
       "      <td>9</td>\n",
       "      <td>5</td>\n",
       "    </tr>\n",
       "  </tbody>\n",
       "</table>\n",
       "</div>"
      ],
      "text/plain": [
       "                                          Hypothesis  Reach  Impact  \\\n",
       "0  Добавить два новых канала привлечения трафика,...      3      10   \n",
       "1  Запустить собственную службу доставки, что сок...      2       5   \n",
       "2  Добавить блоки рекомендаций товаров на сайт ин...      8       3   \n",
       "3  Изменить структура категорий, что увеличит кон...      8       3   \n",
       "4  Изменить цвет фона главной страницы, чтобы уве...      3       1   \n",
       "5  Добавить страницу отзывов клиентов о магазине,...      3       2   \n",
       "6  Показать на главной странице баннеры с актуаль...      5       3   \n",
       "7  Добавить форму подписки на все основные страни...     10       7   \n",
       "8  Запустить акцию, дающую скидку на товар в день...      1       9   \n",
       "\n",
       "   Confidence  Efforts  \n",
       "0           8        6  \n",
       "1           4       10  \n",
       "2           7        3  \n",
       "3           3        8  \n",
       "4           1        1  \n",
       "5           2        3  \n",
       "6           8        3  \n",
       "7           8        5  \n",
       "8           9        5  "
      ]
     },
     "execution_count": 3,
     "metadata": {},
     "output_type": "execute_result"
    }
   ],
   "source": [
    "# Рассмотрим таблицу с гипотезами. Так как гипотез всего 9, метод `head()` не будем использовать\n",
    "data"
   ]
  },
  {
   "cell_type": "code",
   "execution_count": 4,
   "metadata": {},
   "outputs": [],
   "source": [
    "# Приведем название колонок к нижнему регистру\n",
    "data.columns = data.columns.str.lower()"
   ]
  },
  {
   "cell_type": "code",
   "execution_count": 5,
   "metadata": {},
   "outputs": [
    {
     "name": "stdout",
     "output_type": "stream",
     "text": [
      "<class 'pandas.core.frame.DataFrame'>\n",
      "RangeIndex: 9 entries, 0 to 8\n",
      "Data columns (total 5 columns):\n",
      " #   Column      Non-Null Count  Dtype \n",
      "---  ------      --------------  ----- \n",
      " 0   hypothesis  9 non-null      object\n",
      " 1   reach       9 non-null      int64 \n",
      " 2   impact      9 non-null      int64 \n",
      " 3   confidence  9 non-null      int64 \n",
      " 4   efforts     9 non-null      int64 \n",
      "dtypes: int64(4), object(1)\n",
      "memory usage: 488.0+ bytes\n"
     ]
    }
   ],
   "source": [
    "# Общая информация по таблице\n",
    "data.info()"
   ]
  },
  {
   "cell_type": "code",
   "execution_count": 6,
   "metadata": {},
   "outputs": [
    {
     "data": {
      "text/html": [
       "<div>\n",
       "<style scoped>\n",
       "    .dataframe tbody tr th:only-of-type {\n",
       "        vertical-align: middle;\n",
       "    }\n",
       "\n",
       "    .dataframe tbody tr th {\n",
       "        vertical-align: top;\n",
       "    }\n",
       "\n",
       "    .dataframe thead th {\n",
       "        text-align: right;\n",
       "    }\n",
       "</style>\n",
       "<table border=\"1\" class=\"dataframe\">\n",
       "  <thead>\n",
       "    <tr style=\"text-align: right;\">\n",
       "      <th></th>\n",
       "      <th>hypothesis</th>\n",
       "      <th>reach</th>\n",
       "      <th>impact</th>\n",
       "      <th>confidence</th>\n",
       "      <th>efforts</th>\n",
       "    </tr>\n",
       "  </thead>\n",
       "  <tbody>\n",
       "    <tr>\n",
       "      <th>0</th>\n",
       "      <td>Добавить два новых канала привлечения трафика,...</td>\n",
       "      <td>3</td>\n",
       "      <td>10</td>\n",
       "      <td>8</td>\n",
       "      <td>6</td>\n",
       "    </tr>\n",
       "    <tr>\n",
       "      <th>1</th>\n",
       "      <td>Запустить собственную службу доставки, что сок...</td>\n",
       "      <td>2</td>\n",
       "      <td>5</td>\n",
       "      <td>4</td>\n",
       "      <td>10</td>\n",
       "    </tr>\n",
       "    <tr>\n",
       "      <th>2</th>\n",
       "      <td>Добавить блоки рекомендаций товаров на сайт ин...</td>\n",
       "      <td>8</td>\n",
       "      <td>3</td>\n",
       "      <td>7</td>\n",
       "      <td>3</td>\n",
       "    </tr>\n",
       "    <tr>\n",
       "      <th>3</th>\n",
       "      <td>Изменить структура категорий, что увеличит кон...</td>\n",
       "      <td>8</td>\n",
       "      <td>3</td>\n",
       "      <td>3</td>\n",
       "      <td>8</td>\n",
       "    </tr>\n",
       "    <tr>\n",
       "      <th>4</th>\n",
       "      <td>Изменить цвет фона главной страницы, чтобы уве...</td>\n",
       "      <td>3</td>\n",
       "      <td>1</td>\n",
       "      <td>1</td>\n",
       "      <td>1</td>\n",
       "    </tr>\n",
       "    <tr>\n",
       "      <th>5</th>\n",
       "      <td>Добавить страницу отзывов клиентов о магазине,...</td>\n",
       "      <td>3</td>\n",
       "      <td>2</td>\n",
       "      <td>2</td>\n",
       "      <td>3</td>\n",
       "    </tr>\n",
       "    <tr>\n",
       "      <th>6</th>\n",
       "      <td>Показать на главной странице баннеры с актуаль...</td>\n",
       "      <td>5</td>\n",
       "      <td>3</td>\n",
       "      <td>8</td>\n",
       "      <td>3</td>\n",
       "    </tr>\n",
       "    <tr>\n",
       "      <th>7</th>\n",
       "      <td>Добавить форму подписки на все основные страни...</td>\n",
       "      <td>10</td>\n",
       "      <td>7</td>\n",
       "      <td>8</td>\n",
       "      <td>5</td>\n",
       "    </tr>\n",
       "    <tr>\n",
       "      <th>8</th>\n",
       "      <td>Запустить акцию, дающую скидку на товар в день...</td>\n",
       "      <td>1</td>\n",
       "      <td>9</td>\n",
       "      <td>9</td>\n",
       "      <td>5</td>\n",
       "    </tr>\n",
       "  </tbody>\n",
       "</table>\n",
       "</div>"
      ],
      "text/plain": [
       "                                          hypothesis  reach  impact  \\\n",
       "0  Добавить два новых канала привлечения трафика,...      3      10   \n",
       "1  Запустить собственную службу доставки, что сок...      2       5   \n",
       "2  Добавить блоки рекомендаций товаров на сайт ин...      8       3   \n",
       "3  Изменить структура категорий, что увеличит кон...      8       3   \n",
       "4  Изменить цвет фона главной страницы, чтобы уве...      3       1   \n",
       "5  Добавить страницу отзывов клиентов о магазине,...      3       2   \n",
       "6  Показать на главной странице баннеры с актуаль...      5       3   \n",
       "7  Добавить форму подписки на все основные страни...     10       7   \n",
       "8  Запустить акцию, дающую скидку на товар в день...      1       9   \n",
       "\n",
       "   confidence  efforts  \n",
       "0           8        6  \n",
       "1           4       10  \n",
       "2           7        3  \n",
       "3           3        8  \n",
       "4           1        1  \n",
       "5           2        3  \n",
       "6           8        3  \n",
       "7           8        5  \n",
       "8           9        5  "
      ]
     },
     "execution_count": 6,
     "metadata": {},
     "output_type": "execute_result"
    }
   ],
   "source": [
    "data"
   ]
  },
  {
   "cell_type": "markdown",
   "metadata": {},
   "source": [
    "Перед нами 9 гипотез по увеличению выручки интернет-маганзина с параметрами:\n",
    "* `hypothesis` - краткое описание гипотезы;\n",
    "* `reach` - охват пользователей по 10-балльной шкале;\n",
    "* `impact` - влияние на пользователей по 10-балльной шкале;\n",
    "* `confidence` - уверенность в гипотезе по 10-балльной шкале;\n",
    "* `efforts` - затраты ресурсов на проверку гипотезы по 10-балльной шкале. "
   ]
  },
  {
   "cell_type": "markdown",
   "metadata": {},
   "source": [
    "# Шаг 2: Приоритизация гипотез <a id=\"step3\"></a>   \n",
    "</div>"
   ]
  },
  {
   "cell_type": "markdown",
   "metadata": {},
   "source": [
    "Сделам приоритизацию гипотез. ICE - один из самых популярных способов приоритизации задач. Рассчитывается по формуле: \n",
    "(impact * confidence)/efforts. Т.е. произведение влияния на пользователей и уверенности в гипотезе, деленное на затраты ресурсов на проверку гипотезы"
   ]
  },
  {
   "cell_type": "code",
   "execution_count": 7,
   "metadata": {},
   "outputs": [],
   "source": [
    "# Создадим столбец `ICE` о приоритизации гипотез\n",
    "data['ice'] = (data['impact']*data['confidence'])/data['efforts']"
   ]
  },
  {
   "cell_type": "code",
   "execution_count": 8,
   "metadata": {},
   "outputs": [
    {
     "data": {
      "text/html": [
       "<div>\n",
       "<style scoped>\n",
       "    .dataframe tbody tr th:only-of-type {\n",
       "        vertical-align: middle;\n",
       "    }\n",
       "\n",
       "    .dataframe tbody tr th {\n",
       "        vertical-align: top;\n",
       "    }\n",
       "\n",
       "    .dataframe thead th {\n",
       "        text-align: right;\n",
       "    }\n",
       "</style>\n",
       "<table border=\"1\" class=\"dataframe\">\n",
       "  <thead>\n",
       "    <tr style=\"text-align: right;\">\n",
       "      <th></th>\n",
       "      <th>hypothesis</th>\n",
       "      <th>ice</th>\n",
       "    </tr>\n",
       "  </thead>\n",
       "  <tbody>\n",
       "    <tr>\n",
       "      <th>8</th>\n",
       "      <td>Запустить акцию, дающую скидку на товар в день...</td>\n",
       "      <td>16.20</td>\n",
       "    </tr>\n",
       "    <tr>\n",
       "      <th>0</th>\n",
       "      <td>Добавить два новых канала привлечения трафика,...</td>\n",
       "      <td>13.33</td>\n",
       "    </tr>\n",
       "    <tr>\n",
       "      <th>7</th>\n",
       "      <td>Добавить форму подписки на все основные страни...</td>\n",
       "      <td>11.20</td>\n",
       "    </tr>\n",
       "    <tr>\n",
       "      <th>6</th>\n",
       "      <td>Показать на главной странице баннеры с актуаль...</td>\n",
       "      <td>8.00</td>\n",
       "    </tr>\n",
       "    <tr>\n",
       "      <th>2</th>\n",
       "      <td>Добавить блоки рекомендаций товаров на сайт ин...</td>\n",
       "      <td>7.00</td>\n",
       "    </tr>\n",
       "    <tr>\n",
       "      <th>1</th>\n",
       "      <td>Запустить собственную службу доставки, что сок...</td>\n",
       "      <td>2.00</td>\n",
       "    </tr>\n",
       "    <tr>\n",
       "      <th>5</th>\n",
       "      <td>Добавить страницу отзывов клиентов о магазине,...</td>\n",
       "      <td>1.33</td>\n",
       "    </tr>\n",
       "    <tr>\n",
       "      <th>3</th>\n",
       "      <td>Изменить структура категорий, что увеличит кон...</td>\n",
       "      <td>1.12</td>\n",
       "    </tr>\n",
       "    <tr>\n",
       "      <th>4</th>\n",
       "      <td>Изменить цвет фона главной страницы, чтобы уве...</td>\n",
       "      <td>1.00</td>\n",
       "    </tr>\n",
       "  </tbody>\n",
       "</table>\n",
       "</div>"
      ],
      "text/plain": [
       "                                          hypothesis   ice\n",
       "8  Запустить акцию, дающую скидку на товар в день... 16.20\n",
       "0  Добавить два новых канала привлечения трафика,... 13.33\n",
       "7  Добавить форму подписки на все основные страни... 11.20\n",
       "6  Показать на главной странице баннеры с актуаль...  8.00\n",
       "2  Добавить блоки рекомендаций товаров на сайт ин...  7.00\n",
       "1  Запустить собственную службу доставки, что сок...  2.00\n",
       "5  Добавить страницу отзывов клиентов о магазине,...  1.33\n",
       "3  Изменить структура категорий, что увеличит кон...  1.12\n",
       "4  Изменить цвет фона главной страницы, чтобы уве...  1.00"
      ]
     },
     "execution_count": 8,
     "metadata": {},
     "output_type": "execute_result"
    }
   ],
   "source": [
    "# Отсортируем по убыванию приоритета\n",
    "data_sort_ice = data[['hypothesis', 'ice']].sort_values(by='ice', ascending=False)\n",
    "data_sort_ice"
   ]
  },
  {
   "cell_type": "markdown",
   "metadata": {},
   "source": [
    "Видим, что наиболее перспективные гипотезы с индексами 8, 0 и 7"
   ]
  },
  {
   "cell_type": "markdown",
   "metadata": {},
   "source": [
    "RICE (охват) - модификация ICE. Вычисляется по формуле: (reach*impact*confidence)/efforts. Т.е. прозведение охвата пользователей, влияния пользователей, уверенность в гипотезе деленные на затраты ресурсов на проверку гипотезы"
   ]
  },
  {
   "cell_type": "code",
   "execution_count": 9,
   "metadata": {},
   "outputs": [],
   "source": [
    "# Создадим столбец `RICE` о приоритизации гипотез\n",
    "data['rice'] = (data['reach']*data['impact']*data['confidence'])/data['efforts']"
   ]
  },
  {
   "cell_type": "code",
   "execution_count": 10,
   "metadata": {
    "scrolled": true
   },
   "outputs": [
    {
     "data": {
      "text/html": [
       "<div>\n",
       "<style scoped>\n",
       "    .dataframe tbody tr th:only-of-type {\n",
       "        vertical-align: middle;\n",
       "    }\n",
       "\n",
       "    .dataframe tbody tr th {\n",
       "        vertical-align: top;\n",
       "    }\n",
       "\n",
       "    .dataframe thead th {\n",
       "        text-align: right;\n",
       "    }\n",
       "</style>\n",
       "<table border=\"1\" class=\"dataframe\">\n",
       "  <thead>\n",
       "    <tr style=\"text-align: right;\">\n",
       "      <th></th>\n",
       "      <th>hypothesis</th>\n",
       "      <th>rice</th>\n",
       "    </tr>\n",
       "  </thead>\n",
       "  <tbody>\n",
       "    <tr>\n",
       "      <th>7</th>\n",
       "      <td>Добавить форму подписки на все основные страни...</td>\n",
       "      <td>112.00</td>\n",
       "    </tr>\n",
       "    <tr>\n",
       "      <th>2</th>\n",
       "      <td>Добавить блоки рекомендаций товаров на сайт ин...</td>\n",
       "      <td>56.00</td>\n",
       "    </tr>\n",
       "    <tr>\n",
       "      <th>0</th>\n",
       "      <td>Добавить два новых канала привлечения трафика,...</td>\n",
       "      <td>40.00</td>\n",
       "    </tr>\n",
       "    <tr>\n",
       "      <th>6</th>\n",
       "      <td>Показать на главной странице баннеры с актуаль...</td>\n",
       "      <td>40.00</td>\n",
       "    </tr>\n",
       "    <tr>\n",
       "      <th>8</th>\n",
       "      <td>Запустить акцию, дающую скидку на товар в день...</td>\n",
       "      <td>16.20</td>\n",
       "    </tr>\n",
       "    <tr>\n",
       "      <th>3</th>\n",
       "      <td>Изменить структура категорий, что увеличит кон...</td>\n",
       "      <td>9.00</td>\n",
       "    </tr>\n",
       "    <tr>\n",
       "      <th>1</th>\n",
       "      <td>Запустить собственную службу доставки, что сок...</td>\n",
       "      <td>4.00</td>\n",
       "    </tr>\n",
       "    <tr>\n",
       "      <th>5</th>\n",
       "      <td>Добавить страницу отзывов клиентов о магазине,...</td>\n",
       "      <td>4.00</td>\n",
       "    </tr>\n",
       "    <tr>\n",
       "      <th>4</th>\n",
       "      <td>Изменить цвет фона главной страницы, чтобы уве...</td>\n",
       "      <td>3.00</td>\n",
       "    </tr>\n",
       "  </tbody>\n",
       "</table>\n",
       "</div>"
      ],
      "text/plain": [
       "                                          hypothesis   rice\n",
       "7  Добавить форму подписки на все основные страни... 112.00\n",
       "2  Добавить блоки рекомендаций товаров на сайт ин...  56.00\n",
       "0  Добавить два новых канала привлечения трафика,...  40.00\n",
       "6  Показать на главной странице баннеры с актуаль...  40.00\n",
       "8  Запустить акцию, дающую скидку на товар в день...  16.20\n",
       "3  Изменить структура категорий, что увеличит кон...   9.00\n",
       "1  Запустить собственную службу доставки, что сок...   4.00\n",
       "5  Добавить страницу отзывов клиентов о магазине,...   4.00\n",
       "4  Изменить цвет фона главной страницы, чтобы уве...   3.00"
      ]
     },
     "execution_count": 10,
     "metadata": {},
     "output_type": "execute_result"
    }
   ],
   "source": [
    "# Отсортируем по убыванию приоритета\n",
    "data_sort_rice = data[['hypothesis', 'rice']].sort_values(by='rice', ascending=False)\n",
    "data_sort_rice"
   ]
  },
  {
   "cell_type": "markdown",
   "metadata": {},
   "source": [
    "Наиболее перспективные гипотезы с индексами 7, 2, 0 и 6"
   ]
  },
  {
   "cell_type": "code",
   "execution_count": 11,
   "metadata": {},
   "outputs": [
    {
     "data": {
      "text/html": [
       "<div>\n",
       "<style scoped>\n",
       "    .dataframe tbody tr th:only-of-type {\n",
       "        vertical-align: middle;\n",
       "    }\n",
       "\n",
       "    .dataframe tbody tr th {\n",
       "        vertical-align: top;\n",
       "    }\n",
       "\n",
       "    .dataframe thead th {\n",
       "        text-align: right;\n",
       "    }\n",
       "</style>\n",
       "<table border=\"1\" class=\"dataframe\">\n",
       "  <thead>\n",
       "    <tr style=\"text-align: right;\">\n",
       "      <th></th>\n",
       "      <th>hypothesis</th>\n",
       "      <th>ice</th>\n",
       "      <th>rice</th>\n",
       "    </tr>\n",
       "  </thead>\n",
       "  <tbody>\n",
       "    <tr>\n",
       "      <th>8</th>\n",
       "      <td>Запустить акцию, дающую скидку на товар в день...</td>\n",
       "      <td>16.20</td>\n",
       "      <td>16.20</td>\n",
       "    </tr>\n",
       "    <tr>\n",
       "      <th>0</th>\n",
       "      <td>Добавить два новых канала привлечения трафика,...</td>\n",
       "      <td>13.33</td>\n",
       "      <td>40.00</td>\n",
       "    </tr>\n",
       "    <tr>\n",
       "      <th>7</th>\n",
       "      <td>Добавить форму подписки на все основные страни...</td>\n",
       "      <td>11.20</td>\n",
       "      <td>112.00</td>\n",
       "    </tr>\n",
       "    <tr>\n",
       "      <th>6</th>\n",
       "      <td>Показать на главной странице баннеры с актуаль...</td>\n",
       "      <td>8.00</td>\n",
       "      <td>40.00</td>\n",
       "    </tr>\n",
       "    <tr>\n",
       "      <th>2</th>\n",
       "      <td>Добавить блоки рекомендаций товаров на сайт ин...</td>\n",
       "      <td>7.00</td>\n",
       "      <td>56.00</td>\n",
       "    </tr>\n",
       "    <tr>\n",
       "      <th>1</th>\n",
       "      <td>Запустить собственную службу доставки, что сок...</td>\n",
       "      <td>2.00</td>\n",
       "      <td>4.00</td>\n",
       "    </tr>\n",
       "    <tr>\n",
       "      <th>5</th>\n",
       "      <td>Добавить страницу отзывов клиентов о магазине,...</td>\n",
       "      <td>1.33</td>\n",
       "      <td>4.00</td>\n",
       "    </tr>\n",
       "    <tr>\n",
       "      <th>3</th>\n",
       "      <td>Изменить структура категорий, что увеличит кон...</td>\n",
       "      <td>1.12</td>\n",
       "      <td>9.00</td>\n",
       "    </tr>\n",
       "    <tr>\n",
       "      <th>4</th>\n",
       "      <td>Изменить цвет фона главной страницы, чтобы уве...</td>\n",
       "      <td>1.00</td>\n",
       "      <td>3.00</td>\n",
       "    </tr>\n",
       "  </tbody>\n",
       "</table>\n",
       "</div>"
      ],
      "text/plain": [
       "                                          hypothesis   ice   rice\n",
       "8  Запустить акцию, дающую скидку на товар в день... 16.20  16.20\n",
       "0  Добавить два новых канала привлечения трафика,... 13.33  40.00\n",
       "7  Добавить форму подписки на все основные страни... 11.20 112.00\n",
       "6  Показать на главной странице баннеры с актуаль...  8.00  40.00\n",
       "2  Добавить блоки рекомендаций товаров на сайт ин...  7.00  56.00\n",
       "1  Запустить собственную службу доставки, что сок...  2.00   4.00\n",
       "5  Добавить страницу отзывов клиентов о магазине,...  1.33   4.00\n",
       "3  Изменить структура категорий, что увеличит кон...  1.12   9.00\n",
       "4  Изменить цвет фона главной страницы, чтобы уве...  1.00   3.00"
      ]
     },
     "execution_count": 11,
     "metadata": {},
     "output_type": "execute_result"
    }
   ],
   "source": [
    "# Сделаем общую таблицу с гипотезами и приоритизациями ICE и RICE\n",
    "data_sort = data[['hypothesis', 'ice', 'rice']]\n",
    "data_sort.sort_values(by='ice', ascending=False)"
   ]
  },
  {
   "cell_type": "code",
   "execution_count": 12,
   "metadata": {},
   "outputs": [
    {
     "data": {
      "text/plain": [
       "array(['Добавить два новых канала привлечения трафика, что позволит привлекать на 30% больше пользователей',\n",
       "       'Запустить собственную службу доставки, что сократит срок доставки заказов',\n",
       "       'Добавить блоки рекомендаций товаров на сайт интернет магазина, чтобы повысить конверсию и средний чек заказа',\n",
       "       'Изменить структура категорий, что увеличит конверсию, т.к. пользователи быстрее найдут нужный товар',\n",
       "       'Изменить цвет фона главной страницы, чтобы увеличить вовлеченность пользователей',\n",
       "       'Добавить страницу отзывов клиентов о магазине, что позволит увеличить количество заказов',\n",
       "       'Показать на главной странице баннеры с актуальными акциями и распродажами, чтобы увеличить конверсию',\n",
       "       'Добавить форму подписки на все основные страницы, чтобы собрать базу клиентов для email-рассылок',\n",
       "       'Запустить акцию, дающую скидку на товар в день рождения'],\n",
       "      dtype=object)"
      ]
     },
     "execution_count": 12,
     "metadata": {},
     "output_type": "execute_result"
    }
   ],
   "source": [
    "# Рассмотри полное имя гипотез\n",
    "data['hypothesis'].unique()"
   ]
  },
  {
   "cell_type": "markdown",
   "metadata": {},
   "source": [
    "Видим, что при приотизации гипотез ICE и RICE гипотезы с индексами 0 и 7 являются наиболее перспективными. \n",
    "Гипотеза с индексом 7 \"Добавить форму подписки на все основные страницы, чтобы собрать базу клиентов для email-рассылок\" является перспективной, т.к. ее основные параметры (охват пользователей, влияние, уверенность) довольно высокие. Что в принципе логично: пользователи, заинтересованные в товаре, будут оставлять электронную почту, на которую в дальнейшем им можно отправлять рекламную рассылку, что может их повторно привлечь в наш интернет-магазин.\n",
    "\n",
    "У гипотезы с индексом 0 \"Добавить два новых канала привлечения трафика, что позволит привлекать на 30% больше пользователей\" также является перспективным из-за высоких параметров (влияния на пользователей и уверенность). Пользователи увеличатся, соответственно, может увеличиться и доход."
   ]
  },
  {
   "cell_type": "markdown",
   "metadata": {},
   "source": [
    "В то же время, гипотеза 8 \"Запустить акцию, дающую скидку на товар в день рождения\", лидирующая в ICE, в RICE находится в середине, так как имеет малый охват пользователей (reach). Известно, что День Рождения - только раз в году, поэтому данная акция затронет малый процент пользователей"
   ]
  },
  {
   "cell_type": "markdown",
   "metadata": {},
   "source": [
    "# Шаг 3: Анализ А/В-теста <a id=\"step4\"></a>   \n",
    "</div>"
   ]
  },
  {
   "cell_type": "markdown",
   "metadata": {},
   "source": [
    "Сохраним полученные результаты А/В-теста в переменные:"
   ]
  },
  {
   "cell_type": "code",
   "execution_count": 13,
   "metadata": {},
   "outputs": [
    {
     "data": {
      "text/html": [
       "<div>\n",
       "<style scoped>\n",
       "    .dataframe tbody tr th:only-of-type {\n",
       "        vertical-align: middle;\n",
       "    }\n",
       "\n",
       "    .dataframe tbody tr th {\n",
       "        vertical-align: top;\n",
       "    }\n",
       "\n",
       "    .dataframe thead th {\n",
       "        text-align: right;\n",
       "    }\n",
       "</style>\n",
       "<table border=\"1\" class=\"dataframe\">\n",
       "  <thead>\n",
       "    <tr style=\"text-align: right;\">\n",
       "      <th></th>\n",
       "      <th>transactionId</th>\n",
       "      <th>visitorId</th>\n",
       "      <th>date</th>\n",
       "      <th>revenue</th>\n",
       "      <th>group</th>\n",
       "    </tr>\n",
       "  </thead>\n",
       "  <tbody>\n",
       "    <tr>\n",
       "      <th>0</th>\n",
       "      <td>3667963787</td>\n",
       "      <td>3312258926</td>\n",
       "      <td>2019-08-15</td>\n",
       "      <td>1650</td>\n",
       "      <td>B</td>\n",
       "    </tr>\n",
       "    <tr>\n",
       "      <th>1</th>\n",
       "      <td>2804400009</td>\n",
       "      <td>3642806036</td>\n",
       "      <td>2019-08-15</td>\n",
       "      <td>730</td>\n",
       "      <td>B</td>\n",
       "    </tr>\n",
       "    <tr>\n",
       "      <th>2</th>\n",
       "      <td>2961555356</td>\n",
       "      <td>4069496402</td>\n",
       "      <td>2019-08-15</td>\n",
       "      <td>400</td>\n",
       "      <td>A</td>\n",
       "    </tr>\n",
       "    <tr>\n",
       "      <th>3</th>\n",
       "      <td>3797467345</td>\n",
       "      <td>1196621759</td>\n",
       "      <td>2019-08-15</td>\n",
       "      <td>9759</td>\n",
       "      <td>B</td>\n",
       "    </tr>\n",
       "    <tr>\n",
       "      <th>4</th>\n",
       "      <td>2282983706</td>\n",
       "      <td>2322279887</td>\n",
       "      <td>2019-08-15</td>\n",
       "      <td>2308</td>\n",
       "      <td>B</td>\n",
       "    </tr>\n",
       "  </tbody>\n",
       "</table>\n",
       "</div>"
      ],
      "text/plain": [
       "   transactionId   visitorId        date  revenue group\n",
       "0     3667963787  3312258926  2019-08-15     1650     B\n",
       "1     2804400009  3642806036  2019-08-15      730     B\n",
       "2     2961555356  4069496402  2019-08-15      400     A\n",
       "3     3797467345  1196621759  2019-08-15     9759     B\n",
       "4     2282983706  2322279887  2019-08-15     2308     B"
      ]
     },
     "execution_count": 13,
     "metadata": {},
     "output_type": "execute_result"
    }
   ],
   "source": [
    "# Данные заказов\n",
    "orders = pd.read_csv('D:/Project/7/orders.csv', sep=',')\n",
    "orders.head()"
   ]
  },
  {
   "cell_type": "code",
   "execution_count": 14,
   "metadata": {},
   "outputs": [
    {
     "name": "stdout",
     "output_type": "stream",
     "text": [
      "<class 'pandas.core.frame.DataFrame'>\n",
      "RangeIndex: 1197 entries, 0 to 1196\n",
      "Data columns (total 5 columns):\n",
      " #   Column         Non-Null Count  Dtype \n",
      "---  ------         --------------  ----- \n",
      " 0   transactionId  1197 non-null   int64 \n",
      " 1   visitorId      1197 non-null   int64 \n",
      " 2   date           1197 non-null   object\n",
      " 3   revenue        1197 non-null   int64 \n",
      " 4   group          1197 non-null   object\n",
      "dtypes: int64(3), object(2)\n",
      "memory usage: 46.9+ KB\n"
     ]
    }
   ],
   "source": [
    "orders.info()"
   ]
  },
  {
   "cell_type": "markdown",
   "metadata": {},
   "source": [
    "Таблица имеет 5 колонок и 1197 строк. Пропущенных значений нет, названия колонок в нижнем регистре"
   ]
  },
  {
   "cell_type": "code",
   "execution_count": 15,
   "metadata": {},
   "outputs": [],
   "source": [
    "# Преобразуем столбец `date` методом map()\n",
    "orders['date'] = orders['date'].map(lambda x: dt.datetime.strptime(x, '%Y-%m-%d'))"
   ]
  },
  {
   "cell_type": "markdown",
   "metadata": {},
   "source": [
    "Таблица `orders` готова"
   ]
  },
  {
   "cell_type": "code",
   "execution_count": 16,
   "metadata": {},
   "outputs": [
    {
     "data": {
      "text/html": [
       "<div>\n",
       "<style scoped>\n",
       "    .dataframe tbody tr th:only-of-type {\n",
       "        vertical-align: middle;\n",
       "    }\n",
       "\n",
       "    .dataframe tbody tr th {\n",
       "        vertical-align: top;\n",
       "    }\n",
       "\n",
       "    .dataframe thead th {\n",
       "        text-align: right;\n",
       "    }\n",
       "</style>\n",
       "<table border=\"1\" class=\"dataframe\">\n",
       "  <thead>\n",
       "    <tr style=\"text-align: right;\">\n",
       "      <th></th>\n",
       "      <th>date</th>\n",
       "      <th>group</th>\n",
       "      <th>visitors</th>\n",
       "    </tr>\n",
       "  </thead>\n",
       "  <tbody>\n",
       "    <tr>\n",
       "      <th>0</th>\n",
       "      <td>2019-08-01</td>\n",
       "      <td>A</td>\n",
       "      <td>719</td>\n",
       "    </tr>\n",
       "    <tr>\n",
       "      <th>1</th>\n",
       "      <td>2019-08-02</td>\n",
       "      <td>A</td>\n",
       "      <td>619</td>\n",
       "    </tr>\n",
       "    <tr>\n",
       "      <th>2</th>\n",
       "      <td>2019-08-03</td>\n",
       "      <td>A</td>\n",
       "      <td>507</td>\n",
       "    </tr>\n",
       "    <tr>\n",
       "      <th>3</th>\n",
       "      <td>2019-08-04</td>\n",
       "      <td>A</td>\n",
       "      <td>717</td>\n",
       "    </tr>\n",
       "    <tr>\n",
       "      <th>4</th>\n",
       "      <td>2019-08-05</td>\n",
       "      <td>A</td>\n",
       "      <td>756</td>\n",
       "    </tr>\n",
       "  </tbody>\n",
       "</table>\n",
       "</div>"
      ],
      "text/plain": [
       "         date group  visitors\n",
       "0  2019-08-01     A       719\n",
       "1  2019-08-02     A       619\n",
       "2  2019-08-03     A       507\n",
       "3  2019-08-04     A       717\n",
       "4  2019-08-05     A       756"
      ]
     },
     "execution_count": 16,
     "metadata": {},
     "output_type": "execute_result"
    }
   ],
   "source": [
    "# Данные визитов\n",
    "visitors = pd.read_csv('D:/Project/7/visitors.csv', sep=',')\n",
    "visitors.head()"
   ]
  },
  {
   "cell_type": "code",
   "execution_count": 17,
   "metadata": {},
   "outputs": [],
   "source": [
    "# Преобразуем столбец `date` методом map()\n",
    "visitors['date'] = visitors['date'].map(lambda x: dt.datetime.strptime(x, '%Y-%m-%d'))"
   ]
  },
  {
   "cell_type": "code",
   "execution_count": 18,
   "metadata": {},
   "outputs": [
    {
     "name": "stdout",
     "output_type": "stream",
     "text": [
      "<class 'pandas.core.frame.DataFrame'>\n",
      "RangeIndex: 62 entries, 0 to 61\n",
      "Data columns (total 3 columns):\n",
      " #   Column    Non-Null Count  Dtype         \n",
      "---  ------    --------------  -----         \n",
      " 0   date      62 non-null     datetime64[ns]\n",
      " 1   group     62 non-null     object        \n",
      " 2   visitors  62 non-null     int64         \n",
      "dtypes: datetime64[ns](1), int64(1), object(1)\n",
      "memory usage: 1.6+ KB\n"
     ]
    }
   ],
   "source": [
    "visitors.info()"
   ]
  },
  {
   "cell_type": "markdown",
   "metadata": {},
   "source": [
    "Таблица имеет 3 колонки и 62 строки. Пропущенных значений нет, названия колонок в нижнем регистре"
   ]
  },
  {
   "cell_type": "markdown",
   "metadata": {},
   "source": [
    "Таблица `visitors` готова"
   ]
  },
  {
   "cell_type": "markdown",
   "metadata": {},
   "source": [
    "Проверим таблицы на наличие дубликатов:"
   ]
  },
  {
   "cell_type": "code",
   "execution_count": 19,
   "metadata": {},
   "outputs": [
    {
     "data": {
      "text/plain": [
       "0"
      ]
     },
     "execution_count": 19,
     "metadata": {},
     "output_type": "execute_result"
    }
   ],
   "source": [
    "# Воспользуемся методом duplicated()\n",
    "visitors.duplicated().sum()"
   ]
  },
  {
   "cell_type": "code",
   "execution_count": 20,
   "metadata": {},
   "outputs": [
    {
     "data": {
      "text/plain": [
       "0"
      ]
     },
     "execution_count": 20,
     "metadata": {},
     "output_type": "execute_result"
    }
   ],
   "source": [
    "# Воспользуемся методом duplicated()\n",
    "orders.duplicated().sum()"
   ]
  },
  {
   "cell_type": "markdown",
   "metadata": {},
   "source": [
    "### Проанализируем А/В-тест:"
   ]
  },
  {
   "cell_type": "code",
   "execution_count": 21,
   "metadata": {},
   "outputs": [
    {
     "data": {
      "text/plain": [
       "array(['A', 'B'], dtype=object)"
      ]
     },
     "execution_count": 21,
     "metadata": {},
     "output_type": "execute_result"
    }
   ],
   "source": [
    "# Посчитаем группы A/B-теста:\n",
    "visitors['group'].unique()"
   ]
  },
  {
   "cell_type": "markdown",
   "metadata": {},
   "source": [
    "Получилось, что в нашем тесте только 2 группы: А и В."
   ]
  },
  {
   "cell_type": "code",
   "execution_count": 22,
   "metadata": {},
   "outputs": [
    {
     "data": {
      "text/plain": [
       "Timestamp('2019-08-01 00:00:00')"
      ]
     },
     "execution_count": 22,
     "metadata": {},
     "output_type": "execute_result"
    }
   ],
   "source": [
    "# Посмотрим дату начала теста:\n",
    "visitors['date'].min()"
   ]
  },
  {
   "cell_type": "code",
   "execution_count": 23,
   "metadata": {},
   "outputs": [
    {
     "data": {
      "text/plain": [
       "Timestamp('2019-08-31 00:00:00')"
      ]
     },
     "execution_count": 23,
     "metadata": {},
     "output_type": "execute_result"
    }
   ],
   "source": [
    "# Посмотрим дату окончания теста:\n",
    "visitors['date'].max()"
   ]
  },
  {
   "cell_type": "markdown",
   "metadata": {},
   "source": [
    "Тест проводился с 01 августа 2019 года по 31 августа 2019 года"
   ]
  },
  {
   "cell_type": "code",
   "execution_count": 24,
   "metadata": {},
   "outputs": [
    {
     "data": {
      "text/plain": [
       "1031"
      ]
     },
     "execution_count": 24,
     "metadata": {},
     "output_type": "execute_result"
    }
   ],
   "source": [
    "# Посмотрим, сколько всего уникальных пользователей:\n",
    "orders['visitorId'].nunique()"
   ]
  },
  {
   "cell_type": "code",
   "execution_count": 25,
   "metadata": {},
   "outputs": [
    {
     "data": {
      "text/plain": [
       "visitorId\n",
       "5114589       1\n",
       "6958315       1\n",
       "8300375       2\n",
       "11685486      1\n",
       "39475350      1\n",
       "             ..\n",
       "4266935830    2\n",
       "4278982564    1\n",
       "4279090005    1\n",
       "4281247801    1\n",
       "4283872382    1\n",
       "Name: group, Length: 1031, dtype: int64"
      ]
     },
     "execution_count": 25,
     "metadata": {},
     "output_type": "execute_result"
    }
   ],
   "source": [
    "# Сгруппируем таблицу с заказами по группам и посчитаем количество уникальных значений\n",
    "total_visitor = orders.groupby('visitorId')['group'].nunique()\n",
    "total_visitor"
   ]
  },
  {
   "cell_type": "code",
   "execution_count": 26,
   "metadata": {},
   "outputs": [
    {
     "data": {
      "text/html": [
       "<div>\n",
       "<style scoped>\n",
       "    .dataframe tbody tr th:only-of-type {\n",
       "        vertical-align: middle;\n",
       "    }\n",
       "\n",
       "    .dataframe tbody tr th {\n",
       "        vertical-align: top;\n",
       "    }\n",
       "\n",
       "    .dataframe thead th {\n",
       "        text-align: right;\n",
       "    }\n",
       "</style>\n",
       "<table border=\"1\" class=\"dataframe\">\n",
       "  <thead>\n",
       "    <tr style=\"text-align: right;\">\n",
       "      <th></th>\n",
       "      <th>transactionId</th>\n",
       "      <th>visitorId</th>\n",
       "      <th>date</th>\n",
       "      <th>revenue</th>\n",
       "      <th>group_x</th>\n",
       "      <th>group_y</th>\n",
       "    </tr>\n",
       "  </thead>\n",
       "  <tbody>\n",
       "    <tr>\n",
       "      <th>0</th>\n",
       "      <td>3667963787</td>\n",
       "      <td>3312258926</td>\n",
       "      <td>2019-08-15</td>\n",
       "      <td>1650</td>\n",
       "      <td>B</td>\n",
       "      <td>1</td>\n",
       "    </tr>\n",
       "    <tr>\n",
       "      <th>1</th>\n",
       "      <td>2804400009</td>\n",
       "      <td>3642806036</td>\n",
       "      <td>2019-08-15</td>\n",
       "      <td>730</td>\n",
       "      <td>B</td>\n",
       "      <td>1</td>\n",
       "    </tr>\n",
       "    <tr>\n",
       "      <th>2</th>\n",
       "      <td>2961555356</td>\n",
       "      <td>4069496402</td>\n",
       "      <td>2019-08-15</td>\n",
       "      <td>400</td>\n",
       "      <td>A</td>\n",
       "      <td>2</td>\n",
       "    </tr>\n",
       "    <tr>\n",
       "      <th>3</th>\n",
       "      <td>1473132782</td>\n",
       "      <td>4069496402</td>\n",
       "      <td>2019-08-12</td>\n",
       "      <td>640</td>\n",
       "      <td>B</td>\n",
       "      <td>2</td>\n",
       "    </tr>\n",
       "    <tr>\n",
       "      <th>4</th>\n",
       "      <td>3797467345</td>\n",
       "      <td>1196621759</td>\n",
       "      <td>2019-08-15</td>\n",
       "      <td>9759</td>\n",
       "      <td>B</td>\n",
       "      <td>1</td>\n",
       "    </tr>\n",
       "    <tr>\n",
       "      <th>...</th>\n",
       "      <td>...</td>\n",
       "      <td>...</td>\n",
       "      <td>...</td>\n",
       "      <td>...</td>\n",
       "      <td>...</td>\n",
       "      <td>...</td>\n",
       "    </tr>\n",
       "    <tr>\n",
       "      <th>1192</th>\n",
       "      <td>3592955527</td>\n",
       "      <td>608641596</td>\n",
       "      <td>2019-08-14</td>\n",
       "      <td>16490</td>\n",
       "      <td>B</td>\n",
       "      <td>1</td>\n",
       "    </tr>\n",
       "    <tr>\n",
       "      <th>1193</th>\n",
       "      <td>2662137336</td>\n",
       "      <td>3733762160</td>\n",
       "      <td>2019-08-14</td>\n",
       "      <td>6490</td>\n",
       "      <td>B</td>\n",
       "      <td>1</td>\n",
       "    </tr>\n",
       "    <tr>\n",
       "      <th>1194</th>\n",
       "      <td>2203539145</td>\n",
       "      <td>370388673</td>\n",
       "      <td>2019-08-14</td>\n",
       "      <td>3190</td>\n",
       "      <td>A</td>\n",
       "      <td>1</td>\n",
       "    </tr>\n",
       "    <tr>\n",
       "      <th>1195</th>\n",
       "      <td>1807773912</td>\n",
       "      <td>573423106</td>\n",
       "      <td>2019-08-14</td>\n",
       "      <td>10550</td>\n",
       "      <td>A</td>\n",
       "      <td>1</td>\n",
       "    </tr>\n",
       "    <tr>\n",
       "      <th>1196</th>\n",
       "      <td>3936777065</td>\n",
       "      <td>2108080724</td>\n",
       "      <td>2019-08-15</td>\n",
       "      <td>202740</td>\n",
       "      <td>B</td>\n",
       "      <td>1</td>\n",
       "    </tr>\n",
       "  </tbody>\n",
       "</table>\n",
       "<p>1197 rows × 6 columns</p>\n",
       "</div>"
      ],
      "text/plain": [
       "      transactionId   visitorId       date  revenue group_x  group_y\n",
       "0        3667963787  3312258926 2019-08-15     1650       B        1\n",
       "1        2804400009  3642806036 2019-08-15      730       B        1\n",
       "2        2961555356  4069496402 2019-08-15      400       A        2\n",
       "3        1473132782  4069496402 2019-08-12      640       B        2\n",
       "4        3797467345  1196621759 2019-08-15     9759       B        1\n",
       "...             ...         ...        ...      ...     ...      ...\n",
       "1192     3592955527   608641596 2019-08-14    16490       B        1\n",
       "1193     2662137336  3733762160 2019-08-14     6490       B        1\n",
       "1194     2203539145   370388673 2019-08-14     3190       A        1\n",
       "1195     1807773912   573423106 2019-08-14    10550       A        1\n",
       "1196     3936777065  2108080724 2019-08-15   202740       B        1\n",
       "\n",
       "[1197 rows x 6 columns]"
      ]
     },
     "execution_count": 26,
     "metadata": {},
     "output_type": "execute_result"
    }
   ],
   "source": [
    "# Склеим таблицу\n",
    "visitor_a_b = orders.merge(total_visitor, on=['visitorId'])\n",
    "visitor_a_b"
   ]
  },
  {
   "cell_type": "code",
   "execution_count": 27,
   "metadata": {},
   "outputs": [
    {
     "data": {
      "text/plain": [
       "181"
      ]
     },
     "execution_count": 27,
     "metadata": {},
     "output_type": "execute_result"
    }
   ],
   "source": [
    "# Посчитаем идентификаторы пользователя, встречающиеся более 1 раза\n",
    "visitor_a_b[visitor_a_b['group_y']>1]['visitorId'].count()"
   ]
  },
  {
   "cell_type": "code",
   "execution_count": 28,
   "metadata": {},
   "outputs": [
    {
     "data": {
      "text/plain": [
       "166"
      ]
     },
     "execution_count": 28,
     "metadata": {},
     "output_type": "execute_result"
    }
   ],
   "source": [
    "# Посчитаем количество дубликатов\n",
    "visitor_a_b['visitorId'].duplicated().sum()"
   ]
  },
  {
   "cell_type": "code",
   "execution_count": 29,
   "metadata": {},
   "outputs": [
    {
     "data": {
      "text/plain": [
       "B    640\n",
       "A    557\n",
       "Name: group_x, dtype: int64"
      ]
     },
     "execution_count": 29,
     "metadata": {},
     "output_type": "execute_result"
    }
   ],
   "source": [
    "# Посчитаем количество пользователей в каждой группе\n",
    "visitor_a_b['group_x'].value_counts()"
   ]
  },
  {
   "cell_type": "code",
   "execution_count": 30,
   "metadata": {},
   "outputs": [
    {
     "data": {
      "text/plain": [
       "58"
      ]
     },
     "execution_count": 30,
     "metadata": {},
     "output_type": "execute_result"
    }
   ],
   "source": [
    "test = total_visitor.reset_index()\n",
    "len(test[test['group'] > 1])"
   ]
  },
  {
   "cell_type": "code",
   "execution_count": 31,
   "metadata": {},
   "outputs": [
    {
     "data": {
      "text/plain": [
       "1089"
      ]
     },
     "execution_count": 31,
     "metadata": {},
     "output_type": "execute_result"
    }
   ],
   "source": [
    "# покупатели группы А + покупатели группы В\n",
    "orders.groupby('group').agg({'visitorId': 'nunique'}).sum()[0]"
   ]
  },
  {
   "cell_type": "code",
   "execution_count": 32,
   "metadata": {},
   "outputs": [
    {
     "data": {
      "text/plain": [
       "1031"
      ]
     },
     "execution_count": 32,
     "metadata": {},
     "output_type": "execute_result"
    }
   ],
   "source": [
    "# всего покупателей\n",
    "orders['visitorId'].nunique()"
   ]
  },
  {
   "cell_type": "code",
   "execution_count": 33,
   "metadata": {},
   "outputs": [],
   "source": [
    "# Создадим датафрейм `datesGroups` с уникальными парами значений 'date' и 'group', таблицы orders. \n",
    "#  Избавимся от дубликатов методом drop_duplicates()\n",
    "datesGroups = orders[['date', 'group']].drop_duplicates()"
   ]
  },
  {
   "cell_type": "code",
   "execution_count": 34,
   "metadata": {},
   "outputs": [],
   "source": [
    "# Объявим переменную `ordersAggregated`, содержащую:\n",
    "# дату;\n",
    "# группу A/B-теста;\n",
    "# число уникальных заказов в группе теста по указанную дату включительно;\n",
    "# число уникальных пользователей, совершивших хотя бы 1 заказ в группе теста по указанную дату включительно;\n",
    "# суммарную выручку заказов в группе теста по указанную дату включительно\n",
    "ordersAggregated = datesGroups.apply(lambda x: orders[np.logical_and(orders['date'] <= x['date'], orders['group'] == x['group'])]\\\n",
    "    .agg({'date' : 'max', 'group' : 'max', 'transactionId' : 'nunique', 'visitorId' : 'nunique', 'revenue' : 'sum'}), axis=1).sort_values(\n",
    "    by=['date','group'])\n",
    "\n",
    "ordersAggregated = datesGroups.apply(\n",
    "    lambda x: orders[np.logical_and(orders['date'] <= x['date'], orders['group'] == x['group'])]\n",
    "    .agg({'date' : 'max', 'group' : 'max', 'transactionId' : 'nunique', 'visitorId' : 'nunique', 'revenue' : 'sum'}), axis=1).sort_values(\n",
    "    by=['date','group'])"
   ]
  },
  {
   "cell_type": "code",
   "execution_count": 35,
   "metadata": {},
   "outputs": [
    {
     "data": {
      "text/html": [
       "<div>\n",
       "<style scoped>\n",
       "    .dataframe tbody tr th:only-of-type {\n",
       "        vertical-align: middle;\n",
       "    }\n",
       "\n",
       "    .dataframe tbody tr th {\n",
       "        vertical-align: top;\n",
       "    }\n",
       "\n",
       "    .dataframe thead th {\n",
       "        text-align: right;\n",
       "    }\n",
       "</style>\n",
       "<table border=\"1\" class=\"dataframe\">\n",
       "  <thead>\n",
       "    <tr style=\"text-align: right;\">\n",
       "      <th></th>\n",
       "      <th>date</th>\n",
       "      <th>group</th>\n",
       "      <th>transactionId</th>\n",
       "      <th>visitorId</th>\n",
       "      <th>revenue</th>\n",
       "    </tr>\n",
       "  </thead>\n",
       "  <tbody>\n",
       "    <tr>\n",
       "      <th>55</th>\n",
       "      <td>2019-08-01</td>\n",
       "      <td>A</td>\n",
       "      <td>24</td>\n",
       "      <td>20</td>\n",
       "      <td>148579</td>\n",
       "    </tr>\n",
       "    <tr>\n",
       "      <th>66</th>\n",
       "      <td>2019-08-01</td>\n",
       "      <td>B</td>\n",
       "      <td>21</td>\n",
       "      <td>20</td>\n",
       "      <td>101217</td>\n",
       "    </tr>\n",
       "    <tr>\n",
       "      <th>175</th>\n",
       "      <td>2019-08-02</td>\n",
       "      <td>A</td>\n",
       "      <td>44</td>\n",
       "      <td>38</td>\n",
       "      <td>242401</td>\n",
       "    </tr>\n",
       "    <tr>\n",
       "      <th>173</th>\n",
       "      <td>2019-08-02</td>\n",
       "      <td>B</td>\n",
       "      <td>45</td>\n",
       "      <td>43</td>\n",
       "      <td>266748</td>\n",
       "    </tr>\n",
       "    <tr>\n",
       "      <th>291</th>\n",
       "      <td>2019-08-03</td>\n",
       "      <td>A</td>\n",
       "      <td>68</td>\n",
       "      <td>62</td>\n",
       "      <td>354874</td>\n",
       "    </tr>\n",
       "  </tbody>\n",
       "</table>\n",
       "</div>"
      ],
      "text/plain": [
       "          date group  transactionId  visitorId  revenue\n",
       "55  2019-08-01     A             24         20   148579\n",
       "66  2019-08-01     B             21         20   101217\n",
       "175 2019-08-02     A             44         38   242401\n",
       "173 2019-08-02     B             45         43   266748\n",
       "291 2019-08-03     A             68         62   354874"
      ]
     },
     "execution_count": 35,
     "metadata": {},
     "output_type": "execute_result"
    }
   ],
   "source": [
    "ordersAggregated.head()"
   ]
  },
  {
   "cell_type": "code",
   "execution_count": 36,
   "metadata": {},
   "outputs": [],
   "source": [
    "# Объявим переменную `visitorsAggregated`, содержащую:\n",
    "# дату;\n",
    "# группу A/B-теста;\n",
    "# количество уникальных посетителей в группе теста по указанную дату включительно\n",
    "# `ordersAggregated` и `visitorsAggregated` отсортируем по столбцам 'date', 'group'\n",
    "visitorsAggregated = datesGroups.apply(lambda x: visitors[np.logical_and(\n",
    "    visitors['date'] <= x['date'], visitors['group'] == x['group'])]\n",
    "                                       .agg({'date' : 'max', 'group' : 'max', 'visitors' : 'sum'}), axis=1).sort_values(\n",
    "    by=['date','group'])"
   ]
  },
  {
   "cell_type": "code",
   "execution_count": 37,
   "metadata": {},
   "outputs": [
    {
     "data": {
      "text/html": [
       "<div>\n",
       "<style scoped>\n",
       "    .dataframe tbody tr th:only-of-type {\n",
       "        vertical-align: middle;\n",
       "    }\n",
       "\n",
       "    .dataframe tbody tr th {\n",
       "        vertical-align: top;\n",
       "    }\n",
       "\n",
       "    .dataframe thead th {\n",
       "        text-align: right;\n",
       "    }\n",
       "</style>\n",
       "<table border=\"1\" class=\"dataframe\">\n",
       "  <thead>\n",
       "    <tr style=\"text-align: right;\">\n",
       "      <th></th>\n",
       "      <th>date</th>\n",
       "      <th>group</th>\n",
       "      <th>visitors</th>\n",
       "    </tr>\n",
       "  </thead>\n",
       "  <tbody>\n",
       "    <tr>\n",
       "      <th>55</th>\n",
       "      <td>2019-08-01</td>\n",
       "      <td>A</td>\n",
       "      <td>719</td>\n",
       "    </tr>\n",
       "    <tr>\n",
       "      <th>66</th>\n",
       "      <td>2019-08-01</td>\n",
       "      <td>B</td>\n",
       "      <td>713</td>\n",
       "    </tr>\n",
       "    <tr>\n",
       "      <th>175</th>\n",
       "      <td>2019-08-02</td>\n",
       "      <td>A</td>\n",
       "      <td>1338</td>\n",
       "    </tr>\n",
       "    <tr>\n",
       "      <th>173</th>\n",
       "      <td>2019-08-02</td>\n",
       "      <td>B</td>\n",
       "      <td>1294</td>\n",
       "    </tr>\n",
       "    <tr>\n",
       "      <th>291</th>\n",
       "      <td>2019-08-03</td>\n",
       "      <td>A</td>\n",
       "      <td>1845</td>\n",
       "    </tr>\n",
       "  </tbody>\n",
       "</table>\n",
       "</div>"
      ],
      "text/plain": [
       "          date group  visitors\n",
       "55  2019-08-01     A       719\n",
       "66  2019-08-01     B       713\n",
       "175 2019-08-02     A      1338\n",
       "173 2019-08-02     B      1294\n",
       "291 2019-08-03     A      1845"
      ]
     },
     "execution_count": 37,
     "metadata": {},
     "output_type": "execute_result"
    }
   ],
   "source": [
    "visitorsAggregated.head()"
   ]
  },
  {
   "cell_type": "code",
   "execution_count": 38,
   "metadata": {},
   "outputs": [],
   "source": [
    "# Опредим переменную `cumulativeData`, объединив `ordersAggregated` и `visitorsAggregated` по колонкам 'date', 'group' \n",
    "# методом merge()\n",
    "# Присвоим столбцам `cumulativeData` названия ['date', 'group', 'orders', 'buyers', 'revenue', 'visitors']\n",
    "cumulativeData = ordersAggregated.merge(visitorsAggregated, left_on=['date', 'group'], right_on=['date', 'group'])\n",
    "cumulativeData.columns = ['date', 'group', 'orders', 'buyers', 'revenue', 'visitors']"
   ]
  },
  {
   "cell_type": "code",
   "execution_count": 39,
   "metadata": {},
   "outputs": [
    {
     "data": {
      "text/html": [
       "<div>\n",
       "<style scoped>\n",
       "    .dataframe tbody tr th:only-of-type {\n",
       "        vertical-align: middle;\n",
       "    }\n",
       "\n",
       "    .dataframe tbody tr th {\n",
       "        vertical-align: top;\n",
       "    }\n",
       "\n",
       "    .dataframe thead th {\n",
       "        text-align: right;\n",
       "    }\n",
       "</style>\n",
       "<table border=\"1\" class=\"dataframe\">\n",
       "  <thead>\n",
       "    <tr style=\"text-align: right;\">\n",
       "      <th></th>\n",
       "      <th>date</th>\n",
       "      <th>group</th>\n",
       "      <th>orders</th>\n",
       "      <th>buyers</th>\n",
       "      <th>revenue</th>\n",
       "      <th>visitors</th>\n",
       "    </tr>\n",
       "  </thead>\n",
       "  <tbody>\n",
       "    <tr>\n",
       "      <th>0</th>\n",
       "      <td>2019-08-01</td>\n",
       "      <td>A</td>\n",
       "      <td>24</td>\n",
       "      <td>20</td>\n",
       "      <td>148579</td>\n",
       "      <td>719</td>\n",
       "    </tr>\n",
       "    <tr>\n",
       "      <th>1</th>\n",
       "      <td>2019-08-01</td>\n",
       "      <td>B</td>\n",
       "      <td>21</td>\n",
       "      <td>20</td>\n",
       "      <td>101217</td>\n",
       "      <td>713</td>\n",
       "    </tr>\n",
       "    <tr>\n",
       "      <th>2</th>\n",
       "      <td>2019-08-02</td>\n",
       "      <td>A</td>\n",
       "      <td>44</td>\n",
       "      <td>38</td>\n",
       "      <td>242401</td>\n",
       "      <td>1338</td>\n",
       "    </tr>\n",
       "    <tr>\n",
       "      <th>3</th>\n",
       "      <td>2019-08-02</td>\n",
       "      <td>B</td>\n",
       "      <td>45</td>\n",
       "      <td>43</td>\n",
       "      <td>266748</td>\n",
       "      <td>1294</td>\n",
       "    </tr>\n",
       "    <tr>\n",
       "      <th>4</th>\n",
       "      <td>2019-08-03</td>\n",
       "      <td>A</td>\n",
       "      <td>68</td>\n",
       "      <td>62</td>\n",
       "      <td>354874</td>\n",
       "      <td>1845</td>\n",
       "    </tr>\n",
       "  </tbody>\n",
       "</table>\n",
       "</div>"
      ],
      "text/plain": [
       "        date group  orders  buyers  revenue  visitors\n",
       "0 2019-08-01     A      24      20   148579       719\n",
       "1 2019-08-01     B      21      20   101217       713\n",
       "2 2019-08-02     A      44      38   242401      1338\n",
       "3 2019-08-02     B      45      43   266748      1294\n",
       "4 2019-08-03     A      68      62   354874      1845"
      ]
     },
     "execution_count": 39,
     "metadata": {},
     "output_type": "execute_result"
    }
   ],
   "source": [
    "# Выведим первые 5 строк переменной `cumulativeData`\n",
    "cumulativeData.head()"
   ]
  },
  {
   "cell_type": "markdown",
   "metadata": {},
   "source": [
    "Названия колонок:\n",
    "* `date` - дата;\n",
    "* `group` - группа А/В-теста;\n",
    "* `orders` - заказы;\n",
    "* `buyers` - покупатели;\n",
    "* `revenue` - выручка заказа;\n",
    "* `visitors` - количество пользователей в указанную дату в указанной группе А/В-теста"
   ]
  },
  {
   "cell_type": "markdown",
   "metadata": {},
   "source": [
    "#### Построим график кумулятивной выручки по группам. Сделаем выводы и предположения."
   ]
  },
  {
   "cell_type": "code",
   "execution_count": 40,
   "metadata": {},
   "outputs": [
    {
     "data": {
      "text/plain": [
       "<matplotlib.legend.Legend at 0x2629c551fa0>"
      ]
     },
     "execution_count": 40,
     "metadata": {},
     "output_type": "execute_result"
    },
    {
     "data": {
      "image/png": "[encoded data removed]",
      "text/plain": [
       "<Figure size 720x504 with 1 Axes>"
      ]
     },
     "metadata": {
      "needs_background": "light"
     },
     "output_type": "display_data"
    }
   ],
   "source": [
    "# Объявим переменные `cumulativeRevenueA` и `cumulativeRevenueB`, в которых сохраним данные о датах, выручке и числе заказов \n",
    "# в группах A и B.\n",
    "# Построим графики кумулятивной выручки по дням по группам\n",
    "\n",
    "fig = plt.figure(figsize=[10,7])\n",
    "\n",
    "cumulativeRevenueA = cumulativeData[cumulativeData['group']=='A'][['date', 'revenue', 'orders']]\n",
    "cumulativeRevenueB = cumulativeData[cumulativeData['group']=='B'][['date', 'revenue', 'orders']]\n",
    "\n",
    "plt.plot(cumulativeRevenueA['date'], cumulativeRevenueA['revenue'], label='A')\n",
    "plt.plot(cumulativeRevenueB['date'], cumulativeRevenueB['revenue'], label='B')\n",
    "plt.grid()\n",
    "plt.title('График кумулятивной выручки по группам')\n",
    "plt.xlabel('Дата')\n",
    "plt.ylabel('Выручка заказа')\n",
    "plt.xticks(fontsize=14, rotation=45)\n",
    "plt.legend()"
   ]
  },
  {
   "cell_type": "markdown",
   "metadata": {},
   "source": [
    "Согласно графика, группа В сразу же лидировала по выручке. В середине видим резкий вспеск выручки - это выброс."
   ]
  },
  {
   "cell_type": "markdown",
   "metadata": {},
   "source": [
    "#### Построим график кумулятивного среднего чека по группам. Сделаем выводы и предположения."
   ]
  },
  {
   "cell_type": "code",
   "execution_count": 41,
   "metadata": {},
   "outputs": [
    {
     "data": {
      "text/plain": [
       "<matplotlib.legend.Legend at 0x2629caabd30>"
      ]
     },
     "execution_count": 41,
     "metadata": {},
     "output_type": "execute_result"
    },
    {
     "data": {
      "image/png": "[encoded data removed]",
      "text/plain": [
       "<Figure size 432x288 with 1 Axes>"
      ]
     },
     "metadata": {
      "needs_background": "light"
     },
     "output_type": "display_data"
    }
   ],
   "source": [
    "# Средний чек - это отношение выручки к общим заказам\n",
    "plt.plot(cumulativeRevenueA['date'], cumulativeRevenueA['revenue']/cumulativeRevenueA['orders'], label='A')\n",
    "plt.plot(cumulativeRevenueB['date'], cumulativeRevenueB['revenue']/cumulativeRevenueB['orders'], label='B')\n",
    "plt.grid()\n",
    "plt.title('График кумулятивного среднего чека по группам')\n",
    "plt.xlabel('Дата')\n",
    "plt.ylabel('Средний чек')\n",
    "plt.xticks(fontsize=14, rotation=45)\n",
    "plt.legend() "
   ]
  },
  {
   "cell_type": "markdown",
   "metadata": {},
   "source": [
    "Кумулятивный средний чек в группе А сначала упал, но со временем вырос и держался примерно одинаково. Средний чек группы В рос неравномерно, а в середине произошел всплеск. Значит, точно был выброс - значительная выручка в группе В"
   ]
  },
  {
   "cell_type": "markdown",
   "metadata": {},
   "source": [
    "#### Построим график относительного изменения кумулятивного среднего чека группы B к группе A. Сделаем выводы и предположения."
   ]
  },
  {
   "cell_type": "markdown",
   "metadata": {},
   "source": [
    "Построим график с целью наглядно увидеть разницу между группами:"
   ]
  },
  {
   "cell_type": "code",
   "execution_count": 42,
   "metadata": {},
   "outputs": [
    {
     "data": {
      "image/png": "[encoded data removed]",
      "text/plain": [
       "<Figure size 432x288 with 1 Axes>"
      ]
     },
     "metadata": {
      "needs_background": "light"
     },
     "output_type": "display_data"
    }
   ],
   "source": [
    "# Объединим таблицы `cumulativeRevenueA` и `cumulativeRevenueB` методом merge() и сохраним \n",
    "# в переменной `mergedCumulativeRevenue`;\n",
    "# Построим график относительно различия кумулятивного среднего чека группы B к группе A;\n",
    "# Добавим пунктирную линию оси X (значение оси Y = 0) методом plt.axhline().\n",
    "mergedCumulativeRevenue = cumulativeRevenueA.merge(\n",
    "    cumulativeRevenueB, left_on='date', right_on='date', how='left', suffixes=['A', 'B'])\n",
    "\n",
    "plt.plot(mergedCumulativeRevenue['date'], (mergedCumulativeRevenue['revenueB']/mergedCumulativeRevenue['ordersB'])/\n",
    "         (mergedCumulativeRevenue['revenueA']/mergedCumulativeRevenue['ordersA'])-1)\n",
    "\n",
    "plt.axhline(y=0, color='black', linestyle='--')\n",
    "\n",
    "plt.grid()\n",
    "plt.title('График относительного изменения кумулятивного среднего чека')\n",
    "plt.xlabel('Дата')\n",
    "plt.ylabel('Относительное изменение')\n",
    "plt.xticks(fontsize=14, rotation=45);"
   ]
  },
  {
   "cell_type": "markdown",
   "metadata": {},
   "source": [
    "Результаты менялись вначале и в середине теста. Видим, что были крупные заказы"
   ]
  },
  {
   "cell_type": "markdown",
   "metadata": {},
   "source": [
    "#### Построим график кумулятивной конверсии по группам. Сделаем выводы и предположения."
   ]
  },
  {
   "cell_type": "code",
   "execution_count": 43,
   "metadata": {},
   "outputs": [
    {
     "data": {
      "text/plain": [
       "<matplotlib.legend.Legend at 0x2629c6adf10>"
      ]
     },
     "execution_count": 43,
     "metadata": {},
     "output_type": "execute_result"
    },
    {
     "data": {
      "image/png": "[encoded data removed]",
      "text/plain": [
       "<Figure size 432x288 with 1 Axes>"
      ]
     },
     "metadata": {
      "needs_background": "light"
     },
     "output_type": "display_data"
    }
   ],
   "source": [
    "# Добавим в cumulativeData столбец 'conversion' c отношением числа заказов к количеству пользователей в указанной группе \n",
    "# в указанный день.\n",
    "# Объявим переменные cumulativeDataA и cumulativeDataB, в которых сохраните данные о заказах в сегментах A и B соответственно.\n",
    "# Построим графики кумулятивной конверсии по дням по группам.\n",
    "cumulativeData['conversion'] = cumulativeData['orders']/cumulativeData['visitors']\n",
    "\n",
    "cumulativeDataA = cumulativeData[cumulativeData['group']=='A']\n",
    "cumulativeDataB = cumulativeData[cumulativeData['group']=='B']\n",
    "\n",
    "plt.plot(cumulativeDataA['date'], cumulativeDataA['conversion'], label='A')\n",
    "plt.plot(cumulativeDataB['date'], cumulativeDataB['conversion'], label='B')\n",
    "plt.grid()\n",
    "plt.title('График кумулятивной конверсии по группам')\n",
    "plt.xlabel('Дата')\n",
    "plt.ylabel('Конверсия')\n",
    "plt.xticks(fontsize=14, rotation=45)\n",
    "plt.legend()"
   ]
  },
  {
   "cell_type": "markdown",
   "metadata": {},
   "source": [
    "Кумулятивная конверсия группы А в начале резко возрасла и резко упала, после чего держалась примерно на одном уровне. Конверсия группы В два раза резко взлетала и на конец периода значительно больше группы А"
   ]
  },
  {
   "cell_type": "markdown",
   "metadata": {},
   "source": [
    "#### Построим график относительного изменения кумулятивной конверсии группы B к группе A. Сделаем выводы и предположения."
   ]
  },
  {
   "cell_type": "code",
   "execution_count": 44,
   "metadata": {},
   "outputs": [
    {
     "data": {
      "text/plain": [
       "(array([18109., 18113., 18117., 18121., 18125., 18129., 18133., 18137.,\n",
       "        18140.]),\n",
       " [Text(0, 0, ''),\n",
       "  Text(0, 0, ''),\n",
       "  Text(0, 0, ''),\n",
       "  Text(0, 0, ''),\n",
       "  Text(0, 0, ''),\n",
       "  Text(0, 0, ''),\n",
       "  Text(0, 0, ''),\n",
       "  Text(0, 0, ''),\n",
       "  Text(0, 0, '')])"
      ]
     },
     "execution_count": 44,
     "metadata": {},
     "output_type": "execute_result"
    },
    {
     "data": {
      "image/png": "[encoded data removed]",
      "text/plain": [
       "<Figure size 432x288 with 1 Axes>"
      ]
     },
     "metadata": {
      "needs_background": "light"
     },
     "output_type": "display_data"
    }
   ],
   "source": [
    "# Объединим таблицы cumulativeDataA и cumulativeDataB методом merge();\n",
    "# Построим график относительного различия кумулятивной конверсии группы B к группе A;\n",
    "# Добавим пунктирную линию оси X чёрного цвета ('black') со значением оси Y = 0 \n",
    "# и ещё одну линию оси X серого цвета ('grey') со значением оси Y = 0.2.\n",
    "mergedCumulativeConversions = cumulativeDataA[['date','conversion']].merge(cumulativeDataB[['date','conversion']], \n",
    "                                                                           left_on='date', right_on='date', \n",
    "                                                                           how='left', suffixes=['A', 'B'])\n",
    "\n",
    "plt.plot(mergedCumulativeConversions['date'], mergedCumulativeConversions['conversionB']/\n",
    "         mergedCumulativeConversions['conversionA']-1, )\n",
    "#plt.legend()\n",
    "\n",
    "plt.axhline(y=0, color='black', linestyle='--')\n",
    "plt.axhline(y=0.2, color='grey', linestyle='--')\n",
    "plt.grid()\n",
    "plt.title('График относительного изменения кумулятивной конверсии группы B к группе A')\n",
    "plt.xlabel('Дата')\n",
    "plt.ylabel('Относительное изменение')\n",
    "plt.xticks(fontsize=14, rotation=45)"
   ]
  },
  {
   "cell_type": "markdown",
   "metadata": {},
   "source": [
    "Судя по этому графику, кумулятивная конверсия группы В сразу же начала расти и в середине теста достигала прироста в 20% относительно группы А. Но стоить отметить, что этому способствовал резкий прирост, а дальнейшем кумулятивная конверсия держалась примерно в промежутке от 10% до 15%"
   ]
  },
  {
   "cell_type": "markdown",
   "metadata": {},
   "source": [
    "#### Построим точечный график количества заказов по пользователям. Сделаем выводы и предположения."
   ]
  },
  {
   "cell_type": "markdown",
   "metadata": {},
   "source": [
    "Из представленных выше графиков мы увидели, что в наших данных есть аномально большые заказы, которые могут исказить наши графики. Поэтому такие заказы следует удалить из нашего теста. Однако, на графиках выше мы не видим, есть ли такие заказы. Посмотрим, есть ли такие большие заказы в наших данных"
   ]
  },
  {
   "cell_type": "code",
   "execution_count": 45,
   "metadata": {},
   "outputs": [
    {
     "data": {
      "text/html": [
       "<div>\n",
       "<style scoped>\n",
       "    .dataframe tbody tr th:only-of-type {\n",
       "        vertical-align: middle;\n",
       "    }\n",
       "\n",
       "    .dataframe tbody tr th {\n",
       "        vertical-align: top;\n",
       "    }\n",
       "\n",
       "    .dataframe thead th {\n",
       "        text-align: right;\n",
       "    }\n",
       "</style>\n",
       "<table border=\"1\" class=\"dataframe\">\n",
       "  <thead>\n",
       "    <tr style=\"text-align: right;\">\n",
       "      <th></th>\n",
       "      <th>visitorId</th>\n",
       "      <th>transactionId</th>\n",
       "    </tr>\n",
       "  </thead>\n",
       "  <tbody>\n",
       "    <tr>\n",
       "      <th>1023</th>\n",
       "      <td>4256040402</td>\n",
       "      <td>11</td>\n",
       "    </tr>\n",
       "    <tr>\n",
       "      <th>591</th>\n",
       "      <td>2458001652</td>\n",
       "      <td>11</td>\n",
       "    </tr>\n",
       "    <tr>\n",
       "      <th>569</th>\n",
       "      <td>2378935119</td>\n",
       "      <td>9</td>\n",
       "    </tr>\n",
       "    <tr>\n",
       "      <th>487</th>\n",
       "      <td>2038680547</td>\n",
       "      <td>8</td>\n",
       "    </tr>\n",
       "    <tr>\n",
       "      <th>44</th>\n",
       "      <td>199603092</td>\n",
       "      <td>5</td>\n",
       "    </tr>\n",
       "  </tbody>\n",
       "</table>\n",
       "</div>"
      ],
      "text/plain": [
       "       visitorId  transactionId\n",
       "1023  4256040402             11\n",
       "591   2458001652             11\n",
       "569   2378935119              9\n",
       "487   2038680547              8\n",
       "44     199603092              5"
      ]
     },
     "execution_count": 45,
     "metadata": {},
     "output_type": "execute_result"
    }
   ],
   "source": [
    "# Для начала найдем число заказов по пользователям: сгруппируем данные по таблице \"Заказы\" \n",
    "# по уникальному идентификатору заказа\n",
    "ordersByUsers = (\n",
    "    orders.groupby('visitorId', as_index=False)\n",
    "    .agg({'transactionId':'nunique'})\n",
    "    .sort_values(by='transactionId', ascending=False)\n",
    ")\n",
    "ordersByUsers.head()"
   ]
  },
  {
   "cell_type": "markdown",
   "metadata": {},
   "source": [
    "Видим, что есть пользователи, которые заказывали более более 5 раз! "
   ]
  },
  {
   "cell_type": "markdown",
   "metadata": {},
   "source": [
    "Построим точечный график:"
   ]
  },
  {
   "cell_type": "code",
   "execution_count": 46,
   "metadata": {},
   "outputs": [
    {
     "data": {
      "text/plain": [
       "Text(0, 0.5, 'Количество заказов')"
      ]
     },
     "execution_count": 46,
     "metadata": {},
     "output_type": "execute_result"
    },
    {
     "data": {
      "image/png": "[encoded data removed]",
      "text/plain": [
       "<Figure size 432x288 with 1 Axes>"
      ]
     },
     "metadata": {
      "needs_background": "light"
     },
     "output_type": "display_data"
    }
   ],
   "source": [
    "# Для построения точечного графика воспользуемся методом `scatter()`\n",
    "x_values = pd.Series(range(0, len(ordersByUsers)))\n",
    "plt.scatter(x_values, ordersByUsers['transactionId'])\n",
    "plt.grid()\n",
    "plt.title('Точечный график количества заказов по пользователям')\n",
    "plt.xlabel('Пользователи')\n",
    "plt.ylabel('Количество заказов')"
   ]
  },
  {
   "cell_type": "markdown",
   "metadata": {},
   "source": [
    "По представленному графику видим, что совсем мало пользователей, сделавших заказ более двух раз. В основном пользователи делают 1 заказ, совсем немного - 2 заказа"
   ]
  },
  {
   "cell_type": "markdown",
   "metadata": {},
   "source": [
    "#### Посчитаем 95-й и 99-й перцентили количества заказов на пользователя. Выберем границу для определения аномальных пользователей."
   ]
  },
  {
   "cell_type": "code",
   "execution_count": 47,
   "metadata": {},
   "outputs": [
    {
     "data": {
      "text/plain": [
       "array([2., 4.])"
      ]
     },
     "execution_count": 47,
     "metadata": {},
     "output_type": "execute_result"
    }
   ],
   "source": [
    "# Для нахождения перцентилей выберем метод библиотеки numpy `np.percentile()`\n",
    "np.percentile(ordersByUsers['transactionId'], [95, 99])"
   ]
  },
  {
   "cell_type": "markdown",
   "metadata": {},
   "source": [
    "Т.е. не более 5% пользователей осуществляли покупки больше двух раз и не более 1% пользователей совершали покупку более 4 раз"
   ]
  },
  {
   "cell_type": "markdown",
   "metadata": {},
   "source": [
    "Будем считать, что пользователи, у которых более четырех заказов - это аномальные заказы. Их всего 1% (статистическая погрешность)"
   ]
  },
  {
   "cell_type": "markdown",
   "metadata": {},
   "source": [
    "#### Построим точечный график стоимостей заказов. Сделаем выводы и предположения."
   ]
  },
  {
   "cell_type": "code",
   "execution_count": 48,
   "metadata": {},
   "outputs": [
    {
     "data": {
      "text/plain": [
       "Text(0, 0.5, 'Стоимость заказов')"
      ]
     },
     "execution_count": 48,
     "metadata": {},
     "output_type": "execute_result"
    },
    {
     "data": {
      "image/png": "[encoded data removed]",
      "text/plain": [
       "<Figure size 432x288 with 1 Axes>"
      ]
     },
     "metadata": {
      "needs_background": "light"
     },
     "output_type": "display_data"
    }
   ],
   "source": [
    "# Так же воспользуемся методом `scatter()`\n",
    "x_values = pd.Series(range(0, len(orders['revenue'])))\n",
    "plt.scatter(x_values, orders['revenue'])\n",
    "plt.grid()\n",
    "plt.title('Точечный график стоимостей заказов')\n",
    "plt.xlabel('Пользователи')\n",
    "plt.ylabel('Стоимость заказов')"
   ]
  },
  {
   "cell_type": "markdown",
   "metadata": {},
   "source": [
    "Как видим, в основном все заказы в пределах до 100 000 рублей. Но есть и один заказ стоимостью более 1,2 млн! Скорее всего, из-за него на графиках выше в группе В был такой резкий рывок наверх. Т.е. это явно аномалия"
   ]
  },
  {
   "cell_type": "markdown",
   "metadata": {},
   "source": [
    "#### Посчитаем 95-й и 99-й перцентили стоимости заказов. Выберем границу для определения аномальных заказов."
   ]
  },
  {
   "cell_type": "code",
   "execution_count": 49,
   "metadata": {},
   "outputs": [
    {
     "data": {
      "text/plain": [
       "array([28000. , 58233.2])"
      ]
     },
     "execution_count": 49,
     "metadata": {},
     "output_type": "execute_result"
    }
   ],
   "source": [
    "# Для нахождения перцентилей воспользуемся уже опробованным нами методом `np.percentile()`\n",
    "np.percentile(orders['revenue'], [95, 99])"
   ]
  },
  {
   "cell_type": "markdown",
   "metadata": {},
   "source": [
    "Не более, чем 5% заказов дороже 28 000 рублей. И не более, чем у 1% стоимость заказа дороже 58 000 рублей. Так же будем считать 1% за аномальные заказы"
   ]
  },
  {
   "cell_type": "markdown",
   "metadata": {},
   "source": [
    "#### Посчитаем статистическую значимость различий в конверсии между группами по «сырым» данным. Сделаем выводы и предположения."
   ]
  },
  {
   "cell_type": "markdown",
   "metadata": {},
   "source": [
    "Сформулируем гипотезы:\n",
    "* Нулевая гипотеза - различий в конверсии между группами нет;\n",
    "* Альтернативная гипотеза - различия в конверсии между группами есть"
   ]
  },
  {
   "cell_type": "markdown",
   "metadata": {},
   "source": [
    "Для подсчета статистической значимости необходимо подготовить данные:"
   ]
  },
  {
   "cell_type": "code",
   "execution_count": 50,
   "metadata": {},
   "outputs": [],
   "source": [
    "# Сохраним в переменной данные группы А и переименуем колонки\n",
    "visitorsADaily = visitors[visitors['group'] == 'A'][['date', 'visitors']]\n",
    "visitorsADaily.columns = ['date', 'visitorsPerDateA']"
   ]
  },
  {
   "cell_type": "code",
   "execution_count": 51,
   "metadata": {},
   "outputs": [
    {
     "data": {
      "text/html": [
       "<div>\n",
       "<style scoped>\n",
       "    .dataframe tbody tr th:only-of-type {\n",
       "        vertical-align: middle;\n",
       "    }\n",
       "\n",
       "    .dataframe tbody tr th {\n",
       "        vertical-align: top;\n",
       "    }\n",
       "\n",
       "    .dataframe thead th {\n",
       "        text-align: right;\n",
       "    }\n",
       "</style>\n",
       "<table border=\"1\" class=\"dataframe\">\n",
       "  <thead>\n",
       "    <tr style=\"text-align: right;\">\n",
       "      <th></th>\n",
       "      <th>date</th>\n",
       "      <th>visitorsPerDateA</th>\n",
       "    </tr>\n",
       "  </thead>\n",
       "  <tbody>\n",
       "    <tr>\n",
       "      <th>0</th>\n",
       "      <td>2019-08-01</td>\n",
       "      <td>719</td>\n",
       "    </tr>\n",
       "    <tr>\n",
       "      <th>1</th>\n",
       "      <td>2019-08-02</td>\n",
       "      <td>619</td>\n",
       "    </tr>\n",
       "    <tr>\n",
       "      <th>2</th>\n",
       "      <td>2019-08-03</td>\n",
       "      <td>507</td>\n",
       "    </tr>\n",
       "    <tr>\n",
       "      <th>3</th>\n",
       "      <td>2019-08-04</td>\n",
       "      <td>717</td>\n",
       "    </tr>\n",
       "    <tr>\n",
       "      <th>4</th>\n",
       "      <td>2019-08-05</td>\n",
       "      <td>756</td>\n",
       "    </tr>\n",
       "  </tbody>\n",
       "</table>\n",
       "</div>"
      ],
      "text/plain": [
       "        date  visitorsPerDateA\n",
       "0 2019-08-01               719\n",
       "1 2019-08-02               619\n",
       "2 2019-08-03               507\n",
       "3 2019-08-04               717\n",
       "4 2019-08-05               756"
      ]
     },
     "execution_count": 51,
     "metadata": {},
     "output_type": "execute_result"
    }
   ],
   "source": [
    "visitorsADaily.head()"
   ]
  },
  {
   "cell_type": "code",
   "execution_count": 52,
   "metadata": {},
   "outputs": [],
   "source": [
    "# Создадим куммулятивные данные в таблице (1+2 день, + 3 день и т.д)\n",
    "visitorsACummulative = visitorsADaily.apply(lambda x: visitorsADaily[visitorsADaily['date'] <= x['date']].agg(\n",
    "        {'date': 'max', 'visitorsPerDateA': 'sum'}),axis=1)\n",
    "visitorsACummulative.columns = ['date', 'visitorsCummulativeA']"
   ]
  },
  {
   "cell_type": "code",
   "execution_count": 53,
   "metadata": {},
   "outputs": [
    {
     "data": {
      "text/html": [
       "<div>\n",
       "<style scoped>\n",
       "    .dataframe tbody tr th:only-of-type {\n",
       "        vertical-align: middle;\n",
       "    }\n",
       "\n",
       "    .dataframe tbody tr th {\n",
       "        vertical-align: top;\n",
       "    }\n",
       "\n",
       "    .dataframe thead th {\n",
       "        text-align: right;\n",
       "    }\n",
       "</style>\n",
       "<table border=\"1\" class=\"dataframe\">\n",
       "  <thead>\n",
       "    <tr style=\"text-align: right;\">\n",
       "      <th></th>\n",
       "      <th>date</th>\n",
       "      <th>visitorsCummulativeA</th>\n",
       "    </tr>\n",
       "  </thead>\n",
       "  <tbody>\n",
       "    <tr>\n",
       "      <th>0</th>\n",
       "      <td>2019-08-01</td>\n",
       "      <td>719</td>\n",
       "    </tr>\n",
       "    <tr>\n",
       "      <th>1</th>\n",
       "      <td>2019-08-02</td>\n",
       "      <td>1338</td>\n",
       "    </tr>\n",
       "    <tr>\n",
       "      <th>2</th>\n",
       "      <td>2019-08-03</td>\n",
       "      <td>1845</td>\n",
       "    </tr>\n",
       "    <tr>\n",
       "      <th>3</th>\n",
       "      <td>2019-08-04</td>\n",
       "      <td>2562</td>\n",
       "    </tr>\n",
       "    <tr>\n",
       "      <th>4</th>\n",
       "      <td>2019-08-05</td>\n",
       "      <td>3318</td>\n",
       "    </tr>\n",
       "  </tbody>\n",
       "</table>\n",
       "</div>"
      ],
      "text/plain": [
       "        date  visitorsCummulativeA\n",
       "0 2019-08-01                   719\n",
       "1 2019-08-02                  1338\n",
       "2 2019-08-03                  1845\n",
       "3 2019-08-04                  2562\n",
       "4 2019-08-05                  3318"
      ]
     },
     "execution_count": 53,
     "metadata": {},
     "output_type": "execute_result"
    }
   ],
   "source": [
    "visitorsACummulative.head()"
   ]
  },
  {
   "cell_type": "markdown",
   "metadata": {},
   "source": [
    "Проделаем то же самое для группы В:"
   ]
  },
  {
   "cell_type": "code",
   "execution_count": 54,
   "metadata": {},
   "outputs": [
    {
     "data": {
      "text/html": [
       "<div>\n",
       "<style scoped>\n",
       "    .dataframe tbody tr th:only-of-type {\n",
       "        vertical-align: middle;\n",
       "    }\n",
       "\n",
       "    .dataframe tbody tr th {\n",
       "        vertical-align: top;\n",
       "    }\n",
       "\n",
       "    .dataframe thead th {\n",
       "        text-align: right;\n",
       "    }\n",
       "</style>\n",
       "<table border=\"1\" class=\"dataframe\">\n",
       "  <thead>\n",
       "    <tr style=\"text-align: right;\">\n",
       "      <th></th>\n",
       "      <th>date</th>\n",
       "      <th>visitorsPerDateB</th>\n",
       "    </tr>\n",
       "  </thead>\n",
       "  <tbody>\n",
       "    <tr>\n",
       "      <th>31</th>\n",
       "      <td>2019-08-01</td>\n",
       "      <td>713</td>\n",
       "    </tr>\n",
       "    <tr>\n",
       "      <th>32</th>\n",
       "      <td>2019-08-02</td>\n",
       "      <td>581</td>\n",
       "    </tr>\n",
       "    <tr>\n",
       "      <th>33</th>\n",
       "      <td>2019-08-03</td>\n",
       "      <td>509</td>\n",
       "    </tr>\n",
       "    <tr>\n",
       "      <th>34</th>\n",
       "      <td>2019-08-04</td>\n",
       "      <td>770</td>\n",
       "    </tr>\n",
       "    <tr>\n",
       "      <th>35</th>\n",
       "      <td>2019-08-05</td>\n",
       "      <td>707</td>\n",
       "    </tr>\n",
       "  </tbody>\n",
       "</table>\n",
       "</div>"
      ],
      "text/plain": [
       "         date  visitorsPerDateB\n",
       "31 2019-08-01               713\n",
       "32 2019-08-02               581\n",
       "33 2019-08-03               509\n",
       "34 2019-08-04               770\n",
       "35 2019-08-05               707"
      ]
     },
     "execution_count": 54,
     "metadata": {},
     "output_type": "execute_result"
    }
   ],
   "source": [
    "# Сохраним в переменной данные группы В и переименуем колонки\n",
    "visitorsBDaily = visitors[visitors['group'] == 'B'][['date', 'visitors']]\n",
    "visitorsBDaily.columns = ['date', 'visitorsPerDateB']\n",
    "visitorsBDaily.head()"
   ]
  },
  {
   "cell_type": "code",
   "execution_count": 55,
   "metadata": {},
   "outputs": [
    {
     "data": {
      "text/html": [
       "<div>\n",
       "<style scoped>\n",
       "    .dataframe tbody tr th:only-of-type {\n",
       "        vertical-align: middle;\n",
       "    }\n",
       "\n",
       "    .dataframe tbody tr th {\n",
       "        vertical-align: top;\n",
       "    }\n",
       "\n",
       "    .dataframe thead th {\n",
       "        text-align: right;\n",
       "    }\n",
       "</style>\n",
       "<table border=\"1\" class=\"dataframe\">\n",
       "  <thead>\n",
       "    <tr style=\"text-align: right;\">\n",
       "      <th></th>\n",
       "      <th>date</th>\n",
       "      <th>visitorsCummulativeB</th>\n",
       "    </tr>\n",
       "  </thead>\n",
       "  <tbody>\n",
       "    <tr>\n",
       "      <th>31</th>\n",
       "      <td>2019-08-01</td>\n",
       "      <td>713</td>\n",
       "    </tr>\n",
       "    <tr>\n",
       "      <th>32</th>\n",
       "      <td>2019-08-02</td>\n",
       "      <td>1294</td>\n",
       "    </tr>\n",
       "    <tr>\n",
       "      <th>33</th>\n",
       "      <td>2019-08-03</td>\n",
       "      <td>1803</td>\n",
       "    </tr>\n",
       "    <tr>\n",
       "      <th>34</th>\n",
       "      <td>2019-08-04</td>\n",
       "      <td>2573</td>\n",
       "    </tr>\n",
       "    <tr>\n",
       "      <th>35</th>\n",
       "      <td>2019-08-05</td>\n",
       "      <td>3280</td>\n",
       "    </tr>\n",
       "  </tbody>\n",
       "</table>\n",
       "</div>"
      ],
      "text/plain": [
       "         date  visitorsCummulativeB\n",
       "31 2019-08-01                   713\n",
       "32 2019-08-02                  1294\n",
       "33 2019-08-03                  1803\n",
       "34 2019-08-04                  2573\n",
       "35 2019-08-05                  3280"
      ]
     },
     "execution_count": 55,
     "metadata": {},
     "output_type": "execute_result"
    }
   ],
   "source": [
    "# Создадим куммулятивные данные в таблице (1+2 день, + 3 день и т.д)\n",
    "visitorsBCummulative = visitorsBDaily.apply(lambda x: visitorsBDaily[visitorsBDaily['date'] <= x['date']].agg(\n",
    "        {'date': 'max', 'visitorsPerDateB': 'sum'}), axis=1)\n",
    "visitorsBCummulative.columns = ['date', 'visitorsCummulativeB']\n",
    "visitorsBCummulative.head()"
   ]
  },
  {
   "cell_type": "markdown",
   "metadata": {},
   "source": [
    "Создадим переменную, где для пользователей группы А, совершивших хотя бы 1 заказ будет указано число заказов:"
   ]
  },
  {
   "cell_type": "code",
   "execution_count": 56,
   "metadata": {},
   "outputs": [
    {
     "data": {
      "text/html": [
       "<div>\n",
       "<style scoped>\n",
       "    .dataframe tbody tr th:only-of-type {\n",
       "        vertical-align: middle;\n",
       "    }\n",
       "\n",
       "    .dataframe tbody tr th {\n",
       "        vertical-align: top;\n",
       "    }\n",
       "\n",
       "    .dataframe thead th {\n",
       "        text-align: right;\n",
       "    }\n",
       "</style>\n",
       "<table border=\"1\" class=\"dataframe\">\n",
       "  <thead>\n",
       "    <tr style=\"text-align: right;\">\n",
       "      <th></th>\n",
       "      <th>date</th>\n",
       "      <th>ordersPerDateA</th>\n",
       "      <th>revenuePerDateA</th>\n",
       "    </tr>\n",
       "  </thead>\n",
       "  <tbody>\n",
       "    <tr>\n",
       "      <th>0</th>\n",
       "      <td>2019-08-01</td>\n",
       "      <td>24</td>\n",
       "      <td>148579</td>\n",
       "    </tr>\n",
       "    <tr>\n",
       "      <th>1</th>\n",
       "      <td>2019-08-02</td>\n",
       "      <td>20</td>\n",
       "      <td>93822</td>\n",
       "    </tr>\n",
       "    <tr>\n",
       "      <th>2</th>\n",
       "      <td>2019-08-03</td>\n",
       "      <td>24</td>\n",
       "      <td>112473</td>\n",
       "    </tr>\n",
       "    <tr>\n",
       "      <th>3</th>\n",
       "      <td>2019-08-04</td>\n",
       "      <td>16</td>\n",
       "      <td>70825</td>\n",
       "    </tr>\n",
       "    <tr>\n",
       "      <th>4</th>\n",
       "      <td>2019-08-05</td>\n",
       "      <td>25</td>\n",
       "      <td>124218</td>\n",
       "    </tr>\n",
       "  </tbody>\n",
       "</table>\n",
       "</div>"
      ],
      "text/plain": [
       "        date  ordersPerDateA  revenuePerDateA\n",
       "0 2019-08-01              24           148579\n",
       "1 2019-08-02              20            93822\n",
       "2 2019-08-03              24           112473\n",
       "3 2019-08-04              16            70825\n",
       "4 2019-08-05              25           124218"
      ]
     },
     "execution_count": 56,
     "metadata": {},
     "output_type": "execute_result"
    }
   ],
   "source": [
    "# Сгруппируем колонки\n",
    "ordersADaily = (orders[orders['group'] == 'A'][['date', 'transactionId', 'visitorId', 'revenue']].groupby(\n",
    "    'date', as_index=False).agg({'transactionId': pd.Series.nunique, 'revenue': 'sum'}))\n",
    "ordersADaily.columns = ['date', 'ordersPerDateA', 'revenuePerDateA']\n",
    "ordersADaily.head()"
   ]
  },
  {
   "cell_type": "code",
   "execution_count": 57,
   "metadata": {},
   "outputs": [
    {
     "data": {
      "text/html": [
       "<div>\n",
       "<style scoped>\n",
       "    .dataframe tbody tr th:only-of-type {\n",
       "        vertical-align: middle;\n",
       "    }\n",
       "\n",
       "    .dataframe tbody tr th {\n",
       "        vertical-align: top;\n",
       "    }\n",
       "\n",
       "    .dataframe thead th {\n",
       "        text-align: right;\n",
       "    }\n",
       "</style>\n",
       "<table border=\"1\" class=\"dataframe\">\n",
       "  <thead>\n",
       "    <tr style=\"text-align: right;\">\n",
       "      <th></th>\n",
       "      <th>date</th>\n",
       "      <th>ordersPerDateA</th>\n",
       "      <th>revenuePerDateA</th>\n",
       "    </tr>\n",
       "  </thead>\n",
       "  <tbody>\n",
       "    <tr>\n",
       "      <th>0</th>\n",
       "      <td>2019-08-01</td>\n",
       "      <td>24</td>\n",
       "      <td>148579</td>\n",
       "    </tr>\n",
       "    <tr>\n",
       "      <th>1</th>\n",
       "      <td>2019-08-02</td>\n",
       "      <td>44</td>\n",
       "      <td>242401</td>\n",
       "    </tr>\n",
       "    <tr>\n",
       "      <th>2</th>\n",
       "      <td>2019-08-03</td>\n",
       "      <td>68</td>\n",
       "      <td>354874</td>\n",
       "    </tr>\n",
       "    <tr>\n",
       "      <th>3</th>\n",
       "      <td>2019-08-04</td>\n",
       "      <td>84</td>\n",
       "      <td>425699</td>\n",
       "    </tr>\n",
       "    <tr>\n",
       "      <th>4</th>\n",
       "      <td>2019-08-05</td>\n",
       "      <td>109</td>\n",
       "      <td>549917</td>\n",
       "    </tr>\n",
       "  </tbody>\n",
       "</table>\n",
       "</div>"
      ],
      "text/plain": [
       "        date  ordersPerDateA  revenuePerDateA\n",
       "0 2019-08-01              24           148579\n",
       "1 2019-08-02              44           242401\n",
       "2 2019-08-03              68           354874\n",
       "3 2019-08-04              84           425699\n",
       "4 2019-08-05             109           549917"
      ]
     },
     "execution_count": 57,
     "metadata": {},
     "output_type": "execute_result"
    }
   ],
   "source": [
    "# Кумулятивные данные группы А\n",
    "ordersACummulative = ordersADaily.apply(lambda x: ordersADaily[ordersADaily['date'] <= x['date']].agg(\n",
    "        {'date': 'max', 'ordersPerDateA': 'sum', 'revenuePerDateA': 'sum'}),axis=1).sort_values(by=['date'])\n",
    "ordersACummulative.head()"
   ]
  },
  {
   "cell_type": "code",
   "execution_count": 58,
   "metadata": {},
   "outputs": [],
   "source": [
    "# Переименуем колонки\n",
    "ordersACummulative.columns = ['date', 'ordersCummulativeA','revenueCummulativeA']"
   ]
  },
  {
   "cell_type": "markdown",
   "metadata": {},
   "source": [
    "Создадим переменную, где для пользователей группы В, совершивших хотя бы 1 заказ будет указано число заказов:"
   ]
  },
  {
   "cell_type": "code",
   "execution_count": 59,
   "metadata": {},
   "outputs": [
    {
     "data": {
      "text/html": [
       "<div>\n",
       "<style scoped>\n",
       "    .dataframe tbody tr th:only-of-type {\n",
       "        vertical-align: middle;\n",
       "    }\n",
       "\n",
       "    .dataframe tbody tr th {\n",
       "        vertical-align: top;\n",
       "    }\n",
       "\n",
       "    .dataframe thead th {\n",
       "        text-align: right;\n",
       "    }\n",
       "</style>\n",
       "<table border=\"1\" class=\"dataframe\">\n",
       "  <thead>\n",
       "    <tr style=\"text-align: right;\">\n",
       "      <th></th>\n",
       "      <th>date</th>\n",
       "      <th>ordersPerDateB</th>\n",
       "      <th>revenuePerDateB</th>\n",
       "    </tr>\n",
       "  </thead>\n",
       "  <tbody>\n",
       "    <tr>\n",
       "      <th>0</th>\n",
       "      <td>2019-08-01</td>\n",
       "      <td>21</td>\n",
       "      <td>101217</td>\n",
       "    </tr>\n",
       "    <tr>\n",
       "      <th>1</th>\n",
       "      <td>2019-08-02</td>\n",
       "      <td>24</td>\n",
       "      <td>165531</td>\n",
       "    </tr>\n",
       "    <tr>\n",
       "      <th>2</th>\n",
       "      <td>2019-08-03</td>\n",
       "      <td>16</td>\n",
       "      <td>114248</td>\n",
       "    </tr>\n",
       "    <tr>\n",
       "      <th>3</th>\n",
       "      <td>2019-08-04</td>\n",
       "      <td>17</td>\n",
       "      <td>108571</td>\n",
       "    </tr>\n",
       "    <tr>\n",
       "      <th>4</th>\n",
       "      <td>2019-08-05</td>\n",
       "      <td>23</td>\n",
       "      <td>92428</td>\n",
       "    </tr>\n",
       "  </tbody>\n",
       "</table>\n",
       "</div>"
      ],
      "text/plain": [
       "        date  ordersPerDateB  revenuePerDateB\n",
       "0 2019-08-01              21           101217\n",
       "1 2019-08-02              24           165531\n",
       "2 2019-08-03              16           114248\n",
       "3 2019-08-04              17           108571\n",
       "4 2019-08-05              23            92428"
      ]
     },
     "execution_count": 59,
     "metadata": {},
     "output_type": "execute_result"
    }
   ],
   "source": [
    "# Сгруппируем колонки\n",
    "ordersBDaily = (orders[orders['group'] == 'B'][['date', 'transactionId', 'visitorId', 'revenue']].groupby(\n",
    "    'date', as_index=False).agg({'transactionId': pd.Series.nunique, 'revenue': 'sum'}))\n",
    "ordersBDaily.columns = ['date', 'ordersPerDateB', 'revenuePerDateB']\n",
    "ordersBDaily.head()"
   ]
  },
  {
   "cell_type": "code",
   "execution_count": 60,
   "metadata": {},
   "outputs": [
    {
     "data": {
      "text/html": [
       "<div>\n",
       "<style scoped>\n",
       "    .dataframe tbody tr th:only-of-type {\n",
       "        vertical-align: middle;\n",
       "    }\n",
       "\n",
       "    .dataframe tbody tr th {\n",
       "        vertical-align: top;\n",
       "    }\n",
       "\n",
       "    .dataframe thead th {\n",
       "        text-align: right;\n",
       "    }\n",
       "</style>\n",
       "<table border=\"1\" class=\"dataframe\">\n",
       "  <thead>\n",
       "    <tr style=\"text-align: right;\">\n",
       "      <th></th>\n",
       "      <th>date</th>\n",
       "      <th>ordersPerDateB</th>\n",
       "      <th>revenuePerDateB</th>\n",
       "    </tr>\n",
       "  </thead>\n",
       "  <tbody>\n",
       "    <tr>\n",
       "      <th>0</th>\n",
       "      <td>2019-08-01</td>\n",
       "      <td>21</td>\n",
       "      <td>101217</td>\n",
       "    </tr>\n",
       "    <tr>\n",
       "      <th>1</th>\n",
       "      <td>2019-08-02</td>\n",
       "      <td>45</td>\n",
       "      <td>266748</td>\n",
       "    </tr>\n",
       "    <tr>\n",
       "      <th>2</th>\n",
       "      <td>2019-08-03</td>\n",
       "      <td>61</td>\n",
       "      <td>380996</td>\n",
       "    </tr>\n",
       "    <tr>\n",
       "      <th>3</th>\n",
       "      <td>2019-08-04</td>\n",
       "      <td>78</td>\n",
       "      <td>489567</td>\n",
       "    </tr>\n",
       "    <tr>\n",
       "      <th>4</th>\n",
       "      <td>2019-08-05</td>\n",
       "      <td>101</td>\n",
       "      <td>581995</td>\n",
       "    </tr>\n",
       "  </tbody>\n",
       "</table>\n",
       "</div>"
      ],
      "text/plain": [
       "        date  ordersPerDateB  revenuePerDateB\n",
       "0 2019-08-01              21           101217\n",
       "1 2019-08-02              45           266748\n",
       "2 2019-08-03              61           380996\n",
       "3 2019-08-04              78           489567\n",
       "4 2019-08-05             101           581995"
      ]
     },
     "execution_count": 60,
     "metadata": {},
     "output_type": "execute_result"
    }
   ],
   "source": [
    "# Кумулятивные данные группы B\n",
    "ordersBCummulative = ordersBDaily.apply(lambda x: ordersBDaily[ordersBDaily['date'] <= x['date']].agg(\n",
    "        {'date': 'max', 'ordersPerDateB': 'sum', 'revenuePerDateB': 'sum'}), axis=1).sort_values(by=['date'])\n",
    "ordersBCummulative.head()"
   ]
  },
  {
   "cell_type": "code",
   "execution_count": 61,
   "metadata": {},
   "outputs": [],
   "source": [
    "# Переименуем колонки\n",
    "ordersBCummulative.columns = ['date', 'ordersCummulativeB', 'revenueCummulativeB']"
   ]
  },
  {
   "cell_type": "markdown",
   "metadata": {},
   "source": [
    "\"Смерджим\" все в одну таблицу:"
   ]
  },
  {
   "cell_type": "code",
   "execution_count": 62,
   "metadata": {},
   "outputs": [
    {
     "data": {
      "text/html": [
       "<div>\n",
       "<style scoped>\n",
       "    .dataframe tbody tr th:only-of-type {\n",
       "        vertical-align: middle;\n",
       "    }\n",
       "\n",
       "    .dataframe tbody tr th {\n",
       "        vertical-align: top;\n",
       "    }\n",
       "\n",
       "    .dataframe thead th {\n",
       "        text-align: right;\n",
       "    }\n",
       "</style>\n",
       "<table border=\"1\" class=\"dataframe\">\n",
       "  <thead>\n",
       "    <tr style=\"text-align: right;\">\n",
       "      <th></th>\n",
       "      <th>date</th>\n",
       "      <th>ordersPerDateA</th>\n",
       "      <th>revenuePerDateA</th>\n",
       "      <th>ordersPerDateB</th>\n",
       "      <th>revenuePerDateB</th>\n",
       "      <th>ordersCummulativeA</th>\n",
       "      <th>revenueCummulativeA</th>\n",
       "      <th>ordersCummulativeB</th>\n",
       "      <th>revenueCummulativeB</th>\n",
       "      <th>visitorsPerDateA</th>\n",
       "      <th>visitorsPerDateB</th>\n",
       "      <th>visitorsCummulativeA</th>\n",
       "      <th>visitorsCummulativeB</th>\n",
       "    </tr>\n",
       "  </thead>\n",
       "  <tbody>\n",
       "    <tr>\n",
       "      <th>0</th>\n",
       "      <td>2019-08-01</td>\n",
       "      <td>24</td>\n",
       "      <td>148579</td>\n",
       "      <td>21</td>\n",
       "      <td>101217</td>\n",
       "      <td>24</td>\n",
       "      <td>148579</td>\n",
       "      <td>21</td>\n",
       "      <td>101217</td>\n",
       "      <td>719</td>\n",
       "      <td>713</td>\n",
       "      <td>719</td>\n",
       "      <td>713</td>\n",
       "    </tr>\n",
       "    <tr>\n",
       "      <th>1</th>\n",
       "      <td>2019-08-02</td>\n",
       "      <td>20</td>\n",
       "      <td>93822</td>\n",
       "      <td>24</td>\n",
       "      <td>165531</td>\n",
       "      <td>44</td>\n",
       "      <td>242401</td>\n",
       "      <td>45</td>\n",
       "      <td>266748</td>\n",
       "      <td>619</td>\n",
       "      <td>581</td>\n",
       "      <td>1338</td>\n",
       "      <td>1294</td>\n",
       "    </tr>\n",
       "    <tr>\n",
       "      <th>2</th>\n",
       "      <td>2019-08-03</td>\n",
       "      <td>24</td>\n",
       "      <td>112473</td>\n",
       "      <td>16</td>\n",
       "      <td>114248</td>\n",
       "      <td>68</td>\n",
       "      <td>354874</td>\n",
       "      <td>61</td>\n",
       "      <td>380996</td>\n",
       "      <td>507</td>\n",
       "      <td>509</td>\n",
       "      <td>1845</td>\n",
       "      <td>1803</td>\n",
       "    </tr>\n",
       "    <tr>\n",
       "      <th>3</th>\n",
       "      <td>2019-08-04</td>\n",
       "      <td>16</td>\n",
       "      <td>70825</td>\n",
       "      <td>17</td>\n",
       "      <td>108571</td>\n",
       "      <td>84</td>\n",
       "      <td>425699</td>\n",
       "      <td>78</td>\n",
       "      <td>489567</td>\n",
       "      <td>717</td>\n",
       "      <td>770</td>\n",
       "      <td>2562</td>\n",
       "      <td>2573</td>\n",
       "    </tr>\n",
       "    <tr>\n",
       "      <th>4</th>\n",
       "      <td>2019-08-05</td>\n",
       "      <td>25</td>\n",
       "      <td>124218</td>\n",
       "      <td>23</td>\n",
       "      <td>92428</td>\n",
       "      <td>109</td>\n",
       "      <td>549917</td>\n",
       "      <td>101</td>\n",
       "      <td>581995</td>\n",
       "      <td>756</td>\n",
       "      <td>707</td>\n",
       "      <td>3318</td>\n",
       "      <td>3280</td>\n",
       "    </tr>\n",
       "  </tbody>\n",
       "</table>\n",
       "</div>"
      ],
      "text/plain": [
       "        date  ordersPerDateA  revenuePerDateA  ordersPerDateB  \\\n",
       "0 2019-08-01              24           148579              21   \n",
       "1 2019-08-02              20            93822              24   \n",
       "2 2019-08-03              24           112473              16   \n",
       "3 2019-08-04              16            70825              17   \n",
       "4 2019-08-05              25           124218              23   \n",
       "\n",
       "   revenuePerDateB  ordersCummulativeA  revenueCummulativeA  \\\n",
       "0           101217                  24               148579   \n",
       "1           165531                  44               242401   \n",
       "2           114248                  68               354874   \n",
       "3           108571                  84               425699   \n",
       "4            92428                 109               549917   \n",
       "\n",
       "   ordersCummulativeB  revenueCummulativeB  visitorsPerDateA  \\\n",
       "0                  21               101217               719   \n",
       "1                  45               266748               619   \n",
       "2                  61               380996               507   \n",
       "3                  78               489567               717   \n",
       "4                 101               581995               756   \n",
       "\n",
       "   visitorsPerDateB  visitorsCummulativeA  visitorsCummulativeB  \n",
       "0               713                   719                   713  \n",
       "1               581                  1338                  1294  \n",
       "2               509                  1845                  1803  \n",
       "3               770                  2562                  2573  \n",
       "4               707                  3318                  3280  "
      ]
     },
     "execution_count": 62,
     "metadata": {},
     "output_type": "execute_result"
    }
   ],
   "source": [
    "data_new = (\n",
    "    ordersADaily.merge(\n",
    "        ordersBDaily, left_on='date', right_on='date', how='left'\n",
    "    )\n",
    "    .merge(ordersACummulative, left_on='date', right_on='date', how='left')\n",
    "    .merge(ordersBCummulative, left_on='date', right_on='date', how='left')\n",
    "    .merge(visitorsADaily, left_on='date', right_on='date', how='left')\n",
    "    .merge(visitorsBDaily, left_on='date', right_on='date', how='left')\n",
    "    .merge(visitorsACummulative, left_on='date', right_on='date', how='left')\n",
    "    .merge(visitorsBCummulative, left_on='date', right_on='date', how='left')\n",
    ")\n",
    "data_new.head()"
   ]
  },
  {
   "cell_type": "markdown",
   "metadata": {},
   "source": [
    "Создадим переменные для пользователей, совершивших хотя бы 1 заказ:"
   ]
  },
  {
   "cell_type": "code",
   "execution_count": 63,
   "metadata": {},
   "outputs": [
    {
     "data": {
      "text/html": [
       "<div>\n",
       "<style scoped>\n",
       "    .dataframe tbody tr th:only-of-type {\n",
       "        vertical-align: middle;\n",
       "    }\n",
       "\n",
       "    .dataframe tbody tr th {\n",
       "        vertical-align: top;\n",
       "    }\n",
       "\n",
       "    .dataframe thead th {\n",
       "        text-align: right;\n",
       "    }\n",
       "</style>\n",
       "<table border=\"1\" class=\"dataframe\">\n",
       "  <thead>\n",
       "    <tr style=\"text-align: right;\">\n",
       "      <th></th>\n",
       "      <th>visitorId</th>\n",
       "      <th>transactionId</th>\n",
       "    </tr>\n",
       "  </thead>\n",
       "  <tbody>\n",
       "    <tr>\n",
       "      <th>499</th>\n",
       "      <td>4256040402</td>\n",
       "      <td>7</td>\n",
       "    </tr>\n",
       "    <tr>\n",
       "      <th>227</th>\n",
       "      <td>2038680547</td>\n",
       "      <td>5</td>\n",
       "    </tr>\n",
       "    <tr>\n",
       "      <th>278</th>\n",
       "      <td>2458001652</td>\n",
       "      <td>5</td>\n",
       "    </tr>\n",
       "    <tr>\n",
       "      <th>269</th>\n",
       "      <td>2378935119</td>\n",
       "      <td>4</td>\n",
       "    </tr>\n",
       "    <tr>\n",
       "      <th>18</th>\n",
       "      <td>199603092</td>\n",
       "      <td>4</td>\n",
       "    </tr>\n",
       "  </tbody>\n",
       "</table>\n",
       "</div>"
      ],
      "text/plain": [
       "      visitorId  transactionId\n",
       "499  4256040402              7\n",
       "227  2038680547              5\n",
       "278  2458001652              5\n",
       "269  2378935119              4\n",
       "18    199603092              4"
      ]
     },
     "execution_count": 63,
     "metadata": {},
     "output_type": "execute_result"
    }
   ],
   "source": [
    "# Группа А\n",
    "ordersByUsersA = (orders[orders['group'] == 'A'].groupby('visitorId', as_index=False).agg(\n",
    "    {'transactionId': pd.Series.nunique}))\n",
    "ordersByUsersA.sort_values(by='transactionId', ascending=False).head()"
   ]
  },
  {
   "cell_type": "code",
   "execution_count": 64,
   "metadata": {},
   "outputs": [
    {
     "data": {
      "text/html": [
       "<div>\n",
       "<style scoped>\n",
       "    .dataframe tbody tr th:only-of-type {\n",
       "        vertical-align: middle;\n",
       "    }\n",
       "\n",
       "    .dataframe tbody tr th {\n",
       "        vertical-align: top;\n",
       "    }\n",
       "\n",
       "    .dataframe thead th {\n",
       "        text-align: right;\n",
       "    }\n",
       "</style>\n",
       "<table border=\"1\" class=\"dataframe\">\n",
       "  <thead>\n",
       "    <tr style=\"text-align: right;\">\n",
       "      <th></th>\n",
       "      <th>visitorId</th>\n",
       "      <th>transactionId</th>\n",
       "    </tr>\n",
       "  </thead>\n",
       "  <tbody>\n",
       "    <tr>\n",
       "      <th>340</th>\n",
       "      <td>2458001652</td>\n",
       "      <td>6</td>\n",
       "    </tr>\n",
       "    <tr>\n",
       "      <th>326</th>\n",
       "      <td>2378935119</td>\n",
       "      <td>5</td>\n",
       "    </tr>\n",
       "    <tr>\n",
       "      <th>501</th>\n",
       "      <td>3717692402</td>\n",
       "      <td>4</td>\n",
       "    </tr>\n",
       "    <tr>\n",
       "      <th>514</th>\n",
       "      <td>3803269165</td>\n",
       "      <td>4</td>\n",
       "    </tr>\n",
       "    <tr>\n",
       "      <th>580</th>\n",
       "      <td>4256040402</td>\n",
       "      <td>4</td>\n",
       "    </tr>\n",
       "  </tbody>\n",
       "</table>\n",
       "</div>"
      ],
      "text/plain": [
       "      visitorId  transactionId\n",
       "340  2458001652              6\n",
       "326  2378935119              5\n",
       "501  3717692402              4\n",
       "514  3803269165              4\n",
       "580  4256040402              4"
      ]
     },
     "execution_count": 64,
     "metadata": {},
     "output_type": "execute_result"
    }
   ],
   "source": [
    "# Группа В\n",
    "ordersByUsersB = (orders[orders['group'] == 'B'].groupby('visitorId', as_index=False).agg({'transactionId': pd.Series.nunique}))\n",
    "ordersByUsersB.sort_values(by='transactionId', ascending=False).head()"
   ]
  },
  {
   "cell_type": "code",
   "execution_count": 65,
   "metadata": {},
   "outputs": [],
   "source": [
    "# Объявим переменные sampleA и sampleB, в которых пользователям с заказами будет соответствовать число заказов пользователя. \n",
    "# А пользователям без заказов — нули.\n",
    "sampleA = pd.concat([ordersByUsersA['transactionId'],pd.Series(\n",
    "    0, index=np.arange(data_new['visitorsPerDateA'].sum() - len(\n",
    "        ordersByUsersA['transactionId'])), name='transactionId')],axis=0)"
   ]
  },
  {
   "cell_type": "code",
   "execution_count": 66,
   "metadata": {},
   "outputs": [],
   "source": [
    "sampleB = pd.concat([ordersByUsersB['transactionId'],pd.Series(\n",
    "    0, index=np.arange(data_new['visitorsPerDateB'].sum() - len(\n",
    "        ordersByUsersB['transactionId'])), name='transactionId')],axis=0)"
   ]
  },
  {
   "cell_type": "markdown",
   "metadata": {},
   "source": [
    "Посчитаем статистическую значимость различия конверсии с применением теста Манна-Уитни и выведем p-value:"
   ]
  },
  {
   "cell_type": "code",
   "execution_count": 67,
   "metadata": {},
   "outputs": [
    {
     "data": {
      "text/plain": [
       "'0.017'"
      ]
     },
     "metadata": {},
     "output_type": "display_data"
    }
   ],
   "source": [
    "display(\"{0:.3f}\".format(st.mannwhitneyu(sampleA, sampleB)[1]))\n"
   ]
  },
  {
   "cell_type": "markdown",
   "metadata": {},
   "source": [
    "Вычислим и выведем относительное различие в конверсии между группами:"
   ]
  },
  {
   "cell_type": "code",
   "execution_count": 68,
   "metadata": {},
   "outputs": [
    {
     "data": {
      "text/plain": [
       "'0.138'"
      ]
     },
     "metadata": {},
     "output_type": "display_data"
    }
   ],
   "source": [
    "display(\"{0:.3f}\".format((data_new['ordersPerDateB'].sum()/data_new['visitorsPerDateB'].sum())/\n",
    "                       (data_new['ordersPerDateA'].sum()/data_new['visitorsPerDateA'].sum())-1))"
   ]
  },
  {
   "cell_type": "markdown",
   "metadata": {},
   "source": [
    "Вывод: p-value < 0.05. Следовательно, отвергаем нулевую гипотезу (значит, в конверсии между группами есть статистически значимые различия). Относительный прирост по \"сырым\" данным конверсии группы В к группе А составляет 13,8%"
   ]
  },
  {
   "cell_type": "markdown",
   "metadata": {},
   "source": [
    "#### Посчитаем статистическую значимость различий в среднем чеке заказа между группами по «сырым» данным. Сделаем выводы и предположения."
   ]
  },
  {
   "cell_type": "code",
   "execution_count": 69,
   "metadata": {},
   "outputs": [
    {
     "data": {
      "text/plain": [
       "'0.729'"
      ]
     },
     "metadata": {},
     "output_type": "display_data"
    },
    {
     "data": {
      "text/plain": [
       "'0.259'"
      ]
     },
     "metadata": {},
     "output_type": "display_data"
    }
   ],
   "source": [
    "display('{0:.3f}'.format(st.mannwhitneyu(orders[orders['group']=='A']['revenue'], orders[orders['group']=='B']['revenue'])[1]))\n",
    "display('{0:.3f}'.format(orders[orders['group']=='B']['revenue'].mean()/orders[orders['group']=='A']['revenue'].mean()-1))"
   ]
  },
  {
   "cell_type": "markdown",
   "metadata": {},
   "source": [
    "Вывод: p-value > 0.05. Следовательно, не отвергаем нулевую гипотезу (значит, между группами нет статистически значимых различий в среднем чеке). Относительное различие по \"сырым\" данным группы В к группе А составляет 25,9%"
   ]
  },
  {
   "cell_type": "markdown",
   "metadata": {},
   "source": [
    "#### Посчитаем статистическую значимость различий в конверсии между группами по «очищенным» данным. Сделаем выводы и предположения."
   ]
  },
  {
   "cell_type": "markdown",
   "metadata": {},
   "source": [
    "Приступим к \"очистке\" данных. Удалим пользователей: сначала определим аномальные заказы, потом пользователей, совершивших их:"
   ]
  },
  {
   "cell_type": "code",
   "execution_count": 70,
   "metadata": {},
   "outputs": [],
   "source": [
    "# Удалим пользователей, совершивших покупки более двух раз\n",
    "usersWithManyOrders = pd.concat(\n",
    "    [\n",
    "        ordersByUsersA[ordersByUsersA['transactionId'] > 2]['visitorId'],\n",
    "        ordersByUsersB[ordersByUsersB['transactionId'] > 2]['visitorId'],\n",
    "    ],\n",
    "    axis=0,\n",
    ")\n"
   ]
  },
  {
   "cell_type": "code",
   "execution_count": 71,
   "metadata": {},
   "outputs": [],
   "source": [
    "# Удалим пользователей, совершивших покупки на сумму более 58 000 рублей\n",
    "usersWithExpensiveOrders = orders[orders['revenue'] > 58000]['visitorId']"
   ]
  },
  {
   "cell_type": "code",
   "execution_count": 72,
   "metadata": {},
   "outputs": [],
   "source": [
    "# \"Сцепим\" все в одну переменную\n",
    "abnormalUsers = (\n",
    "    pd.concat([usersWithManyOrders, usersWithExpensiveOrders], axis=0)\n",
    "    .drop_duplicates()\n",
    "    .sort_values()\n",
    ")\n"
   ]
  },
  {
   "cell_type": "markdown",
   "metadata": {},
   "source": [
    "Создадим переменную для группы А, в которых сохраним очищенные данные о заказах:"
   ]
  },
  {
   "cell_type": "code",
   "execution_count": 73,
   "metadata": {},
   "outputs": [],
   "source": [
    "sampleAFiltered = pd.concat(\n",
    "    [\n",
    "        ordersByUsersA[\n",
    "            np.logical_not(ordersByUsersA['visitorId'].isin(abnormalUsers))\n",
    "        ]['transactionId'],\n",
    "        pd.Series(\n",
    "            0,\n",
    "            index=np.arange(\n",
    "                data_new['visitorsPerDateA'].sum() - len(ordersByUsersA['transactionId'])\n",
    "            ),\n",
    "            name='transactionId',\n",
    "        ),\n",
    "    ],\n",
    "    axis=0,\n",
    ")"
   ]
  },
  {
   "cell_type": "markdown",
   "metadata": {},
   "source": [
    "Создадим переменную для группы B, в которых сохраним очищенные данные о заказах:"
   ]
  },
  {
   "cell_type": "code",
   "execution_count": 74,
   "metadata": {},
   "outputs": [],
   "source": [
    "sampleBFiltered = pd.concat(\n",
    "    [\n",
    "        ordersByUsersB[\n",
    "            np.logical_not(ordersByUsersB['visitorId'].isin(abnormalUsers))\n",
    "        ]['transactionId'],\n",
    "        pd.Series(\n",
    "            0,\n",
    "            index=np.arange(\n",
    "                data_new['visitorsPerDateB'].sum() - len(ordersByUsersB['transactionId'])\n",
    "            ),\n",
    "            name='transactionId',\n",
    "        ),\n",
    "    ],\n",
    "    axis=0,\n",
    ")"
   ]
  },
  {
   "cell_type": "code",
   "execution_count": 75,
   "metadata": {},
   "outputs": [
    {
     "data": {
      "text/plain": [
       "'0.010'"
      ]
     },
     "metadata": {},
     "output_type": "display_data"
    },
    {
     "data": {
      "text/plain": [
       "'0.174'"
      ]
     },
     "metadata": {},
     "output_type": "display_data"
    }
   ],
   "source": [
    "# Выведем p-value для сравнения конверсии между очищенными группами и относительный прирост конверсии очищенной группы B\n",
    "display('{0:.3f}'.format(st.mannwhitneyu(sampleAFiltered, sampleBFiltered)[1]))\n",
    "display('{0:.3f}'.format(sampleBFiltered.mean()/sampleAFiltered.mean()-1)) "
   ]
  },
  {
   "cell_type": "markdown",
   "metadata": {},
   "source": [
    "* p-value < 0.05. Следовательно, отвергаем нулевую гипотезу (значит, по по \"очищенным\" данным конверсии между группами есть статистически значимые различия).\n",
    "* Относительный прирост по \"очищенным\" данным конверсии группы В к группе А составляет 17,4%"
   ]
  },
  {
   "cell_type": "markdown",
   "metadata": {},
   "source": [
    "#### Посчитаем статистическую значимость различий в среднем чеке заказа между группами по «очищенным» данным. Сделаем выводы и предположения"
   ]
  },
  {
   "cell_type": "code",
   "execution_count": 76,
   "metadata": {},
   "outputs": [
    {
     "data": {
      "text/plain": [
       "'0.798'"
      ]
     },
     "metadata": {},
     "output_type": "display_data"
    },
    {
     "data": {
      "text/plain": [
       "'-0.020'"
      ]
     },
     "metadata": {},
     "output_type": "display_data"
    }
   ],
   "source": [
    "display(\n",
    "    '{0:.3f}'.format(\n",
    "        st.mannwhitneyu(\n",
    "            orders[\n",
    "                np.logical_and(\n",
    "                    orders['group'] == 'A',\n",
    "                    np.logical_not(orders['visitorId'].isin(abnormalUsers)),\n",
    "                )\n",
    "            ]['revenue'],\n",
    "            orders[\n",
    "                np.logical_and(\n",
    "                    orders['group'] == 'B',\n",
    "                    np.logical_not(orders['visitorId'].isin(abnormalUsers)),\n",
    "                )\n",
    "            ]['revenue'],\n",
    "        )[1]\n",
    "    )\n",
    ")\n",
    "\n",
    "display(\n",
    "    \"{0:.3f}\".format(\n",
    "        orders[\n",
    "            np.logical_and(\n",
    "                orders['group'] == 'B',\n",
    "                np.logical_not(orders['visitorId'].isin(abnormalUsers)),\n",
    "            )\n",
    "        ]['revenue'].mean()\n",
    "        / orders[\n",
    "            np.logical_and(\n",
    "                orders['group'] == 'A',\n",
    "                np.logical_not(orders['visitorId'].isin(abnormalUsers)),\n",
    "            )\n",
    "        ]['revenue'].mean()\n",
    "        - 1\n",
    "    )\n",
    ")"
   ]
  },
  {
   "cell_type": "markdown",
   "metadata": {},
   "source": [
    "Вывод: p-value > 0.05. Следовательно, не отвергаем нулевую гипотезу (значит, между группами нет статистически значимых различий в среднем чеке). Относительное различие по \"очищенным\" данным группы В к группе А составляет 2%"
   ]
  },
  {
   "cell_type": "markdown",
   "metadata": {},
   "source": [
    "# Вывод <a id=\"step5\"></a>   \n",
    "</div>"
   ]
  },
  {
   "cell_type": "markdown",
   "metadata": {},
   "source": [
    "Для принятия решение по результатам теста сделаем выводы:\n",
    "* Нет статистически значимого различия по конверсии между группами ни по «сырым», ни по \"очищенным\" данным после фильтрации аномалий;\n",
    "* Нет статистически значимого различия по среднему чеку между группами ни по «сырым», ни по \"очищенным\" данным после фильтрации аномалий;\n",
    "* График различия конверсии между группами сообщает, что результаты группы B лучше группы A: имеют тенденцию к росту, либо зафиксировались около среднего значения;\n",
    "* График различия среднего между группами хоть и колеблется, но так же видно, что группа В лучше, чем группа А"
   ]
  },
  {
   "cell_type": "markdown",
   "metadata": {},
   "source": [
    "##### Принимаем следующее решение:\n",
    "Останавливаем тест, признаем его успешным и фиксируем победу группы В. Т.е. пользователи будут лучше заказывать в нашем интернет-магазине, если перед ними окажется измененная версия страницы сайта"
   ]
  },
  {
   "cell_type": "code",
   "execution_count": null,
   "metadata": {},
   "outputs": [],
   "source": []
  }
 ],
 "metadata": {
  "ExecuteTimeLog": [
   {
    "duration": 1898,
    "start_time": "2022-05-08T02:03:51.394Z"
   },
   {
    "duration": 145,
    "start_time": "2022-05-08T02:14:51.887Z"
   },
   {
    "duration": 16,
    "start_time": "2022-05-08T02:40:46.492Z"
   },
   {
    "duration": 12,
    "start_time": "2022-05-08T02:41:07.892Z"
   },
   {
    "duration": 4,
    "start_time": "2022-05-08T02:45:43.424Z"
   },
   {
    "duration": 17,
    "start_time": "2022-05-08T02:46:20.967Z"
   },
   {
    "duration": 12,
    "start_time": "2022-05-08T02:47:03.471Z"
   },
   {
    "duration": 144,
    "start_time": "2022-05-08T03:17:34.834Z"
   },
   {
    "duration": 12,
    "start_time": "2022-05-08T03:18:29.138Z"
   },
   {
    "duration": 113,
    "start_time": "2022-05-08T03:19:17.664Z"
   },
   {
    "duration": 12,
    "start_time": "2022-05-08T03:19:27.704Z"
   },
   {
    "duration": 5,
    "start_time": "2022-05-08T03:19:54.856Z"
   },
   {
    "duration": 13,
    "start_time": "2022-05-08T03:43:54.951Z"
   },
   {
    "duration": 12,
    "start_time": "2022-05-08T03:44:18.358Z"
   },
   {
    "duration": 11,
    "start_time": "2022-05-08T03:44:21.071Z"
   },
   {
    "duration": 4,
    "start_time": "2022-05-08T03:44:36.558Z"
   },
   {
    "duration": 12,
    "start_time": "2022-05-08T03:44:40.383Z"
   },
   {
    "duration": 5,
    "start_time": "2022-05-08T03:45:10.525Z"
   },
   {
    "duration": 19,
    "start_time": "2022-05-08T03:45:16.366Z"
   },
   {
    "duration": 12,
    "start_time": "2022-05-08T03:45:24.093Z"
   },
   {
    "duration": 12,
    "start_time": "2022-05-08T03:45:26.133Z"
   },
   {
    "duration": 5,
    "start_time": "2022-05-08T03:45:28.229Z"
   },
   {
    "duration": 15,
    "start_time": "2022-05-08T03:45:29.773Z"
   },
   {
    "duration": 11,
    "start_time": "2022-05-08T03:45:31.829Z"
   },
   {
    "duration": 6,
    "start_time": "2022-05-08T03:45:34.452Z"
   },
   {
    "duration": 12,
    "start_time": "2022-05-08T03:45:35.285Z"
   },
   {
    "duration": 13,
    "start_time": "2022-05-08T04:07:50.503Z"
   },
   {
    "duration": 16,
    "start_time": "2022-05-08T04:20:09.222Z"
   },
   {
    "duration": 97,
    "start_time": "2022-05-08T04:20:21.749Z"
   },
   {
    "duration": 6,
    "start_time": "2022-05-08T04:20:27.949Z"
   },
   {
    "duration": 14,
    "start_time": "2022-05-08T04:20:29.165Z"
   },
   {
    "duration": 14,
    "start_time": "2022-05-08T05:33:59.427Z"
   },
   {
    "duration": 12,
    "start_time": "2022-05-08T05:35:00.057Z"
   },
   {
    "duration": 14,
    "start_time": "2022-05-08T05:35:37.639Z"
   },
   {
    "duration": 1693,
    "start_time": "2022-05-08T05:46:13.785Z"
   },
   {
    "duration": 1709,
    "start_time": "2022-05-08T05:46:28.209Z"
   },
   {
    "duration": 9,
    "start_time": "2022-05-08T05:46:49.792Z"
   },
   {
    "duration": 13,
    "start_time": "2022-05-08T05:47:07.689Z"
   },
   {
    "duration": 6,
    "start_time": "2022-05-08T05:47:18.112Z"
   },
   {
    "duration": 6,
    "start_time": "2022-05-08T05:47:49.575Z"
   },
   {
    "duration": 36,
    "start_time": "2022-05-08T06:00:05.944Z"
   },
   {
    "duration": 29,
    "start_time": "2022-05-08T06:00:23.352Z"
   },
   {
    "duration": 16,
    "start_time": "2022-05-08T06:01:03.143Z"
   },
   {
    "duration": 29,
    "start_time": "2022-05-08T06:10:50.440Z"
   },
   {
    "duration": 19,
    "start_time": "2022-05-08T06:13:22.502Z"
   },
   {
    "duration": 16,
    "start_time": "2022-05-08T06:13:28.062Z"
   },
   {
    "duration": 39,
    "start_time": "2022-05-08T06:16:54.028Z"
   },
   {
    "duration": 28,
    "start_time": "2022-05-08T06:17:09.652Z"
   },
   {
    "duration": 21,
    "start_time": "2022-05-08T06:17:49.171Z"
   },
   {
    "duration": 6,
    "start_time": "2022-05-08T06:18:05.043Z"
   },
   {
    "duration": 15,
    "start_time": "2022-05-08T06:18:14.682Z"
   },
   {
    "duration": 5,
    "start_time": "2022-05-08T06:22:02.103Z"
   },
   {
    "duration": 8,
    "start_time": "2022-05-08T06:26:08.965Z"
   },
   {
    "duration": 54,
    "start_time": "2022-05-08T06:28:18.780Z"
   },
   {
    "duration": 644,
    "start_time": "2022-05-08T06:30:13.195Z"
   },
   {
    "duration": 288,
    "start_time": "2022-05-08T06:33:25.745Z"
   },
   {
    "duration": 10,
    "start_time": "2022-05-08T06:35:06.703Z"
   },
   {
    "duration": 14,
    "start_time": "2022-05-08T06:35:46.231Z"
   },
   {
    "duration": 549,
    "start_time": "2022-05-08T06:43:32.042Z"
   },
   {
    "duration": 414,
    "start_time": "2022-05-08T06:44:41.875Z"
   },
   {
    "duration": 512,
    "start_time": "2022-05-08T06:45:33.137Z"
   },
   {
    "duration": 180,
    "start_time": "2022-05-08T06:46:11.146Z"
   },
   {
    "duration": 240,
    "start_time": "2022-05-08T06:46:23.000Z"
   },
   {
    "duration": 316,
    "start_time": "2022-05-08T06:46:45.928Z"
   },
   {
    "duration": 307,
    "start_time": "2022-05-08T07:05:43.920Z"
   },
   {
    "duration": 272,
    "start_time": "2022-05-08T07:05:58.039Z"
   },
   {
    "duration": 105,
    "start_time": "2022-05-08T07:06:31.606Z"
   },
   {
    "duration": 245,
    "start_time": "2022-05-08T07:06:57.014Z"
   },
   {
    "duration": 149,
    "start_time": "2022-05-08T07:08:36.964Z"
   },
   {
    "duration": 274,
    "start_time": "2022-05-08T07:08:44.661Z"
   },
   {
    "duration": 878,
    "start_time": "2022-05-08T07:13:49.825Z"
   },
   {
    "duration": 399,
    "start_time": "2022-05-08T07:14:08.529Z"
   },
   {
    "duration": 401,
    "start_time": "2022-05-08T07:14:23.409Z"
   },
   {
    "duration": 277,
    "start_time": "2022-05-08T07:15:48.807Z"
   },
   {
    "duration": 433,
    "start_time": "2022-05-08T07:17:34.751Z"
   },
   {
    "duration": 456,
    "start_time": "2022-05-08T07:18:03.663Z"
   },
   {
    "duration": 421,
    "start_time": "2022-05-08T07:18:16.902Z"
   },
   {
    "duration": 426,
    "start_time": "2022-05-08T07:18:26.270Z"
   },
   {
    "duration": 302,
    "start_time": "2022-05-08T07:18:32.485Z"
   },
   {
    "duration": 298,
    "start_time": "2022-05-08T07:18:49.657Z"
   },
   {
    "duration": 461,
    "start_time": "2022-05-08T07:19:17.269Z"
   },
   {
    "duration": 293,
    "start_time": "2022-05-08T07:19:39.501Z"
   },
   {
    "duration": 306,
    "start_time": "2022-05-08T07:20:55.116Z"
   },
   {
    "duration": 103,
    "start_time": "2022-05-08T07:21:22.788Z"
   },
   {
    "duration": 103,
    "start_time": "2022-05-08T07:21:28.715Z"
   },
   {
    "duration": 302,
    "start_time": "2022-05-08T07:21:35.972Z"
   },
   {
    "duration": 473,
    "start_time": "2022-05-08T07:21:48.483Z"
   },
   {
    "duration": 466,
    "start_time": "2022-05-08T07:21:59.460Z"
   },
   {
    "duration": 463,
    "start_time": "2022-05-08T07:22:09.579Z"
   },
   {
    "duration": 1163,
    "start_time": "2022-05-08T07:24:24.409Z"
   },
   {
    "duration": 1152,
    "start_time": "2022-05-08T07:24:33.106Z"
   },
   {
    "duration": 1823,
    "start_time": "2022-05-08T07:25:21.409Z"
   },
   {
    "duration": 1484,
    "start_time": "2022-05-08T07:25:28.090Z"
   },
   {
    "duration": 462,
    "start_time": "2022-05-08T07:25:39.337Z"
   },
   {
    "duration": 19,
    "start_time": "2022-05-08T07:33:57.283Z"
   },
   {
    "duration": 12,
    "start_time": "2022-05-08T07:36:45.073Z"
   },
   {
    "duration": 16,
    "start_time": "2022-05-08T07:36:59.839Z"
   },
   {
    "duration": 481,
    "start_time": "2022-05-08T07:42:07.116Z"
   },
   {
    "duration": 501,
    "start_time": "2022-05-08T07:56:28.955Z"
   },
   {
    "duration": 373,
    "start_time": "2022-05-08T08:01:28.121Z"
   },
   {
    "duration": 485,
    "start_time": "2022-05-08T08:01:33.632Z"
   },
   {
    "duration": 451,
    "start_time": "2022-05-08T08:02:54.263Z"
   },
   {
    "duration": 423,
    "start_time": "2022-05-08T08:03:04.032Z"
   },
   {
    "duration": 388,
    "start_time": "2022-05-08T08:06:13.373Z"
   },
   {
    "duration": 337,
    "start_time": "2022-05-08T08:07:11.237Z"
   },
   {
    "duration": 6,
    "start_time": "2022-05-08T11:07:37.710Z"
   },
   {
    "duration": 15,
    "start_time": "2022-05-08T11:07:37.720Z"
   },
   {
    "duration": 17,
    "start_time": "2022-05-08T11:07:37.738Z"
   },
   {
    "duration": 6,
    "start_time": "2022-05-08T11:07:37.757Z"
   },
   {
    "duration": 32,
    "start_time": "2022-05-08T11:07:37.784Z"
   },
   {
    "duration": 16,
    "start_time": "2022-05-08T11:07:37.819Z"
   },
   {
    "duration": 6,
    "start_time": "2022-05-08T11:07:37.837Z"
   },
   {
    "duration": 48,
    "start_time": "2022-05-08T11:07:37.845Z"
   },
   {
    "duration": 32,
    "start_time": "2022-05-08T11:07:37.896Z"
   },
   {
    "duration": 16,
    "start_time": "2022-05-08T11:07:37.930Z"
   },
   {
    "duration": 13,
    "start_time": "2022-05-08T11:07:37.948Z"
   },
   {
    "duration": 11,
    "start_time": "2022-05-08T11:07:37.964Z"
   },
   {
    "duration": 65,
    "start_time": "2022-05-08T11:07:37.977Z"
   },
   {
    "duration": 15,
    "start_time": "2022-05-08T11:07:38.046Z"
   },
   {
    "duration": 29,
    "start_time": "2022-05-08T11:07:38.063Z"
   },
   {
    "duration": 45,
    "start_time": "2022-05-08T11:07:38.095Z"
   },
   {
    "duration": 7,
    "start_time": "2022-05-08T11:07:38.142Z"
   },
   {
    "duration": 16,
    "start_time": "2022-05-08T11:07:38.152Z"
   },
   {
    "duration": 14,
    "start_time": "2022-05-08T11:07:38.170Z"
   },
   {
    "duration": 598,
    "start_time": "2022-05-08T11:07:38.186Z"
   },
   {
    "duration": 15,
    "start_time": "2022-05-08T11:07:38.787Z"
   },
   {
    "duration": 243,
    "start_time": "2022-05-08T11:07:38.805Z"
   },
   {
    "duration": 11,
    "start_time": "2022-05-08T11:07:39.051Z"
   },
   {
    "duration": 24,
    "start_time": "2022-05-08T11:07:39.083Z"
   },
   {
    "duration": 29,
    "start_time": "2022-05-08T11:07:39.110Z"
   },
   {
    "duration": 451,
    "start_time": "2022-05-08T11:07:39.142Z"
   },
   {
    "duration": 463,
    "start_time": "2022-05-08T11:07:39.596Z"
   },
   {
    "duration": 482,
    "start_time": "2022-05-08T11:07:40.063Z"
   },
   {
    "duration": 415,
    "start_time": "2022-05-08T11:07:40.547Z"
   },
   {
    "duration": 101,
    "start_time": "2022-05-08T11:21:49.481Z"
   },
   {
    "duration": 397,
    "start_time": "2022-05-08T11:23:00.088Z"
   },
   {
    "duration": 604,
    "start_time": "2022-05-08T11:23:56.793Z"
   },
   {
    "duration": 455,
    "start_time": "2022-05-08T11:29:02.766Z"
   },
   {
    "duration": 18,
    "start_time": "2022-05-08T11:38:29.614Z"
   },
   {
    "duration": 24,
    "start_time": "2022-05-08T11:38:37.774Z"
   },
   {
    "duration": 25,
    "start_time": "2022-05-08T11:39:11.055Z"
   },
   {
    "duration": 17,
    "start_time": "2022-05-08T11:39:22.103Z"
   },
   {
    "duration": 16,
    "start_time": "2022-05-08T11:40:13.070Z"
   },
   {
    "duration": 23,
    "start_time": "2022-05-08T11:40:16.798Z"
   },
   {
    "duration": 20,
    "start_time": "2022-05-08T11:41:38.181Z"
   },
   {
    "duration": 13,
    "start_time": "2022-05-08T11:42:40.565Z"
   },
   {
    "duration": 17,
    "start_time": "2022-05-08T11:42:52.300Z"
   },
   {
    "duration": 16,
    "start_time": "2022-05-08T11:43:04.980Z"
   },
   {
    "duration": 1613,
    "start_time": "2022-05-08T11:46:25.362Z"
   },
   {
    "duration": 369,
    "start_time": "2022-05-08T11:47:24.297Z"
   },
   {
    "duration": 207,
    "start_time": "2022-05-08T11:49:40.705Z"
   },
   {
    "duration": 8,
    "start_time": "2022-05-08T11:54:33.627Z"
   },
   {
    "duration": 208,
    "start_time": "2022-05-08T12:03:28.773Z"
   },
   {
    "duration": 236,
    "start_time": "2022-05-08T12:04:08.198Z"
   },
   {
    "duration": 7,
    "start_time": "2022-05-08T12:08:39.129Z"
   },
   {
    "duration": 6,
    "start_time": "2022-05-08T12:24:48.150Z"
   },
   {
    "duration": 12,
    "start_time": "2022-05-08T12:24:53.918Z"
   },
   {
    "duration": 103,
    "start_time": "2022-05-08T12:26:09.413Z"
   },
   {
    "duration": 12,
    "start_time": "2022-05-08T12:26:14.956Z"
   },
   {
    "duration": 11,
    "start_time": "2022-05-08T12:26:28.852Z"
   },
   {
    "duration": 25,
    "start_time": "2022-05-08T12:27:57.826Z"
   },
   {
    "duration": 10,
    "start_time": "2022-05-08T12:28:07.635Z"
   },
   {
    "duration": 13,
    "start_time": "2022-05-08T12:29:32.770Z"
   },
   {
    "duration": 116,
    "start_time": "2022-05-08T12:30:27.466Z"
   },
   {
    "duration": 21,
    "start_time": "2022-05-08T12:35:05.263Z"
   },
   {
    "duration": 33,
    "start_time": "2022-05-08T12:36:10.031Z"
   },
   {
    "duration": 108,
    "start_time": "2022-05-08T12:36:52.774Z"
   },
   {
    "duration": 84,
    "start_time": "2022-05-08T12:37:33.790Z"
   },
   {
    "duration": 6,
    "start_time": "2022-05-08T12:38:11.590Z"
   },
   {
    "duration": 22,
    "start_time": "2022-05-08T12:43:51.968Z"
   },
   {
    "duration": 31,
    "start_time": "2022-05-08T12:44:24.392Z"
   },
   {
    "duration": 87,
    "start_time": "2022-05-08T12:45:33.343Z"
   },
   {
    "duration": 4,
    "start_time": "2022-05-08T12:46:07.550Z"
   },
   {
    "duration": 52,
    "start_time": "2022-05-08T12:50:35.412Z"
   },
   {
    "duration": 26,
    "start_time": "2022-05-08T12:50:42.147Z"
   },
   {
    "duration": 58,
    "start_time": "2022-05-08T12:52:05.251Z"
   },
   {
    "duration": 52,
    "start_time": "2022-05-08T12:52:13.101Z"
   },
   {
    "duration": 77,
    "start_time": "2022-05-08T12:55:05.340Z"
   },
   {
    "duration": 143,
    "start_time": "2022-05-08T12:56:40.015Z"
   },
   {
    "duration": 175,
    "start_time": "2022-05-08T12:57:02.176Z"
   },
   {
    "duration": 157,
    "start_time": "2022-05-08T12:57:43.831Z"
   },
   {
    "duration": 128,
    "start_time": "2022-05-08T12:59:08.896Z"
   },
   {
    "duration": 199,
    "start_time": "2022-05-08T12:59:30.166Z"
   },
   {
    "duration": 1817,
    "start_time": "2022-05-08T13:02:43.987Z"
   },
   {
    "duration": 7,
    "start_time": "2022-05-08T13:03:09.933Z"
   },
   {
    "duration": 14,
    "start_time": "2022-05-08T13:03:29.932Z"
   },
   {
    "duration": 10,
    "start_time": "2022-05-08T13:03:33.627Z"
   },
   {
    "duration": 7,
    "start_time": "2022-05-08T13:03:42.179Z"
   },
   {
    "duration": 7,
    "start_time": "2022-05-08T13:04:28.138Z"
   },
   {
    "duration": 12,
    "start_time": "2022-05-08T13:06:34.849Z"
   },
   {
    "duration": 31,
    "start_time": "2022-05-08T13:07:22.642Z"
   },
   {
    "duration": 16,
    "start_time": "2022-05-08T13:08:05.226Z"
   },
   {
    "duration": 2075,
    "start_time": "2022-05-08T13:11:44.999Z"
   },
   {
    "duration": 2527,
    "start_time": "2022-05-08T13:12:04.534Z"
   },
   {
    "duration": 288,
    "start_time": "2022-05-08T13:12:52.454Z"
   },
   {
    "duration": 30,
    "start_time": "2022-05-08T13:15:39.861Z"
   },
   {
    "duration": 6,
    "start_time": "2022-05-08T13:19:29.689Z"
   },
   {
    "duration": 14,
    "start_time": "2022-05-08T13:26:39.468Z"
   },
   {
    "duration": 19,
    "start_time": "2022-05-08T13:26:45.292Z"
   },
   {
    "duration": 9,
    "start_time": "2022-05-08T13:37:27.820Z"
   },
   {
    "duration": 10,
    "start_time": "2022-05-08T13:37:33.436Z"
   },
   {
    "duration": 7,
    "start_time": "2022-05-08T13:38:03.133Z"
   },
   {
    "duration": 1908,
    "start_time": "2022-05-08T13:39:06.860Z"
   },
   {
    "duration": 6,
    "start_time": "2022-05-08T13:39:24.701Z"
   },
   {
    "duration": 10,
    "start_time": "2022-05-08T13:39:38.027Z"
   },
   {
    "duration": 5,
    "start_time": "2022-05-08T13:40:45.540Z"
   },
   {
    "duration": 1788,
    "start_time": "2022-05-08T13:42:28.105Z"
   },
   {
    "duration": 8,
    "start_time": "2022-05-08T13:42:46.530Z"
   },
   {
    "duration": 8,
    "start_time": "2022-05-08T13:43:59.136Z"
   },
   {
    "duration": 34,
    "start_time": "2022-05-08T13:45:17.823Z"
   },
   {
    "duration": 19,
    "start_time": "2022-05-08T13:55:25.703Z"
   },
   {
    "duration": 23,
    "start_time": "2022-05-08T13:55:50.453Z"
   },
   {
    "duration": 1619,
    "start_time": "2022-05-08T14:14:07.603Z"
   },
   {
    "duration": 97,
    "start_time": "2022-05-08T14:14:09.225Z"
   },
   {
    "duration": 19,
    "start_time": "2022-05-08T14:14:09.325Z"
   },
   {
    "duration": 5,
    "start_time": "2022-05-08T14:14:09.349Z"
   },
   {
    "duration": 50,
    "start_time": "2022-05-08T14:14:09.357Z"
   },
   {
    "duration": 20,
    "start_time": "2022-05-08T14:14:09.410Z"
   },
   {
    "duration": 9,
    "start_time": "2022-05-08T14:14:09.433Z"
   },
   {
    "duration": 54,
    "start_time": "2022-05-08T14:14:09.445Z"
   },
   {
    "duration": 19,
    "start_time": "2022-05-08T14:14:09.501Z"
   },
   {
    "duration": 18,
    "start_time": "2022-05-08T14:14:09.524Z"
   },
   {
    "duration": 23,
    "start_time": "2022-05-08T14:14:09.545Z"
   },
   {
    "duration": 12,
    "start_time": "2022-05-08T14:14:09.582Z"
   },
   {
    "duration": 45,
    "start_time": "2022-05-08T14:14:09.597Z"
   },
   {
    "duration": 15,
    "start_time": "2022-05-08T14:14:09.645Z"
   },
   {
    "duration": 46,
    "start_time": "2022-05-08T14:14:09.663Z"
   },
   {
    "duration": 22,
    "start_time": "2022-05-08T14:14:09.712Z"
   },
   {
    "duration": 6,
    "start_time": "2022-05-08T14:14:09.736Z"
   },
   {
    "duration": 20,
    "start_time": "2022-05-08T14:14:09.745Z"
   },
   {
    "duration": 10,
    "start_time": "2022-05-08T14:14:09.791Z"
   },
   {
    "duration": 575,
    "start_time": "2022-05-08T14:14:09.804Z"
   },
   {
    "duration": 14,
    "start_time": "2022-05-08T14:14:10.382Z"
   },
   {
    "duration": 227,
    "start_time": "2022-05-08T14:14:10.398Z"
   },
   {
    "duration": 11,
    "start_time": "2022-05-08T14:14:10.627Z"
   },
   {
    "duration": 13,
    "start_time": "2022-05-08T14:14:10.641Z"
   },
   {
    "duration": 18,
    "start_time": "2022-05-08T14:14:10.687Z"
   },
   {
    "duration": 469,
    "start_time": "2022-05-08T14:14:10.708Z"
   },
   {
    "duration": 322,
    "start_time": "2022-05-08T14:14:11.182Z"
   },
   {
    "duration": 446,
    "start_time": "2022-05-08T14:14:11.515Z"
   },
   {
    "duration": 513,
    "start_time": "2022-05-08T14:14:11.963Z"
   },
   {
    "duration": 460,
    "start_time": "2022-05-08T14:14:12.479Z"
   },
   {
    "duration": 16,
    "start_time": "2022-05-08T14:14:12.941Z"
   },
   {
    "duration": 246,
    "start_time": "2022-05-08T14:14:12.959Z"
   },
   {
    "duration": 7,
    "start_time": "2022-05-08T14:14:13.211Z"
   },
   {
    "duration": 252,
    "start_time": "2022-05-08T14:14:13.220Z"
   },
   {
    "duration": 8,
    "start_time": "2022-05-08T14:14:13.485Z"
   },
   {
    "duration": 19,
    "start_time": "2022-05-08T14:14:13.498Z"
   },
   {
    "duration": 14,
    "start_time": "2022-05-08T14:14:13.519Z"
   },
   {
    "duration": 97,
    "start_time": "2022-05-08T14:14:13.535Z"
   },
   {
    "duration": 11,
    "start_time": "2022-05-08T14:14:13.634Z"
   },
   {
    "duration": 42,
    "start_time": "2022-05-08T14:14:13.648Z"
   },
   {
    "duration": 104,
    "start_time": "2022-05-08T14:14:13.693Z"
   },
   {
    "duration": 47,
    "start_time": "2022-05-08T14:14:13.800Z"
   },
   {
    "duration": 103,
    "start_time": "2022-05-08T14:14:13.849Z"
   },
   {
    "duration": 4,
    "start_time": "2022-05-08T14:14:13.954Z"
   },
   {
    "duration": 46,
    "start_time": "2022-05-08T14:14:13.960Z"
   },
   {
    "duration": 102,
    "start_time": "2022-05-08T14:14:14.008Z"
   },
   {
    "duration": 10,
    "start_time": "2022-05-08T14:14:14.113Z"
   },
   {
    "duration": 75,
    "start_time": "2022-05-08T14:14:14.125Z"
   },
   {
    "duration": 144,
    "start_time": "2022-05-08T14:14:14.203Z"
   },
   {
    "duration": 155,
    "start_time": "2022-05-08T14:14:14.350Z"
   },
   {
    "duration": 7,
    "start_time": "2022-05-08T14:14:14.507Z"
   },
   {
    "duration": 10,
    "start_time": "2022-05-08T14:14:14.516Z"
   },
   {
    "duration": 34,
    "start_time": "2022-05-08T14:14:14.529Z"
   },
   {
    "duration": 8,
    "start_time": "2022-05-08T14:14:14.585Z"
   },
   {
    "duration": 22,
    "start_time": "2022-05-08T14:14:14.595Z"
   },
   {
    "duration": 7,
    "start_time": "2022-05-08T14:14:14.619Z"
   },
   {
    "duration": 6,
    "start_time": "2022-05-08T14:14:14.629Z"
   },
   {
    "duration": 46,
    "start_time": "2022-05-08T14:14:14.638Z"
   },
   {
    "duration": 12,
    "start_time": "2022-05-08T14:14:14.687Z"
   },
   {
    "duration": 19,
    "start_time": "2022-05-08T14:14:14.701Z"
   },
   {
    "duration": 33,
    "start_time": "2022-05-08T14:14:14.723Z"
   },
   {
    "duration": 52,
    "start_time": "2022-05-08T14:14:14.758Z"
   },
   {
    "duration": 1453,
    "start_time": "2022-05-09T11:22:11.724Z"
   },
   {
    "duration": 91,
    "start_time": "2022-05-09T11:22:13.181Z"
   },
   {
    "duration": 22,
    "start_time": "2022-05-09T11:22:13.275Z"
   },
   {
    "duration": 5,
    "start_time": "2022-05-09T11:22:13.301Z"
   },
   {
    "duration": 19,
    "start_time": "2022-05-09T11:22:13.309Z"
   },
   {
    "duration": 17,
    "start_time": "2022-05-09T11:22:13.359Z"
   },
   {
    "duration": 7,
    "start_time": "2022-05-09T11:22:13.379Z"
   },
   {
    "duration": 13,
    "start_time": "2022-05-09T11:22:13.388Z"
   },
   {
    "duration": 11,
    "start_time": "2022-05-09T11:22:13.403Z"
   },
   {
    "duration": 50,
    "start_time": "2022-05-09T11:22:13.418Z"
   },
   {
    "duration": 16,
    "start_time": "2022-05-09T11:22:13.471Z"
   },
   {
    "duration": 8,
    "start_time": "2022-05-09T11:22:13.489Z"
   },
   {
    "duration": 36,
    "start_time": "2022-05-09T11:22:13.499Z"
   },
   {
    "duration": 33,
    "start_time": "2022-05-09T11:22:13.537Z"
   },
   {
    "duration": 29,
    "start_time": "2022-05-09T11:22:13.572Z"
   },
   {
    "duration": 22,
    "start_time": "2022-05-09T11:22:13.604Z"
   },
   {
    "duration": 7,
    "start_time": "2022-05-09T11:22:13.628Z"
   },
   {
    "duration": 17,
    "start_time": "2022-05-09T11:22:13.659Z"
   },
   {
    "duration": 8,
    "start_time": "2022-05-09T11:22:13.678Z"
   },
   {
    "duration": 571,
    "start_time": "2022-05-09T11:22:13.688Z"
   },
   {
    "duration": 16,
    "start_time": "2022-05-09T11:22:14.262Z"
   },
   {
    "duration": 267,
    "start_time": "2022-05-09T11:22:14.281Z"
   },
   {
    "duration": 13,
    "start_time": "2022-05-09T11:22:14.552Z"
   },
   {
    "duration": 18,
    "start_time": "2022-05-09T11:22:14.568Z"
   },
   {
    "duration": 20,
    "start_time": "2022-05-09T11:22:14.589Z"
   },
   {
    "duration": 511,
    "start_time": "2022-05-09T11:22:14.612Z"
   },
   {
    "duration": 355,
    "start_time": "2022-05-09T11:22:15.125Z"
   },
   {
    "duration": 426,
    "start_time": "2022-05-09T11:22:15.487Z"
   },
   {
    "duration": 364,
    "start_time": "2022-05-09T11:22:15.915Z"
   },
   {
    "duration": 458,
    "start_time": "2022-05-09T11:22:16.282Z"
   },
   {
    "duration": 26,
    "start_time": "2022-05-09T11:22:16.742Z"
   },
   {
    "duration": 265,
    "start_time": "2022-05-09T11:22:16.771Z"
   },
   {
    "duration": 20,
    "start_time": "2022-05-09T11:22:17.039Z"
   },
   {
    "duration": 274,
    "start_time": "2022-05-09T11:22:17.064Z"
   },
   {
    "duration": 8,
    "start_time": "2022-05-09T11:22:17.341Z"
   },
   {
    "duration": 29,
    "start_time": "2022-05-09T11:22:17.354Z"
   },
   {
    "duration": 14,
    "start_time": "2022-05-09T11:22:17.385Z"
   },
   {
    "duration": 81,
    "start_time": "2022-05-09T11:22:17.402Z"
   },
   {
    "duration": 10,
    "start_time": "2022-05-09T11:22:17.485Z"
   },
   {
    "duration": 17,
    "start_time": "2022-05-09T11:22:17.497Z"
   },
   {
    "duration": 124,
    "start_time": "2022-05-09T11:22:17.517Z"
   },
   {
    "duration": 46,
    "start_time": "2022-05-09T11:22:17.643Z"
   },
   {
    "duration": 132,
    "start_time": "2022-05-09T11:22:17.691Z"
   },
   {
    "duration": 4,
    "start_time": "2022-05-09T11:22:17.826Z"
   },
   {
    "duration": 39,
    "start_time": "2022-05-09T11:22:17.859Z"
   },
   {
    "duration": 116,
    "start_time": "2022-05-09T11:22:17.900Z"
   },
   {
    "duration": 5,
    "start_time": "2022-05-09T11:22:18.019Z"
   },
   {
    "duration": 78,
    "start_time": "2022-05-09T11:22:18.026Z"
   },
   {
    "duration": 185,
    "start_time": "2022-05-09T11:22:18.107Z"
   },
   {
    "duration": 226,
    "start_time": "2022-05-09T11:22:18.295Z"
   },
   {
    "duration": 6,
    "start_time": "2022-05-09T11:22:18.522Z"
   },
   {
    "duration": 36,
    "start_time": "2022-05-09T11:22:18.530Z"
   },
   {
    "duration": 54,
    "start_time": "2022-05-09T11:22:18.569Z"
   },
   {
    "duration": 8,
    "start_time": "2022-05-09T11:22:18.625Z"
   },
   {
    "duration": 30,
    "start_time": "2022-05-09T11:22:18.635Z"
   },
   {
    "duration": 9,
    "start_time": "2022-05-09T11:22:18.668Z"
   },
   {
    "duration": 20,
    "start_time": "2022-05-09T11:22:18.680Z"
   },
   {
    "duration": 14,
    "start_time": "2022-05-09T11:22:18.705Z"
   },
   {
    "duration": 30,
    "start_time": "2022-05-09T11:22:18.721Z"
   },
   {
    "duration": 15,
    "start_time": "2022-05-09T11:22:18.754Z"
   },
   {
    "duration": 61,
    "start_time": "2022-05-09T11:22:18.772Z"
   },
   {
    "duration": 45,
    "start_time": "2022-05-09T11:22:18.835Z"
   },
   {
    "duration": 3539,
    "start_time": "2022-05-09T11:28:36.693Z"
   },
   {
    "duration": 1468,
    "start_time": "2022-05-09T11:28:54.486Z"
   },
   {
    "duration": 75,
    "start_time": "2022-05-09T11:28:55.957Z"
   },
   {
    "duration": 17,
    "start_time": "2022-05-09T11:28:56.034Z"
   },
   {
    "duration": 17,
    "start_time": "2022-05-09T11:28:56.054Z"
   },
   {
    "duration": 19,
    "start_time": "2022-05-09T11:28:56.074Z"
   },
   {
    "duration": 13,
    "start_time": "2022-05-09T11:28:56.096Z"
   },
   {
    "duration": 7,
    "start_time": "2022-05-09T11:28:56.111Z"
   },
   {
    "duration": 54,
    "start_time": "2022-05-09T11:28:56.120Z"
   },
   {
    "duration": 7,
    "start_time": "2022-05-09T11:28:56.176Z"
   },
   {
    "duration": 19,
    "start_time": "2022-05-09T11:28:56.188Z"
   },
   {
    "duration": 19,
    "start_time": "2022-05-09T11:28:56.209Z"
   },
   {
    "duration": 10,
    "start_time": "2022-05-09T11:28:56.260Z"
   },
   {
    "duration": 43,
    "start_time": "2022-05-09T11:28:56.272Z"
   },
   {
    "duration": 15,
    "start_time": "2022-05-09T11:28:56.317Z"
   },
   {
    "duration": 38,
    "start_time": "2022-05-09T11:28:56.335Z"
   },
   {
    "duration": 25,
    "start_time": "2022-05-09T11:28:56.376Z"
   },
   {
    "duration": 7,
    "start_time": "2022-05-09T11:28:56.404Z"
   },
   {
    "duration": 28,
    "start_time": "2022-05-09T11:28:56.414Z"
   },
   {
    "duration": 12,
    "start_time": "2022-05-09T11:28:56.467Z"
   },
   {
    "duration": 553,
    "start_time": "2022-05-09T11:28:56.482Z"
   },
   {
    "duration": 18,
    "start_time": "2022-05-09T11:28:57.037Z"
   },
   {
    "duration": 288,
    "start_time": "2022-05-09T11:28:57.058Z"
   },
   {
    "duration": 12,
    "start_time": "2022-05-09T11:28:57.355Z"
   },
   {
    "duration": 16,
    "start_time": "2022-05-09T11:28:57.369Z"
   },
   {
    "duration": 21,
    "start_time": "2022-05-09T11:28:57.388Z"
   },
   {
    "duration": 500,
    "start_time": "2022-05-09T11:28:57.412Z"
   },
   {
    "duration": 338,
    "start_time": "2022-05-09T11:28:57.914Z"
   },
   {
    "duration": 420,
    "start_time": "2022-05-09T11:28:58.260Z"
   },
   {
    "duration": 382,
    "start_time": "2022-05-09T11:28:58.683Z"
   },
   {
    "duration": 606,
    "start_time": "2022-05-09T11:28:59.071Z"
   },
   {
    "duration": 23,
    "start_time": "2022-05-09T11:28:59.679Z"
   },
   {
    "duration": 2218,
    "start_time": "2022-05-09T11:28:59.705Z"
   },
   {
    "duration": 0,
    "start_time": "2022-05-09T11:29:01.926Z"
   },
   {
    "duration": 0,
    "start_time": "2022-05-09T11:29:01.928Z"
   },
   {
    "duration": 0,
    "start_time": "2022-05-09T11:29:01.930Z"
   },
   {
    "duration": 0,
    "start_time": "2022-05-09T11:29:01.931Z"
   },
   {
    "duration": 1,
    "start_time": "2022-05-09T11:29:01.933Z"
   },
   {
    "duration": 0,
    "start_time": "2022-05-09T11:29:01.936Z"
   },
   {
    "duration": 0,
    "start_time": "2022-05-09T11:29:01.938Z"
   },
   {
    "duration": 0,
    "start_time": "2022-05-09T11:29:01.941Z"
   },
   {
    "duration": 0,
    "start_time": "2022-05-09T11:29:01.943Z"
   },
   {
    "duration": 0,
    "start_time": "2022-05-09T11:29:01.944Z"
   },
   {
    "duration": 0,
    "start_time": "2022-05-09T11:29:01.945Z"
   },
   {
    "duration": 0,
    "start_time": "2022-05-09T11:29:01.946Z"
   },
   {
    "duration": 0,
    "start_time": "2022-05-09T11:29:01.948Z"
   },
   {
    "duration": 0,
    "start_time": "2022-05-09T11:29:01.949Z"
   },
   {
    "duration": 0,
    "start_time": "2022-05-09T11:29:01.951Z"
   },
   {
    "duration": 0,
    "start_time": "2022-05-09T11:29:01.957Z"
   },
   {
    "duration": 0,
    "start_time": "2022-05-09T11:29:01.959Z"
   },
   {
    "duration": 0,
    "start_time": "2022-05-09T11:29:01.962Z"
   },
   {
    "duration": 1,
    "start_time": "2022-05-09T11:29:01.965Z"
   },
   {
    "duration": 0,
    "start_time": "2022-05-09T11:29:01.967Z"
   },
   {
    "duration": 0,
    "start_time": "2022-05-09T11:29:01.970Z"
   },
   {
    "duration": 0,
    "start_time": "2022-05-09T11:29:01.972Z"
   },
   {
    "duration": 0,
    "start_time": "2022-05-09T11:29:01.974Z"
   },
   {
    "duration": 0,
    "start_time": "2022-05-09T11:29:01.977Z"
   },
   {
    "duration": 0,
    "start_time": "2022-05-09T11:29:01.979Z"
   },
   {
    "duration": 0,
    "start_time": "2022-05-09T11:29:01.980Z"
   },
   {
    "duration": 0,
    "start_time": "2022-05-09T11:29:01.982Z"
   },
   {
    "duration": 0,
    "start_time": "2022-05-09T11:29:01.985Z"
   },
   {
    "duration": 0,
    "start_time": "2022-05-09T11:29:01.986Z"
   },
   {
    "duration": 0,
    "start_time": "2022-05-09T11:29:01.988Z"
   },
   {
    "duration": 11,
    "start_time": "2022-05-09T11:29:11.084Z"
   },
   {
    "duration": 235,
    "start_time": "2022-05-09T11:30:12.692Z"
   },
   {
    "duration": 6,
    "start_time": "2022-05-09T11:30:12.930Z"
   },
   {
    "duration": 267,
    "start_time": "2022-05-09T11:30:12.939Z"
   },
   {
    "duration": 7,
    "start_time": "2022-05-09T11:30:13.209Z"
   },
   {
    "duration": 10,
    "start_time": "2022-05-09T11:30:13.218Z"
   },
   {
    "duration": 43,
    "start_time": "2022-05-09T11:30:13.231Z"
   },
   {
    "duration": 77,
    "start_time": "2022-05-09T11:30:13.276Z"
   },
   {
    "duration": 31,
    "start_time": "2022-05-09T11:30:13.356Z"
   },
   {
    "duration": 15,
    "start_time": "2022-05-09T11:30:13.389Z"
   },
   {
    "duration": 91,
    "start_time": "2022-05-09T11:30:13.408Z"
   },
   {
    "duration": 30,
    "start_time": "2022-05-09T11:30:13.501Z"
   },
   {
    "duration": 84,
    "start_time": "2022-05-09T11:30:13.555Z"
   },
   {
    "duration": 5,
    "start_time": "2022-05-09T11:30:13.656Z"
   },
   {
    "duration": 40,
    "start_time": "2022-05-09T11:30:13.663Z"
   },
   {
    "duration": 104,
    "start_time": "2022-05-09T11:30:13.705Z"
   },
   {
    "duration": 4,
    "start_time": "2022-05-09T11:30:13.811Z"
   },
   {
    "duration": 65,
    "start_time": "2022-05-09T11:30:13.817Z"
   },
   {
    "duration": 155,
    "start_time": "2022-05-09T11:30:13.885Z"
   },
   {
    "duration": 216,
    "start_time": "2022-05-09T11:30:14.056Z"
   },
   {
    "duration": 7,
    "start_time": "2022-05-09T11:30:14.274Z"
   },
   {
    "duration": 12,
    "start_time": "2022-05-09T11:30:14.283Z"
   },
   {
    "duration": 32,
    "start_time": "2022-05-09T11:30:14.297Z"
   },
   {
    "duration": 12,
    "start_time": "2022-05-09T11:30:14.353Z"
   },
   {
    "duration": 27,
    "start_time": "2022-05-09T11:30:14.368Z"
   },
   {
    "duration": 8,
    "start_time": "2022-05-09T11:30:14.398Z"
   },
   {
    "duration": 8,
    "start_time": "2022-05-09T11:30:14.409Z"
   },
   {
    "duration": 40,
    "start_time": "2022-05-09T11:30:14.420Z"
   },
   {
    "duration": 19,
    "start_time": "2022-05-09T11:30:14.465Z"
   },
   {
    "duration": 13,
    "start_time": "2022-05-09T11:30:14.486Z"
   },
   {
    "duration": 49,
    "start_time": "2022-05-09T11:30:14.502Z"
   },
   {
    "duration": 33,
    "start_time": "2022-05-09T11:30:14.557Z"
   },
   {
    "duration": 7,
    "start_time": "2022-05-09T11:33:47.381Z"
   },
   {
    "duration": 1189,
    "start_time": "2022-05-09T20:52:21.042Z"
   },
   {
    "duration": 75,
    "start_time": "2022-05-09T20:52:22.234Z"
   },
   {
    "duration": 13,
    "start_time": "2022-05-09T20:52:22.311Z"
   },
   {
    "duration": 3,
    "start_time": "2022-05-09T20:52:22.326Z"
   },
   {
    "duration": 13,
    "start_time": "2022-05-09T20:52:22.331Z"
   },
   {
    "duration": 10,
    "start_time": "2022-05-09T20:52:22.346Z"
   },
   {
    "duration": 6,
    "start_time": "2022-05-09T20:52:22.358Z"
   },
   {
    "duration": 13,
    "start_time": "2022-05-09T20:52:22.365Z"
   },
   {
    "duration": 4,
    "start_time": "2022-05-09T20:52:22.408Z"
   },
   {
    "duration": 12,
    "start_time": "2022-05-09T20:52:22.415Z"
   },
   {
    "duration": 11,
    "start_time": "2022-05-09T20:52:22.429Z"
   },
   {
    "duration": 5,
    "start_time": "2022-05-09T20:52:22.441Z"
   },
   {
    "duration": 26,
    "start_time": "2022-05-09T20:52:22.448Z"
   },
   {
    "duration": 10,
    "start_time": "2022-05-09T20:52:22.476Z"
   },
   {
    "duration": 12,
    "start_time": "2022-05-09T20:52:22.508Z"
   },
   {
    "duration": 18,
    "start_time": "2022-05-09T20:52:22.522Z"
   },
   {
    "duration": 4,
    "start_time": "2022-05-09T20:52:22.542Z"
   },
   {
    "duration": 13,
    "start_time": "2022-05-09T20:52:22.548Z"
   },
   {
    "duration": 5,
    "start_time": "2022-05-09T20:58:07.389Z"
   },
   {
    "duration": 6,
    "start_time": "2022-05-09T20:58:32.941Z"
   },
   {
    "duration": 4,
    "start_time": "2022-05-09T21:06:24.070Z"
   },
   {
    "duration": 4,
    "start_time": "2022-05-09T21:07:48.088Z"
   },
   {
    "duration": 5,
    "start_time": "2022-05-09T21:08:05.486Z"
   },
   {
    "duration": 4,
    "start_time": "2022-05-09T21:08:14.504Z"
   },
   {
    "duration": 4,
    "start_time": "2022-05-09T21:08:16.535Z"
   },
   {
    "duration": 1377,
    "start_time": "2022-05-09T21:10:21.288Z"
   },
   {
    "duration": 9,
    "start_time": "2022-05-09T21:11:57.749Z"
   },
   {
    "duration": 5,
    "start_time": "2022-05-09T21:12:21.525Z"
   },
   {
    "duration": 1128,
    "start_time": "2022-05-09T21:13:11.529Z"
   },
   {
    "duration": 6,
    "start_time": "2022-05-09T21:13:40.884Z"
   },
   {
    "duration": 4,
    "start_time": "2022-05-09T21:14:46.611Z"
   },
   {
    "duration": 3,
    "start_time": "2022-05-09T21:14:50.068Z"
   },
   {
    "duration": 11,
    "start_time": "2022-05-09T21:15:19.851Z"
   },
   {
    "duration": 1263,
    "start_time": "2022-05-09T21:15:48.859Z"
   },
   {
    "duration": 1066,
    "start_time": "2022-05-09T21:16:00.995Z"
   },
   {
    "duration": 10,
    "start_time": "2022-05-09T21:17:31.026Z"
   },
   {
    "duration": 4,
    "start_time": "2022-05-09T21:22:09.999Z"
   },
   {
    "duration": 4,
    "start_time": "2022-05-09T21:23:24.182Z"
   },
   {
    "duration": 5,
    "start_time": "2022-05-09T21:23:34.101Z"
   },
   {
    "duration": 4,
    "start_time": "2022-05-09T21:23:38.949Z"
   },
   {
    "duration": 5,
    "start_time": "2022-05-09T21:27:34.834Z"
   },
   {
    "duration": 6,
    "start_time": "2022-05-09T21:27:41.578Z"
   },
   {
    "duration": 9,
    "start_time": "2022-05-09T21:28:40.914Z"
   },
   {
    "duration": 8,
    "start_time": "2022-05-09T21:31:17.664Z"
   },
   {
    "duration": 16,
    "start_time": "2022-05-09T21:31:25.136Z"
   },
   {
    "duration": 6,
    "start_time": "2022-05-09T21:33:24.791Z"
   },
   {
    "duration": 6,
    "start_time": "2022-05-09T21:33:31.110Z"
   },
   {
    "duration": 927,
    "start_time": "2022-05-09T21:34:52.492Z"
   },
   {
    "duration": 5,
    "start_time": "2022-05-09T21:35:39.245Z"
   },
   {
    "duration": 8,
    "start_time": "2022-05-09T21:36:51.964Z"
   },
   {
    "duration": 7,
    "start_time": "2022-05-09T21:37:06.676Z"
   },
   {
    "duration": 13,
    "start_time": "2022-05-09T21:39:30.777Z"
   },
   {
    "duration": 6,
    "start_time": "2022-05-09T21:39:58.986Z"
   },
   {
    "duration": 1070,
    "start_time": "2022-05-09T21:46:49.274Z"
   },
   {
    "duration": 61,
    "start_time": "2022-05-09T21:46:50.346Z"
   },
   {
    "duration": 12,
    "start_time": "2022-05-09T21:46:50.409Z"
   },
   {
    "duration": 3,
    "start_time": "2022-05-09T21:46:50.423Z"
   },
   {
    "duration": 12,
    "start_time": "2022-05-09T21:46:50.428Z"
   },
   {
    "duration": 9,
    "start_time": "2022-05-09T21:46:50.442Z"
   },
   {
    "duration": 6,
    "start_time": "2022-05-09T21:46:50.453Z"
   },
   {
    "duration": 9,
    "start_time": "2022-05-09T21:46:50.461Z"
   },
   {
    "duration": 37,
    "start_time": "2022-05-09T21:46:50.471Z"
   },
   {
    "duration": 10,
    "start_time": "2022-05-09T21:46:50.511Z"
   },
   {
    "duration": 10,
    "start_time": "2022-05-09T21:46:50.523Z"
   },
   {
    "duration": 6,
    "start_time": "2022-05-09T21:46:50.534Z"
   },
   {
    "duration": 26,
    "start_time": "2022-05-09T21:46:50.541Z"
   },
   {
    "duration": 10,
    "start_time": "2022-05-09T21:46:50.569Z"
   },
   {
    "duration": 35,
    "start_time": "2022-05-09T21:46:50.581Z"
   },
   {
    "duration": 17,
    "start_time": "2022-05-09T21:46:50.618Z"
   },
   {
    "duration": 5,
    "start_time": "2022-05-09T21:46:50.637Z"
   },
   {
    "duration": 11,
    "start_time": "2022-05-09T21:46:50.644Z"
   },
   {
    "duration": 5,
    "start_time": "2022-05-09T21:46:50.657Z"
   },
   {
    "duration": 8,
    "start_time": "2022-05-09T21:46:50.664Z"
   },
   {
    "duration": 34,
    "start_time": "2022-05-09T21:46:50.674Z"
   },
   {
    "duration": 5,
    "start_time": "2022-05-09T21:46:50.711Z"
   },
   {
    "duration": 5,
    "start_time": "2022-05-09T21:46:50.718Z"
   },
   {
    "duration": 5,
    "start_time": "2022-05-09T21:46:50.725Z"
   },
   {
    "duration": 8,
    "start_time": "2022-05-09T21:46:50.732Z"
   },
   {
    "duration": 18,
    "start_time": "2022-05-09T21:46:50.741Z"
   },
   {
    "duration": 7,
    "start_time": "2022-05-09T21:46:50.807Z"
   },
   {
    "duration": 5,
    "start_time": "2022-05-09T21:46:50.818Z"
   },
   {
    "duration": 8,
    "start_time": "2022-05-09T21:46:50.825Z"
   },
   {
    "duration": 6,
    "start_time": "2022-05-09T21:48:13.428Z"
   },
   {
    "duration": 6,
    "start_time": "2022-05-09T21:50:29.266Z"
   },
   {
    "duration": 324,
    "start_time": "2022-05-09T21:50:29.978Z"
   },
   {
    "duration": 8,
    "start_time": "2022-05-09T21:50:31.251Z"
   },
   {
    "duration": 122,
    "start_time": "2022-05-09T21:50:34.890Z"
   },
   {
    "duration": 9,
    "start_time": "2022-05-09T21:50:35.706Z"
   },
   {
    "duration": 7,
    "start_time": "2022-05-09T21:50:45.650Z"
   },
   {
    "duration": 9,
    "start_time": "2022-05-09T21:50:46.658Z"
   },
   {
    "duration": 280,
    "start_time": "2022-05-09T21:50:53.153Z"
   },
   {
    "duration": 201,
    "start_time": "2022-05-09T21:52:56.561Z"
   },
   {
    "duration": 208,
    "start_time": "2022-05-09T21:53:04.225Z"
   },
   {
    "duration": 279,
    "start_time": "2022-05-09T21:53:22.841Z"
   },
   {
    "duration": 206,
    "start_time": "2022-05-09T21:53:41.601Z"
   },
   {
    "duration": 198,
    "start_time": "2022-05-09T21:53:47.738Z"
   },
   {
    "duration": 197,
    "start_time": "2022-05-09T21:54:31.401Z"
   },
   {
    "duration": 198,
    "start_time": "2022-05-09T21:54:38.457Z"
   },
   {
    "duration": 205,
    "start_time": "2022-05-09T21:56:59.239Z"
   },
   {
    "duration": 293,
    "start_time": "2022-05-09T21:57:08.999Z"
   },
   {
    "duration": 268,
    "start_time": "2022-05-09T21:57:16.079Z"
   },
   {
    "duration": 220,
    "start_time": "2022-05-09T21:57:24.702Z"
   },
   {
    "duration": 213,
    "start_time": "2022-05-09T21:57:51.270Z"
   },
   {
    "duration": 220,
    "start_time": "2022-05-09T22:00:17.291Z"
   },
   {
    "duration": 210,
    "start_time": "2022-05-09T22:00:30.636Z"
   },
   {
    "duration": 282,
    "start_time": "2022-05-09T22:00:39.754Z"
   },
   {
    "duration": 300,
    "start_time": "2022-05-09T22:00:47.265Z"
   },
   {
    "duration": 307,
    "start_time": "2022-05-09T22:00:59.332Z"
   },
   {
    "duration": 208,
    "start_time": "2022-05-09T22:01:07.444Z"
   },
   {
    "duration": 217,
    "start_time": "2022-05-09T22:01:13.668Z"
   },
   {
    "duration": 208,
    "start_time": "2022-05-09T22:01:26.083Z"
   },
   {
    "duration": 315,
    "start_time": "2022-05-09T22:01:37.828Z"
   },
   {
    "duration": 367,
    "start_time": "2022-05-09T22:01:52.602Z"
   },
   {
    "duration": 355,
    "start_time": "2022-05-09T22:01:58.204Z"
   },
   {
    "duration": 61,
    "start_time": "2022-05-09T22:02:40.202Z"
   },
   {
    "duration": 379,
    "start_time": "2022-05-09T22:02:48.802Z"
   },
   {
    "duration": 345,
    "start_time": "2022-05-09T22:02:59.475Z"
   },
   {
    "duration": 11,
    "start_time": "2022-05-09T22:03:40.810Z"
   },
   {
    "duration": 153,
    "start_time": "2022-05-09T22:03:43.705Z"
   },
   {
    "duration": 153,
    "start_time": "2022-05-09T22:03:49.089Z"
   },
   {
    "duration": 5,
    "start_time": "2022-05-09T22:04:17.449Z"
   },
   {
    "duration": 5,
    "start_time": "2022-05-09T22:04:28.160Z"
   },
   {
    "duration": 8,
    "start_time": "2022-05-09T22:04:30.000Z"
   },
   {
    "duration": 50,
    "start_time": "2022-05-09T22:04:32.265Z"
   },
   {
    "duration": 7,
    "start_time": "2022-05-09T22:04:32.914Z"
   },
   {
    "duration": 10,
    "start_time": "2022-05-09T22:04:35.856Z"
   },
   {
    "duration": 54,
    "start_time": "2022-05-09T22:04:36.841Z"
   },
   {
    "duration": 21,
    "start_time": "2022-05-09T22:04:40.040Z"
   },
   {
    "duration": 55,
    "start_time": "2022-05-09T22:04:40.961Z"
   },
   {
    "duration": 3,
    "start_time": "2022-05-09T22:04:43.265Z"
   },
   {
    "duration": 18,
    "start_time": "2022-05-09T22:04:44.712Z"
   },
   {
    "duration": 57,
    "start_time": "2022-05-09T22:04:46.840Z"
   },
   {
    "duration": 3,
    "start_time": "2022-05-09T22:04:47.768Z"
   },
   {
    "duration": 30,
    "start_time": "2022-05-09T22:04:51.137Z"
   },
   {
    "duration": 70,
    "start_time": "2022-05-09T22:06:33.903Z"
   },
   {
    "duration": 77,
    "start_time": "2022-05-09T22:06:35.367Z"
   },
   {
    "duration": 5,
    "start_time": "2022-05-09T22:06:37.607Z"
   },
   {
    "duration": 4,
    "start_time": "2022-05-09T22:06:39.983Z"
   },
   {
    "duration": 24,
    "start_time": "2022-05-09T22:06:41.703Z"
   },
   {
    "duration": 5,
    "start_time": "2022-05-09T22:06:44.343Z"
   },
   {
    "duration": 11,
    "start_time": "2022-05-09T22:06:48.717Z"
   },
   {
    "duration": 5,
    "start_time": "2022-05-09T22:07:33.461Z"
   },
   {
    "duration": 4,
    "start_time": "2022-05-09T22:07:56.687Z"
   },
   {
    "duration": 4,
    "start_time": "2022-05-09T22:07:59.572Z"
   },
   {
    "duration": 6,
    "start_time": "2022-05-09T22:10:26.721Z"
   },
   {
    "duration": 6,
    "start_time": "2022-05-09T22:10:30.169Z"
   },
   {
    "duration": 25,
    "start_time": "2022-05-09T22:10:32.697Z"
   },
   {
    "duration": 16,
    "start_time": "2022-05-09T22:22:47.913Z"
   },
   {
    "duration": 1163,
    "start_time": "2022-05-09T22:26:26.703Z"
   },
   {
    "duration": 67,
    "start_time": "2022-05-09T22:26:27.868Z"
   },
   {
    "duration": 14,
    "start_time": "2022-05-09T22:26:27.937Z"
   },
   {
    "duration": 3,
    "start_time": "2022-05-09T22:26:27.953Z"
   },
   {
    "duration": 16,
    "start_time": "2022-05-09T22:26:27.958Z"
   },
   {
    "duration": 9,
    "start_time": "2022-05-09T22:26:27.976Z"
   },
   {
    "duration": 5,
    "start_time": "2022-05-09T22:26:28.007Z"
   },
   {
    "duration": 10,
    "start_time": "2022-05-09T22:26:28.014Z"
   },
   {
    "duration": 9,
    "start_time": "2022-05-09T22:26:28.025Z"
   },
   {
    "duration": 11,
    "start_time": "2022-05-09T22:26:28.038Z"
   },
   {
    "duration": 17,
    "start_time": "2022-05-09T22:26:28.051Z"
   },
   {
    "duration": 7,
    "start_time": "2022-05-09T22:26:28.070Z"
   },
   {
    "duration": 52,
    "start_time": "2022-05-09T22:26:28.079Z"
   },
   {
    "duration": 11,
    "start_time": "2022-05-09T22:26:28.132Z"
   },
   {
    "duration": 14,
    "start_time": "2022-05-09T22:26:28.145Z"
   },
   {
    "duration": 16,
    "start_time": "2022-05-09T22:26:28.160Z"
   },
   {
    "duration": 5,
    "start_time": "2022-05-09T22:26:28.178Z"
   },
   {
    "duration": 36,
    "start_time": "2022-05-09T22:26:28.185Z"
   },
   {
    "duration": 6,
    "start_time": "2022-05-09T22:26:28.224Z"
   },
   {
    "duration": 8,
    "start_time": "2022-05-09T22:26:28.231Z"
   },
   {
    "duration": 5,
    "start_time": "2022-05-09T22:26:28.240Z"
   },
   {
    "duration": 6,
    "start_time": "2022-05-09T22:26:28.246Z"
   },
   {
    "duration": 7,
    "start_time": "2022-05-09T22:26:28.253Z"
   },
   {
    "duration": 6,
    "start_time": "2022-05-09T22:26:28.261Z"
   },
   {
    "duration": 10,
    "start_time": "2022-05-09T22:26:28.307Z"
   },
   {
    "duration": 19,
    "start_time": "2022-05-09T22:26:28.319Z"
   },
   {
    "duration": 5,
    "start_time": "2022-05-09T22:26:28.340Z"
   },
   {
    "duration": 4,
    "start_time": "2022-05-09T22:26:28.349Z"
   },
   {
    "duration": 6,
    "start_time": "2022-05-09T22:26:28.355Z"
   },
   {
    "duration": 6,
    "start_time": "2022-05-09T22:26:28.363Z"
   },
   {
    "duration": 359,
    "start_time": "2022-05-09T22:26:28.370Z"
   },
   {
    "duration": 7,
    "start_time": "2022-05-09T22:26:28.731Z"
   },
   {
    "duration": 134,
    "start_time": "2022-05-09T22:26:28.740Z"
   },
   {
    "duration": 8,
    "start_time": "2022-05-09T22:26:28.876Z"
   },
   {
    "duration": 24,
    "start_time": "2022-05-09T22:26:28.886Z"
   },
   {
    "duration": 9,
    "start_time": "2022-05-09T22:26:28.912Z"
   },
   {
    "duration": 322,
    "start_time": "2022-05-09T22:26:28.922Z"
   },
   {
    "duration": 221,
    "start_time": "2022-05-09T22:26:29.246Z"
   },
   {
    "duration": 348,
    "start_time": "2022-05-09T22:26:29.469Z"
   },
   {
    "duration": 237,
    "start_time": "2022-05-09T22:26:29.819Z"
   },
   {
    "duration": 325,
    "start_time": "2022-05-09T22:26:30.058Z"
   },
   {
    "duration": 12,
    "start_time": "2022-05-09T22:26:30.384Z"
   },
   {
    "duration": 158,
    "start_time": "2022-05-09T22:26:30.407Z"
   },
   {
    "duration": 6,
    "start_time": "2022-05-09T22:26:30.567Z"
   },
   {
    "duration": 174,
    "start_time": "2022-05-09T22:26:30.574Z"
   },
   {
    "duration": 6,
    "start_time": "2022-05-09T22:26:30.750Z"
   },
   {
    "duration": 16,
    "start_time": "2022-05-09T22:26:30.757Z"
   },
   {
    "duration": 19,
    "start_time": "2022-05-09T22:26:30.775Z"
   },
   {
    "duration": 50,
    "start_time": "2022-05-09T22:26:30.796Z"
   },
   {
    "duration": 26,
    "start_time": "2022-05-09T22:26:30.848Z"
   },
   {
    "duration": 14,
    "start_time": "2022-05-09T22:26:30.875Z"
   },
   {
    "duration": 61,
    "start_time": "2022-05-09T22:26:30.890Z"
   },
   {
    "duration": 22,
    "start_time": "2022-05-09T22:26:30.953Z"
   },
   {
    "duration": 71,
    "start_time": "2022-05-09T22:26:30.977Z"
   },
   {
    "duration": 3,
    "start_time": "2022-05-09T22:26:31.049Z"
   },
   {
    "duration": 31,
    "start_time": "2022-05-09T22:26:31.054Z"
   },
   {
    "duration": 65,
    "start_time": "2022-05-09T22:26:31.087Z"
   },
   {
    "duration": 3,
    "start_time": "2022-05-09T22:26:31.154Z"
   },
   {
    "duration": 37,
    "start_time": "2022-05-09T22:26:31.158Z"
   },
   {
    "duration": 112,
    "start_time": "2022-05-09T22:26:31.196Z"
   },
   {
    "duration": 101,
    "start_time": "2022-05-09T22:26:31.310Z"
   },
   {
    "duration": 5,
    "start_time": "2022-05-09T22:26:31.412Z"
   },
   {
    "duration": 7,
    "start_time": "2022-05-09T22:26:31.419Z"
   },
   {
    "duration": 28,
    "start_time": "2022-05-09T22:26:31.427Z"
   },
   {
    "duration": 5,
    "start_time": "2022-05-09T22:26:31.456Z"
   },
   {
    "duration": 15,
    "start_time": "2022-05-09T22:26:31.463Z"
   },
   {
    "duration": 30,
    "start_time": "2022-05-09T22:26:31.479Z"
   },
   {
    "duration": 5,
    "start_time": "2022-05-09T22:26:31.511Z"
   },
   {
    "duration": 5,
    "start_time": "2022-05-09T22:26:31.518Z"
   },
   {
    "duration": 7,
    "start_time": "2022-05-09T22:26:31.525Z"
   },
   {
    "duration": 6,
    "start_time": "2022-05-09T22:26:31.533Z"
   },
   {
    "duration": 8,
    "start_time": "2022-05-09T22:26:31.541Z"
   },
   {
    "duration": 25,
    "start_time": "2022-05-09T22:26:31.551Z"
   },
   {
    "duration": 29,
    "start_time": "2022-05-09T22:26:31.578Z"
   },
   {
    "duration": 21,
    "start_time": "2022-05-09T22:26:31.610Z"
   },
   {
    "duration": 3,
    "start_time": "2022-05-09T22:26:31.633Z"
   },
   {
    "duration": 1101,
    "start_time": "2022-05-09T22:37:47.646Z"
   },
   {
    "duration": 64,
    "start_time": "2022-05-09T22:37:48.749Z"
   },
   {
    "duration": 12,
    "start_time": "2022-05-09T22:37:48.815Z"
   },
   {
    "duration": 5,
    "start_time": "2022-05-09T22:37:48.830Z"
   },
   {
    "duration": 13,
    "start_time": "2022-05-09T22:37:48.836Z"
   },
   {
    "duration": 9,
    "start_time": "2022-05-09T22:37:48.851Z"
   },
   {
    "duration": 6,
    "start_time": "2022-05-09T22:37:48.862Z"
   },
   {
    "duration": 43,
    "start_time": "2022-05-09T22:37:48.870Z"
   },
   {
    "duration": 5,
    "start_time": "2022-05-09T22:37:48.916Z"
   },
   {
    "duration": 10,
    "start_time": "2022-05-09T22:37:48.925Z"
   },
   {
    "duration": 11,
    "start_time": "2022-05-09T22:37:48.937Z"
   },
   {
    "duration": 5,
    "start_time": "2022-05-09T22:37:48.950Z"
   },
   {
    "duration": 51,
    "start_time": "2022-05-09T22:37:48.957Z"
   },
   {
    "duration": 10,
    "start_time": "2022-05-09T22:37:49.010Z"
   },
   {
    "duration": 14,
    "start_time": "2022-05-09T22:37:49.022Z"
   },
   {
    "duration": 17,
    "start_time": "2022-05-09T22:37:49.038Z"
   },
   {
    "duration": 5,
    "start_time": "2022-05-09T22:37:49.056Z"
   },
   {
    "duration": 12,
    "start_time": "2022-05-09T22:37:49.062Z"
   },
   {
    "duration": 6,
    "start_time": "2022-05-09T22:37:49.075Z"
   },
   {
    "duration": 7,
    "start_time": "2022-05-09T22:37:49.108Z"
   },
   {
    "duration": 5,
    "start_time": "2022-05-09T22:37:49.116Z"
   },
   {
    "duration": 7,
    "start_time": "2022-05-09T22:37:49.122Z"
   },
   {
    "duration": 5,
    "start_time": "2022-05-09T22:37:49.130Z"
   },
   {
    "duration": 5,
    "start_time": "2022-05-09T22:37:49.136Z"
   },
   {
    "duration": 6,
    "start_time": "2022-05-09T22:37:49.143Z"
   },
   {
    "duration": 62,
    "start_time": "2022-05-09T22:37:49.151Z"
   },
   {
    "duration": 6,
    "start_time": "2022-05-09T22:37:49.215Z"
   },
   {
    "duration": 5,
    "start_time": "2022-05-09T22:37:49.225Z"
   },
   {
    "duration": 6,
    "start_time": "2022-05-09T22:37:49.231Z"
   },
   {
    "duration": 5,
    "start_time": "2022-05-09T22:37:49.239Z"
   },
   {
    "duration": 347,
    "start_time": "2022-05-09T22:37:49.246Z"
   },
   {
    "duration": 13,
    "start_time": "2022-05-09T22:37:49.595Z"
   },
   {
    "duration": 137,
    "start_time": "2022-05-09T22:37:49.609Z"
   },
   {
    "duration": 9,
    "start_time": "2022-05-09T22:37:49.747Z"
   },
   {
    "duration": 8,
    "start_time": "2022-05-09T22:37:49.758Z"
   },
   {
    "duration": 14,
    "start_time": "2022-05-09T22:37:49.767Z"
   },
   {
    "duration": 315,
    "start_time": "2022-05-09T22:37:49.783Z"
   },
   {
    "duration": 210,
    "start_time": "2022-05-09T22:37:50.099Z"
   },
   {
    "duration": 343,
    "start_time": "2022-05-09T22:37:50.311Z"
   },
   {
    "duration": 231,
    "start_time": "2022-05-09T22:37:50.655Z"
   },
   {
    "duration": 376,
    "start_time": "2022-05-09T22:37:50.889Z"
   },
   {
    "duration": 11,
    "start_time": "2022-05-09T22:37:51.267Z"
   },
   {
    "duration": 158,
    "start_time": "2022-05-09T22:37:51.280Z"
   },
   {
    "duration": 5,
    "start_time": "2022-05-09T22:37:51.439Z"
   },
   {
    "duration": 179,
    "start_time": "2022-05-09T22:37:51.446Z"
   },
   {
    "duration": 5,
    "start_time": "2022-05-09T22:37:51.627Z"
   },
   {
    "duration": 6,
    "start_time": "2022-05-09T22:37:51.634Z"
   },
   {
    "duration": 9,
    "start_time": "2022-05-09T22:37:51.641Z"
   },
   {
    "duration": 66,
    "start_time": "2022-05-09T22:37:51.651Z"
   },
   {
    "duration": 8,
    "start_time": "2022-05-09T22:37:51.719Z"
   },
   {
    "duration": 9,
    "start_time": "2022-05-09T22:37:51.729Z"
   },
   {
    "duration": 73,
    "start_time": "2022-05-09T22:37:51.740Z"
   },
   {
    "duration": 20,
    "start_time": "2022-05-09T22:37:51.815Z"
   },
   {
    "duration": 82,
    "start_time": "2022-05-09T22:37:51.836Z"
   },
   {
    "duration": 3,
    "start_time": "2022-05-09T22:37:51.920Z"
   },
   {
    "duration": 21,
    "start_time": "2022-05-09T22:37:51.925Z"
   },
   {
    "duration": 82,
    "start_time": "2022-05-09T22:37:51.948Z"
   },
   {
    "duration": 6,
    "start_time": "2022-05-09T22:37:52.031Z"
   },
   {
    "duration": 30,
    "start_time": "2022-05-09T22:37:52.039Z"
   },
   {
    "duration": 108,
    "start_time": "2022-05-09T22:37:52.071Z"
   },
   {
    "duration": 95,
    "start_time": "2022-05-09T22:37:52.181Z"
   },
   {
    "duration": 4,
    "start_time": "2022-05-09T22:37:52.277Z"
   },
   {
    "duration": 24,
    "start_time": "2022-05-09T22:37:52.283Z"
   },
   {
    "duration": 26,
    "start_time": "2022-05-09T22:37:52.309Z"
   },
   {
    "duration": 4,
    "start_time": "2022-05-09T22:37:52.337Z"
   },
   {
    "duration": 12,
    "start_time": "2022-05-09T22:37:52.343Z"
   },
   {
    "duration": 5,
    "start_time": "2022-05-09T22:37:52.357Z"
   },
   {
    "duration": 5,
    "start_time": "2022-05-09T22:37:52.363Z"
   },
   {
    "duration": 39,
    "start_time": "2022-05-09T22:37:52.369Z"
   },
   {
    "duration": 6,
    "start_time": "2022-05-09T22:37:52.410Z"
   },
   {
    "duration": 6,
    "start_time": "2022-05-09T22:37:52.417Z"
   },
   {
    "duration": 7,
    "start_time": "2022-05-09T22:37:52.425Z"
   },
   {
    "duration": 25,
    "start_time": "2022-05-09T22:37:52.434Z"
   },
   {
    "duration": 3,
    "start_time": "2022-05-09T22:37:52.460Z"
   },
   {
    "duration": 49,
    "start_time": "2022-05-09T22:37:52.465Z"
   },
   {
    "duration": 3,
    "start_time": "2022-05-09T22:37:52.516Z"
   },
   {
    "duration": 1677,
    "start_time": "2022-05-10T20:31:42.758Z"
   },
   {
    "duration": 115,
    "start_time": "2022-05-10T20:31:44.438Z"
   },
   {
    "duration": 15,
    "start_time": "2022-05-10T20:31:44.555Z"
   },
   {
    "duration": 11,
    "start_time": "2022-05-10T20:31:44.573Z"
   },
   {
    "duration": 13,
    "start_time": "2022-05-10T20:31:44.586Z"
   },
   {
    "duration": 16,
    "start_time": "2022-05-10T20:31:44.629Z"
   },
   {
    "duration": 7,
    "start_time": "2022-05-10T20:31:44.647Z"
   },
   {
    "duration": 11,
    "start_time": "2022-05-10T20:31:44.656Z"
   },
   {
    "duration": 6,
    "start_time": "2022-05-10T20:31:44.670Z"
   },
   {
    "duration": 53,
    "start_time": "2022-05-10T20:31:44.680Z"
   },
   {
    "duration": 16,
    "start_time": "2022-05-10T20:31:44.735Z"
   },
   {
    "duration": 6,
    "start_time": "2022-05-10T20:31:44.753Z"
   },
   {
    "duration": 47,
    "start_time": "2022-05-10T20:31:44.761Z"
   },
   {
    "duration": 26,
    "start_time": "2022-05-10T20:31:44.811Z"
   },
   {
    "duration": 17,
    "start_time": "2022-05-10T20:31:44.840Z"
   },
   {
    "duration": 27,
    "start_time": "2022-05-10T20:31:44.859Z"
   },
   {
    "duration": 4,
    "start_time": "2022-05-10T20:31:44.888Z"
   },
   {
    "duration": 15,
    "start_time": "2022-05-10T20:31:44.894Z"
   },
   {
    "duration": 17,
    "start_time": "2022-05-10T20:31:44.912Z"
   },
   {
    "duration": 11,
    "start_time": "2022-05-10T20:31:44.932Z"
   },
   {
    "duration": 8,
    "start_time": "2022-05-10T20:31:44.945Z"
   },
   {
    "duration": 8,
    "start_time": "2022-05-10T20:31:44.955Z"
   },
   {
    "duration": 9,
    "start_time": "2022-05-10T20:31:44.966Z"
   },
   {
    "duration": 13,
    "start_time": "2022-05-10T20:31:44.978Z"
   },
   {
    "duration": 15,
    "start_time": "2022-05-10T20:31:45.022Z"
   },
   {
    "duration": 23,
    "start_time": "2022-05-10T20:31:45.039Z"
   },
   {
    "duration": 13,
    "start_time": "2022-05-10T20:31:45.065Z"
   },
   {
    "duration": 7,
    "start_time": "2022-05-10T20:31:45.084Z"
   },
   {
    "duration": 42,
    "start_time": "2022-05-10T20:31:45.093Z"
   },
   {
    "duration": 16,
    "start_time": "2022-05-10T20:31:45.138Z"
   },
   {
    "duration": 6,
    "start_time": "2022-05-10T20:31:45.157Z"
   },
   {
    "duration": 8,
    "start_time": "2022-05-10T20:31:45.166Z"
   },
   {
    "duration": 20,
    "start_time": "2022-05-10T20:31:45.176Z"
   },
   {
    "duration": 406,
    "start_time": "2022-05-10T20:31:45.199Z"
   },
   {
    "duration": 11,
    "start_time": "2022-05-10T20:31:45.607Z"
   },
   {
    "duration": 149,
    "start_time": "2022-05-10T20:31:45.623Z"
   },
   {
    "duration": 9,
    "start_time": "2022-05-10T20:31:45.774Z"
   },
   {
    "duration": 7,
    "start_time": "2022-05-10T20:31:45.785Z"
   },
   {
    "duration": 33,
    "start_time": "2022-05-10T20:31:45.794Z"
   },
   {
    "duration": 456,
    "start_time": "2022-05-10T20:31:45.829Z"
   },
   {
    "duration": 250,
    "start_time": "2022-05-10T20:31:46.288Z"
   },
   {
    "duration": 603,
    "start_time": "2022-05-10T20:31:46.541Z"
   },
   {
    "duration": 697,
    "start_time": "2022-05-10T20:31:47.152Z"
   },
   {
    "duration": 720,
    "start_time": "2022-05-10T20:31:47.851Z"
   },
   {
    "duration": 18,
    "start_time": "2022-05-10T20:31:48.623Z"
   },
   {
    "duration": 488,
    "start_time": "2022-05-10T20:31:48.643Z"
   },
   {
    "duration": 7,
    "start_time": "2022-05-10T20:31:49.134Z"
   },
   {
    "duration": 523,
    "start_time": "2022-05-10T20:31:49.143Z"
   },
   {
    "duration": 53,
    "start_time": "2022-05-10T20:31:49.669Z"
   },
   {
    "duration": 8,
    "start_time": "2022-05-10T20:31:49.725Z"
   },
   {
    "duration": 20,
    "start_time": "2022-05-10T20:31:49.735Z"
   },
   {
    "duration": 173,
    "start_time": "2022-05-10T20:31:49.757Z"
   },
   {
    "duration": 11,
    "start_time": "2022-05-10T20:31:49.933Z"
   },
   {
    "duration": 18,
    "start_time": "2022-05-10T20:31:49.946Z"
   },
   {
    "duration": 188,
    "start_time": "2022-05-10T20:31:49.966Z"
   },
   {
    "duration": 180,
    "start_time": "2022-05-10T20:31:50.157Z"
   },
   {
    "duration": 217,
    "start_time": "2022-05-10T20:31:50.340Z"
   },
   {
    "duration": 4,
    "start_time": "2022-05-10T20:31:50.560Z"
   },
   {
    "duration": 91,
    "start_time": "2022-05-10T20:31:50.567Z"
   },
   {
    "duration": 178,
    "start_time": "2022-05-10T20:31:50.661Z"
   },
   {
    "duration": 4,
    "start_time": "2022-05-10T20:31:50.842Z"
   },
   {
    "duration": 97,
    "start_time": "2022-05-10T20:31:50.848Z"
   },
   {
    "duration": 177,
    "start_time": "2022-05-10T20:31:50.948Z"
   },
   {
    "duration": 205,
    "start_time": "2022-05-10T20:31:51.127Z"
   },
   {
    "duration": 6,
    "start_time": "2022-05-10T20:31:51.335Z"
   },
   {
    "duration": 7,
    "start_time": "2022-05-10T20:31:51.344Z"
   },
   {
    "duration": 73,
    "start_time": "2022-05-10T20:31:51.354Z"
   },
   {
    "duration": 7,
    "start_time": "2022-05-10T20:31:51.429Z"
   },
   {
    "duration": 18,
    "start_time": "2022-05-10T20:31:51.438Z"
   },
   {
    "duration": 7,
    "start_time": "2022-05-10T20:31:51.458Z"
   },
   {
    "duration": 7,
    "start_time": "2022-05-10T20:31:51.467Z"
   },
   {
    "duration": 48,
    "start_time": "2022-05-10T20:31:51.476Z"
   },
   {
    "duration": 7,
    "start_time": "2022-05-10T20:31:51.526Z"
   },
   {
    "duration": 8,
    "start_time": "2022-05-10T20:31:51.535Z"
   },
   {
    "duration": 8,
    "start_time": "2022-05-10T20:31:51.545Z"
   },
   {
    "duration": 87,
    "start_time": "2022-05-10T20:31:51.555Z"
   },
   {
    "duration": 3,
    "start_time": "2022-05-10T20:31:51.644Z"
   },
   {
    "duration": 18,
    "start_time": "2022-05-10T20:31:51.649Z"
   },
   {
    "duration": 2,
    "start_time": "2022-05-10T20:31:51.670Z"
   },
   {
    "duration": 11,
    "start_time": "2022-05-10T20:32:10.438Z"
   },
   {
    "duration": 7,
    "start_time": "2022-05-10T20:32:19.994Z"
   },
   {
    "duration": 5,
    "start_time": "2022-05-10T20:32:42.752Z"
   },
   {
    "duration": 7,
    "start_time": "2022-05-10T20:32:51.643Z"
   },
   {
    "duration": 18,
    "start_time": "2022-05-10T20:33:09.725Z"
   },
   {
    "duration": 12,
    "start_time": "2022-05-10T20:33:57.786Z"
   },
   {
    "duration": 10,
    "start_time": "2022-05-10T20:34:10.911Z"
   },
   {
    "duration": 9,
    "start_time": "2022-05-10T20:35:46.303Z"
   },
   {
    "duration": 6,
    "start_time": "2022-05-10T20:35:49.039Z"
   },
   {
    "duration": 258,
    "start_time": "2022-05-10T20:38:05.163Z"
   },
   {
    "duration": 413,
    "start_time": "2022-05-10T20:39:22.778Z"
   },
   {
    "duration": 399,
    "start_time": "2022-05-10T20:40:14.752Z"
   }
  ],
  "kernelspec": {
   "display_name": "Python 3 (ipykernel)",
   "language": "python",
   "name": "python3"
  },
  "language_info": {
   "codemirror_mode": {
    "name": "ipython",
    "version": 3
   },
   "file_extension": ".py",
   "mimetype": "text/x-python",
   "name": "python",
   "nbconvert_exporter": "python",
   "pygments_lexer": "ipython3",
   "version": "3.9.7"
  },
  "toc": {
   "base_numbering": 1,
   "nav_menu": {},
   "number_sections": false,
   "sideBar": true,
   "skip_h1_title": false,
   "title_cell": "Table of Contents",
   "title_sidebar": "Contents",
   "toc_cell": false,
   "toc_position": {},
   "toc_section_display": true,
   "toc_window_display": true
  }
 },
 "nbformat": 4,
 "nbformat_minor": 2
}
